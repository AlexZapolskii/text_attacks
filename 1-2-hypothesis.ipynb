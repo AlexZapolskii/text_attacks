{
 "cells": [
  {
   "cell_type": "code",
   "execution_count": null,
   "id": "ecedb715",
   "metadata": {},
   "outputs": [],
   "source": [
    "Что мы сделали: \n",
    "    взяли русскоязычный датасет\n",
    "    провели базовый препроцессинг\n",
    "    построили модель на основе лог-рег - tf-idf\n",
    "    Замерили качество классификации на валидации и на private/public данных"
   ]
  },
  {
   "cell_type": "code",
   "execution_count": null,
   "id": "b1dfa4ab",
   "metadata": {},
   "outputs": [],
   "source": [
    "Для BAE на вход нужны:\n",
    "    - исходные тексты\n",
    "    - метки классов\n",
    "    - Обученный классификатор\n",
    "    \n",
    "Для каждого примера BAE производит замены/инпуты токенов с целью заставить модель ошибиться,\n",
    "если модель не ошибается - то хотя бы максимально снизить уверенность модели в предсказанном результате"
   ]
  },
  {
   "cell_type": "code",
   "execution_count": null,
   "id": "13cfd0e5",
   "metadata": {},
   "outputs": [],
   "source": [
    "можем ли мы проверить нашу модель на public-leaderborde - \n",
    "\n",
    "скорее всего нет, так как мы не знаем метки классов => у нас доступ только к обучающей выборке"
   ]
  },
  {
   "cell_type": "code",
   "execution_count": null,
   "id": "f9e3593a",
   "metadata": {},
   "outputs": [],
   "source": [
    "Мы можем сформулировать такие гипотезы\n",
    "    - Для данного датасета \n",
    "    - Как меняется качество классификации\n",
    "        - Бейзлайн модель логрега\n",
    "        - Fine-tuned ruBert\n",
    "    - Применим атаки:\n",
    "        - Bae \n",
    "        - TextFoller\n",
    "    - Оценим качество классификации на адверсариальнои датасете\n",
    "    \n",
    "Доп гипотезы:\n",
    "    - Есть ли разница в чувствительности к атакам между:\n",
    "        - Русским Бертом (DeepPavlov и аналогичные)\n",
    "        - Стандартной - мультиязычной моделью?\n",
    "        - А как меняется качество лог-рега"
   ]
  }
 ],
 "metadata": {
  "kernelspec": {
   "display_name": "Python 3 (ipykernel)",
   "language": "python",
   "name": "python3"
  },
  "language_info": {
   "codemirror_mode": {
    "name": "ipython",
    "version": 3
   },
   "file_extension": ".py",
   "mimetype": "text/x-python",
   "name": "python",
   "nbconvert_exporter": "python",
   "pygments_lexer": "ipython3",
   "version": "3.9.7"
  }
 },
 "nbformat": 4,
 "nbformat_minor": 5
}
