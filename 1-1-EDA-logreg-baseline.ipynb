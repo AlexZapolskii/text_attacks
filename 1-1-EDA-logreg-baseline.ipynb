{
 "cells": [
  {
   "cell_type": "code",
   "execution_count": 3,
   "id": "5671092d",
   "metadata": {},
   "outputs": [],
   "source": [
    "import pandas as pd"
   ]
  },
  {
   "cell_type": "markdown",
   "id": "6ab8d8f2",
   "metadata": {},
   "source": [
    "Скачали датасет - sentiment analysis in Russian\n",
    "\n",
    "Ссылка на датасет: https://www.kaggle.com/c/sentiment-analysis-in-russian/data"
   ]
  },
  {
   "cell_type": "markdown",
   "id": "4dbd3684",
   "metadata": {},
   "source": [
    "Описание:\n",
    "    Determine sentiments (positive, negative or neutral) of news in russian language.\n",
    "    состоит из train/test/sample.csv\n",
    "    \n",
    "    The main goal of this inclass competition is to identify sentiments of ~2000 news based on \n",
    "    predefined training set of ~8000 news by implementing model using Machine Learning algorithms and techniques.\n",
    "\n",
    "    The main language of news is Russian. However, some English and Kazakh names and titles can also be found."
   ]
  },
  {
   "cell_type": "markdown",
   "id": "9a7d19d5",
   "metadata": {},
   "source": [
    "# Загрузим данные и проведем EDA"
   ]
  },
  {
   "cell_type": "code",
   "execution_count": null,
   "id": "90325078",
   "metadata": {},
   "outputs": [],
   "source": [
    "Датасет русских новостей"
   ]
  },
  {
   "cell_type": "code",
   "execution_count": 4,
   "id": "2b00154d",
   "metadata": {},
   "outputs": [],
   "source": [
    "train_df = pd.read_json('data/train.json')\n",
    "test_df = pd.read_json('data/test.json')"
   ]
  },
  {
   "cell_type": "code",
   "execution_count": 5,
   "id": "e9223def",
   "metadata": {},
   "outputs": [
    {
     "data": {
      "text/plain": [
       "((8263, 3), (2056, 2))"
      ]
     },
     "execution_count": 5,
     "metadata": {},
     "output_type": "execute_result"
    }
   ],
   "source": [
    "train_df.shape, test_df.shape"
   ]
  },
  {
   "cell_type": "markdown",
   "id": "7da0b5dc",
   "metadata": {},
   "source": [
    "Мы наблюдаем 8263 наблюдения в трейне и 2056 в тесте"
   ]
  },
  {
   "cell_type": "code",
   "execution_count": 6,
   "id": "c74bfb30",
   "metadata": {},
   "outputs": [
    {
     "data": {
      "text/html": [
       "<div>\n",
       "<style scoped>\n",
       "    .dataframe tbody tr th:only-of-type {\n",
       "        vertical-align: middle;\n",
       "    }\n",
       "\n",
       "    .dataframe tbody tr th {\n",
       "        vertical-align: top;\n",
       "    }\n",
       "\n",
       "    .dataframe thead th {\n",
       "        text-align: right;\n",
       "    }\n",
       "</style>\n",
       "<table border=\"1\" class=\"dataframe\">\n",
       "  <thead>\n",
       "    <tr style=\"text-align: right;\">\n",
       "      <th></th>\n",
       "      <th>text</th>\n",
       "      <th>id</th>\n",
       "      <th>sentiment</th>\n",
       "    </tr>\n",
       "  </thead>\n",
       "  <tbody>\n",
       "    <tr>\n",
       "      <th>0</th>\n",
       "      <td>Досудебное расследование по факту покупки ЕНПФ...</td>\n",
       "      <td>1945</td>\n",
       "      <td>negative</td>\n",
       "    </tr>\n",
       "    <tr>\n",
       "      <th>1</th>\n",
       "      <td>Медики рассказали о состоянии пострадавшего му...</td>\n",
       "      <td>1957</td>\n",
       "      <td>negative</td>\n",
       "    </tr>\n",
       "    <tr>\n",
       "      <th>2</th>\n",
       "      <td>Прошел почти год, как железнодорожным оператор...</td>\n",
       "      <td>1969</td>\n",
       "      <td>negative</td>\n",
       "    </tr>\n",
       "    <tr>\n",
       "      <th>3</th>\n",
       "      <td>По итогам 12 месяцев 2016 года на территории р...</td>\n",
       "      <td>1973</td>\n",
       "      <td>negative</td>\n",
       "    </tr>\n",
       "    <tr>\n",
       "      <th>4</th>\n",
       "      <td>Астана. 21 ноября. Kazakhstan Today - Агентств...</td>\n",
       "      <td>1975</td>\n",
       "      <td>negative</td>\n",
       "    </tr>\n",
       "  </tbody>\n",
       "</table>\n",
       "</div>"
      ],
      "text/plain": [
       "                                                text    id sentiment\n",
       "0  Досудебное расследование по факту покупки ЕНПФ...  1945  negative\n",
       "1  Медики рассказали о состоянии пострадавшего му...  1957  negative\n",
       "2  Прошел почти год, как железнодорожным оператор...  1969  negative\n",
       "3  По итогам 12 месяцев 2016 года на территории р...  1973  negative\n",
       "4  Астана. 21 ноября. Kazakhstan Today - Агентств...  1975  negative"
      ]
     },
     "execution_count": 6,
     "metadata": {},
     "output_type": "execute_result"
    }
   ],
   "source": [
    "train_df.head()"
   ]
  },
  {
   "cell_type": "markdown",
   "id": "bcabb630",
   "metadata": {},
   "source": [
    "Мы видим следующие поля text, id и sentiment (метка класса) <br>\n",
    "при этом, для теста нет метки класса - это сделано для того, чтобы узнавать оценку на кэгл - лидерборде"
   ]
  },
  {
   "cell_type": "markdown",
   "id": "42bbe66e",
   "metadata": {},
   "source": [
    "### Посмотрим на распределение таргета"
   ]
  },
  {
   "cell_type": "code",
   "execution_count": 7,
   "id": "bae2ab64",
   "metadata": {},
   "outputs": [
    {
     "data": {
      "text/plain": [
       "neutral     0.488200\n",
       "positive    0.338255\n",
       "negative    0.173545\n",
       "Name: sentiment, dtype: float64"
      ]
     },
     "execution_count": 7,
     "metadata": {},
     "output_type": "execute_result"
    }
   ],
   "source": [
    "train_df.sentiment.value_counts(1)"
   ]
  },
  {
   "cell_type": "code",
   "execution_count": 8,
   "id": "24d9c211",
   "metadata": {},
   "outputs": [
    {
     "data": {
      "text/plain": [
       "<seaborn.axisgrid.FacetGrid at 0x7fa11f5d2610>"
      ]
     },
     "execution_count": 8,
     "metadata": {},
     "output_type": "execute_result"
    },
    {
     "data": {
      "image/png": "[encoded data removed]",
      "text/plain": [
       "<Figure size 360x360 with 1 Axes>"
      ]
     },
     "metadata": {
      "needs_background": "light"
     },
     "output_type": "display_data"
    }
   ],
   "source": [
    "import seaborn as sns\n",
    "\n",
    "sns.displot(train_df.sentiment)"
   ]
  },
  {
   "cell_type": "code",
   "execution_count": null,
   "id": "bf7f1cf5",
   "metadata": {},
   "outputs": [],
   "source": [
    "Мы видим, что почти половина новостей - нейтральные, на позитивные приходится треть и оставшиеся 17% на негативные"
   ]
  },
  {
   "cell_type": "markdown",
   "id": "c8275221",
   "metadata": {},
   "source": [
    "## Оценим распределение длительности предложений (текстов)"
   ]
  },
  {
   "cell_type": "code",
   "execution_count": 32,
   "id": "2e66a0ca",
   "metadata": {
    "scrolled": false
   },
   "outputs": [
    {
     "data": {
      "text/plain": [
       "<seaborn.axisgrid.FacetGrid at 0x7fb0548e2520>"
      ]
     },
     "execution_count": 32,
     "metadata": {},
     "output_type": "execute_result"
    },
    {
     "data": {
      "image/png": "[encoded data removed]",
      "text/plain": [
       "<Figure size 360x360 with 1 Axes>"
      ]
     },
     "metadata": {
      "needs_background": "light"
     },
     "output_type": "display_data"
    }
   ],
   "source": [
    "# токенизируем по пробелам\n",
    "\n",
    "sns.displot(train_df.text.apply(lambda x: len(x.split())), log_scale=True)"
   ]
  },
  {
   "cell_type": "code",
   "execution_count": null,
   "id": "f3c2422a",
   "metadata": {},
   "outputs": [],
   "source": [
    "Распределение похоже на лог-нормальное"
   ]
  },
  {
   "cell_type": "code",
   "execution_count": 33,
   "id": "5540159f",
   "metadata": {
    "scrolled": true
   },
   "outputs": [
    {
     "data": {
      "text/plain": [
       "count     8263.000000\n",
       "mean       511.680867\n",
       "std       1168.090775\n",
       "min          4.000000\n",
       "25%        164.000000\n",
       "50%        271.000000\n",
       "75%        481.000000\n",
       "max      48146.000000\n",
       "Name: text, dtype: float64"
      ]
     },
     "execution_count": 33,
     "metadata": {},
     "output_type": "execute_result"
    }
   ],
   "source": [
    "# токенизируем по пробелам\n",
    "\n",
    "train_df.text.apply(lambda x: len(x.split())).describe()"
   ]
  },
  {
   "cell_type": "code",
   "execution_count": null,
   "id": "94e51882",
   "metadata": {},
   "outputs": [],
   "source": [
    "Мы видим, что для без дополнительной обработки - для тяжелых моделей мы сможем взять только 77% обучающей выборки<br>\n",
    "Посмотрим, поможет ли удаление пунктуации и стоп -слов"
   ]
  },
  {
   "cell_type": "code",
   "execution_count": 9,
   "id": "95601477",
   "metadata": {},
   "outputs": [
    {
     "name": "stderr",
     "output_type": "stream",
     "text": [
      "[nltk_data] Downloading package punkt to\n",
      "[nltk_data]     /Users/alexeyzapolskii/nltk_data...\n",
      "[nltk_data]   Package punkt is already up-to-date!\n"
     ]
    },
    {
     "data": {
      "text/plain": [
       "True"
      ]
     },
     "execution_count": 9,
     "metadata": {},
     "output_type": "execute_result"
    }
   ],
   "source": [
    "import nltk\n",
    "nltk.download('punkt')"
   ]
  },
  {
   "cell_type": "code",
   "execution_count": 42,
   "id": "bdc3d770",
   "metadata": {
    "scrolled": true
   },
   "outputs": [
    {
     "data": {
      "text/plain": [
       "0       Досудебное расследование по факту покупки ЕНПФ...\n",
       "1       Медики рассказали о состоянии пострадавшего му...\n",
       "2       Прошел почти год, как железнодорожным оператор...\n",
       "3       По итогам 12 месяцев 2016 года на территории р...\n",
       "4       Астана. 21 ноября. Kazakhstan Today - Агентств...\n",
       "                              ...                        \n",
       "8258    Как мы писали еще весной, для увеличения сбыта...\n",
       "8259    Но молодой министр национальной экономики Биши...\n",
       "8260    \\n \\nВ ЕНПФ назначен новый председатель правле...\n",
       "8261    В Алматы у отделения банка произошло нападение...\n",
       "8262    НПП РК «Атамекен» предлагает создать Националь...\n",
       "Name: text, Length: 8263, dtype: object"
      ]
     },
     "execution_count": 42,
     "metadata": {},
     "output_type": "execute_result"
    }
   ],
   "source": [
    "train_df.text"
   ]
  },
  {
   "cell_type": "code",
   "execution_count": null,
   "id": "73729a9e",
   "metadata": {},
   "outputs": [],
   "source": [
    "1) Привести в lower-case\n",
    "2) Убрать знаки пунктуации\n",
    "3) Токенизация по словам\n",
    "4) Стемминг/леммитизация\n",
    "5) .."
   ]
  },
  {
   "cell_type": "markdown",
   "id": "fac5ee79",
   "metadata": {},
   "source": [
    "## Punctuation Removal: \n"
   ]
  },
  {
   "cell_type": "code",
   "execution_count": 23,
   "id": "8892884c",
   "metadata": {},
   "outputs": [
    {
     "data": {
      "text/plain": [
       "'!\"#$%&\\'()*+,-./:;<=>?@[\\\\]^_`{|}~'"
      ]
     },
     "execution_count": 23,
     "metadata": {},
     "output_type": "execute_result"
    }
   ],
   "source": [
    "#library that contains punctuation\n",
    "import string\n",
    "string.punctuation"
   ]
  },
  {
   "cell_type": "code",
   "execution_count": 45,
   "id": "e9d4a700",
   "metadata": {
    "scrolled": true
   },
   "outputs": [
    {
     "data": {
      "text/html": [
       "<div>\n",
       "<style scoped>\n",
       "    .dataframe tbody tr th:only-of-type {\n",
       "        vertical-align: middle;\n",
       "    }\n",
       "\n",
       "    .dataframe tbody tr th {\n",
       "        vertical-align: top;\n",
       "    }\n",
       "\n",
       "    .dataframe thead th {\n",
       "        text-align: right;\n",
       "    }\n",
       "</style>\n",
       "<table border=\"1\" class=\"dataframe\">\n",
       "  <thead>\n",
       "    <tr style=\"text-align: right;\">\n",
       "      <th></th>\n",
       "      <th>text</th>\n",
       "      <th>id</th>\n",
       "      <th>sentiment</th>\n",
       "    </tr>\n",
       "  </thead>\n",
       "  <tbody>\n",
       "    <tr>\n",
       "      <th>0</th>\n",
       "      <td>Досудебное расследование по факту покупки ЕНПФ...</td>\n",
       "      <td>1945</td>\n",
       "      <td>negative</td>\n",
       "    </tr>\n",
       "    <tr>\n",
       "      <th>1</th>\n",
       "      <td>Медики рассказали о состоянии пострадавшего му...</td>\n",
       "      <td>1957</td>\n",
       "      <td>negative</td>\n",
       "    </tr>\n",
       "  </tbody>\n",
       "</table>\n",
       "</div>"
      ],
      "text/plain": [
       "                                                text    id sentiment\n",
       "0  Досудебное расследование по факту покупки ЕНПФ...  1945  negative\n",
       "1  Медики рассказали о состоянии пострадавшего му...  1957  negative"
      ]
     },
     "execution_count": 45,
     "metadata": {},
     "output_type": "execute_result"
    }
   ],
   "source": [
    "train_df.head(2)"
   ]
  },
  {
   "cell_type": "code",
   "execution_count": null,
   "id": "aab654e1",
   "metadata": {},
   "outputs": [],
   "source": [
    "уберем пунктуацию (знаки препинания)"
   ]
  },
  {
   "cell_type": "code",
   "execution_count": 56,
   "id": "c5445dda",
   "metadata": {},
   "outputs": [
    {
     "data": {
      "text/html": [
       "<div>\n",
       "<style scoped>\n",
       "    .dataframe tbody tr th:only-of-type {\n",
       "        vertical-align: middle;\n",
       "    }\n",
       "\n",
       "    .dataframe tbody tr th {\n",
       "        vertical-align: top;\n",
       "    }\n",
       "\n",
       "    .dataframe thead th {\n",
       "        text-align: right;\n",
       "    }\n",
       "</style>\n",
       "<table border=\"1\" class=\"dataframe\">\n",
       "  <thead>\n",
       "    <tr style=\"text-align: right;\">\n",
       "      <th></th>\n",
       "      <th>text</th>\n",
       "      <th>id</th>\n",
       "      <th>sentiment</th>\n",
       "      <th>clean_text</th>\n",
       "    </tr>\n",
       "  </thead>\n",
       "  <tbody>\n",
       "    <tr>\n",
       "      <th>0</th>\n",
       "      <td>Досудебное расследование по факту покупки ЕНПФ...</td>\n",
       "      <td>1945</td>\n",
       "      <td>negative</td>\n",
       "      <td>Досудебное расследование по факту покупки ЕНПФ...</td>\n",
       "    </tr>\n",
       "    <tr>\n",
       "      <th>1</th>\n",
       "      <td>Медики рассказали о состоянии пострадавшего му...</td>\n",
       "      <td>1957</td>\n",
       "      <td>negative</td>\n",
       "      <td>Медики рассказали о состоянии пострадавшего му...</td>\n",
       "    </tr>\n",
       "    <tr>\n",
       "      <th>2</th>\n",
       "      <td>Прошел почти год, как железнодорожным оператор...</td>\n",
       "      <td>1969</td>\n",
       "      <td>negative</td>\n",
       "      <td>Прошел почти год как железнодорожным оператора...</td>\n",
       "    </tr>\n",
       "    <tr>\n",
       "      <th>3</th>\n",
       "      <td>По итогам 12 месяцев 2016 года на территории р...</td>\n",
       "      <td>1973</td>\n",
       "      <td>negative</td>\n",
       "      <td>По итогам 12 месяцев 2016 года на территории р...</td>\n",
       "    </tr>\n",
       "    <tr>\n",
       "      <th>4</th>\n",
       "      <td>Астана. 21 ноября. Kazakhstan Today - Агентств...</td>\n",
       "      <td>1975</td>\n",
       "      <td>negative</td>\n",
       "      <td>Астана 21 ноября Kazakhstan Today  Агентство Р...</td>\n",
       "    </tr>\n",
       "  </tbody>\n",
       "</table>\n",
       "</div>"
      ],
      "text/plain": [
       "                                                text    id sentiment  \\\n",
       "0  Досудебное расследование по факту покупки ЕНПФ...  1945  negative   \n",
       "1  Медики рассказали о состоянии пострадавшего му...  1957  negative   \n",
       "2  Прошел почти год, как железнодорожным оператор...  1969  negative   \n",
       "3  По итогам 12 месяцев 2016 года на территории р...  1973  negative   \n",
       "4  Астана. 21 ноября. Kazakhstan Today - Агентств...  1975  negative   \n",
       "\n",
       "                                          clean_text  \n",
       "0  Досудебное расследование по факту покупки ЕНПФ...  \n",
       "1  Медики рассказали о состоянии пострадавшего му...  \n",
       "2  Прошел почти год как железнодорожным оператора...  \n",
       "3  По итогам 12 месяцев 2016 года на территории р...  \n",
       "4  Астана 21 ноября Kazakhstan Today  Агентство Р...  "
      ]
     },
     "execution_count": 56,
     "metadata": {},
     "output_type": "execute_result"
    }
   ],
   "source": [
    "#defining the function to remove punctuation\n",
    "def remove_punctuation(text):\n",
    "    punctuationfree=\"\".join([i for i in text if i not in string.punctuation])\n",
    "    return punctuationfree\n",
    "#storing the puntuation free text\n",
    "train_df['clean_text']= train_df['text'].apply(lambda x:remove_punctuation(x))\n",
    "train_df.head()"
   ]
  },
  {
   "cell_type": "markdown",
   "id": "e33e8c2d",
   "metadata": {},
   "source": [
    "переведем в нижний регистр"
   ]
  },
  {
   "cell_type": "code",
   "execution_count": 57,
   "id": "0bef738d",
   "metadata": {},
   "outputs": [],
   "source": [
    "train_df['clean_text']= train_df['clean_text'].apply(lambda x: x.lower())\n"
   ]
  },
  {
   "cell_type": "code",
   "execution_count": 58,
   "id": "45da5ce0",
   "metadata": {},
   "outputs": [
    {
     "data": {
      "text/html": [
       "<div>\n",
       "<style scoped>\n",
       "    .dataframe tbody tr th:only-of-type {\n",
       "        vertical-align: middle;\n",
       "    }\n",
       "\n",
       "    .dataframe tbody tr th {\n",
       "        vertical-align: top;\n",
       "    }\n",
       "\n",
       "    .dataframe thead th {\n",
       "        text-align: right;\n",
       "    }\n",
       "</style>\n",
       "<table border=\"1\" class=\"dataframe\">\n",
       "  <thead>\n",
       "    <tr style=\"text-align: right;\">\n",
       "      <th></th>\n",
       "      <th>text</th>\n",
       "      <th>id</th>\n",
       "      <th>sentiment</th>\n",
       "      <th>clean_text</th>\n",
       "    </tr>\n",
       "  </thead>\n",
       "  <tbody>\n",
       "    <tr>\n",
       "      <th>0</th>\n",
       "      <td>Досудебное расследование по факту покупки ЕНПФ...</td>\n",
       "      <td>1945</td>\n",
       "      <td>negative</td>\n",
       "      <td>досудебное расследование по факту покупки енпф...</td>\n",
       "    </tr>\n",
       "    <tr>\n",
       "      <th>1</th>\n",
       "      <td>Медики рассказали о состоянии пострадавшего му...</td>\n",
       "      <td>1957</td>\n",
       "      <td>negative</td>\n",
       "      <td>медики рассказали о состоянии пострадавшего му...</td>\n",
       "    </tr>\n",
       "    <tr>\n",
       "      <th>2</th>\n",
       "      <td>Прошел почти год, как железнодорожным оператор...</td>\n",
       "      <td>1969</td>\n",
       "      <td>negative</td>\n",
       "      <td>прошел почти год как железнодорожным оператора...</td>\n",
       "    </tr>\n",
       "  </tbody>\n",
       "</table>\n",
       "</div>"
      ],
      "text/plain": [
       "                                                text    id sentiment  \\\n",
       "0  Досудебное расследование по факту покупки ЕНПФ...  1945  negative   \n",
       "1  Медики рассказали о состоянии пострадавшего му...  1957  negative   \n",
       "2  Прошел почти год, как железнодорожным оператор...  1969  negative   \n",
       "\n",
       "                                          clean_text  \n",
       "0  досудебное расследование по факту покупки енпф...  \n",
       "1  медики рассказали о состоянии пострадавшего му...  \n",
       "2  прошел почти год как железнодорожным оператора...  "
      ]
     },
     "execution_count": 58,
     "metadata": {},
     "output_type": "execute_result"
    }
   ],
   "source": [
    "train_df.head(3)"
   ]
  },
  {
   "cell_type": "markdown",
   "id": "8b11b1cb",
   "metadata": {},
   "source": [
    "Токенизация"
   ]
  },
  {
   "cell_type": "code",
   "execution_count": 59,
   "id": "c5e7338d",
   "metadata": {},
   "outputs": [],
   "source": [
    "#defining function for tokenization\n",
    "import re\n",
    "def tokenization(text):\n",
    "    tokens = re.split('W+',text)\n",
    "    return tokens\n",
    "\n",
    "#applying function to the column\n",
    "train_df['clean_text'] = train_df['clean_text'].apply(lambda x: x.split())"
   ]
  },
  {
   "cell_type": "code",
   "execution_count": 62,
   "id": "92315dae",
   "metadata": {},
   "outputs": [
    {
     "data": {
      "text/html": [
       "<div>\n",
       "<style scoped>\n",
       "    .dataframe tbody tr th:only-of-type {\n",
       "        vertical-align: middle;\n",
       "    }\n",
       "\n",
       "    .dataframe tbody tr th {\n",
       "        vertical-align: top;\n",
       "    }\n",
       "\n",
       "    .dataframe thead th {\n",
       "        text-align: right;\n",
       "    }\n",
       "</style>\n",
       "<table border=\"1\" class=\"dataframe\">\n",
       "  <thead>\n",
       "    <tr style=\"text-align: right;\">\n",
       "      <th></th>\n",
       "      <th>text</th>\n",
       "      <th>id</th>\n",
       "      <th>sentiment</th>\n",
       "      <th>clean_text</th>\n",
       "    </tr>\n",
       "  </thead>\n",
       "  <tbody>\n",
       "    <tr>\n",
       "      <th>0</th>\n",
       "      <td>Досудебное расследование по факту покупки ЕНПФ...</td>\n",
       "      <td>1945</td>\n",
       "      <td>negative</td>\n",
       "      <td>[досудебное, расследование, по, факту, покупки...</td>\n",
       "    </tr>\n",
       "    <tr>\n",
       "      <th>1</th>\n",
       "      <td>Медики рассказали о состоянии пострадавшего му...</td>\n",
       "      <td>1957</td>\n",
       "      <td>negative</td>\n",
       "      <td>[медики, рассказали, о, состоянии, пострадавше...</td>\n",
       "    </tr>\n",
       "  </tbody>\n",
       "</table>\n",
       "</div>"
      ],
      "text/plain": [
       "                                                text    id sentiment  \\\n",
       "0  Досудебное расследование по факту покупки ЕНПФ...  1945  negative   \n",
       "1  Медики рассказали о состоянии пострадавшего му...  1957  negative   \n",
       "\n",
       "                                          clean_text  \n",
       "0  [досудебное, расследование, по, факту, покупки...  \n",
       "1  [медики, рассказали, о, состоянии, пострадавше...  "
      ]
     },
     "execution_count": 62,
     "metadata": {},
     "output_type": "execute_result"
    }
   ],
   "source": [
    "train_df.head(2)"
   ]
  },
  {
   "cell_type": "markdown",
   "id": "7cdc580c",
   "metadata": {},
   "source": [
    "## Stop word removal"
   ]
  },
  {
   "cell_type": "code",
   "execution_count": 12,
   "id": "e30dce1e",
   "metadata": {},
   "outputs": [],
   "source": [
    "#Stop words present in the library\n",
    "\n",
    "from nltk.corpus import stopwords\n",
    "from pymystem3 import Mystem\n",
    "\n"
   ]
  },
  {
   "cell_type": "code",
   "execution_count": 76,
   "id": "6cdf5445",
   "metadata": {},
   "outputs": [
    {
     "name": "stdout",
     "output_type": "stream",
     "text": [
      "['i', 'me', 'my', 'myself', 'we', 'our', 'ours', 'ourselves', 'you', \"you're\", \"you've\", \"you'll\", \"you'd\", 'your', 'yours', 'yourself', 'yourselves', 'he', 'him', 'his', 'himself', 'she', \"she's\", 'her', 'hers', 'herself', 'it', \"it's\", 'its', 'itself', 'they', 'them', 'their', 'theirs', 'themselves', 'what', 'which', 'who', 'whom', 'this', 'that', \"that'll\", 'these', 'those', 'am', 'is', 'are', 'was', 'were', 'be', 'been', 'being', 'have', 'has', 'had', 'having', 'do', 'does', 'did', 'doing', 'a', 'an', 'the', 'and', 'but', 'if', 'or', 'because', 'as', 'until', 'while', 'of', 'at', 'by', 'for', 'with', 'about', 'against', 'between', 'into', 'through', 'during', 'before', 'after', 'above', 'below', 'to', 'from', 'up', 'down', 'in', 'out', 'on', 'off', 'over', 'under', 'again', 'further', 'then', 'once', 'here', 'there', 'when', 'where', 'why', 'how', 'all', 'any', 'both', 'each', 'few', 'more', 'most', 'other', 'some', 'such', 'no', 'nor', 'not', 'only', 'own', 'same', 'so', 'than', 'too', 'very', 's', 't', 'can', 'will', 'just', 'don', \"don't\", 'should', \"should've\", 'now', 'd', 'll', 'm', 'o', 're', 've', 'y', 'ain', 'aren', \"aren't\", 'couldn', \"couldn't\", 'didn', \"didn't\", 'doesn', \"doesn't\", 'hadn', \"hadn't\", 'hasn', \"hasn't\", 'haven', \"haven't\", 'isn', \"isn't\", 'ma', 'mightn', \"mightn't\", 'mustn', \"mustn't\", 'needn', \"needn't\", 'shan', \"shan't\", 'shouldn', \"shouldn't\", 'wasn', \"wasn't\", 'weren', \"weren't\", 'won', \"won't\", 'wouldn', \"wouldn't\"]\n"
     ]
    }
   ],
   "source": [
    "import nltk\n",
    "from nltk.corpus import stopwords\n",
    "print(stopwords.words('english'))"
   ]
  },
  {
   "cell_type": "code",
   "execution_count": 107,
   "id": "018595be",
   "metadata": {},
   "outputs": [],
   "source": [
    "#Create lemmatizer and stopwords list\n",
    "mystem = Mystem() \n",
    "russian_stopwords = stopwords.words(\"russian\")\n",
    "\n",
    "#Preprocess function\n",
    "def preprocess_text(text):\n",
    "    tokens = mystem.lemmatize(text.lower())\n",
    "    tokens = [token for token in tokens if token not in russian_stopwords\\\n",
    "              and token != \" \" \\\n",
    "              and token.strip() not in string.punctuation]\n",
    "    \n",
    "    text = \" \".join(tokens)\n",
    "    \n",
    "    return text\n"
   ]
  },
  {
   "cell_type": "code",
   "execution_count": 19,
   "id": "e95ed568",
   "metadata": {},
   "outputs": [
    {
     "data": {
      "text/plain": [
       "'В Алматы у отделения банка произошло нападение со стрельбой Сегодня, 15:34 В Алматы у отделений банков на улице Тимирязева между улицами Маркова и Байтурсынова произошло нападение на двоих мужчин. Неизвестные с огнестрельным оружием пытались вырвать сумку у одного из них. Предположительно, мужчина вышел из банка с деньгами, сообщает Informburo.kz.   «Они сцепились, – говорит охранник здания на улице Тимирязева. – Те выстрелили в воздух, потом ударили одного из мужчин по голове пистолетом. Это его кровь на асфальте. Его увезла «скорая».   На месте работают криминалисты, территория оцеплена. В здании находятся отделения банков «ВТБ» и «Сбербанк».   Очевидец ЧП рассказал, что при пострадавшем был паспорт гражданина России.   Выстрелы были слышны у бизнес-центра «Алатау Гранд». Здесь находятся филиалы банка «ВТБ» и «Сбербанка». В пресс-службе «Сбербанка» сообщили, что пострадавший не является их клиентом. В «ВТБ» пообещали дать ответ позже. \\n \\n 25 октября в Алматы неизвестные напали на охранника «Банка ЦентрКредит» и завладели его оружием. В городе объявлен спецплан «Сирена». Полиция уже начала досудебное расследование по ст. 192, ч.2 УК РК – «Разбой». На данный момент преступники не задержаны. \\n \\n Министр внутренних дел РК Калмуханбет Касымов отметил, что связи с радикалами не наблюдается. По его данным, это обычный разбой. Он добавил, что преступники проникли в отделение банка, когда охранник отлучился в туалет.   Фото: informburo.kz\\n'"
      ]
     },
     "execution_count": 19,
     "metadata": {},
     "output_type": "execute_result"
    }
   ],
   "source": [
    "train_df.loc[8261].text"
   ]
  },
  {
   "cell_type": "code",
   "execution_count": 20,
   "id": "1ecd76d5",
   "metadata": {},
   "outputs": [
    {
     "data": {
      "text/plain": [
       "'negative'"
      ]
     },
     "execution_count": 20,
     "metadata": {},
     "output_type": "execute_result"
    }
   ],
   "source": [
    "train_df.loc[8261].sentiment"
   ]
  },
  {
   "cell_type": "code",
   "execution_count": 25,
   "id": "c38d18ea",
   "metadata": {},
   "outputs": [
    {
     "data": {
      "text/plain": [
       "'асфальт мимо цемент избегать зевака аплодисменты обитатель спальный аррондисман'"
      ]
     },
     "execution_count": 25,
     "metadata": {},
     "output_type": "execute_result"
    }
   ],
   "source": [
    "preprocess_text(\"По асфальту мимо цемента, Избегая зевак под аплодисменты. Обитатели спальных аррондисманов\")\n"
   ]
  },
  {
   "cell_type": "code",
   "execution_count": 26,
   "id": "3cc0b7fc",
   "metadata": {},
   "outputs": [
    {
     "data": {
      "text/plain": [
       "'алматы отделение банк происходить нападение стрельба сегодня 15 34 алматы отделение банк улица тимирязево улица марков байтурсынов происходить нападение двое мужчина неизвестный огнестрельный оружие пытаться вырывать сумка предположительно мужчина выходить банка деньги сообщать informburo kz    « сцепляться , –  говорить охранник здание улица тимирязево  –  выстреливать воздух ударять мужчина голова пистолет это кровь асфальт увезти  « скорый » место работать криминалист территория оцеплять здание находиться отделение банк  « втб »   « сбербанк » очевидец чп рассказывать пострадать паспорт гражданин россия выстрел слышный бизнес-центр  « алатау гранд » находиться филиал банк  « втб »   « сбербанк » пресс-служба  « сбербанк »  сообщать пострадавший являться клиент  « втб »  пообещать давать ответ поздно 25 октябрь алматы неизвестный нападывать охранник  « банк центркредит »  завладевать оружие город объявлять спецплан  « сирена » полиция начинать досудебный расследование ст 192 ч 2 ук рк  – « разбой » данный момент преступник задерживать министр внутренний дело рк калмуханбет касымов отмечать связь радикал наблюдаться данные это обычный разбой добавлять преступник проникать отделение банк охранник отлучаться туалет фото informburo kz'"
      ]
     },
     "execution_count": 26,
     "metadata": {},
     "output_type": "execute_result"
    }
   ],
   "source": [
    "preprocess_text(train_df.loc[8261].text)\n",
    "\n"
   ]
  },
  {
   "cell_type": "markdown",
   "id": "02377846",
   "metadata": {},
   "source": [
    "## Применим все шаги и получим токены:"
   ]
  },
  {
   "cell_type": "code",
   "execution_count": 29,
   "id": "1529a27c",
   "metadata": {},
   "outputs": [],
   "source": [
    "train_df['tokenized'] = train_df.text.apply(lambda x: preprocess_text(x).split())"
   ]
  },
  {
   "cell_type": "code",
   "execution_count": 30,
   "id": "f63ea128",
   "metadata": {},
   "outputs": [
    {
     "data": {
      "text/html": [
       "<div>\n",
       "<style scoped>\n",
       "    .dataframe tbody tr th:only-of-type {\n",
       "        vertical-align: middle;\n",
       "    }\n",
       "\n",
       "    .dataframe tbody tr th {\n",
       "        vertical-align: top;\n",
       "    }\n",
       "\n",
       "    .dataframe thead th {\n",
       "        text-align: right;\n",
       "    }\n",
       "</style>\n",
       "<table border=\"1\" class=\"dataframe\">\n",
       "  <thead>\n",
       "    <tr style=\"text-align: right;\">\n",
       "      <th></th>\n",
       "      <th>text</th>\n",
       "      <th>id</th>\n",
       "      <th>sentiment</th>\n",
       "      <th>tokenized</th>\n",
       "    </tr>\n",
       "  </thead>\n",
       "  <tbody>\n",
       "    <tr>\n",
       "      <th>0</th>\n",
       "      <td>Досудебное расследование по факту покупки ЕНПФ...</td>\n",
       "      <td>1945</td>\n",
       "      <td>negative</td>\n",
       "      <td>[досудебный, расследование, факт, покупка, енп...</td>\n",
       "    </tr>\n",
       "    <tr>\n",
       "      <th>1</th>\n",
       "      <td>Медики рассказали о состоянии пострадавшего му...</td>\n",
       "      <td>1957</td>\n",
       "      <td>negative</td>\n",
       "      <td>[медик, рассказывать, состояние, пострадавший,...</td>\n",
       "    </tr>\n",
       "    <tr>\n",
       "      <th>2</th>\n",
       "      <td>Прошел почти год, как железнодорожным оператор...</td>\n",
       "      <td>1969</td>\n",
       "      <td>negative</td>\n",
       "      <td>[проходить, год, железнодорожный, оператор, за...</td>\n",
       "    </tr>\n",
       "    <tr>\n",
       "      <th>3</th>\n",
       "      <td>По итогам 12 месяцев 2016 года на территории р...</td>\n",
       "      <td>1973</td>\n",
       "      <td>negative</td>\n",
       "      <td>[итог, 12, месяц, 2016, год, территория, респу...</td>\n",
       "    </tr>\n",
       "    <tr>\n",
       "      <th>4</th>\n",
       "      <td>Астана. 21 ноября. Kazakhstan Today - Агентств...</td>\n",
       "      <td>1975</td>\n",
       "      <td>negative</td>\n",
       "      <td>[астана, 21, ноябрь, kazakhstan, today, агентс...</td>\n",
       "    </tr>\n",
       "    <tr>\n",
       "      <th>...</th>\n",
       "      <td>...</td>\n",
       "      <td>...</td>\n",
       "      <td>...</td>\n",
       "      <td>...</td>\n",
       "    </tr>\n",
       "    <tr>\n",
       "      <th>8258</th>\n",
       "      <td>Как мы писали еще весной, для увеличения сбыта...</td>\n",
       "      <td>10312</td>\n",
       "      <td>positive</td>\n",
       "      <td>[писать, весна, увеличение, сбыт, также, избег...</td>\n",
       "    </tr>\n",
       "    <tr>\n",
       "      <th>8259</th>\n",
       "      <td>Но молодой министр национальной экономики Биши...</td>\n",
       "      <td>10313</td>\n",
       "      <td>negative</td>\n",
       "      <td>[молодой, министр, национальный, экономика, би...</td>\n",
       "    </tr>\n",
       "    <tr>\n",
       "      <th>8260</th>\n",
       "      <td>\\n \\nВ ЕНПФ назначен новый председатель правле...</td>\n",
       "      <td>10314</td>\n",
       "      <td>neutral</td>\n",
       "      <td>[енпф, назначать, новый, председатель, правлен...</td>\n",
       "    </tr>\n",
       "    <tr>\n",
       "      <th>8261</th>\n",
       "      <td>В Алматы у отделения банка произошло нападение...</td>\n",
       "      <td>10315</td>\n",
       "      <td>negative</td>\n",
       "      <td>[алматы, отделение, банк, происходить, нападен...</td>\n",
       "    </tr>\n",
       "    <tr>\n",
       "      <th>8262</th>\n",
       "      <td>НПП РК «Атамекен» предлагает создать Националь...</td>\n",
       "      <td>10316</td>\n",
       "      <td>neutral</td>\n",
       "      <td>[нпп, рк, «, атамекен, », предлагать, создават...</td>\n",
       "    </tr>\n",
       "  </tbody>\n",
       "</table>\n",
       "<p>8263 rows × 4 columns</p>\n",
       "</div>"
      ],
      "text/plain": [
       "                                                   text     id sentiment  \\\n",
       "0     Досудебное расследование по факту покупки ЕНПФ...   1945  negative   \n",
       "1     Медики рассказали о состоянии пострадавшего му...   1957  negative   \n",
       "2     Прошел почти год, как железнодорожным оператор...   1969  negative   \n",
       "3     По итогам 12 месяцев 2016 года на территории р...   1973  negative   \n",
       "4     Астана. 21 ноября. Kazakhstan Today - Агентств...   1975  negative   \n",
       "...                                                 ...    ...       ...   \n",
       "8258  Как мы писали еще весной, для увеличения сбыта...  10312  positive   \n",
       "8259  Но молодой министр национальной экономики Биши...  10313  negative   \n",
       "8260  \\n \\nВ ЕНПФ назначен новый председатель правле...  10314   neutral   \n",
       "8261  В Алматы у отделения банка произошло нападение...  10315  negative   \n",
       "8262  НПП РК «Атамекен» предлагает создать Националь...  10316   neutral   \n",
       "\n",
       "                                              tokenized  \n",
       "0     [досудебный, расследование, факт, покупка, енп...  \n",
       "1     [медик, рассказывать, состояние, пострадавший,...  \n",
       "2     [проходить, год, железнодорожный, оператор, за...  \n",
       "3     [итог, 12, месяц, 2016, год, территория, респу...  \n",
       "4     [астана, 21, ноябрь, kazakhstan, today, агентс...  \n",
       "...                                                 ...  \n",
       "8258  [писать, весна, увеличение, сбыт, также, избег...  \n",
       "8259  [молодой, министр, национальный, экономика, би...  \n",
       "8260  [енпф, назначать, новый, председатель, правлен...  \n",
       "8261  [алматы, отделение, банк, происходить, нападен...  \n",
       "8262  [нпп, рк, «, атамекен, », предлагать, создават...  \n",
       "\n",
       "[8263 rows x 4 columns]"
      ]
     },
     "execution_count": 30,
     "metadata": {},
     "output_type": "execute_result"
    }
   ],
   "source": [
    "train_df"
   ]
  },
  {
   "cell_type": "code",
   "execution_count": 31,
   "id": "a21f744b",
   "metadata": {},
   "outputs": [],
   "source": [
    "from sklearn.feature_extraction.text import TfidfVectorizer\n"
   ]
  },
  {
   "cell_type": "code",
   "execution_count": null,
   "id": "7635999f",
   "metadata": {},
   "outputs": [],
   "source": [
    "Векторизируем текст "
   ]
  },
  {
   "cell_type": "code",
   "execution_count": 33,
   "id": "8b91eb09",
   "metadata": {},
   "outputs": [
    {
     "data": {
      "text/html": [
       "<div>\n",
       "<style scoped>\n",
       "    .dataframe tbody tr th:only-of-type {\n",
       "        vertical-align: middle;\n",
       "    }\n",
       "\n",
       "    .dataframe tbody tr th {\n",
       "        vertical-align: top;\n",
       "    }\n",
       "\n",
       "    .dataframe thead th {\n",
       "        text-align: right;\n",
       "    }\n",
       "</style>\n",
       "<table border=\"1\" class=\"dataframe\">\n",
       "  <thead>\n",
       "    <tr style=\"text-align: right;\">\n",
       "      <th></th>\n",
       "      <th>text</th>\n",
       "      <th>id</th>\n",
       "      <th>sentiment</th>\n",
       "      <th>tokenized</th>\n",
       "    </tr>\n",
       "  </thead>\n",
       "  <tbody>\n",
       "    <tr>\n",
       "      <th>0</th>\n",
       "      <td>Досудебное расследование по факту покупки ЕНПФ...</td>\n",
       "      <td>1945</td>\n",
       "      <td>negative</td>\n",
       "      <td>[досудебный, расследование, факт, покупка, енп...</td>\n",
       "    </tr>\n",
       "    <tr>\n",
       "      <th>1</th>\n",
       "      <td>Медики рассказали о состоянии пострадавшего му...</td>\n",
       "      <td>1957</td>\n",
       "      <td>negative</td>\n",
       "      <td>[медик, рассказывать, состояние, пострадавший,...</td>\n",
       "    </tr>\n",
       "    <tr>\n",
       "      <th>2</th>\n",
       "      <td>Прошел почти год, как железнодорожным оператор...</td>\n",
       "      <td>1969</td>\n",
       "      <td>negative</td>\n",
       "      <td>[проходить, год, железнодорожный, оператор, за...</td>\n",
       "    </tr>\n",
       "    <tr>\n",
       "      <th>3</th>\n",
       "      <td>По итогам 12 месяцев 2016 года на территории р...</td>\n",
       "      <td>1973</td>\n",
       "      <td>negative</td>\n",
       "      <td>[итог, 12, месяц, 2016, год, территория, респу...</td>\n",
       "    </tr>\n",
       "    <tr>\n",
       "      <th>4</th>\n",
       "      <td>Астана. 21 ноября. Kazakhstan Today - Агентств...</td>\n",
       "      <td>1975</td>\n",
       "      <td>negative</td>\n",
       "      <td>[астана, 21, ноябрь, kazakhstan, today, агентс...</td>\n",
       "    </tr>\n",
       "    <tr>\n",
       "      <th>...</th>\n",
       "      <td>...</td>\n",
       "      <td>...</td>\n",
       "      <td>...</td>\n",
       "      <td>...</td>\n",
       "    </tr>\n",
       "    <tr>\n",
       "      <th>8258</th>\n",
       "      <td>Как мы писали еще весной, для увеличения сбыта...</td>\n",
       "      <td>10312</td>\n",
       "      <td>positive</td>\n",
       "      <td>[писать, весна, увеличение, сбыт, также, избег...</td>\n",
       "    </tr>\n",
       "    <tr>\n",
       "      <th>8259</th>\n",
       "      <td>Но молодой министр национальной экономики Биши...</td>\n",
       "      <td>10313</td>\n",
       "      <td>negative</td>\n",
       "      <td>[молодой, министр, национальный, экономика, би...</td>\n",
       "    </tr>\n",
       "    <tr>\n",
       "      <th>8260</th>\n",
       "      <td>\\n \\nВ ЕНПФ назначен новый председатель правле...</td>\n",
       "      <td>10314</td>\n",
       "      <td>neutral</td>\n",
       "      <td>[енпф, назначать, новый, председатель, правлен...</td>\n",
       "    </tr>\n",
       "    <tr>\n",
       "      <th>8261</th>\n",
       "      <td>В Алматы у отделения банка произошло нападение...</td>\n",
       "      <td>10315</td>\n",
       "      <td>negative</td>\n",
       "      <td>[алматы, отделение, банк, происходить, нападен...</td>\n",
       "    </tr>\n",
       "    <tr>\n",
       "      <th>8262</th>\n",
       "      <td>НПП РК «Атамекен» предлагает создать Националь...</td>\n",
       "      <td>10316</td>\n",
       "      <td>neutral</td>\n",
       "      <td>[нпп, рк, «, атамекен, », предлагать, создават...</td>\n",
       "    </tr>\n",
       "  </tbody>\n",
       "</table>\n",
       "<p>8263 rows × 4 columns</p>\n",
       "</div>"
      ],
      "text/plain": [
       "                                                   text     id sentiment  \\\n",
       "0     Досудебное расследование по факту покупки ЕНПФ...   1945  negative   \n",
       "1     Медики рассказали о состоянии пострадавшего му...   1957  negative   \n",
       "2     Прошел почти год, как железнодорожным оператор...   1969  negative   \n",
       "3     По итогам 12 месяцев 2016 года на территории р...   1973  negative   \n",
       "4     Астана. 21 ноября. Kazakhstan Today - Агентств...   1975  negative   \n",
       "...                                                 ...    ...       ...   \n",
       "8258  Как мы писали еще весной, для увеличения сбыта...  10312  positive   \n",
       "8259  Но молодой министр национальной экономики Биши...  10313  negative   \n",
       "8260  \\n \\nВ ЕНПФ назначен новый председатель правле...  10314   neutral   \n",
       "8261  В Алматы у отделения банка произошло нападение...  10315  negative   \n",
       "8262  НПП РК «Атамекен» предлагает создать Националь...  10316   neutral   \n",
       "\n",
       "                                              tokenized  \n",
       "0     [досудебный, расследование, факт, покупка, енп...  \n",
       "1     [медик, рассказывать, состояние, пострадавший,...  \n",
       "2     [проходить, год, железнодорожный, оператор, за...  \n",
       "3     [итог, 12, месяц, 2016, год, территория, респу...  \n",
       "4     [астана, 21, ноябрь, kazakhstan, today, агентс...  \n",
       "...                                                 ...  \n",
       "8258  [писать, весна, увеличение, сбыт, также, избег...  \n",
       "8259  [молодой, министр, национальный, экономика, би...  \n",
       "8260  [енпф, назначать, новый, председатель, правлен...  \n",
       "8261  [алматы, отделение, банк, происходить, нападен...  \n",
       "8262  [нпп, рк, «, атамекен, », предлагать, создават...  \n",
       "\n",
       "[8263 rows x 4 columns]"
      ]
     },
     "execution_count": 33,
     "metadata": {},
     "output_type": "execute_result"
    }
   ],
   "source": [
    "train_df"
   ]
  },
  {
   "cell_type": "code",
   "execution_count": 34,
   "id": "1f9f30c0",
   "metadata": {},
   "outputs": [],
   "source": [
    "from sklearn.model_selection import train_test_split\n",
    "from sklearn.preprocessing import LabelEncoder"
   ]
  },
  {
   "cell_type": "code",
   "execution_count": 39,
   "id": "47ef6997",
   "metadata": {},
   "outputs": [],
   "source": [
    "train_df['tokenized'] = train_df.text.apply(lambda x: preprocess_text(x))"
   ]
  },
  {
   "cell_type": "code",
   "execution_count": 40,
   "id": "1e0ffeee",
   "metadata": {},
   "outputs": [
    {
     "data": {
      "text/html": [
       "<div>\n",
       "<style scoped>\n",
       "    .dataframe tbody tr th:only-of-type {\n",
       "        vertical-align: middle;\n",
       "    }\n",
       "\n",
       "    .dataframe tbody tr th {\n",
       "        vertical-align: top;\n",
       "    }\n",
       "\n",
       "    .dataframe thead th {\n",
       "        text-align: right;\n",
       "    }\n",
       "</style>\n",
       "<table border=\"1\" class=\"dataframe\">\n",
       "  <thead>\n",
       "    <tr style=\"text-align: right;\">\n",
       "      <th></th>\n",
       "      <th>text</th>\n",
       "      <th>id</th>\n",
       "      <th>sentiment</th>\n",
       "      <th>tokenized</th>\n",
       "    </tr>\n",
       "  </thead>\n",
       "  <tbody>\n",
       "    <tr>\n",
       "      <th>0</th>\n",
       "      <td>Досудебное расследование по факту покупки ЕНПФ...</td>\n",
       "      <td>1945</td>\n",
       "      <td>negative</td>\n",
       "      <td>досудебный расследование факт покупка енпф пак...</td>\n",
       "    </tr>\n",
       "    <tr>\n",
       "      <th>1</th>\n",
       "      <td>Медики рассказали о состоянии пострадавшего му...</td>\n",
       "      <td>1957</td>\n",
       "      <td>negative</td>\n",
       "      <td>медик рассказывать состояние пострадавший мужч...</td>\n",
       "    </tr>\n",
       "    <tr>\n",
       "      <th>2</th>\n",
       "      <td>Прошел почти год, как железнодорожным оператор...</td>\n",
       "      <td>1969</td>\n",
       "      <td>negative</td>\n",
       "      <td>проходить год железнодорожный оператор запреща...</td>\n",
       "    </tr>\n",
       "    <tr>\n",
       "      <th>3</th>\n",
       "      <td>По итогам 12 месяцев 2016 года на территории р...</td>\n",
       "      <td>1973</td>\n",
       "      <td>negative</td>\n",
       "      <td>итог 12 месяц 2016 год территория республика в...</td>\n",
       "    </tr>\n",
       "    <tr>\n",
       "      <th>4</th>\n",
       "      <td>Астана. 21 ноября. Kazakhstan Today - Агентств...</td>\n",
       "      <td>1975</td>\n",
       "      <td>negative</td>\n",
       "      <td>астана 21 ноябрь kazakhstan today агентство рк...</td>\n",
       "    </tr>\n",
       "  </tbody>\n",
       "</table>\n",
       "</div>"
      ],
      "text/plain": [
       "                                                text    id sentiment  \\\n",
       "0  Досудебное расследование по факту покупки ЕНПФ...  1945  negative   \n",
       "1  Медики рассказали о состоянии пострадавшего му...  1957  negative   \n",
       "2  Прошел почти год, как железнодорожным оператор...  1969  negative   \n",
       "3  По итогам 12 месяцев 2016 года на территории р...  1973  negative   \n",
       "4  Астана. 21 ноября. Kazakhstan Today - Агентств...  1975  negative   \n",
       "\n",
       "                                           tokenized  \n",
       "0  досудебный расследование факт покупка енпф пак...  \n",
       "1  медик рассказывать состояние пострадавший мужч...  \n",
       "2  проходить год железнодорожный оператор запреща...  \n",
       "3  итог 12 месяц 2016 год территория республика в...  \n",
       "4  астана 21 ноябрь kazakhstan today агентство рк...  "
      ]
     },
     "execution_count": 40,
     "metadata": {},
     "output_type": "execute_result"
    }
   ],
   "source": [
    "train_df.head()"
   ]
  },
  {
   "cell_type": "code",
   "execution_count": 156,
   "id": "519bcd67",
   "metadata": {},
   "outputs": [],
   "source": [
    "X = train_df.tokenized\n",
    "y = train_df.sentiment"
   ]
  },
  {
   "cell_type": "code",
   "execution_count": 158,
   "id": "1feed3e0",
   "metadata": {},
   "outputs": [],
   "source": [
    "le = LabelEncoder()\n",
    "\n",
    "y = le.fit_transform(y)"
   ]
  },
  {
   "cell_type": "code",
   "execution_count": 159,
   "id": "c40a608c",
   "metadata": {},
   "outputs": [
    {
     "data": {
      "text/plain": [
       "array(['negative', 'neutral', 'positive'], dtype=object)"
      ]
     },
     "execution_count": 159,
     "metadata": {},
     "output_type": "execute_result"
    }
   ],
   "source": [
    "le.classes_"
   ]
  },
  {
   "cell_type": "code",
   "execution_count": 160,
   "id": "09620502",
   "metadata": {},
   "outputs": [],
   "source": [
    "X_train, X_test, y_train, y_test = train_test_split(X, y, test_size=0.33, random_state=42)"
   ]
  },
  {
   "cell_type": "code",
   "execution_count": 161,
   "id": "b904333a",
   "metadata": {},
   "outputs": [],
   "source": [
    "vectoriser = TfidfVectorizer()\n",
    "\n",
    "X_train = vectoriser.fit_transform(X_train)\n",
    "# Convert sparse matrix to dataframe\n",
    "#X_train = pd.DataFrame.sparse.from_spmatrix(X_train)\n",
    "\n",
    "# Transform to feature matrix\n",
    "X_test = vectoriser.transform(X_test)\n",
    "# Convert sparse matrix to dataframe\n",
    "#X_test = pd.DataFrame.sparse.from_spmatrix(X_test)\n",
    "# Add column names to make it more readible\n"
   ]
  },
  {
   "cell_type": "code",
   "execution_count": 116,
   "id": "04dd79f2",
   "metadata": {
    "scrolled": true
   },
   "outputs": [
    {
     "data": {
      "text/plain": [
       "((5536, 56071), (2727, 56071))"
      ]
     },
     "execution_count": 116,
     "metadata": {},
     "output_type": "execute_result"
    }
   ],
   "source": [
    "X_train.shape, X_test.shape"
   ]
  },
  {
   "cell_type": "code",
   "execution_count": 117,
   "id": "fd2d859b",
   "metadata": {},
   "outputs": [],
   "source": [
    "from sklearn.linear_model import LogisticRegression"
   ]
  },
  {
   "cell_type": "code",
   "execution_count": null,
   "id": "199f1d50",
   "metadata": {},
   "outputs": [],
   "source": [
    "Решение:\n",
    "    увеличить кол-во итераций +\n",
    "    стандартизовать/нормализовать данные\n",
    "    \n",
    "рассмотрим все варианты"
   ]
  },
  {
   "cell_type": "code",
   "execution_count": 162,
   "id": "b2ce8f6e",
   "metadata": {},
   "outputs": [],
   "source": [
    "lg = LogisticRegression(max_iter=10000)"
   ]
  },
  {
   "cell_type": "code",
   "execution_count": 163,
   "id": "adb47528",
   "metadata": {},
   "outputs": [
    {
     "data": {
      "text/plain": [
       "LogisticRegression(max_iter=10000)"
      ]
     },
     "execution_count": 163,
     "metadata": {},
     "output_type": "execute_result"
    }
   ],
   "source": [
    "lg.fit(X_train, y_train) # сошлось"
   ]
  },
  {
   "cell_type": "code",
   "execution_count": 164,
   "id": "bb735eed",
   "metadata": {},
   "outputs": [],
   "source": [
    "from sklearn.metrics import classification_report"
   ]
  },
  {
   "cell_type": "code",
   "execution_count": 165,
   "id": "4e5ec847",
   "metadata": {},
   "outputs": [
    {
     "name": "stdout",
     "output_type": "stream",
     "text": [
      "              precision    recall  f1-score   support\n",
      "\n",
      "           0       0.83      0.53      0.64       483\n",
      "           1       0.69      0.81      0.75      1334\n",
      "           2       0.73      0.69      0.71       910\n",
      "\n",
      "    accuracy                           0.72      2727\n",
      "   macro avg       0.75      0.68      0.70      2727\n",
      "weighted avg       0.73      0.72      0.72      2727\n",
      "\n"
     ]
    }
   ],
   "source": [
    "print(classification_report(y_test, lg.predict(X_test))) #качество на тесте"
   ]
  },
  {
   "cell_type": "markdown",
   "id": "db98e58a",
   "metadata": {},
   "source": [
    "В целом, качество на тесте - неплохое - 0.7 - 0.72"
   ]
  },
  {
   "cell_type": "markdown",
   "id": "b88d04ac",
   "metadata": {},
   "source": [
    "Сделаем инференс и отправим решение на кэгл и пойдем пить чай"
   ]
  },
  {
   "cell_type": "markdown",
   "id": "2022a8c5",
   "metadata": {},
   "source": [
    "для этого нужно восстановить весь пайплан и повторить его для теста"
   ]
  },
  {
   "cell_type": "code",
   "execution_count": 110,
   "id": "df08c4c0",
   "metadata": {},
   "outputs": [
    {
     "data": {
      "text/html": [
       "<div>\n",
       "<style scoped>\n",
       "    .dataframe tbody tr th:only-of-type {\n",
       "        vertical-align: middle;\n",
       "    }\n",
       "\n",
       "    .dataframe tbody tr th {\n",
       "        vertical-align: top;\n",
       "    }\n",
       "\n",
       "    .dataframe thead th {\n",
       "        text-align: right;\n",
       "    }\n",
       "</style>\n",
       "<table border=\"1\" class=\"dataframe\">\n",
       "  <thead>\n",
       "    <tr style=\"text-align: right;\">\n",
       "      <th></th>\n",
       "      <th>text</th>\n",
       "      <th>id</th>\n",
       "      <th>tokenized</th>\n",
       "    </tr>\n",
       "  </thead>\n",
       "  <tbody>\n",
       "    <tr>\n",
       "      <th>0</th>\n",
       "      <td>Как сообщает пресс-служба акимата Алматы, для ...</td>\n",
       "      <td>0</td>\n",
       "      <td>сообщать пресс-служба акимат алматы ликвидиция...</td>\n",
       "    </tr>\n",
       "    <tr>\n",
       "      <th>1</th>\n",
       "      <td>Казахстанские авиакомпании перевозят 250 тысяч...</td>\n",
       "      <td>1</td>\n",
       "      <td>казахстанский авиакомпания перевозить 250 тыся...</td>\n",
       "    </tr>\n",
       "    <tr>\n",
       "      <th>2</th>\n",
       "      <td>На состоявшемся под председательством Касым-Жо...</td>\n",
       "      <td>2</td>\n",
       "      <td>состояться председательство касым жомарт токае...</td>\n",
       "    </tr>\n",
       "    <tr>\n",
       "      <th>3</th>\n",
       "      <td>В ОАЭ состоялись переговоры между казахстанско...</td>\n",
       "      <td>3</td>\n",
       "      <td>оаэ состояться переговоры казахстанский эмират...</td>\n",
       "    </tr>\n",
       "    <tr>\n",
       "      <th>4</th>\n",
       "      <td>12 вагонов грузового поезда сошли с путей в Во...</td>\n",
       "      <td>4</td>\n",
       "      <td>12 вагон грузовой поезд сходить путь восточный...</td>\n",
       "    </tr>\n",
       "  </tbody>\n",
       "</table>\n",
       "</div>"
      ],
      "text/plain": [
       "                                                text  id  \\\n",
       "0  Как сообщает пресс-служба акимата Алматы, для ...   0   \n",
       "1  Казахстанские авиакомпании перевозят 250 тысяч...   1   \n",
       "2  На состоявшемся под председательством Касым-Жо...   2   \n",
       "3  В ОАЭ состоялись переговоры между казахстанско...   3   \n",
       "4  12 вагонов грузового поезда сошли с путей в Во...   4   \n",
       "\n",
       "                                           tokenized  \n",
       "0  сообщать пресс-служба акимат алматы ликвидиция...  \n",
       "1  казахстанский авиакомпания перевозить 250 тыся...  \n",
       "2  состояться председательство касым жомарт токае...  \n",
       "3  оаэ состояться переговоры казахстанский эмират...  \n",
       "4  12 вагон грузовой поезд сходить путь восточный...  "
      ]
     },
     "execution_count": 110,
     "metadata": {},
     "output_type": "execute_result"
    }
   ],
   "source": [
    "test_df.head()"
   ]
  },
  {
   "cell_type": "code",
   "execution_count": 166,
   "id": "89207162",
   "metadata": {},
   "outputs": [],
   "source": [
    "test_df['tokenized'] = test_df.text.apply(lambda x: preprocess_text(x))"
   ]
  },
  {
   "cell_type": "code",
   "execution_count": 167,
   "id": "ae713d83",
   "metadata": {},
   "outputs": [],
   "source": [
    "\n",
    "valid = vectoriser.transform(test_df['tokenized'])\n",
    "# Convert sparse matrix to dataframe\n",
    "#X_train = pd.DataFrame.sparse.from_spmatrix(X_train)\n",
    "\n",
    "\n"
   ]
  },
  {
   "cell_type": "code",
   "execution_count": 168,
   "id": "987bcdee",
   "metadata": {},
   "outputs": [],
   "source": [
    "pred = lg.predict(valid)"
   ]
  },
  {
   "cell_type": "code",
   "execution_count": 169,
   "id": "5f282996",
   "metadata": {},
   "outputs": [
    {
     "data": {
      "text/plain": [
       "(2056,)"
      ]
     },
     "execution_count": 169,
     "metadata": {},
     "output_type": "execute_result"
    }
   ],
   "source": [
    "pred.shape"
   ]
  },
  {
   "cell_type": "code",
   "execution_count": 170,
   "id": "cc58b10a",
   "metadata": {},
   "outputs": [
    {
     "data": {
      "text/plain": [
       "1    0.570525\n",
       "2    0.329280\n",
       "0    0.100195\n",
       "dtype: float64"
      ]
     },
     "execution_count": 170,
     "metadata": {},
     "output_type": "execute_result"
    }
   ],
   "source": [
    "pd.Series(pred).value_counts(1)"
   ]
  },
  {
   "cell_type": "code",
   "execution_count": 130,
   "id": "f092b640",
   "metadata": {},
   "outputs": [
    {
     "data": {
      "text/html": [
       "<div>\n",
       "<style scoped>\n",
       "    .dataframe tbody tr th:only-of-type {\n",
       "        vertical-align: middle;\n",
       "    }\n",
       "\n",
       "    .dataframe tbody tr th {\n",
       "        vertical-align: top;\n",
       "    }\n",
       "\n",
       "    .dataframe thead th {\n",
       "        text-align: right;\n",
       "    }\n",
       "</style>\n",
       "<table border=\"1\" class=\"dataframe\">\n",
       "  <thead>\n",
       "    <tr style=\"text-align: right;\">\n",
       "      <th></th>\n",
       "      <th>id</th>\n",
       "      <th>sentiment</th>\n",
       "    </tr>\n",
       "  </thead>\n",
       "  <tbody>\n",
       "    <tr>\n",
       "      <th>0</th>\n",
       "      <td>0</td>\n",
       "      <td>neutral</td>\n",
       "    </tr>\n",
       "    <tr>\n",
       "      <th>1</th>\n",
       "      <td>1</td>\n",
       "      <td>positive</td>\n",
       "    </tr>\n",
       "    <tr>\n",
       "      <th>2</th>\n",
       "      <td>2</td>\n",
       "      <td>negative</td>\n",
       "    </tr>\n",
       "    <tr>\n",
       "      <th>3</th>\n",
       "      <td>3</td>\n",
       "      <td>positive</td>\n",
       "    </tr>\n",
       "    <tr>\n",
       "      <th>4</th>\n",
       "      <td>4</td>\n",
       "      <td>neutral</td>\n",
       "    </tr>\n",
       "  </tbody>\n",
       "</table>\n",
       "</div>"
      ],
      "text/plain": [
       "   id sentiment\n",
       "0   0   neutral\n",
       "1   1  positive\n",
       "2   2  negative\n",
       "3   3  positive\n",
       "4   4   neutral"
      ]
     },
     "execution_count": 130,
     "metadata": {},
     "output_type": "execute_result"
    }
   ],
   "source": [
    "pd.read_csv('data/sample.csv')"
   ]
  },
  {
   "cell_type": "code",
   "execution_count": 174,
   "id": "7d3fbdcd",
   "metadata": {},
   "outputs": [
    {
     "data": {
      "text/html": [
       "<div>\n",
       "<style scoped>\n",
       "    .dataframe tbody tr th:only-of-type {\n",
       "        vertical-align: middle;\n",
       "    }\n",
       "\n",
       "    .dataframe tbody tr th {\n",
       "        vertical-align: top;\n",
       "    }\n",
       "\n",
       "    .dataframe thead th {\n",
       "        text-align: right;\n",
       "    }\n",
       "</style>\n",
       "<table border=\"1\" class=\"dataframe\">\n",
       "  <thead>\n",
       "    <tr style=\"text-align: right;\">\n",
       "      <th></th>\n",
       "      <th>text</th>\n",
       "      <th>id</th>\n",
       "      <th>tokenized</th>\n",
       "      <th>sentiment</th>\n",
       "    </tr>\n",
       "  </thead>\n",
       "  <tbody>\n",
       "    <tr>\n",
       "      <th>0</th>\n",
       "      <td>Как сообщает пресс-служба акимата Алматы, для ...</td>\n",
       "      <td>0</td>\n",
       "      <td>сообщать пресс-служба акимат алматы ликвидиция...</td>\n",
       "      <td>positive</td>\n",
       "    </tr>\n",
       "    <tr>\n",
       "      <th>1</th>\n",
       "      <td>Казахстанские авиакомпании перевозят 250 тысяч...</td>\n",
       "      <td>1</td>\n",
       "      <td>казахстанский авиакомпания перевозить 250 тыся...</td>\n",
       "      <td>positive</td>\n",
       "    </tr>\n",
       "    <tr>\n",
       "      <th>2</th>\n",
       "      <td>На состоявшемся под председательством Касым-Жо...</td>\n",
       "      <td>2</td>\n",
       "      <td>состояться председательство касым жомарт токае...</td>\n",
       "      <td>neutral</td>\n",
       "    </tr>\n",
       "    <tr>\n",
       "      <th>3</th>\n",
       "      <td>В ОАЭ состоялись переговоры между казахстанско...</td>\n",
       "      <td>3</td>\n",
       "      <td>оаэ состояться переговоры казахстанский эмират...</td>\n",
       "      <td>positive</td>\n",
       "    </tr>\n",
       "    <tr>\n",
       "      <th>4</th>\n",
       "      <td>12 вагонов грузового поезда сошли с путей в Во...</td>\n",
       "      <td>4</td>\n",
       "      <td>12 вагон грузовой поезд сходить путь восточный...</td>\n",
       "      <td>negative</td>\n",
       "    </tr>\n",
       "  </tbody>\n",
       "</table>\n",
       "</div>"
      ],
      "text/plain": [
       "                                                text  id  \\\n",
       "0  Как сообщает пресс-служба акимата Алматы, для ...   0   \n",
       "1  Казахстанские авиакомпании перевозят 250 тысяч...   1   \n",
       "2  На состоявшемся под председательством Касым-Жо...   2   \n",
       "3  В ОАЭ состоялись переговоры между казахстанско...   3   \n",
       "4  12 вагонов грузового поезда сошли с путей в Во...   4   \n",
       "\n",
       "                                           tokenized sentiment  \n",
       "0  сообщать пресс-служба акимат алматы ликвидиция...  positive  \n",
       "1  казахстанский авиакомпания перевозить 250 тыся...  positive  \n",
       "2  состояться председательство касым жомарт токае...   neutral  \n",
       "3  оаэ состояться переговоры казахстанский эмират...  positive  \n",
       "4  12 вагон грузовой поезд сходить путь восточный...  negative  "
      ]
     },
     "execution_count": 174,
     "metadata": {},
     "output_type": "execute_result"
    }
   ],
   "source": [
    "test_df.head()"
   ]
  },
  {
   "cell_type": "code",
   "execution_count": null,
   "id": "181b6fdf",
   "metadata": {},
   "outputs": [],
   "source": [
    "test_df.sentiment = test_df.sentiment "
   ]
  },
  {
   "cell_type": "code",
   "execution_count": 173,
   "id": "37d4607d",
   "metadata": {},
   "outputs": [],
   "source": [
    "test_df['sentiment'] = le.inverse_transform(pred)"
   ]
  },
  {
   "cell_type": "code",
   "execution_count": 175,
   "id": "01579398",
   "metadata": {},
   "outputs": [],
   "source": [
    "sub = test_df[['id', 'sentiment']]"
   ]
  },
  {
   "cell_type": "code",
   "execution_count": 183,
   "id": "321da1cf",
   "metadata": {},
   "outputs": [],
   "source": [
    "sub.to_csv('data/submission_baseline.csv', index=False)"
   ]
  },
  {
   "cell_type": "code",
   "execution_count": 185,
   "id": "44233b48",
   "metadata": {},
   "outputs": [],
   "source": [
    "dff = pd.read_csv('data/submission_baseline.csv')"
   ]
  },
  {
   "cell_type": "code",
   "execution_count": 188,
   "id": "25d1ce96",
   "metadata": {
    "scrolled": false
   },
   "outputs": [
    {
     "data": {
      "text/plain": [
       "Index(['id', 'sentiment'], dtype='object')"
      ]
     },
     "execution_count": 188,
     "metadata": {},
     "output_type": "execute_result"
    }
   ],
   "source": [
    "pd.read_csv('data/submission_baseline.csv').columns"
   ]
  },
  {
   "cell_type": "code",
   "execution_count": 187,
   "id": "89d5a87d",
   "metadata": {
    "scrolled": true
   },
   "outputs": [
    {
     "data": {
      "text/plain": [
       "Index(['id', 'sentiment'], dtype='object')"
      ]
     },
     "execution_count": 187,
     "metadata": {},
     "output_type": "execute_result"
    }
   ],
   "source": [
    "pd.read_csv('data/sample.csv').columns"
   ]
  },
  {
   "cell_type": "code",
   "execution_count": 130,
   "id": "1c0f86ee",
   "metadata": {
    "scrolled": true
   },
   "outputs": [
    {
     "data": {
      "text/html": [
       "<div>\n",
       "<style scoped>\n",
       "    .dataframe tbody tr th:only-of-type {\n",
       "        vertical-align: middle;\n",
       "    }\n",
       "\n",
       "    .dataframe tbody tr th {\n",
       "        vertical-align: top;\n",
       "    }\n",
       "\n",
       "    .dataframe thead th {\n",
       "        text-align: right;\n",
       "    }\n",
       "</style>\n",
       "<table border=\"1\" class=\"dataframe\">\n",
       "  <thead>\n",
       "    <tr style=\"text-align: right;\">\n",
       "      <th></th>\n",
       "      <th>id</th>\n",
       "      <th>sentiment</th>\n",
       "    </tr>\n",
       "  </thead>\n",
       "  <tbody>\n",
       "    <tr>\n",
       "      <th>0</th>\n",
       "      <td>0</td>\n",
       "      <td>neutral</td>\n",
       "    </tr>\n",
       "    <tr>\n",
       "      <th>1</th>\n",
       "      <td>1</td>\n",
       "      <td>positive</td>\n",
       "    </tr>\n",
       "    <tr>\n",
       "      <th>2</th>\n",
       "      <td>2</td>\n",
       "      <td>negative</td>\n",
       "    </tr>\n",
       "    <tr>\n",
       "      <th>3</th>\n",
       "      <td>3</td>\n",
       "      <td>positive</td>\n",
       "    </tr>\n",
       "    <tr>\n",
       "      <th>4</th>\n",
       "      <td>4</td>\n",
       "      <td>neutral</td>\n",
       "    </tr>\n",
       "  </tbody>\n",
       "</table>\n",
       "</div>"
      ],
      "text/plain": [
       "   id sentiment\n",
       "0   0   neutral\n",
       "1   1  positive\n",
       "2   2  negative\n",
       "3   3  positive\n",
       "4   4   neutral"
      ]
     },
     "execution_count": 130,
     "metadata": {},
     "output_type": "execute_result"
    }
   ],
   "source": [
    "pd.read_csv('data/sample.csv')"
   ]
  },
  {
   "cell_type": "code",
   "execution_count": 192,
   "id": "03190128",
   "metadata": {},
   "outputs": [
    {
     "data": {
      "text/html": [
       "<div>\n",
       "<style scoped>\n",
       "    .dataframe tbody tr th:only-of-type {\n",
       "        vertical-align: middle;\n",
       "    }\n",
       "\n",
       "    .dataframe tbody tr th {\n",
       "        vertical-align: top;\n",
       "    }\n",
       "\n",
       "    .dataframe thead th {\n",
       "        text-align: right;\n",
       "    }\n",
       "</style>\n",
       "<table border=\"1\" class=\"dataframe\">\n",
       "  <thead>\n",
       "    <tr style=\"text-align: right;\">\n",
       "      <th></th>\n",
       "      <th>id</th>\n",
       "      <th>sentiment</th>\n",
       "    </tr>\n",
       "  </thead>\n",
       "  <tbody>\n",
       "    <tr>\n",
       "      <th>0</th>\n",
       "      <td>0</td>\n",
       "      <td>positive</td>\n",
       "    </tr>\n",
       "    <tr>\n",
       "      <th>1</th>\n",
       "      <td>1</td>\n",
       "      <td>positive</td>\n",
       "    </tr>\n",
       "    <tr>\n",
       "      <th>2</th>\n",
       "      <td>2</td>\n",
       "      <td>neutral</td>\n",
       "    </tr>\n",
       "    <tr>\n",
       "      <th>3</th>\n",
       "      <td>3</td>\n",
       "      <td>positive</td>\n",
       "    </tr>\n",
       "    <tr>\n",
       "      <th>4</th>\n",
       "      <td>4</td>\n",
       "      <td>negative</td>\n",
       "    </tr>\n",
       "  </tbody>\n",
       "</table>\n",
       "</div>"
      ],
      "text/plain": [
       "   id sentiment\n",
       "0   0  positive\n",
       "1   1  positive\n",
       "2   2   neutral\n",
       "3   3  positive\n",
       "4   4  negative"
      ]
     },
     "execution_count": 192,
     "metadata": {},
     "output_type": "execute_result"
    }
   ],
   "source": [
    "sub.head()"
   ]
  },
  {
   "cell_type": "code",
   "execution_count": 195,
   "id": "a7f9cb38",
   "metadata": {},
   "outputs": [
    {
     "data": {
      "text/plain": [
       "array(['positive', 'positive', 'neutral', ..., 'neutral', 'neutral',\n",
       "       'neutral'], dtype=object)"
      ]
     },
     "execution_count": 195,
     "metadata": {},
     "output_type": "execute_result"
    }
   ],
   "source": [
    "le.inverse_transform(pred)"
   ]
  },
  {
   "cell_type": "code",
   "execution_count": null,
   "id": "705ce3f9",
   "metadata": {},
   "outputs": [],
   "source": [
    "sub_pred = softmax.predict(tfidf.transform([i['text'] for i in raw_test]))\n",
    "sub_df = pd.DataFrame()\n",
    "sub_df['id'] =  [i['id'] for i in raw_test]\n",
    "sub_df['sentiment'] = sub_pred"
   ]
  },
  {
   "cell_type": "code",
   "execution_count": 196,
   "id": "2e3f8527",
   "metadata": {},
   "outputs": [
    {
     "ename": "TypeError",
     "evalue": "string indices must be integers",
     "output_type": "error",
     "traceback": [
      "\u001b[0;31m---------------------------------------------------------------------------\u001b[0m",
      "\u001b[0;31mTypeError\u001b[0m                                 Traceback (most recent call last)",
      "\u001b[0;32m/var/folders/fd/cm279m5n6gzdgpvph9kzc6200000gn/T/ipykernel_32165/3303876440.py\u001b[0m in \u001b[0;36m<module>\u001b[0;34m\u001b[0m\n\u001b[1;32m      1\u001b[0m \u001b[0msub_df\u001b[0m \u001b[0;34m=\u001b[0m \u001b[0mpd\u001b[0m\u001b[0;34m.\u001b[0m\u001b[0mDataFrame\u001b[0m\u001b[0;34m(\u001b[0m\u001b[0;34m)\u001b[0m\u001b[0;34m\u001b[0m\u001b[0;34m\u001b[0m\u001b[0m\n\u001b[0;32m----> 2\u001b[0;31m \u001b[0msub_df\u001b[0m\u001b[0;34m[\u001b[0m\u001b[0;34m'id'\u001b[0m\u001b[0;34m]\u001b[0m \u001b[0;34m=\u001b[0m  \u001b[0;34m[\u001b[0m\u001b[0mi\u001b[0m\u001b[0;34m[\u001b[0m\u001b[0;34m'id'\u001b[0m\u001b[0;34m]\u001b[0m \u001b[0;32mfor\u001b[0m \u001b[0mi\u001b[0m \u001b[0;32min\u001b[0m \u001b[0mtest_df\u001b[0m\u001b[0;34m]\u001b[0m\u001b[0;34m\u001b[0m\u001b[0;34m\u001b[0m\u001b[0m\n\u001b[0m",
      "\u001b[0;32m/var/folders/fd/cm279m5n6gzdgpvph9kzc6200000gn/T/ipykernel_32165/3303876440.py\u001b[0m in \u001b[0;36m<listcomp>\u001b[0;34m(.0)\u001b[0m\n\u001b[1;32m      1\u001b[0m \u001b[0msub_df\u001b[0m \u001b[0;34m=\u001b[0m \u001b[0mpd\u001b[0m\u001b[0;34m.\u001b[0m\u001b[0mDataFrame\u001b[0m\u001b[0;34m(\u001b[0m\u001b[0;34m)\u001b[0m\u001b[0;34m\u001b[0m\u001b[0;34m\u001b[0m\u001b[0m\n\u001b[0;32m----> 2\u001b[0;31m \u001b[0msub_df\u001b[0m\u001b[0;34m[\u001b[0m\u001b[0;34m'id'\u001b[0m\u001b[0;34m]\u001b[0m \u001b[0;34m=\u001b[0m  \u001b[0;34m[\u001b[0m\u001b[0mi\u001b[0m\u001b[0;34m[\u001b[0m\u001b[0;34m'id'\u001b[0m\u001b[0;34m]\u001b[0m \u001b[0;32mfor\u001b[0m \u001b[0mi\u001b[0m \u001b[0;32min\u001b[0m \u001b[0mtest_df\u001b[0m\u001b[0;34m]\u001b[0m\u001b[0;34m\u001b[0m\u001b[0;34m\u001b[0m\u001b[0m\n\u001b[0m",
      "\u001b[0;31mTypeError\u001b[0m: string indices must be integers"
     ]
    }
   ],
   "source": [
    "sub_df = pd.DataFrame()\n",
    "sub_df['id'] =  [i['id'] for i in test_df]"
   ]
  },
  {
   "cell_type": "code",
   "execution_count": 199,
   "id": "ee918ed7",
   "metadata": {},
   "outputs": [],
   "source": [
    "test_df[['id', 'sentiment']].to_csv('tf_idf_log_reg.csv', index=False)"
   ]
  },
  {
   "cell_type": "code",
   "execution_count": null,
   "id": "0fff7941",
   "metadata": {},
   "outputs": [],
   "source": [
    "print('accuracy', np.round(accuracy_score(y_holdout, lg.predict(X_holout)),3)) #качество на тесте\n",
    "print('f1', np.round(f1_score(y_holdout, lg.predict(X_holout)),2)) #качество на тесте\n",
    "print('roc_auc', np.round(roc_auc_score(y_holdout, lg.predict_proba(X_holout)[:,1]),3)) #качество на тесте\n",
    "print('mcc',  np.round(matthews_corrcoef(y_holdout, lg.predict(X_holout)),3))"
   ]
  },
  {
   "cell_type": "code",
   "execution_count": 1,
   "id": "3e93a445",
   "metadata": {},
   "outputs": [
    {
     "ename": "NameError",
     "evalue": "name 'classification_report' is not defined",
     "output_type": "error",
     "traceback": [
      "\u001b[0;31m---------------------------------------------------------------------------\u001b[0m",
      "\u001b[0;31mNameError\u001b[0m                                 Traceback (most recent call last)",
      "\u001b[0;32m/var/folders/fd/cm279m5n6gzdgpvph9kzc6200000gn/T/ipykernel_37157/3329441823.py\u001b[0m in \u001b[0;36m<module>\u001b[0;34m\u001b[0m\n\u001b[0;32m----> 1\u001b[0;31m \u001b[0mprint\u001b[0m\u001b[0;34m(\u001b[0m\u001b[0mclassification_report\u001b[0m\u001b[0;34m(\u001b[0m\u001b[0my_test\u001b[0m\u001b[0;34m,\u001b[0m \u001b[0mlg\u001b[0m\u001b[0;34m.\u001b[0m\u001b[0mpredict\u001b[0m\u001b[0;34m(\u001b[0m\u001b[0mX_test\u001b[0m\u001b[0;34m)\u001b[0m\u001b[0;34m)\u001b[0m\u001b[0;34m)\u001b[0m \u001b[0;31m#качество на тесте\u001b[0m\u001b[0;34m\u001b[0m\u001b[0;34m\u001b[0m\u001b[0m\n\u001b[0m",
      "\u001b[0;31mNameError\u001b[0m: name 'classification_report' is not defined"
     ]
    }
   ],
   "source": [
    "print(classification_report(y_test, lg.predict(X_test))) #качество на тесте"
   ]
  },
  {
   "cell_type": "code",
   "execution_count": null,
   "id": "61b1d77e",
   "metadata": {},
   "outputs": [],
   "source": []
  }
 ],
 "metadata": {
  "kernelspec": {
   "display_name": "Python 3 (ipykernel)",
   "language": "python",
   "name": "python3"
  },
  "language_info": {
   "codemirror_mode": {
    "name": "ipython",
    "version": 3
   },
   "file_extension": ".py",
   "mimetype": "text/x-python",
   "name": "python",
   "nbconvert_exporter": "python",
   "pygments_lexer": "ipython3",
   "version": "3.9.7"
  }
 },
 "nbformat": 4,
 "nbformat_minor": 5
}
