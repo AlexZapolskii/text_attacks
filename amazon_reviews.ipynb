{
 "cells": [
  {
   "cell_type": "code",
   "execution_count": null,
   "id": "7dc941b4",
   "metadata": {},
   "outputs": [],
   "source": [
    "Проведем те же манипуляции с датасетом amazon product review"
   ]
  },
  {
   "cell_type": "code",
   "execution_count": null,
   "id": "c4149141",
   "metadata": {},
   "outputs": [],
   "source": [
    "Таким образом у нас будут датасеты на английском:\n",
    "    - 20newsGroups\n",
    "    - CoLA\n",
    "    - Amazon Product Reviews\n",
    "    \n",
    "На русском:\n",
    "    - news sentiment analysis in Russian"
   ]
  },
  {
   "cell_type": "code",
   "execution_count": null,
   "id": "5aaef3b4",
   "metadata": {},
   "outputs": [],
   "source": [
    "Модели, которые мы рассматриваем:\n",
    "    - лог рег на тф-идф\n",
    "    - БЕРТ английский, мультиязычный, русский\n",
    "    \n",
    "Атаки: \n",
    "    - BAE, TextFooler (нужны русские эмбеддинги, чтобы запустить на русском(аналог Glove))"
   ]
  },
  {
   "cell_type": "code",
   "execution_count": null,
   "id": "07e82c50",
   "metadata": {},
   "outputs": [],
   "source": [
    "Уточнение насчет данных:\n",
    "    2 датасета на язык \n",
    "    - общий домен и специфический домен!"
   ]
  },
  {
   "cell_type": "markdown",
   "id": "db5cc013",
   "metadata": {},
   "source": [
    "## Amazon product review"
   ]
  },
  {
   "cell_type": "code",
   "execution_count": 8,
   "id": "6d1042e7",
   "metadata": {},
   "outputs": [],
   "source": [
    "import pandas as pd\n",
    "import seaborn as sns\n",
    "\n",
    "from sklearn.feature_extraction.text import TfidfVectorizer\n",
    "\n",
    "from sklearn.model_selection import train_test_split\n",
    "from sklearn.preprocessing import LabelEncoder\n",
    "\n",
    "from sklearn.linear_model import LogisticRegression\n",
    "\n",
    "from sklearn.metrics import classification_report"
   ]
  },
  {
   "cell_type": "code",
   "execution_count": null,
   "id": "e7d30f55",
   "metadata": {},
   "outputs": [],
   "source": [
    "ссылка на датасет:\n",
    "    https://www.kaggle.com/c/amazon-pet-product-reviews-classification"
   ]
  },
  {
   "cell_type": "code",
   "execution_count": 10,
   "id": "0c999c57",
   "metadata": {},
   "outputs": [
    {
     "name": "stdout",
     "output_type": "stream",
     "text": [
      "amazon-pet-product-reviews-classification (3).zip\r\n",
      "sample_submission.csv\r\n",
      "test.csv\r\n",
      "train.csv\r\n",
      "unlabeled.csv\r\n",
      "valid.csv\r\n"
     ]
    }
   ],
   "source": [
    "# Загрузим данные\n",
    "\n",
    "!ls data/amazon/"
   ]
  },
  {
   "cell_type": "code",
   "execution_count": 11,
   "id": "84dfcd34",
   "metadata": {},
   "outputs": [
    {
     "data": {
      "text/plain": [
       "'/Users/alexeyzapolskii/Desktop/Local_adversarial_folder/text_attacks'"
      ]
     },
     "execution_count": 11,
     "metadata": {},
     "output_type": "execute_result"
    }
   ],
   "source": [
    "pwd"
   ]
  },
  {
   "cell_type": "code",
   "execution_count": 12,
   "id": "7c3a3aec",
   "metadata": {},
   "outputs": [],
   "source": [
    "# to reproduce, download the data and customize this path\n",
    "PATH_TO_DATA = 'data/amazon/'"
   ]
  },
  {
   "cell_type": "code",
   "execution_count": 13,
   "id": "9f9961ad",
   "metadata": {},
   "outputs": [],
   "source": [
    "train_df = pd.read_csv(PATH_TO_DATA + 'train.csv', index_col='id').fillna('')\n",
    "valid_df = pd.read_csv(PATH_TO_DATA + 'valid.csv', index_col='id').fillna('')\n",
    "test_df = pd.read_csv(PATH_TO_DATA + 'test.csv', index_col='id').fillna('')"
   ]
  },
  {
   "cell_type": "code",
   "execution_count": 14,
   "id": "042e408e",
   "metadata": {},
   "outputs": [
    {
     "data": {
      "text/plain": [
       "((52057, 2), (17353, 2), (17353, 1))"
      ]
     },
     "execution_count": 14,
     "metadata": {},
     "output_type": "execute_result"
    }
   ],
   "source": [
    "train_df.shape, valid_df.shape, test_df.shape"
   ]
  },
  {
   "cell_type": "code",
   "execution_count": null,
   "id": "d68530bd",
   "metadata": {},
   "outputs": [],
   "source": [
    "52k в трейне, 17к в валидац и 17к в тесте"
   ]
  },
  {
   "cell_type": "code",
   "execution_count": 15,
   "id": "1cb878c8",
   "metadata": {},
   "outputs": [
    {
     "data": {
      "text/html": [
       "<div>\n",
       "<style scoped>\n",
       "    .dataframe tbody tr th:only-of-type {\n",
       "        vertical-align: middle;\n",
       "    }\n",
       "\n",
       "    .dataframe tbody tr th {\n",
       "        vertical-align: top;\n",
       "    }\n",
       "\n",
       "    .dataframe thead th {\n",
       "        text-align: right;\n",
       "    }\n",
       "</style>\n",
       "<table border=\"1\" class=\"dataframe\">\n",
       "  <thead>\n",
       "    <tr style=\"text-align: right;\">\n",
       "      <th></th>\n",
       "      <th>text</th>\n",
       "      <th>label</th>\n",
       "    </tr>\n",
       "    <tr>\n",
       "      <th>id</th>\n",
       "      <th></th>\n",
       "      <th></th>\n",
       "    </tr>\n",
       "  </thead>\n",
       "  <tbody>\n",
       "    <tr>\n",
       "      <th>0</th>\n",
       "      <td>Sam has an everlast treat each nite before bed...</td>\n",
       "      <td>dogs</td>\n",
       "    </tr>\n",
       "    <tr>\n",
       "      <th>1</th>\n",
       "      <td>The product is as it says. I keep an eye on it...</td>\n",
       "      <td>dogs</td>\n",
       "    </tr>\n",
       "    <tr>\n",
       "      <th>2</th>\n",
       "      <td>My Kitty thinks these are treats! He loves the...</td>\n",
       "      <td>dogs</td>\n",
       "    </tr>\n",
       "    <tr>\n",
       "      <th>3</th>\n",
       "      <td>This is the third or fourth time that we've or...</td>\n",
       "      <td>dogs</td>\n",
       "    </tr>\n",
       "    <tr>\n",
       "      <th>4</th>\n",
       "      <td>Put this on both my dogs. And they are scratch...</td>\n",
       "      <td>dogs</td>\n",
       "    </tr>\n",
       "  </tbody>\n",
       "</table>\n",
       "</div>"
      ],
      "text/plain": [
       "                                                 text label\n",
       "id                                                         \n",
       "0   Sam has an everlast treat each nite before bed...  dogs\n",
       "1   The product is as it says. I keep an eye on it...  dogs\n",
       "2   My Kitty thinks these are treats! He loves the...  dogs\n",
       "3   This is the third or fourth time that we've or...  dogs\n",
       "4   Put this on both my dogs. And they are scratch...  dogs"
      ]
     },
     "execution_count": 15,
     "metadata": {},
     "output_type": "execute_result"
    }
   ],
   "source": [
    "train_df.head() #только две колонки - текст и лейбл"
   ]
  },
  {
   "cell_type": "code",
   "execution_count": 16,
   "id": "172e6963",
   "metadata": {},
   "outputs": [
    {
     "data": {
      "text/plain": [
       "'!\"#$%&\\'()*+,-./:;<=>?@[\\\\]^_`{|}~'"
      ]
     },
     "execution_count": 16,
     "metadata": {},
     "output_type": "execute_result"
    }
   ],
   "source": [
    "#Stop words present in the library\n",
    "\n",
    "from nltk.corpus import stopwords\n",
    "from pymystem3 import Mystem\n",
    "import nltk\n",
    "from nltk.corpus import stopwords\n",
    "#print(stopwords.words('english'))\n",
    "\n",
    "#library that contains punctuation\n",
    "import string\n",
    "string.punctuation"
   ]
  },
  {
   "cell_type": "code",
   "execution_count": 17,
   "id": "a8be389e",
   "metadata": {},
   "outputs": [],
   "source": [
    "#Create lemmatizer and stopwords list\n",
    "mystem = Mystem() \n",
    "stopwords = stopwords.words(\"english\")\n",
    "\n",
    "#Preprocess function\n",
    "def preprocess_text(text):\n",
    "    tokens = mystem.lemmatize(text.lower())\n",
    "    tokens = [token for token in tokens if token not in stopwords\\\n",
    "              and token != \" \" \\\n",
    "              and token.strip() not in string.punctuation]\n",
    "    \n",
    "    text = \" \".join(tokens)\n",
    "    \n",
    "    return text"
   ]
  },
  {
   "cell_type": "code",
   "execution_count": 22,
   "id": "71bc6131",
   "metadata": {},
   "outputs": [
    {
     "name": "stdout",
     "output_type": "stream",
     "text": [
      "Sam has an everlast treat each nite before bed, like a good tooth brushing. The only downside is finding a place that keeps them in stock as well as multiple flavors.\n"
     ]
    }
   ],
   "source": [
    "print(train_df.head().text[0])"
   ]
  },
  {
   "cell_type": "code",
   "execution_count": 23,
   "id": "8d18691d",
   "metadata": {},
   "outputs": [
    {
     "name": "stdout",
     "output_type": "stream",
     "text": [
      "sam everlast treat nite bed like good tooth brushing downside finding place keeps stock well multiple flavors\n"
     ]
    }
   ],
   "source": [
    "print(preprocess_text(train_df.head().text[0]))"
   ]
  },
  {
   "cell_type": "code",
   "execution_count": 24,
   "id": "0a9c0d6b",
   "metadata": {},
   "outputs": [
    {
     "data": {
      "text/html": [
       "<div>\n",
       "<style scoped>\n",
       "    .dataframe tbody tr th:only-of-type {\n",
       "        vertical-align: middle;\n",
       "    }\n",
       "\n",
       "    .dataframe tbody tr th {\n",
       "        vertical-align: top;\n",
       "    }\n",
       "\n",
       "    .dataframe thead th {\n",
       "        text-align: right;\n",
       "    }\n",
       "</style>\n",
       "<table border=\"1\" class=\"dataframe\">\n",
       "  <thead>\n",
       "    <tr style=\"text-align: right;\">\n",
       "      <th></th>\n",
       "      <th>text</th>\n",
       "      <th>label</th>\n",
       "    </tr>\n",
       "    <tr>\n",
       "      <th>id</th>\n",
       "      <th></th>\n",
       "      <th></th>\n",
       "    </tr>\n",
       "  </thead>\n",
       "  <tbody>\n",
       "    <tr>\n",
       "      <th>0</th>\n",
       "      <td>Sam has an everlast treat each nite before bed...</td>\n",
       "      <td>dogs</td>\n",
       "    </tr>\n",
       "    <tr>\n",
       "      <th>1</th>\n",
       "      <td>The product is as it says. I keep an eye on it...</td>\n",
       "      <td>dogs</td>\n",
       "    </tr>\n",
       "    <tr>\n",
       "      <th>2</th>\n",
       "      <td>My Kitty thinks these are treats! He loves the...</td>\n",
       "      <td>dogs</td>\n",
       "    </tr>\n",
       "    <tr>\n",
       "      <th>3</th>\n",
       "      <td>This is the third or fourth time that we've or...</td>\n",
       "      <td>dogs</td>\n",
       "    </tr>\n",
       "    <tr>\n",
       "      <th>4</th>\n",
       "      <td>Put this on both my dogs. And they are scratch...</td>\n",
       "      <td>dogs</td>\n",
       "    </tr>\n",
       "  </tbody>\n",
       "</table>\n",
       "</div>"
      ],
      "text/plain": [
       "                                                 text label\n",
       "id                                                         \n",
       "0   Sam has an everlast treat each nite before bed...  dogs\n",
       "1   The product is as it says. I keep an eye on it...  dogs\n",
       "2   My Kitty thinks these are treats! He loves the...  dogs\n",
       "3   This is the third or fourth time that we've or...  dogs\n",
       "4   Put this on both my dogs. And they are scratch...  dogs"
      ]
     },
     "execution_count": 24,
     "metadata": {},
     "output_type": "execute_result"
    }
   ],
   "source": [
    "train_df.head()"
   ]
  },
  {
   "cell_type": "code",
   "execution_count": 25,
   "id": "3d1831dc",
   "metadata": {},
   "outputs": [],
   "source": [
    "X = train_df.text.apply(lambda x: preprocess_text(x))\n",
    "y = train_df.label\n"
   ]
  },
  {
   "cell_type": "code",
   "execution_count": 26,
   "id": "249ca8ae",
   "metadata": {},
   "outputs": [
    {
     "data": {
      "text/plain": [
       "((52057,), (52057,))"
      ]
     },
     "execution_count": 26,
     "metadata": {},
     "output_type": "execute_result"
    }
   ],
   "source": [
    "X.shape, y.shape"
   ]
  },
  {
   "cell_type": "code",
   "execution_count": 28,
   "id": "61877aa3",
   "metadata": {},
   "outputs": [],
   "source": [
    "X_train, X_test, y_train, y_test = train_test_split(X, y, test_size=0.33, random_state=42)"
   ]
  },
  {
   "cell_type": "code",
   "execution_count": 29,
   "id": "f3051961",
   "metadata": {},
   "outputs": [],
   "source": [
    "vectoriser = TfidfVectorizer()\n",
    "\n",
    "X_train = vectoriser.fit_transform(X_train)\n",
    "# Convert sparse matrix to dataframe\n",
    "#X_train = pd.DataFrame.sparse.from_spmatrix(X_train)\n",
    "\n",
    "# Transform to feature matrix\n",
    "X_test = vectoriser.transform(X_test)\n",
    "# Convert sparse matrix to dataframe\n",
    "#X_test = pd.DataFrame.sparse.from_spmatrix(X_test)\n",
    "# Add column names to make it more readible\n",
    "\n"
   ]
  },
  {
   "cell_type": "code",
   "execution_count": 30,
   "id": "94103cca",
   "metadata": {},
   "outputs": [
    {
     "data": {
      "text/plain": [
       "((34878, 34282), (17179, 34282))"
      ]
     },
     "execution_count": 30,
     "metadata": {},
     "output_type": "execute_result"
    }
   ],
   "source": [
    "X_train.shape, X_test.shape"
   ]
  },
  {
   "cell_type": "code",
   "execution_count": 31,
   "id": "3d92356d",
   "metadata": {},
   "outputs": [],
   "source": [
    "lg = LogisticRegression(max_iter=10000)"
   ]
  },
  {
   "cell_type": "code",
   "execution_count": 32,
   "id": "0b9c608f",
   "metadata": {},
   "outputs": [
    {
     "data": {
      "text/plain": [
       "LogisticRegression(max_iter=10000)"
      ]
     },
     "execution_count": 32,
     "metadata": {},
     "output_type": "execute_result"
    }
   ],
   "source": [
    "lg.fit(X_train, y_train) # сошлось"
   ]
  },
  {
   "cell_type": "code",
   "execution_count": 33,
   "id": "8ec266ce",
   "metadata": {},
   "outputs": [
    {
     "name": "stdout",
     "output_type": "stream",
     "text": [
      "                      precision    recall  f1-score   support\n",
      "\n",
      "               birds       0.88      0.55      0.68       342\n",
      "bunny rabbit central       0.69      0.31      0.43       192\n",
      "                cats       0.82      0.75      0.78      6032\n",
      "                dogs       0.82      0.91      0.86      9278\n",
      "   fish aquatic pets       0.97      0.78      0.87      1218\n",
      "       small animals       0.64      0.18      0.28       117\n",
      "\n",
      "            accuracy                           0.83     17179\n",
      "           macro avg       0.80      0.58      0.65     17179\n",
      "        weighted avg       0.83      0.83      0.82     17179\n",
      "\n"
     ]
    }
   ],
   "source": [
    "# лемматизация\n",
    "\n",
    "print(classification_report(y_test, lg.predict(X_test))) #качество на тесте"
   ]
  },
  {
   "cell_type": "code",
   "execution_count": 35,
   "id": "ced54eda",
   "metadata": {},
   "outputs": [
    {
     "data": {
      "text/html": [
       "<div>\n",
       "<style scoped>\n",
       "    .dataframe tbody tr th:only-of-type {\n",
       "        vertical-align: middle;\n",
       "    }\n",
       "\n",
       "    .dataframe tbody tr th {\n",
       "        vertical-align: top;\n",
       "    }\n",
       "\n",
       "    .dataframe thead th {\n",
       "        text-align: right;\n",
       "    }\n",
       "</style>\n",
       "<table border=\"1\" class=\"dataframe\">\n",
       "  <thead>\n",
       "    <tr style=\"text-align: right;\">\n",
       "      <th></th>\n",
       "      <th>text</th>\n",
       "    </tr>\n",
       "    <tr>\n",
       "      <th>id</th>\n",
       "      <th></th>\n",
       "    </tr>\n",
       "  </thead>\n",
       "  <tbody>\n",
       "    <tr>\n",
       "      <th>0</th>\n",
       "      <td>Great Filter. I have always used Marineland fi...</td>\n",
       "    </tr>\n",
       "    <tr>\n",
       "      <th>1</th>\n",
       "      <td>This is a great item. My elderly dog loves it....</td>\n",
       "    </tr>\n",
       "    <tr>\n",
       "      <th>2</th>\n",
       "      <td>I have a shep/akita mix, but I bought this mor...</td>\n",
       "    </tr>\n",
       "    <tr>\n",
       "      <th>3</th>\n",
       "      <td>I'm always amazed by what is available on Amaz...</td>\n",
       "    </tr>\n",
       "    <tr>\n",
       "      <th>4</th>\n",
       "      <td>I have 2 Abyssinians who will use any litterbo...</td>\n",
       "    </tr>\n",
       "  </tbody>\n",
       "</table>\n",
       "</div>"
      ],
      "text/plain": [
       "                                                 text\n",
       "id                                                   \n",
       "0   Great Filter. I have always used Marineland fi...\n",
       "1   This is a great item. My elderly dog loves it....\n",
       "2   I have a shep/akita mix, but I bought this mor...\n",
       "3   I'm always amazed by what is available on Amaz...\n",
       "4   I have 2 Abyssinians who will use any litterbo..."
      ]
     },
     "execution_count": 35,
     "metadata": {},
     "output_type": "execute_result"
    }
   ],
   "source": [
    "test_df.head()"
   ]
  },
  {
   "cell_type": "code",
   "execution_count": 36,
   "id": "bd6927ed",
   "metadata": {},
   "outputs": [],
   "source": [
    "X_holdout = test_df.text.apply(lambda x: preprocess_text(x))\n"
   ]
  },
  {
   "cell_type": "code",
   "execution_count": 37,
   "id": "ca440fc6",
   "metadata": {},
   "outputs": [],
   "source": [
    "X_holdout = vectoriser.transform(X_holdout)\n",
    "\n"
   ]
  },
  {
   "cell_type": "code",
   "execution_count": 38,
   "id": "f26d01f8",
   "metadata": {},
   "outputs": [],
   "source": [
    "pred = lg.predict(X_holdout)"
   ]
  },
  {
   "cell_type": "code",
   "execution_count": 40,
   "id": "21810f5e",
   "metadata": {},
   "outputs": [
    {
     "data": {
      "text/plain": [
       "((17353,), (17353, 34282))"
      ]
     },
     "execution_count": 40,
     "metadata": {},
     "output_type": "execute_result"
    }
   ],
   "source": [
    "pred.shape, X_holdout.shape"
   ]
  },
  {
   "cell_type": "code",
   "execution_count": 42,
   "id": "96c99142",
   "metadata": {},
   "outputs": [
    {
     "name": "stdout",
     "output_type": "stream",
     "text": [
      "amazon-pet-product-reviews-classification (3).zip\r\n",
      "sample_submission.csv\r\n",
      "test.csv\r\n",
      "train.csv\r\n",
      "unlabeled.csv\r\n",
      "valid.csv\r\n"
     ]
    }
   ],
   "source": [
    "!ls data/amazon/"
   ]
  },
  {
   "cell_type": "code",
   "execution_count": 43,
   "id": "85271b8f",
   "metadata": {},
   "outputs": [],
   "source": [
    "sample_sub_df = pd.read_csv(PATH_TO_DATA + 'sample_submission.csv',\n",
    "                           index_col='id')"
   ]
  },
  {
   "cell_type": "code",
   "execution_count": 46,
   "id": "203f112e",
   "metadata": {},
   "outputs": [
    {
     "data": {
      "text/html": [
       "<div>\n",
       "<style scoped>\n",
       "    .dataframe tbody tr th:only-of-type {\n",
       "        vertical-align: middle;\n",
       "    }\n",
       "\n",
       "    .dataframe tbody tr th {\n",
       "        vertical-align: top;\n",
       "    }\n",
       "\n",
       "    .dataframe thead th {\n",
       "        text-align: right;\n",
       "    }\n",
       "</style>\n",
       "<table border=\"1\" class=\"dataframe\">\n",
       "  <thead>\n",
       "    <tr style=\"text-align: right;\">\n",
       "      <th></th>\n",
       "      <th>label</th>\n",
       "    </tr>\n",
       "    <tr>\n",
       "      <th>id</th>\n",
       "      <th></th>\n",
       "    </tr>\n",
       "  </thead>\n",
       "  <tbody>\n",
       "    <tr>\n",
       "      <th>0</th>\n",
       "      <td>fish aquatic pets</td>\n",
       "    </tr>\n",
       "    <tr>\n",
       "      <th>1</th>\n",
       "      <td>dogs</td>\n",
       "    </tr>\n",
       "    <tr>\n",
       "      <th>2</th>\n",
       "      <td>dogs</td>\n",
       "    </tr>\n",
       "    <tr>\n",
       "      <th>3</th>\n",
       "      <td>dogs</td>\n",
       "    </tr>\n",
       "    <tr>\n",
       "      <th>4</th>\n",
       "      <td>cats</td>\n",
       "    </tr>\n",
       "  </tbody>\n",
       "</table>\n",
       "</div>"
      ],
      "text/plain": [
       "                label\n",
       "id                   \n",
       "0   fish aquatic pets\n",
       "1                dogs\n",
       "2                dogs\n",
       "3                dogs\n",
       "4                cats"
      ]
     },
     "execution_count": 46,
     "metadata": {},
     "output_type": "execute_result"
    }
   ],
   "source": [
    "sample_sub_df.head()"
   ]
  },
  {
   "cell_type": "code",
   "execution_count": 45,
   "id": "f53ad009",
   "metadata": {},
   "outputs": [],
   "source": [
    "sample_sub_df['label'] = pred\n"
   ]
  },
  {
   "cell_type": "code",
   "execution_count": 47,
   "id": "a7f864d7",
   "metadata": {},
   "outputs": [],
   "source": [
    "sample_sub_df.to_csv('tf-idf-zapolskii.csv')"
   ]
  },
  {
   "cell_type": "code",
   "execution_count": null,
   "id": "21c3d0f0",
   "metadata": {},
   "outputs": [],
   "source": []
  }
 ],
 "metadata": {
  "kernelspec": {
   "display_name": "Python 3 (ipykernel)",
   "language": "python",
   "name": "python3"
  },
  "language_info": {
   "codemirror_mode": {
    "name": "ipython",
    "version": 3
   },
   "file_extension": ".py",
   "mimetype": "text/x-python",
   "name": "python",
   "nbconvert_exporter": "python",
   "pygments_lexer": "ipython3",
   "version": "3.9.7"
  }
 },
 "nbformat": 4,
 "nbformat_minor": 5
}
