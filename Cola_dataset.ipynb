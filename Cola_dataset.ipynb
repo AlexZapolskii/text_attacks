{
 "cells": [
  {
   "cell_type": "code",
   "execution_count": 1,
   "id": "4e89e32b",
   "metadata": {},
   "outputs": [],
   "source": [
    "import pandas as pd\n",
    "import seaborn as sns\n",
    "\n",
    "from sklearn.feature_extraction.text import TfidfVectorizer\n",
    "\n",
    "from sklearn.model_selection import train_test_split\n",
    "from sklearn.preprocessing import LabelEncoder\n",
    "\n",
    "from sklearn.linear_model import LogisticRegression\n",
    "\n",
    "from sklearn.metrics import classification_report"
   ]
  },
  {
   "cell_type": "markdown",
   "id": "22f6a418",
   "metadata": {},
   "source": [
    "!pip install wget"
   ]
  },
  {
   "cell_type": "code",
   "execution_count": 4,
   "id": "61ec9f66",
   "metadata": {},
   "outputs": [
    {
     "name": "stdout",
     "output_type": "stream",
     "text": [
      "Downloading dataset...\n",
      "100% [........................................................] 255330 / 255330"
     ]
    }
   ],
   "source": [
    "import wget\n",
    "import os\n",
    "\n",
    "print('Downloading dataset...')\n",
    "\n",
    "# The URL for the dataset zip file.\n",
    "url = 'https://nyu-mll.github.io/CoLA/cola_public_1.1.zip'\n",
    "\n",
    "# Download the file (if we haven't already)\n",
    "if not os.path.exists('./cola_public_1.1.zip'):\n",
    "    wget.download(url, './cola_public_1.1.zip')"
   ]
  },
  {
   "cell_type": "markdown",
   "id": "e0010062",
   "metadata": {},
   "source": [
    "# unzip\n",
    "\n",
    "!unzip cola_public_1.1.zip"
   ]
  },
  {
   "cell_type": "code",
   "execution_count": 17,
   "id": "c2e2765b",
   "metadata": {},
   "outputs": [
    {
     "name": "stdout",
     "output_type": "stream",
     "text": [
      "in_domain_dev.tsv      in_domain_train.tsv    out_of_domain_dev.tsv\r\n"
     ]
    }
   ],
   "source": [
    "ls cola_public/tokenized"
   ]
  },
  {
   "cell_type": "code",
   "execution_count": 10,
   "id": "95085fe9",
   "metadata": {},
   "outputs": [
    {
     "name": "stdout",
     "output_type": "stream",
     "text": [
      "Number of training sentences: 8,551\n",
      "\n"
     ]
    },
    {
     "data": {
      "text/html": [
       "<div>\n",
       "<style scoped>\n",
       "    .dataframe tbody tr th:only-of-type {\n",
       "        vertical-align: middle;\n",
       "    }\n",
       "\n",
       "    .dataframe tbody tr th {\n",
       "        vertical-align: top;\n",
       "    }\n",
       "\n",
       "    .dataframe thead th {\n",
       "        text-align: right;\n",
       "    }\n",
       "</style>\n",
       "<table border=\"1\" class=\"dataframe\">\n",
       "  <thead>\n",
       "    <tr style=\"text-align: right;\">\n",
       "      <th></th>\n",
       "      <th>sentence_source</th>\n",
       "      <th>label</th>\n",
       "      <th>label_notes</th>\n",
       "      <th>sentence</th>\n",
       "    </tr>\n",
       "  </thead>\n",
       "  <tbody>\n",
       "    <tr>\n",
       "      <th>0</th>\n",
       "      <td>gj04</td>\n",
       "      <td>1</td>\n",
       "      <td>NaN</td>\n",
       "      <td>Our friends won't buy this analysis, let alone...</td>\n",
       "    </tr>\n",
       "    <tr>\n",
       "      <th>1</th>\n",
       "      <td>gj04</td>\n",
       "      <td>1</td>\n",
       "      <td>NaN</td>\n",
       "      <td>One more pseudo generalization and I'm giving up.</td>\n",
       "    </tr>\n",
       "    <tr>\n",
       "      <th>2</th>\n",
       "      <td>gj04</td>\n",
       "      <td>1</td>\n",
       "      <td>NaN</td>\n",
       "      <td>One more pseudo generalization or I'm giving up.</td>\n",
       "    </tr>\n",
       "    <tr>\n",
       "      <th>3</th>\n",
       "      <td>gj04</td>\n",
       "      <td>1</td>\n",
       "      <td>NaN</td>\n",
       "      <td>The more we study verbs, the crazier they get.</td>\n",
       "    </tr>\n",
       "    <tr>\n",
       "      <th>4</th>\n",
       "      <td>gj04</td>\n",
       "      <td>1</td>\n",
       "      <td>NaN</td>\n",
       "      <td>Day by day the facts are getting murkier.</td>\n",
       "    </tr>\n",
       "  </tbody>\n",
       "</table>\n",
       "</div>"
      ],
      "text/plain": [
       "  sentence_source  label label_notes  \\\n",
       "0            gj04      1         NaN   \n",
       "1            gj04      1         NaN   \n",
       "2            gj04      1         NaN   \n",
       "3            gj04      1         NaN   \n",
       "4            gj04      1         NaN   \n",
       "\n",
       "                                            sentence  \n",
       "0  Our friends won't buy this analysis, let alone...  \n",
       "1  One more pseudo generalization and I'm giving up.  \n",
       "2   One more pseudo generalization or I'm giving up.  \n",
       "3     The more we study verbs, the crazier they get.  \n",
       "4          Day by day the facts are getting murkier.  "
      ]
     },
     "execution_count": 10,
     "metadata": {},
     "output_type": "execute_result"
    }
   ],
   "source": [
    "import pandas as pd\n",
    "\n",
    "#raw dataset\n",
    "\n",
    "# Load the dataset into a pandas dataframe.\n",
    "df = pd.read_csv(\"./cola_public/raw/in_domain_train.tsv\", delimiter='\\t', header=None, names=['sentence_source', 'label', 'label_notes', 'sentence'])\n",
    "\n",
    "# Report the number of sentences.\n",
    "print('Number of training sentences: {:,}\\n'.format(df.shape[0]))\n",
    "\n",
    "# Display 10 random rows from the data.\n",
    "df.head()"
   ]
  },
  {
   "cell_type": "code",
   "execution_count": 11,
   "id": "25b6467b",
   "metadata": {},
   "outputs": [
    {
     "data": {
      "text/plain": [
       "1    6023\n",
       "0    2528\n",
       "Name: label, dtype: int64"
      ]
     },
     "execution_count": 11,
     "metadata": {},
     "output_type": "execute_result"
    }
   ],
   "source": [
    "df.label.value_counts()"
   ]
  },
  {
   "cell_type": "code",
   "execution_count": 13,
   "id": "2b29cf5c",
   "metadata": {},
   "outputs": [
    {
     "data": {
      "text/plain": [
       "'The critics laughed the play off the stage.'"
      ]
     },
     "execution_count": 13,
     "metadata": {},
     "output_type": "execute_result"
    }
   ],
   "source": [
    "df.sentence[10]"
   ]
  },
  {
   "cell_type": "code",
   "execution_count": 19,
   "id": "c99834bc",
   "metadata": {},
   "outputs": [
    {
     "name": "stdout",
     "output_type": "stream",
     "text": [
      "Number of training sentences: 8,551\n",
      "\n"
     ]
    },
    {
     "data": {
      "text/html": [
       "<div>\n",
       "<style scoped>\n",
       "    .dataframe tbody tr th:only-of-type {\n",
       "        vertical-align: middle;\n",
       "    }\n",
       "\n",
       "    .dataframe tbody tr th {\n",
       "        vertical-align: top;\n",
       "    }\n",
       "\n",
       "    .dataframe thead th {\n",
       "        text-align: right;\n",
       "    }\n",
       "</style>\n",
       "<table border=\"1\" class=\"dataframe\">\n",
       "  <thead>\n",
       "    <tr style=\"text-align: right;\">\n",
       "      <th></th>\n",
       "      <th>sentence_source</th>\n",
       "      <th>label</th>\n",
       "      <th>label_notes</th>\n",
       "      <th>sentence</th>\n",
       "    </tr>\n",
       "  </thead>\n",
       "  <tbody>\n",
       "    <tr>\n",
       "      <th>0</th>\n",
       "      <td>gj04</td>\n",
       "      <td>1</td>\n",
       "      <td>NaN</td>\n",
       "      <td>our friends wo n't buy this analysis , let alo...</td>\n",
       "    </tr>\n",
       "    <tr>\n",
       "      <th>1</th>\n",
       "      <td>gj04</td>\n",
       "      <td>1</td>\n",
       "      <td>NaN</td>\n",
       "      <td>one more pseudo generalization and i 'm giving...</td>\n",
       "    </tr>\n",
       "    <tr>\n",
       "      <th>2</th>\n",
       "      <td>gj04</td>\n",
       "      <td>1</td>\n",
       "      <td>NaN</td>\n",
       "      <td>one more pseudo generalization or i 'm giving ...</td>\n",
       "    </tr>\n",
       "    <tr>\n",
       "      <th>3</th>\n",
       "      <td>gj04</td>\n",
       "      <td>1</td>\n",
       "      <td>NaN</td>\n",
       "      <td>the more we study verbs , the crazier they get .</td>\n",
       "    </tr>\n",
       "    <tr>\n",
       "      <th>4</th>\n",
       "      <td>gj04</td>\n",
       "      <td>1</td>\n",
       "      <td>NaN</td>\n",
       "      <td>day by day the facts are getting murkier .</td>\n",
       "    </tr>\n",
       "  </tbody>\n",
       "</table>\n",
       "</div>"
      ],
      "text/plain": [
       "  sentence_source  label label_notes  \\\n",
       "0            gj04      1         NaN   \n",
       "1            gj04      1         NaN   \n",
       "2            gj04      1         NaN   \n",
       "3            gj04      1         NaN   \n",
       "4            gj04      1         NaN   \n",
       "\n",
       "                                            sentence  \n",
       "0  our friends wo n't buy this analysis , let alo...  \n",
       "1  one more pseudo generalization and i 'm giving...  \n",
       "2  one more pseudo generalization or i 'm giving ...  \n",
       "3   the more we study verbs , the crazier they get .  \n",
       "4         day by day the facts are getting murkier .  "
      ]
     },
     "execution_count": 19,
     "metadata": {},
     "output_type": "execute_result"
    }
   ],
   "source": [
    "import pandas as pd\n",
    "\n",
    "#raw dataset\n",
    "\n",
    "# Load the dataset into a pandas dataframe.\n",
    "df_tok = pd.read_csv(\"./cola_public/tokenized/in_domain_train.tsv\", delimiter='\\t', header=None, names=['sentence_source', 'label', 'label_notes', 'sentence'])\n",
    "\n",
    "# Report the number of sentences.\n",
    "print('Number of training sentences: {:,}\\n'.format(df_tok.shape[0]))\n",
    "\n",
    "# Display 10 random rows from the data.\n",
    "df_tok.head()"
   ]
  },
  {
   "cell_type": "code",
   "execution_count": 21,
   "id": "bc787d54",
   "metadata": {},
   "outputs": [
    {
     "data": {
      "text/plain": [
       "5005                         it is eager to please john .\n",
       "6689    sarah devoured the cakes in the kitchen last n...\n",
       "5923    i feel it is unfortunate that television is so...\n",
       "6936            what she did was e-mail all her friends .\n",
       "2048                    sam gave the ball off the shelf .\n",
       "4667             they widely believed that john was ill .\n",
       "6532                          who do you regret you saw ?\n",
       "3895                     john placed behind the counter .\n",
       "7026                kim alienates cats and beat his dog .\n",
       "1994    tonight , what bob cooked yesterday still tast...\n",
       "Name: sentence, dtype: object"
      ]
     },
     "execution_count": 21,
     "metadata": {},
     "output_type": "execute_result"
    }
   ],
   "source": [
    "df_tok.sample(10).sentence"
   ]
  },
  {
   "cell_type": "code",
   "execution_count": 22,
   "id": "252ef485",
   "metadata": {},
   "outputs": [
    {
     "data": {
      "text/plain": [
       "'tonight , what bob cooked yesterday still tastes good .'"
      ]
     },
     "execution_count": 22,
     "metadata": {},
     "output_type": "execute_result"
    }
   ],
   "source": [
    "df_tok.sentence[1994]"
   ]
  },
  {
   "cell_type": "code",
   "execution_count": 23,
   "id": "c1daefdb",
   "metadata": {},
   "outputs": [
    {
     "data": {
      "text/plain": [
       "'Tonight, what Bob cooked yesterday still tastes good.'"
      ]
     },
     "execution_count": 23,
     "metadata": {},
     "output_type": "execute_result"
    }
   ],
   "source": [
    "df.sentence[1994]"
   ]
  },
  {
   "cell_type": "code",
   "execution_count": 28,
   "id": "e66f6909",
   "metadata": {},
   "outputs": [
    {
     "data": {
      "text/plain": [
       "'!\"#$%&\\'()*+,-./:;<=>?@[\\\\]^_`{|}~'"
      ]
     },
     "execution_count": 28,
     "metadata": {},
     "output_type": "execute_result"
    }
   ],
   "source": [
    "#Stop words present in the library\n",
    "\n",
    "from nltk.corpus import stopwords\n",
    "from pymystem3 import Mystem\n",
    "import nltk\n",
    "from nltk.corpus import stopwords\n",
    "#print(stopwords.words('english'))\n",
    "\n",
    "#library that contains punctuation\n",
    "import string\n",
    "string.punctuation"
   ]
  },
  {
   "cell_type": "code",
   "execution_count": 31,
   "id": "016e0d20",
   "metadata": {},
   "outputs": [],
   "source": [
    "#Create lemmatizer and stopwords list\n",
    "mystem = Mystem() \n",
    "stopwords = stopwords.words(\"english\")\n",
    "\n",
    "#Preprocess function\n",
    "def preprocess_text(text):\n",
    "    tokens = mystem.lemmatize(text.lower())\n",
    "    tokens = [token for token in tokens if token not in stopwords\\\n",
    "              and token != \" \" \\\n",
    "              and token.strip() not in string.punctuation]\n",
    "    \n",
    "    text = \" \".join(tokens)\n",
    "    \n",
    "    return text\n",
    "\n"
   ]
  },
  {
   "cell_type": "code",
   "execution_count": 32,
   "id": "c344cddb",
   "metadata": {
    "scrolled": true
   },
   "outputs": [
    {
     "data": {
      "text/plain": [
       "'singing rain flowers growing garden'"
      ]
     },
     "execution_count": 32,
     "metadata": {},
     "output_type": "execute_result"
    }
   ],
   "source": [
    "preprocess_text('I was singing in the rain, just flowers growing in the garden')"
   ]
  },
  {
   "cell_type": "code",
   "execution_count": 34,
   "id": "c7e08a22",
   "metadata": {},
   "outputs": [
    {
     "data": {
      "text/plain": [
       "'The critics laughed the play off the stage.'"
      ]
     },
     "execution_count": 34,
     "metadata": {},
     "output_type": "execute_result"
    }
   ],
   "source": [
    "df.sentence[10]"
   ]
  },
  {
   "cell_type": "code",
   "execution_count": 37,
   "id": "45fdbbbd",
   "metadata": {},
   "outputs": [
    {
     "data": {
      "text/html": [
       "<div>\n",
       "<style scoped>\n",
       "    .dataframe tbody tr th:only-of-type {\n",
       "        vertical-align: middle;\n",
       "    }\n",
       "\n",
       "    .dataframe tbody tr th {\n",
       "        vertical-align: top;\n",
       "    }\n",
       "\n",
       "    .dataframe thead th {\n",
       "        text-align: right;\n",
       "    }\n",
       "</style>\n",
       "<table border=\"1\" class=\"dataframe\">\n",
       "  <thead>\n",
       "    <tr style=\"text-align: right;\">\n",
       "      <th></th>\n",
       "      <th>sentence_source</th>\n",
       "      <th>label</th>\n",
       "      <th>label_notes</th>\n",
       "      <th>sentence</th>\n",
       "    </tr>\n",
       "  </thead>\n",
       "  <tbody>\n",
       "    <tr>\n",
       "      <th>0</th>\n",
       "      <td>gj04</td>\n",
       "      <td>1</td>\n",
       "      <td>NaN</td>\n",
       "      <td>our friends wo n't buy this analysis , let alo...</td>\n",
       "    </tr>\n",
       "    <tr>\n",
       "      <th>1</th>\n",
       "      <td>gj04</td>\n",
       "      <td>1</td>\n",
       "      <td>NaN</td>\n",
       "      <td>one more pseudo generalization and i 'm giving...</td>\n",
       "    </tr>\n",
       "  </tbody>\n",
       "</table>\n",
       "</div>"
      ],
      "text/plain": [
       "  sentence_source  label label_notes  \\\n",
       "0            gj04      1         NaN   \n",
       "1            gj04      1         NaN   \n",
       "\n",
       "                                            sentence  \n",
       "0  our friends wo n't buy this analysis , let alo...  \n",
       "1  one more pseudo generalization and i 'm giving...  "
      ]
     },
     "execution_count": 37,
     "metadata": {},
     "output_type": "execute_result"
    }
   ],
   "source": [
    "df_tok.head(2)"
   ]
  },
  {
   "cell_type": "code",
   "execution_count": 55,
   "id": "d2000e9c",
   "metadata": {},
   "outputs": [],
   "source": [
    "X = df_tok.sentence.apply(lambda x: preprocess_text(x))\n",
    "y = df_tok.label\n",
    "\n",
    "X = pd.DataFrame(X)\n",
    "X.columns = ['text']"
   ]
  },
  {
   "cell_type": "code",
   "execution_count": 56,
   "id": "d883abc9",
   "metadata": {},
   "outputs": [
    {
     "data": {
      "text/html": [
       "<div>\n",
       "<style scoped>\n",
       "    .dataframe tbody tr th:only-of-type {\n",
       "        vertical-align: middle;\n",
       "    }\n",
       "\n",
       "    .dataframe tbody tr th {\n",
       "        vertical-align: top;\n",
       "    }\n",
       "\n",
       "    .dataframe thead th {\n",
       "        text-align: right;\n",
       "    }\n",
       "</style>\n",
       "<table border=\"1\" class=\"dataframe\">\n",
       "  <thead>\n",
       "    <tr style=\"text-align: right;\">\n",
       "      <th></th>\n",
       "      <th>text</th>\n",
       "    </tr>\n",
       "  </thead>\n",
       "  <tbody>\n",
       "    <tr>\n",
       "      <th>0</th>\n",
       "      <td>friends wo n buy analysis let alone next one p...</td>\n",
       "    </tr>\n",
       "    <tr>\n",
       "      <th>1</th>\n",
       "      <td>one pseudo generalization giving</td>\n",
       "    </tr>\n",
       "    <tr>\n",
       "      <th>2</th>\n",
       "      <td>one pseudo generalization giving</td>\n",
       "    </tr>\n",
       "  </tbody>\n",
       "</table>\n",
       "</div>"
      ],
      "text/plain": [
       "                                                text\n",
       "0  friends wo n buy analysis let alone next one p...\n",
       "1                   one pseudo generalization giving\n",
       "2                   one pseudo generalization giving"
      ]
     },
     "execution_count": 56,
     "metadata": {},
     "output_type": "execute_result"
    }
   ],
   "source": [
    "X.head(3)"
   ]
  },
  {
   "cell_type": "code",
   "execution_count": 57,
   "id": "12a3a66a",
   "metadata": {},
   "outputs": [
    {
     "data": {
      "text/plain": [
       "((8551, 1), (8551,))"
      ]
     },
     "execution_count": 57,
     "metadata": {},
     "output_type": "execute_result"
    }
   ],
   "source": [
    "X.shape, y.shape"
   ]
  },
  {
   "cell_type": "code",
   "execution_count": 70,
   "id": "4c324185",
   "metadata": {},
   "outputs": [],
   "source": [
    "X_train, X_test, y_train, y_test = train_test_split(X.text, y, test_size=0.33, random_state=42)"
   ]
  },
  {
   "cell_type": "code",
   "execution_count": 72,
   "id": "ef2d9b5f",
   "metadata": {},
   "outputs": [],
   "source": [
    "vectoriser = TfidfVectorizer()\n",
    "\n",
    "X_train = vectoriser.fit_transform(X_train)\n",
    "# Convert sparse matrix to dataframe\n",
    "#X_train = pd.DataFrame.sparse.from_spmatrix(X_train)\n",
    "\n",
    "# Transform to feature matrix\n",
    "X_test = vectoriser.transform(X_test)\n",
    "# Convert sparse matrix to dataframe\n",
    "#X_test = pd.DataFrame.sparse.from_spmatrix(X_test)\n",
    "# Add column names to make it more readible\n"
   ]
  },
  {
   "cell_type": "code",
   "execution_count": 73,
   "id": "2e059339",
   "metadata": {},
   "outputs": [
    {
     "data": {
      "text/plain": [
       "((5729, 4523), (2822, 4523))"
      ]
     },
     "execution_count": 73,
     "metadata": {},
     "output_type": "execute_result"
    }
   ],
   "source": [
    "X_train.shape, X_test.shape"
   ]
  },
  {
   "cell_type": "code",
   "execution_count": 75,
   "id": "a794ee05",
   "metadata": {},
   "outputs": [],
   "source": [
    "lg = LogisticRegression(max_iter=10000)"
   ]
  },
  {
   "cell_type": "code",
   "execution_count": 76,
   "id": "cfdc66ad",
   "metadata": {},
   "outputs": [
    {
     "data": {
      "text/plain": [
       "LogisticRegression(max_iter=10000)"
      ]
     },
     "execution_count": 76,
     "metadata": {},
     "output_type": "execute_result"
    }
   ],
   "source": [
    "lg.fit(X_train, y_train) # сошлось"
   ]
  },
  {
   "cell_type": "code",
   "execution_count": 77,
   "id": "aa1b4336",
   "metadata": {},
   "outputs": [
    {
     "name": "stdout",
     "output_type": "stream",
     "text": [
      "              precision    recall  f1-score   support\n",
      "\n",
      "           0       0.39      0.05      0.09       805\n",
      "           1       0.72      0.97      0.83      2017\n",
      "\n",
      "    accuracy                           0.71      2822\n",
      "   macro avg       0.56      0.51      0.46      2822\n",
      "weighted avg       0.63      0.71      0.62      2822\n",
      "\n"
     ]
    }
   ],
   "source": [
    "# лемматизация\n",
    "\n",
    "print(classification_report(y_test, lg.predict(X_test))) #качество на тесте"
   ]
  },
  {
   "cell_type": "code",
   "execution_count": null,
   "id": "1e5d4bf5",
   "metadata": {},
   "outputs": [],
   "source": [
    "как мы видим - качество не очень хорошее"
   ]
  },
  {
   "cell_type": "code",
   "execution_count": null,
   "id": "34c3b170",
   "metadata": {},
   "outputs": [],
   "source": [
    "Попробуем настроить tf-idf без препроцессинга"
   ]
  },
  {
   "cell_type": "code",
   "execution_count": 78,
   "id": "2591517a",
   "metadata": {},
   "outputs": [],
   "source": [
    "X = df_tok.sentence\n",
    "y = df_tok.label\n",
    "\n",
    "X = pd.DataFrame(X)\n",
    "X.columns = ['text']"
   ]
  },
  {
   "cell_type": "code",
   "execution_count": 95,
   "id": "4f0a63a6",
   "metadata": {},
   "outputs": [],
   "source": [
    "X_train, X_test, y_train, y_test = train_test_split(X.text, y, test_size=0.33, random_state=42)"
   ]
  },
  {
   "cell_type": "code",
   "execution_count": 96,
   "id": "008f4e56",
   "metadata": {},
   "outputs": [],
   "source": [
    "vectoriser = TfidfVectorizer()\n",
    "\n",
    "X_train = vectoriser.fit_transform(X_train)\n",
    "# Convert sparse matrix to dataframe\n",
    "#X_train = pd.DataFrame.sparse.from_spmatrix(X_train)\n",
    "\n",
    "# Transform to feature matrix\n",
    "X_test = vectoriser.transform(X_test)\n",
    "# Convert sparse matrix to dataframe\n",
    "#X_test = pd.DataFrame.sparse.from_spmatrix(X_test)\n",
    "# Add column names to make it more readible\n",
    "\n"
   ]
  },
  {
   "cell_type": "code",
   "execution_count": 97,
   "id": "6d27b969",
   "metadata": {},
   "outputs": [
    {
     "data": {
      "text/plain": [
       "((5729, 4642), (2822, 4642))"
      ]
     },
     "execution_count": 97,
     "metadata": {},
     "output_type": "execute_result"
    }
   ],
   "source": [
    "X_train.shape, X_test.shape"
   ]
  },
  {
   "cell_type": "code",
   "execution_count": 98,
   "id": "a5118ce5",
   "metadata": {},
   "outputs": [
    {
     "data": {
      "text/plain": [
       "LogisticRegression(max_iter=10000)"
      ]
     },
     "execution_count": 98,
     "metadata": {},
     "output_type": "execute_result"
    }
   ],
   "source": [
    "lg = LogisticRegression(max_iter=10000)\n",
    "\n",
    "lg.fit(X_train, y_train) # сошлось"
   ]
  },
  {
   "cell_type": "code",
   "execution_count": 99,
   "id": "8832a5f0",
   "metadata": {},
   "outputs": [
    {
     "name": "stdout",
     "output_type": "stream",
     "text": [
      "              precision    recall  f1-score   support\n",
      "\n",
      "           0       0.43      0.06      0.10       805\n",
      "           1       0.72      0.97      0.83      2017\n",
      "\n",
      "    accuracy                           0.71      2822\n",
      "   macro avg       0.58      0.51      0.46      2822\n",
      "weighted avg       0.64      0.71      0.62      2822\n",
      "\n"
     ]
    }
   ],
   "source": [
    "# лемматизация\n",
    "\n",
    "print(classification_report(y_test, lg.predict(X_test))) #качество на тесте"
   ]
  },
  {
   "cell_type": "code",
   "execution_count": null,
   "id": "5c406026",
   "metadata": {},
   "outputs": [],
   "source": [
    "качество практически не изменилось"
   ]
  },
  {
   "cell_type": "code",
   "execution_count": null,
   "id": "900c7d63",
   "metadata": {},
   "outputs": [],
   "source": [
    "Оценим качество на валидационном датасете: "
   ]
  },
  {
   "cell_type": "code",
   "execution_count": 86,
   "id": "b7c8e116",
   "metadata": {},
   "outputs": [],
   "source": [
    "test_df = pd.read_csv(\"./cola_public/tokenized/in_domain_dev.tsv\", delimiter='\\t', header=None, names=['sentence_source', 'label', 'label_notes', 'sentence'])\n",
    "\n"
   ]
  },
  {
   "cell_type": "code",
   "execution_count": 87,
   "id": "99333f53",
   "metadata": {},
   "outputs": [
    {
     "data": {
      "text/html": [
       "<div>\n",
       "<style scoped>\n",
       "    .dataframe tbody tr th:only-of-type {\n",
       "        vertical-align: middle;\n",
       "    }\n",
       "\n",
       "    .dataframe tbody tr th {\n",
       "        vertical-align: top;\n",
       "    }\n",
       "\n",
       "    .dataframe thead th {\n",
       "        text-align: right;\n",
       "    }\n",
       "</style>\n",
       "<table border=\"1\" class=\"dataframe\">\n",
       "  <thead>\n",
       "    <tr style=\"text-align: right;\">\n",
       "      <th></th>\n",
       "      <th>sentence_source</th>\n",
       "      <th>label</th>\n",
       "      <th>label_notes</th>\n",
       "      <th>sentence</th>\n",
       "    </tr>\n",
       "  </thead>\n",
       "  <tbody>\n",
       "    <tr>\n",
       "      <th>0</th>\n",
       "      <td>gj04</td>\n",
       "      <td>1</td>\n",
       "      <td>NaN</td>\n",
       "      <td>the sailors rode the breeze clear of the rocks .</td>\n",
       "    </tr>\n",
       "    <tr>\n",
       "      <th>1</th>\n",
       "      <td>gj04</td>\n",
       "      <td>1</td>\n",
       "      <td>NaN</td>\n",
       "      <td>the weights made the rope stretch over the pul...</td>\n",
       "    </tr>\n",
       "    <tr>\n",
       "      <th>2</th>\n",
       "      <td>gj04</td>\n",
       "      <td>1</td>\n",
       "      <td>NaN</td>\n",
       "      <td>the mechanical doll wriggled itself loose .</td>\n",
       "    </tr>\n",
       "    <tr>\n",
       "      <th>3</th>\n",
       "      <td>cj99</td>\n",
       "      <td>1</td>\n",
       "      <td>NaN</td>\n",
       "      <td>if you had eaten more , you would want less .</td>\n",
       "    </tr>\n",
       "    <tr>\n",
       "      <th>4</th>\n",
       "      <td>cj99</td>\n",
       "      <td>0</td>\n",
       "      <td>*</td>\n",
       "      <td>as you eat the most , you want the least .</td>\n",
       "    </tr>\n",
       "  </tbody>\n",
       "</table>\n",
       "</div>"
      ],
      "text/plain": [
       "  sentence_source  label label_notes  \\\n",
       "0            gj04      1         NaN   \n",
       "1            gj04      1         NaN   \n",
       "2            gj04      1         NaN   \n",
       "3            cj99      1         NaN   \n",
       "4            cj99      0           *   \n",
       "\n",
       "                                            sentence  \n",
       "0   the sailors rode the breeze clear of the rocks .  \n",
       "1  the weights made the rope stretch over the pul...  \n",
       "2        the mechanical doll wriggled itself loose .  \n",
       "3      if you had eaten more , you would want less .  \n",
       "4         as you eat the most , you want the least .  "
      ]
     },
     "execution_count": 87,
     "metadata": {},
     "output_type": "execute_result"
    }
   ],
   "source": [
    "test_df.head()"
   ]
  },
  {
   "cell_type": "code",
   "execution_count": 88,
   "id": "e1d2bf7f",
   "metadata": {},
   "outputs": [
    {
     "data": {
      "text/plain": [
       "(527, 4)"
      ]
     },
     "execution_count": 88,
     "metadata": {},
     "output_type": "execute_result"
    }
   ],
   "source": [
    "test_df.shape # есть размеченные 527 валидационных примера"
   ]
  },
  {
   "cell_type": "code",
   "execution_count": 91,
   "id": "19515271",
   "metadata": {},
   "outputs": [],
   "source": [
    "X_holout = test_df.sentence\n",
    "y_holdout = test_df.label"
   ]
  },
  {
   "cell_type": "code",
   "execution_count": 90,
   "id": "65e65d4a",
   "metadata": {},
   "outputs": [
    {
     "data": {
      "text/plain": [
       "1    0.6926\n",
       "0    0.3074\n",
       "Name: label, dtype: float64"
      ]
     },
     "execution_count": 90,
     "metadata": {},
     "output_type": "execute_result"
    }
   ],
   "source": [
    "test_df.label.value_counts(1)"
   ]
  },
  {
   "cell_type": "code",
   "execution_count": 93,
   "id": "435563c8",
   "metadata": {},
   "outputs": [
    {
     "data": {
      "text/plain": [
       "TfidfVectorizer()"
      ]
     },
     "execution_count": 93,
     "metadata": {},
     "output_type": "execute_result"
    }
   ],
   "source": [
    "vectoriser."
   ]
  },
  {
   "cell_type": "code",
   "execution_count": 100,
   "id": "292f3646",
   "metadata": {},
   "outputs": [],
   "source": [
    "X_holout = vectoriser.transform(X_holout)\n"
   ]
  },
  {
   "cell_type": "code",
   "execution_count": 101,
   "id": "71238064",
   "metadata": {},
   "outputs": [
    {
     "data": {
      "text/plain": [
       "(527, 4642)"
      ]
     },
     "execution_count": 101,
     "metadata": {},
     "output_type": "execute_result"
    }
   ],
   "source": [
    "X_holout.shape"
   ]
  },
  {
   "cell_type": "code",
   "execution_count": 102,
   "id": "2e1e13d5",
   "metadata": {},
   "outputs": [
    {
     "name": "stdout",
     "output_type": "stream",
     "text": [
      "              precision    recall  f1-score   support\n",
      "\n",
      "           0       0.44      0.07      0.12       162\n",
      "           1       0.70      0.96      0.81       365\n",
      "\n",
      "    accuracy                           0.69       527\n",
      "   macro avg       0.57      0.51      0.46       527\n",
      "weighted avg       0.62      0.69      0.60       527\n",
      "\n"
     ]
    }
   ],
   "source": [
    "# лемматизация\n",
    "\n",
    "print(classification_report(y_holdout, lg.predict(X_holout))) #качество на тесте"
   ]
  },
  {
   "cell_type": "code",
   "execution_count": null,
   "id": "9ff3d1bc",
   "metadata": {},
   "outputs": [],
   "source": [
    "На основе валидационной выборки  мы видим, что качество такое же как на обучении"
   ]
  },
  {
   "cell_type": "code",
   "execution_count": 105,
   "id": "cae74e80",
   "metadata": {},
   "outputs": [
    {
     "data": {
      "text/plain": [
       "array([nan, '*', '?*'], dtype=object)"
      ]
     },
     "execution_count": 105,
     "metadata": {},
     "output_type": "execute_result"
    }
   ],
   "source": [
    "test_df.label_notes.unique()"
   ]
  },
  {
   "cell_type": "code",
   "execution_count": 106,
   "id": "5387add2",
   "metadata": {},
   "outputs": [
    {
     "data": {
      "text/plain": [
       "array([nan, '*', '*?', '??', '?*'], dtype=object)"
      ]
     },
     "execution_count": 106,
     "metadata": {},
     "output_type": "execute_result"
    }
   ],
   "source": [
    "df_tok.label_notes.unique()"
   ]
  },
  {
   "cell_type": "code",
   "execution_count": 111,
   "id": "cb74ee28",
   "metadata": {
    "scrolled": true
   },
   "outputs": [
    {
     "name": "stdout",
     "output_type": "stream",
     "text": [
      "our friends wo n't buy this analysis , let alone the next one we propose .\n",
      "\n",
      "one more pseudo generalization and i 'm giving up .\n",
      "\n",
      "one more pseudo generalization or i 'm giving up .\n",
      "\n",
      "the more we study verbs , the crazier they get .\n",
      "\n",
      "day by day the facts are getting murkier .\n",
      "\n"
     ]
    }
   ],
   "source": [
    "for el in df_tok.sentence.head():\n",
    "    print(el)\n",
    "    print()"
   ]
  },
  {
   "cell_type": "code",
   "execution_count": 112,
   "id": "5bb5394d",
   "metadata": {
    "scrolled": true
   },
   "outputs": [
    {
     "name": "stdout",
     "output_type": "stream",
     "text": [
      "poseidon appears to own a dragon\n",
      "\n",
      "digitize is my happiest memory\n",
      "\n",
      "it is easy to slay the gorgon .\n",
      "\n",
      "i had the strangest feeling that i knew you .\n",
      "\n",
      "what all did you get for christmas ?\n",
      "\n"
     ]
    }
   ],
   "source": [
    "for el in df_tok.sentence.tail():\n",
    "    print(el)\n",
    "    print()"
   ]
  },
  {
   "cell_type": "code",
   "execution_count": 113,
   "id": "d8bd59c8",
   "metadata": {
    "scrolled": true
   },
   "outputs": [
    {
     "name": "stdout",
     "output_type": "stream",
     "text": [
      "Poseidon appears to own a dragon\n",
      "\n",
      "Digitize is my happiest memory\n",
      "\n",
      "It is easy to slay the Gorgon.\n",
      "\n",
      "I had the strangest feeling that I knew you.\n",
      "\n",
      "What all did you get for Christmas?\n",
      "\n"
     ]
    }
   ],
   "source": [
    "for el in df.sentence.tail():\n",
    "    print(el)\n",
    "    print()"
   ]
  },
  {
   "cell_type": "code",
   "execution_count": 114,
   "id": "4b7a496d",
   "metadata": {},
   "outputs": [],
   "source": [
    "from sklearn.metrics import matthews_corrcoef\n"
   ]
  },
  {
   "cell_type": "code",
   "execution_count": 115,
   "id": "9b80c713",
   "metadata": {},
   "outputs": [
    {
     "name": "stdout",
     "output_type": "stream",
     "text": [
      "Total MCC: 0.064\n"
     ]
    }
   ],
   "source": [
    "# Calculate the MCC\n",
    "mcc = matthews_corrcoef(y_holdout, lg.predict(X_holout))\n",
    "\n",
    "print('Total MCC: %.3f' % mcc)"
   ]
  },
  {
   "cell_type": "code",
   "execution_count": 116,
   "id": "585240df",
   "metadata": {},
   "outputs": [
    {
     "data": {
      "text/plain": [
       "((527,), (527,))"
      ]
     },
     "execution_count": 116,
     "metadata": {},
     "output_type": "execute_result"
    }
   ],
   "source": [
    "y_holdout.shape, lg.predict(X_holout).shape"
   ]
  },
  {
   "cell_type": "code",
   "execution_count": 121,
   "id": "51d06ad6",
   "metadata": {},
   "outputs": [
    {
     "data": {
      "text/plain": [
       "0      1\n",
       "1      1\n",
       "2      1\n",
       "3      1\n",
       "4      0\n",
       "      ..\n",
       "522    0\n",
       "523    1\n",
       "524    0\n",
       "525    1\n",
       "526    0\n",
       "Name: label, Length: 527, dtype: int64"
      ]
     },
     "execution_count": 121,
     "metadata": {},
     "output_type": "execute_result"
    }
   ],
   "source": [
    "y_holdout"
   ]
  },
  {
   "cell_type": "code",
   "execution_count": 122,
   "id": "c46808f2",
   "metadata": {},
   "outputs": [],
   "source": [
    "from sklearn.metrics import accuracy_score, f1_score, roc_auc_score"
   ]
  },
  {
   "cell_type": "code",
   "execution_count": 134,
   "id": "5ae02078",
   "metadata": {},
   "outputs": [],
   "source": [
    "import numpy as np"
   ]
  },
  {
   "cell_type": "code",
   "execution_count": 138,
   "id": "9d019a04",
   "metadata": {},
   "outputs": [
    {
     "name": "stdout",
     "output_type": "stream",
     "text": [
      "accuracy 0.687\n",
      "f1 0.81\n",
      "roc_auc 0.604\n",
      "mcc 0.064\n"
     ]
    }
   ],
   "source": [
    "print('accuracy', np.round(accuracy_score(y_holdout, lg.predict(X_holout)),3)) #качество на тесте\n",
    "print('f1', np.round(f1_score(y_holdout, lg.predict(X_holout)),2)) #качество на тесте\n",
    "print('roc_auc', np.round(roc_auc_score(y_holdout, lg.predict_proba(X_holout)[:,1]),3)) #качество на тесте\n",
    "print('mcc',  np.round(matthews_corrcoef(y_holdout, lg.predict(X_holout)),3))"
   ]
  },
  {
   "cell_type": "code",
   "execution_count": null,
   "id": "b70fa623",
   "metadata": {},
   "outputs": [],
   "source": []
  },
  {
   "cell_type": "code",
   "execution_count": null,
   "id": "76b1daf3",
   "metadata": {},
   "outputs": [],
   "source": []
  }
 ],
 "metadata": {
  "kernelspec": {
   "display_name": "Python 3 (ipykernel)",
   "language": "python",
   "name": "python3"
  },
  "language_info": {
   "codemirror_mode": {
    "name": "ipython",
    "version": 3
   },
   "file_extension": ".py",
   "mimetype": "text/x-python",
   "name": "python",
   "nbconvert_exporter": "python",
   "pygments_lexer": "ipython3",
   "version": "3.9.7"
  }
 },
 "nbformat": 4,
 "nbformat_minor": 5
}
