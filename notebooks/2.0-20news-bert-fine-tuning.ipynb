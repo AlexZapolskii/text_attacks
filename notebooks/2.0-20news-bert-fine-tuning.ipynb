{
 "cells": [
  {
   "cell_type": "code",
   "execution_count": null,
   "id": "fa65c1be",
   "metadata": {
    "cellId": "cv6szxy3h6ohwue166upn"
   },
   "outputs": [],
   "source": [
    "#!g1.1\n",
    "# почему то все ноутбуки загрузились без выводов"
   ]
  },
  {
   "cell_type": "code",
   "execution_count": 1,
   "id": "87be3351",
   "metadata": {
    "cellId": "djirjgbklgfpof2mlqxnrd"
   },
   "outputs": [],
   "source": [
    "#!g1.1\n",
    "import pandas as pd"
   ]
  },
  {
   "cell_type": "code",
   "execution_count": 2,
   "id": "9bab4eb4",
   "metadata": {
    "cellId": "2hdnmhzyrkycihd6i81rlo"
   },
   "outputs": [],
   "source": [
    "#!g1.1\n",
    "from sklearn.datasets import fetch_20newsgroups\n",
    "\n",
    "#загрузим обучающую выборку\n",
    "\n",
    "newsgroups_train = fetch_20newsgroups(subset='train')"
   ]
  },
  {
   "cell_type": "code",
   "execution_count": 3,
   "id": "30827344",
   "metadata": {
    "cellId": "5waulwu83c7oc3mpf4bnu"
   },
   "outputs": [],
   "source": [
    "#!g1.1\n",
    "\n",
    "X = newsgroups_train.data\n",
    "y = newsgroups_train.target\n",
    "\n",
    "X = pd.DataFrame(X)\n",
    "X.columns = ['text']"
   ]
  },
  {
   "cell_type": "code",
   "execution_count": 6,
   "id": "7f5249a8",
   "metadata": {
    "cellId": "w0s3xyhmlzalq9dual17ss"
   },
   "outputs": [
    {
     "data": {
      "text/html": [
       "<div>\n",
       "<style scoped>\n",
       "    .dataframe tbody tr th:only-of-type {\n",
       "        vertical-align: middle;\n",
       "    }\n",
       "\n",
       "    .dataframe tbody tr th {\n",
       "        vertical-align: top;\n",
       "    }\n",
       "\n",
       "    .dataframe thead th {\n",
       "        text-align: right;\n",
       "    }\n",
       "</style>\n",
       "<table border=\"1\" class=\"dataframe\">\n",
       "  <thead>\n",
       "    <tr style=\"text-align: right;\">\n",
       "      <th></th>\n",
       "      <th>text</th>\n",
       "    </tr>\n",
       "  </thead>\n",
       "  <tbody>\n",
       "    <tr>\n",
       "      <th>0</th>\n",
       "      <td>From: lerxst@wam.umd.edu (where's my thing)\\nS...</td>\n",
       "    </tr>\n",
       "    <tr>\n",
       "      <th>1</th>\n",
       "      <td>From: guykuo@carson.u.washington.edu (Guy Kuo)...</td>\n",
       "    </tr>\n",
       "    <tr>\n",
       "      <th>2</th>\n",
       "      <td>From: twillis@ec.ecn.purdue.edu (Thomas E Will...</td>\n",
       "    </tr>\n",
       "    <tr>\n",
       "      <th>3</th>\n",
       "      <td>From: jgreen@amber (Joe Green)\\nSubject: Re: W...</td>\n",
       "    </tr>\n",
       "    <tr>\n",
       "      <th>4</th>\n",
       "      <td>From: jcm@head-cfa.harvard.edu (Jonathan McDow...</td>\n",
       "    </tr>\n",
       "  </tbody>\n",
       "</table>\n",
       "</div>"
      ],
      "text/plain": [
       "                                                text\n",
       "0  From: lerxst@wam.umd.edu (where's my thing)\\nS...\n",
       "1  From: guykuo@carson.u.washington.edu (Guy Kuo)...\n",
       "2  From: twillis@ec.ecn.purdue.edu (Thomas E Will...\n",
       "3  From: jgreen@amber (Joe Green)\\nSubject: Re: W...\n",
       "4  From: jcm@head-cfa.harvard.edu (Jonathan McDow..."
      ]
     },
     "metadata": {},
     "output_type": "display_data"
    }
   ],
   "source": [
    "#!g1.1\n",
    "\n",
    "X.head()"
   ]
  },
  {
   "cell_type": "code",
   "execution_count": 5,
   "id": "cde493b9",
   "metadata": {
    "cellId": "pbj9xlz29k5dzvjuqxpwj"
   },
   "outputs": [
    {
     "data": {
      "text/plain": [
       "array([7, 4, 4, ..., 3, 1, 8])"
      ]
     },
     "metadata": {},
     "output_type": "display_data"
    }
   ],
   "source": [
    "#!g1.1\n",
    "y"
   ]
  },
  {
   "cell_type": "code",
   "execution_count": null,
   "id": "5cc69143",
   "metadata": {
    "cellId": "7rrztaec3gvd9za8ntk8o"
   },
   "outputs": [],
   "source": [
    "#!g1.1\n",
    "Нужно описать соответствующий класс - для датасета 20newsGroups\n",
    "\n",
    "хотя, можно схитрить - использовать готовую реализацию класса из Торча"
   ]
  },
  {
   "cell_type": "code",
   "execution_count": null,
   "id": "4d02f1de",
   "metadata": {
    "cellId": "ko5e2lyomcrbogcqb5y51u"
   },
   "outputs": [],
   "source": [
    "#!g1.1\n",
    "\n",
    "Пайплайн:\n",
    "    - Датасет\n",
    "    - Модель\n",
    "    "
   ]
  },
  {
   "cell_type": "markdown",
   "id": "ade84060",
   "metadata": {
    "cellId": "r64nhkewy0tmrf3vt7xq6g"
   },
   "source": [
    "#!g1.1\n",
    "\n",
    "## ДАТАСЕТ"
   ]
  },
  {
   "cell_type": "markdown",
   "id": "0a98c6f3",
   "metadata": {
    "cellId": "nulzp5pon9nficxuvuk3n"
   },
   "source": [
    "#!g1.1\n",
    "\n",
    "## Модель"
   ]
  },
  {
   "cell_type": "code",
   "execution_count": null,
   "id": "153393ac",
   "metadata": {
    "cellId": "vuz8keejuabe7yvrgijydl"
   },
   "outputs": [],
   "source": [
    "#!g1.1\n",
    "\n",
    "мы возьмем готовую модель - на основе дистилберта от хаггинфейс\n",
    "данная модель - англоязычная и должна хорошо подойти под наш датасет - 20newsGroups"
   ]
  },
  {
   "cell_type": "code",
   "execution_count": null,
   "id": "5e5b1c3e",
   "metadata": {
    "cellId": "hm4iif7wkc7a8cfmfl3li"
   },
   "outputs": [],
   "source": [
    "#!g1.1\n",
    "\n",
    "#!g1.1\n",
    "class DistilBertForSequenceClassification(nn.Module):\n",
    "    \"\"\"\n",
    "    Simplified version of the same class by HuggingFace.\n",
    "    See transformers/modeling_distilbert.py in the transformers repository.\n",
    "    \"\"\"\n",
    "\n",
    "    def __init__(self, pretrained_model_name: str, num_classes: int = None):\n",
    "        \"\"\"\n",
    "        Args:\n",
    "            pretrained_model_name (str): HuggingFace model name.\n",
    "                See transformers/modeling_auto.py\n",
    "            num_classes (int): the number of class labels\n",
    "                in the classification task\n",
    "        \"\"\"\n",
    "        super().__init__()\n",
    "\n",
    "        config = AutoConfig.from_pretrained(\n",
    "            pretrained_model_name, num_labels=num_classes)\n",
    "\n",
    "        self.distilbert = AutoModel.from_pretrained(pretrained_model_name,\n",
    "                                                    config=config)\n",
    "        self.pre_classifier = nn.Linear(config.dim, config.dim)\n",
    "        self.classifier = nn.Linear(config.dim, num_classes)\n",
    "        self.dropout = nn.Dropout(config.seq_classif_dropout)\n",
    "\n",
    "    def forward(self, features, attention_mask=None, head_mask=None):\n",
    "        \"\"\"Compute class probabilities for the input sequence.\n",
    "\n",
    "        Args:\n",
    "            features (torch.Tensor): ids of each token,\n",
    "                size ([bs, seq_length]\n",
    "            attention_mask (torch.Tensor): binary tensor, used to select\n",
    "                tokens which are used to compute attention scores\n",
    "                in the self-attention heads, size [bs, seq_length]\n",
    "            head_mask (torch.Tensor): 1.0 in head_mask indicates that\n",
    "                we keep the head, size: [num_heads]\n",
    "                or [num_hidden_layers x num_heads]\n",
    "        Returns:\n",
    "            PyTorch Tensor with predicted class probabilities\n",
    "        \"\"\"\n",
    "        assert attention_mask is not None, \"attention mask is none\"\n",
    "        distilbert_output = self.distilbert(input_ids=features,\n",
    "                                            attention_mask=attention_mask,\n",
    "                                            head_mask=head_mask)\n",
    "        # we only need the hidden state here and don't need\n",
    "        # transformer output, so index 0\n",
    "        hidden_state = distilbert_output[0]  # (bs, seq_len, dim)\n",
    "        # we take embeddings from the [CLS] token, so again index 0\n",
    "        pooled_output = hidden_state[:, 0]  # (bs, dim)\n",
    "        pooled_output = self.pre_classifier(pooled_output)  # (bs, dim)\n",
    "        pooled_output = nn.ReLU()(pooled_output)  # (bs, dim)\n",
    "        pooled_output = self.dropout(pooled_output)  # (bs, dim)\n",
    "        logits = self.classifier(pooled_output)  # (bs, dim)\n",
    "\n",
    "        return logits"
   ]
  }
 ],
 "metadata": {
  "kernelspec": {
   "display_name": "Yandex DataSphere Kernel",
   "language": "python",
   "name": "python3"
  },
  "language_info": {
   "codemirror_mode": {
    "name": "ipython",
    "version": 3
   },
   "file_extension": ".py",
   "mimetype": "text/x-python",
   "name": "python",
   "nbconvert_exporter": "python",
   "pygments_lexer": "ipython3",
   "version": "3.7.7"
  },
  "notebookId": "20956c6b-2e6e-436f-81fb-0625b6797a18",
  "notebookPath": "text_attacks/notebooks/2.0-20news-bert-fine-tuning.ipynb"
 },
 "nbformat": 4,
 "nbformat_minor": 5
}
