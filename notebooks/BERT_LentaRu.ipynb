{
 "cells": [
  {
   "cell_type": "code",
   "execution_count": 451,
   "metadata": {
    "cellId": "17wwsputgbxegj8o60td6"
   },
   "outputs": [],
   "source": [
    "import pandas as pd\n",
    "from sklearn.linear_model import LogisticRegression\n",
    "from sklearn.model_selection import cross_val_score, StratifiedKFold\n",
    "from sklearn.feature_extraction.text import TfidfVectorizer\n",
    "from scipy.sparse import hstack\n",
    "from matplotlib import pyplot as plt\n",
    "import seaborn as sns\n"
   ]
  },
  {
   "cell_type": "code",
   "execution_count": 452,
   "metadata": {
    "cellId": "6uqwzjbe7qim4yoawocqkq"
   },
   "outputs": [
    {
     "name": "stdout",
     "output_type": "stream",
     "text": [
      "There are 1 GPU(s) available.\n",
      "We will use the GPU: Tesla V100-SXM2-32GB\n"
     ]
    }
   ],
   "source": [
    "#!g1.1\n",
    "\n",
    "import torch\n",
    "\n",
    "# If there's a GPU available...\n",
    "if torch.cuda.is_available():    \n",
    "\n",
    "    # Tell PyTorch to use the GPU.    \n",
    "    device = torch.device(\"cuda\")\n",
    "\n",
    "    print('There are %d GPU(s) available.' % torch.cuda.device_count())\n",
    "\n",
    "    print('We will use the GPU:', torch.cuda.get_device_name(0))\n",
    "\n",
    "# If not...\n",
    "else:\n",
    "    print('No GPU available, using the CPU instead.')\n",
    "    device = torch.device(\"cpu\")"
   ]
  },
  {
   "cell_type": "markdown",
   "metadata": {
    "cellId": "3oog67pbx9o00m6cd3tc34mv"
   },
   "source": [
    "\n",
    "### В данном ноутбуке мы рассмотрим обучение nlp моделей <br> и текстовые атаки на примере новостей - лентару"
   ]
  },
  {
   "cell_type": "code",
   "execution_count": null,
   "metadata": {
    "cellId": "87myu8j0dlmq6wwgo79ds"
   },
   "outputs": [],
   "source": [
    "#!g1.1\n"
   ]
  },
  {
   "cell_type": "code",
   "execution_count": 455,
   "metadata": {
    "cellId": "e21dw7jp2jb3gmx99iw3i3"
   },
   "outputs": [
    {
     "name": "stderr",
     "output_type": "stream",
     "text": [
      "/kernel/lib/python3.7/site-packages/IPython/core/interactiveshell.py:3418: DtypeWarning: Columns (3) have mixed types.Specify dtype option on import or set low_memory=False.\n",
      "  exec(code_obj, self.user_global_ns, self.user_ns)\n"
     ]
    }
   ],
   "source": [
    "#!g1.1\n",
    "df = pd.read_csv('../data/lenta-ru-news.csv')\n"
   ]
  },
  {
   "cell_type": "code",
   "execution_count": 457,
   "metadata": {
    "cellId": "7lp48s7w41ho7xhrnqdvy"
   },
   "outputs": [
    {
     "data": {
      "text/html": [
       "<div>\n",
       "<style scoped>\n",
       "    .dataframe tbody tr th:only-of-type {\n",
       "        vertical-align: middle;\n",
       "    }\n",
       "\n",
       "    .dataframe tbody tr th {\n",
       "        vertical-align: top;\n",
       "    }\n",
       "\n",
       "    .dataframe thead th {\n",
       "        text-align: right;\n",
       "    }\n",
       "</style>\n",
       "<table border=\"1\" class=\"dataframe\">\n",
       "  <thead>\n",
       "    <tr style=\"text-align: right;\">\n",
       "      <th></th>\n",
       "      <th>url</th>\n",
       "      <th>title</th>\n",
       "      <th>text</th>\n",
       "      <th>topic</th>\n",
       "      <th>tags</th>\n",
       "      <th>date</th>\n",
       "    </tr>\n",
       "  </thead>\n",
       "  <tbody>\n",
       "    <tr>\n",
       "      <th>0</th>\n",
       "      <td>https://lenta.ru/news/1914/09/16/hungarnn/</td>\n",
       "      <td>1914. Русские войска вступили в пределы Венгрии</td>\n",
       "      <td>Бои у Сопоцкина и Друскеник закончились отступ...</td>\n",
       "      <td>Библиотека</td>\n",
       "      <td>Первая мировая</td>\n",
       "      <td>1914/09/16</td>\n",
       "    </tr>\n",
       "    <tr>\n",
       "      <th>1</th>\n",
       "      <td>https://lenta.ru/news/1914/09/16/lermontov/</td>\n",
       "      <td>1914. Празднование столетия М.Ю. Лермонтова от...</td>\n",
       "      <td>Министерство народного просвещения, в виду про...</td>\n",
       "      <td>Библиотека</td>\n",
       "      <td>Первая мировая</td>\n",
       "      <td>1914/09/16</td>\n",
       "    </tr>\n",
       "    <tr>\n",
       "      <th>2</th>\n",
       "      <td>https://lenta.ru/news/1914/09/17/nesteroff/</td>\n",
       "      <td>1914. Das ist Nesteroff!</td>\n",
       "      <td>Штабс-капитан П. Н. Нестеров на днях, увидев в...</td>\n",
       "      <td>Библиотека</td>\n",
       "      <td>Первая мировая</td>\n",
       "      <td>1914/09/17</td>\n",
       "    </tr>\n",
       "  </tbody>\n",
       "</table>\n",
       "</div>"
      ],
      "text/plain": [
       "                                           url  \\\n",
       "0   https://lenta.ru/news/1914/09/16/hungarnn/   \n",
       "1  https://lenta.ru/news/1914/09/16/lermontov/   \n",
       "2  https://lenta.ru/news/1914/09/17/nesteroff/   \n",
       "\n",
       "                                               title  \\\n",
       "0  1914. Русские войска вступили в пределы Венгрии     \n",
       "1  1914. Празднование столетия М.Ю. Лермонтова от...   \n",
       "2                           1914. Das ist Nesteroff!   \n",
       "\n",
       "                                                text       topic  \\\n",
       "0  Бои у Сопоцкина и Друскеник закончились отступ...  Библиотека   \n",
       "1  Министерство народного просвещения, в виду про...  Библиотека   \n",
       "2  Штабс-капитан П. Н. Нестеров на днях, увидев в...  Библиотека   \n",
       "\n",
       "             tags        date  \n",
       "0  Первая мировая  1914/09/16  \n",
       "1  Первая мировая  1914/09/16  \n",
       "2  Первая мировая  1914/09/17  "
      ]
     },
     "metadata": {},
     "output_type": "display_data"
    }
   ],
   "source": [
    "#!g1.1\n",
    "df.head(3)"
   ]
  },
  {
   "cell_type": "code",
   "execution_count": 456,
   "metadata": {
    "cellId": "rk7zele4vk2ljx21xg2u"
   },
   "outputs": [],
   "source": [
    "#!g1.1\n",
    "X = df[['title']]\n",
    "y = df.topic\n",
    "\n",
    "from sklearn.preprocessing import LabelEncoder\n",
    "\n",
    "le = LabelEncoder()\n",
    "\n",
    "y= le.fit_transform(y.fillna('unknown'))"
   ]
  },
  {
   "cell_type": "code",
   "execution_count": 458,
   "metadata": {
    "cellId": "nf1nge4vusi2i8r3kfpi"
   },
   "outputs": [],
   "source": [
    "#!g1.1\n",
    "\n",
    "from sklearn.model_selection import train_test_split\n",
    "\n",
    "X_train, X_test, y_train, y_test = train_test_split(X, y, test_size=0.33, random_state=42)"
   ]
  },
  {
   "cell_type": "code",
   "execution_count": 460,
   "metadata": {
    "cellId": "jy72kgnsyakqr9ahtymni"
   },
   "outputs": [
    {
     "data": {
      "text/plain": [
       "array([23, 13, 13, ...,  6,  6, 13])"
      ]
     },
     "metadata": {},
     "output_type": "display_data"
    }
   ],
   "source": [
    "#!g1.1\n",
    "y_train"
   ]
  },
  {
   "cell_type": "markdown",
   "metadata": {
    "cellId": "ux3r099l98q985wxec4kcs"
   },
   "source": [
    "#!g1.1\n",
    "\n",
    "##  Подготовим данные для Берта "
   ]
  },
  {
   "cell_type": "markdown",
   "metadata": {
    "cellId": "ojyoxtdlnfknganup05c",
    "id": "4SMZ5T5Imhlx"
   },
   "source": [
    "\n",
    "\n",
    "Let's extract the sentences and labels of our training set as numpy ndarrays."
   ]
  },
  {
   "cell_type": "code",
   "execution_count": 461,
   "metadata": {
    "cellId": "m34oe1hw05p1dhexpqhi1c",
    "id": "GuE5BqICAne2"
   },
   "outputs": [],
   "source": [
    "#!g1.1\n",
    "# Get the lists of sentences and their labels.\n",
    "sentences = X_train.title.values\n",
    "labels = y_train\n",
    "\n",
    "#valid_df"
   ]
  },
  {
   "cell_type": "code",
   "execution_count": 402,
   "metadata": {
    "cellId": "3jpvacolzhwf6iofgmlb2p"
   },
   "outputs": [],
   "source": [
    "#!g1.1\n",
    "labels"
   ]
  },
  {
   "cell_type": "markdown",
   "metadata": {
    "cellId": "n2m4dcnkfdaicq7fwl9c6o",
    "id": "ex5O1eV-Pfct"
   },
   "source": [
    "# 3. Tokenization & Input Formatting\n",
    "\n",
    "In this section, we'll transform our dataset into the format that BERT can be trained on."
   ]
  },
  {
   "cell_type": "markdown",
   "metadata": {
    "cellId": "qtzfq4mx3uw401xg02zbn",
    "id": "-8kEDRvShcU5"
   },
   "source": [
    "## 3.1. BERT Tokenizer"
   ]
  },
  {
   "cell_type": "markdown",
   "metadata": {
    "cellId": "nltqt9p18y4hwrqoid46m",
    "id": "bWOPOyWghJp2"
   },
   "source": [
    "\n",
    "To feed our text to BERT, it must be split into tokens, and then these tokens must be mapped to their index in the tokenizer vocabulary.\n",
    "\n",
    "The tokenization must be performed by the tokenizer included with BERT--the below cell will download this for us. We'll be using the \"uncased\" version here.\n"
   ]
  },
  {
   "cell_type": "code",
   "execution_count": 462,
   "metadata": {
    "cellId": "6jmucnexl0vfmaq78346gl",
    "colab": {
     "base_uri": "https://localhost:8080/",
     "height": 84,
     "referenced_widgets": [
      "82ddfcea0e4c4e5a86cf6eca8585be8d",
      "8a256ba4a19e4ec98fe3c3c99fba4daa",
      "8c76faadf2f4415393c6f0a805f0d72b",
      "e0bb735fda99434a90380e7fc664212d",
      "cdb78e75309f4bc09366533331e72431",
      "1058e0b5baa248faa60c1ad146d10bf7",
      "375cc635389c4ddb9bf2aa443df58bae",
      "472198d5b6a748b3a81f9364fd1fa711"
     ]
    },
    "id": "Z474sSC6oe7A",
    "outputId": "4e6d97b6-2d4c-42ca-c201-d2b4a88895b9"
   },
   "outputs": [
    {
     "name": "stdout",
     "output_type": "stream",
     "text": [
      "Loading BERT tokenizer...\n"
     ]
    },
    {
     "data": {
      "application/vnd.jupyter.widget-view+json": {
       "model_id": "59c785d97ddb47d8ad83f8678c212caf",
       "version_major": 2,
       "version_minor": 0
      },
      "text/plain": [
       "HBox(children=(FloatProgress(value=0.0, description='Downloading', max=1649718.0, style=ProgressStyle(descript…"
      ]
     },
     "metadata": {},
     "output_type": "display_data"
    },
    {
     "name": "stdout",
     "output_type": "stream",
     "text": [
      "\n"
     ]
    },
    {
     "data": {
      "application/vnd.jupyter.widget-view+json": {
       "model_id": "727d75a00c984db299a8f96926242472",
       "version_major": 2,
       "version_minor": 0
      },
      "text/plain": [
       "HBox(children=(FloatProgress(value=0.0, description='Downloading', max=112.0, style=ProgressStyle(description_…"
      ]
     },
     "metadata": {},
     "output_type": "display_data"
    },
    {
     "name": "stdout",
     "output_type": "stream",
     "text": [
      "\n"
     ]
    },
    {
     "data": {
      "application/vnd.jupyter.widget-view+json": {
       "model_id": "cb7e4d1f4ad94821b817612f4a1aa76a",
       "version_major": 2,
       "version_minor": 0
      },
      "text/plain": [
       "HBox(children=(FloatProgress(value=0.0, description='Downloading', max=24.0, style=ProgressStyle(description_w…"
      ]
     },
     "metadata": {},
     "output_type": "display_data"
    },
    {
     "name": "stdout",
     "output_type": "stream",
     "text": [
      "\n"
     ]
    },
    {
     "data": {
      "application/vnd.jupyter.widget-view+json": {
       "model_id": "f0d7774ed36f4aec94e0a1bdce579b3e",
       "version_major": 2,
       "version_minor": 0
      },
      "text/plain": [
       "HBox(children=(FloatProgress(value=0.0, description='Downloading', max=642.0, style=ProgressStyle(description_…"
      ]
     },
     "metadata": {},
     "output_type": "display_data"
    },
    {
     "name": "stdout",
     "output_type": "stream",
     "text": [
      "\n"
     ]
    }
   ],
   "source": [
    "#!g1.1\n",
    "from transformers import BertTokenizer\n",
    "\n",
    "# попробуем облегченную модель \n",
    "# Load the BERT tokenizer. distilbert-base-uncased\n",
    "print('Loading BERT tokenizer...')\n",
    "tokenizer = BertTokenizer.from_pretrained('DeepPavlov/rubert-base-cased', do_lower_case=True)  #стандартная модель - bert-base-uncased, "
   ]
  },
  {
   "cell_type": "markdown",
   "metadata": {
    "cellId": "f6ic2xeksek12tly7v2t7yh",
    "id": "dFzmtleW6KmJ"
   },
   "source": [
    "Let's apply the tokenizer to one sentence just to see the output.\n"
   ]
  },
  {
   "cell_type": "markdown",
   "metadata": {
    "cellId": "738whdfw1r8h79bms1px9d"
   },
   "source": [
    "#!g1.1\n",
    "пример токенизации"
   ]
  },
  {
   "cell_type": "code",
   "execution_count": 463,
   "metadata": {
    "cellId": "axk01lz69tq81o7ofqc93h",
    "colab": {
     "base_uri": "https://localhost:8080/"
    },
    "id": "dLIbudgfh6F0",
    "outputId": "9ca681ff-195f-4960-a0ba-55ded440278e"
   },
   "outputs": [
    {
     "name": "stdout",
     "output_type": "stream",
     "text": [
      " Original:  Nvidia оснастит нетбуки видеосистемой GeForce 9400M\n",
      "Tokenized:  ['n', '##vid', '##ia', 'оснаст', '##ит', 'нет', '##буки', 'видеос', '##истем', '##ои', 'ge', '##force', '940', '##0', '##m']\n",
      "Token IDs:  [258, 32706, 9105, 69229, 1502, 8953, 79453, 51533, 4612, 15484, 47015, 40422, 54274, 137, 257]\n"
     ]
    }
   ],
   "source": [
    "#!g1.1\n",
    "# Print the original sentence.\n",
    "print(' Original: ', sentences[1000])\n",
    "\n",
    "# Print the sentence split into tokens.\n",
    "print('Tokenized: ', tokenizer.tokenize(sentences[1000]))\n",
    "\n",
    "# Print the sentence mapped to token ids.\n",
    "print('Token IDs: ', tokenizer.convert_tokens_to_ids(tokenizer.tokenize(sentences[1000])))"
   ]
  },
  {
   "cell_type": "markdown",
   "metadata": {
    "cellId": "f0bzhx87zoslojylqdjd",
    "id": "l6w8elb-58GJ"
   },
   "source": [
    "## 3.3. Tokenize Dataset"
   ]
  },
  {
   "cell_type": "markdown",
   "metadata": {
    "cellId": "pa70o6ujlergqrti32dqxq",
    "id": "U28qy4P-NwQ9"
   },
   "source": [
    "Оценим распределение длины текстов"
   ]
  },
  {
   "cell_type": "code",
   "execution_count": null,
   "metadata": {
    "cellId": "7zx8qci2cfvv8bu66ivhj8"
   },
   "outputs": [],
   "source": [
    "#!g1.1\n",
    "Мы видим, что предложения достаточно короткие"
   ]
  },
  {
   "cell_type": "markdown",
   "metadata": {
    "cellId": "8shl97fmpl98n44gdsyjdh"
   },
   "source": [
    "Мы можем смело брать модель с MAX_SEQ_LENGTH = 64"
   ]
  },
  {
   "cell_type": "markdown",
   "metadata": {
    "cellId": "i755qyr606mma331z1j2bj",
    "id": "tIWAoWL2RK1p"
   },
   "source": [
    "Now we're ready to perform the real tokenization.\n",
    "\n",
    "The `tokenizer.encode_plus` function combines multiple steps for us:\n",
    "\n",
    "1. Split the sentence into tokens.\n",
    "2. Add the special `[CLS]` and `[SEP]` tokens.\n",
    "3. Map the tokens to their IDs.\n",
    "4. Pad or truncate all sentences to the same length.\n",
    "5. Create the attention masks which explicitly differentiate real tokens from `[PAD]` tokens.\n",
    "\n",
    "The first four features are in `tokenizer.encode`, but I'm using `tokenizer.encode_plus` to get the fifth item (attention masks). Documentation is [here](https://huggingface.co/transformers/main_classes/tokenizer.html?highlight=encode_plus#transformers.PreTrainedTokenizer.encode_plus).\n"
   ]
  },
  {
   "cell_type": "markdown",
   "metadata": {
    "cellId": "37lvnbtn7xfxr91hme67e"
   },
   "source": [
    "токенизируем данные"
   ]
  },
  {
   "cell_type": "code",
   "execution_count": 464,
   "metadata": {
    "cellId": "yytmmzbcb1zzlhqavefsg",
    "colab": {
     "base_uri": "https://localhost:8080/"
    },
    "id": "2bBdb3pt8LuQ",
    "outputId": "b4d78c6d-0faf-459b-b11a-a26ce40bd32a"
   },
   "outputs": [
    {
     "name": "stderr",
     "output_type": "stream",
     "text": [
      "Truncation was not explicitly activated but `max_length` is provided a specific value, please use `truncation=True` to explicitly truncate examples to max length. Defaulting to 'longest_first' truncation strategy. If you encode pairs of sequences (GLUE-style) with the tokenizer you can select this strategy more precisely by providing a specific strategy to `truncation`.\n",
      "/home/jupyter/.local/lib/python3.7/site-packages/transformers/tokenization_utils_base.py:2227: FutureWarning: The `pad_to_max_length` argument is deprecated and will be removed in a future version, use `padding=True` or `padding='longest'` to pad to the longest sequence in the batch, or use `padding='max_length'` to pad to a max length. In this case, you can give a specific length with `max_length` (e.g. `max_length=45`) or leave max_length to None to pad to the maximal input size of the model (e.g. 512 for Bert).\n",
      "  FutureWarning,\n"
     ]
    }
   ],
   "source": [
    "#!g1.1\n",
    "# Tokenize all of the sentences and map the tokens to thier word IDs.\n",
    "input_ids = []\n",
    "attention_masks = []\n",
    "\n",
    "# For every sentence...\n",
    "for sent in sentences:\n",
    "    # `encode_plus` will:\n",
    "    #   (1) Tokenize the sentence.\n",
    "    #   (2) Prepend the `[CLS]` token to the start.\n",
    "    #   (3) Append the `[SEP]` token to the end.\n",
    "    #   (4) Map tokens to their IDs.\n",
    "    #   (5) Pad or truncate the sentence to `max_length`\n",
    "    #   (6) Create attention masks for [PAD] tokens.\n",
    "    encoded_dict = tokenizer.encode_plus(\n",
    "                        sent,                      # Sentence to encode.\n",
    "                        add_special_tokens = True, # Add '[CLS]' and '[SEP]'\n",
    "                        max_length = 64,           # Pad & truncate all sentences.   Установили на основе анализа длины текстов\n",
    "                        pad_to_max_length = True,\n",
    "                        return_attention_mask = True,   # Construct attn. masks.\n",
    "                        return_tensors = 'pt',     # Return pytorch tensors.\n",
    "                   )\n",
    "    \n",
    "    # Add the encoded sentence to the list.    \n",
    "    input_ids.append(encoded_dict['input_ids'])\n",
    "    \n",
    "    # And its attention mask (simply differentiates padding from non-padding).\n",
    "    attention_masks.append(encoded_dict['attention_mask'])\n",
    "\n",
    "# Convert the lists into tensors.\n",
    "input_ids = torch.cat(input_ids, dim=0)\n",
    "attention_masks = torch.cat(attention_masks, dim=0)\n",
    "labels = torch.tensor(labels)\n",
    "\n",
    "# Print sentence 0, now as a list of IDs.\n",
    "#print('Original: ', sentences[0])\n",
    "#print('Token IDs:', input_ids[0])"
   ]
  },
  {
   "cell_type": "markdown",
   "metadata": {
    "cellId": "82676h6h03u8rs5mvnowla",
    "id": "aRp4O7D295d_"
   },
   "source": [
    "## 3.4. Training & Validation Split\n"
   ]
  },
  {
   "cell_type": "markdown",
   "metadata": {
    "cellId": "iuprzz80qrdsfz1b97rtk",
    "id": "qu0ao7p8rb06"
   },
   "source": [
    "Divide up our training set to use 90% for training and 10% for validation."
   ]
  },
  {
   "cell_type": "code",
   "execution_count": 465,
   "metadata": {
    "cellId": "ib4pjswxwwzpdbvvlplze",
    "colab": {
     "base_uri": "https://localhost:8080/"
    },
    "id": "GEgLpFVlo1Z-",
    "outputId": "c0ae3d66-6982-4c33-a3f4-ca80e0cd9968"
   },
   "outputs": [
    {
     "name": "stdout",
     "output_type": "stream",
     "text": [
      "482,987 training samples\n",
      "53,666 validation samples\n"
     ]
    }
   ],
   "source": [
    "#!g1.1\n",
    "from torch.utils.data import TensorDataset, random_split\n",
    "\n",
    "# Combine the training inputs into a TensorDataset.\n",
    "dataset = TensorDataset(input_ids, attention_masks, labels)\n",
    "\n",
    "# Create a 90-10 train-validation split.\n",
    "\n",
    "# Calculate the number of samples to include in each set.\n",
    "train_size = int(0.9 * len(dataset))\n",
    "val_size = len(dataset) - train_size\n",
    "\n",
    "# Divide the dataset by randomly selecting samples.\n",
    "train_dataset, val_dataset = random_split(dataset, [train_size, val_size])\n",
    "\n",
    "print('{:>5,} training samples'.format(train_size))\n",
    "print('{:>5,} validation samples'.format(val_size))"
   ]
  },
  {
   "cell_type": "markdown",
   "metadata": {
    "cellId": "m9ybm4alx44tp9k0we34n",
    "id": "dD9i6Z2pG-sN"
   },
   "source": [
    "We'll also create an iterator for our dataset using the torch DataLoader class. This helps save on memory during training because, unlike a for loop, with an iterator the entire dataset does not need to be loaded into memory."
   ]
  },
  {
   "cell_type": "code",
   "execution_count": 466,
   "metadata": {
    "cellId": "iwqd3ad1js80vl8i354nnl",
    "id": "XGUqOCtgqGhP"
   },
   "outputs": [],
   "source": [
    "#!g1.1\n",
    "from torch.utils.data import DataLoader, RandomSampler, SequentialSampler\n",
    "\n",
    "# The DataLoader needs to know our batch size for training, so we specify it \n",
    "# here. For fine-tuning BERT on a specific task, the authors recommend a batch \n",
    "# size of 16 or 32.\n",
    "batch_size = 64  # \n",
    "\n",
    "# Create the DataLoaders for our training and validation sets.\n",
    "# We'll take training samples in random order. \n",
    "train_dataloader = DataLoader(\n",
    "            train_dataset,  # The training samples.\n",
    "            sampler = RandomSampler(train_dataset), # Select batches randomly\n",
    "            batch_size = batch_size # Trains with this batch size.\n",
    "        )\n",
    "\n",
    "# For validation the order doesn't matter, so we'll just read them sequentially.\n",
    "validation_dataloader = DataLoader(\n",
    "            val_dataset, # The validation samples.\n",
    "            sampler = SequentialSampler(val_dataset), # Pull out batches sequentially.\n",
    "            batch_size = batch_size # Evaluate with this batch size.\n",
    "        )"
   ]
  },
  {
   "cell_type": "markdown",
   "metadata": {
    "cellId": "66cyrih7c3p0cl88mzgvetq",
    "id": "8bwa6Rts-02-"
   },
   "source": [
    "# 4. Train Our Classification Model"
   ]
  },
  {
   "cell_type": "markdown",
   "metadata": {
    "cellId": "imoti25fzyfya532kf959",
    "id": "3xYQ3iLO08SX"
   },
   "source": [
    "Now that our input data is properly formatted, it's time to fine tune the BERT model. "
   ]
  },
  {
   "cell_type": "markdown",
   "metadata": {
    "cellId": "s06oty1c87j31dvpuqspgj",
    "id": "D6TKgyUzPIQc"
   },
   "source": [
    "## 4.1. BertForSequenceClassification"
   ]
  },
  {
   "cell_type": "markdown",
   "metadata": {
    "cellId": "s4gtg8ptifgsq4bdfylkhe",
    "id": "WnQW9E-bBCRt"
   },
   "source": [
    "OK, let's load BERT! There are a few different pre-trained BERT models available. \"bert-base-uncased\" means the version that has only lowercase letters (\"uncased\") and is the smaller version of the two (\"base\" vs \"large\").\n",
    "\n",
    "The documentation for `from_pretrained` can be found [here](https://huggingface.co/transformers/v2.2.0/main_classes/model.html#transformers.PreTrainedModel.from_pretrained), with the additional parameters defined [here](https://huggingface.co/transformers/v2.2.0/main_classes/configuration.html#transformers.PretrainedConfig)."
   ]
  },
  {
   "cell_type": "code",
   "execution_count": 470,
   "metadata": {
    "cellId": "vrvrmu38iypy4kupn6or"
   },
   "outputs": [
    {
     "data": {
      "text/plain": [
       "24"
      ]
     },
     "metadata": {},
     "output_type": "display_data"
    }
   ],
   "source": [
    "#!g1.1\n",
    "pd.Series(y).nunique()"
   ]
  },
  {
   "cell_type": "code",
   "execution_count": 471,
   "metadata": {
    "cellId": "fpe6get1y2b3r4zt8pm3qu",
    "colab": {
     "base_uri": "https://localhost:8080/",
     "height": 1000,
     "referenced_widgets": [
      "bf9dfa1ff3e642fbb74c5146d21044c2",
      "1c2b0ede959142fc89bf07a9c88df638",
      "1296a3d754b344a482a03e5af84e805e",
      "6f132d7bb83d41b6847df0d0ec0a1b92",
      "2755b9838bae408ca8cf667ad9d501fc",
      "f8874fec8a404ae89a38fd2ecbb357cf",
      "a7bdbedc75de4f77b45f1389c2ea0abc",
      "978c24b18b594eaf8ca47730a88eefb9",
      "fe254c3bcc08402eb506f0e98f5673a7",
      "cea84f9c3db641acb98314028b305514",
      "23ca9359e6c44232a1346e6f2ab7e48c",
      "d689bc8d488a4dc09c393b4fc9747bcb",
      "6c7dec7b1e804c2195f6e60fb3c1d18e",
      "0fe5b1d0540240a8a8426352c24b2887",
      "4b1e27aff6f04fec8268d951e46b1e63",
      "440da34c72344cb08e4a1ee5de7049ee"
     ]
    },
    "id": "gFsCTp_mporB",
    "outputId": "af690f33-6cd5-4678-bdaf-209f068f70f5"
   },
   "outputs": [
    {
     "data": {
      "application/vnd.jupyter.widget-view+json": {
       "model_id": "b14205f62e294d88b5be55835648f087",
       "version_major": 2,
       "version_minor": 0
      },
      "text/plain": [
       "HBox(children=(FloatProgress(value=0.0, description='Downloading', max=714355318.0, style=ProgressStyle(descri…"
      ]
     },
     "metadata": {},
     "output_type": "display_data"
    },
    {
     "name": "stdout",
     "output_type": "stream",
     "text": [
      "\n"
     ]
    },
    {
     "name": "stderr",
     "output_type": "stream",
     "text": [
      "Some weights of the model checkpoint at DeepPavlov/rubert-base-cased were not used when initializing BertForSequenceClassification: ['cls.seq_relationship.weight', 'cls.predictions.transform.dense.weight', 'cls.predictions.decoder.weight', 'cls.predictions.decoder.bias', 'cls.predictions.transform.LayerNorm.bias', 'cls.predictions.transform.LayerNorm.weight', 'cls.predictions.bias', 'cls.seq_relationship.bias', 'cls.predictions.transform.dense.bias']\n",
      "- This IS expected if you are initializing BertForSequenceClassification from the checkpoint of a model trained on another task or with another architecture (e.g. initializing a BertForSequenceClassification model from a BertForPreTraining model).\n",
      "- This IS NOT expected if you are initializing BertForSequenceClassification from the checkpoint of a model that you expect to be exactly identical (initializing a BertForSequenceClassification model from a BertForSequenceClassification model).\n",
      "Some weights of BertForSequenceClassification were not initialized from the model checkpoint at DeepPavlov/rubert-base-cased and are newly initialized: ['classifier.bias', 'classifier.weight']\n",
      "You should probably TRAIN this model on a down-stream task to be able to use it for predictions and inference.\n"
     ]
    },
    {
     "data": {
      "text/plain": [
       "BertForSequenceClassification(\n",
       "  (bert): BertModel(\n",
       "    (embeddings): BertEmbeddings(\n",
       "      (word_embeddings): Embedding(119547, 768, padding_idx=0)\n",
       "      (position_embeddings): Embedding(512, 768)\n",
       "      (token_type_embeddings): Embedding(2, 768)\n",
       "      (LayerNorm): LayerNorm((768,), eps=1e-12, elementwise_affine=True)\n",
       "      (dropout): Dropout(p=0.1, inplace=False)\n",
       "    )\n",
       "    (encoder): BertEncoder(\n",
       "      (layer): ModuleList(\n",
       "        (0): BertLayer(\n",
       "          (attention): BertAttention(\n",
       "            (self): BertSelfAttention(\n",
       "              (query): Linear(in_features=768, out_features=768, bias=True)\n",
       "              (key): Linear(in_features=768, out_features=768, bias=True)\n",
       "              (value): Linear(in_features=768, out_features=768, bias=True)\n",
       "              (dropout): Dropout(p=0.1, inplace=False)\n",
       "            )\n",
       "            (output): BertSelfOutput(\n",
       "              (dense): Linear(in_features=768, out_features=768, bias=True)\n",
       "              (LayerNorm): LayerNorm((768,), eps=1e-12, elementwise_affine=True)\n",
       "              (dropout): Dropout(p=0.1, inplace=False)\n",
       "            )\n",
       "          )\n",
       "          (intermediate): BertIntermediate(\n",
       "            (dense): Linear(in_features=768, out_features=3072, bias=True)\n",
       "          )\n",
       "          (output): BertOutput(\n",
       "            (dense): Linear(in_features=3072, out_features=768, bias=True)\n",
       "            (LayerNorm): LayerNorm((768,), eps=1e-12, elementwise_affine=True)\n",
       "            (dropout): Dropout(p=0.1, inplace=False)\n",
       "          )\n",
       "        )\n",
       "        (1): BertLayer(\n",
       "          (attention): BertAttention(\n",
       "            (self): BertSelfAttention(\n",
       "              (query): Linear(in_features=768, out_features=768, bias=True)\n",
       "              (key): Linear(in_features=768, out_features=768, bias=True)\n",
       "              (value): Linear(in_features=768, out_features=768, bias=True)\n",
       "              (dropout): Dropout(p=0.1, inplace=False)\n",
       "            )\n",
       "            (output): BertSelfOutput(\n",
       "              (dense): Linear(in_features=768, out_features=768, bias=True)\n",
       "              (LayerNorm): LayerNorm((768,), eps=1e-12, elementwise_affine=True)\n",
       "              (dropout): Dropout(p=0.1, inplace=False)\n",
       "            )\n",
       "          )\n",
       "          (intermediate): BertIntermediate(\n",
       "            (dense): Linear(in_features=768, out_features=3072, bias=True)\n",
       "          )\n",
       "          (output): BertOutput(\n",
       "            (dense): Linear(in_features=3072, out_features=768, bias=True)\n",
       "            (LayerNorm): LayerNorm((768,), eps=1e-12, elementwise_affine=True)\n",
       "            (dropout): Dropout(p=0.1, inplace=False)\n",
       "          )\n",
       "        )\n",
       "        (2): BertLayer(\n",
       "          (attention): BertAttention(\n",
       "            (self): BertSelfAttention(\n",
       "              (query): Linear(in_features=768, out_features=768, bias=True)\n",
       "              (key): Linear(in_features=768, out_features=768, bias=True)\n",
       "              (value): Linear(in_features=768, out_features=768, bias=True)\n",
       "              (dropout): Dropout(p=0.1, inplace=False)\n",
       "            )\n",
       "            (output): BertSelfOutput(\n",
       "              (dense): Linear(in_features=768, out_features=768, bias=True)\n",
       "              (LayerNorm): LayerNorm((768,), eps=1e-12, elementwise_affine=True)\n",
       "              (dropout): Dropout(p=0.1, inplace=False)\n",
       "            )\n",
       "          )\n",
       "          (intermediate): BertIntermediate(\n",
       "            (dense): Linear(in_features=768, out_features=3072, bias=True)\n",
       "          )\n",
       "          (output): BertOutput(\n",
       "            (dense): Linear(in_features=3072, out_features=768, bias=True)\n",
       "            (LayerNorm): LayerNorm((768,), eps=1e-12, elementwise_affine=True)\n",
       "            (dropout): Dropout(p=0.1, inplace=False)\n",
       "          )\n",
       "        )\n",
       "        (3): BertLayer(\n",
       "          (attention): BertAttention(\n",
       "            (self): BertSelfAttention(\n",
       "              (query): Linear(in_features=768, out_features=768, bias=True)\n",
       "              (key): Linear(in_features=768, out_features=768, bias=True)\n",
       "              (value): Linear(in_features=768, out_features=768, bias=True)\n",
       "              (dropout): Dropout(p=0.1, inplace=False)\n",
       "            )\n",
       "            (output): BertSelfOutput(\n",
       "              (dense): Linear(in_features=768, out_features=768, bias=True)\n",
       "              (LayerNorm): LayerNorm((768,), eps=1e-12, elementwise_affine=True)\n",
       "              (dropout): Dropout(p=0.1, inplace=False)\n",
       "            )\n",
       "          )\n",
       "          (intermediate): BertIntermediate(\n",
       "            (dense): Linear(in_features=768, out_features=3072, bias=True)\n",
       "          )\n",
       "          (output): BertOutput(\n",
       "            (dense): Linear(in_features=3072, out_features=768, bias=True)\n",
       "            (LayerNorm): LayerNorm((768,), eps=1e-12, elementwise_affine=True)\n",
       "            (dropout): Dropout(p=0.1, inplace=False)\n",
       "          )\n",
       "        )\n",
       "        (4): BertLayer(\n",
       "          (attention): BertAttention(\n",
       "            (self): BertSelfAttention(\n",
       "              (query): Linear(in_features=768, out_features=768, bias=True)\n",
       "              (key): Linear(in_features=768, out_features=768, bias=True)\n",
       "              (value): Linear(in_features=768, out_features=768, bias=True)\n",
       "              (dropout): Dropout(p=0.1, inplace=False)\n",
       "            )\n",
       "            (output): BertSelfOutput(\n",
       "              (dense): Linear(in_features=768, out_features=768, bias=True)\n",
       "              (LayerNorm): LayerNorm((768,), eps=1e-12, elementwise_affine=True)\n",
       "              (dropout): Dropout(p=0.1, inplace=False)\n",
       "            )\n",
       "          )\n",
       "          (intermediate): BertIntermediate(\n",
       "            (dense): Linear(in_features=768, out_features=3072, bias=True)\n",
       "          )\n",
       "          (output): BertOutput(\n",
       "            (dense): Linear(in_features=3072, out_features=768, bias=True)\n",
       "            (LayerNorm): LayerNorm((768,), eps=1e-12, elementwise_affine=True)\n",
       "            (dropout): Dropout(p=0.1, inplace=False)\n",
       "          )\n",
       "        )\n",
       "        (5): BertLayer(\n",
       "          (attention): BertAttention(\n",
       "            (self): BertSelfAttention(\n",
       "              (query): Linear(in_features=768, out_features=768, bias=True)\n",
       "              (key): Linear(in_features=768, out_features=768, bias=True)\n",
       "              (value): Linear(in_features=768, out_features=768, bias=True)\n",
       "              (dropout): Dropout(p=0.1, inplace=False)\n",
       "            )\n",
       "            (output): BertSelfOutput(\n",
       "              (dense): Linear(in_features=768, out_features=768, bias=True)\n",
       "              (LayerNorm): LayerNorm((768,), eps=1e-12, elementwise_affine=True)\n",
       "              (dropout): Dropout(p=0.1, inplace=False)\n",
       "            )\n",
       "          )\n",
       "          (intermediate): BertIntermediate(\n",
       "            (dense): Linear(in_features=768, out_features=3072, bias=True)\n",
       "          )\n",
       "          (output): BertOutput(\n",
       "            (dense): Linear(in_features=3072, out_features=768, bias=True)\n",
       "            (LayerNorm): LayerNorm((768,), eps=1e-12, elementwise_affine=True)\n",
       "            (dropout): Dropout(p=0.1, inplace=False)\n",
       "          )\n",
       "        )\n",
       "        (6): BertLayer(\n",
       "          (attention): BertAttention(\n",
       "            (self): BertSelfAttention(\n",
       "              (query): Linear(in_features=768, out_features=768, bias=True)\n",
       "              (key): Linear(in_features=768, out_features=768, bias=True)\n",
       "              (value): Linear(in_features=768, out_features=768, bias=True)\n",
       "              (dropout): Dropout(p=0.1, inplace=False)\n",
       "            )\n",
       "            (output): BertSelfOutput(\n",
       "              (dense): Linear(in_features=768, out_features=768, bias=True)\n",
       "              (LayerNorm): LayerNorm((768,), eps=1e-12, elementwise_affine=True)\n",
       "              (dropout): Dropout(p=0.1, inplace=False)\n",
       "            )\n",
       "          )\n",
       "          (intermediate): BertIntermediate(\n",
       "            (dense): Linear(in_features=768, out_features=3072, bias=True)\n",
       "          )\n",
       "          (output): BertOutput(\n",
       "            (dense): Linear(in_features=3072, out_features=768, bias=True)\n",
       "            (LayerNorm): LayerNorm((768,), eps=1e-12, elementwise_affine=True)\n",
       "            (dropout): Dropout(p=0.1, inplace=False)\n",
       "          )\n",
       "        )\n",
       "        (7): BertLayer(\n",
       "          (attention): BertAttention(\n",
       "            (self): BertSelfAttention(\n",
       "              (query): Linear(in_features=768, out_features=768, bias=True)\n",
       "              (key): Linear(in_features=768, out_features=768, bias=True)\n",
       "              (value): Linear(in_features=768, out_features=768, bias=True)\n",
       "              (dropout): Dropout(p=0.1, inplace=False)\n",
       "            )\n",
       "            (output): BertSelfOutput(\n",
       "              (dense): Linear(in_features=768, out_features=768, bias=True)\n",
       "              (LayerNorm): LayerNorm((768,), eps=1e-12, elementwise_affine=True)\n",
       "              (dropout): Dropout(p=0.1, inplace=False)\n",
       "            )\n",
       "          )\n",
       "          (intermediate): BertIntermediate(\n",
       "            (dense): Linear(in_features=768, out_features=3072, bias=True)\n",
       "          )\n",
       "          (output): BertOutput(\n",
       "            (dense): Linear(in_features=3072, out_features=768, bias=True)\n",
       "            (LayerNorm): LayerNorm((768,), eps=1e-12, elementwise_affine=True)\n",
       "            (dropout): Dropout(p=0.1, inplace=False)\n",
       "          )\n",
       "        )\n",
       "        (8): BertLayer(\n",
       "          (attention): BertAttention(\n",
       "            (self): BertSelfAttention(\n",
       "              (query): Linear(in_features=768, out_features=768, bias=True)\n",
       "              (key): Linear(in_features=768, out_features=768, bias=True)\n",
       "              (value): Linear(in_features=768, out_features=768, bias=True)\n",
       "              (dropout): Dropout(p=0.1, inplace=False)\n",
       "            )\n",
       "            (output): BertSelfOutput(\n",
       "              (dense): Linear(in_features=768, out_features=768, bias=True)\n",
       "              (LayerNorm): LayerNorm((768,), eps=1e-12, elementwise_affine=True)\n",
       "              (dropout): Dropout(p=0.1, inplace=False)\n",
       "            )\n",
       "          )\n",
       "          (intermediate): BertIntermediate(\n",
       "            (dense): Linear(in_features=768, out_features=3072, bias=True)\n",
       "          )\n",
       "          (output): BertOutput(\n",
       "            (dense): Linear(in_features=3072, out_features=768, bias=True)\n",
       "            (LayerNorm): LayerNorm((768,), eps=1e-12, elementwise_affine=True)\n",
       "            (dropout): Dropout(p=0.1, inplace=False)\n",
       "          )\n",
       "        )\n",
       "        (9): BertLayer(\n",
       "          (attention): BertAttention(\n",
       "            (self): BertSelfAttention(\n",
       "              (query): Linear(in_features=768, out_features=768, bias=True)\n",
       "              (key): Linear(in_features=768, out_features=768, bias=True)\n",
       "              (value): Linear(in_features=768, out_features=768, bias=True)\n",
       "              (dropout): Dropout(p=0.1, inplace=False)\n",
       "            )\n",
       "            (output): BertSelfOutput(\n",
       "              (dense): Linear(in_features=768, out_features=768, bias=True)\n",
       "              (LayerNorm): LayerNorm((768,), eps=1e-12, elementwise_affine=True)\n",
       "              (dropout): Dropout(p=0.1, inplace=False)\n",
       "            )\n",
       "          )\n",
       "          (intermediate): BertIntermediate(\n",
       "            (dense): Linear(in_features=768, out_features=3072, bias=True)\n",
       "          )\n",
       "          (output): BertOutput(\n",
       "            (dense): Linear(in_features=3072, out_features=768, bias=True)\n",
       "            (LayerNorm): LayerNorm((768,), eps=1e-12, elementwise_affine=True)\n",
       "            (dropout): Dropout(p=0.1, inplace=False)\n",
       "          )\n",
       "        )\n",
       "        (10): BertLayer(\n",
       "          (attention): BertAttention(\n",
       "            (self): BertSelfAttention(\n",
       "              (query): Linear(in_features=768, out_features=768, bias=True)\n",
       "              (key): Linear(in_features=768, out_features=768, bias=True)\n",
       "              (value): Linear(in_features=768, out_features=768, bias=True)\n",
       "              (dropout): Dropout(p=0.1, inplace=False)\n",
       "            )\n",
       "            (output): BertSelfOutput(\n",
       "              (dense): Linear(in_features=768, out_features=768, bias=True)\n",
       "              (LayerNorm): LayerNorm((768,), eps=1e-12, elementwise_affine=True)\n",
       "              (dropout): Dropout(p=0.1, inplace=False)\n",
       "            )\n",
       "          )\n",
       "          (intermediate): BertIntermediate(\n",
       "            (dense): Linear(in_features=768, out_features=3072, bias=True)\n",
       "          )\n",
       "          (output): BertOutput(\n",
       "            (dense): Linear(in_features=3072, out_features=768, bias=True)\n",
       "            (LayerNorm): LayerNorm((768,), eps=1e-12, elementwise_affine=True)\n",
       "            (dropout): Dropout(p=0.1, inplace=False)\n",
       "          )\n",
       "        )\n",
       "        (11): BertLayer(\n",
       "          (attention): BertAttention(\n",
       "            (self): BertSelfAttention(\n",
       "              (query): Linear(in_features=768, out_features=768, bias=True)\n",
       "              (key): Linear(in_features=768, out_features=768, bias=True)\n",
       "              (value): Linear(in_features=768, out_features=768, bias=True)\n",
       "              (dropout): Dropout(p=0.1, inplace=False)\n",
       "            )\n",
       "            (output): BertSelfOutput(\n",
       "              (dense): Linear(in_features=768, out_features=768, bias=True)\n",
       "              (LayerNorm): LayerNorm((768,), eps=1e-12, elementwise_affine=True)\n",
       "              (dropout): Dropout(p=0.1, inplace=False)\n",
       "            )\n",
       "          )\n",
       "          (intermediate): BertIntermediate(\n",
       "            (dense): Linear(in_features=768, out_features=3072, bias=True)\n",
       "          )\n",
       "          (output): BertOutput(\n",
       "            (dense): Linear(in_features=3072, out_features=768, bias=True)\n",
       "            (LayerNorm): LayerNorm((768,), eps=1e-12, elementwise_affine=True)\n",
       "            (dropout): Dropout(p=0.1, inplace=False)\n",
       "          )\n",
       "        )\n",
       "      )\n",
       "    )\n",
       "    (pooler): BertPooler(\n",
       "      (dense): Linear(in_features=768, out_features=768, bias=True)\n",
       "      (activation): Tanh()\n",
       "    )\n",
       "  )\n",
       "  (dropout): Dropout(p=0.1, inplace=False)\n",
       "  (classifier): Linear(in_features=768, out_features=24, bias=True)\n",
       ")"
      ]
     },
     "metadata": {},
     "output_type": "display_data"
    }
   ],
   "source": [
    "#!g1.1\n",
    "from transformers import BertForSequenceClassification, AdamW, BertConfig\n",
    "\n",
    "#НУЖНО УКАЗАТЬ КОЛ-ВО КЛАССОВ\n",
    "# Load BertForSequenceClassification, the pretrained BERT model with a single \n",
    "# linear classification layer on top. \n",
    "model = BertForSequenceClassification.from_pretrained(\n",
    "    \"DeepPavlov/rubert-base-cased\", # Use the 12-layer BERT model, with an uncased vocab. используем дистилированный берт\n",
    "    num_labels = 24,  # num of output classes\n",
    "                    # You can increase this for multi-class tasks.   \n",
    "    output_attentions = False, # Whether the model returns attentions weights.\n",
    "    output_hidden_states = False, # Whether the model returns all hidden-states.\n",
    ")\n",
    "\n",
    "# Tell pytorch to run this model on the GPU.\n",
    "model.cuda()"
   ]
  },
  {
   "cell_type": "markdown",
   "metadata": {
    "cellId": "tlfcqv02mm9z73ta5kclm",
    "id": "qRWT-D4U_Pvx"
   },
   "source": [
    "## 4.2. Optimizer & Learning Rate Scheduler"
   ]
  },
  {
   "cell_type": "markdown",
   "metadata": {
    "cellId": "vkncfex3bwirec6q7ay3a",
    "id": "8o-VEBobKwHk"
   },
   "source": [
    "Now that we have our model loaded we need to grab the training hyperparameters from within the stored model.\n",
    "\n",
    "For the purposes of fine-tuning, the authors recommend choosing from the following values (from Appendix A.3 of the [BERT paper](https://arxiv.org/pdf/1810.04805.pdf)):\n",
    "\n",
    ">- **Batch size:** 16, 32  \n",
    "- **Learning rate (Adam):** 5e-5, 3e-5, 2e-5  \n",
    "- **Number of epochs:** 2, 3, 4 \n",
    "\n",
    "We chose:\n",
    "* Batch size: 32 (set when creating our DataLoaders)\n",
    "* Learning rate: 2e-5\n",
    "* Epochs: 4 (we'll see that this is probably too many...)\n",
    "\n",
    "The epsilon parameter `eps = 1e-8` is \"a very small number to prevent any division by zero in the implementation\" (from [here](https://machinelearningmastery.com/adam-optimization-algorithm-for-deep-learning/)).\n",
    "\n",
    "You can find the creation of the AdamW optimizer in `run_glue.py` [here](https://github.com/huggingface/transformers/blob/5bfcd0485ece086ebcbed2d008813037968a9e58/examples/run_glue.py#L109)."
   ]
  },
  {
   "cell_type": "code",
   "execution_count": 472,
   "metadata": {
    "cellId": "wcx8dw4f53a7e98jomhwb2",
    "id": "-p0upAhhRiIx"
   },
   "outputs": [],
   "source": [
    "#!g1.1\n",
    "\n",
    "# Note: AdamW is a class from the huggingface library (as opposed to pytorch) \n",
    "# I believe the 'W' stands for 'Weight Decay fix\"\n",
    "optimizer = AdamW(model.parameters(),\n",
    "                  lr = 2e-5, # args.learning_rate - default is 5e-5, our notebook had 2e-5\n",
    "                  eps = 1e-8 # args.adam_epsilon  - default is 1e-8.\n",
    "                )\n",
    "\n",
    "\n",
    "#!g1.1\n",
    "from transformers import get_linear_schedule_with_warmup\n",
    "\n",
    "# Number of training epochs. The BERT authors recommend between 2 and 4. \n",
    "# We chose to run for 4, but we'll see later that this may be over-fitting the\n",
    "# training data.\n",
    "epochs = 3\n",
    "\n",
    "# Total number of training steps is [number of batches] x [number of epochs]. \n",
    "# (Note that this is not the same as the number of training samples).\n",
    "total_steps = len(train_dataloader) * epochs\n",
    "\n",
    "# Create the learning rate scheduler.\n",
    "scheduler = get_linear_schedule_with_warmup(optimizer, \n",
    "                                            num_warmup_steps = 0, # Default value in run_glue.py\n",
    "                                            num_training_steps = total_steps)"
   ]
  },
  {
   "cell_type": "markdown",
   "metadata": {
    "cellId": "4eub57f4047mh1jxx1jn9l",
    "id": "RqfmWwUR_Sox"
   },
   "source": [
    "## 4.3. Training Loop"
   ]
  },
  {
   "cell_type": "markdown",
   "metadata": {
    "cellId": "edt6a10duzijfihsf4ahhr",
    "id": "_QXZhFb4LnV5"
   },
   "source": [
    "Below is our training loop. There's a lot going on, but fundamentally for each pass in our loop we have a trianing phase and a validation phase. \n",
    "\n",
    "> *Thank you to [Stas Bekman](https://ca.linkedin.com/in/stasbekman) for contributing the insights and code for using validation loss to detect over-fitting!*\n",
    "\n",
    "**Training:**\n",
    "- Unpack our data inputs and labels\n",
    "- Load data onto the GPU for acceleration\n",
    "- Clear out the gradients calculated in the previous pass. \n",
    "    - In pytorch the gradients accumulate by default (useful for things like RNNs) unless you explicitly clear them out.\n",
    "- Forward pass (feed input data through the network)\n",
    "- Backward pass (backpropagation)\n",
    "- Tell the network to update parameters with optimizer.step()\n",
    "- Track variables for monitoring progress\n",
    "\n",
    "**Evalution:**\n",
    "- Unpack our data inputs and labels\n",
    "- Load data onto the GPU for acceleration\n",
    "- Forward pass (feed input data through the network)\n",
    "- Compute loss on our validation data and track variables for monitoring progress\n",
    "\n",
    "Pytorch hides all of the detailed calculations from us, but we've commented the code to point out which of the above steps are happening on each line. \n",
    "\n",
    "> *PyTorch also has some [beginner tutorials](https://pytorch.org/tutorials/beginner/blitz/cifar10_tutorial.html#sphx-glr-beginner-blitz-cifar10-tutorial-py) which you may also find helpful.*"
   ]
  },
  {
   "cell_type": "markdown",
   "metadata": {
    "cellId": "u98y155y7cd8cupgb208g",
    "id": "pE5B99H5H2-W"
   },
   "source": [
    "Define a helper functions:"
   ]
  },
  {
   "cell_type": "code",
   "execution_count": 473,
   "metadata": {
    "cellId": "whbwtueefmf6cyv4kjctb",
    "id": "gpt6tR83keZD"
   },
   "outputs": [],
   "source": [
    "#!g1.1\n",
    "import numpy as np\n",
    "\n",
    "# Function to calculate the accuracy of our predictions vs labels\n",
    "def flat_accuracy(preds, labels):\n",
    "    pred_flat = np.argmax(preds, axis=1).flatten()\n",
    "    labels_flat = labels.flatten()\n",
    "    return np.sum(pred_flat == labels_flat) / len(labels_flat)\n",
    "\n",
    "#!g1.1\n",
    "import time\n",
    "import datetime\n",
    "\n",
    "def format_time(elapsed):\n",
    "    '''\n",
    "    Takes a time in seconds and returns a string hh:mm:ss\n",
    "    '''\n",
    "    # Round to the nearest second.\n",
    "    elapsed_rounded = int(round((elapsed)))\n",
    "    \n",
    "    # Format as hh:mm:ss\n",
    "    return str(datetime.timedelta(seconds=elapsed_rounded))\n"
   ]
  },
  {
   "cell_type": "markdown",
   "metadata": {
    "cellId": "3kyi9m0kxhx5tfm5oswuum",
    "id": "cfNIhN19te3N"
   },
   "source": [
    "We're ready to kick off the training!"
   ]
  },
  {
   "cell_type": "code",
   "execution_count": 474,
   "metadata": {
    "cellId": "8pf7qzfvneap0oeobtn11q",
    "colab": {
     "base_uri": "https://localhost:8080/"
    },
    "id": "6J-FYdx6nFE_",
    "outputId": "b2c3e30b-eb5d-4b13-a207-05a48a87ed2a"
   },
   "outputs": [
    {
     "name": "stdout",
     "output_type": "stream",
     "text": [
      "\n",
      "======== Epoch 1 / 3 ========\n",
      "Training...\n",
      "  Batch    40  of  7,547.    Elapsed: 0:00:09.\n",
      "  Batch    80  of  7,547.    Elapsed: 0:00:18.\n",
      "  Batch   120  of  7,547.    Elapsed: 0:00:27.\n",
      "  Batch   160  of  7,547.    Elapsed: 0:00:36.\n",
      "  Batch   200  of  7,547.    Elapsed: 0:00:45.\n",
      "  Batch   240  of  7,547.    Elapsed: 0:00:54.\n",
      "  Batch   280  of  7,547.    Elapsed: 0:01:03.\n",
      "  Batch   320  of  7,547.    Elapsed: 0:01:11.\n",
      "  Batch   360  of  7,547.    Elapsed: 0:01:20.\n",
      "  Batch   400  of  7,547.    Elapsed: 0:01:29.\n",
      "  Batch   440  of  7,547.    Elapsed: 0:01:38.\n",
      "  Batch   480  of  7,547.    Elapsed: 0:01:47.\n",
      "  Batch   520  of  7,547.    Elapsed: 0:01:56.\n",
      "  Batch   560  of  7,547.    Elapsed: 0:02:05.\n",
      "  Batch   600  of  7,547.    Elapsed: 0:02:14.\n",
      "  Batch   640  of  7,547.    Elapsed: 0:02:23.\n",
      "  Batch   680  of  7,547.    Elapsed: 0:02:32.\n",
      "  Batch   720  of  7,547.    Elapsed: 0:02:41.\n",
      "  Batch   760  of  7,547.    Elapsed: 0:02:50.\n",
      "  Batch   800  of  7,547.    Elapsed: 0:02:58.\n",
      "  Batch   840  of  7,547.    Elapsed: 0:03:07.\n",
      "  Batch   880  of  7,547.    Elapsed: 0:03:16.\n",
      "  Batch   920  of  7,547.    Elapsed: 0:03:25.\n",
      "  Batch   960  of  7,547.    Elapsed: 0:03:34.\n",
      "  Batch 1,000  of  7,547.    Elapsed: 0:03:43.\n",
      "  Batch 1,040  of  7,547.    Elapsed: 0:03:52.\n",
      "  Batch 1,080  of  7,547.    Elapsed: 0:04:01.\n",
      "  Batch 1,120  of  7,547.    Elapsed: 0:04:10.\n",
      "  Batch 1,160  of  7,547.    Elapsed: 0:04:19.\n",
      "  Batch 1,200  of  7,547.    Elapsed: 0:04:28.\n",
      "  Batch 1,240  of  7,547.    Elapsed: 0:04:37.\n",
      "  Batch 1,280  of  7,547.    Elapsed: 0:04:46.\n",
      "  Batch 1,320  of  7,547.    Elapsed: 0:04:55.\n",
      "  Batch 1,360  of  7,547.    Elapsed: 0:05:04.\n",
      "  Batch 1,400  of  7,547.    Elapsed: 0:05:13.\n",
      "  Batch 1,440  of  7,547.    Elapsed: 0:05:22.\n",
      "  Batch 1,480  of  7,547.    Elapsed: 0:05:31.\n",
      "  Batch 1,520  of  7,547.    Elapsed: 0:05:40.\n",
      "  Batch 1,560  of  7,547.    Elapsed: 0:05:49.\n",
      "  Batch 1,600  of  7,547.    Elapsed: 0:05:57.\n",
      "  Batch 1,640  of  7,547.    Elapsed: 0:06:06.\n",
      "  Batch 1,680  of  7,547.    Elapsed: 0:06:15.\n",
      "  Batch 1,720  of  7,547.    Elapsed: 0:06:24.\n",
      "  Batch 1,760  of  7,547.    Elapsed: 0:06:33.\n",
      "  Batch 1,800  of  7,547.    Elapsed: 0:06:42.\n",
      "  Batch 1,840  of  7,547.    Elapsed: 0:06:51.\n",
      "  Batch 1,880  of  7,547.    Elapsed: 0:07:00.\n",
      "  Batch 1,920  of  7,547.    Elapsed: 0:07:09.\n",
      "  Batch 1,960  of  7,547.    Elapsed: 0:07:18.\n",
      "  Batch 2,000  of  7,547.    Elapsed: 0:07:27.\n",
      "  Batch 2,040  of  7,547.    Elapsed: 0:07:36.\n",
      "  Batch 2,080  of  7,547.    Elapsed: 0:07:45.\n",
      "  Batch 2,120  of  7,547.    Elapsed: 0:07:54.\n",
      "  Batch 2,160  of  7,547.    Elapsed: 0:08:03.\n",
      "  Batch 2,200  of  7,547.    Elapsed: 0:08:12.\n",
      "  Batch 2,240  of  7,547.    Elapsed: 0:08:21.\n",
      "  Batch 2,280  of  7,547.    Elapsed: 0:08:30.\n",
      "  Batch 2,320  of  7,547.    Elapsed: 0:08:39.\n",
      "  Batch 2,360  of  7,547.    Elapsed: 0:08:48.\n",
      "  Batch 2,400  of  7,547.    Elapsed: 0:08:57.\n",
      "  Batch 2,440  of  7,547.    Elapsed: 0:09:06.\n",
      "  Batch 2,480  of  7,547.    Elapsed: 0:09:15.\n",
      "  Batch 2,520  of  7,547.    Elapsed: 0:09:24.\n",
      "  Batch 2,560  of  7,547.    Elapsed: 0:09:33.\n",
      "  Batch 2,600  of  7,547.    Elapsed: 0:09:42.\n",
      "  Batch 2,640  of  7,547.    Elapsed: 0:09:51.\n",
      "  Batch 2,680  of  7,547.    Elapsed: 0:09:59.\n",
      "  Batch 2,720  of  7,547.    Elapsed: 0:10:08.\n",
      "  Batch 2,760  of  7,547.    Elapsed: 0:10:17.\n",
      "  Batch 2,800  of  7,547.    Elapsed: 0:10:26.\n",
      "  Batch 2,840  of  7,547.    Elapsed: 0:10:35.\n",
      "  Batch 2,880  of  7,547.    Elapsed: 0:10:44.\n",
      "  Batch 2,920  of  7,547.    Elapsed: 0:10:53.\n",
      "  Batch 2,960  of  7,547.    Elapsed: 0:11:02.\n",
      "  Batch 3,000  of  7,547.    Elapsed: 0:11:11.\n",
      "  Batch 3,040  of  7,547.    Elapsed: 0:11:20.\n",
      "  Batch 3,080  of  7,547.    Elapsed: 0:11:29.\n",
      "  Batch 3,120  of  7,547.    Elapsed: 0:11:38.\n",
      "  Batch 3,160  of  7,547.    Elapsed: 0:11:47.\n",
      "  Batch 3,200  of  7,547.    Elapsed: 0:11:56.\n",
      "  Batch 3,240  of  7,547.    Elapsed: 0:12:05.\n",
      "  Batch 3,280  of  7,547.    Elapsed: 0:12:14.\n",
      "  Batch 3,320  of  7,547.    Elapsed: 0:12:23.\n",
      "  Batch 3,360  of  7,547.    Elapsed: 0:12:32.\n",
      "  Batch 3,400  of  7,547.    Elapsed: 0:12:41.\n",
      "  Batch 3,440  of  7,547.    Elapsed: 0:12:50.\n",
      "  Batch 3,480  of  7,547.    Elapsed: 0:12:59.\n",
      "  Batch 3,520  of  7,547.    Elapsed: 0:13:08.\n",
      "  Batch 3,560  of  7,547.    Elapsed: 0:13:17.\n",
      "  Batch 3,600  of  7,547.    Elapsed: 0:13:26.\n",
      "  Batch 3,640  of  7,547.    Elapsed: 0:13:35.\n",
      "  Batch 3,680  of  7,547.    Elapsed: 0:13:44.\n",
      "  Batch 3,720  of  7,547.    Elapsed: 0:13:53.\n",
      "  Batch 3,760  of  7,547.    Elapsed: 0:14:01.\n",
      "  Batch 3,800  of  7,547.    Elapsed: 0:14:10.\n",
      "  Batch 3,840  of  7,547.    Elapsed: 0:14:19.\n",
      "  Batch 3,880  of  7,547.    Elapsed: 0:14:28.\n",
      "  Batch 3,920  of  7,547.    Elapsed: 0:14:37.\n",
      "  Batch 3,960  of  7,547.    Elapsed: 0:14:46.\n",
      "  Batch 4,000  of  7,547.    Elapsed: 0:14:55.\n",
      "  Batch 4,040  of  7,547.    Elapsed: 0:15:04.\n",
      "  Batch 4,080  of  7,547.    Elapsed: 0:15:13.\n",
      "  Batch 4,120  of  7,547.    Elapsed: 0:15:22.\n",
      "  Batch 4,160  of  7,547.    Elapsed: 0:15:31.\n",
      "  Batch 4,200  of  7,547.    Elapsed: 0:15:40.\n",
      "  Batch 4,240  of  7,547.    Elapsed: 0:15:49.\n",
      "  Batch 4,280  of  7,547.    Elapsed: 0:15:58.\n",
      "  Batch 4,320  of  7,547.    Elapsed: 0:16:07.\n",
      "  Batch 4,360  of  7,547.    Elapsed: 0:16:16.\n",
      "  Batch 4,400  of  7,547.    Elapsed: 0:16:25.\n",
      "  Batch 4,440  of  7,547.    Elapsed: 0:16:34.\n",
      "  Batch 4,480  of  7,547.    Elapsed: 0:16:43.\n",
      "  Batch 4,520  of  7,547.    Elapsed: 0:16:52.\n",
      "  Batch 4,560  of  7,547.    Elapsed: 0:17:01.\n",
      "  Batch 4,600  of  7,547.    Elapsed: 0:17:10.\n",
      "  Batch 4,640  of  7,547.    Elapsed: 0:17:19.\n",
      "  Batch 4,680  of  7,547.    Elapsed: 0:17:28.\n",
      "  Batch 4,720  of  7,547.    Elapsed: 0:17:37.\n",
      "  Batch 4,760  of  7,547.    Elapsed: 0:17:46.\n",
      "  Batch 4,800  of  7,547.    Elapsed: 0:17:55.\n",
      "  Batch 4,840  of  7,547.    Elapsed: 0:18:04.\n",
      "  Batch 4,880  of  7,547.    Elapsed: 0:18:13.\n",
      "  Batch 4,920  of  7,547.    Elapsed: 0:18:21.\n",
      "  Batch 4,960  of  7,547.    Elapsed: 0:18:30.\n",
      "  Batch 5,000  of  7,547.    Elapsed: 0:18:39.\n",
      "  Batch 5,040  of  7,547.    Elapsed: 0:18:48.\n",
      "  Batch 5,080  of  7,547.    Elapsed: 0:18:57.\n",
      "  Batch 5,120  of  7,547.    Elapsed: 0:19:06.\n",
      "  Batch 5,160  of  7,547.    Elapsed: 0:19:15.\n",
      "  Batch 5,200  of  7,547.    Elapsed: 0:19:24.\n",
      "  Batch 5,240  of  7,547.    Elapsed: 0:19:33.\n",
      "  Batch 5,280  of  7,547.    Elapsed: 0:19:42.\n",
      "  Batch 5,320  of  7,547.    Elapsed: 0:19:51.\n",
      "  Batch 5,360  of  7,547.    Elapsed: 0:20:00.\n",
      "  Batch 5,400  of  7,547.    Elapsed: 0:20:09.\n",
      "  Batch 5,440  of  7,547.    Elapsed: 0:20:18.\n",
      "  Batch 5,480  of  7,547.    Elapsed: 0:20:27.\n",
      "  Batch 5,520  of  7,547.    Elapsed: 0:20:36.\n",
      "  Batch 5,560  of  7,547.    Elapsed: 0:20:45.\n",
      "  Batch 5,600  of  7,547.    Elapsed: 0:20:54.\n",
      "  Batch 5,640  of  7,547.    Elapsed: 0:21:03.\n",
      "  Batch 5,680  of  7,547.    Elapsed: 0:21:12.\n",
      "  Batch 5,720  of  7,547.    Elapsed: 0:21:21.\n",
      "  Batch 5,760  of  7,547.    Elapsed: 0:21:30.\n",
      "  Batch 5,800  of  7,547.    Elapsed: 0:21:39.\n",
      "  Batch 5,840  of  7,547.    Elapsed: 0:21:48.\n",
      "  Batch 5,880  of  7,547.    Elapsed: 0:21:57.\n",
      "  Batch 5,920  of  7,547.    Elapsed: 0:22:06.\n",
      "  Batch 5,960  of  7,547.    Elapsed: 0:22:15.\n",
      "  Batch 6,000  of  7,547.    Elapsed: 0:22:24.\n",
      "  Batch 6,040  of  7,547.    Elapsed: 0:22:33.\n",
      "  Batch 6,080  of  7,547.    Elapsed: 0:22:41.\n",
      "  Batch 6,120  of  7,547.    Elapsed: 0:22:50.\n",
      "  Batch 6,160  of  7,547.    Elapsed: 0:22:59.\n",
      "  Batch 6,200  of  7,547.    Elapsed: 0:23:08.\n",
      "  Batch 6,240  of  7,547.    Elapsed: 0:23:17.\n",
      "  Batch 6,280  of  7,547.    Elapsed: 0:23:26.\n",
      "  Batch 6,320  of  7,547.    Elapsed: 0:23:35.\n",
      "  Batch 6,360  of  7,547.    Elapsed: 0:23:44.\n",
      "  Batch 6,400  of  7,547.    Elapsed: 0:23:53.\n",
      "  Batch 6,440  of  7,547.    Elapsed: 0:24:02.\n",
      "  Batch 6,480  of  7,547.    Elapsed: 0:24:11.\n",
      "  Batch 6,520  of  7,547.    Elapsed: 0:24:20.\n",
      "  Batch 6,560  of  7,547.    Elapsed: 0:24:29.\n",
      "  Batch 6,600  of  7,547.    Elapsed: 0:24:38.\n",
      "  Batch 6,640  of  7,547.    Elapsed: 0:24:47.\n",
      "  Batch 6,680  of  7,547.    Elapsed: 0:24:56.\n",
      "  Batch 6,720  of  7,547.    Elapsed: 0:25:05.\n",
      "  Batch 6,760  of  7,547.    Elapsed: 0:25:14.\n",
      "  Batch 6,800  of  7,547.    Elapsed: 0:25:23.\n",
      "  Batch 6,840  of  7,547.    Elapsed: 0:25:32.\n",
      "  Batch 6,880  of  7,547.    Elapsed: 0:25:41.\n",
      "  Batch 6,920  of  7,547.    Elapsed: 0:25:50.\n",
      "  Batch 6,960  of  7,547.    Elapsed: 0:25:59.\n",
      "  Batch 7,000  of  7,547.    Elapsed: 0:26:08.\n",
      "  Batch 7,040  of  7,547.    Elapsed: 0:26:17.\n",
      "  Batch 7,080  of  7,547.    Elapsed: 0:26:26.\n",
      "  Batch 7,120  of  7,547.    Elapsed: 0:26:35.\n",
      "  Batch 7,160  of  7,547.    Elapsed: 0:26:44.\n",
      "  Batch 7,200  of  7,547.    Elapsed: 0:26:53.\n",
      "  Batch 7,240  of  7,547.    Elapsed: 0:27:01.\n",
      "  Batch 7,280  of  7,547.    Elapsed: 0:27:10.\n",
      "  Batch 7,320  of  7,547.    Elapsed: 0:27:19.\n",
      "  Batch 7,360  of  7,547.    Elapsed: 0:27:28.\n",
      "  Batch 7,400  of  7,547.    Elapsed: 0:27:37.\n",
      "  Batch 7,440  of  7,547.    Elapsed: 0:27:46.\n",
      "  Batch 7,480  of  7,547.    Elapsed: 0:27:55.\n",
      "  Batch 7,520  of  7,547.    Elapsed: 0:28:04.\n",
      "\n",
      "  Average training loss: 0.86\n",
      "  Training epcoh took: 0:28:10\n",
      "\n",
      "Running Validation...\n",
      "  Accuracy: 0.76\n",
      "  Validation Loss: 0.69\n",
      "  Validation took: 0:00:57\n",
      "\n",
      "======== Epoch 2 / 3 ========\n",
      "Training...\n",
      "  Batch    40  of  7,547.    Elapsed: 0:00:09.\n",
      "  Batch    80  of  7,547.    Elapsed: 0:00:18.\n",
      "  Batch   120  of  7,547.    Elapsed: 0:00:27.\n",
      "  Batch   160  of  7,547.    Elapsed: 0:00:36.\n",
      "  Batch   200  of  7,547.    Elapsed: 0:00:45.\n",
      "  Batch   240  of  7,547.    Elapsed: 0:00:54.\n",
      "  Batch   280  of  7,547.    Elapsed: 0:01:03.\n",
      "  Batch   320  of  7,547.    Elapsed: 0:01:12.\n",
      "  Batch   360  of  7,547.    Elapsed: 0:01:21.\n",
      "  Batch   400  of  7,547.    Elapsed: 0:01:30.\n",
      "  Batch   440  of  7,547.    Elapsed: 0:01:39.\n",
      "  Batch   480  of  7,547.    Elapsed: 0:01:48.\n",
      "  Batch   520  of  7,547.    Elapsed: 0:01:57.\n",
      "  Batch   560  of  7,547.    Elapsed: 0:02:06.\n",
      "  Batch   600  of  7,547.    Elapsed: 0:02:15.\n",
      "  Batch   640  of  7,547.    Elapsed: 0:02:24.\n",
      "  Batch   680  of  7,547.    Elapsed: 0:02:33.\n",
      "  Batch   720  of  7,547.    Elapsed: 0:02:42.\n",
      "  Batch   760  of  7,547.    Elapsed: 0:02:50.\n",
      "  Batch   800  of  7,547.    Elapsed: 0:02:59.\n",
      "  Batch   840  of  7,547.    Elapsed: 0:03:08.\n",
      "  Batch   880  of  7,547.    Elapsed: 0:03:17.\n",
      "  Batch   920  of  7,547.    Elapsed: 0:03:26.\n",
      "  Batch   960  of  7,547.    Elapsed: 0:03:35.\n",
      "  Batch 1,000  of  7,547.    Elapsed: 0:03:44.\n",
      "  Batch 1,040  of  7,547.    Elapsed: 0:03:53.\n",
      "  Batch 1,080  of  7,547.    Elapsed: 0:04:02.\n",
      "  Batch 1,120  of  7,547.    Elapsed: 0:04:11.\n",
      "  Batch 1,160  of  7,547.    Elapsed: 0:04:20.\n",
      "  Batch 1,200  of  7,547.    Elapsed: 0:04:29.\n",
      "  Batch 1,240  of  7,547.    Elapsed: 0:04:38.\n",
      "  Batch 1,280  of  7,547.    Elapsed: 0:04:47.\n",
      "  Batch 1,320  of  7,547.    Elapsed: 0:04:56.\n",
      "  Batch 1,360  of  7,547.    Elapsed: 0:05:05.\n",
      "  Batch 1,400  of  7,547.    Elapsed: 0:05:14.\n",
      "  Batch 1,440  of  7,547.    Elapsed: 0:05:23.\n",
      "  Batch 1,480  of  7,547.    Elapsed: 0:05:32.\n",
      "  Batch 1,520  of  7,547.    Elapsed: 0:05:41.\n",
      "  Batch 1,560  of  7,547.    Elapsed: 0:05:50.\n",
      "  Batch 1,600  of  7,547.    Elapsed: 0:05:59.\n",
      "  Batch 1,640  of  7,547.    Elapsed: 0:06:08.\n",
      "  Batch 1,680  of  7,547.    Elapsed: 0:06:17.\n",
      "  Batch 1,720  of  7,547.    Elapsed: 0:06:26.\n",
      "  Batch 1,760  of  7,547.    Elapsed: 0:06:35.\n",
      "  Batch 1,800  of  7,547.    Elapsed: 0:06:44.\n",
      "  Batch 1,840  of  7,547.    Elapsed: 0:06:53.\n",
      "  Batch 1,880  of  7,547.    Elapsed: 0:07:02.\n",
      "  Batch 1,920  of  7,547.    Elapsed: 0:07:11.\n",
      "  Batch 1,960  of  7,547.    Elapsed: 0:07:20.\n",
      "  Batch 2,000  of  7,547.    Elapsed: 0:07:29.\n",
      "  Batch 2,040  of  7,547.    Elapsed: 0:07:38.\n",
      "  Batch 2,080  of  7,547.    Elapsed: 0:07:47.\n",
      "  Batch 2,120  of  7,547.    Elapsed: 0:07:56.\n",
      "  Batch 2,160  of  7,547.    Elapsed: 0:08:05.\n",
      "  Batch 2,200  of  7,547.    Elapsed: 0:08:14.\n",
      "  Batch 2,240  of  7,547.    Elapsed: 0:08:23.\n",
      "  Batch 2,280  of  7,547.    Elapsed: 0:08:31.\n",
      "  Batch 2,320  of  7,547.    Elapsed: 0:08:40.\n",
      "  Batch 2,360  of  7,547.    Elapsed: 0:08:49.\n",
      "  Batch 2,400  of  7,547.    Elapsed: 0:08:58.\n",
      "  Batch 2,440  of  7,547.    Elapsed: 0:09:07.\n",
      "  Batch 2,480  of  7,547.    Elapsed: 0:09:16.\n",
      "  Batch 2,520  of  7,547.    Elapsed: 0:09:25.\n",
      "  Batch 2,560  of  7,547.    Elapsed: 0:09:34.\n",
      "  Batch 2,600  of  7,547.    Elapsed: 0:09:43.\n",
      "  Batch 2,640  of  7,547.    Elapsed: 0:09:52.\n",
      "  Batch 2,680  of  7,547.    Elapsed: 0:10:01.\n",
      "  Batch 2,720  of  7,547.    Elapsed: 0:10:10.\n",
      "  Batch 2,760  of  7,547.    Elapsed: 0:10:19.\n",
      "  Batch 2,800  of  7,547.    Elapsed: 0:10:28.\n",
      "  Batch 2,840  of  7,547.    Elapsed: 0:10:37.\n",
      "  Batch 2,880  of  7,547.    Elapsed: 0:10:46.\n",
      "  Batch 2,920  of  7,547.    Elapsed: 0:10:55.\n",
      "  Batch 2,960  of  7,547.    Elapsed: 0:11:04.\n",
      "  Batch 3,000  of  7,547.    Elapsed: 0:11:13.\n",
      "  Batch 3,040  of  7,547.    Elapsed: 0:11:22.\n",
      "  Batch 3,080  of  7,547.    Elapsed: 0:11:31.\n",
      "  Batch 3,120  of  7,547.    Elapsed: 0:11:40.\n",
      "  Batch 3,160  of  7,547.    Elapsed: 0:11:49.\n",
      "  Batch 3,200  of  7,547.    Elapsed: 0:11:58.\n",
      "  Batch 3,240  of  7,547.    Elapsed: 0:12:07.\n",
      "  Batch 3,280  of  7,547.    Elapsed: 0:12:16.\n",
      "  Batch 3,320  of  7,547.    Elapsed: 0:12:25.\n",
      "  Batch 3,360  of  7,547.    Elapsed: 0:12:34.\n",
      "  Batch 3,400  of  7,547.    Elapsed: 0:12:43.\n",
      "  Batch 3,440  of  7,547.    Elapsed: 0:12:52.\n",
      "  Batch 3,480  of  7,547.    Elapsed: 0:13:01.\n",
      "  Batch 3,520  of  7,547.    Elapsed: 0:13:10.\n",
      "  Batch 3,560  of  7,547.    Elapsed: 0:13:19.\n",
      "  Batch 3,600  of  7,547.    Elapsed: 0:13:28.\n",
      "  Batch 3,640  of  7,547.    Elapsed: 0:13:37.\n",
      "  Batch 3,680  of  7,547.    Elapsed: 0:13:46.\n",
      "  Batch 3,720  of  7,547.    Elapsed: 0:13:55.\n",
      "  Batch 3,760  of  7,547.    Elapsed: 0:14:04.\n",
      "  Batch 3,800  of  7,547.    Elapsed: 0:14:13.\n",
      "  Batch 3,840  of  7,547.    Elapsed: 0:14:22.\n",
      "  Batch 3,880  of  7,547.    Elapsed: 0:14:31.\n",
      "  Batch 3,920  of  7,547.    Elapsed: 0:14:40.\n",
      "  Batch 3,960  of  7,547.    Elapsed: 0:14:49.\n",
      "  Batch 4,000  of  7,547.    Elapsed: 0:14:57.\n",
      "  Batch 4,040  of  7,547.    Elapsed: 0:15:06.\n",
      "  Batch 4,080  of  7,547.    Elapsed: 0:15:15.\n",
      "  Batch 4,120  of  7,547.    Elapsed: 0:15:24.\n",
      "  Batch 4,160  of  7,547.    Elapsed: 0:15:33.\n",
      "  Batch 4,200  of  7,547.    Elapsed: 0:15:42.\n",
      "  Batch 4,240  of  7,547.    Elapsed: 0:15:51.\n",
      "  Batch 4,280  of  7,547.    Elapsed: 0:16:00.\n",
      "  Batch 4,320  of  7,547.    Elapsed: 0:16:09.\n",
      "  Batch 4,360  of  7,547.    Elapsed: 0:16:18.\n",
      "  Batch 4,400  of  7,547.    Elapsed: 0:16:27.\n",
      "  Batch 4,440  of  7,547.    Elapsed: 0:16:36.\n",
      "  Batch 4,480  of  7,547.    Elapsed: 0:16:45.\n",
      "  Batch 4,520  of  7,547.    Elapsed: 0:16:54.\n",
      "  Batch 4,560  of  7,547.    Elapsed: 0:17:03.\n",
      "  Batch 4,600  of  7,547.    Elapsed: 0:17:12.\n",
      "  Batch 4,640  of  7,547.    Elapsed: 0:17:21.\n",
      "  Batch 4,680  of  7,547.    Elapsed: 0:17:30.\n",
      "  Batch 4,720  of  7,547.    Elapsed: 0:17:39.\n",
      "  Batch 4,760  of  7,547.    Elapsed: 0:17:48.\n",
      "  Batch 4,800  of  7,547.    Elapsed: 0:17:57.\n",
      "  Batch 4,840  of  7,547.    Elapsed: 0:18:06.\n",
      "  Batch 4,880  of  7,547.    Elapsed: 0:18:15.\n",
      "  Batch 4,920  of  7,547.    Elapsed: 0:18:24.\n",
      "  Batch 4,960  of  7,547.    Elapsed: 0:18:33.\n",
      "  Batch 5,000  of  7,547.    Elapsed: 0:18:42.\n",
      "  Batch 5,040  of  7,547.    Elapsed: 0:18:51.\n",
      "  Batch 5,080  of  7,547.    Elapsed: 0:19:00.\n",
      "  Batch 5,120  of  7,547.    Elapsed: 0:19:09.\n",
      "  Batch 5,160  of  7,547.    Elapsed: 0:19:18.\n",
      "  Batch 5,200  of  7,547.    Elapsed: 0:19:27.\n",
      "  Batch 5,240  of  7,547.    Elapsed: 0:19:36.\n",
      "  Batch 5,280  of  7,547.    Elapsed: 0:19:45.\n",
      "  Batch 5,320  of  7,547.    Elapsed: 0:19:54.\n",
      "  Batch 5,360  of  7,547.    Elapsed: 0:20:03.\n",
      "  Batch 5,400  of  7,547.    Elapsed: 0:20:12.\n",
      "  Batch 5,440  of  7,547.    Elapsed: 0:20:21.\n",
      "  Batch 5,480  of  7,547.    Elapsed: 0:20:30.\n",
      "  Batch 5,520  of  7,547.    Elapsed: 0:20:39.\n",
      "  Batch 5,560  of  7,547.    Elapsed: 0:20:48.\n",
      "  Batch 5,600  of  7,547.    Elapsed: 0:20:57.\n",
      "  Batch 5,640  of  7,547.    Elapsed: 0:21:05.\n",
      "  Batch 5,680  of  7,547.    Elapsed: 0:21:14.\n",
      "  Batch 5,720  of  7,547.    Elapsed: 0:21:23.\n",
      "  Batch 5,760  of  7,547.    Elapsed: 0:21:32.\n",
      "  Batch 5,800  of  7,547.    Elapsed: 0:21:41.\n",
      "  Batch 5,840  of  7,547.    Elapsed: 0:21:50.\n",
      "  Batch 5,880  of  7,547.    Elapsed: 0:21:59.\n",
      "  Batch 5,920  of  7,547.    Elapsed: 0:22:08.\n",
      "  Batch 5,960  of  7,547.    Elapsed: 0:22:17.\n",
      "  Batch 6,000  of  7,547.    Elapsed: 0:22:26.\n",
      "  Batch 6,040  of  7,547.    Elapsed: 0:22:35.\n",
      "  Batch 6,080  of  7,547.    Elapsed: 0:22:44.\n",
      "  Batch 6,120  of  7,547.    Elapsed: 0:22:53.\n",
      "  Batch 6,160  of  7,547.    Elapsed: 0:23:02.\n",
      "  Batch 6,200  of  7,547.    Elapsed: 0:23:11.\n",
      "  Batch 6,240  of  7,547.    Elapsed: 0:23:20.\n",
      "  Batch 6,280  of  7,547.    Elapsed: 0:23:29.\n",
      "  Batch 6,320  of  7,547.    Elapsed: 0:23:38.\n",
      "  Batch 6,360  of  7,547.    Elapsed: 0:23:47.\n",
      "  Batch 6,400  of  7,547.    Elapsed: 0:23:56.\n",
      "  Batch 6,440  of  7,547.    Elapsed: 0:24:05.\n",
      "  Batch 6,480  of  7,547.    Elapsed: 0:24:14.\n",
      "  Batch 6,520  of  7,547.    Elapsed: 0:24:23.\n",
      "  Batch 6,560  of  7,547.    Elapsed: 0:24:32.\n",
      "  Batch 6,600  of  7,547.    Elapsed: 0:24:41.\n",
      "  Batch 6,640  of  7,547.    Elapsed: 0:24:50.\n",
      "  Batch 6,680  of  7,547.    Elapsed: 0:24:59.\n",
      "  Batch 6,720  of  7,547.    Elapsed: 0:25:08.\n",
      "  Batch 6,760  of  7,547.    Elapsed: 0:25:17.\n",
      "  Batch 6,800  of  7,547.    Elapsed: 0:25:26.\n",
      "  Batch 6,840  of  7,547.    Elapsed: 0:25:35.\n",
      "  Batch 6,880  of  7,547.    Elapsed: 0:25:44.\n",
      "  Batch 6,920  of  7,547.    Elapsed: 0:25:53.\n",
      "  Batch 6,960  of  7,547.    Elapsed: 0:26:02.\n",
      "  Batch 7,000  of  7,547.    Elapsed: 0:26:11.\n",
      "  Batch 7,040  of  7,547.    Elapsed: 0:26:20.\n",
      "  Batch 7,080  of  7,547.    Elapsed: 0:26:29.\n",
      "  Batch 7,120  of  7,547.    Elapsed: 0:26:38.\n",
      "  Batch 7,160  of  7,547.    Elapsed: 0:26:47.\n",
      "  Batch 7,200  of  7,547.    Elapsed: 0:26:56.\n",
      "  Batch 7,240  of  7,547.    Elapsed: 0:27:05.\n",
      "  Batch 7,280  of  7,547.    Elapsed: 0:27:14.\n",
      "  Batch 7,320  of  7,547.    Elapsed: 0:27:23.\n",
      "  Batch 7,360  of  7,547.    Elapsed: 0:27:32.\n",
      "  Batch 7,400  of  7,547.    Elapsed: 0:27:41.\n",
      "  Batch 7,440  of  7,547.    Elapsed: 0:27:49.\n",
      "  Batch 7,480  of  7,547.    Elapsed: 0:27:58.\n",
      "  Batch 7,520  of  7,547.    Elapsed: 0:28:07.\n",
      "\n",
      "  Average training loss: 0.60\n",
      "  Training epcoh took: 0:28:13\n",
      "\n",
      "Running Validation...\n",
      "  Accuracy: 0.77\n",
      "  Validation Loss: 0.65\n",
      "  Validation took: 0:00:57\n",
      "\n",
      "======== Epoch 3 / 3 ========\n",
      "Training...\n",
      "  Batch    40  of  7,547.    Elapsed: 0:00:09.\n",
      "  Batch    80  of  7,547.    Elapsed: 0:00:18.\n",
      "  Batch   120  of  7,547.    Elapsed: 0:00:27.\n",
      "  Batch   160  of  7,547.    Elapsed: 0:00:36.\n",
      "  Batch   200  of  7,547.    Elapsed: 0:00:45.\n",
      "  Batch   240  of  7,547.    Elapsed: 0:00:54.\n",
      "  Batch   280  of  7,547.    Elapsed: 0:01:03.\n",
      "  Batch   320  of  7,547.    Elapsed: 0:01:12.\n",
      "  Batch   360  of  7,547.    Elapsed: 0:01:21.\n",
      "  Batch   400  of  7,547.    Elapsed: 0:01:30.\n",
      "  Batch   440  of  7,547.    Elapsed: 0:01:39.\n",
      "  Batch   480  of  7,547.    Elapsed: 0:01:48.\n",
      "  Batch   520  of  7,547.    Elapsed: 0:01:57.\n",
      "  Batch   560  of  7,547.    Elapsed: 0:02:06.\n",
      "  Batch   600  of  7,547.    Elapsed: 0:02:15.\n",
      "  Batch   640  of  7,547.    Elapsed: 0:02:24.\n",
      "  Batch   680  of  7,547.    Elapsed: 0:02:33.\n",
      "  Batch   720  of  7,547.    Elapsed: 0:02:42.\n",
      "  Batch   760  of  7,547.    Elapsed: 0:02:51.\n",
      "  Batch   800  of  7,547.    Elapsed: 0:03:00.\n",
      "  Batch   840  of  7,547.    Elapsed: 0:03:08.\n",
      "  Batch   880  of  7,547.    Elapsed: 0:03:17.\n",
      "  Batch   920  of  7,547.    Elapsed: 0:03:26.\n",
      "  Batch   960  of  7,547.    Elapsed: 0:03:35.\n",
      "  Batch 1,000  of  7,547.    Elapsed: 0:03:44.\n",
      "  Batch 1,040  of  7,547.    Elapsed: 0:03:53.\n",
      "  Batch 1,080  of  7,547.    Elapsed: 0:04:02.\n",
      "  Batch 1,120  of  7,547.    Elapsed: 0:04:11.\n",
      "  Batch 1,160  of  7,547.    Elapsed: 0:04:20.\n",
      "  Batch 1,200  of  7,547.    Elapsed: 0:04:29.\n",
      "  Batch 1,240  of  7,547.    Elapsed: 0:04:38.\n",
      "  Batch 1,280  of  7,547.    Elapsed: 0:04:47.\n",
      "  Batch 1,320  of  7,547.    Elapsed: 0:04:56.\n",
      "  Batch 1,360  of  7,547.    Elapsed: 0:05:05.\n",
      "  Batch 1,400  of  7,547.    Elapsed: 0:05:14.\n",
      "  Batch 1,440  of  7,547.    Elapsed: 0:05:23.\n",
      "  Batch 1,480  of  7,547.    Elapsed: 0:05:32.\n",
      "  Batch 1,520  of  7,547.    Elapsed: 0:05:41.\n",
      "  Batch 1,560  of  7,547.    Elapsed: 0:05:50.\n",
      "  Batch 1,600  of  7,547.    Elapsed: 0:05:59.\n",
      "  Batch 1,640  of  7,547.    Elapsed: 0:06:08.\n",
      "  Batch 1,680  of  7,547.    Elapsed: 0:06:17.\n",
      "  Batch 1,720  of  7,547.    Elapsed: 0:06:26.\n",
      "  Batch 1,760  of  7,547.    Elapsed: 0:06:35.\n",
      "  Batch 1,800  of  7,547.    Elapsed: 0:06:44.\n",
      "  Batch 1,840  of  7,547.    Elapsed: 0:06:53.\n",
      "  Batch 1,880  of  7,547.    Elapsed: 0:07:02.\n",
      "  Batch 1,920  of  7,547.    Elapsed: 0:07:11.\n",
      "  Batch 1,960  of  7,547.    Elapsed: 0:07:20.\n",
      "  Batch 2,000  of  7,547.    Elapsed: 0:07:29.\n",
      "  Batch 2,040  of  7,547.    Elapsed: 0:07:38.\n",
      "  Batch 2,080  of  7,547.    Elapsed: 0:07:47.\n",
      "  Batch 2,120  of  7,547.    Elapsed: 0:07:56.\n",
      "  Batch 2,160  of  7,547.    Elapsed: 0:08:05.\n",
      "  Batch 2,200  of  7,547.    Elapsed: 0:08:14.\n",
      "  Batch 2,240  of  7,547.    Elapsed: 0:08:22.\n",
      "  Batch 2,280  of  7,547.    Elapsed: 0:08:31.\n",
      "  Batch 2,320  of  7,547.    Elapsed: 0:08:40.\n",
      "  Batch 2,360  of  7,547.    Elapsed: 0:08:49.\n",
      "  Batch 2,400  of  7,547.    Elapsed: 0:08:58.\n",
      "  Batch 2,440  of  7,547.    Elapsed: 0:09:07.\n",
      "  Batch 2,480  of  7,547.    Elapsed: 0:09:16.\n",
      "  Batch 2,520  of  7,547.    Elapsed: 0:09:25.\n",
      "  Batch 2,560  of  7,547.    Elapsed: 0:09:34.\n",
      "  Batch 2,600  of  7,547.    Elapsed: 0:09:43.\n",
      "  Batch 2,640  of  7,547.    Elapsed: 0:09:52.\n",
      "  Batch 2,680  of  7,547.    Elapsed: 0:10:01.\n",
      "  Batch 2,720  of  7,547.    Elapsed: 0:10:10.\n",
      "  Batch 2,760  of  7,547.    Elapsed: 0:10:19.\n",
      "  Batch 2,800  of  7,547.    Elapsed: 0:10:28.\n",
      "  Batch 2,840  of  7,547.    Elapsed: 0:10:37.\n",
      "  Batch 2,880  of  7,547.    Elapsed: 0:10:46.\n",
      "  Batch 2,920  of  7,547.    Elapsed: 0:10:55.\n",
      "  Batch 2,960  of  7,547.    Elapsed: 0:11:04.\n",
      "  Batch 3,000  of  7,547.    Elapsed: 0:11:13.\n",
      "  Batch 3,040  of  7,547.    Elapsed: 0:11:22.\n",
      "  Batch 3,080  of  7,547.    Elapsed: 0:11:31.\n",
      "  Batch 3,120  of  7,547.    Elapsed: 0:11:40.\n",
      "  Batch 3,160  of  7,547.    Elapsed: 0:11:49.\n",
      "  Batch 3,200  of  7,547.    Elapsed: 0:11:58.\n",
      "  Batch 3,240  of  7,547.    Elapsed: 0:12:07.\n",
      "  Batch 3,280  of  7,547.    Elapsed: 0:12:16.\n",
      "  Batch 3,320  of  7,547.    Elapsed: 0:12:25.\n",
      "  Batch 3,360  of  7,547.    Elapsed: 0:12:34.\n",
      "  Batch 3,400  of  7,547.    Elapsed: 0:12:43.\n",
      "  Batch 3,440  of  7,547.    Elapsed: 0:12:52.\n",
      "  Batch 3,480  of  7,547.    Elapsed: 0:13:01.\n",
      "  Batch 3,520  of  7,547.    Elapsed: 0:13:10.\n",
      "  Batch 3,560  of  7,547.    Elapsed: 0:13:18.\n",
      "  Batch 3,600  of  7,547.    Elapsed: 0:13:27.\n",
      "  Batch 3,640  of  7,547.    Elapsed: 0:13:36.\n",
      "  Batch 3,680  of  7,547.    Elapsed: 0:13:45.\n",
      "  Batch 3,720  of  7,547.    Elapsed: 0:13:54.\n",
      "  Batch 3,760  of  7,547.    Elapsed: 0:14:03.\n",
      "  Batch 3,800  of  7,547.    Elapsed: 0:14:12.\n",
      "  Batch 3,840  of  7,547.    Elapsed: 0:14:21.\n",
      "  Batch 3,880  of  7,547.    Elapsed: 0:14:30.\n",
      "  Batch 3,920  of  7,547.    Elapsed: 0:14:39.\n",
      "  Batch 3,960  of  7,547.    Elapsed: 0:14:48.\n",
      "  Batch 4,000  of  7,547.    Elapsed: 0:14:57.\n",
      "  Batch 4,040  of  7,547.    Elapsed: 0:15:06.\n",
      "  Batch 4,080  of  7,547.    Elapsed: 0:15:15.\n",
      "  Batch 4,120  of  7,547.    Elapsed: 0:15:24.\n",
      "  Batch 4,160  of  7,547.    Elapsed: 0:15:33.\n",
      "  Batch 4,200  of  7,547.    Elapsed: 0:15:42.\n",
      "  Batch 4,240  of  7,547.    Elapsed: 0:15:51.\n",
      "  Batch 4,280  of  7,547.    Elapsed: 0:16:00.\n",
      "  Batch 4,320  of  7,547.    Elapsed: 0:16:09.\n",
      "  Batch 4,360  of  7,547.    Elapsed: 0:16:18.\n",
      "  Batch 4,400  of  7,547.    Elapsed: 0:16:27.\n",
      "  Batch 4,440  of  7,547.    Elapsed: 0:16:36.\n",
      "  Batch 4,480  of  7,547.    Elapsed: 0:16:45.\n",
      "  Batch 4,520  of  7,547.    Elapsed: 0:16:54.\n",
      "  Batch 4,560  of  7,547.    Elapsed: 0:17:03.\n",
      "  Batch 4,600  of  7,547.    Elapsed: 0:17:12.\n",
      "  Batch 4,640  of  7,547.    Elapsed: 0:17:21.\n",
      "  Batch 4,680  of  7,547.    Elapsed: 0:17:30.\n",
      "  Batch 4,720  of  7,547.    Elapsed: 0:17:39.\n",
      "  Batch 4,760  of  7,547.    Elapsed: 0:17:48.\n",
      "  Batch 4,800  of  7,547.    Elapsed: 0:17:57.\n",
      "  Batch 4,840  of  7,547.    Elapsed: 0:18:05.\n",
      "  Batch 4,880  of  7,547.    Elapsed: 0:18:14.\n",
      "  Batch 4,920  of  7,547.    Elapsed: 0:18:23.\n",
      "  Batch 4,960  of  7,547.    Elapsed: 0:18:32.\n",
      "  Batch 5,000  of  7,547.    Elapsed: 0:18:41.\n",
      "  Batch 5,040  of  7,547.    Elapsed: 0:18:50.\n",
      "  Batch 5,080  of  7,547.    Elapsed: 0:18:59.\n",
      "  Batch 5,120  of  7,547.    Elapsed: 0:19:08.\n",
      "  Batch 5,160  of  7,547.    Elapsed: 0:19:17.\n",
      "  Batch 5,200  of  7,547.    Elapsed: 0:19:26.\n",
      "  Batch 5,240  of  7,547.    Elapsed: 0:19:35.\n",
      "  Batch 5,280  of  7,547.    Elapsed: 0:19:44.\n",
      "  Batch 5,320  of  7,547.    Elapsed: 0:19:53.\n",
      "  Batch 5,360  of  7,547.    Elapsed: 0:20:02.\n",
      "  Batch 5,400  of  7,547.    Elapsed: 0:20:11.\n",
      "  Batch 5,440  of  7,547.    Elapsed: 0:20:20.\n",
      "  Batch 5,480  of  7,547.    Elapsed: 0:20:29.\n",
      "  Batch 5,520  of  7,547.    Elapsed: 0:20:38.\n",
      "  Batch 5,560  of  7,547.    Elapsed: 0:20:47.\n",
      "  Batch 5,600  of  7,547.    Elapsed: 0:20:56.\n",
      "  Batch 5,640  of  7,547.    Elapsed: 0:21:05.\n",
      "  Batch 5,680  of  7,547.    Elapsed: 0:21:14.\n",
      "  Batch 5,720  of  7,547.    Elapsed: 0:21:23.\n",
      "  Batch 5,760  of  7,547.    Elapsed: 0:21:32.\n",
      "  Batch 5,800  of  7,547.    Elapsed: 0:21:41.\n",
      "  Batch 5,840  of  7,547.    Elapsed: 0:21:50.\n",
      "  Batch 5,880  of  7,547.    Elapsed: 0:21:59.\n",
      "  Batch 5,920  of  7,547.    Elapsed: 0:22:08.\n",
      "  Batch 5,960  of  7,547.    Elapsed: 0:22:17.\n",
      "  Batch 6,000  of  7,547.    Elapsed: 0:22:26.\n",
      "  Batch 6,040  of  7,547.    Elapsed: 0:22:35.\n",
      "  Batch 6,080  of  7,547.    Elapsed: 0:22:44.\n",
      "  Batch 6,120  of  7,547.    Elapsed: 0:22:53.\n",
      "  Batch 6,160  of  7,547.    Elapsed: 0:23:02.\n",
      "  Batch 6,200  of  7,547.    Elapsed: 0:23:11.\n",
      "  Batch 6,240  of  7,547.    Elapsed: 0:23:20.\n",
      "  Batch 6,280  of  7,547.    Elapsed: 0:23:29.\n",
      "  Batch 6,320  of  7,547.    Elapsed: 0:23:38.\n",
      "  Batch 6,360  of  7,547.    Elapsed: 0:23:46.\n",
      "  Batch 6,400  of  7,547.    Elapsed: 0:23:55.\n",
      "  Batch 6,440  of  7,547.    Elapsed: 0:24:04.\n",
      "  Batch 6,480  of  7,547.    Elapsed: 0:24:13.\n",
      "  Batch 6,520  of  7,547.    Elapsed: 0:24:22.\n",
      "  Batch 6,560  of  7,547.    Elapsed: 0:24:31.\n",
      "  Batch 6,600  of  7,547.    Elapsed: 0:24:40.\n",
      "  Batch 6,640  of  7,547.    Elapsed: 0:24:49.\n",
      "  Batch 6,680  of  7,547.    Elapsed: 0:24:58.\n",
      "  Batch 6,720  of  7,547.    Elapsed: 0:25:07.\n",
      "  Batch 6,760  of  7,547.    Elapsed: 0:25:16.\n",
      "  Batch 6,800  of  7,547.    Elapsed: 0:25:25.\n",
      "  Batch 6,840  of  7,547.    Elapsed: 0:25:34.\n",
      "  Batch 6,880  of  7,547.    Elapsed: 0:25:43.\n",
      "  Batch 6,920  of  7,547.    Elapsed: 0:25:52.\n",
      "  Batch 6,960  of  7,547.    Elapsed: 0:26:01.\n",
      "  Batch 7,000  of  7,547.    Elapsed: 0:26:10.\n",
      "  Batch 7,040  of  7,547.    Elapsed: 0:26:19.\n",
      "  Batch 7,080  of  7,547.    Elapsed: 0:26:28.\n",
      "  Batch 7,120  of  7,547.    Elapsed: 0:26:37.\n",
      "  Batch 7,160  of  7,547.    Elapsed: 0:26:46.\n",
      "  Batch 7,200  of  7,547.    Elapsed: 0:26:55.\n",
      "  Batch 7,240  of  7,547.    Elapsed: 0:27:04.\n",
      "  Batch 7,280  of  7,547.    Elapsed: 0:27:13.\n",
      "  Batch 7,320  of  7,547.    Elapsed: 0:27:22.\n",
      "  Batch 7,360  of  7,547.    Elapsed: 0:27:31.\n",
      "  Batch 7,400  of  7,547.    Elapsed: 0:27:40.\n",
      "  Batch 7,440  of  7,547.    Elapsed: 0:27:49.\n",
      "  Batch 7,480  of  7,547.    Elapsed: 0:27:58.\n",
      "  Batch 7,520  of  7,547.    Elapsed: 0:28:07.\n",
      "\n",
      "  Average training loss: 0.48\n",
      "  Training epcoh took: 0:28:13\n",
      "\n",
      "Running Validation...\n",
      "  Accuracy: 0.78\n",
      "  Validation Loss: 0.66\n",
      "  Validation took: 0:00:57\n",
      "\n",
      "Training complete!\n",
      "Total training took 1:27:28 (h:mm:ss)\n"
     ]
    }
   ],
   "source": [
    "#!g1.1\n",
    "import random\n",
    "import numpy as np\n",
    "\n",
    "# This training code is based on the `run_glue.py` script here:\n",
    "# https://github.com/huggingface/transformers/blob/5bfcd0485ece086ebcbed2d008813037968a9e58/examples/run_glue.py#L128\n",
    "\n",
    "# Set the seed value all over the place to make this reproducible.\n",
    "seed_val = 42\n",
    "\n",
    "random.seed(seed_val)\n",
    "np.random.seed(seed_val)\n",
    "torch.manual_seed(seed_val)\n",
    "torch.cuda.manual_seed_all(seed_val)\n",
    "\n",
    "# We'll store a number of quantities such as training and validation loss, \n",
    "# validation accuracy, and timings.\n",
    "training_stats = []\n",
    "\n",
    "# Measure the total training time for the whole run.\n",
    "total_t0 = time.time()\n",
    "\n",
    "# For each epoch...\n",
    "for epoch_i in range(0, epochs):\n",
    "    \n",
    "    # ========================================\n",
    "    #               Training\n",
    "    # ========================================\n",
    "    \n",
    "    # Perform one full pass over the training set.\n",
    "\n",
    "    print(\"\")\n",
    "    print('======== Epoch {:} / {:} ========'.format(epoch_i + 1, epochs))\n",
    "    print('Training...')\n",
    "\n",
    "    # Measure how long the training epoch takes.\n",
    "    t0 = time.time()\n",
    "\n",
    "    # Reset the total loss for this epoch.\n",
    "    total_train_loss = 0\n",
    "\n",
    "    # Put the model into training mode. Don't be mislead--the call to \n",
    "    # `train` just changes the *mode*, it doesn't *perform* the training.\n",
    "    # `dropout` and `batchnorm` layers behave differently during training\n",
    "    # vs. test (source: https://stackoverflow.com/questions/51433378/what-does-model-train-do-in-pytorch)\n",
    "    model.train()\n",
    "\n",
    "    # For each batch of training data...\n",
    "    for step, batch in enumerate(train_dataloader):\n",
    "\n",
    "        # Progress update every 40 batches.\n",
    "        if step % 40 == 0 and not step == 0:\n",
    "            # Calculate elapsed time in minutes.\n",
    "            elapsed = format_time(time.time() - t0)\n",
    "            \n",
    "            # Report progress.\n",
    "            print('  Batch {:>5,}  of  {:>5,}.    Elapsed: {:}.'.format(step, len(train_dataloader), elapsed))\n",
    "\n",
    "        # Unpack this training batch from our dataloader. \n",
    "        #\n",
    "        # As we unpack the batch, we'll also copy each tensor to the GPU using the \n",
    "        # `to` method.\n",
    "        #\n",
    "        # `batch` contains three pytorch tensors:\n",
    "        #   [0]: input ids \n",
    "        #   [1]: attention masks\n",
    "        #   [2]: labels \n",
    "        b_input_ids = batch[0].to(device)\n",
    "        b_input_mask = batch[1].to(device)\n",
    "        b_labels = batch[2].to(device)\n",
    "\n",
    "        # Always clear any previously calculated gradients before performing a\n",
    "        # backward pass. PyTorch doesn't do this automatically because \n",
    "        # accumulating the gradients is \"convenient while training RNNs\". \n",
    "        # (source: https://stackoverflow.com/questions/48001598/why-do-we-need-to-call-zero-grad-in-pytorch)\n",
    "        model.zero_grad()        \n",
    "\n",
    "        # Perform a forward pass (evaluate the model on this training batch).\n",
    "        # In PyTorch, calling `model` will in turn call the model's `forward` \n",
    "        # function and pass down the arguments. The `forward` function is \n",
    "        # documented here: \n",
    "        # https://huggingface.co/transformers/model_doc/bert.html#bertforsequenceclassification\n",
    "        # The results are returned in a results object, documented here:\n",
    "        # https://huggingface.co/transformers/main_classes/output.html#transformers.modeling_outputs.SequenceClassifierOutput\n",
    "        # Specifically, we'll get the loss (because we provided labels) and the\n",
    "        # \"logits\"--the model outputs prior to activation.\n",
    "        result = model(b_input_ids, \n",
    "                       token_type_ids=None, \n",
    "                       attention_mask=b_input_mask, \n",
    "                       labels=b_labels,\n",
    "                       return_dict=True)\n",
    "\n",
    "        loss = result.loss\n",
    "        logits = result.logits\n",
    "\n",
    "        # Accumulate the training loss over all of the batches so that we can\n",
    "        # calculate the average loss at the end. `loss` is a Tensor containing a\n",
    "        # single value; the `.item()` function just returns the Python value \n",
    "        # from the tensor.\n",
    "        total_train_loss += loss.item()\n",
    "\n",
    "        # Perform a backward pass to calculate the gradients.\n",
    "        loss.backward()\n",
    "\n",
    "        # Clip the norm of the gradients to 1.0.\n",
    "        # This is to help prevent the \"exploding gradients\" problem.\n",
    "        torch.nn.utils.clip_grad_norm_(model.parameters(), 1.0)\n",
    "\n",
    "        # Update parameters and take a step using the computed gradient.\n",
    "        # The optimizer dictates the \"update rule\"--how the parameters are\n",
    "        # modified based on their gradients, the learning rate, etc.\n",
    "        optimizer.step()\n",
    "\n",
    "        # Update the learning rate.\n",
    "        scheduler.step()\n",
    "\n",
    "    # Calculate the average loss over all of the batches.\n",
    "    avg_train_loss = total_train_loss / len(train_dataloader)            \n",
    "    \n",
    "    # Measure how long this epoch took.\n",
    "    training_time = format_time(time.time() - t0)\n",
    "\n",
    "    print(\"\")\n",
    "    print(\"  Average training loss: {0:.2f}\".format(avg_train_loss))\n",
    "    print(\"  Training epcoh took: {:}\".format(training_time))\n",
    "        \n",
    "    # ========================================\n",
    "    #               Validation\n",
    "    # ========================================\n",
    "    # After the completion of each training epoch, measure our performance on\n",
    "    # our validation set.\n",
    "\n",
    "    print(\"\")\n",
    "    print(\"Running Validation...\")\n",
    "\n",
    "    t0 = time.time()\n",
    "\n",
    "    # Put the model in evaluation mode--the dropout layers behave differently\n",
    "    # during evaluation.\n",
    "    model.eval()\n",
    "\n",
    "    # Tracking variables \n",
    "    total_eval_accuracy = 0\n",
    "    total_eval_loss = 0\n",
    "    nb_eval_steps = 0\n",
    "\n",
    "    # Evaluate data for one epoch\n",
    "    for batch in validation_dataloader:\n",
    "        \n",
    "        # Unpack this training batch from our dataloader. \n",
    "        #\n",
    "        # As we unpack the batch, we'll also copy each tensor to the GPU using \n",
    "        # the `to` method.\n",
    "        #\n",
    "        # `batch` contains three pytorch tensors:\n",
    "        #   [0]: input ids \n",
    "        #   [1]: attention masks\n",
    "        #   [2]: labels \n",
    "        b_input_ids = batch[0].to(device)\n",
    "        b_input_mask = batch[1].to(device)\n",
    "        b_labels = batch[2].to(device)\n",
    "        \n",
    "        # Tell pytorch not to bother with constructing the compute graph during\n",
    "        # the forward pass, since this is only needed for backprop (training).\n",
    "        with torch.no_grad():        \n",
    "\n",
    "            # Forward pass, calculate logit predictions.\n",
    "            # token_type_ids is the same as the \"segment ids\", which \n",
    "            # differentiates sentence 1 and 2 in 2-sentence tasks.\n",
    "            result = model(b_input_ids, \n",
    "                           token_type_ids=None, \n",
    "                           attention_mask=b_input_mask,\n",
    "                           labels=b_labels,\n",
    "                           return_dict=True)\n",
    "\n",
    "        # Get the loss and \"logits\" output by the model. The \"logits\" are the \n",
    "        # output values prior to applying an activation function like the \n",
    "        # softmax.\n",
    "        loss = result.loss\n",
    "        logits = result.logits\n",
    "            \n",
    "        # Accumulate the validation loss.\n",
    "        total_eval_loss += loss.item()\n",
    "\n",
    "        # Move logits and labels to CPU\n",
    "        logits = logits.detach().cpu().numpy()\n",
    "        label_ids = b_labels.to('cpu').numpy()\n",
    "\n",
    "        # Calculate the accuracy for this batch of test sentences, and\n",
    "        # accumulate it over all batches.\n",
    "        total_eval_accuracy += flat_accuracy(logits, label_ids)\n",
    "        \n",
    "\n",
    "    # Report the final accuracy for this validation run.\n",
    "    avg_val_accuracy = total_eval_accuracy / len(validation_dataloader)\n",
    "    print(\"  Accuracy: {0:.2f}\".format(avg_val_accuracy))\n",
    "\n",
    "    # Calculate the average loss over all of the batches.\n",
    "    avg_val_loss = total_eval_loss / len(validation_dataloader)\n",
    "    \n",
    "    # Measure how long the validation run took.\n",
    "    validation_time = format_time(time.time() - t0)\n",
    "    \n",
    "    print(\"  Validation Loss: {0:.2f}\".format(avg_val_loss))\n",
    "    print(\"  Validation took: {:}\".format(validation_time))\n",
    "\n",
    "    # Record all statistics from this epoch.\n",
    "    training_stats.append(\n",
    "        {\n",
    "            'epoch': epoch_i + 1,\n",
    "            'Training Loss': avg_train_loss,\n",
    "            'Valid. Loss': avg_val_loss,\n",
    "            'Valid. Accur.': avg_val_accuracy,\n",
    "            'Training Time': training_time,\n",
    "            'Validation Time': validation_time\n",
    "        }\n",
    "    )\n",
    "\n",
    "print(\"\")\n",
    "print(\"Training complete!\")\n",
    "\n",
    "print(\"Total training took {:} (h:mm:ss)\".format(format_time(time.time()-total_t0)))"
   ]
  },
  {
   "cell_type": "markdown",
   "metadata": {
    "cellId": "ly9tdk1mg6n602zpsp5is",
    "id": "VQTvJ1vRP7u4"
   },
   "source": [
    "Let's view the summary of the training process."
   ]
  },
  {
   "cell_type": "code",
   "execution_count": 476,
   "metadata": {
    "cellId": "xsqyj72ytdkr64ua4zfzl",
    "colab": {
     "base_uri": "https://localhost:8080/",
     "height": 195
    },
    "id": "6O_NbXFGMukX",
    "outputId": "a9e51eda-5eae-4800-87d5-8d016ff25bb2"
   },
   "outputs": [
    {
     "data": {
      "text/html": [
       "<div>\n",
       "<style scoped>\n",
       "    .dataframe tbody tr th:only-of-type {\n",
       "        vertical-align: middle;\n",
       "    }\n",
       "\n",
       "    .dataframe tbody tr th {\n",
       "        vertical-align: top;\n",
       "    }\n",
       "\n",
       "    .dataframe thead th {\n",
       "        text-align: right;\n",
       "    }\n",
       "</style>\n",
       "<table border=\"1\" class=\"dataframe\">\n",
       "  <thead>\n",
       "    <tr style=\"text-align: right;\">\n",
       "      <th></th>\n",
       "      <th>Training Loss</th>\n",
       "      <th>Valid. Loss</th>\n",
       "      <th>Valid. Accur.</th>\n",
       "      <th>Training Time</th>\n",
       "      <th>Validation Time</th>\n",
       "    </tr>\n",
       "    <tr>\n",
       "      <th>epoch</th>\n",
       "      <th></th>\n",
       "      <th></th>\n",
       "      <th></th>\n",
       "      <th></th>\n",
       "      <th></th>\n",
       "    </tr>\n",
       "  </thead>\n",
       "  <tbody>\n",
       "    <tr>\n",
       "      <th>1</th>\n",
       "      <td>0.86</td>\n",
       "      <td>0.69</td>\n",
       "      <td>0.76</td>\n",
       "      <td>0:28:10</td>\n",
       "      <td>0:00:57</td>\n",
       "    </tr>\n",
       "    <tr>\n",
       "      <th>2</th>\n",
       "      <td>0.60</td>\n",
       "      <td>0.65</td>\n",
       "      <td>0.77</td>\n",
       "      <td>0:28:13</td>\n",
       "      <td>0:00:57</td>\n",
       "    </tr>\n",
       "    <tr>\n",
       "      <th>3</th>\n",
       "      <td>0.48</td>\n",
       "      <td>0.66</td>\n",
       "      <td>0.78</td>\n",
       "      <td>0:28:13</td>\n",
       "      <td>0:00:57</td>\n",
       "    </tr>\n",
       "  </tbody>\n",
       "</table>\n",
       "</div>"
      ],
      "text/plain": [
       "       Training Loss  Valid. Loss  Valid. Accur. Training Time Validation Time\n",
       "epoch                                                                         \n",
       "1               0.86         0.69           0.76       0:28:10         0:00:57\n",
       "2               0.60         0.65           0.77       0:28:13         0:00:57\n",
       "3               0.48         0.66           0.78       0:28:13         0:00:57"
      ]
     },
     "metadata": {},
     "output_type": "display_data"
    }
   ],
   "source": [
    "#!g1.1\n",
    "import pandas as pd\n",
    "\n",
    "# Display floats with two decimal places.\n",
    "pd.set_option('precision', 2)\n",
    "\n",
    "# Create a DataFrame from our training statistics.\n",
    "df_stats = pd.DataFrame(data=training_stats)\n",
    "\n",
    "# Use the 'epoch' as the row index.\n",
    "df_stats = df_stats.set_index('epoch')\n",
    "\n",
    "# A hack to force the column headers to wrap.\n",
    "#df = df.style.set_table_styles([dict(selector=\"th\",props=[('max-width', '70px')])])\n",
    "\n",
    "# Display the table.\n",
    "df_stats"
   ]
  },
  {
   "cell_type": "code",
   "execution_count": 475,
   "metadata": {
    "cellId": "k9zyj6n878d3ys9is0gyku"
   },
   "outputs": [],
   "source": [
    "#!g1.1\n",
    "\n",
    "# сохраним модель!\n",
    "\n",
    "torch.save(model.state_dict(), 'lentaru.bin')"
   ]
  },
  {
   "cell_type": "code",
   "execution_count": 477,
   "metadata": {
    "cellId": "yo3hba3sjdcplp76ip3qv",
    "colab": {
     "base_uri": "https://localhost:8080/",
     "height": 427
    },
    "id": "68xreA9JAmG5",
    "outputId": "70b8500d-7efc-4c99-de1f-05e8795e6298"
   },
   "outputs": [
    {
     "data": {
      "image/png": "[encoded data removed]",
      "text/plain": [
       "<Figure size 864x432 with 1 Axes>"
      ]
     },
     "metadata": {},
     "output_type": "display_data"
    }
   ],
   "source": [
    "#!g1.1\n",
    "import matplotlib.pyplot as plt\n",
    "%matplotlib inline\n",
    "\n",
    "import seaborn as sns\n",
    "\n",
    "# Use plot styling from seaborn.\n",
    "sns.set(style='darkgrid')\n",
    "\n",
    "# Increase the plot size and font size.\n",
    "sns.set(font_scale=1.5)\n",
    "plt.rcParams[\"figure.figsize\"] = (12,6)\n",
    "\n",
    "# Plot the learning curve.\n",
    "plt.plot(df_stats['Training Loss'], 'b-o', label=\"Training\")\n",
    "plt.plot(df_stats['Valid. Loss'], 'g-o', label=\"Validation\")\n",
    "\n",
    "# Label the plot.\n",
    "plt.title(\"Training & Validation Loss\")\n",
    "plt.xlabel(\"Epoch\")\n",
    "plt.ylabel(\"Loss\")\n",
    "plt.legend()\n",
    "plt.xticks([1, 2, 3, 4])\n",
    "\n",
    "plt.show()"
   ]
  },
  {
   "cell_type": "markdown",
   "metadata": {
    "cellId": "c6ihl02zkkd3klrsvlcosb",
    "id": "mkyubuJSOzg3"
   },
   "source": [
    "# 5. Performance On Test Set"
   ]
  },
  {
   "cell_type": "markdown",
   "metadata": {
    "cellId": "de3s75v75tom1mpybi35ba",
    "id": "Tg42jJqqM68F"
   },
   "source": [
    "### 5.1. Data Preparation\n"
   ]
  },
  {
   "cell_type": "markdown",
   "metadata": {
    "cellId": "pl9g4lgxyra35b2h2mkdzh",
    "id": "xWe0_JW21MyV"
   },
   "source": [
    "\n",
    "We'll need to apply all of the same steps that we did for the training data to prepare our test data set."
   ]
  },
  {
   "cell_type": "code",
   "execution_count": 478,
   "metadata": {
    "cellId": "617uf5lddvio95rmwnnqdb",
    "colab": {
     "base_uri": "https://localhost:8080/"
    },
    "id": "mAN0LZBOOPVh",
    "outputId": "7385ca3f-72d5-45f0-bbfe-5056c2f62c4f"
   },
   "outputs": [
    {
     "name": "stdout",
     "output_type": "stream",
     "text": [
      "Number of test sentences: 264,322\n",
      "\n"
     ]
    },
    {
     "name": "stderr",
     "output_type": "stream",
     "text": [
      "/home/jupyter/.local/lib/python3.7/site-packages/transformers/tokenization_utils_base.py:2227: FutureWarning: The `pad_to_max_length` argument is deprecated and will be removed in a future version, use `padding=True` or `padding='longest'` to pad to the longest sequence in the batch, or use `padding='max_length'` to pad to a max length. In this case, you can give a specific length with `max_length` (e.g. `max_length=45`) or leave max_length to None to pad to the maximal input size of the model (e.g. 512 for Bert).\n",
      "  FutureWarning,\n"
     ]
    }
   ],
   "source": [
    "#!g1.1\n",
    "import pandas as pd\n",
    "\n",
    "# Load the dataset into a pandas dataframe.\n",
    "\n",
    "\n",
    "# Report the number of sentences.\n",
    "print('Number of test sentences: {:,}\\n'.format(X_test.shape[0]))\n",
    "\n",
    "# Create sentence and label lists\n",
    "\n",
    "sentences = X_test.title.values\n",
    "labels = y_test\n",
    "\n",
    "\n",
    "\n",
    "# Tokenize all of the sentences and map the tokens to thier word IDs.\n",
    "input_ids = []\n",
    "attention_masks = []\n",
    "\n",
    "# For every sentence...\n",
    "for sent in sentences:\n",
    "    # `encode_plus` will:\n",
    "    #   (1) Tokenize the sentence.\n",
    "    #   (2) Prepend the `[CLS]` token to the start.\n",
    "    #   (3) Append the `[SEP]` token to the end.\n",
    "    #   (4) Map tokens to their IDs.\n",
    "    #   (5) Pad or truncate the sentence to `max_length`\n",
    "    #   (6) Create attention masks for [PAD] tokens.\n",
    "    encoded_dict = tokenizer.encode_plus(\n",
    "                        sent,                      # Sentence to encode.\n",
    "                        add_special_tokens = True, # Add '[CLS]' and '[SEP]'\n",
    "                        max_length = 64,           # Pad & truncate all sentences.  # max lenght IS SET TO 64!\n",
    "                        pad_to_max_length = True,\n",
    "                        return_attention_mask = True,   # Construct attn. masks.\n",
    "                        return_tensors = 'pt',     # Return pytorch tensors.\n",
    "                   )\n",
    "    \n",
    "    # Add the encoded sentence to the list.    \n",
    "    input_ids.append(encoded_dict['input_ids'])\n",
    "    \n",
    "    # And its attention mask (simply differentiates padding from non-padding).\n",
    "    attention_masks.append(encoded_dict['attention_mask'])\n",
    "\n",
    "# Convert the lists into tensors.\n",
    "input_ids = torch.cat(input_ids, dim=0)\n",
    "attention_masks = torch.cat(attention_masks, dim=0)\n",
    "labels = torch.tensor(labels)\n",
    "\n",
    "# Set the batch size.  \n",
    "batch_size = 144    #BATCH SIZE!\n",
    "\n",
    "# Create the DataLoader.\n",
    "prediction_data = TensorDataset(input_ids, attention_masks, labels)\n",
    "prediction_sampler = SequentialSampler(prediction_data)\n",
    "prediction_dataloader = DataLoader(prediction_data, sampler=prediction_sampler, batch_size=batch_size)"
   ]
  },
  {
   "cell_type": "markdown",
   "metadata": {
    "cellId": "0kiqap2yr79rvokzx7rxt",
    "id": "16lctEOyNFik"
   },
   "source": [
    "## 5.2. Evaluate on Test Set\n"
   ]
  },
  {
   "cell_type": "markdown",
   "metadata": {
    "cellId": "5828vkiyvxxmevpe3zc",
    "id": "rhR99IISNMg9"
   },
   "source": [
    "\n",
    "With the test set prepared, we can apply our fine-tuned model to generate predictions on the test set."
   ]
  },
  {
   "cell_type": "code",
   "execution_count": 479,
   "metadata": {
    "cellId": "23vn9npnejkj0euf9yvqb2r8",
    "colab": {
     "base_uri": "https://localhost:8080/"
    },
    "id": "Hba10sXR7Xi6",
    "outputId": "e35f0a6e-72c5-4bd0-9c4b-dcec9ef5059d"
   },
   "outputs": [
    {
     "name": "stdout",
     "output_type": "stream",
     "text": [
      "Predicting labels for 264,322 test sentences...\n",
      "    DONE.\n"
     ]
    }
   ],
   "source": [
    "#!g1.1\n",
    "# Prediction on test set\n",
    "\n",
    "print('Predicting labels for {:,} test sentences...'.format(len(input_ids)))\n",
    "\n",
    "# Put model in evaluation mode\n",
    "model.eval()\n",
    "\n",
    "# Tracking variables \n",
    "predictions , true_labels = [], []\n",
    "\n",
    "# Predict \n",
    "for batch in prediction_dataloader:\n",
    "  # Add batch to GPU\n",
    "  batch = tuple(t.to(device) for t in batch)\n",
    "  \n",
    "  # Unpack the inputs from our dataloader\n",
    "  b_input_ids, b_input_mask, b_labels = batch\n",
    "  \n",
    "  # Telling the model not to compute or store gradients, saving memory and \n",
    "  # speeding up prediction\n",
    "  with torch.no_grad():\n",
    "      # Forward pass, calculate logit predictions.\n",
    "      result = model(b_input_ids, \n",
    "                     token_type_ids=None, \n",
    "                     attention_mask=b_input_mask,\n",
    "                     return_dict=True)\n",
    "\n",
    "  logits = result.logits\n",
    "\n",
    "  # Move logits and labels to CPU\n",
    "  logits = logits.detach().cpu().numpy()\n",
    "  label_ids = b_labels.to('cpu').numpy()\n",
    "  \n",
    "  # Store predictions and true labels\n",
    "  predictions.append(logits)\n",
    "  true_labels.append(label_ids)\n",
    "\n",
    "print('    DONE.')"
   ]
  },
  {
   "cell_type": "markdown",
   "metadata": {
    "cellId": "j6vmw7av6948rt95g50v7",
    "id": "1YrjAPX2V-l4"
   },
   "source": [
    "Now we'll combine the results for all of the batches and calculate our final MCC score."
   ]
  },
  {
   "cell_type": "code",
   "execution_count": null,
   "metadata": {
    "cellId": "zz5wgkkxip1zo9r77flcx",
    "colab": {
     "base_uri": "https://localhost:8080/"
    },
    "execution_id": "2045bf82-462a-4f92-b468-e2277e1484e8",
    "id": "oCYZa1lQ8Jn8",
    "outputId": "b4650298-0e35-4ed8-be13-83f074a617ed"
   },
   "outputs": [],
   "source": [
    "#!g1.1\n",
    "# Combine the results across all batches. \n",
    "flat_predictions = np.concatenate(predictions, axis=0)\n",
    "\n",
    "# For each sample, pick the label (0 or 1) with the higher score.\n",
    "flat_predictions = np.argmax(flat_predictions, axis=1).flatten()\n",
    "\n",
    "# Combine the correct labels for each batch into a single list.\n",
    "flat_true_labels = np.concatenate(true_labels, axis=0)\n",
    "\n",
    "\n"
   ]
  },
  {
   "cell_type": "code",
   "execution_count": null,
   "metadata": {
    "cellId": "fox0ufcpgugxmqbbmoizcq",
    "execution_id": "4872827a-2ef5-4c3a-b60c-369c3eee03df"
   },
   "outputs": [],
   "source": [
    "#!g1.1\n",
    "flat_true_labels.shape, flat_predictions.shape"
   ]
  },
  {
   "cell_type": "code",
   "execution_count": null,
   "metadata": {
    "cellId": "z1yzrc16djfb9x7vhxcot",
    "execution_id": "4f5ddfc9-a9bb-4bba-b8e0-2b779384eb94"
   },
   "outputs": [],
   "source": [
    "#!g1.1\n",
    "from sklearn.metrics import accuracy_score, f1_score, roc_auc_score, classification_report"
   ]
  },
  {
   "cell_type": "code",
   "execution_count": null,
   "metadata": {
    "cellId": "8lqa42u22akhmdby0521h6",
    "execution_id": "ddc7af9e-697b-4d67-b5aa-20dcedb08d49"
   },
   "outputs": [],
   "source": [
    "#!g1.1\n",
    "print('accuracy', np.round(accuracy_score(flat_true_labels, flat_predictions),3)) #качество на тесте\n",
    "print('f1', np.round(f1_score(flat_true_labels, flat_predictions, average='macro'),2)) #качество на тесте\n",
    "print('roc_auc', np.round(roc_auc_score(flat_true_labels, np.concatenate(predictions, axis=0)[:, 1]),2)) #качество на тесте"
   ]
  },
  {
   "cell_type": "markdown",
   "metadata": {
    "cellId": "wx6epmkgtzn0lj9sclkiugh"
   },
   "source": [
    "## Проверим модель на робастность на основе адв примеров"
   ]
  },
  {
   "cell_type": "markdown",
   "metadata": {
    "cellId": "vrifsyxtk2q9ttnspxy2f"
   },
   "source": [
    "#!g1.1\n",
    "\n",
    "### Релизуем рецепт - textfooler"
   ]
  },
  {
   "cell_type": "code",
   "execution_count": 436,
   "metadata": {
    "cellId": "yu1vixstynsh6yyext8c"
   },
   "outputs": [],
   "source": [
    "#!g1.1\n",
    "\n",
    "# обернем атаку\n",
    "\n",
    "import textattack\n",
    "from datasets import Dataset\n",
    "\n",
    "\n",
    "model_wrapper = textattack.models.wrappers.HuggingFaceModelWrapper(model, tokenizer)\n",
    "attack = textattack.attack_recipes.TextFoolerJin2019.build(model_wrapper)"
   ]
  },
  {
   "cell_type": "code",
   "execution_count": 437,
   "metadata": {
    "cellId": "gyyvvxm6ltk9p1wxrz58nj"
   },
   "outputs": [],
   "source": [
    "#!g1.1\n",
    "test_df.head()"
   ]
  },
  {
   "cell_type": "code",
   "execution_count": 438,
   "metadata": {
    "cellId": "5qg5bn8nji77ygqkorkloj"
   },
   "outputs": [],
   "source": [
    "#!g1.1\n",
    "\n",
    "dataset = Dataset.from_pandas(test_df[['text', 'label']])\n",
    "\n",
    "dataset = textattack.datasets.HuggingFaceDataset(dataset, dataset_columns = (['text'], 'label'))\n"
   ]
  },
  {
   "cell_type": "code",
   "execution_count": 442,
   "metadata": {
    "cellId": "s3ek2py74noaco1v6fqfdi"
   },
   "outputs": [],
   "source": [
    "#!g1.1\n",
    "attack_args = textattack.AttackArgs(num_examples=-1, log_to_csv=\"logColaTfooler.csv\", checkpoint_interval=20, checkpoint_dir=\"checkpoints\", disable_stdout=True)\n"
   ]
  },
  {
   "cell_type": "code",
   "execution_count": 443,
   "metadata": {
    "cellId": "rwc5un4j6dapsge9ihad"
   },
   "outputs": [],
   "source": [
    "#!g1.1\n",
    "attacker = textattack.Attacker(attack, dataset, attack_args)\n",
    "\n",
    "# что на вход можно подавать в качестве аргумента для датасета? туториал подсказывает, что нужно сначала загрузить датасет в библиотеку"
   ]
  },
  {
   "cell_type": "code",
   "execution_count": 444,
   "metadata": {
    "cellId": "st9b05066gpy4goxdgw99"
   },
   "outputs": [],
   "source": [
    "#!g1.1\n",
    "%%time \n",
    "\n",
    "attacker.attack_dataset();"
   ]
  },
  {
   "cell_type": "markdown",
   "metadata": {
    "cellId": "d669iayalfchydzvod0a8"
   },
   "source": [
    "#!g1.1\n",
    "## Тестируем BAE"
   ]
  },
  {
   "cell_type": "code",
   "execution_count": null,
   "metadata": {
    "cellId": "6bgrl06y3p02mgo6zw3we6"
   },
   "outputs": [],
   "source": [
    "#!g1.1\n"
   ]
  },
  {
   "cell_type": "code",
   "execution_count": 445,
   "metadata": {
    "cellId": "vydr88tsrlkwimthsvb3t9"
   },
   "outputs": [],
   "source": [
    "#!g1.1\n",
    "attack_args = textattack.AttackArgs(num_examples=-1, log_to_csv=\"logColaBae.csv\", checkpoint_interval=20, checkpoint_dir=\"checkpoints\", disable_stdout=True)\n",
    "#!g1.1\n",
    "attack = textattack.attack_recipes.BAEGarg2019.build(model_wrapper)\n",
    "\n",
    "attacker = textattack.Attacker(attack, dataset, attack_args)\n",
    "\n",
    "# что на вход можно подавать в качестве аргумента для датасета? туториал подсказывает, что нужно сначала загрузить датасет в библиотеку"
   ]
  },
  {
   "cell_type": "code",
   "execution_count": 446,
   "metadata": {
    "cellId": "dfjeq7c80ajf159ym5c4"
   },
   "outputs": [],
   "source": [
    "#!g1.1\n",
    "%%time \n",
    "\n",
    "attacker.attack_dataset()"
   ]
  },
  {
   "cell_type": "markdown",
   "metadata": {
    "cellId": "xrq9m4nuc6soguc9vztcpi"
   },
   "source": [
    "#!g1.1\n",
    "## Тестируем атаки на лог-рег"
   ]
  },
  {
   "cell_type": "code",
   "execution_count": 447,
   "metadata": {
    "cellId": "hz2dmknirzafmkxveaia1a"
   },
   "outputs": [],
   "source": [
    "#!g1.1\n",
    "\n",
    "from textattack.models.wrappers import SklearnModelWrapper\n",
    "\n",
    "model_wrapper = SklearnModelWrapper(clf , text_transformer)"
   ]
  },
  {
   "cell_type": "code",
   "execution_count": 448,
   "metadata": {
    "cellId": "vkg3x1tjb0colj6qdloebc"
   },
   "outputs": [],
   "source": [
    "#!g1.1\n",
    "%%time \n",
    "\n",
    "attack = textattack.attack_recipes.TextFoolerJin2019.build(model_wrapper)\n",
    "attack_args = textattack.AttackArgs(num_examples=-1, log_to_csv=\"log_Cola_tf_idf.csv\", checkpoint_interval=250, checkpoint_dir=\"checkpoints\", disable_stdout=True)\n",
    "attacker = textattack.Attacker(attack, dataset, attack_args)\n",
    "\n",
    "attacker.attack_dataset()"
   ]
  },
  {
   "cell_type": "code",
   "execution_count": null,
   "metadata": {
    "cellId": "noa27al1ozxrehcio1pl"
   },
   "outputs": [],
   "source": [
    "#!g1.1\n",
    "%%time \n",
    "\n",
    "attack = textattack.attack_recipes.BAEGarg2019.build(model_wrapper)\n",
    "attack_args = textattack.AttackArgs(num_examples=-1, log_to_csv=\"log_Cola_tf_idf_BAE.csv\", checkpoint_interval=250, checkpoint_dir=\"checkpoints\", disable_stdout=True)\n",
    "attacker = textattack.Attacker(attack, dataset, attack_args)\n",
    "\n",
    "attacker.attack_dataset()"
   ]
  },
  {
   "cell_type": "code",
   "execution_count": null,
   "metadata": {
    "cellId": "qy8lkmqojjg7txhlpqh8nw"
   },
   "outputs": [],
   "source": [
    "#!g1.1\n"
   ]
  }
 ],
 "metadata": {
  "accelerator": "GPU",
  "colab": {
   "collapsed_sections": [],
   "name": "BERT Fine-Tuning Sentence Classification v4.ipynb",
   "provenance": [],
   "toc_visible": true
  },
  "kernelspec": {
   "display_name": "Yandex DataSphere Kernel",
   "language": "python",
   "name": "python3"
  },
  "language_info": {
   "codemirror_mode": {
    "name": "ipython",
    "version": 3
   },
   "file_extension": ".py",
   "mimetype": "text/x-python",
   "name": "python",
   "nbconvert_exporter": "python",
   "pygments_lexer": "ipython3",
   "version": "3.7.7"
  },
  "notebookId": "a889b239-79c5-47d2-946a-fd337f079489",
  "notebookPath": "text_attacks/notebooks/BERT_LentaRu.ipynb",
  "widgets": {
   "application/vnd.jupyter.widget-state+json": {
    "0fe5b1d0540240a8a8426352c24b2887": {
     "model_module": "@jupyter-widgets/base",
     "model_module_version": "1.2.0",
     "model_name": "LayoutModel",
     "state": {
      "_model_module": "@jupyter-widgets/base",
      "_model_module_version": "1.2.0",
      "_model_name": "LayoutModel",
      "_view_count": null,
      "_view_module": "@jupyter-widgets/base",
      "_view_module_version": "1.2.0",
      "_view_name": "LayoutView",
      "align_content": null,
      "align_items": null,
      "align_self": null,
      "border": null,
      "bottom": null,
      "display": null,
      "flex": null,
      "flex_flow": null,
      "grid_area": null,
      "grid_auto_columns": null,
      "grid_auto_flow": null,
      "grid_auto_rows": null,
      "grid_column": null,
      "grid_gap": null,
      "grid_row": null,
      "grid_template_areas": null,
      "grid_template_columns": null,
      "grid_template_rows": null,
      "height": null,
      "justify_content": null,
      "justify_items": null,
      "left": null,
      "margin": null,
      "max_height": null,
      "max_width": null,
      "min_height": null,
      "min_width": null,
      "object_fit": null,
      "object_position": null,
      "order": null,
      "overflow": null,
      "overflow_x": null,
      "overflow_y": null,
      "padding": null,
      "right": null,
      "top": null,
      "visibility": null,
      "width": null
     }
    },
    "1058e0b5baa248faa60c1ad146d10bf7": {
     "model_module": "@jupyter-widgets/base",
     "model_module_version": "1.2.0",
     "model_name": "LayoutModel",
     "state": {
      "_model_module": "@jupyter-widgets/base",
      "_model_module_version": "1.2.0",
      "_model_name": "LayoutModel",
      "_view_count": null,
      "_view_module": "@jupyter-widgets/base",
      "_view_module_version": "1.2.0",
      "_view_name": "LayoutView",
      "align_content": null,
      "align_items": null,
      "align_self": null,
      "border": null,
      "bottom": null,
      "display": null,
      "flex": null,
      "flex_flow": null,
      "grid_area": null,
      "grid_auto_columns": null,
      "grid_auto_flow": null,
      "grid_auto_rows": null,
      "grid_column": null,
      "grid_gap": null,
      "grid_row": null,
      "grid_template_areas": null,
      "grid_template_columns": null,
      "grid_template_rows": null,
      "height": null,
      "justify_content": null,
      "justify_items": null,
      "left": null,
      "margin": null,
      "max_height": null,
      "max_width": null,
      "min_height": null,
      "min_width": null,
      "object_fit": null,
      "object_position": null,
      "order": null,
      "overflow": null,
      "overflow_x": null,
      "overflow_y": null,
      "padding": null,
      "right": null,
      "top": null,
      "visibility": null,
      "width": null
     }
    },
    "1296a3d754b344a482a03e5af84e805e": {
     "model_module": "@jupyter-widgets/controls",
     "model_module_version": "1.5.0",
     "model_name": "FloatProgressModel",
     "state": {
      "_dom_classes": [],
      "_model_module": "@jupyter-widgets/controls",
      "_model_module_version": "1.5.0",
      "_model_name": "FloatProgressModel",
      "_view_count": null,
      "_view_module": "@jupyter-widgets/controls",
      "_view_module_version": "1.5.0",
      "_view_name": "ProgressView",
      "bar_style": "success",
      "description": "Downloading: 100%",
      "description_tooltip": null,
      "layout": "IPY_MODEL_f8874fec8a404ae89a38fd2ecbb357cf",
      "max": 433,
      "min": 0,
      "orientation": "horizontal",
      "style": "IPY_MODEL_2755b9838bae408ca8cf667ad9d501fc",
      "value": 433
     }
    },
    "1c2b0ede959142fc89bf07a9c88df638": {
     "model_module": "@jupyter-widgets/base",
     "model_module_version": "1.2.0",
     "model_name": "LayoutModel",
     "state": {
      "_model_module": "@jupyter-widgets/base",
      "_model_module_version": "1.2.0",
      "_model_name": "LayoutModel",
      "_view_count": null,
      "_view_module": "@jupyter-widgets/base",
      "_view_module_version": "1.2.0",
      "_view_name": "LayoutView",
      "align_content": null,
      "align_items": null,
      "align_self": null,
      "border": null,
      "bottom": null,
      "display": null,
      "flex": null,
      "flex_flow": null,
      "grid_area": null,
      "grid_auto_columns": null,
      "grid_auto_flow": null,
      "grid_auto_rows": null,
      "grid_column": null,
      "grid_gap": null,
      "grid_row": null,
      "grid_template_areas": null,
      "grid_template_columns": null,
      "grid_template_rows": null,
      "height": null,
      "justify_content": null,
      "justify_items": null,
      "left": null,
      "margin": null,
      "max_height": null,
      "max_width": null,
      "min_height": null,
      "min_width": null,
      "object_fit": null,
      "object_position": null,
      "order": null,
      "overflow": null,
      "overflow_x": null,
      "overflow_y": null,
      "padding": null,
      "right": null,
      "top": null,
      "visibility": null,
      "width": null
     }
    },
    "23ca9359e6c44232a1346e6f2ab7e48c": {
     "model_module": "@jupyter-widgets/controls",
     "model_module_version": "1.5.0",
     "model_name": "FloatProgressModel",
     "state": {
      "_dom_classes": [],
      "_model_module": "@jupyter-widgets/controls",
      "_model_module_version": "1.5.0",
      "_model_name": "FloatProgressModel",
      "_view_count": null,
      "_view_module": "@jupyter-widgets/controls",
      "_view_module_version": "1.5.0",
      "_view_name": "ProgressView",
      "bar_style": "success",
      "description": "Downloading: 100%",
      "description_tooltip": null,
      "layout": "IPY_MODEL_0fe5b1d0540240a8a8426352c24b2887",
      "max": 440473133,
      "min": 0,
      "orientation": "horizontal",
      "style": "IPY_MODEL_6c7dec7b1e804c2195f6e60fb3c1d18e",
      "value": 440473133
     }
    },
    "2755b9838bae408ca8cf667ad9d501fc": {
     "model_module": "@jupyter-widgets/controls",
     "model_module_version": "1.5.0",
     "model_name": "ProgressStyleModel",
     "state": {
      "_model_module": "@jupyter-widgets/controls",
      "_model_module_version": "1.5.0",
      "_model_name": "ProgressStyleModel",
      "_view_count": null,
      "_view_module": "@jupyter-widgets/base",
      "_view_module_version": "1.2.0",
      "_view_name": "StyleView",
      "bar_color": null,
      "description_width": "initial"
     }
    },
    "375cc635389c4ddb9bf2aa443df58bae": {
     "model_module": "@jupyter-widgets/controls",
     "model_module_version": "1.5.0",
     "model_name": "DescriptionStyleModel",
     "state": {
      "_model_module": "@jupyter-widgets/controls",
      "_model_module_version": "1.5.0",
      "_model_name": "DescriptionStyleModel",
      "_view_count": null,
      "_view_module": "@jupyter-widgets/base",
      "_view_module_version": "1.2.0",
      "_view_name": "StyleView",
      "description_width": ""
     }
    },
    "440da34c72344cb08e4a1ee5de7049ee": {
     "model_module": "@jupyter-widgets/base",
     "model_module_version": "1.2.0",
     "model_name": "LayoutModel",
     "state": {
      "_model_module": "@jupyter-widgets/base",
      "_model_module_version": "1.2.0",
      "_model_name": "LayoutModel",
      "_view_count": null,
      "_view_module": "@jupyter-widgets/base",
      "_view_module_version": "1.2.0",
      "_view_name": "LayoutView",
      "align_content": null,
      "align_items": null,
      "align_self": null,
      "border": null,
      "bottom": null,
      "display": null,
      "flex": null,
      "flex_flow": null,
      "grid_area": null,
      "grid_auto_columns": null,
      "grid_auto_flow": null,
      "grid_auto_rows": null,
      "grid_column": null,
      "grid_gap": null,
      "grid_row": null,
      "grid_template_areas": null,
      "grid_template_columns": null,
      "grid_template_rows": null,
      "height": null,
      "justify_content": null,
      "justify_items": null,
      "left": null,
      "margin": null,
      "max_height": null,
      "max_width": null,
      "min_height": null,
      "min_width": null,
      "object_fit": null,
      "object_position": null,
      "order": null,
      "overflow": null,
      "overflow_x": null,
      "overflow_y": null,
      "padding": null,
      "right": null,
      "top": null,
      "visibility": null,
      "width": null
     }
    },
    "472198d5b6a748b3a81f9364fd1fa711": {
     "model_module": "@jupyter-widgets/base",
     "model_module_version": "1.2.0",
     "model_name": "LayoutModel",
     "state": {
      "_model_module": "@jupyter-widgets/base",
      "_model_module_version": "1.2.0",
      "_model_name": "LayoutModel",
      "_view_count": null,
      "_view_module": "@jupyter-widgets/base",
      "_view_module_version": "1.2.0",
      "_view_name": "LayoutView",
      "align_content": null,
      "align_items": null,
      "align_self": null,
      "border": null,
      "bottom": null,
      "display": null,
      "flex": null,
      "flex_flow": null,
      "grid_area": null,
      "grid_auto_columns": null,
      "grid_auto_flow": null,
      "grid_auto_rows": null,
      "grid_column": null,
      "grid_gap": null,
      "grid_row": null,
      "grid_template_areas": null,
      "grid_template_columns": null,
      "grid_template_rows": null,
      "height": null,
      "justify_content": null,
      "justify_items": null,
      "left": null,
      "margin": null,
      "max_height": null,
      "max_width": null,
      "min_height": null,
      "min_width": null,
      "object_fit": null,
      "object_position": null,
      "order": null,
      "overflow": null,
      "overflow_x": null,
      "overflow_y": null,
      "padding": null,
      "right": null,
      "top": null,
      "visibility": null,
      "width": null
     }
    },
    "4b1e27aff6f04fec8268d951e46b1e63": {
     "model_module": "@jupyter-widgets/controls",
     "model_module_version": "1.5.0",
     "model_name": "DescriptionStyleModel",
     "state": {
      "_model_module": "@jupyter-widgets/controls",
      "_model_module_version": "1.5.0",
      "_model_name": "DescriptionStyleModel",
      "_view_count": null,
      "_view_module": "@jupyter-widgets/base",
      "_view_module_version": "1.2.0",
      "_view_name": "StyleView",
      "description_width": ""
     }
    },
    "6c7dec7b1e804c2195f6e60fb3c1d18e": {
     "model_module": "@jupyter-widgets/controls",
     "model_module_version": "1.5.0",
     "model_name": "ProgressStyleModel",
     "state": {
      "_model_module": "@jupyter-widgets/controls",
      "_model_module_version": "1.5.0",
      "_model_name": "ProgressStyleModel",
      "_view_count": null,
      "_view_module": "@jupyter-widgets/base",
      "_view_module_version": "1.2.0",
      "_view_name": "StyleView",
      "bar_color": null,
      "description_width": "initial"
     }
    },
    "6f132d7bb83d41b6847df0d0ec0a1b92": {
     "model_module": "@jupyter-widgets/controls",
     "model_module_version": "1.5.0",
     "model_name": "HTMLModel",
     "state": {
      "_dom_classes": [],
      "_model_module": "@jupyter-widgets/controls",
      "_model_module_version": "1.5.0",
      "_model_name": "HTMLModel",
      "_view_count": null,
      "_view_module": "@jupyter-widgets/controls",
      "_view_module_version": "1.5.0",
      "_view_name": "HTMLView",
      "description": "",
      "description_tooltip": null,
      "layout": "IPY_MODEL_978c24b18b594eaf8ca47730a88eefb9",
      "placeholder": "​",
      "style": "IPY_MODEL_a7bdbedc75de4f77b45f1389c2ea0abc",
      "value": " 433/433 [00:00&lt;00:00, 2.02kB/s]"
     }
    },
    "82ddfcea0e4c4e5a86cf6eca8585be8d": {
     "model_module": "@jupyter-widgets/controls",
     "model_module_version": "1.5.0",
     "model_name": "HBoxModel",
     "state": {
      "_dom_classes": [],
      "_model_module": "@jupyter-widgets/controls",
      "_model_module_version": "1.5.0",
      "_model_name": "HBoxModel",
      "_view_count": null,
      "_view_module": "@jupyter-widgets/controls",
      "_view_module_version": "1.5.0",
      "_view_name": "HBoxView",
      "box_style": "",
      "children": [
       "IPY_MODEL_8c76faadf2f4415393c6f0a805f0d72b",
       "IPY_MODEL_e0bb735fda99434a90380e7fc664212d"
      ],
      "layout": "IPY_MODEL_8a256ba4a19e4ec98fe3c3c99fba4daa"
     }
    },
    "8a256ba4a19e4ec98fe3c3c99fba4daa": {
     "model_module": "@jupyter-widgets/base",
     "model_module_version": "1.2.0",
     "model_name": "LayoutModel",
     "state": {
      "_model_module": "@jupyter-widgets/base",
      "_model_module_version": "1.2.0",
      "_model_name": "LayoutModel",
      "_view_count": null,
      "_view_module": "@jupyter-widgets/base",
      "_view_module_version": "1.2.0",
      "_view_name": "LayoutView",
      "align_content": null,
      "align_items": null,
      "align_self": null,
      "border": null,
      "bottom": null,
      "display": null,
      "flex": null,
      "flex_flow": null,
      "grid_area": null,
      "grid_auto_columns": null,
      "grid_auto_flow": null,
      "grid_auto_rows": null,
      "grid_column": null,
      "grid_gap": null,
      "grid_row": null,
      "grid_template_areas": null,
      "grid_template_columns": null,
      "grid_template_rows": null,
      "height": null,
      "justify_content": null,
      "justify_items": null,
      "left": null,
      "margin": null,
      "max_height": null,
      "max_width": null,
      "min_height": null,
      "min_width": null,
      "object_fit": null,
      "object_position": null,
      "order": null,
      "overflow": null,
      "overflow_x": null,
      "overflow_y": null,
      "padding": null,
      "right": null,
      "top": null,
      "visibility": null,
      "width": null
     }
    },
    "8c76faadf2f4415393c6f0a805f0d72b": {
     "model_module": "@jupyter-widgets/controls",
     "model_module_version": "1.5.0",
     "model_name": "FloatProgressModel",
     "state": {
      "_dom_classes": [],
      "_model_module": "@jupyter-widgets/controls",
      "_model_module_version": "1.5.0",
      "_model_name": "FloatProgressModel",
      "_view_count": null,
      "_view_module": "@jupyter-widgets/controls",
      "_view_module_version": "1.5.0",
      "_view_name": "ProgressView",
      "bar_style": "success",
      "description": "Downloading: 100%",
      "description_tooltip": null,
      "layout": "IPY_MODEL_1058e0b5baa248faa60c1ad146d10bf7",
      "max": 231508,
      "min": 0,
      "orientation": "horizontal",
      "style": "IPY_MODEL_cdb78e75309f4bc09366533331e72431",
      "value": 231508
     }
    },
    "978c24b18b594eaf8ca47730a88eefb9": {
     "model_module": "@jupyter-widgets/base",
     "model_module_version": "1.2.0",
     "model_name": "LayoutModel",
     "state": {
      "_model_module": "@jupyter-widgets/base",
      "_model_module_version": "1.2.0",
      "_model_name": "LayoutModel",
      "_view_count": null,
      "_view_module": "@jupyter-widgets/base",
      "_view_module_version": "1.2.0",
      "_view_name": "LayoutView",
      "align_content": null,
      "align_items": null,
      "align_self": null,
      "border": null,
      "bottom": null,
      "display": null,
      "flex": null,
      "flex_flow": null,
      "grid_area": null,
      "grid_auto_columns": null,
      "grid_auto_flow": null,
      "grid_auto_rows": null,
      "grid_column": null,
      "grid_gap": null,
      "grid_row": null,
      "grid_template_areas": null,
      "grid_template_columns": null,
      "grid_template_rows": null,
      "height": null,
      "justify_content": null,
      "justify_items": null,
      "left": null,
      "margin": null,
      "max_height": null,
      "max_width": null,
      "min_height": null,
      "min_width": null,
      "object_fit": null,
      "object_position": null,
      "order": null,
      "overflow": null,
      "overflow_x": null,
      "overflow_y": null,
      "padding": null,
      "right": null,
      "top": null,
      "visibility": null,
      "width": null
     }
    },
    "a7bdbedc75de4f77b45f1389c2ea0abc": {
     "model_module": "@jupyter-widgets/controls",
     "model_module_version": "1.5.0",
     "model_name": "DescriptionStyleModel",
     "state": {
      "_model_module": "@jupyter-widgets/controls",
      "_model_module_version": "1.5.0",
      "_model_name": "DescriptionStyleModel",
      "_view_count": null,
      "_view_module": "@jupyter-widgets/base",
      "_view_module_version": "1.2.0",
      "_view_name": "StyleView",
      "description_width": ""
     }
    },
    "bf9dfa1ff3e642fbb74c5146d21044c2": {
     "model_module": "@jupyter-widgets/controls",
     "model_module_version": "1.5.0",
     "model_name": "HBoxModel",
     "state": {
      "_dom_classes": [],
      "_model_module": "@jupyter-widgets/controls",
      "_model_module_version": "1.5.0",
      "_model_name": "HBoxModel",
      "_view_count": null,
      "_view_module": "@jupyter-widgets/controls",
      "_view_module_version": "1.5.0",
      "_view_name": "HBoxView",
      "box_style": "",
      "children": [
       "IPY_MODEL_1296a3d754b344a482a03e5af84e805e",
       "IPY_MODEL_6f132d7bb83d41b6847df0d0ec0a1b92"
      ],
      "layout": "IPY_MODEL_1c2b0ede959142fc89bf07a9c88df638"
     }
    },
    "cdb78e75309f4bc09366533331e72431": {
     "model_module": "@jupyter-widgets/controls",
     "model_module_version": "1.5.0",
     "model_name": "ProgressStyleModel",
     "state": {
      "_model_module": "@jupyter-widgets/controls",
      "_model_module_version": "1.5.0",
      "_model_name": "ProgressStyleModel",
      "_view_count": null,
      "_view_module": "@jupyter-widgets/base",
      "_view_module_version": "1.2.0",
      "_view_name": "StyleView",
      "bar_color": null,
      "description_width": "initial"
     }
    },
    "cea84f9c3db641acb98314028b305514": {
     "model_module": "@jupyter-widgets/base",
     "model_module_version": "1.2.0",
     "model_name": "LayoutModel",
     "state": {
      "_model_module": "@jupyter-widgets/base",
      "_model_module_version": "1.2.0",
      "_model_name": "LayoutModel",
      "_view_count": null,
      "_view_module": "@jupyter-widgets/base",
      "_view_module_version": "1.2.0",
      "_view_name": "LayoutView",
      "align_content": null,
      "align_items": null,
      "align_self": null,
      "border": null,
      "bottom": null,
      "display": null,
      "flex": null,
      "flex_flow": null,
      "grid_area": null,
      "grid_auto_columns": null,
      "grid_auto_flow": null,
      "grid_auto_rows": null,
      "grid_column": null,
      "grid_gap": null,
      "grid_row": null,
      "grid_template_areas": null,
      "grid_template_columns": null,
      "grid_template_rows": null,
      "height": null,
      "justify_content": null,
      "justify_items": null,
      "left": null,
      "margin": null,
      "max_height": null,
      "max_width": null,
      "min_height": null,
      "min_width": null,
      "object_fit": null,
      "object_position": null,
      "order": null,
      "overflow": null,
      "overflow_x": null,
      "overflow_y": null,
      "padding": null,
      "right": null,
      "top": null,
      "visibility": null,
      "width": null
     }
    },
    "d689bc8d488a4dc09c393b4fc9747bcb": {
     "model_module": "@jupyter-widgets/controls",
     "model_module_version": "1.5.0",
     "model_name": "HTMLModel",
     "state": {
      "_dom_classes": [],
      "_model_module": "@jupyter-widgets/controls",
      "_model_module_version": "1.5.0",
      "_model_name": "HTMLModel",
      "_view_count": null,
      "_view_module": "@jupyter-widgets/controls",
      "_view_module_version": "1.5.0",
      "_view_name": "HTMLView",
      "description": "",
      "description_tooltip": null,
      "layout": "IPY_MODEL_440da34c72344cb08e4a1ee5de7049ee",
      "placeholder": "​",
      "style": "IPY_MODEL_4b1e27aff6f04fec8268d951e46b1e63",
      "value": " 440M/440M [00:07&lt;00:00, 55.5MB/s]"
     }
    },
    "e0bb735fda99434a90380e7fc664212d": {
     "model_module": "@jupyter-widgets/controls",
     "model_module_version": "1.5.0",
     "model_name": "HTMLModel",
     "state": {
      "_dom_classes": [],
      "_model_module": "@jupyter-widgets/controls",
      "_model_module_version": "1.5.0",
      "_model_name": "HTMLModel",
      "_view_count": null,
      "_view_module": "@jupyter-widgets/controls",
      "_view_module_version": "1.5.0",
      "_view_name": "HTMLView",
      "description": "",
      "description_tooltip": null,
      "layout": "IPY_MODEL_472198d5b6a748b3a81f9364fd1fa711",
      "placeholder": "​",
      "style": "IPY_MODEL_375cc635389c4ddb9bf2aa443df58bae",
      "value": " 232k/232k [00:00&lt;00:00, 616kB/s]"
     }
    },
    "f8874fec8a404ae89a38fd2ecbb357cf": {
     "model_module": "@jupyter-widgets/base",
     "model_module_version": "1.2.0",
     "model_name": "LayoutModel",
     "state": {
      "_model_module": "@jupyter-widgets/base",
      "_model_module_version": "1.2.0",
      "_model_name": "LayoutModel",
      "_view_count": null,
      "_view_module": "@jupyter-widgets/base",
      "_view_module_version": "1.2.0",
      "_view_name": "LayoutView",
      "align_content": null,
      "align_items": null,
      "align_self": null,
      "border": null,
      "bottom": null,
      "display": null,
      "flex": null,
      "flex_flow": null,
      "grid_area": null,
      "grid_auto_columns": null,
      "grid_auto_flow": null,
      "grid_auto_rows": null,
      "grid_column": null,
      "grid_gap": null,
      "grid_row": null,
      "grid_template_areas": null,
      "grid_template_columns": null,
      "grid_template_rows": null,
      "height": null,
      "justify_content": null,
      "justify_items": null,
      "left": null,
      "margin": null,
      "max_height": null,
      "max_width": null,
      "min_height": null,
      "min_width": null,
      "object_fit": null,
      "object_position": null,
      "order": null,
      "overflow": null,
      "overflow_x": null,
      "overflow_y": null,
      "padding": null,
      "right": null,
      "top": null,
      "visibility": null,
      "width": null
     }
    },
    "fe254c3bcc08402eb506f0e98f5673a7": {
     "model_module": "@jupyter-widgets/controls",
     "model_module_version": "1.5.0",
     "model_name": "HBoxModel",
     "state": {
      "_dom_classes": [],
      "_model_module": "@jupyter-widgets/controls",
      "_model_module_version": "1.5.0",
      "_model_name": "HBoxModel",
      "_view_count": null,
      "_view_module": "@jupyter-widgets/controls",
      "_view_module_version": "1.5.0",
      "_view_name": "HBoxView",
      "box_style": "",
      "children": [
       "IPY_MODEL_23ca9359e6c44232a1346e6f2ab7e48c",
       "IPY_MODEL_d689bc8d488a4dc09c393b4fc9747bcb"
      ],
      "layout": "IPY_MODEL_cea84f9c3db641acb98314028b305514"
     }
    }
   }
  }
 },
 "nbformat": 4,
 "nbformat_minor": 4
}
