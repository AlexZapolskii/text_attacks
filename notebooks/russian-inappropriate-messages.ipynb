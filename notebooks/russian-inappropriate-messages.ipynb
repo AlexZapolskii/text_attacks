{
 "cells": [
  {
   "cell_type": "code",
   "execution_count": 13,
   "metadata": {
    "cellId": "qrckypn014xiywkv4al6",
    "colab": {
     "base_uri": "https://localhost:8080/"
    },
    "id": "oYsV4H8fCpZ-",
    "outputId": "2e60467d-6a6b-4898-e2f4-f42884cc6092"
   },
   "outputs": [
    {
     "name": "stdout",
     "output_type": "stream",
     "text": [
      "There are 1 GPU(s) available.\n",
      "We will use the GPU: Tesla V100-SXM2-32GB\n"
     ]
    }
   ],
   "source": [
    "#!g1.1\n",
    "import torch\n",
    "\n",
    "# If there's a GPU available...\n",
    "if torch.cuda.is_available():    \n",
    "\n",
    "    # Tell PyTorch to use the GPU.    \n",
    "    device = torch.device(\"cuda\")\n",
    "\n",
    "    print('There are %d GPU(s) available.' % torch.cuda.device_count())\n",
    "\n",
    "    print('We will use the GPU:', torch.cuda.get_device_name(0))\n",
    "\n",
    "# If not...\n",
    "else:\n",
    "    print('No GPU available, using the CPU instead.')\n",
    "    device = torch.device(\"cpu\")"
   ]
  },
  {
   "cell_type": "markdown",
   "metadata": {
    "cellId": "x6qbstw9pgas2lqs5np1fh"
   },
   "source": [
    "## Dataset"
   ]
  },
  {
   "cell_type": "code",
   "execution_count": null,
   "metadata": {
    "cellId": "euy3g5f7t7ulb8puy7moqo"
   },
   "outputs": [],
   "source": [
    "#!g1.1\n",
    "\n",
    "Анализируем некорректные высказывания"
   ]
  },
  {
   "cell_type": "code",
   "execution_count": 14,
   "metadata": {
    "cellId": "cjtovd92aum7wl7t0iihh2"
   },
   "outputs": [],
   "source": [
    "#!g1.1\n",
    "import pandas as pd"
   ]
  },
  {
   "cell_type": "code",
   "execution_count": 15,
   "metadata": {
    "cellId": "fksspqp907t496byc7kpl9"
   },
   "outputs": [],
   "source": [
    "#!g1.1\n",
    "\n",
    "train_df = pd.read_csv('../data/inappropriate/train.csv')\n",
    "test_df = pd.read_csv('../data/inappropriate/test.csv')"
   ]
  },
  {
   "cell_type": "code",
   "execution_count": 337,
   "metadata": {
    "cellId": "xxbpdsycfgphxhamz1a3t9"
   },
   "outputs": [
    {
     "data": {
      "text/plain": [
       "((130665, 21), (16334, 22))"
      ]
     },
     "metadata": {},
     "output_type": "display_data"
    }
   ],
   "source": [
    "#!g1.1\n",
    "train_df.shape, test_df.shape"
   ]
  },
  {
   "cell_type": "code",
   "execution_count": 17,
   "metadata": {
    "cellId": "sla5mmhslxov0mcfqiaknd"
   },
   "outputs": [
    {
     "data": {
      "text/html": [
       "<div>\n",
       "<style scoped>\n",
       "    .dataframe tbody tr th:only-of-type {\n",
       "        vertical-align: middle;\n",
       "    }\n",
       "\n",
       "    .dataframe tbody tr th {\n",
       "        vertical-align: top;\n",
       "    }\n",
       "\n",
       "    .dataframe thead th {\n",
       "        text-align: right;\n",
       "    }\n",
       "</style>\n",
       "<table border=\"1\" class=\"dataframe\">\n",
       "  <thead>\n",
       "    <tr style=\"text-align: right;\">\n",
       "      <th></th>\n",
       "      <th>text</th>\n",
       "      <th>inappropriate</th>\n",
       "      <th>offline_crime</th>\n",
       "      <th>online_crime</th>\n",
       "      <th>drugs</th>\n",
       "      <th>gambling</th>\n",
       "      <th>pornography</th>\n",
       "      <th>prostitution</th>\n",
       "      <th>slavery</th>\n",
       "      <th>suicide</th>\n",
       "      <th>...</th>\n",
       "      <th>weapons</th>\n",
       "      <th>body_shaming</th>\n",
       "      <th>health_shaming</th>\n",
       "      <th>politics</th>\n",
       "      <th>racism</th>\n",
       "      <th>religion</th>\n",
       "      <th>sexual_minorities</th>\n",
       "      <th>sexism</th>\n",
       "      <th>social_injustice</th>\n",
       "      <th>human_labeled</th>\n",
       "    </tr>\n",
       "  </thead>\n",
       "  <tbody>\n",
       "    <tr>\n",
       "      <th>0</th>\n",
       "      <td>я думал что левиафаны - это те медленные страх...</td>\n",
       "      <td>1.00</td>\n",
       "      <td>0.0</td>\n",
       "      <td>0.0</td>\n",
       "      <td>0.0</td>\n",
       "      <td>0.0</td>\n",
       "      <td>0.0</td>\n",
       "      <td>0.0</td>\n",
       "      <td>0.0</td>\n",
       "      <td>0.0</td>\n",
       "      <td>...</td>\n",
       "      <td>0.0</td>\n",
       "      <td>0.0</td>\n",
       "      <td>0.0</td>\n",
       "      <td>0.0</td>\n",
       "      <td>0.0</td>\n",
       "      <td>0.0</td>\n",
       "      <td>0.0</td>\n",
       "      <td>0.0</td>\n",
       "      <td>0.0</td>\n",
       "      <td>0</td>\n",
       "    </tr>\n",
       "    <tr>\n",
       "      <th>1</th>\n",
       "      <td>А был бы этот полицейский в Петербурге, так пе...</td>\n",
       "      <td>0.95</td>\n",
       "      <td>0.0</td>\n",
       "      <td>0.0</td>\n",
       "      <td>0.0</td>\n",
       "      <td>0.0</td>\n",
       "      <td>0.0</td>\n",
       "      <td>1.0</td>\n",
       "      <td>0.0</td>\n",
       "      <td>0.0</td>\n",
       "      <td>...</td>\n",
       "      <td>0.0</td>\n",
       "      <td>0.0</td>\n",
       "      <td>0.0</td>\n",
       "      <td>0.0</td>\n",
       "      <td>0.0</td>\n",
       "      <td>0.0</td>\n",
       "      <td>0.0</td>\n",
       "      <td>0.0</td>\n",
       "      <td>0.0</td>\n",
       "      <td>0</td>\n",
       "    </tr>\n",
       "    <tr>\n",
       "      <th>2</th>\n",
       "      <td>Напоминаю, что пора искать актис невзрослого п...</td>\n",
       "      <td>1.00</td>\n",
       "      <td>0.0</td>\n",
       "      <td>0.0</td>\n",
       "      <td>0.0</td>\n",
       "      <td>0.0</td>\n",
       "      <td>0.0</td>\n",
       "      <td>0.0</td>\n",
       "      <td>0.0</td>\n",
       "      <td>0.0</td>\n",
       "      <td>...</td>\n",
       "      <td>0.0</td>\n",
       "      <td>0.0</td>\n",
       "      <td>0.0</td>\n",
       "      <td>0.0</td>\n",
       "      <td>0.0</td>\n",
       "      <td>0.0</td>\n",
       "      <td>1.0</td>\n",
       "      <td>0.0</td>\n",
       "      <td>0.0</td>\n",
       "      <td>0</td>\n",
       "    </tr>\n",
       "    <tr>\n",
       "      <th>3</th>\n",
       "      <td>курю лет пятнадцать никаких проблем кроме како...</td>\n",
       "      <td>1.00</td>\n",
       "      <td>0.0</td>\n",
       "      <td>0.0</td>\n",
       "      <td>1.0</td>\n",
       "      <td>0.0</td>\n",
       "      <td>0.0</td>\n",
       "      <td>0.0</td>\n",
       "      <td>0.0</td>\n",
       "      <td>0.0</td>\n",
       "      <td>...</td>\n",
       "      <td>0.0</td>\n",
       "      <td>0.0</td>\n",
       "      <td>0.0</td>\n",
       "      <td>0.0</td>\n",
       "      <td>0.0</td>\n",
       "      <td>0.0</td>\n",
       "      <td>0.0</td>\n",
       "      <td>0.0</td>\n",
       "      <td>0.0</td>\n",
       "      <td>0</td>\n",
       "    </tr>\n",
       "    <tr>\n",
       "      <th>4</th>\n",
       "      <td>окей, я тогда проведу парад гетеросексуалов, п...</td>\n",
       "      <td>1.00</td>\n",
       "      <td>0.0</td>\n",
       "      <td>0.0</td>\n",
       "      <td>0.0</td>\n",
       "      <td>0.0</td>\n",
       "      <td>0.0</td>\n",
       "      <td>0.0</td>\n",
       "      <td>0.0</td>\n",
       "      <td>0.0</td>\n",
       "      <td>...</td>\n",
       "      <td>0.0</td>\n",
       "      <td>0.0</td>\n",
       "      <td>0.0</td>\n",
       "      <td>0.0</td>\n",
       "      <td>0.0</td>\n",
       "      <td>0.0</td>\n",
       "      <td>1.0</td>\n",
       "      <td>0.0</td>\n",
       "      <td>0.0</td>\n",
       "      <td>0</td>\n",
       "    </tr>\n",
       "  </tbody>\n",
       "</table>\n",
       "<p>5 rows × 21 columns</p>\n",
       "</div>"
      ],
      "text/plain": [
       "                                                text  inappropriate  \\\n",
       "0  я думал что левиафаны - это те медленные страх...           1.00   \n",
       "1  А был бы этот полицейский в Петербурге, так пе...           0.95   \n",
       "2  Напоминаю, что пора искать актис невзрослого п...           1.00   \n",
       "3  курю лет пятнадцать никаких проблем кроме како...           1.00   \n",
       "4  окей, я тогда проведу парад гетеросексуалов, п...           1.00   \n",
       "\n",
       "   offline_crime  online_crime  drugs  gambling  pornography  prostitution  \\\n",
       "0            0.0           0.0    0.0       0.0          0.0           0.0   \n",
       "1            0.0           0.0    0.0       0.0          0.0           1.0   \n",
       "2            0.0           0.0    0.0       0.0          0.0           0.0   \n",
       "3            0.0           0.0    1.0       0.0          0.0           0.0   \n",
       "4            0.0           0.0    0.0       0.0          0.0           0.0   \n",
       "\n",
       "   slavery  suicide  ...  weapons  body_shaming  health_shaming  politics  \\\n",
       "0      0.0      0.0  ...      0.0           0.0             0.0       0.0   \n",
       "1      0.0      0.0  ...      0.0           0.0             0.0       0.0   \n",
       "2      0.0      0.0  ...      0.0           0.0             0.0       0.0   \n",
       "3      0.0      0.0  ...      0.0           0.0             0.0       0.0   \n",
       "4      0.0      0.0  ...      0.0           0.0             0.0       0.0   \n",
       "\n",
       "   racism  religion  sexual_minorities  sexism  social_injustice  \\\n",
       "0     0.0       0.0                0.0     0.0               0.0   \n",
       "1     0.0       0.0                0.0     0.0               0.0   \n",
       "2     0.0       0.0                1.0     0.0               0.0   \n",
       "3     0.0       0.0                0.0     0.0               0.0   \n",
       "4     0.0       0.0                1.0     0.0               0.0   \n",
       "\n",
       "   human_labeled  \n",
       "0              0  \n",
       "1              0  \n",
       "2              0  \n",
       "3              0  \n",
       "4              0  \n",
       "\n",
       "[5 rows x 21 columns]"
      ]
     },
     "metadata": {},
     "output_type": "display_data"
    }
   ],
   "source": [
    "#!g1.1\n",
    "train_df.head()"
   ]
  },
  {
   "cell_type": "code",
   "execution_count": 18,
   "metadata": {
    "cellId": "d0403c5f0jankvpgos3oz9"
   },
   "outputs": [
    {
     "data": {
      "text/plain": [
       "0    91803\n",
       "1    38862\n",
       "Name: inappropriate, dtype: int64"
      ]
     },
     "metadata": {},
     "output_type": "display_data"
    }
   ],
   "source": [
    "#!g1.1\n",
    "\n",
    "(train_df.inappropriate > 0.5).astype('int').value_counts()"
   ]
  },
  {
   "cell_type": "code",
   "execution_count": 19,
   "metadata": {
    "cellId": "8br3c1v0hsstgm4cg2newg"
   },
   "outputs": [
    {
     "data": {
      "text/plain": [
       "count    130665.000000\n",
       "mean         16.149834\n",
       "std          11.963462\n",
       "min           1.000000\n",
       "25%           9.000000\n",
       "50%          13.000000\n",
       "75%          21.000000\n",
       "max         738.000000\n",
       "Name: text, dtype: float64"
      ]
     },
     "metadata": {},
     "output_type": "display_data"
    }
   ],
   "source": [
    "#!g1.1\n",
    "\n",
    "# statistics of text length (in words)\n",
    "train_df['text'].apply(lambda s: len(s.split())).describe()"
   ]
  },
  {
   "cell_type": "code",
   "execution_count": 20,
   "metadata": {
    "cellId": "2zvswbwp7b6e2ddkfhdgx7"
   },
   "outputs": [
    {
     "data": {
      "text/plain": [
       "42.0"
      ]
     },
     "metadata": {},
     "output_type": "display_data"
    }
   ],
   "source": [
    "#!g1.1\n",
    "train_df['text'].apply(lambda s: len(s.split())).quantile(0.99)"
   ]
  },
  {
   "cell_type": "markdown",
   "metadata": {
    "cellId": "ojyoxtdlnfknganup05c",
    "id": "4SMZ5T5Imhlx"
   },
   "source": [
    "\n",
    "\n",
    "Let's extract the sentences and labels of our training set as numpy ndarrays."
   ]
  },
  {
   "cell_type": "code",
   "execution_count": 21,
   "metadata": {
    "cellId": "m34oe1hw05p1dhexpqhi1c",
    "id": "GuE5BqICAne2"
   },
   "outputs": [],
   "source": [
    "#!g1.1\n",
    "# Get the lists of sentences and their labels.\n",
    "sentences = train_df.text.values\n",
    "labels = (train_df.inappropriate > 0.5).astype('int').values\n",
    "\n",
    "#valid_df"
   ]
  },
  {
   "cell_type": "markdown",
   "metadata": {
    "cellId": "n2m4dcnkfdaicq7fwl9c6o",
    "id": "ex5O1eV-Pfct"
   },
   "source": [
    "# 3. Tokenization & Input Formatting\n",
    "\n",
    "In this section, we'll transform our dataset into the format that BERT can be trained on."
   ]
  },
  {
   "cell_type": "markdown",
   "metadata": {
    "cellId": "qtzfq4mx3uw401xg02zbn",
    "id": "-8kEDRvShcU5"
   },
   "source": [
    "## 3.1. BERT Tokenizer"
   ]
  },
  {
   "cell_type": "markdown",
   "metadata": {
    "cellId": "nltqt9p18y4hwrqoid46m",
    "id": "bWOPOyWghJp2"
   },
   "source": [
    "\n",
    "To feed our text to BERT, it must be split into tokens, and then these tokens must be mapped to their index in the tokenizer vocabulary.\n",
    "\n",
    "The tokenization must be performed by the tokenizer included with BERT--the below cell will download this for us. We'll be using the \"uncased\" version here.\n"
   ]
  },
  {
   "cell_type": "code",
   "execution_count": null,
   "metadata": {
    "cellId": "y9el2fkaw5shwqmo17kumb"
   },
   "outputs": [],
   "source": [
    "На этот раз, используем русскоязычный Берт от Дип Павлова"
   ]
  },
  {
   "cell_type": "code",
   "execution_count": 22,
   "metadata": {
    "cellId": "6jmucnexl0vfmaq78346gl",
    "colab": {
     "base_uri": "https://localhost:8080/",
     "height": 84,
     "referenced_widgets": [
      "82ddfcea0e4c4e5a86cf6eca8585be8d",
      "8a256ba4a19e4ec98fe3c3c99fba4daa",
      "8c76faadf2f4415393c6f0a805f0d72b",
      "e0bb735fda99434a90380e7fc664212d",
      "cdb78e75309f4bc09366533331e72431",
      "1058e0b5baa248faa60c1ad146d10bf7",
      "375cc635389c4ddb9bf2aa443df58bae",
      "472198d5b6a748b3a81f9364fd1fa711"
     ]
    },
    "id": "Z474sSC6oe7A",
    "outputId": "4e6d97b6-2d4c-42ca-c201-d2b4a88895b9"
   },
   "outputs": [
    {
     "data": {
      "application/vnd.jupyter.widget-view+json": {
       "model_id": "28b6d7bc41ce409e9f7080fb43a0c5d5",
       "version_major": 2,
       "version_minor": 0
      },
      "text/plain": [
       "HBox(children=(FloatProgress(value=0.0, description='Downloading', max=1649718.0, style=ProgressStyle(descript…"
      ]
     },
     "metadata": {},
     "output_type": "display_data"
    },
    {
     "data": {
      "application/vnd.jupyter.widget-view+json": {
       "model_id": "63256a8c7cfa4c1383c0eb20edd3cbf3",
       "version_major": 2,
       "version_minor": 0
      },
      "text/plain": [
       "HBox(children=(FloatProgress(value=0.0, description='Downloading', max=112.0, style=ProgressStyle(description_…"
      ]
     },
     "metadata": {},
     "output_type": "display_data"
    },
    {
     "data": {
      "application/vnd.jupyter.widget-view+json": {
       "model_id": "bd941d46949d40e4acac80a86746aef8",
       "version_major": 2,
       "version_minor": 0
      },
      "text/plain": [
       "HBox(children=(FloatProgress(value=0.0, description='Downloading', max=24.0, style=ProgressStyle(description_w…"
      ]
     },
     "metadata": {},
     "output_type": "display_data"
    },
    {
     "data": {
      "application/vnd.jupyter.widget-view+json": {
       "model_id": "039bf46b13e84579a8093441c91e0964",
       "version_major": 2,
       "version_minor": 0
      },
      "text/plain": [
       "HBox(children=(FloatProgress(value=0.0, description='Downloading', max=642.0, style=ProgressStyle(description_…"
      ]
     },
     "metadata": {},
     "output_type": "display_data"
    },
    {
     "name": "stdout",
     "output_type": "stream",
     "text": [
      "Loading BERT tokenizer...\n",
      "\n",
      "\n",
      "\n",
      "\n"
     ]
    }
   ],
   "source": [
    "#!g1.1\n",
    "from transformers import BertTokenizer\n",
    "\n",
    "# Load the BERT tokenizer.\n",
    "print('Loading BERT tokenizer...')\n",
    "tokenizer = BertTokenizer.from_pretrained('DeepPavlov/rubert-base-cased', do_lower_case=True)"
   ]
  },
  {
   "cell_type": "code",
   "execution_count": 273,
   "metadata": {
    "cellId": "csrt6hf3abf07y5zxj7xnfq",
    "colab": {
     "base_uri": "https://localhost:8080/",
     "height": 84,
     "referenced_widgets": [
      "82ddfcea0e4c4e5a86cf6eca8585be8d",
      "8a256ba4a19e4ec98fe3c3c99fba4daa",
      "8c76faadf2f4415393c6f0a805f0d72b",
      "e0bb735fda99434a90380e7fc664212d",
      "cdb78e75309f4bc09366533331e72431",
      "1058e0b5baa248faa60c1ad146d10bf7",
      "375cc635389c4ddb9bf2aa443df58bae",
      "472198d5b6a748b3a81f9364fd1fa711"
     ]
    },
    "id": "Z474sSC6oe7A",
    "outputId": "4e6d97b6-2d4c-42ca-c201-d2b4a88895b9"
   },
   "outputs": [
    {
     "data": {
      "application/vnd.jupyter.widget-view+json": {
       "model_id": "e062a6c7c28b4f74816db055c7e560a5",
       "version_major": 2,
       "version_minor": 0
      },
      "text/plain": [
       "HBox(children=(FloatProgress(value=0.0, description='Downloading', max=132977.0, style=ProgressStyle(descripti…"
      ]
     },
     "metadata": {},
     "output_type": "display_data"
    },
    {
     "data": {
      "application/vnd.jupyter.widget-view+json": {
       "model_id": "85b1faa4ec414840a56f21176f1df2b1",
       "version_major": 2,
       "version_minor": 0
      },
      "text/plain": [
       "HBox(children=(FloatProgress(value=0.0, description='Downloading', max=49.0, style=ProgressStyle(description_w…"
      ]
     },
     "metadata": {},
     "output_type": "display_data"
    },
    {
     "data": {
      "application/vnd.jupyter.widget-view+json": {
       "model_id": "c49d56cad9b14366a1fdc27ec2b3a14c",
       "version_major": 2,
       "version_minor": 0
      },
      "text/plain": [
       "HBox(children=(FloatProgress(value=0.0, description='Downloading', max=659.0, style=ProgressStyle(description_…"
      ]
     },
     "metadata": {},
     "output_type": "display_data"
    },
    {
     "name": "stdout",
     "output_type": "stream",
     "text": [
      "Loading BERT tokenizer...\n",
      "\n",
      "\n",
      "\n"
     ]
    }
   ],
   "source": [
    "#!g1.1\n",
    "\n",
    "# сравним с мультиязычной моделью\n",
    "from transformers import BertTokenizer\n",
    "\n",
    "# Load the BERT tokenizer.\n",
    "print('Loading BERT tokenizer...')\n",
    "tokenizer = BertTokenizer.from_pretrained('Geotrend/bert-base-ru-cased', do_lower_case=True)  #мультиязычная, но только с русским словарем"
   ]
  },
  {
   "cell_type": "markdown",
   "metadata": {
    "cellId": "f6ic2xeksek12tly7v2t7yh",
    "id": "dFzmtleW6KmJ"
   },
   "source": [
    "Let's apply the tokenizer to one sentence just to see the output.\n"
   ]
  },
  {
   "cell_type": "code",
   "execution_count": 307,
   "metadata": {
    "cellId": "mny8uy4m80cjfn7q4gsbjj",
    "colab": {
     "base_uri": "https://localhost:8080/"
    },
    "id": "dLIbudgfh6F0",
    "outputId": "9ca681ff-195f-4960-a0ba-55ded440278e"
   },
   "outputs": [
    {
     "name": "stdout",
     "output_type": "stream",
     "text": [
      " Original:  Я уже написал как я понимаю принцип око за око. Соотносится ли он с заповедями какой либо религии мне все равно. Я не верю ни в одну существующую религию ибо они все лгут и преследуют свои цели)\n",
      "Tokenized:  ['я', 'уже', 'написал', 'как', 'я', 'понимаю', 'принцип', 'око', 'за', 'око', '.', 'соотносится', 'ли', 'он', 'с', 'заповед', '##ями', 'как', '##ои', 'либо', 'религии', 'мне', 'все', 'равно', '.', 'я', 'не', 'верю', 'ни', 'в', 'одну', 'существующую', 'религию', 'ибо', 'они', 'все', 'л', '##гут', 'и', 'преследуют', 'свои', 'цели', ')']\n",
      "Token IDs:  [877, 4745, 12715, 2739, 877, 65339, 12058, 19304, 1758, 19304, 132, 105013, 11089, 2886, 869, 19517, 8037, 2739, 15484, 8568, 23539, 16740, 4752, 17561, 132, 877, 1699, 77523, 7036, 845, 12742, 87631, 54405, 32971, 4725, 4752, 863, 46269, 851, 62784, 8305, 16934, 122]\n"
     ]
    }
   ],
   "source": [
    "#!g1.1\n",
    "# Print the original sentence.\n",
    "print(' Original: ', sentences[1000])\n",
    "\n",
    "# Print the sentence split into tokens.\n",
    "print('Tokenized: ', tokenizer.tokenize(sentences[1000]))\n",
    "\n",
    "# Print the sentence mapped to token ids.\n",
    "print('Token IDs: ', tokenizer.convert_tokens_to_ids(tokenizer.tokenize(sentences[1000])))"
   ]
  },
  {
   "cell_type": "code",
   "execution_count": null,
   "metadata": {
    "cellId": "hs1qhwb66gl3w0a5ve8ao2"
   },
   "outputs": [],
   "source": [
    "#!g1.1\n",
    "сравним "
   ]
  },
  {
   "cell_type": "code",
   "execution_count": 276,
   "metadata": {
    "cellId": "3b4lddezer765urlbbrxua",
    "colab": {
     "base_uri": "https://localhost:8080/"
    },
    "id": "dLIbudgfh6F0",
    "outputId": "9ca681ff-195f-4960-a0ba-55ded440278e"
   },
   "outputs": [
    {
     "name": "stdout",
     "output_type": "stream",
     "text": [
      " Original:  Я уже написал как я понимаю принцип око за око. Соотносится ли он с заповедями какой либо религии мне все равно. Я не верю ни в одну существующую религию ибо они все лгут и преследуют свои цели)\n",
      "Tokenized:  ['я', 'уже', 'написал', 'как', 'я', 'по', '##нима', '##ю', 'принцип', 'око', 'за', 'око', '.', 'со', '##от', '##нос', '##ится', 'ли', 'он', 'с', 'за', '##пов', '##ед', '##ями', 'како', '##и', 'либо', 'религии', 'мне', 'все', 'равно', '.', 'я', 'не', 'в', '##ер', '##ю', 'ни', 'в', 'одну', 'су', '##ществ', '##ую', '##щую', 'р', '##ели', '##ги', '##ю', 'и', '##бо', 'они', 'все', 'л', '##гу', '##т', 'и', 'пре', '##след', '##уют', 'свои', 'цели', ')']\n",
      "Token IDs:  [194, 2177, 6886, 707, 194, 369, 12923, 533, 9679, 2848, 320, 2848, 27, 710, 735, 10908, 6727, 5058, 759, 182, 320, 6527, 4856, 3303, 1419, 288, 3651, 12782, 9527, 1729, 14141, 27, 194, 424, 167, 1178, 533, 2986, 167, 4876, 531, 12362, 1974, 7799, 181, 2766, 1851, 533, 173, 4544, 1887, 1729, 176, 2175, 408, 173, 5859, 10321, 6569, 3405, 7058, 22]\n"
     ]
    }
   ],
   "source": [
    "#!g1.1\n",
    "# Print the original sentence.\n",
    "print(' Original: ', sentences[1000])\n",
    "\n",
    "# Print the sentence split into tokens.\n",
    "print('Tokenized: ', tokenizer.tokenize(sentences[1000]))\n",
    "\n",
    "# Print the sentence mapped to token ids.и\n",
    "print('Token IDs: ', tokenizer.convert_tokens_to_ids(tokenizer.tokenize(sentences[1000])))"
   ]
  },
  {
   "cell_type": "code",
   "execution_count": null,
   "metadata": {
    "cellId": "9sxllh2wshm2d0jljgysgu"
   },
   "outputs": [],
   "source": [
    "#!g1.1\n",
    "сразу видна разница в токенизации"
   ]
  },
  {
   "cell_type": "markdown",
   "metadata": {
    "cellId": "f0bzhx87zoslojylqdjd",
    "id": "l6w8elb-58GJ"
   },
   "source": [
    "## 3.3. Tokenize Dataset"
   ]
  },
  {
   "cell_type": "markdown",
   "metadata": {
    "cellId": "pa70o6ujlergqrti32dqxq",
    "id": "U28qy4P-NwQ9"
   },
   "source": [
    "The transformers library provides a helpful `encode` function which will handle most of the parsing and data prep steps for us.\n",
    "\n",
    "Before we are ready to encode our text, though, we need to decide on a **maximum sentence length** for padding / truncating to.\n",
    "\n",
    "The below cell will perform one tokenization pass of the dataset in order to measure the maximum sentence length."
   ]
  },
  {
   "cell_type": "markdown",
   "metadata": {
    "cellId": "1eqbtipj60j0eqdvu6e8xxw",
    "id": "1M296yz577fV"
   },
   "source": [
    "Just in case there are some longer test sentences, I'll set the maximum length to 64.\n"
   ]
  },
  {
   "cell_type": "markdown",
   "metadata": {
    "cellId": "i755qyr606mma331z1j2bj",
    "id": "tIWAoWL2RK1p"
   },
   "source": [
    "Now we're ready to perform the real tokenization.\n",
    "\n",
    "The `tokenizer.encode_plus` function combines multiple steps for us:\n",
    "\n",
    "1. Split the sentence into tokens.\n",
    "2. Add the special `[CLS]` and `[SEP]` tokens.\n",
    "3. Map the tokens to their IDs.\n",
    "4. Pad or truncate all sentences to the same length.\n",
    "5. Create the attention masks which explicitly differentiate real tokens from `[PAD]` tokens.\n",
    "\n",
    "The first four features are in `tokenizer.encode`, but I'm using `tokenizer.encode_plus` to get the fifth item (attention masks). Documentation is [here](https://huggingface.co/transformers/main_classes/tokenizer.html?highlight=encode_plus#transformers.PreTrainedTokenizer.encode_plus).\n"
   ]
  },
  {
   "cell_type": "code",
   "execution_count": 23,
   "metadata": {
    "cellId": "yytmmzbcb1zzlhqavefsg",
    "colab": {
     "base_uri": "https://localhost:8080/"
    },
    "id": "2bBdb3pt8LuQ",
    "outputId": "b4d78c6d-0faf-459b-b11a-a26ce40bd32a"
   },
   "outputs": [
    {
     "name": "stderr",
     "output_type": "stream",
     "text": [
      "Truncation was not explicitly activated but `max_length` is provided a specific value, please use `truncation=True` to explicitly truncate examples to max length. Defaulting to 'longest_first' truncation strategy. If you encode pairs of sequences (GLUE-style) with the tokenizer you can select this strategy more precisely by providing a specific strategy to `truncation`.\n",
      "/home/jupyter/.local/lib/python3.7/site-packages/transformers/tokenization_utils_base.py:2227: FutureWarning: The `pad_to_max_length` argument is deprecated and will be removed in a future version, use `padding=True` or `padding='longest'` to pad to the longest sequence in the batch, or use `padding='max_length'` to pad to a max length. In this case, you can give a specific length with `max_length` (e.g. `max_length=45`) or leave max_length to None to pad to the maximal input size of the model (e.g. 512 for Bert).\n",
      "  FutureWarning,\n"
     ]
    },
    {
     "name": "stdout",
     "output_type": "stream",
     "text": [
      "Original:  я думал что левиафаны - это те медленные страхоебины с NUMBER вебмки\n",
      "Token IDs: tensor([  101,   877, 48241,  1997, 10208, 17116, 51988,   880,   130,  3998,\n",
      "         4922, 62570,  2059, 14626,  2325, 11907,   880,   869, 22948, 12724,\n",
      "        23663,   866,  2237,   102,     0,     0,     0,     0,     0,     0,\n",
      "            0,     0,     0,     0,     0,     0,     0,     0,     0,     0,\n",
      "            0,     0,     0,     0,     0,     0,     0,     0,     0,     0,\n",
      "            0,     0,     0,     0,     0,     0,     0,     0,     0,     0,\n",
      "            0,     0,     0,     0])\n"
     ]
    }
   ],
   "source": [
    "#!g1.1\n",
    "# Tokenize all of the sentences and map the tokens to thier word IDs.\n",
    "input_ids = []\n",
    "attention_masks = []\n",
    "\n",
    "# For every sentence...\n",
    "for sent in sentences:\n",
    "    # `encode_plus` will:\n",
    "    #   (1) Tokenize the sentence.\n",
    "    #   (2) Prepend the `[CLS]` token to the start.\n",
    "    #   (3) Append the `[SEP]` token to the end.\n",
    "    #   (4) Map tokens to their IDs.\n",
    "    #   (5) Pad or truncate the sentence to `max_length`\n",
    "    #   (6) Create attention masks for [PAD] tokens.\n",
    "    encoded_dict = tokenizer.encode_plus(\n",
    "                        sent,                      # Sentence to encode.\n",
    "                        add_special_tokens = True, # Add '[CLS]' and '[SEP]'\n",
    "                        max_length = 64,           # Pad & truncate all sentences.  # возьмем максимальную длину последовательности\n",
    "                        pad_to_max_length = True,\n",
    "                        return_attention_mask = True,   # Construct attn. masks.\n",
    "                        return_tensors = 'pt',     # Return pytorch tensors.\n",
    "                   )\n",
    "    \n",
    "    # Add the encoded sentence to the list.    \n",
    "    input_ids.append(encoded_dict['input_ids'])\n",
    "    \n",
    "    # And its attention mask (simply differentiates padding from non-padding).\n",
    "    attention_masks.append(encoded_dict['attention_mask'])\n",
    "\n",
    "# Convert the lists into tensors.\n",
    "input_ids = torch.cat(input_ids, dim=0)\n",
    "attention_masks = torch.cat(attention_masks, dim=0)\n",
    "labels = torch.tensor(labels)\n",
    "\n",
    "# Print sentence 0, now as a list of IDs.\n",
    "print('Original: ', sentences[0])\n",
    "print('Token IDs:', input_ids[0])"
   ]
  },
  {
   "cell_type": "markdown",
   "metadata": {
    "cellId": "82676h6h03u8rs5mvnowla",
    "id": "aRp4O7D295d_"
   },
   "source": [
    "## 3.4. Training & Validation Split\n"
   ]
  },
  {
   "cell_type": "markdown",
   "metadata": {
    "cellId": "iuprzz80qrdsfz1b97rtk",
    "id": "qu0ao7p8rb06"
   },
   "source": [
    "Divide up our training set to use 90% for training and 10% for validation."
   ]
  },
  {
   "cell_type": "code",
   "execution_count": 24,
   "metadata": {
    "cellId": "ib4pjswxwwzpdbvvlplze",
    "colab": {
     "base_uri": "https://localhost:8080/"
    },
    "id": "GEgLpFVlo1Z-",
    "outputId": "c0ae3d66-6982-4c33-a3f4-ca80e0cd9968"
   },
   "outputs": [
    {
     "name": "stdout",
     "output_type": "stream",
     "text": [
      "117,598 training samples\n",
      "13,067 validation samples\n"
     ]
    }
   ],
   "source": [
    "#!g1.1\n",
    "from torch.utils.data import TensorDataset, random_split\n",
    "\n",
    "# Combine the training inputs into a TensorDataset.\n",
    "dataset = TensorDataset(input_ids, attention_masks, labels)\n",
    "\n",
    "# Create a 90-10 train-validation split.\n",
    "\n",
    "# Calculate the number of samples to include in each set.\n",
    "train_size = int(0.9 * len(dataset))\n",
    "val_size = len(dataset) - train_size\n",
    "\n",
    "# Divide the dataset by randomly selecting samples.\n",
    "train_dataset, val_dataset = random_split(dataset, [train_size, val_size])\n",
    "\n",
    "print('{:>5,} training samples'.format(train_size))\n",
    "print('{:>5,} validation samples'.format(val_size))"
   ]
  },
  {
   "cell_type": "markdown",
   "metadata": {
    "cellId": "m9ybm4alx44tp9k0we34n",
    "id": "dD9i6Z2pG-sN"
   },
   "source": [
    "We'll also create an iterator for our dataset using the torch DataLoader class. This helps save on memory during training because, unlike a for loop, with an iterator the entire dataset does not need to be loaded into memory."
   ]
  },
  {
   "cell_type": "code",
   "execution_count": 25,
   "metadata": {
    "cellId": "iwqd3ad1js80vl8i354nnl",
    "id": "XGUqOCtgqGhP"
   },
   "outputs": [],
   "source": [
    "#!g1.1\n",
    "from torch.utils.data import DataLoader, RandomSampler, SequentialSampler\n",
    "\n",
    "# The DataLoader needs to know our batch size for training, so we specify it \n",
    "# here. For fine-tuning BERT on a specific task, the authors recommend a batch \n",
    "# size of 16 or 32.\n",
    "batch_size = 164  # указываем батч-сайз\n",
    "\n",
    "# Create the DataLoaders for our training and validation sets.\n",
    "# We'll take training samples in random order. \n",
    "train_dataloader = DataLoader(\n",
    "            train_dataset,  # The training samples.\n",
    "            sampler = RandomSampler(train_dataset), # Select batches randomly\n",
    "            batch_size = batch_size # Trains with this batch size.\n",
    "        )\n",
    "\n",
    "# For validation the order doesn't matter, so we'll just read them sequentially.\n",
    "validation_dataloader = DataLoader(\n",
    "            val_dataset, # The validation samples.\n",
    "            sampler = SequentialSampler(val_dataset), # Pull out batches sequentially.\n",
    "            batch_size = batch_size # Evaluate with this batch size.\n",
    "        )"
   ]
  },
  {
   "cell_type": "markdown",
   "metadata": {
    "cellId": "66cyrih7c3p0cl88mzgvetq",
    "id": "8bwa6Rts-02-"
   },
   "source": [
    "# 4. Train Our Classification Model"
   ]
  },
  {
   "cell_type": "markdown",
   "metadata": {
    "cellId": "imoti25fzyfya532kf959",
    "id": "3xYQ3iLO08SX"
   },
   "source": [
    "Now that our input data is properly formatted, it's time to fine tune the BERT model. "
   ]
  },
  {
   "cell_type": "markdown",
   "metadata": {
    "cellId": "s06oty1c87j31dvpuqspgj",
    "id": "D6TKgyUzPIQc"
   },
   "source": [
    "## 4.1. BertForSequenceClassification"
   ]
  },
  {
   "cell_type": "markdown",
   "metadata": {
    "cellId": "s4gtg8ptifgsq4bdfylkhe",
    "id": "WnQW9E-bBCRt"
   },
   "source": [
    "OK, let's load BERT! There are a few different pre-trained BERT models available. \"bert-base-uncased\" means the version that has only lowercase letters (\"uncased\") and is the smaller version of the two (\"base\" vs \"large\").\n",
    "\n",
    "The documentation for `from_pretrained` can be found [here](https://huggingface.co/transformers/v2.2.0/main_classes/model.html#transformers.PreTrainedModel.from_pretrained), with the additional parameters defined [here](https://huggingface.co/transformers/v2.2.0/main_classes/configuration.html#transformers.PretrainedConfig)."
   ]
  },
  {
   "cell_type": "code",
   "execution_count": 26,
   "metadata": {
    "cellId": "rttscznhild2cfrg0evrue",
    "colab": {
     "base_uri": "https://localhost:8080/",
     "height": 1000,
     "referenced_widgets": [
      "bf9dfa1ff3e642fbb74c5146d21044c2",
      "1c2b0ede959142fc89bf07a9c88df638",
      "1296a3d754b344a482a03e5af84e805e",
      "6f132d7bb83d41b6847df0d0ec0a1b92",
      "2755b9838bae408ca8cf667ad9d501fc",
      "f8874fec8a404ae89a38fd2ecbb357cf",
      "a7bdbedc75de4f77b45f1389c2ea0abc",
      "978c24b18b594eaf8ca47730a88eefb9",
      "fe254c3bcc08402eb506f0e98f5673a7",
      "cea84f9c3db641acb98314028b305514",
      "23ca9359e6c44232a1346e6f2ab7e48c",
      "d689bc8d488a4dc09c393b4fc9747bcb",
      "6c7dec7b1e804c2195f6e60fb3c1d18e",
      "0fe5b1d0540240a8a8426352c24b2887",
      "4b1e27aff6f04fec8268d951e46b1e63",
      "440da34c72344cb08e4a1ee5de7049ee"
     ]
    },
    "id": "gFsCTp_mporB",
    "outputId": "af690f33-6cd5-4678-bdaf-209f068f70f5"
   },
   "outputs": [
    {
     "data": {
      "application/vnd.jupyter.widget-view+json": {
       "model_id": "d5625601b03e448f89c88c9b847f6ed9",
       "version_major": 2,
       "version_minor": 0
      },
      "text/plain": [
       "HBox(children=(FloatProgress(value=0.0, description='Downloading', max=714355318.0, style=ProgressStyle(descri…"
      ]
     },
     "metadata": {},
     "output_type": "display_data"
    },
    {
     "name": "stdout",
     "output_type": "stream",
     "text": [
      "\n"
     ]
    },
    {
     "name": "stderr",
     "output_type": "stream",
     "text": [
      "Some weights of the model checkpoint at DeepPavlov/rubert-base-cased were not used when initializing BertForSequenceClassification: ['cls.predictions.transform.LayerNorm.weight', 'cls.predictions.transform.dense.weight', 'cls.predictions.transform.LayerNorm.bias', 'cls.predictions.transform.dense.bias', 'cls.predictions.decoder.bias', 'cls.seq_relationship.bias', 'cls.predictions.decoder.weight', 'cls.seq_relationship.weight', 'cls.predictions.bias']\n",
      "- This IS expected if you are initializing BertForSequenceClassification from the checkpoint of a model trained on another task or with another architecture (e.g. initializing a BertForSequenceClassification model from a BertForPreTraining model).\n",
      "- This IS NOT expected if you are initializing BertForSequenceClassification from the checkpoint of a model that you expect to be exactly identical (initializing a BertForSequenceClassification model from a BertForSequenceClassification model).\n",
      "Some weights of BertForSequenceClassification were not initialized from the model checkpoint at DeepPavlov/rubert-base-cased and are newly initialized: ['classifier.weight', 'classifier.bias']\n",
      "You should probably TRAIN this model on a down-stream task to be able to use it for predictions and inference.\n"
     ]
    },
    {
     "data": {
      "text/plain": [
       "BertForSequenceClassification(\n",
       "  (bert): BertModel(\n",
       "    (embeddings): BertEmbeddings(\n",
       "      (word_embeddings): Embedding(119547, 768, padding_idx=0)\n",
       "      (position_embeddings): Embedding(512, 768)\n",
       "      (token_type_embeddings): Embedding(2, 768)\n",
       "      (LayerNorm): LayerNorm((768,), eps=1e-12, elementwise_affine=True)\n",
       "      (dropout): Dropout(p=0.1, inplace=False)\n",
       "    )\n",
       "    (encoder): BertEncoder(\n",
       "      (layer): ModuleList(\n",
       "        (0): BertLayer(\n",
       "          (attention): BertAttention(\n",
       "            (self): BertSelfAttention(\n",
       "              (query): Linear(in_features=768, out_features=768, bias=True)\n",
       "              (key): Linear(in_features=768, out_features=768, bias=True)\n",
       "              (value): Linear(in_features=768, out_features=768, bias=True)\n",
       "              (dropout): Dropout(p=0.1, inplace=False)\n",
       "            )\n",
       "            (output): BertSelfOutput(\n",
       "              (dense): Linear(in_features=768, out_features=768, bias=True)\n",
       "              (LayerNorm): LayerNorm((768,), eps=1e-12, elementwise_affine=True)\n",
       "              (dropout): Dropout(p=0.1, inplace=False)\n",
       "            )\n",
       "          )\n",
       "          (intermediate): BertIntermediate(\n",
       "            (dense): Linear(in_features=768, out_features=3072, bias=True)\n",
       "          )\n",
       "          (output): BertOutput(\n",
       "            (dense): Linear(in_features=3072, out_features=768, bias=True)\n",
       "            (LayerNorm): LayerNorm((768,), eps=1e-12, elementwise_affine=True)\n",
       "            (dropout): Dropout(p=0.1, inplace=False)\n",
       "          )\n",
       "        )\n",
       "        (1): BertLayer(\n",
       "          (attention): BertAttention(\n",
       "            (self): BertSelfAttention(\n",
       "              (query): Linear(in_features=768, out_features=768, bias=True)\n",
       "              (key): Linear(in_features=768, out_features=768, bias=True)\n",
       "              (value): Linear(in_features=768, out_features=768, bias=True)\n",
       "              (dropout): Dropout(p=0.1, inplace=False)\n",
       "            )\n",
       "            (output): BertSelfOutput(\n",
       "              (dense): Linear(in_features=768, out_features=768, bias=True)\n",
       "              (LayerNorm): LayerNorm((768,), eps=1e-12, elementwise_affine=True)\n",
       "              (dropout): Dropout(p=0.1, inplace=False)\n",
       "            )\n",
       "          )\n",
       "          (intermediate): BertIntermediate(\n",
       "            (dense): Linear(in_features=768, out_features=3072, bias=True)\n",
       "          )\n",
       "          (output): BertOutput(\n",
       "            (dense): Linear(in_features=3072, out_features=768, bias=True)\n",
       "            (LayerNorm): LayerNorm((768,), eps=1e-12, elementwise_affine=True)\n",
       "            (dropout): Dropout(p=0.1, inplace=False)\n",
       "          )\n",
       "        )\n",
       "        (2): BertLayer(\n",
       "          (attention): BertAttention(\n",
       "            (self): BertSelfAttention(\n",
       "              (query): Linear(in_features=768, out_features=768, bias=True)\n",
       "              (key): Linear(in_features=768, out_features=768, bias=True)\n",
       "              (value): Linear(in_features=768, out_features=768, bias=True)\n",
       "              (dropout): Dropout(p=0.1, inplace=False)\n",
       "            )\n",
       "            (output): BertSelfOutput(\n",
       "              (dense): Linear(in_features=768, out_features=768, bias=True)\n",
       "              (LayerNorm): LayerNorm((768,), eps=1e-12, elementwise_affine=True)\n",
       "              (dropout): Dropout(p=0.1, inplace=False)\n",
       "            )\n",
       "          )\n",
       "          (intermediate): BertIntermediate(\n",
       "            (dense): Linear(in_features=768, out_features=3072, bias=True)\n",
       "          )\n",
       "          (output): BertOutput(\n",
       "            (dense): Linear(in_features=3072, out_features=768, bias=True)\n",
       "            (LayerNorm): LayerNorm((768,), eps=1e-12, elementwise_affine=True)\n",
       "            (dropout): Dropout(p=0.1, inplace=False)\n",
       "          )\n",
       "        )\n",
       "        (3): BertLayer(\n",
       "          (attention): BertAttention(\n",
       "            (self): BertSelfAttention(\n",
       "              (query): Linear(in_features=768, out_features=768, bias=True)\n",
       "              (key): Linear(in_features=768, out_features=768, bias=True)\n",
       "              (value): Linear(in_features=768, out_features=768, bias=True)\n",
       "              (dropout): Dropout(p=0.1, inplace=False)\n",
       "            )\n",
       "            (output): BertSelfOutput(\n",
       "              (dense): Linear(in_features=768, out_features=768, bias=True)\n",
       "              (LayerNorm): LayerNorm((768,), eps=1e-12, elementwise_affine=True)\n",
       "              (dropout): Dropout(p=0.1, inplace=False)\n",
       "            )\n",
       "          )\n",
       "          (intermediate): BertIntermediate(\n",
       "            (dense): Linear(in_features=768, out_features=3072, bias=True)\n",
       "          )\n",
       "          (output): BertOutput(\n",
       "            (dense): Linear(in_features=3072, out_features=768, bias=True)\n",
       "            (LayerNorm): LayerNorm((768,), eps=1e-12, elementwise_affine=True)\n",
       "            (dropout): Dropout(p=0.1, inplace=False)\n",
       "          )\n",
       "        )\n",
       "        (4): BertLayer(\n",
       "          (attention): BertAttention(\n",
       "            (self): BertSelfAttention(\n",
       "              (query): Linear(in_features=768, out_features=768, bias=True)\n",
       "              (key): Linear(in_features=768, out_features=768, bias=True)\n",
       "              (value): Linear(in_features=768, out_features=768, bias=True)\n",
       "              (dropout): Dropout(p=0.1, inplace=False)\n",
       "            )\n",
       "            (output): BertSelfOutput(\n",
       "              (dense): Linear(in_features=768, out_features=768, bias=True)\n",
       "              (LayerNorm): LayerNorm((768,), eps=1e-12, elementwise_affine=True)\n",
       "              (dropout): Dropout(p=0.1, inplace=False)\n",
       "            )\n",
       "          )\n",
       "          (intermediate): BertIntermediate(\n",
       "            (dense): Linear(in_features=768, out_features=3072, bias=True)\n",
       "          )\n",
       "          (output): BertOutput(\n",
       "            (dense): Linear(in_features=3072, out_features=768, bias=True)\n",
       "            (LayerNorm): LayerNorm((768,), eps=1e-12, elementwise_affine=True)\n",
       "            (dropout): Dropout(p=0.1, inplace=False)\n",
       "          )\n",
       "        )\n",
       "        (5): BertLayer(\n",
       "          (attention): BertAttention(\n",
       "            (self): BertSelfAttention(\n",
       "              (query): Linear(in_features=768, out_features=768, bias=True)\n",
       "              (key): Linear(in_features=768, out_features=768, bias=True)\n",
       "              (value): Linear(in_features=768, out_features=768, bias=True)\n",
       "              (dropout): Dropout(p=0.1, inplace=False)\n",
       "            )\n",
       "            (output): BertSelfOutput(\n",
       "              (dense): Linear(in_features=768, out_features=768, bias=True)\n",
       "              (LayerNorm): LayerNorm((768,), eps=1e-12, elementwise_affine=True)\n",
       "              (dropout): Dropout(p=0.1, inplace=False)\n",
       "            )\n",
       "          )\n",
       "          (intermediate): BertIntermediate(\n",
       "            (dense): Linear(in_features=768, out_features=3072, bias=True)\n",
       "          )\n",
       "          (output): BertOutput(\n",
       "            (dense): Linear(in_features=3072, out_features=768, bias=True)\n",
       "            (LayerNorm): LayerNorm((768,), eps=1e-12, elementwise_affine=True)\n",
       "            (dropout): Dropout(p=0.1, inplace=False)\n",
       "          )\n",
       "        )\n",
       "        (6): BertLayer(\n",
       "          (attention): BertAttention(\n",
       "            (self): BertSelfAttention(\n",
       "              (query): Linear(in_features=768, out_features=768, bias=True)\n",
       "              (key): Linear(in_features=768, out_features=768, bias=True)\n",
       "              (value): Linear(in_features=768, out_features=768, bias=True)\n",
       "              (dropout): Dropout(p=0.1, inplace=False)\n",
       "            )\n",
       "            (output): BertSelfOutput(\n",
       "              (dense): Linear(in_features=768, out_features=768, bias=True)\n",
       "              (LayerNorm): LayerNorm((768,), eps=1e-12, elementwise_affine=True)\n",
       "              (dropout): Dropout(p=0.1, inplace=False)\n",
       "            )\n",
       "          )\n",
       "          (intermediate): BertIntermediate(\n",
       "            (dense): Linear(in_features=768, out_features=3072, bias=True)\n",
       "          )\n",
       "          (output): BertOutput(\n",
       "            (dense): Linear(in_features=3072, out_features=768, bias=True)\n",
       "            (LayerNorm): LayerNorm((768,), eps=1e-12, elementwise_affine=True)\n",
       "            (dropout): Dropout(p=0.1, inplace=False)\n",
       "          )\n",
       "        )\n",
       "        (7): BertLayer(\n",
       "          (attention): BertAttention(\n",
       "            (self): BertSelfAttention(\n",
       "              (query): Linear(in_features=768, out_features=768, bias=True)\n",
       "              (key): Linear(in_features=768, out_features=768, bias=True)\n",
       "              (value): Linear(in_features=768, out_features=768, bias=True)\n",
       "              (dropout): Dropout(p=0.1, inplace=False)\n",
       "            )\n",
       "            (output): BertSelfOutput(\n",
       "              (dense): Linear(in_features=768, out_features=768, bias=True)\n",
       "              (LayerNorm): LayerNorm((768,), eps=1e-12, elementwise_affine=True)\n",
       "              (dropout): Dropout(p=0.1, inplace=False)\n",
       "            )\n",
       "          )\n",
       "          (intermediate): BertIntermediate(\n",
       "            (dense): Linear(in_features=768, out_features=3072, bias=True)\n",
       "          )\n",
       "          (output): BertOutput(\n",
       "            (dense): Linear(in_features=3072, out_features=768, bias=True)\n",
       "            (LayerNorm): LayerNorm((768,), eps=1e-12, elementwise_affine=True)\n",
       "            (dropout): Dropout(p=0.1, inplace=False)\n",
       "          )\n",
       "        )\n",
       "        (8): BertLayer(\n",
       "          (attention): BertAttention(\n",
       "            (self): BertSelfAttention(\n",
       "              (query): Linear(in_features=768, out_features=768, bias=True)\n",
       "              (key): Linear(in_features=768, out_features=768, bias=True)\n",
       "              (value): Linear(in_features=768, out_features=768, bias=True)\n",
       "              (dropout): Dropout(p=0.1, inplace=False)\n",
       "            )\n",
       "            (output): BertSelfOutput(\n",
       "              (dense): Linear(in_features=768, out_features=768, bias=True)\n",
       "              (LayerNorm): LayerNorm((768,), eps=1e-12, elementwise_affine=True)\n",
       "              (dropout): Dropout(p=0.1, inplace=False)\n",
       "            )\n",
       "          )\n",
       "          (intermediate): BertIntermediate(\n",
       "            (dense): Linear(in_features=768, out_features=3072, bias=True)\n",
       "          )\n",
       "          (output): BertOutput(\n",
       "            (dense): Linear(in_features=3072, out_features=768, bias=True)\n",
       "            (LayerNorm): LayerNorm((768,), eps=1e-12, elementwise_affine=True)\n",
       "            (dropout): Dropout(p=0.1, inplace=False)\n",
       "          )\n",
       "        )\n",
       "        (9): BertLayer(\n",
       "          (attention): BertAttention(\n",
       "            (self): BertSelfAttention(\n",
       "              (query): Linear(in_features=768, out_features=768, bias=True)\n",
       "              (key): Linear(in_features=768, out_features=768, bias=True)\n",
       "              (value): Linear(in_features=768, out_features=768, bias=True)\n",
       "              (dropout): Dropout(p=0.1, inplace=False)\n",
       "            )\n",
       "            (output): BertSelfOutput(\n",
       "              (dense): Linear(in_features=768, out_features=768, bias=True)\n",
       "              (LayerNorm): LayerNorm((768,), eps=1e-12, elementwise_affine=True)\n",
       "              (dropout): Dropout(p=0.1, inplace=False)\n",
       "            )\n",
       "          )\n",
       "          (intermediate): BertIntermediate(\n",
       "            (dense): Linear(in_features=768, out_features=3072, bias=True)\n",
       "          )\n",
       "          (output): BertOutput(\n",
       "            (dense): Linear(in_features=3072, out_features=768, bias=True)\n",
       "            (LayerNorm): LayerNorm((768,), eps=1e-12, elementwise_affine=True)\n",
       "            (dropout): Dropout(p=0.1, inplace=False)\n",
       "          )\n",
       "        )\n",
       "        (10): BertLayer(\n",
       "          (attention): BertAttention(\n",
       "            (self): BertSelfAttention(\n",
       "              (query): Linear(in_features=768, out_features=768, bias=True)\n",
       "              (key): Linear(in_features=768, out_features=768, bias=True)\n",
       "              (value): Linear(in_features=768, out_features=768, bias=True)\n",
       "              (dropout): Dropout(p=0.1, inplace=False)\n",
       "            )\n",
       "            (output): BertSelfOutput(\n",
       "              (dense): Linear(in_features=768, out_features=768, bias=True)\n",
       "              (LayerNorm): LayerNorm((768,), eps=1e-12, elementwise_affine=True)\n",
       "              (dropout): Dropout(p=0.1, inplace=False)\n",
       "            )\n",
       "          )\n",
       "          (intermediate): BertIntermediate(\n",
       "            (dense): Linear(in_features=768, out_features=3072, bias=True)\n",
       "          )\n",
       "          (output): BertOutput(\n",
       "            (dense): Linear(in_features=3072, out_features=768, bias=True)\n",
       "            (LayerNorm): LayerNorm((768,), eps=1e-12, elementwise_affine=True)\n",
       "            (dropout): Dropout(p=0.1, inplace=False)\n",
       "          )\n",
       "        )\n",
       "        (11): BertLayer(\n",
       "          (attention): BertAttention(\n",
       "            (self): BertSelfAttention(\n",
       "              (query): Linear(in_features=768, out_features=768, bias=True)\n",
       "              (key): Linear(in_features=768, out_features=768, bias=True)\n",
       "              (value): Linear(in_features=768, out_features=768, bias=True)\n",
       "              (dropout): Dropout(p=0.1, inplace=False)\n",
       "            )\n",
       "            (output): BertSelfOutput(\n",
       "              (dense): Linear(in_features=768, out_features=768, bias=True)\n",
       "              (LayerNorm): LayerNorm((768,), eps=1e-12, elementwise_affine=True)\n",
       "              (dropout): Dropout(p=0.1, inplace=False)\n",
       "            )\n",
       "          )\n",
       "          (intermediate): BertIntermediate(\n",
       "            (dense): Linear(in_features=768, out_features=3072, bias=True)\n",
       "          )\n",
       "          (output): BertOutput(\n",
       "            (dense): Linear(in_features=3072, out_features=768, bias=True)\n",
       "            (LayerNorm): LayerNorm((768,), eps=1e-12, elementwise_affine=True)\n",
       "            (dropout): Dropout(p=0.1, inplace=False)\n",
       "          )\n",
       "        )\n",
       "      )\n",
       "    )\n",
       "    (pooler): BertPooler(\n",
       "      (dense): Linear(in_features=768, out_features=768, bias=True)\n",
       "      (activation): Tanh()\n",
       "    )\n",
       "  )\n",
       "  (dropout): Dropout(p=0.1, inplace=False)\n",
       "  (classifier): Linear(in_features=768, out_features=2, bias=True)\n",
       ")"
      ]
     },
     "metadata": {},
     "output_type": "display_data"
    }
   ],
   "source": [
    "#!g1.1\n",
    "from transformers import BertForSequenceClassification, AdamW, BertConfig\n",
    "\n",
    "#НУЖНО УКАЗАТЬ КОЛ-ВО КЛАССОВ\n",
    "# Load BertForSequenceClassification, the pretrained BERT model with a single \n",
    "# linear classification layer on top. \n",
    "model = BertForSequenceClassification.from_pretrained(\n",
    "    \"DeepPavlov/rubert-base-cased\", # Use the 12-layer BERT model, with an uncased vocab.  # Geotrend/bert-base-ru-cased  DeepPavlov/rubert-base-cased\n",
    "    num_labels = 2, # The number of output labels--2 for binary classification.\n",
    "                    # You can increase this for multi-class tasks.   \n",
    "    output_attentions = False, # Whether the model returns attentions weights.\n",
    "    output_hidden_states = False, # Whether the model returns all hidden-states.\n",
    ")\n",
    "\n",
    "# Tell pytorch to run this model on the GPU.\n",
    "model.cuda()"
   ]
  },
  {
   "cell_type": "markdown",
   "metadata": {
    "cellId": "tlfcqv02mm9z73ta5kclm",
    "id": "qRWT-D4U_Pvx"
   },
   "source": [
    "## 4.2. Optimizer & Learning Rate Scheduler"
   ]
  },
  {
   "cell_type": "markdown",
   "metadata": {
    "cellId": "vkncfex3bwirec6q7ay3a",
    "id": "8o-VEBobKwHk"
   },
   "source": [
    "Now that we have our model loaded we need to grab the training hyperparameters from within the stored model.\n",
    "\n",
    "For the purposes of fine-tuning, the authors recommend choosing from the following values (from Appendix A.3 of the [BERT paper](https://arxiv.org/pdf/1810.04805.pdf)):\n",
    "\n",
    ">- **Batch size:** 16, 32  \n",
    "- **Learning rate (Adam):** 5e-5, 3e-5, 2e-5  \n",
    "- **Number of epochs:** 2, 3, 4 \n",
    "\n",
    "We chose:\n",
    "* Batch size: 32 (set when creating our DataLoaders)\n",
    "* Learning rate: 2e-5\n",
    "* Epochs: 4 (we'll see that this is probably too many...)\n",
    "\n",
    "The epsilon parameter `eps = 1e-8` is \"a very small number to prevent any division by zero in the implementation\" (from [here](https://machinelearningmastery.com/adam-optimization-algorithm-for-deep-learning/)).\n",
    "\n",
    "You can find the creation of the AdamW optimizer in `run_glue.py` [here](https://github.com/huggingface/transformers/blob/5bfcd0485ece086ebcbed2d008813037968a9e58/examples/run_glue.py#L109)."
   ]
  },
  {
   "cell_type": "code",
   "execution_count": 27,
   "metadata": {
    "cellId": "3q01ima1jp3292ro3a39aq",
    "id": "GLs72DuMODJO"
   },
   "outputs": [],
   "source": [
    "#!g1.1\n",
    "# Note: AdamW is a class from the huggingface library (as opposed to pytorch) \n",
    "# I believe the 'W' stands for 'Weight Decay fix\"\n",
    "optimizer = AdamW(model.parameters(),\n",
    "                  lr = 2e-5, # args.learning_rate - default is 5e-5, our notebook had 2e-5\n",
    "                  eps = 1e-8 # args.adam_epsilon  - default is 1e-8.\n",
    "                )\n",
    "\n",
    "#!g1.1\n",
    "from transformers import get_linear_schedule_with_warmup\n",
    "\n",
    "# Number of training epochs. The BERT authors recommend between 2 and 4. \n",
    "# We chose to run for 4, but we'll see later that this may be over-fitting the\n",
    "# training data.\n",
    "epochs = 3\n",
    "\n",
    "# Total number of training steps is [number of batches] x [number of epochs]. \n",
    "# (Note that this is not the same as the number of training samples).\n",
    "total_steps = len(train_dataloader) * epochs\n",
    "\n",
    "# Create the learning rate scheduler.\n",
    "scheduler = get_linear_schedule_with_warmup(optimizer, \n",
    "                                            num_warmup_steps = 0, # Default value in run_glue.py\n",
    "                                            num_training_steps = total_steps)"
   ]
  },
  {
   "cell_type": "markdown",
   "metadata": {
    "cellId": "4eub57f4047mh1jxx1jn9l",
    "id": "RqfmWwUR_Sox"
   },
   "source": [
    "## 4.3. Training Loop"
   ]
  },
  {
   "cell_type": "markdown",
   "metadata": {
    "cellId": "edt6a10duzijfihsf4ahhr",
    "id": "_QXZhFb4LnV5"
   },
   "source": [
    "Below is our training loop. There's a lot going on, but fundamentally for each pass in our loop we have a trianing phase and a validation phase. \n",
    "\n",
    "> *Thank you to [Stas Bekman](https://ca.linkedin.com/in/stasbekman) for contributing the insights and code for using validation loss to detect over-fitting!*\n",
    "\n",
    "**Training:**\n",
    "- Unpack our data inputs and labels\n",
    "- Load data onto the GPU for acceleration\n",
    "- Clear out the gradients calculated in the previous pass. \n",
    "    - In pytorch the gradients accumulate by default (useful for things like RNNs) unless you explicitly clear them out.\n",
    "- Forward pass (feed input data through the network)\n",
    "- Backward pass (backpropagation)\n",
    "- Tell the network to update parameters with optimizer.step()\n",
    "- Track variables for monitoring progress\n",
    "\n",
    "**Evalution:**\n",
    "- Unpack our data inputs and labels\n",
    "- Load data onto the GPU for acceleration\n",
    "- Forward pass (feed input data through the network)\n",
    "- Compute loss on our validation data and track variables for monitoring progress\n",
    "\n",
    "Pytorch hides all of the detailed calculations from us, but we've commented the code to point out which of the above steps are happening on each line. \n",
    "\n",
    "> *PyTorch also has some [beginner tutorials](https://pytorch.org/tutorials/beginner/blitz/cifar10_tutorial.html#sphx-glr-beginner-blitz-cifar10-tutorial-py) which you may also find helpful.*"
   ]
  },
  {
   "cell_type": "markdown",
   "metadata": {
    "cellId": "u98y155y7cd8cupgb208g",
    "id": "pE5B99H5H2-W"
   },
   "source": [
    "Define a helper function for calculating accuracy."
   ]
  },
  {
   "cell_type": "code",
   "execution_count": 28,
   "metadata": {
    "cellId": "pm58rxf5eena1gqat4x3rk",
    "id": "9cQNvaZ9bnyy"
   },
   "outputs": [],
   "source": [
    "#!g1.1\n",
    "import numpy as np\n",
    "\n",
    "# Function to calculate the accuracy of our predictions vs labels\n",
    "def flat_accuracy(preds, labels):\n",
    "    pred_flat = np.argmax(preds, axis=1).flatten()\n",
    "    labels_flat = labels.flatten()\n",
    "    return np.sum(pred_flat == labels_flat) / len(labels_flat)\n",
    "\n",
    "#!g1.1\n",
    "import time\n",
    "import datetime\n",
    "\n",
    "def format_time(elapsed):\n",
    "    '''\n",
    "    Takes a time in seconds and returns a string hh:mm:ss\n",
    "    '''\n",
    "    # Round to the nearest second.\n",
    "    elapsed_rounded = int(round((elapsed)))\n",
    "    \n",
    "    # Format as hh:mm:ss\n",
    "    return str(datetime.timedelta(seconds=elapsed_rounded))\n",
    "\n"
   ]
  },
  {
   "cell_type": "markdown",
   "metadata": {
    "cellId": "xh2gi91vyzsw4g6h3s7jdi",
    "id": "KNhRtWPXH9C3"
   },
   "source": [
    "Helper function for formatting elapsed times as `hh:mm:ss`\n"
   ]
  },
  {
   "cell_type": "markdown",
   "metadata": {
    "cellId": "3kyi9m0kxhx5tfm5oswuum",
    "id": "cfNIhN19te3N"
   },
   "source": [
    "We're ready to kick off the training!"
   ]
  },
  {
   "cell_type": "markdown",
   "metadata": {
    "cellId": "x3uppw30mm7yhmib1lrdr"
   },
   "source": [
    "#!g1.1\n",
    "Как определить оптимальный батч сайз? и MAX_SEQ_LENGTH?\n",
    "72 и 256?\n",
    "\n",
    "Кажется, что мы сильно порезали наши данные, оценим качество и перезапустим обучение"
   ]
  },
  {
   "cell_type": "code",
   "execution_count": 29,
   "metadata": {
    "cellId": "8pf7qzfvneap0oeobtn11q",
    "colab": {
     "base_uri": "https://localhost:8080/"
    },
    "id": "6J-FYdx6nFE_",
    "outputId": "b2c3e30b-eb5d-4b13-a207-05a48a87ed2a"
   },
   "outputs": [
    {
     "name": "stdout",
     "output_type": "stream",
     "text": [
      "\n",
      "======== Epoch 1 / 3 ========\n",
      "Training...\n",
      "  Batch    40  of    718.    Elapsed: 0:00:20.\n",
      "  Batch    80  of    718.    Elapsed: 0:00:40.\n",
      "  Batch   120  of    718.    Elapsed: 0:01:00.\n",
      "  Batch   160  of    718.    Elapsed: 0:01:20.\n",
      "  Batch   200  of    718.    Elapsed: 0:01:40.\n",
      "  Batch   240  of    718.    Elapsed: 0:02:00.\n",
      "  Batch   280  of    718.    Elapsed: 0:02:20.\n",
      "  Batch   320  of    718.    Elapsed: 0:02:40.\n",
      "  Batch   360  of    718.    Elapsed: 0:03:00.\n",
      "  Batch   400  of    718.    Elapsed: 0:03:20.\n",
      "  Batch   440  of    718.    Elapsed: 0:03:41.\n",
      "  Batch   480  of    718.    Elapsed: 0:04:01.\n",
      "  Batch   520  of    718.    Elapsed: 0:04:21.\n",
      "  Batch   560  of    718.    Elapsed: 0:04:41.\n",
      "  Batch   600  of    718.    Elapsed: 0:05:01.\n",
      "  Batch   640  of    718.    Elapsed: 0:05:22.\n",
      "  Batch   680  of    718.    Elapsed: 0:05:42.\n",
      "\n",
      "  Average training loss: 0.48\n",
      "  Training epcoh took: 0:06:01\n",
      "\n",
      "Running Validation...\n",
      "  Accuracy: 0.79\n",
      "  Validation Loss: 0.44\n",
      "  Validation took: 0:00:13\n",
      "\n",
      "======== Epoch 2 / 3 ========\n",
      "Training...\n",
      "  Batch    40  of    718.    Elapsed: 0:00:21.\n",
      "  Batch    80  of    718.    Elapsed: 0:00:41.\n",
      "  Batch   120  of    718.    Elapsed: 0:01:01.\n",
      "  Batch   160  of    718.    Elapsed: 0:01:21.\n",
      "  Batch   200  of    718.    Elapsed: 0:01:42.\n",
      "  Batch   240  of    718.    Elapsed: 0:02:02.\n",
      "  Batch   280  of    718.    Elapsed: 0:02:22.\n",
      "  Batch   320  of    718.    Elapsed: 0:02:43.\n",
      "  Batch   360  of    718.    Elapsed: 0:03:03.\n",
      "  Batch   400  of    718.    Elapsed: 0:03:23.\n",
      "  Batch   440  of    718.    Elapsed: 0:03:44.\n",
      "  Batch   480  of    718.    Elapsed: 0:04:04.\n",
      "  Batch   520  of    718.    Elapsed: 0:04:24.\n",
      "  Batch   560  of    718.    Elapsed: 0:04:45.\n",
      "  Batch   600  of    718.    Elapsed: 0:05:05.\n",
      "  Batch   640  of    718.    Elapsed: 0:05:25.\n",
      "  Batch   680  of    718.    Elapsed: 0:05:46.\n",
      "\n",
      "  Average training loss: 0.39\n",
      "  Training epcoh took: 0:06:04\n",
      "\n",
      "Running Validation...\n",
      "  Accuracy: 0.80\n",
      "  Validation Loss: 0.44\n",
      "  Validation took: 0:00:13\n",
      "\n",
      "======== Epoch 3 / 3 ========\n",
      "Training...\n",
      "  Batch    40  of    718.    Elapsed: 0:00:20.\n",
      "  Batch    80  of    718.    Elapsed: 0:00:41.\n",
      "  Batch   120  of    718.    Elapsed: 0:01:01.\n",
      "  Batch   160  of    718.    Elapsed: 0:01:21.\n",
      "  Batch   200  of    718.    Elapsed: 0:01:42.\n",
      "  Batch   240  of    718.    Elapsed: 0:02:02.\n",
      "  Batch   280  of    718.    Elapsed: 0:02:22.\n",
      "  Batch   320  of    718.    Elapsed: 0:02:43.\n",
      "  Batch   360  of    718.    Elapsed: 0:03:03.\n",
      "  Batch   400  of    718.    Elapsed: 0:03:23.\n",
      "  Batch   440  of    718.    Elapsed: 0:03:44.\n",
      "  Batch   480  of    718.    Elapsed: 0:04:04.\n",
      "  Batch   520  of    718.    Elapsed: 0:04:24.\n",
      "  Batch   560  of    718.    Elapsed: 0:04:45.\n",
      "  Batch   600  of    718.    Elapsed: 0:05:05.\n",
      "  Batch   640  of    718.    Elapsed: 0:05:25.\n",
      "  Batch   680  of    718.    Elapsed: 0:05:46.\n",
      "\n",
      "  Average training loss: 0.33\n",
      "  Training epcoh took: 0:06:05\n",
      "\n",
      "Running Validation...\n",
      "  Accuracy: 0.80\n",
      "  Validation Loss: 0.46\n",
      "  Validation took: 0:00:13\n",
      "\n",
      "Training complete!\n",
      "Total training took 0:18:49 (h:mm:ss)\n"
     ]
    }
   ],
   "source": [
    "#!g1.1\n",
    "import random\n",
    "import numpy as np\n",
    "\n",
    "# This training code is based on the `run_glue.py` script here:\n",
    "# https://github.com/huggingface/transformers/blob/5bfcd0485ece086ebcbed2d008813037968a9e58/examples/run_glue.py#L128\n",
    "\n",
    "# Set the seed value all over the place to make this reproducible.\n",
    "seed_val = 42\n",
    "\n",
    "random.seed(seed_val)\n",
    "np.random.seed(seed_val)\n",
    "torch.manual_seed(seed_val)\n",
    "torch.cuda.manual_seed_all(seed_val)\n",
    "\n",
    "# We'll store a number of quantities such as training and validation loss, \n",
    "# validation accuracy, and timings.\n",
    "training_stats = []\n",
    "\n",
    "# Measure the total training time for the whole run.\n",
    "total_t0 = time.time()\n",
    "\n",
    "# For each epoch...\n",
    "for epoch_i in range(0, epochs):\n",
    "    \n",
    "    # ========================================\n",
    "    #               Training\n",
    "    # ========================================\n",
    "    \n",
    "    # Perform one full pass over the training set.\n",
    "\n",
    "    print(\"\")\n",
    "    print('======== Epoch {:} / {:} ========'.format(epoch_i + 1, epochs))\n",
    "    print('Training...')\n",
    "\n",
    "    # Measure how long the training epoch takes.\n",
    "    t0 = time.time()\n",
    "\n",
    "    # Reset the total loss for this epoch.\n",
    "    total_train_loss = 0\n",
    "\n",
    "    # Put the model into training mode. Don't be mislead--the call to \n",
    "    # `train` just changes the *mode*, it doesn't *perform* the training.\n",
    "    # `dropout` and `batchnorm` layers behave differently during training\n",
    "    # vs. test (source: https://stackoverflow.com/questions/51433378/what-does-model-train-do-in-pytorch)\n",
    "    model.train()\n",
    "\n",
    "    # For each batch of training data...\n",
    "    for step, batch in enumerate(train_dataloader):\n",
    "\n",
    "        # Progress update every 40 batches.\n",
    "        if step % 40 == 0 and not step == 0:\n",
    "            # Calculate elapsed time in minutes.\n",
    "            elapsed = format_time(time.time() - t0)\n",
    "            \n",
    "            # Report progress.\n",
    "            print('  Batch {:>5,}  of  {:>5,}.    Elapsed: {:}.'.format(step, len(train_dataloader), elapsed))\n",
    "\n",
    "        # Unpack this training batch from our dataloader. \n",
    "        #\n",
    "        # As we unpack the batch, we'll also copy each tensor to the GPU using the \n",
    "        # `to` method.\n",
    "        #\n",
    "        # `batch` contains three pytorch tensors:\n",
    "        #   [0]: input ids \n",
    "        #   [1]: attention masks\n",
    "        #   [2]: labels \n",
    "        b_input_ids = batch[0].to(device)\n",
    "        b_input_mask = batch[1].to(device)\n",
    "        b_labels = batch[2].to(device)\n",
    "\n",
    "        # Always clear any previously calculated gradients before performing a\n",
    "        # backward pass. PyTorch doesn't do this automatically because \n",
    "        # accumulating the gradients is \"convenient while training RNNs\". \n",
    "        # (source: https://stackoverflow.com/questions/48001598/why-do-we-need-to-call-zero-grad-in-pytorch)\n",
    "        model.zero_grad()        \n",
    "\n",
    "        # Perform a forward pass (evaluate the model on this training batch).\n",
    "        # In PyTorch, calling `model` will in turn call the model's `forward` \n",
    "        # function and pass down the arguments. The `forward` function is \n",
    "        # documented here: \n",
    "        # https://huggingface.co/transformers/model_doc/bert.html#bertforsequenceclassification\n",
    "        # The results are returned in a results object, documented here:\n",
    "        # https://huggingface.co/transformers/main_classes/output.html#transformers.modeling_outputs.SequenceClassifierOutput\n",
    "        # Specifically, we'll get the loss (because we provided labels) and the\n",
    "        # \"logits\"--the model outputs prior to activation.\n",
    "        result = model(b_input_ids, \n",
    "                       token_type_ids=None, \n",
    "                       attention_mask=b_input_mask, \n",
    "                       labels=b_labels,\n",
    "                       return_dict=True)\n",
    "\n",
    "        loss = result.loss\n",
    "        logits = result.logits\n",
    "\n",
    "        # Accumulate the training loss over all of the batches so that we can\n",
    "        # calculate the average loss at the end. `loss` is a Tensor containing a\n",
    "        # single value; the `.item()` function just returns the Python value \n",
    "        # from the tensor.\n",
    "        total_train_loss += loss.item()\n",
    "\n",
    "        # Perform a backward pass to calculate the gradients.\n",
    "        loss.backward()\n",
    "\n",
    "        # Clip the norm of the gradients to 1.0.\n",
    "        # This is to help prevent the \"exploding gradients\" problem.\n",
    "        torch.nn.utils.clip_grad_norm_(model.parameters(), 1.0)\n",
    "\n",
    "        # Update parameters and take a step using the computed gradient.\n",
    "        # The optimizer dictates the \"update rule\"--how the parameters are\n",
    "        # modified based on their gradients, the learning rate, etc.\n",
    "        optimizer.step()\n",
    "\n",
    "        # Update the learning rate.\n",
    "        scheduler.step()\n",
    "\n",
    "    # Calculate the average loss over all of the batches.\n",
    "    avg_train_loss = total_train_loss / len(train_dataloader)            \n",
    "    \n",
    "    # Measure how long this epoch took.\n",
    "    training_time = format_time(time.time() - t0)\n",
    "\n",
    "    print(\"\")\n",
    "    print(\"  Average training loss: {0:.2f}\".format(avg_train_loss))\n",
    "    print(\"  Training epcoh took: {:}\".format(training_time))\n",
    "        \n",
    "    # ========================================\n",
    "    #               Validation\n",
    "    # ========================================\n",
    "    # After the completion of each training epoch, measure our performance on\n",
    "    # our validation set.\n",
    "\n",
    "    print(\"\")\n",
    "    print(\"Running Validation...\")\n",
    "\n",
    "    t0 = time.time()\n",
    "\n",
    "    # Put the model in evaluation mode--the dropout layers behave differently\n",
    "    # during evaluation.\n",
    "    model.eval()\n",
    "\n",
    "    # Tracking variables \n",
    "    total_eval_accuracy = 0\n",
    "    total_eval_loss = 0\n",
    "    nb_eval_steps = 0\n",
    "\n",
    "    # Evaluate data for one epoch\n",
    "    for batch in validation_dataloader:\n",
    "        \n",
    "        # Unpack this training batch from our dataloader. \n",
    "        #\n",
    "        # As we unpack the batch, we'll also copy each tensor to the GPU using \n",
    "        # the `to` method.\n",
    "        #\n",
    "        # `batch` contains three pytorch tensors:\n",
    "        #   [0]: input ids \n",
    "        #   [1]: attention masks\n",
    "        #   [2]: labels \n",
    "        b_input_ids = batch[0].to(device)\n",
    "        b_input_mask = batch[1].to(device)\n",
    "        b_labels = batch[2].to(device)\n",
    "        \n",
    "        # Tell pytorch not to bother with constructing the compute graph during\n",
    "        # the forward pass, since this is only needed for backprop (training).\n",
    "        with torch.no_grad():        \n",
    "\n",
    "            # Forward pass, calculate logit predictions.\n",
    "            # token_type_ids is the same as the \"segment ids\", which \n",
    "            # differentiates sentence 1 and 2 in 2-sentence tasks.\n",
    "            result = model(b_input_ids, \n",
    "                           token_type_ids=None, \n",
    "                           attention_mask=b_input_mask,\n",
    "                           labels=b_labels,\n",
    "                           return_dict=True)\n",
    "\n",
    "        # Get the loss and \"logits\" output by the model. The \"logits\" are the \n",
    "        # output values prior to applying an activation function like the \n",
    "        # softmax.\n",
    "        loss = result.loss\n",
    "        logits = result.logits\n",
    "            \n",
    "        # Accumulate the validation loss.\n",
    "        total_eval_loss += loss.item()\n",
    "\n",
    "        # Move logits and labels to CPU\n",
    "        logits = logits.detach().cpu().numpy()\n",
    "        label_ids = b_labels.to('cpu').numpy()\n",
    "\n",
    "        # Calculate the accuracy for this batch of test sentences, and\n",
    "        # accumulate it over all batches.\n",
    "        total_eval_accuracy += flat_accuracy(logits, label_ids)\n",
    "        \n",
    "\n",
    "    # Report the final accuracy for this validation run.\n",
    "    avg_val_accuracy = total_eval_accuracy / len(validation_dataloader)\n",
    "    print(\"  Accuracy: {0:.2f}\".format(avg_val_accuracy))\n",
    "\n",
    "    # Calculate the average loss over all of the batches.\n",
    "    avg_val_loss = total_eval_loss / len(validation_dataloader)\n",
    "    \n",
    "    # Measure how long the validation run took.\n",
    "    validation_time = format_time(time.time() - t0)\n",
    "    \n",
    "    print(\"  Validation Loss: {0:.2f}\".format(avg_val_loss))\n",
    "    print(\"  Validation took: {:}\".format(validation_time))\n",
    "\n",
    "    # Record all statistics from this epoch.\n",
    "    training_stats.append(\n",
    "        {\n",
    "            'epoch': epoch_i + 1,\n",
    "            'Training Loss': avg_train_loss,\n",
    "            'Valid. Loss': avg_val_loss,\n",
    "            'Valid. Accur.': avg_val_accuracy,\n",
    "            'Training Time': training_time,\n",
    "            'Validation Time': validation_time\n",
    "        }\n",
    "    )\n",
    "\n",
    "print(\"\")\n",
    "print(\"Training complete!\")\n",
    "\n",
    "print(\"Total training took {:} (h:mm:ss)\".format(format_time(time.time()-total_t0)))"
   ]
  },
  {
   "cell_type": "markdown",
   "metadata": {
    "cellId": "ly9tdk1mg6n602zpsp5is",
    "id": "VQTvJ1vRP7u4"
   },
   "source": [
    "Let's view the summary of the training process."
   ]
  },
  {
   "cell_type": "code",
   "execution_count": 30,
   "metadata": {
    "cellId": "lza3rl3svylrocukdly2q",
    "colab": {
     "base_uri": "https://localhost:8080/",
     "height": 195
    },
    "id": "6O_NbXFGMukX",
    "outputId": "a9e51eda-5eae-4800-87d5-8d016ff25bb2"
   },
   "outputs": [
    {
     "data": {
      "text/html": [
       "<div>\n",
       "<style scoped>\n",
       "    .dataframe tbody tr th:only-of-type {\n",
       "        vertical-align: middle;\n",
       "    }\n",
       "\n",
       "    .dataframe tbody tr th {\n",
       "        vertical-align: top;\n",
       "    }\n",
       "\n",
       "    .dataframe thead th {\n",
       "        text-align: right;\n",
       "    }\n",
       "</style>\n",
       "<table border=\"1\" class=\"dataframe\">\n",
       "  <thead>\n",
       "    <tr style=\"text-align: right;\">\n",
       "      <th></th>\n",
       "      <th>Training Loss</th>\n",
       "      <th>Valid. Loss</th>\n",
       "      <th>Valid. Accur.</th>\n",
       "      <th>Training Time</th>\n",
       "      <th>Validation Time</th>\n",
       "    </tr>\n",
       "    <tr>\n",
       "      <th>epoch</th>\n",
       "      <th></th>\n",
       "      <th></th>\n",
       "      <th></th>\n",
       "      <th></th>\n",
       "      <th></th>\n",
       "    </tr>\n",
       "  </thead>\n",
       "  <tbody>\n",
       "    <tr>\n",
       "      <th>1</th>\n",
       "      <td>0.48</td>\n",
       "      <td>0.44</td>\n",
       "      <td>0.79</td>\n",
       "      <td>0:06:01</td>\n",
       "      <td>0:00:13</td>\n",
       "    </tr>\n",
       "    <tr>\n",
       "      <th>2</th>\n",
       "      <td>0.39</td>\n",
       "      <td>0.44</td>\n",
       "      <td>0.80</td>\n",
       "      <td>0:06:04</td>\n",
       "      <td>0:00:13</td>\n",
       "    </tr>\n",
       "    <tr>\n",
       "      <th>3</th>\n",
       "      <td>0.33</td>\n",
       "      <td>0.46</td>\n",
       "      <td>0.80</td>\n",
       "      <td>0:06:05</td>\n",
       "      <td>0:00:13</td>\n",
       "    </tr>\n",
       "  </tbody>\n",
       "</table>\n",
       "</div>"
      ],
      "text/plain": [
       "       Training Loss  Valid. Loss  Valid. Accur. Training Time Validation Time\n",
       "epoch                                                                         \n",
       "1               0.48         0.44           0.79       0:06:01         0:00:13\n",
       "2               0.39         0.44           0.80       0:06:04         0:00:13\n",
       "3               0.33         0.46           0.80       0:06:05         0:00:13"
      ]
     },
     "metadata": {},
     "output_type": "display_data"
    }
   ],
   "source": [
    "#!g1.1\n",
    "import pandas as pd\n",
    "\n",
    "# Display floats with two decimal places.\n",
    "pd.set_option('precision', 2)\n",
    "\n",
    "# Create a DataFrame from our training statistics.\n",
    "df_stats = pd.DataFrame(data=training_stats)\n",
    "\n",
    "# Use the 'epoch' as the row index.\n",
    "df_stats = df_stats.set_index('epoch')\n",
    "\n",
    "# A hack to force the column headers to wrap.\n",
    "#df = df.style.set_table_styles([dict(selector=\"th\",props=[('max-width', '70px')])])\n",
    "\n",
    "# Display the table.см\n",
    "df_stats"
   ]
  },
  {
   "cell_type": "code",
   "execution_count": 31,
   "metadata": {
    "cellId": "yzvfe5g54jdytuny4eajmj",
    "colab": {
     "base_uri": "https://localhost:8080/",
     "height": 195
    },
    "id": "6O_NbXFGMukX",
    "outputId": "a9e51eda-5eae-4800-87d5-8d016ff25bb2"
   },
   "outputs": [
    {
     "data": {
      "text/html": [
       "<div>\n",
       "<style scoped>\n",
       "    .dataframe tbody tr th:only-of-type {\n",
       "        vertical-align: middle;\n",
       "    }\n",
       "\n",
       "    .dataframe tbody tr th {\n",
       "        vertical-align: top;\n",
       "    }\n",
       "\n",
       "    .dataframe thead th {\n",
       "        text-align: right;\n",
       "    }\n",
       "</style>\n",
       "<table border=\"1\" class=\"dataframe\">\n",
       "  <thead>\n",
       "    <tr style=\"text-align: right;\">\n",
       "      <th></th>\n",
       "      <th>Training Loss</th>\n",
       "      <th>Valid. Loss</th>\n",
       "      <th>Valid. Accur.</th>\n",
       "      <th>Training Time</th>\n",
       "      <th>Validation Time</th>\n",
       "    </tr>\n",
       "    <tr>\n",
       "      <th>epoch</th>\n",
       "      <th></th>\n",
       "      <th></th>\n",
       "      <th></th>\n",
       "      <th></th>\n",
       "      <th></th>\n",
       "    </tr>\n",
       "  </thead>\n",
       "  <tbody>\n",
       "    <tr>\n",
       "      <th>1</th>\n",
       "      <td>0.48</td>\n",
       "      <td>0.44</td>\n",
       "      <td>0.79</td>\n",
       "      <td>0:06:01</td>\n",
       "      <td>0:00:13</td>\n",
       "    </tr>\n",
       "    <tr>\n",
       "      <th>2</th>\n",
       "      <td>0.39</td>\n",
       "      <td>0.44</td>\n",
       "      <td>0.80</td>\n",
       "      <td>0:06:04</td>\n",
       "      <td>0:00:13</td>\n",
       "    </tr>\n",
       "    <tr>\n",
       "      <th>3</th>\n",
       "      <td>0.33</td>\n",
       "      <td>0.46</td>\n",
       "      <td>0.80</td>\n",
       "      <td>0:06:05</td>\n",
       "      <td>0:00:13</td>\n",
       "    </tr>\n",
       "  </tbody>\n",
       "</table>\n",
       "</div>"
      ],
      "text/plain": [
       "       Training Loss  Valid. Loss  Valid. Accur. Training Time Validation Time\n",
       "epoch                                                                         \n",
       "1               0.48         0.44           0.79       0:06:01         0:00:13\n",
       "2               0.39         0.44           0.80       0:06:04         0:00:13\n",
       "3               0.33         0.46           0.80       0:06:05         0:00:13"
      ]
     },
     "metadata": {},
     "output_type": "display_data"
    }
   ],
   "source": [
    "#!g1.1\n",
    "import pandas as pd\n",
    "\n",
    "# Display floats with two decimal places.\n",
    "pd.set_option('precision', 2)\n",
    "\n",
    "# Create a DataFrame from our training statistics.\n",
    "df_stats = pd.DataFrame(data=training_stats)\n",
    "\n",
    "# Use the 'epoch' as the row index.\n",
    "df_stats = df_stats.set_index('epoch')\n",
    "\n",
    "# A hack to force the column headers to wrap.\n",
    "#df = df.style.set_table_styles([dict(selector=\"th\",props=[('max-width', '70px')])])\n",
    "\n",
    "# Display the table.см\n",
    "df_stats"
   ]
  },
  {
   "cell_type": "code",
   "execution_count": 32,
   "metadata": {
    "cellId": "yo3hba3sjdcplp76ip3qv",
    "colab": {
     "base_uri": "https://localhost:8080/",
     "height": 427
    },
    "id": "68xreA9JAmG5",
    "outputId": "70b8500d-7efc-4c99-de1f-05e8795e6298"
   },
   "outputs": [
    {
     "data": {
      "image/png": "[encoded data removed]",
      "text/plain": [
       "<Figure size 864x432 with 1 Axes>"
      ]
     },
     "metadata": {},
     "output_type": "display_data"
    }
   ],
   "source": [
    "#!g1.1\n",
    "import matplotlib.pyplot as plt\n",
    "%matplotlib inline\n",
    "\n",
    "import seaborn as sns\n",
    "\n",
    "# Use plot styling from seaborn.\n",
    "sns.set(style='darkgrid')\n",
    "\n",
    "# Increase the plot size and font size.\n",
    "sns.set(font_scale=1.5)\n",
    "plt.rcParams[\"figure.figsize\"] = (12,6)\n",
    "\n",
    "# Plot the learning curve.\n",
    "plt.plot(df_stats['Training Loss'], 'b-o', label=\"Training\")\n",
    "plt.plot(df_stats['Valid. Loss'], 'g-o', label=\"Validation\")\n",
    "\n",
    "# Label the plot.\n",
    "plt.title(\"Training & Validation Loss\")\n",
    "plt.xlabel(\"Epoch\")\n",
    "plt.ylabel(\"Loss\")\n",
    "plt.legend()\n",
    "plt.xticks([1, 2, 3, 4])\n",
    "\n",
    "plt.show()"
   ]
  },
  {
   "cell_type": "code",
   "execution_count": null,
   "metadata": {
    "cellId": "yz6carjp66mr77xrr5nwwl"
   },
   "outputs": [],
   "source": [
    "#!g1.1\n",
    "на 3 эпохе модель начинает переобучаться"
   ]
  },
  {
   "cell_type": "code",
   "execution_count": 33,
   "metadata": {
    "cellId": "64wn7tn0vhjavdposdxbwc"
   },
   "outputs": [],
   "source": [
    "#!g1.1\n",
    "\n",
    "#сохраним веса модели:\n",
    "\n",
    "torch.save(model.state_dict(), 'ru-inappropriate.bin')"
   ]
  },
  {
   "cell_type": "code",
   "execution_count": null,
   "metadata": {
    "cellId": "xbfbht083v8coazqpcs6d"
   },
   "outputs": [],
   "source": [
    "#!g1.1\n",
    "\n",
    "\n",
    "\n",
    "#загрузим модель\n",
    "\n",
    "#model = TheModelClass(args, *kwargs) \n",
    "model.load_state_dict(torch.load('ru-inappropriate.bin')) \n",
    "model.to(device)"
   ]
  },
  {
   "cell_type": "markdown",
   "metadata": {
    "cellId": "c6ihl02zkkd3klrsvlcosb",
    "id": "mkyubuJSOzg3"
   },
   "source": [
    "# 5. Performance On Test Set"
   ]
  },
  {
   "cell_type": "markdown",
   "metadata": {
    "cellId": "6n692yzxdefcoh50koyk",
    "id": "DosV94BYIYxg"
   },
   "source": [
    "Now we'll load the holdout dataset and prepare inputs just as we did with the training set. Then we'll evaluate predictions using [Matthew's correlation coefficient](https://scikit-learn.org/stable/modules/generated/sklearn.metrics.matthews_corrcoef.html) because this is the metric used by the wider NLP community to evaluate performance on CoLA. With this metric, +1 is the best score, and -1 is the worst score. This way, we can see how well we perform against the state of the art models for this specific task."
   ]
  },
  {
   "cell_type": "markdown",
   "metadata": {
    "cellId": "de3s75v75tom1mpybi35ba",
    "id": "Tg42jJqqM68F"
   },
   "source": [
    "### 5.1. Data Preparation\n"
   ]
  },
  {
   "cell_type": "markdown",
   "metadata": {
    "cellId": "pl9g4lgxyra35b2h2mkdzh",
    "id": "xWe0_JW21MyV"
   },
   "source": [
    "\n",
    "We'll need to apply all of the same steps that we did for the training data to prepare our test data set."
   ]
  },
  {
   "cell_type": "code",
   "execution_count": 34,
   "metadata": {
    "cellId": "lautmynmlau4wh8fgnnr"
   },
   "outputs": [
    {
     "data": {
      "text/html": [
       "<div>\n",
       "<style scoped>\n",
       "    .dataframe tbody tr th:only-of-type {\n",
       "        vertical-align: middle;\n",
       "    }\n",
       "\n",
       "    .dataframe tbody tr th {\n",
       "        vertical-align: top;\n",
       "    }\n",
       "\n",
       "    .dataframe thead th {\n",
       "        text-align: right;\n",
       "    }\n",
       "</style>\n",
       "<table border=\"1\" class=\"dataframe\">\n",
       "  <thead>\n",
       "    <tr style=\"text-align: right;\">\n",
       "      <th></th>\n",
       "      <th>text</th>\n",
       "      <th>inappropriate</th>\n",
       "      <th>offline_crime</th>\n",
       "      <th>online_crime</th>\n",
       "      <th>drugs</th>\n",
       "      <th>gambling</th>\n",
       "      <th>pornography</th>\n",
       "      <th>prostitution</th>\n",
       "      <th>slavery</th>\n",
       "      <th>suicide</th>\n",
       "      <th>...</th>\n",
       "      <th>weapons</th>\n",
       "      <th>body_shaming</th>\n",
       "      <th>health_shaming</th>\n",
       "      <th>politics</th>\n",
       "      <th>racism</th>\n",
       "      <th>religion</th>\n",
       "      <th>sexual_minorities</th>\n",
       "      <th>sexism</th>\n",
       "      <th>social_injustice</th>\n",
       "      <th>human_labeled</th>\n",
       "    </tr>\n",
       "  </thead>\n",
       "  <tbody>\n",
       "    <tr>\n",
       "      <th>0</th>\n",
       "      <td>если тупой, то хотя бы проверь, насколько ты у...</td>\n",
       "      <td>1.0</td>\n",
       "      <td>0.0</td>\n",
       "      <td>0.0</td>\n",
       "      <td>0.0</td>\n",
       "      <td>0.0</td>\n",
       "      <td>0.0</td>\n",
       "      <td>0.0</td>\n",
       "      <td>0.0</td>\n",
       "      <td>0.0</td>\n",
       "      <td>...</td>\n",
       "      <td>0.0</td>\n",
       "      <td>0.0</td>\n",
       "      <td>0.0</td>\n",
       "      <td>0.0</td>\n",
       "      <td>0.0</td>\n",
       "      <td>0.0</td>\n",
       "      <td>0.0</td>\n",
       "      <td>0.0</td>\n",
       "      <td>0.0</td>\n",
       "      <td>0</td>\n",
       "    </tr>\n",
       "    <tr>\n",
       "      <th>1</th>\n",
       "      <td>Из за этого началась война между террористоми ...</td>\n",
       "      <td>1.0</td>\n",
       "      <td>0.0</td>\n",
       "      <td>0.0</td>\n",
       "      <td>0.0</td>\n",
       "      <td>0.0</td>\n",
       "      <td>0.0</td>\n",
       "      <td>0.0</td>\n",
       "      <td>0.0</td>\n",
       "      <td>0.0</td>\n",
       "      <td>...</td>\n",
       "      <td>0.0</td>\n",
       "      <td>0.0</td>\n",
       "      <td>0.0</td>\n",
       "      <td>0.0</td>\n",
       "      <td>0.0</td>\n",
       "      <td>0.0</td>\n",
       "      <td>0.0</td>\n",
       "      <td>0.0</td>\n",
       "      <td>0.0</td>\n",
       "      <td>1</td>\n",
       "    </tr>\n",
       "  </tbody>\n",
       "</table>\n",
       "<p>2 rows × 21 columns</p>\n",
       "</div>"
      ],
      "text/plain": [
       "                                                text  inappropriate  \\\n",
       "0  если тупой, то хотя бы проверь, насколько ты у...            1.0   \n",
       "1  Из за этого началась война между террористоми ...            1.0   \n",
       "\n",
       "   offline_crime  online_crime  drugs  gambling  pornography  prostitution  \\\n",
       "0            0.0           0.0    0.0       0.0          0.0           0.0   \n",
       "1            0.0           0.0    0.0       0.0          0.0           0.0   \n",
       "\n",
       "   slavery  suicide  ...  weapons  body_shaming  health_shaming  politics  \\\n",
       "0      0.0      0.0  ...      0.0           0.0             0.0       0.0   \n",
       "1      0.0      0.0  ...      0.0           0.0             0.0       0.0   \n",
       "\n",
       "   racism  religion  sexual_minorities  sexism  social_injustice  \\\n",
       "0     0.0       0.0                0.0     0.0               0.0   \n",
       "1     0.0       0.0                0.0     0.0               0.0   \n",
       "\n",
       "   human_labeled  \n",
       "0              0  \n",
       "1              1  \n",
       "\n",
       "[2 rows x 21 columns]"
      ]
     },
     "metadata": {},
     "output_type": "display_data"
    }
   ],
   "source": [
    "#!g1.1\n",
    "test_df.head(2)"
   ]
  },
  {
   "cell_type": "code",
   "execution_count": 35,
   "metadata": {
    "cellId": "x30rn304of6srobb6nbeu"
   },
   "outputs": [
    {
     "name": "stdout",
     "output_type": "stream",
     "text": [
      "Number of test sentences: 16,334\n",
      "\n"
     ]
    },
    {
     "name": "stderr",
     "output_type": "stream",
     "text": [
      "/home/jupyter/.local/lib/python3.7/site-packages/transformers/tokenization_utils_base.py:2227: FutureWarning: The `pad_to_max_length` argument is deprecated and will be removed in a future version, use `padding=True` or `padding='longest'` to pad to the longest sequence in the batch, or use `padding='max_length'` to pad to a max length. In this case, you can give a specific length with `max_length` (e.g. `max_length=45`) or leave max_length to None to pad to the maximal input size of the model (e.g. 512 for Bert).\n",
      "  FutureWarning,\n"
     ]
    }
   ],
   "source": [
    "#!g1.1\n",
    "\n",
    "#!g1.1\n",
    "import pandas as pd\n",
    "\n",
    "# Load the dataset into a pandas dataframe.\n",
    "\n",
    "# Report the number of sentences.\n",
    "print('Number of test sentences: {:,}\\n'.format(test_df.shape[0]))\n",
    "\n",
    "# Create sentence and label lists\n",
    "sentences = test_df.text.values\n",
    "labels = (test_df.inappropriate > 0.5).astype('int').values\n",
    "\n",
    "\n",
    "# Tokenize all of the sentences and map the tokens to thier word IDs.\n",
    "input_ids = []\n",
    "attention_masks = []\n",
    "\n",
    "# For every sentence...\n",
    "for sent in sentences:\n",
    "    # `encode_plus` will:\n",
    "    #   (1) Tokenize the sentence.\n",
    "    #   (2) Prepend the `[CLS]` token to the start.\n",
    "    #   (3) Append the `[SEP]` token to the end.\n",
    "    #   (4) Map tokens to their IDs.\n",
    "    #   (5) Pad or truncate the sentence to `max_length`\n",
    "    #   (6) Create attention masks for [PAD] tokens.\n",
    "    encoded_dict = tokenizer.encode_plus(\n",
    "                        sent,                      # Sentence to encode.\n",
    "                        add_special_tokens = True, # Add '[CLS]' and '[SEP]'\n",
    "                        max_length = 64,           # Pad & truncate all sentences.  # max lenght IS SET TO 64!\n",
    "                        pad_to_max_length = True,\n",
    "                        return_attention_mask = True,   # Construct attn. masks.\n",
    "                        return_tensors = 'pt',     # Return pytorch tensors.\n",
    "                   )\n",
    "    \n",
    "    # Add the encoded sentence to the list.    \n",
    "    input_ids.append(encoded_dict['input_ids'])\n",
    "    \n",
    "    # And its attention mask (simply differentiates padding from non-padding).\n",
    "    attention_masks.append(encoded_dict['attention_mask'])\n",
    "\n",
    "# Convert the lists into tensors.\n",
    "input_ids = torch.cat(input_ids, dim=0)\n",
    "attention_masks = torch.cat(attention_masks, dim=0)\n",
    "labels = torch.tensor(labels)\n",
    "\n",
    "# Set the batch size.  \n",
    "batch_size = 144    #BATCH SIZE!\n",
    "\n",
    "# Create the DataLoader.\n",
    "prediction_data = TensorDataset(input_ids, attention_masks, labels)\n",
    "prediction_sampler = SequentialSampler(prediction_data)\n",
    "prediction_dataloader = DataLoader(prediction_data, sampler=prediction_sampler, batch_size=batch_size)"
   ]
  },
  {
   "cell_type": "code",
   "execution_count": 36,
   "metadata": {
    "cellId": "xp2zm3cc65iyjtdnmm42k",
    "colab": {
     "base_uri": "https://localhost:8080/"
    },
    "id": "Hba10sXR7Xi6",
    "outputId": "e35f0a6e-72c5-4bd0-9c4b-dcec9ef5059d"
   },
   "outputs": [
    {
     "name": "stdout",
     "output_type": "stream",
     "text": [
      "Predicting labels for 16,334 test sentences...\n",
      "    DONE.\n"
     ]
    }
   ],
   "source": [
    "#!g1.1\n",
    "# Prediction on test set\n",
    "\n",
    "print('Predicting labels for {:,} test sentences...'.format(len(input_ids)))\n",
    "\n",
    "# Put model in evaluation mode\n",
    "model.eval()\n",
    "\n",
    "# Tracking variables \n",
    "predictions , true_labels = [], []\n",
    "\n",
    "# Predict \n",
    "for batch in prediction_dataloader:\n",
    "  # Add batch to GPU\n",
    "  batch = tuple(t.to(device) for t in batch)\n",
    "  \n",
    "  # Unpack the inputs from our dataloader\n",
    "  b_input_ids, b_input_mask, b_labels = batch\n",
    "  \n",
    "  # Telling the model not to compute or store gradients, saving memory and \n",
    "  # speeding up prediction\n",
    "  with torch.no_grad():\n",
    "      # Forward pass, calculate logit predictions.\n",
    "      result = model(b_input_ids, \n",
    "                     token_type_ids=None, \n",
    "                     attention_mask=b_input_mask,\n",
    "                     return_dict=True)\n",
    "\n",
    "  logits = result.logits\n",
    "\n",
    "  # Move logits and labels to CPU\n",
    "  logits = logits.detach().cpu().numpy()\n",
    "  label_ids = b_labels.to('cpu').numpy()\n",
    "  \n",
    "  # Store predictions and true labels\n",
    "  predictions.append(logits)\n",
    "  true_labels.append(label_ids)\n",
    "\n",
    "print('    DONE.')"
   ]
  },
  {
   "cell_type": "code",
   "execution_count": 37,
   "metadata": {
    "cellId": "3l42cv34i7g2dlc51nuaw"
   },
   "outputs": [],
   "source": [
    "#!g1.1\n",
    "# Combine the results across all batches. \n",
    "flat_predictions = np.concatenate(predictions, axis=0)\n",
    "\n",
    "# For each sample, pick the label (0 or 1) with the higher score.\n",
    "flat_predictions = np.argmax(flat_predictions, axis=1).flatten()\n",
    "\n",
    "# Combine the correct labels for each batch into a single list.\n",
    "flat_true_labels = np.concatenate(true_labels, axis=0)\n",
    "\n",
    "\n"
   ]
  },
  {
   "cell_type": "code",
   "execution_count": 38,
   "metadata": {
    "cellId": "bw4wtff0pl1tdg97d106u"
   },
   "outputs": [
    {
     "data": {
      "text/plain": [
       "((16334,), (16334,))"
      ]
     },
     "metadata": {},
     "output_type": "display_data"
    }
   ],
   "source": [
    "#!g1.1\n",
    "\n",
    "flat_true_labels.shape, flat_predictions.shape"
   ]
  },
  {
   "cell_type": "code",
   "execution_count": 39,
   "metadata": {
    "cellId": "e06gv21cfxvtcgq89xo0x"
   },
   "outputs": [],
   "source": [
    "#!g1.1\n",
    "from sklearn.metrics import accuracy_score, f1_score, roc_auc_score, classification_report\n"
   ]
  },
  {
   "cell_type": "markdown",
   "metadata": {
    "cellId": "vlquhyszekou6imfwwj5p"
   },
   "source": [
    "## Результаты обучения на deep pavlov"
   ]
  },
  {
   "cell_type": "code",
   "execution_count": 40,
   "metadata": {
    "cellId": "pjukqonywkjxu66c3zidya"
   },
   "outputs": [
    {
     "name": "stdout",
     "output_type": "stream",
     "text": [
      "accuracy 0.792\n",
      "f1 0.75\n",
      "roc_auc 0.85\n"
     ]
    }
   ],
   "source": [
    "#!g1.1\n",
    "\n",
    "#!g1.1\n",
    "print('accuracy', np.round(accuracy_score(flat_true_labels, flat_predictions),3)) #качество на тесте\n",
    "print('f1', np.round(f1_score(flat_true_labels, flat_predictions, average='macro'),2)) #качество на тесте\n",
    "print('roc_auc', np.round(roc_auc_score(flat_true_labels, np.concatenate(predictions, axis=0)[:, 1]),2)) #качество на тесте"
   ]
  },
  {
   "cell_type": "code",
   "execution_count": 41,
   "metadata": {
    "cellId": "4omuvfrjjjc5uzvwsnr6a6"
   },
   "outputs": [
    {
     "name": "stdout",
     "output_type": "stream",
     "text": [
      "              precision    recall  f1-score   support\n",
      "\n",
      "           0       0.84      0.87      0.85     11442\n",
      "           1       0.67      0.61      0.64      4892\n",
      "\n",
      "    accuracy                           0.79     16334\n",
      "   macro avg       0.75      0.74      0.75     16334\n",
      "weighted avg       0.79      0.79      0.79     16334\n",
      "\n"
     ]
    }
   ],
   "source": [
    "#!g1.1\n",
    "#!g1.1\n",
    "print(classification_report(flat_true_labels, flat_predictions)) #качество на тесте"
   ]
  },
  {
   "cell_type": "markdown",
   "metadata": {
    "cellId": "8ycxjhaxazxbdrr3ur7ecr"
   },
   "source": [
    "## Сравним с результатами мультиязычной модели"
   ]
  },
  {
   "cell_type": "code",
   "execution_count": 292,
   "metadata": {
    "cellId": "sychs2k2ani2mjr9b1x0q2"
   },
   "outputs": [
    {
     "name": "stdout",
     "output_type": "stream",
     "text": [
      "accuracy 0.781\n",
      "f1 0.72\n",
      "roc_auc 0.83\n"
     ]
    }
   ],
   "source": [
    "#!g1.1\n",
    "#!g1.1\n",
    "print('accuracy', np.round(accuracy_score(y_true, flat_predictions),3)) #качество на тесте\n",
    "print('f1', np.round(f1_score(y_true, flat_predictions, average='macro'),2)) #качество на тесте\n",
    "print('roc_auc', np.round(roc_auc_score(y_true, np.concatenate(predictions, axis=0)[:, 1]),2)) #качество на тесте"
   ]
  },
  {
   "cell_type": "code",
   "execution_count": 294,
   "metadata": {
    "cellId": "75aj2ej031l9uexvdoiy"
   },
   "outputs": [
    {
     "name": "stdout",
     "output_type": "stream",
     "text": [
      "              precision    recall  f1-score   support\n",
      "\n",
      "           0       0.82      0.88      0.85     11442\n",
      "           1       0.66      0.55      0.60      4892\n",
      "\n",
      "    accuracy                           0.78     16334\n",
      "   macro avg       0.74      0.71      0.72     16334\n",
      "weighted avg       0.77      0.78      0.77     16334\n",
      "\n"
     ]
    }
   ],
   "source": [
    "#!g1.1\n",
    "print(classification_report(y_true, flat_predictions)) #качество на тесте\n"
   ]
  },
  {
   "cell_type": "code",
   "execution_count": null,
   "metadata": {
    "cellId": "0hc1dtb3g1984uzcus855x9"
   },
   "outputs": [],
   "source": [
    "## Вывод\n",
    "\n",
    "мы обучили две модели на одном русскоязычном датасете для бинарной классификации\n",
    "\n",
    "Мы видим, что моноязычная модель \"из коробки\" работает чуть лучше, чем мультиязычная модель. \n",
    "Насколько важна разница в несколько пунктов - зависит от задачи, тем не менее, стоит так же провести сравнение с моделью с полным мультиязычным словарем и \n",
    "сравнить результат \n",
    "\n",
    "\n",
    "Предметом нашего исследования является - поиск - есть ли разница в уязвимости моделей для адверсариальных атак в\n",
    "зависимости от того, модель моно или мультиязычная"
   ]
  },
  {
   "cell_type": "markdown",
   "metadata": {
    "cellId": "zi676fbza5vgv4argg8nr"
   },
   "source": [
    "## Adversarial"
   ]
  },
  {
   "cell_type": "code",
   "execution_count": 43,
   "metadata": {
    "cellId": "rav5zrqao4k8721t976mva"
   },
   "outputs": [],
   "source": [
    "#!g1.1\n",
    "\n",
    "import textattack\n",
    "from datasets import Dataset\n"
   ]
  },
  {
   "cell_type": "code",
   "execution_count": 46,
   "metadata": {
    "cellId": "pny0k9173dc5zxdady6mw"
   },
   "outputs": [
    {
     "name": "stderr",
     "output_type": "stream",
     "text": [
      "textattack: Unknown if model of class <class 'transformers.models.bert.modeling_bert.BertForSequenceClassification'> compatible with goal function <class 'textattack.goal_functions.classification.untargeted_classification.UntargetedClassification'>.\n"
     ]
    }
   ],
   "source": [
    "#!g1.1\n",
    "\n",
    "model_wrapper = textattack.models.wrappers.HuggingFaceModelWrapper(model, tokenizer)\n",
    "attack = textattack.attack_recipes.TextFoolerJin2019.build(model_wrapper)"
   ]
  },
  {
   "cell_type": "code",
   "execution_count": 44,
   "metadata": {
    "cellId": "seoahvu0pa9e330lha0tzm"
   },
   "outputs": [],
   "source": [
    "#!g1.1\n",
    "test_df['labels'] = (test_df.inappropriate > 0.5).astype('int').values\n",
    "\n",
    "dataset = Dataset.from_pandas(test_df.sample(1000)[['text', 'labels']])\n",
    "\n",
    "dataset = textattack.datasets.HuggingFaceDataset(dataset, dataset_columns = (['text'], 'labels'))\n"
   ]
  },
  {
   "cell_type": "code",
   "execution_count": 45,
   "metadata": {
    "cellId": "y93bvwb71jg94773wwy9t"
   },
   "outputs": [],
   "source": [
    "#!g1.1\n",
    "attack_args = textattack.AttackArgs(num_examples=100, log_to_csv=\"logRu.csv\", checkpoint_interval=20, checkpoint_dir=\"checkpoints\", disable_stdout=True)\n"
   ]
  },
  {
   "cell_type": "code",
   "execution_count": 47,
   "metadata": {
    "cellId": "ea2dap98irt1qe4i2jel8"
   },
   "outputs": [],
   "source": [
    "#!g1.1\n",
    "#!g1.1\n",
    "attacker = textattack.Attacker(attack, dataset, attack_args)\n",
    "\n",
    "\n",
    "# что на вход можно подавать в качестве аргумента для датасета? туториал подсказывает, что нужно сначала загрузить датасет в библиотеку"
   ]
  },
  {
   "cell_type": "code",
   "execution_count": 49,
   "metadata": {
    "cellId": "s2o34unmfr9us5oe8q1vpb"
   },
   "outputs": [
    {
     "name": "stdout",
     "output_type": "stream",
     "text": [
      "Attack(\n",
      "  (search_method): GreedyWordSwapWIR(\n",
      "    (wir_method):  delete\n",
      "  )\n",
      "  (goal_function):  UntargetedClassification\n",
      "  (transformation):  WordSwapEmbedding(\n",
      "    (max_candidates):  50\n",
      "    (embedding):  WordEmbedding\n",
      "  )\n",
      "  (constraints): \n",
      "    (0): WordEmbeddingDistance(\n",
      "        (embedding):  WordEmbedding\n",
      "        (min_cos_sim):  0.5\n",
      "        (cased):  False\n",
      "        (include_unknown_words):  True\n",
      "        (compare_against_original):  True\n",
      "      )\n",
      "    (1): PartOfSpeech(\n",
      "        (tagger_type):  nltk\n",
      "        (tagset):  universal\n",
      "        (allow_verb_noun_swap):  True\n",
      "        (compare_against_original):  True\n",
      "      )\n",
      "    (2): UniversalSentenceEncoder(\n",
      "        (metric):  angular\n",
      "        (threshold):  0.840845057\n",
      "        (window_size):  15\n",
      "        (skip_text_shorter_than_window):  True\n",
      "        (compare_against_original):  False\n",
      "      )\n",
      "    (3): RepeatModification\n",
      "    (4): StopwordModification\n",
      "    (5): InputColumnModification(\n",
      "        (matching_column_labels):  ['premise', 'hypothesis']\n",
      "        (columns_to_ignore):  {'premise'}\n",
      "      )\n",
      "  (is_black_box):  True\n",
      ") \n",
      "\n",
      "\n",
      "\n",
      "=============================================================================================================================\n",
      "=============================================================================================================================\n",
      "\n",
      "\n",
      "\n",
      "=============================================================================================================================\n",
      "=============================================================================================================================\n",
      "\n",
      "\n",
      "\n",
      "=============================================================================================================================\n",
      "=============================================================================================================================\n",
      "\n",
      "\n",
      "\n",
      "=============================================================================================================================\n",
      "=============================================================================================================================\n",
      "\n",
      "\n",
      "\n",
      "=============================================================================================================================\n",
      "=============================================================================================================================\n",
      "\n",
      "\n",
      "+-------------------------------+--------+\n",
      "| Attack Results                |        |\n",
      "+-------------------------------+--------+\n",
      "| Number of successful attacks: | 8      |\n",
      "| Number of failed attacks:     | 75     |\n",
      "| Number of skipped attacks:    | 17     |\n",
      "| Original accuracy:            | 83.0%  |\n",
      "| Accuracy under attack:        | 75.0%  |\n",
      "| Attack success rate:          | 9.64%  |\n",
      "| Average perturbed word %:     | 10.76% |\n",
      "| Average num. words per input: | 17.64  |\n",
      "| Avg num queries:              | 33.49  |\n",
      "+-------------------------------+--------+\n",
      "CPU times: user 38.5 s, sys: 13.2 s, total: 51.7 s\n",
      "Wall time: 53.8 s\n"
     ]
    },
    {
     "name": "stderr",
     "output_type": "stream",
     "text": [
      "textattack: Logging to CSV at path logRu.csv\n",
      "[Succeeded / Failed / Skipped / Total] 0 / 1 / 0 / 1:   1%|          | 1/100 [00:00<00:10,  9.38it/s]Using /tmp/tfhub_modules to cache modules.\n",
      "Downloading TF-Hub Module 'https://tfhub.dev/google/universal-sentence-encoder/4'.\n",
      "Downloaded https://tfhub.dev/google/universal-sentence-encoder/4, Total size: 987.47MB\n",
      "Downloaded TF-Hub Module 'https://tfhub.dev/google/universal-sentence-encoder/4'.\n",
      "[Succeeded / Failed / Skipped / Total] 2 / 16 / 2 / 20:  20%|██        | 20/100 [00:24<01:39,  1.25s/it]textattack: Saving checkpoint under \"checkpoints/1640759293730.ta.chkpt\" at 2021-12-29 06:28:13 after 20 attacks.\n",
      "[Succeeded / Failed / Skipped / Total] 3 / 29 / 8 / 40:  40%|████      | 40/100 [00:31<00:47,  1.27it/s]textattack: Saving checkpoint under \"checkpoints/1640759300213.ta.chkpt\" at 2021-12-29 06:28:20 after 40 attacks.\n",
      "[Succeeded / Failed / Skipped / Total] 5 / 41 / 14 / 60:  60%|██████    | 60/100 [00:36<00:24,  1.64it/s]textattack: Saving checkpoint under \"checkpoints/1640759305502.ta.chkpt\" at 2021-12-29 06:28:25 after 60 attacks.\n",
      "[Succeeded / Failed / Skipped / Total] 7 / 56 / 17 / 80:  80%|████████  | 80/100 [00:44<00:11,  1.82it/s]textattack: Saving checkpoint under \"checkpoints/1640759312842.ta.chkpt\" at 2021-12-29 06:28:32 after 80 attacks.\n",
      "[Succeeded / Failed / Skipped / Total] 8 / 75 / 17 / 100: 100%|██████████| 100/100 [00:53<00:00,  1.86it/s]textattack: Saving checkpoint under \"checkpoints/1640759322617.ta.chkpt\" at 2021-12-29 06:28:42 after 100 attacks.\n",
      "[Succeeded / Failed / Skipped / Total] 8 / 75 / 17 / 100: 100%|██████████| 100/100 [00:53<00:00,  1.86it/s]\n"
     ]
    },
    {
     "data": {
      "text/plain": [
       "[<textattack.attack_results.failed_attack_result.FailedAttackResult at 0x7f8d33bdd3d0>,\n",
       " <textattack.attack_results.failed_attack_result.FailedAttackResult at 0x7f8d2ecc4110>,\n",
       " <textattack.attack_results.failed_attack_result.FailedAttackResult at 0x7f8d343e7710>,\n",
       " <textattack.attack_results.skipped_attack_result.SkippedAttackResult at 0x7f8d343e7a50>,\n",
       " <textattack.attack_results.failed_attack_result.FailedAttackResult at 0x7f8d341a6850>,\n",
       " <textattack.attack_results.failed_attack_result.FailedAttackResult at 0x7f8ccad6bd10>,\n",
       " <textattack.attack_results.skipped_attack_result.SkippedAttackResult at 0x7f8d3372a910>,\n",
       " <textattack.attack_results.failed_attack_result.FailedAttackResult at 0x7f8d33eae850>,\n",
       " <textattack.attack_results.successful_attack_result.SuccessfulAttackResult at 0x7f8d1a4fcb50>,\n",
       " <textattack.attack_results.failed_attack_result.FailedAttackResult at 0x7f8d33bdd8d0>,\n",
       " <textattack.attack_results.failed_attack_result.FailedAttackResult at 0x7f8d2ec39490>,\n",
       " <textattack.attack_results.failed_attack_result.FailedAttackResult at 0x7f8d2ec39fd0>,\n",
       " <textattack.attack_results.successful_attack_result.SuccessfulAttackResult at 0x7f8ccad5d8d0>,\n",
       " <textattack.attack_results.failed_attack_result.FailedAttackResult at 0x7f8d2ec39e50>,\n",
       " <textattack.attack_results.failed_attack_result.FailedAttackResult at 0x7f8d3bb26350>,\n",
       " <textattack.attack_results.failed_attack_result.FailedAttackResult at 0x7f8d343e7050>,\n",
       " <textattack.attack_results.failed_attack_result.FailedAttackResult at 0x7f8ccc778f10>,\n",
       " <textattack.attack_results.failed_attack_result.FailedAttackResult at 0x7f8d2cd54c50>,\n",
       " <textattack.attack_results.failed_attack_result.FailedAttackResult at 0x7f8ccd208f50>,\n",
       " <textattack.attack_results.failed_attack_result.FailedAttackResult at 0x7f8ccc7780d0>,\n",
       " <textattack.attack_results.successful_attack_result.SuccessfulAttackResult at 0x7f8d36ec8f10>,\n",
       " <textattack.attack_results.failed_attack_result.FailedAttackResult at 0x7f8d39bbfad0>,\n",
       " <textattack.attack_results.skipped_attack_result.SkippedAttackResult at 0x7f8d33d16b10>,\n",
       " <textattack.attack_results.failed_attack_result.FailedAttackResult at 0x7f8d33e7bd10>,\n",
       " <textattack.attack_results.failed_attack_result.FailedAttackResult at 0x7f8ccd0ffd10>,\n",
       " <textattack.attack_results.skipped_attack_result.SkippedAttackResult at 0x7f8ccd0ffc90>,\n",
       " <textattack.attack_results.failed_attack_result.FailedAttackResult at 0x7f8d3b21c810>,\n",
       " <textattack.attack_results.failed_attack_result.FailedAttackResult at 0x7f8ccd208550>,\n",
       " <textattack.attack_results.failed_attack_result.FailedAttackResult at 0x7f8ccd0ff790>,\n",
       " <textattack.attack_results.failed_attack_result.FailedAttackResult at 0x7f8d343e7190>,\n",
       " <textattack.attack_results.skipped_attack_result.SkippedAttackResult at 0x7f8d343e7210>,\n",
       " <textattack.attack_results.failed_attack_result.FailedAttackResult at 0x7f8ccc9eb9d0>,\n",
       " <textattack.attack_results.failed_attack_result.FailedAttackResult at 0x7f8d32c32510>,\n",
       " <textattack.attack_results.failed_attack_result.FailedAttackResult at 0x7f8ccc9e4490>,\n",
       " <textattack.attack_results.failed_attack_result.FailedAttackResult at 0x7f8d28350890>,\n",
       " <textattack.attack_results.failed_attack_result.FailedAttackResult at 0x7f8d17a6f210>,\n",
       " <textattack.attack_results.skipped_attack_result.SkippedAttackResult at 0x7f8d32c2cb10>,\n",
       " <textattack.attack_results.skipped_attack_result.SkippedAttackResult at 0x7f8d2ec39810>,\n",
       " <textattack.attack_results.skipped_attack_result.SkippedAttackResult at 0x7f8ccd208110>,\n",
       " <textattack.attack_results.failed_attack_result.FailedAttackResult at 0x7f8d19130390>,\n",
       " <textattack.attack_results.failed_attack_result.FailedAttackResult at 0x7f8d33d16310>,\n",
       " <textattack.attack_results.skipped_attack_result.SkippedAttackResult at 0x7f8d33d16690>,\n",
       " <textattack.attack_results.successful_attack_result.SuccessfulAttackResult at 0x7f8ccc2fd310>,\n",
       " <textattack.attack_results.failed_attack_result.FailedAttackResult at 0x7f8d2c4ac090>,\n",
       " <textattack.attack_results.failed_attack_result.FailedAttackResult at 0x7f8ccc2fd750>,\n",
       " <textattack.attack_results.skipped_attack_result.SkippedAttackResult at 0x7f8ccc2fd9d0>,\n",
       " <textattack.attack_results.failed_attack_result.FailedAttackResult at 0x7f8ccc0ed750>,\n",
       " <textattack.attack_results.failed_attack_result.FailedAttackResult at 0x7f8d3b21c050>,\n",
       " <textattack.attack_results.failed_attack_result.FailedAttackResult at 0x7f8d33d351d0>,\n",
       " <textattack.attack_results.failed_attack_result.FailedAttackResult at 0x7f8d3b21c9d0>,\n",
       " <textattack.attack_results.skipped_attack_result.SkippedAttackResult at 0x7f8ccc778cd0>,\n",
       " <textattack.attack_results.failed_attack_result.FailedAttackResult at 0x7f8ccc778fd0>,\n",
       " <textattack.attack_results.failed_attack_result.FailedAttackResult at 0x7f8ccd208c50>,\n",
       " <textattack.attack_results.skipped_attack_result.SkippedAttackResult at 0x7f8ccd2082d0>,\n",
       " <textattack.attack_results.successful_attack_result.SuccessfulAttackResult at 0x7f8d3b21c390>,\n",
       " <textattack.attack_results.failed_attack_result.FailedAttackResult at 0x7f8d30b56c10>,\n",
       " <textattack.attack_results.failed_attack_result.FailedAttackResult at 0x7f8d30b56cd0>,\n",
       " <textattack.attack_results.skipped_attack_result.SkippedAttackResult at 0x7f8d30b56d10>,\n",
       " <textattack.attack_results.failed_attack_result.FailedAttackResult at 0x7f8ccc2fd090>,\n",
       " <textattack.attack_results.skipped_attack_result.SkippedAttackResult at 0x7f8ccc441b50>,\n",
       " <textattack.attack_results.failed_attack_result.FailedAttackResult at 0x7f8ccc441350>,\n",
       " <textattack.attack_results.failed_attack_result.FailedAttackResult at 0x7f8ccc9eb2d0>,\n",
       " <textattack.attack_results.failed_attack_result.FailedAttackResult at 0x7f8ccc32b210>,\n",
       " <textattack.attack_results.successful_attack_result.SuccessfulAttackResult at 0x7f8d343e7690>,\n",
       " <textattack.attack_results.failed_attack_result.FailedAttackResult at 0x7f8d3b206910>,\n",
       " <textattack.attack_results.skipped_attack_result.SkippedAttackResult at 0x7f8d3b206b90>,\n",
       " <textattack.attack_results.failed_attack_result.FailedAttackResult at 0x7f8ccc9e4cd0>,\n",
       " <textattack.attack_results.failed_attack_result.FailedAttackResult at 0x7f8ccc441050>,\n",
       " <textattack.attack_results.failed_attack_result.FailedAttackResult at 0x7f8ccd224850>,\n",
       " <textattack.attack_results.failed_attack_result.FailedAttackResult at 0x7f8ccc32bcd0>,\n",
       " <textattack.attack_results.successful_attack_result.SuccessfulAttackResult at 0x7f8ccd224950>,\n",
       " <textattack.attack_results.failed_attack_result.FailedAttackResult at 0x7f8ccc32bd50>,\n",
       " <textattack.attack_results.skipped_attack_result.SkippedAttackResult at 0x7f8ccc32b290>,\n",
       " <textattack.attack_results.failed_attack_result.FailedAttackResult at 0x7f8ccc32b6d0>,\n",
       " <textattack.attack_results.failed_attack_result.FailedAttackResult at 0x7f8ccc9e4dd0>,\n",
       " <textattack.attack_results.failed_attack_result.FailedAttackResult at 0x7f8ccc782e90>,\n",
       " <textattack.attack_results.failed_attack_result.FailedAttackResult at 0x7f8ccc2aead0>,\n",
       " <textattack.attack_results.failed_attack_result.FailedAttackResult at 0x7f8ccc9ebe10>,\n",
       " <textattack.attack_results.failed_attack_result.FailedAttackResult at 0x7f8ccd11b6d0>,\n",
       " <textattack.attack_results.skipped_attack_result.SkippedAttackResult at 0x7f8ccd11bc50>,\n",
       " <textattack.attack_results.failed_attack_result.FailedAttackResult at 0x7f8ccc782490>,\n",
       " <textattack.attack_results.failed_attack_result.FailedAttackResult at 0x7f8ccc782250>,\n",
       " <textattack.attack_results.failed_attack_result.FailedAttackResult at 0x7f8d3fc91690>,\n",
       " <textattack.attack_results.failed_attack_result.FailedAttackResult at 0x7f8d3692add0>,\n",
       " <textattack.attack_results.failed_attack_result.FailedAttackResult at 0x7f8ccd224bd0>,\n",
       " <textattack.attack_results.failed_attack_result.FailedAttackResult at 0x7f8ccc441550>,\n",
       " <textattack.attack_results.failed_attack_result.FailedAttackResult at 0x7f8ccd224250>,\n",
       " <textattack.attack_results.failed_attack_result.FailedAttackResult at 0x7f8ccd0ffb10>,\n",
       " <textattack.attack_results.failed_attack_result.FailedAttackResult at 0x7f8ccd224110>,\n",
       " <textattack.attack_results.failed_attack_result.FailedAttackResult at 0x7f8ccba4c510>,\n",
       " <textattack.attack_results.failed_attack_result.FailedAttackResult at 0x7f8ccba4c690>,\n",
       " <textattack.attack_results.failed_attack_result.FailedAttackResult at 0x7f8ccc9e44d0>,\n",
       " <textattack.attack_results.failed_attack_result.FailedAttackResult at 0x7f8d3692aad0>,\n",
       " <textattack.attack_results.failed_attack_result.FailedAttackResult at 0x7f8ccc2ae7d0>,\n",
       " <textattack.attack_results.failed_attack_result.FailedAttackResult at 0x7f8ccd0ff7d0>,\n",
       " <textattack.attack_results.failed_attack_result.FailedAttackResult at 0x7f8ccc32ba90>,\n",
       " <textattack.attack_results.failed_attack_result.FailedAttackResult at 0x7f8d3692ab10>,\n",
       " <textattack.attack_results.failed_attack_result.FailedAttackResult at 0x7f8d3fc91990>,\n",
       " <textattack.attack_results.successful_attack_result.SuccessfulAttackResult at 0x7f8ccc9e4c50>,\n",
       " <textattack.attack_results.failed_attack_result.FailedAttackResult at 0x7f8ccc9ebf90>]"
      ]
     },
     "metadata": {},
     "output_type": "display_data"
    }
   ],
   "source": [
    "#!g1.1\n",
    "%%time \n",
    "\n",
    "attacker.attack_dataset()"
   ]
  },
  {
   "cell_type": "markdown",
   "metadata": {
    "cellId": "tuvioy556kmfndes9iri"
   },
   "source": [
    "#!g1.1\n",
    "## Все вместе:"
   ]
  },
  {
   "cell_type": "code",
   "execution_count": 52,
   "metadata": {
    "cellId": "j689uot56ffjelv5h1g15i"
   },
   "outputs": [
    {
     "data": {
      "application/vnd.jupyter.widget-view+json": {
       "model_id": "2448e7d2d51d46428effd241202215c6",
       "version_major": 2,
       "version_minor": 0
      },
      "text/plain": [
       "HBox(children=(FloatProgress(value=0.0, description='Downloading', max=625.0, style=ProgressStyle(description_…"
      ]
     },
     "metadata": {},
     "output_type": "display_data"
    },
    {
     "data": {
      "application/vnd.jupyter.widget-view+json": {
       "model_id": "9de99594981f4b19a011502d1084934d",
       "version_major": 2,
       "version_minor": 0
      },
      "text/plain": [
       "HBox(children=(FloatProgress(value=0.0, description='Downloading', max=714314041.0, style=ProgressStyle(descri…"
      ]
     },
     "metadata": {},
     "output_type": "display_data"
    },
    {
     "data": {
      "application/vnd.jupyter.widget-view+json": {
       "model_id": "f9ef70b916554315b36c29bb9f0f36cd",
       "version_major": 2,
       "version_minor": 0
      },
      "text/plain": [
       "HBox(children=(FloatProgress(value=0.0, description='Downloading', max=29.0, style=ProgressStyle(description_w…"
      ]
     },
     "metadata": {},
     "output_type": "display_data"
    },
    {
     "data": {
      "application/vnd.jupyter.widget-view+json": {
       "model_id": "08fcf275fcea4d3b8bfb69f2498991e2",
       "version_major": 2,
       "version_minor": 0
      },
      "text/plain": [
       "HBox(children=(FloatProgress(value=0.0, description='Downloading', max=995526.0, style=ProgressStyle(descripti…"
      ]
     },
     "metadata": {},
     "output_type": "display_data"
    },
    {
     "data": {
      "application/vnd.jupyter.widget-view+json": {
       "model_id": "b415dbd689794b379c71286831104605",
       "version_major": 2,
       "version_minor": 0
      },
      "text/plain": [
       "HBox(children=(FloatProgress(value=0.0, description='Downloading', max=1961828.0, style=ProgressStyle(descript…"
      ]
     },
     "metadata": {},
     "output_type": "display_data"
    },
    {
     "name": "stdout",
     "output_type": "stream",
     "text": [
      "\n",
      "\n",
      "\n",
      "\n",
      "\n"
     ]
    },
    {
     "name": "stderr",
     "output_type": "stream",
     "text": [
      "Some weights of the model checkpoint at bert-base-multilingual-cased were not used when initializing BertForMaskedLM: ['cls.seq_relationship.weight', 'cls.seq_relationship.bias']\n",
      "- This IS expected if you are initializing BertForMaskedLM from the checkpoint of a model trained on another task or with another architecture (e.g. initializing a BertForSequenceClassification model from a BertForPreTraining model).\n",
      "- This IS NOT expected if you are initializing BertForMaskedLM from the checkpoint of a model that you expect to be exactly identical (initializing a BertForSequenceClassification model from a BertForSequenceClassification model).\n",
      "textattack: Unknown if model of class <class 'transformers.models.bert.modeling_bert.BertForSequenceClassification'> compatible with goal function <class 'textattack.goal_functions.classification.untargeted_classification.UntargetedClassification'>.\n"
     ]
    }
   ],
   "source": [
    "#!g1.1\n",
    "attack = BAEGarg2019.build(model_wrapper)\n",
    "attack_args = textattack.AttackArgs(num_examples=100, log_to_csv=\"logRuBae.csv\", checkpoint_interval=20, checkpoint_dir=\"checkpoints\", disable_stdout=True)\n",
    "attacker = textattack.Attacker(attack, dataset, attack_args)\n"
   ]
  },
  {
   "cell_type": "code",
   "execution_count": null,
   "metadata": {
    "cellId": "hei3c2uri6jnk530gd3h7"
   },
   "outputs": [],
   "source": [
    "#!g1.1\n"
   ]
  },
  {
   "cell_type": "code",
   "execution_count": 54,
   "metadata": {
    "cellId": "8yc4uy7vh4bkpr92mu02o"
   },
   "outputs": [
    {
     "name": "stdout",
     "output_type": "stream",
     "text": [
      "Attack(\n",
      "  (search_method): GreedyWordSwapWIR(\n",
      "    (wir_method):  delete\n",
      "  )\n",
      "  (goal_function):  UntargetedClassification\n",
      "  (transformation):  WordSwapMaskedLM(\n",
      "    (method):  bae\n",
      "    (masked_lm_name):  BertForMaskedLM\n",
      "    (max_length):  512\n",
      "    (max_candidates):  50\n",
      "    (min_confidence):  0.0\n",
      "  )\n",
      "  (constraints): \n",
      "    (0): PartOfSpeech(\n",
      "        (tagger_type):  nltk\n",
      "        (tagset):  universal\n",
      "        (allow_verb_noun_swap):  True\n",
      "        (compare_against_original):  True\n",
      "      )\n",
      "    (1): UniversalSentenceEncoder(\n",
      "        (metric):  cosine\n",
      "        (threshold):  0.936338023\n",
      "        (window_size):  15\n",
      "        (skip_text_shorter_than_window):  True\n",
      "        (compare_against_original):  True\n",
      "      )\n",
      "    (2): RepeatModification\n",
      "    (3): StopwordModification\n",
      "  (is_black_box):  True\n",
      ") \n",
      "\n",
      "\n",
      "\n",
      "=============================================================================================================================\n",
      "=============================================================================================================================\n",
      "\n",
      "\n",
      "\n",
      "=============================================================================================================================\n",
      "=============================================================================================================================\n",
      "\n",
      "\n",
      "\n",
      "=============================================================================================================================\n",
      "=============================================================================================================================\n",
      "\n",
      "\n",
      "\n",
      "=============================================================================================================================\n",
      "=============================================================================================================================\n",
      "\n",
      "\n",
      "\n",
      "=============================================================================================================================\n",
      "=============================================================================================================================\n",
      "\n",
      "\n",
      "+-------------------------------+--------+\n",
      "| Attack Results                |        |\n",
      "+-------------------------------+--------+\n",
      "| Number of successful attacks: | 77     |\n",
      "| Number of failed attacks:     | 6      |\n",
      "| Number of skipped attacks:    | 17     |\n",
      "| Original accuracy:            | 83.0%  |\n",
      "| Accuracy under attack:        | 6.0%   |\n",
      "| Attack success rate:          | 92.77% |\n",
      "| Average perturbed word %:     | 18.3%  |\n",
      "| Average num. words per input: | 17.64  |\n",
      "| Avg num queries:              | 125.93 |\n",
      "+-------------------------------+--------+\n",
      "CPU times: user 3min 12s, sys: 45.4 s, total: 3min 57s\n",
      "Wall time: 3min 49s\n"
     ]
    },
    {
     "name": "stderr",
     "output_type": "stream",
     "text": [
      "textattack: Logging to CSV at path logRuBae.csv\n",
      "[Succeeded / Failed / Skipped / Total] 16 / 2 / 2 / 20:  20%|██        | 20/100 [01:00<04:03,  3.05s/it]textattack: Saving checkpoint under \"checkpoints/1640759826133.ta.chkpt\" at 2021-12-29 06:37:06 after 20 attacks.\n",
      "[Succeeded / Failed / Skipped / Total] 28 / 4 / 8 / 40:  40%|████      | 40/100 [01:37<02:25,  2.43s/it]textattack: Saving checkpoint under \"checkpoints/1640759862481.ta.chkpt\" at 2021-12-29 06:37:42 after 40 attacks.\n",
      "[Succeeded / Failed / Skipped / Total] 41 / 5 / 14 / 60:  60%|██████    | 60/100 [02:10<01:26,  2.17s/it]textattack: Saving checkpoint under \"checkpoints/1640759895307.ta.chkpt\" at 2021-12-29 06:38:15 after 60 attacks.\n",
      "[Succeeded / Failed / Skipped / Total] 57 / 6 / 17 / 80:  80%|████████  | 80/100 [02:48<00:42,  2.11s/it]textattack: Saving checkpoint under \"checkpoints/1640759934129.ta.chkpt\" at 2021-12-29 06:38:54 after 80 attacks.\n",
      "[Succeeded / Failed / Skipped / Total] 77 / 6 / 17 / 100: 100%|██████████| 100/100 [03:49<00:00,  2.29s/it]textattack: Saving checkpoint under \"checkpoints/1640759994612.ta.chkpt\" at 2021-12-29 06:39:54 after 100 attacks.\n",
      "[Succeeded / Failed / Skipped / Total] 77 / 6 / 17 / 100: 100%|██████████| 100/100 [03:49<00:00,  2.29s/it]\n"
     ]
    },
    {
     "data": {
      "text/plain": [
       "[<textattack.attack_results.successful_attack_result.SuccessfulAttackResult at 0x7f8ccccfa810>,\n",
       " <textattack.attack_results.successful_attack_result.SuccessfulAttackResult at 0x7f8d32170c50>,\n",
       " <textattack.attack_results.successful_attack_result.SuccessfulAttackResult at 0x7f8d2dcead50>,\n",
       " <textattack.attack_results.skipped_attack_result.SkippedAttackResult at 0x7f8d33eae990>,\n",
       " <textattack.attack_results.failed_attack_result.FailedAttackResult at 0x7f8ccba0fbd0>,\n",
       " <textattack.attack_results.successful_attack_result.SuccessfulAttackResult at 0x7f8cca764e10>,\n",
       " <textattack.attack_results.skipped_attack_result.SkippedAttackResult at 0x7f8d33bdd6d0>,\n",
       " <textattack.attack_results.successful_attack_result.SuccessfulAttackResult at 0x7f8d1885f290>,\n",
       " <textattack.attack_results.successful_attack_result.SuccessfulAttackResult at 0x7f8d324f6050>,\n",
       " <textattack.attack_results.successful_attack_result.SuccessfulAttackResult at 0x7f8d336cff50>,\n",
       " <textattack.attack_results.successful_attack_result.SuccessfulAttackResult at 0x7f8d3bb26290>,\n",
       " <textattack.attack_results.successful_attack_result.SuccessfulAttackResult at 0x7f8d09cb8b50>,\n",
       " <textattack.attack_results.successful_attack_result.SuccessfulAttackResult at 0x7f8d2810f410>,\n",
       " <textattack.attack_results.successful_attack_result.SuccessfulAttackResult at 0x7f8d32c2cf10>,\n",
       " <textattack.attack_results.successful_attack_result.SuccessfulAttackResult at 0x7f8ccb4b0e90>,\n",
       " <textattack.attack_results.failed_attack_result.FailedAttackResult at 0x7f8d30b56850>,\n",
       " <textattack.attack_results.successful_attack_result.SuccessfulAttackResult at 0x7f8ccb71c250>,\n",
       " <textattack.attack_results.successful_attack_result.SuccessfulAttackResult at 0x7f8cca645bd0>,\n",
       " <textattack.attack_results.successful_attack_result.SuccessfulAttackResult at 0x7f8d35fdcd90>,\n",
       " <textattack.attack_results.successful_attack_result.SuccessfulAttackResult at 0x7f8d35fe0090>,\n",
       " <textattack.attack_results.successful_attack_result.SuccessfulAttackResult at 0x7f8d3a647950>,\n",
       " <textattack.attack_results.successful_attack_result.SuccessfulAttackResult at 0x7f8ccac64e50>,\n",
       " <textattack.attack_results.skipped_attack_result.SkippedAttackResult at 0x7f8ccac67d90>,\n",
       " <textattack.attack_results.successful_attack_result.SuccessfulAttackResult at 0x7f8cca63bd50>,\n",
       " <textattack.attack_results.successful_attack_result.SuccessfulAttackResult at 0x7f8d35fdced0>,\n",
       " <textattack.attack_results.skipped_attack_result.SkippedAttackResult at 0x7f8cca7678d0>,\n",
       " <textattack.attack_results.failed_attack_result.FailedAttackResult at 0x7f8ccac36390>,\n",
       " <textattack.attack_results.failed_attack_result.FailedAttackResult at 0x7f8d36ec83d0>,\n",
       " <textattack.attack_results.successful_attack_result.SuccessfulAttackResult at 0x7f8ccb13df50>,\n",
       " <textattack.attack_results.successful_attack_result.SuccessfulAttackResult at 0x7f8ccc412510>,\n",
       " <textattack.attack_results.skipped_attack_result.SkippedAttackResult at 0x7f8ccb2da650>,\n",
       " <textattack.attack_results.successful_attack_result.SuccessfulAttackResult at 0x7f8ccb13df10>,\n",
       " <textattack.attack_results.successful_attack_result.SuccessfulAttackResult at 0x7f8ccad40490>,\n",
       " <textattack.attack_results.successful_attack_result.SuccessfulAttackResult at 0x7f8d3bb161d0>,\n",
       " <textattack.attack_results.successful_attack_result.SuccessfulAttackResult at 0x7f8cca65ba10>,\n",
       " <textattack.attack_results.successful_attack_result.SuccessfulAttackResult at 0x7f8d3bb26310>,\n",
       " <textattack.attack_results.skipped_attack_result.SkippedAttackResult at 0x7f8cca1bb7d0>,\n",
       " <textattack.attack_results.skipped_attack_result.SkippedAttackResult at 0x7f8cca1bb3d0>,\n",
       " <textattack.attack_results.skipped_attack_result.SkippedAttackResult at 0x7f8d39bd96d0>,\n",
       " <textattack.attack_results.successful_attack_result.SuccessfulAttackResult at 0x7f8d336cf3d0>,\n",
       " <textattack.attack_results.successful_attack_result.SuccessfulAttackResult at 0x7f8d0a8a0dd0>,\n",
       " <textattack.attack_results.skipped_attack_result.SkippedAttackResult at 0x7f8ccad40c90>,\n",
       " <textattack.attack_results.successful_attack_result.SuccessfulAttackResult at 0x7f8ccb2da390>,\n",
       " <textattack.attack_results.successful_attack_result.SuccessfulAttackResult at 0x7f8ccb6f8c10>,\n",
       " <textattack.attack_results.successful_attack_result.SuccessfulAttackResult at 0x7f8ccba1aad0>,\n",
       " <textattack.attack_results.skipped_attack_result.SkippedAttackResult at 0x7f8ccac67890>,\n",
       " <textattack.attack_results.successful_attack_result.SuccessfulAttackResult at 0x7f8cca65b6d0>,\n",
       " <textattack.attack_results.failed_attack_result.FailedAttackResult at 0x7f8d3bb26110>,\n",
       " <textattack.attack_results.successful_attack_result.SuccessfulAttackResult at 0x7f8cca767f10>,\n",
       " <textattack.attack_results.successful_attack_result.SuccessfulAttackResult at 0x7f8cca65bad0>,\n",
       " <textattack.attack_results.skipped_attack_result.SkippedAttackResult at 0x7f8cca670e10>,\n",
       " <textattack.attack_results.successful_attack_result.SuccessfulAttackResult at 0x7f8d197c4650>,\n",
       " <textattack.attack_results.successful_attack_result.SuccessfulAttackResult at 0x7f8cca7561d0>,\n",
       " <textattack.attack_results.skipped_attack_result.SkippedAttackResult at 0x7f8cca7566d0>,\n",
       " <textattack.attack_results.successful_attack_result.SuccessfulAttackResult at 0x7f8d3bb167d0>,\n",
       " <textattack.attack_results.successful_attack_result.SuccessfulAttackResult at 0x7f8d3bb11390>,\n",
       " <textattack.attack_results.successful_attack_result.SuccessfulAttackResult at 0x7f8d2ecc4950>,\n",
       " <textattack.attack_results.skipped_attack_result.SkippedAttackResult at 0x7f8d3bb11590>,\n",
       " <textattack.attack_results.successful_attack_result.SuccessfulAttackResult at 0x7f8ccc0c6390>,\n",
       " <textattack.attack_results.skipped_attack_result.SkippedAttackResult at 0x7f8ccac6b710>,\n",
       " <textattack.attack_results.successful_attack_result.SuccessfulAttackResult at 0x7f8d32c2c850>,\n",
       " <textattack.attack_results.successful_attack_result.SuccessfulAttackResult at 0x7f8d3a662050>,\n",
       " <textattack.attack_results.failed_attack_result.FailedAttackResult at 0x7f8ccd224fd0>,\n",
       " <textattack.attack_results.successful_attack_result.SuccessfulAttackResult at 0x7f8d28713750>,\n",
       " <textattack.attack_results.successful_attack_result.SuccessfulAttackResult at 0x7f8d3bafc890>,\n",
       " <textattack.attack_results.skipped_attack_result.SkippedAttackResult at 0x7f8cca670050>,\n",
       " <textattack.attack_results.successful_attack_result.SuccessfulAttackResult at 0x7f8cca670610>,\n",
       " <textattack.attack_results.successful_attack_result.SuccessfulAttackResult at 0x7f8d39bd9c10>,\n",
       " <textattack.attack_results.successful_attack_result.SuccessfulAttackResult at 0x7f8ccc32be10>,\n",
       " <textattack.attack_results.successful_attack_result.SuccessfulAttackResult at 0x7f8cca645650>,\n",
       " <textattack.attack_results.successful_attack_result.SuccessfulAttackResult at 0x7f8d30b3e210>,\n",
       " <textattack.attack_results.successful_attack_result.SuccessfulAttackResult at 0x7f8d33e7b750>,\n",
       " <textattack.attack_results.skipped_attack_result.SkippedAttackResult at 0x7f8d36ec8b10>,\n",
       " <textattack.attack_results.successful_attack_result.SuccessfulAttackResult at 0x7f8cca657090>,\n",
       " <textattack.attack_results.successful_attack_result.SuccessfulAttackResult at 0x7f8d250a6e90>,\n",
       " <textattack.attack_results.successful_attack_result.SuccessfulAttackResult at 0x7f8ccb71c390>,\n",
       " <textattack.attack_results.successful_attack_result.SuccessfulAttackResult at 0x7f8ccb147210>,\n",
       " <textattack.attack_results.successful_attack_result.SuccessfulAttackResult at 0x7f8d34605b90>,\n",
       " <textattack.attack_results.successful_attack_result.SuccessfulAttackResult at 0x7f8cca6454d0>,\n",
       " <textattack.attack_results.skipped_attack_result.SkippedAttackResult at 0x7f8d39bc2f90>,\n",
       " <textattack.attack_results.successful_attack_result.SuccessfulAttackResult at 0x7f8d1d7e9d50>,\n",
       " <textattack.attack_results.successful_attack_result.SuccessfulAttackResult at 0x7f8d39bd93d0>,\n",
       " <textattack.attack_results.successful_attack_result.SuccessfulAttackResult at 0x7f8cca31cdd0>,\n",
       " <textattack.attack_results.successful_attack_result.SuccessfulAttackResult at 0x7f8d3a667a90>,\n",
       " <textattack.attack_results.successful_attack_result.SuccessfulAttackResult at 0x7f8cca756e50>,\n",
       " <textattack.attack_results.successful_attack_result.SuccessfulAttackResult at 0x7f8d33d352d0>,\n",
       " <textattack.attack_results.successful_attack_result.SuccessfulAttackResult at 0x7f8d34490f90>,\n",
       " <textattack.attack_results.successful_attack_result.SuccessfulAttackResult at 0x7f8d33d35610>,\n",
       " <textattack.attack_results.successful_attack_result.SuccessfulAttackResult at 0x7f8cca650d10>,\n",
       " <textattack.attack_results.successful_attack_result.SuccessfulAttackResult at 0x7f8d33d35110>,\n",
       " <textattack.attack_results.successful_attack_result.SuccessfulAttackResult at 0x7f8ccb70e190>,\n",
       " <textattack.attack_results.successful_attack_result.SuccessfulAttackResult at 0x7f8ccb70e050>,\n",
       " <textattack.attack_results.successful_attack_result.SuccessfulAttackResult at 0x7f8cca73d2d0>,\n",
       " <textattack.attack_results.successful_attack_result.SuccessfulAttackResult at 0x7f8ccb6f8490>,\n",
       " <textattack.attack_results.successful_attack_result.SuccessfulAttackResult at 0x7f8d28350e10>,\n",
       " <textattack.attack_results.successful_attack_result.SuccessfulAttackResult at 0x7f8cca63bf50>,\n",
       " <textattack.attack_results.successful_attack_result.SuccessfulAttackResult at 0x7f8ccc778d90>,\n",
       " <textattack.attack_results.successful_attack_result.SuccessfulAttackResult at 0x7f8d1d7e9e50>,\n",
       " <textattack.attack_results.successful_attack_result.SuccessfulAttackResult at 0x7f8ccbba60d0>,\n",
       " <textattack.attack_results.successful_attack_result.SuccessfulAttackResult at 0x7f8ccd1a7750>]"
      ]
     },
     "metadata": {},
     "output_type": "display_data"
    }
   ],
   "source": [
    "#!g1.1\n",
    "%%time\n",
    "\n",
    "#запустим бае на основе мультиязычного берта\n",
    "\n",
    "attacker.attack_dataset()"
   ]
  },
  {
   "cell_type": "code",
   "execution_count": 61,
   "metadata": {
    "cellId": "5ldg1usej1p12mjjpb601yi"
   },
   "outputs": [
    {
     "data": {
      "application/vnd.jupyter.widget-view+json": {
       "model_id": "2f6907a4fe5f4887a13a24054164c8a2",
       "version_major": 2,
       "version_minor": 0
      },
      "text/plain": [
       "HBox(children=(FloatProgress(value=0.0, description='Downloading', max=642.0, style=ProgressStyle(description_…"
      ]
     },
     "metadata": {},
     "output_type": "display_data"
    },
    {
     "data": {
      "application/vnd.jupyter.widget-view+json": {
       "model_id": "dde6b282cf44481c8c08199fe5c459ac",
       "version_major": 2,
       "version_minor": 0
      },
      "text/plain": [
       "HBox(children=(FloatProgress(value=0.0, description='Downloading', max=714355318.0, style=ProgressStyle(descri…"
      ]
     },
     "metadata": {},
     "output_type": "display_data"
    },
    {
     "data": {
      "application/vnd.jupyter.widget-view+json": {
       "model_id": "86ac350fa477488b91a61b80ecb3dc4d",
       "version_major": 2,
       "version_minor": 0
      },
      "text/plain": [
       "HBox(children=(FloatProgress(value=0.0, description='Downloading', max=24.0, style=ProgressStyle(description_w…"
      ]
     },
     "metadata": {},
     "output_type": "display_data"
    },
    {
     "data": {
      "application/vnd.jupyter.widget-view+json": {
       "model_id": "5d1945131bb9493bb68699f8a6bbc050",
       "version_major": 2,
       "version_minor": 0
      },
      "text/plain": [
       "HBox(children=(FloatProgress(value=0.0, description='Downloading', max=1649718.0, style=ProgressStyle(descript…"
      ]
     },
     "metadata": {},
     "output_type": "display_data"
    },
    {
     "data": {
      "application/vnd.jupyter.widget-view+json": {
       "model_id": "2fb1d85b07534dcc92e704c5b1f94a76",
       "version_major": 2,
       "version_minor": 0
      },
      "text/plain": [
       "HBox(children=(FloatProgress(value=0.0, description='Downloading', max=112.0, style=ProgressStyle(description_…"
      ]
     },
     "metadata": {},
     "output_type": "display_data"
    },
    {
     "name": "stdout",
     "output_type": "stream",
     "text": [
      "\n",
      "\n",
      "\n",
      "\n",
      "\n"
     ]
    },
    {
     "name": "stderr",
     "output_type": "stream",
     "text": [
      "Some weights of the model checkpoint at DeepPavlov/rubert-base-cased were not used when initializing BertForMaskedLM: ['cls.seq_relationship.bias', 'cls.seq_relationship.weight']\n",
      "- This IS expected if you are initializing BertForMaskedLM from the checkpoint of a model trained on another task or with another architecture (e.g. initializing a BertForSequenceClassification model from a BertForPreTraining model).\n",
      "- This IS NOT expected if you are initializing BertForMaskedLM from the checkpoint of a model that you expect to be exactly identical (initializing a BertForSequenceClassification model from a BertForSequenceClassification model).\n",
      "textattack: Unknown if model of class <class 'transformers.models.bert.modeling_bert.BertForSequenceClassification'> compatible with goal function <class 'textattack.goal_functions.classification.untargeted_classification.UntargetedClassification'>.\n"
     ]
    }
   ],
   "source": [
    "#!g1.1\n",
    "#!g1.1\n",
    "attack = BAEGarg2019Pavlov.build(model_wrapper)\n",
    "attack_args = textattack.AttackArgs(num_examples=500, log_to_csv=\"logRuBaePavlov.csv\", checkpoint_interval=100, checkpoint_dir=\"checkpoints\", disable_stdout=True)\n",
    "attacker = textattack.Attacker(attack, dataset, attack_args)\n"
   ]
  },
  {
   "cell_type": "code",
   "execution_count": 62,
   "metadata": {
    "cellId": "akinpnvz9tovgh3bcfeiw"
   },
   "outputs": [
    {
     "name": "stdout",
     "output_type": "stream",
     "text": [
      "Attack(\n",
      "  (search_method): GreedyWordSwapWIR(\n",
      "    (wir_method):  delete\n",
      "  )\n",
      "  (goal_function):  UntargetedClassification\n",
      "  (transformation):  WordSwapMaskedLM(\n",
      "    (method):  bae\n",
      "    (masked_lm_name):  BertForMaskedLM\n",
      "    (max_length):  512\n",
      "    (max_candidates):  50\n",
      "    (min_confidence):  0.0\n",
      "  )\n",
      "  (constraints): \n",
      "    (0): PartOfSpeech(\n",
      "        (tagger_type):  nltk\n",
      "        (tagset):  universal\n",
      "        (allow_verb_noun_swap):  True\n",
      "        (compare_against_original):  True\n",
      "      )\n",
      "    (1): UniversalSentenceEncoder(\n",
      "        (metric):  cosine\n",
      "        (threshold):  0.936338023\n",
      "        (window_size):  15\n",
      "        (skip_text_shorter_than_window):  True\n",
      "        (compare_against_original):  True\n",
      "      )\n",
      "    (2): RepeatModification\n",
      "    (3): StopwordModification\n",
      "  (is_black_box):  True\n",
      ") \n",
      "\n",
      "\n",
      "\n",
      "=============================================================================================================================\n",
      "=============================================================================================================================\n",
      "\n",
      "\n",
      "\n",
      "=============================================================================================================================\n",
      "=============================================================================================================================\n",
      "\n",
      "\n",
      "\n",
      "=============================================================================================================================\n",
      "=============================================================================================================================\n",
      "\n",
      "\n",
      "\n",
      "=============================================================================================================================\n",
      "=============================================================================================================================\n",
      "\n",
      "\n",
      "\n",
      "=============================================================================================================================\n",
      "=============================================================================================================================\n",
      "\n",
      "\n",
      "+-------------------------------+--------+\n",
      "| Attack Results                |        |\n",
      "+-------------------------------+--------+\n",
      "| Number of successful attacks: | 358    |\n",
      "| Number of failed attacks:     | 38     |\n",
      "| Number of skipped attacks:    | 104    |\n",
      "| Original accuracy:            | 79.2%  |\n",
      "| Accuracy under attack:        | 7.6%   |\n",
      "| Attack success rate:          | 90.4%  |\n",
      "| Average perturbed word %:     | 18.62% |\n",
      "| Average num. words per input: | 16.93  |\n",
      "| Avg num queries:              | 126.11 |\n",
      "+-------------------------------+--------+\n",
      "CPU times: user 16min 20s, sys: 3min 22s, total: 19min 43s\n",
      "Wall time: 19min 13s\n"
     ]
    },
    {
     "name": "stderr",
     "output_type": "stream",
     "text": [
      "textattack: Logging to CSV at path logRuBaePavlov.csv\n",
      "  0%|          | 0/500 [00:00<?, ?it/s]Using /tmp/tfhub_modules to cache modules.\n",
      "Downloading TF-Hub Module 'https://tfhub.dev/google/universal-sentence-encoder/4'.\n",
      "Downloaded https://tfhub.dev/google/universal-sentence-encoder/4, Total size: 987.47MB\n",
      "Downloaded TF-Hub Module 'https://tfhub.dev/google/universal-sentence-encoder/4'.\n",
      "[Succeeded / Failed / Skipped / Total] 75 / 8 / 17 / 100:  20%|██        | 100/500 [04:19<17:18,  2.60s/it]textattack: Saving checkpoint under \"checkpoints/1640769520021.ta.chkpt\" at 2021-12-29 09:18:40 after 100 attacks.\n",
      "[Succeeded / Failed / Skipped / Total] 154 / 13 / 33 / 200:  40%|████      | 200/500 [08:22<12:33,  2.51s/it]textattack: Saving checkpoint under \"checkpoints/1640769762404.ta.chkpt\" at 2021-12-29 09:22:42 after 200 attacks.\n",
      "[Succeeded / Failed / Skipped / Total] 220 / 21 / 59 / 300:  60%|██████    | 300/500 [11:50<07:53,  2.37s/it]textattack: Saving checkpoint under \"checkpoints/1640769971238.ta.chkpt\" at 2021-12-29 09:26:11 after 300 attacks.\n",
      "[Succeeded / Failed / Skipped / Total] 290 / 32 / 78 / 400:  80%|████████  | 400/500 [16:03<04:00,  2.41s/it]textattack: Saving checkpoint under \"checkpoints/1640770223910.ta.chkpt\" at 2021-12-29 09:30:23 after 400 attacks.\n",
      "[Succeeded / Failed / Skipped / Total] 358 / 38 / 104 / 500: 100%|██████████| 500/500 [19:13<00:00,  2.31s/it]textattack: Saving checkpoint under \"checkpoints/1640770414130.ta.chkpt\" at 2021-12-29 09:33:34 after 500 attacks.\n",
      "[Succeeded / Failed / Skipped / Total] 358 / 38 / 104 / 500: 100%|██████████| 500/500 [19:13<00:00,  2.31s/it]\n"
     ]
    },
    {
     "data": {
      "text/plain": [
       "[<textattack.attack_results.successful_attack_result.SuccessfulAttackResult at 0x7f0081a55e90>,\n",
       " <textattack.attack_results.successful_attack_result.SuccessfulAttackResult at 0x7f0077a6c410>,\n",
       " <textattack.attack_results.successful_attack_result.SuccessfulAttackResult at 0x7f0083f515d0>,\n",
       " <textattack.attack_results.skipped_attack_result.SkippedAttackResult at 0x7f0083e11150>,\n",
       " <textattack.attack_results.failed_attack_result.FailedAttackResult at 0x7f0085018190>,\n",
       " <textattack.attack_results.successful_attack_result.SuccessfulAttackResult at 0x7f007aab9810>,\n",
       " <textattack.attack_results.skipped_attack_result.SkippedAttackResult at 0x7f0083634450>,\n",
       " <textattack.attack_results.successful_attack_result.SuccessfulAttackResult at 0x7f0083e03b90>,\n",
       " <textattack.attack_results.successful_attack_result.SuccessfulAttackResult at 0x7f008466a350>,\n",
       " <textattack.attack_results.successful_attack_result.SuccessfulAttackResult at 0x7f0084864d90>,\n",
       " <textattack.attack_results.successful_attack_result.SuccessfulAttackResult at 0x7f0073e80b10>,\n",
       " <textattack.attack_results.successful_attack_result.SuccessfulAttackResult at 0x7f01a850ae50>,\n",
       " <textattack.attack_results.successful_attack_result.SuccessfulAttackResult at 0x7f0084864b10>,\n",
       " <textattack.attack_results.successful_attack_result.SuccessfulAttackResult at 0x7f0074292f10>,\n",
       " <textattack.attack_results.successful_attack_result.SuccessfulAttackResult at 0x7f0074665750>,\n",
       " <textattack.attack_results.failed_attack_result.FailedAttackResult at 0x7f007463b650>,\n",
       " <textattack.attack_results.successful_attack_result.SuccessfulAttackResult at 0x7f00730cb1d0>,\n",
       " <textattack.attack_results.successful_attack_result.SuccessfulAttackResult at 0x7f0074665850>,\n",
       " <textattack.attack_results.successful_attack_result.SuccessfulAttackResult at 0x7f0079ab06d0>,\n",
       " <textattack.attack_results.successful_attack_result.SuccessfulAttackResult at 0x7f0073d35d50>,\n",
       " <textattack.attack_results.successful_attack_result.SuccessfulAttackResult at 0x7f01a95848d0>,\n",
       " <textattack.attack_results.successful_attack_result.SuccessfulAttackResult at 0x7f007ab7d510>,\n",
       " <textattack.attack_results.skipped_attack_result.SkippedAttackResult at 0x7f00847e0bd0>,\n",
       " <textattack.attack_results.successful_attack_result.SuccessfulAttackResult at 0x7f007bd1fc90>,\n",
       " <textattack.attack_results.failed_attack_result.FailedAttackResult at 0x7f0082663f90>,\n",
       " <textattack.attack_results.skipped_attack_result.SkippedAttackResult at 0x7f0083a30410>,\n",
       " <textattack.attack_results.failed_attack_result.FailedAttackResult at 0x7f0073d35d90>,\n",
       " <textattack.attack_results.failed_attack_result.FailedAttackResult at 0x7f0073d35390>,\n",
       " <textattack.attack_results.successful_attack_result.SuccessfulAttackResult at 0x7f0083e110d0>,\n",
       " <textattack.attack_results.successful_attack_result.SuccessfulAttackResult at 0x7f00844cb5d0>,\n",
       " <textattack.attack_results.skipped_attack_result.SkippedAttackResult at 0x7f00844c7910>,\n",
       " <textattack.attack_results.successful_attack_result.SuccessfulAttackResult at 0x7f0084871550>,\n",
       " <textattack.attack_results.successful_attack_result.SuccessfulAttackResult at 0x7f01a8d671d0>,\n",
       " <textattack.attack_results.successful_attack_result.SuccessfulAttackResult at 0x7f0083e11090>,\n",
       " <textattack.attack_results.successful_attack_result.SuccessfulAttackResult at 0x7f008522f310>,\n",
       " <textattack.attack_results.successful_attack_result.SuccessfulAttackResult at 0x7f00844e2590>,\n",
       " <textattack.attack_results.skipped_attack_result.SkippedAttackResult at 0x7f008466a210>,\n",
       " <textattack.attack_results.skipped_attack_result.SkippedAttackResult at 0x7f00844e2d10>,\n",
       " <textattack.attack_results.skipped_attack_result.SkippedAttackResult at 0x7f008466ac10>,\n",
       " <textattack.attack_results.successful_attack_result.SuccessfulAttackResult at 0x7f008467cf90>,\n",
       " <textattack.attack_results.successful_attack_result.SuccessfulAttackResult at 0x7f0083bf1b90>,\n",
       " <textattack.attack_results.skipped_attack_result.SkippedAttackResult at 0x7f0083bf1bd0>,\n",
       " <textattack.attack_results.successful_attack_result.SuccessfulAttackResult at 0x7f00844c7f50>,\n",
       " <textattack.attack_results.successful_attack_result.SuccessfulAttackResult at 0x7f00844c7190>,\n",
       " <textattack.attack_results.failed_attack_result.FailedAttackResult at 0x7f0083bf1410>,\n",
       " <textattack.attack_results.skipped_attack_result.SkippedAttackResult at 0x7f0083bf1450>,\n",
       " <textattack.attack_results.successful_attack_result.SuccessfulAttackResult at 0x7f008522fb50>,\n",
       " <textattack.attack_results.successful_attack_result.SuccessfulAttackResult at 0x7f00847e06d0>,\n",
       " <textattack.attack_results.successful_attack_result.SuccessfulAttackResult at 0x7f00844e2bd0>,\n",
       " <textattack.attack_results.successful_attack_result.SuccessfulAttackResult at 0x7f008522fbd0>,\n",
       " <textattack.attack_results.skipped_attack_result.SkippedAttackResult at 0x7f00844beb50>,\n",
       " <textattack.attack_results.successful_attack_result.SuccessfulAttackResult at 0x7f00844d5bd0>,\n",
       " <textattack.attack_results.successful_attack_result.SuccessfulAttackResult at 0x7f0073ce0510>,\n",
       " <textattack.attack_results.skipped_attack_result.SkippedAttackResult at 0x7f00844be9d0>,\n",
       " <textattack.attack_results.successful_attack_result.SuccessfulAttackResult at 0x7f00847e0950>,\n",
       " <textattack.attack_results.successful_attack_result.SuccessfulAttackResult at 0x7f00844cbfd0>,\n",
       " <textattack.attack_results.successful_attack_result.SuccessfulAttackResult at 0x7f00844cb0d0>,\n",
       " <textattack.attack_results.skipped_attack_result.SkippedAttackResult at 0x7f00874a7650>,\n",
       " <textattack.attack_results.successful_attack_result.SuccessfulAttackResult at 0x7f008465ba50>,\n",
       " <textattack.attack_results.skipped_attack_result.SkippedAttackResult at 0x7f0084673dd0>,\n",
       " <textattack.attack_results.successful_attack_result.SuccessfulAttackResult at 0x7f008465be10>,\n",
       " <textattack.attack_results.successful_attack_result.SuccessfulAttackResult at 0x7f00847c4850>,\n",
       " <textattack.attack_results.successful_attack_result.SuccessfulAttackResult at 0x7f00730ec5d0>,\n",
       " <textattack.attack_results.successful_attack_result.SuccessfulAttackResult at 0x7f00730eccd0>,\n",
       " <textattack.attack_results.successful_attack_result.SuccessfulAttackResult at 0x7f007290d0d0>,\n",
       " <textattack.attack_results.skipped_attack_result.SkippedAttackResult at 0x7f00730ecf50>,\n",
       " <textattack.attack_results.successful_attack_result.SuccessfulAttackResult at 0x7f00846738d0>,\n",
       " <textattack.attack_results.failed_attack_result.FailedAttackResult at 0x7f0084673790>,\n",
       " <textattack.attack_results.successful_attack_result.SuccessfulAttackResult at 0x7f00816b1410>,\n",
       " <textattack.attack_results.successful_attack_result.SuccessfulAttackResult at 0x7f0083bf1e90>,\n",
       " <textattack.attack_results.successful_attack_result.SuccessfulAttackResult at 0x7f00730ece90>,\n",
       " <textattack.attack_results.successful_attack_result.SuccessfulAttackResult at 0x7f00844c7690>,\n",
       " <textattack.attack_results.skipped_attack_result.SkippedAttackResult at 0x7f0081971790>,\n",
       " <textattack.attack_results.successful_attack_result.SuccessfulAttackResult at 0x7f007408d890>,\n",
       " <textattack.attack_results.failed_attack_result.FailedAttackResult at 0x7f00847c4150>,\n",
       " <textattack.attack_results.successful_attack_result.SuccessfulAttackResult at 0x7f0086283610>,\n",
       " <textattack.attack_results.successful_attack_result.SuccessfulAttackResult at 0x7f00829e1f50>,\n",
       " <textattack.attack_results.successful_attack_result.SuccessfulAttackResult at 0x7f0086904950>,\n",
       " <textattack.attack_results.successful_attack_result.SuccessfulAttackResult at 0x7f00816c4ed0>,\n",
       " <textattack.attack_results.skipped_attack_result.SkippedAttackResult at 0x7f00816c4bd0>,\n",
       " <textattack.attack_results.successful_attack_result.SuccessfulAttackResult at 0x7f0081a68710>,\n",
       " <textattack.attack_results.successful_attack_result.SuccessfulAttackResult at 0x7f0086283f10>,\n",
       " <textattack.attack_results.successful_attack_result.SuccessfulAttackResult at 0x7f00829e1510>,\n",
       " <textattack.attack_results.successful_attack_result.SuccessfulAttackResult at 0x7f00730ecd90>,\n",
       " <textattack.attack_results.successful_attack_result.SuccessfulAttackResult at 0x7f008a6ab110>,\n",
       " <textattack.attack_results.successful_attack_result.SuccessfulAttackResult at 0x7f0083bf7f50>,\n",
       " <textattack.attack_results.successful_attack_result.SuccessfulAttackResult at 0x7f0086927d10>,\n",
       " <textattack.attack_results.successful_attack_result.SuccessfulAttackResult at 0x7f0083bf1a50>,\n",
       " <textattack.attack_results.successful_attack_result.SuccessfulAttackResult at 0x7f0083bf1c10>,\n",
       " <textattack.attack_results.successful_attack_result.SuccessfulAttackResult at 0x7f0083bf1490>,\n",
       " <textattack.attack_results.successful_attack_result.SuccessfulAttackResult at 0x7f0086927690>,\n",
       " <textattack.attack_results.successful_attack_result.SuccessfulAttackResult at 0x7f0083bf12d0>,\n",
       " <textattack.attack_results.successful_attack_result.SuccessfulAttackResult at 0x7f00862833d0>,\n",
       " <textattack.attack_results.successful_attack_result.SuccessfulAttackResult at 0x7f0083bf1f50>,\n",
       " <textattack.attack_results.successful_attack_result.SuccessfulAttackResult at 0x7f008465bcd0>,\n",
       " <textattack.attack_results.successful_attack_result.SuccessfulAttackResult at 0x7f0073ce0410>,\n",
       " <textattack.attack_results.successful_attack_result.SuccessfulAttackResult at 0x7f0085efa910>,\n",
       " <textattack.attack_results.successful_attack_result.SuccessfulAttackResult at 0x7f00862834d0>,\n",
       " <textattack.attack_results.successful_attack_result.SuccessfulAttackResult at 0x7f0085efa710>,\n",
       " <textattack.attack_results.successful_attack_result.SuccessfulAttackResult at 0x7f00829e1c90>,\n",
       " <textattack.attack_results.successful_attack_result.SuccessfulAttackResult at 0x7f00816c4050>,\n",
       " <textattack.attack_results.successful_attack_result.SuccessfulAttackResult at 0x7f0086283250>,\n",
       " <textattack.attack_results.successful_attack_result.SuccessfulAttackResult at 0x7f0087a04650>,\n",
       " <textattack.attack_results.successful_attack_result.SuccessfulAttackResult at 0x7f0083fa7b90>,\n",
       " <textattack.attack_results.successful_attack_result.SuccessfulAttackResult at 0x7f0073ce05d0>,\n",
       " <textattack.attack_results.successful_attack_result.SuccessfulAttackResult at 0x7f0073ce0790>,\n",
       " <textattack.attack_results.successful_attack_result.SuccessfulAttackResult at 0x7f009400f050>,\n",
       " <textattack.attack_results.successful_attack_result.SuccessfulAttackResult at 0x7f00816c4910>,\n",
       " <textattack.attack_results.successful_attack_result.SuccessfulAttackResult at 0x7f008b6fc810>,\n",
       " <textattack.attack_results.failed_attack_result.FailedAttackResult at 0x7f0074458d50>,\n",
       " <textattack.attack_results.successful_attack_result.SuccessfulAttackResult at 0x7f0073ce0890>,\n",
       " <textattack.attack_results.skipped_attack_result.SkippedAttackResult at 0x7f00835d2090>,\n",
       " <textattack.attack_results.successful_attack_result.SuccessfulAttackResult at 0x7f0073f0f290>,\n",
       " <textattack.attack_results.successful_attack_result.SuccessfulAttackResult at 0x7f0081971750>,\n",
       " <textattack.attack_results.skipped_attack_result.SkippedAttackResult at 0x7f0081971450>,\n",
       " <textattack.attack_results.successful_attack_result.SuccessfulAttackResult at 0x7f0073f0fc50>,\n",
       " <textattack.attack_results.successful_attack_result.SuccessfulAttackResult at 0x7f007408d510>,\n",
       " <textattack.attack_results.successful_attack_result.SuccessfulAttackResult at 0x7f0086904690>,\n",
       " <textattack.attack_results.failed_attack_result.FailedAttackResult at 0x7f0083fa7cd0>,\n",
       " <textattack.attack_results.successful_attack_result.SuccessfulAttackResult at 0x7f0083e03850>,\n",
       " <textattack.attack_results.successful_attack_result.SuccessfulAttackResult at 0x7f0073ce0650>,\n",
       " <textattack.attack_results.successful_attack_result.SuccessfulAttackResult at 0x7f0081971210>,\n",
       " <textattack.attack_results.successful_attack_result.SuccessfulAttackResult at 0x7f00816c4290>,\n",
       " <textattack.attack_results.successful_attack_result.SuccessfulAttackResult at 0x7f008dd473d0>,\n",
       " <textattack.attack_results.successful_attack_result.SuccessfulAttackResult at 0x7f008929b8d0>,\n",
       " <textattack.attack_results.successful_attack_result.SuccessfulAttackResult at 0x7f0086283190>,\n",
       " <textattack.attack_results.skipped_attack_result.SkippedAttackResult at 0x7f007408d0d0>,\n",
       " <textattack.attack_results.successful_attack_result.SuccessfulAttackResult at 0x7f00948b7910>,\n",
       " <textattack.attack_results.successful_attack_result.SuccessfulAttackResult at 0x7f0082779c90>,\n",
       " <textattack.attack_results.successful_attack_result.SuccessfulAttackResult at 0x7f0083bf7a50>,\n",
       " <textattack.attack_results.successful_attack_result.SuccessfulAttackResult at 0x7f0074051750>,\n",
       " <textattack.attack_results.successful_attack_result.SuccessfulAttackResult at 0x7f008929b890>,\n",
       " <textattack.attack_results.successful_attack_result.SuccessfulAttackResult at 0x7f009400f550>,\n",
       " <textattack.attack_results.successful_attack_result.SuccessfulAttackResult at 0x7f0081971410>,\n",
       " <textattack.attack_results.successful_attack_result.SuccessfulAttackResult at 0x7f00816c48d0>,\n",
       " <textattack.attack_results.successful_attack_result.SuccessfulAttackResult at 0x7f008f6b6890>,\n",
       " <textattack.attack_results.skipped_attack_result.SkippedAttackResult at 0x7f008f6b6c50>,\n",
       " <textattack.attack_results.successful_attack_result.SuccessfulAttackResult at 0x7f007408d110>,\n",
       " <textattack.attack_results.successful_attack_result.SuccessfulAttackResult at 0x7f0083a30ad0>,\n",
       " <textattack.attack_results.successful_attack_result.SuccessfulAttackResult at 0x7f0083fa7e10>,\n",
       " <textattack.attack_results.successful_attack_result.SuccessfulAttackResult at 0x7f0083bf7c10>,\n",
       " <textattack.attack_results.successful_attack_result.SuccessfulAttackResult at 0x7f00869270d0>,\n",
       " <textattack.attack_results.skipped_attack_result.SkippedAttackResult at 0x7f007408d6d0>,\n",
       " <textattack.attack_results.successful_attack_result.SuccessfulAttackResult at 0x7f0083bf7ad0>,\n",
       " <textattack.attack_results.successful_attack_result.SuccessfulAttackResult at 0x7f0085edbad0>,\n",
       " <textattack.attack_results.successful_attack_result.SuccessfulAttackResult at 0x7f0082b34f10>,\n",
       " <textattack.attack_results.successful_attack_result.SuccessfulAttackResult at 0x7f00816c4cd0>,\n",
       " <textattack.attack_results.successful_attack_result.SuccessfulAttackResult at 0x7f00822ebdd0>,\n",
       " <textattack.attack_results.successful_attack_result.SuccessfulAttackResult at 0x7f0083fa7910>,\n",
       " <textattack.attack_results.skipped_attack_result.SkippedAttackResult at 0x7f0081a0afd0>,\n",
       " <textattack.attack_results.successful_attack_result.SuccessfulAttackResult at 0x7f0097437c90>,\n",
       " <textattack.attack_results.skipped_attack_result.SkippedAttackResult at 0x7f0097437dd0>,\n",
       " <textattack.attack_results.successful_attack_result.SuccessfulAttackResult at 0x7f0083fa7150>,\n",
       " <textattack.attack_results.successful_attack_result.SuccessfulAttackResult at 0x7f0097437750>,\n",
       " <textattack.attack_results.successful_attack_result.SuccessfulAttackResult at 0x7f009400f910>,\n",
       " <textattack.attack_results.successful_attack_result.SuccessfulAttackResult at 0x7f0087a04350>,\n",
       " <textattack.attack_results.successful_attack_result.SuccessfulAttackResult at 0x7f0081bbb810>,\n",
       " <textattack.attack_results.skipped_attack_result.SkippedAttackResult at 0x7f0083bf7210>,\n",
       " <textattack.attack_results.successful_attack_result.SuccessfulAttackResult at 0x7f0087a04490>,\n",
       " <textattack.attack_results.successful_attack_result.SuccessfulAttackResult at 0x7f009400f850>,\n",
       " <textattack.attack_results.successful_attack_result.SuccessfulAttackResult at 0x7f0081bbbf10>,\n",
       " <textattack.attack_results.skipped_attack_result.SkippedAttackResult at 0x7f0081bbb2d0>,\n",
       " <textattack.attack_results.failed_attack_result.FailedAttackResult at 0x7f00948a3f90>,\n",
       " <textattack.attack_results.successful_attack_result.SuccessfulAttackResult at 0x7f008b6fc2d0>,\n",
       " <textattack.attack_results.successful_attack_result.SuccessfulAttackResult at 0x7f0080a3e590>,\n",
       " <textattack.attack_results.successful_attack_result.SuccessfulAttackResult at 0x7f0083a30f50>,\n",
       " <textattack.attack_results.skipped_attack_result.SkippedAttackResult at 0x7f0083a30b50>,\n",
       " <textattack.attack_results.successful_attack_result.SuccessfulAttackResult at 0x7f00948a3410>,\n",
       " <textattack.attack_results.successful_attack_result.SuccessfulAttackResult at 0x7f00829e1690>,\n",
       " <textattack.attack_results.successful_attack_result.SuccessfulAttackResult at 0x7f007408d2d0>,\n",
       " <textattack.attack_results.successful_attack_result.SuccessfulAttackResult at 0x7f00822eb690>,\n",
       " <textattack.attack_results.skipped_attack_result.SkippedAttackResult at 0x7f0086283f90>,\n",
       " <textattack.attack_results.successful_attack_result.SuccessfulAttackResult at 0x7f0086904b90>,\n",
       " <textattack.attack_results.successful_attack_result.SuccessfulAttackResult at 0x7f008b6fcd10>,\n",
       " <textattack.attack_results.successful_attack_result.SuccessfulAttackResult at 0x7f00816c4610>,\n",
       " <textattack.attack_results.successful_attack_result.SuccessfulAttackResult at 0x7f00822eb7d0>,\n",
       " <textattack.attack_results.successful_attack_result.SuccessfulAttackResult at 0x7f008ae4a090>,\n",
       " <textattack.attack_results.skipped_attack_result.SkippedAttackResult at 0x7f008ae4a150>,\n",
       " <textattack.attack_results.successful_attack_result.SuccessfulAttackResult at 0x7f009740b9d0>,\n",
       " <textattack.attack_results.successful_attack_result.SuccessfulAttackResult at 0x7f00816c4710>,\n",
       " <textattack.attack_results.successful_attack_result.SuccessfulAttackResult at 0x7f009740bf10>,\n",
       " <textattack.attack_results.skipped_attack_result.SkippedAttackResult at 0x7f009740b250>,\n",
       " <textattack.attack_results.skipped_attack_result.SkippedAttackResult at 0x7f009740bb10>,\n",
       " <textattack.attack_results.skipped_attack_result.SkippedAttackResult at 0x7f009740b610>,\n",
       " <textattack.attack_results.failed_attack_result.FailedAttackResult at 0x7f00829e11d0>,\n",
       " <textattack.attack_results.successful_attack_result.SuccessfulAttackResult at 0x7f0083bf7490>,\n",
       " <textattack.attack_results.successful_attack_result.SuccessfulAttackResult at 0x7f0081971810>,\n",
       " <textattack.attack_results.successful_attack_result.SuccessfulAttackResult at 0x7f009740b510>,\n",
       " <textattack.attack_results.successful_attack_result.SuccessfulAttackResult at 0x7f0081971150>,\n",
       " <textattack.attack_results.successful_attack_result.SuccessfulAttackResult at 0x7f00822ebf90>,\n",
       " <textattack.attack_results.successful_attack_result.SuccessfulAttackResult at 0x7f00819718d0>,\n",
       " <textattack.attack_results.successful_attack_result.SuccessfulAttackResult at 0x7f0086283750>,\n",
       " <textattack.attack_results.skipped_attack_result.SkippedAttackResult at 0x7f008a2acb50>,\n",
       " <textattack.attack_results.failed_attack_result.FailedAttackResult at 0x7f0082b34490>,\n",
       " <textattack.attack_results.successful_attack_result.SuccessfulAttackResult at 0x7f0072b2c150>,\n",
       " <textattack.attack_results.successful_attack_result.SuccessfulAttackResult at 0x7f00829e1b90>,\n",
       " <textattack.attack_results.successful_attack_result.SuccessfulAttackResult at 0x7f0081971fd0>,\n",
       " <textattack.attack_results.successful_attack_result.SuccessfulAttackResult at 0x7f0086927790>,\n",
       " <textattack.attack_results.successful_attack_result.SuccessfulAttackResult at 0x7f0081971b10>,\n",
       " <textattack.attack_results.successful_attack_result.SuccessfulAttackResult at 0x7f0072b2c510>,\n",
       " <textattack.attack_results.successful_attack_result.SuccessfulAttackResult at 0x7f0086927810>,\n",
       " <textattack.attack_results.skipped_attack_result.SkippedAttackResult at 0x7f0086927a10>,\n",
       " <textattack.attack_results.skipped_attack_result.SkippedAttackResult at 0x7f0086927f50>,\n",
       " <textattack.attack_results.successful_attack_result.SuccessfulAttackResult at 0x7f0082b34710>,\n",
       " <textattack.attack_results.successful_attack_result.SuccessfulAttackResult at 0x7f0074051290>,\n",
       " <textattack.attack_results.skipped_attack_result.SkippedAttackResult at 0x7f00740518d0>,\n",
       " <textattack.attack_results.successful_attack_result.SuccessfulAttackResult at 0x7f008f6b6ad0>,\n",
       " <textattack.attack_results.successful_attack_result.SuccessfulAttackResult at 0x7f0083a30310>,\n",
       " <textattack.attack_results.successful_attack_result.SuccessfulAttackResult at 0x7f0083a30ed0>,\n",
       " <textattack.attack_results.skipped_attack_result.SkippedAttackResult at 0x7f008c5ac890>,\n",
       " <textattack.attack_results.failed_attack_result.FailedAttackResult at 0x7f0082779bd0>,\n",
       " <textattack.attack_results.successful_attack_result.SuccessfulAttackResult at 0x7f0074051a50>,\n",
       " <textattack.attack_results.successful_attack_result.SuccessfulAttackResult at 0x7f008f6b6250>,\n",
       " <textattack.attack_results.successful_attack_result.SuccessfulAttackResult at 0x7f00822ebd10>,\n",
       " <textattack.attack_results.successful_attack_result.SuccessfulAttackResult at 0x7f0074051510>,\n",
       " <textattack.attack_results.successful_attack_result.SuccessfulAttackResult at 0x7f0074051450>,\n",
       " <textattack.attack_results.successful_attack_result.SuccessfulAttackResult at 0x7f0086927f90>,\n",
       " <textattack.attack_results.skipped_attack_result.SkippedAttackResult at 0x7f008f6b6150>,\n",
       " <textattack.attack_results.failed_attack_result.FailedAttackResult at 0x7f0086927950>,\n",
       " <textattack.attack_results.successful_attack_result.SuccessfulAttackResult at 0x7f0072b2c0d0>,\n",
       " <textattack.attack_results.skipped_attack_result.SkippedAttackResult at 0x7f0081a0af10>,\n",
       " <textattack.attack_results.successful_attack_result.SuccessfulAttackResult at 0x7f0074051d90>,\n",
       " <textattack.attack_results.skipped_attack_result.SkippedAttackResult at 0x7f008a6abf10>,\n",
       " <textattack.attack_results.successful_attack_result.SuccessfulAttackResult at 0x7f0080a3ec50>,\n",
       " <textattack.attack_results.skipped_attack_result.SkippedAttackResult at 0x7f0080a3ef90>,\n",
       " <textattack.attack_results.successful_attack_result.SuccessfulAttackResult at 0x7f0083634490>,\n",
       " <textattack.attack_results.successful_attack_result.SuccessfulAttackResult at 0x7f0072b2c190>,\n",
       " <textattack.attack_results.skipped_attack_result.SkippedAttackResult at 0x7f008c5ac490>,\n",
       " <textattack.attack_results.failed_attack_result.FailedAttackResult at 0x7f0083634ed0>,\n",
       " <textattack.attack_results.successful_attack_result.SuccessfulAttackResult at 0x7f00948a3d10>,\n",
       " <textattack.attack_results.successful_attack_result.SuccessfulAttackResult at 0x7f008ae4a110>,\n",
       " <textattack.attack_results.successful_attack_result.SuccessfulAttackResult at 0x7f008b6fced0>,\n",
       " <textattack.attack_results.skipped_attack_result.SkippedAttackResult at 0x7f008b6fcfd0>,\n",
       " <textattack.attack_results.successful_attack_result.SuccessfulAttackResult at 0x7f0082b342d0>,\n",
       " <textattack.attack_results.successful_attack_result.SuccessfulAttackResult at 0x7f0083634310>,\n",
       " <textattack.attack_results.failed_attack_result.FailedAttackResult at 0x7f00874a7150>,\n",
       " <textattack.attack_results.successful_attack_result.SuccessfulAttackResult at 0x7f008b6fce50>,\n",
       " <textattack.attack_results.skipped_attack_result.SkippedAttackResult at 0x7f008b6fc650>,\n",
       " <textattack.attack_results.successful_attack_result.SuccessfulAttackResult at 0x7f008a6abf50>,\n",
       " <textattack.attack_results.successful_attack_result.SuccessfulAttackResult at 0x7f008b6fcc90>,\n",
       " <textattack.attack_results.successful_attack_result.SuccessfulAttackResult at 0x7f0081a0a9d0>,\n",
       " <textattack.attack_results.successful_attack_result.SuccessfulAttackResult at 0x7f0087a04790>,\n",
       " <textattack.attack_results.failed_attack_result.FailedAttackResult at 0x7f0085a56f90>,\n",
       " <textattack.attack_results.failed_attack_result.FailedAttackResult at 0x7f00838d7d50>,\n",
       " <textattack.attack_results.skipped_attack_result.SkippedAttackResult at 0x7f00838d73d0>,\n",
       " <textattack.attack_results.skipped_attack_result.SkippedAttackResult at 0x7f00838d7a50>,\n",
       " <textattack.attack_results.successful_attack_result.SuccessfulAttackResult at 0x7f00836346d0>,\n",
       " <textattack.attack_results.successful_attack_result.SuccessfulAttackResult at 0x7f0086283690>,\n",
       " <textattack.attack_results.skipped_attack_result.SkippedAttackResult at 0x7f0085efa250>,\n",
       " <textattack.attack_results.successful_attack_result.SuccessfulAttackResult at 0x7f00835d2310>,\n",
       " <textattack.attack_results.successful_attack_result.SuccessfulAttackResult at 0x7f0082779a50>,\n",
       " <textattack.attack_results.skipped_attack_result.SkippedAttackResult at 0x7f0082779410>,\n",
       " <textattack.attack_results.successful_attack_result.SuccessfulAttackResult at 0x7f00948b7c90>,\n",
       " <textattack.attack_results.successful_attack_result.SuccessfulAttackResult at 0x7f008ae4a0d0>,\n",
       " <textattack.attack_results.skipped_attack_result.SkippedAttackResult at 0x7f008ae4a550>,\n",
       " <textattack.attack_results.successful_attack_result.SuccessfulAttackResult at 0x7f008a6ab2d0>,\n",
       " <textattack.attack_results.successful_attack_result.SuccessfulAttackResult at 0x7f008a2acd10>,\n",
       " <textattack.attack_results.successful_attack_result.SuccessfulAttackResult at 0x7f00869044d0>,\n",
       " <textattack.attack_results.successful_attack_result.SuccessfulAttackResult at 0x7f009400f090>,\n",
       " <textattack.attack_results.skipped_attack_result.SkippedAttackResult at 0x7f009400f390>,\n",
       " <textattack.attack_results.successful_attack_result.SuccessfulAttackResult at 0x7f0086904a10>,\n",
       " <textattack.attack_results.skipped_attack_result.SkippedAttackResult at 0x7f008f6b6650>,\n",
       " <textattack.attack_results.successful_attack_result.SuccessfulAttackResult at 0x7f008e211ad0>,\n",
       " <textattack.attack_results.successful_attack_result.SuccessfulAttackResult at 0x7f008929b510>,\n",
       " <textattack.attack_results.successful_attack_result.SuccessfulAttackResult at 0x7f00948b7690>,\n",
       " <textattack.attack_results.successful_attack_result.SuccessfulAttackResult at 0x7f0081bbb450>,\n",
       " <textattack.attack_results.successful_attack_result.SuccessfulAttackResult at 0x7f0087a04610>,\n",
       " <textattack.attack_results.successful_attack_result.SuccessfulAttackResult at 0x7f008c5ac250>,\n",
       " <textattack.attack_results.successful_attack_result.SuccessfulAttackResult at 0x7f00822eb4d0>,\n",
       " <textattack.attack_results.skipped_attack_result.SkippedAttackResult at 0x7f0081bbb5d0>,\n",
       " <textattack.attack_results.successful_attack_result.SuccessfulAttackResult at 0x7f008468b9d0>,\n",
       " <textattack.attack_results.successful_attack_result.SuccessfulAttackResult at 0x7f00829e1d10>,\n",
       " <textattack.attack_results.successful_attack_result.SuccessfulAttackResult at 0x7f00822ebb50>,\n",
       " <textattack.attack_results.successful_attack_result.SuccessfulAttackResult at 0x7f00838d7510>,\n",
       " <textattack.attack_results.skipped_attack_result.SkippedAttackResult at 0x7f00838d7990>,\n",
       " <textattack.attack_results.successful_attack_result.SuccessfulAttackResult at 0x7f0087a04a10>,\n",
       " <textattack.attack_results.successful_attack_result.SuccessfulAttackResult at 0x7f008f6b66d0>,\n",
       " <textattack.attack_results.successful_attack_result.SuccessfulAttackResult at 0x7f00829e1490>,\n",
       " <textattack.attack_results.skipped_attack_result.SkippedAttackResult at 0x7f00829e1d90>,\n",
       " <textattack.attack_results.successful_attack_result.SuccessfulAttackResult at 0x7f008b6fcb50>,\n",
       " <textattack.attack_results.skipped_attack_result.SkippedAttackResult at 0x7f0081a0a910>,\n",
       " <textattack.attack_results.successful_attack_result.SuccessfulAttackResult at 0x7f008b6fc750>,\n",
       " <textattack.attack_results.skipped_attack_result.SkippedAttackResult at 0x7f00948b73d0>,\n",
       " <textattack.attack_results.successful_attack_result.SuccessfulAttackResult at 0x7f00948a3250>,\n",
       " <textattack.attack_results.skipped_attack_result.SkippedAttackResult at 0x7f00948a3650>,\n",
       " <textattack.attack_results.successful_attack_result.SuccessfulAttackResult at 0x7f0082779790>,\n",
       " <textattack.attack_results.successful_attack_result.SuccessfulAttackResult at 0x7f0082b348d0>,\n",
       " <textattack.attack_results.successful_attack_result.SuccessfulAttackResult at 0x7f00948a3a50>,\n",
       " <textattack.attack_results.successful_attack_result.SuccessfulAttackResult at 0x7f0082b34e50>,\n",
       " <textattack.attack_results.successful_attack_result.SuccessfulAttackResult at 0x7f008f6b6410>,\n",
       " <textattack.attack_results.successful_attack_result.SuccessfulAttackResult at 0x7f0085ed2cd0>,\n",
       " <textattack.attack_results.skipped_attack_result.SkippedAttackResult at 0x7f0085ed2dd0>,\n",
       " <textattack.attack_results.skipped_attack_result.SkippedAttackResult at 0x7f0085ed2ad0>,\n",
       " <textattack.attack_results.failed_attack_result.FailedAttackResult at 0x7f008f6b6b50>,\n",
       " <textattack.attack_results.successful_attack_result.SuccessfulAttackResult at 0x7f0082b349d0>,\n",
       " <textattack.attack_results.successful_attack_result.SuccessfulAttackResult at 0x7f0082779a90>,\n",
       " <textattack.attack_results.successful_attack_result.SuccessfulAttackResult at 0x7f008f6b6390>,\n",
       " <textattack.attack_results.successful_attack_result.SuccessfulAttackResult at 0x7f0082779a10>,\n",
       " <textattack.attack_results.successful_attack_result.SuccessfulAttackResult at 0x7f0081db04d0>,\n",
       " <textattack.attack_results.failed_attack_result.FailedAttackResult at 0x7f0082779d50>,\n",
       " <textattack.attack_results.successful_attack_result.SuccessfulAttackResult at 0x7f008d1ba4d0>,\n",
       " <textattack.attack_results.successful_attack_result.SuccessfulAttackResult at 0x7f0082b34a90>,\n",
       " <textattack.attack_results.successful_attack_result.SuccessfulAttackResult at 0x7f0082b34d90>,\n",
       " <textattack.attack_results.successful_attack_result.SuccessfulAttackResult at 0x7f008ff4c710>,\n",
       " <textattack.attack_results.failed_attack_result.FailedAttackResult at 0x7f0081bbb590>,\n",
       " <textattack.attack_results.successful_attack_result.SuccessfulAttackResult at 0x7f008300cc90>,\n",
       " <textattack.attack_results.successful_attack_result.SuccessfulAttackResult at 0x7f008a6ab210>,\n",
       " <textattack.attack_results.successful_attack_result.SuccessfulAttackResult at 0x7f008a6ab790>,\n",
       " <textattack.attack_results.successful_attack_result.SuccessfulAttackResult at 0x7f008c5ac510>,\n",
       " <textattack.attack_results.successful_attack_result.SuccessfulAttackResult at 0x7f0081bbb110>,\n",
       " <textattack.attack_results.successful_attack_result.SuccessfulAttackResult at 0x7f008a6abed0>,\n",
       " <textattack.attack_results.successful_attack_result.SuccessfulAttackResult at 0x7f008c5acb50>,\n",
       " <textattack.attack_results.failed_attack_result.FailedAttackResult at 0x7f00874a7f90>,\n",
       " <textattack.attack_results.failed_attack_result.FailedAttackResult at 0x7f00948b79d0>,\n",
       " <textattack.attack_results.successful_attack_result.SuccessfulAttackResult at 0x7f0080d19050>,\n",
       " <textattack.attack_results.successful_attack_result.SuccessfulAttackResult at 0x7f00948b76d0>,\n",
       " <textattack.attack_results.successful_attack_result.SuccessfulAttackResult at 0x7f0080d19790>,\n",
       " <textattack.attack_results.skipped_attack_result.SkippedAttackResult at 0x7f0080d19350>,\n",
       " <textattack.attack_results.successful_attack_result.SuccessfulAttackResult at 0x7f00948b7e90>,\n",
       " <textattack.attack_results.skipped_attack_result.SkippedAttackResult at 0x7f00948b72d0>,\n",
       " <textattack.attack_results.successful_attack_result.SuccessfulAttackResult at 0x7f00948b75d0>,\n",
       " <textattack.attack_results.successful_attack_result.SuccessfulAttackResult at 0x7f0094340a90>,\n",
       " <textattack.attack_results.successful_attack_result.SuccessfulAttackResult at 0x7f0097437d50>,\n",
       " <textattack.attack_results.skipped_attack_result.SkippedAttackResult at 0x7f00974376d0>,\n",
       " <textattack.attack_results.successful_attack_result.SuccessfulAttackResult at 0x7f00948b7550>,\n",
       " <textattack.attack_results.successful_attack_result.SuccessfulAttackResult at 0x7f0097437a90>,\n",
       " <textattack.attack_results.skipped_attack_result.SkippedAttackResult at 0x7f0097437510>,\n",
       " <textattack.attack_results.skipped_attack_result.SkippedAttackResult at 0x7f00948b7ad0>,\n",
       " <textattack.attack_results.successful_attack_result.SuccessfulAttackResult at 0x7f00874a7110>,\n",
       " <textattack.attack_results.successful_attack_result.SuccessfulAttackResult at 0x7f00974370d0>,\n",
       " <textattack.attack_results.successful_attack_result.SuccessfulAttackResult at 0x7f00874a7d10>,\n",
       " <textattack.attack_results.successful_attack_result.SuccessfulAttackResult at 0x7f0097437f10>,\n",
       " <textattack.attack_results.successful_attack_result.SuccessfulAttackResult at 0x7f0097437050>,\n",
       " <textattack.attack_results.successful_attack_result.SuccessfulAttackResult at 0x7f008d1ba7d0>,\n",
       " <textattack.attack_results.successful_attack_result.SuccessfulAttackResult at 0x7f00838d7210>,\n",
       " <textattack.attack_results.skipped_attack_result.SkippedAttackResult at 0x7f009400f2d0>,\n",
       " <textattack.attack_results.successful_attack_result.SuccessfulAttackResult at 0x7f009400f490>,\n",
       " <textattack.attack_results.successful_attack_result.SuccessfulAttackResult at 0x7f0085efa810>,\n",
       " <textattack.attack_results.successful_attack_result.SuccessfulAttackResult at 0x7f009400f9d0>,\n",
       " <textattack.attack_results.successful_attack_result.SuccessfulAttackResult at 0x7f0085efa8d0>,\n",
       " <textattack.attack_results.successful_attack_result.SuccessfulAttackResult at 0x7f0085a561d0>,\n",
       " <textattack.attack_results.skipped_attack_result.SkippedAttackResult at 0x7f0085a56510>,\n",
       " <textattack.attack_results.skipped_attack_result.SkippedAttackResult at 0x7f0085a56b50>,\n",
       " <textattack.attack_results.successful_attack_result.SuccessfulAttackResult at 0x7f00838d7310>,\n",
       " <textattack.attack_results.successful_attack_result.SuccessfulAttackResult at 0x7f00838d7d90>,\n",
       " <textattack.attack_results.successful_attack_result.SuccessfulAttackResult at 0x7f00838d78d0>,\n",
       " <textattack.attack_results.successful_attack_result.SuccessfulAttackResult at 0x7f0085efa890>,\n",
       " <textattack.attack_results.successful_attack_result.SuccessfulAttackResult at 0x7f008a6ab0d0>,\n",
       " <textattack.attack_results.successful_attack_result.SuccessfulAttackResult at 0x7f008a6ab650>,\n",
       " <textattack.attack_results.successful_attack_result.SuccessfulAttackResult at 0x7f009740b990>,\n",
       " <textattack.attack_results.successful_attack_result.SuccessfulAttackResult at 0x7f008a6ab450>,\n",
       " <textattack.attack_results.successful_attack_result.SuccessfulAttackResult at 0x7f008d1ba290>,\n",
       " <textattack.attack_results.skipped_attack_result.SkippedAttackResult at 0x7f008d1baa90>,\n",
       " <textattack.attack_results.successful_attack_result.SuccessfulAttackResult at 0x7f008c5acb10>,\n",
       " <textattack.attack_results.successful_attack_result.SuccessfulAttackResult at 0x7f0087564250>,\n",
       " <textattack.attack_results.successful_attack_result.SuccessfulAttackResult at 0x7f0098785d50>,\n",
       " <textattack.attack_results.successful_attack_result.SuccessfulAttackResult at 0x7f008ae4a510>,\n",
       " <textattack.attack_results.successful_attack_result.SuccessfulAttackResult at 0x7f0097437550>,\n",
       " <textattack.attack_results.successful_attack_result.SuccessfulAttackResult at 0x7f008c5ac390>,\n",
       " <textattack.attack_results.skipped_attack_result.SkippedAttackResult at 0x7f009740b1d0>,\n",
       " <textattack.attack_results.failed_attack_result.FailedAttackResult at 0x7f00965961d0>,\n",
       " <textattack.attack_results.successful_attack_result.SuccessfulAttackResult at 0x7f008da21a90>,\n",
       " <textattack.attack_results.successful_attack_result.SuccessfulAttackResult at 0x7f009454ea50>,\n",
       " <textattack.attack_results.successful_attack_result.SuccessfulAttackResult at 0x7f008d1bae10>,\n",
       " <textattack.attack_results.skipped_attack_result.SkippedAttackResult at 0x7f008d1ba510>,\n",
       " <textattack.attack_results.successful_attack_result.SuccessfulAttackResult at 0x7f008d1baf10>,\n",
       " <textattack.attack_results.successful_attack_result.SuccessfulAttackResult at 0x7f00948afc90>,\n",
       " <textattack.attack_results.successful_attack_result.SuccessfulAttackResult at 0x7f008d1baa10>,\n",
       " <textattack.attack_results.successful_attack_result.SuccessfulAttackResult at 0x7f0087a04e50>,\n",
       " <textattack.attack_results.successful_attack_result.SuccessfulAttackResult at 0x7f00948af790>,\n",
       " <textattack.attack_results.failed_attack_result.FailedAttackResult at 0x7f008929b990>,\n",
       " <textattack.attack_results.failed_attack_result.FailedAttackResult at 0x7f0085ed2190>,\n",
       " <textattack.attack_results.successful_attack_result.SuccessfulAttackResult at 0x7f00835d2ed0>,\n",
       " <textattack.attack_results.successful_attack_result.SuccessfulAttackResult at 0x7f008929bf50>,\n",
       " <textattack.attack_results.failed_attack_result.FailedAttackResult at 0x7f0087a049d0>,\n",
       " <textattack.attack_results.successful_attack_result.SuccessfulAttackResult at 0x7f008929b3d0>,\n",
       " <textattack.attack_results.successful_attack_result.SuccessfulAttackResult at 0x7f008929bfd0>,\n",
       " <textattack.attack_results.failed_attack_result.FailedAttackResult at 0x7f0087564dd0>,\n",
       " <textattack.attack_results.skipped_attack_result.SkippedAttackResult at 0x7f0087564ed0>,\n",
       " <textattack.attack_results.successful_attack_result.SuccessfulAttackResult at 0x7f008da21190>,\n",
       " <textattack.attack_results.skipped_attack_result.SkippedAttackResult at 0x7f008da21d90>,\n",
       " <textattack.attack_results.successful_attack_result.SuccessfulAttackResult at 0x7f008e211b50>,\n",
       " <textattack.attack_results.successful_attack_result.SuccessfulAttackResult at 0x7f0081a0a6d0>,\n",
       " <textattack.attack_results.skipped_attack_result.SkippedAttackResult at 0x7f0087a04c10>,\n",
       " <textattack.attack_results.skipped_attack_result.SkippedAttackResult at 0x7f0081a0a410>,\n",
       " <textattack.attack_results.skipped_attack_result.SkippedAttackResult at 0x7f0081a0aa10>,\n",
       " <textattack.attack_results.skipped_attack_result.SkippedAttackResult at 0x7f0094340410>,\n",
       " <textattack.attack_results.successful_attack_result.SuccessfulAttackResult at 0x7f0087564550>,\n",
       " <textattack.attack_results.successful_attack_result.SuccessfulAttackResult at 0x7f0081a0a4d0>,\n",
       " <textattack.attack_results.successful_attack_result.SuccessfulAttackResult at 0x7f00948a36d0>,\n",
       " <textattack.attack_results.successful_attack_result.SuccessfulAttackResult at 0x7f008929bd50>,\n",
       " <textattack.attack_results.failed_attack_result.FailedAttackResult at 0x7f0084e24690>,\n",
       " <textattack.attack_results.failed_attack_result.FailedAttackResult at 0x7f00948a33d0>,\n",
       " <textattack.attack_results.skipped_attack_result.SkippedAttackResult at 0x7f008da21590>,\n",
       " <textattack.attack_results.successful_attack_result.SuccessfulAttackResult at 0x7f00989c89d0>,\n",
       " <textattack.attack_results.successful_attack_result.SuccessfulAttackResult at 0x7f008e211c50>,\n",
       " <textattack.attack_results.failed_attack_result.FailedAttackResult at 0x7f008ae663d0>,\n",
       " <textattack.attack_results.successful_attack_result.SuccessfulAttackResult at 0x7f00899781d0>,\n",
       " <textattack.attack_results.successful_attack_result.SuccessfulAttackResult at 0x7f008dd47690>,\n",
       " <textattack.attack_results.skipped_attack_result.SkippedAttackResult at 0x7f008dd47750>,\n",
       " <textattack.attack_results.skipped_attack_result.SkippedAttackResult at 0x7f00855aac90>,\n",
       " <textattack.attack_results.skipped_attack_result.SkippedAttackResult at 0x7f00855aabd0>,\n",
       " <textattack.attack_results.skipped_attack_result.SkippedAttackResult at 0x7f0098755fd0>,\n",
       " <textattack.attack_results.successful_attack_result.SuccessfulAttackResult at 0x7f008ae4ad90>,\n",
       " <textattack.attack_results.successful_attack_result.SuccessfulAttackResult at 0x7f008ae7cf50>,\n",
       " <textattack.attack_results.skipped_attack_result.SkippedAttackResult at 0x7f008ae7c650>,\n",
       " <textattack.attack_results.successful_attack_result.SuccessfulAttackResult at 0x7f009740b7d0>,\n",
       " <textattack.attack_results.successful_attack_result.SuccessfulAttackResult at 0x7f009740bed0>,\n",
       " <textattack.attack_results.successful_attack_result.SuccessfulAttackResult at 0x7f008e211690>,\n",
       " <textattack.attack_results.successful_attack_result.SuccessfulAttackResult at 0x7f008e211d90>,\n",
       " <textattack.attack_results.successful_attack_result.SuccessfulAttackResult at 0x7f0085a56890>,\n",
       " <textattack.attack_results.successful_attack_result.SuccessfulAttackResult at 0x7f008ae661d0>,\n",
       " <textattack.attack_results.successful_attack_result.SuccessfulAttackResult at 0x7f009847e3d0>,\n",
       " <textattack.attack_results.successful_attack_result.SuccessfulAttackResult at 0x7f00835b3710>,\n",
       " <textattack.attack_results.successful_attack_result.SuccessfulAttackResult at 0x7f008ae66b50>,\n",
       " <textattack.attack_results.successful_attack_result.SuccessfulAttackResult at 0x7f00838e3110>,\n",
       " <textattack.attack_results.failed_attack_result.FailedAttackResult at 0x7f00835b3b10>,\n",
       " <textattack.attack_results.successful_attack_result.SuccessfulAttackResult at 0x7f009740b450>,\n",
       " <textattack.attack_results.successful_attack_result.SuccessfulAttackResult at 0x7f0080a3ef10>,\n",
       " <textattack.attack_results.skipped_attack_result.SkippedAttackResult at 0x7f0080a3ee90>,\n",
       " <textattack.attack_results.failed_attack_result.FailedAttackResult at 0x7f009740b890>,\n",
       " <textattack.attack_results.successful_attack_result.SuccessfulAttackResult at 0x7f008dd47990>,\n",
       " <textattack.attack_results.failed_attack_result.FailedAttackResult at 0x7f008a2acd90>,\n",
       " <textattack.attack_results.successful_attack_result.SuccessfulAttackResult at 0x7f008dd47ad0>,\n",
       " <textattack.attack_results.skipped_attack_result.SkippedAttackResult at 0x7f008dd476d0>,\n",
       " <textattack.attack_results.skipped_attack_result.SkippedAttackResult at 0x7f008dd47bd0>,\n",
       " <textattack.attack_results.successful_attack_result.SuccessfulAttackResult at 0x7f00838e3ad0>,\n",
       " <textattack.attack_results.failed_attack_result.FailedAttackResult at 0x7f008aa08bd0>,\n",
       " <textattack.attack_results.successful_attack_result.SuccessfulAttackResult at 0x7f0080a3e990>,\n",
       " <textattack.attack_results.successful_attack_result.SuccessfulAttackResult at 0x7f0094459990>,\n",
       " <textattack.attack_results.successful_attack_result.SuccessfulAttackResult at 0x7f008da21f50>,\n",
       " <textattack.attack_results.successful_attack_result.SuccessfulAttackResult at 0x7f0089978c50>,\n",
       " <textattack.attack_results.successful_attack_result.SuccessfulAttackResult at 0x7f0094459050>,\n",
       " <textattack.attack_results.successful_attack_result.SuccessfulAttackResult at 0x7f008ae4a990>,\n",
       " <textattack.attack_results.successful_attack_result.SuccessfulAttackResult at 0x7f009400f0d0>,\n",
       " <textattack.attack_results.successful_attack_result.SuccessfulAttackResult at 0x7f0086fa3bd0>,\n",
       " <textattack.attack_results.skipped_attack_result.SkippedAttackResult at 0x7f0086fa3e90>,\n",
       " <textattack.attack_results.successful_attack_result.SuccessfulAttackResult at 0x7f009400f410>,\n",
       " <textattack.attack_results.successful_attack_result.SuccessfulAttackResult at 0x7f009446f6d0>,\n",
       " <textattack.attack_results.successful_attack_result.SuccessfulAttackResult at 0x7f0081db0090>,\n",
       " <textattack.attack_results.failed_attack_result.FailedAttackResult at 0x7f0096053510>,\n",
       " <textattack.attack_results.successful_attack_result.SuccessfulAttackResult at 0x7f008a2ac5d0>,\n",
       " <textattack.attack_results.successful_attack_result.SuccessfulAttackResult at 0x7f008dd47e50>,\n",
       " <textattack.attack_results.successful_attack_result.SuccessfulAttackResult at 0x7f008a2ac1d0>,\n",
       " <textattack.attack_results.successful_attack_result.SuccessfulAttackResult at 0x7f0085ed2490>,\n",
       " <textattack.attack_results.successful_attack_result.SuccessfulAttackResult at 0x7f0085ed2c10>,\n",
       " <textattack.attack_results.skipped_attack_result.SkippedAttackResult at 0x7f008a2ace10>,\n",
       " <textattack.attack_results.successful_attack_result.SuccessfulAttackResult at 0x7f0085edba10>,\n",
       " <textattack.attack_results.skipped_attack_result.SkippedAttackResult at 0x7f0085edb750>,\n",
       " <textattack.attack_results.skipped_attack_result.SkippedAttackResult at 0x7f0085ed2410>,\n",
       " <textattack.attack_results.skipped_attack_result.SkippedAttackResult at 0x7f0085edbc50>,\n",
       " <textattack.attack_results.successful_attack_result.SuccessfulAttackResult at 0x7f008dd474d0>,\n",
       " <textattack.attack_results.successful_attack_result.SuccessfulAttackResult at 0x7f0085ed21d0>,\n",
       " <textattack.attack_results.skipped_attack_result.SkippedAttackResult at 0x7f00809c7fd0>,\n",
       " <textattack.attack_results.successful_attack_result.SuccessfulAttackResult at 0x7f008df33710>,\n",
       " <textattack.attack_results.successful_attack_result.SuccessfulAttackResult at 0x7f008bb89a90>,\n",
       " <textattack.attack_results.successful_attack_result.SuccessfulAttackResult at 0x7f0096596350>,\n",
       " <textattack.attack_results.successful_attack_result.SuccessfulAttackResult at 0x7f008dd47c10>,\n",
       " <textattack.attack_results.successful_attack_result.SuccessfulAttackResult at 0x7f0081db0190>,\n",
       " <textattack.attack_results.successful_attack_result.SuccessfulAttackResult at 0x7f0085ed2d50>,\n",
       " <textattack.attack_results.skipped_attack_result.SkippedAttackResult at 0x7f00965966d0>,\n",
       " <textattack.attack_results.successful_attack_result.SuccessfulAttackResult at 0x7f0096053090>,\n",
       " <textattack.attack_results.skipped_attack_result.SkippedAttackResult at 0x7f0096596390>,\n",
       " <textattack.attack_results.skipped_attack_result.SkippedAttackResult at 0x7f0096596250>,\n",
       " <textattack.attack_results.successful_attack_result.SuccessfulAttackResult at 0x7f008ae4a1d0>,\n",
       " <textattack.attack_results.skipped_attack_result.SkippedAttackResult at 0x7f00838e3410>,\n",
       " <textattack.attack_results.successful_attack_result.SuccessfulAttackResult at 0x7f0081db0f90>,\n",
       " <textattack.attack_results.skipped_attack_result.SkippedAttackResult at 0x7f0081db0bd0>,\n",
       " <textattack.attack_results.skipped_attack_result.SkippedAttackResult at 0x7f0096596dd0>,\n",
       " <textattack.attack_results.successful_attack_result.SuccessfulAttackResult at 0x7f00965968d0>,\n",
       " <textattack.attack_results.successful_attack_result.SuccessfulAttackResult at 0x7f00960530d0>,\n",
       " <textattack.attack_results.successful_attack_result.SuccessfulAttackResult at 0x7f0089978310>,\n",
       " <textattack.attack_results.skipped_attack_result.SkippedAttackResult at 0x7f0089978f90>,\n",
       " <textattack.attack_results.successful_attack_result.SuccessfulAttackResult at 0x7f00835b3850>,\n",
       " <textattack.attack_results.successful_attack_result.SuccessfulAttackResult at 0x7f009446f890>,\n",
       " <textattack.attack_results.successful_attack_result.SuccessfulAttackResult at 0x7f0098486b90>,\n",
       " <textattack.attack_results.successful_attack_result.SuccessfulAttackResult at 0x7f00960536d0>,\n",
       " <textattack.attack_results.successful_attack_result.SuccessfulAttackResult at 0x7f0084e1a250>,\n",
       " <textattack.attack_results.successful_attack_result.SuccessfulAttackResult at 0x7f0081db0b50>,\n",
       " <textattack.attack_results.failed_attack_result.FailedAttackResult at 0x7f0084e1a890>,\n",
       " <textattack.attack_results.successful_attack_result.SuccessfulAttackResult at 0x7f0080a3e7d0>,\n",
       " <textattack.attack_results.successful_attack_result.SuccessfulAttackResult at 0x7f0084e1af90>,\n",
       " <textattack.attack_results.successful_attack_result.SuccessfulAttackResult at 0x7f00989c81d0>,\n",
       " <textattack.attack_results.successful_attack_result.SuccessfulAttackResult at 0x7f00855aa750>,\n",
       " <textattack.attack_results.skipped_attack_result.SkippedAttackResult at 0x7f00855aa990>,\n",
       " <textattack.attack_results.successful_attack_result.SuccessfulAttackResult at 0x7f0084e1aad0>,\n",
       " <textattack.attack_results.successful_attack_result.SuccessfulAttackResult at 0x7f008da21f90>,\n",
       " <textattack.attack_results.skipped_attack_result.SkippedAttackResult at 0x7f008da21810>,\n",
       " <textattack.attack_results.successful_attack_result.SuccessfulAttackResult at 0x7f0080a3e250>,\n",
       " <textattack.attack_results.successful_attack_result.SuccessfulAttackResult at 0x7f008477ea10>,\n",
       " <textattack.attack_results.skipped_attack_result.SkippedAttackResult at 0x7f008477e6d0>,\n",
       " <textattack.attack_results.skipped_attack_result.SkippedAttackResult at 0x7f008477e110>,\n",
       " <textattack.attack_results.skipped_attack_result.SkippedAttackResult at 0x7f008477efd0>,\n",
       " <textattack.attack_results.successful_attack_result.SuccessfulAttackResult at 0x7f0086fa34d0>,\n",
       " <textattack.attack_results.successful_attack_result.SuccessfulAttackResult at 0x7f009874dfd0>,\n",
       " <textattack.attack_results.successful_attack_result.SuccessfulAttackResult at 0x7f0094340090>,\n",
       " <textattack.attack_results.successful_attack_result.SuccessfulAttackResult at 0x7f008300c190>,\n",
       " <textattack.attack_results.successful_attack_result.SuccessfulAttackResult at 0x7f00948afad0>,\n",
       " <textattack.attack_results.skipped_attack_result.SkippedAttackResult at 0x7f0080a3e410>,\n",
       " <textattack.attack_results.successful_attack_result.SuccessfulAttackResult at 0x7f0096231ed0>]"
      ]
     },
     "metadata": {},
     "output_type": "display_data"
    }
   ],
   "source": [
    "#!g1.1\n",
    "%%time\n",
    "\n",
    "#запустим бае на основе мультиязычного берта\n",
    "\n",
    "attacker.attack_dataset()"
   ]
  },
  {
   "cell_type": "code",
   "execution_count": 50,
   "metadata": {
    "cellId": "9cdn7zsx7ello94u3dvlq"
   },
   "outputs": [],
   "source": [
    "#!g1.1\n",
    "\n",
    "from textattack.constraints.grammaticality import PartOfSpeech\n",
    "from textattack.constraints.pre_transformation import (\n",
    "    RepeatModification,\n",
    "    StopwordModification,\n",
    ")\n",
    "from textattack.constraints.semantics.sentence_encoders import UniversalSentenceEncoder\n",
    "from textattack.goal_functions import UntargetedClassification\n",
    "from textattack.search_methods import GreedyWordSwapWIR\n",
    "from textattack.transformations import WordSwapMaskedLM\n",
    "\n",
    "from textattack.attack_recipes.attack_recipe import AttackRecipe"
   ]
  },
  {
   "cell_type": "code",
   "execution_count": 58,
   "metadata": {
    "cellId": "bu9r5i5owen8el9e8fo4yt"
   },
   "outputs": [],
   "source": [
    "#!g1.1\n",
    "\n",
    "class BAEGarg2019Pavlov(AttackRecipe):\n",
    "    \"\"\"Siddhant Garg and Goutham Ramakrishnan, 2019.\n",
    "    BAE: BERT-based Adversarial Examples for Text Classification.\n",
    "    https://arxiv.org/pdf/2004.01970\n",
    "    This is \"attack mode\" 1 from the paper, BAE-R, word replacement.\n",
    "    We present 4 attack modes for BAE based on the\n",
    "        R and I operations, where for each token t in S:\n",
    "        • BAE-R: Replace token t (See Algorithm 1)\n",
    "        • BAE-I: Insert a token to the left or right of t\n",
    "        • BAE-R/I: Either replace token t or insert a\n",
    "        token to the left or right of t\n",
    "        • BAE-R+I: First replace token t, then insert a\n",
    "        token to the left or right of t\n",
    "    \"\"\"\n",
    "\n",
    "    @staticmethod\n",
    "    def build(model_wrapper):\n",
    "        # \"In this paper, we present a simple yet novel technique: BAE (BERT-based\n",
    "        # Adversarial Examples), which uses a language model (LM) for token\n",
    "        # replacement to best fit the overall context. We perturb an input sentence\n",
    "        # by either replacing a token or inserting a new token in the sentence, by\n",
    "        # means of masking a part of the input and using a LM to fill in the mask.\"\n",
    "        #\n",
    "        # We only consider the top K=50 synonyms from the MLM predictions.\n",
    "        #\n",
    "        # [from email correspondance with the author]\n",
    "        # \"When choosing the top-K candidates from the BERT masked LM, we filter out\n",
    "        # the sub-words and only retain the whole words (by checking if they are\n",
    "        # present in the GloVE vocabulary)\"\n",
    "        #\n",
    "        transformation = WordSwapMaskedLM(\n",
    "            method=\"bae\", masked_language_model=\"DeepPavlov/rubert-base-cased\", max_candidates=50, min_confidence=0.0\n",
    "        )\n",
    "        #\n",
    "        # Don't modify the same word twice or stopwords.\n",
    "        #\n",
    "        constraints = [RepeatModification(), StopwordModification()]\n",
    "\n",
    "        # For the R operations we add an additional check for\n",
    "        # grammatical correctness of the generated adversarial example by filtering\n",
    "        # out predicted tokens that do not form the same part of speech (POS) as the\n",
    "        # original token t_i in the sentence.\n",
    "        constraints.append(PartOfSpeech(allow_verb_noun_swap=True))\n",
    "\n",
    "        # \"To ensure semantic similarity on introducing perturbations in the input\n",
    "        # text, we filter the set of top-K masked tokens (K is a pre-defined\n",
    "        # constant) predicted by BERT-MLM using a Universal Sentence Encoder (USE)\n",
    "        # (Cer et al., 2018)-based sentence similarity scorer.\"\n",
    "        #\n",
    "        # \"[We] set a threshold of 0.8 for the cosine similarity between USE-based\n",
    "        # embeddings of the adversarial and input text.\"\n",
    "        #\n",
    "        # [from email correspondence with the author]\n",
    "        # \"For a fair comparison of the benefits of using a BERT-MLM in our paper,\n",
    "        # we retained the majority of TextFooler's specifications. Thus we:\n",
    "        # 1. Use the USE for comparison within a window of size 15 around the word\n",
    "        # being replaced/inserted.\n",
    "        # 2. Set the similarity score threshold to 0.1 for inputs shorter than the\n",
    "        # window size (this translates roughly to almost always accepting the new text).\n",
    "        # 3. Perform the USE similarity thresholding of 0.8 with respect to the text\n",
    "        # just before the replacement/insertion and not the original text (For\n",
    "        # example: at the 3rd R/I operation, we compute the USE score on a window\n",
    "        # of size 15 of the text obtained after the first 2 R/I operations and not\n",
    "        # the original text).\n",
    "        # ...\n",
    "        # To address point (3) from above, compare the USE with the original text\n",
    "        # at each iteration instead of the current one (While doing this change\n",
    "        # for the R-operation is trivial, doing it for the I-operation with the\n",
    "        # window based USE comparison might be more involved).\"\n",
    "        #\n",
    "        # Finally, since the BAE code is based on the TextFooler code, we need to\n",
    "        # adjust the threshold to account for the missing / pi in the cosine\n",
    "        # similarity comparison. So the final threshold is 1 - (1 - 0.8) / pi\n",
    "        # = 1 - (0.2 / pi) = 0.936338023.\n",
    "        use_constraint = UniversalSentenceEncoder(\n",
    "            threshold=0.936338023,\n",
    "            metric=\"cosine\",\n",
    "            compare_against_original=True,\n",
    "            window_size=15,\n",
    "            skip_text_shorter_than_window=True,\n",
    "        )\n",
    "        constraints.append(use_constraint)\n",
    "        #\n",
    "        # Goal is untargeted classification.\n",
    "        #\n",
    "        goal_function = UntargetedClassification(model_wrapper)\n",
    "        #\n",
    "        # \"We estimate the token importance Ii of each token\n",
    "        # t_i ∈ S = [t1, . . . , tn], by deleting ti from S and computing the\n",
    "        # decrease in probability of predicting the correct label y, similar\n",
    "        # to (Jin et al., 2019).\n",
    "        #\n",
    "        # • \"If there are multiple tokens can cause C to misclassify S when they\n",
    "        # replace the mask, we choose the token which makes Sadv most similar to\n",
    "        # the original S based on the USE score.\"\n",
    "        # • \"If no token causes misclassification, we choose the perturbation that\n",
    "        # decreases the prediction probability P(C(Sadv)=y) the most.\"\n",
    "        #\n",
    "        search_method = GreedyWordSwapWIR(wir_method=\"delete\")\n",
    "\n",
    "        return BAEGarg2019(goal_function, constraints, transformation, search_method)"
   ]
  },
  {
   "cell_type": "code",
   "execution_count": 9,
   "metadata": {
    "cellId": "vlj5ta24nzq9ajd7v29hk"
   },
   "outputs": [],
   "source": [
    "#!g1.1\n",
    "be = BAEGarg2019"
   ]
  },
  {
   "cell_type": "code",
   "execution_count": 12,
   "metadata": {
    "cellId": "jna8g9ff4oz8zjcewg79"
   },
   "outputs": [
    {
     "ename": "AttributeError",
     "evalue": "type object 'BAEGarg2019' has no attribute 'transformation'",
     "output_type": "error",
     "traceback": [
      "\u001b[0;31m---------------------------------------------------------------------------\u001b[0m",
      "\u001b[0;31mAttributeError\u001b[0m                            Traceback (most recent call last)",
      "\u001b[0;32m<ipython-input-9-b0a2c15b647a>\u001b[0m in \u001b[0;36m<module>\u001b[0;34m\u001b[0m\n\u001b[0;32m----> 1\u001b[0;31m \u001b[0mbe\u001b[0m\u001b[0;34m.\u001b[0m\u001b[0mtransformation\u001b[0m\u001b[0;34m\u001b[0m\u001b[0;34m\u001b[0m\u001b[0m\n\u001b[0m\u001b[1;32m      2\u001b[0m \u001b[0;31m#\u001b[0m\u001b[0;34m\u001b[0m\u001b[0;34m\u001b[0m\u001b[0;34m\u001b[0m\u001b[0m\n",
      "\u001b[0;31mAttributeError\u001b[0m: type object 'BAEGarg2019' has no attribute 'transformation'"
     ]
    }
   ],
   "source": [
    "#!g1.1\n",
    "be.transformation"
   ]
  },
  {
   "cell_type": "code",
   "execution_count": null,
   "metadata": {
    "cellId": "8v0yl61lghsu46gmm531z"
   },
   "outputs": [],
   "source": [
    "#!g1.1\n"
   ]
  },
  {
   "cell_type": "code",
   "execution_count": 2,
   "metadata": {
    "cellId": "kwo9bmslcp8as11lpu8li"
   },
   "outputs": [
    {
     "ename": "ImportError",
     "evalue": "cannot import name 'create_repo' from 'huggingface_hub' (/home/jupyter/.local/lib/python3.7/site-packages/huggingface_hub/__init__.py)",
     "output_type": "error",
     "traceback": [
      "\u001b[0;31m---------------------------------------------------------------------------\u001b[0m",
      "\u001b[0;31mImportError\u001b[0m                               Traceback (most recent call last)",
      "\u001b[0;32m<ipython-input-2-a61cccc5a75e>\u001b[0m in \u001b[0;36m<module>\u001b[0;34m\u001b[0m\n\u001b[0;32m----> 1\u001b[0;31m \u001b[0;32mimport\u001b[0m \u001b[0mtextattack\u001b[0m\u001b[0;34m\u001b[0m\u001b[0;34m\u001b[0m\u001b[0m\n\u001b[0m\u001b[1;32m      2\u001b[0m \u001b[0;34m\u001b[0m\u001b[0m\n\u001b[1;32m      3\u001b[0m \u001b[0mtextattack\u001b[0m\u001b[0;34m.\u001b[0m\u001b[0mattack_recipes\u001b[0m\u001b[0;34m.\u001b[0m\u001b[0mbae_garg_2019\u001b[0m\u001b[0;34m.\u001b[0m\u001b[0mBAEGarg2019\u001b[0m\u001b[0;34m\u001b[0m\u001b[0;34m\u001b[0m\u001b[0m\n\u001b[1;32m      4\u001b[0m \u001b[0;31m#\u001b[0m\u001b[0;34m\u001b[0m\u001b[0;34m\u001b[0m\u001b[0;34m\u001b[0m\u001b[0m\n",
      "\u001b[0;32m~/work/resources/TextAttack/textattack/__init__.py\u001b[0m in \u001b[0;36m<module>\u001b[0;34m\u001b[0m\n\u001b[1;32m      9\u001b[0m \u001b[0mTextAttack\u001b[0m \u001b[0mprovides\u001b[0m \u001b[0mcomponents\u001b[0m \u001b[0;32mfor\u001b[0m \u001b[0mcommon\u001b[0m \u001b[0mNLP\u001b[0m \u001b[0mtasks\u001b[0m \u001b[0mlike\u001b[0m \u001b[0msentence\u001b[0m \u001b[0mencoding\u001b[0m\u001b[0;34m,\u001b[0m \u001b[0mgrammar\u001b[0m\u001b[0;34m-\u001b[0m\u001b[0mchecking\u001b[0m\u001b[0;34m,\u001b[0m \u001b[0;32mand\u001b[0m \u001b[0mword\u001b[0m \u001b[0mreplacement\u001b[0m \u001b[0mthat\u001b[0m \u001b[0mcan\u001b[0m \u001b[0mbe\u001b[0m \u001b[0mused\u001b[0m \u001b[0mon\u001b[0m \u001b[0mtheir\u001b[0m \u001b[0mown\u001b[0m\u001b[0;34m.\u001b[0m\u001b[0;34m\u001b[0m\u001b[0;34m\u001b[0m\u001b[0m\n\u001b[1;32m     10\u001b[0m \"\"\"\n\u001b[0;32m---> 11\u001b[0;31m \u001b[0;32mfrom\u001b[0m \u001b[0;34m.\u001b[0m\u001b[0mattack_args\u001b[0m \u001b[0;32mimport\u001b[0m \u001b[0mAttackArgs\u001b[0m\u001b[0;34m,\u001b[0m \u001b[0mCommandLineAttackArgs\u001b[0m\u001b[0;34m\u001b[0m\u001b[0;34m\u001b[0m\u001b[0m\n\u001b[0m\u001b[1;32m     12\u001b[0m \u001b[0;32mfrom\u001b[0m \u001b[0;34m.\u001b[0m\u001b[0maugment_args\u001b[0m \u001b[0;32mimport\u001b[0m \u001b[0mAugmenterArgs\u001b[0m\u001b[0;34m\u001b[0m\u001b[0;34m\u001b[0m\u001b[0m\n\u001b[1;32m     13\u001b[0m \u001b[0;32mfrom\u001b[0m \u001b[0;34m.\u001b[0m\u001b[0mdataset_args\u001b[0m \u001b[0;32mimport\u001b[0m \u001b[0mDatasetArgs\u001b[0m\u001b[0;34m\u001b[0m\u001b[0;34m\u001b[0m\u001b[0m\n",
      "\u001b[0;32m~/work/resources/TextAttack/textattack/attack_args.py\u001b[0m in \u001b[0;36m<module>\u001b[0;34m\u001b[0m\n\u001b[1;32m     11\u001b[0m \u001b[0;34m\u001b[0m\u001b[0m\n\u001b[1;32m     12\u001b[0m \u001b[0;32mimport\u001b[0m \u001b[0mtextattack\u001b[0m\u001b[0;34m\u001b[0m\u001b[0;34m\u001b[0m\u001b[0m\n\u001b[0;32m---> 13\u001b[0;31m \u001b[0;32mfrom\u001b[0m \u001b[0mtextattack\u001b[0m\u001b[0;34m.\u001b[0m\u001b[0mshared\u001b[0m\u001b[0;34m.\u001b[0m\u001b[0mutils\u001b[0m \u001b[0;32mimport\u001b[0m \u001b[0mARGS_SPLIT_TOKEN\u001b[0m\u001b[0;34m,\u001b[0m \u001b[0mload_module_from_file\u001b[0m\u001b[0;34m\u001b[0m\u001b[0;34m\u001b[0m\u001b[0m\n\u001b[0m\u001b[1;32m     14\u001b[0m \u001b[0;34m\u001b[0m\u001b[0m\n\u001b[1;32m     15\u001b[0m \u001b[0;32mfrom\u001b[0m \u001b[0;34m.\u001b[0m\u001b[0mattack\u001b[0m \u001b[0;32mimport\u001b[0m \u001b[0mAttack\u001b[0m\u001b[0;34m\u001b[0m\u001b[0;34m\u001b[0m\u001b[0m\n",
      "\u001b[0;32m~/work/resources/TextAttack/textattack/shared/__init__.py\u001b[0m in \u001b[0;36m<module>\u001b[0;34m\u001b[0m\n\u001b[1;32m     13\u001b[0m \u001b[0;32mfrom\u001b[0m \u001b[0;34m.\u001b[0m \u001b[0;32mimport\u001b[0m \u001b[0mvalidators\u001b[0m\u001b[0;34m\u001b[0m\u001b[0;34m\u001b[0m\u001b[0m\n\u001b[1;32m     14\u001b[0m \u001b[0;34m\u001b[0m\u001b[0m\n\u001b[0;32m---> 15\u001b[0;31m \u001b[0;32mfrom\u001b[0m \u001b[0;34m.\u001b[0m\u001b[0mattacked_text\u001b[0m \u001b[0;32mimport\u001b[0m \u001b[0mAttackedText\u001b[0m\u001b[0;34m\u001b[0m\u001b[0;34m\u001b[0m\u001b[0m\n\u001b[0m\u001b[1;32m     16\u001b[0m \u001b[0;32mfrom\u001b[0m \u001b[0;34m.\u001b[0m\u001b[0mword_embeddings\u001b[0m \u001b[0;32mimport\u001b[0m \u001b[0mAbstractWordEmbedding\u001b[0m\u001b[0;34m,\u001b[0m \u001b[0mWordEmbedding\u001b[0m\u001b[0;34m,\u001b[0m \u001b[0mGensimWordEmbedding\u001b[0m\u001b[0;34m\u001b[0m\u001b[0;34m\u001b[0m\u001b[0m\n\u001b[1;32m     17\u001b[0m \u001b[0;32mfrom\u001b[0m \u001b[0;34m.\u001b[0m\u001b[0mcheckpoint\u001b[0m \u001b[0;32mimport\u001b[0m \u001b[0mAttackCheckpoint\u001b[0m\u001b[0;34m\u001b[0m\u001b[0;34m\u001b[0m\u001b[0m\n",
      "\u001b[0;32m~/work/resources/TextAttack/textattack/shared/attacked_text.py\u001b[0m in \u001b[0;36m<module>\u001b[0;34m\u001b[0m\n\u001b[1;32m     10\u001b[0m \u001b[0;32mimport\u001b[0m \u001b[0mmath\u001b[0m\u001b[0;34m\u001b[0m\u001b[0;34m\u001b[0m\u001b[0m\n\u001b[1;32m     11\u001b[0m \u001b[0;34m\u001b[0m\u001b[0m\n\u001b[0;32m---> 12\u001b[0;31m \u001b[0;32mimport\u001b[0m \u001b[0mflair\u001b[0m\u001b[0;34m\u001b[0m\u001b[0;34m\u001b[0m\u001b[0m\n\u001b[0m\u001b[1;32m     13\u001b[0m \u001b[0;32mfrom\u001b[0m \u001b[0mflair\u001b[0m\u001b[0;34m.\u001b[0m\u001b[0mdata\u001b[0m \u001b[0;32mimport\u001b[0m \u001b[0mSentence\u001b[0m\u001b[0;34m\u001b[0m\u001b[0;34m\u001b[0m\u001b[0m\n\u001b[1;32m     14\u001b[0m \u001b[0;32mimport\u001b[0m \u001b[0mnumpy\u001b[0m \u001b[0;32mas\u001b[0m \u001b[0mnp\u001b[0m\u001b[0;34m\u001b[0m\u001b[0;34m\u001b[0m\u001b[0m\n",
      "\u001b[0;32m~/.local/lib/python3.7/site-packages/flair/__init__.py\u001b[0m in \u001b[0;36m<module>\u001b[0;34m\u001b[0m\n\u001b[1;32m      2\u001b[0m \u001b[0;32mimport\u001b[0m \u001b[0mtorch\u001b[0m\u001b[0;34m\u001b[0m\u001b[0;34m\u001b[0m\u001b[0m\n\u001b[1;32m      3\u001b[0m \u001b[0;32mfrom\u001b[0m \u001b[0mpathlib\u001b[0m \u001b[0;32mimport\u001b[0m \u001b[0mPath\u001b[0m\u001b[0;34m\u001b[0m\u001b[0;34m\u001b[0m\u001b[0m\n\u001b[0;32m----> 4\u001b[0;31m \u001b[0;32mfrom\u001b[0m \u001b[0mtransformers\u001b[0m \u001b[0;32mimport\u001b[0m \u001b[0mset_seed\u001b[0m \u001b[0;32mas\u001b[0m \u001b[0mhf_set_seed\u001b[0m\u001b[0;34m\u001b[0m\u001b[0;34m\u001b[0m\u001b[0m\n\u001b[0m\u001b[1;32m      5\u001b[0m \u001b[0;34m\u001b[0m\u001b[0m\n\u001b[1;32m      6\u001b[0m \u001b[0;31m# global variable: cache_root\u001b[0m\u001b[0;34m\u001b[0m\u001b[0;34m\u001b[0m\u001b[0;34m\u001b[0m\u001b[0m\n",
      "\u001b[0;32m~/.local/lib/python3.7/site-packages/transformers/__init__.py\u001b[0m in \u001b[0;36m<module>\u001b[0;34m\u001b[0m\n\u001b[1;32m     41\u001b[0m \u001b[0;34m\u001b[0m\u001b[0m\n\u001b[1;32m     42\u001b[0m \u001b[0;31m# Check the dependencies satisfy the minimal versions required.\u001b[0m\u001b[0;34m\u001b[0m\u001b[0;34m\u001b[0m\u001b[0;34m\u001b[0m\u001b[0m\n\u001b[0;32m---> 43\u001b[0;31m \u001b[0;32mfrom\u001b[0m \u001b[0;34m.\u001b[0m \u001b[0;32mimport\u001b[0m \u001b[0mdependency_versions_check\u001b[0m\u001b[0;34m\u001b[0m\u001b[0;34m\u001b[0m\u001b[0m\n\u001b[0m\u001b[1;32m     44\u001b[0m from .file_utils import (\n\u001b[1;32m     45\u001b[0m     \u001b[0m_LazyModule\u001b[0m\u001b[0;34m,\u001b[0m\u001b[0;34m\u001b[0m\u001b[0;34m\u001b[0m\u001b[0m\n",
      "\u001b[0;32m~/.local/lib/python3.7/site-packages/transformers/dependency_versions_check.py\u001b[0m in \u001b[0;36m<module>\u001b[0;34m\u001b[0m\n\u001b[1;32m     34\u001b[0m         \u001b[0;32mif\u001b[0m \u001b[0mpkg\u001b[0m \u001b[0;34m==\u001b[0m \u001b[0;34m\"tokenizers\"\u001b[0m\u001b[0;34m:\u001b[0m\u001b[0;34m\u001b[0m\u001b[0;34m\u001b[0m\u001b[0m\n\u001b[1;32m     35\u001b[0m             \u001b[0;31m# must be loaded here, or else tqdm check may fail\u001b[0m\u001b[0;34m\u001b[0m\u001b[0;34m\u001b[0m\u001b[0;34m\u001b[0m\u001b[0m\n\u001b[0;32m---> 36\u001b[0;31m             \u001b[0;32mfrom\u001b[0m \u001b[0;34m.\u001b[0m\u001b[0mfile_utils\u001b[0m \u001b[0;32mimport\u001b[0m \u001b[0mis_tokenizers_available\u001b[0m\u001b[0;34m\u001b[0m\u001b[0;34m\u001b[0m\u001b[0m\n\u001b[0m\u001b[1;32m     37\u001b[0m \u001b[0;34m\u001b[0m\u001b[0m\n\u001b[1;32m     38\u001b[0m             \u001b[0;32mif\u001b[0m \u001b[0;32mnot\u001b[0m \u001b[0mis_tokenizers_available\u001b[0m\u001b[0;34m(\u001b[0m\u001b[0;34m)\u001b[0m\u001b[0;34m:\u001b[0m\u001b[0;34m\u001b[0m\u001b[0;34m\u001b[0m\u001b[0m\n",
      "\u001b[0;32m~/.local/lib/python3.7/site-packages/transformers/file_utils.py\u001b[0m in \u001b[0;36m<module>\u001b[0;34m\u001b[0m\n\u001b[1;32m     50\u001b[0m \u001b[0;32mimport\u001b[0m \u001b[0mrequests\u001b[0m\u001b[0;34m\u001b[0m\u001b[0;34m\u001b[0m\u001b[0m\n\u001b[1;32m     51\u001b[0m \u001b[0;32mfrom\u001b[0m \u001b[0mfilelock\u001b[0m \u001b[0;32mimport\u001b[0m \u001b[0mFileLock\u001b[0m\u001b[0;34m\u001b[0m\u001b[0;34m\u001b[0m\u001b[0m\n\u001b[0;32m---> 52\u001b[0;31m \u001b[0;32mfrom\u001b[0m \u001b[0mhuggingface_hub\u001b[0m \u001b[0;32mimport\u001b[0m \u001b[0mHfFolder\u001b[0m\u001b[0;34m,\u001b[0m \u001b[0mRepository\u001b[0m\u001b[0;34m,\u001b[0m \u001b[0mcreate_repo\u001b[0m\u001b[0;34m,\u001b[0m \u001b[0mlist_repo_files\u001b[0m\u001b[0;34m,\u001b[0m \u001b[0mwhoami\u001b[0m\u001b[0;34m\u001b[0m\u001b[0;34m\u001b[0m\u001b[0m\n\u001b[0m\u001b[1;32m     53\u001b[0m \u001b[0;32mfrom\u001b[0m \u001b[0mtransformers\u001b[0m\u001b[0;34m.\u001b[0m\u001b[0mutils\u001b[0m\u001b[0;34m.\u001b[0m\u001b[0mversions\u001b[0m \u001b[0;32mimport\u001b[0m \u001b[0mimportlib_metadata\u001b[0m\u001b[0;34m\u001b[0m\u001b[0;34m\u001b[0m\u001b[0m\n\u001b[1;32m     54\u001b[0m \u001b[0;34m\u001b[0m\u001b[0m\n",
      "\u001b[0;31mImportError\u001b[0m: cannot import name 'create_repo' from 'huggingface_hub' (/home/jupyter/.local/lib/python3.7/site-packages/huggingface_hub/__init__.py)"
     ]
    }
   ],
   "source": [
    "#!g1.1\n",
    "import textattack\n",
    "\n",
    "textattack.attack_recipes.bae_garg_2019.BAEGarg2019"
   ]
  },
  {
   "cell_type": "code",
   "execution_count": 336,
   "metadata": {
    "cellId": "7m1k6c1t91jgurxzo2sbx"
   },
   "outputs": [
    {
     "data": {
      "application/vnd.jupyter.widget-view+json": {
       "model_id": "cd42a642d4bb43dfaed5648d1c9522e4",
       "version_major": 2,
       "version_minor": 0
      },
      "text/plain": [
       "HBox(children=(FloatProgress(value=0.0, description='Downloading', max=570.0, style=ProgressStyle(description_…"
      ]
     },
     "metadata": {},
     "output_type": "display_data"
    },
    {
     "data": {
      "application/vnd.jupyter.widget-view+json": {
       "model_id": "483e7d9068f94bc9bd8d539d994614a5",
       "version_major": 2,
       "version_minor": 0
      },
      "text/plain": [
       "HBox(children=(FloatProgress(value=0.0, description='Downloading', max=440473133.0, style=ProgressStyle(descri…"
      ]
     },
     "metadata": {},
     "output_type": "display_data"
    },
    {
     "data": {
      "application/vnd.jupyter.widget-view+json": {
       "model_id": "f86da215eb7a4092b26af3df208df596",
       "version_major": 2,
       "version_minor": 0
      },
      "text/plain": [
       "HBox(children=(FloatProgress(value=0.0, description='Downloading', max=28.0, style=ProgressStyle(description_w…"
      ]
     },
     "metadata": {},
     "output_type": "display_data"
    },
    {
     "data": {
      "application/vnd.jupyter.widget-view+json": {
       "model_id": "be55c59b9dfe460c8a0ad18132634c38",
       "version_major": 2,
       "version_minor": 0
      },
      "text/plain": [
       "HBox(children=(FloatProgress(value=0.0, description='Downloading', max=231508.0, style=ProgressStyle(descripti…"
      ]
     },
     "metadata": {},
     "output_type": "display_data"
    },
    {
     "data": {
      "application/vnd.jupyter.widget-view+json": {
       "model_id": "1fb2a29b916f4590999b4166575c10c0",
       "version_major": 2,
       "version_minor": 0
      },
      "text/plain": [
       "HBox(children=(FloatProgress(value=0.0, description='Downloading', max=466062.0, style=ProgressStyle(descripti…"
      ]
     },
     "metadata": {},
     "output_type": "display_data"
    },
    {
     "name": "stdout",
     "output_type": "stream",
     "text": [
      "\n",
      "\n",
      "\n",
      "\n",
      "\n",
      "Attack(\n",
      "  (search_method): GreedyWordSwapWIR(\n",
      "    (wir_method):  delete\n",
      "  )\n",
      "  (goal_function):  UntargetedClassification\n",
      "  (transformation):  WordSwapMaskedLM(\n",
      "    (method):  bae\n",
      "    (masked_lm_name):  BertForMaskedLM\n",
      "    (max_length):  512\n",
      "    (max_candidates):  50\n",
      "    (min_confidence):  0.0\n",
      "  )\n",
      "  (constraints): \n",
      "    (0): PartOfSpeech(\n",
      "        (tagger_type):  nltk\n",
      "        (tagset):  universal\n",
      "        (allow_verb_noun_swap):  True\n",
      "        (compare_against_original):  True\n",
      "      )\n",
      "    (1): UniversalSentenceEncoder(\n",
      "        (metric):  cosine\n",
      "        (threshold):  0.936338023\n",
      "        (window_size):  15\n",
      "        (skip_text_shorter_than_window):  True\n",
      "        (compare_against_original):  True\n",
      "      )\n",
      "    (2): RepeatModification\n",
      "    (3): StopwordModification\n",
      "  (is_black_box):  True\n",
      ") \n",
      "\n",
      "\n",
      "\n",
      "=============================================================================================================================\n",
      "=============================================================================================================================\n",
      "\n",
      "\n",
      "\n",
      "=============================================================================================================================\n",
      "=============================================================================================================================\n",
      "\n",
      "\n",
      "\n",
      "=============================================================================================================================\n",
      "=============================================================================================================================\n",
      "\n",
      "\n",
      "\n",
      "=============================================================================================================================\n",
      "=============================================================================================================================\n",
      "\n",
      "\n",
      "\n",
      "=============================================================================================================================\n",
      "=============================================================================================================================\n",
      "\n",
      "\n",
      "+-------------------------------+--------+\n",
      "| Attack Results                |        |\n",
      "+-------------------------------+--------+\n",
      "| Number of successful attacks: | 52     |\n",
      "| Number of failed attacks:     | 5      |\n",
      "| Number of skipped attacks:    | 43     |\n",
      "| Original accuracy:            | 57.0%  |\n",
      "| Accuracy under attack:        | 5.0%   |\n",
      "| Attack success rate:          | 91.23% |\n",
      "| Average perturbed word %:     | 10.97% |\n",
      "| Average num. words per input: | 18.48  |\n",
      "| Avg num queries:              | 102.89 |\n",
      "+-------------------------------+--------+\n",
      "CPU times: user 1min 26s, sys: 27.3 s, total: 1min 53s\n",
      "Wall time: 2min 1s\n"
     ]
    },
    {
     "name": "stderr",
     "output_type": "stream",
     "text": [
      "Some weights of the model checkpoint at bert-base-uncased were not used when initializing BertForMaskedLM: ['cls.seq_relationship.bias', 'cls.seq_relationship.weight']\n",
      "- This IS expected if you are initializing BertForMaskedLM from the checkpoint of a model trained on another task or with another architecture (e.g. initializing a BertForSequenceClassification model from a BertForPreTraining model).\n",
      "- This IS NOT expected if you are initializing BertForMaskedLM from the checkpoint of a model that you expect to be exactly identical (initializing a BertForSequenceClassification model from a BertForSequenceClassification model).\n",
      "textattack: Unknown if model of class <class 'transformers.models.bert.modeling_bert.BertForSequenceClassification'> compatible with goal function <class 'textattack.goal_functions.classification.untargeted_classification.UntargetedClassification'>.\n",
      "textattack: Logging to CSV at path logRu2.csv\n",
      "[Succeeded / Failed / Skipped / Total] 11 / 1 / 8 / 20:  20%|██        | 20/100 [00:26<01:44,  1.30s/it]textattack: Saving checkpoint under \"checkpoints/1640382606345.ta.chkpt\" at 2021-12-24 21:50:06 after 20 attacks.\n",
      "[Succeeded / Failed / Skipped / Total] 22 / 2 / 16 / 40:  40%|████      | 40/100 [00:44<01:06,  1.10s/it]textattack: Saving checkpoint under \"checkpoints/1640382624516.ta.chkpt\" at 2021-12-24 21:50:24 after 40 attacks.\n",
      "[Succeeded / Failed / Skipped / Total] 32 / 3 / 25 / 60:  60%|██████    | 60/100 [00:59<00:39,  1.01it/s]textattack: Saving checkpoint under \"checkpoints/1640382639692.ta.chkpt\" at 2021-12-24 21:50:39 after 60 attacks.\n",
      "[Succeeded / Failed / Skipped / Total] 42 / 4 / 34 / 80:  80%|████████  | 80/100 [01:23<00:20,  1.05s/it]textattack: Saving checkpoint under \"checkpoints/1640382664131.ta.chkpt\" at 2021-12-24 21:51:04 after 80 attacks.\n",
      "[Succeeded / Failed / Skipped / Total] 52 / 5 / 43 / 100: 100%|██████████| 100/100 [01:37<00:00,  1.03it/s]textattack: Saving checkpoint under \"checkpoints/1640382677804.ta.chkpt\" at 2021-12-24 21:51:17 after 100 attacks.\n",
      "[Succeeded / Failed / Skipped / Total] 52 / 5 / 43 / 100: 100%|██████████| 100/100 [01:37<00:00,  1.03it/s]\n"
     ]
    },
    {
     "data": {
      "text/plain": [
       "[<textattack.attack_results.successful_attack_result.SuccessfulAttackResult at 0x7f2568d51e50>,\n",
       " <textattack.attack_results.skipped_attack_result.SkippedAttackResult at 0x7f1fb04bbed0>,\n",
       " <textattack.attack_results.successful_attack_result.SuccessfulAttackResult at 0x7f1fb04f9950>,\n",
       " <textattack.attack_results.skipped_attack_result.SkippedAttackResult at 0x7f1b71728e50>,\n",
       " <textattack.attack_results.successful_attack_result.SuccessfulAttackResult at 0x7f233c4be190>,\n",
       " <textattack.attack_results.successful_attack_result.SuccessfulAttackResult at 0x7f23b7410710>,\n",
       " <textattack.attack_results.successful_attack_result.SuccessfulAttackResult at 0x7f233d431e50>,\n",
       " <textattack.attack_results.skipped_attack_result.SkippedAttackResult at 0x7f233d341190>,\n",
       " <textattack.attack_results.skipped_attack_result.SkippedAttackResult at 0x7f25823dfc90>,\n",
       " <textattack.attack_results.skipped_attack_result.SkippedAttackResult at 0x7f1fe1f8e210>,\n",
       " <textattack.attack_results.successful_attack_result.SuccessfulAttackResult at 0x7f234ed3ac90>,\n",
       " <textattack.attack_results.successful_attack_result.SuccessfulAttackResult at 0x7f200438e090>,\n",
       " <textattack.attack_results.successful_attack_result.SuccessfulAttackResult at 0x7f25690e6b50>,\n",
       " <textattack.attack_results.successful_attack_result.SuccessfulAttackResult at 0x7f234b654290>,\n",
       " <textattack.attack_results.successful_attack_result.SuccessfulAttackResult at 0x7f25828bf390>,\n",
       " <textattack.attack_results.failed_attack_result.FailedAttackResult at 0x7f255e71c6d0>,\n",
       " <textattack.attack_results.skipped_attack_result.SkippedAttackResult at 0x7f23b87a3f50>,\n",
       " <textattack.attack_results.skipped_attack_result.SkippedAttackResult at 0x7f1b71728550>,\n",
       " <textattack.attack_results.skipped_attack_result.SkippedAttackResult at 0x7f1fb0570d10>,\n",
       " <textattack.attack_results.successful_attack_result.SuccessfulAttackResult at 0x7f25ae4e7f10>,\n",
       " <textattack.attack_results.skipped_attack_result.SkippedAttackResult at 0x7f1fb0404fd0>,\n",
       " <textattack.attack_results.successful_attack_result.SuccessfulAttackResult at 0x7f1f900a4ed0>,\n",
       " <textattack.attack_results.skipped_attack_result.SkippedAttackResult at 0x7f1f900a4e90>,\n",
       " <textattack.attack_results.successful_attack_result.SuccessfulAttackResult at 0x7f1f900a4050>,\n",
       " <textattack.attack_results.skipped_attack_result.SkippedAttackResult at 0x7f1b7170cc90>,\n",
       " <textattack.attack_results.successful_attack_result.SuccessfulAttackResult at 0x7f25824f4110>,\n",
       " <textattack.attack_results.successful_attack_result.SuccessfulAttackResult at 0x7f2004399210>,\n",
       " <textattack.attack_results.successful_attack_result.SuccessfulAttackResult at 0x7f234b654210>,\n",
       " <textattack.attack_results.skipped_attack_result.SkippedAttackResult at 0x7f1fe1bfbf10>,\n",
       " <textattack.attack_results.successful_attack_result.SuccessfulAttackResult at 0x7f25ae4d36d0>,\n",
       " <textattack.attack_results.failed_attack_result.FailedAttackResult at 0x7f25828bf190>,\n",
       " <textattack.attack_results.skipped_attack_result.SkippedAttackResult at 0x7f1f900af850>,\n",
       " <textattack.attack_results.skipped_attack_result.SkippedAttackResult at 0x7f23b851a650>,\n",
       " <textattack.attack_results.successful_attack_result.SuccessfulAttackResult at 0x7f1fb055fe50>,\n",
       " <textattack.attack_results.skipped_attack_result.SkippedAttackResult at 0x7f1fb05704d0>,\n",
       " <textattack.attack_results.successful_attack_result.SuccessfulAttackResult at 0x7f234b6542d0>,\n",
       " <textattack.attack_results.skipped_attack_result.SkippedAttackResult at 0x7f1cb868fb10>,\n",
       " <textattack.attack_results.successful_attack_result.SuccessfulAttackResult at 0x7f1b71746210>,\n",
       " <textattack.attack_results.successful_attack_result.SuccessfulAttackResult at 0x7f255e71cb10>,\n",
       " <textattack.attack_results.successful_attack_result.SuccessfulAttackResult at 0x7f1fe1d18710>,\n",
       " <textattack.attack_results.successful_attack_result.SuccessfulAttackResult at 0x7f1fb041b650>,\n",
       " <textattack.attack_results.successful_attack_result.SuccessfulAttackResult at 0x7f1fe1d55850>,\n",
       " <textattack.attack_results.successful_attack_result.SuccessfulAttackResult at 0x7f1fe1d18d90>,\n",
       " <textattack.attack_results.skipped_attack_result.SkippedAttackResult at 0x7f1fe1d18910>,\n",
       " <textattack.attack_results.failed_attack_result.FailedAttackResult at 0x7f1cb86a00d0>,\n",
       " <textattack.attack_results.skipped_attack_result.SkippedAttackResult at 0x7f1cb86a0950>,\n",
       " <textattack.attack_results.skipped_attack_result.SkippedAttackResult at 0x7f1cb86a0190>,\n",
       " <textattack.attack_results.skipped_attack_result.SkippedAttackResult at 0x7f1cb86a0590>,\n",
       " <textattack.attack_results.successful_attack_result.SuccessfulAttackResult at 0x7f1b7170cc10>,\n",
       " <textattack.attack_results.skipped_attack_result.SkippedAttackResult at 0x7f1b7170cbd0>,\n",
       " <textattack.attack_results.successful_attack_result.SuccessfulAttackResult at 0x7f23b73c1610>,\n",
       " <textattack.attack_results.successful_attack_result.SuccessfulAttackResult at 0x7f1bc17b9e50>,\n",
       " <textattack.attack_results.successful_attack_result.SuccessfulAttackResult at 0x7f1cb86bb110>,\n",
       " <textattack.attack_results.skipped_attack_result.SkippedAttackResult at 0x7f2581ff0a50>,\n",
       " <textattack.attack_results.skipped_attack_result.SkippedAttackResult at 0x7f1cb86bb490>,\n",
       " <textattack.attack_results.successful_attack_result.SuccessfulAttackResult at 0x7f1fba347f50>,\n",
       " <textattack.attack_results.successful_attack_result.SuccessfulAttackResult at 0x7f1fba2e9ad0>,\n",
       " <textattack.attack_results.skipped_attack_result.SkippedAttackResult at 0x7f1fba2e9510>,\n",
       " <textattack.attack_results.successful_attack_result.SuccessfulAttackResult at 0x7f20043a85d0>,\n",
       " <textattack.attack_results.skipped_attack_result.SkippedAttackResult at 0x7f1fba2f3990>,\n",
       " <textattack.attack_results.failed_attack_result.FailedAttackResult at 0x7f1bc17c8950>,\n",
       " <textattack.attack_results.successful_attack_result.SuccessfulAttackResult at 0x7f1fb00d9cd0>,\n",
       " <textattack.attack_results.skipped_attack_result.SkippedAttackResult at 0x7f234b666cd0>,\n",
       " <textattack.attack_results.successful_attack_result.SuccessfulAttackResult at 0x7f1fe1f97dd0>,\n",
       " <textattack.attack_results.skipped_attack_result.SkippedAttackResult at 0x7f1fb007ebd0>,\n",
       " <textattack.attack_results.successful_attack_result.SuccessfulAttackResult at 0x7f1ca7335a50>,\n",
       " <textattack.attack_results.skipped_attack_result.SkippedAttackResult at 0x7f1ca7335890>,\n",
       " <textattack.attack_results.skipped_attack_result.SkippedAttackResult at 0x7f1ca7335ad0>,\n",
       " <textattack.attack_results.skipped_attack_result.SkippedAttackResult at 0x7f1ca7335210>,\n",
       " <textattack.attack_results.skipped_attack_result.SkippedAttackResult at 0x7f1ca7335d50>,\n",
       " <textattack.attack_results.successful_attack_result.SuccessfulAttackResult at 0x7f2580f68350>,\n",
       " <textattack.attack_results.successful_attack_result.SuccessfulAttackResult at 0x7f1bc17d2a10>,\n",
       " <textattack.attack_results.skipped_attack_result.SkippedAttackResult at 0x7f1fe1f97ed0>,\n",
       " <textattack.attack_results.successful_attack_result.SuccessfulAttackResult at 0x7f1c78c3e110>,\n",
       " <textattack.attack_results.successful_attack_result.SuccessfulAttackResult at 0x7f1cb8697850>,\n",
       " <textattack.attack_results.successful_attack_result.SuccessfulAttackResult at 0x7f1fe1bf58d0>,\n",
       " <textattack.attack_results.skipped_attack_result.SkippedAttackResult at 0x7f1f900a4e10>,\n",
       " <textattack.attack_results.successful_attack_result.SuccessfulAttackResult at 0x7f1cb8697810>,\n",
       " <textattack.attack_results.skipped_attack_result.SkippedAttackResult at 0x7f1cb8697890>,\n",
       " <textattack.attack_results.successful_attack_result.SuccessfulAttackResult at 0x7f2580f68810>,\n",
       " <textattack.attack_results.failed_attack_result.FailedAttackResult at 0x7f1fb04f9250>,\n",
       " <textattack.attack_results.successful_attack_result.SuccessfulAttackResult at 0x7f1f900a4c10>,\n",
       " <textattack.attack_results.skipped_attack_result.SkippedAttackResult at 0x7f1f900a4790>,\n",
       " <textattack.attack_results.skipped_attack_result.SkippedAttackResult at 0x7f1f900a4f10>,\n",
       " <textattack.attack_results.successful_attack_result.SuccessfulAttackResult at 0x7f1f900a4dd0>,\n",
       " <textattack.attack_results.skipped_attack_result.SkippedAttackResult at 0x7f1fe1bf57d0>,\n",
       " <textattack.attack_results.successful_attack_result.SuccessfulAttackResult at 0x7f1cef721050>,\n",
       " <textattack.attack_results.skipped_attack_result.SkippedAttackResult at 0x7f1cef7217d0>,\n",
       " <textattack.attack_results.successful_attack_result.SuccessfulAttackResult at 0x7f1fe1bf5150>,\n",
       " <textattack.attack_results.successful_attack_result.SuccessfulAttackResult at 0x7f1b7170c7d0>,\n",
       " <textattack.attack_results.successful_attack_result.SuccessfulAttackResult at 0x7f1c78c3e3d0>,\n",
       " <textattack.attack_results.skipped_attack_result.SkippedAttackResult at 0x7f25837d5810>,\n",
       " <textattack.attack_results.skipped_attack_result.SkippedAttackResult at 0x7f1fb038f750>,\n",
       " <textattack.attack_results.skipped_attack_result.SkippedAttackResult at 0x7f1fb038fed0>,\n",
       " <textattack.attack_results.successful_attack_result.SuccessfulAttackResult at 0x7f2580f68210>,\n",
       " <textattack.attack_results.skipped_attack_result.SkippedAttackResult at 0x7f1cb8697fd0>,\n",
       " <textattack.attack_results.successful_attack_result.SuccessfulAttackResult at 0x7f1fe1faa510>,\n",
       " <textattack.attack_results.successful_attack_result.SuccessfulAttackResult at 0x7f1fb05115d0>,\n",
       " <textattack.attack_results.skipped_attack_result.SkippedAttackResult at 0x7f1fb0511990>,\n",
       " <textattack.attack_results.successful_attack_result.SuccessfulAttackResult at 0x7f1fb04f9550>]"
      ]
     },
     "metadata": {},
     "output_type": "display_data"
    }
   ],
   "source": [
    "#!g1.1\n",
    "%%time\n",
    "\n",
    "#!g1.1\n",
    "## Попробуем BAE еще раз\n",
    "#attack_recipes.bae_garg_2019.BAEGarg2019\n",
    "attack = textattack.attack_recipes.bae_garg_2019.BAEGarg2019.build(model_wrapper)\n",
    "attack_args = textattack.AttackArgs(num_examples=100, log_to_csv=\"logRu2.csv\", checkpoint_interval=20, checkpoint_dir=\"checkpoints\", disable_stdout=True)\n",
    "attacker = textattack.Attacker(attack, dataset, attack_args)\n",
    "attacker.attack_dataset()"
   ]
  },
  {
   "cell_type": "code",
   "execution_count": null,
   "metadata": {
    "cellId": "xgh4cxhql6ngvu4u7uaia"
   },
   "outputs": [],
   "source": [
    "#!g1.1\n",
    "с учетом того, что у моделей разные словари - нужно понять, как адаптировать для русского?\n",
    "посмотреть примеры для других языков из репозитория"
   ]
  },
  {
   "cell_type": "code",
   "execution_count": null,
   "metadata": {
    "cellId": "52zcclhu6f78phaw31mwiv"
   },
   "outputs": [],
   "source": [
    "#!g1.1\n",
    "Пока что видно, что бае справляется - нужно смотреть на примеры"
   ]
  }
 ],
 "metadata": {
  "accelerator": "GPU",
  "colab": {
   "collapsed_sections": [],
   "name": "BERT Fine-Tuning Sentence Classification v4.ipynb",
   "provenance": [],
   "toc_visible": true
  },
  "kernelspec": {
   "display_name": "Yandex DataSphere Kernel",
   "language": "python",
   "name": "python3"
  },
  "language_info": {
   "codemirror_mode": {
    "name": "ipython",
    "version": 3
   },
   "file_extension": ".py",
   "mimetype": "text/x-python",
   "name": "python",
   "nbconvert_exporter": "python",
   "pygments_lexer": "ipython3",
   "version": "3.7.7"
  },
  "notebookId": "e9629809-34ce-453f-9ee4-0c3966339c97",
  "notebookPath": "text_attacks/notebooks/russian-inappropriate-messages.ipynb",
  "widgets": {
   "application/vnd.jupyter.widget-state+json": {
    "0fe5b1d0540240a8a8426352c24b2887": {
     "model_module": "@jupyter-widgets/base",
     "model_module_version": "1.2.0",
     "model_name": "LayoutModel",
     "state": {
      "_model_module": "@jupyter-widgets/base",
      "_model_module_version": "1.2.0",
      "_model_name": "LayoutModel",
      "_view_count": null,
      "_view_module": "@jupyter-widgets/base",
      "_view_module_version": "1.2.0",
      "_view_name": "LayoutView",
      "align_content": null,
      "align_items": null,
      "align_self": null,
      "border": null,
      "bottom": null,
      "display": null,
      "flex": null,
      "flex_flow": null,
      "grid_area": null,
      "grid_auto_columns": null,
      "grid_auto_flow": null,
      "grid_auto_rows": null,
      "grid_column": null,
      "grid_gap": null,
      "grid_row": null,
      "grid_template_areas": null,
      "grid_template_columns": null,
      "grid_template_rows": null,
      "height": null,
      "justify_content": null,
      "justify_items": null,
      "left": null,
      "margin": null,
      "max_height": null,
      "max_width": null,
      "min_height": null,
      "min_width": null,
      "object_fit": null,
      "object_position": null,
      "order": null,
      "overflow": null,
      "overflow_x": null,
      "overflow_y": null,
      "padding": null,
      "right": null,
      "top": null,
      "visibility": null,
      "width": null
     }
    },
    "1058e0b5baa248faa60c1ad146d10bf7": {
     "model_module": "@jupyter-widgets/base",
     "model_module_version": "1.2.0",
     "model_name": "LayoutModel",
     "state": {
      "_model_module": "@jupyter-widgets/base",
      "_model_module_version": "1.2.0",
      "_model_name": "LayoutModel",
      "_view_count": null,
      "_view_module": "@jupyter-widgets/base",
      "_view_module_version": "1.2.0",
      "_view_name": "LayoutView",
      "align_content": null,
      "align_items": null,
      "align_self": null,
      "border": null,
      "bottom": null,
      "display": null,
      "flex": null,
      "flex_flow": null,
      "grid_area": null,
      "grid_auto_columns": null,
      "grid_auto_flow": null,
      "grid_auto_rows": null,
      "grid_column": null,
      "grid_gap": null,
      "grid_row": null,
      "grid_template_areas": null,
      "grid_template_columns": null,
      "grid_template_rows": null,
      "height": null,
      "justify_content": null,
      "justify_items": null,
      "left": null,
      "margin": null,
      "max_height": null,
      "max_width": null,
      "min_height": null,
      "min_width": null,
      "object_fit": null,
      "object_position": null,
      "order": null,
      "overflow": null,
      "overflow_x": null,
      "overflow_y": null,
      "padding": null,
      "right": null,
      "top": null,
      "visibility": null,
      "width": null
     }
    },
    "1296a3d754b344a482a03e5af84e805e": {
     "model_module": "@jupyter-widgets/controls",
     "model_module_version": "1.5.0",
     "model_name": "FloatProgressModel",
     "state": {
      "_dom_classes": [],
      "_model_module": "@jupyter-widgets/controls",
      "_model_module_version": "1.5.0",
      "_model_name": "FloatProgressModel",
      "_view_count": null,
      "_view_module": "@jupyter-widgets/controls",
      "_view_module_version": "1.5.0",
      "_view_name": "ProgressView",
      "bar_style": "success",
      "description": "Downloading: 100%",
      "description_tooltip": null,
      "layout": "IPY_MODEL_f8874fec8a404ae89a38fd2ecbb357cf",
      "max": 433,
      "min": 0,
      "orientation": "horizontal",
      "style": "IPY_MODEL_2755b9838bae408ca8cf667ad9d501fc",
      "value": 433
     }
    },
    "1c2b0ede959142fc89bf07a9c88df638": {
     "model_module": "@jupyter-widgets/base",
     "model_module_version": "1.2.0",
     "model_name": "LayoutModel",
     "state": {
      "_model_module": "@jupyter-widgets/base",
      "_model_module_version": "1.2.0",
      "_model_name": "LayoutModel",
      "_view_count": null,
      "_view_module": "@jupyter-widgets/base",
      "_view_module_version": "1.2.0",
      "_view_name": "LayoutView",
      "align_content": null,
      "align_items": null,
      "align_self": null,
      "border": null,
      "bottom": null,
      "display": null,
      "flex": null,
      "flex_flow": null,
      "grid_area": null,
      "grid_auto_columns": null,
      "grid_auto_flow": null,
      "grid_auto_rows": null,
      "grid_column": null,
      "grid_gap": null,
      "grid_row": null,
      "grid_template_areas": null,
      "grid_template_columns": null,
      "grid_template_rows": null,
      "height": null,
      "justify_content": null,
      "justify_items": null,
      "left": null,
      "margin": null,
      "max_height": null,
      "max_width": null,
      "min_height": null,
      "min_width": null,
      "object_fit": null,
      "object_position": null,
      "order": null,
      "overflow": null,
      "overflow_x": null,
      "overflow_y": null,
      "padding": null,
      "right": null,
      "top": null,
      "visibility": null,
      "width": null
     }
    },
    "23ca9359e6c44232a1346e6f2ab7e48c": {
     "model_module": "@jupyter-widgets/controls",
     "model_module_version": "1.5.0",
     "model_name": "FloatProgressModel",
     "state": {
      "_dom_classes": [],
      "_model_module": "@jupyter-widgets/controls",
      "_model_module_version": "1.5.0",
      "_model_name": "FloatProgressModel",
      "_view_count": null,
      "_view_module": "@jupyter-widgets/controls",
      "_view_module_version": "1.5.0",
      "_view_name": "ProgressView",
      "bar_style": "success",
      "description": "Downloading: 100%",
      "description_tooltip": null,
      "layout": "IPY_MODEL_0fe5b1d0540240a8a8426352c24b2887",
      "max": 440473133,
      "min": 0,
      "orientation": "horizontal",
      "style": "IPY_MODEL_6c7dec7b1e804c2195f6e60fb3c1d18e",
      "value": 440473133
     }
    },
    "2755b9838bae408ca8cf667ad9d501fc": {
     "model_module": "@jupyter-widgets/controls",
     "model_module_version": "1.5.0",
     "model_name": "ProgressStyleModel",
     "state": {
      "_model_module": "@jupyter-widgets/controls",
      "_model_module_version": "1.5.0",
      "_model_name": "ProgressStyleModel",
      "_view_count": null,
      "_view_module": "@jupyter-widgets/base",
      "_view_module_version": "1.2.0",
      "_view_name": "StyleView",
      "bar_color": null,
      "description_width": "initial"
     }
    },
    "375cc635389c4ddb9bf2aa443df58bae": {
     "model_module": "@jupyter-widgets/controls",
     "model_module_version": "1.5.0",
     "model_name": "DescriptionStyleModel",
     "state": {
      "_model_module": "@jupyter-widgets/controls",
      "_model_module_version": "1.5.0",
      "_model_name": "DescriptionStyleModel",
      "_view_count": null,
      "_view_module": "@jupyter-widgets/base",
      "_view_module_version": "1.2.0",
      "_view_name": "StyleView",
      "description_width": ""
     }
    },
    "440da34c72344cb08e4a1ee5de7049ee": {
     "model_module": "@jupyter-widgets/base",
     "model_module_version": "1.2.0",
     "model_name": "LayoutModel",
     "state": {
      "_model_module": "@jupyter-widgets/base",
      "_model_module_version": "1.2.0",
      "_model_name": "LayoutModel",
      "_view_count": null,
      "_view_module": "@jupyter-widgets/base",
      "_view_module_version": "1.2.0",
      "_view_name": "LayoutView",
      "align_content": null,
      "align_items": null,
      "align_self": null,
      "border": null,
      "bottom": null,
      "display": null,
      "flex": null,
      "flex_flow": null,
      "grid_area": null,
      "grid_auto_columns": null,
      "grid_auto_flow": null,
      "grid_auto_rows": null,
      "grid_column": null,
      "grid_gap": null,
      "grid_row": null,
      "grid_template_areas": null,
      "grid_template_columns": null,
      "grid_template_rows": null,
      "height": null,
      "justify_content": null,
      "justify_items": null,
      "left": null,
      "margin": null,
      "max_height": null,
      "max_width": null,
      "min_height": null,
      "min_width": null,
      "object_fit": null,
      "object_position": null,
      "order": null,
      "overflow": null,
      "overflow_x": null,
      "overflow_y": null,
      "padding": null,
      "right": null,
      "top": null,
      "visibility": null,
      "width": null
     }
    },
    "472198d5b6a748b3a81f9364fd1fa711": {
     "model_module": "@jupyter-widgets/base",
     "model_module_version": "1.2.0",
     "model_name": "LayoutModel",
     "state": {
      "_model_module": "@jupyter-widgets/base",
      "_model_module_version": "1.2.0",
      "_model_name": "LayoutModel",
      "_view_count": null,
      "_view_module": "@jupyter-widgets/base",
      "_view_module_version": "1.2.0",
      "_view_name": "LayoutView",
      "align_content": null,
      "align_items": null,
      "align_self": null,
      "border": null,
      "bottom": null,
      "display": null,
      "flex": null,
      "flex_flow": null,
      "grid_area": null,
      "grid_auto_columns": null,
      "grid_auto_flow": null,
      "grid_auto_rows": null,
      "grid_column": null,
      "grid_gap": null,
      "grid_row": null,
      "grid_template_areas": null,
      "grid_template_columns": null,
      "grid_template_rows": null,
      "height": null,
      "justify_content": null,
      "justify_items": null,
      "left": null,
      "margin": null,
      "max_height": null,
      "max_width": null,
      "min_height": null,
      "min_width": null,
      "object_fit": null,
      "object_position": null,
      "order": null,
      "overflow": null,
      "overflow_x": null,
      "overflow_y": null,
      "padding": null,
      "right": null,
      "top": null,
      "visibility": null,
      "width": null
     }
    },
    "4b1e27aff6f04fec8268d951e46b1e63": {
     "model_module": "@jupyter-widgets/controls",
     "model_module_version": "1.5.0",
     "model_name": "DescriptionStyleModel",
     "state": {
      "_model_module": "@jupyter-widgets/controls",
      "_model_module_version": "1.5.0",
      "_model_name": "DescriptionStyleModel",
      "_view_count": null,
      "_view_module": "@jupyter-widgets/base",
      "_view_module_version": "1.2.0",
      "_view_name": "StyleView",
      "description_width": ""
     }
    },
    "6c7dec7b1e804c2195f6e60fb3c1d18e": {
     "model_module": "@jupyter-widgets/controls",
     "model_module_version": "1.5.0",
     "model_name": "ProgressStyleModel",
     "state": {
      "_model_module": "@jupyter-widgets/controls",
      "_model_module_version": "1.5.0",
      "_model_name": "ProgressStyleModel",
      "_view_count": null,
      "_view_module": "@jupyter-widgets/base",
      "_view_module_version": "1.2.0",
      "_view_name": "StyleView",
      "bar_color": null,
      "description_width": "initial"
     }
    },
    "6f132d7bb83d41b6847df0d0ec0a1b92": {
     "model_module": "@jupyter-widgets/controls",
     "model_module_version": "1.5.0",
     "model_name": "HTMLModel",
     "state": {
      "_dom_classes": [],
      "_model_module": "@jupyter-widgets/controls",
      "_model_module_version": "1.5.0",
      "_model_name": "HTMLModel",
      "_view_count": null,
      "_view_module": "@jupyter-widgets/controls",
      "_view_module_version": "1.5.0",
      "_view_name": "HTMLView",
      "description": "",
      "description_tooltip": null,
      "layout": "IPY_MODEL_978c24b18b594eaf8ca47730a88eefb9",
      "placeholder": "​",
      "style": "IPY_MODEL_a7bdbedc75de4f77b45f1389c2ea0abc",
      "value": " 433/433 [00:00&lt;00:00, 2.02kB/s]"
     }
    },
    "82ddfcea0e4c4e5a86cf6eca8585be8d": {
     "model_module": "@jupyter-widgets/controls",
     "model_module_version": "1.5.0",
     "model_name": "HBoxModel",
     "state": {
      "_dom_classes": [],
      "_model_module": "@jupyter-widgets/controls",
      "_model_module_version": "1.5.0",
      "_model_name": "HBoxModel",
      "_view_count": null,
      "_view_module": "@jupyter-widgets/controls",
      "_view_module_version": "1.5.0",
      "_view_name": "HBoxView",
      "box_style": "",
      "children": [
       "IPY_MODEL_8c76faadf2f4415393c6f0a805f0d72b",
       "IPY_MODEL_e0bb735fda99434a90380e7fc664212d"
      ],
      "layout": "IPY_MODEL_8a256ba4a19e4ec98fe3c3c99fba4daa"
     }
    },
    "8a256ba4a19e4ec98fe3c3c99fba4daa": {
     "model_module": "@jupyter-widgets/base",
     "model_module_version": "1.2.0",
     "model_name": "LayoutModel",
     "state": {
      "_model_module": "@jupyter-widgets/base",
      "_model_module_version": "1.2.0",
      "_model_name": "LayoutModel",
      "_view_count": null,
      "_view_module": "@jupyter-widgets/base",
      "_view_module_version": "1.2.0",
      "_view_name": "LayoutView",
      "align_content": null,
      "align_items": null,
      "align_self": null,
      "border": null,
      "bottom": null,
      "display": null,
      "flex": null,
      "flex_flow": null,
      "grid_area": null,
      "grid_auto_columns": null,
      "grid_auto_flow": null,
      "grid_auto_rows": null,
      "grid_column": null,
      "grid_gap": null,
      "grid_row": null,
      "grid_template_areas": null,
      "grid_template_columns": null,
      "grid_template_rows": null,
      "height": null,
      "justify_content": null,
      "justify_items": null,
      "left": null,
      "margin": null,
      "max_height": null,
      "max_width": null,
      "min_height": null,
      "min_width": null,
      "object_fit": null,
      "object_position": null,
      "order": null,
      "overflow": null,
      "overflow_x": null,
      "overflow_y": null,
      "padding": null,
      "right": null,
      "top": null,
      "visibility": null,
      "width": null
     }
    },
    "8c76faadf2f4415393c6f0a805f0d72b": {
     "model_module": "@jupyter-widgets/controls",
     "model_module_version": "1.5.0",
     "model_name": "FloatProgressModel",
     "state": {
      "_dom_classes": [],
      "_model_module": "@jupyter-widgets/controls",
      "_model_module_version": "1.5.0",
      "_model_name": "FloatProgressModel",
      "_view_count": null,
      "_view_module": "@jupyter-widgets/controls",
      "_view_module_version": "1.5.0",
      "_view_name": "ProgressView",
      "bar_style": "success",
      "description": "Downloading: 100%",
      "description_tooltip": null,
      "layout": "IPY_MODEL_1058e0b5baa248faa60c1ad146d10bf7",
      "max": 231508,
      "min": 0,
      "orientation": "horizontal",
      "style": "IPY_MODEL_cdb78e75309f4bc09366533331e72431",
      "value": 231508
     }
    },
    "978c24b18b594eaf8ca47730a88eefb9": {
     "model_module": "@jupyter-widgets/base",
     "model_module_version": "1.2.0",
     "model_name": "LayoutModel",
     "state": {
      "_model_module": "@jupyter-widgets/base",
      "_model_module_version": "1.2.0",
      "_model_name": "LayoutModel",
      "_view_count": null,
      "_view_module": "@jupyter-widgets/base",
      "_view_module_version": "1.2.0",
      "_view_name": "LayoutView",
      "align_content": null,
      "align_items": null,
      "align_self": null,
      "border": null,
      "bottom": null,
      "display": null,
      "flex": null,
      "flex_flow": null,
      "grid_area": null,
      "grid_auto_columns": null,
      "grid_auto_flow": null,
      "grid_auto_rows": null,
      "grid_column": null,
      "grid_gap": null,
      "grid_row": null,
      "grid_template_areas": null,
      "grid_template_columns": null,
      "grid_template_rows": null,
      "height": null,
      "justify_content": null,
      "justify_items": null,
      "left": null,
      "margin": null,
      "max_height": null,
      "max_width": null,
      "min_height": null,
      "min_width": null,
      "object_fit": null,
      "object_position": null,
      "order": null,
      "overflow": null,
      "overflow_x": null,
      "overflow_y": null,
      "padding": null,
      "right": null,
      "top": null,
      "visibility": null,
      "width": null
     }
    },
    "a7bdbedc75de4f77b45f1389c2ea0abc": {
     "model_module": "@jupyter-widgets/controls",
     "model_module_version": "1.5.0",
     "model_name": "DescriptionStyleModel",
     "state": {
      "_model_module": "@jupyter-widgets/controls",
      "_model_module_version": "1.5.0",
      "_model_name": "DescriptionStyleModel",
      "_view_count": null,
      "_view_module": "@jupyter-widgets/base",
      "_view_module_version": "1.2.0",
      "_view_name": "StyleView",
      "description_width": ""
     }
    },
    "bf9dfa1ff3e642fbb74c5146d21044c2": {
     "model_module": "@jupyter-widgets/controls",
     "model_module_version": "1.5.0",
     "model_name": "HBoxModel",
     "state": {
      "_dom_classes": [],
      "_model_module": "@jupyter-widgets/controls",
      "_model_module_version": "1.5.0",
      "_model_name": "HBoxModel",
      "_view_count": null,
      "_view_module": "@jupyter-widgets/controls",
      "_view_module_version": "1.5.0",
      "_view_name": "HBoxView",
      "box_style": "",
      "children": [
       "IPY_MODEL_1296a3d754b344a482a03e5af84e805e",
       "IPY_MODEL_6f132d7bb83d41b6847df0d0ec0a1b92"
      ],
      "layout": "IPY_MODEL_1c2b0ede959142fc89bf07a9c88df638"
     }
    },
    "cdb78e75309f4bc09366533331e72431": {
     "model_module": "@jupyter-widgets/controls",
     "model_module_version": "1.5.0",
     "model_name": "ProgressStyleModel",
     "state": {
      "_model_module": "@jupyter-widgets/controls",
      "_model_module_version": "1.5.0",
      "_model_name": "ProgressStyleModel",
      "_view_count": null,
      "_view_module": "@jupyter-widgets/base",
      "_view_module_version": "1.2.0",
      "_view_name": "StyleView",
      "bar_color": null,
      "description_width": "initial"
     }
    },
    "cea84f9c3db641acb98314028b305514": {
     "model_module": "@jupyter-widgets/base",
     "model_module_version": "1.2.0",
     "model_name": "LayoutModel",
     "state": {
      "_model_module": "@jupyter-widgets/base",
      "_model_module_version": "1.2.0",
      "_model_name": "LayoutModel",
      "_view_count": null,
      "_view_module": "@jupyter-widgets/base",
      "_view_module_version": "1.2.0",
      "_view_name": "LayoutView",
      "align_content": null,
      "align_items": null,
      "align_self": null,
      "border": null,
      "bottom": null,
      "display": null,
      "flex": null,
      "flex_flow": null,
      "grid_area": null,
      "grid_auto_columns": null,
      "grid_auto_flow": null,
      "grid_auto_rows": null,
      "grid_column": null,
      "grid_gap": null,
      "grid_row": null,
      "grid_template_areas": null,
      "grid_template_columns": null,
      "grid_template_rows": null,
      "height": null,
      "justify_content": null,
      "justify_items": null,
      "left": null,
      "margin": null,
      "max_height": null,
      "max_width": null,
      "min_height": null,
      "min_width": null,
      "object_fit": null,
      "object_position": null,
      "order": null,
      "overflow": null,
      "overflow_x": null,
      "overflow_y": null,
      "padding": null,
      "right": null,
      "top": null,
      "visibility": null,
      "width": null
     }
    },
    "d689bc8d488a4dc09c393b4fc9747bcb": {
     "model_module": "@jupyter-widgets/controls",
     "model_module_version": "1.5.0",
     "model_name": "HTMLModel",
     "state": {
      "_dom_classes": [],
      "_model_module": "@jupyter-widgets/controls",
      "_model_module_version": "1.5.0",
      "_model_name": "HTMLModel",
      "_view_count": null,
      "_view_module": "@jupyter-widgets/controls",
      "_view_module_version": "1.5.0",
      "_view_name": "HTMLView",
      "description": "",
      "description_tooltip": null,
      "layout": "IPY_MODEL_440da34c72344cb08e4a1ee5de7049ee",
      "placeholder": "​",
      "style": "IPY_MODEL_4b1e27aff6f04fec8268d951e46b1e63",
      "value": " 440M/440M [00:07&lt;00:00, 55.5MB/s]"
     }
    },
    "e0bb735fda99434a90380e7fc664212d": {
     "model_module": "@jupyter-widgets/controls",
     "model_module_version": "1.5.0",
     "model_name": "HTMLModel",
     "state": {
      "_dom_classes": [],
      "_model_module": "@jupyter-widgets/controls",
      "_model_module_version": "1.5.0",
      "_model_name": "HTMLModel",
      "_view_count": null,
      "_view_module": "@jupyter-widgets/controls",
      "_view_module_version": "1.5.0",
      "_view_name": "HTMLView",
      "description": "",
      "description_tooltip": null,
      "layout": "IPY_MODEL_472198d5b6a748b3a81f9364fd1fa711",
      "placeholder": "​",
      "style": "IPY_MODEL_375cc635389c4ddb9bf2aa443df58bae",
      "value": " 232k/232k [00:00&lt;00:00, 616kB/s]"
     }
    },
    "f8874fec8a404ae89a38fd2ecbb357cf": {
     "model_module": "@jupyter-widgets/base",
     "model_module_version": "1.2.0",
     "model_name": "LayoutModel",
     "state": {
      "_model_module": "@jupyter-widgets/base",
      "_model_module_version": "1.2.0",
      "_model_name": "LayoutModel",
      "_view_count": null,
      "_view_module": "@jupyter-widgets/base",
      "_view_module_version": "1.2.0",
      "_view_name": "LayoutView",
      "align_content": null,
      "align_items": null,
      "align_self": null,
      "border": null,
      "bottom": null,
      "display": null,
      "flex": null,
      "flex_flow": null,
      "grid_area": null,
      "grid_auto_columns": null,
      "grid_auto_flow": null,
      "grid_auto_rows": null,
      "grid_column": null,
      "grid_gap": null,
      "grid_row": null,
      "grid_template_areas": null,
      "grid_template_columns": null,
      "grid_template_rows": null,
      "height": null,
      "justify_content": null,
      "justify_items": null,
      "left": null,
      "margin": null,
      "max_height": null,
      "max_width": null,
      "min_height": null,
      "min_width": null,
      "object_fit": null,
      "object_position": null,
      "order": null,
      "overflow": null,
      "overflow_x": null,
      "overflow_y": null,
      "padding": null,
      "right": null,
      "top": null,
      "visibility": null,
      "width": null
     }
    },
    "fe254c3bcc08402eb506f0e98f5673a7": {
     "model_module": "@jupyter-widgets/controls",
     "model_module_version": "1.5.0",
     "model_name": "HBoxModel",
     "state": {
      "_dom_classes": [],
      "_model_module": "@jupyter-widgets/controls",
      "_model_module_version": "1.5.0",
      "_model_name": "HBoxModel",
      "_view_count": null,
      "_view_module": "@jupyter-widgets/controls",
      "_view_module_version": "1.5.0",
      "_view_name": "HBoxView",
      "box_style": "",
      "children": [
       "IPY_MODEL_23ca9359e6c44232a1346e6f2ab7e48c",
       "IPY_MODEL_d689bc8d488a4dc09c393b4fc9747bcb"
      ],
      "layout": "IPY_MODEL_cea84f9c3db641acb98314028b305514"
     }
    }
   }
  }
 },
 "nbformat": 4,
 "nbformat_minor": 4
}
