{
 "cells": [
  {
   "cell_type": "code",
   "execution_count": 1,
   "id": "52430d87",
   "metadata": {
    "cellId": "kpe1h2p6rybkr4xtdzosf"
   },
   "outputs": [
    {
     "data": {
      "application/vnd.jupyter.widget-view+json": {
       "model_id": "a00ce4da3a8d4812a5885406a4afe374",
       "version_major": 2,
       "version_minor": 0
      },
      "text/plain": [
       "HBox(children=(FloatProgress(value=0.0, description='Downloading', max=511.0, style=ProgressStyle(description_…"
      ]
     },
     "metadata": {},
     "output_type": "display_data"
    },
    {
     "data": {
      "application/vnd.jupyter.widget-view+json": {
       "model_id": "d8763e947b2745398bbdbfaf427687b1",
       "version_major": 2,
       "version_minor": 0
      },
      "text/plain": [
       "HBox(children=(FloatProgress(value=0.0, description='Downloading', max=437985387.0, style=ProgressStyle(descri…"
      ]
     },
     "metadata": {},
     "output_type": "display_data"
    },
    {
     "data": {
      "application/vnd.jupyter.widget-view+json": {
       "model_id": "fcee64b643be4df7bdc65d60ec69d1e1",
       "version_major": 2,
       "version_minor": 0
      },
      "text/plain": [
       "HBox(children=(FloatProgress(value=0.0, description='Downloading', max=48.0, style=ProgressStyle(description_w…"
      ]
     },
     "metadata": {},
     "output_type": "display_data"
    },
    {
     "data": {
      "application/vnd.jupyter.widget-view+json": {
       "model_id": "9830817f259445d59fe8ff4d9e1e1882",
       "version_major": 2,
       "version_minor": 0
      },
      "text/plain": [
       "HBox(children=(FloatProgress(value=0.0, description='Downloading', max=231508.0, style=ProgressStyle(descripti…"
      ]
     },
     "metadata": {},
     "output_type": "display_data"
    },
    {
     "data": {
      "application/vnd.jupyter.widget-view+json": {
       "model_id": "024f5f7278e54b8e81ff7cf8c020d0b0",
       "version_major": 2,
       "version_minor": 0
      },
      "text/plain": [
       "HBox(children=(FloatProgress(value=0.0, description='Downloading', max=112.0, style=ProgressStyle(description_…"
      ]
     },
     "metadata": {},
     "output_type": "display_data"
    },
    {
     "name": "stdout",
     "output_type": "stream",
     "text": [
      "\n",
      "\n",
      "\n",
      "\n",
      "\n"
     ]
    }
   ],
   "source": [
    "#!g1.1\n",
    "import transformers\n",
    "model = transformers.AutoModelForSequenceClassification.from_pretrained(\"textattack/bert-base-uncased-imdb\")\n",
    "tokenizer = transformers.AutoTokenizer.from_pretrained(\"textattack/bert-base-uncased-imdb\")"
   ]
  },
  {
   "cell_type": "code",
   "execution_count": null,
   "id": "2dddbe16",
   "metadata": {
    "cellId": "3a9qx99ta3fayzrwe6cn75"
   },
   "outputs": [],
   "source": [
    "#!g1.1\n",
    "Чтобы запустить атаки - нам нужно загрузить саму модель"
   ]
  },
  {
   "cell_type": "code",
   "execution_count": 5,
   "id": "cfc34a0f",
   "metadata": {
    "cellId": "1fa5mwrwk9siq7z8hj5gsz"
   },
   "outputs": [
    {
     "name": "stdout",
     "output_type": "stream",
     "text": [
      "There are 1 GPU(s) available.\n",
      "We will use the GPU: Tesla V100-SXM2-32GB\n"
     ]
    }
   ],
   "source": [
    "#!g1.1\n",
    "#!g1.1\n",
    "import torch\n",
    "\n",
    "# If there's a GPU available...\n",
    "if torch.cuda.is_available():    \n",
    "\n",
    "    # Tell PyTorch to use the GPU.    \n",
    "    device = torch.device(\"cuda\")\n",
    "\n",
    "    print('There are %d GPU(s) available.' % torch.cuda.device_count())\n",
    "\n",
    "    print('We will use the GPU:', torch.cuda.get_device_name(0))\n",
    "\n",
    "# If not...\n",
    "else:\n",
    "    print('No GPU available, using the CPU instead.')\n",
    "    device = torch.device(\"cpu\")"
   ]
  },
  {
   "cell_type": "code",
   "execution_count": 6,
   "id": "dc63f024",
   "metadata": {
    "cellId": "qmd2a7btes1y3aoib1oyi"
   },
   "outputs": [],
   "source": [
    "#!g1.1   \n",
    "\n",
    "\n",
    "PATH_TO_DATA = '../data/'\n",
    "\n",
    "# данные\n",
    "\n",
    "import pandas as pd\n",
    "\n",
    "train_df = pd.read_csv(PATH_TO_DATA + 'train.csv', index_col='id').fillna('')  # обучающий датас\n",
    "valid_df = pd.read_csv(PATH_TO_DATA + 'valid.csv', index_col='id').fillna('')  # валидационный с таргетом\n",
    "test_df = pd.read_csv(PATH_TO_DATA + 'test.csv', index_col='id').fillna('')  # тестовый для каггла"
   ]
  },
  {
   "cell_type": "code",
   "execution_count": 7,
   "id": "87d54b29",
   "metadata": {
    "cellId": "is6lfd65x1te7092p6do"
   },
   "outputs": [
    {
     "data": {
      "text/plain": [
       "((52057, 2), (17353, 2), (17353, 1))"
      ]
     },
     "metadata": {},
     "output_type": "display_data"
    }
   ],
   "source": [
    "#!g1.1\n",
    "\n",
    "#!g1.1\n",
    "train_df.shape, valid_df.shape, test_df.shape"
   ]
  },
  {
   "cell_type": "code",
   "execution_count": 8,
   "id": "d4947dea",
   "metadata": {
    "cellId": "k6g5nih4vokapbnbbnu7k"
   },
   "outputs": [],
   "source": [
    "#!g1.1\n",
    "\n",
    "\n",
    "from sklearn.preprocessing import LabelEncoder\n",
    "\n",
    "le = LabelEncoder()\n",
    "\n",
    "labels = le.fit_transform(train_df.label.values)"
   ]
  },
  {
   "cell_type": "code",
   "execution_count": 9,
   "id": "f0d18f72",
   "metadata": {
    "cellId": "uq9jjbc4pjensjja74rit"
   },
   "outputs": [
    {
     "data": {
      "text/plain": [
       "array([3, 3, 3, ..., 2, 3, 2])"
      ]
     },
     "metadata": {},
     "output_type": "display_data"
    }
   ],
   "source": [
    "#!g1.1\n",
    "labels"
   ]
  },
  {
   "cell_type": "code",
   "execution_count": 11,
   "id": "3d623980",
   "metadata": {
    "cellId": "wgv7o06noqwbt0mvzs5sm"
   },
   "outputs": [
    {
     "ename": "ValueError",
     "evalue": "y contains previously unseen labels: ['dogs']",
     "output_type": "error",
     "traceback": [
      "\u001b[0;31m---------------------------------------------------------------------------\u001b[0m",
      "\u001b[0;31mValueError\u001b[0m                                Traceback (most recent call last)",
      "\u001b[0;32m<ipython-input-7-daeb4572bc7b>\u001b[0m in \u001b[0;36m<module>\u001b[0;34m\u001b[0m\n\u001b[0;32m----> 1\u001b[0;31m \u001b[0mle\u001b[0m\u001b[0;34m.\u001b[0m\u001b[0minverse_transform\u001b[0m\u001b[0;34m(\u001b[0m\u001b[0;34m[\u001b[0m\u001b[0;34m'dogs'\u001b[0m\u001b[0;34m]\u001b[0m\u001b[0;34m)\u001b[0m\u001b[0;34m\u001b[0m\u001b[0;34m\u001b[0m\u001b[0m\n\u001b[0m\u001b[1;32m      2\u001b[0m \u001b[0;31m#\u001b[0m\u001b[0;34m\u001b[0m\u001b[0;34m\u001b[0m\u001b[0;34m\u001b[0m\u001b[0m\n",
      "\u001b[0;32m/usr/local/lib/python3.7/dist-packages/sklearn/preprocessing/_label.py\u001b[0m in \u001b[0;36minverse_transform\u001b[0;34m(self, y)\u001b[0m\n\u001b[1;32m    295\u001b[0m         \u001b[0;32mif\u001b[0m \u001b[0mlen\u001b[0m\u001b[0;34m(\u001b[0m\u001b[0mdiff\u001b[0m\u001b[0;34m)\u001b[0m\u001b[0;34m:\u001b[0m\u001b[0;34m\u001b[0m\u001b[0;34m\u001b[0m\u001b[0m\n\u001b[1;32m    296\u001b[0m             raise ValueError(\n\u001b[0;32m--> 297\u001b[0;31m                     \"y contains previously unseen labels: %s\" % str(diff))\n\u001b[0m\u001b[1;32m    298\u001b[0m         \u001b[0my\u001b[0m \u001b[0;34m=\u001b[0m \u001b[0mnp\u001b[0m\u001b[0;34m.\u001b[0m\u001b[0masarray\u001b[0m\u001b[0;34m(\u001b[0m\u001b[0my\u001b[0m\u001b[0;34m)\u001b[0m\u001b[0;34m\u001b[0m\u001b[0;34m\u001b[0m\u001b[0m\n\u001b[1;32m    299\u001b[0m         \u001b[0;32mreturn\u001b[0m \u001b[0mself\u001b[0m\u001b[0;34m.\u001b[0m\u001b[0mclasses_\u001b[0m\u001b[0;34m[\u001b[0m\u001b[0my\u001b[0m\u001b[0;34m]\u001b[0m\u001b[0;34m\u001b[0m\u001b[0;34m\u001b[0m\u001b[0m\n",
      "\u001b[0;31mValueError\u001b[0m: y contains previously unseen labels: ['dogs']"
     ]
    }
   ],
   "source": [
    "#!g1.1\n",
    "le.inverse_transform(['dog'])"
   ]
  },
  {
   "cell_type": "code",
   "execution_count": null,
   "id": "bce47b3a",
   "metadata": {
    "cellId": "vrb4fomumvptqsrk87hjhj"
   },
   "outputs": [],
   "source": [
    "#!g1.1\n",
    "\n",
    "# загруззим модель обученную на амазоне \n",
    "\n",
    "\n",
    "\n"
   ]
  },
  {
   "cell_type": "code",
   "execution_count": 2,
   "id": "7631658c",
   "metadata": {
    "cellId": "42riv9oauua81k2bz19yvh"
   },
   "outputs": [],
   "source": [
    "#!g1.1\n",
    "import textattack\n"
   ]
  },
  {
   "cell_type": "code",
   "execution_count": 3,
   "id": "ebd3e79a",
   "metadata": {
    "cellId": "kfk1p9hcgrvfdjcxw68k"
   },
   "outputs": [],
   "source": [
    "#!g1.1\n",
    "model_wrapper = textattack.models.wrappers.HuggingFaceModelWrapper(model, tokenizer)"
   ]
  },
  {
   "cell_type": "code",
   "execution_count": null,
   "id": "6747c54a",
   "metadata": {
    "cellId": "zszs4bo88kyt8y7ucai0c"
   },
   "outputs": [],
   "source": [
    "#!g1.1\n",
    "dataset = textattack.datasets.HuggingFaceDataset(\"imdb\", split=\"test\")\n",
    "attack = textattack.attack_recipes.TextFoolerJin2019.build(model_wrapper)\n",
    " # Attack 20 samples with CSV logging and checkpoint saved every 5 interval\n",
    "attack_args = textattack.AttackArgs(num_examples=20, log_to_csv=\"log.csv\", checkpoint_interval=5, checkpoint_dir=\"checkpoints\", disable_stdout=True)\n",
    "attacker = textattack.Attacker(attack, dataset, attack_args)\n",
    "attacker.attack_dataset()"
   ]
  },
  {
   "cell_type": "code",
   "execution_count": null,
   "id": "c8145cf7",
   "metadata": {
    "cellId": "8kkmooaia2ed69hek12els"
   },
   "outputs": [],
   "source": []
  }
 ],
 "metadata": {
  "kernelspec": {
   "display_name": "Yandex DataSphere Kernel",
   "language": "python",
   "name": "python3"
  },
  "language_info": {
   "codemirror_mode": {
    "name": "ipython",
    "version": 3
   },
   "file_extension": ".py",
   "mimetype": "text/x-python",
   "name": "python",
   "nbconvert_exporter": "python",
   "pygments_lexer": "ipython3",
   "version": "3.7.7"
  },
  "notebookId": "51f39179-7316-4914-b4ee-691edbdab803",
  "notebookPath": "text_attacks/notebooks/run_attacks.ipynb"
 },
 "nbformat": 4,
 "nbformat_minor": 5
}
