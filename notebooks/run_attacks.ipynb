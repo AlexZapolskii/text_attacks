{
 "cells": [
  {
   "cell_type": "code",
   "execution_count": 1,
   "id": "f237df2d",
   "metadata": {
    "cellId": "kpe1h2p6rybkr4xtdzosf"
   },
   "outputs": [
    {
     "data": {
      "application/vnd.jupyter.widget-view+json": {
       "model_id": "a00ce4da3a8d4812a5885406a4afe374",
       "version_major": 2,
       "version_minor": 0
      },
      "text/plain": [
       "HBox(children=(FloatProgress(value=0.0, description='Downloading', max=511.0, style=ProgressStyle(description_…"
      ]
     },
     "metadata": {},
     "output_type": "display_data"
    },
    {
     "data": {
      "application/vnd.jupyter.widget-view+json": {
       "model_id": "d8763e947b2745398bbdbfaf427687b1",
       "version_major": 2,
       "version_minor": 0
      },
      "text/plain": [
       "HBox(children=(FloatProgress(value=0.0, description='Downloading', max=437985387.0, style=ProgressStyle(descri…"
      ]
     },
     "metadata": {},
     "output_type": "display_data"
    },
    {
     "data": {
      "application/vnd.jupyter.widget-view+json": {
       "model_id": "fcee64b643be4df7bdc65d60ec69d1e1",
       "version_major": 2,
       "version_minor": 0
      },
      "text/plain": [
       "HBox(children=(FloatProgress(value=0.0, description='Downloading', max=48.0, style=ProgressStyle(description_w…"
      ]
     },
     "metadata": {},
     "output_type": "display_data"
    },
    {
     "data": {
      "application/vnd.jupyter.widget-view+json": {
       "model_id": "9830817f259445d59fe8ff4d9e1e1882",
       "version_major": 2,
       "version_minor": 0
      },
      "text/plain": [
       "HBox(children=(FloatProgress(value=0.0, description='Downloading', max=231508.0, style=ProgressStyle(descripti…"
      ]
     },
     "metadata": {},
     "output_type": "display_data"
    },
    {
     "data": {
      "application/vnd.jupyter.widget-view+json": {
       "model_id": "024f5f7278e54b8e81ff7cf8c020d0b0",
       "version_major": 2,
       "version_minor": 0
      },
      "text/plain": [
       "HBox(children=(FloatProgress(value=0.0, description='Downloading', max=112.0, style=ProgressStyle(description_…"
      ]
     },
     "metadata": {},
     "output_type": "display_data"
    },
    {
     "name": "stdout",
     "output_type": "stream",
     "text": [
      "\n",
      "\n",
      "\n",
      "\n",
      "\n"
     ]
    }
   ],
   "source": [
    "#!g1.1\n",
    "import transformers\n",
    "model = transformers.AutoModelForSequenceClassification.from_pretrained(\"textattack/bert-base-uncased-imdb\")\n",
    "tokenizer = transformers.AutoTokenizer.from_pretrained(\"textattack/bert-base-uncased-imdb\")"
   ]
  },
  {
   "cell_type": "code",
   "execution_count": null,
   "id": "9051d0b5",
   "metadata": {
    "cellId": "3a9qx99ta3fayzrwe6cn75"
   },
   "outputs": [],
   "source": [
    "#!g1.1\n",
    "Чтобы запустить атаки - нам нужно загрузить саму модель"
   ]
  },
  {
   "cell_type": "code",
   "execution_count": 12,
   "id": "984d31e7",
   "metadata": {
    "cellId": "1fa5mwrwk9siq7z8hj5gsz"
   },
   "outputs": [
    {
     "name": "stdout",
     "output_type": "stream",
     "text": [
      "There are 1 GPU(s) available.\n",
      "We will use the GPU: Tesla V100-SXM2-32GB\n"
     ]
    }
   ],
   "source": [
    "#!g1.1\n",
    "\n",
    "#!g1.1\n",
    "import torch\n",
    "\n",
    "# If there's a GPU available...\n",
    "if torch.cuda.is_available():    \n",
    "\n",
    "    # Tell PyTorch to use the GPU.    \n",
    "    device = torch.device(\"cuda\")\n",
    "\n",
    "    print('There are %d GPU(s) available.' % torch.cuda.device_count())\n",
    "\n",
    "    print('We will use the GPU:', torch.cuda.get_device_name(0))\n",
    "\n",
    "# If not...\n",
    "else:\n",
    "    print('No GPU available, using the CPU instead.')\n",
    "    device = torch.device(\"cpu\")"
   ]
  },
  {
   "cell_type": "code",
   "execution_count": 13,
   "id": "bc613b97",
   "metadata": {
    "cellId": "qmd2a7btes1y3aoib1oyi"
   },
   "outputs": [],
   "source": [
    "#!g1.1   \n",
    "\n",
    "\n",
    "PATH_TO_DATA = '../data/'\n",
    "\n",
    "# данные\n",
    "\n",
    "import pandas as pd\n",
    "\n",
    "train_df = pd.read_csv(PATH_TO_DATA + 'train.csv', index_col='id').fillna('')  # обучающий датас\n",
    "valid_df = pd.read_csv(PATH_TO_DATA + 'valid.csv', index_col='id').fillna('')  # валидационный с таргетом\n",
    "test_df = pd.read_csv(PATH_TO_DATA + 'test.csv', index_col='id').fillna('')  # тестовый для каггла"
   ]
  },
  {
   "cell_type": "code",
   "execution_count": 14,
   "id": "0645767c",
   "metadata": {
    "cellId": "is6lfd65x1te7092p6do"
   },
   "outputs": [
    {
     "data": {
      "text/plain": [
       "((52057, 2), (17353, 2), (17353, 1))"
      ]
     },
     "metadata": {},
     "output_type": "display_data"
    }
   ],
   "source": [
    "#!g1.1\n",
    "\n",
    "#!g1.1\n",
    "train_df.shape, valid_df.shape, test_df.shape"
   ]
  },
  {
   "cell_type": "code",
   "execution_count": 15,
   "id": "bd69ce6f",
   "metadata": {
    "cellId": "k6g5nih4vokapbnbbnu7k"
   },
   "outputs": [],
   "source": [
    "#!g1.1\n",
    "\n",
    "\n",
    "from sklearn.preprocessing import LabelEncoder\n",
    "\n",
    "le = LabelEncoder()\n",
    "\n",
    "labels = le.fit_transform(train_df.label.values)"
   ]
  },
  {
   "cell_type": "code",
   "execution_count": 16,
   "id": "e6928415",
   "metadata": {
    "cellId": "uq9jjbc4pjensjja74rit"
   },
   "outputs": [
    {
     "data": {
      "text/plain": [
       "array([3, 3, 3, ..., 2, 3, 2])"
      ]
     },
     "metadata": {},
     "output_type": "display_data"
    }
   ],
   "source": [
    "#!g1.1\n",
    "labels"
   ]
  },
  {
   "cell_type": "code",
   "execution_count": 17,
   "id": "bd4aaebd",
   "metadata": {
    "cellId": "wgv7o06noqwbt0mvzs5sm"
   },
   "outputs": [
    {
     "data": {
      "text/plain": [
       "array(['dogs', 'dogs', 'dogs'], dtype=object)"
      ]
     },
     "metadata": {},
     "output_type": "display_data"
    }
   ],
   "source": [
    "#!g1.1\n",
    "le.inverse_transform([3,3,3])"
   ]
  },
  {
   "cell_type": "code",
   "execution_count": null,
   "id": "26393393",
   "metadata": {
    "cellId": "zx1313dyamfy5aes3k1uz"
   },
   "outputs": [],
   "source": [
    "#!g1.1\n",
    "\n",
    "# загруззим модель обученную на амазоне \n",
    "\n",
    "#!g1.1\n",
    "from transformers import BertTokenizer\n",
    "\n",
    "print('Loading BERT tokenizer...')\n",
    "tokenizer = BertTokenizer.from_pretrained('distilbert-base-uncased', do_lower_case=True)  #стандартная модель - bert-base-uncased, \n",
    "\n",
    "#!g1.1\n",
    "from transformers import BertForSequenceClassification, AdamW, BertConfig\n",
    "\n",
    "model = BertForSequenceClassification.from_pretrained(\n",
    "    \"distilbert-base-uncased\", # Use the 12-layer BERT model, with an uncased vocab. используем дистилированный берт\n",
    "    num_labels = 6, # The number of output labels--2 for binary classification.\n",
    "                    # You can increase this for multi-class tasks.   \n",
    "    output_attentions = False, # Whether the model returns attentions weights.\n",
    "    output_hidden_states = False, # Whether the model returns all hidden-states.\n",
    ")\n",
    "\n",
    "# Tell pytorch to run this model on the GPU.\n",
    "model.cuda()\n",
    "\n",
    "\n"
   ]
  },
  {
   "cell_type": "code",
   "execution_count": 23,
   "id": "c38155fc",
   "metadata": {
    "cellId": "03tlz2wxezcicm3c09iuacw"
   },
   "outputs": [
    {
     "ename": "\u001b[0;31mKernelNotResponding\u001b[0m",
     "evalue": "Kernel died unexpectedly and has been restarted. If it's not coming back, please, try restarting from the main menu.",
     "output_type": "error",
     "traceback": []
    }
   ],
   "source": [
    "#!g1.1\n",
    "\n",
    "# загрузим веса \n",
    "\n",
    "#!g1.1\n",
    "\n",
    "#загрузим модель\n",
    "\n",
    "device = torch.device(\"cuda\") \n",
    "#model = TheModelClass(args, *kwargs) \n",
    "model.load_state_dict(torch.load('../data/amzn.bin')) \n",
    "model.to(device)"
   ]
  },
  {
   "cell_type": "code",
   "execution_count": 2,
   "id": "0581c0ce",
   "metadata": {
    "cellId": "42riv9oauua81k2bz19yvh"
   },
   "outputs": [],
   "source": [
    "#!g1.1\n",
    "import textattack\n"
   ]
  },
  {
   "cell_type": "code",
   "execution_count": 3,
   "id": "fbcad5be",
   "metadata": {
    "cellId": "kfk1p9hcgrvfdjcxw68k"
   },
   "outputs": [],
   "source": [
    "#!g1.1\n",
    "model_wrapper = textattack.models.wrappers.HuggingFaceModelWrapper(model, tokenizer)"
   ]
  },
  {
   "cell_type": "code",
   "execution_count": null,
   "id": "a66f91c7",
   "metadata": {
    "cellId": "zszs4bo88kyt8y7ucai0c"
   },
   "outputs": [],
   "source": [
    "#!g1.1\n",
    "dataset = textattack.datasets.HuggingFaceDataset(\"imdb\", split=\"test\")\n",
    "attack = textattack.attack_recipes.TextFoolerJin2019.build(model_wrapper)\n",
    " # Attack 20 samples with CSV logging and checkpoint saved every 5 interval\n",
    "attack_args = textattack.AttackArgs(num_examples=20, log_to_csv=\"log.csv\", checkpoint_interval=5, checkpoint_dir=\"checkpoints\", disable_stdout=True)\n",
    "attacker = textattack.Attacker(attack, dataset, attack_args)\n",
    "attacker.attack_dataset()"
   ]
  },
  {
   "cell_type": "code",
   "execution_count": null,
   "id": "13902f2d",
   "metadata": {
    "cellId": "8kkmooaia2ed69hek12els"
   },
   "outputs": [],
   "source": []
  }
 ],
 "metadata": {
  "kernelspec": {
   "display_name": "Yandex DataSphere Kernel",
   "language": "python",
   "name": "python3"
  },
  "language_info": {
   "codemirror_mode": {
    "name": "ipython",
    "version": 3
   },
   "file_extension": ".py",
   "mimetype": "text/x-python",
   "name": "python",
   "nbconvert_exporter": "python",
   "pygments_lexer": "ipython3",
   "version": "3.7.7"
  },
  "notebookId": "51f39179-7316-4914-b4ee-691edbdab803",
  "notebookPath": "text_attacks/notebooks/run_attacks.ipynb"
 },
 "nbformat": 4,
 "nbformat_minor": 5
}
