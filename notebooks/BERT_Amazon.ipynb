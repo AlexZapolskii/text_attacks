{
 "cells": [
  {
   "cell_type": "code",
   "execution_count": 335,
   "metadata": {
    "cellId": "17wwsputgbxegj8o60td6"
   },
   "outputs": [],
   "source": [
    "#!g1.1\n",
    "import pandas as pd\n",
    "from sklearn.linear_model import LogisticRegression\n",
    "from sklearn.model_selection import cross_val_score, StratifiedKFold\n",
    "from sklearn.feature_extraction.text import TfidfVectorizer\n",
    "from scipy.sparse import hstack\n",
    "from matplotlib import pyplot as plt\n",
    "import seaborn as sns\n"
   ]
  },
  {
   "cell_type": "code",
   "execution_count": 421,
   "metadata": {
    "cellId": "6uqwzjbe7qim4yoawocqkq"
   },
   "outputs": [
    {
     "name": "stdout",
     "output_type": "stream",
     "text": [
      "There are 1 GPU(s) available.\n",
      "We will use the GPU: Tesla V100-SXM2-32GB\n",
      "There are 1 GPU(s) available.\n",
      "We will use the GPU: Tesla V100-SXM2-32GB\n"
     ]
    }
   ],
   "source": [
    "#!g1.1\n",
    "\n",
    "import torch\n",
    "\n",
    "# If there's a GPU available...\n",
    "if torch.cuda.is_available():    \n",
    "\n",
    "    # Tell PyTorch to use the GPU.    \n",
    "    device = torch.device(\"cuda\")\n",
    "\n",
    "    print('There are %d GPU(s) available.' % torch.cuda.device_count())\n",
    "\n",
    "    print('We will use the GPU:', torch.cuda.get_device_name(0))\n",
    "\n",
    "# If not...\n",
    "else:\n",
    "    print('No GPU available, using the CPU instead.')\n",
    "    device = torch.device(\"cpu\")"
   ]
  },
  {
   "cell_type": "markdown",
   "metadata": {
    "cellId": "3oog67pbx9o00m6cd3tc34mv"
   },
   "source": [
    "\n",
    "### В данном ноутбуке мы рассмотрим обучение nlp моделей <br> и текстовые атаки на примере англоязычного датасета - amazon product review"
   ]
  },
  {
   "cell_type": "markdown",
   "metadata": {
    "cellId": "rsik58j0ih9qnb3224oagh"
   },
   "source": [
    "Пайплайн: \n",
    "    \n",
    "Обучение\n",
    "   - Загрузка данных +\n",
    "   - Строим tf-idf бейзлайн +\n",
    "   - Bert-fine tuning +\n",
    "   - Сравниваем результаты моделей +\n",
    "\n",
    "Атаки:\n",
    "   - Text fooler +  \n",
    "   - Bae +\n",
    "   - для бейзлайна (-) и берта (+)\n",
    "   - Оценка результатов"
   ]
  },
  {
   "cell_type": "markdown",
   "metadata": {
    "cellId": "spnyrj5t1l3fl5301enfj"
   },
   "source": [
    "\n",
    "Загрузим данные"
   ]
  },
  {
   "cell_type": "code",
   "execution_count": 330,
   "metadata": {
    "cellId": "qrckypn014xiywkv4al6",
    "colab": {
     "base_uri": "https://localhost:8080/"
    },
    "id": "oYsV4H8fCpZ-",
    "outputId": "2e60467d-6a6b-4898-e2f4-f42884cc6092"
   },
   "outputs": [],
   "source": [
    "#!g1.1\n",
    "\n",
    "#!g1.1\n",
    "\n",
    "#lets load data\n",
    "#данные можно скачать по ссылке https://www.kaggle.com/c/amazon-pet-product-reviews-classification/data\n",
    "# to reproduce, download the data and customize this path\n",
    "PATH_TO_DATA = '../data/'\n",
    "\n",
    "import pandas as pd\n",
    "\n",
    "train_df = pd.read_csv(PATH_TO_DATA + 'train.csv', index_col='id').fillna('')  # обучающий датас\n",
    "valid_df = pd.read_csv(PATH_TO_DATA + 'valid.csv', index_col='id').fillna('')  # валидационный с таргетом\n",
    "test_df = pd.read_csv(PATH_TO_DATA + 'test.csv', index_col='id').fillna('')  # тестовый для каггла\n"
   ]
  },
  {
   "cell_type": "code",
   "execution_count": 332,
   "metadata": {
    "cellId": "kbf2mxhj4ke1lwxe9az9r"
   },
   "outputs": [
    {
     "data": {
      "text/plain": [
       "((52057, 2), (17353, 2), (17353, 1))"
      ]
     },
     "metadata": {},
     "output_type": "display_data"
    }
   ],
   "source": [
    "#!g1.1\n",
    "\n",
    "train_df.shape, valid_df.shape, test_df.shape"
   ]
  },
  {
   "cell_type": "code",
   "execution_count": 331,
   "metadata": {
    "cellId": "7go8cxs2zsy7ybqe6jwaym"
   },
   "outputs": [
    {
     "data": {
      "text/html": [
       "<div>\n",
       "<style scoped>\n",
       "    .dataframe tbody tr th:only-of-type {\n",
       "        vertical-align: middle;\n",
       "    }\n",
       "\n",
       "    .dataframe tbody tr th {\n",
       "        vertical-align: top;\n",
       "    }\n",
       "\n",
       "    .dataframe thead th {\n",
       "        text-align: right;\n",
       "    }\n",
       "</style>\n",
       "<table border=\"1\" class=\"dataframe\">\n",
       "  <thead>\n",
       "    <tr style=\"text-align: right;\">\n",
       "      <th></th>\n",
       "      <th>text</th>\n",
       "      <th>label</th>\n",
       "    </tr>\n",
       "    <tr>\n",
       "      <th>id</th>\n",
       "      <th></th>\n",
       "      <th></th>\n",
       "    </tr>\n",
       "  </thead>\n",
       "  <tbody>\n",
       "    <tr>\n",
       "      <th>0</th>\n",
       "      <td>Sam has an everlast treat each nite before bed...</td>\n",
       "      <td>dogs</td>\n",
       "    </tr>\n",
       "    <tr>\n",
       "      <th>1</th>\n",
       "      <td>The product is as it says. I keep an eye on it...</td>\n",
       "      <td>dogs</td>\n",
       "    </tr>\n",
       "    <tr>\n",
       "      <th>2</th>\n",
       "      <td>My Kitty thinks these are treats! He loves the...</td>\n",
       "      <td>dogs</td>\n",
       "    </tr>\n",
       "    <tr>\n",
       "      <th>3</th>\n",
       "      <td>This is the third or fourth time that we've or...</td>\n",
       "      <td>dogs</td>\n",
       "    </tr>\n",
       "    <tr>\n",
       "      <th>4</th>\n",
       "      <td>Put this on both my dogs. And they are scratch...</td>\n",
       "      <td>dogs</td>\n",
       "    </tr>\n",
       "  </tbody>\n",
       "</table>\n",
       "</div>"
      ],
      "text/plain": [
       "                                                 text label\n",
       "id                                                         \n",
       "0   Sam has an everlast treat each nite before bed...  dogs\n",
       "1   The product is as it says. I keep an eye on it...  dogs\n",
       "2   My Kitty thinks these are treats! He loves the...  dogs\n",
       "3   This is the third or fourth time that we've or...  dogs\n",
       "4   Put this on both my dogs. And they are scratch...  dogs"
      ]
     },
     "metadata": {},
     "output_type": "display_data"
    }
   ],
   "source": [
    "#!g1.1\n",
    "\n",
    "train_df.head()"
   ]
  },
  {
   "cell_type": "code",
   "execution_count": 333,
   "metadata": {
    "cellId": "gvn3aig6jjneuiyg35dzpn"
   },
   "outputs": [
    {
     "data": {
      "text/plain": [
       "dogs                    0.537872\n",
       "cats                    0.355284\n",
       "fish aquatic pets       0.069001\n",
       "birds                   0.020324\n",
       "bunny rabbit central    0.010950\n",
       "small animals           0.006570\n",
       "Name: label, dtype: float64"
      ]
     },
     "metadata": {},
     "output_type": "display_data"
    }
   ],
   "source": [
    "#!g1.1\n",
    "train_df.label.value_counts(1)"
   ]
  },
  {
   "cell_type": "markdown",
   "metadata": {
    "cellId": "1z6u31ywswo3f4vxe01ypk"
   },
   "source": [
    "#!g1.1\n",
    "\n",
    "Таргет - категория товаров - на которые написан отзыв\n",
    "Мы видим, что распределение классов - неравномерное, больше половины приходится на товары для собак, треть для кошек и около 10% на остальных питомцев"
   ]
  },
  {
   "cell_type": "markdown",
   "metadata": {
    "cellId": "vbufchq008ad3tjr33gz09"
   },
   "source": [
    "#!g1.1\n",
    "## Построим tf-idf  бейзлайн"
   ]
  },
  {
   "cell_type": "code",
   "execution_count": 409,
   "metadata": {
    "cellId": "rghelrm02aoqap3wfnbd0j"
   },
   "outputs": [],
   "source": [
    "#!g1.1\n",
    "text_transformer = TfidfVectorizer(stop_words='english', ngram_range=(1, 2), lowercase=True, max_features=150000)\n"
   ]
  },
  {
   "cell_type": "code",
   "execution_count": 410,
   "metadata": {
    "cellId": "hm64ghkgw1r5vb7wy8g8lm"
   },
   "outputs": [
    {
     "name": "stdout",
     "output_type": "stream",
     "text": [
      "CPU times: user 10.2 s, sys: 556 ms, total: 10.7 s\n",
      "Wall time: 16.6 s\n"
     ]
    }
   ],
   "source": [
    "#!g1.1\n",
    "\n",
    "%%time\n",
    "X_train_text = text_transformer.fit_transform(train_df['text'])\n",
    "X_valid_text = text_transformer.transform(valid_df['text'])"
   ]
  },
  {
   "cell_type": "code",
   "execution_count": 411,
   "metadata": {
    "cellId": "juqtnuc9ssovz5zfxecmwa"
   },
   "outputs": [
    {
     "data": {
      "text/plain": [
       "((52057, 150000), (17353, 150000))"
      ]
     },
     "metadata": {},
     "output_type": "display_data"
    }
   ],
   "source": [
    "#!g1.1\n",
    "\n",
    "X_train_text.shape, X_valid_text.shape"
   ]
  },
  {
   "cell_type": "code",
   "execution_count": null,
   "metadata": {
    "cellId": "jay790uymumjcbs63bayzl"
   },
   "outputs": [],
   "source": [
    "#!g1.1\n",
    "#!g1.1\n",
    "lg = LogisticRegression()"
   ]
  },
  {
   "cell_type": "code",
   "execution_count": 412,
   "metadata": {
    "cellId": "5yvjya2f3on1unnfjest95"
   },
   "outputs": [],
   "source": [
    "#!g1.1\n",
    "lg = LogisticRegression(C=5e1, solver='lbfgs', multi_class='multinomial', random_state=42, max_iter= 1000)"
   ]
  },
  {
   "cell_type": "code",
   "execution_count": 422,
   "metadata": {
    "cellId": "3zq8tfjzxlejubbe1h4tsc"
   },
   "outputs": [
    {
     "data": {
      "text/plain": [
       "LogisticRegression(C=50.0, class_weight=None, dual=False, fit_intercept=True,\n",
       "                   intercept_scaling=1, l1_ratio=None, max_iter=1000,\n",
       "                   multi_class='multinomial', n_jobs=None, penalty='l2',\n",
       "                   random_state=42, solver='lbfgs', tol=0.0001, verbose=0,\n",
       "                   warm_start=False)"
      ]
     },
     "metadata": {},
     "output_type": "display_data"
    }
   ],
   "source": [
    "#!g1.1\n",
    "lg"
   ]
  },
  {
   "cell_type": "code",
   "execution_count": 413,
   "metadata": {
    "cellId": "91zc3h5wbsse5bz49jje0b"
   },
   "outputs": [
    {
     "name": "stdout",
     "output_type": "stream",
     "text": [
      "CPU times: user 13min, sys: 17min 21s, total: 30min 21s\n",
      "Wall time: 3min 51s\n"
     ]
    },
    {
     "data": {
      "text/plain": [
       "LogisticRegression(C=50.0, class_weight=None, dual=False, fit_intercept=True,\n",
       "                   intercept_scaling=1, l1_ratio=None, max_iter=1000,\n",
       "                   multi_class='multinomial', n_jobs=None, penalty='l2',\n",
       "                   random_state=42, solver='lbfgs', tol=0.0001, verbose=0,\n",
       "                   warm_start=False)"
      ]
     },
     "metadata": {},
     "output_type": "display_data"
    }
   ],
   "source": [
    "#!g1.1\n",
    "%%time\n",
    "\n",
    "lg.fit(X_train_text, train_df['label'])"
   ]
  },
  {
   "cell_type": "code",
   "execution_count": 417,
   "metadata": {
    "cellId": "vsnwec2au3p6y5yb5n1kb"
   },
   "outputs": [],
   "source": [
    "#!g1.1\n",
    "\n",
    "from sklearn.model_selection import GridSearchCV\n"
   ]
  },
  {
   "cell_type": "code",
   "execution_count": 423,
   "metadata": {
    "cellId": "p3kf1ce93z9exo2yi8bsu"
   },
   "outputs": [],
   "source": [
    "#!g1.1\n",
    "# попробуем настроить силу регуляризации\n",
    "\n",
    "#param_grid = {'C': [0.001, 0.01, 0.1, 1, 10, 100, 1000] }\n",
    "param_grid = {'C': [1, 10, ] }\n",
    "\n",
    "clf = GridSearchCV(LogisticRegression(solver='lbfgs', multi_class='multinomial', random_state=42, max_iter= 1000), param_grid)\n"
   ]
  },
  {
   "cell_type": "code",
   "execution_count": 424,
   "metadata": {
    "cellId": "hrs5pvygomwu07p95azs"
   },
   "outputs": [
    {
     "data": {
      "text/plain": [
       "GridSearchCV(cv=None, error_score=nan,\n",
       "             estimator=LogisticRegression(C=1.0, class_weight=None, dual=False,\n",
       "                                          fit_intercept=True,\n",
       "                                          intercept_scaling=1, l1_ratio=None,\n",
       "                                          max_iter=1000,\n",
       "                                          multi_class='multinomial',\n",
       "                                          n_jobs=None, penalty='l2',\n",
       "                                          random_state=42, solver='lbfgs',\n",
       "                                          tol=0.0001, verbose=0,\n",
       "                                          warm_start=False),\n",
       "             iid='deprecated', n_jobs=None, param_grid={'C': [1, 10]},\n",
       "             pre_dispatch='2*n_jobs', refit=True, return_train_score=False,\n",
       "             scoring=None, verbose=0)"
      ]
     },
     "metadata": {},
     "output_type": "display_data"
    }
   ],
   "source": [
    "#!g1.1\n",
    "clf"
   ]
  },
  {
   "cell_type": "code",
   "execution_count": 425,
   "metadata": {
    "cellId": "xksxg4y3v6kem5cta1m4u"
   },
   "outputs": [
    {
     "name": "stdout",
     "output_type": "stream",
     "text": [
      "Mean Accuracy: 0.835\n",
      "Config: {'C': 10}\n",
      "CPU times: user 1h 3min 23s, sys: 1h 25min 22s, total: 2h 28min 45s\n",
      "Wall time: 19min 5s\n"
     ]
    }
   ],
   "source": [
    "#!g1.1\n",
    "%%time \n",
    "\n",
    "# fitting the model for grid search \n",
    "clf.fit(X_train_text, train_df['label'])\n",
    "clf.best_params_\n",
    "# summarize\n",
    "print('Mean Accuracy: %.3f' % clf.best_score_)\n",
    "print('Config: %s' % clf.best_params_)"
   ]
  },
  {
   "cell_type": "code",
   "execution_count": null,
   "metadata": {
    "cellId": "mwz5pvwcjqtgo5bobb9x"
   },
   "outputs": [],
   "source": [
    "#!g1.1\n",
    "LR_search = GridSearchCV(LR, param_grid=LRparam_grid, refit = True, verbose = 3, cv=5)\n"
   ]
  },
  {
   "cell_type": "code",
   "execution_count": null,
   "metadata": {
    "cellId": "nljs86rbrn4uzdceufgfo"
   },
   "outputs": [],
   "source": [
    "#!g1.1\n",
    "test_preds = logit.predict(X_test_text)\n"
   ]
  },
  {
   "cell_type": "code",
   "execution_count": 415,
   "metadata": {
    "cellId": "kantn8or0h80bojbkidc9"
   },
   "outputs": [
    {
     "name": "stdout",
     "output_type": "stream",
     "text": [
      "accuracy 0.833\n",
      "f1 0.717\n"
     ]
    }
   ],
   "source": [
    "#!g1.1\n",
    "print('accuracy', np.round(accuracy_score(valid_df['label'], lg.predict(X_valid_text)),3)) #качество на тесте\n",
    "print('f1', np.round(f1_score(valid_df['label'], lg.predict(X_valid_text), average='macro'),3)) #качество на тесте\n"
   ]
  },
  {
   "cell_type": "code",
   "execution_count": null,
   "metadata": {
    "cellId": "2egxsu029u8cl6a7ugpsfj"
   },
   "outputs": [],
   "source": [
    "#!g1.1\n",
    "print('accuracy', np.round(accuracy_score(valid_df['label'], lg.predict(X_valid_text)),3)) #качество на тесте\n",
    "print('f1', np.round(f1_score(valid_df['label'], lg.predict(X_valid_text), average='macro'),3)) #качество на тесте\n"
   ]
  },
  {
   "cell_type": "code",
   "execution_count": 349,
   "metadata": {
    "cellId": "ekdaw5txss5b75xtpwy3yq"
   },
   "outputs": [
    {
     "name": "stdout",
     "output_type": "stream",
     "text": [
      "                      precision    recall  f1-score   support\n",
      "\n",
      "               birds       0.90      0.77      0.83       353\n",
      "bunny rabbit central       0.67      0.60      0.63       190\n",
      "                cats       0.81      0.78      0.80      6166\n",
      "                dogs       0.85      0.88      0.87      9333\n",
      "   fish aquatic pets       0.93      0.85      0.89      1197\n",
      "       small animals       0.54      0.26      0.35       114\n",
      "\n",
      "            accuracy                           0.84     17353\n",
      "           macro avg       0.78      0.69      0.73     17353\n",
      "        weighted avg       0.84      0.84      0.84     17353\n",
      "\n"
     ]
    }
   ],
   "source": [
    "#!g1.1\n",
    "print(classification_report(valid_df['label'], lg.predict(X_valid_text))) #качество на тесте"
   ]
  },
  {
   "cell_type": "code",
   "execution_count": null,
   "metadata": {
    "cellId": "arwiajg8iwumvd8ev7yxa"
   },
   "outputs": [],
   "source": [
    "- увеличить кол-во итераций (max - iter )\n",
    "- подбирать оптимальные параметры (регуляризацию)\n",
    "- чтобы результаты были убедительнее => подбор гиперпараметров"
   ]
  },
  {
   "cell_type": "markdown",
   "metadata": {
    "cellId": "4vdmw7ridfhzqmbdl03utq"
   },
   "source": [
    "#!g1.1\n",
    "Мы видим, что мы построили достаточно сильный бейзлайн,\n",
    "посмотрим - сможем ли мы улучшить результат с помощью \"тяжелой артиллерии\""
   ]
  },
  {
   "cell_type": "markdown",
   "metadata": {
    "cellId": "ux3r099l98q985wxec4kcs"
   },
   "source": [
    "#!g1.1\n",
    "\n",
    "##  Подготовим данные для Берта "
   ]
  },
  {
   "cell_type": "markdown",
   "metadata": {
    "cellId": "ojyoxtdlnfknganup05c",
    "id": "4SMZ5T5Imhlx"
   },
   "source": [
    "\n",
    "\n",
    "Let's extract the sentences and labels of our training set as numpy ndarrays."
   ]
  },
  {
   "cell_type": "code",
   "execution_count": 350,
   "metadata": {
    "cellId": "m34oe1hw05p1dhexpqhi1c",
    "id": "GuE5BqICAne2"
   },
   "outputs": [],
   "source": [
    "#!g1.1\n",
    "# Get the lists of sentences and their labels.\n",
    "sentences = train_df.text.values\n",
    "labels = train_df.label.values\n",
    "\n",
    "#valid_df"
   ]
  },
  {
   "cell_type": "code",
   "execution_count": 351,
   "metadata": {
    "cellId": "7i0tablp5rjkpyfr7u1i5m"
   },
   "outputs": [],
   "source": [
    "#!g1.1\n",
    "# закодируем таргет\n",
    "\n",
    "from sklearn.preprocessing import LabelEncoder\n",
    "\n",
    "le = LabelEncoder()\n",
    "\n",
    "labels = le.fit_transform(train_df.label.values)"
   ]
  },
  {
   "cell_type": "code",
   "execution_count": 386,
   "metadata": {
    "cellId": "7beowhu3ja4waidp00uqa"
   },
   "outputs": [
    {
     "data": {
      "text/plain": [
       "array(['dogs', 'dogs'], dtype=object)"
      ]
     },
     "metadata": {},
     "output_type": "display_data"
    }
   ],
   "source": [
    "#!g1.1\n",
    "le.inverse_transform([3,3])"
   ]
  },
  {
   "cell_type": "code",
   "execution_count": 383,
   "metadata": {
    "cellId": "ypvg503k829hei6kpf57wt"
   },
   "outputs": [
    {
     "data": {
      "text/plain": [
       "tensor([3, 3, 3,  ..., 2, 3, 2])"
      ]
     },
     "metadata": {},
     "output_type": "display_data"
    }
   ],
   "source": [
    "#!g1.1\n",
    "\n",
    "labels"
   ]
  },
  {
   "cell_type": "markdown",
   "metadata": {
    "cellId": "n2m4dcnkfdaicq7fwl9c6o",
    "id": "ex5O1eV-Pfct"
   },
   "source": [
    "# 3. Tokenization & Input Formatting\n",
    "\n",
    "In this section, we'll transform our dataset into the format that BERT can be trained on."
   ]
  },
  {
   "cell_type": "markdown",
   "metadata": {
    "cellId": "qtzfq4mx3uw401xg02zbn",
    "id": "-8kEDRvShcU5"
   },
   "source": [
    "## 3.1. BERT Tokenizer"
   ]
  },
  {
   "cell_type": "markdown",
   "metadata": {
    "cellId": "nltqt9p18y4hwrqoid46m",
    "id": "bWOPOyWghJp2"
   },
   "source": [
    "\n",
    "To feed our text to BERT, it must be split into tokens, and then these tokens must be mapped to their index in the tokenizer vocabulary.\n",
    "\n",
    "The tokenization must be performed by the tokenizer included with BERT--the below cell will download this for us. We'll be using the \"uncased\" version here.\n"
   ]
  },
  {
   "cell_type": "code",
   "execution_count": 353,
   "metadata": {
    "cellId": "6jmucnexl0vfmaq78346gl",
    "colab": {
     "base_uri": "https://localhost:8080/",
     "height": 84,
     "referenced_widgets": [
      "82ddfcea0e4c4e5a86cf6eca8585be8d",
      "8a256ba4a19e4ec98fe3c3c99fba4daa",
      "8c76faadf2f4415393c6f0a805f0d72b",
      "e0bb735fda99434a90380e7fc664212d",
      "cdb78e75309f4bc09366533331e72431",
      "1058e0b5baa248faa60c1ad146d10bf7",
      "375cc635389c4ddb9bf2aa443df58bae",
      "472198d5b6a748b3a81f9364fd1fa711"
     ]
    },
    "id": "Z474sSC6oe7A",
    "outputId": "4e6d97b6-2d4c-42ca-c201-d2b4a88895b9"
   },
   "outputs": [
    {
     "data": {
      "application/vnd.jupyter.widget-view+json": {
       "model_id": "bbb5b4b75fc44ea6a481be352a430f0f",
       "version_major": 2,
       "version_minor": 0
      },
      "text/plain": [
       "HBox(children=(FloatProgress(value=0.0, description='Downloading', max=231508.0, style=ProgressStyle(descripti…"
      ]
     },
     "metadata": {},
     "output_type": "display_data"
    },
    {
     "data": {
      "application/vnd.jupyter.widget-view+json": {
       "model_id": "397f14fd5ef64411abf1a6482e017293",
       "version_major": 2,
       "version_minor": 0
      },
      "text/plain": [
       "HBox(children=(FloatProgress(value=0.0, description='Downloading', max=28.0, style=ProgressStyle(description_w…"
      ]
     },
     "metadata": {},
     "output_type": "display_data"
    },
    {
     "data": {
      "application/vnd.jupyter.widget-view+json": {
       "model_id": "769dc4e35abe4bd1a62b74444bb03f88",
       "version_major": 2,
       "version_minor": 0
      },
      "text/plain": [
       "HBox(children=(FloatProgress(value=0.0, description='Downloading', max=466062.0, style=ProgressStyle(descripti…"
      ]
     },
     "metadata": {},
     "output_type": "display_data"
    },
    {
     "data": {
      "application/vnd.jupyter.widget-view+json": {
       "model_id": "da813b17f15f41e2ad1a315db68e0f03",
       "version_major": 2,
       "version_minor": 0
      },
      "text/plain": [
       "HBox(children=(FloatProgress(value=0.0, description='Downloading', max=483.0, style=ProgressStyle(description_…"
      ]
     },
     "metadata": {},
     "output_type": "display_data"
    },
    {
     "name": "stderr",
     "output_type": "stream",
     "text": [
      "The tokenizer class you load from this checkpoint is not the same type as the class this function is called from. It may result in unexpected tokenization. \n",
      "The tokenizer class you load from this checkpoint is 'DistilBertTokenizer'. \n",
      "The class this function is called from is 'BertTokenizer'.\n"
     ]
    },
    {
     "name": "stdout",
     "output_type": "stream",
     "text": [
      "Loading BERT tokenizer...\n",
      "\n",
      "\n",
      "\n",
      "\n"
     ]
    }
   ],
   "source": [
    "#!g1.1\n",
    "from transformers import BertTokenizer\n",
    "\n",
    "# попробуем облегченную модель \n",
    "# Load the BERT tokenizer. distilbert-base-uncased\n",
    "print('Loading BERT tokenizer...')\n",
    "tokenizer = BertTokenizer.from_pretrained('distilbert-base-uncased', do_lower_case=True)  #стандартная модель - bert-base-uncased, "
   ]
  },
  {
   "cell_type": "markdown",
   "metadata": {
    "cellId": "f6ic2xeksek12tly7v2t7yh",
    "id": "dFzmtleW6KmJ"
   },
   "source": [
    "Let's apply the tokenizer to one sentence just to see the output.\n"
   ]
  },
  {
   "cell_type": "markdown",
   "metadata": {
    "cellId": "738whdfw1r8h79bms1px9d"
   },
   "source": [
    "#!g1.1\n",
    "пример токенизации"
   ]
  },
  {
   "cell_type": "code",
   "execution_count": 354,
   "metadata": {
    "cellId": "axk01lz69tq81o7ofqc93h",
    "colab": {
     "base_uri": "https://localhost:8080/"
    },
    "id": "dLIbudgfh6F0",
    "outputId": "9ca681ff-195f-4960-a0ba-55ded440278e"
   },
   "outputs": [
    {
     "name": "stdout",
     "output_type": "stream",
     "text": [
      " Original:  The concept is awesome! I've seen it in use many times and like how it works. When you finally get a collar that uses citronella and not a shock collar, I'll buy one.\n",
      "Tokenized:  ['the', 'concept', 'is', 'awesome', '!', 'i', \"'\", 've', 'seen', 'it', 'in', 'use', 'many', 'times', 'and', 'like', 'how', 'it', 'works', '.', 'when', 'you', 'finally', 'get', 'a', 'collar', 'that', 'uses', 'ci', '##tron', '##ella', 'and', 'not', 'a', 'shock', 'collar', ',', 'i', \"'\", 'll', 'buy', 'one', '.']\n",
      "Token IDs:  [1996, 4145, 2003, 12476, 999, 1045, 1005, 2310, 2464, 2009, 1999, 2224, 2116, 2335, 1998, 2066, 2129, 2009, 2573, 1012, 2043, 2017, 2633, 2131, 1037, 9127, 2008, 3594, 25022, 15312, 8411, 1998, 2025, 1037, 5213, 9127, 1010, 1045, 1005, 2222, 4965, 2028, 1012]\n"
     ]
    }
   ],
   "source": [
    "#!g1.1\n",
    "# Print the original sentence.\n",
    "print(' Original: ', sentences[1000])\n",
    "\n",
    "# Print the sentence split into tokens.\n",
    "print('Tokenized: ', tokenizer.tokenize(sentences[1000]))\n",
    "\n",
    "# Print the sentence mapped to token ids.\n",
    "print('Token IDs: ', tokenizer.convert_tokens_to_ids(tokenizer.tokenize(sentences[1000])))"
   ]
  },
  {
   "cell_type": "markdown",
   "metadata": {
    "cellId": "f0bzhx87zoslojylqdjd",
    "id": "l6w8elb-58GJ"
   },
   "source": [
    "## 3.3. Tokenize Dataset"
   ]
  },
  {
   "cell_type": "markdown",
   "metadata": {
    "cellId": "pa70o6ujlergqrti32dqxq",
    "id": "U28qy4P-NwQ9"
   },
   "source": [
    "Оценим распределение длины текстов"
   ]
  },
  {
   "cell_type": "code",
   "execution_count": 15,
   "metadata": {
    "cellId": "sc4wjjpopbj8igqtgdtv"
   },
   "outputs": [
    {
     "data": {
      "text/plain": [
       "count    52057.000000\n",
       "mean        84.420443\n",
       "std         80.027988\n",
       "min          1.000000\n",
       "25%         35.000000\n",
       "50%         61.000000\n",
       "75%        106.000000\n",
       "max       2360.000000\n",
       "Name: text, dtype: float64"
      ]
     },
     "metadata": {},
     "output_type": "display_data"
    }
   ],
   "source": [
    "#!g1.1\n",
    "# тем не менее, важно понимать распределение кол-ва токенов в последовательности:\n",
    "\n",
    "# statistics of text length (in words)\n",
    "train_df['text'].apply(lambda s: len(s.split())).describe()\n"
   ]
  },
  {
   "cell_type": "code",
   "execution_count": 355,
   "metadata": {
    "cellId": "t6bczuhsuk8aiqh6zlaj6"
   },
   "outputs": [
    {
     "data": {
      "text/plain": [
       "(229.0, 392.0)"
      ]
     },
     "metadata": {},
     "output_type": "display_data"
    }
   ],
   "source": [
    "#!g1.1\n",
    "\n",
    "train_df['text'].apply(lambda s: len(s.split())).quantile(0.95), train_df['text'].apply(lambda s: len(s.split())).quantile(0.99)"
   ]
  },
  {
   "cell_type": "markdown",
   "metadata": {
    "cellId": "8shl97fmpl98n44gdsyjdh"
   },
   "source": [
    "Мы можем смело брать модель с MAX_SEQ_LENGTH = 256"
   ]
  },
  {
   "cell_type": "markdown",
   "metadata": {
    "cellId": "i755qyr606mma331z1j2bj",
    "id": "tIWAoWL2RK1p"
   },
   "source": [
    "Now we're ready to perform the real tokenization.\n",
    "\n",
    "The `tokenizer.encode_plus` function combines multiple steps for us:\n",
    "\n",
    "1. Split the sentence into tokens.\n",
    "2. Add the special `[CLS]` and `[SEP]` tokens.\n",
    "3. Map the tokens to their IDs.\n",
    "4. Pad or truncate all sentences to the same length.\n",
    "5. Create the attention masks which explicitly differentiate real tokens from `[PAD]` tokens.\n",
    "\n",
    "The first four features are in `tokenizer.encode`, but I'm using `tokenizer.encode_plus` to get the fifth item (attention masks). Documentation is [here](https://huggingface.co/transformers/main_classes/tokenizer.html?highlight=encode_plus#transformers.PreTrainedTokenizer.encode_plus).\n"
   ]
  },
  {
   "cell_type": "markdown",
   "metadata": {
    "cellId": "37lvnbtn7xfxr91hme67e"
   },
   "source": [
    "токенизируем данные"
   ]
  },
  {
   "cell_type": "code",
   "execution_count": 356,
   "metadata": {
    "cellId": "yytmmzbcb1zzlhqavefsg",
    "colab": {
     "base_uri": "https://localhost:8080/"
    },
    "id": "2bBdb3pt8LuQ",
    "outputId": "b4d78c6d-0faf-459b-b11a-a26ce40bd32a"
   },
   "outputs": [
    {
     "name": "stderr",
     "output_type": "stream",
     "text": [
      "Truncation was not explicitly activated but `max_length` is provided a specific value, please use `truncation=True` to explicitly truncate examples to max length. Defaulting to 'longest_first' truncation strategy. If you encode pairs of sequences (GLUE-style) with the tokenizer you can select this strategy more precisely by providing a specific strategy to `truncation`.\n",
      "/home/jupyter/.local/lib/python3.7/site-packages/transformers/tokenization_utils_base.py:2227: FutureWarning: The `pad_to_max_length` argument is deprecated and will be removed in a future version, use `padding=True` or `padding='longest'` to pad to the longest sequence in the batch, or use `padding='max_length'` to pad to a max length. In this case, you can give a specific length with `max_length` (e.g. `max_length=45`) or leave max_length to None to pad to the maximal input size of the model (e.g. 512 for Bert).\n",
      "  FutureWarning,\n"
     ]
    }
   ],
   "source": [
    "#!g1.1\n",
    "# Tokenize all of the sentences and map the tokens to thier word IDs.\n",
    "input_ids = []\n",
    "attention_masks = []\n",
    "\n",
    "# For every sentence...\n",
    "for sent in sentences:\n",
    "    # `encode_plus` will:\n",
    "    #   (1) Tokenize the sentence.\n",
    "    #   (2) Prepend the `[CLS]` token to the start.\n",
    "    #   (3) Append the `[SEP]` token to the end.\n",
    "    #   (4) Map tokens to their IDs.\n",
    "    #   (5) Pad or truncate the sentence to `max_length`\n",
    "    #   (6) Create attention masks for [PAD] tokens.\n",
    "    encoded_dict = tokenizer.encode_plus(\n",
    "                        sent,                      # Sentence to encode.\n",
    "                        add_special_tokens = True, # Add '[CLS]' and '[SEP]'\n",
    "                        max_length = 256,           # Pad & truncate all sentences.   Установили на основе анализа длины текстов\n",
    "                        pad_to_max_length = True,\n",
    "                        return_attention_mask = True,   # Construct attn. masks.\n",
    "                        return_tensors = 'pt',     # Return pytorch tensors.\n",
    "                   )\n",
    "    \n",
    "    # Add the encoded sentence to the list.    \n",
    "    input_ids.append(encoded_dict['input_ids'])\n",
    "    \n",
    "    # And its attention mask (simply differentiates padding from non-padding).\n",
    "    attention_masks.append(encoded_dict['attention_mask'])\n",
    "\n",
    "# Convert the lists into tensors.\n",
    "input_ids = torch.cat(input_ids, dim=0)\n",
    "attention_masks = torch.cat(attention_masks, dim=0)\n",
    "labels = torch.tensor(labels)\n",
    "\n",
    "# Print sentence 0, now as a list of IDs.\n",
    "#print('Original: ', sentences[0])\n",
    "#print('Token IDs:', input_ids[0])"
   ]
  },
  {
   "cell_type": "markdown",
   "metadata": {
    "cellId": "82676h6h03u8rs5mvnowla",
    "id": "aRp4O7D295d_"
   },
   "source": [
    "## 3.4. Training & Validation Split\n"
   ]
  },
  {
   "cell_type": "markdown",
   "metadata": {
    "cellId": "iuprzz80qrdsfz1b97rtk",
    "id": "qu0ao7p8rb06"
   },
   "source": [
    "Divide up our training set to use 90% for training and 10% for validation."
   ]
  },
  {
   "cell_type": "code",
   "execution_count": 357,
   "metadata": {
    "cellId": "ib4pjswxwwzpdbvvlplze",
    "colab": {
     "base_uri": "https://localhost:8080/"
    },
    "id": "GEgLpFVlo1Z-",
    "outputId": "c0ae3d66-6982-4c33-a3f4-ca80e0cd9968"
   },
   "outputs": [
    {
     "name": "stdout",
     "output_type": "stream",
     "text": [
      "46,851 training samples\n",
      "5,206 validation samples\n"
     ]
    }
   ],
   "source": [
    "#!g1.1\n",
    "from torch.utils.data import TensorDataset, random_split\n",
    "\n",
    "# Combine the training inputs into a TensorDataset.\n",
    "dataset = TensorDataset(input_ids, attention_masks, labels)\n",
    "\n",
    "# Create a 90-10 train-validation split.\n",
    "\n",
    "# Calculate the number of samples to include in each set.\n",
    "train_size = int(0.9 * len(dataset))\n",
    "val_size = len(dataset) - train_size\n",
    "\n",
    "# Divide the dataset by randomly selecting samples.\n",
    "train_dataset, val_dataset = random_split(dataset, [train_size, val_size])\n",
    "\n",
    "print('{:>5,} training samples'.format(train_size))\n",
    "print('{:>5,} validation samples'.format(val_size))"
   ]
  },
  {
   "cell_type": "markdown",
   "metadata": {
    "cellId": "m9ybm4alx44tp9k0we34n",
    "id": "dD9i6Z2pG-sN"
   },
   "source": [
    "We'll also create an iterator for our dataset using the torch DataLoader class. This helps save on memory during training because, unlike a for loop, with an iterator the entire dataset does not need to be loaded into memory."
   ]
  },
  {
   "cell_type": "code",
   "execution_count": 358,
   "metadata": {
    "cellId": "iwqd3ad1js80vl8i354nnl",
    "id": "XGUqOCtgqGhP"
   },
   "outputs": [],
   "source": [
    "#!g1.1\n",
    "from torch.utils.data import DataLoader, RandomSampler, SequentialSampler\n",
    "\n",
    "# The DataLoader needs to know our batch size for training, so we specify it \n",
    "# here. For fine-tuning BERT on a specific task, the authors recommend a batch \n",
    "# size of 16 or 32.\n",
    "batch_size = 100  # \n",
    "\n",
    "# Create the DataLoaders for our training and validation sets.\n",
    "# We'll take training samples in random order. \n",
    "train_dataloader = DataLoader(\n",
    "            train_dataset,  # The training samples.\n",
    "            sampler = RandomSampler(train_dataset), # Select batches randomly\n",
    "            batch_size = batch_size # Trains with this batch size.\n",
    "        )\n",
    "\n",
    "# For validation the order doesn't matter, so we'll just read them sequentially.\n",
    "validation_dataloader = DataLoader(\n",
    "            val_dataset, # The validation samples.\n",
    "            sampler = SequentialSampler(val_dataset), # Pull out batches sequentially.\n",
    "            batch_size = batch_size # Evaluate with this batch size.\n",
    "        )"
   ]
  },
  {
   "cell_type": "markdown",
   "metadata": {
    "cellId": "66cyrih7c3p0cl88mzgvetq",
    "id": "8bwa6Rts-02-"
   },
   "source": [
    "# 4. Train Our Classification Model"
   ]
  },
  {
   "cell_type": "markdown",
   "metadata": {
    "cellId": "imoti25fzyfya532kf959",
    "id": "3xYQ3iLO08SX"
   },
   "source": [
    "Now that our input data is properly formatted, it's time to fine tune the BERT model. "
   ]
  },
  {
   "cell_type": "markdown",
   "metadata": {
    "cellId": "s06oty1c87j31dvpuqspgj",
    "id": "D6TKgyUzPIQc"
   },
   "source": [
    "## 4.1. BertForSequenceClassification"
   ]
  },
  {
   "cell_type": "markdown",
   "metadata": {
    "cellId": "s4gtg8ptifgsq4bdfylkhe",
    "id": "WnQW9E-bBCRt"
   },
   "source": [
    "OK, let's load BERT! There are a few different pre-trained BERT models available. \"bert-base-uncased\" means the version that has only lowercase letters (\"uncased\") and is the smaller version of the two (\"base\" vs \"large\").\n",
    "\n",
    "The documentation for `from_pretrained` can be found [here](https://huggingface.co/transformers/v2.2.0/main_classes/model.html#transformers.PreTrainedModel.from_pretrained), with the additional parameters defined [here](https://huggingface.co/transformers/v2.2.0/main_classes/configuration.html#transformers.PretrainedConfig)."
   ]
  },
  {
   "cell_type": "code",
   "execution_count": null,
   "metadata": {
    "cellId": "ysud09zpi0ro3z5b4vr8ba",
    "colab": {
     "base_uri": "https://localhost:8080/",
     "height": 1000,
     "referenced_widgets": [
      "bf9dfa1ff3e642fbb74c5146d21044c2",
      "1c2b0ede959142fc89bf07a9c88df638",
      "1296a3d754b344a482a03e5af84e805e",
      "6f132d7bb83d41b6847df0d0ec0a1b92",
      "2755b9838bae408ca8cf667ad9d501fc",
      "f8874fec8a404ae89a38fd2ecbb357cf",
      "a7bdbedc75de4f77b45f1389c2ea0abc",
      "978c24b18b594eaf8ca47730a88eefb9",
      "fe254c3bcc08402eb506f0e98f5673a7",
      "cea84f9c3db641acb98314028b305514",
      "23ca9359e6c44232a1346e6f2ab7e48c",
      "d689bc8d488a4dc09c393b4fc9747bcb",
      "6c7dec7b1e804c2195f6e60fb3c1d18e",
      "0fe5b1d0540240a8a8426352c24b2887",
      "4b1e27aff6f04fec8268d951e46b1e63",
      "440da34c72344cb08e4a1ee5de7049ee"
     ]
    },
    "id": "gFsCTp_mporB",
    "outputId": "af690f33-6cd5-4678-bdaf-209f068f70f5"
   },
   "outputs": [],
   "source": [
    "#!g1.1\n",
    "from transformers import BertForSequenceClassification, AdamW, BertConfig\n",
    "\n",
    "#НУЖНО УКАЗАТЬ КОЛ-ВО КЛАССОВ\n",
    "# Load BertForSequenceClassification, the pretrained BERT model with a single \n",
    "# linear classification layer on top. \n",
    "model = BertForSequenceClassification.from_pretrained(\n",
    "    \"distilbert-base-uncased\", # Use the 12-layer BERT model, with an uncased vocab. используем дистилированный берт\n",
    "    num_labels = train_df.label.nunique(),  # num of output classes\n",
    "                    # You can increase this for multi-class tasks.   \n",
    "    output_attentions = False, # Whether the model returns attentions weights.\n",
    "    output_hidden_states = False, # Whether the model returns all hidden-states.\n",
    ")\n",
    "\n",
    "# Tell pytorch to run this model on the GPU.\n",
    "model.cuda()"
   ]
  },
  {
   "cell_type": "markdown",
   "metadata": {
    "cellId": "tlfcqv02mm9z73ta5kclm",
    "id": "qRWT-D4U_Pvx"
   },
   "source": [
    "## 4.2. Optimizer & Learning Rate Scheduler"
   ]
  },
  {
   "cell_type": "markdown",
   "metadata": {
    "cellId": "vkncfex3bwirec6q7ay3a",
    "id": "8o-VEBobKwHk"
   },
   "source": [
    "Now that we have our model loaded we need to grab the training hyperparameters from within the stored model.\n",
    "\n",
    "For the purposes of fine-tuning, the authors recommend choosing from the following values (from Appendix A.3 of the [BERT paper](https://arxiv.org/pdf/1810.04805.pdf)):\n",
    "\n",
    ">- **Batch size:** 16, 32  \n",
    "- **Learning rate (Adam):** 5e-5, 3e-5, 2e-5  \n",
    "- **Number of epochs:** 2, 3, 4 \n",
    "\n",
    "We chose:\n",
    "* Batch size: 32 (set when creating our DataLoaders)\n",
    "* Learning rate: 2e-5\n",
    "* Epochs: 4 (we'll see that this is probably too many...)\n",
    "\n",
    "The epsilon parameter `eps = 1e-8` is \"a very small number to prevent any division by zero in the implementation\" (from [here](https://machinelearningmastery.com/adam-optimization-algorithm-for-deep-learning/)).\n",
    "\n",
    "You can find the creation of the AdamW optimizer in `run_glue.py` [here](https://github.com/huggingface/transformers/blob/5bfcd0485ece086ebcbed2d008813037968a9e58/examples/run_glue.py#L109)."
   ]
  },
  {
   "cell_type": "code",
   "execution_count": 363,
   "metadata": {
    "cellId": "wcx8dw4f53a7e98jomhwb2",
    "id": "-p0upAhhRiIx"
   },
   "outputs": [],
   "source": [
    "#!g1.1\n",
    "\n",
    "# Note: AdamW is a class from the huggingface library (as opposed to pytorch) \n",
    "# I believe the 'W' stands for 'Weight Decay fix\"\n",
    "optimizer = AdamW(model.parameters(),\n",
    "                  lr = 2e-5, # args.learning_rate - default is 5e-5, our notebook had 2e-5\n",
    "                  eps = 1e-8 # args.adam_epsilon  - default is 1e-8.\n",
    "                )\n",
    "\n",
    "\n",
    "#!g1.1\n",
    "from transformers import get_linear_schedule_with_warmup\n",
    "\n",
    "# Number of training epochs. The BERT authors recommend between 2 and 4. \n",
    "# We chose to run for 4, but we'll see later that this may be over-fitting the\n",
    "# training data.\n",
    "epochs = 3\n",
    "\n",
    "# Total number of training steps is [number of batches] x [number of epochs]. \n",
    "# (Note that this is not the same as the number of training samples).\n",
    "total_steps = len(train_dataloader) * epochs\n",
    "\n",
    "# Create the learning rate scheduler.\n",
    "scheduler = get_linear_schedule_with_warmup(optimizer, \n",
    "                                            num_warmup_steps = 0, # Default value in run_glue.py\n",
    "                                            num_training_steps = total_steps)"
   ]
  },
  {
   "cell_type": "markdown",
   "metadata": {
    "cellId": "4eub57f4047mh1jxx1jn9l",
    "id": "RqfmWwUR_Sox"
   },
   "source": [
    "## 4.3. Training Loop"
   ]
  },
  {
   "cell_type": "markdown",
   "metadata": {
    "cellId": "edt6a10duzijfihsf4ahhr",
    "id": "_QXZhFb4LnV5"
   },
   "source": [
    "Below is our training loop. There's a lot going on, but fundamentally for each pass in our loop we have a trianing phase and a validation phase. \n",
    "\n",
    "> *Thank you to [Stas Bekman](https://ca.linkedin.com/in/stasbekman) for contributing the insights and code for using validation loss to detect over-fitting!*\n",
    "\n",
    "**Training:**\n",
    "- Unpack our data inputs and labels\n",
    "- Load data onto the GPU for acceleration\n",
    "- Clear out the gradients calculated in the previous pass. \n",
    "    - In pytorch the gradients accumulate by default (useful for things like RNNs) unless you explicitly clear them out.\n",
    "- Forward pass (feed input data through the network)\n",
    "- Backward pass (backpropagation)\n",
    "- Tell the network to update parameters with optimizer.step()\n",
    "- Track variables for monitoring progress\n",
    "\n",
    "**Evalution:**\n",
    "- Unpack our data inputs and labels\n",
    "- Load data onto the GPU for acceleration\n",
    "- Forward pass (feed input data through the network)\n",
    "- Compute loss on our validation data and track variables for monitoring progress\n",
    "\n",
    "Pytorch hides all of the detailed calculations from us, but we've commented the code to point out which of the above steps are happening on each line. \n",
    "\n",
    "> *PyTorch also has some [beginner tutorials](https://pytorch.org/tutorials/beginner/blitz/cifar10_tutorial.html#sphx-glr-beginner-blitz-cifar10-tutorial-py) which you may also find helpful.*"
   ]
  },
  {
   "cell_type": "markdown",
   "metadata": {
    "cellId": "u98y155y7cd8cupgb208g",
    "id": "pE5B99H5H2-W"
   },
   "source": [
    "Define a helper functions:"
   ]
  },
  {
   "cell_type": "code",
   "execution_count": 362,
   "metadata": {
    "cellId": "whbwtueefmf6cyv4kjctb",
    "id": "gpt6tR83keZD"
   },
   "outputs": [],
   "source": [
    "#!g1.1\n",
    "import numpy as np\n",
    "\n",
    "# Function to calculate the accuracy of our predictions vs labels\n",
    "def flat_accuracy(preds, labels):\n",
    "    pred_flat = np.argmax(preds, axis=1).flatten()\n",
    "    labels_flat = labels.flatten()\n",
    "    return np.sum(pred_flat == labels_flat) / len(labels_flat)\n",
    "\n",
    "#!g1.1\n",
    "import time\n",
    "import datetime\n",
    "\n",
    "def format_time(elapsed):\n",
    "    '''\n",
    "    Takes a time in seconds and returns a string hh:mm:ss\n",
    "    '''\n",
    "    # Round to the nearest second.\n",
    "    elapsed_rounded = int(round((elapsed)))\n",
    "    \n",
    "    # Format as hh:mm:ss\n",
    "    return str(datetime.timedelta(seconds=elapsed_rounded))\n"
   ]
  },
  {
   "cell_type": "markdown",
   "metadata": {
    "cellId": "3kyi9m0kxhx5tfm5oswuum",
    "id": "cfNIhN19te3N"
   },
   "source": [
    "We're ready to kick off the training!"
   ]
  },
  {
   "cell_type": "code",
   "execution_count": 365,
   "metadata": {
    "cellId": "8pf7qzfvneap0oeobtn11q",
    "colab": {
     "base_uri": "https://localhost:8080/"
    },
    "id": "6J-FYdx6nFE_",
    "outputId": "b2c3e30b-eb5d-4b13-a207-05a48a87ed2a"
   },
   "outputs": [
    {
     "name": "stdout",
     "output_type": "stream",
     "text": [
      "\n",
      "======== Epoch 1 / 3 ========\n",
      "Training...\n",
      "  Batch    40  of    469.    Elapsed: 0:00:52.\n",
      "  Batch    80  of    469.    Elapsed: 0:01:44.\n",
      "  Batch   120  of    469.    Elapsed: 0:02:36.\n",
      "  Batch   160  of    469.    Elapsed: 0:03:28.\n",
      "  Batch   200  of    469.    Elapsed: 0:04:20.\n",
      "  Batch   240  of    469.    Elapsed: 0:05:12.\n",
      "  Batch   280  of    469.    Elapsed: 0:06:04.\n",
      "  Batch   320  of    469.    Elapsed: 0:06:56.\n",
      "  Batch   360  of    469.    Elapsed: 0:07:48.\n",
      "  Batch   400  of    469.    Elapsed: 0:08:40.\n",
      "  Batch   440  of    469.    Elapsed: 0:09:32.\n",
      "\n",
      "  Average training loss: 0.53\n",
      "  Training epcoh took: 0:10:09\n",
      "\n",
      "Running Validation...\n",
      "  Accuracy: 0.81\n",
      "  Validation Loss: 0.49\n",
      "  Validation took: 0:00:26\n",
      "\n",
      "======== Epoch 2 / 3 ========\n",
      "Training...\n",
      "  Batch    40  of    469.    Elapsed: 0:00:52.\n",
      "  Batch    80  of    469.    Elapsed: 0:01:44.\n",
      "  Batch   120  of    469.    Elapsed: 0:02:36.\n",
      "  Batch   160  of    469.    Elapsed: 0:03:28.\n",
      "  Batch   200  of    469.    Elapsed: 0:04:20.\n",
      "  Batch   240  of    469.    Elapsed: 0:05:12.\n",
      "  Batch   280  of    469.    Elapsed: 0:06:04.\n",
      "  Batch   320  of    469.    Elapsed: 0:06:56.\n",
      "  Batch   360  of    469.    Elapsed: 0:07:49.\n",
      "  Batch   400  of    469.    Elapsed: 0:08:41.\n",
      "  Batch   440  of    469.    Elapsed: 0:09:33.\n",
      "\n",
      "  Average training loss: 0.45\n",
      "  Training epcoh took: 0:10:10\n",
      "\n",
      "Running Validation...\n",
      "  Accuracy: 0.83\n",
      "  Validation Loss: 0.45\n",
      "  Validation took: 0:00:24\n",
      "\n",
      "======== Epoch 3 / 3 ========\n",
      "Training...\n",
      "  Batch    40  of    469.    Elapsed: 0:00:52.\n",
      "  Batch    80  of    469.    Elapsed: 0:01:44.\n",
      "  Batch   120  of    469.    Elapsed: 0:02:36.\n",
      "  Batch   160  of    469.    Elapsed: 0:03:28.\n",
      "  Batch   200  of    469.    Elapsed: 0:04:20.\n",
      "  Batch   240  of    469.    Elapsed: 0:05:13.\n",
      "  Batch   280  of    469.    Elapsed: 0:06:05.\n",
      "  Batch   320  of    469.    Elapsed: 0:06:57.\n",
      "  Batch   360  of    469.    Elapsed: 0:07:49.\n",
      "  Batch   400  of    469.    Elapsed: 0:08:41.\n",
      "  Batch   440  of    469.    Elapsed: 0:09:33.\n",
      "\n",
      "  Average training loss: 0.42\n",
      "  Training epcoh took: 0:10:10\n",
      "\n",
      "Running Validation...\n",
      "  Accuracy: 0.83\n",
      "  Validation Loss: 0.45\n",
      "  Validation took: 0:00:24\n",
      "\n",
      "Training complete!\n",
      "Total training took 0:31:43 (h:mm:ss)\n"
     ]
    }
   ],
   "source": [
    "#!g1.1\n",
    "import random\n",
    "import numpy as np\n",
    "\n",
    "# This training code is based on the `run_glue.py` script here:\n",
    "# https://github.com/huggingface/transformers/blob/5bfcd0485ece086ebcbed2d008813037968a9e58/examples/run_glue.py#L128\n",
    "\n",
    "# Set the seed value all over the place to make this reproducible.\n",
    "seed_val = 42\n",
    "\n",
    "random.seed(seed_val)\n",
    "np.random.seed(seed_val)\n",
    "torch.manual_seed(seed_val)\n",
    "torch.cuda.manual_seed_all(seed_val)\n",
    "\n",
    "# We'll store a number of quantities such as training and validation loss, \n",
    "# validation accuracy, and timings.\n",
    "training_stats = []\n",
    "\n",
    "# Measure the total training time for the whole run.\n",
    "total_t0 = time.time()\n",
    "\n",
    "# For each epoch...\n",
    "for epoch_i in range(0, epochs):\n",
    "    \n",
    "    # ========================================\n",
    "    #               Training\n",
    "    # ========================================\n",
    "    \n",
    "    # Perform one full pass over the training set.\n",
    "\n",
    "    print(\"\")\n",
    "    print('======== Epoch {:} / {:} ========'.format(epoch_i + 1, epochs))\n",
    "    print('Training...')\n",
    "\n",
    "    # Measure how long the training epoch takes.\n",
    "    t0 = time.time()\n",
    "\n",
    "    # Reset the total loss for this epoch.\n",
    "    total_train_loss = 0\n",
    "\n",
    "    # Put the model into training mode. Don't be mislead--the call to \n",
    "    # `train` just changes the *mode*, it doesn't *perform* the training.\n",
    "    # `dropout` and `batchnorm` layers behave differently during training\n",
    "    # vs. test (source: https://stackoverflow.com/questions/51433378/what-does-model-train-do-in-pytorch)\n",
    "    model.train()\n",
    "\n",
    "    # For each batch of training data...\n",
    "    for step, batch in enumerate(train_dataloader):\n",
    "\n",
    "        # Progress update every 40 batches.\n",
    "        if step % 40 == 0 and not step == 0:\n",
    "            # Calculate elapsed time in minutes.\n",
    "            elapsed = format_time(time.time() - t0)\n",
    "            \n",
    "            # Report progress.\n",
    "            print('  Batch {:>5,}  of  {:>5,}.    Elapsed: {:}.'.format(step, len(train_dataloader), elapsed))\n",
    "\n",
    "        # Unpack this training batch from our dataloader. \n",
    "        #\n",
    "        # As we unpack the batch, we'll also copy each tensor to the GPU using the \n",
    "        # `to` method.\n",
    "        #\n",
    "        # `batch` contains three pytorch tensors:\n",
    "        #   [0]: input ids \n",
    "        #   [1]: attention masks\n",
    "        #   [2]: labels \n",
    "        b_input_ids = batch[0].to(device)\n",
    "        b_input_mask = batch[1].to(device)\n",
    "        b_labels = batch[2].to(device)\n",
    "\n",
    "        # Always clear any previously calculated gradients before performing a\n",
    "        # backward pass. PyTorch doesn't do this automatically because \n",
    "        # accumulating the gradients is \"convenient while training RNNs\". \n",
    "        # (source: https://stackoverflow.com/questions/48001598/why-do-we-need-to-call-zero-grad-in-pytorch)\n",
    "        model.zero_grad()        \n",
    "\n",
    "        # Perform a forward pass (evaluate the model on this training batch).\n",
    "        # In PyTorch, calling `model` will in turn call the model's `forward` \n",
    "        # function and pass down the arguments. The `forward` function is \n",
    "        # documented here: \n",
    "        # https://huggingface.co/transformers/model_doc/bert.html#bertforsequenceclassification\n",
    "        # The results are returned in a results object, documented here:\n",
    "        # https://huggingface.co/transformers/main_classes/output.html#transformers.modeling_outputs.SequenceClassifierOutput\n",
    "        # Specifically, we'll get the loss (because we provided labels) and the\n",
    "        # \"logits\"--the model outputs prior to activation.\n",
    "        result = model(b_input_ids, \n",
    "                       token_type_ids=None, \n",
    "                       attention_mask=b_input_mask, \n",
    "                       labels=b_labels,\n",
    "                       return_dict=True)\n",
    "\n",
    "        loss = result.loss\n",
    "        logits = result.logits\n",
    "\n",
    "        # Accumulate the training loss over all of the batches so that we can\n",
    "        # calculate the average loss at the end. `loss` is a Tensor containing a\n",
    "        # single value; the `.item()` function just returns the Python value \n",
    "        # from the tensor.\n",
    "        total_train_loss += loss.item()\n",
    "\n",
    "        # Perform a backward pass to calculate the gradients.\n",
    "        loss.backward()\n",
    "\n",
    "        # Clip the norm of the gradients to 1.0.\n",
    "        # This is to help prevent the \"exploding gradients\" problem.\n",
    "        torch.nn.utils.clip_grad_norm_(model.parameters(), 1.0)\n",
    "\n",
    "        # Update parameters and take a step using the computed gradient.\n",
    "        # The optimizer dictates the \"update rule\"--how the parameters are\n",
    "        # modified based on their gradients, the learning rate, etc.\n",
    "        optimizer.step()\n",
    "\n",
    "        # Update the learning rate.\n",
    "        scheduler.step()\n",
    "\n",
    "    # Calculate the average loss over all of the batches.\n",
    "    avg_train_loss = total_train_loss / len(train_dataloader)            \n",
    "    \n",
    "    # Measure how long this epoch took.\n",
    "    training_time = format_time(time.time() - t0)\n",
    "\n",
    "    print(\"\")\n",
    "    print(\"  Average training loss: {0:.2f}\".format(avg_train_loss))\n",
    "    print(\"  Training epcoh took: {:}\".format(training_time))\n",
    "        \n",
    "    # ========================================\n",
    "    #               Validation\n",
    "    # ========================================\n",
    "    # After the completion of each training epoch, measure our performance on\n",
    "    # our validation set.\n",
    "\n",
    "    print(\"\")\n",
    "    print(\"Running Validation...\")\n",
    "\n",
    "    t0 = time.time()\n",
    "\n",
    "    # Put the model in evaluation mode--the dropout layers behave differently\n",
    "    # during evaluation.\n",
    "    model.eval()\n",
    "\n",
    "    # Tracking variables \n",
    "    total_eval_accuracy = 0\n",
    "    total_eval_loss = 0\n",
    "    nb_eval_steps = 0\n",
    "\n",
    "    # Evaluate data for one epoch\n",
    "    for batch in validation_dataloader:\n",
    "        \n",
    "        # Unpack this training batch from our dataloader. \n",
    "        #\n",
    "        # As we unpack the batch, we'll also copy each tensor to the GPU using \n",
    "        # the `to` method.\n",
    "        #\n",
    "        # `batch` contains three pytorch tensors:\n",
    "        #   [0]: input ids \n",
    "        #   [1]: attention masks\n",
    "        #   [2]: labels \n",
    "        b_input_ids = batch[0].to(device)\n",
    "        b_input_mask = batch[1].to(device)\n",
    "        b_labels = batch[2].to(device)\n",
    "        \n",
    "        # Tell pytorch not to bother with constructing the compute graph during\n",
    "        # the forward pass, since this is only needed for backprop (training).\n",
    "        with torch.no_grad():        \n",
    "\n",
    "            # Forward pass, calculate logit predictions.\n",
    "            # token_type_ids is the same as the \"segment ids\", which \n",
    "            # differentiates sentence 1 and 2 in 2-sentence tasks.\n",
    "            result = model(b_input_ids, \n",
    "                           token_type_ids=None, \n",
    "                           attention_mask=b_input_mask,\n",
    "                           labels=b_labels,\n",
    "                           return_dict=True)\n",
    "\n",
    "        # Get the loss and \"logits\" output by the model. The \"logits\" are the \n",
    "        # output values prior to applying an activation function like the \n",
    "        # softmax.\n",
    "        loss = result.loss\n",
    "        logits = result.logits\n",
    "            \n",
    "        # Accumulate the validation loss.\n",
    "        total_eval_loss += loss.item()\n",
    "\n",
    "        # Move logits and labels to CPU\n",
    "        logits = logits.detach().cpu().numpy()\n",
    "        label_ids = b_labels.to('cpu').numpy()\n",
    "\n",
    "        # Calculate the accuracy for this batch of test sentences, and\n",
    "        # accumulate it over all batches.\n",
    "        total_eval_accuracy += flat_accuracy(logits, label_ids)\n",
    "        \n",
    "\n",
    "    # Report the final accuracy for this validation run.\n",
    "    avg_val_accuracy = total_eval_accuracy / len(validation_dataloader)\n",
    "    print(\"  Accuracy: {0:.2f}\".format(avg_val_accuracy))\n",
    "\n",
    "    # Calculate the average loss over all of the batches.\n",
    "    avg_val_loss = total_eval_loss / len(validation_dataloader)\n",
    "    \n",
    "    # Measure how long the validation run took.\n",
    "    validation_time = format_time(time.time() - t0)\n",
    "    \n",
    "    print(\"  Validation Loss: {0:.2f}\".format(avg_val_loss))\n",
    "    print(\"  Validation took: {:}\".format(validation_time))\n",
    "\n",
    "    # Record all statistics from this epoch.\n",
    "    training_stats.append(\n",
    "        {\n",
    "            'epoch': epoch_i + 1,\n",
    "            'Training Loss': avg_train_loss,\n",
    "            'Valid. Loss': avg_val_loss,\n",
    "            'Valid. Accur.': avg_val_accuracy,\n",
    "            'Training Time': training_time,\n",
    "            'Validation Time': validation_time\n",
    "        }\n",
    "    )\n",
    "\n",
    "print(\"\")\n",
    "print(\"Training complete!\")\n",
    "\n",
    "print(\"Total training took {:} (h:mm:ss)\".format(format_time(time.time()-total_t0)))"
   ]
  },
  {
   "cell_type": "markdown",
   "metadata": {
    "cellId": "ly9tdk1mg6n602zpsp5is",
    "id": "VQTvJ1vRP7u4"
   },
   "source": [
    "Let's view the summary of the training process."
   ]
  },
  {
   "cell_type": "code",
   "execution_count": null,
   "metadata": {
    "cellId": "t1ifjatantpbuace1kav1b"
   },
   "outputs": [],
   "source": [
    "#!g1.1\n",
    "32 минуты на обучение"
   ]
  },
  {
   "cell_type": "code",
   "execution_count": null,
   "metadata": {
    "cellId": "o3v5ta4vw5owq3ziwt994q"
   },
   "outputs": [],
   "source": [
    "#!g1.1\n",
    "Очень хочется получить качество не хуже бейзлайна"
   ]
  },
  {
   "cell_type": "code",
   "execution_count": 366,
   "metadata": {
    "cellId": "xsqyj72ytdkr64ua4zfzl",
    "colab": {
     "base_uri": "https://localhost:8080/",
     "height": 195
    },
    "id": "6O_NbXFGMukX",
    "outputId": "a9e51eda-5eae-4800-87d5-8d016ff25bb2"
   },
   "outputs": [
    {
     "data": {
      "text/html": [
       "<div>\n",
       "<style scoped>\n",
       "    .dataframe tbody tr th:only-of-type {\n",
       "        vertical-align: middle;\n",
       "    }\n",
       "\n",
       "    .dataframe tbody tr th {\n",
       "        vertical-align: top;\n",
       "    }\n",
       "\n",
       "    .dataframe thead th {\n",
       "        text-align: right;\n",
       "    }\n",
       "</style>\n",
       "<table border=\"1\" class=\"dataframe\">\n",
       "  <thead>\n",
       "    <tr style=\"text-align: right;\">\n",
       "      <th></th>\n",
       "      <th>Training Loss</th>\n",
       "      <th>Valid. Loss</th>\n",
       "      <th>Valid. Accur.</th>\n",
       "      <th>Training Time</th>\n",
       "      <th>Validation Time</th>\n",
       "    </tr>\n",
       "    <tr>\n",
       "      <th>epoch</th>\n",
       "      <th></th>\n",
       "      <th></th>\n",
       "      <th></th>\n",
       "      <th></th>\n",
       "      <th></th>\n",
       "    </tr>\n",
       "  </thead>\n",
       "  <tbody>\n",
       "    <tr>\n",
       "      <th>1</th>\n",
       "      <td>0.53</td>\n",
       "      <td>0.49</td>\n",
       "      <td>0.81</td>\n",
       "      <td>0:10:09</td>\n",
       "      <td>0:00:26</td>\n",
       "    </tr>\n",
       "    <tr>\n",
       "      <th>2</th>\n",
       "      <td>0.45</td>\n",
       "      <td>0.45</td>\n",
       "      <td>0.83</td>\n",
       "      <td>0:10:10</td>\n",
       "      <td>0:00:24</td>\n",
       "    </tr>\n",
       "    <tr>\n",
       "      <th>3</th>\n",
       "      <td>0.42</td>\n",
       "      <td>0.45</td>\n",
       "      <td>0.83</td>\n",
       "      <td>0:10:10</td>\n",
       "      <td>0:00:24</td>\n",
       "    </tr>\n",
       "  </tbody>\n",
       "</table>\n",
       "</div>"
      ],
      "text/plain": [
       "       Training Loss  Valid. Loss  Valid. Accur. Training Time Validation Time\n",
       "epoch                                                                         \n",
       "1               0.53         0.49           0.81       0:10:09         0:00:26\n",
       "2               0.45         0.45           0.83       0:10:10         0:00:24\n",
       "3               0.42         0.45           0.83       0:10:10         0:00:24"
      ]
     },
     "metadata": {},
     "output_type": "display_data"
    }
   ],
   "source": [
    "#!g1.1\n",
    "import pandas as pd\n",
    "\n",
    "# Display floats with two decimal places.\n",
    "pd.set_option('precision', 2)\n",
    "\n",
    "# Create a DataFrame from our training statistics.\n",
    "df_stats = pd.DataFrame(data=training_stats)\n",
    "\n",
    "# Use the 'epoch' as the row index.\n",
    "df_stats = df_stats.set_index('epoch')\n",
    "\n",
    "# A hack to force the column headers to wrap.\n",
    "#df = df.style.set_table_styles([dict(selector=\"th\",props=[('max-width', '70px')])])\n",
    "\n",
    "# Display the table.\n",
    "df_stats"
   ]
  },
  {
   "cell_type": "code",
   "execution_count": 367,
   "metadata": {
    "cellId": "k9zyj6n878d3ys9is0gyku"
   },
   "outputs": [],
   "source": [
    "#!g1.1\n",
    "\n",
    "# сохраним модель!\n",
    "\n",
    "torch.save(model.state_dict(), 'amzn_new.bin')"
   ]
  },
  {
   "cell_type": "code",
   "execution_count": null,
   "metadata": {
    "cellId": "hs8fzt1gtbh0580g31mlc"
   },
   "outputs": [],
   "source": [
    "#!g1.1\n",
    "\n",
    "#загрузим модель\n",
    "\n",
    "device = torch.device(\"cuda\") \n",
    "#model = TheModelClass(args, *kwargs) \n",
    "model.load_state_dict(torch.load('../data/amzn.bin')) \n",
    "model.to(device)"
   ]
  },
  {
   "cell_type": "code",
   "execution_count": null,
   "metadata": {
    "cellId": "njbmlzhnuda604qntvqt96"
   },
   "outputs": [],
   "source": [
    "#!g1.1\n"
   ]
  },
  {
   "cell_type": "code",
   "execution_count": 368,
   "metadata": {
    "cellId": "yo3hba3sjdcplp76ip3qv",
    "colab": {
     "base_uri": "https://localhost:8080/",
     "height": 427
    },
    "id": "68xreA9JAmG5",
    "outputId": "70b8500d-7efc-4c99-de1f-05e8795e6298"
   },
   "outputs": [
    {
     "data": {
      "image/png": "[encoded data removed]",
      "text/plain": [
       "<Figure size 864x432 with 1 Axes>"
      ]
     },
     "metadata": {},
     "output_type": "display_data"
    }
   ],
   "source": [
    "#!g1.1\n",
    "import matplotlib.pyplot as plt\n",
    "%matplotlib inline\n",
    "\n",
    "import seaborn as sns\n",
    "\n",
    "# Use plot styling from seaborn.\n",
    "sns.set(style='darkgrid')\n",
    "\n",
    "# Increase the plot size and font size.\n",
    "sns.set(font_scale=1.5)\n",
    "plt.rcParams[\"figure.figsize\"] = (12,6)\n",
    "\n",
    "# Plot the learning curve.\n",
    "plt.plot(df_stats['Training Loss'], 'b-o', label=\"Training\")\n",
    "plt.plot(df_stats['Valid. Loss'], 'g-o', label=\"Validation\")\n",
    "\n",
    "# Label the plot.\n",
    "plt.title(\"Training & Validation Loss\")\n",
    "plt.xlabel(\"Epoch\")\n",
    "plt.ylabel(\"Loss\")\n",
    "plt.legend()\n",
    "plt.xticks([1, 2, 3, 4])\n",
    "\n",
    "plt.show()"
   ]
  },
  {
   "cell_type": "markdown",
   "metadata": {
    "cellId": "c6ihl02zkkd3klrsvlcosb",
    "id": "mkyubuJSOzg3"
   },
   "source": [
    "# 5. Performance On Test Set"
   ]
  },
  {
   "cell_type": "markdown",
   "metadata": {
    "cellId": "de3s75v75tom1mpybi35ba",
    "id": "Tg42jJqqM68F"
   },
   "source": [
    "### 5.1. Data Preparation\n"
   ]
  },
  {
   "cell_type": "markdown",
   "metadata": {
    "cellId": "pl9g4lgxyra35b2h2mkdzh",
    "id": "xWe0_JW21MyV"
   },
   "source": [
    "\n",
    "We'll need to apply all of the same steps that we did for the training data to prepare our test data set."
   ]
  },
  {
   "cell_type": "code",
   "execution_count": 369,
   "metadata": {
    "cellId": "tfbhrmflpbbihjfgwna4q"
   },
   "outputs": [
    {
     "data": {
      "text/plain": [
       "array(['birds', 'bunny rabbit central', 'cats', 'dogs',\n",
       "       'fish aquatic pets', 'small animals'], dtype=object)"
      ]
     },
     "metadata": {},
     "output_type": "display_data"
    }
   ],
   "source": [
    "#!g1.1\n",
    "le.classes_"
   ]
  },
  {
   "cell_type": "code",
   "execution_count": 370,
   "metadata": {
    "cellId": "a86rds8624vb1v75ilojo"
   },
   "outputs": [
    {
     "data": {
      "text/plain": [
       "((52057, 2), (17353, 2), (17353, 1))"
      ]
     },
     "metadata": {},
     "output_type": "display_data"
    }
   ],
   "source": [
    "#!g1.1\n",
    "train_df.shape, valid_df.shape, test_df.shape"
   ]
  },
  {
   "cell_type": "code",
   "execution_count": 371,
   "metadata": {
    "cellId": "617uf5lddvio95rmwnnqdb",
    "colab": {
     "base_uri": "https://localhost:8080/"
    },
    "id": "mAN0LZBOOPVh",
    "outputId": "7385ca3f-72d5-45f0-bbfe-5056c2f62c4f"
   },
   "outputs": [
    {
     "name": "stdout",
     "output_type": "stream",
     "text": [
      "Number of test sentences: 17,353\n",
      "\n"
     ]
    },
    {
     "name": "stderr",
     "output_type": "stream",
     "text": [
      "/home/jupyter/.local/lib/python3.7/site-packages/transformers/tokenization_utils_base.py:2227: FutureWarning: The `pad_to_max_length` argument is deprecated and will be removed in a future version, use `padding=True` or `padding='longest'` to pad to the longest sequence in the batch, or use `padding='max_length'` to pad to a max length. In this case, you can give a specific length with `max_length` (e.g. `max_length=45`) or leave max_length to None to pad to the maximal input size of the model (e.g. 512 for Bert).\n",
      "  FutureWarning,\n"
     ]
    }
   ],
   "source": [
    "#!g1.1\n",
    "import pandas as pd\n",
    "\n",
    "# Load the dataset into a pandas dataframe.\n",
    "df = valid_df\n",
    "\n",
    "# Report the number of sentences.\n",
    "print('Number of test sentences: {:,}\\n'.format(df.shape[0]))\n",
    "\n",
    "# Create sentence and label lists\n",
    "sentences = df.text.values\n",
    "labels = le.transform(df.label.values)\n",
    "\n",
    "# Tokenize all of the sentences and map the tokens to thier word IDs.\n",
    "input_ids = []\n",
    "attention_masks = []\n",
    "\n",
    "# For every sentence...\n",
    "for sent in sentences:\n",
    "    # `encode_plus` will:\n",
    "    #   (1) Tokenize the sentence.\n",
    "    #   (2) Prepend the `[CLS]` token to the start.\n",
    "    #   (3) Append the `[SEP]` token to the end.\n",
    "    #   (4) Map tokens to their IDs.\n",
    "    #   (5) Pad or truncate the sentence to `max_length`\n",
    "    #   (6) Create attention masks for [PAD] tokens.\n",
    "    encoded_dict = tokenizer.encode_plus(\n",
    "                        sent,                      # Sentence to encode.\n",
    "                        add_special_tokens = True, # Add '[CLS]' and '[SEP]'\n",
    "                        max_length = 64,           # Pad & truncate all sentences.  # max lenght IS SET TO 64!\n",
    "                        pad_to_max_length = True,\n",
    "                        return_attention_mask = True,   # Construct attn. masks.\n",
    "                        return_tensors = 'pt',     # Return pytorch tensors.\n",
    "                   )\n",
    "    \n",
    "    # Add the encoded sentence to the list.    \n",
    "    input_ids.append(encoded_dict['input_ids'])\n",
    "    \n",
    "    # And its attention mask (simply differentiates padding from non-padding).\n",
    "    attention_masks.append(encoded_dict['attention_mask'])\n",
    "\n",
    "# Convert the lists into tensors.\n",
    "input_ids = torch.cat(input_ids, dim=0)\n",
    "attention_masks = torch.cat(attention_masks, dim=0)\n",
    "labels = torch.tensor(labels)\n",
    "\n",
    "# Set the batch size.  \n",
    "batch_size = 144    #BATCH SIZE!\n",
    "\n",
    "# Create the DataLoader.\n",
    "prediction_data = TensorDataset(input_ids, attention_masks, labels)\n",
    "prediction_sampler = SequentialSampler(prediction_data)\n",
    "prediction_dataloader = DataLoader(prediction_data, sampler=prediction_sampler, batch_size=batch_size)"
   ]
  },
  {
   "cell_type": "markdown",
   "metadata": {
    "cellId": "0kiqap2yr79rvokzx7rxt",
    "id": "16lctEOyNFik"
   },
   "source": [
    "## 5.2. Evaluate on Test Set\n"
   ]
  },
  {
   "cell_type": "markdown",
   "metadata": {
    "cellId": "5828vkiyvxxmevpe3zc",
    "id": "rhR99IISNMg9"
   },
   "source": [
    "\n",
    "With the test set prepared, we can apply our fine-tuned model to generate predictions on the test set."
   ]
  },
  {
   "cell_type": "code",
   "execution_count": 372,
   "metadata": {
    "cellId": "23vn9npnejkj0euf9yvqb2r8",
    "colab": {
     "base_uri": "https://localhost:8080/"
    },
    "id": "Hba10sXR7Xi6",
    "outputId": "e35f0a6e-72c5-4bd0-9c4b-dcec9ef5059d"
   },
   "outputs": [
    {
     "name": "stdout",
     "output_type": "stream",
     "text": [
      "Predicting labels for 17,353 test sentences...\n",
      "    DONE.\n"
     ]
    }
   ],
   "source": [
    "#!g1.1\n",
    "# Prediction on test set\n",
    "\n",
    "print('Predicting labels for {:,} test sentences...'.format(len(input_ids)))\n",
    "\n",
    "# Put model in evaluation mode\n",
    "model.eval()\n",
    "\n",
    "# Tracking variables \n",
    "predictions , true_labels = [], []\n",
    "\n",
    "# Predict \n",
    "for batch in prediction_dataloader:\n",
    "  # Add batch to GPU\n",
    "  batch = tuple(t.to(device) for t in batch)\n",
    "  \n",
    "  # Unpack the inputs from our dataloader\n",
    "  b_input_ids, b_input_mask, b_labels = batch\n",
    "  \n",
    "  # Telling the model not to compute or store gradients, saving memory and \n",
    "  # speeding up prediction\n",
    "  with torch.no_grad():\n",
    "      # Forward pass, calculate logit predictions.\n",
    "      result = model(b_input_ids, \n",
    "                     token_type_ids=None, \n",
    "                     attention_mask=b_input_mask,\n",
    "                     return_dict=True)\n",
    "\n",
    "  logits = result.logits\n",
    "\n",
    "  # Move logits and labels to CPU\n",
    "  logits = logits.detach().cpu().numpy()\n",
    "  label_ids = b_labels.to('cpu').numpy()\n",
    "  \n",
    "  # Store predictions and true labels\n",
    "  predictions.append(logits)\n",
    "  true_labels.append(label_ids)\n",
    "\n",
    "print('    DONE.')"
   ]
  },
  {
   "cell_type": "markdown",
   "metadata": {
    "cellId": "j6vmw7av6948rt95g50v7",
    "id": "1YrjAPX2V-l4"
   },
   "source": [
    "Now we'll combine the results for all of the batches and calculate our final MCC score."
   ]
  },
  {
   "cell_type": "code",
   "execution_count": 373,
   "metadata": {
    "cellId": "zz5wgkkxip1zo9r77flcx",
    "colab": {
     "base_uri": "https://localhost:8080/"
    },
    "id": "oCYZa1lQ8Jn8",
    "outputId": "b4650298-0e35-4ed8-be13-83f074a617ed"
   },
   "outputs": [],
   "source": [
    "#!g1.1\n",
    "# Combine the results across all batches. \n",
    "flat_predictions = np.concatenate(predictions, axis=0)\n",
    "\n",
    "# For each sample, pick the label (0 or 1) with the higher score.\n",
    "flat_predictions = np.argmax(flat_predictions, axis=1).flatten()\n",
    "\n",
    "# Combine the correct labels for each batch into a single list.\n",
    "flat_true_labels = np.concatenate(true_labels, axis=0)\n",
    "\n",
    "\n"
   ]
  },
  {
   "cell_type": "code",
   "execution_count": 374,
   "metadata": {
    "cellId": "fox0ufcpgugxmqbbmoizcq"
   },
   "outputs": [
    {
     "data": {
      "text/plain": [
       "((17353,), (17353,))"
      ]
     },
     "metadata": {},
     "output_type": "display_data"
    }
   ],
   "source": [
    "#!g1.1\n",
    "flat_true_labels.shape, flat_predictions.shape"
   ]
  },
  {
   "cell_type": "markdown",
   "metadata": {
    "cellId": "rwc0vyamoex4w48yo7zb"
   },
   "source": [
    "#!g1.1\n",
    "##  Оценим качество модели"
   ]
  },
  {
   "cell_type": "code",
   "execution_count": 375,
   "metadata": {
    "cellId": "z1yzrc16djfb9x7vhxcot"
   },
   "outputs": [],
   "source": [
    "#!g1.1\n",
    "from sklearn.metrics import accuracy_score, f1_score, roc_auc_score, classification_report"
   ]
  },
  {
   "cell_type": "code",
   "execution_count": 376,
   "metadata": {
    "cellId": "8lqa42u22akhmdby0521h6"
   },
   "outputs": [
    {
     "name": "stdout",
     "output_type": "stream",
     "text": [
      "accuracy 0.819\n",
      "f1 0.6\n"
     ]
    }
   ],
   "source": [
    "#!g1.1\n",
    "print('accuracy', np.round(accuracy_score(flat_true_labels, flat_predictions),3)) #качество на тесте\n",
    "print('f1', np.round(f1_score(flat_true_labels, flat_predictions, average='macro'),2)) #качество на тесте\n"
   ]
  },
  {
   "cell_type": "code",
   "execution_count": 377,
   "metadata": {
    "cellId": "2dzzc1rsu4vmk5xfqhgypb"
   },
   "outputs": [
    {
     "name": "stderr",
     "output_type": "stream",
     "text": [
      "/usr/local/lib/python3.7/dist-packages/sklearn/metrics/_classification.py:1272: UndefinedMetricWarning: Precision and F-score are ill-defined and being set to 0.0 in labels with no predicted samples. Use `zero_division` parameter to control this behavior.\n",
      "  _warn_prf(average, modifier, msg_start, len(result))\n",
      "/usr/local/lib/python3.7/dist-packages/sklearn/metrics/_classification.py:1272: UndefinedMetricWarning: Precision and F-score are ill-defined and being set to 0.0 in labels with no predicted samples. Use `zero_division` parameter to control this behavior.\n",
      "  _warn_prf(average, modifier, msg_start, len(result))\n",
      "/usr/local/lib/python3.7/dist-packages/sklearn/metrics/_classification.py:1272: UndefinedMetricWarning: Precision and F-score are ill-defined and being set to 0.0 in labels with no predicted samples. Use `zero_division` parameter to control this behavior.\n",
      "  _warn_prf(average, modifier, msg_start, len(result))\n"
     ]
    },
    {
     "name": "stdout",
     "output_type": "stream",
     "text": [
      "              precision    recall  f1-score   support\n",
      "\n",
      "           0       0.67      0.65      0.66       353\n",
      "           1       0.58      0.38      0.46       190\n",
      "           2       0.81      0.75      0.78      6166\n",
      "           3       0.83      0.89      0.86      9333\n",
      "           4       0.84      0.84      0.84      1197\n",
      "           5       0.00      0.00      0.00       114\n",
      "\n",
      "    accuracy                           0.82     17353\n",
      "   macro avg       0.62      0.58      0.60     17353\n",
      "weighted avg       0.81      0.82      0.81     17353\n",
      "\n"
     ]
    }
   ],
   "source": [
    "#!g1.1\n",
    "print(classification_report(flat_true_labels, flat_predictions)) #качество на тесте"
   ]
  },
  {
   "cell_type": "markdown",
   "metadata": {
    "cellId": "b9oqim81krekvzv1l9mrn"
   },
   "source": [
    "#!g1.1\n",
    "Сравним с метриками tf-idf бейзлайна"
   ]
  },
  {
   "cell_type": "code",
   "execution_count": null,
   "metadata": {
    "cellId": "vniuq5ao6ue3o5c2mq076j"
   },
   "outputs": [],
   "source": [
    "#!g1.1\n",
    "print('accuracy', np.round(accuracy_score(valid_df['label'], lg.predict(X_valid_text)),3)) #качество на тесте\n",
    "print('f1', np.round(f1_score(valid_df['label'], lg.predict(X_valid_text), average='macro'),3)) #качество на тесте\n"
   ]
  },
  {
   "cell_type": "code",
   "execution_count": null,
   "metadata": {
    "cellId": "idb5r0ued9m6srmqj0iq"
   },
   "outputs": [],
   "source": [
    "#!g1.1\n",
    "print(classification_report(valid_df['label'], lg.predict(X_valid_text))) #качество на тесте"
   ]
  },
  {
   "cell_type": "markdown",
   "metadata": {
    "cellId": "fy333pbo20gfe9lzde23h8"
   },
   "source": [
    "## Выводы по построению модели"
   ]
  },
  {
   "cell_type": "code",
   "execution_count": null,
   "metadata": {
    "cellId": "ygb9oj2gszbg54t7yd3"
   },
   "outputs": [],
   "source": [
    "Мы видим, что не удалось побить бейзлайн, тем не менее, мы можем отметить, что \n",
    "в случаях с ограниченным количеством размеченных данных, скорее всего берт сможет выдать качество лучше бейзлайн решения.\n",
    "Тем не менее, сравним, насколько устойчивы модели к текстовым атакам"
   ]
  },
  {
   "cell_type": "code",
   "execution_count": null,
   "metadata": {
    "cellId": "tkgo09s7nkbq9u2h9fedt"
   },
   "outputs": [],
   "source": [
    "#!g1.1\n",
    "%%time\n",
    "\n",
    "## Другая реализация\n",
    "\n",
    "## Попробуем BAE еще раз\n",
    "#attack_recipes.bae_garg_2019.BAEGarg2019\n",
    "attack = textattack.attack_recipes.bert_attack_li_2020.BERTAttackLi2020.build(model_wrapper)\n",
    "attack_args = textattack.AttackArgs(num_examples=100, log_to_csv=\"logBae3.csv\", checkpoint_interval=20, checkpoint_dir=\"checkpoints\", disable_stdout=True)\n",
    "attacker = textattack.Attacker(attack, dataset, attack_args)\n",
    "attacker.attack_dataset()"
   ]
  },
  {
   "cell_type": "markdown",
   "metadata": {
    "cellId": "wx6epmkgtzn0lj9sclkiugh"
   },
   "source": [
    "## Проверим модель на робастность на основе адв примеров"
   ]
  },
  {
   "cell_type": "markdown",
   "metadata": {
    "cellId": "vrifsyxtk2q9ttnspxy2f"
   },
   "source": [
    "### Релизуем рецепт - textfooler для Берта"
   ]
  },
  {
   "cell_type": "code",
   "execution_count": 379,
   "metadata": {
    "cellId": "yu1vixstynsh6yyext8c"
   },
   "outputs": [
    {
     "name": "stderr",
     "output_type": "stream",
     "text": [
      "textattack: Unknown if model of class <class 'transformers.models.bert.modeling_bert.BertForSequenceClassification'> compatible with goal function <class 'textattack.goal_functions.classification.untargeted_classification.UntargetedClassification'>.\n"
     ]
    }
   ],
   "source": [
    "#!g1.1\n",
    "\n",
    "# обернем атаку\n",
    "\n",
    "import textattack\n",
    "from datasets import Dataset\n",
    "\n",
    "\n",
    "model_wrapper = textattack.models.wrappers.HuggingFaceModelWrapper(model, tokenizer)\n",
    "attack = textattack.attack_recipes.TextFoolerJin2019.build(model_wrapper)"
   ]
  },
  {
   "cell_type": "code",
   "execution_count": 380,
   "metadata": {
    "cellId": "sxa10b9eo6avfbwgr7j35"
   },
   "outputs": [
    {
     "data": {
      "text/html": [
       "<div>\n",
       "<style scoped>\n",
       "    .dataframe tbody tr th:only-of-type {\n",
       "        vertical-align: middle;\n",
       "    }\n",
       "\n",
       "    .dataframe tbody tr th {\n",
       "        vertical-align: top;\n",
       "    }\n",
       "\n",
       "    .dataframe thead th {\n",
       "        text-align: right;\n",
       "    }\n",
       "</style>\n",
       "<table border=\"1\" class=\"dataframe\">\n",
       "  <thead>\n",
       "    <tr style=\"text-align: right;\">\n",
       "      <th></th>\n",
       "      <th>text</th>\n",
       "      <th>label</th>\n",
       "    </tr>\n",
       "    <tr>\n",
       "      <th>id</th>\n",
       "      <th></th>\n",
       "      <th></th>\n",
       "    </tr>\n",
       "  </thead>\n",
       "  <tbody>\n",
       "    <tr>\n",
       "      <th>0</th>\n",
       "      <td>We started giving this to my 5 year old Labrad...</td>\n",
       "      <td>dogs</td>\n",
       "    </tr>\n",
       "    <tr>\n",
       "      <th>1</th>\n",
       "      <td>This product is easy to set up and use. I have...</td>\n",
       "      <td>dogs</td>\n",
       "    </tr>\n",
       "  </tbody>\n",
       "</table>\n",
       "</div>"
      ],
      "text/plain": [
       "                                                 text label\n",
       "id                                                         \n",
       "0   We started giving this to my 5 year old Labrad...  dogs\n",
       "1   This product is easy to set up and use. I have...  dogs"
      ]
     },
     "metadata": {},
     "output_type": "display_data"
    }
   ],
   "source": [
    "#!g1.1\n",
    "valid_df.head(2)"
   ]
  },
  {
   "cell_type": "code",
   "execution_count": 387,
   "metadata": {
    "cellId": "5agergkffti2dsxewwlbeo"
   },
   "outputs": [
    {
     "data": {
      "text/plain": [
       "array([3, 3, 3, ..., 2, 3, 2])"
      ]
     },
     "metadata": {},
     "output_type": "display_data"
    }
   ],
   "source": [
    "#!g1.1\n",
    "le.transform(valid_df.label)"
   ]
  },
  {
   "cell_type": "code",
   "execution_count": 388,
   "metadata": {
    "cellId": "d3ea2gyd1vjil858eci3e"
   },
   "outputs": [],
   "source": [
    "#!g1.1\n",
    "\n",
    "valid_df['labels'] = le.transform(valid_df.label)\n",
    "\n",
    "dataset = Dataset.from_pandas(valid_df.sample(1000, random_state =17)[['text', 'labels']])  # берем 1000 случ примеров\n",
    "\n",
    "dataset = textattack.datasets.HuggingFaceDataset(dataset, dataset_columns = (['text'], 'labels'))\n"
   ]
  },
  {
   "cell_type": "code",
   "execution_count": 392,
   "metadata": {
    "cellId": "s3ek2py74noaco1v6fqfdi"
   },
   "outputs": [],
   "source": [
    "#!g1.1\n",
    "attack_args = textattack.AttackArgs(num_examples=1000, log_to_csv=\"log_amz_fooler.csv\", checkpoint_interval=500, checkpoint_dir=\"checkpoints\", disable_stdout=True)\n"
   ]
  },
  {
   "cell_type": "code",
   "execution_count": 393,
   "metadata": {
    "cellId": "rwc5un4j6dapsge9ihad"
   },
   "outputs": [],
   "source": [
    "#!g1.1\n",
    "attacker = textattack.Attacker(attack, dataset, attack_args)\n",
    "\n",
    "# что на вход можно подавать в качестве аргумента для датасета? туториал подсказывает, что нужно сначала загрузить датасет в библиотеку"
   ]
  },
  {
   "cell_type": "code",
   "execution_count": 394,
   "metadata": {
    "cellId": "st9b05066gpy4goxdgw99"
   },
   "outputs": [
    {
     "name": "stderr",
     "output_type": "stream",
     "text": [
      "textattack: Logging to CSV at path log_amz_fooler.csv\n",
      "[Succeeded / Failed / Skipped / Total] 391 / 9 / 100 / 500:  50%|█████     | 500/1000 [40:24<40:24,  4.85s/it]textattack: Saving checkpoint under \"checkpoints/1640655505955.ta.chkpt\" at 2021-12-28 01:38:25 after 500 attacks.\n",
      "[Succeeded / Failed / Skipped / Total] 812 / 15 / 173 / 1000: 100%|██████████| 1000/1000 [1:23:55<00:00,  5.04s/it]textattack: Saving checkpoint under \"checkpoints/1640658116992.ta.chkpt\" at 2021-12-28 02:21:56 after 1000 attacks.\n",
      "[Succeeded / Failed / Skipped / Total] 812 / 15 / 173 / 1000: 100%|██████████| 1000/1000 [1:23:55<00:00,  5.04s/it]\n"
     ]
    },
    {
     "name": "stdout",
     "output_type": "stream",
     "text": [
      "Attack(\n",
      "  (search_method): GreedyWordSwapWIR(\n",
      "    (wir_method):  delete\n",
      "  )\n",
      "  (goal_function):  UntargetedClassification\n",
      "  (transformation):  WordSwapEmbedding(\n",
      "    (max_candidates):  50\n",
      "    (embedding):  WordEmbedding\n",
      "  )\n",
      "  (constraints): \n",
      "    (0): WordEmbeddingDistance(\n",
      "        (embedding):  WordEmbedding\n",
      "        (min_cos_sim):  0.5\n",
      "        (cased):  False\n",
      "        (include_unknown_words):  True\n",
      "        (compare_against_original):  True\n",
      "      )\n",
      "    (1): PartOfSpeech(\n",
      "        (tagger_type):  nltk\n",
      "        (tagset):  universal\n",
      "        (allow_verb_noun_swap):  True\n",
      "        (compare_against_original):  True\n",
      "      )\n",
      "    (2): UniversalSentenceEncoder(\n",
      "        (metric):  angular\n",
      "        (threshold):  0.840845057\n",
      "        (window_size):  15\n",
      "        (skip_text_shorter_than_window):  True\n",
      "        (compare_against_original):  False\n",
      "      )\n",
      "    (3): RepeatModification\n",
      "    (4): StopwordModification\n",
      "    (5): InputColumnModification(\n",
      "        (matching_column_labels):  ['premise', 'hypothesis']\n",
      "        (columns_to_ignore):  {'premise'}\n",
      "      )\n",
      "  (is_black_box):  True\n",
      ") \n",
      "\n",
      "\n",
      "\n",
      "=============================================================================================================================\n",
      "=============================================================================================================================\n",
      "\n",
      "\n",
      "\n",
      "=============================================================================================================================\n",
      "=============================================================================================================================\n",
      "\n",
      "\n",
      "+-------------------------------+--------+\n",
      "| Attack Results                |        |\n",
      "+-------------------------------+--------+\n",
      "| Number of successful attacks: | 812    |\n",
      "| Number of failed attacks:     | 15     |\n",
      "| Number of skipped attacks:    | 173    |\n",
      "| Original accuracy:            | 82.7%  |\n",
      "| Accuracy under attack:        | 1.5%   |\n",
      "| Attack success rate:          | 98.19% |\n",
      "| Average perturbed word %:     | 11.7%  |\n",
      "| Average num. words per input: | 91.11  |\n",
      "| Avg num queries:              | 351.07 |\n",
      "+-------------------------------+--------+\n",
      "CPU times: user 1h 5min 32s, sys: 20min 15s, total: 1h 25min 48s\n",
      "Wall time: 1h 23min 56s\n"
     ]
    },
    {
     "data": {
      "text/plain": [
       "[<textattack.attack_results.successful_attack_result.SuccessfulAttackResult at 0x7fa4b84c3d50>,\n",
       " <textattack.attack_results.successful_attack_result.SuccessfulAttackResult at 0x7fa4a9688410>,\n",
       " <textattack.attack_results.skipped_attack_result.SkippedAttackResult at 0x7fa4b3f70450>,\n",
       " <textattack.attack_results.successful_attack_result.SuccessfulAttackResult at 0x7fa4469f1590>,\n",
       " <textattack.attack_results.skipped_attack_result.SkippedAttackResult at 0x7fa4aefb6f90>,\n",
       " <textattack.attack_results.successful_attack_result.SuccessfulAttackResult at 0x7fa4af7b6510>,\n",
       " <textattack.attack_results.successful_attack_result.SuccessfulAttackResult at 0x7fa5c50095d0>,\n",
       " <textattack.attack_results.successful_attack_result.SuccessfulAttackResult at 0x7fa4b7ad2fd0>,\n",
       " <textattack.attack_results.skipped_attack_result.SkippedAttackResult at 0x7fa4b48e4e50>,\n",
       " <textattack.attack_results.successful_attack_result.SuccessfulAttackResult at 0x7fa4a4d0f990>,\n",
       " <textattack.attack_results.successful_attack_result.SuccessfulAttackResult at 0x7fa4b14710d0>,\n",
       " <textattack.attack_results.skipped_attack_result.SkippedAttackResult at 0x7fa498118690>,\n",
       " <textattack.attack_results.successful_attack_result.SuccessfulAttackResult at 0x7fa44815ee90>,\n",
       " <textattack.attack_results.skipped_attack_result.SkippedAttackResult at 0x7fa4482e2150>,\n",
       " <textattack.attack_results.successful_attack_result.SuccessfulAttackResult at 0x7fa4aabeab10>,\n",
       " <textattack.attack_results.successful_attack_result.SuccessfulAttackResult at 0x7fa448e4ced0>,\n",
       " <textattack.attack_results.successful_attack_result.SuccessfulAttackResult at 0x7fa4acfd2510>,\n",
       " <textattack.attack_results.successful_attack_result.SuccessfulAttackResult at 0x7fa4481cd750>,\n",
       " <textattack.attack_results.successful_attack_result.SuccessfulAttackResult at 0x7fa4b3726050>,\n",
       " <textattack.attack_results.successful_attack_result.SuccessfulAttackResult at 0x7fa445b30050>,\n",
       " <textattack.attack_results.successful_attack_result.SuccessfulAttackResult at 0x7fa4a6846790>,\n",
       " <textattack.attack_results.successful_attack_result.SuccessfulAttackResult at 0x7fa445b0c110>,\n",
       " <textattack.attack_results.successful_attack_result.SuccessfulAttackResult at 0x7fa4a9c4f050>,\n",
       " <textattack.attack_results.successful_attack_result.SuccessfulAttackResult at 0x7fa46d313c10>,\n",
       " <textattack.attack_results.successful_attack_result.SuccessfulAttackResult at 0x7fa49f951410>,\n",
       " <textattack.attack_results.skipped_attack_result.SkippedAttackResult at 0x7fa4a7484bd0>,\n",
       " <textattack.attack_results.successful_attack_result.SuccessfulAttackResult at 0x7fa4abf16090>,\n",
       " <textattack.attack_results.skipped_attack_result.SkippedAttackResult at 0x7fa4abf16690>,\n",
       " <textattack.attack_results.successful_attack_result.SuccessfulAttackResult at 0x7fa4a0555cd0>,\n",
       " <textattack.attack_results.successful_attack_result.SuccessfulAttackResult at 0x7fa4b0187190>,\n",
       " <textattack.attack_results.successful_attack_result.SuccessfulAttackResult at 0x7fa4ac3f2150>,\n",
       " <textattack.attack_results.successful_attack_result.SuccessfulAttackResult at 0x7fa4b5fa3190>,\n",
       " <textattack.attack_results.successful_attack_result.SuccessfulAttackResult at 0x7fa4ac97ce90>,\n",
       " <textattack.attack_results.successful_attack_result.SuccessfulAttackResult at 0x7fa5c5c69bd0>,\n",
       " <textattack.attack_results.successful_attack_result.SuccessfulAttackResult at 0x7fa4a8215090>,\n",
       " <textattack.attack_results.successful_attack_result.SuccessfulAttackResult at 0x7fa4a990cd90>,\n",
       " <textattack.attack_results.successful_attack_result.SuccessfulAttackResult at 0x7fa4a8a57450>,\n",
       " <textattack.attack_results.successful_attack_result.SuccessfulAttackResult at 0x7fa44d439f90>,\n",
       " <textattack.attack_results.successful_attack_result.SuccessfulAttackResult at 0x7fa449836050>,\n",
       " <textattack.attack_results.skipped_attack_result.SkippedAttackResult at 0x7fa447a1f310>,\n",
       " <textattack.attack_results.skipped_attack_result.SkippedAttackResult at 0x7fa447a1f410>,\n",
       " <textattack.attack_results.successful_attack_result.SuccessfulAttackResult at 0x7fa4b870ed90>,\n",
       " <textattack.attack_results.successful_attack_result.SuccessfulAttackResult at 0x7fa4465c6890>,\n",
       " <textattack.attack_results.skipped_attack_result.SkippedAttackResult at 0x7fa46ec6a410>,\n",
       " <textattack.attack_results.successful_attack_result.SuccessfulAttackResult at 0x7fa4ab7471d0>,\n",
       " <textattack.attack_results.successful_attack_result.SuccessfulAttackResult at 0x7fa4b78d5910>,\n",
       " <textattack.attack_results.skipped_attack_result.SkippedAttackResult at 0x7fa4b175bdd0>,\n",
       " <textattack.attack_results.successful_attack_result.SuccessfulAttackResult at 0x7fa4483efe90>,\n",
       " <textattack.attack_results.successful_attack_result.SuccessfulAttackResult at 0x7fa4a03f3dd0>,\n",
       " <textattack.attack_results.failed_attack_result.FailedAttackResult at 0x7fa4b6471e10>,\n",
       " <textattack.attack_results.successful_attack_result.SuccessfulAttackResult at 0x7fa447bccad0>,\n",
       " <textattack.attack_results.successful_attack_result.SuccessfulAttackResult at 0x7fa4a549aed0>,\n",
       " <textattack.attack_results.successful_attack_result.SuccessfulAttackResult at 0x7fa4b8223990>,\n",
       " <textattack.attack_results.successful_attack_result.SuccessfulAttackResult at 0x7fa4b6276050>,\n",
       " <textattack.attack_results.skipped_attack_result.SkippedAttackResult at 0x7fa4b07dc750>,\n",
       " <textattack.attack_results.successful_attack_result.SuccessfulAttackResult at 0x7fa4acfd2790>,\n",
       " <textattack.attack_results.successful_attack_result.SuccessfulAttackResult at 0x7fa4a4d20d90>,\n",
       " <textattack.attack_results.successful_attack_result.SuccessfulAttackResult at 0x7fa5e5d59250>,\n",
       " <textattack.attack_results.successful_attack_result.SuccessfulAttackResult at 0x7fa445b0c090>,\n",
       " <textattack.attack_results.successful_attack_result.SuccessfulAttackResult at 0x7fa4a957a310>,\n",
       " <textattack.attack_results.successful_attack_result.SuccessfulAttackResult at 0x7fa4afc7e350>,\n",
       " <textattack.attack_results.skipped_attack_result.SkippedAttackResult at 0x7fa4a5bf54d0>,\n",
       " <textattack.attack_results.successful_attack_result.SuccessfulAttackResult at 0x7fa4b5957310>,\n",
       " <textattack.attack_results.successful_attack_result.SuccessfulAttackResult at 0x7fa4a4d20ad0>,\n",
       " <textattack.attack_results.successful_attack_result.SuccessfulAttackResult at 0x7fa468c68f10>,\n",
       " <textattack.attack_results.skipped_attack_result.SkippedAttackResult at 0x7fa468c68ed0>,\n",
       " <textattack.attack_results.successful_attack_result.SuccessfulAttackResult at 0x7fa4ac3e4410>,\n",
       " <textattack.attack_results.successful_attack_result.SuccessfulAttackResult at 0x7fa4465c6f10>,\n",
       " <textattack.attack_results.skipped_attack_result.SkippedAttackResult at 0x7fa4b820a550>,\n",
       " <textattack.attack_results.successful_attack_result.SuccessfulAttackResult at 0x7fa4a7d34610>,\n",
       " <textattack.attack_results.successful_attack_result.SuccessfulAttackResult at 0x7fa49f972890>,\n",
       " <textattack.attack_results.successful_attack_result.SuccessfulAttackResult at 0x7fa4a691c710>,\n",
       " <textattack.attack_results.failed_attack_result.FailedAttackResult at 0x7fa46a289250>,\n",
       " <textattack.attack_results.successful_attack_result.SuccessfulAttackResult at 0x7fa47edca810>,\n",
       " <textattack.attack_results.successful_attack_result.SuccessfulAttackResult at 0x7fa4b68ac2d0>,\n",
       " <textattack.attack_results.successful_attack_result.SuccessfulAttackResult at 0x7fa4aade5410>,\n",
       " <textattack.attack_results.successful_attack_result.SuccessfulAttackResult at 0x7fa4697e1b10>,\n",
       " <textattack.attack_results.successful_attack_result.SuccessfulAttackResult at 0x7fa449110d50>,\n",
       " <textattack.attack_results.successful_attack_result.SuccessfulAttackResult at 0x7fa4800faa50>,\n",
       " <textattack.attack_results.successful_attack_result.SuccessfulAttackResult at 0x7fa4b075b290>,\n",
       " <textattack.attack_results.failed_attack_result.FailedAttackResult at 0x7fa44a6a5510>,\n",
       " <textattack.attack_results.successful_attack_result.SuccessfulAttackResult at 0x7fa46a3acc90>,\n",
       " <textattack.attack_results.successful_attack_result.SuccessfulAttackResult at 0x7fa497881210>,\n",
       " <textattack.attack_results.skipped_attack_result.SkippedAttackResult at 0x7fa497881b10>,\n",
       " <textattack.attack_results.successful_attack_result.SuccessfulAttackResult at 0x7fa4ad49a790>,\n",
       " <textattack.attack_results.successful_attack_result.SuccessfulAttackResult at 0x7fa44d647d50>,\n",
       " <textattack.attack_results.skipped_attack_result.SkippedAttackResult at 0x7fa44d647f90>,\n",
       " <textattack.attack_results.successful_attack_result.SuccessfulAttackResult at 0x7fa44fefb710>,\n",
       " <textattack.attack_results.successful_attack_result.SuccessfulAttackResult at 0x7fa4b8ccbe10>,\n",
       " <textattack.attack_results.successful_attack_result.SuccessfulAttackResult at 0x7fa4aa9b7790>,\n",
       " <textattack.attack_results.successful_attack_result.SuccessfulAttackResult at 0x7fa4b3eb1610>,\n",
       " <textattack.attack_results.successful_attack_result.SuccessfulAttackResult at 0x7fa49b6a3790>,\n",
       " <textattack.attack_results.successful_attack_result.SuccessfulAttackResult at 0x7fa49bf3c190>,\n",
       " <textattack.attack_results.skipped_attack_result.SkippedAttackResult at 0x7fa498114990>,\n",
       " <textattack.attack_results.successful_attack_result.SuccessfulAttackResult at 0x7fa4afb8a390>,\n",
       " <textattack.attack_results.successful_attack_result.SuccessfulAttackResult at 0x7fa4b5042990>,\n",
       " <textattack.attack_results.successful_attack_result.SuccessfulAttackResult at 0x7fa4b7fb8fd0>,\n",
       " <textattack.attack_results.skipped_attack_result.SkippedAttackResult at 0x7fa44d4d7950>,\n",
       " <textattack.attack_results.successful_attack_result.SuccessfulAttackResult at 0x7fa4a5bf5e10>,\n",
       " <textattack.attack_results.successful_attack_result.SuccessfulAttackResult at 0x7fa4aa1ac390>,\n",
       " <textattack.attack_results.successful_attack_result.SuccessfulAttackResult at 0x7fa44a9e9d50>,\n",
       " <textattack.attack_results.successful_attack_result.SuccessfulAttackResult at 0x7fa4a56ae250>,\n",
       " <textattack.attack_results.successful_attack_result.SuccessfulAttackResult at 0x7fa4b0b0cf90>,\n",
       " <textattack.attack_results.successful_attack_result.SuccessfulAttackResult at 0x7fa447760890>,\n",
       " <textattack.attack_results.successful_attack_result.SuccessfulAttackResult at 0x7fa4b2b6af50>,\n",
       " <textattack.attack_results.successful_attack_result.SuccessfulAttackResult at 0x7fa49698b810>,\n",
       " <textattack.attack_results.successful_attack_result.SuccessfulAttackResult at 0x7fa4aad9ee90>,\n",
       " <textattack.attack_results.successful_attack_result.SuccessfulAttackResult at 0x7fa448610390>,\n",
       " <textattack.attack_results.successful_attack_result.SuccessfulAttackResult at 0x7fa4ac204490>,\n",
       " <textattack.attack_results.successful_attack_result.SuccessfulAttackResult at 0x7fa4b05b5550>,\n",
       " <textattack.attack_results.skipped_attack_result.SkippedAttackResult at 0x7fa4b05b5410>,\n",
       " <textattack.attack_results.successful_attack_result.SuccessfulAttackResult at 0x7fa4aa6dba90>,\n",
       " <textattack.attack_results.successful_attack_result.SuccessfulAttackResult at 0x7fa4b89d7f50>,\n",
       " <textattack.attack_results.successful_attack_result.SuccessfulAttackResult at 0x7fa44d439c10>,\n",
       " <textattack.attack_results.successful_attack_result.SuccessfulAttackResult at 0x7fa4b713fcd0>,\n",
       " <textattack.attack_results.successful_attack_result.SuccessfulAttackResult at 0x7fa4ac456190>,\n",
       " <textattack.attack_results.successful_attack_result.SuccessfulAttackResult at 0x7fa4a750c350>,\n",
       " <textattack.attack_results.skipped_attack_result.SkippedAttackResult at 0x7fa4697e1050>,\n",
       " <textattack.attack_results.successful_attack_result.SuccessfulAttackResult at 0x7fa4928a9f50>,\n",
       " <textattack.attack_results.successful_attack_result.SuccessfulAttackResult at 0x7fa4b4c064d0>,\n",
       " <textattack.attack_results.skipped_attack_result.SkippedAttackResult at 0x7fa44847ba10>,\n",
       " <textattack.attack_results.successful_attack_result.SuccessfulAttackResult at 0x7fa4b5148490>,\n",
       " <textattack.attack_results.skipped_attack_result.SkippedAttackResult at 0x7fa4a810cbd0>,\n",
       " <textattack.attack_results.skipped_attack_result.SkippedAttackResult at 0x7fa446d06550>,\n",
       " <textattack.attack_results.successful_attack_result.SuccessfulAttackResult at 0x7fa4b46f4890>,\n",
       " <textattack.attack_results.successful_attack_result.SuccessfulAttackResult at 0x7fa4482e2190>,\n",
       " <textattack.attack_results.successful_attack_result.SuccessfulAttackResult at 0x7fa46a4a71d0>,\n",
       " <textattack.attack_results.successful_attack_result.SuccessfulAttackResult at 0x7fa4ad49a950>,\n",
       " <textattack.attack_results.successful_attack_result.SuccessfulAttackResult at 0x7fa4b20f0dd0>,\n",
       " <textattack.attack_results.successful_attack_result.SuccessfulAttackResult at 0x7fa4aa059dd0>,\n",
       " <textattack.attack_results.successful_attack_result.SuccessfulAttackResult at 0x7fa4a7608f10>,\n",
       " <textattack.attack_results.successful_attack_result.SuccessfulAttackResult at 0x7fa4ad491550>,\n",
       " <textattack.attack_results.successful_attack_result.SuccessfulAttackResult at 0x7fa4a63a5650>,\n",
       " <textattack.attack_results.successful_attack_result.SuccessfulAttackResult at 0x7fa4b51b5250>,\n",
       " <textattack.attack_results.skipped_attack_result.SkippedAttackResult at 0x7fa4b2ac5490>,\n",
       " <textattack.attack_results.successful_attack_result.SuccessfulAttackResult at 0x7fa4b43bccd0>,\n",
       " <textattack.attack_results.successful_attack_result.SuccessfulAttackResult at 0x7fa4b466d190>,\n",
       " <textattack.attack_results.successful_attack_result.SuccessfulAttackResult at 0x7fa4975bbf50>,\n",
       " <textattack.attack_results.successful_attack_result.SuccessfulAttackResult at 0x7fa4b3eb3a10>,\n",
       " <textattack.attack_results.skipped_attack_result.SkippedAttackResult at 0x7fa4ac204990>,\n",
       " <textattack.attack_results.successful_attack_result.SuccessfulAttackResult at 0x7fa4b6995f10>,\n",
       " <textattack.attack_results.successful_attack_result.SuccessfulAttackResult at 0x7fa4b6bb3e90>,\n",
       " <textattack.attack_results.successful_attack_result.SuccessfulAttackResult at 0x7fa4a8eb2690>,\n",
       " <textattack.attack_results.skipped_attack_result.SkippedAttackResult at 0x7fa4a8eb2f50>,\n",
       " <textattack.attack_results.skipped_attack_result.SkippedAttackResult at 0x7fa4a5d96410>,\n",
       " <textattack.attack_results.successful_attack_result.SuccessfulAttackResult at 0x7fa4b6ca3bd0>,\n",
       " <textattack.attack_results.successful_attack_result.SuccessfulAttackResult at 0x7fa4aab47510>,\n",
       " <textattack.attack_results.successful_attack_result.SuccessfulAttackResult at 0x7fa4b758cd10>,\n",
       " <textattack.attack_results.successful_attack_result.SuccessfulAttackResult at 0x7fa44c510390>,\n",
       " <textattack.attack_results.successful_attack_result.SuccessfulAttackResult at 0x7fa4a9082a10>,\n",
       " <textattack.attack_results.skipped_attack_result.SkippedAttackResult at 0x7fa4b3f70210>,\n",
       " <textattack.attack_results.successful_attack_result.SuccessfulAttackResult at 0x7fa4b3a9d2d0>,\n",
       " <textattack.attack_results.successful_attack_result.SuccessfulAttackResult at 0x7fa482123fd0>,\n",
       " <textattack.attack_results.successful_attack_result.SuccessfulAttackResult at 0x7fa450699850>,\n",
       " <textattack.attack_results.successful_attack_result.SuccessfulAttackResult at 0x7fa4a951a290>,\n",
       " <textattack.attack_results.skipped_attack_result.SkippedAttackResult at 0x7fa484981390>,\n",
       " <textattack.attack_results.successful_attack_result.SuccessfulAttackResult at 0x7fa4aade5390>,\n",
       " <textattack.attack_results.successful_attack_result.SuccessfulAttackResult at 0x7fa4af95de90>,\n",
       " <textattack.attack_results.successful_attack_result.SuccessfulAttackResult at 0x7fa4a6bbf050>,\n",
       " <textattack.attack_results.successful_attack_result.SuccessfulAttackResult at 0x7fa4ad1e8550>,\n",
       " <textattack.attack_results.successful_attack_result.SuccessfulAttackResult at 0x7fa4ae3f04d0>,\n",
       " <textattack.attack_results.successful_attack_result.SuccessfulAttackResult at 0x7fa4a6be60d0>,\n",
       " <textattack.attack_results.successful_attack_result.SuccessfulAttackResult at 0x7fa449a2d790>,\n",
       " <textattack.attack_results.successful_attack_result.SuccessfulAttackResult at 0x7fa4aad8cf90>,\n",
       " <textattack.attack_results.successful_attack_result.SuccessfulAttackResult at 0x7fa4b442f410>,\n",
       " <textattack.attack_results.successful_attack_result.SuccessfulAttackResult at 0x7fa4a7b14090>,\n",
       " <textattack.attack_results.successful_attack_result.SuccessfulAttackResult at 0x7fa4b16f05d0>,\n",
       " <textattack.attack_results.successful_attack_result.SuccessfulAttackResult at 0x7fa49ff27790>,\n",
       " <textattack.attack_results.successful_attack_result.SuccessfulAttackResult at 0x7fa4b72caad0>,\n",
       " <textattack.attack_results.skipped_attack_result.SkippedAttackResult at 0x7fa49c3751d0>,\n",
       " <textattack.attack_results.successful_attack_result.SuccessfulAttackResult at 0x7fa4aa856210>,\n",
       " <textattack.attack_results.successful_attack_result.SuccessfulAttackResult at 0x7fa4b7fd7c90>,\n",
       " <textattack.attack_results.successful_attack_result.SuccessfulAttackResult at 0x7fa4a83b2b50>,\n",
       " <textattack.attack_results.successful_attack_result.SuccessfulAttackResult at 0x7fa49ace9350>,\n",
       " <textattack.attack_results.skipped_attack_result.SkippedAttackResult at 0x7fa4b1c56190>,\n",
       " <textattack.attack_results.successful_attack_result.SuccessfulAttackResult at 0x7fa4a6ebf890>,\n",
       " <textattack.attack_results.skipped_attack_result.SkippedAttackResult at 0x7fa4ad497810>,\n",
       " <textattack.attack_results.successful_attack_result.SuccessfulAttackResult at 0x7fa49f0ebe90>,\n",
       " <textattack.attack_results.successful_attack_result.SuccessfulAttackResult at 0x7fa4a51c62d0>,\n",
       " <textattack.attack_results.successful_attack_result.SuccessfulAttackResult at 0x7fa4af9cd350>,\n",
       " <textattack.attack_results.successful_attack_result.SuccessfulAttackResult at 0x7fa4ace77110>,\n",
       " <textattack.attack_results.successful_attack_result.SuccessfulAttackResult at 0x7fa49a24f710>,\n",
       " <textattack.attack_results.successful_attack_result.SuccessfulAttackResult at 0x7fa4b82a93d0>,\n",
       " <textattack.attack_results.successful_attack_result.SuccessfulAttackResult at 0x7fa4b0732fd0>,\n",
       " <textattack.attack_results.skipped_attack_result.SkippedAttackResult at 0x7fa472f99d10>,\n",
       " <textattack.attack_results.skipped_attack_result.SkippedAttackResult at 0x7fa4b58ca990>,\n",
       " <textattack.attack_results.successful_attack_result.SuccessfulAttackResult at 0x7fa4a6918050>,\n",
       " <textattack.attack_results.successful_attack_result.SuccessfulAttackResult at 0x7fa4af64d810>,\n",
       " <textattack.attack_results.successful_attack_result.SuccessfulAttackResult at 0x7fa4a99a6150>,\n",
       " <textattack.attack_results.skipped_attack_result.SkippedAttackResult at 0x7fa4b6cbe0d0>,\n",
       " <textattack.attack_results.successful_attack_result.SuccessfulAttackResult at 0x7fa4487b5050>,\n",
       " <textattack.attack_results.successful_attack_result.SuccessfulAttackResult at 0x7fa4a60aa510>,\n",
       " <textattack.attack_results.successful_attack_result.SuccessfulAttackResult at 0x7fa4b53d2050>,\n",
       " <textattack.attack_results.successful_attack_result.SuccessfulAttackResult at 0x7fa447bccc90>,\n",
       " <textattack.attack_results.skipped_attack_result.SkippedAttackResult at 0x7fa4b0f38690>,\n",
       " <textattack.attack_results.successful_attack_result.SuccessfulAttackResult at 0x7fa4b573afd0>,\n",
       " <textattack.attack_results.successful_attack_result.SuccessfulAttackResult at 0x7fa4b3e27090>,\n",
       " <textattack.attack_results.successful_attack_result.SuccessfulAttackResult at 0x7fa47d5030d0>,\n",
       " <textattack.attack_results.failed_attack_result.FailedAttackResult at 0x7fa44cb69c10>,\n",
       " <textattack.attack_results.successful_attack_result.SuccessfulAttackResult at 0x7fa4a8f4aed0>,\n",
       " <textattack.attack_results.successful_attack_result.SuccessfulAttackResult at 0x7fa44fdc0350>,\n",
       " <textattack.attack_results.skipped_attack_result.SkippedAttackResult at 0x7fa4a7e2d790>,\n",
       " <textattack.attack_results.skipped_attack_result.SkippedAttackResult at 0x7fa44fdc0050>,\n",
       " <textattack.attack_results.successful_attack_result.SuccessfulAttackResult at 0x7fa4a6dd46d0>,\n",
       " <textattack.attack_results.successful_attack_result.SuccessfulAttackResult at 0x7fa4affca2d0>,\n",
       " <textattack.attack_results.skipped_attack_result.SkippedAttackResult at 0x7fa4ad4b11d0>,\n",
       " <textattack.attack_results.successful_attack_result.SuccessfulAttackResult at 0x7fa4acfd2150>,\n",
       " <textattack.attack_results.skipped_attack_result.SkippedAttackResult at 0x7fa44a9e9410>,\n",
       " <textattack.attack_results.successful_attack_result.SuccessfulAttackResult at 0x7fa44dffddd0>,\n",
       " <textattack.attack_results.skipped_attack_result.SkippedAttackResult at 0x7fa44dffd290>,\n",
       " <textattack.attack_results.skipped_attack_result.SkippedAttackResult at 0x7fa44dffda90>,\n",
       " <textattack.attack_results.successful_attack_result.SuccessfulAttackResult at 0x7fa4ab1bae90>,\n",
       " <textattack.attack_results.successful_attack_result.SuccessfulAttackResult at 0x7fa4ac1a8050>,\n",
       " <textattack.attack_results.successful_attack_result.SuccessfulAttackResult at 0x7fa4afec4790>,\n",
       " <textattack.attack_results.successful_attack_result.SuccessfulAttackResult at 0x7fa4b5171610>,\n",
       " <textattack.attack_results.successful_attack_result.SuccessfulAttackResult at 0x7fa4ae0e8e50>,\n",
       " <textattack.attack_results.skipped_attack_result.SkippedAttackResult at 0x7fa44944c950>,\n",
       " <textattack.attack_results.successful_attack_result.SuccessfulAttackResult at 0x7fa4a69ff110>,\n",
       " <textattack.attack_results.successful_attack_result.SuccessfulAttackResult at 0x7fa4b19fd790>,\n",
       " <textattack.attack_results.successful_attack_result.SuccessfulAttackResult at 0x7fa4b352c950>,\n",
       " <textattack.attack_results.successful_attack_result.SuccessfulAttackResult at 0x7fa4a9b9bb90>,\n",
       " <textattack.attack_results.successful_attack_result.SuccessfulAttackResult at 0x7fa449194d90>,\n",
       " <textattack.attack_results.skipped_attack_result.SkippedAttackResult at 0x7fa4b3822e50>,\n",
       " <textattack.attack_results.skipped_attack_result.SkippedAttackResult at 0x7fa4b3822110>,\n",
       " <textattack.attack_results.skipped_attack_result.SkippedAttackResult at 0x7fa449194a50>,\n",
       " <textattack.attack_results.successful_attack_result.SuccessfulAttackResult at 0x7fa4a6c0fe50>,\n",
       " <textattack.attack_results.successful_attack_result.SuccessfulAttackResult at 0x7fa4acadc110>,\n",
       " <textattack.attack_results.successful_attack_result.SuccessfulAttackResult at 0x7fa4b3308810>,\n",
       " <textattack.attack_results.successful_attack_result.SuccessfulAttackResult at 0x7fa4ac3e7a10>,\n",
       " <textattack.attack_results.successful_attack_result.SuccessfulAttackResult at 0x7fa4a8885250>,\n",
       " <textattack.attack_results.successful_attack_result.SuccessfulAttackResult at 0x7fa44605dc10>,\n",
       " <textattack.attack_results.successful_attack_result.SuccessfulAttackResult at 0x7fa4a85de350>,\n",
       " <textattack.attack_results.skipped_attack_result.SkippedAttackResult at 0x7fa4b1f936d0>,\n",
       " <textattack.attack_results.successful_attack_result.SuccessfulAttackResult at 0x7fa49f94b0d0>,\n",
       " <textattack.attack_results.successful_attack_result.SuccessfulAttackResult at 0x7fa4ab07c9d0>,\n",
       " <textattack.attack_results.successful_attack_result.SuccessfulAttackResult at 0x7fa4b5773750>,\n",
       " <textattack.attack_results.successful_attack_result.SuccessfulAttackResult at 0x7fa4ac65e490>,\n",
       " <textattack.attack_results.skipped_attack_result.SkippedAttackResult at 0x7fa4ac65e550>,\n",
       " <textattack.attack_results.successful_attack_result.SuccessfulAttackResult at 0x7fa454a0d390>,\n",
       " <textattack.attack_results.successful_attack_result.SuccessfulAttackResult at 0x7fa46ec6a7d0>,\n",
       " <textattack.attack_results.skipped_attack_result.SkippedAttackResult at 0x7fa4b3e9bb10>,\n",
       " <textattack.attack_results.skipped_attack_result.SkippedAttackResult at 0x7fa4b2ada650>,\n",
       " <textattack.attack_results.successful_attack_result.SuccessfulAttackResult at 0x7fa4ab9da990>,\n",
       " <textattack.attack_results.skipped_attack_result.SkippedAttackResult at 0x7fa4ae5f1610>,\n",
       " <textattack.attack_results.successful_attack_result.SuccessfulAttackResult at 0x7fa46f183fd0>,\n",
       " <textattack.attack_results.skipped_attack_result.SkippedAttackResult at 0x7fa4a7f1fb10>,\n",
       " <textattack.attack_results.successful_attack_result.SuccessfulAttackResult at 0x7fa4b6d8c490>,\n",
       " <textattack.attack_results.successful_attack_result.SuccessfulAttackResult at 0x7fa4aa363810>,\n",
       " <textattack.attack_results.skipped_attack_result.SkippedAttackResult at 0x7fa4aa3632d0>,\n",
       " <textattack.attack_results.successful_attack_result.SuccessfulAttackResult at 0x7fa4a6ebf690>,\n",
       " <textattack.attack_results.successful_attack_result.SuccessfulAttackResult at 0x7fa44fdc01d0>,\n",
       " <textattack.attack_results.failed_attack_result.FailedAttackResult at 0x7fa4b6ca3390>,\n",
       " <textattack.attack_results.skipped_attack_result.SkippedAttackResult at 0x7fa4b84d9450>,\n",
       " <textattack.attack_results.successful_attack_result.SuccessfulAttackResult at 0x7fa4a92ed490>,\n",
       " <textattack.attack_results.successful_attack_result.SuccessfulAttackResult at 0x7fa4aebdae50>,\n",
       " <textattack.attack_results.successful_attack_result.SuccessfulAttackResult at 0x7fa4b1fe0110>,\n",
       " <textattack.attack_results.successful_attack_result.SuccessfulAttackResult at 0x7fa4a610f9d0>,\n",
       " <textattack.attack_results.skipped_attack_result.SkippedAttackResult at 0x7fa4a4a57bd0>,\n",
       " <textattack.attack_results.successful_attack_result.SuccessfulAttackResult at 0x7fa49ace9050>,\n",
       " <textattack.attack_results.successful_attack_result.SuccessfulAttackResult at 0x7fa4aa639610>,\n",
       " <textattack.attack_results.successful_attack_result.SuccessfulAttackResult at 0x7fa4a65c6050>,\n",
       " <textattack.attack_results.successful_attack_result.SuccessfulAttackResult at 0x7fa447a1f490>,\n",
       " <textattack.attack_results.skipped_attack_result.SkippedAttackResult at 0x7fa4a6dd4e90>,\n",
       " <textattack.attack_results.successful_attack_result.SuccessfulAttackResult at 0x7fa4a941a350>,\n",
       " <textattack.attack_results.successful_attack_result.SuccessfulAttackResult at 0x7fa4b1879f50>,\n",
       " <textattack.attack_results.successful_attack_result.SuccessfulAttackResult at 0x7fa49f0d1250>,\n",
       " <textattack.attack_results.successful_attack_result.SuccessfulAttackResult at 0x7fa4b1471e10>,\n",
       " <textattack.attack_results.skipped_attack_result.SkippedAttackResult at 0x7fa4aefdc9d0>,\n",
       " <textattack.attack_results.successful_attack_result.SuccessfulAttackResult at 0x7fa4a056dcd0>,\n",
       " <textattack.attack_results.successful_attack_result.SuccessfulAttackResult at 0x7fa49ffaaa90>,\n",
       " <textattack.attack_results.successful_attack_result.SuccessfulAttackResult at 0x7fa44a512b10>,\n",
       " <textattack.attack_results.successful_attack_result.SuccessfulAttackResult at 0x7fa4487b5710>,\n",
       " <textattack.attack_results.successful_attack_result.SuccessfulAttackResult at 0x7fa4afbc8fd0>,\n",
       " <textattack.attack_results.skipped_attack_result.SkippedAttackResult at 0x7fa4a5faaa90>,\n",
       " <textattack.attack_results.successful_attack_result.SuccessfulAttackResult at 0x7fa446d06190>,\n",
       " <textattack.attack_results.successful_attack_result.SuccessfulAttackResult at 0x7fa4a76c3050>,\n",
       " <textattack.attack_results.skipped_attack_result.SkippedAttackResult at 0x7fa4ab6724d0>,\n",
       " <textattack.attack_results.skipped_attack_result.SkippedAttackResult at 0x7fa446d06610>,\n",
       " <textattack.attack_results.successful_attack_result.SuccessfulAttackResult at 0x7fa4a8a4d090>,\n",
       " <textattack.attack_results.successful_attack_result.SuccessfulAttackResult at 0x7fa4b7595390>,\n",
       " <textattack.attack_results.successful_attack_result.SuccessfulAttackResult at 0x7fa44d252850>,\n",
       " <textattack.attack_results.skipped_attack_result.SkippedAttackResult at 0x7fa44d51c4d0>,\n",
       " <textattack.attack_results.successful_attack_result.SuccessfulAttackResult at 0x7fa4ac646e10>,\n",
       " <textattack.attack_results.successful_attack_result.SuccessfulAttackResult at 0x7fa4ab28edd0>,\n",
       " <textattack.attack_results.successful_attack_result.SuccessfulAttackResult at 0x7fa4742df7d0>,\n",
       " <textattack.attack_results.successful_attack_result.SuccessfulAttackResult at 0x7fa49fb05fd0>,\n",
       " <textattack.attack_results.successful_attack_result.SuccessfulAttackResult at 0x7fa4af0c6490>,\n",
       " <textattack.attack_results.successful_attack_result.SuccessfulAttackResult at 0x7fa4afec4650>,\n",
       " <textattack.attack_results.successful_attack_result.SuccessfulAttackResult at 0x7fa4491df850>,\n",
       " <textattack.attack_results.successful_attack_result.SuccessfulAttackResult at 0x7fa4b6b24510>,\n",
       " <textattack.attack_results.successful_attack_result.SuccessfulAttackResult at 0x7fa453089dd0>,\n",
       " <textattack.attack_results.successful_attack_result.SuccessfulAttackResult at 0x7fa4abe6f510>,\n",
       " <textattack.attack_results.successful_attack_result.SuccessfulAttackResult at 0x7fa482128910>,\n",
       " <textattack.attack_results.successful_attack_result.SuccessfulAttackResult at 0x7fa4b6257550>,\n",
       " <textattack.attack_results.successful_attack_result.SuccessfulAttackResult at 0x7fa4a8e9a210>,\n",
       " <textattack.attack_results.skipped_attack_result.SkippedAttackResult at 0x7fa4a6be6d10>,\n",
       " <textattack.attack_results.skipped_attack_result.SkippedAttackResult at 0x7fa4b5086490>,\n",
       " <textattack.attack_results.successful_attack_result.SuccessfulAttackResult at 0x7fa47ed258d0>,\n",
       " <textattack.attack_results.successful_attack_result.SuccessfulAttackResult at 0x7fa4b69b9bd0>,\n",
       " <textattack.attack_results.successful_attack_result.SuccessfulAttackResult at 0x7fa4a8f72490>,\n",
       " <textattack.attack_results.successful_attack_result.SuccessfulAttackResult at 0x7fa455442910>,\n",
       " <textattack.attack_results.successful_attack_result.SuccessfulAttackResult at 0x7fa4a6bd5ad0>,\n",
       " <textattack.attack_results.successful_attack_result.SuccessfulAttackResult at 0x7fa4b2797b90>,\n",
       " <textattack.attack_results.successful_attack_result.SuccessfulAttackResult at 0x7fa451062cd0>,\n",
       " <textattack.attack_results.successful_attack_result.SuccessfulAttackResult at 0x7fa4b07d5dd0>,\n",
       " <textattack.attack_results.skipped_attack_result.SkippedAttackResult at 0x7fa4a8a73b50>,\n",
       " <textattack.attack_results.skipped_attack_result.SkippedAttackResult at 0x7fa4b59a7f50>,\n",
       " <textattack.attack_results.skipped_attack_result.SkippedAttackResult at 0x7fa4b58ab5d0>,\n",
       " <textattack.attack_results.successful_attack_result.SuccessfulAttackResult at 0x7fa4ac547dd0>,\n",
       " <textattack.attack_results.successful_attack_result.SuccessfulAttackResult at 0x7fa4b2b6a4d0>,\n",
       " <textattack.attack_results.successful_attack_result.SuccessfulAttackResult at 0x7fa4ae3e82d0>,\n",
       " <textattack.attack_results.successful_attack_result.SuccessfulAttackResult at 0x7fa44f174ad0>,\n",
       " <textattack.attack_results.skipped_attack_result.SkippedAttackResult at 0x7fa4b3822510>,\n",
       " <textattack.attack_results.failed_attack_result.FailedAttackResult at 0x7fa4ac762d10>,\n",
       " <textattack.attack_results.successful_attack_result.SuccessfulAttackResult at 0x7fa4b599d690>,\n",
       " <textattack.attack_results.skipped_attack_result.SkippedAttackResult at 0x7fa4b00dda50>,\n",
       " <textattack.attack_results.successful_attack_result.SuccessfulAttackResult at 0x7fa4b09e2a90>,\n",
       " <textattack.attack_results.successful_attack_result.SuccessfulAttackResult at 0x7fa4b1089090>,\n",
       " <textattack.attack_results.successful_attack_result.SuccessfulAttackResult at 0x7fa4b3822cd0>,\n",
       " <textattack.attack_results.skipped_attack_result.SkippedAttackResult at 0x7fa4b2b0b050>,\n",
       " <textattack.attack_results.successful_attack_result.SuccessfulAttackResult at 0x7fa4b614b0d0>,\n",
       " <textattack.attack_results.skipped_attack_result.SkippedAttackResult at 0x7fa48130c1d0>,\n",
       " <textattack.attack_results.failed_attack_result.FailedAttackResult at 0x7fa4a7a59990>,\n",
       " <textattack.attack_results.successful_attack_result.SuccessfulAttackResult at 0x7fa4acbff790>,\n",
       " <textattack.attack_results.successful_attack_result.SuccessfulAttackResult at 0x7fa4aa761990>,\n",
       " <textattack.attack_results.successful_attack_result.SuccessfulAttackResult at 0x7fa4b192c4d0>,\n",
       " <textattack.attack_results.successful_attack_result.SuccessfulAttackResult at 0x7fa4b6ba1bd0>,\n",
       " <textattack.attack_results.successful_attack_result.SuccessfulAttackResult at 0x7fa4a9aa8710>,\n",
       " <textattack.attack_results.successful_attack_result.SuccessfulAttackResult at 0x7fa449475d50>,\n",
       " <textattack.attack_results.successful_attack_result.SuccessfulAttackResult at 0x7fa4b50860d0>,\n",
       " <textattack.attack_results.successful_attack_result.SuccessfulAttackResult at 0x7fa4b52e3210>,\n",
       " <textattack.attack_results.skipped_attack_result.SkippedAttackResult at 0x7fa4a90b62d0>,\n",
       " <textattack.attack_results.successful_attack_result.SuccessfulAttackResult at 0x7fa4b0703650>,\n",
       " <textattack.attack_results.successful_attack_result.SuccessfulAttackResult at 0x7fa4b1d343d0>,\n",
       " <textattack.attack_results.successful_attack_result.SuccessfulAttackResult at 0x7fa49fb72ed0>,\n",
       " <textattack.attack_results.successful_attack_result.SuccessfulAttackResult at 0x7fa4aa3638d0>,\n",
       " <textattack.attack_results.successful_attack_result.SuccessfulAttackResult at 0x7fa4b1507b50>,\n",
       " <textattack.attack_results.successful_attack_result.SuccessfulAttackResult at 0x7fa482609050>,\n",
       " <textattack.attack_results.successful_attack_result.SuccessfulAttackResult at 0x7fa4b0703190>,\n",
       " <textattack.attack_results.successful_attack_result.SuccessfulAttackResult at 0x7fa4ab977050>,\n",
       " <textattack.attack_results.successful_attack_result.SuccessfulAttackResult at 0x7fa4afb351d0>,\n",
       " <textattack.attack_results.skipped_attack_result.SkippedAttackResult at 0x7fa4b315e150>,\n",
       " <textattack.attack_results.successful_attack_result.SuccessfulAttackResult at 0x7fa45484ed50>,\n",
       " <textattack.attack_results.successful_attack_result.SuccessfulAttackResult at 0x7fa4b5fbb050>,\n",
       " <textattack.attack_results.skipped_attack_result.SkippedAttackResult at 0x7fa4b8d96b10>,\n",
       " <textattack.attack_results.successful_attack_result.SuccessfulAttackResult at 0x7fa4a7bdc090>,\n",
       " <textattack.attack_results.successful_attack_result.SuccessfulAttackResult at 0x7fa449384550>,\n",
       " <textattack.attack_results.successful_attack_result.SuccessfulAttackResult at 0x7fa4af00b1d0>,\n",
       " <textattack.attack_results.successful_attack_result.SuccessfulAttackResult at 0x7fa4a8e9bed0>,\n",
       " <textattack.attack_results.successful_attack_result.SuccessfulAttackResult at 0x7fa4a87205d0>,\n",
       " <textattack.attack_results.successful_attack_result.SuccessfulAttackResult at 0x7fa4a63cb250>,\n",
       " <textattack.attack_results.successful_attack_result.SuccessfulAttackResult at 0x7fa4b626a490>,\n",
       " <textattack.attack_results.skipped_attack_result.SkippedAttackResult at 0x7fa4a86b0750>,\n",
       " <textattack.attack_results.successful_attack_result.SuccessfulAttackResult at 0x7fa4a754f410>,\n",
       " <textattack.attack_results.successful_attack_result.SuccessfulAttackResult at 0x7fa4539f71d0>,\n",
       " <textattack.attack_results.skipped_attack_result.SkippedAttackResult at 0x7fa4b6257e50>,\n",
       " <textattack.attack_results.successful_attack_result.SuccessfulAttackResult at 0x7fa4460820d0>,\n",
       " <textattack.attack_results.successful_attack_result.SuccessfulAttackResult at 0x7fa4b772ffd0>,\n",
       " <textattack.attack_results.successful_attack_result.SuccessfulAttackResult at 0x7fa4a7a07050>,\n",
       " <textattack.attack_results.skipped_attack_result.SkippedAttackResult at 0x7fa4ab5722d0>,\n",
       " <textattack.attack_results.successful_attack_result.SuccessfulAttackResult at 0x7fa4ae0e8750>,\n",
       " <textattack.attack_results.successful_attack_result.SuccessfulAttackResult at 0x7fa4a6bba1d0>,\n",
       " <textattack.attack_results.successful_attack_result.SuccessfulAttackResult at 0x7fa4a9230b10>,\n",
       " <textattack.attack_results.skipped_attack_result.SkippedAttackResult at 0x7fa4a7fa4710>,\n",
       " <textattack.attack_results.successful_attack_result.SuccessfulAttackResult at 0x7fa44f96eed0>,\n",
       " <textattack.attack_results.successful_attack_result.SuccessfulAttackResult at 0x7fa4ac882310>,\n",
       " <textattack.attack_results.successful_attack_result.SuccessfulAttackResult at 0x7fa49f972750>,\n",
       " <textattack.attack_results.successful_attack_result.SuccessfulAttackResult at 0x7fa49fb495d0>,\n",
       " <textattack.attack_results.successful_attack_result.SuccessfulAttackResult at 0x7fa4a4f32a50>,\n",
       " <textattack.attack_results.successful_attack_result.SuccessfulAttackResult at 0x7fa49e3e9e50>,\n",
       " <textattack.attack_results.successful_attack_result.SuccessfulAttackResult at 0x7fa467110250>,\n",
       " <textattack.attack_results.successful_attack_result.SuccessfulAttackResult at 0x7fa4b6b02310>,\n",
       " <textattack.attack_results.successful_attack_result.SuccessfulAttackResult at 0x7fa4ac646810>,\n",
       " <textattack.attack_results.successful_attack_result.SuccessfulAttackResult at 0x7fa4af434550>,\n",
       " <textattack.attack_results.failed_attack_result.FailedAttackResult at 0x7fa44df60f90>,\n",
       " <textattack.attack_results.skipped_attack_result.SkippedAttackResult at 0x7fa4a7f1f990>,\n",
       " <textattack.attack_results.successful_attack_result.SuccessfulAttackResult at 0x7fa4ae83e290>,\n",
       " <textattack.attack_results.successful_attack_result.SuccessfulAttackResult at 0x7fa4af00c9d0>,\n",
       " <textattack.attack_results.successful_attack_result.SuccessfulAttackResult at 0x7fa4832f8790>,\n",
       " <textattack.attack_results.successful_attack_result.SuccessfulAttackResult at 0x7fa4554a2a10>,\n",
       " <textattack.attack_results.successful_attack_result.SuccessfulAttackResult at 0x7fa4b1cb8bd0>,\n",
       " <textattack.attack_results.successful_attack_result.SuccessfulAttackResult at 0x7fa4ac99dd50>,\n",
       " <textattack.attack_results.skipped_attack_result.SkippedAttackResult at 0x7fa4a77baa90>,\n",
       " <textattack.attack_results.skipped_attack_result.SkippedAttackResult at 0x7fa4a77ba490>,\n",
       " <textattack.attack_results.successful_attack_result.SuccessfulAttackResult at 0x7fa466cfd110>,\n",
       " <textattack.attack_results.successful_attack_result.SuccessfulAttackResult at 0x7fa4b3009ed0>,\n",
       " <textattack.attack_results.successful_attack_result.SuccessfulAttackResult at 0x7fa44bbaa650>,\n",
       " <textattack.attack_results.successful_attack_result.SuccessfulAttackResult at 0x7fa4b3d28610>,\n",
       " <textattack.attack_results.skipped_attack_result.SkippedAttackResult at 0x7fa44d21f3d0>,\n",
       " <textattack.attack_results.successful_attack_result.SuccessfulAttackResult at 0x7fa4aabc1110>,\n",
       " <textattack.attack_results.skipped_attack_result.SkippedAttackResult at 0x7fa4aabc10d0>,\n",
       " <textattack.attack_results.successful_attack_result.SuccessfulAttackResult at 0x7fa4a8e9bad0>,\n",
       " <textattack.attack_results.successful_attack_result.SuccessfulAttackResult at 0x7fa449d38910>,\n",
       " <textattack.attack_results.successful_attack_result.SuccessfulAttackResult at 0x7fa4a9aa62d0>,\n",
       " <textattack.attack_results.successful_attack_result.SuccessfulAttackResult at 0x7fa4a55c4b10>,\n",
       " <textattack.attack_results.successful_attack_result.SuccessfulAttackResult at 0x7fa4a8602f10>,\n",
       " <textattack.attack_results.successful_attack_result.SuccessfulAttackResult at 0x7fa4b0c69e90>,\n",
       " <textattack.attack_results.successful_attack_result.SuccessfulAttackResult at 0x7fa4b76df390>,\n",
       " <textattack.attack_results.successful_attack_result.SuccessfulAttackResult at 0x7fa4b76db950>,\n",
       " <textattack.attack_results.skipped_attack_result.SkippedAttackResult at 0x7fa4b20d4f50>,\n",
       " <textattack.attack_results.successful_attack_result.SuccessfulAttackResult at 0x7fa4ab469250>,\n",
       " <textattack.attack_results.successful_attack_result.SuccessfulAttackResult at 0x7fa44944c450>,\n",
       " <textattack.attack_results.successful_attack_result.SuccessfulAttackResult at 0x7fa4a63ebbd0>,\n",
       " <textattack.attack_results.successful_attack_result.SuccessfulAttackResult at 0x7fa4b003e410>,\n",
       " <textattack.attack_results.skipped_attack_result.SkippedAttackResult at 0x7fa4a7e46bd0>,\n",
       " <textattack.attack_results.successful_attack_result.SuccessfulAttackResult at 0x7fa47eb5dbd0>,\n",
       " <textattack.attack_results.successful_attack_result.SuccessfulAttackResult at 0x7fa4b19ffb50>,\n",
       " <textattack.attack_results.successful_attack_result.SuccessfulAttackResult at 0x7fa4a86b0b50>,\n",
       " <textattack.attack_results.successful_attack_result.SuccessfulAttackResult at 0x7fa4a55c4d90>,\n",
       " <textattack.attack_results.successful_attack_result.SuccessfulAttackResult at 0x7fa4ab977cd0>,\n",
       " <textattack.attack_results.skipped_attack_result.SkippedAttackResult at 0x7fa4a8999590>,\n",
       " <textattack.attack_results.successful_attack_result.SuccessfulAttackResult at 0x7fa4b26a9550>,\n",
       " <textattack.attack_results.successful_attack_result.SuccessfulAttackResult at 0x7fa4a69a9610>,\n",
       " <textattack.attack_results.successful_attack_result.SuccessfulAttackResult at 0x7fa4b0c93f90>,\n",
       " <textattack.attack_results.successful_attack_result.SuccessfulAttackResult at 0x7fa4abd06690>,\n",
       " <textattack.attack_results.successful_attack_result.SuccessfulAttackResult at 0x7fa4ac9a7810>,\n",
       " <textattack.attack_results.successful_attack_result.SuccessfulAttackResult at 0x7fa4496234d0>,\n",
       " <textattack.attack_results.failed_attack_result.FailedAttackResult at 0x7fa4aa5cc0d0>,\n",
       " <textattack.attack_results.successful_attack_result.SuccessfulAttackResult at 0x7fa4aa660e50>,\n",
       " <textattack.attack_results.successful_attack_result.SuccessfulAttackResult at 0x7fa46a3acb50>,\n",
       " <textattack.attack_results.skipped_attack_result.SkippedAttackResult at 0x7fa448d80650>,\n",
       " <textattack.attack_results.successful_attack_result.SuccessfulAttackResult at 0x7fa4ae873ad0>,\n",
       " <textattack.attack_results.skipped_attack_result.SkippedAttackResult at 0x7fa44aa8aed0>,\n",
       " <textattack.attack_results.successful_attack_result.SuccessfulAttackResult at 0x7fa4aa751050>,\n",
       " <textattack.attack_results.successful_attack_result.SuccessfulAttackResult at 0x7fa4b407bfd0>,\n",
       " <textattack.attack_results.skipped_attack_result.SkippedAttackResult at 0x7fa4b1692490>,\n",
       " <textattack.attack_results.successful_attack_result.SuccessfulAttackResult at 0x7fa4ac509250>,\n",
       " <textattack.attack_results.successful_attack_result.SuccessfulAttackResult at 0x7fa4a9a33bd0>,\n",
       " <textattack.attack_results.successful_attack_result.SuccessfulAttackResult at 0x7fa4b460ec50>,\n",
       " <textattack.attack_results.successful_attack_result.SuccessfulAttackResult at 0x7fa4b17c7b50>,\n",
       " <textattack.attack_results.successful_attack_result.SuccessfulAttackResult at 0x7fa4b79676d0>,\n",
       " <textattack.attack_results.successful_attack_result.SuccessfulAttackResult at 0x7fa4a6eed450>,\n",
       " <textattack.attack_results.successful_attack_result.SuccessfulAttackResult at 0x7fa4a6b430d0>,\n",
       " <textattack.attack_results.skipped_attack_result.SkippedAttackResult at 0x7fa4a702aa50>,\n",
       " <textattack.attack_results.successful_attack_result.SuccessfulAttackResult at 0x7fa4aab4f690>,\n",
       " <textattack.attack_results.skipped_attack_result.SkippedAttackResult at 0x7fa49eeb3a90>,\n",
       " <textattack.attack_results.successful_attack_result.SuccessfulAttackResult at 0x7fa4a9e44d10>,\n",
       " <textattack.attack_results.successful_attack_result.SuccessfulAttackResult at 0x7fa4abcd64d0>,\n",
       " <textattack.attack_results.successful_attack_result.SuccessfulAttackResult at 0x7fa4ab196890>,\n",
       " <textattack.attack_results.successful_attack_result.SuccessfulAttackResult at 0x7fa4ac204a10>,\n",
       " <textattack.attack_results.successful_attack_result.SuccessfulAttackResult at 0x7fa4abaa4750>,\n",
       " <textattack.attack_results.successful_attack_result.SuccessfulAttackResult at 0x7fa4abd06510>,\n",
       " <textattack.attack_results.successful_attack_result.SuccessfulAttackResult at 0x7fa4b10a9790>,\n",
       " <textattack.attack_results.successful_attack_result.SuccessfulAttackResult at 0x7fa4a76c3350>,\n",
       " <textattack.attack_results.successful_attack_result.SuccessfulAttackResult at 0x7fa4b0872590>,\n",
       " <textattack.attack_results.successful_attack_result.SuccessfulAttackResult at 0x7fa4b82a9290>,\n",
       " <textattack.attack_results.successful_attack_result.SuccessfulAttackResult at 0x7fa4b0872c10>,\n",
       " <textattack.attack_results.successful_attack_result.SuccessfulAttackResult at 0x7fa4a4959450>,\n",
       " <textattack.attack_results.successful_attack_result.SuccessfulAttackResult at 0x7fa4aecd5f50>,\n",
       " <textattack.attack_results.successful_attack_result.SuccessfulAttackResult at 0x7fa4b3f61fd0>,\n",
       " <textattack.attack_results.skipped_attack_result.SkippedAttackResult at 0x7fa4b8a8d390>,\n",
       " <textattack.attack_results.successful_attack_result.SuccessfulAttackResult at 0x7fa4a90b2d50>,\n",
       " <textattack.attack_results.successful_attack_result.SuccessfulAttackResult at 0x7fa4b53d2e10>,\n",
       " <textattack.attack_results.successful_attack_result.SuccessfulAttackResult at 0x7fa4ab177150>,\n",
       " <textattack.attack_results.successful_attack_result.SuccessfulAttackResult at 0x7fa445b34750>,\n",
       " <textattack.attack_results.skipped_attack_result.SkippedAttackResult at 0x7fa445b34510>,\n",
       " <textattack.attack_results.skipped_attack_result.SkippedAttackResult at 0x7fa445b34ad0>,\n",
       " <textattack.attack_results.successful_attack_result.SuccessfulAttackResult at 0x7fa4a7129210>,\n",
       " <textattack.attack_results.successful_attack_result.SuccessfulAttackResult at 0x7fa4a9aa6250>,\n",
       " <textattack.attack_results.successful_attack_result.SuccessfulAttackResult at 0x7fa4a8628e50>,\n",
       " <textattack.attack_results.successful_attack_result.SuccessfulAttackResult at 0x7fa4b083d6d0>,\n",
       " <textattack.attack_results.successful_attack_result.SuccessfulAttackResult at 0x7fa4aa56c8d0>,\n",
       " <textattack.attack_results.successful_attack_result.SuccessfulAttackResult at 0x7fa49e3dc190>,\n",
       " <textattack.attack_results.successful_attack_result.SuccessfulAttackResult at 0x7fa4a7591690>,\n",
       " <textattack.attack_results.skipped_attack_result.SkippedAttackResult at 0x7fa4b4665bd0>,\n",
       " <textattack.attack_results.skipped_attack_result.SkippedAttackResult at 0x7fa4b4665e50>,\n",
       " <textattack.attack_results.successful_attack_result.SuccessfulAttackResult at 0x7fa4530a86d0>,\n",
       " <textattack.attack_results.successful_attack_result.SuccessfulAttackResult at 0x7fa4b407bb90>,\n",
       " <textattack.attack_results.successful_attack_result.SuccessfulAttackResult at 0x7fa47fddcc50>,\n",
       " <textattack.attack_results.skipped_attack_result.SkippedAttackResult at 0x7fa4a6bbaa90>,\n",
       " <textattack.attack_results.successful_attack_result.SuccessfulAttackResult at 0x7fa4b32c6390>,\n",
       " <textattack.attack_results.successful_attack_result.SuccessfulAttackResult at 0x7fa4af9fb550>,\n",
       " <textattack.attack_results.successful_attack_result.SuccessfulAttackResult at 0x7fa4b4f82d10>,\n",
       " <textattack.attack_results.successful_attack_result.SuccessfulAttackResult at 0x7fa4a9992710>,\n",
       " <textattack.attack_results.successful_attack_result.SuccessfulAttackResult at 0x7fa447c17050>,\n",
       " <textattack.attack_results.successful_attack_result.SuccessfulAttackResult at 0x7fa4a8453dd0>,\n",
       " <textattack.attack_results.successful_attack_result.SuccessfulAttackResult at 0x7fa5c47f7250>,\n",
       " <textattack.attack_results.successful_attack_result.SuccessfulAttackResult at 0x7fa4aae13b50>,\n",
       " <textattack.attack_results.skipped_attack_result.SkippedAttackResult at 0x7fa4a9040890>,\n",
       " <textattack.attack_results.successful_attack_result.SuccessfulAttackResult at 0x7fa4a6bc3e10>,\n",
       " <textattack.attack_results.successful_attack_result.SuccessfulAttackResult at 0x7fa4a9c3dfd0>,\n",
       " <textattack.attack_results.successful_attack_result.SuccessfulAttackResult at 0x7fa4a997e490>,\n",
       " <textattack.attack_results.successful_attack_result.SuccessfulAttackResult at 0x7fa44e1ca7d0>,\n",
       " <textattack.attack_results.successful_attack_result.SuccessfulAttackResult at 0x7fa4a9c46810>,\n",
       " <textattack.attack_results.successful_attack_result.SuccessfulAttackResult at 0x7fa4b3530f10>,\n",
       " <textattack.attack_results.successful_attack_result.SuccessfulAttackResult at 0x7fa4a8f72990>,\n",
       " <textattack.attack_results.successful_attack_result.SuccessfulAttackResult at 0x7fa4aa2541d0>,\n",
       " <textattack.attack_results.successful_attack_result.SuccessfulAttackResult at 0x7fa4b5158fd0>,\n",
       " <textattack.attack_results.successful_attack_result.SuccessfulAttackResult at 0x7fa4a8a73050>,\n",
       " <textattack.attack_results.successful_attack_result.SuccessfulAttackResult at 0x7fa4b5542f10>,\n",
       " <textattack.attack_results.skipped_attack_result.SkippedAttackResult at 0x7fa4a59f0910>,\n",
       " <textattack.attack_results.successful_attack_result.SuccessfulAttackResult at 0x7fa4b0f3dcd0>,\n",
       " <textattack.attack_results.successful_attack_result.SuccessfulAttackResult at 0x7fa4698f99d0>,\n",
       " <textattack.attack_results.successful_attack_result.SuccessfulAttackResult at 0x7fa4aa7985d0>,\n",
       " <textattack.attack_results.successful_attack_result.SuccessfulAttackResult at 0x7fa453089590>,\n",
       " <textattack.attack_results.successful_attack_result.SuccessfulAttackResult at 0x7fa4ac9a2cd0>,\n",
       " <textattack.attack_results.successful_attack_result.SuccessfulAttackResult at 0x7fa4b2b7bc50>,\n",
       " <textattack.attack_results.successful_attack_result.SuccessfulAttackResult at 0x7fa4ac882350>,\n",
       " <textattack.attack_results.successful_attack_result.SuccessfulAttackResult at 0x7fa4b594b650>,\n",
       " <textattack.attack_results.skipped_attack_result.SkippedAttackResult at 0x7fa4ab469ad0>,\n",
       " <textattack.attack_results.successful_attack_result.SuccessfulAttackResult at 0x7fa4b453b5d0>,\n",
       " <textattack.attack_results.successful_attack_result.SuccessfulAttackResult at 0x7fa4aa0a1550>,\n",
       " <textattack.attack_results.successful_attack_result.SuccessfulAttackResult at 0x7fa4aa8561d0>,\n",
       " <textattack.attack_results.successful_attack_result.SuccessfulAttackResult at 0x7fa4a88aadd0>,\n",
       " <textattack.attack_results.successful_attack_result.SuccessfulAttackResult at 0x7fa4b75dad90>,\n",
       " <textattack.attack_results.successful_attack_result.SuccessfulAttackResult at 0x7fa4b86cc050>,\n",
       " <textattack.attack_results.successful_attack_result.SuccessfulAttackResult at 0x7fa4a4d20b90>,\n",
       " <textattack.attack_results.skipped_attack_result.SkippedAttackResult at 0x7fa4a7673210>,\n",
       " <textattack.attack_results.successful_attack_result.SuccessfulAttackResult at 0x7fa4b2e5f750>,\n",
       " <textattack.attack_results.successful_attack_result.SuccessfulAttackResult at 0x7fa4524fad90>,\n",
       " <textattack.attack_results.skipped_attack_result.SkippedAttackResult at 0x7fa44d1fb510>,\n",
       " <textattack.attack_results.successful_attack_result.SuccessfulAttackResult at 0x7fa4afdb5d10>,\n",
       " <textattack.attack_results.successful_attack_result.SuccessfulAttackResult at 0x7fa4b3bd4f90>,\n",
       " <textattack.attack_results.successful_attack_result.SuccessfulAttackResult at 0x7fa4a54b2910>,\n",
       " <textattack.attack_results.successful_attack_result.SuccessfulAttackResult at 0x7fa4abecb3d0>,\n",
       " <textattack.attack_results.successful_attack_result.SuccessfulAttackResult at 0x7fa4b4669250>,\n",
       " <textattack.attack_results.skipped_attack_result.SkippedAttackResult at 0x7fa4aabc1490>,\n",
       " <textattack.attack_results.successful_attack_result.SuccessfulAttackResult at 0x7fa4a9fc06d0>,\n",
       " <textattack.attack_results.successful_attack_result.SuccessfulAttackResult at 0x7fa4a897f190>,\n",
       " <textattack.attack_results.successful_attack_result.SuccessfulAttackResult at 0x7fa481bc7490>,\n",
       " <textattack.attack_results.successful_attack_result.SuccessfulAttackResult at 0x7fa4b1c1f090>,\n",
       " <textattack.attack_results.successful_attack_result.SuccessfulAttackResult at 0x7fa49f0c9e50>,\n",
       " <textattack.attack_results.successful_attack_result.SuccessfulAttackResult at 0x7fa4a7b4b750>,\n",
       " <textattack.attack_results.successful_attack_result.SuccessfulAttackResult at 0x7fa4a8d73390>,\n",
       " <textattack.attack_results.successful_attack_result.SuccessfulAttackResult at 0x7fa4a7710250>,\n",
       " <textattack.attack_results.successful_attack_result.SuccessfulAttackResult at 0x7fa44831f7d0>,\n",
       " <textattack.attack_results.successful_attack_result.SuccessfulAttackResult at 0x7fa451b8ec90>,\n",
       " <textattack.attack_results.successful_attack_result.SuccessfulAttackResult at 0x7fa4b3712850>,\n",
       " <textattack.attack_results.successful_attack_result.SuccessfulAttackResult at 0x7fa4aa285050>,\n",
       " <textattack.attack_results.successful_attack_result.SuccessfulAttackResult at 0x7fa44abf4bd0>,\n",
       " <textattack.attack_results.skipped_attack_result.SkippedAttackResult at 0x7fa4a5b38790>,\n",
       " <textattack.attack_results.successful_attack_result.SuccessfulAttackResult at 0x7fa4b39b3b90>,\n",
       " <textattack.attack_results.skipped_attack_result.SkippedAttackResult at 0x7fa4aab4b390>,\n",
       " <textattack.attack_results.successful_attack_result.SuccessfulAttackResult at 0x7fa4b18af790>,\n",
       " <textattack.attack_results.successful_attack_result.SuccessfulAttackResult at 0x7fa4b1d49cd0>,\n",
       " <textattack.attack_results.successful_attack_result.SuccessfulAttackResult at 0x7fa455a6a8d0>,\n",
       " <textattack.attack_results.successful_attack_result.SuccessfulAttackResult at 0x7fa4b3f61f90>,\n",
       " <textattack.attack_results.successful_attack_result.SuccessfulAttackResult at 0x7fa4b4128250>,\n",
       " <textattack.attack_results.successful_attack_result.SuccessfulAttackResult at 0x7fa4ada0ef90>,\n",
       " <textattack.attack_results.successful_attack_result.SuccessfulAttackResult at 0x7fa4acb53d50>,\n",
       " <textattack.attack_results.successful_attack_result.SuccessfulAttackResult at 0x7fa4693a0fd0>,\n",
       " <textattack.attack_results.successful_attack_result.SuccessfulAttackResult at 0x7fa4b4f82190>,\n",
       " <textattack.attack_results.successful_attack_result.SuccessfulAttackResult at 0x7fa4b714e350>,\n",
       " <textattack.attack_results.skipped_attack_result.SkippedAttackResult at 0x7fa4a6852250>,\n",
       " <textattack.attack_results.skipped_attack_result.SkippedAttackResult at 0x7fa4ae5bf650>,\n",
       " <textattack.attack_results.successful_attack_result.SuccessfulAttackResult at 0x7fa4b4955050>,\n",
       " <textattack.attack_results.successful_attack_result.SuccessfulAttackResult at 0x7fa4a8c0f810>,\n",
       " <textattack.attack_results.successful_attack_result.SuccessfulAttackResult at 0x7fa4af8d0950>,\n",
       " <textattack.attack_results.successful_attack_result.SuccessfulAttackResult at 0x7fa4b4cd5490>,\n",
       " <textattack.attack_results.skipped_attack_result.SkippedAttackResult at 0x7fa4483b3ed0>,\n",
       " <textattack.attack_results.successful_attack_result.SuccessfulAttackResult at 0x7fa4b05079d0>,\n",
       " <textattack.attack_results.successful_attack_result.SuccessfulAttackResult at 0x7fa4ac0bc390>,\n",
       " <textattack.attack_results.successful_attack_result.SuccessfulAttackResult at 0x7fa4b7ff8190>,\n",
       " <textattack.attack_results.successful_attack_result.SuccessfulAttackResult at 0x7fa4b8a75b90>,\n",
       " <textattack.attack_results.successful_attack_result.SuccessfulAttackResult at 0x7fa4aa6e83d0>,\n",
       " <textattack.attack_results.successful_attack_result.SuccessfulAttackResult at 0x7fa4aabc1190>,\n",
       " <textattack.attack_results.successful_attack_result.SuccessfulAttackResult at 0x7fa47fb80d10>,\n",
       " <textattack.attack_results.successful_attack_result.SuccessfulAttackResult at 0x7fa4ae3c3a90>,\n",
       " <textattack.attack_results.successful_attack_result.SuccessfulAttackResult at 0x7fa4aa65aad0>,\n",
       " <textattack.attack_results.successful_attack_result.SuccessfulAttackResult at 0x7fa4b30daf10>,\n",
       " <textattack.attack_results.successful_attack_result.SuccessfulAttackResult at 0x7fa4aaecc510>,\n",
       " <textattack.attack_results.skipped_attack_result.SkippedAttackResult at 0x7fa4aaecc1d0>,\n",
       " <textattack.attack_results.successful_attack_result.SuccessfulAttackResult at 0x7fa4b457cb50>,\n",
       " <textattack.attack_results.successful_attack_result.SuccessfulAttackResult at 0x7fa4a7dc8a50>,\n",
       " <textattack.attack_results.successful_attack_result.SuccessfulAttackResult at 0x7fa4a8b5cd90>,\n",
       " <textattack.attack_results.successful_attack_result.SuccessfulAttackResult at 0x7fa448e50f10>,\n",
       " <textattack.attack_results.successful_attack_result.SuccessfulAttackResult at 0x7fa4b197dd10>,\n",
       " <textattack.attack_results.successful_attack_result.SuccessfulAttackResult at 0x7fa4b4b39650>,\n",
       " <textattack.attack_results.successful_attack_result.SuccessfulAttackResult at 0x7fa47d8b4d50>,\n",
       " <textattack.attack_results.successful_attack_result.SuccessfulAttackResult at 0x7fa46ba01b50>,\n",
       " <textattack.attack_results.successful_attack_result.SuccessfulAttackResult at 0x7fa4aeffb190>,\n",
       " <textattack.attack_results.skipped_attack_result.SkippedAttackResult at 0x7fa4ac547750>,\n",
       " <textattack.attack_results.successful_attack_result.SuccessfulAttackResult at 0x7fa44c585590>,\n",
       " <textattack.attack_results.skipped_attack_result.SkippedAttackResult at 0x7fa4ae8d1410>,\n",
       " <textattack.attack_results.successful_attack_result.SuccessfulAttackResult at 0x7fa4af46de90>,\n",
       " <textattack.attack_results.successful_attack_result.SuccessfulAttackResult at 0x7fa4b69b2b10>,\n",
       " <textattack.attack_results.successful_attack_result.SuccessfulAttackResult at 0x7fa4b49fe550>,\n",
       " <textattack.attack_results.successful_attack_result.SuccessfulAttackResult at 0x7fa4b4c66550>,\n",
       " <textattack.attack_results.successful_attack_result.SuccessfulAttackResult at 0x7fa49c397090>,\n",
       " <textattack.attack_results.successful_attack_result.SuccessfulAttackResult at 0x7fa4b0ce82d0>,\n",
       " <textattack.attack_results.successful_attack_result.SuccessfulAttackResult at 0x7fa4ae5f1190>,\n",
       " <textattack.attack_results.successful_attack_result.SuccessfulAttackResult at 0x7fa4aa4dba50>,\n",
       " <textattack.attack_results.successful_attack_result.SuccessfulAttackResult at 0x7fa4aa7a2410>,\n",
       " <textattack.attack_results.successful_attack_result.SuccessfulAttackResult at 0x7fa4a9a0a910>,\n",
       " <textattack.attack_results.successful_attack_result.SuccessfulAttackResult at 0x7fa4a7edd9d0>,\n",
       " <textattack.attack_results.successful_attack_result.SuccessfulAttackResult at 0x7fa4a65b78d0>,\n",
       " <textattack.attack_results.successful_attack_result.SuccessfulAttackResult at 0x7fa4af7b6f90>,\n",
       " <textattack.attack_results.successful_attack_result.SuccessfulAttackResult at 0x7fa4a51d2090>,\n",
       " <textattack.attack_results.successful_attack_result.SuccessfulAttackResult at 0x7fa4ae5cd190>,\n",
       " <textattack.attack_results.failed_attack_result.FailedAttackResult at 0x7fa4b53d7810>,\n",
       " <textattack.attack_results.successful_attack_result.SuccessfulAttackResult at 0x7fa4b8a7d610>,\n",
       " <textattack.attack_results.successful_attack_result.SuccessfulAttackResult at 0x7fa4b4b39d90>,\n",
       " <textattack.attack_results.successful_attack_result.SuccessfulAttackResult at 0x7fa4a5f93590>,\n",
       " <textattack.attack_results.successful_attack_result.SuccessfulAttackResult at 0x7fa4aa869150>,\n",
       " <textattack.attack_results.successful_attack_result.SuccessfulAttackResult at 0x7fa4b721ca10>,\n",
       " <textattack.attack_results.successful_attack_result.SuccessfulAttackResult at 0x7fa447e13810>,\n",
       " <textattack.attack_results.successful_attack_result.SuccessfulAttackResult at 0x7fa4b35e8d50>,\n",
       " <textattack.attack_results.skipped_attack_result.SkippedAttackResult at 0x7fa4af46d250>,\n",
       " <textattack.attack_results.successful_attack_result.SuccessfulAttackResult at 0x7fa4a6ce9490>,\n",
       " <textattack.attack_results.successful_attack_result.SuccessfulAttackResult at 0x7fa4a7713610>,\n",
       " <textattack.attack_results.successful_attack_result.SuccessfulAttackResult at 0x7fa4afb35890>,\n",
       " <textattack.attack_results.successful_attack_result.SuccessfulAttackResult at 0x7fa4b8a75410>,\n",
       " <textattack.attack_results.successful_attack_result.SuccessfulAttackResult at 0x7fa47dfbad10>,\n",
       " <textattack.attack_results.successful_attack_result.SuccessfulAttackResult at 0x7fa44ca44b10>,\n",
       " <textattack.attack_results.successful_attack_result.SuccessfulAttackResult at 0x7fa4b2505cd0>,\n",
       " <textattack.attack_results.successful_attack_result.SuccessfulAttackResult at 0x7fa4ac99dbd0>,\n",
       " <textattack.attack_results.successful_attack_result.SuccessfulAttackResult at 0x7fa4b70b1050>,\n",
       " <textattack.attack_results.successful_attack_result.SuccessfulAttackResult at 0x7fa4b30b1210>,\n",
       " <textattack.attack_results.successful_attack_result.SuccessfulAttackResult at 0x7fa4a5e5b4d0>,\n",
       " <textattack.attack_results.successful_attack_result.SuccessfulAttackResult at 0x7fa4b5bd5910>,\n",
       " <textattack.attack_results.successful_attack_result.SuccessfulAttackResult at 0x7fa4b6e7c150>,\n",
       " <textattack.attack_results.successful_attack_result.SuccessfulAttackResult at 0x7fa4aa1ace10>,\n",
       " <textattack.attack_results.successful_attack_result.SuccessfulAttackResult at 0x7fa4a54827d0>,\n",
       " <textattack.attack_results.successful_attack_result.SuccessfulAttackResult at 0x7fa4b31a52d0>,\n",
       " <textattack.attack_results.successful_attack_result.SuccessfulAttackResult at 0x7fa4b546db50>,\n",
       " <textattack.attack_results.successful_attack_result.SuccessfulAttackResult at 0x7fa49c390190>,\n",
       " <textattack.attack_results.successful_attack_result.SuccessfulAttackResult at 0x7fa4aa9cfc90>,\n",
       " <textattack.attack_results.successful_attack_result.SuccessfulAttackResult at 0x7fa4b28b7f50>,\n",
       " <textattack.attack_results.successful_attack_result.SuccessfulAttackResult at 0x7fa4a6eed3d0>,\n",
       " <textattack.attack_results.skipped_attack_result.SkippedAttackResult at 0x7fa4554421d0>,\n",
       " <textattack.attack_results.successful_attack_result.SuccessfulAttackResult at 0x7fa4b2460310>,\n",
       " <textattack.attack_results.successful_attack_result.SuccessfulAttackResult at 0x7fa4b68529d0>,\n",
       " <textattack.attack_results.successful_attack_result.SuccessfulAttackResult at 0x7fa44944c150>,\n",
       " <textattack.attack_results.successful_attack_result.SuccessfulAttackResult at 0x7fa4b1cf2890>,\n",
       " <textattack.attack_results.successful_attack_result.SuccessfulAttackResult at 0x7fa4b461fe50>,\n",
       " <textattack.attack_results.successful_attack_result.SuccessfulAttackResult at 0x7fa4b71ee7d0>,\n",
       " <textattack.attack_results.successful_attack_result.SuccessfulAttackResult at 0x7fa4b8f09bd0>,\n",
       " <textattack.attack_results.successful_attack_result.SuccessfulAttackResult at 0x7fa4a65b7810>,\n",
       " <textattack.attack_results.successful_attack_result.SuccessfulAttackResult at 0x7fa4a7b532d0>,\n",
       " <textattack.attack_results.successful_attack_result.SuccessfulAttackResult at 0x7fa4a6d62710>,\n",
       " <textattack.attack_results.skipped_attack_result.SkippedAttackResult at 0x7fa4489cf410>,\n",
       " <textattack.attack_results.successful_attack_result.SuccessfulAttackResult at 0x7fa4a713af10>,\n",
       " <textattack.attack_results.successful_attack_result.SuccessfulAttackResult at 0x7fa480a97e10>,\n",
       " <textattack.attack_results.successful_attack_result.SuccessfulAttackResult at 0x7fa4b38035d0>,\n",
       " <textattack.attack_results.successful_attack_result.SuccessfulAttackResult at 0x7fa4a7a1e710>,\n",
       " <textattack.attack_results.successful_attack_result.SuccessfulAttackResult at 0x7fa4506a8890>,\n",
       " <textattack.attack_results.successful_attack_result.SuccessfulAttackResult at 0x7fa4a9fc8a90>,\n",
       " <textattack.attack_results.skipped_attack_result.SkippedAttackResult at 0x7fa4a9fc8e90>,\n",
       " <textattack.attack_results.successful_attack_result.SuccessfulAttackResult at 0x7fa4b67519d0>,\n",
       " <textattack.attack_results.successful_attack_result.SuccessfulAttackResult at 0x7fa4a69bb4d0>,\n",
       " <textattack.attack_results.successful_attack_result.SuccessfulAttackResult at 0x7fa4a8dcdb50>,\n",
       " <textattack.attack_results.successful_attack_result.SuccessfulAttackResult at 0x7fa4b71e7f50>,\n",
       " <textattack.attack_results.successful_attack_result.SuccessfulAttackResult at 0x7fa4a8c0f250>,\n",
       " <textattack.attack_results.successful_attack_result.SuccessfulAttackResult at 0x7fa4b2b310d0>,\n",
       " <textattack.attack_results.successful_attack_result.SuccessfulAttackResult at 0x7fa4a512d650>,\n",
       " <textattack.attack_results.successful_attack_result.SuccessfulAttackResult at 0x7fa4a9eb5b50>,\n",
       " <textattack.attack_results.successful_attack_result.SuccessfulAttackResult at 0x7fa44947c5d0>,\n",
       " <textattack.attack_results.successful_attack_result.SuccessfulAttackResult at 0x7fa4af46d850>,\n",
       " <textattack.attack_results.skipped_attack_result.SkippedAttackResult at 0x7fa4a92f0e50>,\n",
       " <textattack.attack_results.successful_attack_result.SuccessfulAttackResult at 0x7fa44edc5ed0>,\n",
       " <textattack.attack_results.successful_attack_result.SuccessfulAttackResult at 0x7fa4a8c62f90>,\n",
       " <textattack.attack_results.successful_attack_result.SuccessfulAttackResult at 0x7fa4b0b7ff90>,\n",
       " <textattack.attack_results.skipped_attack_result.SkippedAttackResult at 0x7fa44cb48b50>,\n",
       " <textattack.attack_results.successful_attack_result.SuccessfulAttackResult at 0x7fa4ac99d490>,\n",
       " <textattack.attack_results.successful_attack_result.SuccessfulAttackResult at 0x7fa4b8bb0b10>,\n",
       " <textattack.attack_results.successful_attack_result.SuccessfulAttackResult at 0x7fa46678e110>,\n",
       " <textattack.attack_results.successful_attack_result.SuccessfulAttackResult at 0x7fa4aeea9d10>,\n",
       " <textattack.attack_results.successful_attack_result.SuccessfulAttackResult at 0x7fa445b5b3d0>,\n",
       " <textattack.attack_results.successful_attack_result.SuccessfulAttackResult at 0x7fa445c86b10>,\n",
       " <textattack.attack_results.successful_attack_result.SuccessfulAttackResult at 0x7fa44f005e90>,\n",
       " <textattack.attack_results.successful_attack_result.SuccessfulAttackResult at 0x7fa4ab49a890>,\n",
       " <textattack.attack_results.successful_attack_result.SuccessfulAttackResult at 0x7fa4a6b21490>,\n",
       " <textattack.attack_results.successful_attack_result.SuccessfulAttackResult at 0x7fa4a9a0a8d0>,\n",
       " <textattack.attack_results.successful_attack_result.SuccessfulAttackResult at 0x7fa4b00cab50>,\n",
       " <textattack.attack_results.successful_attack_result.SuccessfulAttackResult at 0x7fa4ab278d50>,\n",
       " <textattack.attack_results.successful_attack_result.SuccessfulAttackResult at 0x7fa4a92f0c10>,\n",
       " <textattack.attack_results.successful_attack_result.SuccessfulAttackResult at 0x7fa4b05c9690>,\n",
       " <textattack.attack_results.skipped_attack_result.SkippedAttackResult at 0x7fa454f6bb50>,\n",
       " <textattack.attack_results.successful_attack_result.SuccessfulAttackResult at 0x7fa4b8900fd0>,\n",
       " <textattack.attack_results.successful_attack_result.SuccessfulAttackResult at 0x7fa4b8c2af50>,\n",
       " <textattack.attack_results.successful_attack_result.SuccessfulAttackResult at 0x7fa4a6be6e10>,\n",
       " <textattack.attack_results.successful_attack_result.SuccessfulAttackResult at 0x7fa4b4eb1090>,\n",
       " <textattack.attack_results.successful_attack_result.SuccessfulAttackResult at 0x7fa4a6998a10>,\n",
       " <textattack.attack_results.successful_attack_result.SuccessfulAttackResult at 0x7fa4485fdc90>,\n",
       " <textattack.attack_results.skipped_attack_result.SkippedAttackResult at 0x7fa4a9ec6110>,\n",
       " <textattack.attack_results.successful_attack_result.SuccessfulAttackResult at 0x7fa44633b510>,\n",
       " <textattack.attack_results.skipped_attack_result.SkippedAttackResult at 0x7fa44f9c7b10>,\n",
       " <textattack.attack_results.successful_attack_result.SuccessfulAttackResult at 0x7fa4acedabd0>,\n",
       " <textattack.attack_results.successful_attack_result.SuccessfulAttackResult at 0x7fa4aa5abbd0>,\n",
       " <textattack.attack_results.successful_attack_result.SuccessfulAttackResult at 0x7fa4ac8a54d0>,\n",
       " <textattack.attack_results.successful_attack_result.SuccessfulAttackResult at 0x7fa4718eb350>,\n",
       " <textattack.attack_results.successful_attack_result.SuccessfulAttackResult at 0x7fa48130c110>,\n",
       " <textattack.attack_results.successful_attack_result.SuccessfulAttackResult at 0x7fa446783090>,\n",
       " <textattack.attack_results.failed_attack_result.FailedAttackResult at 0x7fa484bd4310>,\n",
       " <textattack.attack_results.successful_attack_result.SuccessfulAttackResult at 0x7fa445c86fd0>,\n",
       " <textattack.attack_results.successful_attack_result.SuccessfulAttackResult at 0x7fa4aade9950>,\n",
       " <textattack.attack_results.successful_attack_result.SuccessfulAttackResult at 0x7fa4af16a2d0>,\n",
       " <textattack.attack_results.successful_attack_result.SuccessfulAttackResult at 0x7fa46a3ac9d0>,\n",
       " <textattack.attack_results.successful_attack_result.SuccessfulAttackResult at 0x7fa4a8f72e90>,\n",
       " <textattack.attack_results.successful_attack_result.SuccessfulAttackResult at 0x7fa4aa24bdd0>,\n",
       " <textattack.attack_results.successful_attack_result.SuccessfulAttackResult at 0x7fa4ada0d610>,\n",
       " <textattack.attack_results.successful_attack_result.SuccessfulAttackResult at 0x7fa449850dd0>,\n",
       " <textattack.attack_results.successful_attack_result.SuccessfulAttackResult at 0x7fa4b0eabb50>,\n",
       " <textattack.attack_results.skipped_attack_result.SkippedAttackResult at 0x7fa49ff27b50>,\n",
       " <textattack.attack_results.skipped_attack_result.SkippedAttackResult at 0x7fa4a7020550>,\n",
       " <textattack.attack_results.successful_attack_result.SuccessfulAttackResult at 0x7fa4abeff850>,\n",
       " <textattack.attack_results.successful_attack_result.SuccessfulAttackResult at 0x7fa4b594bf50>,\n",
       " <textattack.attack_results.successful_attack_result.SuccessfulAttackResult at 0x7fa4a8e65dd0>,\n",
       " <textattack.attack_results.skipped_attack_result.SkippedAttackResult at 0x7fa4aee89650>,\n",
       " <textattack.attack_results.successful_attack_result.SuccessfulAttackResult at 0x7fa4a6bf6850>,\n",
       " <textattack.attack_results.skipped_attack_result.SkippedAttackResult at 0x7fa4ae3e8d50>,\n",
       " <textattack.attack_results.successful_attack_result.SuccessfulAttackResult at 0x7fa4678ace90>,\n",
       " <textattack.attack_results.skipped_attack_result.SkippedAttackResult at 0x7fa4a5118990>,\n",
       " <textattack.attack_results.successful_attack_result.SuccessfulAttackResult at 0x7fa4a8439650>,\n",
       " <textattack.attack_results.successful_attack_result.SuccessfulAttackResult at 0x7fa4b6e8afd0>,\n",
       " <textattack.attack_results.successful_attack_result.SuccessfulAttackResult at 0x7fa4b791d950>,\n",
       " <textattack.attack_results.successful_attack_result.SuccessfulAttackResult at 0x7fa483768d50>,\n",
       " <textattack.attack_results.successful_attack_result.SuccessfulAttackResult at 0x7fa4a76e3fd0>,\n",
       " <textattack.attack_results.successful_attack_result.SuccessfulAttackResult at 0x7fa448cd5890>,\n",
       " <textattack.attack_results.successful_attack_result.SuccessfulAttackResult at 0x7fa4b8f2a0d0>,\n",
       " <textattack.attack_results.successful_attack_result.SuccessfulAttackResult at 0x7fa4aacf6a50>,\n",
       " <textattack.attack_results.successful_attack_result.SuccessfulAttackResult at 0x7fa4a6127310>,\n",
       " <textattack.attack_results.successful_attack_result.SuccessfulAttackResult at 0x7fa448315710>,\n",
       " <textattack.attack_results.successful_attack_result.SuccessfulAttackResult at 0x7fa4837695d0>,\n",
       " <textattack.attack_results.successful_attack_result.SuccessfulAttackResult at 0x7fa4aebe5c50>,\n",
       " <textattack.attack_results.failed_attack_result.FailedAttackResult at 0x7fa4b5572dd0>,\n",
       " <textattack.attack_results.successful_attack_result.SuccessfulAttackResult at 0x7fa44b1a9450>,\n",
       " <textattack.attack_results.successful_attack_result.SuccessfulAttackResult at 0x7fa4b1563f50>,\n",
       " <textattack.attack_results.successful_attack_result.SuccessfulAttackResult at 0x7fa4a9ae9210>,\n",
       " <textattack.attack_results.successful_attack_result.SuccessfulAttackResult at 0x7fa4a6ec3090>,\n",
       " <textattack.attack_results.successful_attack_result.SuccessfulAttackResult at 0x7fa46d10c110>,\n",
       " <textattack.attack_results.successful_attack_result.SuccessfulAttackResult at 0x7fa4b35840d0>,\n",
       " <textattack.attack_results.successful_attack_result.SuccessfulAttackResult at 0x7fa4b725dd90>,\n",
       " <textattack.attack_results.skipped_attack_result.SkippedAttackResult at 0x7fa4b2989250>,\n",
       " <textattack.attack_results.successful_attack_result.SuccessfulAttackResult at 0x7fa4ae0c2d50>,\n",
       " <textattack.attack_results.successful_attack_result.SuccessfulAttackResult at 0x7fa4537a9b50>,\n",
       " <textattack.attack_results.failed_attack_result.FailedAttackResult at 0x7fa4b5572f90>,\n",
       " <textattack.attack_results.successful_attack_result.SuccessfulAttackResult at 0x7fa4b89cf150>,\n",
       " <textattack.attack_results.skipped_attack_result.SkippedAttackResult at 0x7fa4a9ae96d0>,\n",
       " <textattack.attack_results.successful_attack_result.SuccessfulAttackResult at 0x7fa4b546d590>,\n",
       " <textattack.attack_results.successful_attack_result.SuccessfulAttackResult at 0x7fa4b48a13d0>,\n",
       " <textattack.attack_results.successful_attack_result.SuccessfulAttackResult at 0x7fa4b8d7f0d0>,\n",
       " <textattack.attack_results.successful_attack_result.SuccessfulAttackResult at 0x7fa4a9393450>,\n",
       " <textattack.attack_results.successful_attack_result.SuccessfulAttackResult at 0x7fa44bef4d10>,\n",
       " <textattack.attack_results.successful_attack_result.SuccessfulAttackResult at 0x7fa4af6daf50>,\n",
       " <textattack.attack_results.skipped_attack_result.SkippedAttackResult at 0x7fa4b4871dd0>,\n",
       " <textattack.attack_results.successful_attack_result.SuccessfulAttackResult at 0x7fa4aa0ae190>,\n",
       " <textattack.attack_results.successful_attack_result.SuccessfulAttackResult at 0x7fa4485c4490>,\n",
       " <textattack.attack_results.successful_attack_result.SuccessfulAttackResult at 0x7fa44a5cac90>,\n",
       " <textattack.attack_results.successful_attack_result.SuccessfulAttackResult at 0x7fa447e13f50>,\n",
       " <textattack.attack_results.successful_attack_result.SuccessfulAttackResult at 0x7fa4a67c51d0>,\n",
       " <textattack.attack_results.successful_attack_result.SuccessfulAttackResult at 0x7fa4a858a790>,\n",
       " <textattack.attack_results.successful_attack_result.SuccessfulAttackResult at 0x7fa4b207a050>,\n",
       " <textattack.attack_results.successful_attack_result.SuccessfulAttackResult at 0x7fa4b207a4d0>,\n",
       " <textattack.attack_results.successful_attack_result.SuccessfulAttackResult at 0x7fa4afed0810>,\n",
       " <textattack.attack_results.successful_attack_result.SuccessfulAttackResult at 0x7fa446c82b50>,\n",
       " <textattack.attack_results.skipped_attack_result.SkippedAttackResult at 0x7fa4b85e6f90>,\n",
       " <textattack.attack_results.successful_attack_result.SuccessfulAttackResult at 0x7fa4aa4db890>,\n",
       " <textattack.attack_results.successful_attack_result.SuccessfulAttackResult at 0x7fa4aa4ce590>,\n",
       " <textattack.attack_results.successful_attack_result.SuccessfulAttackResult at 0x7fa4b1563ed0>,\n",
       " <textattack.attack_results.successful_attack_result.SuccessfulAttackResult at 0x7fa4a91db250>,\n",
       " <textattack.attack_results.successful_attack_result.SuccessfulAttackResult at 0x7fa4b5461450>,\n",
       " <textattack.attack_results.successful_attack_result.SuccessfulAttackResult at 0x7fa4b791ded0>,\n",
       " <textattack.attack_results.successful_attack_result.SuccessfulAttackResult at 0x7fa47d503810>,\n",
       " <textattack.attack_results.successful_attack_result.SuccessfulAttackResult at 0x7fa4b16a4ed0>,\n",
       " <textattack.attack_results.skipped_attack_result.SkippedAttackResult at 0x7fa4b488d910>,\n",
       " <textattack.attack_results.successful_attack_result.SuccessfulAttackResult at 0x7fa4b8f01490>,\n",
       " <textattack.attack_results.successful_attack_result.SuccessfulAttackResult at 0x7fa4b8a6d650>,\n",
       " <textattack.attack_results.successful_attack_result.SuccessfulAttackResult at 0x7fa4a8453a10>,\n",
       " <textattack.attack_results.successful_attack_result.SuccessfulAttackResult at 0x7fa4a5e98ed0>,\n",
       " <textattack.attack_results.skipped_attack_result.SkippedAttackResult at 0x7fa4a5e98850>,\n",
       " <textattack.attack_results.successful_attack_result.SuccessfulAttackResult at 0x7fa4b1066250>,\n",
       " <textattack.attack_results.successful_attack_result.SuccessfulAttackResult at 0x7fa4a4cf7090>,\n",
       " <textattack.attack_results.successful_attack_result.SuccessfulAttackResult at 0x7fa44d422990>,\n",
       " <textattack.attack_results.successful_attack_result.SuccessfulAttackResult at 0x7fa4b8a7d690>,\n",
       " <textattack.attack_results.successful_attack_result.SuccessfulAttackResult at 0x7fa4b71c3f90>,\n",
       " <textattack.attack_results.successful_attack_result.SuccessfulAttackResult at 0x7fa4af275490>,\n",
       " <textattack.attack_results.successful_attack_result.SuccessfulAttackResult at 0x7fa4a6eb47d0>,\n",
       " <textattack.attack_results.skipped_attack_result.SkippedAttackResult at 0x7fa44a344350>,\n",
       " <textattack.attack_results.successful_attack_result.SuccessfulAttackResult at 0x7fa4aa5ba4d0>,\n",
       " <textattack.attack_results.skipped_attack_result.SkippedAttackResult at 0x7fa4a6eb4790>,\n",
       " <textattack.attack_results.successful_attack_result.SuccessfulAttackResult at 0x7fa4b3712890>,\n",
       " <textattack.attack_results.successful_attack_result.SuccessfulAttackResult at 0x7fa45245fc50>,\n",
       " <textattack.attack_results.successful_attack_result.SuccessfulAttackResult at 0x7fa4b8f09b50>,\n",
       " <textattack.attack_results.successful_attack_result.SuccessfulAttackResult at 0x7fa4b181d590>,\n",
       " <textattack.attack_results.successful_attack_result.SuccessfulAttackResult at 0x7fa45573cf50>,\n",
       " <textattack.attack_results.successful_attack_result.SuccessfulAttackResult at 0x7fa4ab278590>,\n",
       " <textattack.attack_results.skipped_attack_result.SkippedAttackResult at 0x7fa482123210>,\n",
       " <textattack.attack_results.successful_attack_result.SuccessfulAttackResult at 0x7fa4ab1eab50>,\n",
       " <textattack.attack_results.skipped_attack_result.SkippedAttackResult at 0x7fa4ae5cd690>,\n",
       " <textattack.attack_results.successful_attack_result.SuccessfulAttackResult at 0x7fa4ab9949d0>,\n",
       " <textattack.attack_results.successful_attack_result.SuccessfulAttackResult at 0x7fa4aa29a090>,\n",
       " <textattack.attack_results.successful_attack_result.SuccessfulAttackResult at 0x7fa4b8575050>,\n",
       " <textattack.attack_results.successful_attack_result.SuccessfulAttackResult at 0x7fa4a6d9f290>,\n",
       " <textattack.attack_results.successful_attack_result.SuccessfulAttackResult at 0x7fa451e31fd0>,\n",
       " <textattack.attack_results.successful_attack_result.SuccessfulAttackResult at 0x7fa452041ad0>,\n",
       " <textattack.attack_results.successful_attack_result.SuccessfulAttackResult at 0x7fa45344e290>,\n",
       " <textattack.attack_results.successful_attack_result.SuccessfulAttackResult at 0x7fa49e3da190>,\n",
       " <textattack.attack_results.successful_attack_result.SuccessfulAttackResult at 0x7fa4a05495d0>,\n",
       " <textattack.attack_results.successful_attack_result.SuccessfulAttackResult at 0x7fa445f16bd0>,\n",
       " <textattack.attack_results.successful_attack_result.SuccessfulAttackResult at 0x7fa4a8a73e90>,\n",
       " <textattack.attack_results.successful_attack_result.SuccessfulAttackResult at 0x7fa449a2d990>,\n",
       " <textattack.attack_results.successful_attack_result.SuccessfulAttackResult at 0x7fa452c24b50>,\n",
       " <textattack.attack_results.successful_attack_result.SuccessfulAttackResult at 0x7fa4a6b13450>,\n",
       " <textattack.attack_results.skipped_attack_result.SkippedAttackResult at 0x7fa4ab9bcf10>,\n",
       " <textattack.attack_results.successful_attack_result.SuccessfulAttackResult at 0x7fa4b4bfc0d0>,\n",
       " <textattack.attack_results.successful_attack_result.SuccessfulAttackResult at 0x7fa44891fc90>,\n",
       " <textattack.attack_results.successful_attack_result.SuccessfulAttackResult at 0x7fa4b3a32b50>,\n",
       " <textattack.attack_results.skipped_attack_result.SkippedAttackResult at 0x7fa4a83228d0>,\n",
       " <textattack.attack_results.successful_attack_result.SuccessfulAttackResult at 0x7fa4a76d56d0>,\n",
       " <textattack.attack_results.successful_attack_result.SuccessfulAttackResult at 0x7fa4b4a37050>,\n",
       " <textattack.attack_results.successful_attack_result.SuccessfulAttackResult at 0x7fa4a9af4ad0>,\n",
       " <textattack.attack_results.successful_attack_result.SuccessfulAttackResult at 0x7fa4af01c410>,\n",
       " <textattack.attack_results.skipped_attack_result.SkippedAttackResult at 0x7fa4af01cd50>,\n",
       " <textattack.attack_results.skipped_attack_result.SkippedAttackResult at 0x7fa4af01ca90>,\n",
       " <textattack.attack_results.skipped_attack_result.SkippedAttackResult at 0x7fa445e662d0>,\n",
       " <textattack.attack_results.successful_attack_result.SuccessfulAttackResult at 0x7fa4b40fe610>,\n",
       " <textattack.attack_results.successful_attack_result.SuccessfulAttackResult at 0x7fa482123950>,\n",
       " <textattack.attack_results.successful_attack_result.SuccessfulAttackResult at 0x7fa4ac9da150>,\n",
       " <textattack.attack_results.successful_attack_result.SuccessfulAttackResult at 0x7fa48498f150>,\n",
       " <textattack.attack_results.successful_attack_result.SuccessfulAttackResult at 0x7fa4abc283d0>,\n",
       " <textattack.attack_results.successful_attack_result.SuccessfulAttackResult at 0x7fa4b45a6450>,\n",
       " <textattack.attack_results.successful_attack_result.SuccessfulAttackResult at 0x7fa45245fbd0>,\n",
       " <textattack.attack_results.successful_attack_result.SuccessfulAttackResult at 0x7fa4b3851690>,\n",
       " <textattack.attack_results.successful_attack_result.SuccessfulAttackResult at 0x7fa4b6b12910>,\n",
       " <textattack.attack_results.successful_attack_result.SuccessfulAttackResult at 0x7fa4a607ee50>,\n",
       " <textattack.attack_results.successful_attack_result.SuccessfulAttackResult at 0x7fa453d9b690>,\n",
       " <textattack.attack_results.successful_attack_result.SuccessfulAttackResult at 0x7fa4abf609d0>,\n",
       " <textattack.attack_results.successful_attack_result.SuccessfulAttackResult at 0x7fa4b4a4e950>,\n",
       " <textattack.attack_results.successful_attack_result.SuccessfulAttackResult at 0x7fa451969e10>,\n",
       " <textattack.attack_results.successful_attack_result.SuccessfulAttackResult at 0x7fa4b8298fd0>,\n",
       " <textattack.attack_results.successful_attack_result.SuccessfulAttackResult at 0x7fa4a507e790>,\n",
       " <textattack.attack_results.successful_attack_result.SuccessfulAttackResult at 0x7fa4b4871c10>,\n",
       " <textattack.attack_results.successful_attack_result.SuccessfulAttackResult at 0x7fa4adc83c50>,\n",
       " <textattack.attack_results.successful_attack_result.SuccessfulAttackResult at 0x7fa4b8d9ca50>,\n",
       " <textattack.attack_results.successful_attack_result.SuccessfulAttackResult at 0x7fa4b2f3e610>,\n",
       " <textattack.attack_results.successful_attack_result.SuccessfulAttackResult at 0x7fa5e5d52110>,\n",
       " <textattack.attack_results.skipped_attack_result.SkippedAttackResult at 0x7fa4ac915b90>,\n",
       " <textattack.attack_results.skipped_attack_result.SkippedAttackResult at 0x7fa4ac915b10>,\n",
       " <textattack.attack_results.successful_attack_result.SuccessfulAttackResult at 0x7fa4b2b12f10>,\n",
       " <textattack.attack_results.successful_attack_result.SuccessfulAttackResult at 0x7fa4aa4e4850>,\n",
       " <textattack.attack_results.successful_attack_result.SuccessfulAttackResult at 0x7fa4b7514590>,\n",
       " <textattack.attack_results.skipped_attack_result.SkippedAttackResult at 0x7fa4a4cf7e50>,\n",
       " <textattack.attack_results.skipped_attack_result.SkippedAttackResult at 0x7fa451969490>,\n",
       " <textattack.attack_results.successful_attack_result.SuccessfulAttackResult at 0x7fa4b0c82c10>,\n",
       " <textattack.attack_results.successful_attack_result.SuccessfulAttackResult at 0x7fa4b0f63810>,\n",
       " <textattack.attack_results.successful_attack_result.SuccessfulAttackResult at 0x7fa4ab074290>,\n",
       " <textattack.attack_results.successful_attack_result.SuccessfulAttackResult at 0x7fa45457b2d0>,\n",
       " <textattack.attack_results.successful_attack_result.SuccessfulAttackResult at 0x7fa44b21e1d0>,\n",
       " <textattack.attack_results.successful_attack_result.SuccessfulAttackResult at 0x7fa448a4d710>,\n",
       " <textattack.attack_results.successful_attack_result.SuccessfulAttackResult at 0x7fa49c3a8a50>,\n",
       " <textattack.attack_results.successful_attack_result.SuccessfulAttackResult at 0x7fa4af16a450>,\n",
       " <textattack.attack_results.successful_attack_result.SuccessfulAttackResult at 0x7fa4b04fa110>,\n",
       " <textattack.attack_results.successful_attack_result.SuccessfulAttackResult at 0x7fa4b1682350>,\n",
       " <textattack.attack_results.successful_attack_result.SuccessfulAttackResult at 0x7fa4aa3bd450>,\n",
       " <textattack.attack_results.successful_attack_result.SuccessfulAttackResult at 0x7fa4aa576890>,\n",
       " <textattack.attack_results.successful_attack_result.SuccessfulAttackResult at 0x7fa4a9354350>,\n",
       " <textattack.attack_results.skipped_attack_result.SkippedAttackResult at 0x7fa4a9354790>,\n",
       " <textattack.attack_results.successful_attack_result.SuccessfulAttackResult at 0x7fa4aeb88ed0>,\n",
       " <textattack.attack_results.skipped_attack_result.SkippedAttackResult at 0x7fa4b0b31a50>,\n",
       " <textattack.attack_results.successful_attack_result.SuccessfulAttackResult at 0x7fa4b758c690>,\n",
       " <textattack.attack_results.successful_attack_result.SuccessfulAttackResult at 0x7fa4b758ab10>,\n",
       " <textattack.attack_results.skipped_attack_result.SkippedAttackResult at 0x7fa4ab49add0>,\n",
       " <textattack.attack_results.skipped_attack_result.SkippedAttackResult at 0x7fa449c889d0>,\n",
       " <textattack.attack_results.successful_attack_result.SuccessfulAttackResult at 0x7fa4b304eb10>,\n",
       " <textattack.attack_results.successful_attack_result.SuccessfulAttackResult at 0x7fa4a7b0d290>,\n",
       " <textattack.attack_results.successful_attack_result.SuccessfulAttackResult at 0x7fa44955e4d0>,\n",
       " <textattack.attack_results.successful_attack_result.SuccessfulAttackResult at 0x7fa467838410>,\n",
       " <textattack.attack_results.successful_attack_result.SuccessfulAttackResult at 0x7fa4ab9c7710>,\n",
       " <textattack.attack_results.successful_attack_result.SuccessfulAttackResult at 0x7fa4ab8db450>,\n",
       " <textattack.attack_results.successful_attack_result.SuccessfulAttackResult at 0x7fa4a898b650>,\n",
       " <textattack.attack_results.skipped_attack_result.SkippedAttackResult at 0x7fa4a6eb48d0>,\n",
       " <textattack.attack_results.successful_attack_result.SuccessfulAttackResult at 0x7fa4b4500750>,\n",
       " <textattack.attack_results.successful_attack_result.SuccessfulAttackResult at 0x7fa4aae2a4d0>,\n",
       " <textattack.attack_results.successful_attack_result.SuccessfulAttackResult at 0x7fa4b32db8d0>,\n",
       " <textattack.attack_results.successful_attack_result.SuccessfulAttackResult at 0x7fa4ab9da5d0>,\n",
       " <textattack.attack_results.successful_attack_result.SuccessfulAttackResult at 0x7fa4a8125790>,\n",
       " <textattack.attack_results.skipped_attack_result.SkippedAttackResult at 0x7fa4a55d6210>,\n",
       " <textattack.attack_results.successful_attack_result.SuccessfulAttackResult at 0x7fa4affe0710>,\n",
       " <textattack.attack_results.successful_attack_result.SuccessfulAttackResult at 0x7fa4a8d4e1d0>,\n",
       " <textattack.attack_results.successful_attack_result.SuccessfulAttackResult at 0x7fa4b7c07b50>,\n",
       " <textattack.attack_results.successful_attack_result.SuccessfulAttackResult at 0x7fa4af5e5e50>,\n",
       " <textattack.attack_results.skipped_attack_result.SkippedAttackResult at 0x7fa4b645f110>,\n",
       " <textattack.attack_results.skipped_attack_result.SkippedAttackResult at 0x7fa4b645f750>,\n",
       " <textattack.attack_results.successful_attack_result.SuccessfulAttackResult at 0x7fa4b544dc10>,\n",
       " <textattack.attack_results.successful_attack_result.SuccessfulAttackResult at 0x7fa4a4d2e590>,\n",
       " <textattack.attack_results.successful_attack_result.SuccessfulAttackResult at 0x7fa44ec5c310>,\n",
       " <textattack.attack_results.successful_attack_result.SuccessfulAttackResult at 0x7fa4aebc6290>,\n",
       " <textattack.attack_results.successful_attack_result.SuccessfulAttackResult at 0x7fa4b79e4b50>,\n",
       " <textattack.attack_results.successful_attack_result.SuccessfulAttackResult at 0x7fa4b00c2f50>,\n",
       " <textattack.attack_results.skipped_attack_result.SkippedAttackResult at 0x7fa49f9457d0>,\n",
       " <textattack.attack_results.successful_attack_result.SuccessfulAttackResult at 0x7fa4ab6f8a90>,\n",
       " <textattack.attack_results.successful_attack_result.SuccessfulAttackResult at 0x7fa4b2980d50>,\n",
       " <textattack.attack_results.successful_attack_result.SuccessfulAttackResult at 0x7fa4b1294690>,\n",
       " <textattack.attack_results.successful_attack_result.SuccessfulAttackResult at 0x7fa4b57fea10>,\n",
       " <textattack.attack_results.skipped_attack_result.SkippedAttackResult at 0x7fa4af275250>,\n",
       " <textattack.attack_results.successful_attack_result.SuccessfulAttackResult at 0x7fa4a056dd50>,\n",
       " <textattack.attack_results.successful_attack_result.SuccessfulAttackResult at 0x7fa4b4464b90>,\n",
       " <textattack.attack_results.successful_attack_result.SuccessfulAttackResult at 0x7fa4b1421110>,\n",
       " <textattack.attack_results.successful_attack_result.SuccessfulAttackResult at 0x7fa4545e8fd0>,\n",
       " <textattack.attack_results.skipped_attack_result.SkippedAttackResult at 0x7fa4ac3e42d0>,\n",
       " <textattack.attack_results.successful_attack_result.SuccessfulAttackResult at 0x7fa4b07e1450>,\n",
       " <textattack.attack_results.skipped_attack_result.SkippedAttackResult at 0x7fa4b8f09b10>,\n",
       " <textattack.attack_results.successful_attack_result.SuccessfulAttackResult at 0x7fa4b07e1550>,\n",
       " <textattack.attack_results.successful_attack_result.SuccessfulAttackResult at 0x7fa4a67b6950>,\n",
       " <textattack.attack_results.successful_attack_result.SuccessfulAttackResult at 0x7fa4a79b6310>,\n",
       " <textattack.attack_results.successful_attack_result.SuccessfulAttackResult at 0x7fa47da5ef90>,\n",
       " <textattack.attack_results.successful_attack_result.SuccessfulAttackResult at 0x7fa4a03e6d10>,\n",
       " <textattack.attack_results.successful_attack_result.SuccessfulAttackResult at 0x7fa4b582b910>,\n",
       " <textattack.attack_results.successful_attack_result.SuccessfulAttackResult at 0x7fa4acaf7e10>,\n",
       " <textattack.attack_results.successful_attack_result.SuccessfulAttackResult at 0x7fa4a92edf10>,\n",
       " <textattack.attack_results.successful_attack_result.SuccessfulAttackResult at 0x7fa4b0a61450>,\n",
       " <textattack.attack_results.successful_attack_result.SuccessfulAttackResult at 0x7fa44c717950>,\n",
       " <textattack.attack_results.successful_attack_result.SuccessfulAttackResult at 0x7fa4a8134850>,\n",
       " <textattack.attack_results.successful_attack_result.SuccessfulAttackResult at 0x7fa4a6979610>,\n",
       " <textattack.attack_results.successful_attack_result.SuccessfulAttackResult at 0x7fa4b8373750>,\n",
       " <textattack.attack_results.skipped_attack_result.SkippedAttackResult at 0x7fa4b63f8950>,\n",
       " <textattack.attack_results.skipped_attack_result.SkippedAttackResult at 0x7fa4aa576ed0>,\n",
       " <textattack.attack_results.successful_attack_result.SuccessfulAttackResult at 0x7fa4ac3d5b10>,\n",
       " <textattack.attack_results.successful_attack_result.SuccessfulAttackResult at 0x7fa44633b050>,\n",
       " <textattack.attack_results.successful_attack_result.SuccessfulAttackResult at 0x7fa4b8aadfd0>,\n",
       " <textattack.attack_results.successful_attack_result.SuccessfulAttackResult at 0x7fa4a9adbd50>,\n",
       " <textattack.attack_results.skipped_attack_result.SkippedAttackResult at 0x7fa4b90bdb10>,\n",
       " <textattack.attack_results.successful_attack_result.SuccessfulAttackResult at 0x7fa49dec1290>,\n",
       " <textattack.attack_results.successful_attack_result.SuccessfulAttackResult at 0x7fa4b0f63790>,\n",
       " <textattack.attack_results.successful_attack_result.SuccessfulAttackResult at 0x7fa4b6b07050>,\n",
       " <textattack.attack_results.successful_attack_result.SuccessfulAttackResult at 0x7fa4498fd910>,\n",
       " <textattack.attack_results.successful_attack_result.SuccessfulAttackResult at 0x7fa47e4d40d0>,\n",
       " <textattack.attack_results.successful_attack_result.SuccessfulAttackResult at 0x7fa4aa9e1f10>,\n",
       " <textattack.attack_results.successful_attack_result.SuccessfulAttackResult at 0x7fa4ab8db410>,\n",
       " <textattack.attack_results.successful_attack_result.SuccessfulAttackResult at 0x7fa4a7f0cf50>,\n",
       " <textattack.attack_results.successful_attack_result.SuccessfulAttackResult at 0x7fa4487b9750>,\n",
       " <textattack.attack_results.skipped_attack_result.SkippedAttackResult at 0x7fa4541e0ad0>,\n",
       " <textattack.attack_results.successful_attack_result.SuccessfulAttackResult at 0x7fa44b7a2d50>,\n",
       " <textattack.attack_results.successful_attack_result.SuccessfulAttackResult at 0x7fa4a5fa1050>,\n",
       " <textattack.attack_results.skipped_attack_result.SkippedAttackResult at 0x7fa44b78c150>,\n",
       " <textattack.attack_results.successful_attack_result.SuccessfulAttackResult at 0x7fa4b420ba10>,\n",
       " <textattack.attack_results.successful_attack_result.SuccessfulAttackResult at 0x7fa4abcc2c90>,\n",
       " <textattack.attack_results.skipped_attack_result.SkippedAttackResult at 0x7fa4a68455d0>,\n",
       " <textattack.attack_results.successful_attack_result.SuccessfulAttackResult at 0x7fa4b7788150>,\n",
       " <textattack.attack_results.successful_attack_result.SuccessfulAttackResult at 0x7fa4a5c20750>,\n",
       " <textattack.attack_results.failed_attack_result.FailedAttackResult at 0x7fa4b1ea7510>,\n",
       " <textattack.attack_results.successful_attack_result.SuccessfulAttackResult at 0x7fa4506ebfd0>,\n",
       " <textattack.attack_results.skipped_attack_result.SkippedAttackResult at 0x7fa4afed5310>,\n",
       " <textattack.attack_results.successful_attack_result.SuccessfulAttackResult at 0x7fa4aac846d0>,\n",
       " <textattack.attack_results.successful_attack_result.SuccessfulAttackResult at 0x7fa4a5eb6f50>,\n",
       " <textattack.attack_results.successful_attack_result.SuccessfulAttackResult at 0x7fa4aa8ed910>,\n",
       " <textattack.attack_results.successful_attack_result.SuccessfulAttackResult at 0x7fa4b292c9d0>,\n",
       " <textattack.attack_results.successful_attack_result.SuccessfulAttackResult at 0x7fa4ab58d550>,\n",
       " <textattack.attack_results.successful_attack_result.SuccessfulAttackResult at 0x7fa4a9ae4d10>,\n",
       " <textattack.attack_results.successful_attack_result.SuccessfulAttackResult at 0x7fa4a8d76690>,\n",
       " <textattack.attack_results.successful_attack_result.SuccessfulAttackResult at 0x7fa44df896d0>,\n",
       " <textattack.attack_results.successful_attack_result.SuccessfulAttackResult at 0x7fa4b462d150>,\n",
       " <textattack.attack_results.successful_attack_result.SuccessfulAttackResult at 0x7fa4b36f6290>,\n",
       " <textattack.attack_results.successful_attack_result.SuccessfulAttackResult at 0x7fa4b6819a10>,\n",
       " <textattack.attack_results.skipped_attack_result.SkippedAttackResult at 0x7fa4b1294350>,\n",
       " <textattack.attack_results.successful_attack_result.SuccessfulAttackResult at 0x7fa4af01c590>,\n",
       " <textattack.attack_results.successful_attack_result.SuccessfulAttackResult at 0x7fa4b8719d10>,\n",
       " <textattack.attack_results.successful_attack_result.SuccessfulAttackResult at 0x7fa4a6091d10>,\n",
       " <textattack.attack_results.successful_attack_result.SuccessfulAttackResult at 0x7fa4a6845bd0>,\n",
       " <textattack.attack_results.successful_attack_result.SuccessfulAttackResult at 0x7fa4ab5137d0>,\n",
       " <textattack.attack_results.successful_attack_result.SuccessfulAttackResult at 0x7fa4a98c50d0>,\n",
       " <textattack.attack_results.skipped_attack_result.SkippedAttackResult at 0x7fa44d633190>,\n",
       " <textattack.attack_results.successful_attack_result.SuccessfulAttackResult at 0x7fa4a807dc90>,\n",
       " <textattack.attack_results.successful_attack_result.SuccessfulAttackResult at 0x7fa453d9bf10>,\n",
       " <textattack.attack_results.skipped_attack_result.SkippedAttackResult at 0x7fa4b35e8990>,\n",
       " <textattack.attack_results.skipped_attack_result.SkippedAttackResult at 0x7fa453d9b810>,\n",
       " <textattack.attack_results.successful_attack_result.SuccessfulAttackResult at 0x7fa4b4f44610>,\n",
       " <textattack.attack_results.successful_attack_result.SuccessfulAttackResult at 0x7fa4b43ee150>,\n",
       " <textattack.attack_results.skipped_attack_result.SkippedAttackResult at 0x7fa4b43ee0d0>,\n",
       " <textattack.attack_results.successful_attack_result.SuccessfulAttackResult at 0x7fa4a8d73190>,\n",
       " <textattack.attack_results.successful_attack_result.SuccessfulAttackResult at 0x7fa4b3a52a50>,\n",
       " <textattack.attack_results.successful_attack_result.SuccessfulAttackResult at 0x7fa4aeb88a50>,\n",
       " <textattack.attack_results.successful_attack_result.SuccessfulAttackResult at 0x7fa4ab24f510>,\n",
       " <textattack.attack_results.successful_attack_result.SuccessfulAttackResult at 0x7fa4b24ad250>,\n",
       " <textattack.attack_results.successful_attack_result.SuccessfulAttackResult at 0x7fa4afd7bed0>,\n",
       " <textattack.attack_results.successful_attack_result.SuccessfulAttackResult at 0x7fa4a75aeed0>,\n",
       " <textattack.attack_results.successful_attack_result.SuccessfulAttackResult at 0x7fa4b12940d0>,\n",
       " <textattack.attack_results.successful_attack_result.SuccessfulAttackResult at 0x7fa4b3940150>,\n",
       " <textattack.attack_results.skipped_attack_result.SkippedAttackResult at 0x7fa4a8102b90>,\n",
       " <textattack.attack_results.successful_attack_result.SuccessfulAttackResult at 0x7fa4b8abc210>,\n",
       " <textattack.attack_results.successful_attack_result.SuccessfulAttackResult at 0x7fa44860c890>,\n",
       " <textattack.attack_results.successful_attack_result.SuccessfulAttackResult at 0x7fa44cc3c050>,\n",
       " <textattack.attack_results.successful_attack_result.SuccessfulAttackResult at 0x7fa4b892fc90>,\n",
       " <textattack.attack_results.skipped_attack_result.SkippedAttackResult at 0x7fa4a7104390>,\n",
       " <textattack.attack_results.successful_attack_result.SuccessfulAttackResult at 0x7fa4a8305850>,\n",
       " <textattack.attack_results.successful_attack_result.SuccessfulAttackResult at 0x7fa4a5e8a3d0>,\n",
       " <textattack.attack_results.successful_attack_result.SuccessfulAttackResult at 0x7fa4ab7aa9d0>,\n",
       " <textattack.attack_results.successful_attack_result.SuccessfulAttackResult at 0x7fa4b6c7d150>,\n",
       " <textattack.attack_results.successful_attack_result.SuccessfulAttackResult at 0x7fa4a58a6910>,\n",
       " <textattack.attack_results.skipped_attack_result.SkippedAttackResult at 0x7fa4b50f7ed0>,\n",
       " <textattack.attack_results.successful_attack_result.SuccessfulAttackResult at 0x7fa44ec5c6d0>,\n",
       " <textattack.attack_results.successful_attack_result.SuccessfulAttackResult at 0x7fa4b6e46690>,\n",
       " <textattack.attack_results.successful_attack_result.SuccessfulAttackResult at 0x7fa446192990>,\n",
       " <textattack.attack_results.successful_attack_result.SuccessfulAttackResult at 0x7fa4aa38bb50>,\n",
       " <textattack.attack_results.successful_attack_result.SuccessfulAttackResult at 0x7fa4b0b31fd0>,\n",
       " <textattack.attack_results.successful_attack_result.SuccessfulAttackResult at 0x7fa4b4757250>,\n",
       " <textattack.attack_results.successful_attack_result.SuccessfulAttackResult at 0x7fa4a8c68590>,\n",
       " <textattack.attack_results.failed_attack_result.FailedAttackResult at 0x7fa4b6b07290>,\n",
       " <textattack.attack_results.successful_attack_result.SuccessfulAttackResult at 0x7fa4a9a80750>,\n",
       " <textattack.attack_results.successful_attack_result.SuccessfulAttackResult at 0x7fa4474bac10>,\n",
       " <textattack.attack_results.skipped_attack_result.SkippedAttackResult at 0x7fa4b1d59d90>,\n",
       " <textattack.attack_results.successful_attack_result.SuccessfulAttackResult at 0x7fa4ab2a27d0>,\n",
       " <textattack.attack_results.skipped_attack_result.SkippedAttackResult at 0x7fa4a7682b50>,\n",
       " <textattack.attack_results.successful_attack_result.SuccessfulAttackResult at 0x7fa4493c8210>,\n",
       " <textattack.attack_results.successful_attack_result.SuccessfulAttackResult at 0x7fa4b6b6ffd0>,\n",
       " <textattack.attack_results.successful_attack_result.SuccessfulAttackResult at 0x7fa4aa38bb10>,\n",
       " <textattack.attack_results.successful_attack_result.SuccessfulAttackResult at 0x7fa4b2f435d0>,\n",
       " <textattack.attack_results.successful_attack_result.SuccessfulAttackResult at 0x7fa47f986510>,\n",
       " <textattack.attack_results.successful_attack_result.SuccessfulAttackResult at 0x7fa4b0507990>]"
      ]
     },
     "metadata": {},
     "output_type": "display_data"
    }
   ],
   "source": [
    "#!g1.1\n",
    "%%time \n",
    "\n",
    "attacker.attack_dataset()"
   ]
  },
  {
   "cell_type": "code",
   "execution_count": null,
   "metadata": {
    "cellId": "lwakopkwbebtoexc9vitkf"
   },
   "outputs": [],
   "source": [
    "#!g1.1\n",
    "на 100 атак - 10 минут"
   ]
  },
  {
   "cell_type": "code",
   "execution_count": null,
   "metadata": {
    "cellId": "kt4jvjv61nhinb02jlorr"
   },
   "outputs": [],
   "source": [
    "#!g1.1\n",
    "Мы ожидаем, что у атак будет высокий succes-rate, но возможно, только human evaluation позволит понять, насколько адекватные замены производятся"
   ]
  },
  {
   "cell_type": "markdown",
   "metadata": {
    "cellId": "zqqove6roid1ni65tfaetm"
   },
   "source": [
    "## Сравним результат с BAE"
   ]
  },
  {
   "cell_type": "code",
   "execution_count": 395,
   "metadata": {
    "cellId": "ltpvyp1ntkfm9aps7l5lb"
   },
   "outputs": [
    {
     "data": {
      "application/vnd.jupyter.widget-view+json": {
       "model_id": "60f05168adb04abfb4eedbd197e2975b",
       "version_major": 2,
       "version_minor": 0
      },
      "text/plain": [
       "HBox(children=(FloatProgress(value=0.0, description='Downloading', max=570.0, style=ProgressStyle(description_…"
      ]
     },
     "metadata": {},
     "output_type": "display_data"
    },
    {
     "data": {
      "application/vnd.jupyter.widget-view+json": {
       "model_id": "3bd82a99b4864f969383afdd04767fa8",
       "version_major": 2,
       "version_minor": 0
      },
      "text/plain": [
       "HBox(children=(FloatProgress(value=0.0, description='Downloading', max=440473133.0, style=ProgressStyle(descri…"
      ]
     },
     "metadata": {},
     "output_type": "display_data"
    },
    {
     "data": {
      "application/vnd.jupyter.widget-view+json": {
       "model_id": "48675a801edb49028a4370a077161c09",
       "version_major": 2,
       "version_minor": 0
      },
      "text/plain": [
       "HBox(children=(FloatProgress(value=0.0, description='Downloading', max=28.0, style=ProgressStyle(description_w…"
      ]
     },
     "metadata": {},
     "output_type": "display_data"
    },
    {
     "data": {
      "application/vnd.jupyter.widget-view+json": {
       "model_id": "fb32cb018f5d4d958a998166470ee894",
       "version_major": 2,
       "version_minor": 0
      },
      "text/plain": [
       "HBox(children=(FloatProgress(value=0.0, description='Downloading', max=231508.0, style=ProgressStyle(descripti…"
      ]
     },
     "metadata": {},
     "output_type": "display_data"
    },
    {
     "data": {
      "application/vnd.jupyter.widget-view+json": {
       "model_id": "d764cb78448444788a5a8724085bc47d",
       "version_major": 2,
       "version_minor": 0
      },
      "text/plain": [
       "HBox(children=(FloatProgress(value=0.0, description='Downloading', max=466062.0, style=ProgressStyle(descripti…"
      ]
     },
     "metadata": {},
     "output_type": "display_data"
    },
    {
     "name": "stderr",
     "output_type": "stream",
     "text": [
      "Some weights of the model checkpoint at bert-base-uncased were not used when initializing BertForMaskedLM: ['cls.seq_relationship.bias', 'cls.seq_relationship.weight']\n",
      "- This IS expected if you are initializing BertForMaskedLM from the checkpoint of a model trained on another task or with another architecture (e.g. initializing a BertForSequenceClassification model from a BertForPreTraining model).\n",
      "- This IS NOT expected if you are initializing BertForMaskedLM from the checkpoint of a model that you expect to be exactly identical (initializing a BertForSequenceClassification model from a BertForSequenceClassification model).\n",
      "textattack: Unknown if model of class <class 'transformers.models.bert.modeling_bert.BertForSequenceClassification'> compatible with goal function <class 'textattack.goal_functions.classification.untargeted_classification.UntargetedClassification'>.\n",
      "textattack: Logging to CSV at path log_amzn_bae.csv\n",
      "[Succeeded / Failed / Skipped / Total] 97 / 303 / 100 / 500:  50%|█████     | 500/1000 [1:09:54<1:09:54,  8.39s/it]textattack: Saving checkpoint under \"checkpoints/1640662614325.ta.chkpt\" at 2021-12-28 03:36:54 after 500 attacks.\n",
      "[Succeeded / Failed / Skipped / Total] 180 / 647 / 173 / 1000: 100%|██████████| 1000/1000 [2:29:09<00:00,  8.95s/it]textattack: Saving checkpoint under \"checkpoints/1640667369741.ta.chkpt\" at 2021-12-28 04:56:09 after 1000 attacks.\n",
      "[Succeeded / Failed / Skipped / Total] 180 / 647 / 173 / 1000: 100%|██████████| 1000/1000 [2:29:09<00:00,  8.95s/it]\n"
     ]
    },
    {
     "name": "stdout",
     "output_type": "stream",
     "text": [
      "\n",
      "\n",
      "\n",
      "\n",
      "\n",
      "Attack(\n",
      "  (search_method): GreedyWordSwapWIR(\n",
      "    (wir_method):  delete\n",
      "  )\n",
      "  (goal_function):  UntargetedClassification\n",
      "  (transformation):  WordSwapMaskedLM(\n",
      "    (method):  bae\n",
      "    (masked_lm_name):  BertForMaskedLM\n",
      "    (max_length):  512\n",
      "    (max_candidates):  50\n",
      "    (min_confidence):  0.0\n",
      "  )\n",
      "  (constraints): \n",
      "    (0): PartOfSpeech(\n",
      "        (tagger_type):  nltk\n",
      "        (tagset):  universal\n",
      "        (allow_verb_noun_swap):  True\n",
      "        (compare_against_original):  True\n",
      "      )\n",
      "    (1): UniversalSentenceEncoder(\n",
      "        (metric):  cosine\n",
      "        (threshold):  0.936338023\n",
      "        (window_size):  15\n",
      "        (skip_text_shorter_than_window):  True\n",
      "        (compare_against_original):  True\n",
      "      )\n",
      "    (2): RepeatModification\n",
      "    (3): StopwordModification\n",
      "  (is_black_box):  True\n",
      ") \n",
      "\n",
      "\n",
      "\n",
      "=============================================================================================================================\n",
      "=============================================================================================================================\n",
      "\n",
      "\n",
      "\n",
      "=============================================================================================================================\n",
      "=============================================================================================================================\n",
      "\n",
      "\n",
      "+-------------------------------+--------+\n",
      "| Attack Results                |        |\n",
      "+-------------------------------+--------+\n",
      "| Number of successful attacks: | 180    |\n",
      "| Number of failed attacks:     | 647    |\n",
      "| Number of skipped attacks:    | 173    |\n",
      "| Original accuracy:            | 82.7%  |\n",
      "| Accuracy under attack:        | 64.7%  |\n",
      "| Attack success rate:          | 21.77% |\n",
      "| Average perturbed word %:     | 6.92%  |\n",
      "| Average num. words per input: | 91.11  |\n",
      "| Avg num queries:              | 230.02 |\n",
      "+-------------------------------+--------+\n",
      "CPU times: user 2h 22min 23s, sys: 14min 31s, total: 2h 36min 54s\n",
      "Wall time: 2h 29min 31s\n"
     ]
    },
    {
     "data": {
      "text/plain": [
       "[<textattack.attack_results.failed_attack_result.FailedAttackResult at 0x7fa4b24983d0>,\n",
       " <textattack.attack_results.failed_attack_result.FailedAttackResult at 0x7fa4b4e57950>,\n",
       " <textattack.attack_results.skipped_attack_result.SkippedAttackResult at 0x7fa4a65f8f90>,\n",
       " <textattack.attack_results.successful_attack_result.SuccessfulAttackResult at 0x7fa4a1f35b10>,\n",
       " <textattack.attack_results.skipped_attack_result.SkippedAttackResult at 0x7fa499eac3d0>,\n",
       " <textattack.attack_results.failed_attack_result.FailedAttackResult at 0x7fa446e4ea50>,\n",
       " <textattack.attack_results.failed_attack_result.FailedAttackResult at 0x7fa4ab1ce4d0>,\n",
       " <textattack.attack_results.failed_attack_result.FailedAttackResult at 0x7fa445b0c210>,\n",
       " <textattack.attack_results.skipped_attack_result.SkippedAttackResult at 0x7fa4466dfcd0>,\n",
       " <textattack.attack_results.failed_attack_result.FailedAttackResult at 0x7fa4a6918810>,\n",
       " <textattack.attack_results.failed_attack_result.FailedAttackResult at 0x7fa4a810ce90>,\n",
       " <textattack.attack_results.skipped_attack_result.SkippedAttackResult at 0x7fa4b1373dd0>,\n",
       " <textattack.attack_results.failed_attack_result.FailedAttackResult at 0x7fa44c72d050>,\n",
       " <textattack.attack_results.skipped_attack_result.SkippedAttackResult at 0x7fa454ff2fd0>,\n",
       " <textattack.attack_results.failed_attack_result.FailedAttackResult at 0x7fa4aa8ed7d0>,\n",
       " <textattack.attack_results.failed_attack_result.FailedAttackResult at 0x7fa4a8614d90>,\n",
       " <textattack.attack_results.successful_attack_result.SuccessfulAttackResult at 0x7fa4b3abe910>,\n",
       " <textattack.attack_results.successful_attack_result.SuccessfulAttackResult at 0x7fa4a4d20950>,\n",
       " <textattack.attack_results.successful_attack_result.SuccessfulAttackResult at 0x7fa44774b550>,\n",
       " <textattack.attack_results.failed_attack_result.FailedAttackResult at 0x7fa44861ab50>,\n",
       " <textattack.attack_results.failed_attack_result.FailedAttackResult at 0x7fa4a7bc9050>,\n",
       " <textattack.attack_results.failed_attack_result.FailedAttackResult at 0x7fa4b0c42d10>,\n",
       " <textattack.attack_results.failed_attack_result.FailedAttackResult at 0x7fa4b5b1ea90>,\n",
       " <textattack.attack_results.failed_attack_result.FailedAttackResult at 0x7fa4b1bff050>,\n",
       " <textattack.attack_results.failed_attack_result.FailedAttackResult at 0x7fa4a8d4ced0>,\n",
       " <textattack.attack_results.skipped_attack_result.SkippedAttackResult at 0x7fa4a85f9350>,\n",
       " <textattack.attack_results.failed_attack_result.FailedAttackResult at 0x7fa4a85b3190>,\n",
       " <textattack.attack_results.skipped_attack_result.SkippedAttackResult at 0x7fa4a85f9090>,\n",
       " <textattack.attack_results.failed_attack_result.FailedAttackResult at 0x7fa4a8b6c8d0>,\n",
       " <textattack.attack_results.failed_attack_result.FailedAttackResult at 0x7fa45453f1d0>,\n",
       " <textattack.attack_results.failed_attack_result.FailedAttackResult at 0x7fa4ac547c90>,\n",
       " <textattack.attack_results.failed_attack_result.FailedAttackResult at 0x7fa4487b9dd0>,\n",
       " <textattack.attack_results.failed_attack_result.FailedAttackResult at 0x7fa4ab0e0310>,\n",
       " <textattack.attack_results.failed_attack_result.FailedAttackResult at 0x7fa4aa38bad0>,\n",
       " <textattack.attack_results.failed_attack_result.FailedAttackResult at 0x7fa4a71b1a50>,\n",
       " <textattack.attack_results.failed_attack_result.FailedAttackResult at 0x7fa446a72fd0>,\n",
       " <textattack.attack_results.failed_attack_result.FailedAttackResult at 0x7fa4554a26d0>,\n",
       " <textattack.attack_results.failed_attack_result.FailedAttackResult at 0x7fa46838f6d0>,\n",
       " <textattack.attack_results.failed_attack_result.FailedAttackResult at 0x7fa454b1d1d0>,\n",
       " <textattack.attack_results.skipped_attack_result.SkippedAttackResult at 0x7fa4a8c4bcd0>,\n",
       " <textattack.attack_results.skipped_attack_result.SkippedAttackResult at 0x7fa44f9c7790>,\n",
       " <textattack.attack_results.successful_attack_result.SuccessfulAttackResult at 0x7fa4a76e3690>,\n",
       " <textattack.attack_results.successful_attack_result.SuccessfulAttackResult at 0x7fa4b4610050>,\n",
       " <textattack.attack_results.skipped_attack_result.SkippedAttackResult at 0x7fa4b1cf8390>,\n",
       " <textattack.attack_results.failed_attack_result.FailedAttackResult at 0x7fa4a8870510>,\n",
       " <textattack.attack_results.failed_attack_result.FailedAttackResult at 0x7fa4486cd650>,\n",
       " <textattack.attack_results.skipped_attack_result.SkippedAttackResult at 0x7fa4b804ae90>,\n",
       " <textattack.attack_results.successful_attack_result.SuccessfulAttackResult at 0x7fa4a82340d0>,\n",
       " <textattack.attack_results.failed_attack_result.FailedAttackResult at 0x7fa4ae8d10d0>,\n",
       " <textattack.attack_results.failed_attack_result.FailedAttackResult at 0x7fa447a1f050>,\n",
       " <textattack.attack_results.failed_attack_result.FailedAttackResult at 0x7fa49ca12150>,\n",
       " <textattack.attack_results.failed_attack_result.FailedAttackResult at 0x7fa447575e10>,\n",
       " <textattack.attack_results.failed_attack_result.FailedAttackResult at 0x7fa4af0c63d0>,\n",
       " <textattack.attack_results.successful_attack_result.SuccessfulAttackResult at 0x7fa446100550>,\n",
       " <textattack.attack_results.skipped_attack_result.SkippedAttackResult at 0x7fa4a4d2ec90>,\n",
       " <textattack.attack_results.failed_attack_result.FailedAttackResult at 0x7fa4b41545d0>,\n",
       " <textattack.attack_results.failed_attack_result.FailedAttackResult at 0x7fa4ad29d050>,\n",
       " <textattack.attack_results.failed_attack_result.FailedAttackResult at 0x7fa44deb7bd0>,\n",
       " <textattack.attack_results.failed_attack_result.FailedAttackResult at 0x7fa4b5277490>,\n",
       " <textattack.attack_results.failed_attack_result.FailedAttackResult at 0x7fa4afb35450>,\n",
       " <textattack.attack_results.failed_attack_result.FailedAttackResult at 0x7fa4aac0a550>,\n",
       " <textattack.attack_results.skipped_attack_result.SkippedAttackResult at 0x7fa4a7571c50>,\n",
       " <textattack.attack_results.successful_attack_result.SuccessfulAttackResult at 0x7fa4af2eb910>,\n",
       " <textattack.attack_results.failed_attack_result.FailedAttackResult at 0x7fa4a92e2f50>,\n",
       " <textattack.attack_results.failed_attack_result.FailedAttackResult at 0x7fa4aa37d210>,\n",
       " <textattack.attack_results.skipped_attack_result.SkippedAttackResult at 0x7fa4b5148510>,\n",
       " <textattack.attack_results.successful_attack_result.SuccessfulAttackResult at 0x7fa4b0d5d050>,\n",
       " <textattack.attack_results.successful_attack_result.SuccessfulAttackResult at 0x7fa4b4f821d0>,\n",
       " <textattack.attack_results.skipped_attack_result.SkippedAttackResult at 0x7fa4b2460050>,\n",
       " <textattack.attack_results.failed_attack_result.FailedAttackResult at 0x7fa4b076d090>,\n",
       " <textattack.attack_results.failed_attack_result.FailedAttackResult at 0x7fa44906a050>,\n",
       " <textattack.attack_results.failed_attack_result.FailedAttackResult at 0x7fa4a4919f10>,\n",
       " <textattack.attack_results.failed_attack_result.FailedAttackResult at 0x7fa483396e50>,\n",
       " <textattack.attack_results.failed_attack_result.FailedAttackResult at 0x7fa4a691c850>,\n",
       " <textattack.attack_results.failed_attack_result.FailedAttackResult at 0x7fa45484ee10>,\n",
       " <textattack.attack_results.failed_attack_result.FailedAttackResult at 0x7fa4b6a894d0>,\n",
       " <textattack.attack_results.failed_attack_result.FailedAttackResult at 0x7fa4b4871f10>,\n",
       " <textattack.attack_results.failed_attack_result.FailedAttackResult at 0x7fa44ca44c90>,\n",
       " <textattack.attack_results.successful_attack_result.SuccessfulAttackResult at 0x7fa4b2bed590>,\n",
       " <textattack.attack_results.successful_attack_result.SuccessfulAttackResult at 0x7fa4aeb86250>,\n",
       " <textattack.attack_results.failed_attack_result.FailedAttackResult at 0x7fa44e38e550>,\n",
       " <textattack.attack_results.failed_attack_result.FailedAttackResult at 0x7fa4a6a09cd0>,\n",
       " <textattack.attack_results.failed_attack_result.FailedAttackResult at 0x7fa4ab572dd0>,\n",
       " <textattack.attack_results.skipped_attack_result.SkippedAttackResult at 0x7fa4a20df8d0>,\n",
       " <textattack.attack_results.failed_attack_result.FailedAttackResult at 0x7fa4af0d6290>,\n",
       " <textattack.attack_results.failed_attack_result.FailedAttackResult at 0x7fa481616610>,\n",
       " <textattack.attack_results.skipped_attack_result.SkippedAttackResult at 0x7fa4b6b003d0>,\n",
       " <textattack.attack_results.successful_attack_result.SuccessfulAttackResult at 0x7fa4ae5f1bd0>,\n",
       " <textattack.attack_results.failed_attack_result.FailedAttackResult at 0x7fa49f84f190>,\n",
       " <textattack.attack_results.failed_attack_result.FailedAttackResult at 0x7fa446d2fdd0>,\n",
       " <textattack.attack_results.successful_attack_result.SuccessfulAttackResult at 0x7fa4b2389510>,\n",
       " <textattack.attack_results.failed_attack_result.FailedAttackResult at 0x7fa4a6846d10>,\n",
       " <textattack.attack_results.failed_attack_result.FailedAttackResult at 0x7fa4b0a1f050>,\n",
       " <textattack.attack_results.skipped_attack_result.SkippedAttackResult at 0x7fa4aa5549d0>,\n",
       " <textattack.attack_results.failed_attack_result.FailedAttackResult at 0x7fa4b74fe550>,\n",
       " <textattack.attack_results.failed_attack_result.FailedAttackResult at 0x7fa4ae0e8ed0>,\n",
       " <textattack.attack_results.failed_attack_result.FailedAttackResult at 0x7fa4ac82a0d0>,\n",
       " <textattack.attack_results.skipped_attack_result.SkippedAttackResult at 0x7fa4af264250>,\n",
       " <textattack.attack_results.successful_attack_result.SuccessfulAttackResult at 0x7fa4ad835c90>,\n",
       " <textattack.attack_results.failed_attack_result.FailedAttackResult at 0x7fa4a8533750>,\n",
       " <textattack.attack_results.failed_attack_result.FailedAttackResult at 0x7fa4a91572d0>,\n",
       " <textattack.attack_results.failed_attack_result.FailedAttackResult at 0x7fa4ab82b310>,\n",
       " <textattack.attack_results.failed_attack_result.FailedAttackResult at 0x7fa4b02d7050>,\n",
       " <textattack.attack_results.failed_attack_result.FailedAttackResult at 0x7fa4aa9b7650>,\n",
       " <textattack.attack_results.failed_attack_result.FailedAttackResult at 0x7fa4b5cc0f90>,\n",
       " <textattack.attack_results.failed_attack_result.FailedAttackResult at 0x7fa4aadcfe90>,\n",
       " <textattack.attack_results.failed_attack_result.FailedAttackResult at 0x7fa4a74e2bd0>,\n",
       " <textattack.attack_results.successful_attack_result.SuccessfulAttackResult at 0x7fa4b6471f90>,\n",
       " <textattack.attack_results.failed_attack_result.FailedAttackResult at 0x7fa4b4700290>,\n",
       " <textattack.attack_results.failed_attack_result.FailedAttackResult at 0x7fa4ac762510>,\n",
       " <textattack.attack_results.skipped_attack_result.SkippedAttackResult at 0x7fa4a7719190>,\n",
       " <textattack.attack_results.failed_attack_result.FailedAttackResult at 0x7fa4b73a3050>,\n",
       " <textattack.attack_results.failed_attack_result.FailedAttackResult at 0x7fa44a527650>,\n",
       " <textattack.attack_results.failed_attack_result.FailedAttackResult at 0x7fa4a4cfdc10>,\n",
       " <textattack.attack_results.successful_attack_result.SuccessfulAttackResult at 0x7fa4b0904a10>,\n",
       " <textattack.attack_results.successful_attack_result.SuccessfulAttackResult at 0x7fa4472d8e10>,\n",
       " <textattack.attack_results.successful_attack_result.SuccessfulAttackResult at 0x7fa4ab7a2050>,\n",
       " <textattack.attack_results.skipped_attack_result.SkippedAttackResult at 0x7fa4b6c82fd0>,\n",
       " <textattack.attack_results.failed_attack_result.FailedAttackResult at 0x7fa4972623d0>,\n",
       " <textattack.attack_results.successful_attack_result.SuccessfulAttackResult at 0x7fa4988147d0>,\n",
       " <textattack.attack_results.skipped_attack_result.SkippedAttackResult at 0x7fa4b83e8050>,\n",
       " <textattack.attack_results.failed_attack_result.FailedAttackResult at 0x7fa4474255d0>,\n",
       " <textattack.attack_results.skipped_attack_result.SkippedAttackResult at 0x7fa497adae10>,\n",
       " <textattack.attack_results.skipped_attack_result.SkippedAttackResult at 0x7fa44861add0>,\n",
       " <textattack.attack_results.failed_attack_result.FailedAttackResult at 0x7fa44c935050>,\n",
       " <textattack.attack_results.successful_attack_result.SuccessfulAttackResult at 0x7fa4a7a8ffd0>,\n",
       " <textattack.attack_results.failed_attack_result.FailedAttackResult at 0x7fa4a7a48bd0>,\n",
       " <textattack.attack_results.successful_attack_result.SuccessfulAttackResult at 0x7fa47d503150>,\n",
       " <textattack.attack_results.successful_attack_result.SuccessfulAttackResult at 0x7fa446539f50>,\n",
       " <textattack.attack_results.successful_attack_result.SuccessfulAttackResult at 0x7fa44e27efd0>,\n",
       " <textattack.attack_results.successful_attack_result.SuccessfulAttackResult at 0x7fa4b1118fd0>,\n",
       " <textattack.attack_results.failed_attack_result.FailedAttackResult at 0x7fa4b84d94d0>,\n",
       " <textattack.attack_results.failed_attack_result.FailedAttackResult at 0x7fa47da5e090>,\n",
       " <textattack.attack_results.failed_attack_result.FailedAttackResult at 0x7fa4b50ad990>,\n",
       " <textattack.attack_results.skipped_attack_result.SkippedAttackResult at 0x7fa4a97f1710>,\n",
       " <textattack.attack_results.failed_attack_result.FailedAttackResult at 0x7fa4aa7c9f10>,\n",
       " <textattack.attack_results.failed_attack_result.FailedAttackResult at 0x7fa4a93ae050>,\n",
       " <textattack.attack_results.failed_attack_result.FailedAttackResult at 0x7fa4b38aec10>,\n",
       " <textattack.attack_results.failed_attack_result.FailedAttackResult at 0x7fa448138110>,\n",
       " <textattack.attack_results.skipped_attack_result.SkippedAttackResult at 0x7fa4a860f510>,\n",
       " <textattack.attack_results.failed_attack_result.FailedAttackResult at 0x7fa44a769c50>,\n",
       " <textattack.attack_results.successful_attack_result.SuccessfulAttackResult at 0x7fa4aadbc850>,\n",
       " <textattack.attack_results.successful_attack_result.SuccessfulAttackResult at 0x7fa4aab35250>,\n",
       " <textattack.attack_results.skipped_attack_result.SkippedAttackResult at 0x7fa4aab35150>,\n",
       " <textattack.attack_results.skipped_attack_result.SkippedAttackResult at 0x7fa4acc2f150>,\n",
       " <textattack.attack_results.failed_attack_result.FailedAttackResult at 0x7fa4b6eafb50>,\n",
       " <textattack.attack_results.failed_attack_result.FailedAttackResult at 0x7fa44abf4f50>,\n",
       " <textattack.attack_results.successful_attack_result.SuccessfulAttackResult at 0x7fa4b0c87fd0>,\n",
       " <textattack.attack_results.successful_attack_result.SuccessfulAttackResult at 0x7fa484b64910>,\n",
       " <textattack.attack_results.failed_attack_result.FailedAttackResult at 0x7fa4b48e4350>,\n",
       " <textattack.attack_results.skipped_attack_result.SkippedAttackResult at 0x7fa4b5513f50>,\n",
       " <textattack.attack_results.successful_attack_result.SuccessfulAttackResult at 0x7fa4b745bbd0>,\n",
       " <textattack.attack_results.failed_attack_result.FailedAttackResult at 0x7fa4af4249d0>,\n",
       " <textattack.attack_results.failed_attack_result.FailedAttackResult at 0x7fa4b4863990>,\n",
       " <textattack.attack_results.failed_attack_result.FailedAttackResult at 0x7fa4b7c56bd0>,\n",
       " <textattack.attack_results.skipped_attack_result.SkippedAttackResult at 0x7fa4a4f36dd0>,\n",
       " <textattack.attack_results.failed_attack_result.FailedAttackResult at 0x7fa4aa4f5190>,\n",
       " <textattack.attack_results.successful_attack_result.SuccessfulAttackResult at 0x7fa44f22ddd0>,\n",
       " <textattack.attack_results.failed_attack_result.FailedAttackResult at 0x7fa4b4137e90>,\n",
       " <textattack.attack_results.successful_attack_result.SuccessfulAttackResult at 0x7fa4b397e450>,\n",
       " <textattack.attack_results.failed_attack_result.FailedAttackResult at 0x7fa4b1361550>,\n",
       " <textattack.attack_results.successful_attack_result.SuccessfulAttackResult at 0x7fa4ab7e7590>,\n",
       " <textattack.attack_results.successful_attack_result.SuccessfulAttackResult at 0x7fa4af0114d0>,\n",
       " <textattack.attack_results.failed_attack_result.FailedAttackResult at 0x7fa4aabd7450>,\n",
       " <textattack.attack_results.successful_attack_result.SuccessfulAttackResult at 0x7fa4b53eae10>,\n",
       " <textattack.attack_results.successful_attack_result.SuccessfulAttackResult at 0x7fa447db6410>,\n",
       " <textattack.attack_results.failed_attack_result.FailedAttackResult at 0x7fa4b49b1490>,\n",
       " <textattack.attack_results.failed_attack_result.FailedAttackResult at 0x7fa4aea85890>,\n",
       " <textattack.attack_results.failed_attack_result.FailedAttackResult at 0x7fa4b6841f10>,\n",
       " <textattack.attack_results.skipped_attack_result.SkippedAttackResult at 0x7fa4b6841090>,\n",
       " <textattack.attack_results.failed_attack_result.FailedAttackResult at 0x7fa4aeb88f10>,\n",
       " <textattack.attack_results.successful_attack_result.SuccessfulAttackResult at 0x7fa4a59d0c90>,\n",
       " <textattack.attack_results.failed_attack_result.FailedAttackResult at 0x7fa4b833fb10>,\n",
       " <textattack.attack_results.failed_attack_result.FailedAttackResult at 0x7fa445b51550>,\n",
       " <textattack.attack_results.skipped_attack_result.SkippedAttackResult at 0x7fa44d4bbed0>,\n",
       " <textattack.attack_results.failed_attack_result.FailedAttackResult at 0x7fa466b2bb50>,\n",
       " <textattack.attack_results.skipped_attack_result.SkippedAttackResult at 0x7fa46838f310>,\n",
       " <textattack.attack_results.successful_attack_result.SuccessfulAttackResult at 0x7fa4b8648050>,\n",
       " <textattack.attack_results.failed_attack_result.FailedAttackResult at 0x7fa47d74bed0>,\n",
       " <textattack.attack_results.failed_attack_result.FailedAttackResult at 0x7fa4ab596b90>,\n",
       " <textattack.attack_results.failed_attack_result.FailedAttackResult at 0x7fa4af40b9d0>,\n",
       " <textattack.attack_results.failed_attack_result.FailedAttackResult at 0x7fa4b4247790>,\n",
       " <textattack.attack_results.failed_attack_result.FailedAttackResult at 0x7fa4a483ea90>,\n",
       " <textattack.attack_results.failed_attack_result.FailedAttackResult at 0x7fa4a6e5e210>,\n",
       " <textattack.attack_results.skipped_attack_result.SkippedAttackResult at 0x7fa4af8d7c50>,\n",
       " <textattack.attack_results.skipped_attack_result.SkippedAttackResult at 0x7fa4a6b60510>,\n",
       " <textattack.attack_results.successful_attack_result.SuccessfulAttackResult at 0x7fa4acbfea10>,\n",
       " <textattack.attack_results.failed_attack_result.FailedAttackResult at 0x7fa4509232d0>,\n",
       " <textattack.attack_results.failed_attack_result.FailedAttackResult at 0x7fa4ae002750>,\n",
       " <textattack.attack_results.skipped_attack_result.SkippedAttackResult at 0x7fa44aa84650>,\n",
       " <textattack.attack_results.failed_attack_result.FailedAttackResult at 0x7fa4b5a95d50>,\n",
       " <textattack.attack_results.successful_attack_result.SuccessfulAttackResult at 0x7fa4a8850890>,\n",
       " <textattack.attack_results.failed_attack_result.FailedAttackResult at 0x7fa4b47af4d0>,\n",
       " <textattack.attack_results.failed_attack_result.FailedAttackResult at 0x7fa4b8e61310>,\n",
       " <textattack.attack_results.skipped_attack_result.SkippedAttackResult at 0x7fa4a8102bd0>,\n",
       " <textattack.attack_results.failed_attack_result.FailedAttackResult at 0x7fa47e643050>,\n",
       " <textattack.attack_results.failed_attack_result.FailedAttackResult at 0x7fa4b0a2fe90>,\n",
       " <textattack.attack_results.failed_attack_result.FailedAttackResult at 0x7fa472911bd0>,\n",
       " <textattack.attack_results.failed_attack_result.FailedAttackResult at 0x7fa44ace7cd0>,\n",
       " <textattack.attack_results.failed_attack_result.FailedAttackResult at 0x7fa451496590>,\n",
       " <textattack.attack_results.failed_attack_result.FailedAttackResult at 0x7fa4b580cb90>,\n",
       " <textattack.attack_results.skipped_attack_result.SkippedAttackResult at 0x7fa4af8caf50>,\n",
       " <textattack.attack_results.skipped_attack_result.SkippedAttackResult at 0x7fa4af8ca210>,\n",
       " <textattack.attack_results.failed_attack_result.FailedAttackResult at 0x7fa4b3d02590>,\n",
       " <textattack.attack_results.failed_attack_result.FailedAttackResult at 0x7fa44734b050>,\n",
       " <textattack.attack_results.skipped_attack_result.SkippedAttackResult at 0x7fa4b02e2650>,\n",
       " <textattack.attack_results.failed_attack_result.FailedAttackResult at 0x7fa4aab35690>,\n",
       " <textattack.attack_results.skipped_attack_result.SkippedAttackResult at 0x7fa47e6434d0>,\n",
       " <textattack.attack_results.failed_attack_result.FailedAttackResult at 0x7fa4ab7e7a10>,\n",
       " <textattack.attack_results.skipped_attack_result.SkippedAttackResult at 0x7fa4afeb3d50>,\n",
       " <textattack.attack_results.skipped_attack_result.SkippedAttackResult at 0x7fa4acc29a50>,\n",
       " <textattack.attack_results.failed_attack_result.FailedAttackResult at 0x7fa450674050>,\n",
       " <textattack.attack_results.successful_attack_result.SuccessfulAttackResult at 0x7fa4afcc9050>,\n",
       " <textattack.attack_results.failed_attack_result.FailedAttackResult at 0x7fa4b5e6a890>,\n",
       " <textattack.attack_results.successful_attack_result.SuccessfulAttackResult at 0x7fa44861a890>,\n",
       " <textattack.attack_results.failed_attack_result.FailedAttackResult at 0x7fa4ac811610>,\n",
       " <textattack.attack_results.skipped_attack_result.SkippedAttackResult at 0x7fa4af929810>,\n",
       " <textattack.attack_results.failed_attack_result.FailedAttackResult at 0x7fa4a8602290>,\n",
       " <textattack.attack_results.successful_attack_result.SuccessfulAttackResult at 0x7fa4a7a15890>,\n",
       " <textattack.attack_results.failed_attack_result.FailedAttackResult at 0x7fa4b50ad790>,\n",
       " <textattack.attack_results.failed_attack_result.FailedAttackResult at 0x7fa44aa84cd0>,\n",
       " <textattack.attack_results.failed_attack_result.FailedAttackResult at 0x7fa4a9712f50>,\n",
       " <textattack.attack_results.skipped_attack_result.SkippedAttackResult at 0x7fa4b5773b50>,\n",
       " <textattack.attack_results.skipped_attack_result.SkippedAttackResult at 0x7fa4ae3c3950>,\n",
       " <textattack.attack_results.skipped_attack_result.SkippedAttackResult at 0x7fa445b26a50>,\n",
       " <textattack.attack_results.successful_attack_result.SuccessfulAttackResult at 0x7fa47fcd0b50>,\n",
       " <textattack.attack_results.failed_attack_result.FailedAttackResult at 0x7fa4a9ebe210>,\n",
       " <textattack.attack_results.successful_attack_result.SuccessfulAttackResult at 0x7fa4a5917190>,\n",
       " <textattack.attack_results.failed_attack_result.FailedAttackResult at 0x7fa4b5e1ded0>,\n",
       " <textattack.attack_results.failed_attack_result.FailedAttackResult at 0x7fa4b16031d0>,\n",
       " <textattack.attack_results.failed_attack_result.FailedAttackResult at 0x7fa4b02e24d0>,\n",
       " <textattack.attack_results.failed_attack_result.FailedAttackResult at 0x7fa4b69f9f10>,\n",
       " <textattack.attack_results.skipped_attack_result.SkippedAttackResult at 0x7fa4acc29e50>,\n",
       " <textattack.attack_results.failed_attack_result.FailedAttackResult at 0x7fa4ab8438d0>,\n",
       " <textattack.attack_results.successful_attack_result.SuccessfulAttackResult at 0x7fa4a5ed9390>,\n",
       " <textattack.attack_results.failed_attack_result.FailedAttackResult at 0x7fa4466baad0>,\n",
       " <textattack.attack_results.failed_attack_result.FailedAttackResult at 0x7fa4a5c16c10>,\n",
       " <textattack.attack_results.skipped_attack_result.SkippedAttackResult at 0x7fa4b5317c90>,\n",
       " <textattack.attack_results.failed_attack_result.FailedAttackResult at 0x7fa4a6b01a50>,\n",
       " <textattack.attack_results.failed_attack_result.FailedAttackResult at 0x7fa446afa850>,\n",
       " <textattack.attack_results.skipped_attack_result.SkippedAttackResult at 0x7fa4b5a95c10>,\n",
       " <textattack.attack_results.skipped_attack_result.SkippedAttackResult at 0x7fa4b6b00490>,\n",
       " <textattack.attack_results.successful_attack_result.SuccessfulAttackResult at 0x7fa4b2334fd0>,\n",
       " <textattack.attack_results.skipped_attack_result.SkippedAttackResult at 0x7fa44dab4210>,\n",
       " <textattack.attack_results.failed_attack_result.FailedAttackResult at 0x7fa4b814ee50>,\n",
       " <textattack.attack_results.skipped_attack_result.SkippedAttackResult at 0x7fa4b26da5d0>,\n",
       " <textattack.attack_results.failed_attack_result.FailedAttackResult at 0x7fa4aa247090>,\n",
       " <textattack.attack_results.successful_attack_result.SuccessfulAttackResult at 0x7fa4b2bed290>,\n",
       " <textattack.attack_results.skipped_attack_result.SkippedAttackResult at 0x7fa468c683d0>,\n",
       " <textattack.attack_results.successful_attack_result.SuccessfulAttackResult at 0x7fa4af42f250>,\n",
       " <textattack.attack_results.failed_attack_result.FailedAttackResult at 0x7fa4467ede10>,\n",
       " <textattack.attack_results.failed_attack_result.FailedAttackResult at 0x7fa4b75c7dd0>,\n",
       " <textattack.attack_results.skipped_attack_result.SkippedAttackResult at 0x7fa4b75c7410>,\n",
       " <textattack.attack_results.failed_attack_result.FailedAttackResult at 0x7fa447465810>,\n",
       " <textattack.attack_results.successful_attack_result.SuccessfulAttackResult at 0x7fa44774b910>,\n",
       " <textattack.attack_results.failed_attack_result.FailedAttackResult at 0x7fa4b90a9fd0>,\n",
       " <textattack.attack_results.successful_attack_result.SuccessfulAttackResult at 0x7fa4b36d2310>,\n",
       " <textattack.attack_results.skipped_attack_result.SkippedAttackResult at 0x7fa4af2de710>,\n",
       " <textattack.attack_results.successful_attack_result.SuccessfulAttackResult at 0x7fa4b6b0ddd0>,\n",
       " <textattack.attack_results.failed_attack_result.FailedAttackResult at 0x7fa4ac74af10>,\n",
       " <textattack.attack_results.failed_attack_result.FailedAttackResult at 0x7fa4b1ab9b90>,\n",
       " <textattack.attack_results.failed_attack_result.FailedAttackResult at 0x7fa44edc5c10>,\n",
       " <textattack.attack_results.skipped_attack_result.SkippedAttackResult at 0x7fa4a9848150>,\n",
       " <textattack.attack_results.failed_attack_result.FailedAttackResult at 0x7fa4b7f6f0d0>,\n",
       " <textattack.attack_results.successful_attack_result.SuccessfulAttackResult at 0x7fa445cf8c10>,\n",
       " <textattack.attack_results.successful_attack_result.SuccessfulAttackResult at 0x7fa4b5a95a10>,\n",
       " <textattack.attack_results.successful_attack_result.SuccessfulAttackResult at 0x7fa4afcc91d0>,\n",
       " <textattack.attack_results.skipped_attack_result.SkippedAttackResult at 0x7fa44627fb10>,\n",
       " <textattack.attack_results.failed_attack_result.FailedAttackResult at 0x7fa44627f910>,\n",
       " <textattack.attack_results.failed_attack_result.FailedAttackResult at 0x7fa4b0c53050>,\n",
       " <textattack.attack_results.failed_attack_result.FailedAttackResult at 0x7fa4afaeadd0>,\n",
       " <textattack.attack_results.failed_attack_result.FailedAttackResult at 0x7fa4ac7fe850>,\n",
       " <textattack.attack_results.failed_attack_result.FailedAttackResult at 0x7fa44830a290>,\n",
       " <textattack.attack_results.skipped_attack_result.SkippedAttackResult at 0x7fa4a969aa10>,\n",
       " <textattack.attack_results.failed_attack_result.FailedAttackResult at 0x7fa4ab761d90>,\n",
       " <textattack.attack_results.failed_attack_result.FailedAttackResult at 0x7fa44b80a7d0>,\n",
       " <textattack.attack_results.skipped_attack_result.SkippedAttackResult at 0x7fa4473b77d0>,\n",
       " <textattack.attack_results.skipped_attack_result.SkippedAttackResult at 0x7fa4aab13d90>,\n",
       " <textattack.attack_results.successful_attack_result.SuccessfulAttackResult at 0x7fa4b5773190>,\n",
       " <textattack.attack_results.successful_attack_result.SuccessfulAttackResult at 0x7fa4a65f8e90>,\n",
       " <textattack.attack_results.failed_attack_result.FailedAttackResult at 0x7fa46dca6110>,\n",
       " <textattack.attack_results.skipped_attack_result.SkippedAttackResult at 0x7fa445c68b90>,\n",
       " <textattack.attack_results.failed_attack_result.FailedAttackResult at 0x7fa4b6c97b10>,\n",
       " <textattack.attack_results.failed_attack_result.FailedAttackResult at 0x7fa44bbe8950>,\n",
       " <textattack.attack_results.failed_attack_result.FailedAttackResult at 0x7fa4b27275d0>,\n",
       " <textattack.attack_results.failed_attack_result.FailedAttackResult at 0x7fa4a74e2d90>,\n",
       " <textattack.attack_results.failed_attack_result.FailedAttackResult at 0x7fa4b4777fd0>,\n",
       " <textattack.attack_results.failed_attack_result.FailedAttackResult at 0x7fa4aa7f25d0>,\n",
       " <textattack.attack_results.successful_attack_result.SuccessfulAttackResult at 0x7fa4a6384e50>,\n",
       " <textattack.attack_results.failed_attack_result.FailedAttackResult at 0x7fa4b1f7e050>,\n",
       " <textattack.attack_results.successful_attack_result.SuccessfulAttackResult at 0x7fa4a8d662d0>,\n",
       " <textattack.attack_results.failed_attack_result.FailedAttackResult at 0x7fa4b685afd0>,\n",
       " <textattack.attack_results.failed_attack_result.FailedAttackResult at 0x7fa4675775d0>,\n",
       " <textattack.attack_results.successful_attack_result.SuccessfulAttackResult at 0x7fa4b4a1cb50>,\n",
       " <textattack.attack_results.successful_attack_result.SuccessfulAttackResult at 0x7fa445c4d3d0>,\n",
       " <textattack.attack_results.skipped_attack_result.SkippedAttackResult at 0x7fa445c4d350>,\n",
       " <textattack.attack_results.skipped_attack_result.SkippedAttackResult at 0x7fa445c4d190>,\n",
       " <textattack.attack_results.successful_attack_result.SuccessfulAttackResult at 0x7fa4b2e5f810>,\n",
       " <textattack.attack_results.failed_attack_result.FailedAttackResult at 0x7fa4a64c44d0>,\n",
       " <textattack.attack_results.successful_attack_result.SuccessfulAttackResult at 0x7fa4a6e5f650>,\n",
       " <textattack.attack_results.successful_attack_result.SuccessfulAttackResult at 0x7fa4b24b4050>,\n",
       " <textattack.attack_results.failed_attack_result.FailedAttackResult at 0x7fa4b08d8990>,\n",
       " <textattack.attack_results.successful_attack_result.SuccessfulAttackResult at 0x7fa4b546c150>,\n",
       " <textattack.attack_results.failed_attack_result.FailedAttackResult at 0x7fa4b5037f90>,\n",
       " <textattack.attack_results.failed_attack_result.FailedAttackResult at 0x7fa46dca8ed0>,\n",
       " <textattack.attack_results.skipped_attack_result.SkippedAttackResult at 0x7fa44c0f6290>,\n",
       " <textattack.attack_results.skipped_attack_result.SkippedAttackResult at 0x7fa4482d45d0>,\n",
       " <textattack.attack_results.skipped_attack_result.SkippedAttackResult at 0x7fa4482d4b90>,\n",
       " <textattack.attack_results.successful_attack_result.SuccessfulAttackResult at 0x7fa446e46c50>,\n",
       " <textattack.attack_results.failed_attack_result.FailedAttackResult at 0x7fa4aa254150>,\n",
       " <textattack.attack_results.failed_attack_result.FailedAttackResult at 0x7fa446728690>,\n",
       " <textattack.attack_results.failed_attack_result.FailedAttackResult at 0x7fa4b27090d0>,\n",
       " <textattack.attack_results.skipped_attack_result.SkippedAttackResult at 0x7fa4b2709d50>,\n",
       " <textattack.attack_results.failed_attack_result.FailedAttackResult at 0x7fa4b7cb4f50>,\n",
       " <textattack.attack_results.failed_attack_result.FailedAttackResult at 0x7fa4a8b63750>,\n",
       " <textattack.attack_results.skipped_attack_result.SkippedAttackResult at 0x7fa4aa3eb150>,\n",
       " <textattack.attack_results.failed_attack_result.FailedAttackResult at 0x7fa44d1b6690>,\n",
       " <textattack.attack_results.failed_attack_result.FailedAttackResult at 0x7fa4b4243310>,\n",
       " <textattack.attack_results.successful_attack_result.SuccessfulAttackResult at 0x7fa4a7ae1550>,\n",
       " <textattack.attack_results.skipped_attack_result.SkippedAttackResult at 0x7fa4b1f7e0d0>,\n",
       " <textattack.attack_results.failed_attack_result.FailedAttackResult at 0x7fa44bbe82d0>,\n",
       " <textattack.attack_results.skipped_attack_result.SkippedAttackResult at 0x7fa4b22e9990>,\n",
       " <textattack.attack_results.failed_attack_result.FailedAttackResult at 0x7fa4ac9e89d0>,\n",
       " <textattack.attack_results.failed_attack_result.FailedAttackResult at 0x7fa4af134fd0>,\n",
       " <textattack.attack_results.failed_attack_result.FailedAttackResult at 0x7fa448e7e050>,\n",
       " <textattack.attack_results.failed_attack_result.FailedAttackResult at 0x7fa4b47b4a90>,\n",
       " <textattack.attack_results.failed_attack_result.FailedAttackResult at 0x7fa4469d9790>,\n",
       " <textattack.attack_results.failed_attack_result.FailedAttackResult at 0x7fa4a91e6850>,\n",
       " <textattack.attack_results.failed_attack_result.FailedAttackResult at 0x7fa4b4cd5250>,\n",
       " <textattack.attack_results.failed_attack_result.FailedAttackResult at 0x7fa4afb18790>,\n",
       " <textattack.attack_results.failed_attack_result.FailedAttackResult at 0x7fa4a588c210>,\n",
       " <textattack.attack_results.skipped_attack_result.SkippedAttackResult at 0x7fa4a588c2d0>,\n",
       " <textattack.attack_results.successful_attack_result.SuccessfulAttackResult at 0x7fa4aab137d0>,\n",
       " <textattack.attack_results.failed_attack_result.FailedAttackResult at 0x7fa44ccfdb50>,\n",
       " <textattack.attack_results.failed_attack_result.FailedAttackResult at 0x7fa4b6fc1e90>,\n",
       " <textattack.attack_results.failed_attack_result.FailedAttackResult at 0x7fa4b7f6a890>,\n",
       " <textattack.attack_results.failed_attack_result.FailedAttackResult at 0x7fa4b7d9f510>,\n",
       " <textattack.attack_results.failed_attack_result.FailedAttackResult at 0x7fa479a56050>,\n",
       " <textattack.attack_results.failed_attack_result.FailedAttackResult at 0x7fa4a6384b50>,\n",
       " <textattack.attack_results.failed_attack_result.FailedAttackResult at 0x7fa4a8b72fd0>,\n",
       " <textattack.attack_results.failed_attack_result.FailedAttackResult at 0x7fa44cfb86d0>,\n",
       " <textattack.attack_results.skipped_attack_result.SkippedAttackResult at 0x7fa4ad200fd0>,\n",
       " <textattack.attack_results.failed_attack_result.FailedAttackResult at 0x7fa49f773250>,\n",
       " <textattack.attack_results.failed_attack_result.FailedAttackResult at 0x7fa4b5ada390>,\n",
       " <textattack.attack_results.skipped_attack_result.SkippedAttackResult at 0x7fa49ee776d0>,\n",
       " <textattack.attack_results.failed_attack_result.FailedAttackResult at 0x7fa4b2950d90>,\n",
       " <textattack.attack_results.failed_attack_result.FailedAttackResult at 0x7fa44def4050>,\n",
       " <textattack.attack_results.successful_attack_result.SuccessfulAttackResult at 0x7fa4b7357950>,\n",
       " <textattack.attack_results.failed_attack_result.FailedAttackResult at 0x7fa4afb82490>,\n",
       " <textattack.attack_results.failed_attack_result.FailedAttackResult at 0x7fa4adf7f110>,\n",
       " <textattack.attack_results.failed_attack_result.FailedAttackResult at 0x7fa4b0f52310>,\n",
       " <textattack.attack_results.successful_attack_result.SuccessfulAttackResult at 0x7fa4a9894f10>,\n",
       " <textattack.attack_results.skipped_attack_result.SkippedAttackResult at 0x7fa4af40e710>,\n",
       " <textattack.attack_results.failed_attack_result.FailedAttackResult at 0x7fa44d548f90>,\n",
       " <textattack.attack_results.failed_attack_result.FailedAttackResult at 0x7fa4b4981f90>,\n",
       " <textattack.attack_results.skipped_attack_result.SkippedAttackResult at 0x7fa49f751d50>,\n",
       " <textattack.attack_results.failed_attack_result.FailedAttackResult at 0x7fa4acc6d250>,\n",
       " <textattack.attack_results.failed_attack_result.FailedAttackResult at 0x7fa44baea910>,\n",
       " <textattack.attack_results.failed_attack_result.FailedAttackResult at 0x7fa4b61b5110>,\n",
       " <textattack.attack_results.skipped_attack_result.SkippedAttackResult at 0x7fa4aa50d8d0>,\n",
       " <textattack.attack_results.failed_attack_result.FailedAttackResult at 0x7fa472c1fdd0>,\n",
       " <textattack.attack_results.successful_attack_result.SuccessfulAttackResult at 0x7fa4b8a04290>,\n",
       " <textattack.attack_results.successful_attack_result.SuccessfulAttackResult at 0x7fa4b2bedad0>,\n",
       " <textattack.attack_results.skipped_attack_result.SkippedAttackResult at 0x7fa4b4c15110>,\n",
       " <textattack.attack_results.successful_attack_result.SuccessfulAttackResult at 0x7fa4ac014950>,\n",
       " <textattack.attack_results.failed_attack_result.FailedAttackResult at 0x7fa4b4c1b550>,\n",
       " <textattack.attack_results.failed_attack_result.FailedAttackResult at 0x7fa4b6cde950>,\n",
       " <textattack.attack_results.successful_attack_result.SuccessfulAttackResult at 0x7fa4a75ae7d0>,\n",
       " <textattack.attack_results.successful_attack_result.SuccessfulAttackResult at 0x7fa4b6491490>,\n",
       " <textattack.attack_results.failed_attack_result.FailedAttackResult at 0x7fa4acf47b10>,\n",
       " <textattack.attack_results.failed_attack_result.FailedAttackResult at 0x7fa4b0799050>,\n",
       " <textattack.attack_results.successful_attack_result.SuccessfulAttackResult at 0x7fa4b894d9d0>,\n",
       " <textattack.attack_results.failed_attack_result.FailedAttackResult at 0x7fa455abf890>,\n",
       " <textattack.attack_results.failed_attack_result.FailedAttackResult at 0x7fa44774bdd0>,\n",
       " <textattack.attack_results.failed_attack_result.FailedAttackResult at 0x7fa4b2b17410>,\n",
       " <textattack.attack_results.skipped_attack_result.SkippedAttackResult at 0x7fa4aba76d90>,\n",
       " <textattack.attack_results.failed_attack_result.FailedAttackResult at 0x7fa445e02750>,\n",
       " <textattack.attack_results.failed_attack_result.FailedAttackResult at 0x7fa455975090>,\n",
       " <textattack.attack_results.successful_attack_result.SuccessfulAttackResult at 0x7fa4ac7a8710>,\n",
       " <textattack.attack_results.failed_attack_result.FailedAttackResult at 0x7fa4a8ee8e10>,\n",
       " <textattack.attack_results.failed_attack_result.FailedAttackResult at 0x7fa4a54a1050>,\n",
       " <textattack.attack_results.successful_attack_result.SuccessfulAttackResult at 0x7fa4b1bd4650>,\n",
       " <textattack.attack_results.skipped_attack_result.SkippedAttackResult at 0x7fa4ad2253d0>,\n",
       " <textattack.attack_results.skipped_attack_result.SkippedAttackResult at 0x7fa452ea9590>,\n",
       " <textattack.attack_results.failed_attack_result.FailedAttackResult at 0x7fa4b71cf090>,\n",
       " <textattack.attack_results.successful_attack_result.SuccessfulAttackResult at 0x7fa44813f1d0>,\n",
       " <textattack.attack_results.failed_attack_result.FailedAttackResult at 0x7fa451197050>,\n",
       " <textattack.attack_results.failed_attack_result.FailedAttackResult at 0x7fa4b529a050>,\n",
       " <textattack.attack_results.skipped_attack_result.SkippedAttackResult at 0x7fa4af7ea3d0>,\n",
       " <textattack.attack_results.failed_attack_result.FailedAttackResult at 0x7fa4aba60850>,\n",
       " <textattack.attack_results.skipped_attack_result.SkippedAttackResult at 0x7fa4abcc25d0>,\n",
       " <textattack.attack_results.failed_attack_result.FailedAttackResult at 0x7fa4ae016f10>,\n",
       " <textattack.attack_results.failed_attack_result.FailedAttackResult at 0x7fa45170fad0>,\n",
       " <textattack.attack_results.failed_attack_result.FailedAttackResult at 0x7fa4467f2d50>,\n",
       " <textattack.attack_results.successful_attack_result.SuccessfulAttackResult at 0x7fa4b3d2fe50>,\n",
       " <textattack.attack_results.failed_attack_result.FailedAttackResult at 0x7fa4b484e790>,\n",
       " <textattack.attack_results.successful_attack_result.SuccessfulAttackResult at 0x7fa4abe490d0>,\n",
       " <textattack.attack_results.successful_attack_result.SuccessfulAttackResult at 0x7fa47dd3ccd0>,\n",
       " <textattack.attack_results.failed_attack_result.FailedAttackResult at 0x7fa4aa5bac50>,\n",
       " <textattack.attack_results.skipped_attack_result.SkippedAttackResult at 0x7fa45092cb10>,\n",
       " <textattack.attack_results.failed_attack_result.FailedAttackResult at 0x7fa4ac91bc50>,\n",
       " <textattack.attack_results.failed_attack_result.FailedAttackResult at 0x7fa448e9a050>,\n",
       " <textattack.attack_results.failed_attack_result.FailedAttackResult at 0x7fa4a0168fd0>,\n",
       " <textattack.attack_results.failed_attack_result.FailedAttackResult at 0x7fa4478905d0>,\n",
       " <textattack.attack_results.skipped_attack_result.SkippedAttackResult at 0x7fa4b30a5cd0>,\n",
       " <textattack.attack_results.failed_attack_result.FailedAttackResult at 0x7fa4b61d1190>,\n",
       " <textattack.attack_results.failed_attack_result.FailedAttackResult at 0x7fa4a9696050>,\n",
       " <textattack.attack_results.failed_attack_result.FailedAttackResult at 0x7fa4482f88d0>,\n",
       " <textattack.attack_results.failed_attack_result.FailedAttackResult at 0x7fa4a5c16bd0>,\n",
       " <textattack.attack_results.failed_attack_result.FailedAttackResult at 0x7fa44c9351d0>,\n",
       " <textattack.attack_results.skipped_attack_result.SkippedAttackResult at 0x7fa4b0c53410>,\n",
       " <textattack.attack_results.failed_attack_result.FailedAttackResult at 0x7fa4b0b31e10>,\n",
       " <textattack.attack_results.failed_attack_result.FailedAttackResult at 0x7fa44f7fa910>,\n",
       " <textattack.attack_results.failed_attack_result.FailedAttackResult at 0x7fa4af693050>,\n",
       " <textattack.attack_results.failed_attack_result.FailedAttackResult at 0x7fa4b8154ad0>,\n",
       " <textattack.attack_results.successful_attack_result.SuccessfulAttackResult at 0x7fa4b485b110>,\n",
       " <textattack.attack_results.failed_attack_result.FailedAttackResult at 0x7fa4b5e46c50>,\n",
       " <textattack.attack_results.failed_attack_result.FailedAttackResult at 0x7fa46dca6710>,\n",
       " <textattack.attack_results.failed_attack_result.FailedAttackResult at 0x7fa46dca6510>,\n",
       " <textattack.attack_results.failed_attack_result.FailedAttackResult at 0x7fa4acc2f4d0>,\n",
       " <textattack.attack_results.skipped_attack_result.SkippedAttackResult at 0x7fa4b7fcd110>,\n",
       " <textattack.attack_results.failed_attack_result.FailedAttackResult at 0x7fa49fde1fd0>,\n",
       " <textattack.attack_results.skipped_attack_result.SkippedAttackResult at 0x7fa46678e810>,\n",
       " <textattack.attack_results.failed_attack_result.FailedAttackResult at 0x7fa4ab54ec50>,\n",
       " <textattack.attack_results.failed_attack_result.FailedAttackResult at 0x7fa4b5aa77d0>,\n",
       " <textattack.attack_results.skipped_attack_result.SkippedAttackResult at 0x7fa49ff5afd0>,\n",
       " <textattack.attack_results.failed_attack_result.FailedAttackResult at 0x7fa49ee77b50>,\n",
       " <textattack.attack_results.successful_attack_result.SuccessfulAttackResult at 0x7fa454d38c10>,\n",
       " <textattack.attack_results.failed_attack_result.FailedAttackResult at 0x7fa4a87dc510>,\n",
       " <textattack.attack_results.failed_attack_result.FailedAttackResult at 0x7fa4b7fcd150>,\n",
       " <textattack.attack_results.successful_attack_result.SuccessfulAttackResult at 0x7fa4ad11e050>,\n",
       " <textattack.attack_results.successful_attack_result.SuccessfulAttackResult at 0x7fa4b5e65150>,\n",
       " <textattack.attack_results.failed_attack_result.FailedAttackResult at 0x7fa44e3f81d0>,\n",
       " <textattack.attack_results.skipped_attack_result.SkippedAttackResult at 0x7fa4a7ae2990>,\n",
       " <textattack.attack_results.failed_attack_result.FailedAttackResult at 0x7fa4b1420b10>,\n",
       " <textattack.attack_results.skipped_attack_result.SkippedAttackResult at 0x7fa4b736aad0>,\n",
       " <textattack.attack_results.failed_attack_result.FailedAttackResult at 0x7fa4b3e70050>,\n",
       " <textattack.attack_results.failed_attack_result.FailedAttackResult at 0x7fa44c9b7250>,\n",
       " <textattack.attack_results.failed_attack_result.FailedAttackResult at 0x7fa4ab6c4390>,\n",
       " <textattack.attack_results.successful_attack_result.SuccessfulAttackResult at 0x7fa4aceda350>,\n",
       " <textattack.attack_results.failed_attack_result.FailedAttackResult at 0x7fa4b6291050>,\n",
       " <textattack.attack_results.failed_attack_result.FailedAttackResult at 0x7fa4a98fc610>,\n",
       " <textattack.attack_results.failed_attack_result.FailedAttackResult at 0x7fa4afd9dc50>,\n",
       " <textattack.attack_results.failed_attack_result.FailedAttackResult at 0x7fa4b916ea10>,\n",
       " <textattack.attack_results.failed_attack_result.FailedAttackResult at 0x7fa4b06890d0>,\n",
       " <textattack.attack_results.failed_attack_result.FailedAttackResult at 0x7fa4b7c2b950>,\n",
       " <textattack.attack_results.failed_attack_result.FailedAttackResult at 0x7fa4ab04f490>,\n",
       " <textattack.attack_results.failed_attack_result.FailedAttackResult at 0x7fa4460a0e10>,\n",
       " <textattack.attack_results.failed_attack_result.FailedAttackResult at 0x7fa49eb59850>,\n",
       " <textattack.attack_results.failed_attack_result.FailedAttackResult at 0x7fa455741fd0>,\n",
       " <textattack.attack_results.skipped_attack_result.SkippedAttackResult at 0x7fa4b658a090>,\n",
       " <textattack.attack_results.failed_attack_result.FailedAttackResult at 0x7fa4b906ee10>,\n",
       " <textattack.attack_results.successful_attack_result.SuccessfulAttackResult at 0x7fa4b2942cd0>,\n",
       " <textattack.attack_results.failed_attack_result.FailedAttackResult at 0x7fa4b0d53d50>,\n",
       " <textattack.attack_results.failed_attack_result.FailedAttackResult at 0x7fa4b5b82110>,\n",
       " <textattack.attack_results.skipped_attack_result.SkippedAttackResult at 0x7fa4a7a8fe50>,\n",
       " <textattack.attack_results.skipped_attack_result.SkippedAttackResult at 0x7fa4833968d0>,\n",
       " <textattack.attack_results.failed_attack_result.FailedAttackResult at 0x7fa4a7e33910>,\n",
       " <textattack.attack_results.failed_attack_result.FailedAttackResult at 0x7fa4a587f390>,\n",
       " <textattack.attack_results.failed_attack_result.FailedAttackResult at 0x7fa4a8674050>,\n",
       " <textattack.attack_results.failed_attack_result.FailedAttackResult at 0x7fa4b7f1e190>,\n",
       " <textattack.attack_results.failed_attack_result.FailedAttackResult at 0x7fa4aa708610>,\n",
       " <textattack.attack_results.failed_attack_result.FailedAttackResult at 0x7fa49f751c90>,\n",
       " <textattack.attack_results.successful_attack_result.SuccessfulAttackResult at 0x7fa4af7adf10>,\n",
       " <textattack.attack_results.skipped_attack_result.SkippedAttackResult at 0x7fa44813f390>,\n",
       " <textattack.attack_results.skipped_attack_result.SkippedAttackResult at 0x7fa4aa50d2d0>,\n",
       " <textattack.attack_results.failed_attack_result.FailedAttackResult at 0x7fa44a8a49d0>,\n",
       " <textattack.attack_results.failed_attack_result.FailedAttackResult at 0x7fa4b6b13090>,\n",
       " <textattack.attack_results.failed_attack_result.FailedAttackResult at 0x7fa4465579d0>,\n",
       " <textattack.attack_results.skipped_attack_result.SkippedAttackResult at 0x7fa4465570d0>,\n",
       " <textattack.attack_results.failed_attack_result.FailedAttackResult at 0x7fa4a7abc0d0>,\n",
       " <textattack.attack_results.failed_attack_result.FailedAttackResult at 0x7fa452e4f050>,\n",
       " <textattack.attack_results.failed_attack_result.FailedAttackResult at 0x7fa4afcb7d50>,\n",
       " <textattack.attack_results.failed_attack_result.FailedAttackResult at 0x7fa4aaf50f90>,\n",
       " <textattack.attack_results.successful_attack_result.SuccessfulAttackResult at 0x7fa48058a050>,\n",
       " <textattack.attack_results.successful_attack_result.SuccessfulAttackResult at 0x7fa4ac034050>,\n",
       " <textattack.attack_results.failed_attack_result.FailedAttackResult at 0x7fa4b8be5410>,\n",
       " <textattack.attack_results.failed_attack_result.FailedAttackResult at 0x7fa4b3cc8a90>,\n",
       " <textattack.attack_results.skipped_attack_result.SkippedAttackResult at 0x7fa4aa285e90>,\n",
       " <textattack.attack_results.failed_attack_result.FailedAttackResult at 0x7fa4b4c744d0>,\n",
       " <textattack.attack_results.failed_attack_result.FailedAttackResult at 0x7fa4472d8810>,\n",
       " <textattack.attack_results.successful_attack_result.SuccessfulAttackResult at 0x7fa4b30cc050>,\n",
       " <textattack.attack_results.failed_attack_result.FailedAttackResult at 0x7fa4482df050>,\n",
       " <textattack.attack_results.failed_attack_result.FailedAttackResult at 0x7fa4afdd5690>,\n",
       " <textattack.attack_results.successful_attack_result.SuccessfulAttackResult at 0x7fa47d7bf3d0>,\n",
       " <textattack.attack_results.failed_attack_result.FailedAttackResult at 0x7fa455762190>,\n",
       " <textattack.attack_results.successful_attack_result.SuccessfulAttackResult at 0x7fa4b1bd44d0>,\n",
       " <textattack.attack_results.failed_attack_result.FailedAttackResult at 0x7fa4af778550>,\n",
       " <textattack.attack_results.successful_attack_result.SuccessfulAttackResult at 0x7fa4a74c52d0>,\n",
       " <textattack.attack_results.failed_attack_result.FailedAttackResult at 0x7fa4ab4904d0>,\n",
       " <textattack.attack_results.skipped_attack_result.SkippedAttackResult at 0x7fa4a53ab690>,\n",
       " <textattack.attack_results.failed_attack_result.FailedAttackResult at 0x7fa447c7d110>,\n",
       " <textattack.attack_results.successful_attack_result.SuccessfulAttackResult at 0x7fa4a9033f90>,\n",
       " <textattack.attack_results.failed_attack_result.FailedAttackResult at 0x7fa44f7fa2d0>,\n",
       " <textattack.attack_results.failed_attack_result.FailedAttackResult at 0x7fa49e4d6050>,\n",
       " <textattack.attack_results.failed_attack_result.FailedAttackResult at 0x7fa450ec4ed0>,\n",
       " <textattack.attack_results.failed_attack_result.FailedAttackResult at 0x7fa4b7f1e1d0>,\n",
       " <textattack.attack_results.failed_attack_result.FailedAttackResult at 0x7fa4475a38d0>,\n",
       " <textattack.attack_results.failed_attack_result.FailedAttackResult at 0x7fa4a823f990>,\n",
       " <textattack.attack_results.skipped_attack_result.SkippedAttackResult at 0x7fa4aa6a3650>,\n",
       " <textattack.attack_results.failed_attack_result.FailedAttackResult at 0x7fa4aced6d50>,\n",
       " <textattack.attack_results.failed_attack_result.FailedAttackResult at 0x7fa4af1f2d90>,\n",
       " <textattack.attack_results.failed_attack_result.FailedAttackResult at 0x7fa4a6985150>,\n",
       " <textattack.attack_results.failed_attack_result.FailedAttackResult at 0x7fa4a74c5310>,\n",
       " <textattack.attack_results.failed_attack_result.FailedAttackResult at 0x7fa4a9704ed0>,\n",
       " <textattack.attack_results.failed_attack_result.FailedAttackResult at 0x7fa449b51a90>,\n",
       " <textattack.attack_results.failed_attack_result.FailedAttackResult at 0x7fa4af137390>,\n",
       " <textattack.attack_results.skipped_attack_result.SkippedAttackResult at 0x7fa44bf73850>,\n",
       " <textattack.attack_results.successful_attack_result.SuccessfulAttackResult at 0x7fa4aaea3e50>,\n",
       " <textattack.attack_results.failed_attack_result.FailedAttackResult at 0x7fa4b1304050>,\n",
       " <textattack.attack_results.skipped_attack_result.SkippedAttackResult at 0x7fa4a97f4490>,\n",
       " <textattack.attack_results.successful_attack_result.SuccessfulAttackResult at 0x7fa46afde790>,\n",
       " <textattack.attack_results.failed_attack_result.FailedAttackResult at 0x7fa47dafc110>,\n",
       " <textattack.attack_results.failed_attack_result.FailedAttackResult at 0x7fa4b0be4a10>,\n",
       " <textattack.attack_results.failed_attack_result.FailedAttackResult at 0x7fa4b126f0d0>,\n",
       " <textattack.attack_results.failed_attack_result.FailedAttackResult at 0x7fa4b7837f10>,\n",
       " <textattack.attack_results.skipped_attack_result.SkippedAttackResult at 0x7fa4b6b0d110>,\n",
       " <textattack.attack_results.failed_attack_result.FailedAttackResult at 0x7fa4b4970fd0>,\n",
       " <textattack.attack_results.failed_attack_result.FailedAttackResult at 0x7fa448729550>,\n",
       " <textattack.attack_results.failed_attack_result.FailedAttackResult at 0x7fa470ca2050>,\n",
       " <textattack.attack_results.failed_attack_result.FailedAttackResult at 0x7fa4b0dc64d0>,\n",
       " <textattack.attack_results.failed_attack_result.FailedAttackResult at 0x7fa4b1238e90>,\n",
       " <textattack.attack_results.failed_attack_result.FailedAttackResult at 0x7fa4a6b70cd0>,\n",
       " <textattack.attack_results.failed_attack_result.FailedAttackResult at 0x7fa4aef9cd10>,\n",
       " <textattack.attack_results.failed_attack_result.FailedAttackResult at 0x7fa4a823f290>,\n",
       " <textattack.attack_results.successful_attack_result.SuccessfulAttackResult at 0x7fa4a588c1d0>,\n",
       " <textattack.attack_results.failed_attack_result.FailedAttackResult at 0x7fa4661b7050>,\n",
       " <textattack.attack_results.failed_attack_result.FailedAttackResult at 0x7fa49eb59450>,\n",
       " <textattack.attack_results.failed_attack_result.FailedAttackResult at 0x7fa449425990>,\n",
       " <textattack.attack_results.failed_attack_result.FailedAttackResult at 0x7fa4b1802a90>,\n",
       " <textattack.attack_results.skipped_attack_result.SkippedAttackResult at 0x7fa4b6ab7fd0>,\n",
       " <textattack.attack_results.failed_attack_result.FailedAttackResult at 0x7fa4a74c5350>,\n",
       " <textattack.attack_results.skipped_attack_result.SkippedAttackResult at 0x7fa46dca6950>,\n",
       " <textattack.attack_results.successful_attack_result.SuccessfulAttackResult at 0x7fa4b060a350>,\n",
       " <textattack.attack_results.failed_attack_result.FailedAttackResult at 0x7fa447dcf050>,\n",
       " <textattack.attack_results.successful_attack_result.SuccessfulAttackResult at 0x7fa4a59329d0>,\n",
       " <textattack.attack_results.failed_attack_result.FailedAttackResult at 0x7fa4b10ef050>,\n",
       " <textattack.attack_results.failed_attack_result.FailedAttackResult at 0x7fa4b73f1ed0>,\n",
       " <textattack.attack_results.failed_attack_result.FailedAttackResult at 0x7fa4b2754690>,\n",
       " <textattack.attack_results.failed_attack_result.FailedAttackResult at 0x7fa4b6b0dd90>,\n",
       " <textattack.attack_results.successful_attack_result.SuccessfulAttackResult at 0x7fa48149b250>,\n",
       " <textattack.attack_results.failed_attack_result.FailedAttackResult at 0x7fa4a53ab1d0>,\n",
       " <textattack.attack_results.failed_attack_result.FailedAttackResult at 0x7fa44f833050>,\n",
       " <textattack.attack_results.skipped_attack_result.SkippedAttackResult at 0x7fa4485e0f10>,\n",
       " <textattack.attack_results.skipped_attack_result.SkippedAttackResult at 0x7fa4b5de65d0>,\n",
       " <textattack.attack_results.failed_attack_result.FailedAttackResult at 0x7fa44eb73c90>,\n",
       " <textattack.attack_results.failed_attack_result.FailedAttackResult at 0x7fa4acb6ee10>,\n",
       " <textattack.attack_results.successful_attack_result.SuccessfulAttackResult at 0x7fa447c17c50>,\n",
       " <textattack.attack_results.failed_attack_result.FailedAttackResult at 0x7fa44d8db050>,\n",
       " <textattack.attack_results.skipped_attack_result.SkippedAttackResult at 0x7fa4afcc92d0>,\n",
       " <textattack.attack_results.failed_attack_result.FailedAttackResult at 0x7fa4b83098d0>,\n",
       " <textattack.attack_results.failed_attack_result.FailedAttackResult at 0x7fa4477873d0>,\n",
       " <textattack.attack_results.failed_attack_result.FailedAttackResult at 0x7fa44da7df50>,\n",
       " <textattack.attack_results.failed_attack_result.FailedAttackResult at 0x7fa4b17c1050>,\n",
       " <textattack.attack_results.successful_attack_result.SuccessfulAttackResult at 0x7fa4b7c87b90>,\n",
       " <textattack.attack_results.failed_attack_result.FailedAttackResult at 0x7fa47fcd0110>,\n",
       " <textattack.attack_results.failed_attack_result.FailedAttackResult at 0x7fa4b22e9f10>,\n",
       " <textattack.attack_results.failed_attack_result.FailedAttackResult at 0x7fa449b39050>,\n",
       " <textattack.attack_results.failed_attack_result.FailedAttackResult at 0x7fa4af297fd0>,\n",
       " <textattack.attack_results.successful_attack_result.SuccessfulAttackResult at 0x7fa4afdadb10>,\n",
       " <textattack.attack_results.failed_attack_result.FailedAttackResult at 0x7fa4482dfb10>,\n",
       " <textattack.attack_results.skipped_attack_result.SkippedAttackResult at 0x7fa44da7d150>,\n",
       " <textattack.attack_results.failed_attack_result.FailedAttackResult at 0x7fa44e7a43d0>,\n",
       " <textattack.attack_results.failed_attack_result.FailedAttackResult at 0x7fa4497e3050>,\n",
       " <textattack.attack_results.failed_attack_result.FailedAttackResult at 0x7fa4aed00150>,\n",
       " <textattack.attack_results.failed_attack_result.FailedAttackResult at 0x7fa4b4fcf190>,\n",
       " <textattack.attack_results.failed_attack_result.FailedAttackResult at 0x7fa4b8fc2050>,\n",
       " <textattack.attack_results.successful_attack_result.SuccessfulAttackResult at 0x7fa4b1ab9110>,\n",
       " <textattack.attack_results.failed_attack_result.FailedAttackResult at 0x7fa4b1b61050>,\n",
       " <textattack.attack_results.failed_attack_result.FailedAttackResult at 0x7fa4b5324150>,\n",
       " <textattack.attack_results.failed_attack_result.FailedAttackResult at 0x7fa4b3251050>,\n",
       " <textattack.attack_results.skipped_attack_result.SkippedAttackResult at 0x7fa4a9017950>,\n",
       " <textattack.attack_results.failed_attack_result.FailedAttackResult at 0x7fa4b6ab7bd0>,\n",
       " <textattack.attack_results.skipped_attack_result.SkippedAttackResult at 0x7fa4b6ab7b50>,\n",
       " <textattack.attack_results.failed_attack_result.FailedAttackResult at 0x7fa4a7ae2890>,\n",
       " <textattack.attack_results.failed_attack_result.FailedAttackResult at 0x7fa4b79bb8d0>,\n",
       " <textattack.attack_results.failed_attack_result.FailedAttackResult at 0x7fa445fd5bd0>,\n",
       " <textattack.attack_results.failed_attack_result.FailedAttackResult at 0x7fa4a5b6b810>,\n",
       " <textattack.attack_results.failed_attack_result.FailedAttackResult at 0x7fa445fed150>,\n",
       " <textattack.attack_results.successful_attack_result.SuccessfulAttackResult at 0x7fa4477ae5d0>,\n",
       " <textattack.attack_results.failed_attack_result.FailedAttackResult at 0x7fa4ad588910>,\n",
       " <textattack.attack_results.successful_attack_result.SuccessfulAttackResult at 0x7fa4518134d0>,\n",
       " <textattack.attack_results.failed_attack_result.FailedAttackResult at 0x7fa448ef4ed0>,\n",
       " <textattack.attack_results.successful_attack_result.SuccessfulAttackResult at 0x7fa44746f050>,\n",
       " <textattack.attack_results.failed_attack_result.FailedAttackResult at 0x7fa446b1b4d0>,\n",
       " <textattack.attack_results.successful_attack_result.SuccessfulAttackResult at 0x7fa4afcc9190>,\n",
       " <textattack.attack_results.failed_attack_result.FailedAttackResult at 0x7fa4ac0347d0>,\n",
       " <textattack.attack_results.failed_attack_result.FailedAttackResult at 0x7fa4b09b1050>,\n",
       " <textattack.attack_results.failed_attack_result.FailedAttackResult at 0x7fa4a6cd6350>,\n",
       " <textattack.attack_results.failed_attack_result.FailedAttackResult at 0x7fa4b14ca910>,\n",
       " <textattack.attack_results.failed_attack_result.FailedAttackResult at 0x7fa4aa285850>,\n",
       " <textattack.attack_results.failed_attack_result.FailedAttackResult at 0x7fa47f0ebcd0>,\n",
       " <textattack.attack_results.successful_attack_result.SuccessfulAttackResult at 0x7fa4b8810950>,\n",
       " <textattack.attack_results.failed_attack_result.FailedAttackResult at 0x7fa4ab24f5d0>,\n",
       " <textattack.attack_results.failed_attack_result.FailedAttackResult at 0x7fa446645f10>,\n",
       " <textattack.attack_results.failed_attack_result.FailedAttackResult at 0x7fa4afc89b50>,\n",
       " <textattack.attack_results.failed_attack_result.FailedAttackResult at 0x7fa470ad9c50>,\n",
       " <textattack.attack_results.skipped_attack_result.SkippedAttackResult at 0x7fa4a592e850>,\n",
       " <textattack.attack_results.failed_attack_result.FailedAttackResult at 0x7fa44abc9290>,\n",
       " <textattack.attack_results.failed_attack_result.FailedAttackResult at 0x7fa4b1cc9d90>,\n",
       " <textattack.attack_results.failed_attack_result.FailedAttackResult at 0x7fa4b4c00810>,\n",
       " <textattack.attack_results.failed_attack_result.FailedAttackResult at 0x7fa47e643450>,\n",
       " <textattack.attack_results.failed_attack_result.FailedAttackResult at 0x7fa49e716250>,\n",
       " <textattack.attack_results.successful_attack_result.SuccessfulAttackResult at 0x7fa4b7ba20d0>,\n",
       " <textattack.attack_results.failed_attack_result.FailedAttackResult at 0x7fa44cd52050>,\n",
       " <textattack.attack_results.failed_attack_result.FailedAttackResult at 0x7fa454d38190>,\n",
       " <textattack.attack_results.successful_attack_result.SuccessfulAttackResult at 0x7fa4b172c090>,\n",
       " <textattack.attack_results.failed_attack_result.FailedAttackResult at 0x7fa4b3fc2990>,\n",
       " <textattack.attack_results.failed_attack_result.FailedAttackResult at 0x7fa4b550e4d0>,\n",
       " <textattack.attack_results.failed_attack_result.FailedAttackResult at 0x7fa4a9016410>,\n",
       " <textattack.attack_results.failed_attack_result.FailedAttackResult at 0x7fa44d4400d0>,\n",
       " <textattack.attack_results.failed_attack_result.FailedAttackResult at 0x7fa4b4549d10>,\n",
       " <textattack.attack_results.failed_attack_result.FailedAttackResult at 0x7fa4afadd1d0>,\n",
       " <textattack.attack_results.failed_attack_result.FailedAttackResult at 0x7fa452b5bfd0>,\n",
       " <textattack.attack_results.failed_attack_result.FailedAttackResult at 0x7fa4b1815490>,\n",
       " <textattack.attack_results.successful_attack_result.SuccessfulAttackResult at 0x7fa4b7fc2a50>,\n",
       " <textattack.attack_results.failed_attack_result.FailedAttackResult at 0x7fa4b4a6b050>,\n",
       " <textattack.attack_results.failed_attack_result.FailedAttackResult at 0x7fa44b662c10>,\n",
       " <textattack.attack_results.failed_attack_result.FailedAttackResult at 0x7fa452e77710>,\n",
       " <textattack.attack_results.skipped_attack_result.SkippedAttackResult at 0x7fa4b1687ed0>,\n",
       " <textattack.attack_results.failed_attack_result.FailedAttackResult at 0x7fa44bbd6dd0>,\n",
       " <textattack.attack_results.failed_attack_result.FailedAttackResult at 0x7fa4b2d073d0>,\n",
       " <textattack.attack_results.failed_attack_result.FailedAttackResult at 0x7fa4b8b6bf90>,\n",
       " <textattack.attack_results.failed_attack_result.FailedAttackResult at 0x7fa4b28e7610>,\n",
       " <textattack.attack_results.failed_attack_result.FailedAttackResult at 0x7fa4b6a2f110>,\n",
       " <textattack.attack_results.failed_attack_result.FailedAttackResult at 0x7fa4ab4b4e50>,\n",
       " <textattack.attack_results.failed_attack_result.FailedAttackResult at 0x7fa4b1687850>,\n",
       " <textattack.attack_results.failed_attack_result.FailedAttackResult at 0x7fa4b7c26190>,\n",
       " <textattack.attack_results.failed_attack_result.FailedAttackResult at 0x7fa4b14c9310>,\n",
       " <textattack.attack_results.failed_attack_result.FailedAttackResult at 0x7fa4ac695c90>,\n",
       " <textattack.attack_results.skipped_attack_result.SkippedAttackResult at 0x7fa449a07050>,\n",
       " <textattack.attack_results.failed_attack_result.FailedAttackResult at 0x7fa4b6a28f50>,\n",
       " <textattack.attack_results.failed_attack_result.FailedAttackResult at 0x7fa450173050>,\n",
       " <textattack.attack_results.successful_attack_result.SuccessfulAttackResult at 0x7fa4483bdc10>,\n",
       " <textattack.attack_results.failed_attack_result.FailedAttackResult at 0x7fa4b42102d0>,\n",
       " <textattack.attack_results.successful_attack_result.SuccessfulAttackResult at 0x7fa4485e02d0>,\n",
       " <textattack.attack_results.failed_attack_result.FailedAttackResult at 0x7fa4b59680d0>,\n",
       " <textattack.attack_results.skipped_attack_result.SkippedAttackResult at 0x7fa44cfb8710>,\n",
       " <textattack.attack_results.failed_attack_result.FailedAttackResult at 0x7fa4a6985410>,\n",
       " <textattack.attack_results.failed_attack_result.FailedAttackResult at 0x7fa4aaacb110>,\n",
       " <textattack.attack_results.successful_attack_result.SuccessfulAttackResult at 0x7fa4460f4390>,\n",
       " <textattack.attack_results.failed_attack_result.FailedAttackResult at 0x7fa4a871b7d0>,\n",
       " <textattack.attack_results.failed_attack_result.FailedAttackResult at 0x7fa44e1e66d0>,\n",
       " <textattack.attack_results.failed_attack_result.FailedAttackResult at 0x7fa4478908d0>,\n",
       " <textattack.attack_results.failed_attack_result.FailedAttackResult at 0x7fa47feb7050>,\n",
       " <textattack.attack_results.failed_attack_result.FailedAttackResult at 0x7fa4af424a10>,\n",
       " <textattack.attack_results.successful_attack_result.SuccessfulAttackResult at 0x7fa4b77f8050>,\n",
       " <textattack.attack_results.failed_attack_result.FailedAttackResult at 0x7fa452b40ed0>,\n",
       " <textattack.attack_results.skipped_attack_result.SkippedAttackResult at 0x7fa4b497c5d0>,\n",
       " <textattack.attack_results.successful_attack_result.SuccessfulAttackResult at 0x7fa4a014d210>,\n",
       " <textattack.attack_results.successful_attack_result.SuccessfulAttackResult at 0x7fa4b497c350>,\n",
       " <textattack.attack_results.failed_attack_result.FailedAttackResult at 0x7fa4b622cf10>,\n",
       " <textattack.attack_results.skipped_attack_result.SkippedAttackResult at 0x7fa4b4ca8190>,\n",
       " <textattack.attack_results.failed_attack_result.FailedAttackResult at 0x7fa4b4cb5e10>,\n",
       " <textattack.attack_results.failed_attack_result.FailedAttackResult at 0x7fa447643b90>,\n",
       " <textattack.attack_results.successful_attack_result.SuccessfulAttackResult at 0x7fa4b7a7d050>,\n",
       " <textattack.attack_results.failed_attack_result.FailedAttackResult at 0x7fa4af8f8490>,\n",
       " <textattack.attack_results.successful_attack_result.SuccessfulAttackResult at 0x7fa4b0461090>,\n",
       " <textattack.attack_results.failed_attack_result.FailedAttackResult at 0x7fa44643b510>,\n",
       " <textattack.attack_results.successful_attack_result.SuccessfulAttackResult at 0x7fa4b5fe7a50>,\n",
       " <textattack.attack_results.successful_attack_result.SuccessfulAttackResult at 0x7fa4a79e0750>,\n",
       " <textattack.attack_results.failed_attack_result.FailedAttackResult at 0x7fa44cfb8910>,\n",
       " <textattack.attack_results.failed_attack_result.FailedAttackResult at 0x7fa4b1934f10>,\n",
       " <textattack.attack_results.failed_attack_result.FailedAttackResult at 0x7fa4a6985250>,\n",
       " <textattack.attack_results.successful_attack_result.SuccessfulAttackResult at 0x7fa4af72f990>,\n",
       " <textattack.attack_results.failed_attack_result.FailedAttackResult at 0x7fa4ab4b4e90>,\n",
       " <textattack.attack_results.failed_attack_result.FailedAttackResult at 0x7fa4b7c26310>,\n",
       " <textattack.attack_results.skipped_attack_result.SkippedAttackResult at 0x7fa4b7c2bf90>,\n",
       " <textattack.attack_results.failed_attack_result.FailedAttackResult at 0x7fa4ac9cc910>,\n",
       " <textattack.attack_results.failed_attack_result.FailedAttackResult at 0x7fa4b4b3d510>,\n",
       " <textattack.attack_results.failed_attack_result.FailedAttackResult at 0x7fa4a7e33150>,\n",
       " <textattack.attack_results.failed_attack_result.FailedAttackResult at 0x7fa4ab06bcd0>,\n",
       " <textattack.attack_results.failed_attack_result.FailedAttackResult at 0x7fa446e4ed10>,\n",
       " <textattack.attack_results.successful_attack_result.SuccessfulAttackResult at 0x7fa4a014d290>,\n",
       " <textattack.attack_results.skipped_attack_result.SkippedAttackResult at 0x7fa4a8793590>,\n",
       " <textattack.attack_results.failed_attack_result.FailedAttackResult at 0x7fa4aa83bc90>,\n",
       " <textattack.attack_results.skipped_attack_result.SkippedAttackResult at 0x7fa4b7bb19d0>,\n",
       " <textattack.attack_results.failed_attack_result.FailedAttackResult at 0x7fa4b172ced0>,\n",
       " <textattack.attack_results.successful_attack_result.SuccessfulAttackResult at 0x7fa4aff8a250>,\n",
       " <textattack.attack_results.failed_attack_result.FailedAttackResult at 0x7fa4b044de10>,\n",
       " <textattack.attack_results.failed_attack_result.FailedAttackResult at 0x7fa4485e0f50>,\n",
       " <textattack.attack_results.failed_attack_result.FailedAttackResult at 0x7fa4afd97b50>,\n",
       " <textattack.attack_results.failed_attack_result.FailedAttackResult at 0x7fa4547ce050>,\n",
       " <textattack.attack_results.failed_attack_result.FailedAttackResult at 0x7fa44c04bf90>,\n",
       " <textattack.attack_results.failed_attack_result.FailedAttackResult at 0x7fa44e1e6450>,\n",
       " <textattack.attack_results.failed_attack_result.FailedAttackResult at 0x7fa4661d7050>,\n",
       " <textattack.attack_results.failed_attack_result.FailedAttackResult at 0x7fa4b0c53390>,\n",
       " <textattack.attack_results.successful_attack_result.SuccessfulAttackResult at 0x7fa4b8ad1090>,\n",
       " <textattack.attack_results.failed_attack_result.FailedAttackResult at 0x7fa45582f850>,\n",
       " <textattack.attack_results.failed_attack_result.FailedAttackResult at 0x7fa445bdc250>,\n",
       " <textattack.attack_results.successful_attack_result.SuccessfulAttackResult at 0x7fa4a7231650>,\n",
       " <textattack.attack_results.failed_attack_result.FailedAttackResult at 0x7fa4aba95490>,\n",
       " <textattack.attack_results.failed_attack_result.FailedAttackResult at 0x7fa4b6cdf150>,\n",
       " <textattack.attack_results.skipped_attack_result.SkippedAttackResult at 0x7fa4b4232310>,\n",
       " <textattack.attack_results.skipped_attack_result.SkippedAttackResult at 0x7fa4b6cbaf10>,\n",
       " <textattack.attack_results.successful_attack_result.SuccessfulAttackResult at 0x7fa4ab6de9d0>,\n",
       " <textattack.attack_results.failed_attack_result.FailedAttackResult at 0x7fa450ec4390>,\n",
       " <textattack.attack_results.failed_attack_result.FailedAttackResult at 0x7fa447a00490>,\n",
       " <textattack.attack_results.skipped_attack_result.SkippedAttackResult at 0x7fa4b5a67050>,\n",
       " <textattack.attack_results.successful_attack_result.SuccessfulAttackResult at 0x7fa4b8475590>,\n",
       " <textattack.attack_results.skipped_attack_result.SkippedAttackResult at 0x7fa4b627f9d0>,\n",
       " <textattack.attack_results.failed_attack_result.FailedAttackResult at 0x7fa446099510>,\n",
       " <textattack.attack_results.skipped_attack_result.SkippedAttackResult at 0x7fa4af286650>,\n",
       " <textattack.attack_results.successful_attack_result.SuccessfulAttackResult at 0x7fa44ad0c050>,\n",
       " <textattack.attack_results.failed_attack_result.FailedAttackResult at 0x7fa4b5d26050>,\n",
       " <textattack.attack_results.failed_attack_result.FailedAttackResult at 0x7fa44642ca50>,\n",
       " <textattack.attack_results.failed_attack_result.FailedAttackResult at 0x7fa4b601cfd0>,\n",
       " <textattack.attack_results.failed_attack_result.FailedAttackResult at 0x7fa4a0146790>,\n",
       " <textattack.attack_results.failed_attack_result.FailedAttackResult at 0x7fa4aab19790>,\n",
       " <textattack.attack_results.failed_attack_result.FailedAttackResult at 0x7fa4af29cf50>,\n",
       " <textattack.attack_results.failed_attack_result.FailedAttackResult at 0x7fa4a01468d0>,\n",
       " <textattack.attack_results.failed_attack_result.FailedAttackResult at 0x7fa4a87eaf90>,\n",
       " <textattack.attack_results.failed_attack_result.FailedAttackResult at 0x7fa4b044dbd0>,\n",
       " <textattack.attack_results.failed_attack_result.FailedAttackResult at 0x7fa4a8ffef50>,\n",
       " <textattack.attack_results.failed_attack_result.FailedAttackResult at 0x7fa44c4164d0>,\n",
       " <textattack.attack_results.failed_attack_result.FailedAttackResult at 0x7fa4a00e9390>,\n",
       " <textattack.attack_results.failed_attack_result.FailedAttackResult at 0x7fa4b77ff050>,\n",
       " <textattack.attack_results.successful_attack_result.SuccessfulAttackResult at 0x7fa4b6f1bfd0>,\n",
       " <textattack.attack_results.failed_attack_result.FailedAttackResult at 0x7fa4b0382fd0>,\n",
       " <textattack.attack_results.failed_attack_result.FailedAttackResult at 0x7fa4b258ad10>,\n",
       " <textattack.attack_results.failed_attack_result.FailedAttackResult at 0x7fa47d7e1450>,\n",
       " <textattack.attack_results.failed_attack_result.FailedAttackResult at 0x7fa4afdaff50>,\n",
       " <textattack.attack_results.successful_attack_result.SuccessfulAttackResult at 0x7fa4afd5ad10>,\n",
       " <textattack.attack_results.skipped_attack_result.SkippedAttackResult at 0x7fa4a77ddd10>,\n",
       " <textattack.attack_results.failed_attack_result.FailedAttackResult at 0x7fa4ac9e5490>,\n",
       " <textattack.attack_results.failed_attack_result.FailedAttackResult at 0x7fa4513b8b50>,\n",
       " <textattack.attack_results.failed_attack_result.FailedAttackResult at 0x7fa447cb0490>,\n",
       " <textattack.attack_results.failed_attack_result.FailedAttackResult at 0x7fa4a8dc5710>,\n",
       " <textattack.attack_results.skipped_attack_result.SkippedAttackResult at 0x7fa4b6736e50>,\n",
       " <textattack.attack_results.failed_attack_result.FailedAttackResult at 0x7fa4843fff10>,\n",
       " <textattack.attack_results.failed_attack_result.FailedAttackResult at 0x7fa4b6d453d0>,\n",
       " <textattack.attack_results.failed_attack_result.FailedAttackResult at 0x7fa446e4e0d0>,\n",
       " <textattack.attack_results.failed_attack_result.FailedAttackResult at 0x7fa4b627ff50>,\n",
       " <textattack.attack_results.failed_attack_result.FailedAttackResult at 0x7fa481f02a50>,\n",
       " <textattack.attack_results.failed_attack_result.FailedAttackResult at 0x7fa4a8e9aed0>,\n",
       " <textattack.attack_results.skipped_attack_result.SkippedAttackResult at 0x7fa4a8e9a290>,\n",
       " <textattack.attack_results.failed_attack_result.FailedAttackResult at 0x7fa4b26cbd50>,\n",
       " <textattack.attack_results.failed_attack_result.FailedAttackResult at 0x7fa4a00e95d0>,\n",
       " <textattack.attack_results.failed_attack_result.FailedAttackResult at 0x7fa4b60091d0>,\n",
       " <textattack.attack_results.failed_attack_result.FailedAttackResult at 0x7fa4b78ac290>,\n",
       " <textattack.attack_results.failed_attack_result.FailedAttackResult at 0x7fa4b2385b50>,\n",
       " <textattack.attack_results.failed_attack_result.FailedAttackResult at 0x7fa44d47e910>,\n",
       " <textattack.attack_results.successful_attack_result.SuccessfulAttackResult at 0x7fa45411e850>,\n",
       " <textattack.attack_results.successful_attack_result.SuccessfulAttackResult at 0x7fa4a653c950>,\n",
       " <textattack.attack_results.failed_attack_result.FailedAttackResult at 0x7fa4a6399390>,\n",
       " <textattack.attack_results.failed_attack_result.FailedAttackResult at 0x7fa44b93df90>,\n",
       " <textattack.attack_results.skipped_attack_result.SkippedAttackResult at 0x7fa4ad1fc690>,\n",
       " <textattack.attack_results.failed_attack_result.FailedAttackResult at 0x7fa470ab4c90>,\n",
       " <textattack.attack_results.failed_attack_result.FailedAttackResult at 0x7fa4a87ea0d0>,\n",
       " <textattack.attack_results.failed_attack_result.FailedAttackResult at 0x7fa445fc6dd0>,\n",
       " <textattack.attack_results.failed_attack_result.FailedAttackResult at 0x7fa4b75c2110>,\n",
       " <textattack.attack_results.failed_attack_result.FailedAttackResult at 0x7fa447dc8190>,\n",
       " <textattack.attack_results.failed_attack_result.FailedAttackResult at 0x7fa4b3c71690>,\n",
       " <textattack.attack_results.failed_attack_result.FailedAttackResult at 0x7fa4a976a5d0>,\n",
       " <textattack.attack_results.failed_attack_result.FailedAttackResult at 0x7fa445be93d0>,\n",
       " <textattack.attack_results.skipped_attack_result.SkippedAttackResult at 0x7fa4b60bd7d0>,\n",
       " <textattack.attack_results.failed_attack_result.FailedAttackResult at 0x7fa4b907edd0>,\n",
       " <textattack.attack_results.successful_attack_result.SuccessfulAttackResult at 0x7fa4b7452990>,\n",
       " <textattack.attack_results.failed_attack_result.FailedAttackResult at 0x7fa447cb0ed0>,\n",
       " <textattack.attack_results.successful_attack_result.SuccessfulAttackResult at 0x7fa4b102cad0>,\n",
       " <textattack.attack_results.skipped_attack_result.SkippedAttackResult at 0x7fa4af119d10>,\n",
       " <textattack.attack_results.failed_attack_result.FailedAttackResult at 0x7fa4b6ab7b10>,\n",
       " <textattack.attack_results.failed_attack_result.FailedAttackResult at 0x7fa4b6ab7d10>,\n",
       " <textattack.attack_results.failed_attack_result.FailedAttackResult at 0x7fa4b2b07350>,\n",
       " <textattack.attack_results.failed_attack_result.FailedAttackResult at 0x7fa44b61a4d0>,\n",
       " <textattack.attack_results.failed_attack_result.FailedAttackResult at 0x7fa4ad588a50>,\n",
       " <textattack.attack_results.successful_attack_result.SuccessfulAttackResult at 0x7fa4ab80ca90>,\n",
       " <textattack.attack_results.failed_attack_result.FailedAttackResult at 0x7fa4a0159050>,\n",
       " <textattack.attack_results.skipped_attack_result.SkippedAttackResult at 0x7fa446e462d0>,\n",
       " <textattack.attack_results.successful_attack_result.SuccessfulAttackResult at 0x7fa4ac261050>,\n",
       " <textattack.attack_results.skipped_attack_result.SkippedAttackResult at 0x7fa4aab32890>,\n",
       " <textattack.attack_results.failed_attack_result.FailedAttackResult at 0x7fa4b6aac290>,\n",
       " <textattack.attack_results.failed_attack_result.FailedAttackResult at 0x7fa44641d610>,\n",
       " <textattack.attack_results.successful_attack_result.SuccessfulAttackResult at 0x7fa4b5309990>,\n",
       " <textattack.attack_results.failed_attack_result.FailedAttackResult at 0x7fa4b49b5a90>,\n",
       " <textattack.attack_results.failed_attack_result.FailedAttackResult at 0x7fa47ea00890>,\n",
       " <textattack.attack_results.failed_attack_result.FailedAttackResult at 0x7fa4b0e45090>,\n",
       " <textattack.attack_results.skipped_attack_result.SkippedAttackResult at 0x7fa4b295d210>,\n",
       " <textattack.attack_results.failed_attack_result.FailedAttackResult at 0x7fa4b261b450>,\n",
       " <textattack.attack_results.skipped_attack_result.SkippedAttackResult at 0x7fa4b2385610>,\n",
       " <textattack.attack_results.failed_attack_result.FailedAttackResult at 0x7fa4b8815f90>,\n",
       " <textattack.attack_results.successful_attack_result.SuccessfulAttackResult at 0x7fa4b718f110>,\n",
       " <textattack.attack_results.successful_attack_result.SuccessfulAttackResult at 0x7fa47d26ee10>,\n",
       " <textattack.attack_results.successful_attack_result.SuccessfulAttackResult at 0x7fa4abfe7e10>,\n",
       " <textattack.attack_results.successful_attack_result.SuccessfulAttackResult at 0x7fa44aa60a90>,\n",
       " <textattack.attack_results.successful_attack_result.SuccessfulAttackResult at 0x7fa4a6dca810>,\n",
       " <textattack.attack_results.successful_attack_result.SuccessfulAttackResult at 0x7fa4af67a550>,\n",
       " <textattack.attack_results.failed_attack_result.FailedAttackResult at 0x7fa4ac463490>,\n",
       " <textattack.attack_results.failed_attack_result.FailedAttackResult at 0x7fa44bc69c90>,\n",
       " <textattack.attack_results.successful_attack_result.SuccessfulAttackResult at 0x7fa4b8020390>,\n",
       " <textattack.attack_results.failed_attack_result.FailedAttackResult at 0x7fa4b0bc6050>,\n",
       " <textattack.attack_results.failed_attack_result.FailedAttackResult at 0x7fa4b8bc9ad0>,\n",
       " <textattack.attack_results.failed_attack_result.FailedAttackResult at 0x7fa44c0d42d0>,\n",
       " <textattack.attack_results.failed_attack_result.FailedAttackResult at 0x7fa4ae524390>,\n",
       " <textattack.attack_results.skipped_attack_result.SkippedAttackResult at 0x7fa49ee8a890>,\n",
       " <textattack.attack_results.failed_attack_result.FailedAttackResult at 0x7fa4b6c2d2d0>,\n",
       " <textattack.attack_results.failed_attack_result.FailedAttackResult at 0x7fa4a7e07f10>,\n",
       " <textattack.attack_results.failed_attack_result.FailedAttackResult at 0x7fa4b69f7ed0>,\n",
       " <textattack.attack_results.skipped_attack_result.SkippedAttackResult at 0x7fa4a7effa10>,\n",
       " <textattack.attack_results.successful_attack_result.SuccessfulAttackResult at 0x7fa4b2385490>,\n",
       " <textattack.attack_results.failed_attack_result.FailedAttackResult at 0x7fa46e0b6050>,\n",
       " <textattack.attack_results.failed_attack_result.FailedAttackResult at 0x7fa4a7acff50>,\n",
       " <textattack.attack_results.failed_attack_result.FailedAttackResult at 0x7fa4af455150>,\n",
       " <textattack.attack_results.skipped_attack_result.SkippedAttackResult at 0x7fa4af4550d0>,\n",
       " <textattack.attack_results.skipped_attack_result.SkippedAttackResult at 0x7fa4af455f90>,\n",
       " <textattack.attack_results.skipped_attack_result.SkippedAttackResult at 0x7fa4aa8c3910>,\n",
       " <textattack.attack_results.failed_attack_result.FailedAttackResult at 0x7fa4a653cc10>,\n",
       " <textattack.attack_results.successful_attack_result.SuccessfulAttackResult at 0x7fa4af42f190>,\n",
       " <textattack.attack_results.failed_attack_result.FailedAttackResult at 0x7fa4b14e0450>,\n",
       " <textattack.attack_results.failed_attack_result.FailedAttackResult at 0x7fa4460a0a50>,\n",
       " <textattack.attack_results.successful_attack_result.SuccessfulAttackResult at 0x7fa44bf96d50>,\n",
       " <textattack.attack_results.failed_attack_result.FailedAttackResult at 0x7fa4b8958c50>,\n",
       " <textattack.attack_results.failed_attack_result.FailedAttackResult at 0x7fa4a8c02210>,\n",
       " <textattack.attack_results.failed_attack_result.FailedAttackResult at 0x7fa4b5baa610>,\n",
       " <textattack.attack_results.failed_attack_result.FailedAttackResult at 0x7fa4521980d0>,\n",
       " <textattack.attack_results.failed_attack_result.FailedAttackResult at 0x7fa4b510bc90>,\n",
       " <textattack.attack_results.failed_attack_result.FailedAttackResult at 0x7fa44d56dc90>,\n",
       " <textattack.attack_results.failed_attack_result.FailedAttackResult at 0x7fa4a6dd8c90>,\n",
       " <textattack.attack_results.failed_attack_result.FailedAttackResult at 0x7fa46ac1f390>,\n",
       " <textattack.attack_results.failed_attack_result.FailedAttackResult at 0x7fa4b627fed0>,\n",
       " <textattack.attack_results.failed_attack_result.FailedAttackResult at 0x7fa4b73e4bd0>,\n",
       " <textattack.attack_results.failed_attack_result.FailedAttackResult at 0x7fa4a7acfd90>,\n",
       " <textattack.attack_results.failed_attack_result.FailedAttackResult at 0x7fa4a7564950>,\n",
       " <textattack.attack_results.failed_attack_result.FailedAttackResult at 0x7fa4a775e110>,\n",
       " <textattack.attack_results.failed_attack_result.FailedAttackResult at 0x7fa4483edb50>,\n",
       " <textattack.attack_results.failed_attack_result.FailedAttackResult at 0x7fa4b48752d0>,\n",
       " <textattack.attack_results.failed_attack_result.FailedAttackResult at 0x7fa44aa8b890>,\n",
       " <textattack.attack_results.skipped_attack_result.SkippedAttackResult at 0x7fa4abbc7c90>,\n",
       " <textattack.attack_results.skipped_attack_result.SkippedAttackResult at 0x7fa4aa933090>,\n",
       " <textattack.attack_results.failed_attack_result.FailedAttackResult at 0x7fa44cd60b10>,\n",
       " <textattack.attack_results.successful_attack_result.SuccessfulAttackResult at 0x7fa4b6d45610>,\n",
       " <textattack.attack_results.failed_attack_result.FailedAttackResult at 0x7fa4b26cbfd0>,\n",
       " <textattack.attack_results.skipped_attack_result.SkippedAttackResult at 0x7fa4ac014d90>,\n",
       " <textattack.attack_results.skipped_attack_result.SkippedAttackResult at 0x7fa4477fab90>,\n",
       " <textattack.attack_results.failed_attack_result.FailedAttackResult at 0x7fa4473dac50>,\n",
       " <textattack.attack_results.failed_attack_result.FailedAttackResult at 0x7fa4b30d1410>,\n",
       " <textattack.attack_results.failed_attack_result.FailedAttackResult at 0x7fa4b8a4e210>,\n",
       " <textattack.attack_results.failed_attack_result.FailedAttackResult at 0x7fa4b542f350>,\n",
       " <textattack.attack_results.failed_attack_result.FailedAttackResult at 0x7fa4518d8ad0>,\n",
       " <textattack.attack_results.failed_attack_result.FailedAttackResult at 0x7fa4b2b67f10>,\n",
       " <textattack.attack_results.failed_attack_result.FailedAttackResult at 0x7fa4afdbd410>,\n",
       " <textattack.attack_results.failed_attack_result.FailedAttackResult at 0x7fa4ac2d2190>,\n",
       " <textattack.attack_results.failed_attack_result.FailedAttackResult at 0x7fa4b0bf19d0>,\n",
       " <textattack.attack_results.failed_attack_result.FailedAttackResult at 0x7fa4b7ea6e50>,\n",
       " <textattack.attack_results.failed_attack_result.FailedAttackResult at 0x7fa4b1acead0>,\n",
       " <textattack.attack_results.failed_attack_result.FailedAttackResult at 0x7fa4ac4b1710>,\n",
       " <textattack.attack_results.failed_attack_result.FailedAttackResult at 0x7fa49fd006d0>,\n",
       " <textattack.attack_results.skipped_attack_result.SkippedAttackResult at 0x7fa4b549dbd0>,\n",
       " <textattack.attack_results.failed_attack_result.FailedAttackResult at 0x7fa4b6d53d10>,\n",
       " <textattack.attack_results.skipped_attack_result.SkippedAttackResult at 0x7fa4a9912190>,\n",
       " <textattack.attack_results.failed_attack_result.FailedAttackResult at 0x7fa4a5875750>,\n",
       " <textattack.attack_results.successful_attack_result.SuccessfulAttackResult at 0x7fa445d38650>,\n",
       " <textattack.attack_results.skipped_attack_result.SkippedAttackResult at 0x7fa4b36f0450>,\n",
       " <textattack.attack_results.skipped_attack_result.SkippedAttackResult at 0x7fa4ac36f7d0>,\n",
       " <textattack.attack_results.failed_attack_result.FailedAttackResult at 0x7fa44ed41710>,\n",
       " <textattack.attack_results.failed_attack_result.FailedAttackResult at 0x7fa4b2313590>,\n",
       " <textattack.attack_results.failed_attack_result.FailedAttackResult at 0x7fa4a5921a10>,\n",
       " <textattack.attack_results.failed_attack_result.FailedAttackResult at 0x7fa47440f050>,\n",
       " <textattack.attack_results.successful_attack_result.SuccessfulAttackResult at 0x7fa4b0c4eb10>,\n",
       " <textattack.attack_results.failed_attack_result.FailedAttackResult at 0x7fa47d7c5350>,\n",
       " <textattack.attack_results.failed_attack_result.FailedAttackResult at 0x7fa47f2acdd0>,\n",
       " <textattack.attack_results.skipped_attack_result.SkippedAttackResult at 0x7fa4b276e690>,\n",
       " <textattack.attack_results.failed_attack_result.FailedAttackResult at 0x7fa4b8240e10>,\n",
       " <textattack.attack_results.successful_attack_result.SuccessfulAttackResult at 0x7fa4518d8fd0>,\n",
       " <textattack.attack_results.failed_attack_result.FailedAttackResult at 0x7fa4b562be90>,\n",
       " <textattack.attack_results.failed_attack_result.FailedAttackResult at 0x7fa4b71d2650>,\n",
       " <textattack.attack_results.successful_attack_result.SuccessfulAttackResult at 0x7fa4b504bf10>,\n",
       " <textattack.attack_results.skipped_attack_result.SkippedAttackResult at 0x7fa448e8c910>,\n",
       " <textattack.attack_results.failed_attack_result.FailedAttackResult at 0x7fa4b0f11350>,\n",
       " <textattack.attack_results.successful_attack_result.SuccessfulAttackResult at 0x7fa4aa52acd0>,\n",
       " <textattack.attack_results.failed_attack_result.FailedAttackResult at 0x7fa4b6eafb90>,\n",
       " <textattack.attack_results.failed_attack_result.FailedAttackResult at 0x7fa4473daad0>,\n",
       " <textattack.attack_results.skipped_attack_result.SkippedAttackResult at 0x7fa4b2ea3cd0>,\n",
       " <textattack.attack_results.skipped_attack_result.SkippedAttackResult at 0x7fa4b2ea3b10>,\n",
       " <textattack.attack_results.failed_attack_result.FailedAttackResult at 0x7fa4acc86690>,\n",
       " <textattack.attack_results.failed_attack_result.FailedAttackResult at 0x7fa4a735de90>,\n",
       " <textattack.attack_results.failed_attack_result.FailedAttackResult at 0x7fa47e72c050>,\n",
       " <textattack.attack_results.successful_attack_result.SuccessfulAttackResult at 0x7fa4a81b9f50>,\n",
       " <textattack.attack_results.failed_attack_result.FailedAttackResult at 0x7fa4b35a74d0>,\n",
       " <textattack.attack_results.failed_attack_result.FailedAttackResult at 0x7fa4afd43550>,\n",
       " <textattack.attack_results.skipped_attack_result.SkippedAttackResult at 0x7fa4b74302d0>,\n",
       " <textattack.attack_results.failed_attack_result.FailedAttackResult at 0x7fa454caf150>,\n",
       " <textattack.attack_results.failed_attack_result.FailedAttackResult at 0x7fa4a85b6310>,\n",
       " <textattack.attack_results.failed_attack_result.FailedAttackResult at 0x7fa4a7224950>,\n",
       " <textattack.attack_results.failed_attack_result.FailedAttackResult at 0x7fa4b8bd4710>,\n",
       " <textattack.attack_results.skipped_attack_result.SkippedAttackResult at 0x7fa4b16cb850>,\n",
       " <textattack.attack_results.failed_attack_result.FailedAttackResult at 0x7fa4b1107490>,\n",
       " <textattack.attack_results.failed_attack_result.FailedAttackResult at 0x7fa4b8ff6090>,\n",
       " <textattack.attack_results.successful_attack_result.SuccessfulAttackResult at 0x7fa449c2df10>,\n",
       " <textattack.attack_results.failed_attack_result.FailedAttackResult at 0x7fa4b0761190>,\n",
       " <textattack.attack_results.skipped_attack_result.SkippedAttackResult at 0x7fa4af6a5050>,\n",
       " <textattack.attack_results.successful_attack_result.SuccessfulAttackResult at 0x7fa49dccf390>,\n",
       " <textattack.attack_results.skipped_attack_result.SkippedAttackResult at 0x7fa4ae52ac50>,\n",
       " <textattack.attack_results.failed_attack_result.FailedAttackResult at 0x7fa4b2ea50d0>,\n",
       " <textattack.attack_results.failed_attack_result.FailedAttackResult at 0x7fa472c26e10>,\n",
       " <textattack.attack_results.successful_attack_result.SuccessfulAttackResult at 0x7fa480ff91d0>,\n",
       " <textattack.attack_results.failed_attack_result.FailedAttackResult at 0x7fa4b54fc050>,\n",
       " <textattack.attack_results.failed_attack_result.FailedAttackResult at 0x7fa4a866af10>,\n",
       " <textattack.attack_results.failed_attack_result.FailedAttackResult at 0x7fa480d07f90>,\n",
       " <textattack.attack_results.failed_attack_result.FailedAttackResult at 0x7fa4aab0e7d0>,\n",
       " <textattack.attack_results.failed_attack_result.FailedAttackResult at 0x7fa47de89310>,\n",
       " <textattack.attack_results.failed_attack_result.FailedAttackResult at 0x7fa4b0aedbd0>,\n",
       " <textattack.attack_results.failed_attack_result.FailedAttackResult at 0x7fa4b66ed110>,\n",
       " <textattack.attack_results.failed_attack_result.FailedAttackResult at 0x7fa4b2d35090>,\n",
       " <textattack.attack_results.failed_attack_result.FailedAttackResult at 0x7fa4b7073fd0>,\n",
       " <textattack.attack_results.failed_attack_result.FailedAttackResult at 0x7fa4b2917c50>,\n",
       " <textattack.attack_results.skipped_attack_result.SkippedAttackResult at 0x7fa4ae8c0610>,\n",
       " <textattack.attack_results.skipped_attack_result.SkippedAttackResult at 0x7fa4ae8c0b10>,\n",
       " <textattack.attack_results.failed_attack_result.FailedAttackResult at 0x7fa4b8e91950>,\n",
       " <textattack.attack_results.failed_attack_result.FailedAttackResult at 0x7fa44bae3f90>,\n",
       " <textattack.attack_results.failed_attack_result.FailedAttackResult at 0x7fa4ae52a410>,\n",
       " <textattack.attack_results.successful_attack_result.SuccessfulAttackResult at 0x7fa44780b110>,\n",
       " <textattack.attack_results.skipped_attack_result.SkippedAttackResult at 0x7fa4b8bb4710>,\n",
       " <textattack.attack_results.failed_attack_result.FailedAttackResult at 0x7fa44745e7d0>,\n",
       " <textattack.attack_results.failed_attack_result.FailedAttackResult at 0x7fa445fc6fd0>,\n",
       " <textattack.attack_results.failed_attack_result.FailedAttackResult at 0x7fa4b7f58290>,\n",
       " <textattack.attack_results.failed_attack_result.FailedAttackResult at 0x7fa4a7df7710>,\n",
       " <textattack.attack_results.failed_attack_result.FailedAttackResult at 0x7fa469c01d10>,\n",
       " <textattack.attack_results.failed_attack_result.FailedAttackResult at 0x7fa4a8ffead0>,\n",
       " <textattack.attack_results.successful_attack_result.SuccessfulAttackResult at 0x7fa4a8046510>,\n",
       " <textattack.attack_results.failed_attack_result.FailedAttackResult at 0x7fa4a8ffea10>,\n",
       " <textattack.attack_results.successful_attack_result.SuccessfulAttackResult at 0x7fa4461174d0>,\n",
       " <textattack.attack_results.skipped_attack_result.SkippedAttackResult at 0x7fa453911e50>,\n",
       " <textattack.attack_results.failed_attack_result.FailedAttackResult at 0x7fa44e1124d0>,\n",
       " <textattack.attack_results.successful_attack_result.SuccessfulAttackResult at 0x7fa4487f9050>,\n",
       " <textattack.attack_results.skipped_attack_result.SkippedAttackResult at 0x7fa4b12bd390>,\n",
       " <textattack.attack_results.failed_attack_result.FailedAttackResult at 0x7fa4abeb9dd0>,\n",
       " <textattack.attack_results.failed_attack_result.FailedAttackResult at 0x7fa4b8fc23d0>,\n",
       " <textattack.attack_results.skipped_attack_result.SkippedAttackResult at 0x7fa44f475b50>,\n",
       " <textattack.attack_results.failed_attack_result.FailedAttackResult at 0x7fa4a50af550>,\n",
       " <textattack.attack_results.failed_attack_result.FailedAttackResult at 0x7fa4b814e090>,\n",
       " <textattack.attack_results.failed_attack_result.FailedAttackResult at 0x7fa4b6dd1b50>,\n",
       " <textattack.attack_results.failed_attack_result.FailedAttackResult at 0x7fa4b7d69850>,\n",
       " <textattack.attack_results.skipped_attack_result.SkippedAttackResult at 0x7fa44bc5e490>,\n",
       " <textattack.attack_results.successful_attack_result.SuccessfulAttackResult at 0x7fa4ab47db50>,\n",
       " <textattack.attack_results.successful_attack_result.SuccessfulAttackResult at 0x7fa480fb4c90>,\n",
       " <textattack.attack_results.failed_attack_result.FailedAttackResult at 0x7fa4b8101390>,\n",
       " <textattack.attack_results.failed_attack_result.FailedAttackResult at 0x7fa44bca7fd0>,\n",
       " <textattack.attack_results.failed_attack_result.FailedAttackResult at 0x7fa472c05c10>,\n",
       " <textattack.attack_results.failed_attack_result.FailedAttackResult at 0x7fa4b31449d0>,\n",
       " <textattack.attack_results.failed_attack_result.FailedAttackResult at 0x7fa45466a8d0>,\n",
       " <textattack.attack_results.failed_attack_result.FailedAttackResult at 0x7fa4688d1050>,\n",
       " <textattack.attack_results.failed_attack_result.FailedAttackResult at 0x7fa4b7c30050>,\n",
       " <textattack.attack_results.failed_attack_result.FailedAttackResult at 0x7fa4ad579f10>,\n",
       " <textattack.attack_results.failed_attack_result.FailedAttackResult at 0x7fa4b0de00d0>,\n",
       " <textattack.attack_results.skipped_attack_result.SkippedAttackResult at 0x7fa47544fc10>,\n",
       " <textattack.attack_results.failed_attack_result.FailedAttackResult at 0x7fa4a8442790>,\n",
       " <textattack.attack_results.failed_attack_result.FailedAttackResult at 0x7fa4ac5b0e10>,\n",
       " <textattack.attack_results.failed_attack_result.FailedAttackResult at 0x7fa4b19b8a50>,\n",
       " <textattack.attack_results.failed_attack_result.FailedAttackResult at 0x7fa44a54c9d0>,\n",
       " <textattack.attack_results.successful_attack_result.SuccessfulAttackResult at 0x7fa473e7e250>,\n",
       " <textattack.attack_results.failed_attack_result.FailedAttackResult at 0x7fa4af12a090>,\n",
       " <textattack.attack_results.skipped_attack_result.SkippedAttackResult at 0x7fa452e6fdd0>,\n",
       " <textattack.attack_results.failed_attack_result.FailedAttackResult at 0x7fa44c2ae9d0>,\n",
       " <textattack.attack_results.successful_attack_result.SuccessfulAttackResult at 0x7fa4a8e9ab50>,\n",
       " <textattack.attack_results.skipped_attack_result.SkippedAttackResult at 0x7fa44bcc91d0>,\n",
       " <textattack.attack_results.skipped_attack_result.SkippedAttackResult at 0x7fa44bcc9050>,\n",
       " <textattack.attack_results.failed_attack_result.FailedAttackResult at 0x7fa44ed06050>,\n",
       " <textattack.attack_results.failed_attack_result.FailedAttackResult at 0x7fa4aac21150>,\n",
       " <textattack.attack_results.skipped_attack_result.SkippedAttackResult at 0x7fa452876f90>,\n",
       " <textattack.attack_results.successful_attack_result.SuccessfulAttackResult at 0x7fa4ab4ff3d0>,\n",
       " <textattack.attack_results.successful_attack_result.SuccessfulAttackResult at 0x7fa4a90296d0>,\n",
       " <textattack.attack_results.successful_attack_result.SuccessfulAttackResult at 0x7fa4b38b7d90>,\n",
       " <textattack.attack_results.failed_attack_result.FailedAttackResult at 0x7fa4abc65250>,\n",
       " <textattack.attack_results.failed_attack_result.FailedAttackResult at 0x7fa44ce29610>,\n",
       " <textattack.attack_results.successful_attack_result.SuccessfulAttackResult at 0x7fa448616410>,\n",
       " <textattack.attack_results.failed_attack_result.FailedAttackResult at 0x7fa49f6c4450>,\n",
       " <textattack.attack_results.successful_attack_result.SuccessfulAttackResult at 0x7fa4ac79c2d0>,\n",
       " <textattack.attack_results.failed_attack_result.FailedAttackResult at 0x7fa45170f250>,\n",
       " <textattack.attack_results.skipped_attack_result.SkippedAttackResult at 0x7fa453911f50>,\n",
       " <textattack.attack_results.failed_attack_result.FailedAttackResult at 0x7fa4ad054c90>,\n",
       " <textattack.attack_results.failed_attack_result.FailedAttackResult at 0x7fa4b7d44550>,\n",
       " <textattack.attack_results.failed_attack_result.FailedAttackResult at 0x7fa4846e6d90>,\n",
       " <textattack.attack_results.successful_attack_result.SuccessfulAttackResult at 0x7fa4ac9bd050>,\n",
       " <textattack.attack_results.skipped_attack_result.SkippedAttackResult at 0x7fa4acac4c50>,\n",
       " <textattack.attack_results.failed_attack_result.FailedAttackResult at 0x7fa4b75e9390>,\n",
       " <textattack.attack_results.failed_attack_result.FailedAttackResult at 0x7fa4af6f9790>,\n",
       " <textattack.attack_results.failed_attack_result.FailedAttackResult at 0x7fa49fbbdf50>,\n",
       " <textattack.attack_results.successful_attack_result.SuccessfulAttackResult at 0x7fa4b79b0210>,\n",
       " <textattack.attack_results.successful_attack_result.SuccessfulAttackResult at 0x7fa4a5e2d890>,\n",
       " <textattack.attack_results.skipped_attack_result.SkippedAttackResult at 0x7fa472c2d310>,\n",
       " <textattack.attack_results.failed_attack_result.FailedAttackResult at 0x7fa46f3eead0>,\n",
       " <textattack.attack_results.successful_attack_result.SuccessfulAttackResult at 0x7fa44711a8d0>,\n",
       " <textattack.attack_results.failed_attack_result.FailedAttackResult at 0x7fa46f3ee910>,\n",
       " <textattack.attack_results.successful_attack_result.SuccessfulAttackResult at 0x7fa4b3cdc810>,\n",
       " <textattack.attack_results.failed_attack_result.FailedAttackResult at 0x7fa4af4a4510>,\n",
       " <textattack.attack_results.failed_attack_result.FailedAttackResult at 0x7fa4b85e2c50>,\n",
       " <textattack.attack_results.failed_attack_result.FailedAttackResult at 0x7fa49dcecdd0>,\n",
       " <textattack.attack_results.failed_attack_result.FailedAttackResult at 0x7fa4b6f55b10>,\n",
       " <textattack.attack_results.failed_attack_result.FailedAttackResult at 0x7fa4ac4f5150>,\n",
       " <textattack.attack_results.failed_attack_result.FailedAttackResult at 0x7fa4aff23bd0>,\n",
       " <textattack.attack_results.skipped_attack_result.SkippedAttackResult at 0x7fa4b6f46ad0>,\n",
       " <textattack.attack_results.failed_attack_result.FailedAttackResult at 0x7fa4b0683550>,\n",
       " <textattack.attack_results.skipped_attack_result.SkippedAttackResult at 0x7fa4afae5610>,\n",
       " <textattack.attack_results.failed_attack_result.FailedAttackResult at 0x7fa4ac9bd150>,\n",
       " <textattack.attack_results.failed_attack_result.FailedAttackResult at 0x7fa452e4b9d0>,\n",
       " <textattack.attack_results.failed_attack_result.FailedAttackResult at 0x7fa445c1c050>,\n",
       " <textattack.attack_results.failed_attack_result.FailedAttackResult at 0x7fa4539119d0>,\n",
       " <textattack.attack_results.failed_attack_result.FailedAttackResult at 0x7fa4aecd6dd0>,\n",
       " <textattack.attack_results.failed_attack_result.FailedAttackResult at 0x7fa4b6e86610>]"
      ]
     },
     "metadata": {},
     "output_type": "display_data"
    }
   ],
   "source": [
    "#!g1.1\n",
    "%%time \n",
    "\n",
    "attack = textattack.attack_recipes.BAEGarg2019.build(model_wrapper) \n",
    "\n",
    "attack_args = textattack.AttackArgs(num_examples=1000, log_to_csv=\"log_amzn_bae.csv\", checkpoint_interval=500, checkpoint_dir=\"checkpoints\", disable_stdout=True)\n",
    "attacker = textattack.Attacker(attack, dataset, attack_args)\n",
    "\n",
    "attacker.attack_dataset()"
   ]
  },
  {
   "cell_type": "markdown",
   "metadata": {
    "cellId": "1mytqwsb1wv28z5ttn8i62"
   },
   "source": [
    "#!g1.1\n",
    "\n",
    "## Попробуем атаковать sklrn модель - обученный над  tf-idf лог рег"
   ]
  },
  {
   "cell_type": "code",
   "execution_count": null,
   "metadata": {
    "cellId": "n4djokcxyldqvva6j71ay"
   },
   "outputs": [],
   "source": [
    "#!g1.1\n",
    "# Эту часть переписать под модель которую получили в самом начале с настройкой С (степени - силы регуляризации)"
   ]
  },
  {
   "cell_type": "code",
   "execution_count": 396,
   "metadata": {
    "cellId": "rz3fvu5yzv9e9a4icaakpu"
   },
   "outputs": [
    {
     "name": "stderr",
     "output_type": "stream",
     "text": [
      "[nltk_data] Downloading package punkt to /home/jupyter/nltk_data...\n",
      "[nltk_data]   Package punkt is already up-to-date!\n"
     ]
    },
    {
     "data": {
      "text/plain": [
       "True"
      ]
     },
     "metadata": {},
     "output_type": "display_data"
    }
   ],
   "source": [
    "import nltk # the Natural Language Toolkit\n",
    "nltk.download('punkt') # The NLTK tokenizer"
   ]
  },
  {
   "cell_type": "code",
   "execution_count": 398,
   "metadata": {
    "cellId": "9juj4ycpj2qeu2mbgro86"
   },
   "outputs": [],
   "source": [
    "import datasets\n",
    "import os\n",
    "import pandas as pd\n",
    "import re\n",
    "from nltk import word_tokenize\n",
    "from nltk.stem import PorterStemmer\n",
    "from sklearn.feature_extraction.text import CountVectorizer, ENGLISH_STOP_WORDS\n",
    "from sklearn import preprocessing\n",
    "from sklearn.feature_extraction.text import TfidfVectorizer\n",
    "from sklearn.linear_model import LogisticRegression\n",
    "\n",
    "# Nice to see additional metrics\n",
    "from sklearn.metrics import classification_report\n",
    "\n",
    "def load_data(dataset_split='train'):\n",
    "    dataset = datasets.load_dataset('rotten_tomatoes')[dataset_split]\n",
    "    # Open and import positve data\n",
    "    df = pd.DataFrame()\n",
    "    df['Review'] = [review['text'] for review in dataset]\n",
    "    df['Sentiment'] = [review['label'] for review in dataset]\n",
    "    # Remove non-alphanumeric characters\n",
    "    df['Review'] = df['Review'].apply(lambda x: re.sub(\"[^a-zA-Z]\", ' ', str(x)))\n",
    "    # Tokenize the training and testing data\n",
    "    df_tokenized = tokenize_review(df)\n",
    "    return df_tokenized\n",
    "\n",
    "def tokenize_review(df):\n",
    "    # Tokenize Reviews in training\n",
    "    tokened_reviews = [word_tokenize(rev) for rev in df['Review']]\n",
    "    # Create word stems\n",
    "    stemmed_tokens = []\n",
    "    porter = PorterStemmer()\n",
    "    for i in range(len(tokened_reviews)):\n",
    "        stems = [porter.stem(token) for token in tokened_reviews[i]]\n",
    "        stems = ' '.join(stems)\n",
    "        stemmed_tokens.append(stems)\n",
    "    df.insert(1, column='Stemmed', value=stemmed_tokens)\n",
    "    return df\n",
    "\n",
    "\n",
    "def transform_tfidf(training, testing, column_name):\n",
    "    Tfidf = TfidfVectorizer(ngram_range=(1,3), max_features=100, stop_words=ENGLISH_STOP_WORDS)\n",
    "    Tfidf_fit = Tfidf.fit(training[column_name])\n",
    "    Tfidf_training = Tfidf_fit.transform(training[column_name])\n",
    "    Tfidf_training_df = pd.DataFrame(Tfidf_training.toarray(), columns=Tfidf.get_feature_names())\n",
    "    Tfidf_testing = Tfidf_fit.transform(testing[column_name])\n",
    "    Tfidf_testing_df = pd.DataFrame(Tfidf_testing.toarray(), columns=Tfidf.get_feature_names())\n",
    "    return Tfidf_fit, Tfidf_training_df, Tfidf_testing_df\n",
    "\n",
    "\n",
    "def build_model(X_train, y_train, X_test, y_test, name_of_test):\n",
    "    log_reg = LogisticRegression(C=30, max_iter=200).fit(X_train, y_train)\n",
    "    y_pred = log_reg.predict(X_test)\n",
    "    print('Training accuracy of '+name_of_test+': ', log_reg.score(X_train, y_train))\n",
    "    print('Testing accuracy of '+name_of_test+': ', log_reg.score(X_test, y_test))\n",
    "    print(classification_report(y_test, y_pred))  # Evaluating prediction ability\n",
    "    return log_reg\n",
    "\n",
    "# Load training and test sets\n",
    "# Loading reviews into DF\n",
    "\n",
    "# зафиксировать рандом стейт и гиперпараметры\n"
   ]
  },
  {
   "cell_type": "code",
   "execution_count": 397,
   "metadata": {
    "cellId": "ab9xjj5vxdw3qeoxlyyc5r"
   },
   "outputs": [
    {
     "data": {
      "text/html": [
       "<div>\n",
       "<style scoped>\n",
       "    .dataframe tbody tr th:only-of-type {\n",
       "        vertical-align: middle;\n",
       "    }\n",
       "\n",
       "    .dataframe tbody tr th {\n",
       "        vertical-align: top;\n",
       "    }\n",
       "\n",
       "    .dataframe thead th {\n",
       "        text-align: right;\n",
       "    }\n",
       "</style>\n",
       "<table border=\"1\" class=\"dataframe\">\n",
       "  <thead>\n",
       "    <tr style=\"text-align: right;\">\n",
       "      <th></th>\n",
       "      <th>text</th>\n",
       "      <th>label</th>\n",
       "    </tr>\n",
       "    <tr>\n",
       "      <th>id</th>\n",
       "      <th></th>\n",
       "      <th></th>\n",
       "    </tr>\n",
       "  </thead>\n",
       "  <tbody>\n",
       "    <tr>\n",
       "      <th>0</th>\n",
       "      <td>Sam has an everlast treat each nite before bed...</td>\n",
       "      <td>dogs</td>\n",
       "    </tr>\n",
       "    <tr>\n",
       "      <th>1</th>\n",
       "      <td>The product is as it says. I keep an eye on it...</td>\n",
       "      <td>dogs</td>\n",
       "    </tr>\n",
       "    <tr>\n",
       "      <th>2</th>\n",
       "      <td>My Kitty thinks these are treats! He loves the...</td>\n",
       "      <td>dogs</td>\n",
       "    </tr>\n",
       "    <tr>\n",
       "      <th>3</th>\n",
       "      <td>This is the third or fourth time that we've or...</td>\n",
       "      <td>dogs</td>\n",
       "    </tr>\n",
       "    <tr>\n",
       "      <th>4</th>\n",
       "      <td>Put this on both my dogs. And they are scratch...</td>\n",
       "      <td>dogs</td>\n",
       "    </tr>\n",
       "  </tbody>\n",
       "</table>\n",
       "</div>"
      ],
      "text/plain": [
       "                                                 text label\n",
       "id                                                         \n",
       "0   Sam has an everlast treat each nite before bed...  dogs\n",
       "1   The product is as it says. I keep an eye on it...  dogs\n",
       "2   My Kitty thinks these are treats! He loves the...  dogs\n",
       "3   This is the third or fourth time that we've or...  dogs\n",
       "4   Put this on both my dogs. And they are scratch...  dogs"
      ]
     },
     "metadata": {},
     "output_type": "display_data"
    }
   ],
   "source": [
    "train_df.head()"
   ]
  },
  {
   "cell_type": "code",
   "execution_count": 400,
   "metadata": {
    "cellId": "lx9n2ol8fx06obblx0k7rb"
   },
   "outputs": [
    {
     "name": "stdout",
     "output_type": "stream",
     "text": [
      "...successfully created the unstemmed TFIDF data\n",
      "CPU times: user 20.9 s, sys: 1.36 s, total: 22.3 s\n",
      "Wall time: 23 s\n"
     ]
    }
   ],
   "source": [
    "%%time\n",
    "\n",
    "unstemmed_tfidf_vect_fit, df_train_tfidf_unstem, df_test_tfidf_unstem = transform_tfidf(train_df, valid_df, 'text')\n",
    "print('...successfully created the unstemmed TFIDF data')\n"
   ]
  },
  {
   "cell_type": "code",
   "execution_count": 402,
   "metadata": {
    "cellId": "nfe0pm9umsh925xb40kke"
   },
   "outputs": [
    {
     "name": "stderr",
     "output_type": "stream",
     "text": [
      "/usr/local/lib/python3.7/dist-packages/sklearn/linear_model/_logistic.py:940: ConvergenceWarning: lbfgs failed to converge (status=1):\n",
      "STOP: TOTAL NO. of ITERATIONS REACHED LIMIT.\n",
      "\n",
      "Increase the number of iterations (max_iter) or scale the data as shown in:\n",
      "    https://scikit-learn.org/stable/modules/preprocessing.html\n",
      "Please also refer to the documentation for alternative solver options:\n",
      "    https://scikit-learn.org/stable/modules/linear_model.html#logistic-regression\n",
      "  extra_warning_msg=_LOGISTIC_SOLVER_CONVERGENCE_MSG)\n"
     ]
    },
    {
     "name": "stdout",
     "output_type": "stream",
     "text": [
      "Training accuracy of TFIDF Unstemmed:  0.7582265593484065\n",
      "Testing accuracy of TFIDF Unstemmed:  0.756987264449951\n",
      "                      precision    recall  f1-score   support\n",
      "\n",
      "               birds       0.36      0.02      0.04       353\n",
      "bunny rabbit central       0.00      0.00      0.00       190\n",
      "                cats       0.83      0.64      0.72      6166\n",
      "                dogs       0.73      0.92      0.81      9333\n",
      "   fish aquatic pets       0.79      0.51      0.62      1197\n",
      "       small animals       0.00      0.00      0.00       114\n",
      "\n",
      "            accuracy                           0.76     17353\n",
      "           macro avg       0.45      0.35      0.37     17353\n",
      "        weighted avg       0.75      0.76      0.74     17353\n",
      "\n"
     ]
    }
   ],
   "source": [
    "\n",
    "\n",
    "# Running logistic regression on dataframes\n",
    "\n",
    "tfidf_unstemmed = build_model(df_train_tfidf_unstem, train_df['label'], df_test_tfidf_unstem, valid_df['label'], 'TFIDF Unstemmed')"
   ]
  },
  {
   "cell_type": "code",
   "execution_count": 399,
   "metadata": {
    "cellId": "xc1ewfnbe1okphawn88rmq"
   },
   "outputs": [
    {
     "data": {
      "text/html": [
       "<div>\n",
       "<style scoped>\n",
       "    .dataframe tbody tr th:only-of-type {\n",
       "        vertical-align: middle;\n",
       "    }\n",
       "\n",
       "    .dataframe tbody tr th {\n",
       "        vertical-align: top;\n",
       "    }\n",
       "\n",
       "    .dataframe thead th {\n",
       "        text-align: right;\n",
       "    }\n",
       "</style>\n",
       "<table border=\"1\" class=\"dataframe\">\n",
       "  <thead>\n",
       "    <tr style=\"text-align: right;\">\n",
       "      <th></th>\n",
       "      <th>text</th>\n",
       "      <th>label</th>\n",
       "    </tr>\n",
       "    <tr>\n",
       "      <th>id</th>\n",
       "      <th></th>\n",
       "      <th></th>\n",
       "    </tr>\n",
       "  </thead>\n",
       "  <tbody>\n",
       "    <tr>\n",
       "      <th>0</th>\n",
       "      <td>Sam has an everlast treat each nite before bed...</td>\n",
       "      <td>dogs</td>\n",
       "    </tr>\n",
       "    <tr>\n",
       "      <th>1</th>\n",
       "      <td>The product is as it says. I keep an eye on it...</td>\n",
       "      <td>dogs</td>\n",
       "    </tr>\n",
       "  </tbody>\n",
       "</table>\n",
       "</div>"
      ],
      "text/plain": [
       "                                                 text label\n",
       "id                                                         \n",
       "0   Sam has an everlast treat each nite before bed...  dogs\n",
       "1   The product is as it says. I keep an eye on it...  dogs"
      ]
     },
     "metadata": {},
     "output_type": "display_data"
    }
   ],
   "source": [
    "train_df.head(2)"
   ]
  },
  {
   "cell_type": "code",
   "execution_count": null,
   "metadata": {
    "cellId": "cyzu0u1fx8ohrm3yzewbkj"
   },
   "outputs": [],
   "source": [
    "Атакуем модель"
   ]
  },
  {
   "cell_type": "code",
   "execution_count": 403,
   "metadata": {
    "cellId": "mjxxyajvc75uo1lhzdzqd"
   },
   "outputs": [
    {
     "name": "stderr",
     "output_type": "stream",
     "text": [
      "Failed to deserialize variable 'model_wrapper'. Run the following code to delete it:\n",
      "  del_datasphere_variables('attack', 'attack_args', 'attacker', 'b_input_ids', 'b_input_mask', 'b_labels', 'batch', 'dataset', 'loss', 'model', 'model_wrapper', 'optimizer', 'scheduler')\n",
      "Traceback (most recent call last):\n",
      "  File \"/kernel/lib/python3.7/site-packages/ml_kernel/state/state_protocol.py\", line 283, in _load_component\n",
      "    value = unpickler.load()\n",
      "  File \"/home/jupyter/.local/lib/python3.7/site-packages/torch/storage.py\", line 161, in _load_from_bytes\n",
      "    return torch.load(io.BytesIO(b))\n",
      "  File \"/home/jupyter/.local/lib/python3.7/site-packages/torch/serialization.py\", line 608, in load\n",
      "    return _legacy_load(opened_file, map_location, pickle_module, **pickle_load_args)\n",
      "  File \"/home/jupyter/.local/lib/python3.7/site-packages/torch/serialization.py\", line 787, in _legacy_load\n",
      "    result = unpickler.load()\n",
      "  File \"/home/jupyter/.local/lib/python3.7/site-packages/torch/serialization.py\", line 743, in persistent_load\n",
      "    deserialized_objects[root_key] = restore_location(obj, location)\n",
      "  File \"/home/jupyter/.local/lib/python3.7/site-packages/torch/serialization.py\", line 175, in default_restore_location\n",
      "    result = fn(storage, location)\n",
      "  File \"/home/jupyter/.local/lib/python3.7/site-packages/torch/serialization.py\", line 151, in _cuda_deserialize\n",
      "    device = validate_cuda_device(location)\n",
      "  File \"/home/jupyter/.local/lib/python3.7/site-packages/torch/serialization.py\", line 135, in validate_cuda_device\n",
      "    raise RuntimeError('Attempting to deserialize object on a CUDA '\n",
      "RuntimeError: Attempting to deserialize object on a CUDA device but torch.cuda.is_available() is False. If you are running on a CPU-only machine, please use torch.load with map_location=torch.device('cpu') to map your storages to the CPU.\n",
      "\n",
      "The above exception was the direct cause of the following exception:\n",
      "\n",
      "ml_kernel.state.state_protocol.KernelStateProtocol.DeserializationException: ['attack', 'attack_args', 'attacker', 'b_input_ids', 'b_input_mask', 'b_labels', 'batch', 'dataset', 'loss', 'model', 'model_wrapper', 'optimizer', 'scheduler']\n"
     ]
    }
   ],
   "source": [
    "from textattack.models.wrappers import SklearnModelWrapper\n",
    "\n",
    "model_wrapper = SklearnModelWrapper(tfidf_unstemmed, unstemmed_tfidf_vect_fit)"
   ]
  },
  {
   "cell_type": "code",
   "execution_count": 405,
   "metadata": {
    "cellId": "nzt2m9vj93t2c1xusdrt"
   },
   "outputs": [
    {
     "name": "stdout",
     "output_type": "stream",
     "text": [
      "Attack(\n",
      "  (search_method): GreedyWordSwapWIR(\n",
      "    (wir_method):  delete\n",
      "  )\n",
      "  (goal_function):  UntargetedClassification\n",
      "  (transformation):  WordSwapEmbedding(\n",
      "    (max_candidates):  50\n",
      "    (embedding):  WordEmbedding\n",
      "  )\n",
      "  (constraints): \n",
      "    (0): WordEmbeddingDistance(\n",
      "        (embedding):  WordEmbedding\n",
      "        (min_cos_sim):  0.5\n",
      "        (cased):  False\n",
      "        (include_unknown_words):  True\n",
      "        (compare_against_original):  True\n",
      "      )\n",
      "    (1): PartOfSpeech(\n",
      "        (tagger_type):  nltk\n",
      "        (tagset):  universal\n",
      "        (allow_verb_noun_swap):  True\n",
      "        (compare_against_original):  True\n",
      "      )\n",
      "    (2): UniversalSentenceEncoder(\n",
      "        (metric):  angular\n",
      "        (threshold):  0.840845057\n",
      "        (window_size):  15\n",
      "        (skip_text_shorter_than_window):  True\n",
      "        (compare_against_original):  False\n",
      "      )\n",
      "    (3): RepeatModification\n",
      "    (4): StopwordModification\n",
      "    (5): InputColumnModification(\n",
      "        (matching_column_labels):  ['premise', 'hypothesis']\n",
      "        (columns_to_ignore):  {'premise'}\n",
      "      )\n",
      "  (is_black_box):  True\n",
      ") \n",
      "\n",
      "\n",
      "\n",
      "=============================================================================================================================\n",
      "=============================================================================================================================\n",
      "\n",
      "\n",
      "\n",
      "=============================================================================================================================\n",
      "=============================================================================================================================\n",
      "\n",
      "\n",
      "\n",
      "=============================================================================================================================\n",
      "=============================================================================================================================\n",
      "\n",
      "\n",
      "\n",
      "=============================================================================================================================\n",
      "=============================================================================================================================\n",
      "\n",
      "\n",
      "\n",
      "=============================================================================================================================\n",
      "=============================================================================================================================\n",
      "\n",
      "\n",
      "+-------------------------------+--------+\n",
      "| Attack Results                |        |\n",
      "+-------------------------------+--------+\n",
      "| Number of successful attacks: | 78     |\n",
      "| Number of failed attacks:     | 3      |\n",
      "| Number of skipped attacks:    | 19     |\n",
      "| Original accuracy:            | 81.0%  |\n",
      "| Accuracy under attack:        | 3.0%   |\n",
      "| Attack success rate:          | 96.3%  |\n",
      "| Average perturbed word %:     | 12.5%  |\n",
      "| Average num. words per input: | 85.66  |\n",
      "| Avg num queries:              | 424.54 |\n",
      "+-------------------------------+--------+\n",
      "CPU times: user 8min 41s, sys: 2min 39s, total: 11min 21s\n",
      "Wall time: 12min 11s\n"
     ]
    },
    {
     "name": "stderr",
     "output_type": "stream",
     "text": [
      "textattack: Unknown if model of class <class 'transformers.models.bert.modeling_bert.BertForSequenceClassification'> compatible with goal function <class 'textattack.goal_functions.classification.untargeted_classification.UntargetedClassification'>.\n",
      "textattack: Logging to CSV at path log_amzn_tf_idf.csv\n",
      "  0%|          | 0/100 [00:00<?, ?it/s]Using /tmp/tfhub_modules to cache modules.\n",
      "Downloading TF-Hub Module 'https://tfhub.dev/google/universal-sentence-encoder/4'.\n",
      "Downloaded https://tfhub.dev/google/universal-sentence-encoder/4, Total size: 987.47MB\n",
      "Downloaded TF-Hub Module 'https://tfhub.dev/google/universal-sentence-encoder/4'.\n",
      "[Succeeded / Failed / Skipped / Total] 15 / 0 / 5 / 20:  20%|██        | 20/100 [01:43<06:54,  5.18s/it]textattack: Saving checkpoint under \"checkpoints/1640670146822.ta.chkpt\" at 2021-12-28 05:42:26 after 20 attacks.\n",
      "[Succeeded / Failed / Skipped / Total] 32 / 0 / 8 / 40:  40%|████      | 40/100 [04:39<06:59,  6.99s/it]textattack: Saving checkpoint under \"checkpoints/1640670322848.ta.chkpt\" at 2021-12-28 05:45:22 after 40 attacks.\n",
      "[Succeeded / Failed / Skipped / Total] 47 / 1 / 12 / 60:  60%|██████    | 60/100 [05:41<03:47,  5.69s/it]textattack: Saving checkpoint under \"checkpoints/1640670384454.ta.chkpt\" at 2021-12-28 05:46:24 after 60 attacks.\n",
      "[Succeeded / Failed / Skipped / Total] 63 / 2 / 15 / 80:  80%|████████  | 80/100 [09:06<02:16,  6.84s/it]textattack: Saving checkpoint under \"checkpoints/1640670590254.ta.chkpt\" at 2021-12-28 05:49:50 after 80 attacks.\n",
      "[Succeeded / Failed / Skipped / Total] 78 / 3 / 19 / 100: 100%|██████████| 100/100 [10:40<00:00,  6.41s/it]textattack: Saving checkpoint under \"checkpoints/1640670684095.ta.chkpt\" at 2021-12-28 05:51:24 after 100 attacks.\n",
      "[Succeeded / Failed / Skipped / Total] 78 / 3 / 19 / 100: 100%|██████████| 100/100 [10:40<00:00,  6.41s/it]\n"
     ]
    },
    {
     "data": {
      "text/plain": [
       "[<textattack.attack_results.successful_attack_result.SuccessfulAttackResult at 0x7f8350374c10>,\n",
       " <textattack.attack_results.successful_attack_result.SuccessfulAttackResult at 0x7f8357394f90>,\n",
       " <textattack.attack_results.skipped_attack_result.SkippedAttackResult at 0x7f83573941d0>,\n",
       " <textattack.attack_results.successful_attack_result.SuccessfulAttackResult at 0x7f8358123d10>,\n",
       " <textattack.attack_results.skipped_attack_result.SkippedAttackResult at 0x7f8358123d50>,\n",
       " <textattack.attack_results.successful_attack_result.SuccessfulAttackResult at 0x7f836d630290>,\n",
       " <textattack.attack_results.successful_attack_result.SuccessfulAttackResult at 0x7f8373d2dd50>,\n",
       " <textattack.attack_results.successful_attack_result.SuccessfulAttackResult at 0x7f835a0e1ed0>,\n",
       " <textattack.attack_results.skipped_attack_result.SkippedAttackResult at 0x7f83570a2f10>,\n",
       " <textattack.attack_results.successful_attack_result.SuccessfulAttackResult at 0x7f8357a56d90>,\n",
       " <textattack.attack_results.successful_attack_result.SuccessfulAttackResult at 0x7f8355ca9250>,\n",
       " <textattack.attack_results.skipped_attack_result.SkippedAttackResult at 0x7f835795fe90>,\n",
       " <textattack.attack_results.successful_attack_result.SuccessfulAttackResult at 0x7f8371294f50>,\n",
       " <textattack.attack_results.skipped_attack_result.SkippedAttackResult at 0x7f837b646110>,\n",
       " <textattack.attack_results.successful_attack_result.SuccessfulAttackResult at 0x7f83580729d0>,\n",
       " <textattack.attack_results.successful_attack_result.SuccessfulAttackResult at 0x7f83650f9510>,\n",
       " <textattack.attack_results.successful_attack_result.SuccessfulAttackResult at 0x7f835e69f5d0>,\n",
       " <textattack.attack_results.successful_attack_result.SuccessfulAttackResult at 0x7f83735aac50>,\n",
       " <textattack.attack_results.successful_attack_result.SuccessfulAttackResult at 0x7f836e096050>,\n",
       " <textattack.attack_results.successful_attack_result.SuccessfulAttackResult at 0x7f836879d050>,\n",
       " <textattack.attack_results.successful_attack_result.SuccessfulAttackResult at 0x7f82f111b4d0>,\n",
       " <textattack.attack_results.successful_attack_result.SuccessfulAttackResult at 0x7f82f111b9d0>,\n",
       " <textattack.attack_results.successful_attack_result.SuccessfulAttackResult at 0x7f8366319590>,\n",
       " <textattack.attack_results.successful_attack_result.SuccessfulAttackResult at 0x7f8358dcea50>,\n",
       " <textattack.attack_results.successful_attack_result.SuccessfulAttackResult at 0x7f836f0d5b10>,\n",
       " <textattack.attack_results.skipped_attack_result.SkippedAttackResult at 0x7f836f0d5150>,\n",
       " <textattack.attack_results.successful_attack_result.SuccessfulAttackResult at 0x7f835a3acf10>,\n",
       " <textattack.attack_results.skipped_attack_result.SkippedAttackResult at 0x7f83691630d0>,\n",
       " <textattack.attack_results.successful_attack_result.SuccessfulAttackResult at 0x7f8364d8fb90>,\n",
       " <textattack.attack_results.successful_attack_result.SuccessfulAttackResult at 0x7f8368eeb8d0>,\n",
       " <textattack.attack_results.successful_attack_result.SuccessfulAttackResult at 0x7f8356f1d550>,\n",
       " <textattack.attack_results.successful_attack_result.SuccessfulAttackResult at 0x7f8357471f50>,\n",
       " <textattack.attack_results.successful_attack_result.SuccessfulAttackResult at 0x7f8357ede0d0>,\n",
       " <textattack.attack_results.successful_attack_result.SuccessfulAttackResult at 0x7f834edc3250>,\n",
       " <textattack.attack_results.successful_attack_result.SuccessfulAttackResult at 0x7f835e793fd0>,\n",
       " <textattack.attack_results.successful_attack_result.SuccessfulAttackResult at 0x7f8365f91050>,\n",
       " <textattack.attack_results.successful_attack_result.SuccessfulAttackResult at 0x7f83573b5050>,\n",
       " <textattack.attack_results.successful_attack_result.SuccessfulAttackResult at 0x7f82f4ba9390>,\n",
       " <textattack.attack_results.successful_attack_result.SuccessfulAttackResult at 0x7f82f1ed1050>,\n",
       " <textattack.attack_results.skipped_attack_result.SkippedAttackResult at 0x7f837b848d90>,\n",
       " <textattack.attack_results.skipped_attack_result.SkippedAttackResult at 0x7f837b848190>,\n",
       " <textattack.attack_results.successful_attack_result.SuccessfulAttackResult at 0x7f834dc64c10>,\n",
       " <textattack.attack_results.successful_attack_result.SuccessfulAttackResult at 0x7f836828c410>,\n",
       " <textattack.attack_results.skipped_attack_result.SkippedAttackResult at 0x7f83560b57d0>,\n",
       " <textattack.attack_results.successful_attack_result.SuccessfulAttackResult at 0x7f836d8f5550>,\n",
       " <textattack.attack_results.successful_attack_result.SuccessfulAttackResult at 0x7f8368daea90>,\n",
       " <textattack.attack_results.skipped_attack_result.SkippedAttackResult at 0x7f836c950310>,\n",
       " <textattack.attack_results.successful_attack_result.SuccessfulAttackResult at 0x7f83687e5dd0>,\n",
       " <textattack.attack_results.successful_attack_result.SuccessfulAttackResult at 0x7f8366360190>,\n",
       " <textattack.attack_results.failed_attack_result.FailedAttackResult at 0x7f836d8dd4d0>,\n",
       " <textattack.attack_results.successful_attack_result.SuccessfulAttackResult at 0x7f834eba7610>,\n",
       " <textattack.attack_results.successful_attack_result.SuccessfulAttackResult at 0x7f8365fda9d0>,\n",
       " <textattack.attack_results.successful_attack_result.SuccessfulAttackResult at 0x7f835a685850>,\n",
       " <textattack.attack_results.successful_attack_result.SuccessfulAttackResult at 0x7f836c5ce050>,\n",
       " <textattack.attack_results.skipped_attack_result.SkippedAttackResult at 0x7f83733c0190>,\n",
       " <textattack.attack_results.successful_attack_result.SuccessfulAttackResult at 0x7f8378cc1b90>,\n",
       " <textattack.attack_results.successful_attack_result.SuccessfulAttackResult at 0x7f8367aa6c50>,\n",
       " <textattack.attack_results.successful_attack_result.SuccessfulAttackResult at 0x7f8364d8f950>,\n",
       " <textattack.attack_results.successful_attack_result.SuccessfulAttackResult at 0x7f83570a2d10>,\n",
       " <textattack.attack_results.successful_attack_result.SuccessfulAttackResult at 0x7f8357a5a710>,\n",
       " <textattack.attack_results.successful_attack_result.SuccessfulAttackResult at 0x7f8357655e50>,\n",
       " <textattack.attack_results.skipped_attack_result.SkippedAttackResult at 0x7f8357655f50>,\n",
       " <textattack.attack_results.successful_attack_result.SuccessfulAttackResult at 0x7f836d5fc650>,\n",
       " <textattack.attack_results.successful_attack_result.SuccessfulAttackResult at 0x7f835a2a8d90>,\n",
       " <textattack.attack_results.successful_attack_result.SuccessfulAttackResult at 0x7f835ed77850>,\n",
       " <textattack.attack_results.skipped_attack_result.SkippedAttackResult at 0x7f836879d2d0>,\n",
       " <textattack.attack_results.successful_attack_result.SuccessfulAttackResult at 0x7f836616d190>,\n",
       " <textattack.attack_results.successful_attack_result.SuccessfulAttackResult at 0x7f836c5ce450>,\n",
       " <textattack.attack_results.skipped_attack_result.SkippedAttackResult at 0x7f836811f250>,\n",
       " <textattack.attack_results.successful_attack_result.SuccessfulAttackResult at 0x7f8357a28e50>,\n",
       " <textattack.attack_results.successful_attack_result.SuccessfulAttackResult at 0x7f836d5f6810>,\n",
       " <textattack.attack_results.successful_attack_result.SuccessfulAttackResult at 0x7f8373a4a8d0>,\n",
       " <textattack.attack_results.failed_attack_result.FailedAttackResult at 0x7f831b31cf50>,\n",
       " <textattack.attack_results.successful_attack_result.SuccessfulAttackResult at 0x7f830248f150>,\n",
       " <textattack.attack_results.successful_attack_result.SuccessfulAttackResult at 0x7f8369a2a050>,\n",
       " <textattack.attack_results.successful_attack_result.SuccessfulAttackResult at 0x7f82f1120fd0>,\n",
       " <textattack.attack_results.successful_attack_result.SuccessfulAttackResult at 0x7f833113e4d0>,\n",
       " <textattack.attack_results.successful_attack_result.SuccessfulAttackResult at 0x7f835aded4d0>,\n",
       " <textattack.attack_results.successful_attack_result.SuccessfulAttackResult at 0x7f835708f8d0>,\n",
       " <textattack.attack_results.successful_attack_result.SuccessfulAttackResult at 0x7f835e2ff150>,\n",
       " <textattack.attack_results.failed_attack_result.FailedAttackResult at 0x7f8373715090>,\n",
       " <textattack.attack_results.successful_attack_result.SuccessfulAttackResult at 0x7f8373715810>,\n",
       " <textattack.attack_results.successful_attack_result.SuccessfulAttackResult at 0x7f8302c69650>,\n",
       " <textattack.attack_results.skipped_attack_result.SkippedAttackResult at 0x7f830248f510>,\n",
       " <textattack.attack_results.successful_attack_result.SuccessfulAttackResult at 0x7f835e4e8190>,\n",
       " <textattack.attack_results.successful_attack_result.SuccessfulAttackResult at 0x7f834f7eb150>,\n",
       " <textattack.attack_results.skipped_attack_result.SkippedAttackResult at 0x7f8355f78ed0>,\n",
       " <textattack.attack_results.successful_attack_result.SuccessfulAttackResult at 0x7f8350b6fe10>,\n",
       " <textattack.attack_results.successful_attack_result.SuccessfulAttackResult at 0x7f837b357190>,\n",
       " <textattack.attack_results.successful_attack_result.SuccessfulAttackResult at 0x7f83729e5ed0>,\n",
       " <textattack.attack_results.successful_attack_result.SuccessfulAttackResult at 0x7f835af29410>,\n",
       " <textattack.attack_results.successful_attack_result.SuccessfulAttackResult at 0x7f8357a5a890>,\n",
       " <textattack.attack_results.successful_attack_result.SuccessfulAttackResult at 0x7f83562ed8d0>,\n",
       " <textattack.attack_results.skipped_attack_result.SkippedAttackResult at 0x7f8369d98450>,\n",
       " <textattack.attack_results.successful_attack_result.SuccessfulAttackResult at 0x7f8358072dd0>,\n",
       " <textattack.attack_results.successful_attack_result.SuccessfulAttackResult at 0x7f8355003850>,\n",
       " <textattack.attack_results.successful_attack_result.SuccessfulAttackResult at 0x7f83729e5750>,\n",
       " <textattack.attack_results.skipped_attack_result.SkippedAttackResult at 0x7f83729e5710>,\n",
       " <textattack.attack_results.successful_attack_result.SuccessfulAttackResult at 0x7f8358955290>,\n",
       " <textattack.attack_results.successful_attack_result.SuccessfulAttackResult at 0x7f83739bddd0>]"
      ]
     },
     "metadata": {},
     "output_type": "display_data"
    }
   ],
   "source": [
    "#!g1.1\n",
    "%%time \n",
    "\n",
    "attack = textattack.attack_recipes.TextFoolerJin2019.build(model_wrapper)\n",
    "attack_args = textattack.AttackArgs(num_examples=100, log_to_csv=\"log_amzn_tf_idf.csv\", checkpoint_interval=20, checkpoint_dir=\"checkpoints\", disable_stdout=True)\n",
    "attacker = textattack.Attacker(attack, dataset, attack_args)\n",
    "\n",
    "attacker.attack_dataset()"
   ]
  },
  {
   "cell_type": "code",
   "execution_count": 406,
   "metadata": {
    "cellId": "egmo20u5qgdqml5bgzhaf"
   },
   "outputs": [
    {
     "data": {
      "application/vnd.jupyter.widget-view+json": {
       "model_id": "c41e5a0826964a72aec485e52ccd5ac7",
       "version_major": 2,
       "version_minor": 0
      },
      "text/plain": [
       "HBox(children=(FloatProgress(value=0.0, description='Downloading', max=570.0, style=ProgressStyle(description_…"
      ]
     },
     "metadata": {},
     "output_type": "display_data"
    },
    {
     "data": {
      "application/vnd.jupyter.widget-view+json": {
       "model_id": "0412fd868e234a23b5f29fd6614cd0fd",
       "version_major": 2,
       "version_minor": 0
      },
      "text/plain": [
       "HBox(children=(FloatProgress(value=0.0, description='Downloading', max=440473133.0, style=ProgressStyle(descri…"
      ]
     },
     "metadata": {},
     "output_type": "display_data"
    },
    {
     "data": {
      "application/vnd.jupyter.widget-view+json": {
       "model_id": "256e2f3815fb4dbb963c235b744ef979",
       "version_major": 2,
       "version_minor": 0
      },
      "text/plain": [
       "HBox(children=(FloatProgress(value=0.0, description='Downloading', max=28.0, style=ProgressStyle(description_w…"
      ]
     },
     "metadata": {},
     "output_type": "display_data"
    },
    {
     "data": {
      "application/vnd.jupyter.widget-view+json": {
       "model_id": "9a4848db9a7c4ecc92078ba654f580b7",
       "version_major": 2,
       "version_minor": 0
      },
      "text/plain": [
       "HBox(children=(FloatProgress(value=0.0, description='Downloading', max=231508.0, style=ProgressStyle(descripti…"
      ]
     },
     "metadata": {},
     "output_type": "display_data"
    },
    {
     "data": {
      "application/vnd.jupyter.widget-view+json": {
       "model_id": "d02ea59c04bb4222b365d95754dd4e58",
       "version_major": 2,
       "version_minor": 0
      },
      "text/plain": [
       "HBox(children=(FloatProgress(value=0.0, description='Downloading', max=466062.0, style=ProgressStyle(descripti…"
      ]
     },
     "metadata": {},
     "output_type": "display_data"
    },
    {
     "name": "stdout",
     "output_type": "stream",
     "text": [
      "\n",
      "\n",
      "\n",
      "\n",
      "\n",
      "Attack(\n",
      "  (search_method): GreedyWordSwapWIR(\n",
      "    (wir_method):  delete\n",
      "  )\n",
      "  (goal_function):  UntargetedClassification\n",
      "  (transformation):  WordSwapMaskedLM(\n",
      "    (method):  bae\n",
      "    (masked_lm_name):  BertForMaskedLM\n",
      "    (max_length):  512\n",
      "    (max_candidates):  50\n",
      "    (min_confidence):  0.0\n",
      "  )\n",
      "  (constraints): \n",
      "    (0): PartOfSpeech(\n",
      "        (tagger_type):  nltk\n",
      "        (tagset):  universal\n",
      "        (allow_verb_noun_swap):  True\n",
      "        (compare_against_original):  True\n",
      "      )\n",
      "    (1): UniversalSentenceEncoder(\n",
      "        (metric):  cosine\n",
      "        (threshold):  0.936338023\n",
      "        (window_size):  15\n",
      "        (skip_text_shorter_than_window):  True\n",
      "        (compare_against_original):  True\n",
      "      )\n",
      "    (2): RepeatModification\n",
      "    (3): StopwordModification\n",
      "  (is_black_box):  True\n",
      ") \n",
      "\n",
      "\n",
      "\n",
      "=============================================================================================================================\n",
      "=============================================================================================================================\n",
      "\n",
      "\n",
      "\n",
      "=============================================================================================================================\n",
      "=============================================================================================================================\n",
      "\n",
      "\n",
      "\n",
      "=============================================================================================================================\n",
      "=============================================================================================================================\n",
      "\n",
      "\n",
      "\n",
      "=============================================================================================================================\n",
      "=============================================================================================================================\n",
      "\n",
      "\n",
      "\n",
      "=============================================================================================================================\n",
      "=============================================================================================================================\n",
      "\n",
      "\n",
      "+-------------------------------+--------+\n",
      "| Attack Results                |        |\n",
      "+-------------------------------+--------+\n",
      "| Number of successful attacks: | 16     |\n",
      "| Number of failed attacks:     | 65     |\n",
      "| Number of skipped attacks:    | 19     |\n",
      "| Original accuracy:            | 81.0%  |\n",
      "| Accuracy under attack:        | 65.0%  |\n",
      "| Attack success rate:          | 19.75% |\n",
      "| Average perturbed word %:     | 8.49%  |\n",
      "| Average num. words per input: | 85.66  |\n",
      "| Avg num queries:              | 227.04 |\n",
      "+-------------------------------+--------+\n",
      "CPU times: user 13min 43s, sys: 1min 25s, total: 15min 8s\n",
      "Wall time: 14min 33s\n"
     ]
    },
    {
     "name": "stderr",
     "output_type": "stream",
     "text": [
      "Some weights of the model checkpoint at bert-base-uncased were not used when initializing BertForMaskedLM: ['cls.seq_relationship.bias', 'cls.seq_relationship.weight']\n",
      "- This IS expected if you are initializing BertForMaskedLM from the checkpoint of a model trained on another task or with another architecture (e.g. initializing a BertForSequenceClassification model from a BertForPreTraining model).\n",
      "- This IS NOT expected if you are initializing BertForMaskedLM from the checkpoint of a model that you expect to be exactly identical (initializing a BertForSequenceClassification model from a BertForSequenceClassification model).\n",
      "textattack: Unknown if model of class <class 'transformers.models.bert.modeling_bert.BertForSequenceClassification'> compatible with goal function <class 'textattack.goal_functions.classification.untargeted_classification.UntargetedClassification'>.\n",
      "textattack: Logging to CSV at path log_amzn_tf_idf_bae.csv\n",
      "[Succeeded / Failed / Skipped / Total] 4 / 11 / 5 / 20:  20%|██        | 20/100 [02:10<08:42,  6.53s/it]textattack: Saving checkpoint under \"checkpoints/1640671113404.ta.chkpt\" at 2021-12-28 05:58:33 after 20 attacks.\n",
      "[Succeeded / Failed / Skipped / Total] 4 / 28 / 8 / 40:  40%|████      | 40/100 [06:52<10:18, 10.31s/it]textattack: Saving checkpoint under \"checkpoints/1640671395417.ta.chkpt\" at 2021-12-28 06:03:15 after 40 attacks.\n",
      "[Succeeded / Failed / Skipped / Total] 8 / 40 / 12 / 60:  60%|██████    | 60/100 [08:50<05:53,  8.84s/it]textattack: Saving checkpoint under \"checkpoints/1640671513049.ta.chkpt\" at 2021-12-28 06:05:13 after 60 attacks.\n",
      "[Succeeded / Failed / Skipped / Total] 13 / 52 / 15 / 80:  80%|████████  | 80/100 [12:00<03:00,  9.01s/it]textattack: Saving checkpoint under \"checkpoints/1640671703572.ta.chkpt\" at 2021-12-28 06:08:23 after 80 attacks.\n",
      "[Succeeded / Failed / Skipped / Total] 16 / 65 / 19 / 100: 100%|██████████| 100/100 [14:12<00:00,  8.53s/it]textattack: Saving checkpoint under \"checkpoints/1640671835523.ta.chkpt\" at 2021-12-28 06:10:35 after 100 attacks.\n",
      "[Succeeded / Failed / Skipped / Total] 16 / 65 / 19 / 100: 100%|██████████| 100/100 [14:12<00:00,  8.53s/it]\n"
     ]
    },
    {
     "data": {
      "text/plain": [
       "[<textattack.attack_results.failed_attack_result.FailedAttackResult at 0x7f8354bc8510>,\n",
       " <textattack.attack_results.failed_attack_result.FailedAttackResult at 0x7f83594f6450>,\n",
       " <textattack.attack_results.skipped_attack_result.SkippedAttackResult at 0x7f8369537a50>,\n",
       " <textattack.attack_results.successful_attack_result.SuccessfulAttackResult at 0x7f833da69c50>,\n",
       " <textattack.attack_results.skipped_attack_result.SkippedAttackResult at 0x7f8355846310>,\n",
       " <textattack.attack_results.failed_attack_result.FailedAttackResult at 0x7f836eaf6e90>,\n",
       " <textattack.attack_results.failed_attack_result.FailedAttackResult at 0x7f848c051e90>,\n",
       " <textattack.attack_results.failed_attack_result.FailedAttackResult at 0x7f8365a1dcd0>,\n",
       " <textattack.attack_results.skipped_attack_result.SkippedAttackResult at 0x7f83567f9710>,\n",
       " <textattack.attack_results.failed_attack_result.FailedAttackResult at 0x7f82f332ecd0>,\n",
       " <textattack.attack_results.failed_attack_result.FailedAttackResult at 0x7f835567ee50>,\n",
       " <textattack.attack_results.skipped_attack_result.SkippedAttackResult at 0x7f83670e6f90>,\n",
       " <textattack.attack_results.failed_attack_result.FailedAttackResult at 0x7f82f26f1050>,\n",
       " <textattack.attack_results.skipped_attack_result.SkippedAttackResult at 0x7f8364c40c90>,\n",
       " <textattack.attack_results.failed_attack_result.FailedAttackResult at 0x7f836f36dd50>,\n",
       " <textattack.attack_results.failed_attack_result.FailedAttackResult at 0x7f836879d0d0>,\n",
       " <textattack.attack_results.successful_attack_result.SuccessfulAttackResult at 0x7f848e77dbd0>,\n",
       " <textattack.attack_results.successful_attack_result.SuccessfulAttackResult at 0x7f8373682ad0>,\n",
       " <textattack.attack_results.successful_attack_result.SuccessfulAttackResult at 0x7f8369af4990>,\n",
       " <textattack.attack_results.failed_attack_result.FailedAttackResult at 0x7f8365e0ed10>,\n",
       " <textattack.attack_results.failed_attack_result.FailedAttackResult at 0x7f8370a85750>,\n",
       " <textattack.attack_results.failed_attack_result.FailedAttackResult at 0x7f82fb0465d0>,\n",
       " <textattack.attack_results.failed_attack_result.FailedAttackResult at 0x7f83782c5b50>,\n",
       " <textattack.attack_results.failed_attack_result.FailedAttackResult at 0x7f835d849d10>,\n",
       " <textattack.attack_results.failed_attack_result.FailedAttackResult at 0x7f835b665050>,\n",
       " <textattack.attack_results.skipped_attack_result.SkippedAttackResult at 0x7f83027c4c90>,\n",
       " <textattack.attack_results.failed_attack_result.FailedAttackResult at 0x7f835a99bb50>,\n",
       " <textattack.attack_results.skipped_attack_result.SkippedAttackResult at 0x7f836f0bdb50>,\n",
       " <textattack.attack_results.failed_attack_result.FailedAttackResult at 0x7f836cc73390>,\n",
       " <textattack.attack_results.failed_attack_result.FailedAttackResult at 0x7f82f7781550>,\n",
       " <textattack.attack_results.failed_attack_result.FailedAttackResult at 0x7f848f32f910>,\n",
       " <textattack.attack_results.failed_attack_result.FailedAttackResult at 0x7f848d20a410>,\n",
       " <textattack.attack_results.failed_attack_result.FailedAttackResult at 0x7f836cb79750>,\n",
       " <textattack.attack_results.failed_attack_result.FailedAttackResult at 0x7f833db022d0>,\n",
       " <textattack.attack_results.failed_attack_result.FailedAttackResult at 0x7f8370df8e50>,\n",
       " <textattack.attack_results.failed_attack_result.FailedAttackResult at 0x7f837a12bad0>,\n",
       " <textattack.attack_results.failed_attack_result.FailedAttackResult at 0x7f83560048d0>,\n",
       " <textattack.attack_results.failed_attack_result.FailedAttackResult at 0x7f8317cece10>,\n",
       " <textattack.attack_results.failed_attack_result.FailedAttackResult at 0x7f8372161410>,\n",
       " <textattack.attack_results.skipped_attack_result.SkippedAttackResult at 0x7f834ffe86d0>,\n",
       " <textattack.attack_results.skipped_attack_result.SkippedAttackResult at 0x7f834edc3210>,\n",
       " <textattack.attack_results.successful_attack_result.SuccessfulAttackResult at 0x7f8356004910>,\n",
       " <textattack.attack_results.successful_attack_result.SuccessfulAttackResult at 0x7f836e3e8310>,\n",
       " <textattack.attack_results.skipped_attack_result.SkippedAttackResult at 0x7f836aca9110>,\n",
       " <textattack.attack_results.failed_attack_result.FailedAttackResult at 0x7f835bb53050>,\n",
       " <textattack.attack_results.failed_attack_result.FailedAttackResult at 0x7f82f5ed8310>,\n",
       " <textattack.attack_results.skipped_attack_result.SkippedAttackResult at 0x7f8357527d90>,\n",
       " <textattack.attack_results.successful_attack_result.SuccessfulAttackResult at 0x7f836e5d7a10>,\n",
       " <textattack.attack_results.failed_attack_result.FailedAttackResult at 0x7f8365f87fd0>,\n",
       " <textattack.attack_results.failed_attack_result.FailedAttackResult at 0x7f8357655e10>,\n",
       " <textattack.attack_results.failed_attack_result.FailedAttackResult at 0x7f835457e050>,\n",
       " <textattack.attack_results.failed_attack_result.FailedAttackResult at 0x7f83654bce10>,\n",
       " <textattack.attack_results.failed_attack_result.FailedAttackResult at 0x7f837aac4dd0>,\n",
       " <textattack.attack_results.successful_attack_result.SuccessfulAttackResult at 0x7f8369b94450>,\n",
       " <textattack.attack_results.skipped_attack_result.SkippedAttackResult at 0x7f8355659910>,\n",
       " <textattack.attack_results.failed_attack_result.FailedAttackResult at 0x7f835ea29ad0>,\n",
       " <textattack.attack_results.failed_attack_result.FailedAttackResult at 0x7f83793cf050>,\n",
       " <textattack.attack_results.failed_attack_result.FailedAttackResult at 0x7f836a434ad0>,\n",
       " <textattack.attack_results.failed_attack_result.FailedAttackResult at 0x7f8355667b50>,\n",
       " <textattack.attack_results.failed_attack_result.FailedAttackResult at 0x7f8368dae150>,\n",
       " <textattack.attack_results.failed_attack_result.FailedAttackResult at 0x7f8378037150>,\n",
       " <textattack.attack_results.skipped_attack_result.SkippedAttackResult at 0x7f83573ca7d0>,\n",
       " <textattack.attack_results.successful_attack_result.SuccessfulAttackResult at 0x7f8369180c50>,\n",
       " <textattack.attack_results.failed_attack_result.FailedAttackResult at 0x7f8367ce8990>,\n",
       " <textattack.attack_results.failed_attack_result.FailedAttackResult at 0x7f834ea0bb90>,\n",
       " <textattack.attack_results.skipped_attack_result.SkippedAttackResult at 0x7f82f1103d50>,\n",
       " <textattack.attack_results.successful_attack_result.SuccessfulAttackResult at 0x7f836b514050>,\n",
       " <textattack.attack_results.successful_attack_result.SuccessfulAttackResult at 0x7f82f1103f90>,\n",
       " <textattack.attack_results.skipped_attack_result.SkippedAttackResult at 0x7f82f11032d0>,\n",
       " <textattack.attack_results.failed_attack_result.FailedAttackResult at 0x7f836d13ea90>,\n",
       " <textattack.attack_results.failed_attack_result.FailedAttackResult at 0x7f83729798d0>,\n",
       " <textattack.attack_results.failed_attack_result.FailedAttackResult at 0x7f8358c66ed0>,\n",
       " <textattack.attack_results.failed_attack_result.FailedAttackResult at 0x7f833025bfd0>,\n",
       " <textattack.attack_results.failed_attack_result.FailedAttackResult at 0x7f8357a56fd0>,\n",
       " <textattack.attack_results.failed_attack_result.FailedAttackResult at 0x7f8367f15990>,\n",
       " <textattack.attack_results.failed_attack_result.FailedAttackResult at 0x7f8370962050>,\n",
       " <textattack.attack_results.failed_attack_result.FailedAttackResult at 0x7f836c057bd0>,\n",
       " <textattack.attack_results.failed_attack_result.FailedAttackResult at 0x7f83552e7550>,\n",
       " <textattack.attack_results.successful_attack_result.SuccessfulAttackResult at 0x7f836d404350>,\n",
       " <textattack.attack_results.successful_attack_result.SuccessfulAttackResult at 0x7f836e0428d0>,\n",
       " <textattack.attack_results.failed_attack_result.FailedAttackResult at 0x7f8379018650>,\n",
       " <textattack.attack_results.failed_attack_result.FailedAttackResult at 0x7f83575276d0>,\n",
       " <textattack.attack_results.failed_attack_result.FailedAttackResult at 0x7f83577305d0>,\n",
       " <textattack.attack_results.skipped_attack_result.SkippedAttackResult at 0x7f8357730d90>,\n",
       " <textattack.attack_results.failed_attack_result.FailedAttackResult at 0x7f8364c40450>,\n",
       " <textattack.attack_results.failed_attack_result.FailedAttackResult at 0x7f8358feed10>,\n",
       " <textattack.attack_results.skipped_attack_result.SkippedAttackResult at 0x7f8358feee90>,\n",
       " <textattack.attack_results.successful_attack_result.SuccessfulAttackResult at 0x7f83651a8450>,\n",
       " <textattack.attack_results.failed_attack_result.FailedAttackResult at 0x7f835da7d8d0>,\n",
       " <textattack.attack_results.failed_attack_result.FailedAttackResult at 0x7f8370c69510>,\n",
       " <textattack.attack_results.successful_attack_result.SuccessfulAttackResult at 0x7f83705ff2d0>,\n",
       " <textattack.attack_results.failed_attack_result.FailedAttackResult at 0x7f8369af4390>,\n",
       " <textattack.attack_results.failed_attack_result.FailedAttackResult at 0x7f8359598050>,\n",
       " <textattack.attack_results.skipped_attack_result.SkippedAttackResult at 0x7f836dadb350>,\n",
       " <textattack.attack_results.failed_attack_result.FailedAttackResult at 0x7f835a84cfd0>,\n",
       " <textattack.attack_results.failed_attack_result.FailedAttackResult at 0x7f837a12bb90>,\n",
       " <textattack.attack_results.failed_attack_result.FailedAttackResult at 0x7f8370f1ad50>,\n",
       " <textattack.attack_results.skipped_attack_result.SkippedAttackResult at 0x7f835b2ed350>,\n",
       " <textattack.attack_results.successful_attack_result.SuccessfulAttackResult at 0x7f836cdc3990>,\n",
       " <textattack.attack_results.failed_attack_result.FailedAttackResult at 0x7f837aab1650>]"
      ]
     },
     "metadata": {},
     "output_type": "display_data"
    }
   ],
   "source": [
    "#!g1.1\n",
    "%%time \n",
    "\n",
    "attack = textattack.attack_recipes.BAEGarg2019.build(model_wrapper)\n",
    "attack_args = textattack.AttackArgs(num_examples=100, log_to_csv=\"log_amzn_tf_idf_bae.csv\", checkpoint_interval=20, checkpoint_dir=\"checkpoints\", disable_stdout=True)\n",
    "attacker = textattack.Attacker(attack, dataset, attack_args)\n",
    "\n",
    "attacker.attack_dataset()"
   ]
  },
  {
   "cell_type": "code",
   "execution_count": null,
   "metadata": {
    "cellId": "ugglagpiisf7e4qa1fsez5"
   },
   "outputs": [],
   "source": [
    "#!g1.1\n"
   ]
  }
 ],
 "metadata": {
  "accelerator": "GPU",
  "colab": {
   "collapsed_sections": [],
   "name": "BERT Fine-Tuning Sentence Classification v4.ipynb",
   "provenance": [],
   "toc_visible": true
  },
  "kernelspec": {
   "display_name": "Yandex DataSphere Kernel",
   "language": "python",
   "name": "python3"
  },
  "language_info": {
   "codemirror_mode": {
    "name": "ipython",
    "version": 3
   },
   "file_extension": ".py",
   "mimetype": "text/x-python",
   "name": "python",
   "nbconvert_exporter": "python",
   "pygments_lexer": "ipython3",
   "version": "3.7.7"
  },
  "notebookId": "58fc2266-af5f-4ac3-91de-b95feaf01c3c",
  "notebookPath": "text_attacks/notebooks/BERT_Amazon.ipynb",
  "widgets": {
   "application/vnd.jupyter.widget-state+json": {
    "0fe5b1d0540240a8a8426352c24b2887": {
     "model_module": "@jupyter-widgets/base",
     "model_module_version": "1.2.0",
     "model_name": "LayoutModel",
     "state": {
      "_model_module": "@jupyter-widgets/base",
      "_model_module_version": "1.2.0",
      "_model_name": "LayoutModel",
      "_view_count": null,
      "_view_module": "@jupyter-widgets/base",
      "_view_module_version": "1.2.0",
      "_view_name": "LayoutView",
      "align_content": null,
      "align_items": null,
      "align_self": null,
      "border": null,
      "bottom": null,
      "display": null,
      "flex": null,
      "flex_flow": null,
      "grid_area": null,
      "grid_auto_columns": null,
      "grid_auto_flow": null,
      "grid_auto_rows": null,
      "grid_column": null,
      "grid_gap": null,
      "grid_row": null,
      "grid_template_areas": null,
      "grid_template_columns": null,
      "grid_template_rows": null,
      "height": null,
      "justify_content": null,
      "justify_items": null,
      "left": null,
      "margin": null,
      "max_height": null,
      "max_width": null,
      "min_height": null,
      "min_width": null,
      "object_fit": null,
      "object_position": null,
      "order": null,
      "overflow": null,
      "overflow_x": null,
      "overflow_y": null,
      "padding": null,
      "right": null,
      "top": null,
      "visibility": null,
      "width": null
     }
    },
    "1058e0b5baa248faa60c1ad146d10bf7": {
     "model_module": "@jupyter-widgets/base",
     "model_module_version": "1.2.0",
     "model_name": "LayoutModel",
     "state": {
      "_model_module": "@jupyter-widgets/base",
      "_model_module_version": "1.2.0",
      "_model_name": "LayoutModel",
      "_view_count": null,
      "_view_module": "@jupyter-widgets/base",
      "_view_module_version": "1.2.0",
      "_view_name": "LayoutView",
      "align_content": null,
      "align_items": null,
      "align_self": null,
      "border": null,
      "bottom": null,
      "display": null,
      "flex": null,
      "flex_flow": null,
      "grid_area": null,
      "grid_auto_columns": null,
      "grid_auto_flow": null,
      "grid_auto_rows": null,
      "grid_column": null,
      "grid_gap": null,
      "grid_row": null,
      "grid_template_areas": null,
      "grid_template_columns": null,
      "grid_template_rows": null,
      "height": null,
      "justify_content": null,
      "justify_items": null,
      "left": null,
      "margin": null,
      "max_height": null,
      "max_width": null,
      "min_height": null,
      "min_width": null,
      "object_fit": null,
      "object_position": null,
      "order": null,
      "overflow": null,
      "overflow_x": null,
      "overflow_y": null,
      "padding": null,
      "right": null,
      "top": null,
      "visibility": null,
      "width": null
     }
    },
    "1296a3d754b344a482a03e5af84e805e": {
     "model_module": "@jupyter-widgets/controls",
     "model_module_version": "1.5.0",
     "model_name": "FloatProgressModel",
     "state": {
      "_dom_classes": [],
      "_model_module": "@jupyter-widgets/controls",
      "_model_module_version": "1.5.0",
      "_model_name": "FloatProgressModel",
      "_view_count": null,
      "_view_module": "@jupyter-widgets/controls",
      "_view_module_version": "1.5.0",
      "_view_name": "ProgressView",
      "bar_style": "success",
      "description": "Downloading: 100%",
      "description_tooltip": null,
      "layout": "IPY_MODEL_f8874fec8a404ae89a38fd2ecbb357cf",
      "max": 433,
      "min": 0,
      "orientation": "horizontal",
      "style": "IPY_MODEL_2755b9838bae408ca8cf667ad9d501fc",
      "value": 433
     }
    },
    "1c2b0ede959142fc89bf07a9c88df638": {
     "model_module": "@jupyter-widgets/base",
     "model_module_version": "1.2.0",
     "model_name": "LayoutModel",
     "state": {
      "_model_module": "@jupyter-widgets/base",
      "_model_module_version": "1.2.0",
      "_model_name": "LayoutModel",
      "_view_count": null,
      "_view_module": "@jupyter-widgets/base",
      "_view_module_version": "1.2.0",
      "_view_name": "LayoutView",
      "align_content": null,
      "align_items": null,
      "align_self": null,
      "border": null,
      "bottom": null,
      "display": null,
      "flex": null,
      "flex_flow": null,
      "grid_area": null,
      "grid_auto_columns": null,
      "grid_auto_flow": null,
      "grid_auto_rows": null,
      "grid_column": null,
      "grid_gap": null,
      "grid_row": null,
      "grid_template_areas": null,
      "grid_template_columns": null,
      "grid_template_rows": null,
      "height": null,
      "justify_content": null,
      "justify_items": null,
      "left": null,
      "margin": null,
      "max_height": null,
      "max_width": null,
      "min_height": null,
      "min_width": null,
      "object_fit": null,
      "object_position": null,
      "order": null,
      "overflow": null,
      "overflow_x": null,
      "overflow_y": null,
      "padding": null,
      "right": null,
      "top": null,
      "visibility": null,
      "width": null
     }
    },
    "23ca9359e6c44232a1346e6f2ab7e48c": {
     "model_module": "@jupyter-widgets/controls",
     "model_module_version": "1.5.0",
     "model_name": "FloatProgressModel",
     "state": {
      "_dom_classes": [],
      "_model_module": "@jupyter-widgets/controls",
      "_model_module_version": "1.5.0",
      "_model_name": "FloatProgressModel",
      "_view_count": null,
      "_view_module": "@jupyter-widgets/controls",
      "_view_module_version": "1.5.0",
      "_view_name": "ProgressView",
      "bar_style": "success",
      "description": "Downloading: 100%",
      "description_tooltip": null,
      "layout": "IPY_MODEL_0fe5b1d0540240a8a8426352c24b2887",
      "max": 440473133,
      "min": 0,
      "orientation": "horizontal",
      "style": "IPY_MODEL_6c7dec7b1e804c2195f6e60fb3c1d18e",
      "value": 440473133
     }
    },
    "2755b9838bae408ca8cf667ad9d501fc": {
     "model_module": "@jupyter-widgets/controls",
     "model_module_version": "1.5.0",
     "model_name": "ProgressStyleModel",
     "state": {
      "_model_module": "@jupyter-widgets/controls",
      "_model_module_version": "1.5.0",
      "_model_name": "ProgressStyleModel",
      "_view_count": null,
      "_view_module": "@jupyter-widgets/base",
      "_view_module_version": "1.2.0",
      "_view_name": "StyleView",
      "bar_color": null,
      "description_width": "initial"
     }
    },
    "375cc635389c4ddb9bf2aa443df58bae": {
     "model_module": "@jupyter-widgets/controls",
     "model_module_version": "1.5.0",
     "model_name": "DescriptionStyleModel",
     "state": {
      "_model_module": "@jupyter-widgets/controls",
      "_model_module_version": "1.5.0",
      "_model_name": "DescriptionStyleModel",
      "_view_count": null,
      "_view_module": "@jupyter-widgets/base",
      "_view_module_version": "1.2.0",
      "_view_name": "StyleView",
      "description_width": ""
     }
    },
    "440da34c72344cb08e4a1ee5de7049ee": {
     "model_module": "@jupyter-widgets/base",
     "model_module_version": "1.2.0",
     "model_name": "LayoutModel",
     "state": {
      "_model_module": "@jupyter-widgets/base",
      "_model_module_version": "1.2.0",
      "_model_name": "LayoutModel",
      "_view_count": null,
      "_view_module": "@jupyter-widgets/base",
      "_view_module_version": "1.2.0",
      "_view_name": "LayoutView",
      "align_content": null,
      "align_items": null,
      "align_self": null,
      "border": null,
      "bottom": null,
      "display": null,
      "flex": null,
      "flex_flow": null,
      "grid_area": null,
      "grid_auto_columns": null,
      "grid_auto_flow": null,
      "grid_auto_rows": null,
      "grid_column": null,
      "grid_gap": null,
      "grid_row": null,
      "grid_template_areas": null,
      "grid_template_columns": null,
      "grid_template_rows": null,
      "height": null,
      "justify_content": null,
      "justify_items": null,
      "left": null,
      "margin": null,
      "max_height": null,
      "max_width": null,
      "min_height": null,
      "min_width": null,
      "object_fit": null,
      "object_position": null,
      "order": null,
      "overflow": null,
      "overflow_x": null,
      "overflow_y": null,
      "padding": null,
      "right": null,
      "top": null,
      "visibility": null,
      "width": null
     }
    },
    "472198d5b6a748b3a81f9364fd1fa711": {
     "model_module": "@jupyter-widgets/base",
     "model_module_version": "1.2.0",
     "model_name": "LayoutModel",
     "state": {
      "_model_module": "@jupyter-widgets/base",
      "_model_module_version": "1.2.0",
      "_model_name": "LayoutModel",
      "_view_count": null,
      "_view_module": "@jupyter-widgets/base",
      "_view_module_version": "1.2.0",
      "_view_name": "LayoutView",
      "align_content": null,
      "align_items": null,
      "align_self": null,
      "border": null,
      "bottom": null,
      "display": null,
      "flex": null,
      "flex_flow": null,
      "grid_area": null,
      "grid_auto_columns": null,
      "grid_auto_flow": null,
      "grid_auto_rows": null,
      "grid_column": null,
      "grid_gap": null,
      "grid_row": null,
      "grid_template_areas": null,
      "grid_template_columns": null,
      "grid_template_rows": null,
      "height": null,
      "justify_content": null,
      "justify_items": null,
      "left": null,
      "margin": null,
      "max_height": null,
      "max_width": null,
      "min_height": null,
      "min_width": null,
      "object_fit": null,
      "object_position": null,
      "order": null,
      "overflow": null,
      "overflow_x": null,
      "overflow_y": null,
      "padding": null,
      "right": null,
      "top": null,
      "visibility": null,
      "width": null
     }
    },
    "4b1e27aff6f04fec8268d951e46b1e63": {
     "model_module": "@jupyter-widgets/controls",
     "model_module_version": "1.5.0",
     "model_name": "DescriptionStyleModel",
     "state": {
      "_model_module": "@jupyter-widgets/controls",
      "_model_module_version": "1.5.0",
      "_model_name": "DescriptionStyleModel",
      "_view_count": null,
      "_view_module": "@jupyter-widgets/base",
      "_view_module_version": "1.2.0",
      "_view_name": "StyleView",
      "description_width": ""
     }
    },
    "6c7dec7b1e804c2195f6e60fb3c1d18e": {
     "model_module": "@jupyter-widgets/controls",
     "model_module_version": "1.5.0",
     "model_name": "ProgressStyleModel",
     "state": {
      "_model_module": "@jupyter-widgets/controls",
      "_model_module_version": "1.5.0",
      "_model_name": "ProgressStyleModel",
      "_view_count": null,
      "_view_module": "@jupyter-widgets/base",
      "_view_module_version": "1.2.0",
      "_view_name": "StyleView",
      "bar_color": null,
      "description_width": "initial"
     }
    },
    "6f132d7bb83d41b6847df0d0ec0a1b92": {
     "model_module": "@jupyter-widgets/controls",
     "model_module_version": "1.5.0",
     "model_name": "HTMLModel",
     "state": {
      "_dom_classes": [],
      "_model_module": "@jupyter-widgets/controls",
      "_model_module_version": "1.5.0",
      "_model_name": "HTMLModel",
      "_view_count": null,
      "_view_module": "@jupyter-widgets/controls",
      "_view_module_version": "1.5.0",
      "_view_name": "HTMLView",
      "description": "",
      "description_tooltip": null,
      "layout": "IPY_MODEL_978c24b18b594eaf8ca47730a88eefb9",
      "placeholder": "​",
      "style": "IPY_MODEL_a7bdbedc75de4f77b45f1389c2ea0abc",
      "value": " 433/433 [00:00&lt;00:00, 2.02kB/s]"
     }
    },
    "82ddfcea0e4c4e5a86cf6eca8585be8d": {
     "model_module": "@jupyter-widgets/controls",
     "model_module_version": "1.5.0",
     "model_name": "HBoxModel",
     "state": {
      "_dom_classes": [],
      "_model_module": "@jupyter-widgets/controls",
      "_model_module_version": "1.5.0",
      "_model_name": "HBoxModel",
      "_view_count": null,
      "_view_module": "@jupyter-widgets/controls",
      "_view_module_version": "1.5.0",
      "_view_name": "HBoxView",
      "box_style": "",
      "children": [
       "IPY_MODEL_8c76faadf2f4415393c6f0a805f0d72b",
       "IPY_MODEL_e0bb735fda99434a90380e7fc664212d"
      ],
      "layout": "IPY_MODEL_8a256ba4a19e4ec98fe3c3c99fba4daa"
     }
    },
    "8a256ba4a19e4ec98fe3c3c99fba4daa": {
     "model_module": "@jupyter-widgets/base",
     "model_module_version": "1.2.0",
     "model_name": "LayoutModel",
     "state": {
      "_model_module": "@jupyter-widgets/base",
      "_model_module_version": "1.2.0",
      "_model_name": "LayoutModel",
      "_view_count": null,
      "_view_module": "@jupyter-widgets/base",
      "_view_module_version": "1.2.0",
      "_view_name": "LayoutView",
      "align_content": null,
      "align_items": null,
      "align_self": null,
      "border": null,
      "bottom": null,
      "display": null,
      "flex": null,
      "flex_flow": null,
      "grid_area": null,
      "grid_auto_columns": null,
      "grid_auto_flow": null,
      "grid_auto_rows": null,
      "grid_column": null,
      "grid_gap": null,
      "grid_row": null,
      "grid_template_areas": null,
      "grid_template_columns": null,
      "grid_template_rows": null,
      "height": null,
      "justify_content": null,
      "justify_items": null,
      "left": null,
      "margin": null,
      "max_height": null,
      "max_width": null,
      "min_height": null,
      "min_width": null,
      "object_fit": null,
      "object_position": null,
      "order": null,
      "overflow": null,
      "overflow_x": null,
      "overflow_y": null,
      "padding": null,
      "right": null,
      "top": null,
      "visibility": null,
      "width": null
     }
    },
    "8c76faadf2f4415393c6f0a805f0d72b": {
     "model_module": "@jupyter-widgets/controls",
     "model_module_version": "1.5.0",
     "model_name": "FloatProgressModel",
     "state": {
      "_dom_classes": [],
      "_model_module": "@jupyter-widgets/controls",
      "_model_module_version": "1.5.0",
      "_model_name": "FloatProgressModel",
      "_view_count": null,
      "_view_module": "@jupyter-widgets/controls",
      "_view_module_version": "1.5.0",
      "_view_name": "ProgressView",
      "bar_style": "success",
      "description": "Downloading: 100%",
      "description_tooltip": null,
      "layout": "IPY_MODEL_1058e0b5baa248faa60c1ad146d10bf7",
      "max": 231508,
      "min": 0,
      "orientation": "horizontal",
      "style": "IPY_MODEL_cdb78e75309f4bc09366533331e72431",
      "value": 231508
     }
    },
    "978c24b18b594eaf8ca47730a88eefb9": {
     "model_module": "@jupyter-widgets/base",
     "model_module_version": "1.2.0",
     "model_name": "LayoutModel",
     "state": {
      "_model_module": "@jupyter-widgets/base",
      "_model_module_version": "1.2.0",
      "_model_name": "LayoutModel",
      "_view_count": null,
      "_view_module": "@jupyter-widgets/base",
      "_view_module_version": "1.2.0",
      "_view_name": "LayoutView",
      "align_content": null,
      "align_items": null,
      "align_self": null,
      "border": null,
      "bottom": null,
      "display": null,
      "flex": null,
      "flex_flow": null,
      "grid_area": null,
      "grid_auto_columns": null,
      "grid_auto_flow": null,
      "grid_auto_rows": null,
      "grid_column": null,
      "grid_gap": null,
      "grid_row": null,
      "grid_template_areas": null,
      "grid_template_columns": null,
      "grid_template_rows": null,
      "height": null,
      "justify_content": null,
      "justify_items": null,
      "left": null,
      "margin": null,
      "max_height": null,
      "max_width": null,
      "min_height": null,
      "min_width": null,
      "object_fit": null,
      "object_position": null,
      "order": null,
      "overflow": null,
      "overflow_x": null,
      "overflow_y": null,
      "padding": null,
      "right": null,
      "top": null,
      "visibility": null,
      "width": null
     }
    },
    "a7bdbedc75de4f77b45f1389c2ea0abc": {
     "model_module": "@jupyter-widgets/controls",
     "model_module_version": "1.5.0",
     "model_name": "DescriptionStyleModel",
     "state": {
      "_model_module": "@jupyter-widgets/controls",
      "_model_module_version": "1.5.0",
      "_model_name": "DescriptionStyleModel",
      "_view_count": null,
      "_view_module": "@jupyter-widgets/base",
      "_view_module_version": "1.2.0",
      "_view_name": "StyleView",
      "description_width": ""
     }
    },
    "bf9dfa1ff3e642fbb74c5146d21044c2": {
     "model_module": "@jupyter-widgets/controls",
     "model_module_version": "1.5.0",
     "model_name": "HBoxModel",
     "state": {
      "_dom_classes": [],
      "_model_module": "@jupyter-widgets/controls",
      "_model_module_version": "1.5.0",
      "_model_name": "HBoxModel",
      "_view_count": null,
      "_view_module": "@jupyter-widgets/controls",
      "_view_module_version": "1.5.0",
      "_view_name": "HBoxView",
      "box_style": "",
      "children": [
       "IPY_MODEL_1296a3d754b344a482a03e5af84e805e",
       "IPY_MODEL_6f132d7bb83d41b6847df0d0ec0a1b92"
      ],
      "layout": "IPY_MODEL_1c2b0ede959142fc89bf07a9c88df638"
     }
    },
    "cdb78e75309f4bc09366533331e72431": {
     "model_module": "@jupyter-widgets/controls",
     "model_module_version": "1.5.0",
     "model_name": "ProgressStyleModel",
     "state": {
      "_model_module": "@jupyter-widgets/controls",
      "_model_module_version": "1.5.0",
      "_model_name": "ProgressStyleModel",
      "_view_count": null,
      "_view_module": "@jupyter-widgets/base",
      "_view_module_version": "1.2.0",
      "_view_name": "StyleView",
      "bar_color": null,
      "description_width": "initial"
     }
    },
    "cea84f9c3db641acb98314028b305514": {
     "model_module": "@jupyter-widgets/base",
     "model_module_version": "1.2.0",
     "model_name": "LayoutModel",
     "state": {
      "_model_module": "@jupyter-widgets/base",
      "_model_module_version": "1.2.0",
      "_model_name": "LayoutModel",
      "_view_count": null,
      "_view_module": "@jupyter-widgets/base",
      "_view_module_version": "1.2.0",
      "_view_name": "LayoutView",
      "align_content": null,
      "align_items": null,
      "align_self": null,
      "border": null,
      "bottom": null,
      "display": null,
      "flex": null,
      "flex_flow": null,
      "grid_area": null,
      "grid_auto_columns": null,
      "grid_auto_flow": null,
      "grid_auto_rows": null,
      "grid_column": null,
      "grid_gap": null,
      "grid_row": null,
      "grid_template_areas": null,
      "grid_template_columns": null,
      "grid_template_rows": null,
      "height": null,
      "justify_content": null,
      "justify_items": null,
      "left": null,
      "margin": null,
      "max_height": null,
      "max_width": null,
      "min_height": null,
      "min_width": null,
      "object_fit": null,
      "object_position": null,
      "order": null,
      "overflow": null,
      "overflow_x": null,
      "overflow_y": null,
      "padding": null,
      "right": null,
      "top": null,
      "visibility": null,
      "width": null
     }
    },
    "d689bc8d488a4dc09c393b4fc9747bcb": {
     "model_module": "@jupyter-widgets/controls",
     "model_module_version": "1.5.0",
     "model_name": "HTMLModel",
     "state": {
      "_dom_classes": [],
      "_model_module": "@jupyter-widgets/controls",
      "_model_module_version": "1.5.0",
      "_model_name": "HTMLModel",
      "_view_count": null,
      "_view_module": "@jupyter-widgets/controls",
      "_view_module_version": "1.5.0",
      "_view_name": "HTMLView",
      "description": "",
      "description_tooltip": null,
      "layout": "IPY_MODEL_440da34c72344cb08e4a1ee5de7049ee",
      "placeholder": "​",
      "style": "IPY_MODEL_4b1e27aff6f04fec8268d951e46b1e63",
      "value": " 440M/440M [00:07&lt;00:00, 55.5MB/s]"
     }
    },
    "e0bb735fda99434a90380e7fc664212d": {
     "model_module": "@jupyter-widgets/controls",
     "model_module_version": "1.5.0",
     "model_name": "HTMLModel",
     "state": {
      "_dom_classes": [],
      "_model_module": "@jupyter-widgets/controls",
      "_model_module_version": "1.5.0",
      "_model_name": "HTMLModel",
      "_view_count": null,
      "_view_module": "@jupyter-widgets/controls",
      "_view_module_version": "1.5.0",
      "_view_name": "HTMLView",
      "description": "",
      "description_tooltip": null,
      "layout": "IPY_MODEL_472198d5b6a748b3a81f9364fd1fa711",
      "placeholder": "​",
      "style": "IPY_MODEL_375cc635389c4ddb9bf2aa443df58bae",
      "value": " 232k/232k [00:00&lt;00:00, 616kB/s]"
     }
    },
    "f8874fec8a404ae89a38fd2ecbb357cf": {
     "model_module": "@jupyter-widgets/base",
     "model_module_version": "1.2.0",
     "model_name": "LayoutModel",
     "state": {
      "_model_module": "@jupyter-widgets/base",
      "_model_module_version": "1.2.0",
      "_model_name": "LayoutModel",
      "_view_count": null,
      "_view_module": "@jupyter-widgets/base",
      "_view_module_version": "1.2.0",
      "_view_name": "LayoutView",
      "align_content": null,
      "align_items": null,
      "align_self": null,
      "border": null,
      "bottom": null,
      "display": null,
      "flex": null,
      "flex_flow": null,
      "grid_area": null,
      "grid_auto_columns": null,
      "grid_auto_flow": null,
      "grid_auto_rows": null,
      "grid_column": null,
      "grid_gap": null,
      "grid_row": null,
      "grid_template_areas": null,
      "grid_template_columns": null,
      "grid_template_rows": null,
      "height": null,
      "justify_content": null,
      "justify_items": null,
      "left": null,
      "margin": null,
      "max_height": null,
      "max_width": null,
      "min_height": null,
      "min_width": null,
      "object_fit": null,
      "object_position": null,
      "order": null,
      "overflow": null,
      "overflow_x": null,
      "overflow_y": null,
      "padding": null,
      "right": null,
      "top": null,
      "visibility": null,
      "width": null
     }
    },
    "fe254c3bcc08402eb506f0e98f5673a7": {
     "model_module": "@jupyter-widgets/controls",
     "model_module_version": "1.5.0",
     "model_name": "HBoxModel",
     "state": {
      "_dom_classes": [],
      "_model_module": "@jupyter-widgets/controls",
      "_model_module_version": "1.5.0",
      "_model_name": "HBoxModel",
      "_view_count": null,
      "_view_module": "@jupyter-widgets/controls",
      "_view_module_version": "1.5.0",
      "_view_name": "HBoxView",
      "box_style": "",
      "children": [
       "IPY_MODEL_23ca9359e6c44232a1346e6f2ab7e48c",
       "IPY_MODEL_d689bc8d488a4dc09c393b4fc9747bcb"
      ],
      "layout": "IPY_MODEL_cea84f9c3db641acb98314028b305514"
     }
    }
   }
  }
 },
 "nbformat": 4,
 "nbformat_minor": 4
}
