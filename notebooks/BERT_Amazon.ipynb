{
 "cells": [
  {
   "cell_type": "code",
   "execution_count": 313,
   "metadata": {
    "cellId": "doniog759xdytabcsdf8fj"
   },
   "outputs": [
    {
     "data": {
      "text/plain": [
       "2"
      ]
     },
     "metadata": {},
     "output_type": "display_data"
    }
   ],
   "source": [
    "#!g1.1\n",
    "1+1"
   ]
  },
  {
   "cell_type": "code",
   "execution_count": 4,
   "metadata": {
    "cellId": "qrckypn014xiywkv4al6",
    "colab": {
     "base_uri": "https://localhost:8080/"
    },
    "id": "oYsV4H8fCpZ-",
    "outputId": "2e60467d-6a6b-4898-e2f4-f42884cc6092"
   },
   "outputs": [
    {
     "name": "stdout",
     "output_type": "stream",
     "text": [
      "There are 1 GPU(s) available.\n",
      "We will use the GPU: Tesla V100-SXM2-32GB\n"
     ]
    }
   ],
   "source": [
    "#!g1.1\n",
    "import torch\n",
    "\n",
    "# If there's a GPU available...\n",
    "if torch.cuda.is_available():    \n",
    "\n",
    "    # Tell PyTorch to use the GPU.    \n",
    "    device = torch.device(\"cuda\")\n",
    "\n",
    "    print('There are %d GPU(s) available.' % torch.cuda.device_count())\n",
    "\n",
    "    print('We will use the GPU:', torch.cuda.get_device_name(0))\n",
    "\n",
    "# If not...\n",
    "else:\n",
    "    print('No GPU available, using the CPU instead.')\n",
    "    device = torch.device(\"cpu\")"
   ]
  },
  {
   "cell_type": "markdown",
   "metadata": {
    "cellId": "x6qbstw9pgas2lqs5np1fh"
   },
   "source": [
    "## Dataset"
   ]
  },
  {
   "cell_type": "markdown",
   "metadata": {
    "cellId": "wxcm6vmcjqsnipymls1jl9"
   },
   "source": [
    "we will use Amazon product reviews dataset"
   ]
  },
  {
   "cell_type": "code",
   "execution_count": 5,
   "metadata": {
    "cellId": "uviill0hfmigz8o1b9gu"
   },
   "outputs": [],
   "source": [
    "#!g1.1\n",
    "\n",
    "#lets load data\n",
    "# to reproduce, download the data and customize this path\n",
    "PATH_TO_DATA = '../data/'"
   ]
  },
  {
   "cell_type": "code",
   "execution_count": 6,
   "metadata": {
    "cellId": "fksspqp907t496byc7kpl9"
   },
   "outputs": [],
   "source": [
    "#!g1.1\n",
    "\n",
    "import pandas as pd\n",
    "\n",
    "train_df = pd.read_csv(PATH_TO_DATA + 'train.csv', index_col='id').fillna('')  # обучающий датас\n",
    "valid_df = pd.read_csv(PATH_TO_DATA + 'valid.csv', index_col='id').fillna('')  # валидационный с таргетом\n",
    "test_df = pd.read_csv(PATH_TO_DATA + 'test.csv', index_col='id').fillna('')  # тестовый для каггла"
   ]
  },
  {
   "cell_type": "code",
   "execution_count": 7,
   "metadata": {
    "cellId": "xxbpdsycfgphxhamz1a3t9"
   },
   "outputs": [
    {
     "data": {
      "text/plain": [
       "((52057, 2), (17353, 2), (17353, 1))"
      ]
     },
     "metadata": {},
     "output_type": "display_data"
    }
   ],
   "source": [
    "#!g1.1\n",
    "train_df.shape, valid_df.shape, test_df.shape"
   ]
  },
  {
   "cell_type": "code",
   "execution_count": 8,
   "metadata": {
    "cellId": "sla5mmhslxov0mcfqiaknd"
   },
   "outputs": [
    {
     "data": {
      "text/html": [
       "<div>\n",
       "<style scoped>\n",
       "    .dataframe tbody tr th:only-of-type {\n",
       "        vertical-align: middle;\n",
       "    }\n",
       "\n",
       "    .dataframe tbody tr th {\n",
       "        vertical-align: top;\n",
       "    }\n",
       "\n",
       "    .dataframe thead th {\n",
       "        text-align: right;\n",
       "    }\n",
       "</style>\n",
       "<table border=\"1\" class=\"dataframe\">\n",
       "  <thead>\n",
       "    <tr style=\"text-align: right;\">\n",
       "      <th></th>\n",
       "      <th>text</th>\n",
       "      <th>label</th>\n",
       "    </tr>\n",
       "    <tr>\n",
       "      <th>id</th>\n",
       "      <th></th>\n",
       "      <th></th>\n",
       "    </tr>\n",
       "  </thead>\n",
       "  <tbody>\n",
       "    <tr>\n",
       "      <th>0</th>\n",
       "      <td>Sam has an everlast treat each nite before bed...</td>\n",
       "      <td>dogs</td>\n",
       "    </tr>\n",
       "    <tr>\n",
       "      <th>1</th>\n",
       "      <td>The product is as it says. I keep an eye on it...</td>\n",
       "      <td>dogs</td>\n",
       "    </tr>\n",
       "    <tr>\n",
       "      <th>2</th>\n",
       "      <td>My Kitty thinks these are treats! He loves the...</td>\n",
       "      <td>dogs</td>\n",
       "    </tr>\n",
       "    <tr>\n",
       "      <th>3</th>\n",
       "      <td>This is the third or fourth time that we've or...</td>\n",
       "      <td>dogs</td>\n",
       "    </tr>\n",
       "    <tr>\n",
       "      <th>4</th>\n",
       "      <td>Put this on both my dogs. And they are scratch...</td>\n",
       "      <td>dogs</td>\n",
       "    </tr>\n",
       "  </tbody>\n",
       "</table>\n",
       "</div>"
      ],
      "text/plain": [
       "                                                 text label\n",
       "id                                                         \n",
       "0   Sam has an everlast treat each nite before bed...  dogs\n",
       "1   The product is as it says. I keep an eye on it...  dogs\n",
       "2   My Kitty thinks these are treats! He loves the...  dogs\n",
       "3   This is the third or fourth time that we've or...  dogs\n",
       "4   Put this on both my dogs. And they are scratch...  dogs"
      ]
     },
     "metadata": {},
     "output_type": "display_data"
    }
   ],
   "source": [
    "#!g1.1\n",
    "train_df.head()"
   ]
  },
  {
   "cell_type": "code",
   "execution_count": 9,
   "metadata": {
    "cellId": "c3qvm624jran72pmuj05xs"
   },
   "outputs": [
    {
     "data": {
      "text/plain": [
       "dogs                    0.537872\n",
       "cats                    0.355284\n",
       "fish aquatic pets       0.069001\n",
       "birds                   0.020324\n",
       "bunny rabbit central    0.010950\n",
       "small animals           0.006570\n",
       "Name: label, dtype: float64"
      ]
     },
     "metadata": {},
     "output_type": "display_data"
    }
   ],
   "source": [
    "#!g1.1\n",
    "train_df.label.value_counts(1)"
   ]
  },
  {
   "cell_type": "markdown",
   "metadata": {
    "cellId": "nq0q6vcjsrdoxwni4jfzpe"
   },
   "source": [
    "мы видим, что больше половины наблюдений - про собак, треть про кошек, остальные относятся к рыбкам, птицам, кроликам и другим небольшим животным"
   ]
  },
  {
   "cell_type": "markdown",
   "metadata": {
    "cellId": "zl8g9u7g1jx661pdksvpq"
   },
   "source": [
    "#!g1.1\n",
    "категории имеют существенный дисбаланс"
   ]
  },
  {
   "cell_type": "markdown",
   "metadata": {
    "cellId": "ojyoxtdlnfknganup05c",
    "id": "4SMZ5T5Imhlx"
   },
   "source": [
    "\n",
    "\n",
    "Let's extract the sentences and labels of our training set as numpy ndarrays."
   ]
  },
  {
   "cell_type": "code",
   "execution_count": 10,
   "metadata": {
    "cellId": "m34oe1hw05p1dhexpqhi1c",
    "id": "GuE5BqICAne2"
   },
   "outputs": [],
   "source": [
    "#!g1.1\n",
    "# Get the lists of sentences and their labels.\n",
    "sentences = train_df.text.values\n",
    "labels = train_df.label.values\n",
    "\n",
    "#valid_df"
   ]
  },
  {
   "cell_type": "code",
   "execution_count": 11,
   "metadata": {
    "cellId": "7i0tablp5rjkpyfr7u1i5m"
   },
   "outputs": [],
   "source": [
    "#!g1.1\n",
    "# закодируем таргет\n",
    "\n",
    "from sklearn.preprocessing import LabelEncoder\n",
    "\n",
    "le = LabelEncoder()\n",
    "\n",
    "labels = le.fit_transform(train_df.label.values)"
   ]
  },
  {
   "cell_type": "code",
   "execution_count": 12,
   "metadata": {
    "cellId": "ypvg503k829hei6kpf57wt"
   },
   "outputs": [
    {
     "data": {
      "text/plain": [
       "array([3, 3, 3, ..., 2, 3, 2])"
      ]
     },
     "metadata": {},
     "output_type": "display_data"
    }
   ],
   "source": [
    "#!g1.1\n",
    "\n",
    "labels"
   ]
  },
  {
   "cell_type": "markdown",
   "metadata": {
    "cellId": "n2m4dcnkfdaicq7fwl9c6o",
    "id": "ex5O1eV-Pfct"
   },
   "source": [
    "# 3. Tokenization & Input Formatting\n",
    "\n",
    "In this section, we'll transform our dataset into the format that BERT can be trained on."
   ]
  },
  {
   "cell_type": "markdown",
   "metadata": {
    "cellId": "qtzfq4mx3uw401xg02zbn",
    "id": "-8kEDRvShcU5"
   },
   "source": [
    "## 3.1. BERT Tokenizer"
   ]
  },
  {
   "cell_type": "markdown",
   "metadata": {
    "cellId": "nltqt9p18y4hwrqoid46m",
    "id": "bWOPOyWghJp2"
   },
   "source": [
    "\n",
    "To feed our text to BERT, it must be split into tokens, and then these tokens must be mapped to their index in the tokenizer vocabulary.\n",
    "\n",
    "The tokenization must be performed by the tokenizer included with BERT--the below cell will download this for us. We'll be using the \"uncased\" version here.\n"
   ]
  },
  {
   "cell_type": "code",
   "execution_count": 13,
   "metadata": {
    "cellId": "6jmucnexl0vfmaq78346gl",
    "colab": {
     "base_uri": "https://localhost:8080/",
     "height": 84,
     "referenced_widgets": [
      "82ddfcea0e4c4e5a86cf6eca8585be8d",
      "8a256ba4a19e4ec98fe3c3c99fba4daa",
      "8c76faadf2f4415393c6f0a805f0d72b",
      "e0bb735fda99434a90380e7fc664212d",
      "cdb78e75309f4bc09366533331e72431",
      "1058e0b5baa248faa60c1ad146d10bf7",
      "375cc635389c4ddb9bf2aa443df58bae",
      "472198d5b6a748b3a81f9364fd1fa711"
     ]
    },
    "id": "Z474sSC6oe7A",
    "outputId": "4e6d97b6-2d4c-42ca-c201-d2b4a88895b9"
   },
   "outputs": [
    {
     "name": "stdout",
     "output_type": "stream",
     "text": [
      "Loading BERT tokenizer...\n"
     ]
    },
    {
     "name": "stderr",
     "output_type": "stream",
     "text": [
      "The tokenizer class you load from this checkpoint is not the same type as the class this function is called from. It may result in unexpected tokenization. \n",
      "The tokenizer class you load from this checkpoint is 'DistilBertTokenizer'. \n",
      "The class this function is called from is 'BertTokenizer'.\n"
     ]
    }
   ],
   "source": [
    "#!g1.1\n",
    "from transformers import BertTokenizer\n",
    "\n",
    "# попробуем облегченную модель \n",
    "# Load the BERT tokenizer. distilbert-base-uncased\n",
    "print('Loading BERT tokenizer...')\n",
    "tokenizer = BertTokenizer.from_pretrained('distilbert-base-uncased', do_lower_case=True)  #стандартная модель - bert-base-uncased, "
   ]
  },
  {
   "cell_type": "markdown",
   "metadata": {
    "cellId": "f6ic2xeksek12tly7v2t7yh",
    "id": "dFzmtleW6KmJ"
   },
   "source": [
    "Let's apply the tokenizer to one sentence just to see the output.\n"
   ]
  },
  {
   "cell_type": "code",
   "execution_count": 326,
   "metadata": {
    "cellId": "axk01lz69tq81o7ofqc93h",
    "colab": {
     "base_uri": "https://localhost:8080/"
    },
    "id": "dLIbudgfh6F0",
    "outputId": "9ca681ff-195f-4960-a0ba-55ded440278e"
   },
   "outputs": [
    {
     "name": "stdout",
     "output_type": "stream",
     "text": [
      " Original:  I actually purchased my kennel from a different seller. I got a great deal as local costs for kennels were $280+.After receiving it, I pulled the directions out and followed them step by step. The directions were easy to follow. I was able to get the frame together in about 10-15 minutes.The chain link come folded so you have to open it up length wise, straighten the links, and then roll it back up to place on the frame. There were kinks in it and some of the fence was narled pretty badly. I just did my best to straighten them out. After about 45 minutes to an hour later, I finally had it installed on the frame.I put my dog in it. She appeared to be annoyed that she was in it. Later that evening I came outside to put some items in the shed. My dog walked by me. I thought it was a bit odd so I escorted her back to the kennel. The kennel was moved at an angle. I thought she had dug under it. After closer inspection, I found the bottom half of the fence gnarled up. The fence has very little dried blood on it. I checked my dog for injuries but did not see anything.I went back to the directions and made sure I had set the wire ties at the appropriate spacing for the fence to be attached to the frame, which was correct. I had to pickup some wire ties at the local hardware store. $4.00 per 30 ties. I bent the fence back into place and re-tied the fence adding a few more ties to each side then put my dog back in the kennel. After another hour or so I came back to check on her. She got out again on the opposite side. After about three days of going back and fouth addind more and more ties and straighten the fence out. I finally managed to get her to stay in the kennel. I had to add a tie at every ending link and I ended up having to add a hanger in the middle of the links on the area she continued to come out at.It's a good deal, but you have to do a little extra to make it last. I did end up getting the cover, and it fits rather funny and doesn't sit all that well.\n",
      "Tokenized:  ['i', 'actually', 'purchased', 'my', 'ken', '##nel', 'from', 'a', 'different', 'seller', '.', 'i', 'got', 'a', 'great', 'deal', 'as', 'local', 'costs', 'for', 'ken', '##nel', '##s', 'were', '$', '280', '+', '.', 'after', 'receiving', 'it', ',', 'i', 'pulled', 'the', 'directions', 'out', 'and', 'followed', 'them', 'step', 'by', 'step', '.', 'the', 'directions', 'were', 'easy', 'to', 'follow', '.', 'i', 'was', 'able', 'to', 'get', 'the', 'frame', 'together', 'in', 'about', '10', '-', '15', 'minutes', '.', 'the', 'chain', 'link', 'come', 'folded', 'so', 'you', 'have', 'to', 'open', 'it', 'up', 'length', 'wise', ',', 'straighten', 'the', 'links', ',', 'and', 'then', 'roll', 'it', 'back', 'up', 'to', 'place', 'on', 'the', 'frame', '.', 'there', 'were', 'kin', '##ks', 'in', 'it', 'and', 'some', 'of', 'the', 'fence', 'was', 'na', '##rled', 'pretty', 'badly', '.', 'i', 'just', 'did', 'my', 'best', 'to', 'straighten', 'them', 'out', '.', 'after', 'about', '45', 'minutes', 'to', 'an', 'hour', 'later', ',', 'i', 'finally', 'had', 'it', 'installed', 'on', 'the', 'frame', '.', 'i', 'put', 'my', 'dog', 'in', 'it', '.', 'she', 'appeared', 'to', 'be', 'annoyed', 'that', 'she', 'was', 'in', 'it', '.', 'later', 'that', 'evening', 'i', 'came', 'outside', 'to', 'put', 'some', 'items', 'in', 'the', 'shed', '.', 'my', 'dog', 'walked', 'by', 'me', '.', 'i', 'thought', 'it', 'was', 'a', 'bit', 'odd', 'so', 'i', 'escorted', 'her', 'back', 'to', 'the', 'ken', '##nel', '.', 'the', 'ken', '##nel', 'was', 'moved', 'at', 'an', 'angle', '.', 'i', 'thought', 'she', 'had', 'dug', 'under', 'it', '.', 'after', 'closer', 'inspection', ',', 'i', 'found', 'the', 'bottom', 'half', 'of', 'the', 'fence', 'g', '##nar', '##led', 'up', '.', 'the', 'fence', 'has', 'very', 'little', 'dried', 'blood', 'on', 'it', '.', 'i', 'checked', 'my', 'dog', 'for', 'injuries', 'but', 'did', 'not', 'see', 'anything', '.', 'i', 'went', 'back', 'to', 'the', 'directions', 'and', 'made', 'sure', 'i', 'had', 'set', 'the', 'wire', 'ties', 'at', 'the', 'appropriate', 'spa', '##cing', 'for', 'the', 'fence', 'to', 'be', 'attached', 'to', 'the', 'frame', ',', 'which', 'was', 'correct', '.', 'i', 'had', 'to', 'pickup', 'some', 'wire', 'ties', 'at', 'the', 'local', 'hardware', 'store', '.', '$', '4', '.', '00', 'per', '30', 'ties', '.', 'i', 'bent', 'the', 'fence', 'back', 'into', 'place', 'and', 're', '-', 'tied', 'the', 'fence', 'adding', 'a', 'few', 'more', 'ties', 'to', 'each', 'side', 'then', 'put', 'my', 'dog', 'back', 'in', 'the', 'ken', '##nel', '.', 'after', 'another', 'hour', 'or', 'so', 'i', 'came', 'back', 'to', 'check', 'on', 'her', '.', 'she', 'got', 'out', 'again', 'on', 'the', 'opposite', 'side', '.', 'after', 'about', 'three', 'days', 'of', 'going', 'back', 'and', 'f', '##outh', 'add', '##ind', 'more', 'and', 'more', 'ties', 'and', 'straighten', 'the', 'fence', 'out', '.', 'i', 'finally', 'managed', 'to', 'get', 'her', 'to', 'stay', 'in', 'the', 'ken', '##nel', '.', 'i', 'had', 'to', 'add', 'a', 'tie', 'at', 'every', 'ending', 'link', 'and', 'i', 'ended', 'up', 'having', 'to', 'add', 'a', 'hang', '##er', 'in', 'the', 'middle', 'of', 'the', 'links', 'on', 'the', 'area', 'she', 'continued', 'to', 'come', 'out', 'at', '.', 'it', \"'\", 's', 'a', 'good', 'deal', ',', 'but', 'you', 'have', 'to', 'do', 'a', 'little', 'extra', 'to', 'make', 'it', 'last', '.', 'i', 'did', 'end', 'up', 'getting', 'the', 'cover', ',', 'and', 'it', 'fits', 'rather', 'funny', 'and', 'doesn', \"'\", 't', 'sit', 'all', 'that', 'well', '.']\n",
      "Token IDs:  [1045, 2941, 4156, 2026, 6358, 11877, 2013, 1037, 2367, 14939, 1012, 1045, 2288, 1037, 2307, 3066, 2004, 2334, 5366, 2005, 6358, 11877, 2015, 2020, 1002, 13427, 1009, 1012, 2044, 4909, 2009, 1010, 1045, 2766, 1996, 7826, 2041, 1998, 2628, 2068, 3357, 2011, 3357, 1012, 1996, 7826, 2020, 3733, 2000, 3582, 1012, 1045, 2001, 2583, 2000, 2131, 1996, 4853, 2362, 1999, 2055, 2184, 1011, 2321, 2781, 1012, 1996, 4677, 4957, 2272, 6999, 2061, 2017, 2031, 2000, 2330, 2009, 2039, 3091, 7968, 1010, 28568, 1996, 6971, 1010, 1998, 2059, 4897, 2009, 2067, 2039, 2000, 2173, 2006, 1996, 4853, 1012, 2045, 2020, 12631, 5705, 1999, 2009, 1998, 2070, 1997, 1996, 8638, 2001, 6583, 27501, 3492, 6649, 1012, 1045, 2074, 2106, 2026, 2190, 2000, 28568, 2068, 2041, 1012, 2044, 2055, 3429, 2781, 2000, 2019, 3178, 2101, 1010, 1045, 2633, 2018, 2009, 5361, 2006, 1996, 4853, 1012, 1045, 2404, 2026, 3899, 1999, 2009, 1012, 2016, 2596, 2000, 2022, 11654, 2008, 2016, 2001, 1999, 2009, 1012, 2101, 2008, 3944, 1045, 2234, 2648, 2000, 2404, 2070, 5167, 1999, 1996, 8328, 1012, 2026, 3899, 2939, 2011, 2033, 1012, 1045, 2245, 2009, 2001, 1037, 2978, 5976, 2061, 1045, 13127, 2014, 2067, 2000, 1996, 6358, 11877, 1012, 1996, 6358, 11877, 2001, 2333, 2012, 2019, 6466, 1012, 1045, 2245, 2016, 2018, 8655, 2104, 2009, 1012, 2044, 3553, 10569, 1010, 1045, 2179, 1996, 3953, 2431, 1997, 1996, 8638, 1043, 11802, 3709, 2039, 1012, 1996, 8638, 2038, 2200, 2210, 9550, 2668, 2006, 2009, 1012, 1045, 7039, 2026, 3899, 2005, 6441, 2021, 2106, 2025, 2156, 2505, 1012, 1045, 2253, 2067, 2000, 1996, 7826, 1998, 2081, 2469, 1045, 2018, 2275, 1996, 7318, 7208, 2012, 1996, 6413, 12403, 6129, 2005, 1996, 8638, 2000, 2022, 4987, 2000, 1996, 4853, 1010, 2029, 2001, 6149, 1012, 1045, 2018, 2000, 15373, 2070, 7318, 7208, 2012, 1996, 2334, 8051, 3573, 1012, 1002, 1018, 1012, 4002, 2566, 2382, 7208, 1012, 1045, 6260, 1996, 8638, 2067, 2046, 2173, 1998, 2128, 1011, 5079, 1996, 8638, 5815, 1037, 2261, 2062, 7208, 2000, 2169, 2217, 2059, 2404, 2026, 3899, 2067, 1999, 1996, 6358, 11877, 1012, 2044, 2178, 3178, 2030, 2061, 1045, 2234, 2067, 2000, 4638, 2006, 2014, 1012, 2016, 2288, 2041, 2153, 2006, 1996, 4500, 2217, 1012, 2044, 2055, 2093, 2420, 1997, 2183, 2067, 1998, 1042, 17167, 5587, 22254, 2062, 1998, 2062, 7208, 1998, 28568, 1996, 8638, 2041, 1012, 1045, 2633, 3266, 2000, 2131, 2014, 2000, 2994, 1999, 1996, 6358, 11877, 1012, 1045, 2018, 2000, 5587, 1037, 5495, 2012, 2296, 4566, 4957, 1998, 1045, 3092, 2039, 2383, 2000, 5587, 1037, 6865, 2121, 1999, 1996, 2690, 1997, 1996, 6971, 2006, 1996, 2181, 2016, 2506, 2000, 2272, 2041, 2012, 1012, 2009, 1005, 1055, 1037, 2204, 3066, 1010, 2021, 2017, 2031, 2000, 2079, 1037, 2210, 4469, 2000, 2191, 2009, 2197, 1012, 1045, 2106, 2203, 2039, 2893, 1996, 3104, 1010, 1998, 2009, 16142, 2738, 6057, 1998, 2987, 1005, 1056, 4133, 2035, 2008, 2092, 1012]\n"
     ]
    }
   ],
   "source": [
    "#!g1.1\n",
    "# Print the original sentence.\n",
    "print(' Original: ', sentences[10])\n",
    "\n",
    "# Print the sentence split into tokens.\n",
    "print('Tokenized: ', tokenizer.tokenize(sentences[10]))\n",
    "\n",
    "# Print the sentence mapped to token ids.\n",
    "print('Token IDs: ', tokenizer.convert_tokens_to_ids(tokenizer.tokenize(sentences[10])))"
   ]
  },
  {
   "cell_type": "markdown",
   "metadata": {
    "cellId": "f0bzhx87zoslojylqdjd",
    "id": "l6w8elb-58GJ"
   },
   "source": [
    "## 3.3. Tokenize Dataset"
   ]
  },
  {
   "cell_type": "markdown",
   "metadata": {
    "cellId": "pa70o6ujlergqrti32dqxq",
    "id": "U28qy4P-NwQ9"
   },
   "source": [
    "Оценим максимальную длину текста"
   ]
  },
  {
   "cell_type": "code",
   "execution_count": 168,
   "metadata": {
    "cellId": "xlo28mhoywpnguhvgxvoi",
    "colab": {
     "base_uri": "https://localhost:8080/"
    },
    "id": "cKsH2sU0OCQA",
    "outputId": "e363e816-c750-422f-b623-dce428f77502"
   },
   "outputs": [
    {
     "name": "stdout",
     "output_type": "stream",
     "text": [
      "Max sentence length:  2971\n"
     ]
    }
   ],
   "source": [
    "#!g1.1\n",
    "max_len = 0\n",
    "\n",
    "# For every sentence...\n",
    "for sent in sentences:\n",
    "\n",
    "    # Tokenize the text and add `[CLS]` and `[SEP]` tokens.\n",
    "    input_ids = tokenizer.encode(sent, add_special_tokens=True)\n",
    "\n",
    "    # Update the maximum sentence length.\n",
    "    max_len = max(max_len, len(input_ids))\n",
    "\n",
    "print('Max sentence length: ', max_len)"
   ]
  },
  {
   "cell_type": "code",
   "execution_count": 15,
   "metadata": {
    "cellId": "sc4wjjpopbj8igqtgdtv"
   },
   "outputs": [
    {
     "data": {
      "text/plain": [
       "count    52057.000000\n",
       "mean        84.420443\n",
       "std         80.027988\n",
       "min          1.000000\n",
       "25%         35.000000\n",
       "50%         61.000000\n",
       "75%        106.000000\n",
       "max       2360.000000\n",
       "Name: text, dtype: float64"
      ]
     },
     "metadata": {},
     "output_type": "display_data"
    }
   ],
   "source": [
    "#!g1.1\n",
    "# тем не менее, важно понимать распределение кол-ва токенов в последовательности:\n",
    "\n",
    "# statistics of text length (in words)\n",
    "train_df['text'].apply(lambda s: len(s.split())).describe()\n"
   ]
  },
  {
   "cell_type": "code",
   "execution_count": 16,
   "metadata": {
    "cellId": "t6bczuhsuk8aiqh6zlaj6"
   },
   "outputs": [
    {
     "data": {
      "text/plain": [
       "(229.0, 392.0)"
      ]
     },
     "metadata": {},
     "output_type": "display_data"
    }
   ],
   "source": [
    "#!g1.1\n",
    "\n",
    "train_df['text'].apply(lambda s: len(s.split())).quantile(0.95), train_df['text'].apply(lambda s: len(s.split())).quantile(0.99)"
   ]
  },
  {
   "cell_type": "markdown",
   "metadata": {
    "cellId": "8shl97fmpl98n44gdsyjdh"
   },
   "source": [
    "#!g1.1\n",
    "99  персентиль - 392 токена, мы можем обрезать использовать стандартные 512, или взять 256"
   ]
  },
  {
   "cell_type": "markdown",
   "metadata": {
    "cellId": "i755qyr606mma331z1j2bj",
    "id": "tIWAoWL2RK1p"
   },
   "source": [
    "Now we're ready to perform the real tokenization.\n",
    "\n",
    "The `tokenizer.encode_plus` function combines multiple steps for us:\n",
    "\n",
    "1. Split the sentence into tokens.\n",
    "2. Add the special `[CLS]` and `[SEP]` tokens.\n",
    "3. Map the tokens to their IDs.\n",
    "4. Pad or truncate all sentences to the same length.\n",
    "5. Create the attention masks which explicitly differentiate real tokens from `[PAD]` tokens.\n",
    "\n",
    "The first four features are in `tokenizer.encode`, but I'm using `tokenizer.encode_plus` to get the fifth item (attention masks). Documentation is [here](https://huggingface.co/transformers/main_classes/tokenizer.html?highlight=encode_plus#transformers.PreTrainedTokenizer.encode_plus).\n"
   ]
  },
  {
   "cell_type": "code",
   "execution_count": 14,
   "metadata": {
    "cellId": "yytmmzbcb1zzlhqavefsg",
    "colab": {
     "base_uri": "https://localhost:8080/"
    },
    "id": "2bBdb3pt8LuQ",
    "outputId": "b4d78c6d-0faf-459b-b11a-a26ce40bd32a"
   },
   "outputs": [
    {
     "name": "stderr",
     "output_type": "stream",
     "text": [
      "Truncation was not explicitly activated but `max_length` is provided a specific value, please use `truncation=True` to explicitly truncate examples to max length. Defaulting to 'longest_first' truncation strategy. If you encode pairs of sequences (GLUE-style) with the tokenizer you can select this strategy more precisely by providing a specific strategy to `truncation`.\n",
      "/home/jupyter/.local/lib/python3.7/site-packages/transformers/tokenization_utils_base.py:2227: FutureWarning: The `pad_to_max_length` argument is deprecated and will be removed in a future version, use `padding=True` or `padding='longest'` to pad to the longest sequence in the batch, or use `padding='max_length'` to pad to a max length. In this case, you can give a specific length with `max_length` (e.g. `max_length=45`) or leave max_length to None to pad to the maximal input size of the model (e.g. 512 for Bert).\n",
      "  FutureWarning,\n"
     ]
    },
    {
     "name": "stdout",
     "output_type": "stream",
     "text": [
      "Original:  Sam has an everlast treat each nite before bed, like a good tooth brushing. The only downside is finding a place that keeps them in stock as well as multiple flavors.\n",
      "Token IDs: tensor([  101,  3520,  2038,  2019,  2412,  8523,  2102,  7438,  2169,  9152,\n",
      "         2618,  2077,  2793,  1010,  2066,  1037,  2204, 11868, 12766,  1012,\n",
      "         1996,  2069, 12482,  5178,  2003,  4531,  1037,  2173,  2008,  7906,\n",
      "         2068,  1999,  4518,  2004,  2092,  2004,  3674, 26389,  1012,   102,\n",
      "            0,     0,     0,     0,     0,     0,     0,     0,     0,     0,\n",
      "            0,     0,     0,     0,     0,     0,     0,     0,     0,     0,\n",
      "            0,     0,     0,     0,     0,     0,     0,     0,     0,     0,\n",
      "            0,     0,     0,     0,     0,     0,     0,     0,     0,     0,\n",
      "            0,     0,     0,     0,     0,     0,     0,     0,     0,     0,\n",
      "            0,     0,     0,     0,     0,     0,     0,     0,     0,     0,\n",
      "            0,     0,     0,     0,     0,     0,     0,     0,     0,     0,\n",
      "            0,     0,     0,     0,     0,     0,     0,     0,     0,     0,\n",
      "            0,     0,     0,     0,     0,     0,     0,     0,     0,     0,\n",
      "            0,     0,     0,     0,     0,     0,     0,     0,     0,     0,\n",
      "            0,     0,     0,     0,     0,     0,     0,     0,     0,     0,\n",
      "            0,     0,     0,     0,     0,     0,     0,     0,     0,     0,\n",
      "            0,     0,     0,     0,     0,     0,     0,     0,     0,     0,\n",
      "            0,     0,     0,     0,     0,     0,     0,     0,     0,     0,\n",
      "            0,     0,     0,     0,     0,     0,     0,     0,     0,     0,\n",
      "            0,     0,     0,     0,     0,     0,     0,     0,     0,     0,\n",
      "            0,     0,     0,     0,     0,     0,     0,     0,     0,     0,\n",
      "            0,     0,     0,     0,     0,     0,     0,     0,     0,     0,\n",
      "            0,     0,     0,     0,     0,     0,     0,     0,     0,     0,\n",
      "            0,     0,     0,     0,     0,     0,     0,     0,     0,     0,\n",
      "            0,     0,     0,     0,     0,     0,     0,     0,     0,     0,\n",
      "            0,     0,     0,     0,     0,     0])\n"
     ]
    }
   ],
   "source": [
    "#!g1.1\n",
    "# Tokenize all of the sentences and map the tokens to thier word IDs.\n",
    "input_ids = []\n",
    "attention_masks = []\n",
    "\n",
    "# For every sentence...\n",
    "for sent in sentences:\n",
    "    # `encode_plus` will:\n",
    "    #   (1) Tokenize the sentence.\n",
    "    #   (2) Prepend the `[CLS]` token to the start.\n",
    "    #   (3) Append the `[SEP]` token to the end.\n",
    "    #   (4) Map tokens to their IDs.\n",
    "    #   (5) Pad or truncate the sentence to `max_length`\n",
    "    #   (6) Create attention masks for [PAD] tokens.\n",
    "    encoded_dict = tokenizer.encode_plus(\n",
    "                        sent,                      # Sentence to encode.\n",
    "                        add_special_tokens = True, # Add '[CLS]' and '[SEP]'\n",
    "                        max_length = 256,           # Pad & truncate all sentences.   Установили на основе анализа длины текстов\n",
    "                        pad_to_max_length = True,\n",
    "                        return_attention_mask = True,   # Construct attn. masks.\n",
    "                        return_tensors = 'pt',     # Return pytorch tensors.\n",
    "                   )\n",
    "    \n",
    "    # Add the encoded sentence to the list.    \n",
    "    input_ids.append(encoded_dict['input_ids'])\n",
    "    \n",
    "    # And its attention mask (simply differentiates padding from non-padding).\n",
    "    attention_masks.append(encoded_dict['attention_mask'])\n",
    "\n",
    "# Convert the lists into tensors.\n",
    "input_ids = torch.cat(input_ids, dim=0)\n",
    "attention_masks = torch.cat(attention_masks, dim=0)\n",
    "labels = torch.tensor(labels)\n",
    "\n",
    "# Print sentence 0, now as a list of IDs.\n",
    "print('Original: ', sentences[0])\n",
    "print('Token IDs:', input_ids[0])"
   ]
  },
  {
   "cell_type": "markdown",
   "metadata": {
    "cellId": "82676h6h03u8rs5mvnowla",
    "id": "aRp4O7D295d_"
   },
   "source": [
    "## 3.4. Training & Validation Split\n"
   ]
  },
  {
   "cell_type": "markdown",
   "metadata": {
    "cellId": "iuprzz80qrdsfz1b97rtk",
    "id": "qu0ao7p8rb06"
   },
   "source": [
    "Divide up our training set to use 90% for training and 10% for validation."
   ]
  },
  {
   "cell_type": "code",
   "execution_count": 15,
   "metadata": {
    "cellId": "ib4pjswxwwzpdbvvlplze",
    "colab": {
     "base_uri": "https://localhost:8080/"
    },
    "id": "GEgLpFVlo1Z-",
    "outputId": "c0ae3d66-6982-4c33-a3f4-ca80e0cd9968"
   },
   "outputs": [
    {
     "name": "stdout",
     "output_type": "stream",
     "text": [
      "46,851 training samples\n",
      "5,206 validation samples\n"
     ]
    }
   ],
   "source": [
    "#!g1.1\n",
    "from torch.utils.data import TensorDataset, random_split\n",
    "\n",
    "# Combine the training inputs into a TensorDataset.\n",
    "dataset = TensorDataset(input_ids, attention_masks, labels)\n",
    "\n",
    "# Create a 90-10 train-validation split.\n",
    "\n",
    "# Calculate the number of samples to include in each set.\n",
    "train_size = int(0.9 * len(dataset))\n",
    "val_size = len(dataset) - train_size\n",
    "\n",
    "# Divide the dataset by randomly selecting samples.\n",
    "train_dataset, val_dataset = random_split(dataset, [train_size, val_size])\n",
    "\n",
    "print('{:>5,} training samples'.format(train_size))\n",
    "print('{:>5,} validation samples'.format(val_size))"
   ]
  },
  {
   "cell_type": "markdown",
   "metadata": {
    "cellId": "m9ybm4alx44tp9k0we34n",
    "id": "dD9i6Z2pG-sN"
   },
   "source": [
    "We'll also create an iterator for our dataset using the torch DataLoader class. This helps save on memory during training because, unlike a for loop, with an iterator the entire dataset does not need to be loaded into memory."
   ]
  },
  {
   "cell_type": "code",
   "execution_count": 16,
   "metadata": {
    "cellId": "iwqd3ad1js80vl8i354nnl",
    "id": "XGUqOCtgqGhP"
   },
   "outputs": [],
   "source": [
    "#!g1.1\n",
    "from torch.utils.data import DataLoader, RandomSampler, SequentialSampler\n",
    "\n",
    "# The DataLoader needs to know our batch size for training, so we specify it \n",
    "# here. For fine-tuning BERT on a specific task, the authors recommend a batch \n",
    "# size of 16 or 32.\n",
    "batch_size = 72  # посмотрим, как зайдет по памяти 64\n",
    "\n",
    "# Create the DataLoaders for our training and validation sets.\n",
    "# We'll take training samples in random order. \n",
    "train_dataloader = DataLoader(\n",
    "            train_dataset,  # The training samples.\n",
    "            sampler = RandomSampler(train_dataset), # Select batches randomly\n",
    "            batch_size = batch_size # Trains with this batch size.\n",
    "        )\n",
    "\n",
    "# For validation the order doesn't matter, so we'll just read them sequentially.\n",
    "validation_dataloader = DataLoader(\n",
    "            val_dataset, # The validation samples.\n",
    "            sampler = SequentialSampler(val_dataset), # Pull out batches sequentially.\n",
    "            batch_size = batch_size # Evaluate with this batch size.\n",
    "        )"
   ]
  },
  {
   "cell_type": "markdown",
   "metadata": {
    "cellId": "66cyrih7c3p0cl88mzgvetq",
    "id": "8bwa6Rts-02-"
   },
   "source": [
    "# 4. Train Our Classification Model"
   ]
  },
  {
   "cell_type": "markdown",
   "metadata": {
    "cellId": "imoti25fzyfya532kf959",
    "id": "3xYQ3iLO08SX"
   },
   "source": [
    "Now that our input data is properly formatted, it's time to fine tune the BERT model. "
   ]
  },
  {
   "cell_type": "markdown",
   "metadata": {
    "cellId": "s06oty1c87j31dvpuqspgj",
    "id": "D6TKgyUzPIQc"
   },
   "source": [
    "## 4.1. BertForSequenceClassification"
   ]
  },
  {
   "cell_type": "markdown",
   "metadata": {
    "cellId": "s4gtg8ptifgsq4bdfylkhe",
    "id": "WnQW9E-bBCRt"
   },
   "source": [
    "OK, let's load BERT! There are a few different pre-trained BERT models available. \"bert-base-uncased\" means the version that has only lowercase letters (\"uncased\") and is the smaller version of the two (\"base\" vs \"large\").\n",
    "\n",
    "The documentation for `from_pretrained` can be found [here](https://huggingface.co/transformers/v2.2.0/main_classes/model.html#transformers.PreTrainedModel.from_pretrained), with the additional parameters defined [here](https://huggingface.co/transformers/v2.2.0/main_classes/configuration.html#transformers.PretrainedConfig)."
   ]
  },
  {
   "cell_type": "code",
   "execution_count": 20,
   "metadata": {
    "cellId": "ad2llmews7fmoi1mypcp"
   },
   "outputs": [
    {
     "data": {
      "text/plain": [
       "6"
      ]
     },
     "metadata": {},
     "output_type": "display_data"
    }
   ],
   "source": [
    "#!g1.1\n",
    "train_df.label.nunique()  # 6 уникальных категорий"
   ]
  },
  {
   "cell_type": "code",
   "execution_count": null,
   "metadata": {
    "cellId": "fpe6get1y2b3r4zt8pm3qu",
    "colab": {
     "base_uri": "https://localhost:8080/",
     "height": 1000,
     "referenced_widgets": [
      "bf9dfa1ff3e642fbb74c5146d21044c2",
      "1c2b0ede959142fc89bf07a9c88df638",
      "1296a3d754b344a482a03e5af84e805e",
      "6f132d7bb83d41b6847df0d0ec0a1b92",
      "2755b9838bae408ca8cf667ad9d501fc",
      "f8874fec8a404ae89a38fd2ecbb357cf",
      "a7bdbedc75de4f77b45f1389c2ea0abc",
      "978c24b18b594eaf8ca47730a88eefb9",
      "fe254c3bcc08402eb506f0e98f5673a7",
      "cea84f9c3db641acb98314028b305514",
      "23ca9359e6c44232a1346e6f2ab7e48c",
      "d689bc8d488a4dc09c393b4fc9747bcb",
      "6c7dec7b1e804c2195f6e60fb3c1d18e",
      "0fe5b1d0540240a8a8426352c24b2887",
      "4b1e27aff6f04fec8268d951e46b1e63",
      "440da34c72344cb08e4a1ee5de7049ee"
     ]
    },
    "id": "gFsCTp_mporB",
    "outputId": "af690f33-6cd5-4678-bdaf-209f068f70f5"
   },
   "outputs": [],
   "source": [
    "#!g1.1\n",
    "from transformers import BertForSequenceClassification, AdamW, BertConfig\n",
    "\n",
    "#НУЖНО УКАЗАТЬ КОЛ-ВО КЛАССОВ\n",
    "# Load BertForSequenceClassification, the pretrained BERT model with a single \n",
    "# linear classification layer on top. \n",
    "model = BertForSequenceClassification.from_pretrained(\n",
    "    \"distilbert-base-uncased\", # Use the 12-layer BERT model, with an uncased vocab. используем дистилированный берт\n",
    "    num_labels = 6, # The number of output labels--2 for binary classification.\n",
    "                    # You can increase this for multi-class tasks.   \n",
    "    output_attentions = False, # Whether the model returns attentions weights.\n",
    "    output_hidden_states = False, # Whether the model returns all hidden-states.\n",
    ")\n",
    "\n",
    "# Tell pytorch to run this model on the GPU.\n",
    "model.cuda()"
   ]
  },
  {
   "cell_type": "markdown",
   "metadata": {
    "cellId": "zwt8dfat1yn93b1dbyv65",
    "id": "e0Jv6c7-HHDW"
   },
   "source": [
    "Just for curiosity's sake, we can browse all of the model's parameters by name here.\n",
    "\n",
    "In the below cell, I've printed out the names and dimensions of the weights for:\n",
    "\n",
    "1. The embedding layer.\n",
    "2. The first of the twelve transformers.\n",
    "3. The output layer.\n",
    "\n",
    "\n"
   ]
  },
  {
   "cell_type": "code",
   "execution_count": 31,
   "metadata": {
    "cellId": "i5mvxfy29xh3w280j4ppt",
    "colab": {
     "base_uri": "https://localhost:8080/"
    },
    "id": "8PIiVlDYCtSq",
    "outputId": "7430f38d-de86-4488-bb92-6a9b0142b3af"
   },
   "outputs": [
    {
     "name": "stdout",
     "output_type": "stream",
     "text": [
      "The BERT model has 201 different named parameters.\n",
      "\n",
      "==== Embedding Layer ====\n",
      "\n",
      "bert.embeddings.word_embeddings.weight                  (30522, 768)\n",
      "bert.embeddings.position_embeddings.weight                (512, 768)\n",
      "bert.embeddings.token_type_embeddings.weight                (2, 768)\n",
      "bert.embeddings.LayerNorm.weight                              (768,)\n",
      "bert.embeddings.LayerNorm.bias                                (768,)\n",
      "\n",
      "==== First Transformer ====\n",
      "\n",
      "bert.encoder.layer.0.attention.self.query.weight          (768, 768)\n",
      "bert.encoder.layer.0.attention.self.query.bias                (768,)\n",
      "bert.encoder.layer.0.attention.self.key.weight            (768, 768)\n",
      "bert.encoder.layer.0.attention.self.key.bias                  (768,)\n",
      "bert.encoder.layer.0.attention.self.value.weight          (768, 768)\n",
      "bert.encoder.layer.0.attention.self.value.bias                (768,)\n",
      "bert.encoder.layer.0.attention.output.dense.weight        (768, 768)\n",
      "bert.encoder.layer.0.attention.output.dense.bias              (768,)\n",
      "bert.encoder.layer.0.attention.output.LayerNorm.weight        (768,)\n",
      "bert.encoder.layer.0.attention.output.LayerNorm.bias          (768,)\n",
      "bert.encoder.layer.0.intermediate.dense.weight           (3072, 768)\n",
      "bert.encoder.layer.0.intermediate.dense.bias                 (3072,)\n",
      "bert.encoder.layer.0.output.dense.weight                 (768, 3072)\n",
      "bert.encoder.layer.0.output.dense.bias                        (768,)\n",
      "bert.encoder.layer.0.output.LayerNorm.weight                  (768,)\n",
      "bert.encoder.layer.0.output.LayerNorm.bias                    (768,)\n",
      "\n",
      "==== Output Layer ====\n",
      "\n",
      "bert.pooler.dense.weight                                  (768, 768)\n",
      "bert.pooler.dense.bias                                        (768,)\n",
      "classifier.weight                                           (6, 768)\n",
      "classifier.bias                                                 (6,)\n"
     ]
    }
   ],
   "source": [
    "#!g1.1\n",
    "# Get all of the model's parameters as a list of tuples.\n",
    "params = list(model.named_parameters())\n",
    "\n",
    "print('The BERT model has {:} different named parameters.\\n'.format(len(params)))\n",
    "\n",
    "print('==== Embedding Layer ====\\n')\n",
    "\n",
    "for p in params[0:5]:\n",
    "    print(\"{:<55} {:>12}\".format(p[0], str(tuple(p[1].size()))))\n",
    "\n",
    "print('\\n==== First Transformer ====\\n')\n",
    "\n",
    "for p in params[5:21]:\n",
    "    print(\"{:<55} {:>12}\".format(p[0], str(tuple(p[1].size()))))\n",
    "\n",
    "print('\\n==== Output Layer ====\\n')\n",
    "\n",
    "for p in params[-4:]:\n",
    "    print(\"{:<55} {:>12}\".format(p[0], str(tuple(p[1].size()))))"
   ]
  },
  {
   "cell_type": "markdown",
   "metadata": {
    "cellId": "tlfcqv02mm9z73ta5kclm",
    "id": "qRWT-D4U_Pvx"
   },
   "source": [
    "## 4.2. Optimizer & Learning Rate Scheduler"
   ]
  },
  {
   "cell_type": "markdown",
   "metadata": {
    "cellId": "vkncfex3bwirec6q7ay3a",
    "id": "8o-VEBobKwHk"
   },
   "source": [
    "Now that we have our model loaded we need to grab the training hyperparameters from within the stored model.\n",
    "\n",
    "For the purposes of fine-tuning, the authors recommend choosing from the following values (from Appendix A.3 of the [BERT paper](https://arxiv.org/pdf/1810.04805.pdf)):\n",
    "\n",
    ">- **Batch size:** 16, 32  \n",
    "- **Learning rate (Adam):** 5e-5, 3e-5, 2e-5  \n",
    "- **Number of epochs:** 2, 3, 4 \n",
    "\n",
    "We chose:\n",
    "* Batch size: 32 (set when creating our DataLoaders)\n",
    "* Learning rate: 2e-5\n",
    "* Epochs: 4 (we'll see that this is probably too many...)\n",
    "\n",
    "The epsilon parameter `eps = 1e-8` is \"a very small number to prevent any division by zero in the implementation\" (from [here](https://machinelearningmastery.com/adam-optimization-algorithm-for-deep-learning/)).\n",
    "\n",
    "You can find the creation of the AdamW optimizer in `run_glue.py` [here](https://github.com/huggingface/transformers/blob/5bfcd0485ece086ebcbed2d008813037968a9e58/examples/run_glue.py#L109)."
   ]
  },
  {
   "cell_type": "code",
   "execution_count": 18,
   "metadata": {
    "cellId": "3q01ima1jp3292ro3a39aq",
    "id": "GLs72DuMODJO"
   },
   "outputs": [],
   "source": [
    "#!g1.1\n",
    "# Note: AdamW is a class from the huggingface library (as opposed to pytorch) \n",
    "# I believe the 'W' stands for 'Weight Decay fix\"\n",
    "optimizer = AdamW(model.parameters(),\n",
    "                  lr = 2e-5, # args.learning_rate - default is 5e-5, our notebook had 2e-5\n",
    "                  eps = 1e-8 # args.adam_epsilon  - default is 1e-8.\n",
    "                )\n"
   ]
  },
  {
   "cell_type": "code",
   "execution_count": 19,
   "metadata": {
    "cellId": "wcx8dw4f53a7e98jomhwb2",
    "id": "-p0upAhhRiIx"
   },
   "outputs": [],
   "source": [
    "#!g1.1\n",
    "from transformers import get_linear_schedule_with_warmup\n",
    "\n",
    "# Number of training epochs. The BERT authors recommend between 2 and 4. \n",
    "# We chose to run for 4, but we'll see later that this may be over-fitting the\n",
    "# training data.\n",
    "epochs = 2\n",
    "\n",
    "# Total number of training steps is [number of batches] x [number of epochs]. \n",
    "# (Note that this is not the same as the number of training samples).\n",
    "total_steps = len(train_dataloader) * epochs\n",
    "\n",
    "# Create the learning rate scheduler.\n",
    "scheduler = get_linear_schedule_with_warmup(optimizer, \n",
    "                                            num_warmup_steps = 0, # Default value in run_glue.py\n",
    "                                            num_training_steps = total_steps)"
   ]
  },
  {
   "cell_type": "markdown",
   "metadata": {
    "cellId": "4eub57f4047mh1jxx1jn9l",
    "id": "RqfmWwUR_Sox"
   },
   "source": [
    "## 4.3. Training Loop"
   ]
  },
  {
   "cell_type": "markdown",
   "metadata": {
    "cellId": "edt6a10duzijfihsf4ahhr",
    "id": "_QXZhFb4LnV5"
   },
   "source": [
    "Below is our training loop. There's a lot going on, but fundamentally for each pass in our loop we have a trianing phase and a validation phase. \n",
    "\n",
    "> *Thank you to [Stas Bekman](https://ca.linkedin.com/in/stasbekman) for contributing the insights and code for using validation loss to detect over-fitting!*\n",
    "\n",
    "**Training:**\n",
    "- Unpack our data inputs and labels\n",
    "- Load data onto the GPU for acceleration\n",
    "- Clear out the gradients calculated in the previous pass. \n",
    "    - In pytorch the gradients accumulate by default (useful for things like RNNs) unless you explicitly clear them out.\n",
    "- Forward pass (feed input data through the network)\n",
    "- Backward pass (backpropagation)\n",
    "- Tell the network to update parameters with optimizer.step()\n",
    "- Track variables for monitoring progress\n",
    "\n",
    "**Evalution:**\n",
    "- Unpack our data inputs and labels\n",
    "- Load data onto the GPU for acceleration\n",
    "- Forward pass (feed input data through the network)\n",
    "- Compute loss on our validation data and track variables for monitoring progress\n",
    "\n",
    "Pytorch hides all of the detailed calculations from us, but we've commented the code to point out which of the above steps are happening on each line. \n",
    "\n",
    "> *PyTorch also has some [beginner tutorials](https://pytorch.org/tutorials/beginner/blitz/cifar10_tutorial.html#sphx-glr-beginner-blitz-cifar10-tutorial-py) which you may also find helpful.*"
   ]
  },
  {
   "cell_type": "markdown",
   "metadata": {
    "cellId": "u98y155y7cd8cupgb208g",
    "id": "pE5B99H5H2-W"
   },
   "source": [
    "Define a helper function for calculating accuracy."
   ]
  },
  {
   "cell_type": "code",
   "execution_count": 20,
   "metadata": {
    "cellId": "pm58rxf5eena1gqat4x3rk",
    "id": "9cQNvaZ9bnyy"
   },
   "outputs": [],
   "source": [
    "#!g1.1\n",
    "import numpy as np\n",
    "\n",
    "# Function to calculate the accuracy of our predictions vs labels\n",
    "def flat_accuracy(preds, labels):\n",
    "    pred_flat = np.argmax(preds, axis=1).flatten()\n",
    "    labels_flat = labels.flatten()\n",
    "    return np.sum(pred_flat == labels_flat) / len(labels_flat)"
   ]
  },
  {
   "cell_type": "markdown",
   "metadata": {
    "cellId": "xh2gi91vyzsw4g6h3s7jdi",
    "id": "KNhRtWPXH9C3"
   },
   "source": [
    "Helper function for formatting elapsed times as `hh:mm:ss`\n"
   ]
  },
  {
   "cell_type": "code",
   "execution_count": 21,
   "metadata": {
    "cellId": "whbwtueefmf6cyv4kjctb",
    "id": "gpt6tR83keZD"
   },
   "outputs": [],
   "source": [
    "#!g1.1\n",
    "import time\n",
    "import datetime\n",
    "\n",
    "def format_time(elapsed):\n",
    "    '''\n",
    "    Takes a time in seconds and returns a string hh:mm:ss\n",
    "    '''\n",
    "    # Round to the nearest second.\n",
    "    elapsed_rounded = int(round((elapsed)))\n",
    "    \n",
    "    # Format as hh:mm:ss\n",
    "    return str(datetime.timedelta(seconds=elapsed_rounded))\n"
   ]
  },
  {
   "cell_type": "markdown",
   "metadata": {
    "cellId": "3kyi9m0kxhx5tfm5oswuum",
    "id": "cfNIhN19te3N"
   },
   "source": [
    "We're ready to kick off the training!"
   ]
  },
  {
   "cell_type": "code",
   "execution_count": 23,
   "metadata": {
    "cellId": "8pf7qzfvneap0oeobtn11q",
    "colab": {
     "base_uri": "https://localhost:8080/"
    },
    "id": "6J-FYdx6nFE_",
    "outputId": "b2c3e30b-eb5d-4b13-a207-05a48a87ed2a"
   },
   "outputs": [
    {
     "name": "stdout",
     "output_type": "stream",
     "text": [
      "\n",
      "======== Epoch 1 / 2 ========\n",
      "Training...\n",
      "  Batch    40  of    651.    Elapsed: 0:00:38.\n",
      "  Batch    80  of    651.    Elapsed: 0:01:15.\n",
      "  Batch   120  of    651.    Elapsed: 0:01:53.\n",
      "  Batch   160  of    651.    Elapsed: 0:02:31.\n",
      "  Batch   200  of    651.    Elapsed: 0:03:09.\n",
      "  Batch   240  of    651.    Elapsed: 0:03:48.\n",
      "  Batch   280  of    651.    Elapsed: 0:04:26.\n",
      "  Batch   320  of    651.    Elapsed: 0:05:04.\n",
      "  Batch   360  of    651.    Elapsed: 0:05:42.\n",
      "  Batch   400  of    651.    Elapsed: 0:06:20.\n",
      "  Batch   440  of    651.    Elapsed: 0:06:59.\n",
      "  Batch   480  of    651.    Elapsed: 0:07:37.\n",
      "  Batch   520  of    651.    Elapsed: 0:08:15.\n",
      "  Batch   560  of    651.    Elapsed: 0:08:54.\n",
      "  Batch   600  of    651.    Elapsed: 0:09:32.\n",
      "  Batch   640  of    651.    Elapsed: 0:10:10.\n",
      "\n",
      "  Average training loss: 0.79\n",
      "  Training epcoh took: 0:10:21\n",
      "\n",
      "Running Validation...\n",
      "  Accuracy: 0.81\n",
      "  Validation Loss: 0.54\n",
      "  Validation took: 0:00:24\n",
      "\n",
      "======== Epoch 2 / 2 ========\n",
      "Training...\n",
      "  Batch    40  of    651.    Elapsed: 0:00:38.\n",
      "  Batch    80  of    651.    Elapsed: 0:01:17.\n",
      "  Batch   120  of    651.    Elapsed: 0:01:55.\n",
      "  Batch   160  of    651.    Elapsed: 0:02:33.\n",
      "  Batch   200  of    651.    Elapsed: 0:03:12.\n",
      "  Batch   240  of    651.    Elapsed: 0:03:50.\n",
      "  Batch   280  of    651.    Elapsed: 0:04:29.\n",
      "  Batch   320  of    651.    Elapsed: 0:05:07.\n",
      "  Batch   360  of    651.    Elapsed: 0:05:45.\n",
      "  Batch   400  of    651.    Elapsed: 0:06:24.\n",
      "  Batch   440  of    651.    Elapsed: 0:07:02.\n",
      "  Batch   480  of    651.    Elapsed: 0:07:40.\n",
      "  Batch   520  of    651.    Elapsed: 0:08:19.\n",
      "  Batch   560  of    651.    Elapsed: 0:08:57.\n",
      "  Batch   600  of    651.    Elapsed: 0:09:35.\n",
      "  Batch   640  of    651.    Elapsed: 0:10:14.\n",
      "\n",
      "  Average training loss: 0.51\n",
      "  Training epcoh took: 0:10:24\n",
      "\n",
      "Running Validation...\n",
      "  Accuracy: 0.82\n",
      "  Validation Loss: 0.49\n",
      "  Validation took: 0:00:24\n",
      "\n",
      "Training complete!\n",
      "Total training took 0:21:33 (h:mm:ss)\n"
     ]
    }
   ],
   "source": [
    "#!g1.1\n",
    "import random\n",
    "import numpy as np\n",
    "\n",
    "# This training code is based on the `run_glue.py` script here:\n",
    "# https://github.com/huggingface/transformers/blob/5bfcd0485ece086ebcbed2d008813037968a9e58/examples/run_glue.py#L128\n",
    "\n",
    "# Set the seed value all over the place to make this reproducible.\n",
    "seed_val = 42\n",
    "\n",
    "random.seed(seed_val)\n",
    "np.random.seed(seed_val)\n",
    "torch.manual_seed(seed_val)\n",
    "torch.cuda.manual_seed_all(seed_val)\n",
    "\n",
    "# We'll store a number of quantities such as training and validation loss, \n",
    "# validation accuracy, and timings.\n",
    "training_stats = []\n",
    "\n",
    "# Measure the total training time for the whole run.\n",
    "total_t0 = time.time()\n",
    "\n",
    "# For each epoch...\n",
    "for epoch_i in range(0, epochs):\n",
    "    \n",
    "    # ========================================\n",
    "    #               Training\n",
    "    # ========================================\n",
    "    \n",
    "    # Perform one full pass over the training set.\n",
    "\n",
    "    print(\"\")\n",
    "    print('======== Epoch {:} / {:} ========'.format(epoch_i + 1, epochs))\n",
    "    print('Training...')\n",
    "\n",
    "    # Measure how long the training epoch takes.\n",
    "    t0 = time.time()\n",
    "\n",
    "    # Reset the total loss for this epoch.\n",
    "    total_train_loss = 0\n",
    "\n",
    "    # Put the model into training mode. Don't be mislead--the call to \n",
    "    # `train` just changes the *mode*, it doesn't *perform* the training.\n",
    "    # `dropout` and `batchnorm` layers behave differently during training\n",
    "    # vs. test (source: https://stackoverflow.com/questions/51433378/what-does-model-train-do-in-pytorch)\n",
    "    model.train()\n",
    "\n",
    "    # For each batch of training data...\n",
    "    for step, batch in enumerate(train_dataloader):\n",
    "\n",
    "        # Progress update every 40 batches.\n",
    "        if step % 40 == 0 and not step == 0:\n",
    "            # Calculate elapsed time in minutes.\n",
    "            elapsed = format_time(time.time() - t0)\n",
    "            \n",
    "            # Report progress.\n",
    "            print('  Batch {:>5,}  of  {:>5,}.    Elapsed: {:}.'.format(step, len(train_dataloader), elapsed))\n",
    "\n",
    "        # Unpack this training batch from our dataloader. \n",
    "        #\n",
    "        # As we unpack the batch, we'll also copy each tensor to the GPU using the \n",
    "        # `to` method.\n",
    "        #\n",
    "        # `batch` contains three pytorch tensors:\n",
    "        #   [0]: input ids \n",
    "        #   [1]: attention masks\n",
    "        #   [2]: labels \n",
    "        b_input_ids = batch[0].to(device)\n",
    "        b_input_mask = batch[1].to(device)\n",
    "        b_labels = batch[2].to(device)\n",
    "\n",
    "        # Always clear any previously calculated gradients before performing a\n",
    "        # backward pass. PyTorch doesn't do this automatically because \n",
    "        # accumulating the gradients is \"convenient while training RNNs\". \n",
    "        # (source: https://stackoverflow.com/questions/48001598/why-do-we-need-to-call-zero-grad-in-pytorch)\n",
    "        model.zero_grad()        \n",
    "\n",
    "        # Perform a forward pass (evaluate the model on this training batch).\n",
    "        # In PyTorch, calling `model` will in turn call the model's `forward` \n",
    "        # function and pass down the arguments. The `forward` function is \n",
    "        # documented here: \n",
    "        # https://huggingface.co/transformers/model_doc/bert.html#bertforsequenceclassification\n",
    "        # The results are returned in a results object, documented here:\n",
    "        # https://huggingface.co/transformers/main_classes/output.html#transformers.modeling_outputs.SequenceClassifierOutput\n",
    "        # Specifically, we'll get the loss (because we provided labels) and the\n",
    "        # \"logits\"--the model outputs prior to activation.\n",
    "        result = model(b_input_ids, \n",
    "                       token_type_ids=None, \n",
    "                       attention_mask=b_input_mask, \n",
    "                       labels=b_labels,\n",
    "                       return_dict=True)\n",
    "\n",
    "        loss = result.loss\n",
    "        logits = result.logits\n",
    "\n",
    "        # Accumulate the training loss over all of the batches so that we can\n",
    "        # calculate the average loss at the end. `loss` is a Tensor containing a\n",
    "        # single value; the `.item()` function just returns the Python value \n",
    "        # from the tensor.\n",
    "        total_train_loss += loss.item()\n",
    "\n",
    "        # Perform a backward pass to calculate the gradients.\n",
    "        loss.backward()\n",
    "\n",
    "        # Clip the norm of the gradients to 1.0.\n",
    "        # This is to help prevent the \"exploding gradients\" problem.\n",
    "        torch.nn.utils.clip_grad_norm_(model.parameters(), 1.0)\n",
    "\n",
    "        # Update parameters and take a step using the computed gradient.\n",
    "        # The optimizer dictates the \"update rule\"--how the parameters are\n",
    "        # modified based on their gradients, the learning rate, etc.\n",
    "        optimizer.step()\n",
    "\n",
    "        # Update the learning rate.\n",
    "        scheduler.step()\n",
    "\n",
    "    # Calculate the average loss over all of the batches.\n",
    "    avg_train_loss = total_train_loss / len(train_dataloader)            \n",
    "    \n",
    "    # Measure how long this epoch took.\n",
    "    training_time = format_time(time.time() - t0)\n",
    "\n",
    "    print(\"\")\n",
    "    print(\"  Average training loss: {0:.2f}\".format(avg_train_loss))\n",
    "    print(\"  Training epcoh took: {:}\".format(training_time))\n",
    "        \n",
    "    # ========================================\n",
    "    #               Validation\n",
    "    # ========================================\n",
    "    # After the completion of each training epoch, measure our performance on\n",
    "    # our validation set.\n",
    "\n",
    "    print(\"\")\n",
    "    print(\"Running Validation...\")\n",
    "\n",
    "    t0 = time.time()\n",
    "\n",
    "    # Put the model in evaluation mode--the dropout layers behave differently\n",
    "    # during evaluation.\n",
    "    model.eval()\n",
    "\n",
    "    # Tracking variables \n",
    "    total_eval_accuracy = 0\n",
    "    total_eval_loss = 0\n",
    "    nb_eval_steps = 0\n",
    "\n",
    "    # Evaluate data for one epoch\n",
    "    for batch in validation_dataloader:\n",
    "        \n",
    "        # Unpack this training batch from our dataloader. \n",
    "        #\n",
    "        # As we unpack the batch, we'll also copy each tensor to the GPU using \n",
    "        # the `to` method.\n",
    "        #\n",
    "        # `batch` contains three pytorch tensors:\n",
    "        #   [0]: input ids \n",
    "        #   [1]: attention masks\n",
    "        #   [2]: labels \n",
    "        b_input_ids = batch[0].to(device)\n",
    "        b_input_mask = batch[1].to(device)\n",
    "        b_labels = batch[2].to(device)\n",
    "        \n",
    "        # Tell pytorch not to bother with constructing the compute graph during\n",
    "        # the forward pass, since this is only needed for backprop (training).\n",
    "        with torch.no_grad():        \n",
    "\n",
    "            # Forward pass, calculate logit predictions.\n",
    "            # token_type_ids is the same as the \"segment ids\", which \n",
    "            # differentiates sentence 1 and 2 in 2-sentence tasks.\n",
    "            result = model(b_input_ids, \n",
    "                           token_type_ids=None, \n",
    "                           attention_mask=b_input_mask,\n",
    "                           labels=b_labels,\n",
    "                           return_dict=True)\n",
    "\n",
    "        # Get the loss and \"logits\" output by the model. The \"logits\" are the \n",
    "        # output values prior to applying an activation function like the \n",
    "        # softmax.\n",
    "        loss = result.loss\n",
    "        logits = result.logits\n",
    "            \n",
    "        # Accumulate the validation loss.\n",
    "        total_eval_loss += loss.item()\n",
    "\n",
    "        # Move logits and labels to CPU\n",
    "        logits = logits.detach().cpu().numpy()\n",
    "        label_ids = b_labels.to('cpu').numpy()\n",
    "\n",
    "        # Calculate the accuracy for this batch of test sentences, and\n",
    "        # accumulate it over all batches.\n",
    "        total_eval_accuracy += flat_accuracy(logits, label_ids)\n",
    "        \n",
    "\n",
    "    # Report the final accuracy for this validation run.\n",
    "    avg_val_accuracy = total_eval_accuracy / len(validation_dataloader)\n",
    "    print(\"  Accuracy: {0:.2f}\".format(avg_val_accuracy))\n",
    "\n",
    "    # Calculate the average loss over all of the batches.\n",
    "    avg_val_loss = total_eval_loss / len(validation_dataloader)\n",
    "    \n",
    "    # Measure how long the validation run took.\n",
    "    validation_time = format_time(time.time() - t0)\n",
    "    \n",
    "    print(\"  Validation Loss: {0:.2f}\".format(avg_val_loss))\n",
    "    print(\"  Validation took: {:}\".format(validation_time))\n",
    "\n",
    "    # Record all statistics from this epoch.\n",
    "    training_stats.append(\n",
    "        {\n",
    "            'epoch': epoch_i + 1,\n",
    "            'Training Loss': avg_train_loss,\n",
    "            'Valid. Loss': avg_val_loss,\n",
    "            'Valid. Accur.': avg_val_accuracy,\n",
    "            'Training Time': training_time,\n",
    "            'Validation Time': validation_time\n",
    "        }\n",
    "    )\n",
    "\n",
    "print(\"\")\n",
    "print(\"Training complete!\")\n",
    "\n",
    "print(\"Total training took {:} (h:mm:ss)\".format(format_time(time.time()-total_t0)))"
   ]
  },
  {
   "cell_type": "markdown",
   "metadata": {
    "cellId": "ly9tdk1mg6n602zpsp5is",
    "id": "VQTvJ1vRP7u4"
   },
   "source": [
    "Let's view the summary of the training process."
   ]
  },
  {
   "cell_type": "code",
   "execution_count": 24,
   "metadata": {
    "cellId": "xsqyj72ytdkr64ua4zfzl",
    "colab": {
     "base_uri": "https://localhost:8080/",
     "height": 195
    },
    "id": "6O_NbXFGMukX",
    "outputId": "a9e51eda-5eae-4800-87d5-8d016ff25bb2"
   },
   "outputs": [
    {
     "data": {
      "text/html": [
       "<div>\n",
       "<style scoped>\n",
       "    .dataframe tbody tr th:only-of-type {\n",
       "        vertical-align: middle;\n",
       "    }\n",
       "\n",
       "    .dataframe tbody tr th {\n",
       "        vertical-align: top;\n",
       "    }\n",
       "\n",
       "    .dataframe thead th {\n",
       "        text-align: right;\n",
       "    }\n",
       "</style>\n",
       "<table border=\"1\" class=\"dataframe\">\n",
       "  <thead>\n",
       "    <tr style=\"text-align: right;\">\n",
       "      <th></th>\n",
       "      <th>Training Loss</th>\n",
       "      <th>Valid. Loss</th>\n",
       "      <th>Valid. Accur.</th>\n",
       "      <th>Training Time</th>\n",
       "      <th>Validation Time</th>\n",
       "    </tr>\n",
       "    <tr>\n",
       "      <th>epoch</th>\n",
       "      <th></th>\n",
       "      <th></th>\n",
       "      <th></th>\n",
       "      <th></th>\n",
       "      <th></th>\n",
       "    </tr>\n",
       "  </thead>\n",
       "  <tbody>\n",
       "    <tr>\n",
       "      <th>1</th>\n",
       "      <td>0.79</td>\n",
       "      <td>0.54</td>\n",
       "      <td>0.81</td>\n",
       "      <td>0:10:21</td>\n",
       "      <td>0:00:24</td>\n",
       "    </tr>\n",
       "    <tr>\n",
       "      <th>2</th>\n",
       "      <td>0.51</td>\n",
       "      <td>0.49</td>\n",
       "      <td>0.82</td>\n",
       "      <td>0:10:24</td>\n",
       "      <td>0:00:24</td>\n",
       "    </tr>\n",
       "  </tbody>\n",
       "</table>\n",
       "</div>"
      ],
      "text/plain": [
       "       Training Loss  Valid. Loss  Valid. Accur. Training Time Validation Time\n",
       "epoch                                                                         \n",
       "1               0.79         0.54           0.81       0:10:21         0:00:24\n",
       "2               0.51         0.49           0.82       0:10:24         0:00:24"
      ]
     },
     "metadata": {},
     "output_type": "display_data"
    }
   ],
   "source": [
    "#!g1.1\n",
    "import pandas as pd\n",
    "\n",
    "# Display floats with two decimal places.\n",
    "pd.set_option('precision', 2)\n",
    "\n",
    "# Create a DataFrame from our training statistics.\n",
    "df_stats = pd.DataFrame(data=training_stats)\n",
    "\n",
    "# Use the 'epoch' as the row index.\n",
    "df_stats = df_stats.set_index('epoch')\n",
    "\n",
    "# A hack to force the column headers to wrap.\n",
    "#df = df.style.set_table_styles([dict(selector=\"th\",props=[('max-width', '70px')])])\n",
    "\n",
    "# Display the table.\n",
    "df_stats"
   ]
  },
  {
   "cell_type": "code",
   "execution_count": 25,
   "metadata": {
    "cellId": "ymqquyyha6r7crmuw62ghu"
   },
   "outputs": [
    {
     "data": {
      "text/plain": [
       "'../data/'"
      ]
     },
     "metadata": {},
     "output_type": "display_data"
    }
   ],
   "source": [
    "#!g1.1\n",
    "PATH_TO_DATA"
   ]
  },
  {
   "cell_type": "code",
   "execution_count": 26,
   "metadata": {
    "cellId": "h3bpod5hrg5bb4zxwoz3r"
   },
   "outputs": [
    {
     "name": "stdout",
     "output_type": "stream",
     "text": [
      "/home/jupyter/work/resources/text_attacks/notebooks\n"
     ]
    }
   ],
   "source": [
    "#!g1.1\n",
    "!pwd"
   ]
  },
  {
   "cell_type": "code",
   "execution_count": 29,
   "metadata": {
    "cellId": "k9zyj6n878d3ys9is0gyku"
   },
   "outputs": [],
   "source": [
    "#!g1.1\n",
    "\n",
    "# сохраним модель!\n",
    "\n",
    "torch.save(model.state_dict(), 'amzn.bin')"
   ]
  },
  {
   "cell_type": "code",
   "execution_count": null,
   "metadata": {
    "cellId": "hs8fzt1gtbh0580g31mlc"
   },
   "outputs": [],
   "source": [
    "#!g1.1\n",
    "\n",
    "#загрузим модель\n",
    "\n",
    "device = torch.device(\"cuda\") \n",
    "#model = TheModelClass(args, *kwargs) \n",
    "model.load_state_dict(torch.load('../data/amzn.bin')) \n",
    "model.to(device)"
   ]
  },
  {
   "cell_type": "code",
   "execution_count": null,
   "metadata": {
    "cellId": "njbmlzhnuda604qntvqt96"
   },
   "outputs": [],
   "source": [
    "#!g1.1\n"
   ]
  },
  {
   "cell_type": "code",
   "execution_count": 30,
   "metadata": {
    "cellId": "yo3hba3sjdcplp76ip3qv",
    "colab": {
     "base_uri": "https://localhost:8080/",
     "height": 427
    },
    "id": "68xreA9JAmG5",
    "outputId": "70b8500d-7efc-4c99-de1f-05e8795e6298"
   },
   "outputs": [
    {
     "data": {
      "image/png": "[encoded data removed]",
      "text/plain": [
       "<Figure size 864x432 with 1 Axes>"
      ]
     },
     "metadata": {},
     "output_type": "display_data"
    }
   ],
   "source": [
    "#!g1.1\n",
    "import matplotlib.pyplot as plt\n",
    "%matplotlib inline\n",
    "\n",
    "import seaborn as sns\n",
    "\n",
    "# Use plot styling from seaborn.\n",
    "sns.set(style='darkgrid')\n",
    "\n",
    "# Increase the plot size and font size.\n",
    "sns.set(font_scale=1.5)\n",
    "plt.rcParams[\"figure.figsize\"] = (12,6)\n",
    "\n",
    "# Plot the learning curve.\n",
    "plt.plot(df_stats['Training Loss'], 'b-o', label=\"Training\")\n",
    "plt.plot(df_stats['Valid. Loss'], 'g-o', label=\"Validation\")\n",
    "\n",
    "# Label the plot.\n",
    "plt.title(\"Training & Validation Loss\")\n",
    "plt.xlabel(\"Epoch\")\n",
    "plt.ylabel(\"Loss\")\n",
    "plt.legend()\n",
    "plt.xticks([1, 2, 3, 4])\n",
    "\n",
    "plt.show()"
   ]
  },
  {
   "cell_type": "markdown",
   "metadata": {
    "cellId": "c6ihl02zkkd3klrsvlcosb",
    "id": "mkyubuJSOzg3"
   },
   "source": [
    "# 5. Performance On Test Set"
   ]
  },
  {
   "cell_type": "markdown",
   "metadata": {
    "cellId": "de3s75v75tom1mpybi35ba",
    "id": "Tg42jJqqM68F"
   },
   "source": [
    "### 5.1. Data Preparation\n"
   ]
  },
  {
   "cell_type": "markdown",
   "metadata": {
    "cellId": "pl9g4lgxyra35b2h2mkdzh",
    "id": "xWe0_JW21MyV"
   },
   "source": [
    "\n",
    "We'll need to apply all of the same steps that we did for the training data to prepare our test data set."
   ]
  },
  {
   "cell_type": "code",
   "execution_count": 31,
   "metadata": {
    "cellId": "tfbhrmflpbbihjfgwna4q"
   },
   "outputs": [
    {
     "data": {
      "text/plain": [
       "array(['birds', 'bunny rabbit central', 'cats', 'dogs',\n",
       "       'fish aquatic pets', 'small animals'], dtype=object)"
      ]
     },
     "metadata": {},
     "output_type": "display_data"
    }
   ],
   "source": [
    "#!g1.1\n",
    "le.classes_"
   ]
  },
  {
   "cell_type": "code",
   "execution_count": 32,
   "metadata": {
    "cellId": "a86rds8624vb1v75ilojo"
   },
   "outputs": [
    {
     "data": {
      "text/plain": [
       "((52057, 2), (17353, 2), (17353, 1))"
      ]
     },
     "metadata": {},
     "output_type": "display_data"
    }
   ],
   "source": [
    "#!g1.1\n",
    "train_df.shape, valid_df.shape, test_df.shape"
   ]
  },
  {
   "cell_type": "code",
   "execution_count": 33,
   "metadata": {
    "cellId": "617uf5lddvio95rmwnnqdb",
    "colab": {
     "base_uri": "https://localhost:8080/"
    },
    "id": "mAN0LZBOOPVh",
    "outputId": "7385ca3f-72d5-45f0-bbfe-5056c2f62c4f"
   },
   "outputs": [
    {
     "name": "stdout",
     "output_type": "stream",
     "text": [
      "Number of test sentences: 17,353\n",
      "\n"
     ]
    },
    {
     "name": "stderr",
     "output_type": "stream",
     "text": [
      "/home/jupyter/.local/lib/python3.7/site-packages/transformers/tokenization_utils_base.py:2227: FutureWarning: The `pad_to_max_length` argument is deprecated and will be removed in a future version, use `padding=True` or `padding='longest'` to pad to the longest sequence in the batch, or use `padding='max_length'` to pad to a max length. In this case, you can give a specific length with `max_length` (e.g. `max_length=45`) or leave max_length to None to pad to the maximal input size of the model (e.g. 512 for Bert).\n",
      "  FutureWarning,\n"
     ]
    }
   ],
   "source": [
    "#!g1.1\n",
    "import pandas as pd\n",
    "\n",
    "# Load the dataset into a pandas dataframe.\n",
    "df = valid_df\n",
    "\n",
    "# Report the number of sentences.\n",
    "print('Number of test sentences: {:,}\\n'.format(df.shape[0]))\n",
    "\n",
    "# Create sentence and label lists\n",
    "sentences = df.text.values\n",
    "labels = le.transform(df.label.values)\n",
    "\n",
    "# Tokenize all of the sentences and map the tokens to thier word IDs.\n",
    "input_ids = []\n",
    "attention_masks = []\n",
    "\n",
    "# For every sentence...\n",
    "for sent in sentences:\n",
    "    # `encode_plus` will:\n",
    "    #   (1) Tokenize the sentence.\n",
    "    #   (2) Prepend the `[CLS]` token to the start.\n",
    "    #   (3) Append the `[SEP]` token to the end.\n",
    "    #   (4) Map tokens to their IDs.\n",
    "    #   (5) Pad or truncate the sentence to `max_length`\n",
    "    #   (6) Create attention masks for [PAD] tokens.\n",
    "    encoded_dict = tokenizer.encode_plus(\n",
    "                        sent,                      # Sentence to encode.\n",
    "                        add_special_tokens = True, # Add '[CLS]' and '[SEP]'\n",
    "                        max_length = 64,           # Pad & truncate all sentences.  # max lenght IS SET TO 64!\n",
    "                        pad_to_max_length = True,\n",
    "                        return_attention_mask = True,   # Construct attn. masks.\n",
    "                        return_tensors = 'pt',     # Return pytorch tensors.\n",
    "                   )\n",
    "    \n",
    "    # Add the encoded sentence to the list.    \n",
    "    input_ids.append(encoded_dict['input_ids'])\n",
    "    \n",
    "    # And its attention mask (simply differentiates padding from non-padding).\n",
    "    attention_masks.append(encoded_dict['attention_mask'])\n",
    "\n",
    "# Convert the lists into tensors.\n",
    "input_ids = torch.cat(input_ids, dim=0)\n",
    "attention_masks = torch.cat(attention_masks, dim=0)\n",
    "labels = torch.tensor(labels)\n",
    "\n",
    "# Set the batch size.  \n",
    "batch_size = 144    #BATCH SIZE!\n",
    "\n",
    "# Create the DataLoader.\n",
    "prediction_data = TensorDataset(input_ids, attention_masks, labels)\n",
    "prediction_sampler = SequentialSampler(prediction_data)\n",
    "prediction_dataloader = DataLoader(prediction_data, sampler=prediction_sampler, batch_size=batch_size)"
   ]
  },
  {
   "cell_type": "markdown",
   "metadata": {
    "cellId": "0kiqap2yr79rvokzx7rxt",
    "id": "16lctEOyNFik"
   },
   "source": [
    "## 5.2. Evaluate on Test Set\n"
   ]
  },
  {
   "cell_type": "markdown",
   "metadata": {
    "cellId": "5828vkiyvxxmevpe3zc",
    "id": "rhR99IISNMg9"
   },
   "source": [
    "\n",
    "With the test set prepared, we can apply our fine-tuned model to generate predictions on the test set."
   ]
  },
  {
   "cell_type": "code",
   "execution_count": 34,
   "metadata": {
    "cellId": "23vn9npnejkj0euf9yvqb2r8",
    "colab": {
     "base_uri": "https://localhost:8080/"
    },
    "id": "Hba10sXR7Xi6",
    "outputId": "e35f0a6e-72c5-4bd0-9c4b-dcec9ef5059d"
   },
   "outputs": [
    {
     "name": "stdout",
     "output_type": "stream",
     "text": [
      "Predicting labels for 17,353 test sentences...\n",
      "    DONE.\n"
     ]
    }
   ],
   "source": [
    "#!g1.1\n",
    "# Prediction on test set\n",
    "\n",
    "print('Predicting labels for {:,} test sentences...'.format(len(input_ids)))\n",
    "\n",
    "# Put model in evaluation mode\n",
    "model.eval()\n",
    "\n",
    "# Tracking variables \n",
    "predictions , true_labels = [], []\n",
    "\n",
    "# Predict \n",
    "for batch in prediction_dataloader:\n",
    "  # Add batch to GPU\n",
    "  batch = tuple(t.to(device) for t in batch)\n",
    "  \n",
    "  # Unpack the inputs from our dataloader\n",
    "  b_input_ids, b_input_mask, b_labels = batch\n",
    "  \n",
    "  # Telling the model not to compute or store gradients, saving memory and \n",
    "  # speeding up prediction\n",
    "  with torch.no_grad():\n",
    "      # Forward pass, calculate logit predictions.\n",
    "      result = model(b_input_ids, \n",
    "                     token_type_ids=None, \n",
    "                     attention_mask=b_input_mask,\n",
    "                     return_dict=True)\n",
    "\n",
    "  logits = result.logits\n",
    "\n",
    "  # Move logits and labels to CPU\n",
    "  logits = logits.detach().cpu().numpy()\n",
    "  label_ids = b_labels.to('cpu').numpy()\n",
    "  \n",
    "  # Store predictions and true labels\n",
    "  predictions.append(logits)\n",
    "  true_labels.append(label_ids)\n",
    "\n",
    "print('    DONE.')"
   ]
  },
  {
   "cell_type": "markdown",
   "metadata": {
    "cellId": "j6vmw7av6948rt95g50v7",
    "id": "1YrjAPX2V-l4"
   },
   "source": [
    "Now we'll combine the results for all of the batches and calculate our final MCC score."
   ]
  },
  {
   "cell_type": "code",
   "execution_count": 36,
   "metadata": {
    "cellId": "zz5wgkkxip1zo9r77flcx",
    "colab": {
     "base_uri": "https://localhost:8080/"
    },
    "id": "oCYZa1lQ8Jn8",
    "outputId": "b4650298-0e35-4ed8-be13-83f074a617ed"
   },
   "outputs": [],
   "source": [
    "#!g1.1\n",
    "# Combine the results across all batches. \n",
    "flat_predictions = np.concatenate(predictions, axis=0)\n",
    "\n",
    "# For each sample, pick the label (0 or 1) with the higher score.\n",
    "flat_predictions = np.argmax(flat_predictions, axis=1).flatten()\n",
    "\n",
    "# Combine the correct labels for each batch into a single list.\n",
    "flat_true_labels = np.concatenate(true_labels, axis=0)\n",
    "\n",
    "\n"
   ]
  },
  {
   "cell_type": "code",
   "execution_count": 37,
   "metadata": {
    "cellId": "fox0ufcpgugxmqbbmoizcq"
   },
   "outputs": [
    {
     "data": {
      "text/plain": [
       "((17353,), (17353,))"
      ]
     },
     "metadata": {},
     "output_type": "display_data"
    }
   ],
   "source": [
    "#!g1.1\n",
    "flat_true_labels.shape, flat_predictions.shape"
   ]
  },
  {
   "cell_type": "code",
   "execution_count": 38,
   "metadata": {
    "cellId": "z1yzrc16djfb9x7vhxcot"
   },
   "outputs": [],
   "source": [
    "#!g1.1\n",
    "from sklearn.metrics import accuracy_score, f1_score, roc_auc_score, classification_report"
   ]
  },
  {
   "cell_type": "code",
   "execution_count": 39,
   "metadata": {
    "cellId": "8lqa42u22akhmdby0521h6"
   },
   "outputs": [
    {
     "name": "stdout",
     "output_type": "stream",
     "text": [
      "accuracy 0.809\n",
      "f1 0.49\n"
     ]
    }
   ],
   "source": [
    "#!g1.1\n",
    "print('accuracy', np.round(accuracy_score(flat_true_labels, flat_predictions),3)) #качество на тесте\n",
    "print('f1', np.round(f1_score(flat_true_labels, flat_predictions, average='macro'),2)) #качество на тесте\n"
   ]
  },
  {
   "cell_type": "code",
   "execution_count": 40,
   "metadata": {
    "cellId": "97rsff4hgxiuqcx05v1ul9"
   },
   "outputs": [
    {
     "data": {
      "text/plain": [
       "array(['dogs', 'dogs'], dtype=object)"
      ]
     },
     "metadata": {},
     "output_type": "display_data"
    }
   ],
   "source": [
    "#!g1.1\n",
    "le.inverse_transform([3,3])"
   ]
  },
  {
   "cell_type": "code",
   "execution_count": 199,
   "metadata": {
    "cellId": "qrs82gyoegxcc9lgrmow8"
   },
   "outputs": [
    {
     "name": "stdout",
     "output_type": "stream",
     "text": [
      "accuracy 0.829\n",
      "f1 0.69\n"
     ]
    }
   ],
   "source": [
    "#!g1.1\n",
    "print('accuracy', np.round(accuracy_score(flat_true_labels, flat_predictions),3)) #качество на тесте\n",
    "print('f1', np.round(f1_score(flat_true_labels, flat_predictions, average='macro'),2)) #качество на тесте\n"
   ]
  },
  {
   "cell_type": "code",
   "execution_count": null,
   "metadata": {
    "cellId": "hvjlvn2n7qeqsldw60si3"
   },
   "outputs": [],
   "source": [
    "#!g1.1\n",
    "мы видим, что модель обучалась в четыре раза дольше, тем не менее, качество получилось хуже"
   ]
  },
  {
   "cell_type": "code",
   "execution_count": 42,
   "metadata": {
    "cellId": "2dzzc1rsu4vmk5xfqhgypb"
   },
   "outputs": [
    {
     "name": "stderr",
     "output_type": "stream",
     "text": [
      "/usr/local/lib/python3.7/dist-packages/sklearn/metrics/_classification.py:1272: UndefinedMetricWarning: Precision and F-score are ill-defined and being set to 0.0 in labels with no predicted samples. Use `zero_division` parameter to control this behavior.\n",
      "  _warn_prf(average, modifier, msg_start, len(result))\n",
      "/usr/local/lib/python3.7/dist-packages/sklearn/metrics/_classification.py:1272: UndefinedMetricWarning: Precision and F-score are ill-defined and being set to 0.0 in labels with no predicted samples. Use `zero_division` parameter to control this behavior.\n",
      "  _warn_prf(average, modifier, msg_start, len(result))\n",
      "/usr/local/lib/python3.7/dist-packages/sklearn/metrics/_classification.py:1272: UndefinedMetricWarning: Precision and F-score are ill-defined and being set to 0.0 in labels with no predicted samples. Use `zero_division` parameter to control this behavior.\n",
      "  _warn_prf(average, modifier, msg_start, len(result))\n"
     ]
    },
    {
     "name": "stdout",
     "output_type": "stream",
     "text": [
      "              precision    recall  f1-score   support\n",
      "\n",
      "           0       0.51      0.50      0.51       353\n",
      "           1       0.00      0.00      0.00       190\n",
      "           2       0.80      0.75      0.77      6166\n",
      "           3       0.82      0.89      0.85      9333\n",
      "           4       0.80      0.82      0.81      1197\n",
      "           5       0.00      0.00      0.00       114\n",
      "\n",
      "    accuracy                           0.81     17353\n",
      "   macro avg       0.49      0.49      0.49     17353\n",
      "weighted avg       0.79      0.81      0.80     17353\n",
      "\n"
     ]
    }
   ],
   "source": [
    "#!g1.1\n",
    "print(classification_report(flat_true_labels, flat_predictions)) #качество на тесте"
   ]
  },
  {
   "cell_type": "code",
   "execution_count": null,
   "metadata": {
    "cellId": "vgwc0p7n2y9v25li4l85cg"
   },
   "outputs": [],
   "source": [
    "#!g1.1\n",
    "print(classification_report(flat_true_labels, flat_predictions)) #качество на тесте"
   ]
  },
  {
   "cell_type": "markdown",
   "metadata": {
    "cellId": "wx6epmkgtzn0lj9sclkiugh"
   },
   "source": [
    "## Проверим модель на робастность на основе адв примеров"
   ]
  },
  {
   "cell_type": "markdown",
   "metadata": {
    "cellId": "vrifsyxtk2q9ttnspxy2f"
   },
   "source": [
    "#!g1.1\n",
    "\n",
    "### Релизуем рецепт - textfooler"
   ]
  },
  {
   "cell_type": "code",
   "execution_count": 51,
   "metadata": {
    "cellId": "yu1vixstynsh6yyext8c"
   },
   "outputs": [
    {
     "name": "stderr",
     "output_type": "stream",
     "text": [
      "textattack: Unknown if model of class <class 'transformers.models.bert.modeling_bert.BertForSequenceClassification'> compatible with goal function <class 'textattack.goal_functions.classification.untargeted_classification.UntargetedClassification'>.\n"
     ]
    }
   ],
   "source": [
    "#!g1.1\n",
    "\n",
    "# обернем атаку\n",
    "\n",
    "import textattack\n",
    "from datasets import Dataset\n",
    "\n",
    "\n",
    "model_wrapper = textattack.models.wrappers.HuggingFaceModelWrapper(model, tokenizer)\n",
    "attack = textattack.attack_recipes.TextFoolerJin2019.build(model_wrapper)"
   ]
  },
  {
   "cell_type": "code",
   "execution_count": 54,
   "metadata": {
    "cellId": "q0lkiz51qpjtelvz4tbb"
   },
   "outputs": [],
   "source": [
    "#!g1.1\n",
    "\n",
    "#датасет прямо из пандаса\n",
    "dataset = Dataset.from_dict(df)"
   ]
  },
  {
   "cell_type": "code",
   "execution_count": 101,
   "metadata": {
    "cellId": "s3ek2py74noaco1v6fqfdi"
   },
   "outputs": [],
   "source": [
    "#!g1.1\n",
    "attack_args = textattack.AttackArgs(num_examples=100, log_to_csv=\"log10.csv\", checkpoint_interval=20, checkpoint_dir=\"checkpoints\", disable_stdout=True)\n"
   ]
  },
  {
   "cell_type": "code",
   "execution_count": 290,
   "metadata": {
    "cellId": "cvsuall10d6924ku9x5yc"
   },
   "outputs": [],
   "source": [
    "#!g1.1\n",
    "valid_df['label'] = le.transform(valid_df['label'])"
   ]
  },
  {
   "cell_type": "code",
   "execution_count": 57,
   "metadata": {
    "cellId": "zi5luiwhpepz2q00240d6d"
   },
   "outputs": [],
   "source": [
    "#!g1.1\n",
    "df['labels'] = le.transform(df.label.values)\n",
    "df.drop(columns = ['label'], inplace=True) "
   ]
  },
  {
   "cell_type": "code",
   "execution_count": 67,
   "metadata": {
    "cellId": "cbuhcgna768fjh3pdt6rls"
   },
   "outputs": [],
   "source": [
    "#!g1.1\n",
    "\n",
    "#label_map\n",
    "from datasets import load_dataset\n",
    "dataset = Dataset.from_pandas(valid_df)"
   ]
  },
  {
   "cell_type": "code",
   "execution_count": 71,
   "metadata": {
    "cellId": "riniy4b4fmizmj61x66u29"
   },
   "outputs": [],
   "source": [
    "#!g1.1\n",
    "dataset = textattack.datasets.HuggingFaceDataset(dataset, dataset_columns = (['text'], 'labels'))\n"
   ]
  },
  {
   "cell_type": "code",
   "execution_count": 102,
   "metadata": {
    "cellId": "rwc5un4j6dapsge9ihad"
   },
   "outputs": [],
   "source": [
    "#!g1.1\n",
    "attacker = textattack.Attacker(attack, dataset, attack_args)\n",
    "\n",
    "# что на вход можно подавать в качестве аргумента для датасета? туториал подсказывает, что нужно сначала загрузить датасет в библиотеку"
   ]
  },
  {
   "cell_type": "code",
   "execution_count": 103,
   "metadata": {
    "cellId": "st9b05066gpy4goxdgw99"
   },
   "outputs": [
    {
     "name": "stdout",
     "output_type": "stream",
     "text": [
      "Attack(\n",
      "  (search_method): GreedyWordSwapWIR(\n",
      "    (wir_method):  delete\n",
      "  )\n",
      "  (goal_function):  UntargetedClassification\n",
      "  (transformation):  WordSwapEmbedding(\n",
      "    (max_candidates):  50\n",
      "    (embedding):  WordEmbedding\n",
      "  )\n",
      "  (constraints): \n",
      "    (0): WordEmbeddingDistance(\n",
      "        (embedding):  WordEmbedding\n",
      "        (min_cos_sim):  0.5\n",
      "        (cased):  False\n",
      "        (include_unknown_words):  True\n",
      "        (compare_against_original):  True\n",
      "      )\n",
      "    (1): PartOfSpeech(\n",
      "        (tagger_type):  nltk\n",
      "        (tagset):  universal\n",
      "        (allow_verb_noun_swap):  True\n",
      "        (compare_against_original):  True\n",
      "      )\n",
      "    (2): UniversalSentenceEncoder(\n",
      "        (metric):  angular\n",
      "        (threshold):  0.840845057\n",
      "        (window_size):  15\n",
      "        (skip_text_shorter_than_window):  True\n",
      "        (compare_against_original):  False\n",
      "      )\n",
      "    (3): RepeatModification\n",
      "    (4): StopwordModification\n",
      "    (5): InputColumnModification(\n",
      "        (matching_column_labels):  ['premise', 'hypothesis']\n",
      "        (columns_to_ignore):  {'premise'}\n",
      "      )\n",
      "  (is_black_box):  True\n",
      ") \n",
      "\n",
      "\n",
      "\n",
      "=============================================================================================================================\n",
      "=============================================================================================================================\n",
      "\n",
      "\n",
      "\n",
      "=============================================================================================================================\n",
      "=============================================================================================================================\n",
      "\n",
      "\n",
      "\n",
      "=============================================================================================================================\n",
      "=============================================================================================================================\n",
      "\n",
      "\n",
      "\n",
      "=============================================================================================================================\n",
      "=============================================================================================================================\n",
      "\n",
      "\n",
      "\n",
      "=============================================================================================================================\n",
      "=============================================================================================================================\n",
      "\n",
      "\n",
      "+-------------------------------+--------+\n",
      "| Attack Results                |        |\n",
      "+-------------------------------+--------+\n",
      "| Number of successful attacks: | 76     |\n",
      "| Number of failed attacks:     | 1      |\n",
      "| Number of skipped attacks:    | 23     |\n",
      "| Original accuracy:            | 77.0%  |\n",
      "| Accuracy under attack:        | 1.0%   |\n",
      "| Attack success rate:          | 98.7%  |\n",
      "| Average perturbed word %:     | 12.49% |\n",
      "| Average num. words per input: | 78.42  |\n",
      "| Avg num queries:              | 321.66 |\n",
      "+-------------------------------+--------+\n",
      "CPU times: user 5min 20s, sys: 1min 41s, total: 7min 2s\n",
      "Wall time: 6min 51s\n"
     ]
    },
    {
     "name": "stderr",
     "output_type": "stream",
     "text": [
      "textattack: Logging to CSV at path log10.csv\n",
      "\n",
      "  0%|          | 0/100 [00:00<?, ?it/s]\u001b[A\n",
      "  1%|          | 1/100 [00:01<01:56,  1.18s/it]\u001b[A\n",
      "[Succeeded / Failed / Skipped / Total] 1 / 0 / 0 / 1:   1%|          | 1/100 [00:01<01:57,  1.19s/it]\u001b[A\n",
      "[Succeeded / Failed / Skipped / Total] 1 / 0 / 0 / 1:   2%|▏         | 2/100 [00:03<02:43,  1.67s/it]\u001b[A\n",
      "[Succeeded / Failed / Skipped / Total] 2 / 0 / 0 / 2:   2%|▏         | 2/100 [00:03<02:43,  1.67s/it]\u001b[A\n",
      "[Succeeded / Failed / Skipped / Total] 2 / 0 / 0 / 2:   3%|▎         | 3/100 [00:09<05:12,  3.22s/it]\u001b[A\n",
      "[Succeeded / Failed / Skipped / Total] 3 / 0 / 0 / 3:   3%|▎         | 3/100 [00:09<05:12,  3.22s/it]\u001b[A\n",
      "[Succeeded / Failed / Skipped / Total] 3 / 0 / 0 / 3:   4%|▍         | 4/100 [00:11<04:45,  2.97s/it]\u001b[A\n",
      "[Succeeded / Failed / Skipped / Total] 4 / 0 / 0 / 4:   4%|▍         | 4/100 [00:11<04:45,  2.97s/it]\u001b[A\n",
      "[Succeeded / Failed / Skipped / Total] 4 / 0 / 0 / 4:   5%|▌         | 5/100 [00:15<04:55,  3.12s/it]\u001b[A\n",
      "[Succeeded / Failed / Skipped / Total] 5 / 0 / 0 / 5:   5%|▌         | 5/100 [00:15<04:56,  3.12s/it]\u001b[A\n",
      "[Succeeded / Failed / Skipped / Total] 5 / 0 / 0 / 5:   6%|▌         | 6/100 [00:16<04:13,  2.70s/it]\u001b[A\n",
      "[Succeeded / Failed / Skipped / Total] 6 / 0 / 0 / 6:   6%|▌         | 6/100 [00:16<04:13,  2.70s/it]\u001b[A\n",
      "[Succeeded / Failed / Skipped / Total] 6 / 0 / 0 / 6:   7%|▋         | 7/100 [00:18<04:01,  2.59s/it]\u001b[A\n",
      "[Succeeded / Failed / Skipped / Total] 7 / 0 / 0 / 7:   7%|▋         | 7/100 [00:18<04:01,  2.59s/it]\u001b[A\n",
      "[Succeeded / Failed / Skipped / Total] 7 / 0 / 0 / 7:   8%|▊         | 8/100 [00:21<04:10,  2.72s/it]\u001b[A\n",
      "[Succeeded / Failed / Skipped / Total] 8 / 0 / 0 / 8:   8%|▊         | 8/100 [00:21<04:10,  2.72s/it]\u001b[A\n",
      "[Succeeded / Failed / Skipped / Total] 8 / 0 / 0 / 8:   9%|▉         | 9/100 [00:23<03:53,  2.57s/it]\u001b[A\n",
      "[Succeeded / Failed / Skipped / Total] 9 / 0 / 0 / 9:   9%|▉         | 9/100 [00:23<03:54,  2.57s/it]\u001b[A\n",
      "[Succeeded / Failed / Skipped / Total] 9 / 0 / 0 / 9:  10%|█         | 10/100 [00:49<07:24,  4.94s/it]\u001b[A\n",
      "[Succeeded / Failed / Skipped / Total] 10 / 0 / 0 / 10:  10%|█         | 10/100 [00:49<07:25,  4.95s/it]\u001b[A\n",
      "[Succeeded / Failed / Skipped / Total] 10 / 0 / 0 / 10:  11%|█         | 11/100 [00:50<06:48,  4.58s/it]\u001b[A\n",
      "[Succeeded / Failed / Skipped / Total] 11 / 0 / 0 / 11:  11%|█         | 11/100 [00:50<06:48,  4.59s/it]\u001b[A\n",
      "[Succeeded / Failed / Skipped / Total] 11 / 0 / 1 / 12:  12%|█▏        | 12/100 [00:50<06:10,  4.21s/it]\u001b[A\n",
      "[Succeeded / Failed / Skipped / Total] 11 / 0 / 1 / 12:  13%|█▎        | 13/100 [01:34<10:30,  7.24s/it]\u001b[A\n",
      "[Succeeded / Failed / Skipped / Total] 12 / 0 / 1 / 13:  13%|█▎        | 13/100 [01:34<10:30,  7.24s/it]\u001b[A\n",
      "[Succeeded / Failed / Skipped / Total] 12 / 0 / 2 / 14:  14%|█▍        | 14/100 [01:34<09:38,  6.73s/it]\u001b[A\n",
      "[Succeeded / Failed / Skipped / Total] 12 / 0 / 3 / 15:  15%|█▌        | 15/100 [01:34<08:53,  6.28s/it]\u001b[A\n",
      "[Succeeded / Failed / Skipped / Total] 12 / 0 / 3 / 15:  16%|█▌        | 16/100 [01:36<08:26,  6.03s/it]\u001b[A\n",
      "[Succeeded / Failed / Skipped / Total] 13 / 0 / 3 / 16:  16%|█▌        | 16/100 [01:36<08:26,  6.03s/it]\u001b[A\n",
      "[Succeeded / Failed / Skipped / Total] 14 / 0 / 3 / 17:  17%|█▋        | 17/100 [01:37<07:55,  5.73s/it]\u001b[A\n",
      "[Succeeded / Failed / Skipped / Total] 15 / 0 / 3 / 18:  18%|█▊        | 18/100 [01:38<07:30,  5.50s/it]\u001b[A\n",
      "[Succeeded / Failed / Skipped / Total] 15 / 0 / 3 / 18:  19%|█▉        | 19/100 [01:40<07:08,  5.29s/it]\u001b[A\n",
      "[Succeeded / Failed / Skipped / Total] 16 / 0 / 3 / 19:  19%|█▉        | 19/100 [01:40<07:08,  5.29s/it]\u001b[A\n",
      "[Succeeded / Failed / Skipped / Total] 17 / 0 / 3 / 20:  20%|██        | 20/100 [01:42<06:49,  5.11s/it]\u001b[Atextattack: Saving checkpoint under \"checkpoints/1640372622836.ta.chkpt\" at 2021-12-24 19:03:42 after 20 attacks.\n",
      "\n",
      "[Succeeded / Failed / Skipped / Total] 18 / 0 / 3 / 21:  21%|██        | 21/100 [01:42<06:26,  4.89s/it]\u001b[A\n",
      "[Succeeded / Failed / Skipped / Total] 18 / 0 / 3 / 21:  21%|██        | 21/100 [01:59<07:29,  5.69s/it]\u001b[A\n",
      "[Succeeded / Failed / Skipped / Total] 18 / 0 / 3 / 21:  22%|██▏       | 22/100 [02:00<07:08,  5.50s/it]\u001b[A\n",
      "[Succeeded / Failed / Skipped / Total] 19 / 0 / 3 / 22:  22%|██▏       | 22/100 [02:00<07:08,  5.50s/it]\u001b[A\n",
      "[Succeeded / Failed / Skipped / Total] 19 / 0 / 3 / 22:  23%|██▎       | 23/100 [02:01<06:48,  5.30s/it]\u001b[A\n",
      "[Succeeded / Failed / Skipped / Total] 20 / 0 / 3 / 23:  23%|██▎       | 23/100 [02:01<06:48,  5.30s/it]\u001b[A\n",
      "[Succeeded / Failed / Skipped / Total] 20 / 0 / 4 / 24:  24%|██▍       | 24/100 [02:02<06:26,  5.08s/it]\u001b[A\n",
      "[Succeeded / Failed / Skipped / Total] 20 / 0 / 4 / 24:  25%|██▌       | 25/100 [02:09<06:28,  5.18s/it]\u001b[A\n",
      "[Succeeded / Failed / Skipped / Total] 21 / 0 / 4 / 25:  25%|██▌       | 25/100 [02:09<06:28,  5.18s/it]\u001b[A\n",
      "[Succeeded / Failed / Skipped / Total] 22 / 0 / 4 / 26:  26%|██▌       | 26/100 [02:14<06:23,  5.18s/it]\u001b[A\n",
      "[Succeeded / Failed / Skipped / Total] 22 / 0 / 4 / 26:  26%|██▌       | 26/100 [02:19<06:36,  5.36s/it]\u001b[A\n",
      "[Succeeded / Failed / Skipped / Total] 22 / 0 / 4 / 26:  27%|██▋       | 27/100 [02:29<06:43,  5.53s/it]\u001b[A\n",
      "[Succeeded / Failed / Skipped / Total] 23 / 0 / 4 / 27:  27%|██▋       | 27/100 [02:29<06:43,  5.53s/it]\u001b[A\n",
      "[Succeeded / Failed / Skipped / Total] 23 / 0 / 5 / 28:  28%|██▊       | 28/100 [02:29<06:23,  5.33s/it]\u001b[A\n",
      "[Succeeded / Failed / Skipped / Total] 23 / 0 / 5 / 28:  29%|██▉       | 29/100 [03:03<07:28,  6.32s/it]\u001b[A\n",
      "[Succeeded / Failed / Skipped / Total] 23 / 1 / 5 / 29:  29%|██▉       | 29/100 [03:03<07:28,  6.32s/it]\u001b[A\n",
      "[Succeeded / Failed / Skipped / Total] 23 / 1 / 6 / 30:  30%|███       | 30/100 [03:03<07:07,  6.11s/it]\u001b[A\n",
      "[Succeeded / Failed / Skipped / Total] 23 / 1 / 6 / 30:  31%|███       | 31/100 [03:08<07:00,  6.09s/it]\u001b[A\n",
      "[Succeeded / Failed / Skipped / Total] 24 / 1 / 6 / 31:  31%|███       | 31/100 [03:08<07:00,  6.09s/it]\u001b[A\n",
      "[Succeeded / Failed / Skipped / Total] 25 / 1 / 6 / 32:  32%|███▏      | 32/100 [03:11<06:46,  5.97s/it]\u001b[A\n",
      "[Succeeded / Failed / Skipped / Total] 25 / 1 / 6 / 32:  33%|███▎      | 33/100 [03:12<06:31,  5.84s/it]\u001b[A\n",
      "[Succeeded / Failed / Skipped / Total] 26 / 1 / 6 / 33:  33%|███▎      | 33/100 [03:12<06:31,  5.84s/it]\u001b[A\n",
      "[Succeeded / Failed / Skipped / Total] 26 / 1 / 7 / 34:  34%|███▍      | 34/100 [03:12<06:14,  5.67s/it]\u001b[A\n",
      "[Succeeded / Failed / Skipped / Total] 26 / 1 / 7 / 34:  35%|███▌      | 35/100 [03:16<06:04,  5.61s/it]\u001b[A\n",
      "[Succeeded / Failed / Skipped / Total] 27 / 1 / 7 / 35:  35%|███▌      | 35/100 [03:16<06:04,  5.61s/it]\u001b[A\n",
      "[Succeeded / Failed / Skipped / Total] 28 / 1 / 7 / 36:  36%|███▌      | 36/100 [03:18<05:52,  5.51s/it]\u001b[A\n",
      "[Succeeded / Failed / Skipped / Total] 28 / 1 / 7 / 36:  37%|███▋      | 37/100 [03:20<05:41,  5.41s/it]\u001b[A\n",
      "[Succeeded / Failed / Skipped / Total] 29 / 1 / 7 / 37:  37%|███▋      | 37/100 [03:20<05:41,  5.41s/it]\u001b[A\n",
      "[Succeeded / Failed / Skipped / Total] 30 / 1 / 7 / 38:  38%|███▊      | 38/100 [03:27<05:38,  5.45s/it]\u001b[A\n",
      "[Succeeded / Failed / Skipped / Total] 30 / 1 / 7 / 38:  39%|███▉      | 39/100 [03:27<05:24,  5.31s/it]\u001b[A\n",
      "[Succeeded / Failed / Skipped / Total] 30 / 1 / 8 / 39:  39%|███▉      | 39/100 [03:27<05:24,  5.31s/it]\u001b[A\n",
      "[Succeeded / Failed / Skipped / Total] 31 / 1 / 8 / 40:  40%|████      | 40/100 [03:31<05:16,  5.28s/it]\u001b[Atextattack: Saving checkpoint under \"checkpoints/1640372731858.ta.chkpt\" at 2021-12-24 19:05:31 after 40 attacks.\n",
      "\n",
      "[Succeeded / Failed / Skipped / Total] 31 / 1 / 8 / 40:  41%|████      | 41/100 [03:35<05:10,  5.26s/it]\u001b[A\n",
      "[Succeeded / Failed / Skipped / Total] 32 / 1 / 8 / 41:  41%|████      | 41/100 [03:35<05:10,  5.26s/it]\u001b[A\n",
      "[Succeeded / Failed / Skipped / Total] 33 / 1 / 8 / 42:  42%|████▏     | 42/100 [03:38<05:01,  5.19s/it]\u001b[A\n",
      "[Succeeded / Failed / Skipped / Total] 33 / 1 / 8 / 42:  43%|████▎     | 43/100 [03:39<04:50,  5.09s/it]\u001b[A\n",
      "[Succeeded / Failed / Skipped / Total] 34 / 1 / 8 / 43:  43%|████▎     | 43/100 [03:39<04:50,  5.09s/it]\u001b[A\n",
      "[Succeeded / Failed / Skipped / Total] 35 / 1 / 8 / 44:  44%|████▍     | 44/100 [03:40<04:40,  5.01s/it]\u001b[A\n",
      "[Succeeded / Failed / Skipped / Total] 35 / 1 / 8 / 44:  45%|████▌     | 45/100 [03:41<04:30,  4.91s/it]\u001b[A\n",
      "[Succeeded / Failed / Skipped / Total] 36 / 1 / 8 / 45:  45%|████▌     | 45/100 [03:41<04:30,  4.91s/it]\u001b[A\n",
      "[Succeeded / Failed / Skipped / Total] 37 / 1 / 8 / 46:  46%|████▌     | 46/100 [03:48<04:28,  4.97s/it]\u001b[A\n",
      "[Succeeded / Failed / Skipped / Total] 37 / 1 / 8 / 46:  47%|████▋     | 47/100 [03:48<04:17,  4.87s/it]\u001b[A\n",
      "[Succeeded / Failed / Skipped / Total] 37 / 1 / 9 / 47:  47%|████▋     | 47/100 [03:48<04:17,  4.87s/it]\u001b[A\n",
      "[Succeeded / Failed / Skipped / Total] 38 / 1 / 9 / 48:  48%|████▊     | 48/100 [03:53<04:12,  4.86s/it]\u001b[A\n",
      "[Succeeded / Failed / Skipped / Total] 38 / 1 / 9 / 48:  49%|████▉     | 49/100 [03:53<04:02,  4.76s/it]\u001b[A\n",
      "[Succeeded / Failed / Skipped / Total] 38 / 1 / 10 / 49:  49%|████▉     | 49/100 [03:53<04:02,  4.76s/it]\u001b[A\n",
      "[Succeeded / Failed / Skipped / Total] 38 / 1 / 11 / 50:  50%|█████     | 50/100 [03:53<03:53,  4.67s/it]\u001b[A\n",
      "[Succeeded / Failed / Skipped / Total] 38 / 1 / 12 / 51:  51%|█████     | 51/100 [03:53<03:44,  4.58s/it]\u001b[A\n",
      "[Succeeded / Failed / Skipped / Total] 38 / 1 / 12 / 51:  52%|█████▏    | 52/100 [03:54<03:36,  4.52s/it]\u001b[A\n",
      "[Succeeded / Failed / Skipped / Total] 39 / 1 / 12 / 52:  52%|█████▏    | 52/100 [03:54<03:36,  4.52s/it]\u001b[A\n",
      "[Succeeded / Failed / Skipped / Total] 40 / 1 / 12 / 53:  53%|█████▎    | 53/100 [03:56<03:29,  4.46s/it]\u001b[A\n",
      "[Succeeded / Failed / Skipped / Total] 41 / 1 / 12 / 54:  54%|█████▍    | 54/100 [04:06<03:29,  4.56s/it]\u001b[A\n",
      "[Succeeded / Failed / Skipped / Total] 41 / 1 / 12 / 54:  55%|█████▌    | 55/100 [04:08<03:23,  4.53s/it]\u001b[A\n",
      "[Succeeded / Failed / Skipped / Total] 42 / 1 / 12 / 55:  55%|█████▌    | 55/100 [04:08<03:23,  4.53s/it]\u001b[A\n",
      "[Succeeded / Failed / Skipped / Total] 42 / 1 / 12 / 55:  56%|█████▌    | 56/100 [04:12<03:18,  4.51s/it]\u001b[A\n",
      "[Succeeded / Failed / Skipped / Total] 43 / 1 / 12 / 56:  56%|█████▌    | 56/100 [04:12<03:18,  4.51s/it]\u001b[A\n",
      "[Succeeded / Failed / Skipped / Total] 43 / 1 / 13 / 57:  57%|█████▋    | 57/100 [04:12<03:10,  4.43s/it]\u001b[A\n",
      "[Succeeded / Failed / Skipped / Total] 43 / 1 / 13 / 57:  58%|█████▊    | 58/100 [04:15<03:04,  4.40s/it]\u001b[A\n",
      "[Succeeded / Failed / Skipped / Total] 44 / 1 / 13 / 58:  58%|█████▊    | 58/100 [04:15<03:04,  4.40s/it]\u001b[A\n",
      "[Succeeded / Failed / Skipped / Total] 44 / 1 / 14 / 59:  59%|█████▉    | 59/100 [04:15<02:57,  4.33s/it]\u001b[A\n",
      "[Succeeded / Failed / Skipped / Total] 44 / 1 / 15 / 60:  60%|██████    | 60/100 [04:15<02:50,  4.25s/it]\u001b[Atextattack: Saving checkpoint under \"checkpoints/1640372775762.ta.chkpt\" at 2021-12-24 19:06:15 after 60 attacks.\n",
      "\n",
      "[Succeeded / Failed / Skipped / Total] 44 / 1 / 15 / 60:  61%|██████    | 61/100 [04:19<02:45,  4.25s/it]\u001b[A\n",
      "[Succeeded / Failed / Skipped / Total] 45 / 1 / 15 / 61:  61%|██████    | 61/100 [04:19<02:45,  4.25s/it]\u001b[A\n",
      "[Succeeded / Failed / Skipped / Total] 46 / 1 / 15 / 62:  62%|██████▏   | 62/100 [04:19<02:39,  4.19s/it]\u001b[A\n",
      "[Succeeded / Failed / Skipped / Total] 47 / 1 / 15 / 63:  63%|██████▎   | 63/100 [04:22<02:33,  4.16s/it]\u001b[A\n",
      "[Succeeded / Failed / Skipped / Total] 47 / 1 / 15 / 63:  64%|██████▍   | 64/100 [04:23<02:28,  4.12s/it]\u001b[A\n",
      "[Succeeded / Failed / Skipped / Total] 48 / 1 / 15 / 64:  64%|██████▍   | 64/100 [04:23<02:28,  4.12s/it]\u001b[A\n",
      "[Succeeded / Failed / Skipped / Total] 48 / 1 / 16 / 65:  65%|██████▌   | 65/100 [04:23<02:21,  4.05s/it]\u001b[A\n",
      "[Succeeded / Failed / Skipped / Total] 49 / 1 / 16 / 66:  66%|██████▌   | 66/100 [04:26<02:17,  4.03s/it]\u001b[A\n",
      "[Succeeded / Failed / Skipped / Total] 49 / 1 / 16 / 66:  67%|██████▋   | 67/100 [04:30<02:13,  4.04s/it]\u001b[A\n",
      "[Succeeded / Failed / Skipped / Total] 50 / 1 / 16 / 67:  67%|██████▋   | 67/100 [04:30<02:13,  4.04s/it]\u001b[A\n",
      "[Succeeded / Failed / Skipped / Total] 51 / 1 / 16 / 68:  68%|██████▊   | 68/100 [04:31<02:07,  3.99s/it]\u001b[A\n",
      "[Succeeded / Failed / Skipped / Total] 51 / 1 / 16 / 68:  68%|██████▊   | 68/100 [04:49<02:16,  4.26s/it]\u001b[A\n",
      "[Succeeded / Failed / Skipped / Total] 51 / 1 / 16 / 68:  69%|██████▉   | 69/100 [05:27<02:27,  4.75s/it]\u001b[A\n",
      "[Succeeded / Failed / Skipped / Total] 52 / 1 / 16 / 69:  69%|██████▉   | 69/100 [05:27<02:27,  4.75s/it]\u001b[A\n",
      "[Succeeded / Failed / Skipped / Total] 52 / 1 / 16 / 69:  70%|███████   | 70/100 [05:29<02:21,  4.70s/it]\u001b[A\n",
      "[Succeeded / Failed / Skipped / Total] 53 / 1 / 16 / 70:  70%|███████   | 70/100 [05:29<02:21,  4.70s/it]\u001b[A\n",
      "[Succeeded / Failed / Skipped / Total] 53 / 1 / 17 / 71:  71%|███████   | 71/100 [05:29<02:14,  4.64s/it]\u001b[A\n",
      "[Succeeded / Failed / Skipped / Total] 53 / 1 / 17 / 71:  72%|███████▏  | 72/100 [05:29<02:08,  4.58s/it]\u001b[A\n",
      "[Succeeded / Failed / Skipped / Total] 54 / 1 / 17 / 72:  72%|███████▏  | 72/100 [05:29<02:08,  4.58s/it]\u001b[A\n",
      "[Succeeded / Failed / Skipped / Total] 54 / 1 / 18 / 73:  73%|███████▎  | 73/100 [05:29<02:01,  4.52s/it]\u001b[A\n",
      "[Succeeded / Failed / Skipped / Total] 54 / 1 / 18 / 73:  74%|███████▍  | 74/100 [05:35<01:57,  4.54s/it]\u001b[A\n",
      "[Succeeded / Failed / Skipped / Total] 55 / 1 / 18 / 74:  74%|███████▍  | 74/100 [05:35<01:57,  4.54s/it]\u001b[A\n",
      "[Succeeded / Failed / Skipped / Total] 56 / 1 / 18 / 75:  75%|███████▌  | 75/100 [05:36<01:52,  4.48s/it]\u001b[A\n",
      "[Succeeded / Failed / Skipped / Total] 56 / 1 / 18 / 75:  76%|███████▌  | 76/100 [05:36<01:46,  4.43s/it]\u001b[A\n",
      "[Succeeded / Failed / Skipped / Total] 57 / 1 / 18 / 76:  76%|███████▌  | 76/100 [05:36<01:46,  4.43s/it]\u001b[A\n",
      "[Succeeded / Failed / Skipped / Total] 58 / 1 / 18 / 77:  77%|███████▋  | 77/100 [05:37<01:40,  4.38s/it]\u001b[A\n",
      "[Succeeded / Failed / Skipped / Total] 58 / 1 / 18 / 77:  78%|███████▊  | 78/100 [05:44<01:37,  4.42s/it]\u001b[A\n",
      "[Succeeded / Failed / Skipped / Total] 59 / 1 / 18 / 78:  78%|███████▊  | 78/100 [05:44<01:37,  4.42s/it]\u001b[A\n",
      "[Succeeded / Failed / Skipped / Total] 60 / 1 / 18 / 79:  79%|███████▉  | 79/100 [05:45<01:31,  4.37s/it]\u001b[A\n",
      "[Succeeded / Failed / Skipped / Total] 60 / 1 / 18 / 79:  80%|████████  | 80/100 [05:45<01:26,  4.32s/it]\u001b[A\n",
      "[Succeeded / Failed / Skipped / Total] 60 / 1 / 19 / 80:  80%|████████  | 80/100 [05:45<01:26,  4.32s/it]\u001b[Atextattack: Saving checkpoint under \"checkpoints/1640372866120.ta.chkpt\" at 2021-12-24 19:07:46 after 80 attacks.\n",
      "\n",
      "[Succeeded / Failed / Skipped / Total] 61 / 1 / 19 / 81:  81%|████████  | 81/100 [05:47<01:21,  4.29s/it]\u001b[A\n",
      "[Succeeded / Failed / Skipped / Total] 61 / 1 / 19 / 81:  82%|████████▏ | 82/100 [05:47<01:16,  4.24s/it]\u001b[A\n",
      "[Succeeded / Failed / Skipped / Total] 62 / 1 / 19 / 82:  82%|████████▏ | 82/100 [05:47<01:16,  4.24s/it]\u001b[A\n",
      "[Succeeded / Failed / Skipped / Total] 63 / 1 / 19 / 83:  83%|████████▎ | 83/100 [05:49<01:11,  4.21s/it]\u001b[A\n",
      "[Succeeded / Failed / Skipped / Total] 63 / 1 / 19 / 83:  84%|████████▍ | 84/100 [05:58<01:08,  4.27s/it]\u001b[A\n",
      "[Succeeded / Failed / Skipped / Total] 64 / 1 / 19 / 84:  84%|████████▍ | 84/100 [05:58<01:08,  4.27s/it]\u001b[A\n",
      "[Succeeded / Failed / Skipped / Total] 64 / 1 / 19 / 84:  85%|████████▌ | 85/100 [05:59<01:03,  4.23s/it]\u001b[A\n",
      "[Succeeded / Failed / Skipped / Total] 65 / 1 / 19 / 85:  85%|████████▌ | 85/100 [05:59<01:03,  4.23s/it]\u001b[A\n",
      "[Succeeded / Failed / Skipped / Total] 65 / 1 / 19 / 85:  86%|████████▌ | 86/100 [06:01<00:58,  4.21s/it]\u001b[A\n",
      "[Succeeded / Failed / Skipped / Total] 66 / 1 / 19 / 86:  86%|████████▌ | 86/100 [06:01<00:58,  4.21s/it]\u001b[A\n",
      "[Succeeded / Failed / Skipped / Total] 66 / 1 / 19 / 86:  87%|████████▋ | 87/100 [06:02<00:54,  4.17s/it]\u001b[A\n",
      "[Succeeded / Failed / Skipped / Total] 67 / 1 / 19 / 87:  87%|████████▋ | 87/100 [06:02<00:54,  4.17s/it]\u001b[A\n",
      "[Succeeded / Failed / Skipped / Total] 67 / 1 / 19 / 87:  88%|████████▊ | 88/100 [06:05<00:49,  4.15s/it]\u001b[A\n",
      "[Succeeded / Failed / Skipped / Total] 68 / 1 / 19 / 88:  88%|████████▊ | 88/100 [06:05<00:49,  4.15s/it]\u001b[A\n",
      "[Succeeded / Failed / Skipped / Total] 68 / 1 / 19 / 88:  89%|████████▉ | 89/100 [06:06<00:45,  4.11s/it]\u001b[A\n",
      "[Succeeded / Failed / Skipped / Total] 69 / 1 / 19 / 89:  89%|████████▉ | 89/100 [06:06<00:45,  4.11s/it]\u001b[A\n",
      "[Succeeded / Failed / Skipped / Total] 69 / 1 / 20 / 90:  90%|█████████ | 90/100 [06:06<00:40,  4.07s/it]\u001b[A\n",
      "[Succeeded / Failed / Skipped / Total] 69 / 1 / 20 / 90:  91%|█████████ | 91/100 [06:17<00:37,  4.15s/it]\u001b[A\n",
      "[Succeeded / Failed / Skipped / Total] 70 / 1 / 20 / 91:  91%|█████████ | 91/100 [06:17<00:37,  4.15s/it]\u001b[A\n",
      "[Succeeded / Failed / Skipped / Total] 70 / 1 / 20 / 91:  92%|█████████▏| 92/100 [06:18<00:32,  4.12s/it]\u001b[A\n",
      "[Succeeded / Failed / Skipped / Total] 71 / 1 / 20 / 92:  92%|█████████▏| 92/100 [06:18<00:32,  4.12s/it]\u001b[A\n",
      "[Succeeded / Failed / Skipped / Total] 71 / 1 / 20 / 92:  93%|█████████▎| 93/100 [06:19<00:28,  4.08s/it]\u001b[A\n",
      "[Succeeded / Failed / Skipped / Total] 72 / 1 / 20 / 93:  93%|█████████▎| 93/100 [06:19<00:28,  4.08s/it]\u001b[A\n",
      "[Succeeded / Failed / Skipped / Total] 72 / 1 / 20 / 93:  94%|█████████▍| 94/100 [06:23<00:24,  4.08s/it]\u001b[A\n",
      "[Succeeded / Failed / Skipped / Total] 73 / 1 / 20 / 94:  94%|█████████▍| 94/100 [06:23<00:24,  4.08s/it]\u001b[A\n",
      "[Succeeded / Failed / Skipped / Total] 73 / 1 / 21 / 95:  95%|█████████▌| 95/100 [06:23<00:20,  4.04s/it]\u001b[A\n",
      "[Succeeded / Failed / Skipped / Total] 73 / 1 / 21 / 95:  96%|█████████▌| 96/100 [06:24<00:16,  4.00s/it]\u001b[A\n",
      "[Succeeded / Failed / Skipped / Total] 74 / 1 / 21 / 96:  96%|█████████▌| 96/100 [06:24<00:16,  4.00s/it]\u001b[A\n",
      "[Succeeded / Failed / Skipped / Total] 74 / 1 / 21 / 96:  96%|█████████▌| 96/100 [06:39<00:16,  4.16s/it]\u001b[A\n",
      "[Succeeded / Failed / Skipped / Total] 74 / 1 / 21 / 96:  97%|█████████▋| 97/100 [06:50<00:12,  4.23s/it]\u001b[A\n",
      "[Succeeded / Failed / Skipped / Total] 75 / 1 / 21 / 97:  97%|█████████▋| 97/100 [06:50<00:12,  4.23s/it]\u001b[A\n",
      "[Succeeded / Failed / Skipped / Total] 75 / 1 / 22 / 98:  98%|█████████▊| 98/100 [06:50<00:08,  4.18s/it]\u001b[A\n",
      "[Succeeded / Failed / Skipped / Total] 75 / 1 / 23 / 99:  99%|█████████▉| 99/100 [06:50<00:04,  4.14s/it]\u001b[A\n",
      "[Succeeded / Failed / Skipped / Total] 75 / 1 / 23 / 99: 100%|██████████| 100/100 [06:51<00:00,  4.12s/it]\u001b[A\n",
      "[Succeeded / Failed / Skipped / Total] 76 / 1 / 23 / 100: 100%|██████████| 100/100 [06:51<00:00,  4.12s/it]\u001b[Atextattack: Saving checkpoint under \"checkpoints/1640372932445.ta.chkpt\" at 2021-12-24 19:08:52 after 100 attacks.\n",
      "[Succeeded / Failed / Skipped / Total] 76 / 1 / 23 / 100: 100%|██████████| 100/100 [06:51<00:00,  4.12s/it]\n"
     ]
    },
    {
     "data": {
      "text/plain": [
       "[<textattack.attack_results.successful_attack_result.SuccessfulAttackResult at 0x7faee76d0950>,\n",
       " <textattack.attack_results.successful_attack_result.SuccessfulAttackResult at 0x7faee5398d10>,\n",
       " <textattack.attack_results.successful_attack_result.SuccessfulAttackResult at 0x7faef5f28a90>,\n",
       " <textattack.attack_results.successful_attack_result.SuccessfulAttackResult at 0x7fa90989d350>,\n",
       " <textattack.attack_results.successful_attack_result.SuccessfulAttackResult at 0x7faef1087dd0>,\n",
       " <textattack.attack_results.successful_attack_result.SuccessfulAttackResult at 0x7faeea636190>,\n",
       " <textattack.attack_results.successful_attack_result.SuccessfulAttackResult at 0x7faee93dd110>,\n",
       " <textattack.attack_results.successful_attack_result.SuccessfulAttackResult at 0x7fa907e9ca50>,\n",
       " <textattack.attack_results.successful_attack_result.SuccessfulAttackResult at 0x7fa9093b6410>,\n",
       " <textattack.attack_results.successful_attack_result.SuccessfulAttackResult at 0x7faf04cc2250>,\n",
       " <textattack.attack_results.successful_attack_result.SuccessfulAttackResult at 0x7faef337f410>,\n",
       " <textattack.attack_results.skipped_attack_result.SkippedAttackResult at 0x7faeed374c90>,\n",
       " <textattack.attack_results.successful_attack_result.SuccessfulAttackResult at 0x7fa90ca8f390>,\n",
       " <textattack.attack_results.skipped_attack_result.SkippedAttackResult at 0x7fa9086f0550>,\n",
       " <textattack.attack_results.skipped_attack_result.SkippedAttackResult at 0x7fa9086f0310>,\n",
       " <textattack.attack_results.successful_attack_result.SuccessfulAttackResult at 0x7faef1388590>,\n",
       " <textattack.attack_results.successful_attack_result.SuccessfulAttackResult at 0x7faef4ddaf90>,\n",
       " <textattack.attack_results.successful_attack_result.SuccessfulAttackResult at 0x7faef7a04750>,\n",
       " <textattack.attack_results.successful_attack_result.SuccessfulAttackResult at 0x7faef31c4550>,\n",
       " <textattack.attack_results.successful_attack_result.SuccessfulAttackResult at 0x7faee8229dd0>,\n",
       " <textattack.attack_results.successful_attack_result.SuccessfulAttackResult at 0x7faeef27e610>,\n",
       " <textattack.attack_results.successful_attack_result.SuccessfulAttackResult at 0x7faef0f69a50>,\n",
       " <textattack.attack_results.successful_attack_result.SuccessfulAttackResult at 0x7faee7072ed0>,\n",
       " <textattack.attack_results.skipped_attack_result.SkippedAttackResult at 0x7faee7072d50>,\n",
       " <textattack.attack_results.successful_attack_result.SuccessfulAttackResult at 0x7faee2ae2590>,\n",
       " <textattack.attack_results.successful_attack_result.SuccessfulAttackResult at 0x7fa907512850>,\n",
       " <textattack.attack_results.successful_attack_result.SuccessfulAttackResult at 0x7faef9115050>,\n",
       " <textattack.attack_results.skipped_attack_result.SkippedAttackResult at 0x7faef39f7d50>,\n",
       " <textattack.attack_results.failed_attack_result.FailedAttackResult at 0x7faef918ef10>,\n",
       " <textattack.attack_results.skipped_attack_result.SkippedAttackResult at 0x7faef3d2e0d0>,\n",
       " <textattack.attack_results.successful_attack_result.SuccessfulAttackResult at 0x7faef3c1e790>,\n",
       " <textattack.attack_results.successful_attack_result.SuccessfulAttackResult at 0x7faee95dbd90>,\n",
       " <textattack.attack_results.successful_attack_result.SuccessfulAttackResult at 0x7faee7733a50>,\n",
       " <textattack.attack_results.skipped_attack_result.SkippedAttackResult at 0x7faee767a390>,\n",
       " <textattack.attack_results.successful_attack_result.SuccessfulAttackResult at 0x7faee5bce650>,\n",
       " <textattack.attack_results.successful_attack_result.SuccessfulAttackResult at 0x7faf0664f690>,\n",
       " <textattack.attack_results.successful_attack_result.SuccessfulAttackResult at 0x7faef284ccd0>,\n",
       " <textattack.attack_results.successful_attack_result.SuccessfulAttackResult at 0x7faee969e750>,\n",
       " <textattack.attack_results.skipped_attack_result.SkippedAttackResult at 0x7faf4c158910>,\n",
       " <textattack.attack_results.successful_attack_result.SuccessfulAttackResult at 0x7faef7936050>,\n",
       " <textattack.attack_results.successful_attack_result.SuccessfulAttackResult at 0x7faf06a97410>,\n",
       " <textattack.attack_results.successful_attack_result.SuccessfulAttackResult at 0x7faef2a052d0>,\n",
       " <textattack.attack_results.successful_attack_result.SuccessfulAttackResult at 0x7faee71dc650>,\n",
       " <textattack.attack_results.successful_attack_result.SuccessfulAttackResult at 0x7faef2481790>,\n",
       " <textattack.attack_results.successful_attack_result.SuccessfulAttackResult at 0x7faee9fad910>,\n",
       " <textattack.attack_results.successful_attack_result.SuccessfulAttackResult at 0x7faee84aba90>,\n",
       " <textattack.attack_results.skipped_attack_result.SkippedAttackResult at 0x7faef7e17d90>,\n",
       " <textattack.attack_results.successful_attack_result.SuccessfulAttackResult at 0x7fa907900d50>,\n",
       " <textattack.attack_results.skipped_attack_result.SkippedAttackResult at 0x7faeefef5050>,\n",
       " <textattack.attack_results.skipped_attack_result.SkippedAttackResult at 0x7faeeffaff50>,\n",
       " <textattack.attack_results.skipped_attack_result.SkippedAttackResult at 0x7faeefef5c90>,\n",
       " <textattack.attack_results.successful_attack_result.SuccessfulAttackResult at 0x7faee9f06310>,\n",
       " <textattack.attack_results.successful_attack_result.SuccessfulAttackResult at 0x7faf04cfb390>,\n",
       " <textattack.attack_results.successful_attack_result.SuccessfulAttackResult at 0x7fa90d095f90>,\n",
       " <textattack.attack_results.successful_attack_result.SuccessfulAttackResult at 0x7faef519aed0>,\n",
       " <textattack.attack_results.successful_attack_result.SuccessfulAttackResult at 0x7faee933aa10>,\n",
       " <textattack.attack_results.skipped_attack_result.SkippedAttackResult at 0x7faef519ad10>,\n",
       " <textattack.attack_results.successful_attack_result.SuccessfulAttackResult at 0x7faee14c5150>,\n",
       " <textattack.attack_results.skipped_attack_result.SkippedAttackResult at 0x7faef1bd3d90>,\n",
       " <textattack.attack_results.skipped_attack_result.SkippedAttackResult at 0x7faef11dabd0>,\n",
       " <textattack.attack_results.successful_attack_result.SuccessfulAttackResult at 0x7fa908fcafd0>,\n",
       " <textattack.attack_results.successful_attack_result.SuccessfulAttackResult at 0x7faef0299750>,\n",
       " <textattack.attack_results.successful_attack_result.SuccessfulAttackResult at 0x7faf056c0b50>,\n",
       " <textattack.attack_results.successful_attack_result.SuccessfulAttackResult at 0x7faf9b8e1f50>,\n",
       " <textattack.attack_results.skipped_attack_result.SkippedAttackResult at 0x7faee823f250>,\n",
       " <textattack.attack_results.successful_attack_result.SuccessfulAttackResult at 0x7faee4e76810>,\n",
       " <textattack.attack_results.successful_attack_result.SuccessfulAttackResult at 0x7faf051b2d10>,\n",
       " <textattack.attack_results.successful_attack_result.SuccessfulAttackResult at 0x7faef273e9d0>,\n",
       " <textattack.attack_results.successful_attack_result.SuccessfulAttackResult at 0x7fa90b84f050>,\n",
       " <textattack.attack_results.successful_attack_result.SuccessfulAttackResult at 0x7faeea33ef50>,\n",
       " <textattack.attack_results.skipped_attack_result.SkippedAttackResult at 0x7faeea791fd0>,\n",
       " <textattack.attack_results.successful_attack_result.SuccessfulAttackResult at 0x7fa90b853f10>,\n",
       " <textattack.attack_results.skipped_attack_result.SkippedAttackResult at 0x7faf057ab8d0>,\n",
       " <textattack.attack_results.successful_attack_result.SuccessfulAttackResult at 0x7faef83dbc10>,\n",
       " <textattack.attack_results.successful_attack_result.SuccessfulAttackResult at 0x7faeed247cd0>,\n",
       " <textattack.attack_results.successful_attack_result.SuccessfulAttackResult at 0x7faeed374f50>,\n",
       " <textattack.attack_results.successful_attack_result.SuccessfulAttackResult at 0x7faee7ccd2d0>,\n",
       " <textattack.attack_results.successful_attack_result.SuccessfulAttackResult at 0x7faee65a8d90>,\n",
       " <textattack.attack_results.successful_attack_result.SuccessfulAttackResult at 0x7faef83c6790>,\n",
       " <textattack.attack_results.skipped_attack_result.SkippedAttackResult at 0x7faef3d90110>,\n",
       " <textattack.attack_results.successful_attack_result.SuccessfulAttackResult at 0x7faeeddd7910>,\n",
       " <textattack.attack_results.successful_attack_result.SuccessfulAttackResult at 0x7faee9a02ed0>,\n",
       " <textattack.attack_results.successful_attack_result.SuccessfulAttackResult at 0x7faee9343190>,\n",
       " <textattack.attack_results.successful_attack_result.SuccessfulAttackResult at 0x7faee8fc0650>,\n",
       " <textattack.attack_results.successful_attack_result.SuccessfulAttackResult at 0x7fa9066e3210>,\n",
       " <textattack.attack_results.successful_attack_result.SuccessfulAttackResult at 0x7faee4e76210>,\n",
       " <textattack.attack_results.successful_attack_result.SuccessfulAttackResult at 0x7fa90d516a50>,\n",
       " <textattack.attack_results.successful_attack_result.SuccessfulAttackResult at 0x7faef284c910>,\n",
       " <textattack.attack_results.successful_attack_result.SuccessfulAttackResult at 0x7fac7dccf090>,\n",
       " <textattack.attack_results.skipped_attack_result.SkippedAttackResult at 0x7faeef1a3290>,\n",
       " <textattack.attack_results.successful_attack_result.SuccessfulAttackResult at 0x7faf90b82050>,\n",
       " <textattack.attack_results.successful_attack_result.SuccessfulAttackResult at 0x7fa908cc5150>,\n",
       " <textattack.attack_results.successful_attack_result.SuccessfulAttackResult at 0x7fafaa387a10>,\n",
       " <textattack.attack_results.successful_attack_result.SuccessfulAttackResult at 0x7faef81048d0>,\n",
       " <textattack.attack_results.skipped_attack_result.SkippedAttackResult at 0x7faf06ffc550>,\n",
       " <textattack.attack_results.successful_attack_result.SuccessfulAttackResult at 0x7faf90bf07d0>,\n",
       " <textattack.attack_results.successful_attack_result.SuccessfulAttackResult at 0x7faefa39c910>,\n",
       " <textattack.attack_results.skipped_attack_result.SkippedAttackResult at 0x7faef3d4f610>,\n",
       " <textattack.attack_results.skipped_attack_result.SkippedAttackResult at 0x7faef35c0910>,\n",
       " <textattack.attack_results.successful_attack_result.SuccessfulAttackResult at 0x7faee764dc10>]"
      ]
     },
     "metadata": {},
     "output_type": "display_data"
    }
   ],
   "source": [
    "#!g1.1\n",
    "%%time \n",
    "\n",
    "attacker.attack_dataset()"
   ]
  },
  {
   "cell_type": "code",
   "execution_count": null,
   "metadata": {
    "cellId": "snfu5e6euzn10dpylqlm15g"
   },
   "outputs": [],
   "source": [
    "#!g1.1\n",
    "Какой вывод - для данной модели атаки работают очень медленно - и обработать датасет из 17к примеров - возможно понадобиться несколько часов/дней"
   ]
  },
  {
   "cell_type": "code",
   "execution_count": null,
   "metadata": {
    "cellId": "ijcmmkrl6u9pgrbxyi8jz9"
   },
   "outputs": [],
   "source": [
    "#!g1.1\n",
    "а еще - после интеррапрта - ячейка еще долго висит, прежде чем можно двигаться дальше"
   ]
  },
  {
   "cell_type": "code",
   "execution_count": null,
   "metadata": {
    "cellId": "hp5dd4nvjujoxbbwz0k7r"
   },
   "outputs": [],
   "source": [
    "#!g1.1\n",
    "почему то логгирование не срабатывает"
   ]
  },
  {
   "cell_type": "code",
   "execution_count": null,
   "metadata": {
    "cellId": "jp2nm01e5dkbrui0e7yw0b"
   },
   "outputs": [],
   "source": [
    "#!g1.1\n",
    "AlexZapolskii/zapolskii-amazon"
   ]
  },
  {
   "cell_type": "code",
   "execution_count": null,
   "metadata": {
    "cellId": "1rqi6vx2rhkklmesotrqfl"
   },
   "outputs": [],
   "source": [
    "#!g1.1\n",
    "\n",
    "dataset = textattack.datasets.HuggingFaceDataset(\"imdb\", split=\"test\")\n",
    ">>> attack = textattack.attack_recipes.TextFoolerJin2019.build(model_wrapper)\n",
    ">>> # Attack 20 samples with CSV logging and checkpoint saved every 5 interval\n",
    ">>> attack_args = textattack.AttackArgs(num_examples=20, log_to_csv=\"log.csv\", checkpoint_interval=5, checkpoint_dir=\"checkpoints\", disable_stdout=True)\n",
    ">>> attacker = textattack.Attacker(attack, dataset, attack_args)\n",
    ">>> attacker.attack_dataset()"
   ]
  },
  {
   "cell_type": "markdown",
   "metadata": {
    "cellId": "oo93v1ny81eg9s4e9ks0b"
   },
   "source": [
    "#!g1.1\n",
    "# Идем дальше"
   ]
  },
  {
   "cell_type": "markdown",
   "metadata": {
    "cellId": "djdqfnav1ugj51j3fcrz68"
   },
   "source": [
    "#!g1.1\n",
    "в целом, мы проверили работоспособность метода на данном датасете"
   ]
  },
  {
   "cell_type": "code",
   "execution_count": null,
   "metadata": {
    "cellId": "kqwjfd66z1zykdg4yxw3r"
   },
   "outputs": [],
   "source": [
    "#!g1.1\n",
    "пока что мы пробовали textfooler\n",
    "\n",
    "выводы такие - работает очень долго, атаки, чаще всего, эффективные, тем не менее - пока что мы не изучали\n",
    "адекватность производимых замен с точки зрения человека, главное - чтобы получилось запустить текстфуллер на русском!"
   ]
  },
  {
   "cell_type": "code",
   "execution_count": null,
   "metadata": {
    "cellId": "9hdkm2ew7agbyn5r45pe8g"
   },
   "outputs": [],
   "source": [
    "#!g1.1\n",
    "тепперь атакой будет BAE!"
   ]
  },
  {
   "cell_type": "code",
   "execution_count": 104,
   "metadata": {
    "cellId": "hrgahc03d8uszvvaxeeulo"
   },
   "outputs": [
    {
     "data": {
      "application/vnd.jupyter.widget-view+json": {
       "model_id": "f1736020590b4fbcae3232ee9f61bf31",
       "version_major": 2,
       "version_minor": 0
      },
      "text/plain": [
       "HBox(children=(FloatProgress(value=0.0, description='Downloading', max=570.0, style=ProgressStyle(description_…"
      ]
     },
     "metadata": {},
     "output_type": "display_data"
    },
    {
     "data": {
      "application/vnd.jupyter.widget-view+json": {
       "model_id": "4fdfe9dc972247df9180194769066bf9",
       "version_major": 2,
       "version_minor": 0
      },
      "text/plain": [
       "HBox(children=(FloatProgress(value=0.0, description='Downloading', max=440473133.0, style=ProgressStyle(descri…"
      ]
     },
     "metadata": {},
     "output_type": "display_data"
    },
    {
     "data": {
      "application/vnd.jupyter.widget-view+json": {
       "model_id": "8176eed857864baf85b0f1bdcfb37b81",
       "version_major": 2,
       "version_minor": 0
      },
      "text/plain": [
       "HBox(children=(FloatProgress(value=0.0, description='Downloading', max=28.0, style=ProgressStyle(description_w…"
      ]
     },
     "metadata": {},
     "output_type": "display_data"
    },
    {
     "data": {
      "application/vnd.jupyter.widget-view+json": {
       "model_id": "fa4b392de1e449eca81f19269d0bd8a5",
       "version_major": 2,
       "version_minor": 0
      },
      "text/plain": [
       "HBox(children=(FloatProgress(value=0.0, description='Downloading', max=231508.0, style=ProgressStyle(descripti…"
      ]
     },
     "metadata": {},
     "output_type": "display_data"
    },
    {
     "data": {
      "application/vnd.jupyter.widget-view+json": {
       "model_id": "e0996a38863b44a2989901e02c097d92",
       "version_major": 2,
       "version_minor": 0
      },
      "text/plain": [
       "HBox(children=(FloatProgress(value=0.0, description='Downloading', max=466062.0, style=ProgressStyle(descripti…"
      ]
     },
     "metadata": {},
     "output_type": "display_data"
    },
    {
     "name": "stdout",
     "output_type": "stream",
     "text": [
      "\n",
      "\n",
      "\n",
      "\n",
      "\n"
     ]
    },
    {
     "name": "stderr",
     "output_type": "stream",
     "text": [
      "Some weights of the model checkpoint at bert-base-uncased were not used when initializing BertForMaskedLM: ['cls.seq_relationship.weight', 'cls.seq_relationship.bias']\n",
      "- This IS expected if you are initializing BertForMaskedLM from the checkpoint of a model trained on another task or with another architecture (e.g. initializing a BertForSequenceClassification model from a BertForPreTraining model).\n",
      "- This IS NOT expected if you are initializing BertForMaskedLM from the checkpoint of a model that you expect to be exactly identical (initializing a BertForSequenceClassification model from a BertForSequenceClassification model).\n",
      "textattack: Unknown if model of class <class 'transformers.models.bert.modeling_bert.BertForSequenceClassification'> compatible with goal function <class 'textattack.goal_functions.classification.untargeted_classification.UntargetedClassification'>.\n"
     ]
    }
   ],
   "source": [
    "#!g1.1\n",
    "\n",
    "attack = textattack.attack_recipes.BAEGarg2019.build(model_wrapper)"
   ]
  },
  {
   "cell_type": "code",
   "execution_count": null,
   "metadata": {
    "cellId": "5e6kdydf01o6hpjjlzftta"
   },
   "outputs": [],
   "source": [
    "#!g1.1\n",
    "#attack_recipes.bae_garg_2019.BAEGarg2019"
   ]
  },
  {
   "cell_type": "code",
   "execution_count": 105,
   "metadata": {
    "cellId": "lkg5cumo1pg7rptmla6r"
   },
   "outputs": [],
   "source": [
    "#!g1.1\n",
    "attack_args = textattack.AttackArgs(num_examples=100, log_to_csv=\"logBae.csv\", checkpoint_interval=20, checkpoint_dir=\"checkpoints\", disable_stdout=True)\n"
   ]
  },
  {
   "cell_type": "code",
   "execution_count": 106,
   "metadata": {
    "cellId": "phiricxfqnj1jcm362hmvk"
   },
   "outputs": [],
   "source": [
    "#!g1.1\n",
    "attacker = textattack.Attacker(attack, dataset, attack_args)\n"
   ]
  },
  {
   "cell_type": "code",
   "execution_count": 107,
   "metadata": {
    "cellId": "rku0gb5v9qexim4i1pow3a"
   },
   "outputs": [
    {
     "name": "stdout",
     "output_type": "stream",
     "text": [
      "Attack(\n",
      "  (search_method): GreedyWordSwapWIR(\n",
      "    (wir_method):  delete\n",
      "  )\n",
      "  (goal_function):  UntargetedClassification\n",
      "  (transformation):  WordSwapMaskedLM(\n",
      "    (method):  bae\n",
      "    (masked_lm_name):  BertForMaskedLM\n",
      "    (max_length):  512\n",
      "    (max_candidates):  50\n",
      "    (min_confidence):  0.0\n",
      "  )\n",
      "  (constraints): \n",
      "    (0): PartOfSpeech(\n",
      "        (tagger_type):  nltk\n",
      "        (tagset):  universal\n",
      "        (allow_verb_noun_swap):  True\n",
      "        (compare_against_original):  True\n",
      "      )\n",
      "    (1): UniversalSentenceEncoder(\n",
      "        (metric):  cosine\n",
      "        (threshold):  0.936338023\n",
      "        (window_size):  15\n",
      "        (skip_text_shorter_than_window):  True\n",
      "        (compare_against_original):  True\n",
      "      )\n",
      "    (2): RepeatModification\n",
      "    (3): StopwordModification\n",
      "  (is_black_box):  True\n",
      ") \n",
      "\n",
      "\n",
      "\n",
      "=============================================================================================================================\n",
      "=============================================================================================================================\n",
      "\n",
      "\n",
      "\n",
      "=============================================================================================================================\n",
      "=============================================================================================================================\n",
      "\n",
      "\n",
      "\n",
      "=============================================================================================================================\n",
      "=============================================================================================================================\n",
      "\n",
      "\n",
      "\n",
      "=============================================================================================================================\n",
      "=============================================================================================================================\n",
      "\n",
      "\n",
      "\n",
      "=============================================================================================================================\n",
      "=============================================================================================================================\n",
      "\n",
      "\n",
      "+-------------------------------+--------+\n",
      "| Attack Results                |        |\n",
      "+-------------------------------+--------+\n",
      "| Number of successful attacks: | 17     |\n",
      "| Number of failed attacks:     | 60     |\n",
      "| Number of skipped attacks:    | 23     |\n",
      "| Original accuracy:            | 77.0%  |\n",
      "| Accuracy under attack:        | 60.0%  |\n",
      "| Attack success rate:          | 22.08% |\n",
      "| Average perturbed word %:     | 6.03%  |\n",
      "| Average num. words per input: | 78.42  |\n",
      "| Avg num queries:              | 200.9  |\n",
      "+-------------------------------+--------+\n",
      "CPU times: user 10min 55s, sys: 1min 11s, total: 12min 6s\n",
      "Wall time: 11min 28s\n"
     ]
    },
    {
     "name": "stderr",
     "output_type": "stream",
     "text": [
      "textattack: Logging to CSV at path logBae.csv\n",
      "\n",
      "  0%|          | 0/100 [00:00<?, ?it/s]\u001b[A\n",
      "  1%|          | 1/100 [00:08<14:07,  8.56s/it]\u001b[A\n",
      "[Succeeded / Failed / Skipped / Total] 0 / 1 / 0 / 1:   1%|          | 1/100 [00:08<14:08,  8.57s/it]\u001b[A\n",
      "[Succeeded / Failed / Skipped / Total] 0 / 1 / 0 / 1:   2%|▏         | 2/100 [00:16<13:26,  8.23s/it]\u001b[A\n",
      "[Succeeded / Failed / Skipped / Total] 0 / 2 / 0 / 2:   2%|▏         | 2/100 [00:16<13:26,  8.23s/it]\u001b[A\n",
      "[Succeeded / Failed / Skipped / Total] 0 / 2 / 0 / 2:   3%|▎         | 3/100 [00:36<19:29, 12.06s/it]\u001b[A\n",
      "[Succeeded / Failed / Skipped / Total] 1 / 2 / 0 / 3:   3%|▎         | 3/100 [00:36<19:29, 12.06s/it]\u001b[A\n",
      "[Succeeded / Failed / Skipped / Total] 1 / 2 / 0 / 3:   4%|▍         | 4/100 [00:40<16:22, 10.23s/it]\u001b[A\n",
      "[Succeeded / Failed / Skipped / Total] 1 / 3 / 0 / 4:   4%|▍         | 4/100 [00:40<16:22, 10.23s/it]\u001b[A\n",
      "[Succeeded / Failed / Skipped / Total] 1 / 3 / 0 / 4:   5%|▌         | 5/100 [00:46<14:47,  9.34s/it]\u001b[A\n",
      "[Succeeded / Failed / Skipped / Total] 1 / 4 / 0 / 5:   5%|▌         | 5/100 [00:46<14:47,  9.34s/it]\u001b[A\n",
      "[Succeeded / Failed / Skipped / Total] 1 / 4 / 0 / 5:   6%|▌         | 6/100 [00:50<13:15,  8.46s/it]\u001b[A\n",
      "[Succeeded / Failed / Skipped / Total] 1 / 5 / 0 / 6:   6%|▌         | 6/100 [00:50<13:15,  8.46s/it]\u001b[A\n",
      "[Succeeded / Failed / Skipped / Total] 1 / 5 / 0 / 6:   7%|▋         | 7/100 [00:57<12:47,  8.26s/it]\u001b[A\n",
      "[Succeeded / Failed / Skipped / Total] 1 / 6 / 0 / 7:   7%|▋         | 7/100 [00:57<12:47,  8.26s/it]\u001b[A\n",
      "[Succeeded / Failed / Skipped / Total] 1 / 6 / 0 / 7:   8%|▊         | 8/100 [01:08<13:12,  8.62s/it]\u001b[A\n",
      "[Succeeded / Failed / Skipped / Total] 1 / 7 / 0 / 8:   8%|▊         | 8/100 [01:08<13:12,  8.62s/it]\u001b[A\n",
      "[Succeeded / Failed / Skipped / Total] 1 / 7 / 0 / 8:   9%|▉         | 9/100 [01:10<11:56,  7.87s/it]\u001b[A\n",
      "[Succeeded / Failed / Skipped / Total] 1 / 8 / 0 / 9:   9%|▉         | 9/100 [01:10<11:56,  7.87s/it]\u001b[A\n",
      "[Succeeded / Failed / Skipped / Total] 1 / 8 / 0 / 9:  10%|█         | 10/100 [01:34<14:09,  9.44s/it]\u001b[A\n",
      "[Succeeded / Failed / Skipped / Total] 1 / 9 / 0 / 10:  10%|█         | 10/100 [01:34<14:09,  9.44s/it]\u001b[A\n",
      "[Succeeded / Failed / Skipped / Total] 1 / 9 / 0 / 10:  11%|█         | 11/100 [01:35<12:53,  8.70s/it]\u001b[A\n",
      "[Succeeded / Failed / Skipped / Total] 2 / 9 / 0 / 11:  11%|█         | 11/100 [01:35<12:53,  8.70s/it]\u001b[A\n",
      "[Succeeded / Failed / Skipped / Total] 2 / 9 / 1 / 12:  12%|█▏        | 12/100 [01:35<11:41,  7.97s/it]\u001b[A\n",
      "[Succeeded / Failed / Skipped / Total] 2 / 9 / 1 / 12:  13%|█▎        | 13/100 [02:33<17:09, 11.83s/it]\u001b[A\n",
      "[Succeeded / Failed / Skipped / Total] 2 / 10 / 1 / 13:  13%|█▎        | 13/100 [02:33<17:09, 11.83s/it]\u001b[A\n",
      "[Succeeded / Failed / Skipped / Total] 2 / 10 / 2 / 14:  14%|█▍        | 14/100 [02:33<15:45, 10.99s/it]\u001b[A\n",
      "[Succeeded / Failed / Skipped / Total] 2 / 10 / 3 / 15:  15%|█▌        | 15/100 [02:33<14:31, 10.26s/it]\u001b[A\n",
      "[Succeeded / Failed / Skipped / Total] 2 / 10 / 3 / 15:  16%|█▌        | 16/100 [02:37<13:48,  9.87s/it]\u001b[A\n",
      "[Succeeded / Failed / Skipped / Total] 2 / 11 / 3 / 16:  16%|█▌        | 16/100 [02:37<13:48,  9.87s/it]\u001b[A\n",
      "[Succeeded / Failed / Skipped / Total] 2 / 12 / 3 / 17:  17%|█▋        | 17/100 [02:40<13:04,  9.45s/it]\u001b[A\n",
      "[Succeeded / Failed / Skipped / Total] 2 / 13 / 3 / 18:  18%|█▊        | 18/100 [02:42<12:20,  9.03s/it]\u001b[A\n",
      "[Succeeded / Failed / Skipped / Total] 2 / 13 / 3 / 18:  19%|█▉        | 19/100 [02:44<11:39,  8.64s/it]\u001b[A\n",
      "[Succeeded / Failed / Skipped / Total] 2 / 14 / 3 / 19:  19%|█▉        | 19/100 [02:44<11:39,  8.64s/it]\u001b[A\n",
      "[Succeeded / Failed / Skipped / Total] 2 / 15 / 3 / 20:  20%|██        | 20/100 [02:46<11:07,  8.34s/it]\u001b[Atextattack: Saving checkpoint under \"checkpoints/1640373924825.ta.chkpt\" at 2021-12-24 19:25:24 after 20 attacks.\n",
      "\n",
      "[Succeeded / Failed / Skipped / Total] 2 / 16 / 3 / 21:  21%|██        | 21/100 [02:49<10:36,  8.05s/it]\u001b[A\n",
      "[Succeeded / Failed / Skipped / Total] 2 / 16 / 3 / 21:  21%|██        | 21/100 [02:56<11:05,  8.42s/it]\u001b[A\n",
      "[Succeeded / Failed / Skipped / Total] 2 / 16 / 3 / 21:  22%|██▏       | 22/100 [03:34<12:39,  9.73s/it]\u001b[A\n",
      "[Succeeded / Failed / Skipped / Total] 2 / 17 / 3 / 22:  22%|██▏       | 22/100 [03:34<12:39,  9.73s/it]\u001b[A\n",
      "[Succeeded / Failed / Skipped / Total] 2 / 17 / 3 / 22:  23%|██▎       | 23/100 [03:36<12:04,  9.41s/it]\u001b[A\n",
      "[Succeeded / Failed / Skipped / Total] 2 / 18 / 3 / 23:  23%|██▎       | 23/100 [03:36<12:04,  9.41s/it]\u001b[A\n",
      "[Succeeded / Failed / Skipped / Total] 2 / 18 / 4 / 24:  24%|██▍       | 24/100 [03:36<11:25,  9.02s/it]\u001b[A\n",
      "[Succeeded / Failed / Skipped / Total] 2 / 18 / 4 / 24:  25%|██▌       | 25/100 [03:46<11:20,  9.07s/it]\u001b[A\n",
      "[Succeeded / Failed / Skipped / Total] 2 / 19 / 4 / 25:  25%|██▌       | 25/100 [03:46<11:20,  9.07s/it]\u001b[A\n",
      "[Succeeded / Failed / Skipped / Total] 2 / 19 / 4 / 25:  26%|██▌       | 26/100 [04:21<12:25, 10.08s/it]\u001b[A\n",
      "[Succeeded / Failed / Skipped / Total] 2 / 20 / 4 / 26:  26%|██▌       | 26/100 [04:21<12:25, 10.08s/it]\u001b[A\n",
      "[Succeeded / Failed / Skipped / Total] 2 / 20 / 4 / 26:  27%|██▋       | 27/100 [04:33<12:20, 10.15s/it]\u001b[A\n",
      "[Succeeded / Failed / Skipped / Total] 2 / 21 / 4 / 27:  27%|██▋       | 27/100 [04:33<12:20, 10.15s/it]\u001b[A\n",
      "[Succeeded / Failed / Skipped / Total] 2 / 21 / 5 / 28:  28%|██▊       | 28/100 [04:33<11:44,  9.79s/it]\u001b[A\n",
      "[Succeeded / Failed / Skipped / Total] 2 / 21 / 5 / 28:  29%|██▉       | 29/100 [04:57<12:07, 10.24s/it]\u001b[A\n",
      "[Succeeded / Failed / Skipped / Total] 2 / 22 / 5 / 29:  29%|██▉       | 29/100 [04:57<12:07, 10.24s/it]\u001b[A\n",
      "[Succeeded / Failed / Skipped / Total] 2 / 22 / 6 / 30:  30%|███       | 30/100 [04:57<11:33,  9.90s/it]\u001b[A\n",
      "[Succeeded / Failed / Skipped / Total] 2 / 22 / 6 / 30:  31%|███       | 31/100 [05:06<11:21,  9.87s/it]\u001b[A\n",
      "[Succeeded / Failed / Skipped / Total] 2 / 23 / 6 / 31:  31%|███       | 31/100 [05:06<11:21,  9.87s/it]\u001b[A\n",
      "[Succeeded / Failed / Skipped / Total] 2 / 24 / 6 / 32:  32%|███▏      | 32/100 [05:10<10:59,  9.70s/it]\u001b[A\n",
      "[Succeeded / Failed / Skipped / Total] 2 / 24 / 6 / 32:  32%|███▏      | 32/100 [05:17<11:15,  9.93s/it]\u001b[A\n",
      "[Succeeded / Failed / Skipped / Total] 2 / 24 / 6 / 32:  33%|███▎      | 33/100 [05:20<10:50,  9.71s/it]\u001b[A\n",
      "[Succeeded / Failed / Skipped / Total] 2 / 25 / 6 / 33:  33%|███▎      | 33/100 [05:20<10:50,  9.71s/it]\u001b[A\n",
      "[Succeeded / Failed / Skipped / Total] 2 / 25 / 7 / 34:  34%|███▍      | 34/100 [05:20<10:21,  9.42s/it]\u001b[A\n",
      "[Succeeded / Failed / Skipped / Total] 2 / 25 / 7 / 34:  35%|███▌      | 35/100 [05:25<10:04,  9.30s/it]\u001b[A\n",
      "[Succeeded / Failed / Skipped / Total] 3 / 25 / 7 / 35:  35%|███▌      | 35/100 [05:25<10:04,  9.30s/it]\u001b[A\n",
      "[Succeeded / Failed / Skipped / Total] 4 / 25 / 7 / 36:  36%|███▌      | 36/100 [05:27<09:41,  9.09s/it]\u001b[A\n",
      "[Succeeded / Failed / Skipped / Total] 4 / 25 / 7 / 36:  37%|███▋      | 37/100 [05:29<09:21,  8.92s/it]\u001b[A\n",
      "[Succeeded / Failed / Skipped / Total] 5 / 25 / 7 / 37:  37%|███▋      | 37/100 [05:29<09:21,  8.92s/it]\u001b[A\n",
      "[Succeeded / Failed / Skipped / Total] 5 / 26 / 7 / 38:  38%|███▊      | 38/100 [05:43<09:20,  9.04s/it]\u001b[A\n",
      "[Succeeded / Failed / Skipped / Total] 5 / 26 / 7 / 38:  39%|███▉      | 39/100 [05:43<08:57,  8.81s/it]\u001b[A\n",
      "[Succeeded / Failed / Skipped / Total] 5 / 26 / 8 / 39:  39%|███▉      | 39/100 [05:43<08:57,  8.81s/it]\u001b[A\n",
      "[Succeeded / Failed / Skipped / Total] 5 / 26 / 8 / 39:  40%|████      | 40/100 [05:56<08:54,  8.91s/it]\u001b[A\n",
      "[Succeeded / Failed / Skipped / Total] 5 / 27 / 8 / 40:  40%|████      | 40/100 [05:56<08:54,  8.91s/it]\u001b[Atextattack: Saving checkpoint under \"checkpoints/1640374114418.ta.chkpt\" at 2021-12-24 19:28:34 after 40 attacks.\n",
      "\n",
      "[Succeeded / Failed / Skipped / Total] 5 / 27 / 8 / 40:  41%|████      | 41/100 [06:03<08:42,  8.86s/it]\u001b[A\n",
      "[Succeeded / Failed / Skipped / Total] 5 / 28 / 8 / 41:  41%|████      | 41/100 [06:03<08:42,  8.86s/it]\u001b[A\n",
      "[Succeeded / Failed / Skipped / Total] 5 / 28 / 8 / 41:  42%|████▏     | 42/100 [06:07<08:27,  8.74s/it]\u001b[A\n",
      "[Succeeded / Failed / Skipped / Total] 5 / 29 / 8 / 42:  42%|████▏     | 42/100 [06:07<08:27,  8.74s/it]\u001b[A\n",
      "[Succeeded / Failed / Skipped / Total] 5 / 29 / 8 / 42:  43%|████▎     | 43/100 [06:10<08:11,  8.62s/it]\u001b[A\n",
      "[Succeeded / Failed / Skipped / Total] 5 / 30 / 8 / 43:  43%|████▎     | 43/100 [06:10<08:11,  8.62s/it]\u001b[A\n",
      "[Succeeded / Failed / Skipped / Total] 5 / 30 / 8 / 43:  44%|████▍     | 44/100 [06:18<08:02,  8.61s/it]\u001b[A\n",
      "[Succeeded / Failed / Skipped / Total] 5 / 31 / 8 / 44:  44%|████▍     | 44/100 [06:18<08:02,  8.61s/it]\u001b[A\n",
      "[Succeeded / Failed / Skipped / Total] 5 / 31 / 8 / 44:  45%|████▌     | 45/100 [06:19<07:43,  8.42s/it]\u001b[A\n",
      "[Succeeded / Failed / Skipped / Total] 6 / 31 / 8 / 45:  45%|████▌     | 45/100 [06:19<07:43,  8.42s/it]\u001b[A\n",
      "[Succeeded / Failed / Skipped / Total] 6 / 31 / 8 / 45:  46%|████▌     | 46/100 [06:29<07:36,  8.46s/it]\u001b[A\n",
      "[Succeeded / Failed / Skipped / Total] 6 / 32 / 8 / 46:  46%|████▌     | 46/100 [06:29<07:36,  8.46s/it]\u001b[A\n",
      "[Succeeded / Failed / Skipped / Total] 6 / 32 / 9 / 47:  47%|████▋     | 47/100 [06:29<07:18,  8.28s/it]\u001b[A\n",
      "[Succeeded / Failed / Skipped / Total] 6 / 32 / 9 / 47:  48%|████▊     | 48/100 [06:38<07:12,  8.31s/it]\u001b[A\n",
      "[Succeeded / Failed / Skipped / Total] 6 / 33 / 9 / 48:  48%|████▊     | 48/100 [06:38<07:12,  8.31s/it]\u001b[A\n",
      "[Succeeded / Failed / Skipped / Total] 6 / 33 / 10 / 49:  49%|████▉     | 49/100 [06:38<06:55,  8.14s/it]\u001b[A\n",
      "[Succeeded / Failed / Skipped / Total] 6 / 33 / 11 / 50:  50%|█████     | 50/100 [06:38<06:38,  7.98s/it]\u001b[A\n",
      "[Succeeded / Failed / Skipped / Total] 6 / 33 / 12 / 51:  51%|█████     | 51/100 [06:38<06:23,  7.82s/it]\u001b[A\n",
      "[Succeeded / Failed / Skipped / Total] 6 / 33 / 12 / 51:  52%|█████▏    | 52/100 [06:40<06:09,  7.70s/it]\u001b[A\n",
      "[Succeeded / Failed / Skipped / Total] 6 / 34 / 12 / 52:  52%|█████▏    | 52/100 [06:40<06:09,  7.70s/it]\u001b[A\n",
      "[Succeeded / Failed / Skipped / Total] 6 / 35 / 12 / 53:  53%|█████▎    | 53/100 [06:45<05:59,  7.65s/it]\u001b[A\n",
      "[Succeeded / Failed / Skipped / Total] 6 / 35 / 12 / 53:  53%|█████▎    | 53/100 [06:57<06:10,  7.88s/it]\u001b[A\n",
      "[Succeeded / Failed / Skipped / Total] 6 / 35 / 12 / 53:  54%|█████▍    | 54/100 [07:05<06:02,  7.88s/it]\u001b[A\n",
      "[Succeeded / Failed / Skipped / Total] 6 / 36 / 12 / 54:  54%|█████▍    | 54/100 [07:05<06:02,  7.88s/it]\u001b[A\n",
      "[Succeeded / Failed / Skipped / Total] 6 / 36 / 12 / 54:  55%|█████▌    | 55/100 [07:13<05:55,  7.89s/it]\u001b[A\n",
      "[Succeeded / Failed / Skipped / Total] 6 / 37 / 12 / 55:  55%|█████▌    | 55/100 [07:13<05:55,  7.89s/it]\u001b[A\n",
      "[Succeeded / Failed / Skipped / Total] 6 / 37 / 12 / 55:  56%|█████▌    | 56/100 [07:30<05:53,  8.04s/it]\u001b[A\n",
      "[Succeeded / Failed / Skipped / Total] 6 / 38 / 12 / 56:  56%|█████▌    | 56/100 [07:30<05:53,  8.04s/it]\u001b[A\n",
      "[Succeeded / Failed / Skipped / Total] 6 / 38 / 13 / 57:  57%|█████▋    | 57/100 [07:30<05:39,  7.90s/it]\u001b[A\n",
      "[Succeeded / Failed / Skipped / Total] 6 / 38 / 13 / 57:  58%|█████▊    | 58/100 [07:36<05:30,  7.86s/it]\u001b[A\n",
      "[Succeeded / Failed / Skipped / Total] 6 / 39 / 13 / 58:  58%|█████▊    | 58/100 [07:36<05:30,  7.86s/it]\u001b[A\n",
      "[Succeeded / Failed / Skipped / Total] 6 / 39 / 14 / 59:  59%|█████▉    | 59/100 [07:36<05:16,  7.73s/it]\u001b[A\n",
      "[Succeeded / Failed / Skipped / Total] 6 / 39 / 15 / 60:  60%|██████    | 60/100 [07:36<05:04,  7.60s/it]\u001b[Atextattack: Saving checkpoint under \"checkpoints/1640374214122.ta.chkpt\" at 2021-12-24 19:30:14 after 60 attacks.\n",
      "\n",
      "[Succeeded / Failed / Skipped / Total] 6 / 39 / 15 / 60:  60%|██████    | 60/100 [07:47<05:11,  7.80s/it]\u001b[A\n",
      "[Succeeded / Failed / Skipped / Total] 6 / 39 / 15 / 60:  61%|██████    | 61/100 [07:50<05:00,  7.71s/it]\u001b[A\n",
      "[Succeeded / Failed / Skipped / Total] 6 / 40 / 15 / 61:  61%|██████    | 61/100 [07:50<05:00,  7.71s/it]\u001b[A\n",
      "[Succeeded / Failed / Skipped / Total] 6 / 41 / 15 / 62:  62%|██████▏   | 62/100 [07:50<04:48,  7.58s/it]\u001b[A\n",
      "[Succeeded / Failed / Skipped / Total] 6 / 41 / 15 / 62:  63%|██████▎   | 63/100 [07:54<04:38,  7.53s/it]\u001b[A\n",
      "[Succeeded / Failed / Skipped / Total] 6 / 42 / 15 / 63:  63%|██████▎   | 63/100 [07:54<04:38,  7.53s/it]\u001b[A\n",
      "[Succeeded / Failed / Skipped / Total] 7 / 42 / 15 / 64:  64%|██████▍   | 64/100 [07:55<04:27,  7.44s/it]\u001b[A\n",
      "[Succeeded / Failed / Skipped / Total] 7 / 42 / 15 / 64:  65%|██████▌   | 65/100 [07:55<04:16,  7.32s/it]\u001b[A\n",
      "[Succeeded / Failed / Skipped / Total] 7 / 42 / 16 / 65:  65%|██████▌   | 65/100 [07:55<04:16,  7.32s/it]\u001b[A\n",
      "[Succeeded / Failed / Skipped / Total] 8 / 42 / 16 / 66:  66%|██████▌   | 66/100 [07:58<04:06,  7.25s/it]\u001b[A\n",
      "[Succeeded / Failed / Skipped / Total] 8 / 42 / 16 / 66:  67%|██████▋   | 67/100 [08:04<03:58,  7.23s/it]\u001b[A\n",
      "[Succeeded / Failed / Skipped / Total] 9 / 42 / 16 / 67:  67%|██████▋   | 67/100 [08:04<03:58,  7.23s/it]\u001b[A\n",
      "[Succeeded / Failed / Skipped / Total] 10 / 42 / 16 / 68:  68%|██████▊   | 68/100 [08:04<03:48,  7.13s/it]\u001b[A\n",
      "[Succeeded / Failed / Skipped / Total] 10 / 42 / 16 / 68:  68%|██████▊   | 68/100 [08:18<03:54,  7.32s/it]\u001b[A\n",
      "[Succeeded / Failed / Skipped / Total] 10 / 42 / 16 / 68:  69%|██████▉   | 69/100 [08:53<03:59,  7.72s/it]\u001b[A\n",
      "[Succeeded / Failed / Skipped / Total] 10 / 43 / 16 / 69:  69%|██████▉   | 69/100 [08:53<03:59,  7.73s/it]\u001b[A\n",
      "[Succeeded / Failed / Skipped / Total] 10 / 43 / 16 / 69:  70%|███████   | 70/100 [08:54<03:49,  7.64s/it]\u001b[A\n",
      "[Succeeded / Failed / Skipped / Total] 10 / 44 / 16 / 70:  70%|███████   | 70/100 [08:54<03:49,  7.64s/it]\u001b[A\n",
      "[Succeeded / Failed / Skipped / Total] 10 / 44 / 17 / 71:  71%|███████   | 71/100 [08:54<03:38,  7.53s/it]\u001b[A\n",
      "[Succeeded / Failed / Skipped / Total] 10 / 44 / 17 / 71:  72%|███████▏  | 72/100 [08:56<03:28,  7.45s/it]\u001b[A\n",
      "[Succeeded / Failed / Skipped / Total] 10 / 45 / 17 / 72:  72%|███████▏  | 72/100 [08:56<03:28,  7.45s/it]\u001b[A\n",
      "[Succeeded / Failed / Skipped / Total] 10 / 45 / 18 / 73:  73%|███████▎  | 73/100 [08:56<03:18,  7.35s/it]\u001b[A\n",
      "[Succeeded / Failed / Skipped / Total] 10 / 45 / 18 / 73:  74%|███████▍  | 74/100 [09:07<03:12,  7.40s/it]\u001b[A\n",
      "[Succeeded / Failed / Skipped / Total] 10 / 46 / 18 / 74:  74%|███████▍  | 74/100 [09:07<03:12,  7.40s/it]\u001b[A\n",
      "[Succeeded / Failed / Skipped / Total] 10 / 46 / 18 / 74:  75%|███████▌  | 75/100 [09:10<03:03,  7.33s/it]\u001b[A\n",
      "[Succeeded / Failed / Skipped / Total] 10 / 47 / 18 / 75:  75%|███████▌  | 75/100 [09:10<03:03,  7.34s/it]\u001b[A\n",
      "[Succeeded / Failed / Skipped / Total] 10 / 47 / 18 / 75:  76%|███████▌  | 76/100 [09:12<02:54,  7.27s/it]\u001b[A\n",
      "[Succeeded / Failed / Skipped / Total] 11 / 47 / 18 / 76:  76%|███████▌  | 76/100 [09:12<02:54,  7.27s/it]\u001b[A\n",
      "[Succeeded / Failed / Skipped / Total] 11 / 47 / 18 / 76:  77%|███████▋  | 77/100 [09:15<02:46,  7.22s/it]\u001b[A\n",
      "[Succeeded / Failed / Skipped / Total] 11 / 48 / 18 / 77:  77%|███████▋  | 77/100 [09:15<02:46,  7.22s/it]\u001b[A\n",
      "[Succeeded / Failed / Skipped / Total] 11 / 48 / 18 / 77:  78%|███████▊  | 78/100 [09:25<02:39,  7.26s/it]\u001b[A\n",
      "[Succeeded / Failed / Skipped / Total] 11 / 49 / 18 / 78:  78%|███████▊  | 78/100 [09:25<02:39,  7.26s/it]\u001b[A\n",
      "[Succeeded / Failed / Skipped / Total] 11 / 49 / 18 / 78:  79%|███████▉  | 79/100 [09:28<02:31,  7.19s/it]\u001b[A\n",
      "[Succeeded / Failed / Skipped / Total] 11 / 50 / 18 / 79:  79%|███████▉  | 79/100 [09:28<02:31,  7.19s/it]\u001b[A\n",
      "[Succeeded / Failed / Skipped / Total] 11 / 50 / 19 / 80:  80%|████████  | 80/100 [09:28<02:22,  7.10s/it]\u001b[Atextattack: Saving checkpoint under \"checkpoints/1640374326117.ta.chkpt\" at 2021-12-24 19:32:06 after 80 attacks.\n",
      "\n",
      "[Succeeded / Failed / Skipped / Total] 11 / 50 / 19 / 80:  81%|████████  | 81/100 [09:32<02:14,  7.07s/it]\u001b[A\n",
      "[Succeeded / Failed / Skipped / Total] 12 / 50 / 19 / 81:  81%|████████  | 81/100 [09:32<02:14,  7.07s/it]\u001b[A\n",
      "[Succeeded / Failed / Skipped / Total] 12 / 51 / 19 / 82:  82%|████████▏ | 82/100 [09:34<02:06,  7.00s/it]\u001b[A\n",
      "[Succeeded / Failed / Skipped / Total] 12 / 51 / 19 / 82:  83%|████████▎ | 83/100 [09:41<01:59,  7.00s/it]\u001b[A\n",
      "[Succeeded / Failed / Skipped / Total] 12 / 52 / 19 / 83:  83%|████████▎ | 83/100 [09:41<01:59,  7.00s/it]\u001b[A\n",
      "[Succeeded / Failed / Skipped / Total] 13 / 52 / 19 / 84:  84%|████████▍ | 84/100 [09:50<01:52,  7.03s/it]\u001b[A\n",
      "[Succeeded / Failed / Skipped / Total] 13 / 52 / 19 / 84:  84%|████████▍ | 84/100 [09:58<01:53,  7.12s/it]\u001b[A\n",
      "[Succeeded / Failed / Skipped / Total] 13 / 52 / 19 / 84:  85%|████████▌ | 85/100 [09:59<01:45,  7.06s/it]\u001b[A\n",
      "[Succeeded / Failed / Skipped / Total] 13 / 53 / 19 / 85:  85%|████████▌ | 85/100 [09:59<01:45,  7.06s/it]\u001b[A\n",
      "[Succeeded / Failed / Skipped / Total] 13 / 53 / 19 / 85:  86%|████████▌ | 86/100 [10:04<01:38,  7.02s/it]\u001b[A\n",
      "[Succeeded / Failed / Skipped / Total] 13 / 54 / 19 / 86:  86%|████████▌ | 86/100 [10:04<01:38,  7.02s/it]\u001b[A\n",
      "[Succeeded / Failed / Skipped / Total] 13 / 54 / 19 / 86:  87%|████████▋ | 87/100 [10:05<01:30,  6.96s/it]\u001b[A\n",
      "[Succeeded / Failed / Skipped / Total] 14 / 54 / 19 / 87:  87%|████████▋ | 87/100 [10:05<01:30,  6.96s/it]\u001b[A\n",
      "[Succeeded / Failed / Skipped / Total] 14 / 54 / 19 / 87:  88%|████████▊ | 88/100 [10:09<01:23,  6.93s/it]\u001b[A\n",
      "[Succeeded / Failed / Skipped / Total] 14 / 55 / 19 / 88:  88%|████████▊ | 88/100 [10:09<01:23,  6.93s/it]\u001b[A\n",
      "[Succeeded / Failed / Skipped / Total] 14 / 55 / 19 / 88:  89%|████████▉ | 89/100 [10:13<01:15,  6.89s/it]\u001b[A\n",
      "[Succeeded / Failed / Skipped / Total] 14 / 56 / 19 / 89:  89%|████████▉ | 89/100 [10:13<01:15,  6.89s/it]\u001b[A\n",
      "[Succeeded / Failed / Skipped / Total] 14 / 56 / 20 / 90:  90%|█████████ | 90/100 [10:13<01:08,  6.81s/it]\u001b[A\n",
      "[Succeeded / Failed / Skipped / Total] 14 / 56 / 20 / 90:  91%|█████████ | 91/100 [10:33<01:02,  6.96s/it]\u001b[A\n",
      "[Succeeded / Failed / Skipped / Total] 15 / 56 / 20 / 91:  91%|█████████ | 91/100 [10:33<01:02,  6.96s/it]\u001b[A\n",
      "[Succeeded / Failed / Skipped / Total] 15 / 56 / 20 / 91:  92%|█████████▏| 92/100 [10:46<00:56,  7.02s/it]\u001b[A\n",
      "[Succeeded / Failed / Skipped / Total] 15 / 57 / 20 / 92:  92%|█████████▏| 92/100 [10:46<00:56,  7.02s/it]\u001b[A\n",
      "[Succeeded / Failed / Skipped / Total] 15 / 57 / 20 / 92:  93%|█████████▎| 93/100 [10:46<00:48,  6.95s/it]\u001b[A\n",
      "[Succeeded / Failed / Skipped / Total] 16 / 57 / 20 / 93:  93%|█████████▎| 93/100 [10:46<00:48,  6.95s/it]\u001b[A\n",
      "[Succeeded / Failed / Skipped / Total] 16 / 57 / 20 / 93:  94%|█████████▍| 94/100 [10:56<00:41,  6.99s/it]\u001b[A\n",
      "[Succeeded / Failed / Skipped / Total] 16 / 58 / 20 / 94:  94%|█████████▍| 94/100 [10:56<00:41,  6.99s/it]\u001b[A\n",
      "[Succeeded / Failed / Skipped / Total] 16 / 58 / 21 / 95:  95%|█████████▌| 95/100 [10:57<00:34,  6.92s/it]\u001b[A\n",
      "[Succeeded / Failed / Skipped / Total] 16 / 58 / 21 / 95:  96%|█████████▌| 96/100 [10:59<00:27,  6.87s/it]\u001b[A\n",
      "[Succeeded / Failed / Skipped / Total] 16 / 59 / 21 / 96:  96%|█████████▌| 96/100 [10:59<00:27,  6.87s/it]\u001b[A\n",
      "[Succeeded / Failed / Skipped / Total] 16 / 59 / 21 / 96:  96%|█████████▌| 96/100 [11:18<00:28,  7.06s/it]\u001b[A\n",
      "[Succeeded / Failed / Skipped / Total] 16 / 59 / 21 / 96:  97%|█████████▋| 97/100 [11:22<00:21,  7.03s/it]\u001b[A\n",
      "[Succeeded / Failed / Skipped / Total] 16 / 60 / 21 / 97:  97%|█████████▋| 97/100 [11:22<00:21,  7.03s/it]\u001b[A\n",
      "[Succeeded / Failed / Skipped / Total] 16 / 60 / 22 / 98:  98%|█████████▊| 98/100 [11:22<00:13,  6.96s/it]\u001b[A\n",
      "[Succeeded / Failed / Skipped / Total] 16 / 60 / 23 / 99:  99%|█████████▉| 99/100 [11:22<00:06,  6.89s/it]\u001b[A\n",
      "[Succeeded / Failed / Skipped / Total] 16 / 60 / 23 / 99: 100%|██████████| 100/100 [11:28<00:00,  6.88s/it]\u001b[A\n",
      "[Succeeded / Failed / Skipped / Total] 17 / 60 / 23 / 100: 100%|██████████| 100/100 [11:28<00:00,  6.88s/it]\u001b[Atextattack: Saving checkpoint under \"checkpoints/1640374446252.ta.chkpt\" at 2021-12-24 19:34:06 after 100 attacks.\n",
      "[Succeeded / Failed / Skipped / Total] 17 / 60 / 23 / 100: 100%|██████████| 100/100 [11:28<00:00,  6.88s/it]\n"
     ]
    },
    {
     "data": {
      "text/plain": [
       "[<textattack.attack_results.failed_attack_result.FailedAttackResult at 0x7faeead773d0>,\n",
       " <textattack.attack_results.failed_attack_result.FailedAttackResult at 0x7faee96d8fd0>,\n",
       " <textattack.attack_results.successful_attack_result.SuccessfulAttackResult at 0x7fa9093d5ed0>,\n",
       " <textattack.attack_results.failed_attack_result.FailedAttackResult at 0x7faef0f311d0>,\n",
       " <textattack.attack_results.failed_attack_result.FailedAttackResult at 0x7fafab1092d0>,\n",
       " <textattack.attack_results.failed_attack_result.FailedAttackResult at 0x7faef9c4be90>,\n",
       " <textattack.attack_results.failed_attack_result.FailedAttackResult at 0x7fa907f62ad0>,\n",
       " <textattack.attack_results.failed_attack_result.FailedAttackResult at 0x7faee93210d0>,\n",
       " <textattack.attack_results.failed_attack_result.FailedAttackResult at 0x7faef21b2e90>,\n",
       " <textattack.attack_results.failed_attack_result.FailedAttackResult at 0x7faee2b02d90>,\n",
       " <textattack.attack_results.successful_attack_result.SuccessfulAttackResult at 0x7faef4f0f810>,\n",
       " <textattack.attack_results.skipped_attack_result.SkippedAttackResult at 0x7faee955e710>,\n",
       " <textattack.attack_results.failed_attack_result.FailedAttackResult at 0x7fa9136d2e50>,\n",
       " <textattack.attack_results.skipped_attack_result.SkippedAttackResult at 0x7faf91684d10>,\n",
       " <textattack.attack_results.skipped_attack_result.SkippedAttackResult at 0x7faf91684f90>,\n",
       " <textattack.attack_results.failed_attack_result.FailedAttackResult at 0x7faeecd37f10>,\n",
       " <textattack.attack_results.failed_attack_result.FailedAttackResult at 0x7faee7a1c3d0>,\n",
       " <textattack.attack_results.failed_attack_result.FailedAttackResult at 0x7faef899c150>,\n",
       " <textattack.attack_results.failed_attack_result.FailedAttackResult at 0x7faecf8d5790>,\n",
       " <textattack.attack_results.failed_attack_result.FailedAttackResult at 0x7fafabfbe690>,\n",
       " <textattack.attack_results.failed_attack_result.FailedAttackResult at 0x7faee845b450>,\n",
       " <textattack.attack_results.failed_attack_result.FailedAttackResult at 0x7fa90eab0050>,\n",
       " <textattack.attack_results.failed_attack_result.FailedAttackResult at 0x7faf06f41a50>,\n",
       " <textattack.attack_results.skipped_attack_result.SkippedAttackResult at 0x7faeed853610>,\n",
       " <textattack.attack_results.failed_attack_result.FailedAttackResult at 0x7faee9891490>,\n",
       " <textattack.attack_results.failed_attack_result.FailedAttackResult at 0x7fa90aaff150>,\n",
       " <textattack.attack_results.failed_attack_result.FailedAttackResult at 0x7fa9062f3c90>,\n",
       " <textattack.attack_results.skipped_attack_result.SkippedAttackResult at 0x7faee8c535d0>,\n",
       " <textattack.attack_results.failed_attack_result.FailedAttackResult at 0x7faf04203050>,\n",
       " <textattack.attack_results.skipped_attack_result.SkippedAttackResult at 0x7fa909096490>,\n",
       " <textattack.attack_results.failed_attack_result.FailedAttackResult at 0x7faef6894710>,\n",
       " <textattack.attack_results.failed_attack_result.FailedAttackResult at 0x7faee9a06590>,\n",
       " <textattack.attack_results.failed_attack_result.FailedAttackResult at 0x7faf066fa850>,\n",
       " <textattack.attack_results.skipped_attack_result.SkippedAttackResult at 0x7faeefff9090>,\n",
       " <textattack.attack_results.successful_attack_result.SuccessfulAttackResult at 0x7faee4bfdb90>,\n",
       " <textattack.attack_results.successful_attack_result.SuccessfulAttackResult at 0x7faef915c2d0>,\n",
       " <textattack.attack_results.successful_attack_result.SuccessfulAttackResult at 0x7faef0b8fb90>,\n",
       " <textattack.attack_results.failed_attack_result.FailedAttackResult at 0x7fa90c9169d0>,\n",
       " <textattack.attack_results.skipped_attack_result.SkippedAttackResult at 0x7faee8fe9a90>,\n",
       " <textattack.attack_results.failed_attack_result.FailedAttackResult at 0x7faf4c08f050>,\n",
       " <textattack.attack_results.failed_attack_result.FailedAttackResult at 0x7faef1bd3c90>,\n",
       " <textattack.attack_results.failed_attack_result.FailedAttackResult at 0x7faeea040ed0>,\n",
       " <textattack.attack_results.failed_attack_result.FailedAttackResult at 0x7faeef6ffa50>,\n",
       " <textattack.attack_results.failed_attack_result.FailedAttackResult at 0x7faee36f04d0>,\n",
       " <textattack.attack_results.successful_attack_result.SuccessfulAttackResult at 0x7faee8c9b750>,\n",
       " <textattack.attack_results.failed_attack_result.FailedAttackResult at 0x7faeef469050>,\n",
       " <textattack.attack_results.skipped_attack_result.SkippedAttackResult at 0x7faeef469ad0>,\n",
       " <textattack.attack_results.failed_attack_result.FailedAttackResult at 0x7faefa4dc050>,\n",
       " <textattack.attack_results.skipped_attack_result.SkippedAttackResult at 0x7faefa4dc450>,\n",
       " <textattack.attack_results.skipped_attack_result.SkippedAttackResult at 0x7faee65ef390>,\n",
       " <textattack.attack_results.skipped_attack_result.SkippedAttackResult at 0x7faee65ef290>,\n",
       " <textattack.attack_results.failed_attack_result.FailedAttackResult at 0x7faee613ed50>,\n",
       " <textattack.attack_results.failed_attack_result.FailedAttackResult at 0x7fa90c22e5d0>,\n",
       " <textattack.attack_results.failed_attack_result.FailedAttackResult at 0x7fa90a213610>,\n",
       " <textattack.attack_results.failed_attack_result.FailedAttackResult at 0x7faef4fc46d0>,\n",
       " <textattack.attack_results.failed_attack_result.FailedAttackResult at 0x7faef46cf590>,\n",
       " <textattack.attack_results.skipped_attack_result.SkippedAttackResult at 0x7faee6aa9c50>,\n",
       " <textattack.attack_results.failed_attack_result.FailedAttackResult at 0x7faef62f6050>,\n",
       " <textattack.attack_results.skipped_attack_result.SkippedAttackResult at 0x7faef670b950>,\n",
       " <textattack.attack_results.skipped_attack_result.SkippedAttackResult at 0x7faf07fb1910>,\n",
       " <textattack.attack_results.failed_attack_result.FailedAttackResult at 0x7fa90989d150>,\n",
       " <textattack.attack_results.failed_attack_result.FailedAttackResult at 0x7fa908e23e50>,\n",
       " <textattack.attack_results.failed_attack_result.FailedAttackResult at 0x7faf90e27b50>,\n",
       " <textattack.attack_results.successful_attack_result.SuccessfulAttackResult at 0x7faee93dd810>,\n",
       " <textattack.attack_results.skipped_attack_result.SkippedAttackResult at 0x7faeeaa1b9d0>,\n",
       " <textattack.attack_results.successful_attack_result.SuccessfulAttackResult at 0x7faef958af10>,\n",
       " <textattack.attack_results.successful_attack_result.SuccessfulAttackResult at 0x7faef8a4cc50>,\n",
       " <textattack.attack_results.successful_attack_result.SuccessfulAttackResult at 0x7faef8906090>,\n",
       " <textattack.attack_results.failed_attack_result.FailedAttackResult at 0x7fa9101ed050>,\n",
       " <textattack.attack_results.failed_attack_result.FailedAttackResult at 0x7faeed8539d0>,\n",
       " <textattack.attack_results.skipped_attack_result.SkippedAttackResult at 0x7faee8c53190>,\n",
       " <textattack.attack_results.failed_attack_result.FailedAttackResult at 0x7faef8aa7910>,\n",
       " <textattack.attack_results.skipped_attack_result.SkippedAttackResult at 0x7faeed853050>,\n",
       " <textattack.attack_results.failed_attack_result.FailedAttackResult at 0x7faee6fad050>,\n",
       " <textattack.attack_results.failed_attack_result.FailedAttackResult at 0x7fa909d0a290>,\n",
       " <textattack.attack_results.successful_attack_result.SuccessfulAttackResult at 0x7faef108f150>,\n",
       " <textattack.attack_results.failed_attack_result.FailedAttackResult at 0x7faef0299510>,\n",
       " <textattack.attack_results.failed_attack_result.FailedAttackResult at 0x7faefb219210>,\n",
       " <textattack.attack_results.failed_attack_result.FailedAttackResult at 0x7faef1fe9650>,\n",
       " <textattack.attack_results.skipped_attack_result.SkippedAttackResult at 0x7faef1fe9910>,\n",
       " <textattack.attack_results.successful_attack_result.SuccessfulAttackResult at 0x7faef7e17590>,\n",
       " <textattack.attack_results.failed_attack_result.FailedAttackResult at 0x7faee42289d0>,\n",
       " <textattack.attack_results.failed_attack_result.FailedAttackResult at 0x7faef8f32650>,\n",
       " <textattack.attack_results.successful_attack_result.SuccessfulAttackResult at 0x7faf079fd890>,\n",
       " <textattack.attack_results.failed_attack_result.FailedAttackResult at 0x7faeeae47cd0>,\n",
       " <textattack.attack_results.failed_attack_result.FailedAttackResult at 0x7faefaaad1d0>,\n",
       " <textattack.attack_results.successful_attack_result.SuccessfulAttackResult at 0x7faee6596510>,\n",
       " <textattack.attack_results.failed_attack_result.FailedAttackResult at 0x7faef6e30690>,\n",
       " <textattack.attack_results.failed_attack_result.FailedAttackResult at 0x7faef8fdc790>,\n",
       " <textattack.attack_results.skipped_attack_result.SkippedAttackResult at 0x7faef8fdc2d0>,\n",
       " <textattack.attack_results.successful_attack_result.SuccessfulAttackResult at 0x7faf0560f290>,\n",
       " <textattack.attack_results.failed_attack_result.FailedAttackResult at 0x7faf0718f210>,\n",
       " <textattack.attack_results.successful_attack_result.SuccessfulAttackResult at 0x7fa90e4783d0>,\n",
       " <textattack.attack_results.failed_attack_result.FailedAttackResult at 0x7faee69ce2d0>,\n",
       " <textattack.attack_results.skipped_attack_result.SkippedAttackResult at 0x7faee7b6b390>,\n",
       " <textattack.attack_results.failed_attack_result.FailedAttackResult at 0x7faeed8531d0>,\n",
       " <textattack.attack_results.failed_attack_result.FailedAttackResult at 0x7faef670b350>,\n",
       " <textattack.attack_results.skipped_attack_result.SkippedAttackResult at 0x7faef9dc78d0>,\n",
       " <textattack.attack_results.skipped_attack_result.SkippedAttackResult at 0x7faef9dc76d0>,\n",
       " <textattack.attack_results.successful_attack_result.SuccessfulAttackResult at 0x7faef24dd810>]"
      ]
     },
     "metadata": {},
     "output_type": "display_data"
    }
   ],
   "source": [
    "#!g1.1\n",
    "%%time \n",
    "\n",
    "attacker.attack_dataset()"
   ]
  },
  {
   "cell_type": "markdown",
   "metadata": {
    "cellId": "l5gyk1em24e72nd0hyq7"
   },
   "source": [
    "#!g1.1\n",
    "##  Пока что качество явно не оч"
   ]
  },
  {
   "cell_type": "code",
   "execution_count": 108,
   "metadata": {
    "cellId": "i2neah5kzyxzyc0oktnwr"
   },
   "outputs": [
    {
     "name": "stdout",
     "output_type": "stream",
     "text": [
      "Attack(\n",
      "  (search_method): GreedyWordSwapWIR(\n",
      "    (wir_method):  delete\n",
      "  )\n",
      "  (goal_function):  UntargetedClassification\n",
      "  (transformation):  WordSwapMaskedLM(\n",
      "    (method):  bae\n",
      "    (masked_lm_name):  BertForMaskedLM\n",
      "    (max_length):  512\n",
      "    (max_candidates):  50\n",
      "    (min_confidence):  0.0\n",
      "  )\n",
      "  (constraints): \n",
      "    (0): PartOfSpeech(\n",
      "        (tagger_type):  nltk\n",
      "        (tagset):  universal\n",
      "        (allow_verb_noun_swap):  True\n",
      "        (compare_against_original):  True\n",
      "      )\n",
      "    (1): UniversalSentenceEncoder(\n",
      "        (metric):  cosine\n",
      "        (threshold):  0.936338023\n",
      "        (window_size):  15\n",
      "        (skip_text_shorter_than_window):  True\n",
      "        (compare_against_original):  True\n",
      "      )\n",
      "    (2): RepeatModification\n",
      "    (3): StopwordModification\n",
      "  (is_black_box):  True\n",
      ") \n",
      "\n",
      "\n",
      "\n",
      "=============================================================================================================================\n",
      "=============================================================================================================================\n",
      "\n",
      "\n",
      "\n",
      "=============================================================================================================================\n",
      "=============================================================================================================================\n",
      "\n",
      "\n",
      "\n",
      "=============================================================================================================================\n",
      "=============================================================================================================================\n",
      "\n",
      "\n",
      "\n",
      "=============================================================================================================================\n",
      "=============================================================================================================================\n",
      "\n",
      "\n",
      "\n",
      "=============================================================================================================================\n",
      "=============================================================================================================================\n",
      "\n",
      "\n",
      "+-------------------------------+--------+\n",
      "| Attack Results                |        |\n",
      "+-------------------------------+--------+\n",
      "| Number of successful attacks: | 17     |\n",
      "| Number of failed attacks:     | 60     |\n",
      "| Number of skipped attacks:    | 23     |\n",
      "| Original accuracy:            | 77.0%  |\n",
      "| Accuracy under attack:        | 60.0%  |\n",
      "| Attack success rate:          | 22.08% |\n",
      "| Average perturbed word %:     | 6.03%  |\n",
      "| Average num. words per input: | 78.42  |\n",
      "| Avg num queries:              | 200.9  |\n",
      "+-------------------------------+--------+\n"
     ]
    },
    {
     "name": "stderr",
     "output_type": "stream",
     "text": [
      "Some weights of the model checkpoint at bert-base-uncased were not used when initializing BertForMaskedLM: ['cls.seq_relationship.weight', 'cls.seq_relationship.bias']\n",
      "- This IS expected if you are initializing BertForMaskedLM from the checkpoint of a model trained on another task or with another architecture (e.g. initializing a BertForSequenceClassification model from a BertForPreTraining model).\n",
      "- This IS NOT expected if you are initializing BertForMaskedLM from the checkpoint of a model that you expect to be exactly identical (initializing a BertForSequenceClassification model from a BertForSequenceClassification model).\n",
      "textattack: Unknown if model of class <class 'transformers.models.bert.modeling_bert.BertForSequenceClassification'> compatible with goal function <class 'textattack.goal_functions.classification.untargeted_classification.UntargetedClassification'>.\n",
      "textattack: Logging to CSV at path logBae2.csv\n",
      "\n",
      "  0%|          | 0/100 [00:00<?, ?it/s]\u001b[A\n",
      "  1%|          | 1/100 [00:08<14:40,  8.89s/it]\u001b[A\n",
      "[Succeeded / Failed / Skipped / Total] 0 / 1 / 0 / 1:   1%|          | 1/100 [00:08<14:41,  8.90s/it]\u001b[A\n",
      "[Succeeded / Failed / Skipped / Total] 0 / 1 / 0 / 1:   2%|▏         | 2/100 [00:16<13:46,  8.44s/it]\u001b[A\n",
      "[Succeeded / Failed / Skipped / Total] 0 / 2 / 0 / 2:   2%|▏         | 2/100 [00:16<13:47,  8.44s/it]\u001b[A\n",
      "[Succeeded / Failed / Skipped / Total] 0 / 2 / 0 / 2:   3%|▎         | 3/100 [00:36<19:43, 12.20s/it]\u001b[A\n",
      "[Succeeded / Failed / Skipped / Total] 1 / 2 / 0 / 3:   3%|▎         | 3/100 [00:36<19:43, 12.20s/it]\u001b[A\n",
      "[Succeeded / Failed / Skipped / Total] 1 / 2 / 0 / 3:   4%|▍         | 4/100 [00:41<16:34, 10.36s/it]\u001b[A\n",
      "[Succeeded / Failed / Skipped / Total] 1 / 3 / 0 / 4:   4%|▍         | 4/100 [00:41<16:34, 10.36s/it]\u001b[A\n",
      "[Succeeded / Failed / Skipped / Total] 1 / 3 / 0 / 4:   5%|▌         | 5/100 [00:47<14:56,  9.43s/it]\u001b[A\n",
      "[Succeeded / Failed / Skipped / Total] 1 / 4 / 0 / 5:   5%|▌         | 5/100 [00:47<14:56,  9.43s/it]\u001b[A\n",
      "[Succeeded / Failed / Skipped / Total] 1 / 4 / 0 / 5:   6%|▌         | 6/100 [00:51<13:23,  8.55s/it]\u001b[A\n",
      "[Succeeded / Failed / Skipped / Total] 1 / 5 / 0 / 6:   6%|▌         | 6/100 [00:51<13:23,  8.55s/it]\u001b[A\n",
      "[Succeeded / Failed / Skipped / Total] 1 / 5 / 0 / 6:   7%|▋         | 7/100 [00:58<12:55,  8.33s/it]\u001b[A\n",
      "[Succeeded / Failed / Skipped / Total] 1 / 6 / 0 / 7:   7%|▋         | 7/100 [00:58<12:55,  8.34s/it]\u001b[A\n",
      "[Succeeded / Failed / Skipped / Total] 1 / 6 / 0 / 7:   8%|▊         | 8/100 [01:09<13:22,  8.72s/it]\u001b[A\n",
      "[Succeeded / Failed / Skipped / Total] 1 / 7 / 0 / 8:   8%|▊         | 8/100 [01:09<13:22,  8.72s/it]\u001b[A\n",
      "[Succeeded / Failed / Skipped / Total] 1 / 7 / 0 / 8:   9%|▉         | 9/100 [01:11<12:02,  7.93s/it]\u001b[A\n",
      "[Succeeded / Failed / Skipped / Total] 1 / 8 / 0 / 9:   9%|▉         | 9/100 [01:11<12:02,  7.94s/it]\u001b[A\n",
      "[Succeeded / Failed / Skipped / Total] 1 / 8 / 0 / 9:  10%|█         | 10/100 [01:35<14:16,  9.51s/it]\u001b[A\n",
      "[Succeeded / Failed / Skipped / Total] 1 / 9 / 0 / 10:  10%|█         | 10/100 [01:35<14:16,  9.52s/it]\u001b[A\n",
      "[Succeeded / Failed / Skipped / Total] 1 / 9 / 0 / 10:  11%|█         | 11/100 [01:36<13:00,  8.77s/it]\u001b[A\n",
      "[Succeeded / Failed / Skipped / Total] 2 / 9 / 0 / 11:  11%|█         | 11/100 [01:36<13:00,  8.77s/it]\u001b[A\n",
      "[Succeeded / Failed / Skipped / Total] 2 / 9 / 1 / 12:  12%|█▏        | 12/100 [01:36<11:47,  8.04s/it]\u001b[A\n",
      "[Succeeded / Failed / Skipped / Total] 2 / 9 / 1 / 12:  13%|█▎        | 13/100 [02:35<17:19, 11.94s/it]\u001b[A\n",
      "[Succeeded / Failed / Skipped / Total] 2 / 10 / 1 / 13:  13%|█▎        | 13/100 [02:35<17:19, 11.95s/it]\u001b[A\n",
      "[Succeeded / Failed / Skipped / Total] 2 / 10 / 2 / 14:  14%|█▍        | 14/100 [02:35<15:54, 11.09s/it]\u001b[A\n",
      "[Succeeded / Failed / Skipped / Total] 2 / 10 / 3 / 15:  15%|█▌        | 15/100 [02:35<14:40, 10.36s/it]\u001b[A\n",
      "[Succeeded / Failed / Skipped / Total] 2 / 10 / 3 / 15:  16%|█▌        | 16/100 [02:39<13:57,  9.97s/it]\u001b[A\n",
      "[Succeeded / Failed / Skipped / Total] 2 / 11 / 3 / 16:  16%|█▌        | 16/100 [02:39<13:57,  9.97s/it]\u001b[A\n",
      "[Succeeded / Failed / Skipped / Total] 2 / 12 / 3 / 17:  17%|█▋        | 17/100 [02:42<13:12,  9.55s/it]\u001b[A\n",
      "[Succeeded / Failed / Skipped / Total] 2 / 13 / 3 / 18:  18%|█▊        | 18/100 [02:44<12:28,  9.13s/it]\u001b[A\n",
      "[Succeeded / Failed / Skipped / Total] 2 / 13 / 3 / 18:  19%|█▉        | 19/100 [02:46<11:47,  8.74s/it]\u001b[A\n",
      "[Succeeded / Failed / Skipped / Total] 2 / 14 / 3 / 19:  19%|█▉        | 19/100 [02:46<11:47,  8.74s/it]\u001b[A\n",
      "[Succeeded / Failed / Skipped / Total] 2 / 15 / 3 / 20:  20%|██        | 20/100 [02:48<11:15,  8.44s/it]\u001b[Atextattack: Saving checkpoint under \"checkpoints/1640374769129.ta.chkpt\" at 2021-12-24 19:39:29 after 20 attacks.\n",
      "\n",
      "[Succeeded / Failed / Skipped / Total] 2 / 16 / 3 / 21:  21%|██        | 21/100 [02:51<10:44,  8.15s/it]\u001b[A\n",
      "[Succeeded / Failed / Skipped / Total] 2 / 16 / 3 / 21:  21%|██        | 21/100 [02:57<11:07,  8.45s/it]\u001b[A\n",
      "[Succeeded / Failed / Skipped / Total] 2 / 16 / 3 / 21:  22%|██▏       | 22/100 [03:37<12:49,  9.87s/it]\u001b[A\n",
      "[Succeeded / Failed / Skipped / Total] 2 / 17 / 3 / 22:  22%|██▏       | 22/100 [03:37<12:50,  9.87s/it]\u001b[A\n",
      "[Succeeded / Failed / Skipped / Total] 2 / 17 / 3 / 22:  23%|██▎       | 23/100 [03:39<12:14,  9.54s/it]\u001b[A\n",
      "[Succeeded / Failed / Skipped / Total] 2 / 18 / 3 / 23:  23%|██▎       | 23/100 [03:39<12:14,  9.54s/it]\u001b[A\n",
      "[Succeeded / Failed / Skipped / Total] 2 / 18 / 4 / 24:  24%|██▍       | 24/100 [03:39<11:34,  9.14s/it]\u001b[A\n",
      "[Succeeded / Failed / Skipped / Total] 2 / 18 / 4 / 24:  25%|██▌       | 25/100 [03:50<11:30,  9.21s/it]\u001b[A\n",
      "[Succeeded / Failed / Skipped / Total] 2 / 19 / 4 / 25:  25%|██▌       | 25/100 [03:50<11:30,  9.21s/it]\u001b[A\n",
      "[Succeeded / Failed / Skipped / Total] 2 / 19 / 4 / 25:  26%|██▌       | 26/100 [04:26<12:37, 10.24s/it]\u001b[A\n",
      "[Succeeded / Failed / Skipped / Total] 2 / 20 / 4 / 26:  26%|██▌       | 26/100 [04:26<12:38, 10.24s/it]\u001b[A\n",
      "[Succeeded / Failed / Skipped / Total] 2 / 20 / 4 / 26:  27%|██▋       | 27/100 [04:39<12:34, 10.34s/it]\u001b[A\n",
      "[Succeeded / Failed / Skipped / Total] 2 / 21 / 4 / 27:  27%|██▋       | 27/100 [04:39<12:34, 10.34s/it]\u001b[A\n",
      "[Succeeded / Failed / Skipped / Total] 2 / 21 / 5 / 28:  28%|██▊       | 28/100 [04:39<11:57,  9.97s/it]\u001b[A\n",
      "[Succeeded / Failed / Skipped / Total] 2 / 21 / 5 / 28:  29%|██▉       | 29/100 [05:02<12:19, 10.42s/it]\u001b[A\n",
      "[Succeeded / Failed / Skipped / Total] 2 / 22 / 5 / 29:  29%|██▉       | 29/100 [05:02<12:19, 10.42s/it]\u001b[A\n",
      "[Succeeded / Failed / Skipped / Total] 2 / 22 / 6 / 30:  30%|███       | 30/100 [05:02<11:45, 10.07s/it]\u001b[A\n",
      "[Succeeded / Failed / Skipped / Total] 2 / 22 / 6 / 30:  31%|███       | 31/100 [05:11<11:32, 10.04s/it]\u001b[A\n",
      "[Succeeded / Failed / Skipped / Total] 2 / 23 / 6 / 31:  31%|███       | 31/100 [05:11<11:32, 10.04s/it]\u001b[A\n",
      "[Succeeded / Failed / Skipped / Total] 2 / 24 / 6 / 32:  32%|███▏      | 32/100 [05:15<11:10,  9.87s/it]\u001b[A\n",
      "[Succeeded / Failed / Skipped / Total] 2 / 24 / 6 / 32:  33%|███▎      | 33/100 [05:25<11:01,  9.88s/it]\u001b[A\n",
      "[Succeeded / Failed / Skipped / Total] 2 / 25 / 6 / 33:  33%|███▎      | 33/100 [05:25<11:01,  9.88s/it]\u001b[A\n",
      "[Succeeded / Failed / Skipped / Total] 2 / 25 / 7 / 34:  34%|███▍      | 34/100 [05:26<10:32,  9.59s/it]\u001b[A\n",
      "[Succeeded / Failed / Skipped / Total] 2 / 25 / 7 / 34:  35%|███▌      | 35/100 [05:31<10:14,  9.46s/it]\u001b[A\n",
      "[Succeeded / Failed / Skipped / Total] 3 / 25 / 7 / 35:  35%|███▌      | 35/100 [05:31<10:14,  9.46s/it]\u001b[A\n",
      "[Succeeded / Failed / Skipped / Total] 4 / 25 / 7 / 36:  36%|███▌      | 36/100 [05:33<09:52,  9.25s/it]\u001b[A\n",
      "[Succeeded / Failed / Skipped / Total] 4 / 25 / 7 / 36:  37%|███▋      | 37/100 [05:35<09:31,  9.07s/it]\u001b[A\n",
      "[Succeeded / Failed / Skipped / Total] 5 / 25 / 7 / 37:  37%|███▋      | 37/100 [05:35<09:31,  9.07s/it]\u001b[A\n",
      "[Succeeded / Failed / Skipped / Total] 5 / 25 / 7 / 37:  37%|███▋      | 37/100 [05:48<09:53,  9.42s/it]\u001b[A\n",
      "[Succeeded / Failed / Skipped / Total] 5 / 25 / 7 / 37:  38%|███▊      | 38/100 [05:49<09:30,  9.20s/it]\u001b[A\n",
      "[Succeeded / Failed / Skipped / Total] 5 / 26 / 7 / 38:  38%|███▊      | 38/100 [05:49<09:30,  9.20s/it]\u001b[A\n",
      "[Succeeded / Failed / Skipped / Total] 5 / 26 / 8 / 39:  39%|███▉      | 39/100 [05:49<09:07,  8.97s/it]\u001b[A\n",
      "[Succeeded / Failed / Skipped / Total] 5 / 26 / 8 / 39:  40%|████      | 40/100 [06:02<09:04,  9.07s/it]\u001b[A\n",
      "[Succeeded / Failed / Skipped / Total] 5 / 27 / 8 / 40:  40%|████      | 40/100 [06:02<09:04,  9.07s/it]\u001b[Atextattack: Saving checkpoint under \"checkpoints/1640374963149.ta.chkpt\" at 2021-12-24 19:42:43 after 40 attacks.\n",
      "\n",
      "[Succeeded / Failed / Skipped / Total] 5 / 27 / 8 / 40:  41%|████      | 41/100 [06:10<08:52,  9.03s/it]\u001b[A\n",
      "[Succeeded / Failed / Skipped / Total] 5 / 28 / 8 / 41:  41%|████      | 41/100 [06:10<08:52,  9.03s/it]\u001b[A\n",
      "[Succeeded / Failed / Skipped / Total] 5 / 28 / 8 / 41:  42%|████▏     | 42/100 [06:14<08:37,  8.92s/it]\u001b[A\n",
      "[Succeeded / Failed / Skipped / Total] 5 / 29 / 8 / 42:  42%|████▏     | 42/100 [06:14<08:37,  8.92s/it]\u001b[A\n",
      "[Succeeded / Failed / Skipped / Total] 5 / 29 / 8 / 42:  43%|████▎     | 43/100 [06:17<08:20,  8.79s/it]\u001b[A\n",
      "[Succeeded / Failed / Skipped / Total] 5 / 30 / 8 / 43:  43%|████▎     | 43/100 [06:17<08:20,  8.79s/it]\u001b[A\n",
      "[Succeeded / Failed / Skipped / Total] 5 / 30 / 8 / 43:  44%|████▍     | 44/100 [06:26<08:11,  8.77s/it]\u001b[A\n",
      "[Succeeded / Failed / Skipped / Total] 5 / 31 / 8 / 44:  44%|████▍     | 44/100 [06:26<08:11,  8.77s/it]\u001b[A\n",
      "[Succeeded / Failed / Skipped / Total] 5 / 31 / 8 / 44:  45%|████▌     | 45/100 [06:26<07:52,  8.59s/it]\u001b[A\n",
      "[Succeeded / Failed / Skipped / Total] 6 / 31 / 8 / 45:  45%|████▌     | 45/100 [06:26<07:52,  8.59s/it]\u001b[A\n",
      "[Succeeded / Failed / Skipped / Total] 6 / 31 / 8 / 45:  46%|████▌     | 46/100 [06:36<07:45,  8.63s/it]\u001b[A\n",
      "[Succeeded / Failed / Skipped / Total] 6 / 32 / 8 / 46:  46%|████▌     | 46/100 [06:36<07:45,  8.63s/it]\u001b[A\n",
      "[Succeeded / Failed / Skipped / Total] 6 / 32 / 9 / 47:  47%|████▋     | 47/100 [06:36<07:27,  8.44s/it]\u001b[A\n",
      "[Succeeded / Failed / Skipped / Total] 6 / 32 / 9 / 47:  48%|████▊     | 48/100 [06:46<07:20,  8.48s/it]\u001b[A\n",
      "[Succeeded / Failed / Skipped / Total] 6 / 33 / 9 / 48:  48%|████▊     | 48/100 [06:46<07:20,  8.48s/it]\u001b[A\n",
      "[Succeeded / Failed / Skipped / Total] 6 / 33 / 10 / 49:  49%|████▉     | 49/100 [06:46<07:03,  8.30s/it]\u001b[A\n",
      "[Succeeded / Failed / Skipped / Total] 6 / 33 / 11 / 50:  50%|█████     | 50/100 [06:46<06:46,  8.14s/it]\u001b[A\n",
      "[Succeeded / Failed / Skipped / Total] 6 / 33 / 12 / 51:  51%|█████     | 51/100 [06:46<06:30,  7.98s/it]\u001b[A\n",
      "[Succeeded / Failed / Skipped / Total] 6 / 33 / 12 / 51:  52%|█████▏    | 52/100 [06:48<06:17,  7.86s/it]\u001b[A\n",
      "[Succeeded / Failed / Skipped / Total] 6 / 34 / 12 / 52:  52%|█████▏    | 52/100 [06:48<06:17,  7.86s/it]\u001b[A\n",
      "[Succeeded / Failed / Skipped / Total] 6 / 35 / 12 / 53:  53%|█████▎    | 53/100 [06:54<06:07,  7.81s/it]\u001b[A\n",
      "[Succeeded / Failed / Skipped / Total] 6 / 35 / 12 / 53:  53%|█████▎    | 53/100 [06:58<06:11,  7.90s/it]\u001b[A\n",
      "[Succeeded / Failed / Skipped / Total] 6 / 35 / 12 / 53:  54%|█████▍    | 54/100 [07:14<06:09,  8.04s/it]\u001b[A\n",
      "[Succeeded / Failed / Skipped / Total] 6 / 36 / 12 / 54:  54%|█████▍    | 54/100 [07:14<06:09,  8.04s/it]\u001b[A\n",
      "[Succeeded / Failed / Skipped / Total] 6 / 36 / 12 / 54:  55%|█████▌    | 55/100 [07:23<06:02,  8.06s/it]\u001b[A\n",
      "[Succeeded / Failed / Skipped / Total] 6 / 37 / 12 / 55:  55%|█████▌    | 55/100 [07:23<06:02,  8.06s/it]\u001b[A\n",
      "[Succeeded / Failed / Skipped / Total] 6 / 37 / 12 / 55:  56%|█████▌    | 56/100 [07:40<06:01,  8.22s/it]\u001b[A\n",
      "[Succeeded / Failed / Skipped / Total] 6 / 38 / 12 / 56:  56%|█████▌    | 56/100 [07:40<06:01,  8.22s/it]\u001b[A\n",
      "[Succeeded / Failed / Skipped / Total] 6 / 38 / 13 / 57:  57%|█████▋    | 57/100 [07:40<05:47,  8.08s/it]\u001b[A\n",
      "[Succeeded / Failed / Skipped / Total] 6 / 38 / 13 / 57:  58%|█████▊    | 58/100 [07:46<05:37,  8.04s/it]\u001b[A\n",
      "[Succeeded / Failed / Skipped / Total] 6 / 39 / 13 / 58:  58%|█████▊    | 58/100 [07:46<05:37,  8.04s/it]\u001b[A\n",
      "[Succeeded / Failed / Skipped / Total] 6 / 39 / 14 / 59:  59%|█████▉    | 59/100 [07:46<05:24,  7.91s/it]\u001b[A\n",
      "[Succeeded / Failed / Skipped / Total] 6 / 39 / 15 / 60:  60%|██████    | 60/100 [07:46<05:10,  7.77s/it]\u001b[Atextattack: Saving checkpoint under \"checkpoints/1640375066764.ta.chkpt\" at 2021-12-24 19:44:26 after 60 attacks.\n",
      "\n",
      "[Succeeded / Failed / Skipped / Total] 6 / 39 / 15 / 60:  60%|██████    | 60/100 [07:59<05:19,  7.99s/it]\u001b[A\n",
      "[Succeeded / Failed / Skipped / Total] 6 / 39 / 15 / 60:  61%|██████    | 61/100 [08:00<05:06,  7.87s/it]\u001b[A\n",
      "[Succeeded / Failed / Skipped / Total] 6 / 40 / 15 / 61:  61%|██████    | 61/100 [08:00<05:06,  7.87s/it]\u001b[A\n",
      "[Succeeded / Failed / Skipped / Total] 6 / 41 / 15 / 62:  62%|██████▏   | 62/100 [08:00<04:54,  7.75s/it]\u001b[A\n",
      "[Succeeded / Failed / Skipped / Total] 6 / 41 / 15 / 62:  63%|██████▎   | 63/100 [08:03<04:44,  7.68s/it]\u001b[A\n",
      "[Succeeded / Failed / Skipped / Total] 6 / 42 / 15 / 63:  63%|██████▎   | 63/100 [08:03<04:44,  7.68s/it]\u001b[A\n",
      "[Succeeded / Failed / Skipped / Total] 7 / 42 / 15 / 64:  64%|██████▍   | 64/100 [08:06<04:33,  7.60s/it]\u001b[A\n",
      "[Succeeded / Failed / Skipped / Total] 7 / 42 / 15 / 64:  65%|██████▌   | 65/100 [08:06<04:21,  7.48s/it]\u001b[A\n",
      "[Succeeded / Failed / Skipped / Total] 7 / 42 / 16 / 65:  65%|██████▌   | 65/100 [08:06<04:21,  7.48s/it]\u001b[A\n",
      "[Succeeded / Failed / Skipped / Total] 8 / 42 / 16 / 66:  66%|██████▌   | 66/100 [08:08<04:11,  7.40s/it]\u001b[A\n",
      "[Succeeded / Failed / Skipped / Total] 8 / 42 / 16 / 66:  67%|██████▋   | 67/100 [08:14<04:03,  7.38s/it]\u001b[A\n",
      "[Succeeded / Failed / Skipped / Total] 9 / 42 / 16 / 67:  67%|██████▋   | 67/100 [08:14<04:03,  7.38s/it]\u001b[A\n",
      "[Succeeded / Failed / Skipped / Total] 10 / 42 / 16 / 68:  68%|██████▊   | 68/100 [08:15<03:53,  7.28s/it]\u001b[A\n",
      "[Succeeded / Failed / Skipped / Total] 10 / 42 / 16 / 68:  68%|██████▊   | 68/100 [08:29<03:59,  7.49s/it]\u001b[A\n",
      "[Succeeded / Failed / Skipped / Total] 10 / 42 / 16 / 68:  69%|██████▉   | 69/100 [09:04<04:04,  7.89s/it]\u001b[A\n",
      "[Succeeded / Failed / Skipped / Total] 10 / 43 / 16 / 69:  69%|██████▉   | 69/100 [09:04<04:04,  7.89s/it]\u001b[A\n",
      "[Succeeded / Failed / Skipped / Total] 10 / 43 / 16 / 69:  70%|███████   | 70/100 [09:06<03:54,  7.80s/it]\u001b[A\n",
      "[Succeeded / Failed / Skipped / Total] 10 / 44 / 16 / 70:  70%|███████   | 70/100 [09:06<03:54,  7.80s/it]\u001b[A\n",
      "[Succeeded / Failed / Skipped / Total] 10 / 44 / 17 / 71:  71%|███████   | 71/100 [09:06<03:43,  7.69s/it]\u001b[A\n",
      "[Succeeded / Failed / Skipped / Total] 10 / 44 / 17 / 71:  72%|███████▏  | 72/100 [09:08<03:33,  7.61s/it]\u001b[A\n",
      "[Succeeded / Failed / Skipped / Total] 10 / 45 / 17 / 72:  72%|███████▏  | 72/100 [09:08<03:33,  7.61s/it]\u001b[A\n",
      "[Succeeded / Failed / Skipped / Total] 10 / 45 / 18 / 73:  73%|███████▎  | 73/100 [09:08<03:22,  7.51s/it]\u001b[A\n",
      "[Succeeded / Failed / Skipped / Total] 10 / 45 / 18 / 73:  73%|███████▎  | 73/100 [09:19<03:26,  7.66s/it]\u001b[A\n",
      "[Succeeded / Failed / Skipped / Total] 10 / 45 / 18 / 73:  74%|███████▍  | 74/100 [09:19<03:16,  7.56s/it]\u001b[A\n",
      "[Succeeded / Failed / Skipped / Total] 10 / 46 / 18 / 74:  74%|███████▍  | 74/100 [09:19<03:16,  7.56s/it]\u001b[A\n",
      "[Succeeded / Failed / Skipped / Total] 10 / 46 / 18 / 74:  75%|███████▌  | 75/100 [09:22<03:07,  7.50s/it]\u001b[A\n",
      "[Succeeded / Failed / Skipped / Total] 10 / 47 / 18 / 75:  75%|███████▌  | 75/100 [09:22<03:07,  7.50s/it]\u001b[A\n",
      "[Succeeded / Failed / Skipped / Total] 10 / 47 / 18 / 75:  76%|███████▌  | 76/100 [09:24<02:58,  7.43s/it]\u001b[A\n",
      "[Succeeded / Failed / Skipped / Total] 11 / 47 / 18 / 76:  76%|███████▌  | 76/100 [09:24<02:58,  7.43s/it]\u001b[A\n",
      "[Succeeded / Failed / Skipped / Total] 11 / 47 / 18 / 76:  77%|███████▋  | 77/100 [09:28<02:49,  7.38s/it]\u001b[A\n",
      "[Succeeded / Failed / Skipped / Total] 11 / 48 / 18 / 77:  77%|███████▋  | 77/100 [09:28<02:49,  7.38s/it]\u001b[A\n",
      "[Succeeded / Failed / Skipped / Total] 11 / 48 / 18 / 77:  78%|███████▊  | 78/100 [09:38<02:43,  7.42s/it]\u001b[A\n",
      "[Succeeded / Failed / Skipped / Total] 11 / 49 / 18 / 78:  78%|███████▊  | 78/100 [09:38<02:43,  7.42s/it]\u001b[A\n",
      "[Succeeded / Failed / Skipped / Total] 11 / 49 / 18 / 78:  79%|███████▉  | 79/100 [09:40<02:34,  7.35s/it]\u001b[A\n",
      "[Succeeded / Failed / Skipped / Total] 11 / 50 / 18 / 79:  79%|███████▉  | 79/100 [09:40<02:34,  7.35s/it]\u001b[A\n",
      "[Succeeded / Failed / Skipped / Total] 11 / 50 / 19 / 80:  80%|████████  | 80/100 [09:40<02:25,  7.26s/it]\u001b[Atextattack: Saving checkpoint under \"checkpoints/1640375180965.ta.chkpt\" at 2021-12-24 19:46:20 after 80 attacks.\n",
      "\n",
      "[Succeeded / Failed / Skipped / Total] 11 / 50 / 19 / 80:  81%|████████  | 81/100 [09:45<02:17,  7.23s/it]\u001b[A\n",
      "[Succeeded / Failed / Skipped / Total] 12 / 50 / 19 / 81:  81%|████████  | 81/100 [09:45<02:17,  7.23s/it]\u001b[A\n",
      "[Succeeded / Failed / Skipped / Total] 12 / 51 / 19 / 82:  82%|████████▏ | 82/100 [09:47<02:08,  7.16s/it]\u001b[A\n",
      "[Succeeded / Failed / Skipped / Total] 12 / 51 / 19 / 82:  83%|████████▎ | 83/100 [09:54<02:01,  7.16s/it]\u001b[A\n",
      "[Succeeded / Failed / Skipped / Total] 12 / 52 / 19 / 83:  83%|████████▎ | 83/100 [09:54<02:01,  7.16s/it]\u001b[A\n",
      "[Succeeded / Failed / Skipped / Total] 13 / 52 / 19 / 84:  84%|████████▍ | 84/100 [10:03<01:55,  7.19s/it]\u001b[A\n",
      "[Succeeded / Failed / Skipped / Total] 13 / 52 / 19 / 84:  84%|████████▍ | 84/100 [10:09<01:56,  7.25s/it]\u001b[A\n",
      "[Succeeded / Failed / Skipped / Total] 13 / 52 / 19 / 84:  85%|████████▌ | 85/100 [10:13<01:48,  7.22s/it]\u001b[A\n",
      "[Succeeded / Failed / Skipped / Total] 13 / 53 / 19 / 85:  85%|████████▌ | 85/100 [10:13<01:48,  7.22s/it]\u001b[A\n",
      "[Succeeded / Failed / Skipped / Total] 13 / 53 / 19 / 85:  86%|████████▌ | 86/100 [10:18<01:40,  7.19s/it]\u001b[A\n",
      "[Succeeded / Failed / Skipped / Total] 13 / 54 / 19 / 86:  86%|████████▌ | 86/100 [10:18<01:40,  7.19s/it]\u001b[A\n",
      "[Succeeded / Failed / Skipped / Total] 13 / 54 / 19 / 86:  87%|████████▋ | 87/100 [10:19<01:32,  7.12s/it]\u001b[A\n",
      "[Succeeded / Failed / Skipped / Total] 14 / 54 / 19 / 87:  87%|████████▋ | 87/100 [10:19<01:32,  7.12s/it]\u001b[A\n",
      "[Succeeded / Failed / Skipped / Total] 14 / 54 / 19 / 87:  88%|████████▊ | 88/100 [10:23<01:25,  7.08s/it]\u001b[A\n",
      "[Succeeded / Failed / Skipped / Total] 14 / 55 / 19 / 88:  88%|████████▊ | 88/100 [10:23<01:25,  7.08s/it]\u001b[A\n",
      "[Succeeded / Failed / Skipped / Total] 14 / 55 / 19 / 88:  89%|████████▉ | 89/100 [10:27<01:17,  7.05s/it]\u001b[A\n",
      "[Succeeded / Failed / Skipped / Total] 14 / 56 / 19 / 89:  89%|████████▉ | 89/100 [10:27<01:17,  7.05s/it]\u001b[A\n",
      "[Succeeded / Failed / Skipped / Total] 14 / 56 / 20 / 90:  90%|█████████ | 90/100 [10:27<01:09,  6.97s/it]\u001b[A\n",
      "[Succeeded / Failed / Skipped / Total] 14 / 56 / 20 / 90:  91%|█████████ | 91/100 [10:48<01:04,  7.12s/it]\u001b[A\n",
      "[Succeeded / Failed / Skipped / Total] 15 / 56 / 20 / 91:  91%|█████████ | 91/100 [10:48<01:04,  7.12s/it]\u001b[A\n",
      "[Succeeded / Failed / Skipped / Total] 15 / 56 / 20 / 91:  92%|█████████▏| 92/100 [11:00<00:57,  7.18s/it]\u001b[A\n",
      "[Succeeded / Failed / Skipped / Total] 15 / 57 / 20 / 92:  92%|█████████▏| 92/100 [11:00<00:57,  7.18s/it]\u001b[A\n",
      "[Succeeded / Failed / Skipped / Total] 15 / 57 / 20 / 92:  93%|█████████▎| 93/100 [11:01<00:49,  7.11s/it]\u001b[A\n",
      "[Succeeded / Failed / Skipped / Total] 16 / 57 / 20 / 93:  93%|█████████▎| 93/100 [11:01<00:49,  7.11s/it]\u001b[A\n",
      "[Succeeded / Failed / Skipped / Total] 16 / 57 / 20 / 93:  94%|█████████▍| 94/100 [11:11<00:42,  7.15s/it]\u001b[A\n",
      "[Succeeded / Failed / Skipped / Total] 16 / 58 / 20 / 94:  94%|█████████▍| 94/100 [11:11<00:42,  7.15s/it]\u001b[A\n",
      "[Succeeded / Failed / Skipped / Total] 16 / 58 / 21 / 95:  95%|█████████▌| 95/100 [11:11<00:35,  7.07s/it]\u001b[A\n",
      "[Succeeded / Failed / Skipped / Total] 16 / 58 / 21 / 95:  96%|█████████▌| 96/100 [11:14<00:28,  7.03s/it]\u001b[A\n",
      "[Succeeded / Failed / Skipped / Total] 16 / 59 / 21 / 96:  96%|█████████▌| 96/100 [11:14<00:28,  7.03s/it]\u001b[A\n",
      "[Succeeded / Failed / Skipped / Total] 16 / 59 / 21 / 96:  96%|█████████▌| 96/100 [11:29<00:28,  7.18s/it]\u001b[A\n",
      "[Succeeded / Failed / Skipped / Total] 16 / 59 / 21 / 96:  97%|█████████▋| 97/100 [11:38<00:21,  7.20s/it]\u001b[A\n",
      "[Succeeded / Failed / Skipped / Total] 16 / 60 / 21 / 97:  97%|█████████▋| 97/100 [11:38<00:21,  7.20s/it]\u001b[A\n",
      "[Succeeded / Failed / Skipped / Total] 16 / 60 / 22 / 98:  98%|█████████▊| 98/100 [11:38<00:14,  7.12s/it]\u001b[A\n",
      "[Succeeded / Failed / Skipped / Total] 16 / 60 / 23 / 99:  99%|█████████▉| 99/100 [11:38<00:07,  7.05s/it]\u001b[A\n",
      "[Succeeded / Failed / Skipped / Total] 16 / 60 / 23 / 99: 100%|██████████| 100/100 [11:44<00:00,  7.04s/it]\u001b[A\n",
      "[Succeeded / Failed / Skipped / Total] 17 / 60 / 23 / 100: 100%|██████████| 100/100 [11:44<00:00,  7.04s/it]\u001b[Atextattack: Saving checkpoint under \"checkpoints/1640375304347.ta.chkpt\" at 2021-12-24 19:48:24 after 100 attacks.\n",
      "[Succeeded / Failed / Skipped / Total] 17 / 60 / 23 / 100: 100%|██████████| 100/100 [11:44<00:00,  7.04s/it]\n"
     ]
    },
    {
     "data": {
      "text/plain": [
       "[<textattack.attack_results.failed_attack_result.FailedAttackResult at 0x7faeee0ef990>,\n",
       " <textattack.attack_results.failed_attack_result.FailedAttackResult at 0x7fa90ac27110>,\n",
       " <textattack.attack_results.successful_attack_result.SuccessfulAttackResult at 0x7fa908e76cd0>,\n",
       " <textattack.attack_results.failed_attack_result.FailedAttackResult at 0x7faef63cdc50>,\n",
       " <textattack.attack_results.failed_attack_result.FailedAttackResult at 0x7faee9f06f10>,\n",
       " <textattack.attack_results.failed_attack_result.FailedAttackResult at 0x7faef095fc50>,\n",
       " <textattack.attack_results.failed_attack_result.FailedAttackResult at 0x7fafaa4f2f50>,\n",
       " <textattack.attack_results.failed_attack_result.FailedAttackResult at 0x7faef9bc9150>,\n",
       " <textattack.attack_results.failed_attack_result.FailedAttackResult at 0x7faef3db3b10>,\n",
       " <textattack.attack_results.failed_attack_result.FailedAttackResult at 0x7fa9066e3550>,\n",
       " <textattack.attack_results.successful_attack_result.SuccessfulAttackResult at 0x7faeeae47ed0>,\n",
       " <textattack.attack_results.skipped_attack_result.SkippedAttackResult at 0x7fa9094b8350>,\n",
       " <textattack.attack_results.failed_attack_result.FailedAttackResult at 0x7fa9161fdf90>,\n",
       " <textattack.attack_results.skipped_attack_result.SkippedAttackResult at 0x7faef6e375d0>,\n",
       " <textattack.attack_results.skipped_attack_result.SkippedAttackResult at 0x7faef04e6410>,\n",
       " <textattack.attack_results.failed_attack_result.FailedAttackResult at 0x7faef2a08810>,\n",
       " <textattack.attack_results.failed_attack_result.FailedAttackResult at 0x7faee9e2ae50>,\n",
       " <textattack.attack_results.failed_attack_result.FailedAttackResult at 0x7faef82af190>,\n",
       " <textattack.attack_results.failed_attack_result.FailedAttackResult at 0x7faeed2477d0>,\n",
       " <textattack.attack_results.failed_attack_result.FailedAttackResult at 0x7faee823f410>,\n",
       " <textattack.attack_results.failed_attack_result.FailedAttackResult at 0x7faef3ccf190>,\n",
       " <textattack.attack_results.failed_attack_result.FailedAttackResult at 0x7fa90e047390>,\n",
       " <textattack.attack_results.failed_attack_result.FailedAttackResult at 0x7faea6fe54d0>,\n",
       " <textattack.attack_results.skipped_attack_result.SkippedAttackResult at 0x7faea6fe5890>,\n",
       " <textattack.attack_results.failed_attack_result.FailedAttackResult at 0x7faf90b655d0>,\n",
       " <textattack.attack_results.failed_attack_result.FailedAttackResult at 0x7fa90af962d0>,\n",
       " <textattack.attack_results.failed_attack_result.FailedAttackResult at 0x7faef81d9090>,\n",
       " <textattack.attack_results.skipped_attack_result.SkippedAttackResult at 0x7faefafaa090>,\n",
       " <textattack.attack_results.failed_attack_result.FailedAttackResult at 0x7faef4f81050>,\n",
       " <textattack.attack_results.skipped_attack_result.SkippedAttackResult at 0x7faee6ff7a10>,\n",
       " <textattack.attack_results.failed_attack_result.FailedAttackResult at 0x7faef15d5590>,\n",
       " <textattack.attack_results.failed_attack_result.FailedAttackResult at 0x7fb01f016950>,\n",
       " <textattack.attack_results.failed_attack_result.FailedAttackResult at 0x7faee88c7910>,\n",
       " <textattack.attack_results.skipped_attack_result.SkippedAttackResult at 0x7faee88c7a90>,\n",
       " <textattack.attack_results.successful_attack_result.SuccessfulAttackResult at 0x7faeeb2f9e10>,\n",
       " <textattack.attack_results.successful_attack_result.SuccessfulAttackResult at 0x7faeeb2d3c10>,\n",
       " <textattack.attack_results.successful_attack_result.SuccessfulAttackResult at 0x7faeef3b93d0>,\n",
       " <textattack.attack_results.failed_attack_result.FailedAttackResult at 0x7fa90697d990>,\n",
       " <textattack.attack_results.skipped_attack_result.SkippedAttackResult at 0x7faee8cf95d0>,\n",
       " <textattack.attack_results.failed_attack_result.FailedAttackResult at 0x7faeeaaed050>,\n",
       " <textattack.attack_results.failed_attack_result.FailedAttackResult at 0x7faef207b050>,\n",
       " <textattack.attack_results.failed_attack_result.FailedAttackResult at 0x7faf068e6b10>,\n",
       " <textattack.attack_results.failed_attack_result.FailedAttackResult at 0x7fa90b9c95d0>,\n",
       " <textattack.attack_results.failed_attack_result.FailedAttackResult at 0x7faee6b3d650>,\n",
       " <textattack.attack_results.successful_attack_result.SuccessfulAttackResult at 0x7fa9070b9850>,\n",
       " <textattack.attack_results.failed_attack_result.FailedAttackResult at 0x7faf04bee050>,\n",
       " <textattack.attack_results.skipped_attack_result.SkippedAttackResult at 0x7faef0137650>,\n",
       " <textattack.attack_results.failed_attack_result.FailedAttackResult at 0x7faee7a1c910>,\n",
       " <textattack.attack_results.skipped_attack_result.SkippedAttackResult at 0x7faf05d810d0>,\n",
       " <textattack.attack_results.skipped_attack_result.SkippedAttackResult at 0x7faf05d81350>,\n",
       " <textattack.attack_results.skipped_attack_result.SkippedAttackResult at 0x7faf05d81310>,\n",
       " <textattack.attack_results.failed_attack_result.FailedAttackResult at 0x7faf06defc10>,\n",
       " <textattack.attack_results.failed_attack_result.FailedAttackResult at 0x7faeeb536050>,\n",
       " <textattack.attack_results.failed_attack_result.FailedAttackResult at 0x7faef03fab90>,\n",
       " <textattack.attack_results.failed_attack_result.FailedAttackResult at 0x7faef11b0ed0>,\n",
       " <textattack.attack_results.failed_attack_result.FailedAttackResult at 0x7faef0d2a210>,\n",
       " <textattack.attack_results.skipped_attack_result.SkippedAttackResult at 0x7faef9fa8a50>,\n",
       " <textattack.attack_results.failed_attack_result.FailedAttackResult at 0x7faef9ca7950>,\n",
       " <textattack.attack_results.skipped_attack_result.SkippedAttackResult at 0x7faf9b6dcdd0>,\n",
       " <textattack.attack_results.skipped_attack_result.SkippedAttackResult at 0x7faef3ccf890>,\n",
       " <textattack.attack_results.failed_attack_result.FailedAttackResult at 0x7faefafb5a90>,\n",
       " <textattack.attack_results.failed_attack_result.FailedAttackResult at 0x7faef9c23ed0>,\n",
       " <textattack.attack_results.failed_attack_result.FailedAttackResult at 0x7faeedc7b550>,\n",
       " <textattack.attack_results.successful_attack_result.SuccessfulAttackResult at 0x7faf4cb79cd0>,\n",
       " <textattack.attack_results.skipped_attack_result.SkippedAttackResult at 0x7fa906281fd0>,\n",
       " <textattack.attack_results.successful_attack_result.SuccessfulAttackResult at 0x7faee8f86f90>,\n",
       " <textattack.attack_results.successful_attack_result.SuccessfulAttackResult at 0x7faee947e050>,\n",
       " <textattack.attack_results.successful_attack_result.SuccessfulAttackResult at 0x7faee8f54ad0>,\n",
       " <textattack.attack_results.failed_attack_result.FailedAttackResult at 0x7fa9116c5050>,\n",
       " <textattack.attack_results.failed_attack_result.FailedAttackResult at 0x7faf4c80b750>,\n",
       " <textattack.attack_results.skipped_attack_result.SkippedAttackResult at 0x7faefa9e04d0>,\n",
       " <textattack.attack_results.failed_attack_result.FailedAttackResult at 0x7faef73f5fd0>,\n",
       " <textattack.attack_results.skipped_attack_result.SkippedAttackResult at 0x7faeeda776d0>,\n",
       " <textattack.attack_results.failed_attack_result.FailedAttackResult at 0x7faee50ed510>,\n",
       " <textattack.attack_results.failed_attack_result.FailedAttackResult at 0x7faee766b1d0>,\n",
       " <textattack.attack_results.successful_attack_result.SuccessfulAttackResult at 0x7faf4ceca790>,\n",
       " <textattack.attack_results.failed_attack_result.FailedAttackResult at 0x7faef7a54dd0>,\n",
       " <textattack.attack_results.failed_attack_result.FailedAttackResult at 0x7faef5f32e10>,\n",
       " <textattack.attack_results.failed_attack_result.FailedAttackResult at 0x7faef73f5690>,\n",
       " <textattack.attack_results.skipped_attack_result.SkippedAttackResult at 0x7faeef2cc090>,\n",
       " <textattack.attack_results.successful_attack_result.SuccessfulAttackResult at 0x7faef7e173d0>,\n",
       " <textattack.attack_results.failed_attack_result.FailedAttackResult at 0x7faef48b0390>,\n",
       " <textattack.attack_results.failed_attack_result.FailedAttackResult at 0x7faf05612110>,\n",
       " <textattack.attack_results.successful_attack_result.SuccessfulAttackResult at 0x7faefab14fd0>,\n",
       " <textattack.attack_results.failed_attack_result.FailedAttackResult at 0x7faeefed8250>,\n",
       " <textattack.attack_results.failed_attack_result.FailedAttackResult at 0x7faef5aacd10>,\n",
       " <textattack.attack_results.successful_attack_result.SuccessfulAttackResult at 0x7faee8897450>,\n",
       " <textattack.attack_results.failed_attack_result.FailedAttackResult at 0x7faeeda57d50>,\n",
       " <textattack.attack_results.failed_attack_result.FailedAttackResult at 0x7faef20d5ed0>,\n",
       " <textattack.attack_results.skipped_attack_result.SkippedAttackResult at 0x7faef20d5e10>,\n",
       " <textattack.attack_results.successful_attack_result.SuccessfulAttackResult at 0x7faf4c4e8350>,\n",
       " <textattack.attack_results.failed_attack_result.FailedAttackResult at 0x7faf0666bd90>,\n",
       " <textattack.attack_results.successful_attack_result.SuccessfulAttackResult at 0x7faef3d93350>,\n",
       " <textattack.attack_results.failed_attack_result.FailedAttackResult at 0x7faef069c8d0>,\n",
       " <textattack.attack_results.skipped_attack_result.SkippedAttackResult at 0x7fa9082491d0>,\n",
       " <textattack.attack_results.failed_attack_result.FailedAttackResult at 0x7faee6892150>,\n",
       " <textattack.attack_results.failed_attack_result.FailedAttackResult at 0x7fb000024cd0>,\n",
       " <textattack.attack_results.skipped_attack_result.SkippedAttackResult at 0x7faf4c75bf10>,\n",
       " <textattack.attack_results.skipped_attack_result.SkippedAttackResult at 0x7faee9fad610>,\n",
       " <textattack.attack_results.successful_attack_result.SuccessfulAttackResult at 0x7faef7ba5bd0>]"
      ]
     },
     "metadata": {},
     "output_type": "display_data"
    }
   ],
   "source": [
    "#!g1.1\n",
    "## Попробуем BAE еще раз\n",
    "#attack_recipes.bae_garg_2019.BAEGarg2019\n",
    "attack = textattack.attack_recipes.bae_garg_2019.BAEGarg2019.build(model_wrapper)\n",
    "attack_args = textattack.AttackArgs(num_examples=100, log_to_csv=\"logBae2.csv\", checkpoint_interval=20, checkpoint_dir=\"checkpoints\", disable_stdout=True)\n",
    "attacker = textattack.Attacker(attack, dataset, attack_args)\n",
    "attacker.attack_dataset()"
   ]
  },
  {
   "cell_type": "code",
   "execution_count": 110,
   "metadata": {
    "cellId": "qodpdatp4aoid08tfaidwb"
   },
   "outputs": [
    {
     "name": "stdout",
     "output_type": "stream",
     "text": [
      "Attack(\n",
      "  (search_method): GreedyWordSwapWIR(\n",
      "    (wir_method):  unk\n",
      "  )\n",
      "  (goal_function):  UntargetedClassification\n",
      "  (transformation):  WordSwapMaskedLM(\n",
      "    (method):  bert-attack\n",
      "    (masked_lm_name):  BertForMaskedLM\n",
      "    (max_length):  512\n",
      "    (max_candidates):  48\n",
      "    (min_confidence):  0.0005\n",
      "  )\n",
      "  (constraints): \n",
      "    (0): MaxWordsPerturbed(\n",
      "        (max_percent):  0.4\n",
      "        (compare_against_original):  True\n",
      "      )\n",
      "    (1): UniversalSentenceEncoder(\n",
      "        (metric):  cosine\n",
      "        (threshold):  0.2\n",
      "        (window_size):  inf\n",
      "        (skip_text_shorter_than_window):  False\n",
      "        (compare_against_original):  True\n",
      "      )\n",
      "    (2): RepeatModification\n",
      "    (3): StopwordModification\n",
      "  (is_black_box):  True\n",
      ") \n",
      "\n",
      "\n",
      "\n",
      "=============================================================================================================================\n",
      "=============================================================================================================================\n",
      "\n"
     ]
    },
    {
     "name": "stderr",
     "output_type": "stream",
     "text": [
      "Some weights of the model checkpoint at bert-base-uncased were not used when initializing BertForMaskedLM: ['cls.seq_relationship.weight', 'cls.seq_relationship.bias']\n",
      "- This IS expected if you are initializing BertForMaskedLM from the checkpoint of a model trained on another task or with another architecture (e.g. initializing a BertForSequenceClassification model from a BertForPreTraining model).\n",
      "- This IS NOT expected if you are initializing BertForMaskedLM from the checkpoint of a model that you expect to be exactly identical (initializing a BertForSequenceClassification model from a BertForSequenceClassification model).\n",
      "textattack: Unknown if model of class <class 'transformers.models.bert.modeling_bert.BertForSequenceClassification'> compatible with goal function <class 'textattack.goal_functions.classification.untargeted_classification.UntargetedClassification'>.\n",
      "textattack: Logging to CSV at path logBae3.csv\n",
      "[Succeeded / Failed / Skipped / Total] 17 / 0 / 3 / 20:  20%|██        | 20/100 [01:00<04:01,  3.02s/it]textattack: Saving checkpoint under \"checkpoints/1640376581232.ta.chkpt\" at 2021-12-24 20:09:41 after 20 attacks.\n",
      "[Succeeded / Failed / Skipped / Total] 24 / 0 / 6 / 30:  30%|███       | 30/100 [03:00<07:00,  6.00s/it]"
     ]
    },
    {
     "ename": "KeyboardInterrupt",
     "evalue": "",
     "output_type": "error",
     "traceback": [
      "\u001b[0;31m---------------------------------------------------------------------------\u001b[0m",
      "\u001b[0;31mKeyboardInterrupt\u001b[0m                         Traceback (most recent call last)",
      "\u001b[0;32m<timed exec>\u001b[0m in \u001b[0;36m<module>\u001b[0;34m\u001b[0m\n",
      "\u001b[0;32m~/.local/lib/python3.7/site-packages/textattack/attacker.py\u001b[0m in \u001b[0;36mattack_dataset\u001b[0;34m(self)\u001b[0m\n\u001b[1;32m    439\u001b[0m             \u001b[0mself\u001b[0m\u001b[0;34m.\u001b[0m\u001b[0m_attack_parallel\u001b[0m\u001b[0;34m(\u001b[0m\u001b[0;34m)\u001b[0m\u001b[0;34m\u001b[0m\u001b[0;34m\u001b[0m\u001b[0m\n\u001b[1;32m    440\u001b[0m         \u001b[0;32melse\u001b[0m\u001b[0;34m:\u001b[0m\u001b[0;34m\u001b[0m\u001b[0;34m\u001b[0m\u001b[0m\n\u001b[0;32m--> 441\u001b[0;31m             \u001b[0mself\u001b[0m\u001b[0;34m.\u001b[0m\u001b[0m_attack\u001b[0m\u001b[0;34m(\u001b[0m\u001b[0;34m)\u001b[0m\u001b[0;34m\u001b[0m\u001b[0;34m\u001b[0m\u001b[0m\n\u001b[0m\u001b[1;32m    442\u001b[0m \u001b[0;34m\u001b[0m\u001b[0m\n\u001b[1;32m    443\u001b[0m         \u001b[0;32mif\u001b[0m \u001b[0mself\u001b[0m\u001b[0;34m.\u001b[0m\u001b[0mattack_args\u001b[0m\u001b[0;34m.\u001b[0m\u001b[0msilent\u001b[0m\u001b[0;34m:\u001b[0m\u001b[0;34m\u001b[0m\u001b[0;34m\u001b[0m\u001b[0m\n",
      "\u001b[0;32m~/.local/lib/python3.7/site-packages/textattack/attacker.py\u001b[0m in \u001b[0;36m_attack\u001b[0;34m(self)\u001b[0m\n\u001b[1;32m    166\u001b[0m                 \u001b[0mexample\u001b[0m\u001b[0;34m.\u001b[0m\u001b[0mattack_attrs\u001b[0m\u001b[0;34m[\u001b[0m\u001b[0;34m\"label_names\"\u001b[0m\u001b[0;34m]\u001b[0m \u001b[0;34m=\u001b[0m \u001b[0mself\u001b[0m\u001b[0;34m.\u001b[0m\u001b[0mdataset\u001b[0m\u001b[0;34m.\u001b[0m\u001b[0mlabel_names\u001b[0m\u001b[0;34m\u001b[0m\u001b[0;34m\u001b[0m\u001b[0m\n\u001b[1;32m    167\u001b[0m             \u001b[0;32mtry\u001b[0m\u001b[0;34m:\u001b[0m\u001b[0;34m\u001b[0m\u001b[0;34m\u001b[0m\u001b[0m\n\u001b[0;32m--> 168\u001b[0;31m                 \u001b[0mresult\u001b[0m \u001b[0;34m=\u001b[0m \u001b[0mself\u001b[0m\u001b[0;34m.\u001b[0m\u001b[0mattack\u001b[0m\u001b[0;34m.\u001b[0m\u001b[0mattack\u001b[0m\u001b[0;34m(\u001b[0m\u001b[0mexample\u001b[0m\u001b[0;34m,\u001b[0m \u001b[0mground_truth_output\u001b[0m\u001b[0;34m)\u001b[0m\u001b[0;34m\u001b[0m\u001b[0;34m\u001b[0m\u001b[0m\n\u001b[0m\u001b[1;32m    169\u001b[0m             \u001b[0;32mexcept\u001b[0m \u001b[0mException\u001b[0m \u001b[0;32mas\u001b[0m \u001b[0me\u001b[0m\u001b[0;34m:\u001b[0m\u001b[0;34m\u001b[0m\u001b[0;34m\u001b[0m\u001b[0m\n\u001b[1;32m    170\u001b[0m                 \u001b[0;32mraise\u001b[0m \u001b[0me\u001b[0m\u001b[0;34m\u001b[0m\u001b[0;34m\u001b[0m\u001b[0m\n",
      "\u001b[0;32m~/.local/lib/python3.7/site-packages/textattack/attack.py\u001b[0m in \u001b[0;36mattack\u001b[0;34m(self, example, ground_truth_output)\u001b[0m\n\u001b[1;32m    420\u001b[0m             \u001b[0;32mreturn\u001b[0m \u001b[0mSkippedAttackResult\u001b[0m\u001b[0;34m(\u001b[0m\u001b[0mgoal_function_result\u001b[0m\u001b[0;34m)\u001b[0m\u001b[0;34m\u001b[0m\u001b[0;34m\u001b[0m\u001b[0m\n\u001b[1;32m    421\u001b[0m         \u001b[0;32melse\u001b[0m\u001b[0;34m:\u001b[0m\u001b[0;34m\u001b[0m\u001b[0;34m\u001b[0m\u001b[0m\n\u001b[0;32m--> 422\u001b[0;31m             \u001b[0mresult\u001b[0m \u001b[0;34m=\u001b[0m \u001b[0mself\u001b[0m\u001b[0;34m.\u001b[0m\u001b[0m_attack\u001b[0m\u001b[0;34m(\u001b[0m\u001b[0mgoal_function_result\u001b[0m\u001b[0;34m)\u001b[0m\u001b[0;34m\u001b[0m\u001b[0;34m\u001b[0m\u001b[0m\n\u001b[0m\u001b[1;32m    423\u001b[0m             \u001b[0;32mreturn\u001b[0m \u001b[0mresult\u001b[0m\u001b[0;34m\u001b[0m\u001b[0;34m\u001b[0m\u001b[0m\n\u001b[1;32m    424\u001b[0m \u001b[0;34m\u001b[0m\u001b[0m\n",
      "\u001b[0;32m~/.local/lib/python3.7/site-packages/textattack/attack.py\u001b[0m in \u001b[0;36m_attack\u001b[0;34m(self, initial_result)\u001b[0m\n\u001b[1;32m    369\u001b[0m                 \u001b[0;32mor\u001b[0m\u001b[0;31m \u001b[0m\u001b[0;31m`\u001b[0m\u001b[0;31m`\u001b[0m\u001b[0mMaximizedAttackResult\u001b[0m\u001b[0;31m`\u001b[0m\u001b[0;31m`\u001b[0m\u001b[0;34m.\u001b[0m\u001b[0;34m\u001b[0m\u001b[0;34m\u001b[0m\u001b[0m\n\u001b[1;32m    370\u001b[0m         \"\"\"\n\u001b[0;32m--> 371\u001b[0;31m         \u001b[0mfinal_result\u001b[0m \u001b[0;34m=\u001b[0m \u001b[0mself\u001b[0m\u001b[0;34m.\u001b[0m\u001b[0msearch_method\u001b[0m\u001b[0;34m(\u001b[0m\u001b[0minitial_result\u001b[0m\u001b[0;34m)\u001b[0m\u001b[0;34m\u001b[0m\u001b[0;34m\u001b[0m\u001b[0m\n\u001b[0m\u001b[1;32m    372\u001b[0m         \u001b[0mself\u001b[0m\u001b[0;34m.\u001b[0m\u001b[0mclear_cache\u001b[0m\u001b[0;34m(\u001b[0m\u001b[0;34m)\u001b[0m\u001b[0;34m\u001b[0m\u001b[0;34m\u001b[0m\u001b[0m\n\u001b[1;32m    373\u001b[0m         \u001b[0;32mif\u001b[0m \u001b[0mfinal_result\u001b[0m\u001b[0;34m.\u001b[0m\u001b[0mgoal_status\u001b[0m \u001b[0;34m==\u001b[0m \u001b[0mGoalFunctionResultStatus\u001b[0m\u001b[0;34m.\u001b[0m\u001b[0mSUCCEEDED\u001b[0m\u001b[0;34m:\u001b[0m\u001b[0;34m\u001b[0m\u001b[0;34m\u001b[0m\u001b[0m\n",
      "\u001b[0;32m~/.local/lib/python3.7/site-packages/textattack/search_methods/search_method.py\u001b[0m in \u001b[0;36m__call__\u001b[0;34m(self, initial_result)\u001b[0m\n\u001b[1;32m     34\u001b[0m             )\n\u001b[1;32m     35\u001b[0m \u001b[0;34m\u001b[0m\u001b[0m\n\u001b[0;32m---> 36\u001b[0;31m         \u001b[0mresult\u001b[0m \u001b[0;34m=\u001b[0m \u001b[0mself\u001b[0m\u001b[0;34m.\u001b[0m\u001b[0mperform_search\u001b[0m\u001b[0;34m(\u001b[0m\u001b[0minitial_result\u001b[0m\u001b[0;34m)\u001b[0m\u001b[0;34m\u001b[0m\u001b[0;34m\u001b[0m\u001b[0m\n\u001b[0m\u001b[1;32m     37\u001b[0m         \u001b[0;31m# ensure that the number of queries for this GoalFunctionResult is up-to-date\u001b[0m\u001b[0;34m\u001b[0m\u001b[0;34m\u001b[0m\u001b[0;34m\u001b[0m\u001b[0m\n\u001b[1;32m     38\u001b[0m         \u001b[0mresult\u001b[0m\u001b[0;34m.\u001b[0m\u001b[0mnum_queries\u001b[0m \u001b[0;34m=\u001b[0m \u001b[0mself\u001b[0m\u001b[0;34m.\u001b[0m\u001b[0mgoal_function\u001b[0m\u001b[0;34m.\u001b[0m\u001b[0mnum_queries\u001b[0m\u001b[0;34m\u001b[0m\u001b[0;34m\u001b[0m\u001b[0m\n",
      "\u001b[0;32m~/.local/lib/python3.7/site-packages/textattack/search_methods/greedy_word_swap_wir.py\u001b[0m in \u001b[0;36mperform_search\u001b[0;34m(self, initial_result)\u001b[0m\n\u001b[1;32m    129\u001b[0m                 \u001b[0mcur_result\u001b[0m\u001b[0;34m.\u001b[0m\u001b[0mattacked_text\u001b[0m\u001b[0;34m,\u001b[0m\u001b[0;34m\u001b[0m\u001b[0;34m\u001b[0m\u001b[0m\n\u001b[1;32m    130\u001b[0m                 \u001b[0moriginal_text\u001b[0m\u001b[0;34m=\u001b[0m\u001b[0minitial_result\u001b[0m\u001b[0;34m.\u001b[0m\u001b[0mattacked_text\u001b[0m\u001b[0;34m,\u001b[0m\u001b[0;34m\u001b[0m\u001b[0;34m\u001b[0m\u001b[0m\n\u001b[0;32m--> 131\u001b[0;31m                 \u001b[0mindices_to_modify\u001b[0m\u001b[0;34m=\u001b[0m\u001b[0;34m[\u001b[0m\u001b[0mindex_order\u001b[0m\u001b[0;34m[\u001b[0m\u001b[0mi\u001b[0m\u001b[0;34m]\u001b[0m\u001b[0;34m]\u001b[0m\u001b[0;34m,\u001b[0m\u001b[0;34m\u001b[0m\u001b[0;34m\u001b[0m\u001b[0m\n\u001b[0m\u001b[1;32m    132\u001b[0m             )\n\u001b[1;32m    133\u001b[0m             \u001b[0mi\u001b[0m \u001b[0;34m+=\u001b[0m \u001b[0;36m1\u001b[0m\u001b[0;34m\u001b[0m\u001b[0;34m\u001b[0m\u001b[0m\n",
      "\u001b[0;32m~/.local/lib/python3.7/site-packages/textattack/attack.py\u001b[0m in \u001b[0;36mget_transformations\u001b[0;34m(self, current_text, original_text, **kwargs)\u001b[0m\n\u001b[1;32m    277\u001b[0m             \u001b[0;32melse\u001b[0m\u001b[0;34m:\u001b[0m\u001b[0;34m\u001b[0m\u001b[0;34m\u001b[0m\u001b[0m\n\u001b[1;32m    278\u001b[0m                 transformed_texts = self._get_transformations_uncached(\n\u001b[0;32m--> 279\u001b[0;31m                     \u001b[0mcurrent_text\u001b[0m\u001b[0;34m,\u001b[0m \u001b[0moriginal_text\u001b[0m\u001b[0;34m,\u001b[0m \u001b[0;34m**\u001b[0m\u001b[0mkwargs\u001b[0m\u001b[0;34m\u001b[0m\u001b[0;34m\u001b[0m\u001b[0m\n\u001b[0m\u001b[1;32m    280\u001b[0m                 )\n\u001b[1;32m    281\u001b[0m                 \u001b[0;32mif\u001b[0m \u001b[0mutils\u001b[0m\u001b[0;34m.\u001b[0m\u001b[0mhashable\u001b[0m\u001b[0;34m(\u001b[0m\u001b[0mcache_key\u001b[0m\u001b[0;34m)\u001b[0m\u001b[0;34m:\u001b[0m\u001b[0;34m\u001b[0m\u001b[0;34m\u001b[0m\u001b[0m\n",
      "\u001b[0;32m~/.local/lib/python3.7/site-packages/textattack/attack.py\u001b[0m in \u001b[0;36m_get_transformations_uncached\u001b[0;34m(self, current_text, original_text, **kwargs)\u001b[0m\n\u001b[1;32m    247\u001b[0m             \u001b[0mcurrent_text\u001b[0m\u001b[0;34m,\u001b[0m\u001b[0;34m\u001b[0m\u001b[0;34m\u001b[0m\u001b[0m\n\u001b[1;32m    248\u001b[0m             \u001b[0mpre_transformation_constraints\u001b[0m\u001b[0;34m=\u001b[0m\u001b[0mself\u001b[0m\u001b[0;34m.\u001b[0m\u001b[0mpre_transformation_constraints\u001b[0m\u001b[0;34m,\u001b[0m\u001b[0;34m\u001b[0m\u001b[0;34m\u001b[0m\u001b[0m\n\u001b[0;32m--> 249\u001b[0;31m             \u001b[0;34m**\u001b[0m\u001b[0mkwargs\u001b[0m\u001b[0;34m,\u001b[0m\u001b[0;34m\u001b[0m\u001b[0;34m\u001b[0m\u001b[0m\n\u001b[0m\u001b[1;32m    250\u001b[0m         )\n\u001b[1;32m    251\u001b[0m \u001b[0;34m\u001b[0m\u001b[0m\n",
      "\u001b[0;32m~/.local/lib/python3.7/site-packages/textattack/transformations/transformation.py\u001b[0m in \u001b[0;36m__call__\u001b[0;34m(self, current_text, pre_transformation_constraints, indices_to_modify, shifted_idxs)\u001b[0m\n\u001b[1;32m     48\u001b[0m         \u001b[0;32mfor\u001b[0m \u001b[0mconstraint\u001b[0m \u001b[0;32min\u001b[0m \u001b[0mpre_transformation_constraints\u001b[0m\u001b[0;34m:\u001b[0m\u001b[0;34m\u001b[0m\u001b[0;34m\u001b[0m\u001b[0m\n\u001b[1;32m     49\u001b[0m             \u001b[0mindices_to_modify\u001b[0m \u001b[0;34m=\u001b[0m \u001b[0mindices_to_modify\u001b[0m \u001b[0;34m&\u001b[0m \u001b[0mconstraint\u001b[0m\u001b[0;34m(\u001b[0m\u001b[0mcurrent_text\u001b[0m\u001b[0;34m,\u001b[0m \u001b[0mself\u001b[0m\u001b[0;34m)\u001b[0m\u001b[0;34m\u001b[0m\u001b[0;34m\u001b[0m\u001b[0m\n\u001b[0;32m---> 50\u001b[0;31m         \u001b[0mtransformed_texts\u001b[0m \u001b[0;34m=\u001b[0m \u001b[0mself\u001b[0m\u001b[0;34m.\u001b[0m\u001b[0m_get_transformations\u001b[0m\u001b[0;34m(\u001b[0m\u001b[0mcurrent_text\u001b[0m\u001b[0;34m,\u001b[0m \u001b[0mindices_to_modify\u001b[0m\u001b[0;34m)\u001b[0m\u001b[0;34m\u001b[0m\u001b[0;34m\u001b[0m\u001b[0m\n\u001b[0m\u001b[1;32m     51\u001b[0m         \u001b[0;32mfor\u001b[0m \u001b[0mtext\u001b[0m \u001b[0;32min\u001b[0m \u001b[0mtransformed_texts\u001b[0m\u001b[0;34m:\u001b[0m\u001b[0;34m\u001b[0m\u001b[0;34m\u001b[0m\u001b[0m\n\u001b[1;32m     52\u001b[0m             \u001b[0mtext\u001b[0m\u001b[0;34m.\u001b[0m\u001b[0mattack_attrs\u001b[0m\u001b[0;34m[\u001b[0m\u001b[0;34m\"last_transformation\"\u001b[0m\u001b[0;34m]\u001b[0m \u001b[0;34m=\u001b[0m \u001b[0mself\u001b[0m\u001b[0;34m\u001b[0m\u001b[0;34m\u001b[0m\u001b[0m\n",
      "\u001b[0;32m~/.local/lib/python3.7/site-packages/textattack/transformations/word_swaps/word_swap_masked_lm.py\u001b[0m in \u001b[0;36m_get_transformations\u001b[0;34m(self, current_text, indices_to_modify)\u001b[0m\n\u001b[1;32m    269\u001b[0m                     \u001b[0mi\u001b[0m\u001b[0;34m,\u001b[0m\u001b[0;34m\u001b[0m\u001b[0;34m\u001b[0m\u001b[0m\n\u001b[1;32m    270\u001b[0m                     \u001b[0mid_preds\u001b[0m\u001b[0;34m=\u001b[0m\u001b[0mid_preds\u001b[0m\u001b[0;34m,\u001b[0m\u001b[0;34m\u001b[0m\u001b[0;34m\u001b[0m\u001b[0m\n\u001b[0;32m--> 271\u001b[0;31m                     \u001b[0mmasked_lm_logits\u001b[0m\u001b[0;34m=\u001b[0m\u001b[0mmasked_lm_logits\u001b[0m\u001b[0;34m,\u001b[0m\u001b[0;34m\u001b[0m\u001b[0;34m\u001b[0m\u001b[0m\n\u001b[0m\u001b[1;32m    272\u001b[0m                 )\n\u001b[1;32m    273\u001b[0m \u001b[0;34m\u001b[0m\u001b[0m\n",
      "\u001b[0;32m~/.local/lib/python3.7/site-packages/textattack/transformations/word_swaps/word_swap_masked_lm.py\u001b[0m in \u001b[0;36m_bert_attack_replacement_words\u001b[0;34m(self, current_text, index, id_preds, masked_lm_logits)\u001b[0m\n\u001b[1;32m    237\u001b[0m \u001b[0;34m\u001b[0m\u001b[0m\n\u001b[1;32m    238\u001b[0m                 \u001b[0mlogits\u001b[0m \u001b[0;34m=\u001b[0m \u001b[0mtorch\u001b[0m\u001b[0;34m.\u001b[0m\u001b[0mindex_select\u001b[0m\u001b[0;34m(\u001b[0m\u001b[0mmasked_lm_logits\u001b[0m\u001b[0;34m,\u001b[0m \u001b[0;36m0\u001b[0m\u001b[0;34m,\u001b[0m \u001b[0mtarget_ids_pos_tensor\u001b[0m\u001b[0;34m)\u001b[0m\u001b[0;34m\u001b[0m\u001b[0;34m\u001b[0m\u001b[0m\n\u001b[0;32m--> 239\u001b[0;31m                 \u001b[0mloss\u001b[0m \u001b[0;34m=\u001b[0m \u001b[0mcross_entropy_loss\u001b[0m\u001b[0;34m(\u001b[0m\u001b[0mlogits\u001b[0m\u001b[0;34m,\u001b[0m \u001b[0mword_tensor\u001b[0m\u001b[0;34m)\u001b[0m\u001b[0;34m\u001b[0m\u001b[0;34m\u001b[0m\u001b[0m\n\u001b[0m\u001b[1;32m    240\u001b[0m                 \u001b[0mperplexity\u001b[0m \u001b[0;34m=\u001b[0m \u001b[0mtorch\u001b[0m\u001b[0;34m.\u001b[0m\u001b[0mexp\u001b[0m\u001b[0;34m(\u001b[0m\u001b[0mtorch\u001b[0m\u001b[0;34m.\u001b[0m\u001b[0mmean\u001b[0m\u001b[0;34m(\u001b[0m\u001b[0mloss\u001b[0m\u001b[0;34m,\u001b[0m \u001b[0mdim\u001b[0m\u001b[0;34m=\u001b[0m\u001b[0;36m0\u001b[0m\u001b[0;34m)\u001b[0m\u001b[0;34m)\u001b[0m\u001b[0;34m.\u001b[0m\u001b[0mitem\u001b[0m\u001b[0;34m(\u001b[0m\u001b[0;34m)\u001b[0m\u001b[0;34m\u001b[0m\u001b[0;34m\u001b[0m\u001b[0m\n\u001b[1;32m    241\u001b[0m                 word = \"\".join(\n",
      "\u001b[0;32m~/.local/lib/python3.7/site-packages/torch/nn/modules/module.py\u001b[0m in \u001b[0;36m_call_impl\u001b[0;34m(self, *input, **kwargs)\u001b[0m\n\u001b[1;32m   1100\u001b[0m         if not (self._backward_hooks or self._forward_hooks or self._forward_pre_hooks or _global_backward_hooks\n\u001b[1;32m   1101\u001b[0m                 or _global_forward_hooks or _global_forward_pre_hooks):\n\u001b[0;32m-> 1102\u001b[0;31m             \u001b[0;32mreturn\u001b[0m \u001b[0mforward_call\u001b[0m\u001b[0;34m(\u001b[0m\u001b[0;34m*\u001b[0m\u001b[0minput\u001b[0m\u001b[0;34m,\u001b[0m \u001b[0;34m**\u001b[0m\u001b[0mkwargs\u001b[0m\u001b[0;34m)\u001b[0m\u001b[0;34m\u001b[0m\u001b[0;34m\u001b[0m\u001b[0m\n\u001b[0m\u001b[1;32m   1103\u001b[0m         \u001b[0;31m# Do not call functions when jit is used\u001b[0m\u001b[0;34m\u001b[0m\u001b[0;34m\u001b[0m\u001b[0;34m\u001b[0m\u001b[0m\n\u001b[1;32m   1104\u001b[0m         \u001b[0mfull_backward_hooks\u001b[0m\u001b[0;34m,\u001b[0m \u001b[0mnon_full_backward_hooks\u001b[0m \u001b[0;34m=\u001b[0m \u001b[0;34m[\u001b[0m\u001b[0;34m]\u001b[0m\u001b[0;34m,\u001b[0m \u001b[0;34m[\u001b[0m\u001b[0;34m]\u001b[0m\u001b[0;34m\u001b[0m\u001b[0;34m\u001b[0m\u001b[0m\n",
      "\u001b[0;32m~/.local/lib/python3.7/site-packages/torch/nn/modules/loss.py\u001b[0m in \u001b[0;36mforward\u001b[0;34m(self, input, target)\u001b[0m\n\u001b[1;32m   1150\u001b[0m         return F.cross_entropy(input, target, weight=self.weight,\n\u001b[1;32m   1151\u001b[0m                                \u001b[0mignore_index\u001b[0m\u001b[0;34m=\u001b[0m\u001b[0mself\u001b[0m\u001b[0;34m.\u001b[0m\u001b[0mignore_index\u001b[0m\u001b[0;34m,\u001b[0m \u001b[0mreduction\u001b[0m\u001b[0;34m=\u001b[0m\u001b[0mself\u001b[0m\u001b[0;34m.\u001b[0m\u001b[0mreduction\u001b[0m\u001b[0;34m,\u001b[0m\u001b[0;34m\u001b[0m\u001b[0;34m\u001b[0m\u001b[0m\n\u001b[0;32m-> 1152\u001b[0;31m                                label_smoothing=self.label_smoothing)\n\u001b[0m\u001b[1;32m   1153\u001b[0m \u001b[0;34m\u001b[0m\u001b[0m\n\u001b[1;32m   1154\u001b[0m \u001b[0;34m\u001b[0m\u001b[0m\n",
      "\u001b[0;32m~/.local/lib/python3.7/site-packages/torch/nn/functional.py\u001b[0m in \u001b[0;36mcross_entropy\u001b[0;34m(input, target, weight, size_average, ignore_index, reduce, reduction, label_smoothing)\u001b[0m\n\u001b[1;32m   2844\u001b[0m     \u001b[0;32mif\u001b[0m \u001b[0msize_average\u001b[0m \u001b[0;32mis\u001b[0m \u001b[0;32mnot\u001b[0m \u001b[0;32mNone\u001b[0m \u001b[0;32mor\u001b[0m \u001b[0mreduce\u001b[0m \u001b[0;32mis\u001b[0m \u001b[0;32mnot\u001b[0m \u001b[0;32mNone\u001b[0m\u001b[0;34m:\u001b[0m\u001b[0;34m\u001b[0m\u001b[0;34m\u001b[0m\u001b[0m\n\u001b[1;32m   2845\u001b[0m         \u001b[0mreduction\u001b[0m \u001b[0;34m=\u001b[0m \u001b[0m_Reduction\u001b[0m\u001b[0;34m.\u001b[0m\u001b[0mlegacy_get_string\u001b[0m\u001b[0;34m(\u001b[0m\u001b[0msize_average\u001b[0m\u001b[0;34m,\u001b[0m \u001b[0mreduce\u001b[0m\u001b[0;34m)\u001b[0m\u001b[0;34m\u001b[0m\u001b[0;34m\u001b[0m\u001b[0m\n\u001b[0;32m-> 2846\u001b[0;31m     \u001b[0;32mreturn\u001b[0m \u001b[0mtorch\u001b[0m\u001b[0;34m.\u001b[0m\u001b[0m_C\u001b[0m\u001b[0;34m.\u001b[0m\u001b[0m_nn\u001b[0m\u001b[0;34m.\u001b[0m\u001b[0mcross_entropy_loss\u001b[0m\u001b[0;34m(\u001b[0m\u001b[0minput\u001b[0m\u001b[0;34m,\u001b[0m \u001b[0mtarget\u001b[0m\u001b[0;34m,\u001b[0m \u001b[0mweight\u001b[0m\u001b[0;34m,\u001b[0m \u001b[0m_Reduction\u001b[0m\u001b[0;34m.\u001b[0m\u001b[0mget_enum\u001b[0m\u001b[0;34m(\u001b[0m\u001b[0mreduction\u001b[0m\u001b[0;34m)\u001b[0m\u001b[0;34m,\u001b[0m \u001b[0mignore_index\u001b[0m\u001b[0;34m,\u001b[0m \u001b[0mlabel_smoothing\u001b[0m\u001b[0;34m)\u001b[0m\u001b[0;34m\u001b[0m\u001b[0;34m\u001b[0m\u001b[0m\n\u001b[0m\u001b[1;32m   2847\u001b[0m \u001b[0;34m\u001b[0m\u001b[0m\n\u001b[1;32m   2848\u001b[0m \u001b[0;34m\u001b[0m\u001b[0m\n",
      "\u001b[0;31mKeyboardInterrupt\u001b[0m: "
     ]
    }
   ],
   "source": [
    "#!g1.1\n",
    "%%time\n",
    "\n",
    "## Другая реализация\n",
    "\n",
    "## Попробуем BAE еще раз\n",
    "#attack_recipes.bae_garg_2019.BAEGarg2019\n",
    "attack = textattack.attack_recipes.bert_attack_li_2020.BERTAttackLi2020.build(model_wrapper)\n",
    "attack_args = textattack.AttackArgs(num_examples=100, log_to_csv=\"logBae3.csv\", checkpoint_interval=20, checkpoint_dir=\"checkpoints\", disable_stdout=True)\n",
    "attacker = textattack.Attacker(attack, dataset, attack_args)\n",
    "attacker.attack_dataset()"
   ]
  },
  {
   "cell_type": "code",
   "execution_count": null,
   "metadata": {
    "cellId": "9eb5er2h532f5yqr6xlyl"
   },
   "outputs": [],
   "source": [
    "#!g1.1\n",
    "Attack(\n",
    "  (search_method): GreedyWordSwapWIR(\n",
    "    (wir_method):  unk\n",
    "  )\n",
    "  (goal_function):  UntargetedClassification\n",
    "  (transformation):  WordSwapMaskedLM(\n",
    "    (method):  bert-attack\n",
    "    (masked_lm_name):  BertForMaskedLM\n",
    "    (max_length):  512\n",
    "    (max_candidates):  48\n",
    "    (min_confidence):  0.0005\n",
    "  )\n",
    "  (constraints): \n",
    "    (0): MaxWordsPerturbed(\n",
    "        (max_percent):  0.4\n",
    "        (compare_against_original):  True\n",
    "      )\n",
    "    (1): UniversalSentenceEncoder(\n",
    "        (metric):  cosine\n",
    "        (threshold):  0.2\n",
    "        (window_size):  inf\n",
    "        (skip_text_shorter_than_window):  False\n",
    "        (compare_against_original):  True\n",
    "      )\n",
    "    (2): RepeatModification\n",
    "    (3): StopwordModification\n",
    "  (is_black_box):  True"
   ]
  },
  {
   "cell_type": "code",
   "execution_count": null,
   "metadata": {
    "cellId": "faqsaqevtvgiy5rfqjzmbh"
   },
   "outputs": [],
   "source": [
    "#!g1.1\n",
    "Attack(\n",
    "  (search_method): GreedyWordSwapWIR(\n",
    "    (wir_method):  delete\n",
    "  )\n",
    "  (goal_function):  UntargetedClassification\n",
    "  (transformation):  WordSwapMaskedLM(\n",
    "    (method):  bae\n",
    "    (masked_lm_name):  BertForMaskedLM\n",
    "    (max_length):  512\n",
    "    (max_candidates):  50\n",
    "    (min_confidence):  0.0\n",
    "  )\n",
    "  (constraints): \n",
    "    (0): PartOfSpeech(\n",
    "        (tagger_type):  nltk\n",
    "        (tagset):  universal\n",
    "        (allow_verb_noun_swap):  True\n",
    "        (compare_against_original):  True\n",
    "      )\n",
    "    (1): UniversalSentenceEncoder(\n",
    "        (metric):  cosine\n",
    "        (threshold):  0.936338023\n",
    "        (window_size):  15\n",
    "        (skip_text_shorter_than_window):  True\n",
    "        (compare_against_original):  True\n",
    "      )\n",
    "    (2): RepeatModification\n",
    "    (3): StopwordModification\n",
    "  (is_black_box):  True"
   ]
  }
 ],
 "metadata": {
  "accelerator": "GPU",
  "colab": {
   "collapsed_sections": [],
   "name": "BERT Fine-Tuning Sentence Classification v4.ipynb",
   "provenance": [],
   "toc_visible": true
  },
  "kernelspec": {
   "display_name": "Yandex DataSphere Kernel",
   "language": "python",
   "name": "python3"
  },
  "language_info": {
   "codemirror_mode": {
    "name": "ipython",
    "version": 3
   },
   "file_extension": ".py",
   "mimetype": "text/x-python",
   "name": "python",
   "nbconvert_exporter": "python",
   "pygments_lexer": "ipython3",
   "version": "3.7.7"
  },
  "notebookId": "58fc2266-af5f-4ac3-91de-b95feaf01c3c",
  "notebookPath": "text_attacks/notebooks/BERT_Amazon.ipynb",
  "widgets": {
   "application/vnd.jupyter.widget-state+json": {
    "0fe5b1d0540240a8a8426352c24b2887": {
     "model_module": "@jupyter-widgets/base",
     "model_module_version": "1.2.0",
     "model_name": "LayoutModel",
     "state": {
      "_model_module": "@jupyter-widgets/base",
      "_model_module_version": "1.2.0",
      "_model_name": "LayoutModel",
      "_view_count": null,
      "_view_module": "@jupyter-widgets/base",
      "_view_module_version": "1.2.0",
      "_view_name": "LayoutView",
      "align_content": null,
      "align_items": null,
      "align_self": null,
      "border": null,
      "bottom": null,
      "display": null,
      "flex": null,
      "flex_flow": null,
      "grid_area": null,
      "grid_auto_columns": null,
      "grid_auto_flow": null,
      "grid_auto_rows": null,
      "grid_column": null,
      "grid_gap": null,
      "grid_row": null,
      "grid_template_areas": null,
      "grid_template_columns": null,
      "grid_template_rows": null,
      "height": null,
      "justify_content": null,
      "justify_items": null,
      "left": null,
      "margin": null,
      "max_height": null,
      "max_width": null,
      "min_height": null,
      "min_width": null,
      "object_fit": null,
      "object_position": null,
      "order": null,
      "overflow": null,
      "overflow_x": null,
      "overflow_y": null,
      "padding": null,
      "right": null,
      "top": null,
      "visibility": null,
      "width": null
     }
    },
    "1058e0b5baa248faa60c1ad146d10bf7": {
     "model_module": "@jupyter-widgets/base",
     "model_module_version": "1.2.0",
     "model_name": "LayoutModel",
     "state": {
      "_model_module": "@jupyter-widgets/base",
      "_model_module_version": "1.2.0",
      "_model_name": "LayoutModel",
      "_view_count": null,
      "_view_module": "@jupyter-widgets/base",
      "_view_module_version": "1.2.0",
      "_view_name": "LayoutView",
      "align_content": null,
      "align_items": null,
      "align_self": null,
      "border": null,
      "bottom": null,
      "display": null,
      "flex": null,
      "flex_flow": null,
      "grid_area": null,
      "grid_auto_columns": null,
      "grid_auto_flow": null,
      "grid_auto_rows": null,
      "grid_column": null,
      "grid_gap": null,
      "grid_row": null,
      "grid_template_areas": null,
      "grid_template_columns": null,
      "grid_template_rows": null,
      "height": null,
      "justify_content": null,
      "justify_items": null,
      "left": null,
      "margin": null,
      "max_height": null,
      "max_width": null,
      "min_height": null,
      "min_width": null,
      "object_fit": null,
      "object_position": null,
      "order": null,
      "overflow": null,
      "overflow_x": null,
      "overflow_y": null,
      "padding": null,
      "right": null,
      "top": null,
      "visibility": null,
      "width": null
     }
    },
    "1296a3d754b344a482a03e5af84e805e": {
     "model_module": "@jupyter-widgets/controls",
     "model_module_version": "1.5.0",
     "model_name": "FloatProgressModel",
     "state": {
      "_dom_classes": [],
      "_model_module": "@jupyter-widgets/controls",
      "_model_module_version": "1.5.0",
      "_model_name": "FloatProgressModel",
      "_view_count": null,
      "_view_module": "@jupyter-widgets/controls",
      "_view_module_version": "1.5.0",
      "_view_name": "ProgressView",
      "bar_style": "success",
      "description": "Downloading: 100%",
      "description_tooltip": null,
      "layout": "IPY_MODEL_f8874fec8a404ae89a38fd2ecbb357cf",
      "max": 433,
      "min": 0,
      "orientation": "horizontal",
      "style": "IPY_MODEL_2755b9838bae408ca8cf667ad9d501fc",
      "value": 433
     }
    },
    "1c2b0ede959142fc89bf07a9c88df638": {
     "model_module": "@jupyter-widgets/base",
     "model_module_version": "1.2.0",
     "model_name": "LayoutModel",
     "state": {
      "_model_module": "@jupyter-widgets/base",
      "_model_module_version": "1.2.0",
      "_model_name": "LayoutModel",
      "_view_count": null,
      "_view_module": "@jupyter-widgets/base",
      "_view_module_version": "1.2.0",
      "_view_name": "LayoutView",
      "align_content": null,
      "align_items": null,
      "align_self": null,
      "border": null,
      "bottom": null,
      "display": null,
      "flex": null,
      "flex_flow": null,
      "grid_area": null,
      "grid_auto_columns": null,
      "grid_auto_flow": null,
      "grid_auto_rows": null,
      "grid_column": null,
      "grid_gap": null,
      "grid_row": null,
      "grid_template_areas": null,
      "grid_template_columns": null,
      "grid_template_rows": null,
      "height": null,
      "justify_content": null,
      "justify_items": null,
      "left": null,
      "margin": null,
      "max_height": null,
      "max_width": null,
      "min_height": null,
      "min_width": null,
      "object_fit": null,
      "object_position": null,
      "order": null,
      "overflow": null,
      "overflow_x": null,
      "overflow_y": null,
      "padding": null,
      "right": null,
      "top": null,
      "visibility": null,
      "width": null
     }
    },
    "23ca9359e6c44232a1346e6f2ab7e48c": {
     "model_module": "@jupyter-widgets/controls",
     "model_module_version": "1.5.0",
     "model_name": "FloatProgressModel",
     "state": {
      "_dom_classes": [],
      "_model_module": "@jupyter-widgets/controls",
      "_model_module_version": "1.5.0",
      "_model_name": "FloatProgressModel",
      "_view_count": null,
      "_view_module": "@jupyter-widgets/controls",
      "_view_module_version": "1.5.0",
      "_view_name": "ProgressView",
      "bar_style": "success",
      "description": "Downloading: 100%",
      "description_tooltip": null,
      "layout": "IPY_MODEL_0fe5b1d0540240a8a8426352c24b2887",
      "max": 440473133,
      "min": 0,
      "orientation": "horizontal",
      "style": "IPY_MODEL_6c7dec7b1e804c2195f6e60fb3c1d18e",
      "value": 440473133
     }
    },
    "2755b9838bae408ca8cf667ad9d501fc": {
     "model_module": "@jupyter-widgets/controls",
     "model_module_version": "1.5.0",
     "model_name": "ProgressStyleModel",
     "state": {
      "_model_module": "@jupyter-widgets/controls",
      "_model_module_version": "1.5.0",
      "_model_name": "ProgressStyleModel",
      "_view_count": null,
      "_view_module": "@jupyter-widgets/base",
      "_view_module_version": "1.2.0",
      "_view_name": "StyleView",
      "bar_color": null,
      "description_width": "initial"
     }
    },
    "375cc635389c4ddb9bf2aa443df58bae": {
     "model_module": "@jupyter-widgets/controls",
     "model_module_version": "1.5.0",
     "model_name": "DescriptionStyleModel",
     "state": {
      "_model_module": "@jupyter-widgets/controls",
      "_model_module_version": "1.5.0",
      "_model_name": "DescriptionStyleModel",
      "_view_count": null,
      "_view_module": "@jupyter-widgets/base",
      "_view_module_version": "1.2.0",
      "_view_name": "StyleView",
      "description_width": ""
     }
    },
    "440da34c72344cb08e4a1ee5de7049ee": {
     "model_module": "@jupyter-widgets/base",
     "model_module_version": "1.2.0",
     "model_name": "LayoutModel",
     "state": {
      "_model_module": "@jupyter-widgets/base",
      "_model_module_version": "1.2.0",
      "_model_name": "LayoutModel",
      "_view_count": null,
      "_view_module": "@jupyter-widgets/base",
      "_view_module_version": "1.2.0",
      "_view_name": "LayoutView",
      "align_content": null,
      "align_items": null,
      "align_self": null,
      "border": null,
      "bottom": null,
      "display": null,
      "flex": null,
      "flex_flow": null,
      "grid_area": null,
      "grid_auto_columns": null,
      "grid_auto_flow": null,
      "grid_auto_rows": null,
      "grid_column": null,
      "grid_gap": null,
      "grid_row": null,
      "grid_template_areas": null,
      "grid_template_columns": null,
      "grid_template_rows": null,
      "height": null,
      "justify_content": null,
      "justify_items": null,
      "left": null,
      "margin": null,
      "max_height": null,
      "max_width": null,
      "min_height": null,
      "min_width": null,
      "object_fit": null,
      "object_position": null,
      "order": null,
      "overflow": null,
      "overflow_x": null,
      "overflow_y": null,
      "padding": null,
      "right": null,
      "top": null,
      "visibility": null,
      "width": null
     }
    },
    "472198d5b6a748b3a81f9364fd1fa711": {
     "model_module": "@jupyter-widgets/base",
     "model_module_version": "1.2.0",
     "model_name": "LayoutModel",
     "state": {
      "_model_module": "@jupyter-widgets/base",
      "_model_module_version": "1.2.0",
      "_model_name": "LayoutModel",
      "_view_count": null,
      "_view_module": "@jupyter-widgets/base",
      "_view_module_version": "1.2.0",
      "_view_name": "LayoutView",
      "align_content": null,
      "align_items": null,
      "align_self": null,
      "border": null,
      "bottom": null,
      "display": null,
      "flex": null,
      "flex_flow": null,
      "grid_area": null,
      "grid_auto_columns": null,
      "grid_auto_flow": null,
      "grid_auto_rows": null,
      "grid_column": null,
      "grid_gap": null,
      "grid_row": null,
      "grid_template_areas": null,
      "grid_template_columns": null,
      "grid_template_rows": null,
      "height": null,
      "justify_content": null,
      "justify_items": null,
      "left": null,
      "margin": null,
      "max_height": null,
      "max_width": null,
      "min_height": null,
      "min_width": null,
      "object_fit": null,
      "object_position": null,
      "order": null,
      "overflow": null,
      "overflow_x": null,
      "overflow_y": null,
      "padding": null,
      "right": null,
      "top": null,
      "visibility": null,
      "width": null
     }
    },
    "4b1e27aff6f04fec8268d951e46b1e63": {
     "model_module": "@jupyter-widgets/controls",
     "model_module_version": "1.5.0",
     "model_name": "DescriptionStyleModel",
     "state": {
      "_model_module": "@jupyter-widgets/controls",
      "_model_module_version": "1.5.0",
      "_model_name": "DescriptionStyleModel",
      "_view_count": null,
      "_view_module": "@jupyter-widgets/base",
      "_view_module_version": "1.2.0",
      "_view_name": "StyleView",
      "description_width": ""
     }
    },
    "6c7dec7b1e804c2195f6e60fb3c1d18e": {
     "model_module": "@jupyter-widgets/controls",
     "model_module_version": "1.5.0",
     "model_name": "ProgressStyleModel",
     "state": {
      "_model_module": "@jupyter-widgets/controls",
      "_model_module_version": "1.5.0",
      "_model_name": "ProgressStyleModel",
      "_view_count": null,
      "_view_module": "@jupyter-widgets/base",
      "_view_module_version": "1.2.0",
      "_view_name": "StyleView",
      "bar_color": null,
      "description_width": "initial"
     }
    },
    "6f132d7bb83d41b6847df0d0ec0a1b92": {
     "model_module": "@jupyter-widgets/controls",
     "model_module_version": "1.5.0",
     "model_name": "HTMLModel",
     "state": {
      "_dom_classes": [],
      "_model_module": "@jupyter-widgets/controls",
      "_model_module_version": "1.5.0",
      "_model_name": "HTMLModel",
      "_view_count": null,
      "_view_module": "@jupyter-widgets/controls",
      "_view_module_version": "1.5.0",
      "_view_name": "HTMLView",
      "description": "",
      "description_tooltip": null,
      "layout": "IPY_MODEL_978c24b18b594eaf8ca47730a88eefb9",
      "placeholder": "​",
      "style": "IPY_MODEL_a7bdbedc75de4f77b45f1389c2ea0abc",
      "value": " 433/433 [00:00&lt;00:00, 2.02kB/s]"
     }
    },
    "82ddfcea0e4c4e5a86cf6eca8585be8d": {
     "model_module": "@jupyter-widgets/controls",
     "model_module_version": "1.5.0",
     "model_name": "HBoxModel",
     "state": {
      "_dom_classes": [],
      "_model_module": "@jupyter-widgets/controls",
      "_model_module_version": "1.5.0",
      "_model_name": "HBoxModel",
      "_view_count": null,
      "_view_module": "@jupyter-widgets/controls",
      "_view_module_version": "1.5.0",
      "_view_name": "HBoxView",
      "box_style": "",
      "children": [
       "IPY_MODEL_8c76faadf2f4415393c6f0a805f0d72b",
       "IPY_MODEL_e0bb735fda99434a90380e7fc664212d"
      ],
      "layout": "IPY_MODEL_8a256ba4a19e4ec98fe3c3c99fba4daa"
     }
    },
    "8a256ba4a19e4ec98fe3c3c99fba4daa": {
     "model_module": "@jupyter-widgets/base",
     "model_module_version": "1.2.0",
     "model_name": "LayoutModel",
     "state": {
      "_model_module": "@jupyter-widgets/base",
      "_model_module_version": "1.2.0",
      "_model_name": "LayoutModel",
      "_view_count": null,
      "_view_module": "@jupyter-widgets/base",
      "_view_module_version": "1.2.0",
      "_view_name": "LayoutView",
      "align_content": null,
      "align_items": null,
      "align_self": null,
      "border": null,
      "bottom": null,
      "display": null,
      "flex": null,
      "flex_flow": null,
      "grid_area": null,
      "grid_auto_columns": null,
      "grid_auto_flow": null,
      "grid_auto_rows": null,
      "grid_column": null,
      "grid_gap": null,
      "grid_row": null,
      "grid_template_areas": null,
      "grid_template_columns": null,
      "grid_template_rows": null,
      "height": null,
      "justify_content": null,
      "justify_items": null,
      "left": null,
      "margin": null,
      "max_height": null,
      "max_width": null,
      "min_height": null,
      "min_width": null,
      "object_fit": null,
      "object_position": null,
      "order": null,
      "overflow": null,
      "overflow_x": null,
      "overflow_y": null,
      "padding": null,
      "right": null,
      "top": null,
      "visibility": null,
      "width": null
     }
    },
    "8c76faadf2f4415393c6f0a805f0d72b": {
     "model_module": "@jupyter-widgets/controls",
     "model_module_version": "1.5.0",
     "model_name": "FloatProgressModel",
     "state": {
      "_dom_classes": [],
      "_model_module": "@jupyter-widgets/controls",
      "_model_module_version": "1.5.0",
      "_model_name": "FloatProgressModel",
      "_view_count": null,
      "_view_module": "@jupyter-widgets/controls",
      "_view_module_version": "1.5.0",
      "_view_name": "ProgressView",
      "bar_style": "success",
      "description": "Downloading: 100%",
      "description_tooltip": null,
      "layout": "IPY_MODEL_1058e0b5baa248faa60c1ad146d10bf7",
      "max": 231508,
      "min": 0,
      "orientation": "horizontal",
      "style": "IPY_MODEL_cdb78e75309f4bc09366533331e72431",
      "value": 231508
     }
    },
    "978c24b18b594eaf8ca47730a88eefb9": {
     "model_module": "@jupyter-widgets/base",
     "model_module_version": "1.2.0",
     "model_name": "LayoutModel",
     "state": {
      "_model_module": "@jupyter-widgets/base",
      "_model_module_version": "1.2.0",
      "_model_name": "LayoutModel",
      "_view_count": null,
      "_view_module": "@jupyter-widgets/base",
      "_view_module_version": "1.2.0",
      "_view_name": "LayoutView",
      "align_content": null,
      "align_items": null,
      "align_self": null,
      "border": null,
      "bottom": null,
      "display": null,
      "flex": null,
      "flex_flow": null,
      "grid_area": null,
      "grid_auto_columns": null,
      "grid_auto_flow": null,
      "grid_auto_rows": null,
      "grid_column": null,
      "grid_gap": null,
      "grid_row": null,
      "grid_template_areas": null,
      "grid_template_columns": null,
      "grid_template_rows": null,
      "height": null,
      "justify_content": null,
      "justify_items": null,
      "left": null,
      "margin": null,
      "max_height": null,
      "max_width": null,
      "min_height": null,
      "min_width": null,
      "object_fit": null,
      "object_position": null,
      "order": null,
      "overflow": null,
      "overflow_x": null,
      "overflow_y": null,
      "padding": null,
      "right": null,
      "top": null,
      "visibility": null,
      "width": null
     }
    },
    "a7bdbedc75de4f77b45f1389c2ea0abc": {
     "model_module": "@jupyter-widgets/controls",
     "model_module_version": "1.5.0",
     "model_name": "DescriptionStyleModel",
     "state": {
      "_model_module": "@jupyter-widgets/controls",
      "_model_module_version": "1.5.0",
      "_model_name": "DescriptionStyleModel",
      "_view_count": null,
      "_view_module": "@jupyter-widgets/base",
      "_view_module_version": "1.2.0",
      "_view_name": "StyleView",
      "description_width": ""
     }
    },
    "bf9dfa1ff3e642fbb74c5146d21044c2": {
     "model_module": "@jupyter-widgets/controls",
     "model_module_version": "1.5.0",
     "model_name": "HBoxModel",
     "state": {
      "_dom_classes": [],
      "_model_module": "@jupyter-widgets/controls",
      "_model_module_version": "1.5.0",
      "_model_name": "HBoxModel",
      "_view_count": null,
      "_view_module": "@jupyter-widgets/controls",
      "_view_module_version": "1.5.0",
      "_view_name": "HBoxView",
      "box_style": "",
      "children": [
       "IPY_MODEL_1296a3d754b344a482a03e5af84e805e",
       "IPY_MODEL_6f132d7bb83d41b6847df0d0ec0a1b92"
      ],
      "layout": "IPY_MODEL_1c2b0ede959142fc89bf07a9c88df638"
     }
    },
    "cdb78e75309f4bc09366533331e72431": {
     "model_module": "@jupyter-widgets/controls",
     "model_module_version": "1.5.0",
     "model_name": "ProgressStyleModel",
     "state": {
      "_model_module": "@jupyter-widgets/controls",
      "_model_module_version": "1.5.0",
      "_model_name": "ProgressStyleModel",
      "_view_count": null,
      "_view_module": "@jupyter-widgets/base",
      "_view_module_version": "1.2.0",
      "_view_name": "StyleView",
      "bar_color": null,
      "description_width": "initial"
     }
    },
    "cea84f9c3db641acb98314028b305514": {
     "model_module": "@jupyter-widgets/base",
     "model_module_version": "1.2.0",
     "model_name": "LayoutModel",
     "state": {
      "_model_module": "@jupyter-widgets/base",
      "_model_module_version": "1.2.0",
      "_model_name": "LayoutModel",
      "_view_count": null,
      "_view_module": "@jupyter-widgets/base",
      "_view_module_version": "1.2.0",
      "_view_name": "LayoutView",
      "align_content": null,
      "align_items": null,
      "align_self": null,
      "border": null,
      "bottom": null,
      "display": null,
      "flex": null,
      "flex_flow": null,
      "grid_area": null,
      "grid_auto_columns": null,
      "grid_auto_flow": null,
      "grid_auto_rows": null,
      "grid_column": null,
      "grid_gap": null,
      "grid_row": null,
      "grid_template_areas": null,
      "grid_template_columns": null,
      "grid_template_rows": null,
      "height": null,
      "justify_content": null,
      "justify_items": null,
      "left": null,
      "margin": null,
      "max_height": null,
      "max_width": null,
      "min_height": null,
      "min_width": null,
      "object_fit": null,
      "object_position": null,
      "order": null,
      "overflow": null,
      "overflow_x": null,
      "overflow_y": null,
      "padding": null,
      "right": null,
      "top": null,
      "visibility": null,
      "width": null
     }
    },
    "d689bc8d488a4dc09c393b4fc9747bcb": {
     "model_module": "@jupyter-widgets/controls",
     "model_module_version": "1.5.0",
     "model_name": "HTMLModel",
     "state": {
      "_dom_classes": [],
      "_model_module": "@jupyter-widgets/controls",
      "_model_module_version": "1.5.0",
      "_model_name": "HTMLModel",
      "_view_count": null,
      "_view_module": "@jupyter-widgets/controls",
      "_view_module_version": "1.5.0",
      "_view_name": "HTMLView",
      "description": "",
      "description_tooltip": null,
      "layout": "IPY_MODEL_440da34c72344cb08e4a1ee5de7049ee",
      "placeholder": "​",
      "style": "IPY_MODEL_4b1e27aff6f04fec8268d951e46b1e63",
      "value": " 440M/440M [00:07&lt;00:00, 55.5MB/s]"
     }
    },
    "e0bb735fda99434a90380e7fc664212d": {
     "model_module": "@jupyter-widgets/controls",
     "model_module_version": "1.5.0",
     "model_name": "HTMLModel",
     "state": {
      "_dom_classes": [],
      "_model_module": "@jupyter-widgets/controls",
      "_model_module_version": "1.5.0",
      "_model_name": "HTMLModel",
      "_view_count": null,
      "_view_module": "@jupyter-widgets/controls",
      "_view_module_version": "1.5.0",
      "_view_name": "HTMLView",
      "description": "",
      "description_tooltip": null,
      "layout": "IPY_MODEL_472198d5b6a748b3a81f9364fd1fa711",
      "placeholder": "​",
      "style": "IPY_MODEL_375cc635389c4ddb9bf2aa443df58bae",
      "value": " 232k/232k [00:00&lt;00:00, 616kB/s]"
     }
    },
    "f8874fec8a404ae89a38fd2ecbb357cf": {
     "model_module": "@jupyter-widgets/base",
     "model_module_version": "1.2.0",
     "model_name": "LayoutModel",
     "state": {
      "_model_module": "@jupyter-widgets/base",
      "_model_module_version": "1.2.0",
      "_model_name": "LayoutModel",
      "_view_count": null,
      "_view_module": "@jupyter-widgets/base",
      "_view_module_version": "1.2.0",
      "_view_name": "LayoutView",
      "align_content": null,
      "align_items": null,
      "align_self": null,
      "border": null,
      "bottom": null,
      "display": null,
      "flex": null,
      "flex_flow": null,
      "grid_area": null,
      "grid_auto_columns": null,
      "grid_auto_flow": null,
      "grid_auto_rows": null,
      "grid_column": null,
      "grid_gap": null,
      "grid_row": null,
      "grid_template_areas": null,
      "grid_template_columns": null,
      "grid_template_rows": null,
      "height": null,
      "justify_content": null,
      "justify_items": null,
      "left": null,
      "margin": null,
      "max_height": null,
      "max_width": null,
      "min_height": null,
      "min_width": null,
      "object_fit": null,
      "object_position": null,
      "order": null,
      "overflow": null,
      "overflow_x": null,
      "overflow_y": null,
      "padding": null,
      "right": null,
      "top": null,
      "visibility": null,
      "width": null
     }
    },
    "fe254c3bcc08402eb506f0e98f5673a7": {
     "model_module": "@jupyter-widgets/controls",
     "model_module_version": "1.5.0",
     "model_name": "HBoxModel",
     "state": {
      "_dom_classes": [],
      "_model_module": "@jupyter-widgets/controls",
      "_model_module_version": "1.5.0",
      "_model_name": "HBoxModel",
      "_view_count": null,
      "_view_module": "@jupyter-widgets/controls",
      "_view_module_version": "1.5.0",
      "_view_name": "HBoxView",
      "box_style": "",
      "children": [
       "IPY_MODEL_23ca9359e6c44232a1346e6f2ab7e48c",
       "IPY_MODEL_d689bc8d488a4dc09c393b4fc9747bcb"
      ],
      "layout": "IPY_MODEL_cea84f9c3db641acb98314028b305514"
     }
    }
   }
  }
 },
 "nbformat": 4,
 "nbformat_minor": 4
}
