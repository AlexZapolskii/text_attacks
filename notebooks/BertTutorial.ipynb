{
 "cells": [
  {
   "cell_type": "code",
   "execution_count": 2,
   "id": "3783a49f",
   "metadata": {
    "cellId": "7l2r9wfqv18y6uc3s8qcdl"
   },
   "outputs": [
    {
     "name": "stdout",
     "output_type": "stream",
     "text": [
      "sesh\n"
     ]
    }
   ],
   "source": [
    "#!g1.1\n",
    "\n",
    "print('sesh')"
   ]
  },
  {
   "cell_type": "code",
   "execution_count": null,
   "id": "02e1623d",
   "metadata": {
    "cellId": "unfby3gvu35ube9hv8btq"
   },
   "outputs": [],
   "source": [
    "#!g1.1\n",
    "\n"
   ]
  }
 ],
 "metadata": {
  "kernelspec": {
   "display_name": "Yandex DataSphere Kernel",
   "language": "python",
   "name": "python3"
  },
  "language_info": {
   "codemirror_mode": {
    "name": "ipython",
    "version": 3
   },
   "file_extension": ".py",
   "mimetype": "text/x-python",
   "name": "python",
   "nbconvert_exporter": "python",
   "pygments_lexer": "ipython3",
   "version": "3.7.7"
  },
  "notebookId": "7b0cef0d-7b6a-4e71-ab17-e4abdddd51bd",
  "notebookPath": "text_attacks/notebooks/Untitled.ipynb"
 },
 "nbformat": 4,
 "nbformat_minor": 5
}
