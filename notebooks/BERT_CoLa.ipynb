{
 "cells": [
  {
   "cell_type": "code",
   "execution_count": 366,
   "metadata": {
    "cellId": "17wwsputgbxegj8o60td6"
   },
   "outputs": [],
   "source": [
    "import pandas as pd\n",
    "from sklearn.linear_model import LogisticRegression\n",
    "from sklearn.model_selection import cross_val_score, StratifiedKFold\n",
    "from sklearn.feature_extraction.text import TfidfVectorizer\n",
    "from scipy.sparse import hstack\n",
    "from matplotlib import pyplot as plt\n",
    "import seaborn as sns\n"
   ]
  },
  {
   "cell_type": "code",
   "execution_count": 367,
   "metadata": {
    "cellId": "6uqwzjbe7qim4yoawocqkq"
   },
   "outputs": [
    {
     "name": "stdout",
     "output_type": "stream",
     "text": [
      "There are 1 GPU(s) available.\n",
      "We will use the GPU: Tesla V100-SXM2-32GB\n"
     ]
    }
   ],
   "source": [
    "#!g1.1\n",
    "\n",
    "import torch\n",
    "\n",
    "# If there's a GPU available...\n",
    "if torch.cuda.is_available():    \n",
    "\n",
    "    # Tell PyTorch to use the GPU.    \n",
    "    device = torch.device(\"cuda\")\n",
    "\n",
    "    print('There are %d GPU(s) available.' % torch.cuda.device_count())\n",
    "\n",
    "    print('We will use the GPU:', torch.cuda.get_device_name(0))\n",
    "\n",
    "# If not...\n",
    "else:\n",
    "    print('No GPU available, using the CPU instead.')\n",
    "    device = torch.device(\"cpu\")"
   ]
  },
  {
   "cell_type": "markdown",
   "metadata": {
    "cellId": "3oog67pbx9o00m6cd3tc34mv"
   },
   "source": [
    "\n",
    "### В данном ноутбуке мы рассмотрим обучение nlp моделей <br> и текстовые атаки на примере англоязычного датасета - CoLa"
   ]
  },
  {
   "cell_type": "markdown",
   "metadata": {
    "cellId": "aoudt56i64d1c59zc8s41"
   },
   "source": [
    "#!g1.1\n",
    "Описание данных: <br>\n",
    "    We'll use The Corpus of Linguistic Acceptability (CoLA) dataset for single sentence classification. <br> It's a set of sentences labeled as grammatically correct or incorrect. It was first published in May of 2018, <br> and is one of the tests included in the \"GLUE Benchmark\" on which models like BERT are competing."
   ]
  },
  {
   "cell_type": "code",
   "execution_count": null,
   "metadata": {
    "cellId": "mk37cgzns4a2x1rocp4r6g"
   },
   "outputs": [],
   "source": [
    "#!g1.1\n",
    "Датасет про классификацию предложений.\n",
    "Предложения размечены как грамматически корректные и некорректные.\n",
    "Входит в GLUE бенчмарк"
   ]
  },
  {
   "cell_type": "markdown",
   "metadata": {
    "cellId": "spnyrj5t1l3fl5301enfj"
   },
   "source": [
    "\n",
    "Загрузим данные"
   ]
  },
  {
   "cell_type": "code",
   "execution_count": null,
   "metadata": {
    "cellId": "5h3tydqqgbp98ovqjqz21s"
   },
   "outputs": [],
   "source": [
    "#!g1.1\n",
    "У нас есть raw и tokenized версия"
   ]
  },
  {
   "cell_type": "code",
   "execution_count": 370,
   "metadata": {
    "cellId": "3ley3dbqkoa96kv4j0w3mr"
   },
   "outputs": [
    {
     "name": "stdout",
     "output_type": "stream",
     "text": [
      "/home/jupyter/work/resources/text_attacks/notebooks\n"
     ]
    }
   ],
   "source": [
    "#!g1.1\n",
    "!pwd"
   ]
  },
  {
   "cell_type": "code",
   "execution_count": 375,
   "metadata": {
    "cellId": "jwsho1ljytoigs2mwpmu1"
   },
   "outputs": [],
   "source": [
    "#!g1.1\n",
    "train_df = pd.read_csv(\"cola_public/raw/in_domain_train.tsv\", delimiter='\\t', header=None, names=['sentence_source', 'label', 'label_notes', 'text'])\n",
    "\n",
    "#!g1.1\n",
    "#!g1.1\n",
    "test_df = pd.read_csv(\"cola_public/raw/in_domain_dev.tsv\", delimiter='\\t', header=None, names=['sentence_source', 'label', 'label_notes', 'text'])\n"
   ]
  },
  {
   "cell_type": "code",
   "execution_count": 376,
   "metadata": {
    "cellId": "91iyccs201rwbkzq59jyae"
   },
   "outputs": [
    {
     "data": {
      "text/plain": [
       "((8551, 4), (527, 4))"
      ]
     },
     "metadata": {},
     "output_type": "display_data"
    }
   ],
   "source": [
    "#!g1.1\n",
    "train_df.shape, test_df.shape"
   ]
  },
  {
   "cell_type": "code",
   "execution_count": 377,
   "metadata": {
    "cellId": "x0ordpntmdher53apmb6xu"
   },
   "outputs": [
    {
     "data": {
      "text/html": [
       "<div>\n",
       "<style scoped>\n",
       "    .dataframe tbody tr th:only-of-type {\n",
       "        vertical-align: middle;\n",
       "    }\n",
       "\n",
       "    .dataframe tbody tr th {\n",
       "        vertical-align: top;\n",
       "    }\n",
       "\n",
       "    .dataframe thead th {\n",
       "        text-align: right;\n",
       "    }\n",
       "</style>\n",
       "<table border=\"1\" class=\"dataframe\">\n",
       "  <thead>\n",
       "    <tr style=\"text-align: right;\">\n",
       "      <th></th>\n",
       "      <th>sentence_source</th>\n",
       "      <th>label</th>\n",
       "      <th>label_notes</th>\n",
       "      <th>text</th>\n",
       "    </tr>\n",
       "  </thead>\n",
       "  <tbody>\n",
       "    <tr>\n",
       "      <th>0</th>\n",
       "      <td>gj04</td>\n",
       "      <td>1</td>\n",
       "      <td>NaN</td>\n",
       "      <td>Our friends won't buy this analysis, let alone...</td>\n",
       "    </tr>\n",
       "    <tr>\n",
       "      <th>1</th>\n",
       "      <td>gj04</td>\n",
       "      <td>1</td>\n",
       "      <td>NaN</td>\n",
       "      <td>One more pseudo generalization and I'm giving up.</td>\n",
       "    </tr>\n",
       "    <tr>\n",
       "      <th>2</th>\n",
       "      <td>gj04</td>\n",
       "      <td>1</td>\n",
       "      <td>NaN</td>\n",
       "      <td>One more pseudo generalization or I'm giving up.</td>\n",
       "    </tr>\n",
       "    <tr>\n",
       "      <th>3</th>\n",
       "      <td>gj04</td>\n",
       "      <td>1</td>\n",
       "      <td>NaN</td>\n",
       "      <td>The more we study verbs, the crazier they get.</td>\n",
       "    </tr>\n",
       "    <tr>\n",
       "      <th>4</th>\n",
       "      <td>gj04</td>\n",
       "      <td>1</td>\n",
       "      <td>NaN</td>\n",
       "      <td>Day by day the facts are getting murkier.</td>\n",
       "    </tr>\n",
       "  </tbody>\n",
       "</table>\n",
       "</div>"
      ],
      "text/plain": [
       "  sentence_source  label label_notes  \\\n",
       "0            gj04      1         NaN   \n",
       "1            gj04      1         NaN   \n",
       "2            gj04      1         NaN   \n",
       "3            gj04      1         NaN   \n",
       "4            gj04      1         NaN   \n",
       "\n",
       "                                                text  \n",
       "0  Our friends won't buy this analysis, let alone...  \n",
       "1  One more pseudo generalization and I'm giving up.  \n",
       "2   One more pseudo generalization or I'm giving up.  \n",
       "3     The more we study verbs, the crazier they get.  \n",
       "4          Day by day the facts are getting murkier.  "
      ]
     },
     "metadata": {},
     "output_type": "display_data"
    }
   ],
   "source": [
    "#!g1.1\n",
    "train_df.head()"
   ]
  },
  {
   "cell_type": "code",
   "execution_count": 378,
   "metadata": {
    "cellId": "jolzp9p34u9vome2junhhs"
   },
   "outputs": [
    {
     "data": {
      "text/html": [
       "<div>\n",
       "<style scoped>\n",
       "    .dataframe tbody tr th:only-of-type {\n",
       "        vertical-align: middle;\n",
       "    }\n",
       "\n",
       "    .dataframe tbody tr th {\n",
       "        vertical-align: top;\n",
       "    }\n",
       "\n",
       "    .dataframe thead th {\n",
       "        text-align: right;\n",
       "    }\n",
       "</style>\n",
       "<table border=\"1\" class=\"dataframe\">\n",
       "  <thead>\n",
       "    <tr style=\"text-align: right;\">\n",
       "      <th></th>\n",
       "      <th>sentence_source</th>\n",
       "      <th>label</th>\n",
       "      <th>label_notes</th>\n",
       "      <th>text</th>\n",
       "    </tr>\n",
       "  </thead>\n",
       "  <tbody>\n",
       "    <tr>\n",
       "      <th>0</th>\n",
       "      <td>gj04</td>\n",
       "      <td>1</td>\n",
       "      <td>NaN</td>\n",
       "      <td>The sailors rode the breeze clear of the rocks.</td>\n",
       "    </tr>\n",
       "    <tr>\n",
       "      <th>1</th>\n",
       "      <td>gj04</td>\n",
       "      <td>1</td>\n",
       "      <td>NaN</td>\n",
       "      <td>The weights made the rope stretch over the pul...</td>\n",
       "    </tr>\n",
       "    <tr>\n",
       "      <th>2</th>\n",
       "      <td>gj04</td>\n",
       "      <td>1</td>\n",
       "      <td>NaN</td>\n",
       "      <td>The mechanical doll wriggled itself loose.</td>\n",
       "    </tr>\n",
       "    <tr>\n",
       "      <th>3</th>\n",
       "      <td>cj99</td>\n",
       "      <td>1</td>\n",
       "      <td>NaN</td>\n",
       "      <td>If you had eaten more, you would want less.</td>\n",
       "    </tr>\n",
       "    <tr>\n",
       "      <th>4</th>\n",
       "      <td>cj99</td>\n",
       "      <td>0</td>\n",
       "      <td>*</td>\n",
       "      <td>As you eat the most, you want the least.</td>\n",
       "    </tr>\n",
       "  </tbody>\n",
       "</table>\n",
       "</div>"
      ],
      "text/plain": [
       "  sentence_source  label label_notes  \\\n",
       "0            gj04      1         NaN   \n",
       "1            gj04      1         NaN   \n",
       "2            gj04      1         NaN   \n",
       "3            cj99      1         NaN   \n",
       "4            cj99      0           *   \n",
       "\n",
       "                                                text  \n",
       "0    The sailors rode the breeze clear of the rocks.  \n",
       "1  The weights made the rope stretch over the pul...  \n",
       "2         The mechanical doll wriggled itself loose.  \n",
       "3        If you had eaten more, you would want less.  \n",
       "4           As you eat the most, you want the least.  "
      ]
     },
     "metadata": {},
     "output_type": "display_data"
    }
   ],
   "source": [
    "#!g1.1\n",
    "test_df.head()"
   ]
  },
  {
   "cell_type": "code",
   "execution_count": 379,
   "metadata": {
    "cellId": "o8lf4chh88zhv1hse4i6k"
   },
   "outputs": [
    {
     "data": {
      "text/plain": [
       "1    0.704362\n",
       "0    0.295638\n",
       "Name: label, dtype: float64"
      ]
     },
     "metadata": {},
     "output_type": "display_data"
    }
   ],
   "source": [
    "#!g1.1\n",
    "train_df.label.value_counts(1)"
   ]
  },
  {
   "cell_type": "code",
   "execution_count": 380,
   "metadata": {
    "cellId": "9si0inudlcjfwro48be45h"
   },
   "outputs": [
    {
     "data": {
      "text/plain": [
       "1    0.6926\n",
       "0    0.3074\n",
       "Name: label, dtype: float64"
      ]
     },
     "metadata": {},
     "output_type": "display_data"
    }
   ],
   "source": [
    "#!g1.1\n",
    "test_df.label.value_counts(1)"
   ]
  },
  {
   "cell_type": "code",
   "execution_count": null,
   "metadata": {
    "cellId": "w0eyhmblp73cqsd0waucc"
   },
   "outputs": [],
   "source": [
    "Видим, что распределение таргета совпадает \n",
    "1 - грамотный текст\n",
    "0 - текст с ошибками"
   ]
  },
  {
   "cell_type": "markdown",
   "metadata": {
    "cellId": "vbufchq008ad3tjr33gz09"
   },
   "source": [
    "#!g1.1\n",
    "## Построим tf-idf  бейзлайн"
   ]
  },
  {
   "cell_type": "code",
   "execution_count": 381,
   "metadata": {
    "cellId": "rghelrm02aoqap3wfnbd0j"
   },
   "outputs": [],
   "source": [
    "#!g1.1\n",
    "text_transformer = TfidfVectorizer(stop_words='english', ngram_range=(1, 2), lowercase=True, max_features=150000)\n"
   ]
  },
  {
   "cell_type": "code",
   "execution_count": 382,
   "metadata": {
    "cellId": "hm64ghkgw1r5vb7wy8g8lm"
   },
   "outputs": [
    {
     "name": "stdout",
     "output_type": "stream",
     "text": [
      "CPU times: user 160 ms, sys: 0 ns, total: 160 ms\n",
      "Wall time: 191 ms\n"
     ]
    }
   ],
   "source": [
    "#!g1.1\n",
    "\n",
    "%%time\n",
    "X_train_text = text_transformer.fit_transform(train_df['text'])\n",
    "X_valid_text = text_transformer.transform(test_df['text'])"
   ]
  },
  {
   "cell_type": "code",
   "execution_count": 383,
   "metadata": {
    "cellId": "juqtnuc9ssovz5zfxecmwa"
   },
   "outputs": [
    {
     "data": {
      "text/plain": [
       "((8551, 19454), (527, 19454))"
      ]
     },
     "metadata": {},
     "output_type": "display_data"
    }
   ],
   "source": [
    "#!g1.1\n",
    "\n",
    "X_train_text.shape, X_valid_text.shape"
   ]
  },
  {
   "cell_type": "code",
   "execution_count": null,
   "metadata": {
    "cellId": "auea5nxfr5q33qx6ai2j4"
   },
   "outputs": [],
   "source": [
    "#!g1.1\n",
    "\n",
    "# TODO:\n",
    "# подбор гиперпараметров лог-рега"
   ]
  },
  {
   "cell_type": "code",
   "execution_count": 386,
   "metadata": {
    "cellId": "i6jrurdntjp2vbnhqo9ake"
   },
   "outputs": [],
   "source": [
    "#!g1.1\n",
    "from sklearn.model_selection import GridSearchCV\n"
   ]
  },
  {
   "cell_type": "code",
   "execution_count": 390,
   "metadata": {
    "cellId": "9y185sin1lrgims985vhlm"
   },
   "outputs": [],
   "source": [
    "#!g1.1\n",
    "#!g1.1\n",
    "# попробуем настроить силу регуляризации\n",
    "\n",
    "param_grid = {'C': [0.001, 0.01, 0.1, 1, 10, 100, 1000] }\n",
    "\n",
    "clf = GridSearchCV(LogisticRegression(solver='lbfgs', multi_class='multinomial', random_state=42, max_iter= 1000), param_grid)\n"
   ]
  },
  {
   "cell_type": "code",
   "execution_count": 392,
   "metadata": {
    "cellId": "l35j7rkxxukd3ly1milmwv"
   },
   "outputs": [
    {
     "name": "stdout",
     "output_type": "stream",
     "text": [
      "Mean Accuracy: 0.704\n",
      "Config: {'C': 0.001}\n",
      "CPU times: user 6min 17s, sys: 10min 49s, total: 17min 7s\n",
      "Wall time: 2min 9s\n"
     ]
    }
   ],
   "source": [
    "#!g1.1\n",
    "%%time \n",
    "\n",
    "# fitting the model for grid search \n",
    "clf.fit(X_train_text, train_df['label'])\n",
    "clf.best_params_\n",
    "# summarize\n",
    "print('Mean Accuracy: %.3f' % clf.best_score_)\n",
    "print('Config: %s' % clf.best_params_)"
   ]
  },
  {
   "cell_type": "code",
   "execution_count": 393,
   "metadata": {
    "cellId": "p3kf1ce93z9exo2yi8bsu"
   },
   "outputs": [
    {
     "data": {
      "text/plain": [
       "{'C': 0.001}"
      ]
     },
     "metadata": {},
     "output_type": "display_data"
    }
   ],
   "source": [
    "#!g1.1\n",
    "clf.best_params_"
   ]
  },
  {
   "cell_type": "code",
   "execution_count": 396,
   "metadata": {
    "cellId": "dhwpa3veeyo471ipocthpd"
   },
   "outputs": [],
   "source": [
    "#!g1.1\n",
    "\n",
    "from sklearn.metrics import accuracy_score, f1_score, roc_auc_score, classification_report"
   ]
  },
  {
   "cell_type": "code",
   "execution_count": 400,
   "metadata": {
    "cellId": "kantn8or0h80bojbkidc9"
   },
   "outputs": [
    {
     "name": "stdout",
     "output_type": "stream",
     "text": [
      "accuracy 0.693\n",
      "f1 0.409\n",
      "roc_auc 0.6\n"
     ]
    }
   ],
   "source": [
    "#!g1.1\n",
    "import numpy as np\n",
    "\n",
    "print('accuracy', np.round(accuracy_score(test_df['label'], clf.predict(X_valid_text)),3)) #качество на тесте\n",
    "print('f1', np.round(f1_score(test_df['label'], clf.predict(X_valid_text), average='macro'),3)) #качество на тесте\n",
    "print('roc_auc', np.round(roc_auc_score(test_df['label'], clf.predict_proba(X_valid_text)[:, 1]),2)) #качество на тесте"
   ]
  },
  {
   "cell_type": "code",
   "execution_count": 399,
   "metadata": {
    "cellId": "ekdaw5txss5b75xtpwy3yq"
   },
   "outputs": [
    {
     "name": "stdout",
     "output_type": "stream",
     "text": [
      "              precision    recall  f1-score   support\n",
      "\n",
      "           0       0.41      0.33      0.37       162\n",
      "           1       0.73      0.79      0.76       365\n",
      "\n",
      "    accuracy                           0.65       527\n",
      "   macro avg       0.57      0.56      0.56       527\n",
      "weighted avg       0.63      0.65      0.64       527\n",
      "\n"
     ]
    }
   ],
   "source": [
    "#!g1.1\n",
    "print(classification_report(test_df['label'], lg.predict(X_valid_text))) #качество на тесте"
   ]
  },
  {
   "cell_type": "markdown",
   "metadata": {
    "cellId": "4vdmw7ridfhzqmbdl03utq"
   },
   "source": [
    "Мы получили неплохой бейзлайн,\n",
    "посмотрим - сможем ли мы улучшить результат с помощью \"тяжелой артиллерии\""
   ]
  },
  {
   "cell_type": "markdown",
   "metadata": {
    "cellId": "ux3r099l98q985wxec4kcs"
   },
   "source": [
    "#!g1.1\n",
    "\n",
    "##  Подготовим данные для Берта "
   ]
  },
  {
   "cell_type": "markdown",
   "metadata": {
    "cellId": "ojyoxtdlnfknganup05c",
    "id": "4SMZ5T5Imhlx"
   },
   "source": [
    "\n",
    "\n",
    "Let's extract the sentences and labels of our training set as numpy ndarrays."
   ]
  },
  {
   "cell_type": "code",
   "execution_count": 401,
   "metadata": {
    "cellId": "m34oe1hw05p1dhexpqhi1c",
    "id": "GuE5BqICAne2"
   },
   "outputs": [],
   "source": [
    "#!g1.1\n",
    "# Get the lists of sentences and their labels.\n",
    "sentences = train_df.text.values\n",
    "labels = train_df.label.values\n",
    "\n",
    "#valid_df"
   ]
  },
  {
   "cell_type": "code",
   "execution_count": 402,
   "metadata": {
    "cellId": "3jpvacolzhwf6iofgmlb2p"
   },
   "outputs": [
    {
     "data": {
      "text/plain": [
       "array([1, 1, 1, ..., 1, 1, 1])"
      ]
     },
     "metadata": {},
     "output_type": "display_data"
    }
   ],
   "source": [
    "#!g1.1\n",
    "labels"
   ]
  },
  {
   "cell_type": "markdown",
   "metadata": {
    "cellId": "n2m4dcnkfdaicq7fwl9c6o",
    "id": "ex5O1eV-Pfct"
   },
   "source": [
    "# 3. Tokenization & Input Formatting\n",
    "\n",
    "In this section, we'll transform our dataset into the format that BERT can be trained on."
   ]
  },
  {
   "cell_type": "markdown",
   "metadata": {
    "cellId": "qtzfq4mx3uw401xg02zbn",
    "id": "-8kEDRvShcU5"
   },
   "source": [
    "## 3.1. BERT Tokenizer"
   ]
  },
  {
   "cell_type": "markdown",
   "metadata": {
    "cellId": "nltqt9p18y4hwrqoid46m",
    "id": "bWOPOyWghJp2"
   },
   "source": [
    "\n",
    "To feed our text to BERT, it must be split into tokens, and then these tokens must be mapped to their index in the tokenizer vocabulary.\n",
    "\n",
    "The tokenization must be performed by the tokenizer included with BERT--the below cell will download this for us. We'll be using the \"uncased\" version here.\n"
   ]
  },
  {
   "cell_type": "code",
   "execution_count": 416,
   "metadata": {
    "cellId": "6jmucnexl0vfmaq78346gl",
    "colab": {
     "base_uri": "https://localhost:8080/",
     "height": 84,
     "referenced_widgets": [
      "82ddfcea0e4c4e5a86cf6eca8585be8d",
      "8a256ba4a19e4ec98fe3c3c99fba4daa",
      "8c76faadf2f4415393c6f0a805f0d72b",
      "e0bb735fda99434a90380e7fc664212d",
      "cdb78e75309f4bc09366533331e72431",
      "1058e0b5baa248faa60c1ad146d10bf7",
      "375cc635389c4ddb9bf2aa443df58bae",
      "472198d5b6a748b3a81f9364fd1fa711"
     ]
    },
    "id": "Z474sSC6oe7A",
    "outputId": "4e6d97b6-2d4c-42ca-c201-d2b4a88895b9"
   },
   "outputs": [
    {
     "name": "stdout",
     "output_type": "stream",
     "text": [
      "Loading BERT tokenizer...\n"
     ]
    },
    {
     "data": {
      "application/vnd.jupyter.widget-view+json": {
       "model_id": "38415a0f2cf949d09e4c5bf7b2d5a609",
       "version_major": 2,
       "version_minor": 0
      },
      "text/plain": [
       "HBox(children=(FloatProgress(value=0.0, description='Downloading', max=231508.0, style=ProgressStyle(descripti…"
      ]
     },
     "metadata": {},
     "output_type": "display_data"
    },
    {
     "name": "stdout",
     "output_type": "stream",
     "text": [
      "\n"
     ]
    },
    {
     "data": {
      "application/vnd.jupyter.widget-view+json": {
       "model_id": "8b1e021d29154337b7828ccc08ca7e13",
       "version_major": 2,
       "version_minor": 0
      },
      "text/plain": [
       "HBox(children=(FloatProgress(value=0.0, description='Downloading', max=28.0, style=ProgressStyle(description_w…"
      ]
     },
     "metadata": {},
     "output_type": "display_data"
    },
    {
     "name": "stdout",
     "output_type": "stream",
     "text": [
      "\n"
     ]
    },
    {
     "data": {
      "application/vnd.jupyter.widget-view+json": {
       "model_id": "8e5e580efe2f4e5382f931b5765af870",
       "version_major": 2,
       "version_minor": 0
      },
      "text/plain": [
       "HBox(children=(FloatProgress(value=0.0, description='Downloading', max=466062.0, style=ProgressStyle(descripti…"
      ]
     },
     "metadata": {},
     "output_type": "display_data"
    },
    {
     "name": "stdout",
     "output_type": "stream",
     "text": [
      "\n"
     ]
    },
    {
     "data": {
      "application/vnd.jupyter.widget-view+json": {
       "model_id": "9ad39167bf4e4ffca97f9069854b563e",
       "version_major": 2,
       "version_minor": 0
      },
      "text/plain": [
       "HBox(children=(FloatProgress(value=0.0, description='Downloading', max=570.0, style=ProgressStyle(description_…"
      ]
     },
     "metadata": {},
     "output_type": "display_data"
    },
    {
     "name": "stdout",
     "output_type": "stream",
     "text": [
      "\n"
     ]
    }
   ],
   "source": [
    "#!g1.1\n",
    "from transformers import BertTokenizer\n",
    "\n",
    "# попробуем облегченную модель \n",
    "# Load the BERT tokenizer. distilbert-base-uncased\n",
    "print('Loading BERT tokenizer...')\n",
    "tokenizer = BertTokenizer.from_pretrained('bert-base-uncased', do_lower_case=True)  #стандартная модель - bert-base-uncased, "
   ]
  },
  {
   "cell_type": "markdown",
   "metadata": {
    "cellId": "f6ic2xeksek12tly7v2t7yh",
    "id": "dFzmtleW6KmJ"
   },
   "source": [
    "Let's apply the tokenizer to one sentence just to see the output.\n"
   ]
  },
  {
   "cell_type": "markdown",
   "metadata": {
    "cellId": "738whdfw1r8h79bms1px9d"
   },
   "source": [
    "#!g1.1\n",
    "пример токенизации"
   ]
  },
  {
   "cell_type": "code",
   "execution_count": 404,
   "metadata": {
    "cellId": "axk01lz69tq81o7ofqc93h",
    "colab": {
     "base_uri": "https://localhost:8080/"
    },
    "id": "dLIbudgfh6F0",
    "outputId": "9ca681ff-195f-4960-a0ba-55ded440278e"
   },
   "outputs": [
    {
     "name": "stdout",
     "output_type": "stream",
     "text": [
      " Original:  I read three his books.\n",
      "Tokenized:  ['i', 'read', 'three', 'his', 'books', '.']\n",
      "Token IDs:  [1045, 3191, 2093, 2010, 2808, 1012]\n"
     ]
    }
   ],
   "source": [
    "#!g1.1\n",
    "# Print the original sentence.\n",
    "print(' Original: ', sentences[1000])\n",
    "\n",
    "# Print the sentence split into tokens.\n",
    "print('Tokenized: ', tokenizer.tokenize(sentences[1000]))\n",
    "\n",
    "# Print the sentence mapped to token ids.\n",
    "print('Token IDs: ', tokenizer.convert_tokens_to_ids(tokenizer.tokenize(sentences[1000])))"
   ]
  },
  {
   "cell_type": "markdown",
   "metadata": {
    "cellId": "f0bzhx87zoslojylqdjd",
    "id": "l6w8elb-58GJ"
   },
   "source": [
    "## 3.3. Tokenize Dataset"
   ]
  },
  {
   "cell_type": "markdown",
   "metadata": {
    "cellId": "pa70o6ujlergqrti32dqxq",
    "id": "U28qy4P-NwQ9"
   },
   "source": [
    "Оценим распределение длины текстов"
   ]
  },
  {
   "cell_type": "code",
   "execution_count": 405,
   "metadata": {
    "cellId": "sc4wjjpopbj8igqtgdtv"
   },
   "outputs": [
    {
     "data": {
      "text/plain": [
       "count    8551.000000\n",
       "mean        7.696059\n",
       "std         3.622946\n",
       "min         2.000000\n",
       "25%         5.000000\n",
       "50%         7.000000\n",
       "75%         9.000000\n",
       "max        42.000000\n",
       "Name: text, dtype: float64"
      ]
     },
     "metadata": {},
     "output_type": "display_data"
    }
   ],
   "source": [
    "#!g1.1\n",
    "# тем не менее, важно понимать распределение кол-ва токенов в последовательности:\n",
    "\n",
    "# statistics of text length (in words)\n",
    "train_df['text'].apply(lambda s: len(s.split())).describe()\n"
   ]
  },
  {
   "cell_type": "code",
   "execution_count": 406,
   "metadata": {
    "cellId": "t6bczuhsuk8aiqh6zlaj6"
   },
   "outputs": [
    {
     "data": {
      "text/plain": [
       "(15.0, 20.0)"
      ]
     },
     "metadata": {},
     "output_type": "display_data"
    }
   ],
   "source": [
    "#!g1.1\n",
    "\n",
    "train_df['text'].apply(lambda s: len(s.split())).quantile(0.95), train_df['text'].apply(lambda s: len(s.split())).quantile(0.99)"
   ]
  },
  {
   "cell_type": "code",
   "execution_count": null,
   "metadata": {
    "cellId": "7zx8qci2cfvv8bu66ivhj8"
   },
   "outputs": [],
   "source": [
    "#!g1.1\n",
    "Мы видим, что предложения достаточно короткие"
   ]
  },
  {
   "cell_type": "markdown",
   "metadata": {
    "cellId": "8shl97fmpl98n44gdsyjdh"
   },
   "source": [
    "Мы можем смело брать модель с MAX_SEQ_LENGTH = 64"
   ]
  },
  {
   "cell_type": "markdown",
   "metadata": {
    "cellId": "i755qyr606mma331z1j2bj",
    "id": "tIWAoWL2RK1p"
   },
   "source": [
    "Now we're ready to perform the real tokenization.\n",
    "\n",
    "The `tokenizer.encode_plus` function combines multiple steps for us:\n",
    "\n",
    "1. Split the sentence into tokens.\n",
    "2. Add the special `[CLS]` and `[SEP]` tokens.\n",
    "3. Map the tokens to their IDs.\n",
    "4. Pad or truncate all sentences to the same length.\n",
    "5. Create the attention masks which explicitly differentiate real tokens from `[PAD]` tokens.\n",
    "\n",
    "The first four features are in `tokenizer.encode`, but I'm using `tokenizer.encode_plus` to get the fifth item (attention masks). Documentation is [here](https://huggingface.co/transformers/main_classes/tokenizer.html?highlight=encode_plus#transformers.PreTrainedTokenizer.encode_plus).\n"
   ]
  },
  {
   "cell_type": "markdown",
   "metadata": {
    "cellId": "37lvnbtn7xfxr91hme67e"
   },
   "source": [
    "токенизируем данные"
   ]
  },
  {
   "cell_type": "code",
   "execution_count": 417,
   "metadata": {
    "cellId": "yytmmzbcb1zzlhqavefsg",
    "colab": {
     "base_uri": "https://localhost:8080/"
    },
    "id": "2bBdb3pt8LuQ",
    "outputId": "b4d78c6d-0faf-459b-b11a-a26ce40bd32a"
   },
   "outputs": [
    {
     "name": "stderr",
     "output_type": "stream",
     "text": [
      "Truncation was not explicitly activated but `max_length` is provided a specific value, please use `truncation=True` to explicitly truncate examples to max length. Defaulting to 'longest_first' truncation strategy. If you encode pairs of sequences (GLUE-style) with the tokenizer you can select this strategy more precisely by providing a specific strategy to `truncation`.\n",
      "/home/jupyter/.local/lib/python3.7/site-packages/transformers/tokenization_utils_base.py:2227: FutureWarning: The `pad_to_max_length` argument is deprecated and will be removed in a future version, use `padding=True` or `padding='longest'` to pad to the longest sequence in the batch, or use `padding='max_length'` to pad to a max length. In this case, you can give a specific length with `max_length` (e.g. `max_length=45`) or leave max_length to None to pad to the maximal input size of the model (e.g. 512 for Bert).\n",
      "  FutureWarning,\n",
      "/kernel/lib/python3.7/site-packages/ml_kernel/kernel.py:32: UserWarning: To copy construct from a tensor, it is recommended to use sourceTensor.clone().detach() or sourceTensor.clone().detach().requires_grad_(True), rather than torch.tensor(sourceTensor).\n",
      "  from ml_kernel.ignored_keyboard_interrupt import IgnoreKeyboardInterrupt\n"
     ]
    }
   ],
   "source": [
    "#!g1.1\n",
    "# Tokenize all of the sentences and map the tokens to thier word IDs.\n",
    "input_ids = []\n",
    "attention_masks = []\n",
    "\n",
    "# For every sentence...\n",
    "for sent in sentences:\n",
    "    # `encode_plus` will:\n",
    "    #   (1) Tokenize the sentence.\n",
    "    #   (2) Prepend the `[CLS]` token to the start.\n",
    "    #   (3) Append the `[SEP]` token to the end.\n",
    "    #   (4) Map tokens to their IDs.\n",
    "    #   (5) Pad or truncate the sentence to `max_length`\n",
    "    #   (6) Create attention masks for [PAD] tokens.\n",
    "    encoded_dict = tokenizer.encode_plus(\n",
    "                        sent,                      # Sentence to encode.\n",
    "                        add_special_tokens = True, # Add '[CLS]' and '[SEP]'\n",
    "                        max_length = 64,           # Pad & truncate all sentences.   Установили на основе анализа длины текстов\n",
    "                        pad_to_max_length = True,\n",
    "                        return_attention_mask = True,   # Construct attn. masks.\n",
    "                        return_tensors = 'pt',     # Return pytorch tensors.\n",
    "                   )\n",
    "    \n",
    "    # Add the encoded sentence to the list.    \n",
    "    input_ids.append(encoded_dict['input_ids'])\n",
    "    \n",
    "    # And its attention mask (simply differentiates padding from non-padding).\n",
    "    attention_masks.append(encoded_dict['attention_mask'])\n",
    "\n",
    "# Convert the lists into tensors.\n",
    "input_ids = torch.cat(input_ids, dim=0)\n",
    "attention_masks = torch.cat(attention_masks, dim=0)\n",
    "labels = torch.tensor(labels)\n",
    "\n",
    "# Print sentence 0, now as a list of IDs.\n",
    "#print('Original: ', sentences[0])\n",
    "#print('Token IDs:', input_ids[0])"
   ]
  },
  {
   "cell_type": "markdown",
   "metadata": {
    "cellId": "82676h6h03u8rs5mvnowla",
    "id": "aRp4O7D295d_"
   },
   "source": [
    "## 3.4. Training & Validation Split\n"
   ]
  },
  {
   "cell_type": "markdown",
   "metadata": {
    "cellId": "iuprzz80qrdsfz1b97rtk",
    "id": "qu0ao7p8rb06"
   },
   "source": [
    "Divide up our training set to use 90% for training and 10% for validation."
   ]
  },
  {
   "cell_type": "code",
   "execution_count": 418,
   "metadata": {
    "cellId": "ib4pjswxwwzpdbvvlplze",
    "colab": {
     "base_uri": "https://localhost:8080/"
    },
    "id": "GEgLpFVlo1Z-",
    "outputId": "c0ae3d66-6982-4c33-a3f4-ca80e0cd9968"
   },
   "outputs": [
    {
     "name": "stdout",
     "output_type": "stream",
     "text": [
      "7,695 training samples\n",
      "  856 validation samples\n"
     ]
    }
   ],
   "source": [
    "#!g1.1\n",
    "from torch.utils.data import TensorDataset, random_split\n",
    "\n",
    "# Combine the training inputs into a TensorDataset.\n",
    "dataset = TensorDataset(input_ids, attention_masks, labels)\n",
    "\n",
    "# Create a 90-10 train-validation split.\n",
    "\n",
    "# Calculate the number of samples to include in each set.\n",
    "train_size = int(0.9 * len(dataset))\n",
    "val_size = len(dataset) - train_size\n",
    "\n",
    "# Divide the dataset by randomly selecting samples.\n",
    "train_dataset, val_dataset = random_split(dataset, [train_size, val_size])\n",
    "\n",
    "print('{:>5,} training samples'.format(train_size))\n",
    "print('{:>5,} validation samples'.format(val_size))"
   ]
  },
  {
   "cell_type": "markdown",
   "metadata": {
    "cellId": "m9ybm4alx44tp9k0we34n",
    "id": "dD9i6Z2pG-sN"
   },
   "source": [
    "We'll also create an iterator for our dataset using the torch DataLoader class. This helps save on memory during training because, unlike a for loop, with an iterator the entire dataset does not need to be loaded into memory."
   ]
  },
  {
   "cell_type": "code",
   "execution_count": 419,
   "metadata": {
    "cellId": "iwqd3ad1js80vl8i354nnl",
    "id": "XGUqOCtgqGhP"
   },
   "outputs": [],
   "source": [
    "#!g1.1\n",
    "from torch.utils.data import DataLoader, RandomSampler, SequentialSampler\n",
    "\n",
    "# The DataLoader needs to know our batch size for training, so we specify it \n",
    "# here. For fine-tuning BERT on a specific task, the authors recommend a batch \n",
    "# size of 16 or 32.\n",
    "batch_size = 64  # \n",
    "\n",
    "# Create the DataLoaders for our training and validation sets.\n",
    "# We'll take training samples in random order. \n",
    "train_dataloader = DataLoader(\n",
    "            train_dataset,  # The training samples.\n",
    "            sampler = RandomSampler(train_dataset), # Select batches randomly\n",
    "            batch_size = batch_size # Trains with this batch size.\n",
    "        )\n",
    "\n",
    "# For validation the order doesn't matter, so we'll just read them sequentially.\n",
    "validation_dataloader = DataLoader(\n",
    "            val_dataset, # The validation samples.\n",
    "            sampler = SequentialSampler(val_dataset), # Pull out batches sequentially.\n",
    "            batch_size = batch_size # Evaluate with this batch size.\n",
    "        )"
   ]
  },
  {
   "cell_type": "markdown",
   "metadata": {
    "cellId": "66cyrih7c3p0cl88mzgvetq",
    "id": "8bwa6Rts-02-"
   },
   "source": [
    "# 4. Train Our Classification Model"
   ]
  },
  {
   "cell_type": "markdown",
   "metadata": {
    "cellId": "imoti25fzyfya532kf959",
    "id": "3xYQ3iLO08SX"
   },
   "source": [
    "Now that our input data is properly formatted, it's time to fine tune the BERT model. "
   ]
  },
  {
   "cell_type": "markdown",
   "metadata": {
    "cellId": "s06oty1c87j31dvpuqspgj",
    "id": "D6TKgyUzPIQc"
   },
   "source": [
    "## 4.1. BertForSequenceClassification"
   ]
  },
  {
   "cell_type": "markdown",
   "metadata": {
    "cellId": "s4gtg8ptifgsq4bdfylkhe",
    "id": "WnQW9E-bBCRt"
   },
   "source": [
    "OK, let's load BERT! There are a few different pre-trained BERT models available. \"bert-base-uncased\" means the version that has only lowercase letters (\"uncased\") and is the smaller version of the two (\"base\" vs \"large\").\n",
    "\n",
    "The documentation for `from_pretrained` can be found [here](https://huggingface.co/transformers/v2.2.0/main_classes/model.html#transformers.PreTrainedModel.from_pretrained), with the additional parameters defined [here](https://huggingface.co/transformers/v2.2.0/main_classes/configuration.html#transformers.PretrainedConfig)."
   ]
  },
  {
   "cell_type": "code",
   "execution_count": 422,
   "metadata": {
    "cellId": "fpe6get1y2b3r4zt8pm3qu",
    "colab": {
     "base_uri": "https://localhost:8080/",
     "height": 1000,
     "referenced_widgets": [
      "bf9dfa1ff3e642fbb74c5146d21044c2",
      "1c2b0ede959142fc89bf07a9c88df638",
      "1296a3d754b344a482a03e5af84e805e",
      "6f132d7bb83d41b6847df0d0ec0a1b92",
      "2755b9838bae408ca8cf667ad9d501fc",
      "f8874fec8a404ae89a38fd2ecbb357cf",
      "a7bdbedc75de4f77b45f1389c2ea0abc",
      "978c24b18b594eaf8ca47730a88eefb9",
      "fe254c3bcc08402eb506f0e98f5673a7",
      "cea84f9c3db641acb98314028b305514",
      "23ca9359e6c44232a1346e6f2ab7e48c",
      "d689bc8d488a4dc09c393b4fc9747bcb",
      "6c7dec7b1e804c2195f6e60fb3c1d18e",
      "0fe5b1d0540240a8a8426352c24b2887",
      "4b1e27aff6f04fec8268d951e46b1e63",
      "440da34c72344cb08e4a1ee5de7049ee"
     ]
    },
    "id": "gFsCTp_mporB",
    "outputId": "af690f33-6cd5-4678-bdaf-209f068f70f5"
   },
   "outputs": [
    {
     "data": {
      "application/vnd.jupyter.widget-view+json": {
       "model_id": "beb8d8fa0aad4ba59958d0c6004fb832",
       "version_major": 2,
       "version_minor": 0
      },
      "text/plain": [
       "HBox(children=(FloatProgress(value=0.0, description='Downloading', max=440473133.0, style=ProgressStyle(descri…"
      ]
     },
     "metadata": {},
     "output_type": "display_data"
    },
    {
     "name": "stdout",
     "output_type": "stream",
     "text": [
      "\n"
     ]
    },
    {
     "name": "stderr",
     "output_type": "stream",
     "text": [
      "Some weights of the model checkpoint at bert-base-uncased were not used when initializing BertForSequenceClassification: ['cls.predictions.transform.dense.weight', 'cls.predictions.transform.LayerNorm.bias', 'cls.predictions.decoder.weight', 'cls.predictions.transform.LayerNorm.weight', 'cls.seq_relationship.bias', 'cls.seq_relationship.weight', 'cls.predictions.bias', 'cls.predictions.transform.dense.bias']\n",
      "- This IS expected if you are initializing BertForSequenceClassification from the checkpoint of a model trained on another task or with another architecture (e.g. initializing a BertForSequenceClassification model from a BertForPreTraining model).\n",
      "- This IS NOT expected if you are initializing BertForSequenceClassification from the checkpoint of a model that you expect to be exactly identical (initializing a BertForSequenceClassification model from a BertForSequenceClassification model).\n",
      "Some weights of BertForSequenceClassification were not initialized from the model checkpoint at bert-base-uncased and are newly initialized: ['classifier.bias', 'classifier.weight']\n",
      "You should probably TRAIN this model on a down-stream task to be able to use it for predictions and inference.\n"
     ]
    },
    {
     "data": {
      "text/plain": [
       "BertForSequenceClassification(\n",
       "  (bert): BertModel(\n",
       "    (embeddings): BertEmbeddings(\n",
       "      (word_embeddings): Embedding(30522, 768, padding_idx=0)\n",
       "      (position_embeddings): Embedding(512, 768)\n",
       "      (token_type_embeddings): Embedding(2, 768)\n",
       "      (LayerNorm): LayerNorm((768,), eps=1e-12, elementwise_affine=True)\n",
       "      (dropout): Dropout(p=0.1, inplace=False)\n",
       "    )\n",
       "    (encoder): BertEncoder(\n",
       "      (layer): ModuleList(\n",
       "        (0): BertLayer(\n",
       "          (attention): BertAttention(\n",
       "            (self): BertSelfAttention(\n",
       "              (query): Linear(in_features=768, out_features=768, bias=True)\n",
       "              (key): Linear(in_features=768, out_features=768, bias=True)\n",
       "              (value): Linear(in_features=768, out_features=768, bias=True)\n",
       "              (dropout): Dropout(p=0.1, inplace=False)\n",
       "            )\n",
       "            (output): BertSelfOutput(\n",
       "              (dense): Linear(in_features=768, out_features=768, bias=True)\n",
       "              (LayerNorm): LayerNorm((768,), eps=1e-12, elementwise_affine=True)\n",
       "              (dropout): Dropout(p=0.1, inplace=False)\n",
       "            )\n",
       "          )\n",
       "          (intermediate): BertIntermediate(\n",
       "            (dense): Linear(in_features=768, out_features=3072, bias=True)\n",
       "          )\n",
       "          (output): BertOutput(\n",
       "            (dense): Linear(in_features=3072, out_features=768, bias=True)\n",
       "            (LayerNorm): LayerNorm((768,), eps=1e-12, elementwise_affine=True)\n",
       "            (dropout): Dropout(p=0.1, inplace=False)\n",
       "          )\n",
       "        )\n",
       "        (1): BertLayer(\n",
       "          (attention): BertAttention(\n",
       "            (self): BertSelfAttention(\n",
       "              (query): Linear(in_features=768, out_features=768, bias=True)\n",
       "              (key): Linear(in_features=768, out_features=768, bias=True)\n",
       "              (value): Linear(in_features=768, out_features=768, bias=True)\n",
       "              (dropout): Dropout(p=0.1, inplace=False)\n",
       "            )\n",
       "            (output): BertSelfOutput(\n",
       "              (dense): Linear(in_features=768, out_features=768, bias=True)\n",
       "              (LayerNorm): LayerNorm((768,), eps=1e-12, elementwise_affine=True)\n",
       "              (dropout): Dropout(p=0.1, inplace=False)\n",
       "            )\n",
       "          )\n",
       "          (intermediate): BertIntermediate(\n",
       "            (dense): Linear(in_features=768, out_features=3072, bias=True)\n",
       "          )\n",
       "          (output): BertOutput(\n",
       "            (dense): Linear(in_features=3072, out_features=768, bias=True)\n",
       "            (LayerNorm): LayerNorm((768,), eps=1e-12, elementwise_affine=True)\n",
       "            (dropout): Dropout(p=0.1, inplace=False)\n",
       "          )\n",
       "        )\n",
       "        (2): BertLayer(\n",
       "          (attention): BertAttention(\n",
       "            (self): BertSelfAttention(\n",
       "              (query): Linear(in_features=768, out_features=768, bias=True)\n",
       "              (key): Linear(in_features=768, out_features=768, bias=True)\n",
       "              (value): Linear(in_features=768, out_features=768, bias=True)\n",
       "              (dropout): Dropout(p=0.1, inplace=False)\n",
       "            )\n",
       "            (output): BertSelfOutput(\n",
       "              (dense): Linear(in_features=768, out_features=768, bias=True)\n",
       "              (LayerNorm): LayerNorm((768,), eps=1e-12, elementwise_affine=True)\n",
       "              (dropout): Dropout(p=0.1, inplace=False)\n",
       "            )\n",
       "          )\n",
       "          (intermediate): BertIntermediate(\n",
       "            (dense): Linear(in_features=768, out_features=3072, bias=True)\n",
       "          )\n",
       "          (output): BertOutput(\n",
       "            (dense): Linear(in_features=3072, out_features=768, bias=True)\n",
       "            (LayerNorm): LayerNorm((768,), eps=1e-12, elementwise_affine=True)\n",
       "            (dropout): Dropout(p=0.1, inplace=False)\n",
       "          )\n",
       "        )\n",
       "        (3): BertLayer(\n",
       "          (attention): BertAttention(\n",
       "            (self): BertSelfAttention(\n",
       "              (query): Linear(in_features=768, out_features=768, bias=True)\n",
       "              (key): Linear(in_features=768, out_features=768, bias=True)\n",
       "              (value): Linear(in_features=768, out_features=768, bias=True)\n",
       "              (dropout): Dropout(p=0.1, inplace=False)\n",
       "            )\n",
       "            (output): BertSelfOutput(\n",
       "              (dense): Linear(in_features=768, out_features=768, bias=True)\n",
       "              (LayerNorm): LayerNorm((768,), eps=1e-12, elementwise_affine=True)\n",
       "              (dropout): Dropout(p=0.1, inplace=False)\n",
       "            )\n",
       "          )\n",
       "          (intermediate): BertIntermediate(\n",
       "            (dense): Linear(in_features=768, out_features=3072, bias=True)\n",
       "          )\n",
       "          (output): BertOutput(\n",
       "            (dense): Linear(in_features=3072, out_features=768, bias=True)\n",
       "            (LayerNorm): LayerNorm((768,), eps=1e-12, elementwise_affine=True)\n",
       "            (dropout): Dropout(p=0.1, inplace=False)\n",
       "          )\n",
       "        )\n",
       "        (4): BertLayer(\n",
       "          (attention): BertAttention(\n",
       "            (self): BertSelfAttention(\n",
       "              (query): Linear(in_features=768, out_features=768, bias=True)\n",
       "              (key): Linear(in_features=768, out_features=768, bias=True)\n",
       "              (value): Linear(in_features=768, out_features=768, bias=True)\n",
       "              (dropout): Dropout(p=0.1, inplace=False)\n",
       "            )\n",
       "            (output): BertSelfOutput(\n",
       "              (dense): Linear(in_features=768, out_features=768, bias=True)\n",
       "              (LayerNorm): LayerNorm((768,), eps=1e-12, elementwise_affine=True)\n",
       "              (dropout): Dropout(p=0.1, inplace=False)\n",
       "            )\n",
       "          )\n",
       "          (intermediate): BertIntermediate(\n",
       "            (dense): Linear(in_features=768, out_features=3072, bias=True)\n",
       "          )\n",
       "          (output): BertOutput(\n",
       "            (dense): Linear(in_features=3072, out_features=768, bias=True)\n",
       "            (LayerNorm): LayerNorm((768,), eps=1e-12, elementwise_affine=True)\n",
       "            (dropout): Dropout(p=0.1, inplace=False)\n",
       "          )\n",
       "        )\n",
       "        (5): BertLayer(\n",
       "          (attention): BertAttention(\n",
       "            (self): BertSelfAttention(\n",
       "              (query): Linear(in_features=768, out_features=768, bias=True)\n",
       "              (key): Linear(in_features=768, out_features=768, bias=True)\n",
       "              (value): Linear(in_features=768, out_features=768, bias=True)\n",
       "              (dropout): Dropout(p=0.1, inplace=False)\n",
       "            )\n",
       "            (output): BertSelfOutput(\n",
       "              (dense): Linear(in_features=768, out_features=768, bias=True)\n",
       "              (LayerNorm): LayerNorm((768,), eps=1e-12, elementwise_affine=True)\n",
       "              (dropout): Dropout(p=0.1, inplace=False)\n",
       "            )\n",
       "          )\n",
       "          (intermediate): BertIntermediate(\n",
       "            (dense): Linear(in_features=768, out_features=3072, bias=True)\n",
       "          )\n",
       "          (output): BertOutput(\n",
       "            (dense): Linear(in_features=3072, out_features=768, bias=True)\n",
       "            (LayerNorm): LayerNorm((768,), eps=1e-12, elementwise_affine=True)\n",
       "            (dropout): Dropout(p=0.1, inplace=False)\n",
       "          )\n",
       "        )\n",
       "        (6): BertLayer(\n",
       "          (attention): BertAttention(\n",
       "            (self): BertSelfAttention(\n",
       "              (query): Linear(in_features=768, out_features=768, bias=True)\n",
       "              (key): Linear(in_features=768, out_features=768, bias=True)\n",
       "              (value): Linear(in_features=768, out_features=768, bias=True)\n",
       "              (dropout): Dropout(p=0.1, inplace=False)\n",
       "            )\n",
       "            (output): BertSelfOutput(\n",
       "              (dense): Linear(in_features=768, out_features=768, bias=True)\n",
       "              (LayerNorm): LayerNorm((768,), eps=1e-12, elementwise_affine=True)\n",
       "              (dropout): Dropout(p=0.1, inplace=False)\n",
       "            )\n",
       "          )\n",
       "          (intermediate): BertIntermediate(\n",
       "            (dense): Linear(in_features=768, out_features=3072, bias=True)\n",
       "          )\n",
       "          (output): BertOutput(\n",
       "            (dense): Linear(in_features=3072, out_features=768, bias=True)\n",
       "            (LayerNorm): LayerNorm((768,), eps=1e-12, elementwise_affine=True)\n",
       "            (dropout): Dropout(p=0.1, inplace=False)\n",
       "          )\n",
       "        )\n",
       "        (7): BertLayer(\n",
       "          (attention): BertAttention(\n",
       "            (self): BertSelfAttention(\n",
       "              (query): Linear(in_features=768, out_features=768, bias=True)\n",
       "              (key): Linear(in_features=768, out_features=768, bias=True)\n",
       "              (value): Linear(in_features=768, out_features=768, bias=True)\n",
       "              (dropout): Dropout(p=0.1, inplace=False)\n",
       "            )\n",
       "            (output): BertSelfOutput(\n",
       "              (dense): Linear(in_features=768, out_features=768, bias=True)\n",
       "              (LayerNorm): LayerNorm((768,), eps=1e-12, elementwise_affine=True)\n",
       "              (dropout): Dropout(p=0.1, inplace=False)\n",
       "            )\n",
       "          )\n",
       "          (intermediate): BertIntermediate(\n",
       "            (dense): Linear(in_features=768, out_features=3072, bias=True)\n",
       "          )\n",
       "          (output): BertOutput(\n",
       "            (dense): Linear(in_features=3072, out_features=768, bias=True)\n",
       "            (LayerNorm): LayerNorm((768,), eps=1e-12, elementwise_affine=True)\n",
       "            (dropout): Dropout(p=0.1, inplace=False)\n",
       "          )\n",
       "        )\n",
       "        (8): BertLayer(\n",
       "          (attention): BertAttention(\n",
       "            (self): BertSelfAttention(\n",
       "              (query): Linear(in_features=768, out_features=768, bias=True)\n",
       "              (key): Linear(in_features=768, out_features=768, bias=True)\n",
       "              (value): Linear(in_features=768, out_features=768, bias=True)\n",
       "              (dropout): Dropout(p=0.1, inplace=False)\n",
       "            )\n",
       "            (output): BertSelfOutput(\n",
       "              (dense): Linear(in_features=768, out_features=768, bias=True)\n",
       "              (LayerNorm): LayerNorm((768,), eps=1e-12, elementwise_affine=True)\n",
       "              (dropout): Dropout(p=0.1, inplace=False)\n",
       "            )\n",
       "          )\n",
       "          (intermediate): BertIntermediate(\n",
       "            (dense): Linear(in_features=768, out_features=3072, bias=True)\n",
       "          )\n",
       "          (output): BertOutput(\n",
       "            (dense): Linear(in_features=3072, out_features=768, bias=True)\n",
       "            (LayerNorm): LayerNorm((768,), eps=1e-12, elementwise_affine=True)\n",
       "            (dropout): Dropout(p=0.1, inplace=False)\n",
       "          )\n",
       "        )\n",
       "        (9): BertLayer(\n",
       "          (attention): BertAttention(\n",
       "            (self): BertSelfAttention(\n",
       "              (query): Linear(in_features=768, out_features=768, bias=True)\n",
       "              (key): Linear(in_features=768, out_features=768, bias=True)\n",
       "              (value): Linear(in_features=768, out_features=768, bias=True)\n",
       "              (dropout): Dropout(p=0.1, inplace=False)\n",
       "            )\n",
       "            (output): BertSelfOutput(\n",
       "              (dense): Linear(in_features=768, out_features=768, bias=True)\n",
       "              (LayerNorm): LayerNorm((768,), eps=1e-12, elementwise_affine=True)\n",
       "              (dropout): Dropout(p=0.1, inplace=False)\n",
       "            )\n",
       "          )\n",
       "          (intermediate): BertIntermediate(\n",
       "            (dense): Linear(in_features=768, out_features=3072, bias=True)\n",
       "          )\n",
       "          (output): BertOutput(\n",
       "            (dense): Linear(in_features=3072, out_features=768, bias=True)\n",
       "            (LayerNorm): LayerNorm((768,), eps=1e-12, elementwise_affine=True)\n",
       "            (dropout): Dropout(p=0.1, inplace=False)\n",
       "          )\n",
       "        )\n",
       "        (10): BertLayer(\n",
       "          (attention): BertAttention(\n",
       "            (self): BertSelfAttention(\n",
       "              (query): Linear(in_features=768, out_features=768, bias=True)\n",
       "              (key): Linear(in_features=768, out_features=768, bias=True)\n",
       "              (value): Linear(in_features=768, out_features=768, bias=True)\n",
       "              (dropout): Dropout(p=0.1, inplace=False)\n",
       "            )\n",
       "            (output): BertSelfOutput(\n",
       "              (dense): Linear(in_features=768, out_features=768, bias=True)\n",
       "              (LayerNorm): LayerNorm((768,), eps=1e-12, elementwise_affine=True)\n",
       "              (dropout): Dropout(p=0.1, inplace=False)\n",
       "            )\n",
       "          )\n",
       "          (intermediate): BertIntermediate(\n",
       "            (dense): Linear(in_features=768, out_features=3072, bias=True)\n",
       "          )\n",
       "          (output): BertOutput(\n",
       "            (dense): Linear(in_features=3072, out_features=768, bias=True)\n",
       "            (LayerNorm): LayerNorm((768,), eps=1e-12, elementwise_affine=True)\n",
       "            (dropout): Dropout(p=0.1, inplace=False)\n",
       "          )\n",
       "        )\n",
       "        (11): BertLayer(\n",
       "          (attention): BertAttention(\n",
       "            (self): BertSelfAttention(\n",
       "              (query): Linear(in_features=768, out_features=768, bias=True)\n",
       "              (key): Linear(in_features=768, out_features=768, bias=True)\n",
       "              (value): Linear(in_features=768, out_features=768, bias=True)\n",
       "              (dropout): Dropout(p=0.1, inplace=False)\n",
       "            )\n",
       "            (output): BertSelfOutput(\n",
       "              (dense): Linear(in_features=768, out_features=768, bias=True)\n",
       "              (LayerNorm): LayerNorm((768,), eps=1e-12, elementwise_affine=True)\n",
       "              (dropout): Dropout(p=0.1, inplace=False)\n",
       "            )\n",
       "          )\n",
       "          (intermediate): BertIntermediate(\n",
       "            (dense): Linear(in_features=768, out_features=3072, bias=True)\n",
       "          )\n",
       "          (output): BertOutput(\n",
       "            (dense): Linear(in_features=3072, out_features=768, bias=True)\n",
       "            (LayerNorm): LayerNorm((768,), eps=1e-12, elementwise_affine=True)\n",
       "            (dropout): Dropout(p=0.1, inplace=False)\n",
       "          )\n",
       "        )\n",
       "      )\n",
       "    )\n",
       "    (pooler): BertPooler(\n",
       "      (dense): Linear(in_features=768, out_features=768, bias=True)\n",
       "      (activation): Tanh()\n",
       "    )\n",
       "  )\n",
       "  (dropout): Dropout(p=0.1, inplace=False)\n",
       "  (classifier): Linear(in_features=768, out_features=2, bias=True)\n",
       ")"
      ]
     },
     "metadata": {},
     "output_type": "display_data"
    }
   ],
   "source": [
    "#!g1.1\n",
    "from transformers import BertForSequenceClassification, AdamW, BertConfig\n",
    "\n",
    "#НУЖНО УКАЗАТЬ КОЛ-ВО КЛАССОВ\n",
    "# Load BertForSequenceClassification, the pretrained BERT model with a single \n",
    "# linear classification layer on top. \n",
    "model = BertForSequenceClassification.from_pretrained(\n",
    "    \"bert-base-uncased\", # Use the 12-layer BERT model, with an uncased vocab. используем дистилированный берт\n",
    "    num_labels = train_df.label.nunique(),  # num of output classes\n",
    "                    # You can increase this for multi-class tasks.   \n",
    "    output_attentions = False, # Whether the model returns attentions weights.\n",
    "    output_hidden_states = False, # Whether the model returns all hidden-states.\n",
    ")\n",
    "\n",
    "# Tell pytorch to run this model on the GPU.\n",
    "model.cuda()"
   ]
  },
  {
   "cell_type": "markdown",
   "metadata": {
    "cellId": "tlfcqv02mm9z73ta5kclm",
    "id": "qRWT-D4U_Pvx"
   },
   "source": [
    "## 4.2. Optimizer & Learning Rate Scheduler"
   ]
  },
  {
   "cell_type": "markdown",
   "metadata": {
    "cellId": "vkncfex3bwirec6q7ay3a",
    "id": "8o-VEBobKwHk"
   },
   "source": [
    "Now that we have our model loaded we need to grab the training hyperparameters from within the stored model.\n",
    "\n",
    "For the purposes of fine-tuning, the authors recommend choosing from the following values (from Appendix A.3 of the [BERT paper](https://arxiv.org/pdf/1810.04805.pdf)):\n",
    "\n",
    ">- **Batch size:** 16, 32  \n",
    "- **Learning rate (Adam):** 5e-5, 3e-5, 2e-5  \n",
    "- **Number of epochs:** 2, 3, 4 \n",
    "\n",
    "We chose:\n",
    "* Batch size: 32 (set when creating our DataLoaders)\n",
    "* Learning rate: 2e-5\n",
    "* Epochs: 4 (we'll see that this is probably too many...)\n",
    "\n",
    "The epsilon parameter `eps = 1e-8` is \"a very small number to prevent any division by zero in the implementation\" (from [here](https://machinelearningmastery.com/adam-optimization-algorithm-for-deep-learning/)).\n",
    "\n",
    "You can find the creation of the AdamW optimizer in `run_glue.py` [here](https://github.com/huggingface/transformers/blob/5bfcd0485ece086ebcbed2d008813037968a9e58/examples/run_glue.py#L109)."
   ]
  },
  {
   "cell_type": "code",
   "execution_count": 423,
   "metadata": {
    "cellId": "wcx8dw4f53a7e98jomhwb2",
    "id": "-p0upAhhRiIx"
   },
   "outputs": [],
   "source": [
    "#!g1.1\n",
    "\n",
    "# Note: AdamW is a class from the huggingface library (as opposed to pytorch) \n",
    "# I believe the 'W' stands for 'Weight Decay fix\"\n",
    "optimizer = AdamW(model.parameters(),\n",
    "                  lr = 2e-5, # args.learning_rate - default is 5e-5, our notebook had 2e-5\n",
    "                  eps = 1e-8 # args.adam_epsilon  - default is 1e-8.\n",
    "                )\n",
    "\n",
    "\n",
    "#!g1.1\n",
    "from transformers import get_linear_schedule_with_warmup\n",
    "\n",
    "# Number of training epochs. The BERT authors recommend between 2 and 4. \n",
    "# We chose to run for 4, but we'll see later that this may be over-fitting the\n",
    "# training data.\n",
    "epochs = 3\n",
    "\n",
    "# Total number of training steps is [number of batches] x [number of epochs]. \n",
    "# (Note that this is not the same as the number of training samples).\n",
    "total_steps = len(train_dataloader) * epochs\n",
    "\n",
    "# Create the learning rate scheduler.\n",
    "scheduler = get_linear_schedule_with_warmup(optimizer, \n",
    "                                            num_warmup_steps = 0, # Default value in run_glue.py\n",
    "                                            num_training_steps = total_steps)"
   ]
  },
  {
   "cell_type": "markdown",
   "metadata": {
    "cellId": "4eub57f4047mh1jxx1jn9l",
    "id": "RqfmWwUR_Sox"
   },
   "source": [
    "## 4.3. Training Loop"
   ]
  },
  {
   "cell_type": "markdown",
   "metadata": {
    "cellId": "edt6a10duzijfihsf4ahhr",
    "id": "_QXZhFb4LnV5"
   },
   "source": [
    "Below is our training loop. There's a lot going on, but fundamentally for each pass in our loop we have a trianing phase and a validation phase. \n",
    "\n",
    "> *Thank you to [Stas Bekman](https://ca.linkedin.com/in/stasbekman) for contributing the insights and code for using validation loss to detect over-fitting!*\n",
    "\n",
    "**Training:**\n",
    "- Unpack our data inputs and labels\n",
    "- Load data onto the GPU for acceleration\n",
    "- Clear out the gradients calculated in the previous pass. \n",
    "    - In pytorch the gradients accumulate by default (useful for things like RNNs) unless you explicitly clear them out.\n",
    "- Forward pass (feed input data through the network)\n",
    "- Backward pass (backpropagation)\n",
    "- Tell the network to update parameters with optimizer.step()\n",
    "- Track variables for monitoring progress\n",
    "\n",
    "**Evalution:**\n",
    "- Unpack our data inputs and labels\n",
    "- Load data onto the GPU for acceleration\n",
    "- Forward pass (feed input data through the network)\n",
    "- Compute loss on our validation data and track variables for monitoring progress\n",
    "\n",
    "Pytorch hides all of the detailed calculations from us, but we've commented the code to point out which of the above steps are happening on each line. \n",
    "\n",
    "> *PyTorch also has some [beginner tutorials](https://pytorch.org/tutorials/beginner/blitz/cifar10_tutorial.html#sphx-glr-beginner-blitz-cifar10-tutorial-py) which you may also find helpful.*"
   ]
  },
  {
   "cell_type": "markdown",
   "metadata": {
    "cellId": "u98y155y7cd8cupgb208g",
    "id": "pE5B99H5H2-W"
   },
   "source": [
    "Define a helper functions:"
   ]
  },
  {
   "cell_type": "code",
   "execution_count": 424,
   "metadata": {
    "cellId": "whbwtueefmf6cyv4kjctb",
    "id": "gpt6tR83keZD"
   },
   "outputs": [],
   "source": [
    "#!g1.1\n",
    "import numpy as np\n",
    "\n",
    "# Function to calculate the accuracy of our predictions vs labels\n",
    "def flat_accuracy(preds, labels):\n",
    "    pred_flat = np.argmax(preds, axis=1).flatten()\n",
    "    labels_flat = labels.flatten()\n",
    "    return np.sum(pred_flat == labels_flat) / len(labels_flat)\n",
    "\n",
    "#!g1.1\n",
    "import time\n",
    "import datetime\n",
    "\n",
    "def format_time(elapsed):\n",
    "    '''\n",
    "    Takes a time in seconds and returns a string hh:mm:ss\n",
    "    '''\n",
    "    # Round to the nearest second.\n",
    "    elapsed_rounded = int(round((elapsed)))\n",
    "    \n",
    "    # Format as hh:mm:ss\n",
    "    return str(datetime.timedelta(seconds=elapsed_rounded))\n"
   ]
  },
  {
   "cell_type": "markdown",
   "metadata": {
    "cellId": "3kyi9m0kxhx5tfm5oswuum",
    "id": "cfNIhN19te3N"
   },
   "source": [
    "We're ready to kick off the training!"
   ]
  },
  {
   "cell_type": "code",
   "execution_count": 425,
   "metadata": {
    "cellId": "8pf7qzfvneap0oeobtn11q",
    "colab": {
     "base_uri": "https://localhost:8080/"
    },
    "id": "6J-FYdx6nFE_",
    "outputId": "b2c3e30b-eb5d-4b13-a207-05a48a87ed2a"
   },
   "outputs": [
    {
     "name": "stdout",
     "output_type": "stream",
     "text": [
      "\n",
      "======== Epoch 1 / 3 ========\n",
      "Training...\n",
      "  Batch    40  of    121.    Elapsed: 0:00:09.\n",
      "  Batch    80  of    121.    Elapsed: 0:00:18.\n",
      "  Batch   120  of    121.    Elapsed: 0:00:26.\n",
      "\n",
      "  Average training loss: 0.54\n",
      "  Training epcoh took: 0:00:27\n",
      "\n",
      "Running Validation...\n",
      "  Accuracy: 0.81\n",
      "  Validation Loss: 0.42\n",
      "  Validation took: 0:00:01\n",
      "\n",
      "======== Epoch 2 / 3 ========\n",
      "Training...\n",
      "  Batch    40  of    121.    Elapsed: 0:00:09.\n",
      "  Batch    80  of    121.    Elapsed: 0:00:18.\n",
      "  Batch   120  of    121.    Elapsed: 0:00:26.\n",
      "\n",
      "  Average training loss: 0.36\n",
      "  Training epcoh took: 0:00:26\n",
      "\n",
      "Running Validation...\n",
      "  Accuracy: 0.83\n",
      "  Validation Loss: 0.40\n",
      "  Validation took: 0:00:01\n",
      "\n",
      "======== Epoch 3 / 3 ========\n",
      "Training...\n",
      "  Batch    40  of    121.    Elapsed: 0:00:09.\n",
      "  Batch    80  of    121.    Elapsed: 0:00:18.\n",
      "  Batch   120  of    121.    Elapsed: 0:00:26.\n",
      "\n",
      "  Average training loss: 0.27\n",
      "  Training epcoh took: 0:00:26\n",
      "\n",
      "Running Validation...\n",
      "  Accuracy: 0.84\n",
      "  Validation Loss: 0.41\n",
      "  Validation took: 0:00:01\n",
      "\n",
      "Training complete!\n",
      "Total training took 0:01:22 (h:mm:ss)\n"
     ]
    }
   ],
   "source": [
    "#!g1.1\n",
    "import random\n",
    "import numpy as np\n",
    "\n",
    "# This training code is based on the `run_glue.py` script here:\n",
    "# https://github.com/huggingface/transformers/blob/5bfcd0485ece086ebcbed2d008813037968a9e58/examples/run_glue.py#L128\n",
    "\n",
    "# Set the seed value all over the place to make this reproducible.\n",
    "seed_val = 42\n",
    "\n",
    "random.seed(seed_val)\n",
    "np.random.seed(seed_val)\n",
    "torch.manual_seed(seed_val)\n",
    "torch.cuda.manual_seed_all(seed_val)\n",
    "\n",
    "# We'll store a number of quantities such as training and validation loss, \n",
    "# validation accuracy, and timings.\n",
    "training_stats = []\n",
    "\n",
    "# Measure the total training time for the whole run.\n",
    "total_t0 = time.time()\n",
    "\n",
    "# For each epoch...\n",
    "for epoch_i in range(0, epochs):\n",
    "    \n",
    "    # ========================================\n",
    "    #               Training\n",
    "    # ========================================\n",
    "    \n",
    "    # Perform one full pass over the training set.\n",
    "\n",
    "    print(\"\")\n",
    "    print('======== Epoch {:} / {:} ========'.format(epoch_i + 1, epochs))\n",
    "    print('Training...')\n",
    "\n",
    "    # Measure how long the training epoch takes.\n",
    "    t0 = time.time()\n",
    "\n",
    "    # Reset the total loss for this epoch.\n",
    "    total_train_loss = 0\n",
    "\n",
    "    # Put the model into training mode. Don't be mislead--the call to \n",
    "    # `train` just changes the *mode*, it doesn't *perform* the training.\n",
    "    # `dropout` and `batchnorm` layers behave differently during training\n",
    "    # vs. test (source: https://stackoverflow.com/questions/51433378/what-does-model-train-do-in-pytorch)\n",
    "    model.train()\n",
    "\n",
    "    # For each batch of training data...\n",
    "    for step, batch in enumerate(train_dataloader):\n",
    "\n",
    "        # Progress update every 40 batches.\n",
    "        if step % 40 == 0 and not step == 0:\n",
    "            # Calculate elapsed time in minutes.\n",
    "            elapsed = format_time(time.time() - t0)\n",
    "            \n",
    "            # Report progress.\n",
    "            print('  Batch {:>5,}  of  {:>5,}.    Elapsed: {:}.'.format(step, len(train_dataloader), elapsed))\n",
    "\n",
    "        # Unpack this training batch from our dataloader. \n",
    "        #\n",
    "        # As we unpack the batch, we'll also copy each tensor to the GPU using the \n",
    "        # `to` method.\n",
    "        #\n",
    "        # `batch` contains three pytorch tensors:\n",
    "        #   [0]: input ids \n",
    "        #   [1]: attention masks\n",
    "        #   [2]: labels \n",
    "        b_input_ids = batch[0].to(device)\n",
    "        b_input_mask = batch[1].to(device)\n",
    "        b_labels = batch[2].to(device)\n",
    "\n",
    "        # Always clear any previously calculated gradients before performing a\n",
    "        # backward pass. PyTorch doesn't do this automatically because \n",
    "        # accumulating the gradients is \"convenient while training RNNs\". \n",
    "        # (source: https://stackoverflow.com/questions/48001598/why-do-we-need-to-call-zero-grad-in-pytorch)\n",
    "        model.zero_grad()        \n",
    "\n",
    "        # Perform a forward pass (evaluate the model on this training batch).\n",
    "        # In PyTorch, calling `model` will in turn call the model's `forward` \n",
    "        # function and pass down the arguments. The `forward` function is \n",
    "        # documented here: \n",
    "        # https://huggingface.co/transformers/model_doc/bert.html#bertforsequenceclassification\n",
    "        # The results are returned in a results object, documented here:\n",
    "        # https://huggingface.co/transformers/main_classes/output.html#transformers.modeling_outputs.SequenceClassifierOutput\n",
    "        # Specifically, we'll get the loss (because we provided labels) and the\n",
    "        # \"logits\"--the model outputs prior to activation.\n",
    "        result = model(b_input_ids, \n",
    "                       token_type_ids=None, \n",
    "                       attention_mask=b_input_mask, \n",
    "                       labels=b_labels,\n",
    "                       return_dict=True)\n",
    "\n",
    "        loss = result.loss\n",
    "        logits = result.logits\n",
    "\n",
    "        # Accumulate the training loss over all of the batches so that we can\n",
    "        # calculate the average loss at the end. `loss` is a Tensor containing a\n",
    "        # single value; the `.item()` function just returns the Python value \n",
    "        # from the tensor.\n",
    "        total_train_loss += loss.item()\n",
    "\n",
    "        # Perform a backward pass to calculate the gradients.\n",
    "        loss.backward()\n",
    "\n",
    "        # Clip the norm of the gradients to 1.0.\n",
    "        # This is to help prevent the \"exploding gradients\" problem.\n",
    "        torch.nn.utils.clip_grad_norm_(model.parameters(), 1.0)\n",
    "\n",
    "        # Update parameters and take a step using the computed gradient.\n",
    "        # The optimizer dictates the \"update rule\"--how the parameters are\n",
    "        # modified based on their gradients, the learning rate, etc.\n",
    "        optimizer.step()\n",
    "\n",
    "        # Update the learning rate.\n",
    "        scheduler.step()\n",
    "\n",
    "    # Calculate the average loss over all of the batches.\n",
    "    avg_train_loss = total_train_loss / len(train_dataloader)            \n",
    "    \n",
    "    # Measure how long this epoch took.\n",
    "    training_time = format_time(time.time() - t0)\n",
    "\n",
    "    print(\"\")\n",
    "    print(\"  Average training loss: {0:.2f}\".format(avg_train_loss))\n",
    "    print(\"  Training epcoh took: {:}\".format(training_time))\n",
    "        \n",
    "    # ========================================\n",
    "    #               Validation\n",
    "    # ========================================\n",
    "    # After the completion of each training epoch, measure our performance on\n",
    "    # our validation set.\n",
    "\n",
    "    print(\"\")\n",
    "    print(\"Running Validation...\")\n",
    "\n",
    "    t0 = time.time()\n",
    "\n",
    "    # Put the model in evaluation mode--the dropout layers behave differently\n",
    "    # during evaluation.\n",
    "    model.eval()\n",
    "\n",
    "    # Tracking variables \n",
    "    total_eval_accuracy = 0\n",
    "    total_eval_loss = 0\n",
    "    nb_eval_steps = 0\n",
    "\n",
    "    # Evaluate data for one epoch\n",
    "    for batch in validation_dataloader:\n",
    "        \n",
    "        # Unpack this training batch from our dataloader. \n",
    "        #\n",
    "        # As we unpack the batch, we'll also copy each tensor to the GPU using \n",
    "        # the `to` method.\n",
    "        #\n",
    "        # `batch` contains three pytorch tensors:\n",
    "        #   [0]: input ids \n",
    "        #   [1]: attention masks\n",
    "        #   [2]: labels \n",
    "        b_input_ids = batch[0].to(device)\n",
    "        b_input_mask = batch[1].to(device)\n",
    "        b_labels = batch[2].to(device)\n",
    "        \n",
    "        # Tell pytorch not to bother with constructing the compute graph during\n",
    "        # the forward pass, since this is only needed for backprop (training).\n",
    "        with torch.no_grad():        \n",
    "\n",
    "            # Forward pass, calculate logit predictions.\n",
    "            # token_type_ids is the same as the \"segment ids\", which \n",
    "            # differentiates sentence 1 and 2 in 2-sentence tasks.\n",
    "            result = model(b_input_ids, \n",
    "                           token_type_ids=None, \n",
    "                           attention_mask=b_input_mask,\n",
    "                           labels=b_labels,\n",
    "                           return_dict=True)\n",
    "\n",
    "        # Get the loss and \"logits\" output by the model. The \"logits\" are the \n",
    "        # output values prior to applying an activation function like the \n",
    "        # softmax.\n",
    "        loss = result.loss\n",
    "        logits = result.logits\n",
    "            \n",
    "        # Accumulate the validation loss.\n",
    "        total_eval_loss += loss.item()\n",
    "\n",
    "        # Move logits and labels to CPU\n",
    "        logits = logits.detach().cpu().numpy()\n",
    "        label_ids = b_labels.to('cpu').numpy()\n",
    "\n",
    "        # Calculate the accuracy for this batch of test sentences, and\n",
    "        # accumulate it over all batches.\n",
    "        total_eval_accuracy += flat_accuracy(logits, label_ids)\n",
    "        \n",
    "\n",
    "    # Report the final accuracy for this validation run.\n",
    "    avg_val_accuracy = total_eval_accuracy / len(validation_dataloader)\n",
    "    print(\"  Accuracy: {0:.2f}\".format(avg_val_accuracy))\n",
    "\n",
    "    # Calculate the average loss over all of the batches.\n",
    "    avg_val_loss = total_eval_loss / len(validation_dataloader)\n",
    "    \n",
    "    # Measure how long the validation run took.\n",
    "    validation_time = format_time(time.time() - t0)\n",
    "    \n",
    "    print(\"  Validation Loss: {0:.2f}\".format(avg_val_loss))\n",
    "    print(\"  Validation took: {:}\".format(validation_time))\n",
    "\n",
    "    # Record all statistics from this epoch.\n",
    "    training_stats.append(\n",
    "        {\n",
    "            'epoch': epoch_i + 1,\n",
    "            'Training Loss': avg_train_loss,\n",
    "            'Valid. Loss': avg_val_loss,\n",
    "            'Valid. Accur.': avg_val_accuracy,\n",
    "            'Training Time': training_time,\n",
    "            'Validation Time': validation_time\n",
    "        }\n",
    "    )\n",
    "\n",
    "print(\"\")\n",
    "print(\"Training complete!\")\n",
    "\n",
    "print(\"Total training took {:} (h:mm:ss)\".format(format_time(time.time()-total_t0)))"
   ]
  },
  {
   "cell_type": "markdown",
   "metadata": {
    "cellId": "ly9tdk1mg6n602zpsp5is",
    "id": "VQTvJ1vRP7u4"
   },
   "source": [
    "Let's view the summary of the training process."
   ]
  },
  {
   "cell_type": "code",
   "execution_count": 426,
   "metadata": {
    "cellId": "xsqyj72ytdkr64ua4zfzl",
    "colab": {
     "base_uri": "https://localhost:8080/",
     "height": 195
    },
    "id": "6O_NbXFGMukX",
    "outputId": "a9e51eda-5eae-4800-87d5-8d016ff25bb2"
   },
   "outputs": [
    {
     "data": {
      "text/html": [
       "<div>\n",
       "<style scoped>\n",
       "    .dataframe tbody tr th:only-of-type {\n",
       "        vertical-align: middle;\n",
       "    }\n",
       "\n",
       "    .dataframe tbody tr th {\n",
       "        vertical-align: top;\n",
       "    }\n",
       "\n",
       "    .dataframe thead th {\n",
       "        text-align: right;\n",
       "    }\n",
       "</style>\n",
       "<table border=\"1\" class=\"dataframe\">\n",
       "  <thead>\n",
       "    <tr style=\"text-align: right;\">\n",
       "      <th></th>\n",
       "      <th>Training Loss</th>\n",
       "      <th>Valid. Loss</th>\n",
       "      <th>Valid. Accur.</th>\n",
       "      <th>Training Time</th>\n",
       "      <th>Validation Time</th>\n",
       "    </tr>\n",
       "    <tr>\n",
       "      <th>epoch</th>\n",
       "      <th></th>\n",
       "      <th></th>\n",
       "      <th></th>\n",
       "      <th></th>\n",
       "      <th></th>\n",
       "    </tr>\n",
       "  </thead>\n",
       "  <tbody>\n",
       "    <tr>\n",
       "      <th>1</th>\n",
       "      <td>0.54</td>\n",
       "      <td>0.42</td>\n",
       "      <td>0.81</td>\n",
       "      <td>0:00:27</td>\n",
       "      <td>0:00:01</td>\n",
       "    </tr>\n",
       "    <tr>\n",
       "      <th>2</th>\n",
       "      <td>0.36</td>\n",
       "      <td>0.40</td>\n",
       "      <td>0.83</td>\n",
       "      <td>0:00:26</td>\n",
       "      <td>0:00:01</td>\n",
       "    </tr>\n",
       "    <tr>\n",
       "      <th>3</th>\n",
       "      <td>0.27</td>\n",
       "      <td>0.41</td>\n",
       "      <td>0.84</td>\n",
       "      <td>0:00:26</td>\n",
       "      <td>0:00:01</td>\n",
       "    </tr>\n",
       "  </tbody>\n",
       "</table>\n",
       "</div>"
      ],
      "text/plain": [
       "       Training Loss  Valid. Loss  Valid. Accur. Training Time Validation Time\n",
       "epoch                                                                         \n",
       "1               0.54         0.42           0.81       0:00:27         0:00:01\n",
       "2               0.36         0.40           0.83       0:00:26         0:00:01\n",
       "3               0.27         0.41           0.84       0:00:26         0:00:01"
      ]
     },
     "metadata": {},
     "output_type": "display_data"
    }
   ],
   "source": [
    "#!g1.1\n",
    "import pandas as pd\n",
    "\n",
    "# Display floats with two decimal places.\n",
    "pd.set_option('precision', 2)\n",
    "\n",
    "# Create a DataFrame from our training statistics.\n",
    "df_stats = pd.DataFrame(data=training_stats)\n",
    "\n",
    "# Use the 'epoch' as the row index.\n",
    "df_stats = df_stats.set_index('epoch')\n",
    "\n",
    "# A hack to force the column headers to wrap.\n",
    "#df = df.style.set_table_styles([dict(selector=\"th\",props=[('max-width', '70px')])])\n",
    "\n",
    "# Display the table.\n",
    "df_stats"
   ]
  },
  {
   "cell_type": "code",
   "execution_count": 29,
   "metadata": {
    "cellId": "k9zyj6n878d3ys9is0gyku"
   },
   "outputs": [],
   "source": [
    "#!g1.1\n",
    "\n",
    "# сохраним модель!\n",
    "\n",
    "torch.save(model.state_dict(), 'amzn.bin')"
   ]
  },
  {
   "cell_type": "code",
   "execution_count": null,
   "metadata": {
    "cellId": "hs8fzt1gtbh0580g31mlc"
   },
   "outputs": [],
   "source": [
    "#!g1.1\n",
    "\n",
    "#загрузим модель\n",
    "\n",
    "device = torch.device(\"cuda\") \n",
    "#model = TheModelClass(args, *kwargs) \n",
    "model.load_state_dict(torch.load('../data/amzn.bin')) \n",
    "model.to(device)"
   ]
  },
  {
   "cell_type": "code",
   "execution_count": 427,
   "metadata": {
    "cellId": "yo3hba3sjdcplp76ip3qv",
    "colab": {
     "base_uri": "https://localhost:8080/",
     "height": 427
    },
    "id": "68xreA9JAmG5",
    "outputId": "70b8500d-7efc-4c99-de1f-05e8795e6298"
   },
   "outputs": [
    {
     "data": {
      "image/png": "[encoded data removed]",
      "text/plain": [
       "<Figure size 864x432 with 1 Axes>"
      ]
     },
     "metadata": {},
     "output_type": "display_data"
    }
   ],
   "source": [
    "#!g1.1\n",
    "import matplotlib.pyplot as plt\n",
    "%matplotlib inline\n",
    "\n",
    "import seaborn as sns\n",
    "\n",
    "# Use plot styling from seaborn.\n",
    "sns.set(style='darkgrid')\n",
    "\n",
    "# Increase the plot size and font size.\n",
    "sns.set(font_scale=1.5)\n",
    "plt.rcParams[\"figure.figsize\"] = (12,6)\n",
    "\n",
    "# Plot the learning curve.\n",
    "plt.plot(df_stats['Training Loss'], 'b-o', label=\"Training\")\n",
    "plt.plot(df_stats['Valid. Loss'], 'g-o', label=\"Validation\")\n",
    "\n",
    "# Label the plot.\n",
    "plt.title(\"Training & Validation Loss\")\n",
    "plt.xlabel(\"Epoch\")\n",
    "plt.ylabel(\"Loss\")\n",
    "plt.legend()\n",
    "plt.xticks([1, 2, 3, 4])\n",
    "\n",
    "plt.show()"
   ]
  },
  {
   "cell_type": "markdown",
   "metadata": {
    "cellId": "c6ihl02zkkd3klrsvlcosb",
    "id": "mkyubuJSOzg3"
   },
   "source": [
    "# 5. Performance On Test Set"
   ]
  },
  {
   "cell_type": "markdown",
   "metadata": {
    "cellId": "de3s75v75tom1mpybi35ba",
    "id": "Tg42jJqqM68F"
   },
   "source": [
    "### 5.1. Data Preparation\n"
   ]
  },
  {
   "cell_type": "markdown",
   "metadata": {
    "cellId": "pl9g4lgxyra35b2h2mkdzh",
    "id": "xWe0_JW21MyV"
   },
   "source": [
    "\n",
    "We'll need to apply all of the same steps that we did for the training data to prepare our test data set."
   ]
  },
  {
   "cell_type": "code",
   "execution_count": 429,
   "metadata": {
    "cellId": "617uf5lddvio95rmwnnqdb",
    "colab": {
     "base_uri": "https://localhost:8080/"
    },
    "id": "mAN0LZBOOPVh",
    "outputId": "7385ca3f-72d5-45f0-bbfe-5056c2f62c4f"
   },
   "outputs": [
    {
     "name": "stdout",
     "output_type": "stream",
     "text": [
      "Number of test sentences: 527\n",
      "\n"
     ]
    },
    {
     "name": "stderr",
     "output_type": "stream",
     "text": [
      "/home/jupyter/.local/lib/python3.7/site-packages/transformers/tokenization_utils_base.py:2227: FutureWarning: The `pad_to_max_length` argument is deprecated and will be removed in a future version, use `padding=True` or `padding='longest'` to pad to the longest sequence in the batch, or use `padding='max_length'` to pad to a max length. In this case, you can give a specific length with `max_length` (e.g. `max_length=45`) or leave max_length to None to pad to the maximal input size of the model (e.g. 512 for Bert).\n",
      "  FutureWarning,\n"
     ]
    }
   ],
   "source": [
    "#!g1.1\n",
    "import pandas as pd\n",
    "\n",
    "# Load the dataset into a pandas dataframe.\n",
    "\n",
    "\n",
    "# Report the number of sentences.\n",
    "print('Number of test sentences: {:,}\\n'.format(test_df.shape[0]))\n",
    "\n",
    "# Create sentence and label lists\n",
    "sentences = test_df.text.values\n",
    "labels = test_df.label.values\n",
    "\n",
    "# Tokenize all of the sentences and map the tokens to thier word IDs.\n",
    "input_ids = []\n",
    "attention_masks = []\n",
    "\n",
    "# For every sentence...\n",
    "for sent in sentences:\n",
    "    # `encode_plus` will:\n",
    "    #   (1) Tokenize the sentence.\n",
    "    #   (2) Prepend the `[CLS]` token to the start.\n",
    "    #   (3) Append the `[SEP]` token to the end.\n",
    "    #   (4) Map tokens to their IDs.\n",
    "    #   (5) Pad or truncate the sentence to `max_length`\n",
    "    #   (6) Create attention masks for [PAD] tokens.\n",
    "    encoded_dict = tokenizer.encode_plus(\n",
    "                        sent,                      # Sentence to encode.\n",
    "                        add_special_tokens = True, # Add '[CLS]' and '[SEP]'\n",
    "                        max_length = 64,           # Pad & truncate all sentences.  # max lenght IS SET TO 64!\n",
    "                        pad_to_max_length = True,\n",
    "                        return_attention_mask = True,   # Construct attn. masks.\n",
    "                        return_tensors = 'pt',     # Return pytorch tensors.\n",
    "                   )\n",
    "    \n",
    "    # Add the encoded sentence to the list.    \n",
    "    input_ids.append(encoded_dict['input_ids'])\n",
    "    \n",
    "    # And its attention mask (simply differentiates padding from non-padding).\n",
    "    attention_masks.append(encoded_dict['attention_mask'])\n",
    "\n",
    "# Convert the lists into tensors.\n",
    "input_ids = torch.cat(input_ids, dim=0)\n",
    "attention_masks = torch.cat(attention_masks, dim=0)\n",
    "labels = torch.tensor(labels)\n",
    "\n",
    "# Set the batch size.  \n",
    "batch_size = 144    #BATCH SIZE!\n",
    "\n",
    "# Create the DataLoader.\n",
    "prediction_data = TensorDataset(input_ids, attention_masks, labels)\n",
    "prediction_sampler = SequentialSampler(prediction_data)\n",
    "prediction_dataloader = DataLoader(prediction_data, sampler=prediction_sampler, batch_size=batch_size)"
   ]
  },
  {
   "cell_type": "markdown",
   "metadata": {
    "cellId": "0kiqap2yr79rvokzx7rxt",
    "id": "16lctEOyNFik"
   },
   "source": [
    "## 5.2. Evaluate on Test Set\n"
   ]
  },
  {
   "cell_type": "markdown",
   "metadata": {
    "cellId": "5828vkiyvxxmevpe3zc",
    "id": "rhR99IISNMg9"
   },
   "source": [
    "\n",
    "With the test set prepared, we can apply our fine-tuned model to generate predictions on the test set."
   ]
  },
  {
   "cell_type": "code",
   "execution_count": 430,
   "metadata": {
    "cellId": "23vn9npnejkj0euf9yvqb2r8",
    "colab": {
     "base_uri": "https://localhost:8080/"
    },
    "id": "Hba10sXR7Xi6",
    "outputId": "e35f0a6e-72c5-4bd0-9c4b-dcec9ef5059d"
   },
   "outputs": [
    {
     "name": "stdout",
     "output_type": "stream",
     "text": [
      "Predicting labels for 527 test sentences...\n",
      "    DONE.\n"
     ]
    }
   ],
   "source": [
    "#!g1.1\n",
    "# Prediction on test set\n",
    "\n",
    "print('Predicting labels for {:,} test sentences...'.format(len(input_ids)))\n",
    "\n",
    "# Put model in evaluation mode\n",
    "model.eval()\n",
    "\n",
    "# Tracking variables \n",
    "predictions , true_labels = [], []\n",
    "\n",
    "# Predict \n",
    "for batch in prediction_dataloader:\n",
    "  # Add batch to GPU\n",
    "  batch = tuple(t.to(device) for t in batch)\n",
    "  \n",
    "  # Unpack the inputs from our dataloader\n",
    "  b_input_ids, b_input_mask, b_labels = batch\n",
    "  \n",
    "  # Telling the model not to compute or store gradients, saving memory and \n",
    "  # speeding up prediction\n",
    "  with torch.no_grad():\n",
    "      # Forward pass, calculate logit predictions.\n",
    "      result = model(b_input_ids, \n",
    "                     token_type_ids=None, \n",
    "                     attention_mask=b_input_mask,\n",
    "                     return_dict=True)\n",
    "\n",
    "  logits = result.logits\n",
    "\n",
    "  # Move logits and labels to CPU\n",
    "  logits = logits.detach().cpu().numpy()\n",
    "  label_ids = b_labels.to('cpu').numpy()\n",
    "  \n",
    "  # Store predictions and true labels\n",
    "  predictions.append(logits)\n",
    "  true_labels.append(label_ids)\n",
    "\n",
    "print('    DONE.')"
   ]
  },
  {
   "cell_type": "markdown",
   "metadata": {
    "cellId": "j6vmw7av6948rt95g50v7",
    "id": "1YrjAPX2V-l4"
   },
   "source": [
    "Now we'll combine the results for all of the batches and calculate our final MCC score."
   ]
  },
  {
   "cell_type": "code",
   "execution_count": 431,
   "metadata": {
    "cellId": "zz5wgkkxip1zo9r77flcx",
    "colab": {
     "base_uri": "https://localhost:8080/"
    },
    "id": "oCYZa1lQ8Jn8",
    "outputId": "b4650298-0e35-4ed8-be13-83f074a617ed"
   },
   "outputs": [],
   "source": [
    "#!g1.1\n",
    "# Combine the results across all batches. \n",
    "flat_predictions = np.concatenate(predictions, axis=0)\n",
    "\n",
    "# For each sample, pick the label (0 or 1) with the higher score.\n",
    "flat_predictions = np.argmax(flat_predictions, axis=1).flatten()\n",
    "\n",
    "# Combine the correct labels for each batch into a single list.\n",
    "flat_true_labels = np.concatenate(true_labels, axis=0)\n",
    "\n",
    "\n"
   ]
  },
  {
   "cell_type": "code",
   "execution_count": 432,
   "metadata": {
    "cellId": "fox0ufcpgugxmqbbmoizcq"
   },
   "outputs": [
    {
     "data": {
      "text/plain": [
       "((527,), (527,))"
      ]
     },
     "metadata": {},
     "output_type": "display_data"
    }
   ],
   "source": [
    "#!g1.1\n",
    "flat_true_labels.shape, flat_predictions.shape"
   ]
  },
  {
   "cell_type": "code",
   "execution_count": 433,
   "metadata": {
    "cellId": "z1yzrc16djfb9x7vhxcot"
   },
   "outputs": [],
   "source": [
    "#!g1.1\n",
    "from sklearn.metrics import accuracy_score, f1_score, roc_auc_score, classification_report"
   ]
  },
  {
   "cell_type": "code",
   "execution_count": 435,
   "metadata": {
    "cellId": "8lqa42u22akhmdby0521h6"
   },
   "outputs": [
    {
     "name": "stdout",
     "output_type": "stream",
     "text": [
      "accuracy 0.825\n",
      "f1 0.77\n",
      "roc_auc 0.9\n"
     ]
    }
   ],
   "source": [
    "#!g1.1\n",
    "print('accuracy', np.round(accuracy_score(flat_true_labels, flat_predictions),3)) #качество на тесте\n",
    "print('f1', np.round(f1_score(flat_true_labels, flat_predictions, average='macro'),2)) #качество на тесте\n",
    "print('roc_auc', np.round(roc_auc_score(flat_true_labels, np.concatenate(predictions, axis=0)[:, 1]),2)) #качество на тесте"
   ]
  },
  {
   "cell_type": "markdown",
   "metadata": {
    "cellId": "cu7rnbbrkatqc9j0zys2fj"
   },
   "source": [
    "## Сравним результаты с лог-регом:"
   ]
  },
  {
   "cell_type": "code",
   "execution_count": 400,
   "metadata": {
    "cellId": "nmwqr01mfajdmff6vgfjs7"
   },
   "outputs": [
    {
     "name": "stdout",
     "output_type": "stream",
     "text": [
      "accuracy 0.693\n",
      "f1 0.409\n",
      "roc_auc 0.6\n"
     ]
    }
   ],
   "source": [
    "#!g1.1\n",
    "\n",
    "print('accuracy', np.round(accuracy_score(test_df['label'], clf.predict(X_valid_text)),3)) #качество на тесте\n",
    "print('f1', np.round(f1_score(test_df['label'], clf.predict(X_valid_text), average='macro'),3)) #качество на тесте\n",
    "print('roc_auc', np.round(roc_auc_score(test_df['label'], clf.predict_proba(X_valid_text)[:, 1]),2)) #качество на тесте"
   ]
  },
  {
   "cell_type": "code",
   "execution_count": null,
   "metadata": {
    "cellId": "lx0hoyrtm1ji8z0k1i3eo"
   },
   "outputs": [],
   "source": [
    "Мы видим, что Берт \"из коробки\"  помог получить качество намного лучшее, чем бейзлайн"
   ]
  },
  {
   "cell_type": "markdown",
   "metadata": {
    "cellId": "wx6epmkgtzn0lj9sclkiugh"
   },
   "source": [
    "## Проверим модель на робастность на основе адв примеров"
   ]
  },
  {
   "cell_type": "markdown",
   "metadata": {
    "cellId": "vrifsyxtk2q9ttnspxy2f"
   },
   "source": [
    "#!g1.1\n",
    "\n",
    "### Релизуем рецепт - textfooler"
   ]
  },
  {
   "cell_type": "code",
   "execution_count": 436,
   "metadata": {
    "cellId": "yu1vixstynsh6yyext8c"
   },
   "outputs": [
    {
     "name": "stderr",
     "output_type": "stream",
     "text": [
      "textattack: Unknown if model of class <class 'transformers.models.bert.modeling_bert.BertForSequenceClassification'> compatible with goal function <class 'textattack.goal_functions.classification.untargeted_classification.UntargetedClassification'>.\n"
     ]
    }
   ],
   "source": [
    "#!g1.1\n",
    "\n",
    "# обернем атаку\n",
    "\n",
    "import textattack\n",
    "from datasets import Dataset\n",
    "\n",
    "\n",
    "model_wrapper = textattack.models.wrappers.HuggingFaceModelWrapper(model, tokenizer)\n",
    "attack = textattack.attack_recipes.TextFoolerJin2019.build(model_wrapper)"
   ]
  },
  {
   "cell_type": "code",
   "execution_count": 437,
   "metadata": {
    "cellId": "gyyvvxm6ltk9p1wxrz58nj"
   },
   "outputs": [
    {
     "data": {
      "text/html": [
       "<div>\n",
       "<style scoped>\n",
       "    .dataframe tbody tr th:only-of-type {\n",
       "        vertical-align: middle;\n",
       "    }\n",
       "\n",
       "    .dataframe tbody tr th {\n",
       "        vertical-align: top;\n",
       "    }\n",
       "\n",
       "    .dataframe thead th {\n",
       "        text-align: right;\n",
       "    }\n",
       "</style>\n",
       "<table border=\"1\" class=\"dataframe\">\n",
       "  <thead>\n",
       "    <tr style=\"text-align: right;\">\n",
       "      <th></th>\n",
       "      <th>sentence_source</th>\n",
       "      <th>label</th>\n",
       "      <th>label_notes</th>\n",
       "      <th>text</th>\n",
       "    </tr>\n",
       "  </thead>\n",
       "  <tbody>\n",
       "    <tr>\n",
       "      <th>0</th>\n",
       "      <td>gj04</td>\n",
       "      <td>1</td>\n",
       "      <td>NaN</td>\n",
       "      <td>The sailors rode the breeze clear of the rocks.</td>\n",
       "    </tr>\n",
       "    <tr>\n",
       "      <th>1</th>\n",
       "      <td>gj04</td>\n",
       "      <td>1</td>\n",
       "      <td>NaN</td>\n",
       "      <td>The weights made the rope stretch over the pul...</td>\n",
       "    </tr>\n",
       "    <tr>\n",
       "      <th>2</th>\n",
       "      <td>gj04</td>\n",
       "      <td>1</td>\n",
       "      <td>NaN</td>\n",
       "      <td>The mechanical doll wriggled itself loose.</td>\n",
       "    </tr>\n",
       "    <tr>\n",
       "      <th>3</th>\n",
       "      <td>cj99</td>\n",
       "      <td>1</td>\n",
       "      <td>NaN</td>\n",
       "      <td>If you had eaten more, you would want less.</td>\n",
       "    </tr>\n",
       "    <tr>\n",
       "      <th>4</th>\n",
       "      <td>cj99</td>\n",
       "      <td>0</td>\n",
       "      <td>*</td>\n",
       "      <td>As you eat the most, you want the least.</td>\n",
       "    </tr>\n",
       "  </tbody>\n",
       "</table>\n",
       "</div>"
      ],
      "text/plain": [
       "  sentence_source  label label_notes  \\\n",
       "0            gj04      1         NaN   \n",
       "1            gj04      1         NaN   \n",
       "2            gj04      1         NaN   \n",
       "3            cj99      1         NaN   \n",
       "4            cj99      0           *   \n",
       "\n",
       "                                                text  \n",
       "0    The sailors rode the breeze clear of the rocks.  \n",
       "1  The weights made the rope stretch over the pul...  \n",
       "2         The mechanical doll wriggled itself loose.  \n",
       "3        If you had eaten more, you would want less.  \n",
       "4           As you eat the most, you want the least.  "
      ]
     },
     "metadata": {},
     "output_type": "display_data"
    }
   ],
   "source": [
    "#!g1.1\n",
    "test_df.head()"
   ]
  },
  {
   "cell_type": "code",
   "execution_count": 438,
   "metadata": {
    "cellId": "5qg5bn8nji77ygqkorkloj"
   },
   "outputs": [],
   "source": [
    "#!g1.1\n",
    "\n",
    "dataset = Dataset.from_pandas(test_df[['text', 'label']])\n",
    "\n",
    "dataset = textattack.datasets.HuggingFaceDataset(dataset, dataset_columns = (['text'], 'label'))\n"
   ]
  },
  {
   "cell_type": "code",
   "execution_count": 442,
   "metadata": {
    "cellId": "s3ek2py74noaco1v6fqfdi"
   },
   "outputs": [],
   "source": [
    "#!g1.1\n",
    "attack_args = textattack.AttackArgs(num_examples=-1, log_to_csv=\"logColaTfooler.csv\", checkpoint_interval=20, checkpoint_dir=\"checkpoints\", disable_stdout=True)\n"
   ]
  },
  {
   "cell_type": "code",
   "execution_count": 443,
   "metadata": {
    "cellId": "rwc5un4j6dapsge9ihad"
   },
   "outputs": [],
   "source": [
    "#!g1.1\n",
    "attacker = textattack.Attacker(attack, dataset, attack_args)\n",
    "\n",
    "# что на вход можно подавать в качестве аргумента для датасета? туториал подсказывает, что нужно сначала загрузить датасет в библиотеку"
   ]
  },
  {
   "cell_type": "code",
   "execution_count": 444,
   "metadata": {
    "cellId": "st9b05066gpy4goxdgw99"
   },
   "outputs": [
    {
     "name": "stdout",
     "output_type": "stream",
     "text": [
      "Attack(\n",
      "  (search_method): GreedyWordSwapWIR(\n",
      "    (wir_method):  delete\n",
      "  )\n",
      "  (goal_function):  UntargetedClassification\n",
      "  (transformation):  WordSwapEmbedding(\n",
      "    (max_candidates):  50\n",
      "    (embedding):  WordEmbedding\n",
      "  )\n",
      "  (constraints): \n",
      "    (0): WordEmbeddingDistance(\n",
      "        (embedding):  WordEmbedding\n",
      "        (min_cos_sim):  0.5\n",
      "        (cased):  False\n",
      "        (include_unknown_words):  True\n",
      "        (compare_against_original):  True\n",
      "      )\n",
      "    (1): PartOfSpeech(\n",
      "        (tagger_type):  nltk\n",
      "        (tagset):  universal\n",
      "        (allow_verb_noun_swap):  True\n",
      "        (compare_against_original):  True\n",
      "      )\n",
      "    (2): UniversalSentenceEncoder(\n",
      "        (metric):  angular\n",
      "        (threshold):  0.840845057\n",
      "        (window_size):  15\n",
      "        (skip_text_shorter_than_window):  True\n",
      "        (compare_against_original):  False\n",
      "      )\n",
      "    (3): RepeatModification\n",
      "    (4): StopwordModification\n",
      "    (5): InputColumnModification(\n",
      "        (matching_column_labels):  ['premise', 'hypothesis']\n",
      "        (columns_to_ignore):  {'premise'}\n",
      "      )\n",
      "  (is_black_box):  True\n",
      ") \n",
      "\n"
     ]
    },
    {
     "name": "stderr",
     "output_type": "stream",
     "text": [
      "textattack: Logging to CSV at path logColaTfooler.csv\n",
      "[Succeeded / Failed / Skipped / Total] 15 / 0 / 5 / 20:   4%|▍         | 20/527 [00:06<02:51,  2.95it/s]textattack: Saving checkpoint under \"checkpoints/1640774532810.ta.chkpt\" at 2021-12-29 10:42:12 after 20 attacks.\n"
     ]
    },
    {
     "name": "stdout",
     "output_type": "stream",
     "text": [
      "\n",
      "\n",
      "=============================================================================================================================\n",
      "=============================================================================================================================\n",
      "\n"
     ]
    },
    {
     "name": "stderr",
     "output_type": "stream",
     "text": [
      "[Succeeded / Failed / Skipped / Total] 28 / 0 / 12 / 40:   8%|▊         | 40/527 [00:12<02:27,  3.30it/s]textattack: Saving checkpoint under \"checkpoints/1640774538143.ta.chkpt\" at 2021-12-29 10:42:18 after 40 attacks.\n"
     ]
    },
    {
     "name": "stdout",
     "output_type": "stream",
     "text": [
      "\n",
      "\n",
      "=============================================================================================================================\n",
      "=============================================================================================================================\n",
      "\n"
     ]
    },
    {
     "name": "stderr",
     "output_type": "stream",
     "text": [
      "[Succeeded / Failed / Skipped / Total] 43 / 1 / 16 / 60:  11%|█▏        | 60/527 [00:22<02:54,  2.67it/s]textattack: Saving checkpoint under \"checkpoints/1640774548468.ta.chkpt\" at 2021-12-29 10:42:28 after 60 attacks.\n"
     ]
    },
    {
     "name": "stdout",
     "output_type": "stream",
     "text": [
      "\n",
      "\n",
      "=============================================================================================================================\n",
      "=============================================================================================================================\n",
      "\n"
     ]
    },
    {
     "name": "stderr",
     "output_type": "stream",
     "text": [
      "[Succeeded / Failed / Skipped / Total] 57 / 1 / 22 / 80:  15%|█▌        | 80/527 [00:31<02:53,  2.58it/s]textattack: Saving checkpoint under \"checkpoints/1640774557053.ta.chkpt\" at 2021-12-29 10:42:37 after 80 attacks.\n"
     ]
    },
    {
     "name": "stdout",
     "output_type": "stream",
     "text": [
      "\n",
      "\n",
      "=============================================================================================================================\n",
      "=============================================================================================================================\n",
      "\n"
     ]
    },
    {
     "name": "stderr",
     "output_type": "stream",
     "text": [
      "[Succeeded / Failed / Skipped / Total] 71 / 2 / 27 / 100:  19%|█▉        | 100/527 [00:39<02:49,  2.52it/s]textattack: Saving checkpoint under \"checkpoints/1640774565780.ta.chkpt\" at 2021-12-29 10:42:45 after 100 attacks.\n",
      "[Succeeded / Failed / Skipped / Total] 72 / 2 / 28 / 102:  19%|█▉        | 102/527 [00:39<02:46,  2.55it/s]"
     ]
    },
    {
     "name": "stdout",
     "output_type": "stream",
     "text": [
      "\n",
      "\n",
      "=============================================================================================================================\n",
      "=============================================================================================================================\n",
      "\n"
     ]
    },
    {
     "name": "stderr",
     "output_type": "stream",
     "text": [
      "[Succeeded / Failed / Skipped / Total] 85 / 4 / 31 / 120:  23%|██▎       | 120/527 [00:48<02:45,  2.46it/s]textattack: Saving checkpoint under \"checkpoints/1640774574837.ta.chkpt\" at 2021-12-29 10:42:54 after 120 attacks.\n"
     ]
    },
    {
     "name": "stdout",
     "output_type": "stream",
     "text": [
      "\n",
      "\n",
      "=============================================================================================================================\n",
      "=============================================================================================================================\n",
      "\n"
     ]
    },
    {
     "name": "stderr",
     "output_type": "stream",
     "text": [
      "[Succeeded / Failed / Skipped / Total] 101 / 4 / 34 / 139:  26%|██▋       | 139/527 [00:58<02:42,  2.39it/s]"
     ]
    },
    {
     "name": "stdout",
     "output_type": "stream",
     "text": [
      "\n",
      "\n",
      "=============================================================================================================================\n",
      "=============================================================================================================================\n",
      "\n"
     ]
    },
    {
     "name": "stderr",
     "output_type": "stream",
     "text": [
      "[Succeeded / Failed / Skipped / Total] 102 / 4 / 34 / 140:  27%|██▋       | 140/527 [00:58<02:42,  2.39it/s]textattack: Saving checkpoint under \"checkpoints/1640774584715.ta.chkpt\" at 2021-12-29 10:43:04 after 140 attacks.\n",
      "[Succeeded / Failed / Skipped / Total] 121 / 4 / 35 / 160:  30%|███       | 160/527 [01:07<02:35,  2.35it/s]textattack: Saving checkpoint under \"checkpoints/1640774593981.ta.chkpt\" at 2021-12-29 10:43:13 after 160 attacks.\n",
      "[Succeeded / Failed / Skipped / Total] 121 / 4 / 37 / 162:  31%|███       | 162/527 [01:07<02:33,  2.38it/s]"
     ]
    },
    {
     "name": "stdout",
     "output_type": "stream",
     "text": [
      "\n",
      "\n",
      "=============================================================================================================================\n",
      "=============================================================================================================================\n",
      "\n"
     ]
    },
    {
     "name": "stderr",
     "output_type": "stream",
     "text": [
      "[Succeeded / Failed / Skipped / Total] 138 / 4 / 38 / 180:  34%|███▍      | 180/527 [01:18<02:30,  2.31it/s]textattack: Saving checkpoint under \"checkpoints/1640774604041.ta.chkpt\" at 2021-12-29 10:43:24 after 180 attacks.\n"
     ]
    },
    {
     "name": "stdout",
     "output_type": "stream",
     "text": [
      "\n",
      "\n",
      "=============================================================================================================================\n",
      "=============================================================================================================================\n",
      "\n"
     ]
    },
    {
     "name": "stderr",
     "output_type": "stream",
     "text": [
      "[Succeeded / Failed / Skipped / Total] 153 / 4 / 43 / 200:  38%|███▊      | 200/527 [01:25<02:19,  2.35it/s]textattack: Saving checkpoint under \"checkpoints/1640774611317.ta.chkpt\" at 2021-12-29 10:43:31 after 200 attacks.\n"
     ]
    },
    {
     "name": "stdout",
     "output_type": "stream",
     "text": [
      "\n",
      "\n",
      "=============================================================================================================================\n",
      "=============================================================================================================================\n",
      "\n"
     ]
    },
    {
     "name": "stderr",
     "output_type": "stream",
     "text": [
      "[Succeeded / Failed / Skipped / Total] 170 / 4 / 46 / 220:  42%|████▏     | 220/527 [01:33<02:11,  2.34it/s]textattack: Saving checkpoint under \"checkpoints/1640774620007.ta.chkpt\" at 2021-12-29 10:43:40 after 220 attacks.\n",
      "[Succeeded / Failed / Skipped / Total] 170 / 4 / 47 / 221:  42%|████▏     | 221/527 [01:34<02:10,  2.35it/s]"
     ]
    },
    {
     "name": "stdout",
     "output_type": "stream",
     "text": [
      "\n",
      "\n",
      "=============================================================================================================================\n",
      "=============================================================================================================================\n",
      "\n"
     ]
    },
    {
     "name": "stderr",
     "output_type": "stream",
     "text": [
      "[Succeeded / Failed / Skipped / Total] 187 / 5 / 48 / 240:  46%|████▌     | 240/527 [01:43<02:03,  2.32it/s]textattack: Saving checkpoint under \"checkpoints/1640774629568.ta.chkpt\" at 2021-12-29 10:43:49 after 240 attacks.\n"
     ]
    },
    {
     "name": "stdout",
     "output_type": "stream",
     "text": [
      "\n",
      "\n",
      "=============================================================================================================================\n",
      "=============================================================================================================================\n",
      "\n"
     ]
    },
    {
     "name": "stderr",
     "output_type": "stream",
     "text": [
      "[Succeeded / Failed / Skipped / Total] 207 / 5 / 48 / 260:  49%|████▉     | 260/527 [01:52<01:56,  2.30it/s]textattack: Saving checkpoint under \"checkpoints/1640774639030.ta.chkpt\" at 2021-12-29 10:43:59 after 260 attacks.\n"
     ]
    },
    {
     "name": "stdout",
     "output_type": "stream",
     "text": [
      "\n",
      "\n",
      "=============================================================================================================================\n",
      "=============================================================================================================================\n",
      "\n"
     ]
    },
    {
     "name": "stderr",
     "output_type": "stream",
     "text": [
      "[Succeeded / Failed / Skipped / Total] 219 / 5 / 56 / 280:  53%|█████▎    | 280/527 [01:59<01:45,  2.35it/s]textattack: Saving checkpoint under \"checkpoints/1640774645102.ta.chkpt\" at 2021-12-29 10:44:05 after 280 attacks.\n",
      "[Succeeded / Failed / Skipped / Total] 219 / 5 / 57 / 281:  53%|█████▎    | 281/527 [01:59<01:44,  2.36it/s]"
     ]
    },
    {
     "name": "stdout",
     "output_type": "stream",
     "text": [
      "\n",
      "\n",
      "=============================================================================================================================\n",
      "=============================================================================================================================\n",
      "\n"
     ]
    },
    {
     "name": "stderr",
     "output_type": "stream",
     "text": [
      "[Succeeded / Failed / Skipped / Total] 236 / 5 / 59 / 300:  57%|█████▋    | 300/527 [02:07<01:36,  2.35it/s]textattack: Saving checkpoint under \"checkpoints/1640774653567.ta.chkpt\" at 2021-12-29 10:44:13 after 300 attacks.\n"
     ]
    },
    {
     "name": "stdout",
     "output_type": "stream",
     "text": [
      "\n",
      "\n",
      "=============================================================================================================================\n",
      "=============================================================================================================================\n",
      "\n"
     ]
    },
    {
     "name": "stderr",
     "output_type": "stream",
     "text": [
      "[Succeeded / Failed / Skipped / Total] 252 / 5 / 63 / 320:  61%|██████    | 320/527 [02:14<01:27,  2.37it/s]textattack: Saving checkpoint under \"checkpoints/1640774660854.ta.chkpt\" at 2021-12-29 10:44:20 after 320 attacks.\n"
     ]
    },
    {
     "name": "stdout",
     "output_type": "stream",
     "text": [
      "\n",
      "\n",
      "=============================================================================================================================\n",
      "=============================================================================================================================\n",
      "\n"
     ]
    },
    {
     "name": "stderr",
     "output_type": "stream",
     "text": [
      "[Succeeded / Failed / Skipped / Total] 267 / 5 / 68 / 340:  65%|██████▍   | 340/527 [02:22<01:18,  2.39it/s]textattack: Saving checkpoint under \"checkpoints/1640774668327.ta.chkpt\" at 2021-12-29 10:44:28 after 340 attacks.\n"
     ]
    },
    {
     "name": "stdout",
     "output_type": "stream",
     "text": [
      "\n",
      "\n",
      "=============================================================================================================================\n",
      "=============================================================================================================================\n",
      "\n"
     ]
    },
    {
     "name": "stderr",
     "output_type": "stream",
     "text": [
      "[Succeeded / Failed / Skipped / Total] 284 / 8 / 68 / 360:  68%|██████▊   | 360/527 [02:36<01:12,  2.30it/s]textattack: Saving checkpoint under \"checkpoints/1640774682817.ta.chkpt\" at 2021-12-29 10:44:42 after 360 attacks.\n"
     ]
    },
    {
     "name": "stdout",
     "output_type": "stream",
     "text": [
      "\n",
      "\n",
      "=============================================================================================================================\n",
      "=============================================================================================================================\n",
      "\n"
     ]
    },
    {
     "name": "stderr",
     "output_type": "stream",
     "text": [
      "[Succeeded / Failed / Skipped / Total] 301 / 9 / 70 / 380:  72%|███████▏  | 380/527 [02:48<01:05,  2.25it/s]textattack: Saving checkpoint under \"checkpoints/1640774694794.ta.chkpt\" at 2021-12-29 10:44:54 after 380 attacks.\n"
     ]
    },
    {
     "name": "stdout",
     "output_type": "stream",
     "text": [
      "\n",
      "\n",
      "=============================================================================================================================\n",
      "=============================================================================================================================\n",
      "\n"
     ]
    },
    {
     "name": "stderr",
     "output_type": "stream",
     "text": [
      "[Succeeded / Failed / Skipped / Total] 317 / 9 / 74 / 400:  76%|███████▌  | 400/527 [02:56<00:55,  2.27it/s]textattack: Saving checkpoint under \"checkpoints/1640774702092.ta.chkpt\" at 2021-12-29 10:45:02 after 400 attacks.\n"
     ]
    },
    {
     "name": "stdout",
     "output_type": "stream",
     "text": [
      "\n",
      "\n",
      "=============================================================================================================================\n",
      "=============================================================================================================================\n",
      "\n"
     ]
    },
    {
     "name": "stderr",
     "output_type": "stream",
     "text": [
      "[Succeeded / Failed / Skipped / Total] 335 / 9 / 76 / 420:  80%|███████▉  | 420/527 [03:05<00:47,  2.26it/s]textattack: Saving checkpoint under \"checkpoints/1640774711550.ta.chkpt\" at 2021-12-29 10:45:11 after 420 attacks.\n"
     ]
    },
    {
     "name": "stdout",
     "output_type": "stream",
     "text": [
      "\n",
      "\n",
      "=============================================================================================================================\n",
      "=============================================================================================================================\n",
      "\n"
     ]
    },
    {
     "name": "stderr",
     "output_type": "stream",
     "text": [
      "[Succeeded / Failed / Skipped / Total] 353 / 9 / 78 / 440:  83%|████████▎ | 440/527 [03:16<00:38,  2.23it/s]textattack: Saving checkpoint under \"checkpoints/1640774722910.ta.chkpt\" at 2021-12-29 10:45:22 after 440 attacks.\n"
     ]
    },
    {
     "name": "stdout",
     "output_type": "stream",
     "text": [
      "\n",
      "\n",
      "=============================================================================================================================\n",
      "=============================================================================================================================\n",
      "\n"
     ]
    },
    {
     "name": "stderr",
     "output_type": "stream",
     "text": [
      "[Succeeded / Failed / Skipped / Total] 369 / 9 / 82 / 460:  87%|████████▋ | 460/527 [03:25<00:29,  2.24it/s]textattack: Saving checkpoint under \"checkpoints/1640774731648.ta.chkpt\" at 2021-12-29 10:45:31 after 460 attacks.\n",
      "[Succeeded / Failed / Skipped / Total] 369 / 9 / 83 / 461:  87%|████████▋ | 461/527 [03:25<00:29,  2.24it/s]"
     ]
    },
    {
     "name": "stdout",
     "output_type": "stream",
     "text": [
      "\n",
      "\n",
      "=============================================================================================================================\n",
      "=============================================================================================================================\n",
      "\n"
     ]
    },
    {
     "name": "stderr",
     "output_type": "stream",
     "text": [
      "[Succeeded / Failed / Skipped / Total] 382 / 12 / 86 / 480:  91%|█████████ | 480/527 [03:32<00:20,  2.26it/s]textattack: Saving checkpoint under \"checkpoints/1640774738797.ta.chkpt\" at 2021-12-29 10:45:38 after 480 attacks.\n",
      "[Succeeded / Failed / Skipped / Total] 382 / 12 / 87 / 481:  91%|█████████▏| 481/527 [03:32<00:20,  2.26it/s]"
     ]
    },
    {
     "name": "stdout",
     "output_type": "stream",
     "text": [
      "\n",
      "\n",
      "=============================================================================================================================\n",
      "=============================================================================================================================\n",
      "\n"
     ]
    },
    {
     "name": "stderr",
     "output_type": "stream",
     "text": [
      "[Succeeded / Failed / Skipped / Total] 399 / 13 / 88 / 500:  95%|█████████▍| 500/527 [03:42<00:12,  2.24it/s]textattack: Saving checkpoint under \"checkpoints/1640774748892.ta.chkpt\" at 2021-12-29 10:45:48 after 500 attacks.\n"
     ]
    },
    {
     "name": "stdout",
     "output_type": "stream",
     "text": [
      "\n",
      "\n",
      "=============================================================================================================================\n",
      "=============================================================================================================================\n",
      "\n"
     ]
    },
    {
     "name": "stderr",
     "output_type": "stream",
     "text": [
      "[Succeeded / Failed / Skipped / Total] 414 / 15 / 91 / 520:  99%|█████████▊| 520/527 [03:52<00:03,  2.24it/s]textattack: Saving checkpoint under \"checkpoints/1640774758050.ta.chkpt\" at 2021-12-29 10:45:58 after 520 attacks.\n"
     ]
    },
    {
     "name": "stdout",
     "output_type": "stream",
     "text": [
      "\n",
      "\n",
      "=============================================================================================================================\n",
      "=============================================================================================================================\n",
      "\n"
     ]
    },
    {
     "name": "stderr",
     "output_type": "stream",
     "text": [
      "[Succeeded / Failed / Skipped / Total] 419 / 15 / 92 / 526: 100%|█████████▉| 526/527 [03:54<00:00,  2.24it/s]"
     ]
    },
    {
     "name": "stdout",
     "output_type": "stream",
     "text": [
      "\n",
      "+-------------------------------+--------+\n",
      "| Attack Results                |        |\n",
      "+-------------------------------+--------+\n",
      "| Number of successful attacks: | 420    |\n",
      "| Number of failed attacks:     | 15     |\n",
      "| Number of skipped attacks:    | 92     |\n",
      "| Original accuracy:            | 82.54% |\n",
      "| Accuracy under attack:        | 2.85%  |\n",
      "| Attack success rate:          | 96.55% |\n",
      "| Average perturbed word %:     | 18.92% |\n",
      "| Average num. words per input: | 7.54   |\n",
      "| Avg num queries:              | 47.14  |\n",
      "+-------------------------------+--------+\n",
      "CPU times: user 2min 43s, sys: 1min 19s, total: 4min 2s\n",
      "Wall time: 3min 54s\n"
     ]
    },
    {
     "name": "stderr",
     "output_type": "stream",
     "text": [
      "[Succeeded / Failed / Skipped / Total] 420 / 15 / 92 / 527: 100%|██████████| 527/527 [03:54<00:00,  2.24it/s]\n"
     ]
    },
    {
     "data": {
      "text/plain": [
       "[<textattack.attack_results.successful_attack_result.SuccessfulAttackResult at 0x7f7aa0329710>,\n",
       " <textattack.attack_results.successful_attack_result.SuccessfulAttackResult at 0x7f7aaa26c5d0>,\n",
       " <textattack.attack_results.successful_attack_result.SuccessfulAttackResult at 0x7f7c6271a490>,\n",
       " <textattack.attack_results.successful_attack_result.SuccessfulAttackResult at 0x7f7aaa0927d0>,\n",
       " <textattack.attack_results.skipped_attack_result.SkippedAttackResult at 0x7f7aa9449ed0>,\n",
       " <textattack.attack_results.skipped_attack_result.SkippedAttackResult at 0x7f7c68a888d0>,\n",
       " <textattack.attack_results.skipped_attack_result.SkippedAttackResult at 0x7f7aa21b3910>,\n",
       " <textattack.attack_results.successful_attack_result.SuccessfulAttackResult at 0x7f7aaa02a5d0>,\n",
       " <textattack.attack_results.successful_attack_result.SuccessfulAttackResult at 0x7f7a9d5630d0>,\n",
       " <textattack.attack_results.successful_attack_result.SuccessfulAttackResult at 0x7f7aaa13c4d0>,\n",
       " <textattack.attack_results.successful_attack_result.SuccessfulAttackResult at 0x7f7a9c9b2790>,\n",
       " <textattack.attack_results.successful_attack_result.SuccessfulAttackResult at 0x7f7a9d563410>,\n",
       " <textattack.attack_results.successful_attack_result.SuccessfulAttackResult at 0x7f7a9c351c50>,\n",
       " <textattack.attack_results.skipped_attack_result.SkippedAttackResult at 0x7f77953c9f90>,\n",
       " <textattack.attack_results.successful_attack_result.SuccessfulAttackResult at 0x7f7aaa004d90>,\n",
       " <textattack.attack_results.successful_attack_result.SuccessfulAttackResult at 0x7f7aaa0e0d10>,\n",
       " <textattack.attack_results.skipped_attack_result.SkippedAttackResult at 0x7f77953c96d0>,\n",
       " <textattack.attack_results.successful_attack_result.SuccessfulAttackResult at 0x7f7ab91e4490>,\n",
       " <textattack.attack_results.successful_attack_result.SuccessfulAttackResult at 0x7f7aa966abd0>,\n",
       " <textattack.attack_results.successful_attack_result.SuccessfulAttackResult at 0x7f7aaa258ad0>,\n",
       " <textattack.attack_results.successful_attack_result.SuccessfulAttackResult at 0x7f7aa1bf7e50>,\n",
       " <textattack.attack_results.successful_attack_result.SuccessfulAttackResult at 0x7f7898d1ca90>,\n",
       " <textattack.attack_results.successful_attack_result.SuccessfulAttackResult at 0x7f7ab91e4450>,\n",
       " <textattack.attack_results.skipped_attack_result.SkippedAttackResult at 0x7f7ab91e4690>,\n",
       " <textattack.attack_results.successful_attack_result.SuccessfulAttackResult at 0x7f7aa9464f90>,\n",
       " <textattack.attack_results.successful_attack_result.SuccessfulAttackResult at 0x7f7898d1cb90>,\n",
       " <textattack.attack_results.successful_attack_result.SuccessfulAttackResult at 0x7f7aaa11f450>,\n",
       " <textattack.attack_results.successful_attack_result.SuccessfulAttackResult at 0x7f7aa966a3d0>,\n",
       " <textattack.attack_results.skipped_attack_result.SkippedAttackResult at 0x7f7c68a9de90>,\n",
       " <textattack.attack_results.skipped_attack_result.SkippedAttackResult at 0x7f7c68a9d250>,\n",
       " <textattack.attack_results.successful_attack_result.SuccessfulAttackResult at 0x7f7c68a9d810>,\n",
       " <textattack.attack_results.successful_attack_result.SuccessfulAttackResult at 0x7f7aa99851d0>,\n",
       " <textattack.attack_results.skipped_attack_result.SkippedAttackResult at 0x7f7aa9985190>,\n",
       " <textattack.attack_results.skipped_attack_result.SkippedAttackResult at 0x7f7aa9985550>,\n",
       " <textattack.attack_results.skipped_attack_result.SkippedAttackResult at 0x7f7aa1420410>,\n",
       " <textattack.attack_results.successful_attack_result.SuccessfulAttackResult at 0x7f7aa1420e50>,\n",
       " <textattack.attack_results.successful_attack_result.SuccessfulAttackResult at 0x7f7aa8d41550>,\n",
       " <textattack.attack_results.successful_attack_result.SuccessfulAttackResult at 0x7f7aaa2444d0>,\n",
       " <textattack.attack_results.successful_attack_result.SuccessfulAttackResult at 0x7f7aa9985f10>,\n",
       " <textattack.attack_results.skipped_attack_result.SkippedAttackResult at 0x7f7a9cbeda50>,\n",
       " <textattack.attack_results.successful_attack_result.SuccessfulAttackResult at 0x7f7aaa113e10>,\n",
       " <textattack.attack_results.skipped_attack_result.SkippedAttackResult at 0x7f7aa1420f50>,\n",
       " <textattack.attack_results.successful_attack_result.SuccessfulAttackResult at 0x7f7aa8d41c50>,\n",
       " <textattack.attack_results.successful_attack_result.SuccessfulAttackResult at 0x7f7ab3d64650>,\n",
       " <textattack.attack_results.successful_attack_result.SuccessfulAttackResult at 0x7f7aaa468d90>,\n",
       " <textattack.attack_results.failed_attack_result.FailedAttackResult at 0x7f7ab74c3d90>,\n",
       " <textattack.attack_results.successful_attack_result.SuccessfulAttackResult at 0x7f7aa961c090>,\n",
       " <textattack.attack_results.skipped_attack_result.SkippedAttackResult at 0x7f7aa961c810>,\n",
       " <textattack.attack_results.successful_attack_result.SuccessfulAttackResult at 0x7f7ab3d5dd10>,\n",
       " <textattack.attack_results.successful_attack_result.SuccessfulAttackResult at 0x7f7a9cbed090>,\n",
       " <textattack.attack_results.successful_attack_result.SuccessfulAttackResult at 0x7f7aaa10e510>,\n",
       " <textattack.attack_results.skipped_attack_result.SkippedAttackResult at 0x7f7aaa10e290>,\n",
       " <textattack.attack_results.successful_attack_result.SuccessfulAttackResult at 0x7f7ab3d575d0>,\n",
       " <textattack.attack_results.successful_attack_result.SuccessfulAttackResult at 0x7f7aaa13e290>,\n",
       " <textattack.attack_results.successful_attack_result.SuccessfulAttackResult at 0x7f7aa8253e50>,\n",
       " <textattack.attack_results.successful_attack_result.SuccessfulAttackResult at 0x7f7ab67bd2d0>,\n",
       " <textattack.attack_results.successful_attack_result.SuccessfulAttackResult at 0x7f7aa97a5f90>,\n",
       " <textattack.attack_results.skipped_attack_result.SkippedAttackResult at 0x7f7aa97a5610>,\n",
       " <textattack.attack_results.successful_attack_result.SuccessfulAttackResult at 0x7f7ab1fcbd10>,\n",
       " <textattack.attack_results.successful_attack_result.SuccessfulAttackResult at 0x7f7ab27e6850>,\n",
       " <textattack.attack_results.successful_attack_result.SuccessfulAttackResult at 0x7f7af4a4f450>,\n",
       " <textattack.attack_results.successful_attack_result.SuccessfulAttackResult at 0x7f7aa99a4710>,\n",
       " <textattack.attack_results.skipped_attack_result.SkippedAttackResult at 0x7f7aa99a4350>,\n",
       " <textattack.attack_results.successful_attack_result.SuccessfulAttackResult at 0x7f7ab3d57850>,\n",
       " <textattack.attack_results.successful_attack_result.SuccessfulAttackResult at 0x7f7aa9974a50>,\n",
       " <textattack.attack_results.successful_attack_result.SuccessfulAttackResult at 0x7f7aa99964d0>,\n",
       " <textattack.attack_results.successful_attack_result.SuccessfulAttackResult at 0x7f7aaa11fe10>,\n",
       " <textattack.attack_results.skipped_attack_result.SkippedAttackResult at 0x7f7aaa13eb50>,\n",
       " <textattack.attack_results.skipped_attack_result.SkippedAttackResult at 0x7f7af4a4f590>,\n",
       " <textattack.attack_results.successful_attack_result.SuccessfulAttackResult at 0x7f7ab74fe310>,\n",
       " <textattack.attack_results.successful_attack_result.SuccessfulAttackResult at 0x7f7aa97a5dd0>,\n",
       " <textattack.attack_results.successful_attack_result.SuccessfulAttackResult at 0x7f7ab6793e10>,\n",
       " <textattack.attack_results.successful_attack_result.SuccessfulAttackResult at 0x7f7aaa124ad0>,\n",
       " <textattack.attack_results.successful_attack_result.SuccessfulAttackResult at 0x7f7aa8279310>,\n",
       " <textattack.attack_results.successful_attack_result.SuccessfulAttackResult at 0x7f7ab74c3350>,\n",
       " <textattack.attack_results.skipped_attack_result.SkippedAttackResult at 0x7f7aa9996150>,\n",
       " <textattack.attack_results.skipped_attack_result.SkippedAttackResult at 0x7f7ab74c3210>,\n",
       " <textattack.attack_results.successful_attack_result.SuccessfulAttackResult at 0x7f7ab6793890>,\n",
       " <textattack.attack_results.skipped_attack_result.SkippedAttackResult at 0x7f7ab6793950>,\n",
       " <textattack.attack_results.successful_attack_result.SuccessfulAttackResult at 0x7f7af4a4f510>,\n",
       " <textattack.attack_results.successful_attack_result.SuccessfulAttackResult at 0x7f7aa8253390>,\n",
       " <textattack.attack_results.successful_attack_result.SuccessfulAttackResult at 0x7f7ab74c30d0>,\n",
       " <textattack.attack_results.skipped_attack_result.SkippedAttackResult at 0x7f7ab3d5d110>,\n",
       " <textattack.attack_results.skipped_attack_result.SkippedAttackResult at 0x7f7ab3d5d850>,\n",
       " <textattack.attack_results.successful_attack_result.SuccessfulAttackResult at 0x7f7aa8253350>,\n",
       " <textattack.attack_results.successful_attack_result.SuccessfulAttackResult at 0x7f7ab3d5d350>,\n",
       " <textattack.attack_results.failed_attack_result.FailedAttackResult at 0x7f7ab2c08d50>,\n",
       " <textattack.attack_results.successful_attack_result.SuccessfulAttackResult at 0x7f7aa998e190>,\n",
       " <textattack.attack_results.successful_attack_result.SuccessfulAttackResult at 0x7f7c68a92050>,\n",
       " <textattack.attack_results.skipped_attack_result.SkippedAttackResult at 0x7f7aaa468390>,\n",
       " <textattack.attack_results.successful_attack_result.SuccessfulAttackResult at 0x7f7cec932f50>,\n",
       " <textattack.attack_results.successful_attack_result.SuccessfulAttackResult at 0x7f7aa9996a90>,\n",
       " <textattack.attack_results.successful_attack_result.SuccessfulAttackResult at 0x7f7aaf5db610>,\n",
       " <textattack.attack_results.successful_attack_result.SuccessfulAttackResult at 0x7f7aaa468510>,\n",
       " <textattack.attack_results.skipped_attack_result.SkippedAttackResult at 0x7f7aaa081f90>,\n",
       " <textattack.attack_results.successful_attack_result.SuccessfulAttackResult at 0x7f7a99eee050>,\n",
       " <textattack.attack_results.successful_attack_result.SuccessfulAttackResult at 0x7f7aa99a4650>,\n",
       " <textattack.attack_results.skipped_attack_result.SkippedAttackResult at 0x7f7aaa26c510>,\n",
       " <textattack.attack_results.successful_attack_result.SuccessfulAttackResult at 0x7f7cecc93e90>,\n",
       " <textattack.attack_results.successful_attack_result.SuccessfulAttackResult at 0x7f7aa8253510>,\n",
       " <textattack.attack_results.successful_attack_result.SuccessfulAttackResult at 0x7f7aaa10ef50>,\n",
       " <textattack.attack_results.skipped_attack_result.SkippedAttackResult at 0x7f7aa1420250>,\n",
       " <textattack.attack_results.successful_attack_result.SuccessfulAttackResult at 0x7f7ab67a9090>,\n",
       " <textattack.attack_results.successful_attack_result.SuccessfulAttackResult at 0x7f7aa9c2b050>,\n",
       " <textattack.attack_results.successful_attack_result.SuccessfulAttackResult at 0x7f7aaa26ccd0>,\n",
       " <textattack.attack_results.skipped_attack_result.SkippedAttackResult at 0x7f7aab38b9d0>,\n",
       " <textattack.attack_results.successful_attack_result.SuccessfulAttackResult at 0x7f7aa1f77790>,\n",
       " <textattack.attack_results.successful_attack_result.SuccessfulAttackResult at 0x7f7aaa1244d0>,\n",
       " <textattack.attack_results.skipped_attack_result.SkippedAttackResult at 0x7f7ab27e6590>,\n",
       " <textattack.attack_results.successful_attack_result.SuccessfulAttackResult at 0x7f7af4a789d0>,\n",
       " <textattack.attack_results.successful_attack_result.SuccessfulAttackResult at 0x7f7aaa08e910>,\n",
       " <textattack.attack_results.failed_attack_result.FailedAttackResult at 0x7f7ab67a91d0>,\n",
       " <textattack.attack_results.successful_attack_result.SuccessfulAttackResult at 0x7f7aaa113350>,\n",
       " <textattack.attack_results.successful_attack_result.SuccessfulAttackResult at 0x7f7aaf5db390>,\n",
       " <textattack.attack_results.failed_attack_result.FailedAttackResult at 0x7f7aaf5c4d50>,\n",
       " <textattack.attack_results.successful_attack_result.SuccessfulAttackResult at 0x7f7aaa10e810>,\n",
       " <textattack.attack_results.skipped_attack_result.SkippedAttackResult at 0x7f7ab67bd050>,\n",
       " <textattack.attack_results.successful_attack_result.SuccessfulAttackResult at 0x7f7aa8d412d0>,\n",
       " <textattack.attack_results.successful_attack_result.SuccessfulAttackResult at 0x7f7aaa10ead0>,\n",
       " <textattack.attack_results.successful_attack_result.SuccessfulAttackResult at 0x7f7aaf5dbc50>,\n",
       " <textattack.attack_results.successful_attack_result.SuccessfulAttackResult at 0x7f7aa99a4750>,\n",
       " <textattack.attack_results.successful_attack_result.SuccessfulAttackResult at 0x7f7aa998e110>,\n",
       " <textattack.attack_results.skipped_attack_result.SkippedAttackResult at 0x7f7aaa11f350>,\n",
       " <textattack.attack_results.skipped_attack_result.SkippedAttackResult at 0x7f7ab1fcbfd0>,\n",
       " <textattack.attack_results.skipped_attack_result.SkippedAttackResult at 0x7f7aa9475cd0>,\n",
       " <textattack.attack_results.successful_attack_result.SuccessfulAttackResult at 0x7f7ab74fe1d0>,\n",
       " <textattack.attack_results.successful_attack_result.SuccessfulAttackResult at 0x7f7aaa081250>,\n",
       " <textattack.attack_results.successful_attack_result.SuccessfulAttackResult at 0x7f7aa998e3d0>,\n",
       " <textattack.attack_results.successful_attack_result.SuccessfulAttackResult at 0x7f7ab37d41d0>,\n",
       " <textattack.attack_results.successful_attack_result.SuccessfulAttackResult at 0x7f7aa9475810>,\n",
       " <textattack.attack_results.successful_attack_result.SuccessfulAttackResult at 0x7f7ab2c3b290>,\n",
       " <textattack.attack_results.successful_attack_result.SuccessfulAttackResult at 0x7f779544fed0>,\n",
       " <textattack.attack_results.successful_attack_result.SuccessfulAttackResult at 0x7f7ab74d59d0>,\n",
       " <textattack.attack_results.successful_attack_result.SuccessfulAttackResult at 0x7f7ab3d64910>,\n",
       " <textattack.attack_results.successful_attack_result.SuccessfulAttackResult at 0x7f7aa9475350>,\n",
       " <textattack.attack_results.successful_attack_result.SuccessfulAttackResult at 0x7f7ab67b4150>,\n",
       " <textattack.attack_results.successful_attack_result.SuccessfulAttackResult at 0x7f7aa9c03c50>,\n",
       " <textattack.attack_results.successful_attack_result.SuccessfulAttackResult at 0x7f7aa99504d0>,\n",
       " <textattack.attack_results.successful_attack_result.SuccessfulAttackResult at 0x7f7ab2c3bcd0>,\n",
       " <textattack.attack_results.successful_attack_result.SuccessfulAttackResult at 0x7f7aa9950190>,\n",
       " <textattack.attack_results.successful_attack_result.SuccessfulAttackResult at 0x7f7aa8263a90>,\n",
       " <textattack.attack_results.successful_attack_result.SuccessfulAttackResult at 0x7f7ab2c3b6d0>,\n",
       " <textattack.attack_results.successful_attack_result.SuccessfulAttackResult at 0x7f7aaa3c84d0>,\n",
       " <textattack.attack_results.successful_attack_result.SuccessfulAttackResult at 0x7f7aa9950050>,\n",
       " <textattack.attack_results.successful_attack_result.SuccessfulAttackResult at 0x7f7ab2c3b890>,\n",
       " <textattack.attack_results.successful_attack_result.SuccessfulAttackResult at 0x7f7aa8d41190>,\n",
       " <textattack.attack_results.successful_attack_result.SuccessfulAttackResult at 0x7f7ab67bd910>,\n",
       " <textattack.attack_results.successful_attack_result.SuccessfulAttackResult at 0x7f7aa9c03350>,\n",
       " <textattack.attack_results.successful_attack_result.SuccessfulAttackResult at 0x7f7aa99507d0>,\n",
       " <textattack.attack_results.successful_attack_result.SuccessfulAttackResult at 0x7f7aa996af90>,\n",
       " <textattack.attack_results.successful_attack_result.SuccessfulAttackResult at 0x7f7ab74d5f10>,\n",
       " <textattack.attack_results.successful_attack_result.SuccessfulAttackResult at 0x7f7aa82635d0>,\n",
       " <textattack.attack_results.successful_attack_result.SuccessfulAttackResult at 0x7f7ab8379ed0>,\n",
       " <textattack.attack_results.skipped_attack_result.SkippedAttackResult at 0x7f7ab8379390>,\n",
       " <textattack.attack_results.successful_attack_result.SuccessfulAttackResult at 0x7f7aa9c03f50>,\n",
       " <textattack.attack_results.successful_attack_result.SuccessfulAttackResult at 0x7f7ab2e7ed90>,\n",
       " <textattack.attack_results.successful_attack_result.SuccessfulAttackResult at 0x7f7aa8d41490>,\n",
       " <textattack.attack_results.successful_attack_result.SuccessfulAttackResult at 0x7f7ab74d5750>,\n",
       " <textattack.attack_results.successful_attack_result.SuccessfulAttackResult at 0x7f7ab2c1e790>,\n",
       " <textattack.attack_results.successful_attack_result.SuccessfulAttackResult at 0x7f7aa8263490>,\n",
       " <textattack.attack_results.skipped_attack_result.SkippedAttackResult at 0x7f7aa8263650>,\n",
       " <textattack.attack_results.skipped_attack_result.SkippedAttackResult at 0x7f7ab1fcb450>,\n",
       " <textattack.attack_results.successful_attack_result.SuccessfulAttackResult at 0x7f7aaa081610>,\n",
       " <textattack.attack_results.successful_attack_result.SuccessfulAttackResult at 0x7f7aa85b9ad0>,\n",
       " <textattack.attack_results.successful_attack_result.SuccessfulAttackResult at 0x7f7ab3d4af10>,\n",
       " <textattack.attack_results.successful_attack_result.SuccessfulAttackResult at 0x7f7aa9677b50>,\n",
       " <textattack.attack_results.successful_attack_result.SuccessfulAttackResult at 0x7f7aa9974f50>,\n",
       " <textattack.attack_results.successful_attack_result.SuccessfulAttackResult at 0x7f7ab27f1d90>,\n",
       " <textattack.attack_results.successful_attack_result.SuccessfulAttackResult at 0x7f7aa99ad890>,\n",
       " <textattack.attack_results.successful_attack_result.SuccessfulAttackResult at 0x7f7af4a57910>,\n",
       " <textattack.attack_results.successful_attack_result.SuccessfulAttackResult at 0x7f7aaa7a3a50>,\n",
       " <textattack.attack_results.successful_attack_result.SuccessfulAttackResult at 0x7f7aa9974f10>,\n",
       " <textattack.attack_results.successful_attack_result.SuccessfulAttackResult at 0x7f7ab8350b10>,\n",
       " <textattack.attack_results.skipped_attack_result.SkippedAttackResult at 0x7f7ab8350790>,\n",
       " <textattack.attack_results.successful_attack_result.SuccessfulAttackResult at 0x7f7aa8263bd0>,\n",
       " <textattack.attack_results.successful_attack_result.SuccessfulAttackResult at 0x7f7aaa78d890>,\n",
       " <textattack.attack_results.successful_attack_result.SuccessfulAttackResult at 0x7f7af4a57d10>,\n",
       " <textattack.attack_results.successful_attack_result.SuccessfulAttackResult at 0x7f7aaff51450>,\n",
       " <textattack.attack_results.successful_attack_result.SuccessfulAttackResult at 0x7f7ab1fcf6d0>,\n",
       " <textattack.attack_results.successful_attack_result.SuccessfulAttackResult at 0x7f7ab03b7a10>,\n",
       " <textattack.attack_results.successful_attack_result.SuccessfulAttackResult at 0x7f7aa99adc50>,\n",
       " <textattack.attack_results.successful_attack_result.SuccessfulAttackResult at 0x7f7aa960e1d0>,\n",
       " <textattack.attack_results.successful_attack_result.SuccessfulAttackResult at 0x7f7af4a49090>,\n",
       " <textattack.attack_results.skipped_attack_result.SkippedAttackResult at 0x7f7af4a49910>,\n",
       " <textattack.attack_results.successful_attack_result.SuccessfulAttackResult at 0x7f7aa99430d0>,\n",
       " <textattack.attack_results.successful_attack_result.SuccessfulAttackResult at 0x7f7ab8379f10>,\n",
       " <textattack.attack_results.successful_attack_result.SuccessfulAttackResult at 0x7f7ab03b73d0>,\n",
       " <textattack.attack_results.successful_attack_result.SuccessfulAttackResult at 0x7f7aa8253b50>,\n",
       " <textattack.attack_results.skipped_attack_result.SkippedAttackResult at 0x7f7af4a78410>,\n",
       " <textattack.attack_results.skipped_attack_result.SkippedAttackResult at 0x7f7ab8350510>,\n",
       " <textattack.attack_results.successful_attack_result.SuccessfulAttackResult at 0x7f7ab1ff58d0>,\n",
       " <textattack.attack_results.skipped_attack_result.SkippedAttackResult at 0x7f7ab1ff5c10>,\n",
       " <textattack.attack_results.successful_attack_result.SuccessfulAttackResult at 0x7f7aa99adf50>,\n",
       " <textattack.attack_results.successful_attack_result.SuccessfulAttackResult at 0x7f7ab1ff5e50>,\n",
       " <textattack.attack_results.successful_attack_result.SuccessfulAttackResult at 0x7f7aa85b9a90>,\n",
       " <textattack.attack_results.successful_attack_result.SuccessfulAttackResult at 0x7f7ab2c04410>,\n",
       " <textattack.attack_results.successful_attack_result.SuccessfulAttackResult at 0x7f7aa85b9490>,\n",
       " <textattack.attack_results.successful_attack_result.SuccessfulAttackResult at 0x7f7aaf5c4610>,\n",
       " <textattack.attack_results.successful_attack_result.SuccessfulAttackResult at 0x7f7ab2e53c90>,\n",
       " <textattack.attack_results.skipped_attack_result.SkippedAttackResult at 0x7f7ab2e53150>,\n",
       " <textattack.attack_results.successful_attack_result.SuccessfulAttackResult at 0x7f7ab2e4ea10>,\n",
       " <textattack.attack_results.skipped_attack_result.SkippedAttackResult at 0x7f7ab2e4ef90>,\n",
       " <textattack.attack_results.skipped_attack_result.SkippedAttackResult at 0x7f7aa99a4190>,\n",
       " <textattack.attack_results.successful_attack_result.SuccessfulAttackResult at 0x7f7af4a78190>,\n",
       " <textattack.attack_results.successful_attack_result.SuccessfulAttackResult at 0x7f7ab1812650>,\n",
       " <textattack.attack_results.successful_attack_result.SuccessfulAttackResult at 0x7f7aa9943b50>,\n",
       " <textattack.attack_results.successful_attack_result.SuccessfulAttackResult at 0x7f7aaa7a30d0>,\n",
       " <textattack.attack_results.successful_attack_result.SuccessfulAttackResult at 0x7f7aaff51a90>,\n",
       " <textattack.attack_results.successful_attack_result.SuccessfulAttackResult at 0x7f7ab2e53050>,\n",
       " <textattack.attack_results.successful_attack_result.SuccessfulAttackResult at 0x7f7ab8379e10>,\n",
       " <textattack.attack_results.successful_attack_result.SuccessfulAttackResult at 0x7f7ab5d12250>,\n",
       " <textattack.attack_results.successful_attack_result.SuccessfulAttackResult at 0x7f77953b9350>,\n",
       " <textattack.attack_results.successful_attack_result.SuccessfulAttackResult at 0x7f7ab1812ad0>,\n",
       " <textattack.attack_results.successful_attack_result.SuccessfulAttackResult at 0x7f7aa9605b90>,\n",
       " <textattack.attack_results.successful_attack_result.SuccessfulAttackResult at 0x7f7aa9fd67d0>,\n",
       " <textattack.attack_results.successful_attack_result.SuccessfulAttackResult at 0x7f7aa9985fd0>,\n",
       " <textattack.attack_results.successful_attack_result.SuccessfulAttackResult at 0x7f7af4a49c90>,\n",
       " <textattack.attack_results.successful_attack_result.SuccessfulAttackResult at 0x7f7aa9985850>,\n",
       " <textattack.attack_results.skipped_attack_result.SkippedAttackResult at 0x7f7af4a78290>,\n",
       " <textattack.attack_results.successful_attack_result.SuccessfulAttackResult at 0x7f7aaa124d50>,\n",
       " <textattack.attack_results.skipped_attack_result.SkippedAttackResult at 0x7f7ab2e53c50>,\n",
       " <textattack.attack_results.successful_attack_result.SuccessfulAttackResult at 0x7f7aa85b9d90>,\n",
       " <textattack.attack_results.successful_attack_result.SuccessfulAttackResult at 0x7f779544fad0>,\n",
       " <textattack.attack_results.skipped_attack_result.SkippedAttackResult at 0x7f7cec932a90>,\n",
       " <textattack.attack_results.failed_attack_result.FailedAttackResult at 0x7f7aa9c37d10>,\n",
       " <textattack.attack_results.successful_attack_result.SuccessfulAttackResult at 0x7f7ab8379dd0>,\n",
       " <textattack.attack_results.successful_attack_result.SuccessfulAttackResult at 0x7f7aa9996410>,\n",
       " <textattack.attack_results.successful_attack_result.SuccessfulAttackResult at 0x7f7aaf5d7f10>,\n",
       " <textattack.attack_results.successful_attack_result.SuccessfulAttackResult at 0x7f7ab8354e10>,\n",
       " <textattack.attack_results.successful_attack_result.SuccessfulAttackResult at 0x7f7c62721bd0>,\n",
       " <textattack.attack_results.successful_attack_result.SuccessfulAttackResult at 0x7f7ab1812350>,\n",
       " <textattack.attack_results.successful_attack_result.SuccessfulAttackResult at 0x7f7aaa3e6110>,\n",
       " <textattack.attack_results.successful_attack_result.SuccessfulAttackResult at 0x7f7aaa448790>,\n",
       " <textattack.attack_results.successful_attack_result.SuccessfulAttackResult at 0x7f7a5067b8d0>,\n",
       " <textattack.attack_results.successful_attack_result.SuccessfulAttackResult at 0x7f7aaa448c90>,\n",
       " <textattack.attack_results.successful_attack_result.SuccessfulAttackResult at 0x7f7aaff54290>,\n",
       " <textattack.attack_results.successful_attack_result.SuccessfulAttackResult at 0x7f7ab8379550>,\n",
       " <textattack.attack_results.successful_attack_result.SuccessfulAttackResult at 0x7f7a5067b710>,\n",
       " <textattack.attack_results.successful_attack_result.SuccessfulAttackResult at 0x7f7ab37cfdd0>,\n",
       " <textattack.attack_results.successful_attack_result.SuccessfulAttackResult at 0x7f7aaa13e310>,\n",
       " <textattack.attack_results.successful_attack_result.SuccessfulAttackResult at 0x7f7ab67b7fd0>,\n",
       " <textattack.attack_results.successful_attack_result.SuccessfulAttackResult at 0x7f7aa9feecd0>,\n",
       " <textattack.attack_results.successful_attack_result.SuccessfulAttackResult at 0x7f7ab2e45e90>,\n",
       " <textattack.attack_results.successful_attack_result.SuccessfulAttackResult at 0x7f7aaf5d7350>,\n",
       " <textattack.attack_results.successful_attack_result.SuccessfulAttackResult at 0x7f7aa9c189d0>,\n",
       " <textattack.attack_results.successful_attack_result.SuccessfulAttackResult at 0x7f7c626f3b50>,\n",
       " <textattack.attack_results.successful_attack_result.SuccessfulAttackResult at 0x7f7aaa11ffd0>,\n",
       " <textattack.attack_results.successful_attack_result.SuccessfulAttackResult at 0x7f7aa9605c50>,\n",
       " <textattack.attack_results.successful_attack_result.SuccessfulAttackResult at 0x7f7ab18062d0>,\n",
       " <textattack.attack_results.successful_attack_result.SuccessfulAttackResult at 0x7f7ab67b7a50>,\n",
       " <textattack.attack_results.successful_attack_result.SuccessfulAttackResult at 0x7f7c62721b90>,\n",
       " <textattack.attack_results.successful_attack_result.SuccessfulAttackResult at 0x7f779545ee50>,\n",
       " <textattack.attack_results.successful_attack_result.SuccessfulAttackResult at 0x7f7ab03a0c10>,\n",
       " <textattack.attack_results.successful_attack_result.SuccessfulAttackResult at 0x7f7ab8354ed0>,\n",
       " <textattack.attack_results.successful_attack_result.SuccessfulAttackResult at 0x7f7ab5d12890>,\n",
       " <textattack.attack_results.successful_attack_result.SuccessfulAttackResult at 0x7f7aab288890>,\n",
       " <textattack.attack_results.successful_attack_result.SuccessfulAttackResult at 0x7f7ab03a0290>,\n",
       " <textattack.attack_results.successful_attack_result.SuccessfulAttackResult at 0x7f7ab37f8750>,\n",
       " <textattack.attack_results.successful_attack_result.SuccessfulAttackResult at 0x7f7ab03a0950>,\n",
       " <textattack.attack_results.successful_attack_result.SuccessfulAttackResult at 0x7f7ab67b7690>,\n",
       " <textattack.attack_results.successful_attack_result.SuccessfulAttackResult at 0x7f7aaf5d7110>,\n",
       " <textattack.attack_results.skipped_attack_result.SkippedAttackResult at 0x7f7aa9c18390>,\n",
       " <textattack.attack_results.successful_attack_result.SuccessfulAttackResult at 0x7f7ab37cfe50>,\n",
       " <textattack.attack_results.successful_attack_result.SuccessfulAttackResult at 0x7f7ab37cf1d0>,\n",
       " <textattack.attack_results.skipped_attack_result.SkippedAttackResult at 0x7f7aa97a5250>,\n",
       " <textattack.attack_results.skipped_attack_result.SkippedAttackResult at 0x7f7aaff6e610>,\n",
       " <textattack.attack_results.skipped_attack_result.SkippedAttackResult at 0x7f7ab37cf9d0>,\n",
       " <textattack.attack_results.successful_attack_result.SuccessfulAttackResult at 0x7f7aa9625190>,\n",
       " <textattack.attack_results.skipped_attack_result.SkippedAttackResult at 0x7f7795409510>,\n",
       " <textattack.attack_results.successful_attack_result.SuccessfulAttackResult at 0x7f7aa99d0050>,\n",
       " <textattack.attack_results.successful_attack_result.SuccessfulAttackResult at 0x7f7ab1806c90>,\n",
       " <textattack.attack_results.successful_attack_result.SuccessfulAttackResult at 0x7f7aaff54a10>,\n",
       " <textattack.attack_results.successful_attack_result.SuccessfulAttackResult at 0x7f7aaf885690>,\n",
       " <textattack.attack_results.skipped_attack_result.SkippedAttackResult at 0x7f7aaff54510>,\n",
       " <textattack.attack_results.skipped_attack_result.SkippedAttackResult at 0x7f7ab5d20b50>,\n",
       " <textattack.attack_results.successful_attack_result.SuccessfulAttackResult at 0x7f7ab5d123d0>,\n",
       " <textattack.attack_results.successful_attack_result.SuccessfulAttackResult at 0x7f7aa9fd6cd0>,\n",
       " <textattack.attack_results.skipped_attack_result.SkippedAttackResult at 0x7f7aa9fd6910>,\n",
       " <textattack.attack_results.successful_attack_result.SuccessfulAttackResult at 0x7f7aae86fa10>,\n",
       " <textattack.attack_results.successful_attack_result.SuccessfulAttackResult at 0x7f7abb6f7790>,\n",
       " <textattack.attack_results.skipped_attack_result.SkippedAttackResult at 0x7f7aaa7a3650>,\n",
       " <textattack.attack_results.successful_attack_result.SuccessfulAttackResult at 0x7f7aa961c450>,\n",
       " <textattack.attack_results.successful_attack_result.SuccessfulAttackResult at 0x7f77953ec190>,\n",
       " <textattack.attack_results.skipped_attack_result.SkippedAttackResult at 0x7f7abb6f7350>,\n",
       " <textattack.attack_results.successful_attack_result.SuccessfulAttackResult at 0x7f7aa964acd0>,\n",
       " <textattack.attack_results.successful_attack_result.SuccessfulAttackResult at 0x7f7aaa124050>,\n",
       " <textattack.attack_results.successful_attack_result.SuccessfulAttackResult at 0x7f7aa9fd63d0>,\n",
       " <textattack.attack_results.successful_attack_result.SuccessfulAttackResult at 0x7f7ab5d12050>,\n",
       " <textattack.attack_results.successful_attack_result.SuccessfulAttackResult at 0x7f7aafaa0a50>,\n",
       " <textattack.attack_results.successful_attack_result.SuccessfulAttackResult at 0x7f7ab0753650>,\n",
       " <textattack.attack_results.successful_attack_result.SuccessfulAttackResult at 0x7f7ab195d250>,\n",
       " <textattack.attack_results.successful_attack_result.SuccessfulAttackResult at 0x7f7aa9605ad0>,\n",
       " <textattack.attack_results.successful_attack_result.SuccessfulAttackResult at 0x7f7ab195d450>,\n",
       " <textattack.attack_results.successful_attack_result.SuccessfulAttackResult at 0x7f7ab194f090>,\n",
       " <textattack.attack_results.successful_attack_result.SuccessfulAttackResult at 0x7f7ab3d64890>,\n",
       " <textattack.attack_results.successful_attack_result.SuccessfulAttackResult at 0x7f7ab91dab90>,\n",
       " <textattack.attack_results.successful_attack_result.SuccessfulAttackResult at 0x7f7ab37f84d0>,\n",
       " <textattack.attack_results.skipped_attack_result.SkippedAttackResult at 0x7f7ab37c5ed0>,\n",
       " <textattack.attack_results.successful_attack_result.SuccessfulAttackResult at 0x7f7aa964ad50>,\n",
       " <textattack.attack_results.successful_attack_result.SuccessfulAttackResult at 0x7f7ab37f8bd0>,\n",
       " <textattack.attack_results.successful_attack_result.SuccessfulAttackResult at 0x7f7aae840590>,\n",
       " <textattack.attack_results.successful_attack_result.SuccessfulAttackResult at 0x7f7ab0779710>,\n",
       " <textattack.attack_results.successful_attack_result.SuccessfulAttackResult at 0x7f7aa961cd10>,\n",
       " <textattack.attack_results.successful_attack_result.SuccessfulAttackResult at 0x7f7ab194f8d0>,\n",
       " <textattack.attack_results.skipped_attack_result.SkippedAttackResult at 0x7f7aa1420f90>,\n",
       " <textattack.attack_results.successful_attack_result.SuccessfulAttackResult at 0x7f7ab91dac90>,\n",
       " <textattack.attack_results.successful_attack_result.SuccessfulAttackResult at 0x7f7ab0753550>,\n",
       " <textattack.attack_results.skipped_attack_result.SkippedAttackResult at 0x7f7ab3d4ae50>,\n",
       " <textattack.attack_results.successful_attack_result.SuccessfulAttackResult at 0x7f779545ef10>,\n",
       " <textattack.attack_results.successful_attack_result.SuccessfulAttackResult at 0x7f7aa1420dd0>,\n",
       " <textattack.attack_results.successful_attack_result.SuccessfulAttackResult at 0x7f7aaa3e6590>,\n",
       " <textattack.attack_results.skipped_attack_result.SkippedAttackResult at 0x7f7abb6db390>,\n",
       " <textattack.attack_results.successful_attack_result.SuccessfulAttackResult at 0x7f7ab6793a10>,\n",
       " <textattack.attack_results.successful_attack_result.SuccessfulAttackResult at 0x7f7aaf45b690>,\n",
       " <textattack.attack_results.successful_attack_result.SuccessfulAttackResult at 0x7f7aa9638910>,\n",
       " <textattack.attack_results.successful_attack_result.SuccessfulAttackResult at 0x7f7ab91f1190>,\n",
       " <textattack.attack_results.successful_attack_result.SuccessfulAttackResult at 0x7f7aa1f77c90>,\n",
       " <textattack.attack_results.successful_attack_result.SuccessfulAttackResult at 0x7f7ab74c3550>,\n",
       " <textattack.attack_results.skipped_attack_result.SkippedAttackResult at 0x7f7aab38bcd0>,\n",
       " <textattack.attack_results.successful_attack_result.SuccessfulAttackResult at 0x7f7aa9624e90>,\n",
       " <textattack.attack_results.successful_attack_result.SuccessfulAttackResult at 0x7f7ab0413d50>,\n",
       " <textattack.attack_results.successful_attack_result.SuccessfulAttackResult at 0x7f7ab74c3e50>,\n",
       " <textattack.attack_results.successful_attack_result.SuccessfulAttackResult at 0x7f7aaa0e0fd0>,\n",
       " <textattack.attack_results.successful_attack_result.SuccessfulAttackResult at 0x7f7ab04133d0>,\n",
       " <textattack.attack_results.successful_attack_result.SuccessfulAttackResult at 0x7f7aa9605c90>,\n",
       " <textattack.attack_results.successful_attack_result.SuccessfulAttackResult at 0x7f7ab1fcf950>,\n",
       " <textattack.attack_results.successful_attack_result.SuccessfulAttackResult at 0x7f7aaf893e10>,\n",
       " <textattack.attack_results.successful_attack_result.SuccessfulAttackResult at 0x7f7ab91da950>,\n",
       " <textattack.attack_results.skipped_attack_result.SkippedAttackResult at 0x7f7af4a57dd0>,\n",
       " <textattack.attack_results.skipped_attack_result.SkippedAttackResult at 0x7f7ab051bb10>,\n",
       " <textattack.attack_results.skipped_attack_result.SkippedAttackResult at 0x7f7ab051be10>,\n",
       " <textattack.attack_results.successful_attack_result.SuccessfulAttackResult at 0x7f779545e090>,\n",
       " <textattack.attack_results.successful_attack_result.SuccessfulAttackResult at 0x7f7ab075bfd0>,\n",
       " <textattack.attack_results.successful_attack_result.SuccessfulAttackResult at 0x7f7abb6db8d0>,\n",
       " <textattack.attack_results.successful_attack_result.SuccessfulAttackResult at 0x7f7ab04300d0>,\n",
       " <textattack.attack_results.skipped_attack_result.SkippedAttackResult at 0x7f7ab075b0d0>,\n",
       " <textattack.attack_results.successful_attack_result.SuccessfulAttackResult at 0x7f7aa9985750>,\n",
       " <textattack.attack_results.successful_attack_result.SuccessfulAttackResult at 0x7f7aae620250>,\n",
       " <textattack.attack_results.skipped_attack_result.SkippedAttackResult at 0x7f7aae620fd0>,\n",
       " <textattack.attack_results.successful_attack_result.SuccessfulAttackResult at 0x7f7aae86f590>,\n",
       " <textattack.attack_results.successful_attack_result.SuccessfulAttackResult at 0x7f7a9cbed1d0>,\n",
       " <textattack.attack_results.successful_attack_result.SuccessfulAttackResult at 0x7f7ab1812b90>,\n",
       " <textattack.attack_results.successful_attack_result.SuccessfulAttackResult at 0x7f7898d1c090>,\n",
       " <textattack.attack_results.successful_attack_result.SuccessfulAttackResult at 0x7f7aa945ec50>,\n",
       " <textattack.attack_results.failed_attack_result.FailedAttackResult at 0x7f7ab3d57150>,\n",
       " <textattack.attack_results.successful_attack_result.SuccessfulAttackResult at 0x7f7aa1f779d0>,\n",
       " <textattack.attack_results.successful_attack_result.SuccessfulAttackResult at 0x7f7ab2e7e5d0>,\n",
       " <textattack.attack_results.successful_attack_result.SuccessfulAttackResult at 0x7f7ab91da5d0>,\n",
       " <textattack.attack_results.successful_attack_result.SuccessfulAttackResult at 0x7f7ab1806e50>,\n",
       " <textattack.attack_results.successful_attack_result.SuccessfulAttackResult at 0x7f7795419650>,\n",
       " <textattack.attack_results.successful_attack_result.SuccessfulAttackResult at 0x7f7aa99ddc10>,\n",
       " <textattack.attack_results.successful_attack_result.SuccessfulAttackResult at 0x7f7ab3d4a150>,\n",
       " <textattack.attack_results.successful_attack_result.SuccessfulAttackResult at 0x7f7ab03a0b90>,\n",
       " <textattack.attack_results.failed_attack_result.FailedAttackResult at 0x7f7aacd3fe10>,\n",
       " <textattack.attack_results.failed_attack_result.FailedAttackResult at 0x7f7aa9638590>,\n",
       " <textattack.attack_results.successful_attack_result.SuccessfulAttackResult at 0x7f779544f750>,\n",
       " <textattack.attack_results.successful_attack_result.SuccessfulAttackResult at 0x7f7ab3d4aa10>,\n",
       " <textattack.attack_results.successful_attack_result.SuccessfulAttackResult at 0x7f7aa99a4ed0>,\n",
       " <textattack.attack_results.successful_attack_result.SuccessfulAttackResult at 0x7f7aae572290>,\n",
       " <textattack.attack_results.successful_attack_result.SuccessfulAttackResult at 0x7f7ab077e710>,\n",
       " <textattack.attack_results.successful_attack_result.SuccessfulAttackResult at 0x7f7aa99ad490>,\n",
       " <textattack.attack_results.successful_attack_result.SuccessfulAttackResult at 0x7f7abb6f7a90>,\n",
       " <textattack.attack_results.failed_attack_result.FailedAttackResult at 0x7f7aa9950890>,\n",
       " <textattack.attack_results.successful_attack_result.SuccessfulAttackResult at 0x7f7aaa0b8d90>,\n",
       " <textattack.attack_results.successful_attack_result.SuccessfulAttackResult at 0x7f7aa9786c10>,\n",
       " <textattack.attack_results.skipped_attack_result.SkippedAttackResult at 0x7f7aafa9c4d0>,\n",
       " <textattack.attack_results.successful_attack_result.SuccessfulAttackResult at 0x7f7aaf213e50>,\n",
       " <textattack.attack_results.skipped_attack_result.SkippedAttackResult at 0x7f7ab051b050>,\n",
       " <textattack.attack_results.successful_attack_result.SuccessfulAttackResult at 0x7f7aa96383d0>,\n",
       " <textattack.attack_results.successful_attack_result.SuccessfulAttackResult at 0x7f7ab91cec10>,\n",
       " <textattack.attack_results.successful_attack_result.SuccessfulAttackResult at 0x7f7aae55b3d0>,\n",
       " <textattack.attack_results.successful_attack_result.SuccessfulAttackResult at 0x7f7aa9985cd0>,\n",
       " <textattack.attack_results.successful_attack_result.SuccessfulAttackResult at 0x7f7aaa13c050>,\n",
       " <textattack.attack_results.successful_attack_result.SuccessfulAttackResult at 0x7f7ab075bbd0>,\n",
       " <textattack.attack_results.successful_attack_result.SuccessfulAttackResult at 0x7f7aaec4efd0>,\n",
       " <textattack.attack_results.successful_attack_result.SuccessfulAttackResult at 0x7f7af4a4f890>,\n",
       " <textattack.attack_results.successful_attack_result.SuccessfulAttackResult at 0x7f7aaf213090>,\n",
       " <textattack.attack_results.successful_attack_result.SuccessfulAttackResult at 0x7f7aa99a4310>,\n",
       " <textattack.attack_results.successful_attack_result.SuccessfulAttackResult at 0x7f7aaf4688d0>,\n",
       " <textattack.attack_results.successful_attack_result.SuccessfulAttackResult at 0x7f7ab27e6ad0>,\n",
       " <textattack.attack_results.successful_attack_result.SuccessfulAttackResult at 0x7f7ab2c1e5d0>,\n",
       " <textattack.attack_results.successful_attack_result.SuccessfulAttackResult at 0x7f7ab37f8610>,\n",
       " <textattack.attack_results.successful_attack_result.SuccessfulAttackResult at 0x7f7aaa31ae90>,\n",
       " <textattack.attack_results.successful_attack_result.SuccessfulAttackResult at 0x7f7ab2e53510>,\n",
       " <textattack.attack_results.skipped_attack_result.SkippedAttackResult at 0x7f7898d1c190>,\n",
       " <textattack.attack_results.successful_attack_result.SuccessfulAttackResult at 0x7f7aaa1249d0>,\n",
       " <textattack.attack_results.successful_attack_result.SuccessfulAttackResult at 0x7f7aaa244290>,\n",
       " <textattack.attack_results.skipped_attack_result.SkippedAttackResult at 0x7f7aaa26cb50>,\n",
       " <textattack.attack_results.successful_attack_result.SuccessfulAttackResult at 0x7f7aae57e610>,\n",
       " <textattack.attack_results.successful_attack_result.SuccessfulAttackResult at 0x7f7a9d5632d0>,\n",
       " <textattack.attack_results.successful_attack_result.SuccessfulAttackResult at 0x7f7aad586810>,\n",
       " <textattack.attack_results.successful_attack_result.SuccessfulAttackResult at 0x7f7ab91cecd0>,\n",
       " <textattack.attack_results.successful_attack_result.SuccessfulAttackResult at 0x7f7aaf893490>,\n",
       " <textattack.attack_results.successful_attack_result.SuccessfulAttackResult at 0x7f7aacd29c10>,\n",
       " <textattack.attack_results.successful_attack_result.SuccessfulAttackResult at 0x7f7aa9c03810>,\n",
       " <textattack.attack_results.skipped_attack_result.SkippedAttackResult at 0x7f7aad8ce8d0>,\n",
       " <textattack.attack_results.successful_attack_result.SuccessfulAttackResult at 0x7f7aaf457b10>,\n",
       " <textattack.attack_results.successful_attack_result.SuccessfulAttackResult at 0x7f7ab55970d0>,\n",
       " <textattack.attack_results.skipped_attack_result.SkippedAttackResult at 0x7f7ab075bc90>,\n",
       " <textattack.attack_results.successful_attack_result.SuccessfulAttackResult at 0x7f7aac7b73d0>,\n",
       " <textattack.attack_results.successful_attack_result.SuccessfulAttackResult at 0x7f7aa9950c50>,\n",
       " <textattack.attack_results.successful_attack_result.SuccessfulAttackResult at 0x7f7aa85b9dd0>,\n",
       " <textattack.attack_results.successful_attack_result.SuccessfulAttackResult at 0x7f7ab040fd90>,\n",
       " <textattack.attack_results.successful_attack_result.SuccessfulAttackResult at 0x7f7ab2e4e310>,\n",
       " <textattack.attack_results.successful_attack_result.SuccessfulAttackResult at 0x7f7aaf5dbb90>,\n",
       " <textattack.attack_results.successful_attack_result.SuccessfulAttackResult at 0x7f7c68a92710>,\n",
       " <textattack.attack_results.successful_attack_result.SuccessfulAttackResult at 0x7f7a9cd3d550>,\n",
       " <textattack.attack_results.skipped_attack_result.SkippedAttackResult at 0x7f77953a8150>,\n",
       " <textattack.attack_results.successful_attack_result.SuccessfulAttackResult at 0x7f7aa9c37590>,\n",
       " <textattack.attack_results.successful_attack_result.SuccessfulAttackResult at 0x7f7898d113d0>,\n",
       " <textattack.attack_results.successful_attack_result.SuccessfulAttackResult at 0x7f7aa998ec90>,\n",
       " <textattack.attack_results.successful_attack_result.SuccessfulAttackResult at 0x7f7aae85c9d0>,\n",
       " <textattack.attack_results.successful_attack_result.SuccessfulAttackResult at 0x7f7ab040fdd0>,\n",
       " <textattack.attack_results.successful_attack_result.SuccessfulAttackResult at 0x7f77953ec990>,\n",
       " <textattack.attack_results.successful_attack_result.SuccessfulAttackResult at 0x7f7aaa2447d0>,\n",
       " <textattack.attack_results.skipped_attack_result.SkippedAttackResult at 0x7f7aa99438d0>,\n",
       " <textattack.attack_results.successful_attack_result.SuccessfulAttackResult at 0x7f7ab040f210>,\n",
       " <textattack.attack_results.successful_attack_result.SuccessfulAttackResult at 0x7f7aaf8930d0>,\n",
       " <textattack.attack_results.successful_attack_result.SuccessfulAttackResult at 0x7f7aae572610>,\n",
       " <textattack.attack_results.successful_attack_result.SuccessfulAttackResult at 0x7f7aad8ce910>,\n",
       " <textattack.attack_results.successful_attack_result.SuccessfulAttackResult at 0x7f7abb6db9d0>,\n",
       " <textattack.attack_results.successful_attack_result.SuccessfulAttackResult at 0x7f7aaa3e6910>,\n",
       " <textattack.attack_results.successful_attack_result.SuccessfulAttackResult at 0x7f7aa1f77a10>,\n",
       " <textattack.attack_results.successful_attack_result.SuccessfulAttackResult at 0x7f7ab74d5410>,\n",
       " <textattack.attack_results.successful_attack_result.SuccessfulAttackResult at 0x7f7ab1fcf190>,\n",
       " <textattack.attack_results.successful_attack_result.SuccessfulAttackResult at 0x7f7ab91e4550>,\n",
       " <textattack.attack_results.successful_attack_result.SuccessfulAttackResult at 0x7f7aae54c610>,\n",
       " <textattack.attack_results.successful_attack_result.SuccessfulAttackResult at 0x7f7aaf468810>,\n",
       " <textattack.attack_results.skipped_attack_result.SkippedAttackResult at 0x7f7aafa9cc10>,\n",
       " <textattack.attack_results.successful_attack_result.SuccessfulAttackResult at 0x7f7aa8d41e10>,\n",
       " <textattack.attack_results.successful_attack_result.SuccessfulAttackResult at 0x7f7aa967de10>,\n",
       " <textattack.attack_results.successful_attack_result.SuccessfulAttackResult at 0x7f7a9cd2b6d0>,\n",
       " <textattack.attack_results.successful_attack_result.SuccessfulAttackResult at 0x7f7aad3bb110>,\n",
       " <textattack.attack_results.successful_attack_result.SuccessfulAttackResult at 0x7f7aaf221190>,\n",
       " <textattack.attack_results.successful_attack_result.SuccessfulAttackResult at 0x7f7aad581550>,\n",
       " <textattack.attack_results.successful_attack_result.SuccessfulAttackResult at 0x7f7aacd1e6d0>,\n",
       " <textattack.attack_results.skipped_attack_result.SkippedAttackResult at 0x7f7ab91f1cd0>,\n",
       " <textattack.attack_results.successful_attack_result.SuccessfulAttackResult at 0x7f7ab077eed0>,\n",
       " <textattack.attack_results.successful_attack_result.SuccessfulAttackResult at 0x7f7ab6793b10>,\n",
       " <textattack.attack_results.successful_attack_result.SuccessfulAttackResult at 0x7f7aad3bb590>,\n",
       " <textattack.attack_results.successful_attack_result.SuccessfulAttackResult at 0x7f7ab077e950>,\n",
       " <textattack.attack_results.successful_attack_result.SuccessfulAttackResult at 0x7f7ab91f1050>,\n",
       " <textattack.attack_results.successful_attack_result.SuccessfulAttackResult at 0x7f7aaa2440d0>,\n",
       " <textattack.attack_results.successful_attack_result.SuccessfulAttackResult at 0x7f7aaec4e1d0>,\n",
       " <textattack.attack_results.successful_attack_result.SuccessfulAttackResult at 0x7f7ab076d1d0>,\n",
       " <textattack.attack_results.successful_attack_result.SuccessfulAttackResult at 0x7f7ab0779650>,\n",
       " <textattack.attack_results.successful_attack_result.SuccessfulAttackResult at 0x7f7898d11ad0>,\n",
       " <textattack.attack_results.successful_attack_result.SuccessfulAttackResult at 0x7f7ab27d2ed0>,\n",
       " <textattack.attack_results.successful_attack_result.SuccessfulAttackResult at 0x7f7aa9943dd0>,\n",
       " <textattack.attack_results.successful_attack_result.SuccessfulAttackResult at 0x7f7aa21b3d10>,\n",
       " <textattack.attack_results.skipped_attack_result.SkippedAttackResult at 0x7f7ab37d4990>,\n",
       " <textattack.attack_results.successful_attack_result.SuccessfulAttackResult at 0x7f7aab1f2090>,\n",
       " <textattack.attack_results.skipped_attack_result.SkippedAttackResult at 0x7f7ab74d5550>,\n",
       " <textattack.attack_results.successful_attack_result.SuccessfulAttackResult at 0x7f7aaf45b910>,\n",
       " <textattack.attack_results.successful_attack_result.SuccessfulAttackResult at 0x7f7aaa792850>,\n",
       " <textattack.attack_results.successful_attack_result.SuccessfulAttackResult at 0x7f7c67fa51d0>,\n",
       " <textattack.attack_results.successful_attack_result.SuccessfulAttackResult at 0x7f7ab79d1b90>,\n",
       " <textattack.attack_results.successful_attack_result.SuccessfulAttackResult at 0x7f7aa9625890>,\n",
       " <textattack.attack_results.skipped_attack_result.SkippedAttackResult at 0x7f7aaa3e6350>,\n",
       " <textattack.attack_results.skipped_attack_result.SkippedAttackResult at 0x7f7ab076da90>,\n",
       " <textattack.attack_results.skipped_attack_result.SkippedAttackResult at 0x7f7ab74fe410>,\n",
       " <textattack.attack_results.successful_attack_result.SuccessfulAttackResult at 0x7f7aaa468c10>,\n",
       " <textattack.attack_results.successful_attack_result.SuccessfulAttackResult at 0x7f7aae6057d0>,\n",
       " <textattack.attack_results.successful_attack_result.SuccessfulAttackResult at 0x7f7aa1f77610>,\n",
       " <textattack.attack_results.skipped_attack_result.SkippedAttackResult at 0x7f7aab1f2f10>,\n",
       " <textattack.attack_results.successful_attack_result.SuccessfulAttackResult at 0x7f7aa9c37bd0>,\n",
       " <textattack.attack_results.successful_attack_result.SuccessfulAttackResult at 0x7f7aafa9c610>,\n",
       " <textattack.attack_results.successful_attack_result.SuccessfulAttackResult at 0x7f7aad394bd0>,\n",
       " <textattack.attack_results.skipped_attack_result.SkippedAttackResult at 0x7f7aa964a150>,\n",
       " <textattack.attack_results.skipped_attack_result.SkippedAttackResult at 0x7f7aac1bbe10>,\n",
       " <textattack.attack_results.successful_attack_result.SuccessfulAttackResult at 0x7f7aa7a739d0>,\n",
       " <textattack.attack_results.failed_attack_result.FailedAttackResult at 0x7f7ab79e9610>,\n",
       " <textattack.attack_results.successful_attack_result.SuccessfulAttackResult at 0x7f7aad6e0890>,\n",
       " <textattack.attack_results.successful_attack_result.SuccessfulAttackResult at 0x7f7aaec7c950>,\n",
       " <textattack.attack_results.successful_attack_result.SuccessfulAttackResult at 0x7f7aac7b7790>,\n",
       " <textattack.attack_results.failed_attack_result.FailedAttackResult at 0x7f7aa967d610>,\n",
       " <textattack.attack_results.successful_attack_result.SuccessfulAttackResult at 0x7f7aacd90f90>,\n",
       " <textattack.attack_results.successful_attack_result.SuccessfulAttackResult at 0x7f7aae57e850>,\n",
       " <textattack.attack_results.failed_attack_result.FailedAttackResult at 0x7f7aaa78d750>,\n",
       " <textattack.attack_results.successful_attack_result.SuccessfulAttackResult at 0x7f7aac1bb610>,\n",
       " <textattack.attack_results.skipped_attack_result.SkippedAttackResult at 0x7f7ab3d4a350>,\n",
       " <textattack.attack_results.successful_attack_result.SuccessfulAttackResult at 0x7f7aaa7af890>,\n",
       " <textattack.attack_results.successful_attack_result.SuccessfulAttackResult at 0x7f7aae867c10>,\n",
       " <textattack.attack_results.successful_attack_result.SuccessfulAttackResult at 0x7f7aa99a4d10>,\n",
       " <textattack.attack_results.successful_attack_result.SuccessfulAttackResult at 0x7f7ab91da310>,\n",
       " <textattack.attack_results.successful_attack_result.SuccessfulAttackResult at 0x7f7aaa13e610>,\n",
       " <textattack.attack_results.successful_attack_result.SuccessfulAttackResult at 0x7f7c626f3250>,\n",
       " <textattack.attack_results.successful_attack_result.SuccessfulAttackResult at 0x7f7aa8253490>,\n",
       " <textattack.attack_results.successful_attack_result.SuccessfulAttackResult at 0x7f7ab051bd10>,\n",
       " <textattack.attack_results.successful_attack_result.SuccessfulAttackResult at 0x7f7aa99e8810>,\n",
       " <textattack.attack_results.successful_attack_result.SuccessfulAttackResult at 0x7f7aa964a710>,\n",
       " <textattack.attack_results.successful_attack_result.SuccessfulAttackResult at 0x7f7ab91f1b90>,\n",
       " <textattack.attack_results.failed_attack_result.FailedAttackResult at 0x7f7aae5725d0>,\n",
       " <textattack.attack_results.successful_attack_result.SuccessfulAttackResult at 0x7f7aaa629c50>,\n",
       " <textattack.attack_results.successful_attack_result.SuccessfulAttackResult at 0x7f7aacd1e610>,\n",
       " <textattack.attack_results.skipped_attack_result.SkippedAttackResult at 0x7f7aaa6292d0>,\n",
       " <textattack.attack_results.successful_attack_result.SuccessfulAttackResult at 0x7f7ab076d290>,\n",
       " <textattack.attack_results.successful_attack_result.SuccessfulAttackResult at 0x7f7aad5bb750>,\n",
       " <textattack.attack_results.successful_attack_result.SuccessfulAttackResult at 0x7f7aa99e8710>,\n",
       " <textattack.attack_results.successful_attack_result.SuccessfulAttackResult at 0x7f7aac7b7c90>,\n",
       " <textattack.attack_results.successful_attack_result.SuccessfulAttackResult at 0x7f7ab67bd750>,\n",
       " <textattack.attack_results.failed_attack_result.FailedAttackResult at 0x7f7aac1fd350>,\n",
       " <textattack.attack_results.successful_attack_result.SuccessfulAttackResult at 0x7f7a9cbed650>,\n",
       " <textattack.attack_results.skipped_attack_result.SkippedAttackResult at 0x7f7ab98703d0>,\n",
       " <textattack.attack_results.skipped_attack_result.SkippedAttackResult at 0x7f7c67fa5990>,\n",
       " <textattack.attack_results.successful_attack_result.SuccessfulAttackResult at 0x7f7ab91e46d0>,\n",
       " <textattack.attack_results.successful_attack_result.SuccessfulAttackResult at 0x7f77953a8790>,\n",
       " <textattack.attack_results.failed_attack_result.FailedAttackResult at 0x7f7ab74d5990>,\n",
       " <textattack.attack_results.successful_attack_result.SuccessfulAttackResult at 0x7f7aae5729d0>,\n",
       " <textattack.attack_results.successful_attack_result.SuccessfulAttackResult at 0x7f7aac8e0350>,\n",
       " <textattack.attack_results.skipped_attack_result.SkippedAttackResult at 0x7f7ab91f1490>,\n",
       " <textattack.attack_results.successful_attack_result.SuccessfulAttackResult at 0x7f7aae8401d0>,\n",
       " <textattack.attack_results.successful_attack_result.SuccessfulAttackResult at 0x7f7aa9996e90>,\n",
       " <textattack.attack_results.successful_attack_result.SuccessfulAttackResult at 0x7f7ab1fcfc10>,\n",
       " <textattack.attack_results.successful_attack_result.SuccessfulAttackResult at 0x7f7aae840050>,\n",
       " <textattack.attack_results.successful_attack_result.SuccessfulAttackResult at 0x7f7ab0430f10>,\n",
       " <textattack.attack_results.successful_attack_result.SuccessfulAttackResult at 0x7f7aad6f5590>,\n",
       " <textattack.attack_results.successful_attack_result.SuccessfulAttackResult at 0x7f7ab984f750>,\n",
       " <textattack.attack_results.successful_attack_result.SuccessfulAttackResult at 0x7f7ab0779510>,\n",
       " <textattack.attack_results.successful_attack_result.SuccessfulAttackResult at 0x7f7ab986b5d0>,\n",
       " <textattack.attack_results.successful_attack_result.SuccessfulAttackResult at 0x7f7af4a78d10>,\n",
       " <textattack.attack_results.successful_attack_result.SuccessfulAttackResult at 0x7f7aad5bb550>,\n",
       " <textattack.attack_results.successful_attack_result.SuccessfulAttackResult at 0x7f7aa979a2d0>,\n",
       " <textattack.attack_results.successful_attack_result.SuccessfulAttackResult at 0x7f7abb6f7bd0>,\n",
       " <textattack.attack_results.skipped_attack_result.SkippedAttackResult at 0x7f7ab6793a90>,\n",
       " <textattack.attack_results.successful_attack_result.SuccessfulAttackResult at 0x7f7a9cbedc10>,\n",
       " <textattack.attack_results.successful_attack_result.SuccessfulAttackResult at 0x7f7ab040fe90>]"
      ]
     },
     "metadata": {},
     "output_type": "display_data"
    }
   ],
   "source": [
    "#!g1.1\n",
    "%%time \n",
    "\n",
    "attacker.attack_dataset();"
   ]
  },
  {
   "cell_type": "markdown",
   "metadata": {
    "cellId": "d669iayalfchydzvod0a8"
   },
   "source": [
    "#!g1.1\n",
    "## Тестируем BAE"
   ]
  },
  {
   "cell_type": "code",
   "execution_count": null,
   "metadata": {
    "cellId": "6bgrl06y3p02mgo6zw3we6"
   },
   "outputs": [],
   "source": [
    "#!g1.1\n"
   ]
  },
  {
   "cell_type": "code",
   "execution_count": 445,
   "metadata": {
    "cellId": "vydr88tsrlkwimthsvb3t9"
   },
   "outputs": [
    {
     "name": "stderr",
     "output_type": "stream",
     "text": [
      "Some weights of the model checkpoint at bert-base-uncased were not used when initializing BertForMaskedLM: ['cls.seq_relationship.weight', 'cls.seq_relationship.bias']\n",
      "- This IS expected if you are initializing BertForMaskedLM from the checkpoint of a model trained on another task or with another architecture (e.g. initializing a BertForSequenceClassification model from a BertForPreTraining model).\n",
      "- This IS NOT expected if you are initializing BertForMaskedLM from the checkpoint of a model that you expect to be exactly identical (initializing a BertForSequenceClassification model from a BertForSequenceClassification model).\n",
      "textattack: Unknown if model of class <class 'transformers.models.bert.modeling_bert.BertForSequenceClassification'> compatible with goal function <class 'textattack.goal_functions.classification.untargeted_classification.UntargetedClassification'>.\n"
     ]
    }
   ],
   "source": [
    "#!g1.1\n",
    "attack_args = textattack.AttackArgs(num_examples=-1, log_to_csv=\"logColaBae.csv\", checkpoint_interval=20, checkpoint_dir=\"checkpoints\", disable_stdout=True)\n",
    "#!g1.1\n",
    "attack = textattack.attack_recipes.BAEGarg2019.build(model_wrapper)\n",
    "\n",
    "attacker = textattack.Attacker(attack, dataset, attack_args)\n",
    "\n",
    "# что на вход можно подавать в качестве аргумента для датасета? туториал подсказывает, что нужно сначала загрузить датасет в библиотеку"
   ]
  },
  {
   "cell_type": "code",
   "execution_count": 446,
   "metadata": {
    "cellId": "dfjeq7c80ajf159ym5c4"
   },
   "outputs": [
    {
     "name": "stderr",
     "output_type": "stream",
     "text": [
      "textattack: Logging to CSV at path logColaBae.csv\n",
      "  0%|          | 0/527 [00:00<?, ?it/s]"
     ]
    },
    {
     "name": "stdout",
     "output_type": "stream",
     "text": [
      "Attack(\n",
      "  (search_method): GreedyWordSwapWIR(\n",
      "    (wir_method):  delete\n",
      "  )\n",
      "  (goal_function):  UntargetedClassification\n",
      "  (transformation):  WordSwapMaskedLM(\n",
      "    (method):  bae\n",
      "    (masked_lm_name):  BertForMaskedLM\n",
      "    (max_length):  512\n",
      "    (max_candidates):  50\n",
      "    (min_confidence):  0.0\n",
      "  )\n",
      "  (constraints): \n",
      "    (0): PartOfSpeech(\n",
      "        (tagger_type):  nltk\n",
      "        (tagset):  universal\n",
      "        (allow_verb_noun_swap):  True\n",
      "        (compare_against_original):  True\n",
      "      )\n",
      "    (1): UniversalSentenceEncoder(\n",
      "        (metric):  cosine\n",
      "        (threshold):  0.936338023\n",
      "        (window_size):  15\n",
      "        (skip_text_shorter_than_window):  True\n",
      "        (compare_against_original):  True\n",
      "      )\n",
      "    (2): RepeatModification\n",
      "    (3): StopwordModification\n",
      "  (is_black_box):  True\n",
      ") \n",
      "\n"
     ]
    },
    {
     "name": "stderr",
     "output_type": "stream",
     "text": [
      "[Succeeded / Failed / Skipped / Total] 11 / 4 / 5 / 20:   4%|▍         | 20/527 [00:18<07:46,  1.09it/s]textattack: Saving checkpoint under \"checkpoints/1640775142047.ta.chkpt\" at 2021-12-29 10:52:22 after 20 attacks.\n"
     ]
    },
    {
     "name": "stdout",
     "output_type": "stream",
     "text": [
      "\n",
      "\n",
      "=============================================================================================================================\n",
      "=============================================================================================================================\n",
      "\n"
     ]
    },
    {
     "name": "stderr",
     "output_type": "stream",
     "text": [
      "[Succeeded / Failed / Skipped / Total] 22 / 6 / 12 / 40:   8%|▊         | 40/527 [00:28<05:42,  1.42it/s]textattack: Saving checkpoint under \"checkpoints/1640775151792.ta.chkpt\" at 2021-12-29 10:52:31 after 40 attacks.\n"
     ]
    },
    {
     "name": "stdout",
     "output_type": "stream",
     "text": [
      "\n",
      "\n",
      "=============================================================================================================================\n",
      "=============================================================================================================================\n",
      "\n"
     ]
    },
    {
     "name": "stderr",
     "output_type": "stream",
     "text": [
      "[Succeeded / Failed / Skipped / Total] 35 / 9 / 16 / 60:  11%|█▏        | 60/527 [00:42<05:34,  1.40it/s]textattack: Saving checkpoint under \"checkpoints/1640775166634.ta.chkpt\" at 2021-12-29 10:52:46 after 60 attacks.\n"
     ]
    },
    {
     "name": "stdout",
     "output_type": "stream",
     "text": [
      "\n",
      "\n",
      "=============================================================================================================================\n",
      "=============================================================================================================================\n",
      "\n"
     ]
    },
    {
     "name": "stderr",
     "output_type": "stream",
     "text": [
      "[Succeeded / Failed / Skipped / Total] 47 / 11 / 22 / 80:  15%|█▌        | 80/527 [00:54<05:05,  1.47it/s]textattack: Saving checkpoint under \"checkpoints/1640775178239.ta.chkpt\" at 2021-12-29 10:52:58 after 80 attacks.\n"
     ]
    },
    {
     "name": "stdout",
     "output_type": "stream",
     "text": [
      "\n",
      "\n",
      "=============================================================================================================================\n",
      "=============================================================================================================================\n",
      "\n"
     ]
    },
    {
     "name": "stderr",
     "output_type": "stream",
     "text": [
      "[Succeeded / Failed / Skipped / Total] 59 / 14 / 27 / 100:  19%|█▉        | 100/527 [01:08<04:53,  1.46it/s]textattack: Saving checkpoint under \"checkpoints/1640775192308.ta.chkpt\" at 2021-12-29 10:53:12 after 100 attacks.\n"
     ]
    },
    {
     "name": "stdout",
     "output_type": "stream",
     "text": [
      "\n",
      "\n",
      "=============================================================================================================================\n",
      "=============================================================================================================================\n",
      "\n"
     ]
    },
    {
     "name": "stderr",
     "output_type": "stream",
     "text": [
      "[Succeeded / Failed / Skipped / Total] 73 / 16 / 31 / 120:  23%|██▎       | 120/527 [01:24<04:47,  1.42it/s]textattack: Saving checkpoint under \"checkpoints/1640775208327.ta.chkpt\" at 2021-12-29 10:53:28 after 120 attacks.\n"
     ]
    },
    {
     "name": "stdout",
     "output_type": "stream",
     "text": [
      "\n",
      "\n",
      "=============================================================================================================================\n",
      "=============================================================================================================================\n",
      "\n"
     ]
    },
    {
     "name": "stderr",
     "output_type": "stream",
     "text": [
      "[Succeeded / Failed / Skipped / Total] 88 / 17 / 34 / 139:  26%|██▋       | 139/527 [01:40<04:40,  1.38it/s]"
     ]
    },
    {
     "name": "stdout",
     "output_type": "stream",
     "text": [
      "\n",
      "\n",
      "=============================================================================================================================\n",
      "=============================================================================================================================\n",
      "\n"
     ]
    },
    {
     "name": "stderr",
     "output_type": "stream",
     "text": [
      "[Succeeded / Failed / Skipped / Total] 89 / 17 / 34 / 140:  27%|██▋       | 140/527 [01:41<04:39,  1.38it/s]textattack: Saving checkpoint under \"checkpoints/1640775224807.ta.chkpt\" at 2021-12-29 10:53:44 after 140 attacks.\n",
      "[Succeeded / Failed / Skipped / Total] 107 / 18 / 35 / 160:  30%|███       | 160/527 [01:54<04:23,  1.39it/s]textattack: Saving checkpoint under \"checkpoints/1640775238348.ta.chkpt\" at 2021-12-29 10:53:58 after 160 attacks.\n",
      "[Succeeded / Failed / Skipped / Total] 107 / 18 / 37 / 162:  31%|███       | 162/527 [01:54<04:18,  1.41it/s]"
     ]
    },
    {
     "name": "stdout",
     "output_type": "stream",
     "text": [
      "\n",
      "\n",
      "=============================================================================================================================\n",
      "=============================================================================================================================\n",
      "\n"
     ]
    },
    {
     "name": "stderr",
     "output_type": "stream",
     "text": [
      "[Succeeded / Failed / Skipped / Total] 122 / 20 / 38 / 180:  34%|███▍      | 180/527 [02:06<04:03,  1.42it/s]textattack: Saving checkpoint under \"checkpoints/1640775250177.ta.chkpt\" at 2021-12-29 10:54:10 after 180 attacks.\n"
     ]
    },
    {
     "name": "stdout",
     "output_type": "stream",
     "text": [
      "\n",
      "\n",
      "=============================================================================================================================\n",
      "=============================================================================================================================\n",
      "\n"
     ]
    },
    {
     "name": "stderr",
     "output_type": "stream",
     "text": [
      "[Succeeded / Failed / Skipped / Total] 135 / 22 / 43 / 200:  38%|███▊      | 200/527 [02:18<03:46,  1.44it/s]textattack: Saving checkpoint under \"checkpoints/1640775262324.ta.chkpt\" at 2021-12-29 10:54:22 after 200 attacks.\n"
     ]
    },
    {
     "name": "stdout",
     "output_type": "stream",
     "text": [
      "\n",
      "\n",
      "=============================================================================================================================\n",
      "=============================================================================================================================\n",
      "\n"
     ]
    },
    {
     "name": "stderr",
     "output_type": "stream",
     "text": [
      "[Succeeded / Failed / Skipped / Total] 149 / 25 / 46 / 220:  42%|████▏     | 220/527 [02:36<03:37,  1.41it/s]textattack: Saving checkpoint under \"checkpoints/1640775279787.ta.chkpt\" at 2021-12-29 10:54:39 after 220 attacks.\n",
      "[Succeeded / Failed / Skipped / Total] 149 / 25 / 47 / 221:  42%|████▏     | 221/527 [02:36<03:36,  1.42it/s]"
     ]
    },
    {
     "name": "stdout",
     "output_type": "stream",
     "text": [
      "\n",
      "\n",
      "=============================================================================================================================\n",
      "=============================================================================================================================\n",
      "\n"
     ]
    },
    {
     "name": "stderr",
     "output_type": "stream",
     "text": [
      "[Succeeded / Failed / Skipped / Total] 158 / 27 / 48 / 233:  44%|████▍     | 233/527 [02:43<03:25,  1.43it/s]"
     ]
    },
    {
     "name": "stdout",
     "output_type": "stream",
     "text": [
      "\n",
      "\n",
      "=============================================================================================================================\n",
      "=============================================================================================================================\n",
      "\n",
      "\n",
      "\n",
      "=============================================================================================================================\n",
      "=============================================================================================================================\n",
      "\n",
      "\n",
      "\n",
      "=============================================================================================================================\n",
      "=============================================================================================================================\n",
      "\n",
      "\n",
      "\n",
      "=============================================================================================================================\n",
      "=============================================================================================================================\n",
      "\n",
      "\n",
      "\n",
      "=============================================================================================================================\n",
      "=============================================================================================================================\n",
      "\n",
      "\n",
      "\n",
      "=============================================================================================================================\n",
      "=============================================================================================================================\n",
      "\n",
      "\n",
      "\n",
      "=============================================================================================================================\n",
      "=============================================================================================================================\n",
      "\n",
      "\n",
      "\n",
      "=============================================================================================================================\n",
      "=============================================================================================================================\n",
      "\n",
      "\n",
      "\n",
      "=============================================================================================================================\n",
      "=============================================================================================================================\n",
      "\n",
      "\n",
      "\n",
      "=============================================================================================================================\n",
      "=============================================================================================================================\n",
      "\n",
      "\n",
      "\n",
      "=============================================================================================================================\n",
      "=============================================================================================================================\n",
      "\n"
     ]
    },
    {
     "name": "stderr",
     "output_type": "stream",
     "text": [
      "[Succeeded / Failed / Skipped / Total] 165 / 27 / 48 / 240:  46%|████▌     | 240/527 [02:49<03:22,  1.42it/s]textattack: Saving checkpoint under \"checkpoints/1640775292727.ta.chkpt\" at 2021-12-29 10:54:52 after 240 attacks.\n",
      "[Succeeded / Failed / Skipped / Total] 183 / 29 / 48 / 260:  49%|████▉     | 260/527 [03:05<03:10,  1.40it/s]textattack: Saving checkpoint under \"checkpoints/1640775308908.ta.chkpt\" at 2021-12-29 10:55:08 after 260 attacks.\n",
      "[Succeeded / Failed / Skipped / Total] 192 / 32 / 56 / 280:  53%|█████▎    | 280/527 [03:15<02:52,  1.43it/s]textattack: Saving checkpoint under \"checkpoints/1640775319117.ta.chkpt\" at 2021-12-29 10:55:19 after 280 attacks.\n",
      "[Succeeded / Failed / Skipped / Total] 206 / 35 / 59 / 300:  57%|█████▋    | 300/527 [03:29<02:38,  1.43it/s]textattack: Saving checkpoint under \"checkpoints/1640775333041.ta.chkpt\" at 2021-12-29 10:55:33 after 300 attacks.\n",
      "[Succeeded / Failed / Skipped / Total] 221 / 36 / 63 / 320:  61%|██████    | 320/527 [03:44<02:24,  1.43it/s]textattack: Saving checkpoint under \"checkpoints/1640775347750.ta.chkpt\" at 2021-12-29 10:55:47 after 320 attacks.\n",
      "[Succeeded / Failed / Skipped / Total] 236 / 36 / 68 / 340:  65%|██████▍   | 340/527 [03:57<02:10,  1.43it/s]textattack: Saving checkpoint under \"checkpoints/1640775360922.ta.chkpt\" at 2021-12-29 10:56:00 after 340 attacks.\n",
      "[Succeeded / Failed / Skipped / Total] 252 / 40 / 68 / 360:  68%|██████▊   | 360/527 [04:16<01:59,  1.40it/s]textattack: Saving checkpoint under \"checkpoints/1640775380275.ta.chkpt\" at 2021-12-29 10:56:20 after 360 attacks.\n",
      "[Succeeded / Failed / Skipped / Total] 265 / 45 / 70 / 380:  72%|███████▏  | 380/527 [04:32<01:45,  1.40it/s]textattack: Saving checkpoint under \"checkpoints/1640775395715.ta.chkpt\" at 2021-12-29 10:56:35 after 380 attacks.\n",
      "[Succeeded / Failed / Skipped / Total] 281 / 45 / 74 / 400:  76%|███████▌  | 400/527 [04:43<01:30,  1.41it/s]textattack: Saving checkpoint under \"checkpoints/1640775407285.ta.chkpt\" at 2021-12-29 10:56:47 after 400 attacks.\n",
      "[Succeeded / Failed / Skipped / Total] 297 / 47 / 76 / 420:  80%|███████▉  | 420/527 [04:58<01:15,  1.41it/s]textattack: Saving checkpoint under \"checkpoints/1640775421852.ta.chkpt\" at 2021-12-29 10:57:01 after 420 attacks.\n",
      "[Succeeded / Failed / Skipped / Total] 310 / 52 / 78 / 440:  83%|████████▎ | 440/527 [05:15<01:02,  1.39it/s]textattack: Saving checkpoint under \"checkpoints/1640775439553.ta.chkpt\" at 2021-12-29 10:57:19 after 440 attacks.\n",
      "[Succeeded / Failed / Skipped / Total] 322 / 56 / 82 / 460:  87%|████████▋ | 460/527 [05:29<00:48,  1.39it/s]textattack: Saving checkpoint under \"checkpoints/1640775453444.ta.chkpt\" at 2021-12-29 10:57:33 after 460 attacks.\n",
      "[Succeeded / Failed / Skipped / Total] 322 / 56 / 83 / 461:  87%|████████▋ | 461/527 [05:29<00:47,  1.40it/s]"
     ]
    },
    {
     "name": "stdout",
     "output_type": "stream",
     "text": [
      "\n",
      "\n",
      "=============================================================================================================================\n",
      "=============================================================================================================================\n",
      "\n"
     ]
    },
    {
     "name": "stderr",
     "output_type": "stream",
     "text": [
      "[Succeeded / Failed / Skipped / Total] 334 / 60 / 86 / 480:  91%|█████████ | 480/527 [05:40<00:33,  1.41it/s]textattack: Saving checkpoint under \"checkpoints/1640775464576.ta.chkpt\" at 2021-12-29 10:57:44 after 480 attacks.\n",
      "[Succeeded / Failed / Skipped / Total] 334 / 60 / 87 / 481:  91%|█████████▏| 481/527 [05:40<00:32,  1.41it/s]"
     ]
    },
    {
     "name": "stdout",
     "output_type": "stream",
     "text": [
      "\n",
      "\n",
      "=============================================================================================================================\n",
      "=============================================================================================================================\n",
      "\n"
     ]
    },
    {
     "name": "stderr",
     "output_type": "stream",
     "text": [
      "[Succeeded / Failed / Skipped / Total] 350 / 62 / 88 / 500:  95%|█████████▍| 500/527 [05:56<00:19,  1.40it/s]textattack: Saving checkpoint under \"checkpoints/1640775480138.ta.chkpt\" at 2021-12-29 10:58:00 after 500 attacks.\n"
     ]
    },
    {
     "name": "stdout",
     "output_type": "stream",
     "text": [
      "\n",
      "\n",
      "=============================================================================================================================\n",
      "=============================================================================================================================\n",
      "\n"
     ]
    },
    {
     "name": "stderr",
     "output_type": "stream",
     "text": [
      "[Succeeded / Failed / Skipped / Total] 364 / 65 / 91 / 520:  99%|█████████▊| 520/527 [06:07<00:04,  1.41it/s]textattack: Saving checkpoint under \"checkpoints/1640775491330.ta.chkpt\" at 2021-12-29 10:58:11 after 520 attacks.\n"
     ]
    },
    {
     "name": "stdout",
     "output_type": "stream",
     "text": [
      "\n",
      "\n",
      "=============================================================================================================================\n",
      "=============================================================================================================================\n",
      "\n"
     ]
    },
    {
     "name": "stderr",
     "output_type": "stream",
     "text": [
      "[Succeeded / Failed / Skipped / Total] 368 / 65 / 92 / 525: 100%|█████████▉| 525/527 [06:10<00:01,  1.42it/s]"
     ]
    },
    {
     "name": "stdout",
     "output_type": "stream",
     "text": [
      "\n",
      "+-------------------------------+--------+\n",
      "| Attack Results                |        |\n",
      "+-------------------------------+--------+\n",
      "| Number of successful attacks: | 370    |\n",
      "| Number of failed attacks:     | 65     |\n",
      "| Number of skipped attacks:    | 92     |\n",
      "| Original accuracy:            | 82.54% |\n",
      "| Accuracy under attack:        | 12.33% |\n",
      "| Attack success rate:          | 85.06% |\n",
      "| Average perturbed word %:     | 18.71% |\n",
      "| Average num. words per input: | 7.54   |\n",
      "| Avg num queries:              | 60.77  |\n",
      "+-------------------------------+--------+\n",
      "CPU times: user 4min 39s, sys: 1min 43s, total: 6min 22s\n",
      "Wall time: 6min 11s\n"
     ]
    },
    {
     "name": "stderr",
     "output_type": "stream",
     "text": [
      "[Succeeded / Failed / Skipped / Total] 370 / 65 / 92 / 527: 100%|██████████| 527/527 [06:11<00:00,  1.42it/s]\n"
     ]
    },
    {
     "data": {
      "text/plain": [
       "[<textattack.attack_results.successful_attack_result.SuccessfulAttackResult at 0x7f7aa1f633d0>,\n",
       " <textattack.attack_results.successful_attack_result.SuccessfulAttackResult at 0x7f7a9d30dbd0>,\n",
       " <textattack.attack_results.successful_attack_result.SuccessfulAttackResult at 0x7f7ab79e9e90>,\n",
       " <textattack.attack_results.successful_attack_result.SuccessfulAttackResult at 0x7f7ab984fa10>,\n",
       " <textattack.attack_results.skipped_attack_result.SkippedAttackResult at 0x7f7aae54ce10>,\n",
       " <textattack.attack_results.skipped_attack_result.SkippedAttackResult at 0x7f7c67f9c5d0>,\n",
       " <textattack.attack_results.skipped_attack_result.SkippedAttackResult at 0x7f7c67f6c2d0>,\n",
       " <textattack.attack_results.successful_attack_result.SuccessfulAttackResult at 0x7f7835795250>,\n",
       " <textattack.attack_results.successful_attack_result.SuccessfulAttackResult at 0x7f7ab984f390>,\n",
       " <textattack.attack_results.successful_attack_result.SuccessfulAttackResult at 0x7f7a9e21c950>,\n",
       " <textattack.attack_results.successful_attack_result.SuccessfulAttackResult at 0x7f7ce0039050>,\n",
       " <textattack.attack_results.failed_attack_result.FailedAttackResult at 0x7f7aacda98d0>,\n",
       " <textattack.attack_results.successful_attack_result.SuccessfulAttackResult at 0x7f7aa9996810>,\n",
       " <textattack.attack_results.skipped_attack_result.SkippedAttackResult at 0x7f7aa8279350>,\n",
       " <textattack.attack_results.failed_attack_result.FailedAttackResult at 0x7f7aaa3c80d0>,\n",
       " <textattack.attack_results.successful_attack_result.SuccessfulAttackResult at 0x7f7aaa0fc5d0>,\n",
       " <textattack.attack_results.skipped_attack_result.SkippedAttackResult at 0x7f7aa85b9750>,\n",
       " <textattack.attack_results.failed_attack_result.FailedAttackResult at 0x7f7aaec7c790>,\n",
       " <textattack.attack_results.successful_attack_result.SuccessfulAttackResult at 0x7f7ab3d64c10>,\n",
       " <textattack.attack_results.failed_attack_result.FailedAttackResult at 0x7f7aa9785510>,\n",
       " <textattack.attack_results.successful_attack_result.SuccessfulAttackResult at 0x7f7aa996ab90>,\n",
       " <textattack.attack_results.failed_attack_result.FailedAttackResult at 0x7f7af5b82990>,\n",
       " <textattack.attack_results.successful_attack_result.SuccessfulAttackResult at 0x7f7aa1522310>,\n",
       " <textattack.attack_results.skipped_attack_result.SkippedAttackResult at 0x7f7c67f9c790>,\n",
       " <textattack.attack_results.successful_attack_result.SuccessfulAttackResult at 0x7f7aa9974e50>,\n",
       " <textattack.attack_results.successful_attack_result.SuccessfulAttackResult at 0x7f7ab1fcf750>,\n",
       " <textattack.attack_results.failed_attack_result.FailedAttackResult at 0x7f7aacd04910>,\n",
       " <textattack.attack_results.successful_attack_result.SuccessfulAttackResult at 0x7f7ab91e4650>,\n",
       " <textattack.attack_results.skipped_attack_result.SkippedAttackResult at 0x7f7aaa11f1d0>,\n",
       " <textattack.attack_results.skipped_attack_result.SkippedAttackResult at 0x7f7af4a49a50>,\n",
       " <textattack.attack_results.successful_attack_result.SuccessfulAttackResult at 0x7f7ab3d57f10>,\n",
       " <textattack.attack_results.successful_attack_result.SuccessfulAttackResult at 0x7f7aac1a6050>,\n",
       " <textattack.attack_results.skipped_attack_result.SkippedAttackResult at 0x7f7ab3d57f50>,\n",
       " <textattack.attack_results.skipped_attack_result.SkippedAttackResult at 0x7f7aaaeaf7d0>,\n",
       " <textattack.attack_results.skipped_attack_result.SkippedAttackResult at 0x7f7aad6d9250>,\n",
       " <textattack.attack_results.successful_attack_result.SuccessfulAttackResult at 0x7f7aa8263f50>,\n",
       " <textattack.attack_results.successful_attack_result.SuccessfulAttackResult at 0x7f7aa1420bd0>,\n",
       " <textattack.attack_results.successful_attack_result.SuccessfulAttackResult at 0x7f7aac1b2b90>,\n",
       " <textattack.attack_results.successful_attack_result.SuccessfulAttackResult at 0x7f7ab8354ad0>,\n",
       " <textattack.attack_results.skipped_attack_result.SkippedAttackResult at 0x7f7795409f50>,\n",
       " <textattack.attack_results.successful_attack_result.SuccessfulAttackResult at 0x7f7aaa113bd0>,\n",
       " <textattack.attack_results.skipped_attack_result.SkippedAttackResult at 0x7f7795419450>,\n",
       " <textattack.attack_results.failed_attack_result.FailedAttackResult at 0x7f7cefd96dd0>,\n",
       " <textattack.attack_results.successful_attack_result.SuccessfulAttackResult at 0x7f7aad6d9090>,\n",
       " <textattack.attack_results.successful_attack_result.SuccessfulAttackResult at 0x7f7ab6793310>,\n",
       " <textattack.attack_results.failed_attack_result.FailedAttackResult at 0x7f7aaec4ef50>,\n",
       " <textattack.attack_results.successful_attack_result.SuccessfulAttackResult at 0x7f7c68a88710>,\n",
       " <textattack.attack_results.skipped_attack_result.SkippedAttackResult at 0x7f7ab74feb10>,\n",
       " <textattack.attack_results.successful_attack_result.SuccessfulAttackResult at 0x7f7ce00e9690>,\n",
       " <textattack.attack_results.successful_attack_result.SuccessfulAttackResult at 0x7f7aad6e03d0>,\n",
       " <textattack.attack_results.successful_attack_result.SuccessfulAttackResult at 0x7f7aaad96d50>,\n",
       " <textattack.attack_results.skipped_attack_result.SkippedAttackResult at 0x7f7aaa6202d0>,\n",
       " <textattack.attack_results.successful_attack_result.SuccessfulAttackResult at 0x7f7ab559e6d0>,\n",
       " <textattack.attack_results.successful_attack_result.SuccessfulAttackResult at 0x7f779544f390>,\n",
       " <textattack.attack_results.successful_attack_result.SuccessfulAttackResult at 0x7f7aa8d416d0>,\n",
       " <textattack.attack_results.successful_attack_result.SuccessfulAttackResult at 0x7f7aaf893910>,\n",
       " <textattack.attack_results.successful_attack_result.SuccessfulAttackResult at 0x7f7aaa3e62d0>,\n",
       " <textattack.attack_results.skipped_attack_result.SkippedAttackResult at 0x7f7ab0a4e450>,\n",
       " <textattack.attack_results.failed_attack_result.FailedAttackResult at 0x7f7ab37cf050>,\n",
       " <textattack.attack_results.successful_attack_result.SuccessfulAttackResult at 0x7f7ab9870d10>,\n",
       " <textattack.attack_results.failed_attack_result.FailedAttackResult at 0x7f7af4a4f150>,\n",
       " <textattack.attack_results.successful_attack_result.SuccessfulAttackResult at 0x7f7aaaeaf090>,\n",
       " <textattack.attack_results.skipped_attack_result.SkippedAttackResult at 0x7f7aae85c450>,\n",
       " <textattack.attack_results.successful_attack_result.SuccessfulAttackResult at 0x7f7c68a9d690>,\n",
       " <textattack.attack_results.successful_attack_result.SuccessfulAttackResult at 0x7f7aaa113210>,\n",
       " <textattack.attack_results.successful_attack_result.SuccessfulAttackResult at 0x7f7aaaeafdd0>,\n",
       " <textattack.attack_results.successful_attack_result.SuccessfulAttackResult at 0x7f7ab0a4efd0>,\n",
       " <textattack.attack_results.skipped_attack_result.SkippedAttackResult at 0x7f7aac8e7c50>,\n",
       " <textattack.attack_results.skipped_attack_result.SkippedAttackResult at 0x7f7ab1462390>,\n",
       " <textattack.attack_results.successful_attack_result.SuccessfulAttackResult at 0x7f7aaac250d0>,\n",
       " <textattack.attack_results.successful_attack_result.SuccessfulAttackResult at 0x7f7cecfdae50>,\n",
       " <textattack.attack_results.failed_attack_result.FailedAttackResult at 0x7f7aae01a510>,\n",
       " <textattack.attack_results.successful_attack_result.SuccessfulAttackResult at 0x7f7aaa10ed50>,\n",
       " <textattack.attack_results.successful_attack_result.SuccessfulAttackResult at 0x7f7ab91da8d0>,\n",
       " <textattack.attack_results.successful_attack_result.SuccessfulAttackResult at 0x7f7aac8e7e50>,\n",
       " <textattack.attack_results.skipped_attack_result.SkippedAttackResult at 0x7f7aaa60c0d0>,\n",
       " <textattack.attack_results.skipped_attack_result.SkippedAttackResult at 0x7f7aad394a90>,\n",
       " <textattack.attack_results.successful_attack_result.SuccessfulAttackResult at 0x7f7aac789b50>,\n",
       " <textattack.attack_results.skipped_attack_result.SkippedAttackResult at 0x7f7ab0a4ef90>,\n",
       " <textattack.attack_results.successful_attack_result.SuccessfulAttackResult at 0x7f7aab3fb410>,\n",
       " <textattack.attack_results.failed_attack_result.FailedAttackResult at 0x7f7aab3fbe10>,\n",
       " <textattack.attack_results.successful_attack_result.SuccessfulAttackResult at 0x7f7c626f0410>,\n",
       " <textattack.attack_results.skipped_attack_result.SkippedAttackResult at 0x7f7aa9457350>,\n",
       " <textattack.attack_results.skipped_attack_result.SkippedAttackResult at 0x7f7aae01a0d0>,\n",
       " <textattack.attack_results.successful_attack_result.SuccessfulAttackResult at 0x7f7c627216d0>,\n",
       " <textattack.attack_results.successful_attack_result.SuccessfulAttackResult at 0x7f7835855ad0>,\n",
       " <textattack.attack_results.successful_attack_result.SuccessfulAttackResult at 0x7f7aafb6dfd0>,\n",
       " <textattack.attack_results.failed_attack_result.FailedAttackResult at 0x7f7aa979a490>,\n",
       " <textattack.attack_results.successful_attack_result.SuccessfulAttackResult at 0x7f7aab1cda10>,\n",
       " <textattack.attack_results.skipped_attack_result.SkippedAttackResult at 0x7f7aad8cee90>,\n",
       " <textattack.attack_results.successful_attack_result.SuccessfulAttackResult at 0x7f7ab9870e10>,\n",
       " <textattack.attack_results.successful_attack_result.SuccessfulAttackResult at 0x7f7aaada1450>,\n",
       " <textattack.attack_results.successful_attack_result.SuccessfulAttackResult at 0x7f7835664e50>,\n",
       " <textattack.attack_results.successful_attack_result.SuccessfulAttackResult at 0x7f7aa966a9d0>,\n",
       " <textattack.attack_results.skipped_attack_result.SkippedAttackResult at 0x7f7aaa629d50>,\n",
       " <textattack.attack_results.successful_attack_result.SuccessfulAttackResult at 0x7f7aad08af90>,\n",
       " <textattack.attack_results.successful_attack_result.SuccessfulAttackResult at 0x7f7aa99a4d50>,\n",
       " <textattack.attack_results.skipped_attack_result.SkippedAttackResult at 0x7f7aa967d3d0>,\n",
       " <textattack.attack_results.successful_attack_result.SuccessfulAttackResult at 0x7f7ab37c5890>,\n",
       " <textattack.attack_results.failed_attack_result.FailedAttackResult at 0x7f7aa9638550>,\n",
       " <textattack.attack_results.successful_attack_result.SuccessfulAttackResult at 0x7f7aaa629310>,\n",
       " <textattack.attack_results.skipped_attack_result.SkippedAttackResult at 0x7f7cec6106d0>,\n",
       " <textattack.attack_results.successful_attack_result.SuccessfulAttackResult at 0x7f7aa21b3b10>,\n",
       " <textattack.attack_results.successful_attack_result.SuccessfulAttackResult at 0x7f7ab79d1450>,\n",
       " <textattack.attack_results.successful_attack_result.SuccessfulAttackResult at 0x7f7aac1a63d0>,\n",
       " <textattack.attack_results.skipped_attack_result.SkippedAttackResult at 0x7f7aaa79e3d0>,\n",
       " <textattack.attack_results.successful_attack_result.SuccessfulAttackResult at 0x7f7aad6ca9d0>,\n",
       " <textattack.attack_results.failed_attack_result.FailedAttackResult at 0x7f78ed5bd4d0>,\n",
       " <textattack.attack_results.skipped_attack_result.SkippedAttackResult at 0x7f7795419050>,\n",
       " <textattack.attack_results.successful_attack_result.SuccessfulAttackResult at 0x7f7aaada1190>,\n",
       " <textattack.attack_results.successful_attack_result.SuccessfulAttackResult at 0x7f7ab9870510>,\n",
       " <textattack.attack_results.successful_attack_result.SuccessfulAttackResult at 0x7f7aab1f2790>,\n",
       " <textattack.attack_results.successful_attack_result.SuccessfulAttackResult at 0x7f7aae86f710>,\n",
       " <textattack.attack_results.successful_attack_result.SuccessfulAttackResult at 0x7f7aac7b7b90>,\n",
       " <textattack.attack_results.failed_attack_result.FailedAttackResult at 0x7f7aae6374d0>,\n",
       " <textattack.attack_results.successful_attack_result.SuccessfulAttackResult at 0x7f7aacd29150>,\n",
       " <textattack.attack_results.skipped_attack_result.SkippedAttackResult at 0x7f7aac7b7ed0>,\n",
       " <textattack.attack_results.successful_attack_result.SuccessfulAttackResult at 0x7f7ab363d7d0>,\n",
       " <textattack.attack_results.successful_attack_result.SuccessfulAttackResult at 0x7f7ab2cc3690>,\n",
       " <textattack.attack_results.successful_attack_result.SuccessfulAttackResult at 0x7f7898d116d0>,\n",
       " <textattack.attack_results.successful_attack_result.SuccessfulAttackResult at 0x7f77953b9150>,\n",
       " <textattack.attack_results.successful_attack_result.SuccessfulAttackResult at 0x7f7aaa60c310>,\n",
       " <textattack.attack_results.skipped_attack_result.SkippedAttackResult at 0x7f7ab363d050>,\n",
       " <textattack.attack_results.skipped_attack_result.SkippedAttackResult at 0x7f7aacdbb490>,\n",
       " <textattack.attack_results.skipped_attack_result.SkippedAttackResult at 0x7f7aab38b310>,\n",
       " <textattack.attack_results.successful_attack_result.SuccessfulAttackResult at 0x7f7ab20fca50>,\n",
       " <textattack.attack_results.successful_attack_result.SuccessfulAttackResult at 0x7f7aab1cd350>,\n",
       " <textattack.attack_results.successful_attack_result.SuccessfulAttackResult at 0x7f7aad08a210>,\n",
       " <textattack.attack_results.successful_attack_result.SuccessfulAttackResult at 0x7f7ab2cea190>,\n",
       " <textattack.attack_results.successful_attack_result.SuccessfulAttackResult at 0x7f7abb6dbc90>,\n",
       " <textattack.attack_results.successful_attack_result.SuccessfulAttackResult at 0x7f7aac8e7f10>,\n",
       " <textattack.attack_results.failed_attack_result.FailedAttackResult at 0x7f7ab2cc3190>,\n",
       " <textattack.attack_results.successful_attack_result.SuccessfulAttackResult at 0x7f779545e790>,\n",
       " <textattack.attack_results.successful_attack_result.SuccessfulAttackResult at 0x7f7835784a50>,\n",
       " <textattack.attack_results.successful_attack_result.SuccessfulAttackResult at 0x7f7ab0c04c90>,\n",
       " <textattack.attack_results.successful_attack_result.SuccessfulAttackResult at 0x7f7c67f82350>,\n",
       " <textattack.attack_results.successful_attack_result.SuccessfulAttackResult at 0x7f7ab1812910>,\n",
       " <textattack.attack_results.successful_attack_result.SuccessfulAttackResult at 0x7f7aacdbbfd0>,\n",
       " <textattack.attack_results.successful_attack_result.SuccessfulAttackResult at 0x7f7835664c10>,\n",
       " <textattack.attack_results.successful_attack_result.SuccessfulAttackResult at 0x7f7898d117d0>,\n",
       " <textattack.attack_results.successful_attack_result.SuccessfulAttackResult at 0x7f7aad586510>,\n",
       " <textattack.attack_results.successful_attack_result.SuccessfulAttackResult at 0x7f7aab1f2b50>,\n",
       " <textattack.attack_results.successful_attack_result.SuccessfulAttackResult at 0x7f7ab2cc3b90>,\n",
       " <textattack.attack_results.successful_attack_result.SuccessfulAttackResult at 0x7f7aa945ecd0>,\n",
       " <textattack.attack_results.successful_attack_result.SuccessfulAttackResult at 0x7f7ab2c04110>,\n",
       " <textattack.attack_results.successful_attack_result.SuccessfulAttackResult at 0x7f7aac79b490>,\n",
       " <textattack.attack_results.successful_attack_result.SuccessfulAttackResult at 0x7f7aaa13e6d0>,\n",
       " <textattack.attack_results.successful_attack_result.SuccessfulAttackResult at 0x7f7a9c351510>,\n",
       " <textattack.attack_results.successful_attack_result.SuccessfulAttackResult at 0x7f7ab2e45090>,\n",
       " <textattack.attack_results.successful_attack_result.SuccessfulAttackResult at 0x7f779545e590>,\n",
       " <textattack.attack_results.successful_attack_result.SuccessfulAttackResult at 0x7f7aa945ea90>,\n",
       " <textattack.attack_results.successful_attack_result.SuccessfulAttackResult at 0x7f7aac789e90>,\n",
       " <textattack.attack_results.successful_attack_result.SuccessfulAttackResult at 0x7f77953a8690>,\n",
       " <textattack.attack_results.skipped_attack_result.SkippedAttackResult at 0x7f77953a8110>,\n",
       " <textattack.attack_results.failed_attack_result.FailedAttackResult at 0x7f7aaac25910>,\n",
       " <textattack.attack_results.successful_attack_result.SuccessfulAttackResult at 0x7f7ab1e8add0>,\n",
       " <textattack.attack_results.successful_attack_result.SuccessfulAttackResult at 0x7f7aab1c9150>,\n",
       " <textattack.attack_results.successful_attack_result.SuccessfulAttackResult at 0x7f7aaa6360d0>,\n",
       " <textattack.attack_results.successful_attack_result.SuccessfulAttackResult at 0x7f7aab1cdd90>,\n",
       " <textattack.attack_results.successful_attack_result.SuccessfulAttackResult at 0x7f7aaa636050>,\n",
       " <textattack.attack_results.skipped_attack_result.SkippedAttackResult at 0x7f7835664a50>,\n",
       " <textattack.attack_results.skipped_attack_result.SkippedAttackResult at 0x7f7aac625a50>,\n",
       " <textattack.attack_results.successful_attack_result.SuccessfulAttackResult at 0x7f7aabc73e50>,\n",
       " <textattack.attack_results.successful_attack_result.SuccessfulAttackResult at 0x7f7aaa636650>,\n",
       " <textattack.attack_results.successful_attack_result.SuccessfulAttackResult at 0x7f7835795c50>,\n",
       " <textattack.attack_results.successful_attack_result.SuccessfulAttackResult at 0x7f779545e210>,\n",
       " <textattack.attack_results.failed_attack_result.FailedAttackResult at 0x7f7898d11190>,\n",
       " <textattack.attack_results.failed_attack_result.FailedAttackResult at 0x7f7a5067b050>,\n",
       " <textattack.attack_results.successful_attack_result.SuccessfulAttackResult at 0x7f7aabc62050>,\n",
       " <textattack.attack_results.successful_attack_result.SuccessfulAttackResult at 0x7f7ab1459110>,\n",
       " <textattack.attack_results.successful_attack_result.SuccessfulAttackResult at 0x7f7ab076dd50>,\n",
       " <textattack.attack_results.successful_attack_result.SuccessfulAttackResult at 0x7f7aaac25d50>,\n",
       " <textattack.attack_results.successful_attack_result.SuccessfulAttackResult at 0x7f7aabc62250>,\n",
       " <textattack.attack_results.skipped_attack_result.SkippedAttackResult at 0x7f7aacd908d0>,\n",
       " <textattack.attack_results.successful_attack_result.SuccessfulAttackResult at 0x7f7aacaaa350>,\n",
       " <textattack.attack_results.successful_attack_result.SuccessfulAttackResult at 0x7f7ab233fd50>,\n",
       " <textattack.attack_results.successful_attack_result.SuccessfulAttackResult at 0x7f7aab1f2050>,\n",
       " <textattack.attack_results.successful_attack_result.SuccessfulAttackResult at 0x7f7aa99e86d0>,\n",
       " <textattack.attack_results.successful_attack_result.SuccessfulAttackResult at 0x7f7aacd90750>,\n",
       " <textattack.attack_results.successful_attack_result.SuccessfulAttackResult at 0x7f77953eca10>,\n",
       " <textattack.attack_results.successful_attack_result.SuccessfulAttackResult at 0x7f7aacc36d90>,\n",
       " <textattack.attack_results.failed_attack_result.FailedAttackResult at 0x7f7c67f82090>,\n",
       " <textattack.attack_results.successful_attack_result.SuccessfulAttackResult at 0x7f7aacaaaa10>,\n",
       " <textattack.attack_results.skipped_attack_result.SkippedAttackResult at 0x7f7aa2b36a10>,\n",
       " <textattack.attack_results.successful_attack_result.SuccessfulAttackResult at 0x7f7ab1468d90>,\n",
       " <textattack.attack_results.successful_attack_result.SuccessfulAttackResult at 0x7f7aab1f26d0>,\n",
       " <textattack.attack_results.successful_attack_result.SuccessfulAttackResult at 0x7f7aa9d40fd0>,\n",
       " <textattack.attack_results.successful_attack_result.SuccessfulAttackResult at 0x7f7ce0173a50>,\n",
       " <textattack.attack_results.skipped_attack_result.SkippedAttackResult at 0x7f7aacd90290>,\n",
       " <textattack.attack_results.skipped_attack_result.SkippedAttackResult at 0x7f7aac1fd190>,\n",
       " <textattack.attack_results.successful_attack_result.SuccessfulAttackResult at 0x7f7aac8e0b90>,\n",
       " <textattack.attack_results.skipped_attack_result.SkippedAttackResult at 0x7f7aac8e0c90>,\n",
       " <textattack.attack_results.failed_attack_result.FailedAttackResult at 0x7f7aacd90210>,\n",
       " <textattack.attack_results.successful_attack_result.SuccessfulAttackResult at 0x7f7aab38b410>,\n",
       " <textattack.attack_results.successful_attack_result.SuccessfulAttackResult at 0x7f7aa9d40190>,\n",
       " <textattack.attack_results.successful_attack_result.SuccessfulAttackResult at 0x7f77953eca50>,\n",
       " <textattack.attack_results.successful_attack_result.SuccessfulAttackResult at 0x7f7ab146a210>,\n",
       " <textattack.attack_results.successful_attack_result.SuccessfulAttackResult at 0x7f7ab0c04f10>,\n",
       " <textattack.attack_results.successful_attack_result.SuccessfulAttackResult at 0x7f7ab1e8a710>,\n",
       " <textattack.attack_results.skipped_attack_result.SkippedAttackResult at 0x7f7ab1e8ad50>,\n",
       " <textattack.attack_results.successful_attack_result.SuccessfulAttackResult at 0x7f7ab232fd50>,\n",
       " <textattack.attack_results.skipped_attack_result.SkippedAttackResult at 0x7f7aacc36110>,\n",
       " <textattack.attack_results.skipped_attack_result.SkippedAttackResult at 0x7f7ab232f6d0>,\n",
       " <textattack.attack_results.successful_attack_result.SuccessfulAttackResult at 0x7f7aae55b2d0>,\n",
       " <textattack.attack_results.successful_attack_result.SuccessfulAttackResult at 0x7f7aa9ee5390>,\n",
       " <textattack.attack_results.successful_attack_result.SuccessfulAttackResult at 0x7f7aacdb29d0>,\n",
       " <textattack.attack_results.successful_attack_result.SuccessfulAttackResult at 0x7f7aab3c5390>,\n",
       " <textattack.attack_results.failed_attack_result.FailedAttackResult at 0x7f7ab2316590>,\n",
       " <textattack.attack_results.failed_attack_result.FailedAttackResult at 0x7f7aac625cd0>,\n",
       " <textattack.attack_results.successful_attack_result.SuccessfulAttackResult at 0x7f7ab2316bd0>,\n",
       " <textattack.attack_results.successful_attack_result.SuccessfulAttackResult at 0x7f7a9c351950>,\n",
       " <textattack.attack_results.successful_attack_result.SuccessfulAttackResult at 0x7f77953ec450>,\n",
       " <textattack.attack_results.successful_attack_result.SuccessfulAttackResult at 0x7f7aacd29d90>,\n",
       " <textattack.attack_results.successful_attack_result.SuccessfulAttackResult at 0x7f7a9c3a3d10>,\n",
       " <textattack.attack_results.successful_attack_result.SuccessfulAttackResult at 0x7f7ab2316610>,\n",
       " <textattack.attack_results.successful_attack_result.SuccessfulAttackResult at 0x7f7aacdb2f90>,\n",
       " <textattack.attack_results.successful_attack_result.SuccessfulAttackResult at 0x7f7ab2305810>,\n",
       " <textattack.attack_results.failed_attack_result.FailedAttackResult at 0x7f7ab1e8a090>,\n",
       " <textattack.attack_results.skipped_attack_result.SkippedAttackResult at 0x7f7aa2b36b90>,\n",
       " <textattack.attack_results.successful_attack_result.SuccessfulAttackResult at 0x7f7aac8f5810>,\n",
       " <textattack.attack_results.skipped_attack_result.SkippedAttackResult at 0x7f7a9c52aa10>,\n",
       " <textattack.attack_results.successful_attack_result.SuccessfulAttackResult at 0x7f7aacc3c4d0>,\n",
       " <textattack.attack_results.failed_attack_result.FailedAttackResult at 0x7f7aac1fd390>,\n",
       " <textattack.attack_results.skipped_attack_result.SkippedAttackResult at 0x7f7aadb19490>,\n",
       " <textattack.attack_results.failed_attack_result.FailedAttackResult at 0x7f7aadb19510>,\n",
       " <textattack.attack_results.successful_attack_result.SuccessfulAttackResult at 0x7f7ab0a673d0>,\n",
       " <textattack.attack_results.successful_attack_result.SuccessfulAttackResult at 0x7f7ab2316dd0>,\n",
       " <textattack.attack_results.successful_attack_result.SuccessfulAttackResult at 0x7f7a9c351290>,\n",
       " <textattack.attack_results.successful_attack_result.SuccessfulAttackResult at 0x7f7a9d508810>,\n",
       " <textattack.attack_results.successful_attack_result.SuccessfulAttackResult at 0x7f7ab1e84110>,\n",
       " <textattack.attack_results.successful_attack_result.SuccessfulAttackResult at 0x7f7ab2305790>,\n",
       " <textattack.attack_results.successful_attack_result.SuccessfulAttackResult at 0x7f7ab0c04f90>,\n",
       " <textattack.attack_results.successful_attack_result.SuccessfulAttackResult at 0x7f78ed60d250>,\n",
       " <textattack.attack_results.successful_attack_result.SuccessfulAttackResult at 0x7f7aacc368d0>,\n",
       " <textattack.attack_results.successful_attack_result.SuccessfulAttackResult at 0x7f7ab2305550>,\n",
       " <textattack.attack_results.successful_attack_result.SuccessfulAttackResult at 0x7f7ab0c04b10>,\n",
       " <textattack.attack_results.successful_attack_result.SuccessfulAttackResult at 0x7f78ed60d2d0>,\n",
       " <textattack.attack_results.successful_attack_result.SuccessfulAttackResult at 0x7f7aa2b36150>,\n",
       " <textattack.attack_results.successful_attack_result.SuccessfulAttackResult at 0x7f7c67f87990>,\n",
       " <textattack.attack_results.successful_attack_result.SuccessfulAttackResult at 0x7f7c67f87d50>,\n",
       " <textattack.attack_results.failed_attack_result.FailedAttackResult at 0x7f7ab232f5d0>,\n",
       " <textattack.attack_results.successful_attack_result.SuccessfulAttackResult at 0x7f7ab1e84c10>,\n",
       " <textattack.attack_results.successful_attack_result.SuccessfulAttackResult at 0x7f7aac625d90>,\n",
       " <textattack.attack_results.successful_attack_result.SuccessfulAttackResult at 0x7f7aa9ee5590>,\n",
       " <textattack.attack_results.successful_attack_result.SuccessfulAttackResult at 0x7f7aab018410>,\n",
       " <textattack.attack_results.successful_attack_result.SuccessfulAttackResult at 0x7f7a9c37abd0>,\n",
       " <textattack.attack_results.successful_attack_result.SuccessfulAttackResult at 0x7f7a9c3ac090>,\n",
       " <textattack.attack_results.successful_attack_result.SuccessfulAttackResult at 0x7f7ab1e98890>,\n",
       " <textattack.attack_results.successful_attack_result.SuccessfulAttackResult at 0x7f7aab018e10>,\n",
       " <textattack.attack_results.successful_attack_result.SuccessfulAttackResult at 0x7f7a9cf9bc10>,\n",
       " <textattack.attack_results.successful_attack_result.SuccessfulAttackResult at 0x7f7ab1e84c50>,\n",
       " <textattack.attack_results.successful_attack_result.SuccessfulAttackResult at 0x7f7aac1fd690>,\n",
       " <textattack.attack_results.successful_attack_result.SuccessfulAttackResult at 0x7f7a9c3ac0d0>,\n",
       " <textattack.attack_results.successful_attack_result.SuccessfulAttackResult at 0x7f7aabc6ab90>,\n",
       " <textattack.attack_results.successful_attack_result.SuccessfulAttackResult at 0x7f7aab147350>,\n",
       " <textattack.attack_results.failed_attack_result.FailedAttackResult at 0x7f7aabc6a110>,\n",
       " <textattack.attack_results.successful_attack_result.SuccessfulAttackResult at 0x7f7aaa9b2390>,\n",
       " <textattack.attack_results.successful_attack_result.SuccessfulAttackResult at 0x7f7aab147890>,\n",
       " <textattack.attack_results.successful_attack_result.SuccessfulAttackResult at 0x7f7aaa9b2b10>,\n",
       " <textattack.attack_results.successful_attack_result.SuccessfulAttackResult at 0x7f7aa9ee5350>,\n",
       " <textattack.attack_results.successful_attack_result.SuccessfulAttackResult at 0x7f7aaaa10f50>,\n",
       " <textattack.attack_results.skipped_attack_result.SkippedAttackResult at 0x7f7aaaa10990>,\n",
       " <textattack.attack_results.successful_attack_result.SuccessfulAttackResult at 0x7f7aad461110>,\n",
       " <textattack.attack_results.failed_attack_result.FailedAttackResult at 0x7f7aaac9e3d0>,\n",
       " <textattack.attack_results.skipped_attack_result.SkippedAttackResult at 0x7f7aaac9e610>,\n",
       " <textattack.attack_results.skipped_attack_result.SkippedAttackResult at 0x7f7aaac9e210>,\n",
       " <textattack.attack_results.skipped_attack_result.SkippedAttackResult at 0x7f7aaac9e410>,\n",
       " <textattack.attack_results.successful_attack_result.SuccessfulAttackResult at 0x7f7aaac2eb90>,\n",
       " <textattack.attack_results.skipped_attack_result.SkippedAttackResult at 0x7f7aaac2ea10>,\n",
       " <textattack.attack_results.successful_attack_result.SuccessfulAttackResult at 0x7f7a9c351650>,\n",
       " <textattack.attack_results.successful_attack_result.SuccessfulAttackResult at 0x7f7ab1e84050>,\n",
       " <textattack.attack_results.failed_attack_result.FailedAttackResult at 0x7f7aabc731d0>,\n",
       " <textattack.attack_results.successful_attack_result.SuccessfulAttackResult at 0x7f7aabc42590>,\n",
       " <textattack.attack_results.skipped_attack_result.SkippedAttackResult at 0x7f7aabc42790>,\n",
       " <textattack.attack_results.skipped_attack_result.SkippedAttackResult at 0x7f7aabc428d0>,\n",
       " <textattack.attack_results.successful_attack_result.SuccessfulAttackResult at 0x7f7aabc6ad10>,\n",
       " <textattack.attack_results.successful_attack_result.SuccessfulAttackResult at 0x7f7a9c3accd0>,\n",
       " <textattack.attack_results.skipped_attack_result.SkippedAttackResult at 0x7f7aae287350>,\n",
       " <textattack.attack_results.successful_attack_result.SuccessfulAttackResult at 0x7f7aacc3cb10>,\n",
       " <textattack.attack_results.failed_attack_result.FailedAttackResult at 0x7f7aab147150>,\n",
       " <textattack.attack_results.skipped_attack_result.SkippedAttackResult at 0x7f7aae283c90>,\n",
       " <textattack.attack_results.failed_attack_result.FailedAttackResult at 0x7f7aaac9ed90>,\n",
       " <textattack.attack_results.successful_attack_result.SuccessfulAttackResult at 0x7f7aadb14410>,\n",
       " <textattack.attack_results.skipped_attack_result.SkippedAttackResult at 0x7f7aabbdc390>,\n",
       " <textattack.attack_results.failed_attack_result.FailedAttackResult at 0x7f7ab0e60090>,\n",
       " <textattack.attack_results.successful_attack_result.SuccessfulAttackResult at 0x7f7ab0039c50>,\n",
       " <textattack.attack_results.successful_attack_result.SuccessfulAttackResult at 0x7f7aa9457810>,\n",
       " <textattack.attack_results.successful_attack_result.SuccessfulAttackResult at 0x7f7a9cf9bf50>,\n",
       " <textattack.attack_results.successful_attack_result.SuccessfulAttackResult at 0x7f7aadb19b50>,\n",
       " <textattack.attack_results.successful_attack_result.SuccessfulAttackResult at 0x7f7aad7c6550>,\n",
       " <textattack.attack_results.successful_attack_result.SuccessfulAttackResult at 0x7f7aa2ff3890>,\n",
       " <textattack.attack_results.successful_attack_result.SuccessfulAttackResult at 0x7f7aae283750>,\n",
       " <textattack.attack_results.successful_attack_result.SuccessfulAttackResult at 0x7f78ed60da90>,\n",
       " <textattack.attack_results.successful_attack_result.SuccessfulAttackResult at 0x7f7ab0a710d0>,\n",
       " <textattack.attack_results.successful_attack_result.SuccessfulAttackResult at 0x7f7aaacaa310>,\n",
       " <textattack.attack_results.failed_attack_result.FailedAttackResult at 0x7f7aa2b36390>,\n",
       " <textattack.attack_results.successful_attack_result.SuccessfulAttackResult at 0x7f7aadb255d0>,\n",
       " <textattack.attack_results.skipped_attack_result.SkippedAttackResult at 0x7f7aadb25c50>,\n",
       " <textattack.attack_results.successful_attack_result.SuccessfulAttackResult at 0x7f7aaa9b2bd0>,\n",
       " <textattack.attack_results.successful_attack_result.SuccessfulAttackResult at 0x7f7aaea903d0>,\n",
       " <textattack.attack_results.successful_attack_result.SuccessfulAttackResult at 0x7f7aaacb33d0>,\n",
       " <textattack.attack_results.successful_attack_result.SuccessfulAttackResult at 0x7f7aadb19690>,\n",
       " <textattack.attack_results.successful_attack_result.SuccessfulAttackResult at 0x7f7a9c3ac490>,\n",
       " <textattack.attack_results.successful_attack_result.SuccessfulAttackResult at 0x7f7a9c37a610>,\n",
       " <textattack.attack_results.skipped_attack_result.SkippedAttackResult at 0x7f7ab0e60690>,\n",
       " <textattack.attack_results.successful_attack_result.SuccessfulAttackResult at 0x7f7aab147550>,\n",
       " <textattack.attack_results.successful_attack_result.SuccessfulAttackResult at 0x7f7ab1e98e90>,\n",
       " <textattack.attack_results.skipped_attack_result.SkippedAttackResult at 0x7f7aad461dd0>,\n",
       " <textattack.attack_results.successful_attack_result.SuccessfulAttackResult at 0x7f7aab00ea10>,\n",
       " <textattack.attack_results.successful_attack_result.SuccessfulAttackResult at 0x7f7aab386810>,\n",
       " <textattack.attack_results.successful_attack_result.SuccessfulAttackResult at 0x7f7aae287c50>,\n",
       " <textattack.attack_results.skipped_attack_result.SkippedAttackResult at 0x7f7aae287dd0>,\n",
       " <textattack.attack_results.successful_attack_result.SuccessfulAttackResult at 0x7f7a9cf9bed0>,\n",
       " <textattack.attack_results.successful_attack_result.SuccessfulAttackResult at 0x7f7aa2ff35d0>,\n",
       " <textattack.attack_results.successful_attack_result.SuccessfulAttackResult at 0x7f7aadb05d90>,\n",
       " <textattack.attack_results.failed_attack_result.FailedAttackResult at 0x7f7ab0e60810>,\n",
       " <textattack.attack_results.successful_attack_result.SuccessfulAttackResult at 0x7f7aaaa10610>,\n",
       " <textattack.attack_results.successful_attack_result.SuccessfulAttackResult at 0x7f7aab00e750>,\n",
       " <textattack.attack_results.skipped_attack_result.SkippedAttackResult at 0x7f7aaaa06550>,\n",
       " <textattack.attack_results.successful_attack_result.SuccessfulAttackResult at 0x7f7aaa9b2310>,\n",
       " <textattack.attack_results.successful_attack_result.SuccessfulAttackResult at 0x7f7a9c52ad10>,\n",
       " <textattack.attack_results.successful_attack_result.SuccessfulAttackResult at 0x7f7aa2ff3250>,\n",
       " <textattack.attack_results.successful_attack_result.SuccessfulAttackResult at 0x7f78ed60d690>,\n",
       " <textattack.attack_results.successful_attack_result.SuccessfulAttackResult at 0x7f7ab0a6b690>,\n",
       " <textattack.attack_results.successful_attack_result.SuccessfulAttackResult at 0x7f7a9cf9b8d0>,\n",
       " <textattack.attack_results.successful_attack_result.SuccessfulAttackResult at 0x7f7ab213bd90>,\n",
       " <textattack.attack_results.successful_attack_result.SuccessfulAttackResult at 0x7f7ab0a6b510>,\n",
       " <textattack.attack_results.successful_attack_result.SuccessfulAttackResult at 0x7f7aab00e410>,\n",
       " <textattack.attack_results.skipped_attack_result.SkippedAttackResult at 0x7f7aaac2e290>,\n",
       " <textattack.attack_results.skipped_attack_result.SkippedAttackResult at 0x7f7aaeab4bd0>,\n",
       " <textattack.attack_results.skipped_attack_result.SkippedAttackResult at 0x7f7aaeab4910>,\n",
       " <textattack.attack_results.successful_attack_result.SuccessfulAttackResult at 0x7f7aaeab4490>,\n",
       " <textattack.attack_results.successful_attack_result.SuccessfulAttackResult at 0x7f7aaaa10210>,\n",
       " <textattack.attack_results.successful_attack_result.SuccessfulAttackResult at 0x7f7ab0a78950>,\n",
       " <textattack.attack_results.successful_attack_result.SuccessfulAttackResult at 0x7f7aaac2ec10>,\n",
       " <textattack.attack_results.skipped_attack_result.SkippedAttackResult at 0x7f7aaac3c390>,\n",
       " <textattack.attack_results.successful_attack_result.SuccessfulAttackResult at 0x7f7a9c52add0>,\n",
       " <textattack.attack_results.successful_attack_result.SuccessfulAttackResult at 0x7f7aab812e10>,\n",
       " <textattack.attack_results.skipped_attack_result.SkippedAttackResult at 0x7f7aab812350>,\n",
       " <textattack.attack_results.successful_attack_result.SuccessfulAttackResult at 0x7f7aae296e50>,\n",
       " <textattack.attack_results.failed_attack_result.FailedAttackResult at 0x7f7ab0a719d0>,\n",
       " <textattack.attack_results.successful_attack_result.SuccessfulAttackResult at 0x7f7aab812950>,\n",
       " <textattack.attack_results.successful_attack_result.SuccessfulAttackResult at 0x7f7aaeab4a90>,\n",
       " <textattack.attack_results.successful_attack_result.SuccessfulAttackResult at 0x7f7ab0145110>,\n",
       " <textattack.attack_results.successful_attack_result.SuccessfulAttackResult at 0x7f7ab0004090>,\n",
       " <textattack.attack_results.successful_attack_result.SuccessfulAttackResult at 0x7f7ab0016f10>,\n",
       " <textattack.attack_results.failed_attack_result.FailedAttackResult at 0x7f7aaa980c50>,\n",
       " <textattack.attack_results.successful_attack_result.SuccessfulAttackResult at 0x7f7ab0a712d0>,\n",
       " <textattack.attack_results.successful_attack_result.SuccessfulAttackResult at 0x7f7aacc3c950>,\n",
       " <textattack.attack_results.failed_attack_result.FailedAttackResult at 0x7f7aaac9e590>,\n",
       " <textattack.attack_results.successful_attack_result.SuccessfulAttackResult at 0x7f7aaeab4dd0>,\n",
       " <textattack.attack_results.successful_attack_result.SuccessfulAttackResult at 0x7f7aabc6a210>,\n",
       " <textattack.attack_results.failed_attack_result.FailedAttackResult at 0x7f7aaac2e090>,\n",
       " <textattack.attack_results.successful_attack_result.SuccessfulAttackResult at 0x7f7aaaa10390>,\n",
       " <textattack.attack_results.successful_attack_result.SuccessfulAttackResult at 0x7f7ab0e604d0>,\n",
       " <textattack.attack_results.successful_attack_result.SuccessfulAttackResult at 0x7f7aadb14710>,\n",
       " <textattack.attack_results.successful_attack_result.SuccessfulAttackResult at 0x7f7aad00c490>,\n",
       " <textattack.attack_results.successful_attack_result.SuccessfulAttackResult at 0x7f7aaa9807d0>,\n",
       " <textattack.attack_results.successful_attack_result.SuccessfulAttackResult at 0x7f7ab0a6bb10>,\n",
       " <textattack.attack_results.successful_attack_result.SuccessfulAttackResult at 0x7f7ab0a78bd0>,\n",
       " <textattack.attack_results.successful_attack_result.SuccessfulAttackResult at 0x7f7aaea90390>,\n",
       " <textattack.attack_results.successful_attack_result.SuccessfulAttackResult at 0x7f7aabc28e50>,\n",
       " <textattack.attack_results.successful_attack_result.SuccessfulAttackResult at 0x7f7aadb14e90>,\n",
       " <textattack.attack_results.successful_attack_result.SuccessfulAttackResult at 0x7f7ab0004bd0>,\n",
       " <textattack.attack_results.failed_attack_result.FailedAttackResult at 0x7f7ab0004450>,\n",
       " <textattack.attack_results.skipped_attack_result.SkippedAttackResult at 0x7f7aae283810>,\n",
       " <textattack.attack_results.successful_attack_result.SuccessfulAttackResult at 0x7f7aaaa26410>,\n",
       " <textattack.attack_results.skipped_attack_result.SkippedAttackResult at 0x7f7aab386b90>,\n",
       " <textattack.attack_results.successful_attack_result.SuccessfulAttackResult at 0x7f7aab3b5c50>,\n",
       " <textattack.attack_results.failed_attack_result.FailedAttackResult at 0x7f7aac6e6890>,\n",
       " <textattack.attack_results.failed_attack_result.FailedAttackResult at 0x7f7aaaa064d0>,\n",
       " <textattack.attack_results.failed_attack_result.FailedAttackResult at 0x7f7aae21e750>,\n",
       " <textattack.attack_results.successful_attack_result.SuccessfulAttackResult at 0x7f7aadb14c10>,\n",
       " <textattack.attack_results.successful_attack_result.SuccessfulAttackResult at 0x7f7aab386910>,\n",
       " <textattack.attack_results.successful_attack_result.SuccessfulAttackResult at 0x7f7ab0a783d0>,\n",
       " <textattack.attack_results.successful_attack_result.SuccessfulAttackResult at 0x7f7ab0016710>,\n",
       " <textattack.attack_results.successful_attack_result.SuccessfulAttackResult at 0x7f7aabc59f90>,\n",
       " <textattack.attack_results.failed_attack_result.FailedAttackResult at 0x7f7aad015110>,\n",
       " <textattack.attack_results.successful_attack_result.SuccessfulAttackResult at 0x7f7ab0a67ed0>,\n",
       " <textattack.attack_results.successful_attack_result.SuccessfulAttackResult at 0x7f7aad015a90>,\n",
       " <textattack.attack_results.successful_attack_result.SuccessfulAttackResult at 0x7f7ab0e57ed0>,\n",
       " <textattack.attack_results.successful_attack_result.SuccessfulAttackResult at 0x7f7aad033290>,\n",
       " <textattack.attack_results.successful_attack_result.SuccessfulAttackResult at 0x7f7aae283e50>,\n",
       " <textattack.attack_results.successful_attack_result.SuccessfulAttackResult at 0x7f7aaacb3290>,\n",
       " <textattack.attack_results.skipped_attack_result.SkippedAttackResult at 0x7f7aaacb3410>,\n",
       " <textattack.attack_results.successful_attack_result.SuccessfulAttackResult at 0x7f7ab0a67e10>,\n",
       " <textattack.attack_results.successful_attack_result.SuccessfulAttackResult at 0x7f7aab3b5f10>,\n",
       " <textattack.attack_results.skipped_attack_result.SkippedAttackResult at 0x7f7aab3b5ed0>,\n",
       " <textattack.attack_results.successful_attack_result.SuccessfulAttackResult at 0x7f7aaacb3f10>,\n",
       " <textattack.attack_results.successful_attack_result.SuccessfulAttackResult at 0x7f7aaac37610>,\n",
       " <textattack.attack_results.successful_attack_result.SuccessfulAttackResult at 0x7f7aaa5cd710>,\n",
       " <textattack.attack_results.successful_attack_result.SuccessfulAttackResult at 0x7f7ab0a58650>,\n",
       " <textattack.attack_results.successful_attack_result.SuccessfulAttackResult at 0x7f7aaac20f90>,\n",
       " <textattack.attack_results.successful_attack_result.SuccessfulAttackResult at 0x7f7aaaa18550>,\n",
       " <textattack.attack_results.successful_attack_result.SuccessfulAttackResult at 0x7f7aaac9e810>,\n",
       " <textattack.attack_results.skipped_attack_result.SkippedAttackResult at 0x7f7aaac9e0d0>,\n",
       " <textattack.attack_results.successful_attack_result.SuccessfulAttackResult at 0x7f7aaea90890>,\n",
       " <textattack.attack_results.successful_attack_result.SuccessfulAttackResult at 0x7f7aab386310>,\n",
       " <textattack.attack_results.skipped_attack_result.SkippedAttackResult at 0x7f7aad8496d0>,\n",
       " <textattack.attack_results.successful_attack_result.SuccessfulAttackResult at 0x7f7aae209e10>,\n",
       " <textattack.attack_results.successful_attack_result.SuccessfulAttackResult at 0x7f7aad849bd0>,\n",
       " <textattack.attack_results.successful_attack_result.SuccessfulAttackResult at 0x7f7aae209650>,\n",
       " <textattack.attack_results.successful_attack_result.SuccessfulAttackResult at 0x7f7ab0a58490>,\n",
       " <textattack.attack_results.failed_attack_result.FailedAttackResult at 0x7f7aaacb3090>,\n",
       " <textattack.attack_results.successful_attack_result.SuccessfulAttackResult at 0x7f7aad849210>,\n",
       " <textattack.attack_results.successful_attack_result.SuccessfulAttackResult at 0x7f7aaaa264d0>,\n",
       " <textattack.attack_results.successful_attack_result.SuccessfulAttackResult at 0x7f7aaac3cc90>,\n",
       " <textattack.attack_results.skipped_attack_result.SkippedAttackResult at 0x7f7aaac0b390>,\n",
       " <textattack.attack_results.successful_attack_result.SuccessfulAttackResult at 0x7f7aaacb3b10>,\n",
       " <textattack.attack_results.successful_attack_result.SuccessfulAttackResult at 0x7f7aaac202d0>,\n",
       " <textattack.attack_results.successful_attack_result.SuccessfulAttackResult at 0x7f7aaeab4c90>,\n",
       " <textattack.attack_results.successful_attack_result.SuccessfulAttackResult at 0x7f7ab0a58250>,\n",
       " <textattack.attack_results.successful_attack_result.SuccessfulAttackResult at 0x7f7aaaa21ed0>,\n",
       " <textattack.attack_results.successful_attack_result.SuccessfulAttackResult at 0x7f7ab0e57150>,\n",
       " <textattack.attack_results.successful_attack_result.SuccessfulAttackResult at 0x7f7aad015f10>,\n",
       " <textattack.attack_results.skipped_attack_result.SkippedAttackResult at 0x7f7aaac2ddd0>,\n",
       " <textattack.attack_results.successful_attack_result.SuccessfulAttackResult at 0x7f7aad87b890>,\n",
       " <textattack.attack_results.failed_attack_result.FailedAttackResult at 0x7f7aad87b1d0>,\n",
       " <textattack.attack_results.successful_attack_result.SuccessfulAttackResult at 0x7f7aad849c50>,\n",
       " <textattack.attack_results.successful_attack_result.SuccessfulAttackResult at 0x7f7ab017b450>,\n",
       " <textattack.attack_results.failed_attack_result.FailedAttackResult at 0x7f7aabc284d0>,\n",
       " <textattack.attack_results.successful_attack_result.SuccessfulAttackResult at 0x7f7aaeaa9a10>,\n",
       " <textattack.attack_results.successful_attack_result.SuccessfulAttackResult at 0x7f7aab73ec50>,\n",
       " <textattack.attack_results.successful_attack_result.SuccessfulAttackResult at 0x7f7aae2957d0>,\n",
       " <textattack.attack_results.failed_attack_result.FailedAttackResult at 0x7f7aab833dd0>,\n",
       " <textattack.attack_results.successful_attack_result.SuccessfulAttackResult at 0x7f7ab017b190>,\n",
       " <textattack.attack_results.failed_attack_result.FailedAttackResult at 0x7f7aab730e90>,\n",
       " <textattack.attack_results.successful_attack_result.SuccessfulAttackResult at 0x7f7ab0e57450>,\n",
       " <textattack.attack_results.skipped_attack_result.SkippedAttackResult at 0x7f7aabbf0590>,\n",
       " <textattack.attack_results.successful_attack_result.SuccessfulAttackResult at 0x7f7aad849650>,\n",
       " <textattack.attack_results.successful_attack_result.SuccessfulAttackResult at 0x7f7aabbb1710>,\n",
       " <textattack.attack_results.successful_attack_result.SuccessfulAttackResult at 0x7f7ab017b0d0>,\n",
       " <textattack.attack_results.failed_attack_result.FailedAttackResult at 0x7f7ab0e57d50>,\n",
       " <textattack.attack_results.successful_attack_result.SuccessfulAttackResult at 0x7f7ab0a780d0>,\n",
       " <textattack.attack_results.successful_attack_result.SuccessfulAttackResult at 0x7f7aaac2da50>,\n",
       " <textattack.attack_results.successful_attack_result.SuccessfulAttackResult at 0x7f7aac6c3810>,\n",
       " <textattack.attack_results.skipped_attack_result.SkippedAttackResult at 0x7f7aac6c3f90>,\n",
       " <textattack.attack_results.failed_attack_result.FailedAttackResult at 0x7f7aafd61550>,\n",
       " <textattack.attack_results.successful_attack_result.SuccessfulAttackResult at 0x7f7aac6c3dd0>,\n",
       " <textattack.attack_results.successful_attack_result.SuccessfulAttackResult at 0x7f7aab386e50>,\n",
       " <textattack.attack_results.successful_attack_result.SuccessfulAttackResult at 0x7f7aad033190>,\n",
       " <textattack.attack_results.successful_attack_result.SuccessfulAttackResult at 0x7f7aabcd5a50>,\n",
       " <textattack.attack_results.failed_attack_result.FailedAttackResult at 0x7f7ab0a5c690>,\n",
       " <textattack.attack_results.successful_attack_result.SuccessfulAttackResult at 0x7f7aac42b510>,\n",
       " <textattack.attack_results.successful_attack_result.SuccessfulAttackResult at 0x7f7aad0338d0>,\n",
       " <textattack.attack_results.successful_attack_result.SuccessfulAttackResult at 0x7f7aaacaa6d0>,\n",
       " <textattack.attack_results.successful_attack_result.SuccessfulAttackResult at 0x7f7aaaa21190>,\n",
       " <textattack.attack_results.successful_attack_result.SuccessfulAttackResult at 0x7f7aabbf0850>,\n",
       " <textattack.attack_results.successful_attack_result.SuccessfulAttackResult at 0x7f7ab01592d0>,\n",
       " <textattack.attack_results.failed_attack_result.FailedAttackResult at 0x7f7aaa5cdb50>,\n",
       " <textattack.attack_results.skipped_attack_result.SkippedAttackResult at 0x7f7aaacaa990>,\n",
       " <textattack.attack_results.successful_attack_result.SuccessfulAttackResult at 0x7f7aaac2d4d0>,\n",
       " <textattack.attack_results.skipped_attack_result.SkippedAttackResult at 0x7f7aab89a8d0>,\n",
       " <textattack.attack_results.failed_attack_result.FailedAttackResult at 0x7f7aab89abd0>,\n",
       " <textattack.attack_results.successful_attack_result.SuccessfulAttackResult at 0x7f7aad863650>,\n",
       " <textattack.attack_results.failed_attack_result.FailedAttackResult at 0x7f7aafa629d0>,\n",
       " <textattack.attack_results.successful_attack_result.SuccessfulAttackResult at 0x7f7ab3ba8bd0>,\n",
       " <textattack.attack_results.successful_attack_result.SuccessfulAttackResult at 0x7f7aad863e90>,\n",
       " <textattack.attack_results.skipped_attack_result.SkippedAttackResult at 0x7f7aad863510>,\n",
       " <textattack.attack_results.skipped_attack_result.SkippedAttackResult at 0x7f7aafa48050>,\n",
       " <textattack.attack_results.skipped_attack_result.SkippedAttackResult at 0x7f7aaac0b090>,\n",
       " <textattack.attack_results.successful_attack_result.SuccessfulAttackResult at 0x7f7aafd616d0>,\n",
       " <textattack.attack_results.successful_attack_result.SuccessfulAttackResult at 0x7f7aaaa21ad0>,\n",
       " <textattack.attack_results.successful_attack_result.SuccessfulAttackResult at 0x7f7aaacaa2d0>,\n",
       " <textattack.attack_results.skipped_attack_result.SkippedAttackResult at 0x7f7aac6e6050>,\n",
       " <textattack.attack_results.failed_attack_result.FailedAttackResult at 0x7f7aac404e10>,\n",
       " <textattack.attack_results.successful_attack_result.SuccessfulAttackResult at 0x7f7aad4eb0d0>,\n",
       " <textattack.attack_results.successful_attack_result.SuccessfulAttackResult at 0x7f7aac6e68d0>,\n",
       " <textattack.attack_results.skipped_attack_result.SkippedAttackResult at 0x7f7aab91a490>,\n",
       " <textattack.attack_results.skipped_attack_result.SkippedAttackResult at 0x7f7aab91a250>,\n",
       " <textattack.attack_results.successful_attack_result.SuccessfulAttackResult at 0x7f7aae209f50>,\n",
       " <textattack.attack_results.failed_attack_result.FailedAttackResult at 0x7f7aac42b550>,\n",
       " <textattack.attack_results.successful_attack_result.SuccessfulAttackResult at 0x7f7aac42b610>,\n",
       " <textattack.attack_results.failed_attack_result.FailedAttackResult at 0x7f7aac6f61d0>,\n",
       " <textattack.attack_results.successful_attack_result.SuccessfulAttackResult at 0x7f7aafa48910>,\n",
       " <textattack.attack_results.failed_attack_result.FailedAttackResult at 0x7f7aaacb3350>,\n",
       " <textattack.attack_results.successful_attack_result.SuccessfulAttackResult at 0x7f7aaea90310>,\n",
       " <textattack.attack_results.successful_attack_result.SuccessfulAttackResult at 0x7f7aad8632d0>,\n",
       " <textattack.attack_results.successful_attack_result.SuccessfulAttackResult at 0x7f7aafd61190>,\n",
       " <textattack.attack_results.successful_attack_result.SuccessfulAttackResult at 0x7f7aab710050>,\n",
       " <textattack.attack_results.skipped_attack_result.SkippedAttackResult at 0x7f7aae209b50>,\n",
       " <textattack.attack_results.successful_attack_result.SuccessfulAttackResult at 0x7f7aacc46e10>,\n",
       " <textattack.attack_results.successful_attack_result.SuccessfulAttackResult at 0x7f7ab213b890>,\n",
       " <textattack.attack_results.successful_attack_result.SuccessfulAttackResult at 0x7f7aab704b90>,\n",
       " <textattack.attack_results.successful_attack_result.SuccessfulAttackResult at 0x7f7aad863550>,\n",
       " <textattack.attack_results.failed_attack_result.FailedAttackResult at 0x7f7aab676ed0>,\n",
       " <textattack.attack_results.successful_attack_result.SuccessfulAttackResult at 0x7f7aaacaa450>,\n",
       " <textattack.attack_results.successful_attack_result.SuccessfulAttackResult at 0x7f7aaea901d0>,\n",
       " <textattack.attack_results.successful_attack_result.SuccessfulAttackResult at 0x7f7aac6c38d0>,\n",
       " <textattack.attack_results.successful_attack_result.SuccessfulAttackResult at 0x7f7aabbb1950>,\n",
       " <textattack.attack_results.successful_attack_result.SuccessfulAttackResult at 0x7f7aabbdc210>,\n",
       " <textattack.attack_results.successful_attack_result.SuccessfulAttackResult at 0x7f7aae22b650>,\n",
       " <textattack.attack_results.successful_attack_result.SuccessfulAttackResult at 0x7f7aac6f65d0>,\n",
       " <textattack.attack_results.successful_attack_result.SuccessfulAttackResult at 0x7f7aac6f6150>,\n",
       " <textattack.attack_results.successful_attack_result.SuccessfulAttackResult at 0x7f7aabbb1790>,\n",
       " <textattack.attack_results.skipped_attack_result.SkippedAttackResult at 0x7f7aad505910>,\n",
       " <textattack.attack_results.failed_attack_result.FailedAttackResult at 0x7f7aaacb3810>,\n",
       " <textattack.attack_results.successful_attack_result.SuccessfulAttackResult at 0x7f7aab657cd0>,\n",
       " <textattack.attack_results.successful_attack_result.SuccessfulAttackResult at 0x7f7aab89ad10>,\n",
       " <textattack.attack_results.successful_attack_result.SuccessfulAttackResult at 0x7f7aafa48750>,\n",
       " <textattack.attack_results.successful_attack_result.SuccessfulAttackResult at 0x7f7aae21ead0>,\n",
       " <textattack.attack_results.failed_attack_result.FailedAttackResult at 0x7f7aab8a2590>,\n",
       " <textattack.attack_results.successful_attack_result.SuccessfulAttackResult at 0x7f7aab7308d0>,\n",
       " <textattack.attack_results.skipped_attack_result.SkippedAttackResult at 0x7f7aab8a2790>,\n",
       " <textattack.attack_results.skipped_attack_result.SkippedAttackResult at 0x7f7aac4048d0>,\n",
       " <textattack.attack_results.successful_attack_result.SuccessfulAttackResult at 0x7f7aad02cc50>,\n",
       " <textattack.attack_results.successful_attack_result.SuccessfulAttackResult at 0x7f7aabd2ac10>,\n",
       " <textattack.attack_results.successful_attack_result.SuccessfulAttackResult at 0x7f7aad4ebed0>,\n",
       " <textattack.attack_results.successful_attack_result.SuccessfulAttackResult at 0x7f7ab0159190>,\n",
       " <textattack.attack_results.failed_attack_result.FailedAttackResult at 0x7f7aabd2a290>,\n",
       " <textattack.attack_results.skipped_attack_result.SkippedAttackResult at 0x7f7aabd2aed0>,\n",
       " <textattack.attack_results.successful_attack_result.SuccessfulAttackResult at 0x7f7aab676dd0>,\n",
       " <textattack.attack_results.successful_attack_result.SuccessfulAttackResult at 0x7f7aac435490>,\n",
       " <textattack.attack_results.successful_attack_result.SuccessfulAttackResult at 0x7f7aab710490>,\n",
       " <textattack.attack_results.failed_attack_result.FailedAttackResult at 0x7f7aab657110>,\n",
       " <textattack.attack_results.successful_attack_result.SuccessfulAttackResult at 0x7f7aabbdc150>,\n",
       " <textattack.attack_results.successful_attack_result.SuccessfulAttackResult at 0x7f7aad0d6c50>,\n",
       " <textattack.attack_results.successful_attack_result.SuccessfulAttackResult at 0x7f7aabbdcf10>,\n",
       " <textattack.attack_results.successful_attack_result.SuccessfulAttackResult at 0x7f7aabbb1850>,\n",
       " <textattack.attack_results.successful_attack_result.SuccessfulAttackResult at 0x7f7aaa5cd9d0>,\n",
       " <textattack.attack_results.successful_attack_result.SuccessfulAttackResult at 0x7f7aae21ed10>,\n",
       " <textattack.attack_results.successful_attack_result.SuccessfulAttackResult at 0x7f7aab730410>,\n",
       " <textattack.attack_results.successful_attack_result.SuccessfulAttackResult at 0x7f7aab7103d0>,\n",
       " <textattack.attack_results.successful_attack_result.SuccessfulAttackResult at 0x7f7aabbb15d0>,\n",
       " <textattack.attack_results.skipped_attack_result.SkippedAttackResult at 0x7f7aad4ebd90>,\n",
       " <textattack.attack_results.successful_attack_result.SuccessfulAttackResult at 0x7f7aab704590>,\n",
       " <textattack.attack_results.successful_attack_result.SuccessfulAttackResult at 0x7f7aab657210>]"
      ]
     },
     "metadata": {},
     "output_type": "display_data"
    }
   ],
   "source": [
    "#!g1.1\n",
    "%%time \n",
    "\n",
    "attacker.attack_dataset()"
   ]
  },
  {
   "cell_type": "markdown",
   "metadata": {
    "cellId": "xrq9m4nuc6soguc9vztcpi"
   },
   "source": [
    "#!g1.1\n",
    "## Тестируем атаки на лог-рег"
   ]
  },
  {
   "cell_type": "code",
   "execution_count": 447,
   "metadata": {
    "cellId": "hz2dmknirzafmkxveaia1a"
   },
   "outputs": [],
   "source": [
    "#!g1.1\n",
    "\n",
    "from textattack.models.wrappers import SklearnModelWrapper\n",
    "\n",
    "model_wrapper = SklearnModelWrapper(clf , text_transformer)"
   ]
  },
  {
   "cell_type": "code",
   "execution_count": 448,
   "metadata": {
    "cellId": "vkg3x1tjb0colj6qdloebc"
   },
   "outputs": [
    {
     "name": "stderr",
     "output_type": "stream",
     "text": [
      "textattack: Unknown if model of class <class 'sklearn.model_selection._search.GridSearchCV'> compatible with goal function <class 'textattack.goal_functions.classification.untargeted_classification.UntargetedClassification'>.\n",
      "textattack: Logging to CSV at path log_Cola_tf_idf.csv\n",
      "  0%|          | 0/527 [00:00<?, ?it/s]"
     ]
    },
    {
     "name": "stdout",
     "output_type": "stream",
     "text": [
      "Attack(\n",
      "  (search_method): GreedyWordSwapWIR(\n",
      "    (wir_method):  delete\n",
      "  )\n",
      "  (goal_function):  UntargetedClassification\n",
      "  (transformation):  WordSwapEmbedding(\n",
      "    (max_candidates):  50\n",
      "    (embedding):  WordEmbedding\n",
      "  )\n",
      "  (constraints): \n",
      "    (0): WordEmbeddingDistance(\n",
      "        (embedding):  WordEmbedding\n",
      "        (min_cos_sim):  0.5\n",
      "        (cased):  False\n",
      "        (include_unknown_words):  True\n",
      "        (compare_against_original):  True\n",
      "      )\n",
      "    (1): PartOfSpeech(\n",
      "        (tagger_type):  nltk\n",
      "        (tagset):  universal\n",
      "        (allow_verb_noun_swap):  True\n",
      "        (compare_against_original):  True\n",
      "      )\n",
      "    (2): UniversalSentenceEncoder(\n",
      "        (metric):  angular\n",
      "        (threshold):  0.840845057\n",
      "        (window_size):  15\n",
      "        (skip_text_shorter_than_window):  True\n",
      "        (compare_against_original):  False\n",
      "      )\n",
      "    (3): RepeatModification\n",
      "    (4): StopwordModification\n",
      "    (5): InputColumnModification(\n",
      "        (matching_column_labels):  ['premise', 'hypothesis']\n",
      "        (columns_to_ignore):  {'premise'}\n",
      "      )\n",
      "  (is_black_box):  True\n",
      ") \n",
      "\n"
     ]
    },
    {
     "name": "stderr",
     "output_type": "stream",
     "text": [
      "[Succeeded / Failed / Skipped / Total] 0 / 164 / 86 / 250:  47%|████▋     | 250/527 [02:15<02:30,  1.85it/s]textattack: Saving checkpoint under \"checkpoints/1640775642751.ta.chkpt\" at 2021-12-29 11:00:42 after 250 attacks.\n"
     ]
    },
    {
     "name": "stdout",
     "output_type": "stream",
     "text": [
      "\n",
      "\n",
      "=============================================================================================================================\n",
      "=============================================================================================================================\n",
      "\n"
     ]
    },
    {
     "name": "stderr",
     "output_type": "stream",
     "text": [
      "[Succeeded / Failed / Skipped / Total] 0 / 350 / 150 / 500:  95%|█████████▍| 500/527 [04:35<00:14,  1.81it/s]textattack: Saving checkpoint under \"checkpoints/1640775783149.ta.chkpt\" at 2021-12-29 11:03:03 after 500 attacks.\n",
      "[Succeeded / Failed / Skipped / Total] 0 / 350 / 152 / 502:  95%|█████████▌| 502/527 [04:35<00:13,  1.82it/s]"
     ]
    },
    {
     "name": "stdout",
     "output_type": "stream",
     "text": [
      "\n",
      "\n",
      "=============================================================================================================================\n",
      "=============================================================================================================================\n",
      "\n"
     ]
    },
    {
     "name": "stderr",
     "output_type": "stream",
     "text": [
      "[Succeeded / Failed / Skipped / Total] 0 / 365 / 162 / 527: 100%|██████████| 527/527 [04:46<00:00,  1.84it/s]\n",
      "/home/jupyter/.local/lib/python3.7/site-packages/textattack/metrics/attack_metrics/words_perturbed.py:83: RuntimeWarning: Mean of empty slice.\n",
      "  average_perc_words_perturbed = self.perturbed_word_percentages.mean()\n",
      "/kernel/lib/python3.7/site-packages/numpy/core/_methods.py:170: RuntimeWarning: invalid value encountered in double_scalars\n",
      "  ret = ret.dtype.type(ret / rcount)\n"
     ]
    },
    {
     "name": "stdout",
     "output_type": "stream",
     "text": [
      "\n",
      "+-------------------------------+--------+\n",
      "| Attack Results                |        |\n",
      "+-------------------------------+--------+\n",
      "| Number of successful attacks: | 0      |\n",
      "| Number of failed attacks:     | 365    |\n",
      "| Number of skipped attacks:    | 162    |\n",
      "| Original accuracy:            | 69.26% |\n",
      "| Accuracy under attack:        | 69.26% |\n",
      "| Attack success rate:          | 0.0%   |\n",
      "| Average perturbed word %:     | nan%   |\n",
      "| Average num. words per input: | 7.54   |\n",
      "| Avg num queries:              | 130.42 |\n",
      "+-------------------------------+--------+\n",
      "CPU times: user 14min 5s, sys: 16min 15s, total: 30min 20s\n",
      "Wall time: 4min 46s\n"
     ]
    },
    {
     "data": {
      "text/plain": [
       "[<textattack.attack_results.failed_attack_result.FailedAttackResult at 0x7f7abb6f7610>,\n",
       " <textattack.attack_results.failed_attack_result.FailedAttackResult at 0x7f7aa964a350>,\n",
       " <textattack.attack_results.failed_attack_result.FailedAttackResult at 0x7f7ab076d0d0>,\n",
       " <textattack.attack_results.failed_attack_result.FailedAttackResult at 0x7f7aaf1a3250>,\n",
       " <textattack.attack_results.skipped_attack_result.SkippedAttackResult at 0x7f7a9cbedad0>,\n",
       " <textattack.attack_results.skipped_attack_result.SkippedAttackResult at 0x7f7aab89af10>,\n",
       " <textattack.attack_results.skipped_attack_result.SkippedAttackResult at 0x7f7835664a10>,\n",
       " <textattack.attack_results.failed_attack_result.FailedAttackResult at 0x7f7aaa601f90>,\n",
       " <textattack.attack_results.failed_attack_result.FailedAttackResult at 0x7f7ab27f1fd0>,\n",
       " <textattack.attack_results.failed_attack_result.FailedAttackResult at 0x7f7ab1468550>,\n",
       " <textattack.attack_results.failed_attack_result.FailedAttackResult at 0x7f7aa9c37c10>,\n",
       " <textattack.attack_results.failed_attack_result.FailedAttackResult at 0x7f7aaa092b90>,\n",
       " <textattack.attack_results.failed_attack_result.FailedAttackResult at 0x7f7aa9974090>,\n",
       " <textattack.attack_results.skipped_attack_result.SkippedAttackResult at 0x7f77953b9650>,\n",
       " <textattack.attack_results.failed_attack_result.FailedAttackResult at 0x7f7aac435350>,\n",
       " <textattack.attack_results.failed_attack_result.FailedAttackResult at 0x7f7aae683e90>,\n",
       " <textattack.attack_results.skipped_attack_result.SkippedAttackResult at 0x7f7aabe06690>,\n",
       " <textattack.attack_results.failed_attack_result.FailedAttackResult at 0x7f7aad4616d0>,\n",
       " <textattack.attack_results.failed_attack_result.FailedAttackResult at 0x7f7ab2e45bd0>,\n",
       " <textattack.attack_results.failed_attack_result.FailedAttackResult at 0x7f7ab040f850>,\n",
       " <textattack.attack_results.failed_attack_result.FailedAttackResult at 0x7f7c67fa5a50>,\n",
       " <textattack.attack_results.failed_attack_result.FailedAttackResult at 0x7f7aab38bb50>,\n",
       " <textattack.attack_results.failed_attack_result.FailedAttackResult at 0x7f7ab05250d0>,\n",
       " <textattack.attack_results.skipped_attack_result.SkippedAttackResult at 0x7f7aab730590>,\n",
       " <textattack.attack_results.failed_attack_result.FailedAttackResult at 0x7f7aa9638b90>,\n",
       " <textattack.attack_results.failed_attack_result.FailedAttackResult at 0x7f7ab2e7e4d0>,\n",
       " <textattack.attack_results.failed_attack_result.FailedAttackResult at 0x7f7aa1bf7910>,\n",
       " <textattack.attack_results.failed_attack_result.FailedAttackResult at 0x7f77953fb690>,\n",
       " <textattack.attack_results.skipped_attack_result.SkippedAttackResult at 0x7f7aacc3c810>,\n",
       " <textattack.attack_results.skipped_attack_result.SkippedAttackResult at 0x7f7aacd90ed0>,\n",
       " <textattack.attack_results.failed_attack_result.FailedAttackResult at 0x7f7af55f30d0>,\n",
       " <textattack.attack_results.failed_attack_result.FailedAttackResult at 0x7f7aa9d40810>,\n",
       " <textattack.attack_results.skipped_attack_result.SkippedAttackResult at 0x7f7ab0159950>,\n",
       " <textattack.attack_results.skipped_attack_result.SkippedAttackResult at 0x7f7a9c52a690>,\n",
       " <textattack.attack_results.failed_attack_result.FailedAttackResult at 0x7f7ab5d12210>,\n",
       " <textattack.attack_results.failed_attack_result.FailedAttackResult at 0x7f7ab0a4e710>,\n",
       " <textattack.attack_results.failed_attack_result.FailedAttackResult at 0x7f77953b9550>,\n",
       " <textattack.attack_results.failed_attack_result.FailedAttackResult at 0x7f7ab3ba8950>,\n",
       " <textattack.attack_results.failed_attack_result.FailedAttackResult at 0x7f7ab007fa50>,\n",
       " <textattack.attack_results.skipped_attack_result.SkippedAttackResult at 0x7f7aab018390>,\n",
       " <textattack.attack_results.failed_attack_result.FailedAttackResult at 0x7f7ab0acf210>,\n",
       " <textattack.attack_results.skipped_attack_result.SkippedAttackResult at 0x7f7aab2883d0>,\n",
       " <textattack.attack_results.failed_attack_result.FailedAttackResult at 0x7f7aaa629690>,\n",
       " <textattack.attack_results.failed_attack_result.FailedAttackResult at 0x7f7aad3bbed0>,\n",
       " <textattack.attack_results.skipped_attack_result.SkippedAttackResult at 0x7f7aad0d6110>,\n",
       " <textattack.attack_results.skipped_attack_result.SkippedAttackResult at 0x7f7ab1e846d0>,\n",
       " <textattack.attack_results.failed_attack_result.FailedAttackResult at 0x7f7aabc73710>,\n",
       " <textattack.attack_results.skipped_attack_result.SkippedAttackResult at 0x7f7aabc73cd0>,\n",
       " <textattack.attack_results.failed_attack_result.FailedAttackResult at 0x7f7aaeae9f10>,\n",
       " <textattack.attack_results.failed_attack_result.FailedAttackResult at 0x7f7ab07f2e10>,\n",
       " <textattack.attack_results.failed_attack_result.FailedAttackResult at 0x7f7aaa7fad90>,\n",
       " <textattack.attack_results.skipped_attack_result.SkippedAttackResult at 0x7f7aad624a90>,\n",
       " <textattack.attack_results.failed_attack_result.FailedAttackResult at 0x7f7aabc73450>,\n",
       " <textattack.attack_results.failed_attack_result.FailedAttackResult at 0x7f7aab3c5350>,\n",
       " <textattack.attack_results.skipped_attack_result.SkippedAttackResult at 0x7f7ab2ba0190>,\n",
       " <textattack.attack_results.failed_attack_result.FailedAttackResult at 0x7f7aab1e5ad0>,\n",
       " <textattack.attack_results.failed_attack_result.FailedAttackResult at 0x7f7aaa9b2b90>,\n",
       " <textattack.attack_results.skipped_attack_result.SkippedAttackResult at 0x7f7aab846c90>,\n",
       " <textattack.attack_results.skipped_attack_result.SkippedAttackResult at 0x7f7aab846090>,\n",
       " <textattack.attack_results.failed_attack_result.FailedAttackResult at 0x7f7ab0d38d90>,\n",
       " <textattack.attack_results.skipped_attack_result.SkippedAttackResult at 0x7f7ab0d38090>,\n",
       " <textattack.attack_results.failed_attack_result.FailedAttackResult at 0x7f7aaaa10650>,\n",
       " <textattack.attack_results.failed_attack_result.FailedAttackResult at 0x7f7aafa48650>,\n",
       " <textattack.attack_results.failed_attack_result.FailedAttackResult at 0x7f7abacd0c50>,\n",
       " <textattack.attack_results.failed_attack_result.FailedAttackResult at 0x7f7aaa7f8350>,\n",
       " <textattack.attack_results.skipped_attack_result.SkippedAttackResult at 0x7f7aaa7f8110>,\n",
       " <textattack.attack_results.failed_attack_result.FailedAttackResult at 0x7f7aaaa10f10>,\n",
       " <textattack.attack_results.failed_attack_result.FailedAttackResult at 0x7f7aae283d10>,\n",
       " <textattack.attack_results.skipped_attack_result.SkippedAttackResult at 0x7f7aad098490>,\n",
       " <textattack.attack_results.failed_attack_result.FailedAttackResult at 0x7f7aacd3f650>,\n",
       " <textattack.attack_results.failed_attack_result.FailedAttackResult at 0x7f7abacd0510>,\n",
       " <textattack.attack_results.failed_attack_result.FailedAttackResult at 0x7f7aadb14950>,\n",
       " <textattack.attack_results.failed_attack_result.FailedAttackResult at 0x7f7aad4c7ad0>,\n",
       " <textattack.attack_results.skipped_attack_result.SkippedAttackResult at 0x7f7aae54ca90>,\n",
       " <textattack.attack_results.failed_attack_result.FailedAttackResult at 0x7f7ab79d17d0>,\n",
       " <textattack.attack_results.skipped_attack_result.SkippedAttackResult at 0x7f7aaff9aa10>,\n",
       " <textattack.attack_results.skipped_attack_result.SkippedAttackResult at 0x7f7aadb14390>,\n",
       " <textattack.attack_results.skipped_attack_result.SkippedAttackResult at 0x7f7aaff9afd0>,\n",
       " <textattack.attack_results.skipped_attack_result.SkippedAttackResult at 0x7f7aae21e890>,\n",
       " <textattack.attack_results.failed_attack_result.FailedAttackResult at 0x7f7aabc42450>,\n",
       " <textattack.attack_results.skipped_attack_result.SkippedAttackResult at 0x7f7aabbdc850>,\n",
       " <textattack.attack_results.failed_attack_result.FailedAttackResult at 0x7f7aadb530d0>,\n",
       " <textattack.attack_results.skipped_attack_result.SkippedAttackResult at 0x7f7aadb53f50>,\n",
       " <textattack.attack_results.skipped_attack_result.SkippedAttackResult at 0x7f7aaa7f8850>,\n",
       " <textattack.attack_results.failed_attack_result.FailedAttackResult at 0x7f7ab1e8a3d0>,\n",
       " <textattack.attack_results.failed_attack_result.FailedAttackResult at 0x7f7aaaa100d0>,\n",
       " <textattack.attack_results.skipped_attack_result.SkippedAttackResult at 0x7f7aa945ea50>,\n",
       " <textattack.attack_results.failed_attack_result.FailedAttackResult at 0x7f7aad63fd10>,\n",
       " <textattack.attack_results.failed_attack_result.FailedAttackResult at 0x7f7aadea6ad0>,\n",
       " <textattack.attack_results.skipped_attack_result.SkippedAttackResult at 0x7f7aaec4e250>,\n",
       " <textattack.attack_results.failed_attack_result.FailedAttackResult at 0x7f7aae22bf50>,\n",
       " <textattack.attack_results.skipped_attack_result.SkippedAttackResult at 0x7f7c67f82c10>,\n",
       " <textattack.attack_results.failed_attack_result.FailedAttackResult at 0x7f7aa2e24850>,\n",
       " <textattack.attack_results.failed_attack_result.FailedAttackResult at 0x7f7ab1f6ded0>,\n",
       " <textattack.attack_results.skipped_attack_result.SkippedAttackResult at 0x7f7ab4528290>,\n",
       " <textattack.attack_results.skipped_attack_result.SkippedAttackResult at 0x7f7ab1f74910>,\n",
       " <textattack.attack_results.failed_attack_result.FailedAttackResult at 0x7f7c62702050>,\n",
       " <textattack.attack_results.skipped_attack_result.SkippedAttackResult at 0x7f7aad5bbc50>,\n",
       " <textattack.attack_results.failed_attack_result.FailedAttackResult at 0x7f7835784950>,\n",
       " <textattack.attack_results.failed_attack_result.FailedAttackResult at 0x7f7ab67b48d0>,\n",
       " <textattack.attack_results.failed_attack_result.FailedAttackResult at 0x7f7ab195dfd0>,\n",
       " <textattack.attack_results.failed_attack_result.FailedAttackResult at 0x7f7aac84e2d0>,\n",
       " <textattack.attack_results.failed_attack_result.FailedAttackResult at 0x7f7aadb14cd0>,\n",
       " <textattack.attack_results.failed_attack_result.FailedAttackResult at 0x7f7a9c9b2610>,\n",
       " <textattack.attack_results.failed_attack_result.FailedAttackResult at 0x7f7ab20cadd0>,\n",
       " <textattack.attack_results.skipped_attack_result.SkippedAttackResult at 0x7f7aaec7cf10>,\n",
       " <textattack.attack_results.failed_attack_result.FailedAttackResult at 0x7f7ab67bd9d0>,\n",
       " <textattack.attack_results.failed_attack_result.FailedAttackResult at 0x7f7ab0a67590>,\n",
       " <textattack.attack_results.skipped_attack_result.SkippedAttackResult at 0x7f7ab83544d0>,\n",
       " <textattack.attack_results.failed_attack_result.FailedAttackResult at 0x7f7ab3cd6810>,\n",
       " <textattack.attack_results.failed_attack_result.FailedAttackResult at 0x7f7ab5597310>,\n",
       " <textattack.attack_results.skipped_attack_result.SkippedAttackResult at 0x7f7ab3cd6e10>,\n",
       " <textattack.attack_results.failed_attack_result.FailedAttackResult at 0x7f7ab3cf30d0>,\n",
       " <textattack.attack_results.failed_attack_result.FailedAttackResult at 0x7f7ab451ae90>,\n",
       " <textattack.attack_results.skipped_attack_result.SkippedAttackResult at 0x7f7ab9a8d810>,\n",
       " <textattack.attack_results.failed_attack_result.FailedAttackResult at 0x7f7ab5f57790>,\n",
       " <textattack.attack_results.skipped_attack_result.SkippedAttackResult at 0x7f7aad6d91d0>,\n",
       " <textattack.attack_results.skipped_attack_result.SkippedAttackResult at 0x7f7ab2bbefd0>,\n",
       " <textattack.attack_results.failed_attack_result.FailedAttackResult at 0x7f7ab4257050>,\n",
       " <textattack.attack_results.failed_attack_result.FailedAttackResult at 0x7f7ab2e45f90>,\n",
       " <textattack.attack_results.failed_attack_result.FailedAttackResult at 0x7f77953ecf10>,\n",
       " <textattack.attack_results.failed_attack_result.FailedAttackResult at 0x7f7c67f87790>,\n",
       " <textattack.attack_results.skipped_attack_result.SkippedAttackResult at 0x7f7ab29e1e50>,\n",
       " <textattack.attack_results.skipped_attack_result.SkippedAttackResult at 0x7f7aabe06a10>,\n",
       " <textattack.attack_results.skipped_attack_result.SkippedAttackResult at 0x7f7c67f878d0>,\n",
       " <textattack.attack_results.failed_attack_result.FailedAttackResult at 0x7f7aaca42cd0>,\n",
       " <textattack.attack_results.failed_attack_result.FailedAttackResult at 0x7f7ab9870850>,\n",
       " <textattack.attack_results.failed_attack_result.FailedAttackResult at 0x7f7ab5597c50>,\n",
       " <textattack.attack_results.skipped_attack_result.SkippedAttackResult at 0x7f7aac8f5b10>,\n",
       " <textattack.attack_results.skipped_attack_result.SkippedAttackResult at 0x7f7ab075b190>,\n",
       " <textattack.attack_results.failed_attack_result.FailedAttackResult at 0x7f7ab2bb6850>,\n",
       " <textattack.attack_results.failed_attack_result.FailedAttackResult at 0x7f7ab91f1c10>,\n",
       " <textattack.attack_results.skipped_attack_result.SkippedAttackResult at 0x7f7ab453ab10>,\n",
       " <textattack.attack_results.failed_attack_result.FailedAttackResult at 0x7f7aab885290>,\n",
       " <textattack.attack_results.failed_attack_result.FailedAttackResult at 0x7f7ab2c04b50>,\n",
       " <textattack.attack_results.skipped_attack_result.SkippedAttackResult at 0x7f7ab29d6e50>,\n",
       " <textattack.attack_results.failed_attack_result.FailedAttackResult at 0x7f7ab29dd590>,\n",
       " <textattack.attack_results.skipped_attack_result.SkippedAttackResult at 0x7f7aaca42210>,\n",
       " <textattack.attack_results.failed_attack_result.FailedAttackResult at 0x7f7ab20ec1d0>,\n",
       " <textattack.attack_results.failed_attack_result.FailedAttackResult at 0x7f7aaa792fd0>,\n",
       " <textattack.attack_results.skipped_attack_result.SkippedAttackResult at 0x7f7ab2ba0590>,\n",
       " <textattack.attack_results.failed_attack_result.FailedAttackResult at 0x7f7ab20ec9d0>,\n",
       " <textattack.attack_results.failed_attack_result.FailedAttackResult at 0x7f7ab1f6d4d0>,\n",
       " <textattack.attack_results.failed_attack_result.FailedAttackResult at 0x7f7aaa0b80d0>,\n",
       " <textattack.attack_results.failed_attack_result.FailedAttackResult at 0x7f7a99ee0a90>,\n",
       " <textattack.attack_results.failed_attack_result.FailedAttackResult at 0x7f7aae346710>,\n",
       " <textattack.attack_results.skipped_attack_result.SkippedAttackResult at 0x7f7aae346090>,\n",
       " <textattack.attack_results.failed_attack_result.FailedAttackResult at 0x7f7aafb6dc10>,\n",
       " <textattack.attack_results.failed_attack_result.FailedAttackResult at 0x7f7ab08fba50>,\n",
       " <textattack.attack_results.failed_attack_result.FailedAttackResult at 0x7f7aac625c50>,\n",
       " <textattack.attack_results.failed_attack_result.FailedAttackResult at 0x7f7aaca423d0>,\n",
       " <textattack.attack_results.skipped_attack_result.SkippedAttackResult at 0x7f7aad6f5b50>,\n",
       " <textattack.attack_results.failed_attack_result.FailedAttackResult at 0x7f7ab6f57ed0>,\n",
       " <textattack.attack_results.failed_attack_result.FailedAttackResult at 0x7f7aaae9a290>,\n",
       " <textattack.attack_results.failed_attack_result.FailedAttackResult at 0x7f7ab79eed90>,\n",
       " <textattack.attack_results.skipped_attack_result.SkippedAttackResult at 0x7f7ab79ee410>,\n",
       " <textattack.attack_results.failed_attack_result.FailedAttackResult at 0x7f7ab3cdc190>,\n",
       " <textattack.attack_results.failed_attack_result.FailedAttackResult at 0x7f7ab6793810>,\n",
       " <textattack.attack_results.failed_attack_result.FailedAttackResult at 0x7f7ab20ec450>,\n",
       " <textattack.attack_results.failed_attack_result.FailedAttackResult at 0x7f7ab3cffa90>,\n",
       " <textattack.attack_results.skipped_attack_result.SkippedAttackResult at 0x7f7c67fa5c10>,\n",
       " <textattack.attack_results.skipped_attack_result.SkippedAttackResult at 0x7f7c67fa53d0>,\n",
       " <textattack.attack_results.failed_attack_result.FailedAttackResult at 0x7f7ab3bddc90>,\n",
       " <textattack.attack_results.failed_attack_result.FailedAttackResult at 0x7f7ab5fc91d0>,\n",
       " <textattack.attack_results.skipped_attack_result.SkippedAttackResult at 0x7f7ab5fc9b50>,\n",
       " <textattack.attack_results.skipped_attack_result.SkippedAttackResult at 0x7f7ab5fc9110>,\n",
       " <textattack.attack_results.failed_attack_result.FailedAttackResult at 0x7f7aafa62b50>,\n",
       " <textattack.attack_results.failed_attack_result.FailedAttackResult at 0x7f77953c9a90>,\n",
       " <textattack.attack_results.failed_attack_result.FailedAttackResult at 0x7f7aa8253410>,\n",
       " <textattack.attack_results.failed_attack_result.FailedAttackResult at 0x7f7aaa7faf90>,\n",
       " <textattack.attack_results.skipped_attack_result.SkippedAttackResult at 0x7f7aafb6df10>,\n",
       " <textattack.attack_results.failed_attack_result.FailedAttackResult at 0x7f77953c93d0>,\n",
       " <textattack.attack_results.skipped_attack_result.SkippedAttackResult at 0x7f7ab79eea10>,\n",
       " <textattack.attack_results.skipped_attack_result.SkippedAttackResult at 0x7f7ab6f6ad90>,\n",
       " <textattack.attack_results.failed_attack_result.FailedAttackResult at 0x7f7ab6793550>,\n",
       " <textattack.attack_results.skipped_attack_result.SkippedAttackResult at 0x7f7ab6793c10>,\n",
       " <textattack.attack_results.failed_attack_result.FailedAttackResult at 0x7f7ab729b550>,\n",
       " <textattack.attack_results.failed_attack_result.FailedAttackResult at 0x7f7ab1468910>,\n",
       " <textattack.attack_results.failed_attack_result.FailedAttackResult at 0x7f7ab5ea9c90>,\n",
       " <textattack.attack_results.skipped_attack_result.SkippedAttackResult at 0x7f7cec6019d0>,\n",
       " <textattack.attack_results.failed_attack_result.FailedAttackResult at 0x7f7ab1f53450>,\n",
       " <textattack.attack_results.failed_attack_result.FailedAttackResult at 0x7f7aab8cd7d0>,\n",
       " <textattack.attack_results.failed_attack_result.FailedAttackResult at 0x7f7ab3ced950>,\n",
       " <textattack.attack_results.skipped_attack_result.SkippedAttackResult at 0x7f7ab3ced990>,\n",
       " <textattack.attack_results.failed_attack_result.FailedAttackResult at 0x7f7aac79b2d0>,\n",
       " <textattack.attack_results.failed_attack_result.FailedAttackResult at 0x7f7ab1ff5e90>,\n",
       " <textattack.attack_results.failed_attack_result.FailedAttackResult at 0x7f7aae3462d0>,\n",
       " <textattack.attack_results.failed_attack_result.FailedAttackResult at 0x7f7ab0c171d0>,\n",
       " <textattack.attack_results.skipped_attack_result.SkippedAttackResult at 0x7f7ab1f6dad0>,\n",
       " <textattack.attack_results.skipped_attack_result.SkippedAttackResult at 0x7f7ab0c17e50>,\n",
       " <textattack.attack_results.failed_attack_result.FailedAttackResult at 0x7f7ab5f57610>,\n",
       " <textattack.attack_results.skipped_attack_result.SkippedAttackResult at 0x7f7ab1f4b1d0>,\n",
       " <textattack.attack_results.skipped_attack_result.SkippedAttackResult at 0x7f7ab1f4b5d0>,\n",
       " <textattack.attack_results.failed_attack_result.FailedAttackResult at 0x7f7ab3ccd390>,\n",
       " <textattack.attack_results.failed_attack_result.FailedAttackResult at 0x7f7ab0043b50>,\n",
       " <textattack.attack_results.failed_attack_result.FailedAttackResult at 0x7f7ab3ced190>,\n",
       " <textattack.attack_results.skipped_attack_result.SkippedAttackResult at 0x7f7aab1cd450>,\n",
       " <textattack.attack_results.failed_attack_result.FailedAttackResult at 0x7f7aad0d6cd0>,\n",
       " <textattack.attack_results.failed_attack_result.FailedAttackResult at 0x7f7aac856e10>,\n",
       " <textattack.attack_results.skipped_attack_result.SkippedAttackResult at 0x7f7aac856f50>,\n",
       " <textattack.attack_results.failed_attack_result.FailedAttackResult at 0x7f7aae620e10>,\n",
       " <textattack.attack_results.skipped_attack_result.SkippedAttackResult at 0x7f7ab03b7610>,\n",
       " <textattack.attack_results.skipped_attack_result.SkippedAttackResult at 0x7f7aae620f10>,\n",
       " <textattack.attack_results.failed_attack_result.FailedAttackResult at 0x7f7ab452e350>,\n",
       " <textattack.attack_results.failed_attack_result.FailedAttackResult at 0x7f7ab0058ed0>,\n",
       " <textattack.attack_results.failed_attack_result.FailedAttackResult at 0x7f7ab0c0c850>,\n",
       " <textattack.attack_results.skipped_attack_result.SkippedAttackResult at 0x7f7ab0c0c3d0>,\n",
       " <textattack.attack_results.failed_attack_result.FailedAttackResult at 0x7f7aaa7fa7d0>,\n",
       " <textattack.attack_results.failed_attack_result.FailedAttackResult at 0x7f7ab07f2850>,\n",
       " <textattack.attack_results.skipped_attack_result.SkippedAttackResult at 0x7f7ab5f57450>,\n",
       " <textattack.attack_results.failed_attack_result.FailedAttackResult at 0x7f7aae6bedd0>,\n",
       " <textattack.attack_results.failed_attack_result.FailedAttackResult at 0x7f7ab984f850>,\n",
       " <textattack.attack_results.skipped_attack_result.SkippedAttackResult at 0x7f7aae6bea50>,\n",
       " <textattack.attack_results.failed_attack_result.FailedAttackResult at 0x7f7ab0c17e90>,\n",
       " <textattack.attack_results.failed_attack_result.FailedAttackResult at 0x7f7aadfe0890>,\n",
       " <textattack.attack_results.failed_attack_result.FailedAttackResult at 0x7f7ab5ff2ad0>,\n",
       " <textattack.attack_results.failed_attack_result.FailedAttackResult at 0x7f7aac47f950>,\n",
       " <textattack.attack_results.skipped_attack_result.SkippedAttackResult at 0x7f7aac47ff10>,\n",
       " <textattack.attack_results.skipped_attack_result.SkippedAttackResult at 0x7f7aac47f090>,\n",
       " <textattack.attack_results.failed_attack_result.FailedAttackResult at 0x7f7ab986b650>,\n",
       " <textattack.attack_results.failed_attack_result.FailedAttackResult at 0x7f7ab45029d0>,\n",
       " <textattack.attack_results.failed_attack_result.FailedAttackResult at 0x7f7ab29ca890>,\n",
       " <textattack.attack_results.failed_attack_result.FailedAttackResult at 0x7f7af44e2c50>,\n",
       " <textattack.attack_results.skipped_attack_result.SkippedAttackResult at 0x7f7af44e2110>,\n",
       " <textattack.attack_results.skipped_attack_result.SkippedAttackResult at 0x7f7af44e20d0>,\n",
       " <textattack.attack_results.skipped_attack_result.SkippedAttackResult at 0x7f7af44e24d0>,\n",
       " <textattack.attack_results.skipped_attack_result.SkippedAttackResult at 0x7f7af44e2250>,\n",
       " <textattack.attack_results.failed_attack_result.FailedAttackResult at 0x7f7aad6e0cd0>,\n",
       " <textattack.attack_results.failed_attack_result.FailedAttackResult at 0x7f7ab5fc9450>,\n",
       " <textattack.attack_results.skipped_attack_result.SkippedAttackResult at 0x7f7ab5fc9f10>,\n",
       " <textattack.attack_results.skipped_attack_result.SkippedAttackResult at 0x7f7ab5fc9350>,\n",
       " <textattack.attack_results.failed_attack_result.FailedAttackResult at 0x7f7aaa7fa090>,\n",
       " <textattack.attack_results.failed_attack_result.FailedAttackResult at 0x7f7ab0c0c8d0>,\n",
       " <textattack.attack_results.failed_attack_result.FailedAttackResult at 0x7f7af44e2850>,\n",
       " <textattack.attack_results.failed_attack_result.FailedAttackResult at 0x7f7aad6e0390>,\n",
       " <textattack.attack_results.failed_attack_result.FailedAttackResult at 0x7f7ab5fc9ad0>,\n",
       " <textattack.attack_results.skipped_attack_result.SkippedAttackResult at 0x7f7ab20f8890>,\n",
       " <textattack.attack_results.failed_attack_result.FailedAttackResult at 0x7f7ab2ba0a10>,\n",
       " <textattack.attack_results.failed_attack_result.FailedAttackResult at 0x7f7aac445690>,\n",
       " <textattack.attack_results.failed_attack_result.FailedAttackResult at 0x7f7ab5f57c50>,\n",
       " <textattack.attack_results.failed_attack_result.FailedAttackResult at 0x7f7aab1e55d0>,\n",
       " <textattack.attack_results.failed_attack_result.FailedAttackResult at 0x7f7ab07f2750>,\n",
       " <textattack.attack_results.failed_attack_result.FailedAttackResult at 0x7f7ab0058a10>,\n",
       " <textattack.attack_results.failed_attack_result.FailedAttackResult at 0x7f7ab1468b90>,\n",
       " <textattack.attack_results.failed_attack_result.FailedAttackResult at 0x7f7ab0043850>,\n",
       " <textattack.attack_results.failed_attack_result.FailedAttackResult at 0x7f7ab007f3d0>,\n",
       " <textattack.attack_results.skipped_attack_result.SkippedAttackResult at 0x7f7aafd78a10>,\n",
       " <textattack.attack_results.failed_attack_result.FailedAttackResult at 0x7f7aadb465d0>,\n",
       " <textattack.attack_results.skipped_attack_result.SkippedAttackResult at 0x7f7aadb46550>,\n",
       " <textattack.attack_results.failed_attack_result.FailedAttackResult at 0x7f7ab20f8690>,\n",
       " <textattack.attack_results.failed_attack_result.FailedAttackResult at 0x7f7ab3ccd790>,\n",
       " <textattack.attack_results.failed_attack_result.FailedAttackResult at 0x7f7ab3cc5a50>,\n",
       " <textattack.attack_results.skipped_attack_result.SkippedAttackResult at 0x7f7ab20f3b10>,\n",
       " <textattack.attack_results.failed_attack_result.FailedAttackResult at 0x7f7ab20f86d0>,\n",
       " <textattack.attack_results.failed_attack_result.FailedAttackResult at 0x7f7ab145dcd0>,\n",
       " <textattack.attack_results.skipped_attack_result.SkippedAttackResult at 0x7f7ab145d1d0>,\n",
       " <textattack.attack_results.failed_attack_result.FailedAttackResult at 0x7f7ab1462fd0>,\n",
       " <textattack.attack_results.skipped_attack_result.SkippedAttackResult at 0x7f7ab6f57710>,\n",
       " <textattack.attack_results.failed_attack_result.FailedAttackResult at 0x7f7aaca50650>,\n",
       " <textattack.attack_results.failed_attack_result.FailedAttackResult at 0x7f7aadb729d0>,\n",
       " <textattack.attack_results.failed_attack_result.FailedAttackResult at 0x7f7ab1468990>,\n",
       " <textattack.attack_results.skipped_attack_result.SkippedAttackResult at 0x7f7ab198dfd0>,\n",
       " <textattack.attack_results.failed_attack_result.FailedAttackResult at 0x7f7ab3cc5290>,\n",
       " <textattack.attack_results.failed_attack_result.FailedAttackResult at 0x7f7ab6e27150>,\n",
       " <textattack.attack_results.skipped_attack_result.SkippedAttackResult at 0x7f7ab4249110>,\n",
       " <textattack.attack_results.skipped_attack_result.SkippedAttackResult at 0x7f7ab6e27510>,\n",
       " <textattack.attack_results.failed_attack_result.FailedAttackResult at 0x7f7aab872bd0>,\n",
       " <textattack.attack_results.failed_attack_result.FailedAttackResult at 0x7f7aac84ec90>,\n",
       " <textattack.attack_results.failed_attack_result.FailedAttackResult at 0x7f7aafd52950>,\n",
       " <textattack.attack_results.skipped_attack_result.SkippedAttackResult at 0x7f7ab6f61310>,\n",
       " <textattack.attack_results.skipped_attack_result.SkippedAttackResult at 0x7f7ab6f61490>,\n",
       " <textattack.attack_results.skipped_attack_result.SkippedAttackResult at 0x7f7ab100c8d0>,\n",
       " <textattack.attack_results.failed_attack_result.FailedAttackResult at 0x7f7ab5fe0d90>,\n",
       " <textattack.attack_results.skipped_attack_result.SkippedAttackResult at 0x7f7ab5fe0b10>,\n",
       " <textattack.attack_results.skipped_attack_result.SkippedAttackResult at 0x7f7aac1a6ed0>,\n",
       " <textattack.attack_results.failed_attack_result.FailedAttackResult at 0x7f7aadb72290>,\n",
       " <textattack.attack_results.failed_attack_result.FailedAttackResult at 0x7f7abacfa3d0>,\n",
       " <textattack.attack_results.skipped_attack_result.SkippedAttackResult at 0x7f7aaf7870d0>,\n",
       " <textattack.attack_results.skipped_attack_result.SkippedAttackResult at 0x7f7aaf787310>,\n",
       " <textattack.attack_results.failed_attack_result.FailedAttackResult at 0x7f7aab872150>,\n",
       " <textattack.attack_results.skipped_attack_result.SkippedAttackResult at 0x7f7aab872690>,\n",
       " <textattack.attack_results.skipped_attack_result.SkippedAttackResult at 0x7f7ab4b0df50>,\n",
       " <textattack.attack_results.failed_attack_result.FailedAttackResult at 0x7f7aaf787e90>,\n",
       " <textattack.attack_results.skipped_attack_result.SkippedAttackResult at 0x7f7aaaeaf2d0>,\n",
       " <textattack.attack_results.failed_attack_result.FailedAttackResult at 0x7f7ab5e88050>,\n",
       " <textattack.attack_results.failed_attack_result.FailedAttackResult at 0x7f7ab86a2c90>,\n",
       " <textattack.attack_results.failed_attack_result.FailedAttackResult at 0x7f7ab0c27a50>,\n",
       " <textattack.attack_results.failed_attack_result.FailedAttackResult at 0x7f7aac87da50>,\n",
       " <textattack.attack_results.failed_attack_result.FailedAttackResult at 0x7f7ab3354310>,\n",
       " <textattack.attack_results.failed_attack_result.FailedAttackResult at 0x7f7ab72a4390>,\n",
       " <textattack.attack_results.failed_attack_result.FailedAttackResult at 0x7f7ab0043710>,\n",
       " <textattack.attack_results.failed_attack_result.FailedAttackResult at 0x7f7ab1468a50>,\n",
       " <textattack.attack_results.failed_attack_result.FailedAttackResult at 0x7f7ab4b0d450>,\n",
       " <textattack.attack_results.failed_attack_result.FailedAttackResult at 0x7f7ab45021d0>,\n",
       " <textattack.attack_results.failed_attack_result.FailedAttackResult at 0x7f7aaa0b8550>,\n",
       " <textattack.attack_results.failed_attack_result.FailedAttackResult at 0x7f7ab0acfe50>,\n",
       " <textattack.attack_results.failed_attack_result.FailedAttackResult at 0x7f7ab16c4190>,\n",
       " <textattack.attack_results.failed_attack_result.FailedAttackResult at 0x7f7aaada1750>,\n",
       " <textattack.attack_results.skipped_attack_result.SkippedAttackResult at 0x7f7aafd78050>,\n",
       " <textattack.attack_results.failed_attack_result.FailedAttackResult at 0x7f7aaa620850>,\n",
       " <textattack.attack_results.failed_attack_result.FailedAttackResult at 0x7f7aae6be110>,\n",
       " <textattack.attack_results.skipped_attack_result.SkippedAttackResult at 0x7f7ab145d090>,\n",
       " <textattack.attack_results.failed_attack_result.FailedAttackResult at 0x7f7aad6e0210>,\n",
       " <textattack.attack_results.failed_attack_result.FailedAttackResult at 0x7f7ab21126d0>,\n",
       " <textattack.attack_results.skipped_attack_result.SkippedAttackResult at 0x7f7aad8ce310>,\n",
       " <textattack.attack_results.failed_attack_result.FailedAttackResult at 0x7f77953c9cd0>,\n",
       " <textattack.attack_results.failed_attack_result.FailedAttackResult at 0x7f7ab1f74ad0>,\n",
       " <textattack.attack_results.skipped_attack_result.SkippedAttackResult at 0x7f7ab5e88710>,\n",
       " <textattack.attack_results.failed_attack_result.FailedAttackResult at 0x7f7aab1cd910>,\n",
       " <textattack.attack_results.failed_attack_result.FailedAttackResult at 0x7f7ab2bafb90>,\n",
       " <textattack.attack_results.failed_attack_result.FailedAttackResult at 0x7f7aad6f5e50>,\n",
       " <textattack.attack_results.skipped_attack_result.SkippedAttackResult at 0x7f7aad6f5e90>,\n",
       " <textattack.attack_results.failed_attack_result.FailedAttackResult at 0x7f7ab0058f90>,\n",
       " <textattack.attack_results.failed_attack_result.FailedAttackResult at 0x7f7ab5ee15d0>,\n",
       " <textattack.attack_results.failed_attack_result.FailedAttackResult at 0x7f7aad6f5090>,\n",
       " <textattack.attack_results.failed_attack_result.FailedAttackResult at 0x7f7ab5fe0510>,\n",
       " <textattack.attack_results.failed_attack_result.FailedAttackResult at 0x7f7ab9a8d910>,\n",
       " <textattack.attack_results.failed_attack_result.FailedAttackResult at 0x7f7aab630690>,\n",
       " <textattack.attack_results.skipped_attack_result.SkippedAttackResult at 0x7f7aae683dd0>,\n",
       " <textattack.attack_results.failed_attack_result.FailedAttackResult at 0x7f7ab3c12a10>,\n",
       " <textattack.attack_results.failed_attack_result.FailedAttackResult at 0x7f7ab0d10510>,\n",
       " <textattack.attack_results.failed_attack_result.FailedAttackResult at 0x7f7abacfa790>,\n",
       " <textattack.attack_results.failed_attack_result.FailedAttackResult at 0x7f7ab6a09c90>,\n",
       " <textattack.attack_results.failed_attack_result.FailedAttackResult at 0x7f77953fbc10>,\n",
       " <textattack.attack_results.failed_attack_result.FailedAttackResult at 0x7f7aafb4dfd0>,\n",
       " <textattack.attack_results.failed_attack_result.FailedAttackResult at 0x7f7aaa620910>,\n",
       " <textattack.attack_results.failed_attack_result.FailedAttackResult at 0x7f7aae09bdd0>,\n",
       " <textattack.attack_results.failed_attack_result.FailedAttackResult at 0x7f7ab6f57250>,\n",
       " <textattack.attack_results.skipped_attack_result.SkippedAttackResult at 0x7f7ab3c12110>,\n",
       " <textattack.attack_results.skipped_attack_result.SkippedAttackResult at 0x7f7ab6f57690>,\n",
       " <textattack.attack_results.skipped_attack_result.SkippedAttackResult at 0x7f7ab6f57e90>,\n",
       " <textattack.attack_results.failed_attack_result.FailedAttackResult at 0x7f7aaaeafc50>,\n",
       " <textattack.attack_results.failed_attack_result.FailedAttackResult at 0x7f7aadb57bd0>,\n",
       " <textattack.attack_results.failed_attack_result.FailedAttackResult at 0x7f7af44f1ed0>,\n",
       " <textattack.attack_results.failed_attack_result.FailedAttackResult at 0x7f7aab630f90>,\n",
       " <textattack.attack_results.skipped_attack_result.SkippedAttackResult at 0x7f7aaeae9510>,\n",
       " <textattack.attack_results.failed_attack_result.FailedAttackResult at 0x7f7ab3cc5450>,\n",
       " <textattack.attack_results.failed_attack_result.FailedAttackResult at 0x7f7aaaeaf5d0>,\n",
       " <textattack.attack_results.skipped_attack_result.SkippedAttackResult at 0x7f7ab5ea9bd0>,\n",
       " <textattack.attack_results.failed_attack_result.FailedAttackResult at 0x7f7aafb4d710>,\n",
       " <textattack.attack_results.failed_attack_result.FailedAttackResult at 0x7f7aafd52e10>,\n",
       " <textattack.attack_results.failed_attack_result.FailedAttackResult at 0x7f7aad6f5210>,\n",
       " <textattack.attack_results.skipped_attack_result.SkippedAttackResult at 0x7f7aaa620bd0>,\n",
       " <textattack.attack_results.failed_attack_result.FailedAttackResult at 0x7f7ab0c17910>,\n",
       " <textattack.attack_results.skipped_attack_result.SkippedAttackResult at 0x7f7aafd52b50>,\n",
       " <textattack.attack_results.failed_attack_result.FailedAttackResult at 0x7f7ab729b250>,\n",
       " <textattack.attack_results.failed_attack_result.FailedAttackResult at 0x7f7ab3c12b10>,\n",
       " <textattack.attack_results.failed_attack_result.FailedAttackResult at 0x7f7ab6a209d0>,\n",
       " <textattack.attack_results.failed_attack_result.FailedAttackResult at 0x7f7aac87d390>,\n",
       " <textattack.attack_results.failed_attack_result.FailedAttackResult at 0x7f7ab20f3050>,\n",
       " <textattack.attack_results.skipped_attack_result.SkippedAttackResult at 0x7f7ab20f3d50>,\n",
       " <textattack.attack_results.failed_attack_result.FailedAttackResult at 0x7f7ab198d310>,\n",
       " <textattack.attack_results.failed_attack_result.FailedAttackResult at 0x7f7aae097a90>,\n",
       " <textattack.attack_results.skipped_attack_result.SkippedAttackResult at 0x7f7aae0973d0>,\n",
       " <textattack.attack_results.skipped_attack_result.SkippedAttackResult at 0x7f7aae097490>,\n",
       " <textattack.attack_results.failed_attack_result.FailedAttackResult at 0x7f7aaf79ea90>,\n",
       " <textattack.attack_results.failed_attack_result.FailedAttackResult at 0x7f7ab4bcdf50>,\n",
       " <textattack.attack_results.failed_attack_result.FailedAttackResult at 0x7f7aacab4e10>,\n",
       " <textattack.attack_results.failed_attack_result.FailedAttackResult at 0x7f7aac87d490>,\n",
       " <textattack.attack_results.failed_attack_result.FailedAttackResult at 0x7f7aadb461d0>,\n",
       " <textattack.attack_results.failed_attack_result.FailedAttackResult at 0x7f7ab4b0d810>,\n",
       " <textattack.attack_results.failed_attack_result.FailedAttackResult at 0x7f7aad8ce890>,\n",
       " <textattack.attack_results.skipped_attack_result.SkippedAttackResult at 0x7f7aadfe0690>,\n",
       " <textattack.attack_results.failed_attack_result.FailedAttackResult at 0x7f7ab79e9ad0>,\n",
       " <textattack.attack_results.failed_attack_result.FailedAttackResult at 0x7f7abacd0ed0>,\n",
       " <textattack.attack_results.skipped_attack_result.SkippedAttackResult at 0x7f7abacd0a10>,\n",
       " <textattack.attack_results.failed_attack_result.FailedAttackResult at 0x7f7ab0c0c110>,\n",
       " <textattack.attack_results.skipped_attack_result.SkippedAttackResult at 0x7f7aaeae9410>,\n",
       " <textattack.attack_results.failed_attack_result.FailedAttackResult at 0x7f7aaeae9790>,\n",
       " <textattack.attack_results.failed_attack_result.FailedAttackResult at 0x7f7aac445090>,\n",
       " <textattack.attack_results.failed_attack_result.FailedAttackResult at 0x7f7ab3c33350>,\n",
       " <textattack.attack_results.skipped_attack_result.SkippedAttackResult at 0x7f7ab1462350>,\n",
       " <textattack.attack_results.failed_attack_result.FailedAttackResult at 0x7f7abacee3d0>,\n",
       " <textattack.attack_results.failed_attack_result.FailedAttackResult at 0x7f7aac47fa50>,\n",
       " <textattack.attack_results.failed_attack_result.FailedAttackResult at 0x7f7ab4b0d2d0>,\n",
       " <textattack.attack_results.failed_attack_result.FailedAttackResult at 0x7f7ab5f701d0>,\n",
       " <textattack.attack_results.failed_attack_result.FailedAttackResult at 0x7f7aaa8fae50>,\n",
       " <textattack.attack_results.failed_attack_result.FailedAttackResult at 0x7f7ab2ba6c10>,\n",
       " <textattack.attack_results.failed_attack_result.FailedAttackResult at 0x7f7aac56ddd0>,\n",
       " <textattack.attack_results.failed_attack_result.FailedAttackResult at 0x7f7ab5f57b90>,\n",
       " <textattack.attack_results.failed_attack_result.FailedAttackResult at 0x7f7aad399dd0>,\n",
       " <textattack.attack_results.failed_attack_result.FailedAttackResult at 0x7f7ab5e88250>,\n",
       " <textattack.attack_results.failed_attack_result.FailedAttackResult at 0x7f7ab9aba290>,\n",
       " <textattack.attack_results.failed_attack_result.FailedAttackResult at 0x7f7ab0c27590>,\n",
       " <textattack.attack_results.skipped_attack_result.SkippedAttackResult at 0x7f7ab0c27a10>,\n",
       " <textattack.attack_results.failed_attack_result.FailedAttackResult at 0x7f7aac47fbd0>,\n",
       " <textattack.attack_results.failed_attack_result.FailedAttackResult at 0x7f7aad8ceb90>,\n",
       " <textattack.attack_results.skipped_attack_result.SkippedAttackResult at 0x7f7aae097390>,\n",
       " <textattack.attack_results.failed_attack_result.FailedAttackResult at 0x7f7ab6e27a10>,\n",
       " <textattack.attack_results.failed_attack_result.FailedAttackResult at 0x7f7aae8ffd90>,\n",
       " <textattack.attack_results.failed_attack_result.FailedAttackResult at 0x7f7aaa7e56d0>,\n",
       " <textattack.attack_results.failed_attack_result.FailedAttackResult at 0x7f7aad4c7610>,\n",
       " <textattack.attack_results.failed_attack_result.FailedAttackResult at 0x7f7ab4b11d50>,\n",
       " <textattack.attack_results.failed_attack_result.FailedAttackResult at 0x7f7ab100cd10>,\n",
       " <textattack.attack_results.failed_attack_result.FailedAttackResult at 0x7f7ab6e27850>,\n",
       " <textattack.attack_results.skipped_attack_result.SkippedAttackResult at 0x7f7ab100c9d0>,\n",
       " <textattack.attack_results.failed_attack_result.FailedAttackResult at 0x7f7ab08e1d90>,\n",
       " <textattack.attack_results.failed_attack_result.FailedAttackResult at 0x7f7aad6e0f50>,\n",
       " <textattack.attack_results.failed_attack_result.FailedAttackResult at 0x7f7aabbdc990>,\n",
       " <textattack.attack_results.skipped_attack_result.SkippedAttackResult at 0x7f7ab100ccd0>,\n",
       " <textattack.attack_results.failed_attack_result.FailedAttackResult at 0x7f7ab506ec90>,\n",
       " <textattack.attack_results.failed_attack_result.FailedAttackResult at 0x7f7ab5fd97d0>,\n",
       " <textattack.attack_results.failed_attack_result.FailedAttackResult at 0x7f7ab506ecd0>,\n",
       " <textattack.attack_results.failed_attack_result.FailedAttackResult at 0x7f7ab0c27690>,\n",
       " <textattack.attack_results.failed_attack_result.FailedAttackResult at 0x7f7aad3bb550>,\n",
       " <textattack.attack_results.failed_attack_result.FailedAttackResult at 0x7f7ab145d690>,\n",
       " <textattack.attack_results.failed_attack_result.FailedAttackResult at 0x7f7aab630650>,\n",
       " <textattack.attack_results.failed_attack_result.FailedAttackResult at 0x7f7abacfa7d0>,\n",
       " <textattack.attack_results.failed_attack_result.FailedAttackResult at 0x7f7ab729b750>,\n",
       " <textattack.attack_results.failed_attack_result.FailedAttackResult at 0x7f7ab198d490>,\n",
       " <textattack.attack_results.failed_attack_result.FailedAttackResult at 0x7f7ab6a20b50>,\n",
       " <textattack.attack_results.failed_attack_result.FailedAttackResult at 0x7f7ab3c12350>,\n",
       " <textattack.attack_results.failed_attack_result.FailedAttackResult at 0x7f7aafd594d0>,\n",
       " <textattack.attack_results.failed_attack_result.FailedAttackResult at 0x7f7aadb62850>,\n",
       " <textattack.attack_results.failed_attack_result.FailedAttackResult at 0x7f7ab27a3550>,\n",
       " <textattack.attack_results.failed_attack_result.FailedAttackResult at 0x7f7aac1a2750>,\n",
       " <textattack.attack_results.failed_attack_result.FailedAttackResult at 0x7f7ab2ba6890>,\n",
       " <textattack.attack_results.failed_attack_result.FailedAttackResult at 0x7f7aadb62810>,\n",
       " <textattack.attack_results.failed_attack_result.FailedAttackResult at 0x7f7ab27a3910>,\n",
       " <textattack.attack_results.failed_attack_result.FailedAttackResult at 0x7f7ab3c337d0>,\n",
       " <textattack.attack_results.failed_attack_result.FailedAttackResult at 0x7f7abacd07d0>,\n",
       " <textattack.attack_results.failed_attack_result.FailedAttackResult at 0x7f7ab5f70210>,\n",
       " <textattack.attack_results.failed_attack_result.FailedAttackResult at 0x7f7ab27a3b10>,\n",
       " <textattack.attack_results.failed_attack_result.FailedAttackResult at 0x7f7aaf7bb810>,\n",
       " <textattack.attack_results.failed_attack_result.FailedAttackResult at 0x7f7ab9bcd590>,\n",
       " <textattack.attack_results.failed_attack_result.FailedAttackResult at 0x7f7aac856a10>,\n",
       " <textattack.attack_results.failed_attack_result.FailedAttackResult at 0x7f7abacd0890>,\n",
       " <textattack.attack_results.failed_attack_result.FailedAttackResult at 0x7f7ab21200d0>,\n",
       " <textattack.attack_results.skipped_attack_result.SkippedAttackResult at 0x7f7aac861690>,\n",
       " <textattack.attack_results.failed_attack_result.FailedAttackResult at 0x7f7ab3c33310>,\n",
       " <textattack.attack_results.skipped_attack_result.SkippedAttackResult at 0x7f7ab82cc610>,\n",
       " <textattack.attack_results.failed_attack_result.FailedAttackResult at 0x7f7aac56da10>,\n",
       " <textattack.attack_results.skipped_attack_result.SkippedAttackResult at 0x7f7aaf787710>,\n",
       " <textattack.attack_results.skipped_attack_result.SkippedAttackResult at 0x7f7aac56ded0>,\n",
       " <textattack.attack_results.failed_attack_result.FailedAttackResult at 0x7f7ab9abab10>,\n",
       " <textattack.attack_results.failed_attack_result.FailedAttackResult at 0x7f7af44e2150>,\n",
       " <textattack.attack_results.skipped_attack_result.SkippedAttackResult at 0x7f7aaaea7950>,\n",
       " <textattack.attack_results.skipped_attack_result.SkippedAttackResult at 0x7f7af44d5bd0>,\n",
       " <textattack.attack_results.failed_attack_result.FailedAttackResult at 0x7f7ab4249b10>,\n",
       " <textattack.attack_results.failed_attack_result.FailedAttackResult at 0x7f7ab72ad8d0>,\n",
       " <textattack.attack_results.failed_attack_result.FailedAttackResult at 0x7f7ab4249f90>,\n",
       " <textattack.attack_results.failed_attack_result.FailedAttackResult at 0x7f7aab8727d0>,\n",
       " <textattack.attack_results.failed_attack_result.FailedAttackResult at 0x7f7aaf787f90>,\n",
       " <textattack.attack_results.failed_attack_result.FailedAttackResult at 0x7f7aafd74810>,\n",
       " <textattack.attack_results.failed_attack_result.FailedAttackResult at 0x7f7ab4249a50>,\n",
       " <textattack.attack_results.failed_attack_result.FailedAttackResult at 0x7f7ab6f67a10>,\n",
       " <textattack.attack_results.failed_attack_result.FailedAttackResult at 0x7f7ab5ff2410>,\n",
       " <textattack.attack_results.failed_attack_result.FailedAttackResult at 0x7f7aae097090>,\n",
       " <textattack.attack_results.failed_attack_result.FailedAttackResult at 0x7f7ab5fe09d0>,\n",
       " <textattack.attack_results.failed_attack_result.FailedAttackResult at 0x7f7abacd0ad0>,\n",
       " <textattack.attack_results.failed_attack_result.FailedAttackResult at 0x7f7ab86a2990>,\n",
       " <textattack.attack_results.skipped_attack_result.SkippedAttackResult at 0x7f7ab6a05390>,\n",
       " <textattack.attack_results.skipped_attack_result.SkippedAttackResult at 0x7f7ab86a2a90>,\n",
       " <textattack.attack_results.skipped_attack_result.SkippedAttackResult at 0x7f7ab86a20d0>,\n",
       " <textattack.attack_results.failed_attack_result.FailedAttackResult at 0x7f7ab2120cd0>,\n",
       " <textattack.attack_results.skipped_attack_result.SkippedAttackResult at 0x7f7af44f1a50>,\n",
       " <textattack.attack_results.failed_attack_result.FailedAttackResult at 0x7f7abacd02d0>,\n",
       " <textattack.attack_results.skipped_attack_result.SkippedAttackResult at 0x7f7ab72ad410>,\n",
       " <textattack.attack_results.skipped_attack_result.SkippedAttackResult at 0x7f7aac445a50>,\n",
       " <textattack.attack_results.failed_attack_result.FailedAttackResult at 0x7f7aac1a2910>,\n",
       " <textattack.attack_results.skipped_attack_result.SkippedAttackResult at 0x7f7abacdf550>,\n",
       " <textattack.attack_results.failed_attack_result.FailedAttackResult at 0x7f7aaf787550>,\n",
       " <textattack.attack_results.failed_attack_result.FailedAttackResult at 0x7f7ab6f61150>,\n",
       " <textattack.attack_results.failed_attack_result.FailedAttackResult at 0x7f7ab5fe0f10>,\n",
       " <textattack.attack_results.skipped_attack_result.SkippedAttackResult at 0x7f7aaa8d1b10>,\n",
       " <textattack.attack_results.failed_attack_result.FailedAttackResult at 0x7f7abacdfd10>,\n",
       " <textattack.attack_results.skipped_attack_result.SkippedAttackResult at 0x7f7ab19acb10>,\n",
       " <textattack.attack_results.failed_attack_result.FailedAttackResult at 0x7f7aac7a5f50>,\n",
       " <textattack.attack_results.skipped_attack_result.SkippedAttackResult at 0x7f7aaf787bd0>,\n",
       " <textattack.attack_results.failed_attack_result.FailedAttackResult at 0x7f7ab0d32ed0>,\n",
       " <textattack.attack_results.failed_attack_result.FailedAttackResult at 0x7f7ab27a3bd0>,\n",
       " <textattack.attack_results.skipped_attack_result.SkippedAttackResult at 0x7f7ab506ac90>,\n",
       " <textattack.attack_results.skipped_attack_result.SkippedAttackResult at 0x7f7ab506a0d0>,\n",
       " <textattack.attack_results.failed_attack_result.FailedAttackResult at 0x7f7aac861110>,\n",
       " <textattack.attack_results.failed_attack_result.FailedAttackResult at 0x7f7ab5ee1450>,\n",
       " <textattack.attack_results.skipped_attack_result.SkippedAttackResult at 0x7f7ab6f61410>,\n",
       " <textattack.attack_results.failed_attack_result.FailedAttackResult at 0x7f7aaeaea790>,\n",
       " <textattack.attack_results.failed_attack_result.FailedAttackResult at 0x7f7aac861810>,\n",
       " <textattack.attack_results.skipped_attack_result.SkippedAttackResult at 0x7f7ab3354f50>,\n",
       " <textattack.attack_results.failed_attack_result.FailedAttackResult at 0x7f7aaf35e8d0>,\n",
       " <textattack.attack_results.skipped_attack_result.SkippedAttackResult at 0x7f7af44fc650>,\n",
       " <textattack.attack_results.failed_attack_result.FailedAttackResult at 0x7f7aacc15390>,\n",
       " <textattack.attack_results.failed_attack_result.FailedAttackResult at 0x7f7835664990>,\n",
       " <textattack.attack_results.failed_attack_result.FailedAttackResult at 0x7f7ab0c1e450>,\n",
       " <textattack.attack_results.failed_attack_result.FailedAttackResult at 0x7f7ab5ecb790>,\n",
       " <textattack.attack_results.failed_attack_result.FailedAttackResult at 0x7f7ab3354c10>,\n",
       " <textattack.attack_results.failed_attack_result.FailedAttackResult at 0x7f7af44c3490>,\n",
       " <textattack.attack_results.failed_attack_result.FailedAttackResult at 0x7f7aae8ffbd0>,\n",
       " <textattack.attack_results.failed_attack_result.FailedAttackResult at 0x7f7ab1d2a190>,\n",
       " <textattack.attack_results.failed_attack_result.FailedAttackResult at 0x7f7ab3c330d0>,\n",
       " <textattack.attack_results.failed_attack_result.FailedAttackResult at 0x7f7aac1a2c90>,\n",
       " <textattack.attack_results.failed_attack_result.FailedAttackResult at 0x7f7ab86b9510>,\n",
       " <textattack.attack_results.skipped_attack_result.SkippedAttackResult at 0x7f7ab6a1b090>,\n",
       " <textattack.attack_results.failed_attack_result.FailedAttackResult at 0x7f7ab5feed10>,\n",
       " <textattack.attack_results.skipped_attack_result.SkippedAttackResult at 0x7f7ab5fee1d0>,\n",
       " <textattack.attack_results.failed_attack_result.FailedAttackResult at 0x7f7ab0d32a50>,\n",
       " <textattack.attack_results.failed_attack_result.FailedAttackResult at 0x7f7aaca50e10>,\n",
       " <textattack.attack_results.skipped_attack_result.SkippedAttackResult at 0x7f7aaca502d0>,\n",
       " <textattack.attack_results.failed_attack_result.FailedAttackResult at 0x7f7ab79e9b10>,\n",
       " <textattack.attack_results.failed_attack_result.FailedAttackResult at 0x7f7af44f1ad0>,\n",
       " <textattack.attack_results.skipped_attack_result.SkippedAttackResult at 0x7f7ab6f74590>,\n",
       " <textattack.attack_results.skipped_attack_result.SkippedAttackResult at 0x7f7aaae9ab50>,\n",
       " <textattack.attack_results.failed_attack_result.FailedAttackResult at 0x7f7af44d5590>,\n",
       " <textattack.attack_results.failed_attack_result.FailedAttackResult at 0x7f7aab635e50>,\n",
       " <textattack.attack_results.skipped_attack_result.SkippedAttackResult at 0x7f7ab2787b10>,\n",
       " <textattack.attack_results.failed_attack_result.FailedAttackResult at 0x7f7ab2541a90>,\n",
       " <textattack.attack_results.failed_attack_result.FailedAttackResult at 0x7f7ab506a3d0>,\n",
       " <textattack.attack_results.skipped_attack_result.SkippedAttackResult at 0x7f7ab4b83090>,\n",
       " <textattack.attack_results.failed_attack_result.FailedAttackResult at 0x7f7ab20f8a10>,\n",
       " <textattack.attack_results.skipped_attack_result.SkippedAttackResult at 0x7f7ab4b83710>,\n",
       " <textattack.attack_results.skipped_attack_result.SkippedAttackResult at 0x7f7abacc4a50>,\n",
       " <textattack.attack_results.skipped_attack_result.SkippedAttackResult at 0x7f7ab4b83650>,\n",
       " <textattack.attack_results.failed_attack_result.FailedAttackResult at 0x7f7aaf623f10>,\n",
       " <textattack.attack_results.failed_attack_result.FailedAttackResult at 0x7f7abc773a90>,\n",
       " <textattack.attack_results.failed_attack_result.FailedAttackResult at 0x7f7aacc15a90>,\n",
       " <textattack.attack_results.failed_attack_result.FailedAttackResult at 0x7f7ab0c089d0>,\n",
       " <textattack.attack_results.failed_attack_result.FailedAttackResult at 0x7f7ab6a1bb50>,\n",
       " <textattack.attack_results.failed_attack_result.FailedAttackResult at 0x7f7aae69d750>,\n",
       " <textattack.attack_results.failed_attack_result.FailedAttackResult at 0x7f7aac1a6650>,\n",
       " <textattack.attack_results.skipped_attack_result.SkippedAttackResult at 0x7f7aac1a6e50>,\n",
       " <textattack.attack_results.failed_attack_result.FailedAttackResult at 0x7f7ab08fb590>,\n",
       " <textattack.attack_results.skipped_attack_result.SkippedAttackResult at 0x7f7ab08fb710>,\n",
       " <textattack.attack_results.skipped_attack_result.SkippedAttackResult at 0x7f7ab6f67bd0>,\n",
       " <textattack.attack_results.failed_attack_result.FailedAttackResult at 0x7f7aae8ffed0>,\n",
       " <textattack.attack_results.skipped_attack_result.SkippedAttackResult at 0x7f7aae8ffe90>,\n",
       " <textattack.attack_results.failed_attack_result.FailedAttackResult at 0x7f7aa9811bd0>,\n",
       " <textattack.attack_results.skipped_attack_result.SkippedAttackResult at 0x7f7aa9811810>]"
      ]
     },
     "metadata": {},
     "output_type": "display_data"
    }
   ],
   "source": [
    "#!g1.1\n",
    "%%time \n",
    "\n",
    "attack = textattack.attack_recipes.TextFoolerJin2019.build(model_wrapper)\n",
    "attack_args = textattack.AttackArgs(num_examples=-1, log_to_csv=\"log_Cola_tf_idf.csv\", checkpoint_interval=250, checkpoint_dir=\"checkpoints\", disable_stdout=True)\n",
    "attacker = textattack.Attacker(attack, dataset, attack_args)\n",
    "\n",
    "attacker.attack_dataset()"
   ]
  },
  {
   "cell_type": "code",
   "execution_count": null,
   "metadata": {
    "cellId": "noa27al1ozxrehcio1pl"
   },
   "outputs": [],
   "source": [
    "#!g1.1\n",
    "%%time \n",
    "\n",
    "attack = textattack.attack_recipes.BAEGarg2019.build(model_wrapper)\n",
    "attack_args = textattack.AttackArgs(num_examples=-1, log_to_csv=\"log_Cola_tf_idf_BAE.csv\", checkpoint_interval=250, checkpoint_dir=\"checkpoints\", disable_stdout=True)\n",
    "attacker = textattack.Attacker(attack, dataset, attack_args)\n",
    "\n",
    "attacker.attack_dataset()"
   ]
  },
  {
   "cell_type": "code",
   "execution_count": null,
   "metadata": {
    "cellId": "qy8lkmqojjg7txhlpqh8nw"
   },
   "outputs": [],
   "source": [
    "#!g1.1\n"
   ]
  }
 ],
 "metadata": {
  "accelerator": "GPU",
  "colab": {
   "collapsed_sections": [],
   "name": "BERT Fine-Tuning Sentence Classification v4.ipynb",
   "provenance": [],
   "toc_visible": true
  },
  "kernelspec": {
   "display_name": "Yandex DataSphere Kernel",
   "language": "python",
   "name": "python3"
  },
  "language_info": {
   "codemirror_mode": {
    "name": "ipython",
    "version": 3
   },
   "file_extension": ".py",
   "mimetype": "text/x-python",
   "name": "python",
   "nbconvert_exporter": "python",
   "pygments_lexer": "ipython3",
   "version": "3.7.7"
  },
  "notebookId": "4c89eed6-955c-430c-acf1-40286a596448",
  "notebookPath": "text_attacks/notebooks/BERT_CoLa.ipynb",
  "widgets": {
   "application/vnd.jupyter.widget-state+json": {
    "0fe5b1d0540240a8a8426352c24b2887": {
     "model_module": "@jupyter-widgets/base",
     "model_module_version": "1.2.0",
     "model_name": "LayoutModel",
     "state": {
      "_model_module": "@jupyter-widgets/base",
      "_model_module_version": "1.2.0",
      "_model_name": "LayoutModel",
      "_view_count": null,
      "_view_module": "@jupyter-widgets/base",
      "_view_module_version": "1.2.0",
      "_view_name": "LayoutView",
      "align_content": null,
      "align_items": null,
      "align_self": null,
      "border": null,
      "bottom": null,
      "display": null,
      "flex": null,
      "flex_flow": null,
      "grid_area": null,
      "grid_auto_columns": null,
      "grid_auto_flow": null,
      "grid_auto_rows": null,
      "grid_column": null,
      "grid_gap": null,
      "grid_row": null,
      "grid_template_areas": null,
      "grid_template_columns": null,
      "grid_template_rows": null,
      "height": null,
      "justify_content": null,
      "justify_items": null,
      "left": null,
      "margin": null,
      "max_height": null,
      "max_width": null,
      "min_height": null,
      "min_width": null,
      "object_fit": null,
      "object_position": null,
      "order": null,
      "overflow": null,
      "overflow_x": null,
      "overflow_y": null,
      "padding": null,
      "right": null,
      "top": null,
      "visibility": null,
      "width": null
     }
    },
    "1058e0b5baa248faa60c1ad146d10bf7": {
     "model_module": "@jupyter-widgets/base",
     "model_module_version": "1.2.0",
     "model_name": "LayoutModel",
     "state": {
      "_model_module": "@jupyter-widgets/base",
      "_model_module_version": "1.2.0",
      "_model_name": "LayoutModel",
      "_view_count": null,
      "_view_module": "@jupyter-widgets/base",
      "_view_module_version": "1.2.0",
      "_view_name": "LayoutView",
      "align_content": null,
      "align_items": null,
      "align_self": null,
      "border": null,
      "bottom": null,
      "display": null,
      "flex": null,
      "flex_flow": null,
      "grid_area": null,
      "grid_auto_columns": null,
      "grid_auto_flow": null,
      "grid_auto_rows": null,
      "grid_column": null,
      "grid_gap": null,
      "grid_row": null,
      "grid_template_areas": null,
      "grid_template_columns": null,
      "grid_template_rows": null,
      "height": null,
      "justify_content": null,
      "justify_items": null,
      "left": null,
      "margin": null,
      "max_height": null,
      "max_width": null,
      "min_height": null,
      "min_width": null,
      "object_fit": null,
      "object_position": null,
      "order": null,
      "overflow": null,
      "overflow_x": null,
      "overflow_y": null,
      "padding": null,
      "right": null,
      "top": null,
      "visibility": null,
      "width": null
     }
    },
    "1296a3d754b344a482a03e5af84e805e": {
     "model_module": "@jupyter-widgets/controls",
     "model_module_version": "1.5.0",
     "model_name": "FloatProgressModel",
     "state": {
      "_dom_classes": [],
      "_model_module": "@jupyter-widgets/controls",
      "_model_module_version": "1.5.0",
      "_model_name": "FloatProgressModel",
      "_view_count": null,
      "_view_module": "@jupyter-widgets/controls",
      "_view_module_version": "1.5.0",
      "_view_name": "ProgressView",
      "bar_style": "success",
      "description": "Downloading: 100%",
      "description_tooltip": null,
      "layout": "IPY_MODEL_f8874fec8a404ae89a38fd2ecbb357cf",
      "max": 433,
      "min": 0,
      "orientation": "horizontal",
      "style": "IPY_MODEL_2755b9838bae408ca8cf667ad9d501fc",
      "value": 433
     }
    },
    "1c2b0ede959142fc89bf07a9c88df638": {
     "model_module": "@jupyter-widgets/base",
     "model_module_version": "1.2.0",
     "model_name": "LayoutModel",
     "state": {
      "_model_module": "@jupyter-widgets/base",
      "_model_module_version": "1.2.0",
      "_model_name": "LayoutModel",
      "_view_count": null,
      "_view_module": "@jupyter-widgets/base",
      "_view_module_version": "1.2.0",
      "_view_name": "LayoutView",
      "align_content": null,
      "align_items": null,
      "align_self": null,
      "border": null,
      "bottom": null,
      "display": null,
      "flex": null,
      "flex_flow": null,
      "grid_area": null,
      "grid_auto_columns": null,
      "grid_auto_flow": null,
      "grid_auto_rows": null,
      "grid_column": null,
      "grid_gap": null,
      "grid_row": null,
      "grid_template_areas": null,
      "grid_template_columns": null,
      "grid_template_rows": null,
      "height": null,
      "justify_content": null,
      "justify_items": null,
      "left": null,
      "margin": null,
      "max_height": null,
      "max_width": null,
      "min_height": null,
      "min_width": null,
      "object_fit": null,
      "object_position": null,
      "order": null,
      "overflow": null,
      "overflow_x": null,
      "overflow_y": null,
      "padding": null,
      "right": null,
      "top": null,
      "visibility": null,
      "width": null
     }
    },
    "23ca9359e6c44232a1346e6f2ab7e48c": {
     "model_module": "@jupyter-widgets/controls",
     "model_module_version": "1.5.0",
     "model_name": "FloatProgressModel",
     "state": {
      "_dom_classes": [],
      "_model_module": "@jupyter-widgets/controls",
      "_model_module_version": "1.5.0",
      "_model_name": "FloatProgressModel",
      "_view_count": null,
      "_view_module": "@jupyter-widgets/controls",
      "_view_module_version": "1.5.0",
      "_view_name": "ProgressView",
      "bar_style": "success",
      "description": "Downloading: 100%",
      "description_tooltip": null,
      "layout": "IPY_MODEL_0fe5b1d0540240a8a8426352c24b2887",
      "max": 440473133,
      "min": 0,
      "orientation": "horizontal",
      "style": "IPY_MODEL_6c7dec7b1e804c2195f6e60fb3c1d18e",
      "value": 440473133
     }
    },
    "2755b9838bae408ca8cf667ad9d501fc": {
     "model_module": "@jupyter-widgets/controls",
     "model_module_version": "1.5.0",
     "model_name": "ProgressStyleModel",
     "state": {
      "_model_module": "@jupyter-widgets/controls",
      "_model_module_version": "1.5.0",
      "_model_name": "ProgressStyleModel",
      "_view_count": null,
      "_view_module": "@jupyter-widgets/base",
      "_view_module_version": "1.2.0",
      "_view_name": "StyleView",
      "bar_color": null,
      "description_width": "initial"
     }
    },
    "375cc635389c4ddb9bf2aa443df58bae": {
     "model_module": "@jupyter-widgets/controls",
     "model_module_version": "1.5.0",
     "model_name": "DescriptionStyleModel",
     "state": {
      "_model_module": "@jupyter-widgets/controls",
      "_model_module_version": "1.5.0",
      "_model_name": "DescriptionStyleModel",
      "_view_count": null,
      "_view_module": "@jupyter-widgets/base",
      "_view_module_version": "1.2.0",
      "_view_name": "StyleView",
      "description_width": ""
     }
    },
    "440da34c72344cb08e4a1ee5de7049ee": {
     "model_module": "@jupyter-widgets/base",
     "model_module_version": "1.2.0",
     "model_name": "LayoutModel",
     "state": {
      "_model_module": "@jupyter-widgets/base",
      "_model_module_version": "1.2.0",
      "_model_name": "LayoutModel",
      "_view_count": null,
      "_view_module": "@jupyter-widgets/base",
      "_view_module_version": "1.2.0",
      "_view_name": "LayoutView",
      "align_content": null,
      "align_items": null,
      "align_self": null,
      "border": null,
      "bottom": null,
      "display": null,
      "flex": null,
      "flex_flow": null,
      "grid_area": null,
      "grid_auto_columns": null,
      "grid_auto_flow": null,
      "grid_auto_rows": null,
      "grid_column": null,
      "grid_gap": null,
      "grid_row": null,
      "grid_template_areas": null,
      "grid_template_columns": null,
      "grid_template_rows": null,
      "height": null,
      "justify_content": null,
      "justify_items": null,
      "left": null,
      "margin": null,
      "max_height": null,
      "max_width": null,
      "min_height": null,
      "min_width": null,
      "object_fit": null,
      "object_position": null,
      "order": null,
      "overflow": null,
      "overflow_x": null,
      "overflow_y": null,
      "padding": null,
      "right": null,
      "top": null,
      "visibility": null,
      "width": null
     }
    },
    "472198d5b6a748b3a81f9364fd1fa711": {
     "model_module": "@jupyter-widgets/base",
     "model_module_version": "1.2.0",
     "model_name": "LayoutModel",
     "state": {
      "_model_module": "@jupyter-widgets/base",
      "_model_module_version": "1.2.0",
      "_model_name": "LayoutModel",
      "_view_count": null,
      "_view_module": "@jupyter-widgets/base",
      "_view_module_version": "1.2.0",
      "_view_name": "LayoutView",
      "align_content": null,
      "align_items": null,
      "align_self": null,
      "border": null,
      "bottom": null,
      "display": null,
      "flex": null,
      "flex_flow": null,
      "grid_area": null,
      "grid_auto_columns": null,
      "grid_auto_flow": null,
      "grid_auto_rows": null,
      "grid_column": null,
      "grid_gap": null,
      "grid_row": null,
      "grid_template_areas": null,
      "grid_template_columns": null,
      "grid_template_rows": null,
      "height": null,
      "justify_content": null,
      "justify_items": null,
      "left": null,
      "margin": null,
      "max_height": null,
      "max_width": null,
      "min_height": null,
      "min_width": null,
      "object_fit": null,
      "object_position": null,
      "order": null,
      "overflow": null,
      "overflow_x": null,
      "overflow_y": null,
      "padding": null,
      "right": null,
      "top": null,
      "visibility": null,
      "width": null
     }
    },
    "4b1e27aff6f04fec8268d951e46b1e63": {
     "model_module": "@jupyter-widgets/controls",
     "model_module_version": "1.5.0",
     "model_name": "DescriptionStyleModel",
     "state": {
      "_model_module": "@jupyter-widgets/controls",
      "_model_module_version": "1.5.0",
      "_model_name": "DescriptionStyleModel",
      "_view_count": null,
      "_view_module": "@jupyter-widgets/base",
      "_view_module_version": "1.2.0",
      "_view_name": "StyleView",
      "description_width": ""
     }
    },
    "6c7dec7b1e804c2195f6e60fb3c1d18e": {
     "model_module": "@jupyter-widgets/controls",
     "model_module_version": "1.5.0",
     "model_name": "ProgressStyleModel",
     "state": {
      "_model_module": "@jupyter-widgets/controls",
      "_model_module_version": "1.5.0",
      "_model_name": "ProgressStyleModel",
      "_view_count": null,
      "_view_module": "@jupyter-widgets/base",
      "_view_module_version": "1.2.0",
      "_view_name": "StyleView",
      "bar_color": null,
      "description_width": "initial"
     }
    },
    "6f132d7bb83d41b6847df0d0ec0a1b92": {
     "model_module": "@jupyter-widgets/controls",
     "model_module_version": "1.5.0",
     "model_name": "HTMLModel",
     "state": {
      "_dom_classes": [],
      "_model_module": "@jupyter-widgets/controls",
      "_model_module_version": "1.5.0",
      "_model_name": "HTMLModel",
      "_view_count": null,
      "_view_module": "@jupyter-widgets/controls",
      "_view_module_version": "1.5.0",
      "_view_name": "HTMLView",
      "description": "",
      "description_tooltip": null,
      "layout": "IPY_MODEL_978c24b18b594eaf8ca47730a88eefb9",
      "placeholder": "​",
      "style": "IPY_MODEL_a7bdbedc75de4f77b45f1389c2ea0abc",
      "value": " 433/433 [00:00&lt;00:00, 2.02kB/s]"
     }
    },
    "82ddfcea0e4c4e5a86cf6eca8585be8d": {
     "model_module": "@jupyter-widgets/controls",
     "model_module_version": "1.5.0",
     "model_name": "HBoxModel",
     "state": {
      "_dom_classes": [],
      "_model_module": "@jupyter-widgets/controls",
      "_model_module_version": "1.5.0",
      "_model_name": "HBoxModel",
      "_view_count": null,
      "_view_module": "@jupyter-widgets/controls",
      "_view_module_version": "1.5.0",
      "_view_name": "HBoxView",
      "box_style": "",
      "children": [
       "IPY_MODEL_8c76faadf2f4415393c6f0a805f0d72b",
       "IPY_MODEL_e0bb735fda99434a90380e7fc664212d"
      ],
      "layout": "IPY_MODEL_8a256ba4a19e4ec98fe3c3c99fba4daa"
     }
    },
    "8a256ba4a19e4ec98fe3c3c99fba4daa": {
     "model_module": "@jupyter-widgets/base",
     "model_module_version": "1.2.0",
     "model_name": "LayoutModel",
     "state": {
      "_model_module": "@jupyter-widgets/base",
      "_model_module_version": "1.2.0",
      "_model_name": "LayoutModel",
      "_view_count": null,
      "_view_module": "@jupyter-widgets/base",
      "_view_module_version": "1.2.0",
      "_view_name": "LayoutView",
      "align_content": null,
      "align_items": null,
      "align_self": null,
      "border": null,
      "bottom": null,
      "display": null,
      "flex": null,
      "flex_flow": null,
      "grid_area": null,
      "grid_auto_columns": null,
      "grid_auto_flow": null,
      "grid_auto_rows": null,
      "grid_column": null,
      "grid_gap": null,
      "grid_row": null,
      "grid_template_areas": null,
      "grid_template_columns": null,
      "grid_template_rows": null,
      "height": null,
      "justify_content": null,
      "justify_items": null,
      "left": null,
      "margin": null,
      "max_height": null,
      "max_width": null,
      "min_height": null,
      "min_width": null,
      "object_fit": null,
      "object_position": null,
      "order": null,
      "overflow": null,
      "overflow_x": null,
      "overflow_y": null,
      "padding": null,
      "right": null,
      "top": null,
      "visibility": null,
      "width": null
     }
    },
    "8c76faadf2f4415393c6f0a805f0d72b": {
     "model_module": "@jupyter-widgets/controls",
     "model_module_version": "1.5.0",
     "model_name": "FloatProgressModel",
     "state": {
      "_dom_classes": [],
      "_model_module": "@jupyter-widgets/controls",
      "_model_module_version": "1.5.0",
      "_model_name": "FloatProgressModel",
      "_view_count": null,
      "_view_module": "@jupyter-widgets/controls",
      "_view_module_version": "1.5.0",
      "_view_name": "ProgressView",
      "bar_style": "success",
      "description": "Downloading: 100%",
      "description_tooltip": null,
      "layout": "IPY_MODEL_1058e0b5baa248faa60c1ad146d10bf7",
      "max": 231508,
      "min": 0,
      "orientation": "horizontal",
      "style": "IPY_MODEL_cdb78e75309f4bc09366533331e72431",
      "value": 231508
     }
    },
    "978c24b18b594eaf8ca47730a88eefb9": {
     "model_module": "@jupyter-widgets/base",
     "model_module_version": "1.2.0",
     "model_name": "LayoutModel",
     "state": {
      "_model_module": "@jupyter-widgets/base",
      "_model_module_version": "1.2.0",
      "_model_name": "LayoutModel",
      "_view_count": null,
      "_view_module": "@jupyter-widgets/base",
      "_view_module_version": "1.2.0",
      "_view_name": "LayoutView",
      "align_content": null,
      "align_items": null,
      "align_self": null,
      "border": null,
      "bottom": null,
      "display": null,
      "flex": null,
      "flex_flow": null,
      "grid_area": null,
      "grid_auto_columns": null,
      "grid_auto_flow": null,
      "grid_auto_rows": null,
      "grid_column": null,
      "grid_gap": null,
      "grid_row": null,
      "grid_template_areas": null,
      "grid_template_columns": null,
      "grid_template_rows": null,
      "height": null,
      "justify_content": null,
      "justify_items": null,
      "left": null,
      "margin": null,
      "max_height": null,
      "max_width": null,
      "min_height": null,
      "min_width": null,
      "object_fit": null,
      "object_position": null,
      "order": null,
      "overflow": null,
      "overflow_x": null,
      "overflow_y": null,
      "padding": null,
      "right": null,
      "top": null,
      "visibility": null,
      "width": null
     }
    },
    "a7bdbedc75de4f77b45f1389c2ea0abc": {
     "model_module": "@jupyter-widgets/controls",
     "model_module_version": "1.5.0",
     "model_name": "DescriptionStyleModel",
     "state": {
      "_model_module": "@jupyter-widgets/controls",
      "_model_module_version": "1.5.0",
      "_model_name": "DescriptionStyleModel",
      "_view_count": null,
      "_view_module": "@jupyter-widgets/base",
      "_view_module_version": "1.2.0",
      "_view_name": "StyleView",
      "description_width": ""
     }
    },
    "bf9dfa1ff3e642fbb74c5146d21044c2": {
     "model_module": "@jupyter-widgets/controls",
     "model_module_version": "1.5.0",
     "model_name": "HBoxModel",
     "state": {
      "_dom_classes": [],
      "_model_module": "@jupyter-widgets/controls",
      "_model_module_version": "1.5.0",
      "_model_name": "HBoxModel",
      "_view_count": null,
      "_view_module": "@jupyter-widgets/controls",
      "_view_module_version": "1.5.0",
      "_view_name": "HBoxView",
      "box_style": "",
      "children": [
       "IPY_MODEL_1296a3d754b344a482a03e5af84e805e",
       "IPY_MODEL_6f132d7bb83d41b6847df0d0ec0a1b92"
      ],
      "layout": "IPY_MODEL_1c2b0ede959142fc89bf07a9c88df638"
     }
    },
    "cdb78e75309f4bc09366533331e72431": {
     "model_module": "@jupyter-widgets/controls",
     "model_module_version": "1.5.0",
     "model_name": "ProgressStyleModel",
     "state": {
      "_model_module": "@jupyter-widgets/controls",
      "_model_module_version": "1.5.0",
      "_model_name": "ProgressStyleModel",
      "_view_count": null,
      "_view_module": "@jupyter-widgets/base",
      "_view_module_version": "1.2.0",
      "_view_name": "StyleView",
      "bar_color": null,
      "description_width": "initial"
     }
    },
    "cea84f9c3db641acb98314028b305514": {
     "model_module": "@jupyter-widgets/base",
     "model_module_version": "1.2.0",
     "model_name": "LayoutModel",
     "state": {
      "_model_module": "@jupyter-widgets/base",
      "_model_module_version": "1.2.0",
      "_model_name": "LayoutModel",
      "_view_count": null,
      "_view_module": "@jupyter-widgets/base",
      "_view_module_version": "1.2.0",
      "_view_name": "LayoutView",
      "align_content": null,
      "align_items": null,
      "align_self": null,
      "border": null,
      "bottom": null,
      "display": null,
      "flex": null,
      "flex_flow": null,
      "grid_area": null,
      "grid_auto_columns": null,
      "grid_auto_flow": null,
      "grid_auto_rows": null,
      "grid_column": null,
      "grid_gap": null,
      "grid_row": null,
      "grid_template_areas": null,
      "grid_template_columns": null,
      "grid_template_rows": null,
      "height": null,
      "justify_content": null,
      "justify_items": null,
      "left": null,
      "margin": null,
      "max_height": null,
      "max_width": null,
      "min_height": null,
      "min_width": null,
      "object_fit": null,
      "object_position": null,
      "order": null,
      "overflow": null,
      "overflow_x": null,
      "overflow_y": null,
      "padding": null,
      "right": null,
      "top": null,
      "visibility": null,
      "width": null
     }
    },
    "d689bc8d488a4dc09c393b4fc9747bcb": {
     "model_module": "@jupyter-widgets/controls",
     "model_module_version": "1.5.0",
     "model_name": "HTMLModel",
     "state": {
      "_dom_classes": [],
      "_model_module": "@jupyter-widgets/controls",
      "_model_module_version": "1.5.0",
      "_model_name": "HTMLModel",
      "_view_count": null,
      "_view_module": "@jupyter-widgets/controls",
      "_view_module_version": "1.5.0",
      "_view_name": "HTMLView",
      "description": "",
      "description_tooltip": null,
      "layout": "IPY_MODEL_440da34c72344cb08e4a1ee5de7049ee",
      "placeholder": "​",
      "style": "IPY_MODEL_4b1e27aff6f04fec8268d951e46b1e63",
      "value": " 440M/440M [00:07&lt;00:00, 55.5MB/s]"
     }
    },
    "e0bb735fda99434a90380e7fc664212d": {
     "model_module": "@jupyter-widgets/controls",
     "model_module_version": "1.5.0",
     "model_name": "HTMLModel",
     "state": {
      "_dom_classes": [],
      "_model_module": "@jupyter-widgets/controls",
      "_model_module_version": "1.5.0",
      "_model_name": "HTMLModel",
      "_view_count": null,
      "_view_module": "@jupyter-widgets/controls",
      "_view_module_version": "1.5.0",
      "_view_name": "HTMLView",
      "description": "",
      "description_tooltip": null,
      "layout": "IPY_MODEL_472198d5b6a748b3a81f9364fd1fa711",
      "placeholder": "​",
      "style": "IPY_MODEL_375cc635389c4ddb9bf2aa443df58bae",
      "value": " 232k/232k [00:00&lt;00:00, 616kB/s]"
     }
    },
    "f8874fec8a404ae89a38fd2ecbb357cf": {
     "model_module": "@jupyter-widgets/base",
     "model_module_version": "1.2.0",
     "model_name": "LayoutModel",
     "state": {
      "_model_module": "@jupyter-widgets/base",
      "_model_module_version": "1.2.0",
      "_model_name": "LayoutModel",
      "_view_count": null,
      "_view_module": "@jupyter-widgets/base",
      "_view_module_version": "1.2.0",
      "_view_name": "LayoutView",
      "align_content": null,
      "align_items": null,
      "align_self": null,
      "border": null,
      "bottom": null,
      "display": null,
      "flex": null,
      "flex_flow": null,
      "grid_area": null,
      "grid_auto_columns": null,
      "grid_auto_flow": null,
      "grid_auto_rows": null,
      "grid_column": null,
      "grid_gap": null,
      "grid_row": null,
      "grid_template_areas": null,
      "grid_template_columns": null,
      "grid_template_rows": null,
      "height": null,
      "justify_content": null,
      "justify_items": null,
      "left": null,
      "margin": null,
      "max_height": null,
      "max_width": null,
      "min_height": null,
      "min_width": null,
      "object_fit": null,
      "object_position": null,
      "order": null,
      "overflow": null,
      "overflow_x": null,
      "overflow_y": null,
      "padding": null,
      "right": null,
      "top": null,
      "visibility": null,
      "width": null
     }
    },
    "fe254c3bcc08402eb506f0e98f5673a7": {
     "model_module": "@jupyter-widgets/controls",
     "model_module_version": "1.5.0",
     "model_name": "HBoxModel",
     "state": {
      "_dom_classes": [],
      "_model_module": "@jupyter-widgets/controls",
      "_model_module_version": "1.5.0",
      "_model_name": "HBoxModel",
      "_view_count": null,
      "_view_module": "@jupyter-widgets/controls",
      "_view_module_version": "1.5.0",
      "_view_name": "HBoxView",
      "box_style": "",
      "children": [
       "IPY_MODEL_23ca9359e6c44232a1346e6f2ab7e48c",
       "IPY_MODEL_d689bc8d488a4dc09c393b4fc9747bcb"
      ],
      "layout": "IPY_MODEL_cea84f9c3db641acb98314028b305514"
     }
    }
   }
  }
 },
 "nbformat": 4,
 "nbformat_minor": 4
}
