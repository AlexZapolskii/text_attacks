{
 "cells": [
  {
   "cell_type": "code",
   "execution_count": 1,
   "id": "5671092d",
   "metadata": {},
   "outputs": [],
   "source": [
    "import pandas as pd"
   ]
  },
  {
   "cell_type": "markdown",
   "id": "9e0d8041",
   "metadata": {},
   "source": [
    "В предыдущем ноутбуке мы исследовали русскоязычный датасет новостей <br>\n",
    "сейчас мы попробуем провести весь пайплайн классификации для датасета на английском <br>\n",
    "при этом, мы можем отметить, что домен - остается таким - же классификация сентимента новостей"
   ]
  },
  {
   "cell_type": "markdown",
   "id": "9a7d19d5",
   "metadata": {},
   "source": [
    "# Загрузим данные и проведем EDA"
   ]
  },
  {
   "cell_type": "code",
   "execution_count": null,
   "id": "90325078",
   "metadata": {},
   "outputs": [],
   "source": [
    "Датасет англоязычных новостей"
   ]
  },
  {
   "cell_type": "code",
   "execution_count": null,
   "id": "4773d1c1",
   "metadata": {},
   "outputs": [],
   "source": [
    "# загрузим датасет через sklrn интерфейс"
   ]
  },
  {
   "cell_type": "code",
   "execution_count": 7,
   "id": "3ba54cf1",
   "metadata": {},
   "outputs": [],
   "source": [
    "from sklearn.datasets import fetch_20newsgroups\n",
    "\n",
    "#загрузим обучающую выборку\n",
    "\n",
    "newsgroups_train = fetch_20newsgroups(subset='train')"
   ]
  },
  {
   "cell_type": "code",
   "execution_count": 10,
   "id": "8963be66",
   "metadata": {},
   "outputs": [
    {
     "data": {
      "text/plain": [
       "dict_keys(['data', 'filenames', 'target_names', 'target', 'DESCR'])"
      ]
     },
     "execution_count": 10,
     "metadata": {},
     "output_type": "execute_result"
    }
   ],
   "source": [
    "newsgroups_train.keys()"
   ]
  },
  {
   "cell_type": "code",
   "execution_count": 11,
   "id": "81efc473",
   "metadata": {},
   "outputs": [
    {
     "data": {
      "text/plain": [
       "array(['/Users/alexeyzapolskii/scikit_learn_data/20news_home/20news-bydate-train/rec.autos/102994',\n",
       "       '/Users/alexeyzapolskii/scikit_learn_data/20news_home/20news-bydate-train/comp.sys.mac.hardware/51861',\n",
       "       '/Users/alexeyzapolskii/scikit_learn_data/20news_home/20news-bydate-train/comp.sys.mac.hardware/51879',\n",
       "       ...,\n",
       "       '/Users/alexeyzapolskii/scikit_learn_data/20news_home/20news-bydate-train/comp.sys.ibm.pc.hardware/60695',\n",
       "       '/Users/alexeyzapolskii/scikit_learn_data/20news_home/20news-bydate-train/comp.graphics/38319',\n",
       "       '/Users/alexeyzapolskii/scikit_learn_data/20news_home/20news-bydate-train/rec.motorcycles/104440'],\n",
       "      dtype='<U103')"
      ]
     },
     "execution_count": 11,
     "metadata": {},
     "output_type": "execute_result"
    }
   ],
   "source": [
    "newsgroups_train.filenames"
   ]
  },
  {
   "cell_type": "code",
   "execution_count": 13,
   "id": "568ea33c",
   "metadata": {},
   "outputs": [
    {
     "data": {
      "text/plain": [
       "(11314,)"
      ]
     },
     "execution_count": 13,
     "metadata": {},
     "output_type": "execute_result"
    }
   ],
   "source": [
    "newsgroups_train.target.shape"
   ]
  },
  {
   "cell_type": "code",
   "execution_count": null,
   "id": "21d7ecfd",
   "metadata": {},
   "outputs": [],
   "source": [
    "11314 записей в таргете"
   ]
  },
  {
   "cell_type": "code",
   "execution_count": 17,
   "id": "5958d7dd",
   "metadata": {},
   "outputs": [
    {
     "data": {
      "text/plain": [
       "10    0.053032\n",
       "15    0.052943\n",
       "8     0.052855\n",
       "9     0.052766\n",
       "11    0.052590\n",
       "dtype: float64"
      ]
     },
     "execution_count": 17,
     "metadata": {},
     "output_type": "execute_result"
    }
   ],
   "source": [
    "pd.Series(newsgroups_train.target).value_counts(1).head()"
   ]
  },
  {
   "cell_type": "code",
   "execution_count": 19,
   "id": "d47cbed1",
   "metadata": {},
   "outputs": [
    {
     "data": {
      "text/plain": [
       "<seaborn.axisgrid.FacetGrid at 0x7fac64605910>"
      ]
     },
     "execution_count": 19,
     "metadata": {},
     "output_type": "execute_result"
    },
    {
     "data": {
      "image/png": "[encoded data removed]",
      "text/plain": [
       "<Figure size 360x360 with 1 Axes>"
      ]
     },
     "metadata": {
      "needs_background": "light"
     },
     "output_type": "display_data"
    }
   ],
   "source": [
    "import seaborn as sns\n",
    "\n",
    "sns.displot(newsgroups_train.target, bins=20)"
   ]
  },
  {
   "cell_type": "code",
   "execution_count": null,
   "id": "b62ade14",
   "metadata": {},
   "outputs": [],
   "source": [
    "мы видим, что распределение достаточно равномерное - лишь 3 класса имеют меньше наблюдений"
   ]
  },
  {
   "cell_type": "code",
   "execution_count": null,
   "id": "58c8185c",
   "metadata": {},
   "outputs": [],
   "source": [
    "Посмотрим на пример данных:\n"
   ]
  },
  {
   "cell_type": "code",
   "execution_count": 48,
   "id": "740b4fd1",
   "metadata": {},
   "outputs": [
    {
     "name": "stdout",
     "output_type": "stream",
     "text": [
      "From: darice@yoyo.cc.monash.edu.au (Fred Rice)\n",
      "Subject: Re: islamic genocide\n",
      "Organization: Monash University, Melb., Australia.\n",
      "Lines: 49\n",
      "\n",
      "In <2943927496.1.p00261@psilink.com> \"Robert Knowles\" <p00261@psilink.com> writes:\n",
      "\n",
      ">>DATE:   14 Apr 1993 23:52:11 GMT\n",
      ">>FROM:   Frank O'Dwyer <frank@D012S658.uucp>\n",
      ">>\n",
      ">>In article <1993Apr14.102810.6059@monu6.cc.monash.edu.au> darice@yoyo.cc.monash.edu.au (Fred Rice) writes:\n",
      ">>\n",
      ">>Just borrowing your post, Mr. Rice...\n",
      ">>\n",
      ">>#In <2943656910.0.p00261@psilink.com> \"Robert Knowles\" <p00261@psilink.com> writes:\n",
      ">>#>Are you sure that democracy is the driving force behind\n",
      ">>#>the massacres in East Timor?  It is certainly odd that so many of the worlds\n",
      ">>#>massacres occur along religious lines, independently of any claims to a\n",
      ">>#>democratic form of government.  Are Ireland and Northern Ireland considered\n",
      ">>#>democracies?  Would you attribute their problems to democracy even though\n",
      ">>#>they are democracies?  Which motivates them more, religion or democracy?\n",
      ">>\n",
      ">>Mr. Rice was pointing out a fallacy in the assertion that Islam is evil\n",
      ">>because some of those who claim to follow it are evil, not asserting that \n",
      ">>democracy causes massacres, as I read it.  \n",
      "\n",
      ">That is right, he was.  And I was pointing out that his use of Indonesians\n",
      ">killing the East Timorese as a result of _democracy_ was a bit weak because\n",
      ">democracy is not much of a motivation for doing much of anything in Indonesia\n",
      ">from what I remember.  East Timor was a former Portguese territory which was\n",
      ">forcibly annexed by Indonesia.  Last I heard over 10,000 Indonesians have\n",
      ">died trying to keep East Timor a part of Indonesia.  Being a former \n",
      ">Portuguese colony, there is a strong Catholic influence in East Timor as I\n",
      ">recall.  So it seems a bit odd that yet again we have another war being\n",
      ">fought between people who just \"happen\" to have different religions.  Purely\n",
      ">coincidental, I guess.  But then the real motivation is to get the vote out\n",
      ">and make democracy work in Indonesia.\n",
      "\n",
      "I pointed out the secession movement in Aceh which has also been\n",
      "brutally dealt with in the past by the Indonesian government.  The\n",
      "harshly with all secessionist movements.\n",
      "the evidence, it appears to me that the Indonesian government has dealt\n",
      "very harshly with all secession movements.\n",
      "\n",
      "I know that the head of the Indonesian armed forces for a very long time\n",
      "was Benny Murdani -- a \"Christian\".  Indonesia has been heavy handed in\n",
      "East Timor for a long time , even when Murdani was head of the armed\n",
      "forces.  The people who make up the\n",
      "Indonesian government are in general motivated by national interests,\n",
      "not religious ones.\n",
      "\n",
      " Fred Rice\n",
      " darice@yoyo.cc.monash.edu.au   \n",
      "\n",
      "\n"
     ]
    }
   ],
   "source": [
    "print(newsgroups_train.data[5000])"
   ]
  },
  {
   "cell_type": "code",
   "execution_count": 49,
   "id": "5f0b1544",
   "metadata": {},
   "outputs": [
    {
     "data": {
      "text/plain": [
       "'alt.atheism'"
      ]
     },
     "execution_count": 49,
     "metadata": {},
     "output_type": "execute_result"
    }
   ],
   "source": [
    "#соответствующая тематика:\n",
    "newsgroups_train.target_names[newsgroups_train.target[5000]]"
   ]
  },
  {
   "cell_type": "code",
   "execution_count": null,
   "id": "7093b256",
   "metadata": {},
   "outputs": [],
   "source": [
    "20 классов\n",
    "18к записей"
   ]
  },
  {
   "cell_type": "code",
   "execution_count": 114,
   "id": "e9223def",
   "metadata": {},
   "outputs": [],
   "source": [
    "X = newsgroups_train.data\n",
    "y = newsgroups_train.target\n",
    "\n",
    "X = pd.DataFrame(X)\n",
    "X.columns = ['text']"
   ]
  },
  {
   "cell_type": "code",
   "execution_count": 117,
   "id": "d9be2c36",
   "metadata": {},
   "outputs": [
    {
     "data": {
      "text/html": [
       "<div>\n",
       "<style scoped>\n",
       "    .dataframe tbody tr th:only-of-type {\n",
       "        vertical-align: middle;\n",
       "    }\n",
       "\n",
       "    .dataframe tbody tr th {\n",
       "        vertical-align: top;\n",
       "    }\n",
       "\n",
       "    .dataframe thead th {\n",
       "        text-align: right;\n",
       "    }\n",
       "</style>\n",
       "<table border=\"1\" class=\"dataframe\">\n",
       "  <thead>\n",
       "    <tr style=\"text-align: right;\">\n",
       "      <th></th>\n",
       "      <th>text</th>\n",
       "    </tr>\n",
       "  </thead>\n",
       "  <tbody>\n",
       "    <tr>\n",
       "      <th>0</th>\n",
       "      <td>From: lerxst@wam.umd.edu (where's my thing)\\nS...</td>\n",
       "    </tr>\n",
       "    <tr>\n",
       "      <th>1</th>\n",
       "      <td>From: guykuo@carson.u.washington.edu (Guy Kuo)...</td>\n",
       "    </tr>\n",
       "    <tr>\n",
       "      <th>2</th>\n",
       "      <td>From: twillis@ec.ecn.purdue.edu (Thomas E Will...</td>\n",
       "    </tr>\n",
       "    <tr>\n",
       "      <th>3</th>\n",
       "      <td>From: jgreen@amber (Joe Green)\\nSubject: Re: W...</td>\n",
       "    </tr>\n",
       "    <tr>\n",
       "      <th>4</th>\n",
       "      <td>From: jcm@head-cfa.harvard.edu (Jonathan McDow...</td>\n",
       "    </tr>\n",
       "  </tbody>\n",
       "</table>\n",
       "</div>"
      ],
      "text/plain": [
       "                                                text\n",
       "0  From: lerxst@wam.umd.edu (where's my thing)\\nS...\n",
       "1  From: guykuo@carson.u.washington.edu (Guy Kuo)...\n",
       "2  From: twillis@ec.ecn.purdue.edu (Thomas E Will...\n",
       "3  From: jgreen@amber (Joe Green)\\nSubject: Re: W...\n",
       "4  From: jcm@head-cfa.harvard.edu (Jonathan McDow..."
      ]
     },
     "execution_count": 117,
     "metadata": {},
     "output_type": "execute_result"
    }
   ],
   "source": [
    "X.head()"
   ]
  },
  {
   "cell_type": "markdown",
   "id": "bcabb630",
   "metadata": {},
   "source": [
    "Мы видим следующие поля text, id и sentiment (метка класса) <br>\n",
    "при этом, для теста нет метки класса - это сделано для того, чтобы узнавать оценку на кэгл - лидерборде"
   ]
  },
  {
   "cell_type": "markdown",
   "id": "42bbe66e",
   "metadata": {},
   "source": [
    "### Посмотрим на распределение таргета"
   ]
  },
  {
   "cell_type": "code",
   "execution_count": 60,
   "id": "bae2ab64",
   "metadata": {},
   "outputs": [
    {
     "data": {
      "text/plain": [
       "10    0.053032\n",
       "15    0.052943\n",
       "8     0.052855\n",
       "9     0.052766\n",
       "11    0.052590\n",
       "dtype: float64"
      ]
     },
     "execution_count": 60,
     "metadata": {},
     "output_type": "execute_result"
    }
   ],
   "source": [
    "pd.Series(y).value_counts(1).head() #равномерное распределение таргета"
   ]
  },
  {
   "cell_type": "code",
   "execution_count": null,
   "id": "bf7f1cf5",
   "metadata": {},
   "outputs": [],
   "source": [
    "Мы видим, что почти половина новостей - нейтральные, на позитивные приходится треть и оставшиеся 17% на негативные"
   ]
  },
  {
   "cell_type": "markdown",
   "id": "c8275221",
   "metadata": {},
   "source": [
    "## Оценим распределение длительности предложений (текстов)"
   ]
  },
  {
   "cell_type": "code",
   "execution_count": 62,
   "id": "2e66a0ca",
   "metadata": {
    "scrolled": false
   },
   "outputs": [
    {
     "data": {
      "text/plain": [
       "<seaborn.axisgrid.FacetGrid at 0x7fac6498bd90>"
      ]
     },
     "execution_count": 62,
     "metadata": {},
     "output_type": "execute_result"
    },
    {
     "data": {
      "image/png": "[encoded data removed]",
      "text/plain": [
       "<Figure size 360x360 with 1 Axes>"
      ]
     },
     "metadata": {
      "needs_background": "light"
     },
     "output_type": "display_data"
    }
   ],
   "source": [
    "# токенизируем по пробелам\n",
    "\n",
    "sns.displot(X.text.apply(lambda x: len(x.split())), log_scale=True)"
   ]
  },
  {
   "cell_type": "code",
   "execution_count": null,
   "id": "9183f5a7",
   "metadata": {},
   "outputs": [],
   "source": [
    "Большинство текстов имеет от 50 до 1000 символов\n",
    "Распределение похоже на лог-нормальное"
   ]
  },
  {
   "cell_type": "code",
   "execution_count": 64,
   "id": "5540159f",
   "metadata": {
    "scrolled": true
   },
   "outputs": [
    {
     "data": {
      "text/plain": [
       "count    11314.000000\n",
       "mean       287.470126\n",
       "std        541.482636\n",
       "min         14.000000\n",
       "25%        108.000000\n",
       "50%        176.000000\n",
       "75%        293.000000\n",
       "max      11821.000000\n",
       "Name: text, dtype: float64"
      ]
     },
     "execution_count": 64,
     "metadata": {},
     "output_type": "execute_result"
    }
   ],
   "source": [
    "# токенизируем по пробелам\n",
    "\n",
    "X.text.apply(lambda x: len(x.split())).describe()"
   ]
  },
  {
   "cell_type": "code",
   "execution_count": 69,
   "id": "95601477",
   "metadata": {},
   "outputs": [
    {
     "name": "stderr",
     "output_type": "stream",
     "text": [
      "[nltk_data] Downloading package punkt to\n",
      "[nltk_data]     /Users/alexeyzapolskii/nltk_data...\n",
      "[nltk_data]   Package punkt is already up-to-date!\n"
     ]
    },
    {
     "data": {
      "text/plain": [
       "True"
      ]
     },
     "execution_count": 69,
     "metadata": {},
     "output_type": "execute_result"
    }
   ],
   "source": [
    "import nltk\n",
    "nltk.download('punkt')"
   ]
  },
  {
   "cell_type": "code",
   "execution_count": null,
   "id": "73729a9e",
   "metadata": {},
   "outputs": [],
   "source": [
    "1) Привести в lower-case\n",
    "2) Убрать знаки пунктуации\n",
    "3) Токенизация по словам\n",
    "4) Стемминг/леммитизация\n",
    "5) .."
   ]
  },
  {
   "cell_type": "markdown",
   "id": "fac5ee79",
   "metadata": {},
   "source": [
    "## Punctuation Removal: \n"
   ]
  },
  {
   "cell_type": "code",
   "execution_count": 70,
   "id": "8892884c",
   "metadata": {},
   "outputs": [
    {
     "data": {
      "text/plain": [
       "'!\"#$%&\\'()*+,-./:;<=>?@[\\\\]^_`{|}~'"
      ]
     },
     "execution_count": 70,
     "metadata": {},
     "output_type": "execute_result"
    }
   ],
   "source": [
    "#library that contains punctuation\n",
    "import string\n",
    "string.punctuation"
   ]
  },
  {
   "cell_type": "code",
   "execution_count": null,
   "id": "aab654e1",
   "metadata": {},
   "outputs": [],
   "source": [
    "уберем пунктуацию (знаки препинания)"
   ]
  },
  {
   "cell_type": "markdown",
   "id": "7cdc580c",
   "metadata": {},
   "source": [
    "## Stop word removal"
   ]
  },
  {
   "cell_type": "code",
   "execution_count": 71,
   "id": "e30dce1e",
   "metadata": {},
   "outputs": [],
   "source": [
    "#Stop words present in the library\n",
    "\n",
    "from nltk.corpus import stopwords\n",
    "from pymystem3 import Mystem\n",
    "\n"
   ]
  },
  {
   "cell_type": "code",
   "execution_count": 72,
   "id": "6cdf5445",
   "metadata": {},
   "outputs": [
    {
     "name": "stdout",
     "output_type": "stream",
     "text": [
      "['i', 'me', 'my', 'myself', 'we', 'our', 'ours', 'ourselves', 'you', \"you're\", \"you've\", \"you'll\", \"you'd\", 'your', 'yours', 'yourself', 'yourselves', 'he', 'him', 'his', 'himself', 'she', \"she's\", 'her', 'hers', 'herself', 'it', \"it's\", 'its', 'itself', 'they', 'them', 'their', 'theirs', 'themselves', 'what', 'which', 'who', 'whom', 'this', 'that', \"that'll\", 'these', 'those', 'am', 'is', 'are', 'was', 'were', 'be', 'been', 'being', 'have', 'has', 'had', 'having', 'do', 'does', 'did', 'doing', 'a', 'an', 'the', 'and', 'but', 'if', 'or', 'because', 'as', 'until', 'while', 'of', 'at', 'by', 'for', 'with', 'about', 'against', 'between', 'into', 'through', 'during', 'before', 'after', 'above', 'below', 'to', 'from', 'up', 'down', 'in', 'out', 'on', 'off', 'over', 'under', 'again', 'further', 'then', 'once', 'here', 'there', 'when', 'where', 'why', 'how', 'all', 'any', 'both', 'each', 'few', 'more', 'most', 'other', 'some', 'such', 'no', 'nor', 'not', 'only', 'own', 'same', 'so', 'than', 'too', 'very', 's', 't', 'can', 'will', 'just', 'don', \"don't\", 'should', \"should've\", 'now', 'd', 'll', 'm', 'o', 're', 've', 'y', 'ain', 'aren', \"aren't\", 'couldn', \"couldn't\", 'didn', \"didn't\", 'doesn', \"doesn't\", 'hadn', \"hadn't\", 'hasn', \"hasn't\", 'haven', \"haven't\", 'isn', \"isn't\", 'ma', 'mightn', \"mightn't\", 'mustn', \"mustn't\", 'needn', \"needn't\", 'shan', \"shan't\", 'shouldn', \"shouldn't\", 'wasn', \"wasn't\", 'weren', \"weren't\", 'won', \"won't\", 'wouldn', \"wouldn't\"]\n"
     ]
    }
   ],
   "source": [
    "import nltk\n",
    "from nltk.corpus import stopwords\n",
    "print(stopwords.words('english'))"
   ]
  },
  {
   "cell_type": "code",
   "execution_count": 73,
   "id": "018595be",
   "metadata": {},
   "outputs": [],
   "source": [
    "#Create lemmatizer and stopwords list\n",
    "mystem = Mystem() \n",
    "stopwords = stopwords.words(\"english\")\n",
    "\n",
    "#Preprocess function\n",
    "def preprocess_text(text):\n",
    "    tokens = mystem.lemmatize(text.lower())\n",
    "    tokens = [token for token in tokens if token not in stopwords\\\n",
    "              and token != \" \" \\\n",
    "              and token.strip() not in string.punctuation]\n",
    "    \n",
    "    text = \" \".join(tokens)\n",
    "    \n",
    "    return text\n"
   ]
  },
  {
   "cell_type": "code",
   "execution_count": null,
   "id": "f2e75ef8",
   "metadata": {},
   "outputs": [],
   "source": [
    "будем использовать Snowball Stemmer"
   ]
  },
  {
   "cell_type": "code",
   "execution_count": 118,
   "id": "3b0fc5e6",
   "metadata": {},
   "outputs": [],
   "source": [
    "from nltk.stem import SnowballStemmer\n",
    "snowball = SnowballStemmer(language='english')"
   ]
  },
  {
   "cell_type": "code",
   "execution_count": 119,
   "id": "40b5a1e5",
   "metadata": {},
   "outputs": [
    {
     "data": {
      "text/plain": [
       "'singing rain flowers growing garden'"
      ]
     },
     "execution_count": 119,
     "metadata": {},
     "output_type": "execute_result"
    }
   ],
   "source": [
    "preprocess_text(\"I was singing in the rain, just flowers growing in the garden\")\n",
    "\n"
   ]
  },
  {
   "cell_type": "code",
   "execution_count": 119,
   "id": "53ae4736",
   "metadata": {},
   "outputs": [
    {
     "data": {
      "text/plain": [
       "'singing rain flowers growing garden'"
      ]
     },
     "execution_count": 119,
     "metadata": {},
     "output_type": "execute_result"
    }
   ],
   "source": [
    "preprocess_text(\"I was singing in the rain, just flowers growing in the garden\")\n",
    "\n"
   ]
  },
  {
   "cell_type": "code",
   "execution_count": 140,
   "id": "304c43b9",
   "metadata": {},
   "outputs": [
    {
     "data": {
      "text/plain": [
       "'sing rain flower grow garden'"
      ]
     },
     "execution_count": 140,
     "metadata": {},
     "output_type": "execute_result"
    }
   ],
   "source": [
    "preprocess_text_stem(\"I was singing in the rain, just flowers growing in the garden\")\n",
    "\n"
   ]
  },
  {
   "cell_type": "code",
   "execution_count": 139,
   "id": "acafd9d1",
   "metadata": {},
   "outputs": [],
   "source": [
    "# Заменим лемматизатор в пайплайне на стеммы\n",
    "#проблема с очисткой от пунктуации\n",
    "\n",
    "#Preprocess function\n",
    "def preprocess_text_stem(text):\n",
    "    text = text.translate(str.maketrans('', '', string.punctuation))\n",
    "    tokens = [snowball.stem(x) for x in text.lower().split()] \n",
    "    tokens = [token for token in tokens if token not in stopwords\\\n",
    "              and token != \" \" \\\n",
    "              and token.strip() not in string.punctuation]\n",
    "    \n",
    "    text = \" \".join(tokens)\n",
    "    \n",
    "    return text\n"
   ]
  },
  {
   "cell_type": "code",
   "execution_count": 74,
   "id": "e95ed568",
   "metadata": {},
   "outputs": [
    {
     "data": {
      "text/plain": [
       "'From: m_klein@pavo.concordia.ca (CorelMARK!)\\nSubject: Re: cubs & expos roster questions\\nNews-Software: VAX/VMS VNEWS 1.41    \\nNntp-Posting-Host: pavo1.concordia.ca\\nOrganization: Concordia University\\nLines: 26\\n\\nIn article <0096B0F0.C5DE05A0@Msu.oscs.montana.edu>, alird@Msu.oscs.montana.edu writes...\\n>In article <1993Apr15.003015.1@vmsb.is.csupomona.edu>, cvadrnlh@vmsb.is.csupomona.edu writes:\\n>>Today (4/14) Cubs activated P Mike Harkey from DL, whom did they move to make\\n>>room for Harkey?\\n>>Also, are Delino Deshields & John Wetteland of the Expos on the DL?\\n>>Thanks for anyone who can give me more info!\\n>>/===\\n>>Ken \\n>>Cal Poly, Pomona\\n>>\\n> \\n>Wetteland is on the DL effective March 26 or something like that.\\n> \\n>rick\\n\\nWetteland comes off the DL on April 23rd, and will be evaluated on the 24th.\\nHe is throwing well, and without pain on the side.\\n\\nDeShields is not on the DL.  He suffered from the chicken pox and lost\\n(this is the official total) 12 pounds.  He will be back, hopefully,\\nnext week.\\n\\nWalker will be back this tonight or tomorrow...\\n\\n\\t\\tCorelMARK! from Montreal.\\n\\n'"
      ]
     },
     "execution_count": 74,
     "metadata": {},
     "output_type": "execute_result"
    }
   ],
   "source": [
    "print(X.loc[8261].text)"
   ]
  },
  {
   "cell_type": "code",
   "execution_count": 134,
   "id": "3cc0b7fc",
   "metadata": {},
   "outputs": [
    {
     "name": "stdout",
     "output_type": "stream",
     "text": [
      "klein pavo concordia ca corelmark subject cubs expos roster questions news software vax vms vnews 1.41 nntp posting host pavo1 concordia ca organization concordia university lines 26 article 0096b0f0 c5de05a0 msu oscs montana edu >,  alird msu oscs montana edu writes ... article 1993apr 15.003015 1 vmsb csupomona edu >,  cvadrnlh vmsb csupomona edu writes >> today 4 14 cubs activated p mike harkey dl move make >> room harkey >> also delino deshields john wetteland expos dl >> thanks anyone give info >>/===\n",
      " >> ken >> cal poly pomona >>\n",
      " wetteland dl effective march 26 something like rick wetteland comes dl april 23rd evaluated 24th throwing well without pain side deshields dl suffered chicken pox lost official total 12 pounds back hopefully next week walker back tonight tomorrow ... corelmark montreal\n"
     ]
    }
   ],
   "source": [
    "print(preprocess_text(X.loc[8261].text))"
   ]
  },
  {
   "cell_type": "code",
   "execution_count": 141,
   "id": "d03564d0",
   "metadata": {},
   "outputs": [
    {
     "name": "stdout",
     "output_type": "stream",
     "text": [
      "mkleinpavoconcordiaca corelmark subject cub expo roster question newssoftwar vaxvm vnew 141 nntppostinghost pavo1concordiaca organ concordia univers line 26 articl 0096b0f0c5de05a0msuoscsmontanaedu alirdmsuoscsmontanaedu write articl 1993apr150030151vmsbiscsupomonaedu cvadrnlhvmsbiscsupomonaedu write today 414 cub activ p mike harkey dl move make room harkey also delino deshield john wetteland expo dl thank anyon give info ken cal poli pomona wetteland dl effect march 26 someth like rick wetteland come dl april 23rd evalu 24th throw well without pain side deshield dl suffer chicken pox lost offici total 12 pound back hope next week walker back tonight tomorrow corelmark montreal\n"
     ]
    }
   ],
   "source": [
    "print(preprocess_text_stem(X.loc[8261].text))"
   ]
  },
  {
   "cell_type": "code",
   "execution_count": null,
   "id": "d9d20d2a",
   "metadata": {},
   "outputs": [],
   "source": [
    "Скорее всего, для английского языка больше подходит стемминг, а не лемматизация\n",
    "можем это проверить на валидационной выборке"
   ]
  },
  {
   "cell_type": "markdown",
   "id": "02377846",
   "metadata": {},
   "source": [
    "## Применим все шаги и получим токены:"
   ]
  },
  {
   "cell_type": "markdown",
   "id": "b24a5a21",
   "metadata": {},
   "source": [
    "обратим внимание, что TfidfVectorizer принимает на вход строку - а не лист, те токенизацию производит самостоятельно"
   ]
  },
  {
   "cell_type": "code",
   "execution_count": 143,
   "id": "1529a27c",
   "metadata": {},
   "outputs": [],
   "source": [
    "X['tokenized'] = X.text.apply(lambda x: preprocess_text_stem(x))"
   ]
  },
  {
   "cell_type": "code",
   "execution_count": 144,
   "id": "f63ea128",
   "metadata": {},
   "outputs": [
    {
     "data": {
      "text/html": [
       "<div>\n",
       "<style scoped>\n",
       "    .dataframe tbody tr th:only-of-type {\n",
       "        vertical-align: middle;\n",
       "    }\n",
       "\n",
       "    .dataframe tbody tr th {\n",
       "        vertical-align: top;\n",
       "    }\n",
       "\n",
       "    .dataframe thead th {\n",
       "        text-align: right;\n",
       "    }\n",
       "</style>\n",
       "<table border=\"1\" class=\"dataframe\">\n",
       "  <thead>\n",
       "    <tr style=\"text-align: right;\">\n",
       "      <th></th>\n",
       "      <th>text</th>\n",
       "      <th>tokenized</th>\n",
       "    </tr>\n",
       "  </thead>\n",
       "  <tbody>\n",
       "    <tr>\n",
       "      <th>0</th>\n",
       "      <td>From: lerxst@wam.umd.edu (where's my thing)\\nS...</td>\n",
       "      <td>lerxstwamumdedu thing subject car nntppostingh...</td>\n",
       "    </tr>\n",
       "    <tr>\n",
       "      <th>1</th>\n",
       "      <td>From: guykuo@carson.u.washington.edu (Guy Kuo)...</td>\n",
       "      <td>guykuocarsonuwashingtonedu guy kuo subject si ...</td>\n",
       "    </tr>\n",
       "    <tr>\n",
       "      <th>2</th>\n",
       "      <td>From: twillis@ec.ecn.purdue.edu (Thomas E Will...</td>\n",
       "      <td>twillisececnpurdueedu thoma e willi subject pb...</td>\n",
       "    </tr>\n",
       "    <tr>\n",
       "      <th>3</th>\n",
       "      <td>From: jgreen@amber (Joe Green)\\nSubject: Re: W...</td>\n",
       "      <td>jgreenamb joe green subject weitek p9000 organ...</td>\n",
       "    </tr>\n",
       "    <tr>\n",
       "      <th>4</th>\n",
       "      <td>From: jcm@head-cfa.harvard.edu (Jonathan McDow...</td>\n",
       "      <td>jcmheadcfaharvardedu jonathan mcdowel subject ...</td>\n",
       "    </tr>\n",
       "  </tbody>\n",
       "</table>\n",
       "</div>"
      ],
      "text/plain": [
       "                                                text  \\\n",
       "0  From: lerxst@wam.umd.edu (where's my thing)\\nS...   \n",
       "1  From: guykuo@carson.u.washington.edu (Guy Kuo)...   \n",
       "2  From: twillis@ec.ecn.purdue.edu (Thomas E Will...   \n",
       "3  From: jgreen@amber (Joe Green)\\nSubject: Re: W...   \n",
       "4  From: jcm@head-cfa.harvard.edu (Jonathan McDow...   \n",
       "\n",
       "                                           tokenized  \n",
       "0  lerxstwamumdedu thing subject car nntppostingh...  \n",
       "1  guykuocarsonuwashingtonedu guy kuo subject si ...  \n",
       "2  twillisececnpurdueedu thoma e willi subject pb...  \n",
       "3  jgreenamb joe green subject weitek p9000 organ...  \n",
       "4  jcmheadcfaharvardedu jonathan mcdowel subject ...  "
      ]
     },
     "execution_count": 144,
     "metadata": {},
     "output_type": "execute_result"
    }
   ],
   "source": [
    "X.head()"
   ]
  },
  {
   "cell_type": "code",
   "execution_count": 79,
   "id": "a21f744b",
   "metadata": {},
   "outputs": [],
   "source": [
    "from sklearn.feature_extraction.text import TfidfVectorizer\n"
   ]
  },
  {
   "cell_type": "code",
   "execution_count": null,
   "id": "7635999f",
   "metadata": {},
   "outputs": [],
   "source": [
    "Векторизируем текст "
   ]
  },
  {
   "cell_type": "code",
   "execution_count": 80,
   "id": "1f9f30c0",
   "metadata": {},
   "outputs": [],
   "source": [
    "from sklearn.model_selection import train_test_split\n",
    "from sklearn.preprocessing import LabelEncoder"
   ]
  },
  {
   "cell_type": "code",
   "execution_count": 145,
   "id": "519bcd67",
   "metadata": {},
   "outputs": [],
   "source": [
    "X = X.tokenized\n",
    "y = y"
   ]
  },
  {
   "cell_type": "code",
   "execution_count": 146,
   "id": "09620502",
   "metadata": {},
   "outputs": [],
   "source": [
    "X_train, X_test, y_train, y_test = train_test_split(X, y, test_size=0.33, random_state=42)"
   ]
  },
  {
   "cell_type": "code",
   "execution_count": 147,
   "id": "b904333a",
   "metadata": {},
   "outputs": [],
   "source": [
    "vectoriser = TfidfVectorizer()\n",
    "\n",
    "X_train = vectoriser.fit_transform(X_train)\n",
    "# Convert sparse matrix to dataframe\n",
    "#X_train = pd.DataFrame.sparse.from_spmatrix(X_train)\n",
    "\n",
    "# Transform to feature matrix\n",
    "X_test = vectoriser.transform(X_test)\n",
    "# Convert sparse matrix to dataframe\n",
    "#X_test = pd.DataFrame.sparse.from_spmatrix(X_test)\n",
    "# Add column names to make it more readible\n"
   ]
  },
  {
   "cell_type": "code",
   "execution_count": 148,
   "id": "04dd79f2",
   "metadata": {
    "scrolled": true
   },
   "outputs": [
    {
     "data": {
      "text/plain": [
       "((7580, 96752), (3734, 96752))"
      ]
     },
     "execution_count": 148,
     "metadata": {},
     "output_type": "execute_result"
    }
   ],
   "source": [
    "X_train.shape, X_test.shape"
   ]
  },
  {
   "cell_type": "code",
   "execution_count": null,
   "id": "5642235d",
   "metadata": {},
   "outputs": [],
   "source": [
    "107479  - очень сильно раздулась размерность!"
   ]
  },
  {
   "cell_type": "code",
   "execution_count": null,
   "id": "72ce2361",
   "metadata": {},
   "outputs": [],
   "source": [
    "Размерность после степинга  - 96752 - чуть меньше в сравнении с лемматизацией"
   ]
  },
  {
   "cell_type": "code",
   "execution_count": 94,
   "id": "fd2d859b",
   "metadata": {},
   "outputs": [],
   "source": [
    "from sklearn.linear_model import LogisticRegression"
   ]
  },
  {
   "cell_type": "code",
   "execution_count": null,
   "id": "199f1d50",
   "metadata": {},
   "outputs": [],
   "source": [
    "Решение:\n",
    "    увеличить кол-во итераций +\n",
    "    стандартизовать/нормализовать данные\n",
    "    \n",
    "рассмотрим все варианты"
   ]
  },
  {
   "cell_type": "code",
   "execution_count": 149,
   "id": "b2ce8f6e",
   "metadata": {},
   "outputs": [],
   "source": [
    "lg = LogisticRegression(max_iter=10000)"
   ]
  },
  {
   "cell_type": "code",
   "execution_count": 150,
   "id": "adb47528",
   "metadata": {},
   "outputs": [
    {
     "data": {
      "text/plain": [
       "LogisticRegression(max_iter=10000)"
      ]
     },
     "execution_count": 150,
     "metadata": {},
     "output_type": "execute_result"
    }
   ],
   "source": [
    "lg.fit(X_train, y_train) # сошлось"
   ]
  },
  {
   "cell_type": "code",
   "execution_count": 97,
   "id": "bb735eed",
   "metadata": {},
   "outputs": [],
   "source": [
    "from sklearn.metrics import classification_report"
   ]
  },
  {
   "cell_type": "code",
   "execution_count": 98,
   "id": "4e5ec847",
   "metadata": {},
   "outputs": [
    {
     "name": "stdout",
     "output_type": "stream",
     "text": [
      "              precision    recall  f1-score   support\n",
      "\n",
      "           0       0.94      0.93      0.93       148\n",
      "           1       0.72      0.85      0.78       175\n",
      "           2       0.82      0.81      0.82       191\n",
      "           3       0.76      0.82      0.79       197\n",
      "           4       0.93      0.81      0.87       197\n",
      "           5       0.85      0.91      0.88       188\n",
      "           6       0.78      0.84      0.81       188\n",
      "           7       0.88      0.93      0.90       207\n",
      "           8       0.93      0.93      0.93       212\n",
      "           9       0.96      0.96      0.96       186\n",
      "          10       0.97      0.97      0.97       184\n",
      "          11       0.99      0.91      0.95       209\n",
      "          12       0.86      0.83      0.85       199\n",
      "          13       0.96      0.95      0.96       194\n",
      "          14       0.96      0.94      0.95       193\n",
      "          15       0.88      0.93      0.90       202\n",
      "          16       0.93      0.94      0.94       195\n",
      "          17       0.97      0.98      0.97       183\n",
      "          18       0.90      0.86      0.88       163\n",
      "          19       0.92      0.64      0.76       123\n",
      "\n",
      "    accuracy                           0.89      3734\n",
      "   macro avg       0.90      0.89      0.89      3734\n",
      "weighted avg       0.90      0.89      0.89      3734\n",
      "\n"
     ]
    }
   ],
   "source": [
    "# лемматизация\n",
    "\n",
    "print(classification_report(y_test, lg.predict(X_test))) #качество на тесте"
   ]
  },
  {
   "cell_type": "code",
   "execution_count": 151,
   "id": "933f4ba3",
   "metadata": {},
   "outputs": [
    {
     "name": "stdout",
     "output_type": "stream",
     "text": [
      "              precision    recall  f1-score   support\n",
      "\n",
      "           0       0.92      0.92      0.92       148\n",
      "           1       0.77      0.85      0.81       175\n",
      "           2       0.84      0.83      0.83       191\n",
      "           3       0.75      0.82      0.79       197\n",
      "           4       0.93      0.82      0.87       197\n",
      "           5       0.85      0.91      0.88       188\n",
      "           6       0.76      0.82      0.79       188\n",
      "           7       0.91      0.94      0.92       207\n",
      "           8       0.95      0.94      0.95       212\n",
      "           9       0.98      0.98      0.98       186\n",
      "          10       0.98      0.97      0.98       184\n",
      "          11       0.99      0.91      0.95       209\n",
      "          12       0.85      0.84      0.85       199\n",
      "          13       0.97      0.96      0.97       194\n",
      "          14       0.97      0.96      0.97       193\n",
      "          15       0.82      0.91      0.86       202\n",
      "          16       0.94      0.95      0.95       195\n",
      "          17       0.98      0.97      0.98       183\n",
      "          18       0.87      0.90      0.88       163\n",
      "          19       0.96      0.63      0.76       123\n",
      "\n",
      "    accuracy                           0.90      3734\n",
      "   macro avg       0.90      0.89      0.89      3734\n",
      "weighted avg       0.90      0.90      0.90      3734\n",
      "\n"
     ]
    }
   ],
   "source": [
    "# стемминг\n",
    "\n",
    "print(classification_report(y_test, lg.predict(X_test))) #качество на тесте"
   ]
  },
  {
   "cell_type": "code",
   "execution_count": null,
   "id": "f789b08f",
   "metadata": {},
   "outputs": [],
   "source": [
    "кажется, что стемминг работает чуть лучше для английского текста, что и ожидаемо\n",
    "сравним с результатами на тесте"
   ]
  },
  {
   "cell_type": "markdown",
   "id": "db98e58a",
   "metadata": {},
   "source": [
    "Как мы видим, обычный лог рег довольно хорошо справился с проблемой"
   ]
  },
  {
   "cell_type": "markdown",
   "id": "2022a8c5",
   "metadata": {},
   "source": [
    "Сравним данное решение с \n",
    "    - Стемминг вместо лемматизации\n",
    "    - Возьмем готовые эмбеддинги из датасета"
   ]
  },
  {
   "cell_type": "code",
   "execution_count": null,
   "id": "1f5deb31",
   "metadata": {},
   "outputs": [],
   "source": [
    "Измерим качество на второй части датасета - "
   ]
  },
  {
   "cell_type": "code",
   "execution_count": 99,
   "id": "07a66d52",
   "metadata": {},
   "outputs": [],
   "source": [
    "newsgroups_test = fetch_20newsgroups(subset='test')"
   ]
  },
  {
   "cell_type": "code",
   "execution_count": 105,
   "id": "df08c4c0",
   "metadata": {
    "scrolled": true
   },
   "outputs": [
    {
     "name": "stdout",
     "output_type": "stream",
     "text": [
      "From: Greg.Reinacker@FtCollins.NCR.COM\n",
      "Subject: Windows On-Line Review uploaded\n",
      "Reply-To: Greg.Reinacker@FtCollinsCO.NCR.COM\n",
      "Organization: NCR Microelectronics, Ft. Collins, CO\n",
      "Lines: 12\n",
      "\n",
      "I have uploaded the Windows On-Line Review shareware edition to\n",
      "ftp.cica.indiana.edu as /pub/pc/win3/uploads/wolrs7.zip.\n",
      "\n",
      "It is an on-line magazine which contains reviews of some shareware\n",
      "products...I grabbed it from the Windows On-Line BBS.\n",
      "\n",
      "--\n",
      "--------------------------------------------------------------------------\n",
      "Greg Reinacker                          (303) 223-5100 x9289\n",
      "NCR Microelectronic Products Division   VoicePlus 464-9289\n",
      "2001 Danfield Court                     Greg.Reinacker@FtCollinsCO.NCR.COM\n",
      "Fort Collins, CO  80525\n",
      "\n"
     ]
    }
   ],
   "source": [
    "print(newsgroups_test.data[10])"
   ]
  },
  {
   "cell_type": "code",
   "execution_count": 103,
   "id": "ea89601b",
   "metadata": {},
   "outputs": [
    {
     "data": {
      "text/plain": [
       "(array([ 7,  5,  0, ...,  9,  6, 15]), (7532,), 7532)"
      ]
     },
     "execution_count": 103,
     "metadata": {},
     "output_type": "execute_result"
    }
   ],
   "source": [
    "newsgroups_test.target, newsgroups_test.target.shape, len(newsgroups_test.data)"
   ]
  },
  {
   "cell_type": "code",
   "execution_count": 152,
   "id": "675cd59f",
   "metadata": {},
   "outputs": [],
   "source": [
    "X_holdout = newsgroups_test.data\n",
    "y_hold = newsgroups_test.target"
   ]
  },
  {
   "cell_type": "code",
   "execution_count": 153,
   "id": "0c01448d",
   "metadata": {},
   "outputs": [
    {
     "data": {
      "text/html": [
       "<div>\n",
       "<style scoped>\n",
       "    .dataframe tbody tr th:only-of-type {\n",
       "        vertical-align: middle;\n",
       "    }\n",
       "\n",
       "    .dataframe tbody tr th {\n",
       "        vertical-align: top;\n",
       "    }\n",
       "\n",
       "    .dataframe thead th {\n",
       "        text-align: right;\n",
       "    }\n",
       "</style>\n",
       "<table border=\"1\" class=\"dataframe\">\n",
       "  <thead>\n",
       "    <tr style=\"text-align: right;\">\n",
       "      <th></th>\n",
       "      <th>text</th>\n",
       "    </tr>\n",
       "  </thead>\n",
       "  <tbody>\n",
       "    <tr>\n",
       "      <th>0</th>\n",
       "      <td>From: v064mb9k@ubvmsd.cc.buffalo.edu (NEIL B. ...</td>\n",
       "    </tr>\n",
       "    <tr>\n",
       "      <th>1</th>\n",
       "      <td>From: Rick Miller &lt;rick@ee.uwm.edu&gt;\\nSubject: ...</td>\n",
       "    </tr>\n",
       "    <tr>\n",
       "      <th>2</th>\n",
       "      <td>From: mathew &lt;mathew@mantis.co.uk&gt;\\nSubject: R...</td>\n",
       "    </tr>\n",
       "    <tr>\n",
       "      <th>3</th>\n",
       "      <td>From: bakken@cs.arizona.edu (Dave Bakken)\\nSub...</td>\n",
       "    </tr>\n",
       "    <tr>\n",
       "      <th>4</th>\n",
       "      <td>From: livesey@solntze.wpd.sgi.com (Jon Livesey...</td>\n",
       "    </tr>\n",
       "  </tbody>\n",
       "</table>\n",
       "</div>"
      ],
      "text/plain": [
       "                                                text\n",
       "0  From: v064mb9k@ubvmsd.cc.buffalo.edu (NEIL B. ...\n",
       "1  From: Rick Miller <rick@ee.uwm.edu>\\nSubject: ...\n",
       "2  From: mathew <mathew@mantis.co.uk>\\nSubject: R...\n",
       "3  From: bakken@cs.arizona.edu (Dave Bakken)\\nSub...\n",
       "4  From: livesey@solntze.wpd.sgi.com (Jon Livesey..."
      ]
     },
     "execution_count": 153,
     "metadata": {},
     "output_type": "execute_result"
    }
   ],
   "source": [
    "X_holdout = pd.DataFrame(X_holdout)\n",
    "\n",
    "X_holdout.columns = ['text']\n",
    "\n",
    "X_holdout.head()"
   ]
  },
  {
   "cell_type": "code",
   "execution_count": 108,
   "id": "21276b8c",
   "metadata": {},
   "outputs": [
    {
     "data": {
      "text/plain": [
       "(7532, 1)"
      ]
     },
     "execution_count": 108,
     "metadata": {},
     "output_type": "execute_result"
    }
   ],
   "source": [
    "X_holdout.shape"
   ]
  },
  {
   "cell_type": "code",
   "execution_count": 154,
   "id": "39a4b04b",
   "metadata": {},
   "outputs": [],
   "source": [
    "X_holdout['tokenized'] = X_holdout.text.apply(lambda x: preprocess_text_stem(x))"
   ]
  },
  {
   "cell_type": "code",
   "execution_count": 155,
   "id": "ae713d83",
   "metadata": {},
   "outputs": [],
   "source": [
    "\n",
    "valid = vectoriser.transform(X_holdout['tokenized'])\n",
    "# Convert sparse matrix to dataframe\n",
    "#X_train = pd.DataFrame.sparse.from_spmatrix(X_train)\n",
    "\n",
    "\n"
   ]
  },
  {
   "cell_type": "code",
   "execution_count": 156,
   "id": "987bcdee",
   "metadata": {},
   "outputs": [],
   "source": [
    "pred = lg.predict(valid)"
   ]
  },
  {
   "cell_type": "code",
   "execution_count": 157,
   "id": "5f282996",
   "metadata": {},
   "outputs": [
    {
     "data": {
      "text/plain": [
       "(7532,)"
      ]
     },
     "execution_count": 157,
     "metadata": {},
     "output_type": "execute_result"
    }
   ],
   "source": [
    "pred.shape"
   ]
  },
  {
   "cell_type": "code",
   "execution_count": 113,
   "id": "b01c0715",
   "metadata": {},
   "outputs": [
    {
     "name": "stdout",
     "output_type": "stream",
     "text": [
      "              precision    recall  f1-score   support\n",
      "\n",
      "           0       0.78      0.72      0.75       319\n",
      "           1       0.66      0.79      0.72       389\n",
      "           2       0.73      0.75      0.74       394\n",
      "           3       0.72      0.72      0.72       392\n",
      "           4       0.81      0.80      0.81       385\n",
      "           5       0.81      0.74      0.78       395\n",
      "           6       0.77      0.85      0.81       390\n",
      "           7       0.88      0.90      0.89       396\n",
      "           8       0.94      0.93      0.93       398\n",
      "           9       0.85      0.92      0.89       397\n",
      "          10       0.92      0.95      0.94       399\n",
      "          11       0.96      0.87      0.91       396\n",
      "          12       0.74      0.75      0.74       393\n",
      "          13       0.86      0.82      0.84       396\n",
      "          14       0.88      0.90      0.89       394\n",
      "          15       0.79      0.93      0.86       398\n",
      "          16       0.72      0.89      0.80       364\n",
      "          17       0.96      0.88      0.92       376\n",
      "          18       0.80      0.58      0.68       310\n",
      "          19       0.81      0.45      0.57       251\n",
      "\n",
      "    accuracy                           0.82      7532\n",
      "   macro avg       0.82      0.81      0.81      7532\n",
      "weighted avg       0.82      0.82      0.82      7532\n",
      "\n"
     ]
    }
   ],
   "source": [
    "print(classification_report(y_hold, pred)) #качество на тесте"
   ]
  },
  {
   "cell_type": "code",
   "execution_count": 159,
   "id": "fb090977",
   "metadata": {},
   "outputs": [
    {
     "name": "stdout",
     "output_type": "stream",
     "text": [
      "              precision    recall  f1-score   support\n",
      "\n",
      "           0       0.75      0.68      0.71       319\n",
      "           1       0.69      0.78      0.73       389\n",
      "           2       0.75      0.74      0.74       394\n",
      "           3       0.70      0.76      0.73       392\n",
      "           4       0.84      0.79      0.82       385\n",
      "           5       0.83      0.77      0.80       395\n",
      "           6       0.74      0.84      0.79       390\n",
      "           7       0.91      0.87      0.89       396\n",
      "           8       0.96      0.92      0.94       398\n",
      "           9       0.90      0.94      0.92       397\n",
      "          10       0.95      0.96      0.96       399\n",
      "          11       0.94      0.88      0.91       396\n",
      "          12       0.72      0.78      0.75       393\n",
      "          13       0.87      0.86      0.86       396\n",
      "          14       0.91      0.91      0.91       394\n",
      "          15       0.75      0.90      0.82       398\n",
      "          16       0.71      0.89      0.79       364\n",
      "          17       0.96      0.86      0.91       376\n",
      "          18       0.78      0.59      0.67       310\n",
      "          19       0.78      0.45      0.57       251\n",
      "\n",
      "    accuracy                           0.82      7532\n",
      "   macro avg       0.82      0.81      0.81      7532\n",
      "weighted avg       0.82      0.82      0.82      7532\n",
      "\n"
     ]
    }
   ],
   "source": [
    "print(classification_report(y_hold, pred)) #качество на тесте"
   ]
  },
  {
   "cell_type": "code",
   "execution_count": null,
   "id": "7c08e2ea",
   "metadata": {},
   "outputs": [],
   "source": [
    "На отложенной выборке уже нельзя однозначно сказать, что лучше - лемматизация или стемминг"
   ]
  },
  {
   "cell_type": "code",
   "execution_count": null,
   "id": "84a00e1e",
   "metadata": {},
   "outputs": [],
   "source": [
    "Возможно тут все зависит от более тонкой и проработанной настройки пайплайна"
   ]
  },
  {
   "cell_type": "code",
   "execution_count": null,
   "id": "3d8396ee",
   "metadata": {},
   "outputs": [],
   "source": [
    "Видим, что качество на отложенной выборке существенно просело, но остается на вполне достойном уровне"
   ]
  },
  {
   "cell_type": "code",
   "execution_count": null,
   "id": "b69de766",
   "metadata": {},
   "outputs": [],
   "source": [
    "Сравним результат с стеммами вместо лематизации"
   ]
  }
 ],
 "metadata": {
  "kernelspec": {
   "display_name": "Python 3 (ipykernel)",
   "language": "python",
   "name": "python3"
  },
  "language_info": {
   "codemirror_mode": {
    "name": "ipython",
    "version": 3
   },
   "file_extension": ".py",
   "mimetype": "text/x-python",
   "name": "python",
   "nbconvert_exporter": "python",
   "pygments_lexer": "ipython3",
   "version": "3.9.7"
  }
 },
 "nbformat": 4,
 "nbformat_minor": 5
}
