{
 "cells": [
  {
   "cell_type": "code",
   "execution_count": null,
   "id": "8f57fb5e",
   "metadata": {
    "cellId": "8h80k9oo7lwlevn63tj7a"
   },
   "outputs": [],
   "source": [
    "import pandas as pd"
   ]
  },
  {
   "cell_type": "markdown",
   "id": "b64e4c3c",
   "metadata": {
    "cellId": "ica8dwjn8csckr65p56wr"
   },
   "source": [
    "В предыдущем ноутбуке мы исследовали русскоязычный датасет новостей <br>\n",
    "сейчас мы попробуем провести весь пайплайн классификации для датасета на английском <br>\n",
    "при этом, мы можем отметить, что домен - остается таким - же классификация сентимента новостей"
   ]
  },
  {
   "cell_type": "markdown",
   "id": "2e2bcbc2",
   "metadata": {
    "cellId": "zerwwvch0saypz0vhgiik"
   },
   "source": [
    "# Загрузим данные и проведем EDA"
   ]
  },
  {
   "cell_type": "code",
   "execution_count": null,
   "id": "32ea27cc",
   "metadata": {
    "cellId": "b56ev56mpcfwsru0rp7d"
   },
   "outputs": [],
   "source": [
    "Датасет англоязычных новостей"
   ]
  },
  {
   "cell_type": "code",
   "execution_count": null,
   "id": "d1f7ad93",
   "metadata": {
    "cellId": "zbqlagjny6b8p2yl1vivzf"
   },
   "outputs": [],
   "source": [
    "# загрузим датасет через sklrn интерфейс"
   ]
  },
  {
   "cell_type": "code",
   "execution_count": null,
   "id": "fd8f86c0",
   "metadata": {
    "cellId": "0soyw7nw1x1a89trcdibeps"
   },
   "outputs": [],
   "source": [
    "from sklearn.datasets import fetch_20newsgroups\n",
    "\n",
    "#загрузим обучающую выборку\n",
    "\n",
    "newsgroups_train = fetch_20newsgroups(subset='train')"
   ]
  },
  {
   "cell_type": "code",
   "execution_count": null,
   "id": "e98c81c3",
   "metadata": {
    "cellId": "iw9awbdhyhaibkzut2h7q"
   },
   "outputs": [],
   "source": [
    "newsgroups_train.keys()"
   ]
  },
  {
   "cell_type": "code",
   "execution_count": null,
   "id": "80ac207d",
   "metadata": {
    "cellId": "cdrfp6ipl7cz0ib4odhnd"
   },
   "outputs": [],
   "source": [
    "newsgroups_train.filenames"
   ]
  },
  {
   "cell_type": "code",
   "execution_count": null,
   "id": "7341ebf1",
   "metadata": {
    "cellId": "4x6eezaisxqye4p49nkd9m"
   },
   "outputs": [],
   "source": [
    "newsgroups_train.target.shape"
   ]
  },
  {
   "cell_type": "code",
   "execution_count": null,
   "id": "7c29e011",
   "metadata": {
    "cellId": "n6jmrnnjbvlh0trthaoon"
   },
   "outputs": [],
   "source": [
    "11314 записей в таргете"
   ]
  },
  {
   "cell_type": "code",
   "execution_count": null,
   "id": "87ca8337",
   "metadata": {
    "cellId": "0cjzxe0mr4k7t9lvmefxmkr"
   },
   "outputs": [],
   "source": [
    "pd.Series(newsgroups_train.target).value_counts(1).head()"
   ]
  },
  {
   "cell_type": "code",
   "execution_count": null,
   "id": "b7b43c31",
   "metadata": {
    "cellId": "41ss2wif42ks9s5bpiz2d"
   },
   "outputs": [],
   "source": [
    "import seaborn as sns\n",
    "\n",
    "sns.displot(newsgroups_train.target, bins=20)"
   ]
  },
  {
   "cell_type": "code",
   "execution_count": null,
   "id": "0a4f7ed6",
   "metadata": {
    "cellId": "gvc3hj6fhm4lvqzxco75h"
   },
   "outputs": [],
   "source": [
    "мы видим, что распределение достаточно равномерное - лишь 3 класса имеют меньше наблюдений"
   ]
  },
  {
   "cell_type": "code",
   "execution_count": null,
   "id": "df55413c",
   "metadata": {
    "cellId": "r3qms9c2va68x3qb0ne49"
   },
   "outputs": [],
   "source": [
    "Посмотрим на пример данных:\n"
   ]
  },
  {
   "cell_type": "code",
   "execution_count": null,
   "id": "96c2febd",
   "metadata": {
    "cellId": "yv8xupxuuj8qz682hv6e3"
   },
   "outputs": [],
   "source": [
    "print(newsgroups_train.data[5000])"
   ]
  },
  {
   "cell_type": "code",
   "execution_count": null,
   "id": "1539540b",
   "metadata": {
    "cellId": "ol8cjrkxh9ger6cj3veh9a"
   },
   "outputs": [],
   "source": [
    "#соответствующая тематика:\n",
    "newsgroups_train.target_names[newsgroups_train.target[5000]]"
   ]
  },
  {
   "cell_type": "code",
   "execution_count": null,
   "id": "51116aa6",
   "metadata": {
    "cellId": "ywhnw9w49p6jea196z5c2"
   },
   "outputs": [],
   "source": [
    "20 классов\n",
    "18к записей"
   ]
  },
  {
   "cell_type": "code",
   "execution_count": null,
   "id": "57fb6530",
   "metadata": {
    "cellId": "ibrdgf8qv8k6vqj4n3sj"
   },
   "outputs": [],
   "source": [
    "X = newsgroups_train.data\n",
    "y = newsgroups_train.target\n",
    "\n",
    "X = pd.DataFrame(X)\n",
    "X.columns = ['text']"
   ]
  },
  {
   "cell_type": "code",
   "execution_count": null,
   "id": "1a0706cf",
   "metadata": {
    "cellId": "hr4db8yzc39nskirku8h9"
   },
   "outputs": [],
   "source": [
    "X.head()"
   ]
  },
  {
   "cell_type": "markdown",
   "id": "17bd73b4",
   "metadata": {
    "cellId": "z7e24q9qvbo7vr72u4ux5d"
   },
   "source": [
    "Мы видим следующие поля text, id и sentiment (метка класса) <br>\n",
    "при этом, для теста нет метки класса - это сделано для того, чтобы узнавать оценку на кэгл - лидерборде"
   ]
  },
  {
   "cell_type": "markdown",
   "id": "aef7ef13",
   "metadata": {
    "cellId": "ay63vpxrw5dkrz2qi21z"
   },
   "source": [
    "### Посмотрим на распределение таргета"
   ]
  },
  {
   "cell_type": "code",
   "execution_count": null,
   "id": "ba60ab6c",
   "metadata": {
    "cellId": "ins1hoeqs6fkyajuy7swv8"
   },
   "outputs": [],
   "source": [
    "pd.Series(y).value_counts(1).head() #равномерное распределение таргета"
   ]
  },
  {
   "cell_type": "code",
   "execution_count": null,
   "id": "36f9c68d",
   "metadata": {
    "cellId": "0v5myk64ywp60ral2m0odf"
   },
   "outputs": [],
   "source": [
    "Мы видим, что почти половина новостей - нейтральные, на позитивные приходится треть и оставшиеся 17% на негативные"
   ]
  },
  {
   "cell_type": "markdown",
   "id": "f9ab1e78",
   "metadata": {
    "cellId": "ob7dt8n0w6qnt9kbraxg4"
   },
   "source": [
    "## Оценим распределение длительности предложений (текстов)"
   ]
  },
  {
   "cell_type": "code",
   "execution_count": null,
   "id": "29f69057",
   "metadata": {
    "cellId": "oprax25hzfzthvacc643s"
   },
   "outputs": [],
   "source": [
    "# токенизируем по пробелам\n",
    "\n",
    "sns.displot(X.text.apply(lambda x: len(x.split())), log_scale=True)"
   ]
  },
  {
   "cell_type": "code",
   "execution_count": null,
   "id": "3a57d350",
   "metadata": {
    "cellId": "226qil3x8l6jks4tuhlulkp"
   },
   "outputs": [],
   "source": [
    "Большинство текстов имеет от 50 до 1000 символов\n",
    "Распределение похоже на лог-нормальное"
   ]
  },
  {
   "cell_type": "code",
   "execution_count": null,
   "id": "7ac3855a",
   "metadata": {
    "cellId": "v2azwrgjcvlxe3fgotkui",
    "scrolled": true
   },
   "outputs": [],
   "source": [
    "# токенизируем по пробелам\n",
    "\n",
    "X.text.apply(lambda x: len(x.split())).describe()"
   ]
  },
  {
   "cell_type": "code",
   "execution_count": null,
   "id": "9e58bf70",
   "metadata": {
    "cellId": "yq2074avd0b3w8ku20ati8"
   },
   "outputs": [],
   "source": [
    "import nltk\n",
    "nltk.download('punkt')"
   ]
  },
  {
   "cell_type": "code",
   "execution_count": null,
   "id": "61ba97f8",
   "metadata": {
    "cellId": "9buzgmvg2hl412j3vaxu5"
   },
   "outputs": [],
   "source": [
    "1) Привести в lower-case\n",
    "2) Убрать знаки пунктуации\n",
    "3) Токенизация по словам\n",
    "4) Стемминг/леммитизация\n",
    "5) .."
   ]
  },
  {
   "cell_type": "markdown",
   "id": "ae57c627",
   "metadata": {
    "cellId": "igj9qrc7unmpc6rxinble"
   },
   "source": [
    "## Punctuation Removal: \n"
   ]
  },
  {
   "cell_type": "code",
   "execution_count": null,
   "id": "84492059",
   "metadata": {
    "cellId": "liq5sb0v1wczxe5y1bh6f"
   },
   "outputs": [],
   "source": [
    "#library that contains punctuation\n",
    "import string\n",
    "string.punctuation"
   ]
  },
  {
   "cell_type": "code",
   "execution_count": null,
   "id": "e61d03a7",
   "metadata": {
    "cellId": "qzmyfur39dfm63ssb4ik7j"
   },
   "outputs": [],
   "source": [
    "уберем пунктуацию (знаки препинания)"
   ]
  },
  {
   "cell_type": "markdown",
   "id": "71bc1f35",
   "metadata": {
    "cellId": "d9emqh4a8i5knlhlln6oi"
   },
   "source": [
    "## Stop word removal"
   ]
  },
  {
   "cell_type": "code",
   "execution_count": null,
   "id": "a81b1d78",
   "metadata": {
    "cellId": "6e8h4922hcold6g5uqagij"
   },
   "outputs": [],
   "source": [
    "#Stop words present in the library\n",
    "\n",
    "from nltk.corpus import stopwords\n",
    "from pymystem3 import Mystem\n",
    "\n"
   ]
  },
  {
   "cell_type": "code",
   "execution_count": null,
   "id": "ed4a1619",
   "metadata": {
    "cellId": "nvd6dhs5fjkh8s6r4v6rj"
   },
   "outputs": [],
   "source": [
    "import nltk\n",
    "from nltk.corpus import stopwords\n",
    "print(stopwords.words('english'))"
   ]
  },
  {
   "cell_type": "code",
   "execution_count": null,
   "id": "0c6a5796",
   "metadata": {
    "cellId": "aviuzr6hkjty11yby0cizp"
   },
   "outputs": [],
   "source": [
    "#Create lemmatizer and stopwords list\n",
    "mystem = Mystem() \n",
    "stopwords = stopwords.words(\"english\")\n",
    "\n",
    "#Preprocess function\n",
    "def preprocess_text(text):\n",
    "    tokens = mystem.lemmatize(text.lower())\n",
    "    tokens = [token for token in tokens if token not in stopwords\\\n",
    "              and token != \" \" \\\n",
    "              and token.strip() not in string.punctuation]\n",
    "    \n",
    "    text = \" \".join(tokens)\n",
    "    \n",
    "    return text\n"
   ]
  },
  {
   "cell_type": "code",
   "execution_count": null,
   "id": "6164a997",
   "metadata": {
    "cellId": "8td6lrve46utat42g9u2d"
   },
   "outputs": [],
   "source": [
    "будем использовать Snowball Stemmer"
   ]
  },
  {
   "cell_type": "code",
   "execution_count": null,
   "id": "a1c69bb1",
   "metadata": {
    "cellId": "9iha5c2yyrjj8hr9arn6fn"
   },
   "outputs": [],
   "source": [
    "from nltk.stem import SnowballStemmer\n",
    "snowball = SnowballStemmer(language='english')"
   ]
  },
  {
   "cell_type": "code",
   "execution_count": null,
   "id": "5565efbc",
   "metadata": {
    "cellId": "qlh82dcp4xm43f7fnslw"
   },
   "outputs": [],
   "source": [
    "preprocess_text(\"I was singing in the rain, just flowers growing in the garden\")\n",
    "\n"
   ]
  },
  {
   "cell_type": "code",
   "execution_count": null,
   "id": "c2e8cdd4",
   "metadata": {
    "cellId": "nhynh1g0gibu1hsmzf277f"
   },
   "outputs": [],
   "source": [
    "preprocess_text(\"I was singing in the rain, just flowers growing in the garden\")\n",
    "\n"
   ]
  },
  {
   "cell_type": "code",
   "execution_count": null,
   "id": "c4723aa7",
   "metadata": {
    "cellId": "smsmoquq9pkq2ei7yeyyh8"
   },
   "outputs": [],
   "source": [
    "preprocess_text_stem(\"I was singing in the rain, just flowers growing in the garden\")\n",
    "\n"
   ]
  },
  {
   "cell_type": "code",
   "execution_count": null,
   "id": "d0e60991",
   "metadata": {
    "cellId": "ix64vkm907nwemlv2srqd"
   },
   "outputs": [],
   "source": [
    "# Заменим лемматизатор в пайплайне на стеммы\n",
    "#проблема с очисткой от пунктуации\n",
    "\n",
    "#Preprocess function\n",
    "def preprocess_text_stem(text):\n",
    "    text = text.translate(str.maketrans('', '', string.punctuation))\n",
    "    tokens = [snowball.stem(x) for x in text.lower().split()] \n",
    "    tokens = [token for token in tokens if token not in stopwords\\\n",
    "              and token != \" \" \\\n",
    "              and token.strip() not in string.punctuation]\n",
    "    \n",
    "    text = \" \".join(tokens)\n",
    "    \n",
    "    return text\n"
   ]
  },
  {
   "cell_type": "code",
   "execution_count": null,
   "id": "adf2e979",
   "metadata": {
    "cellId": "35o4nbcbf2le89f3qpi1hm"
   },
   "outputs": [],
   "source": [
    "print(X.loc[8261].text)"
   ]
  },
  {
   "cell_type": "code",
   "execution_count": null,
   "id": "df1ebf87",
   "metadata": {
    "cellId": "is0hxw4wn3cfwoktjb3xav"
   },
   "outputs": [],
   "source": [
    "print(preprocess_text(X.loc[8261].text))"
   ]
  },
  {
   "cell_type": "code",
   "execution_count": null,
   "id": "5011f658",
   "metadata": {
    "cellId": "a39nqmofqteigukyyqe3fr"
   },
   "outputs": [],
   "source": [
    "print(preprocess_text_stem(X.loc[8261].text))"
   ]
  },
  {
   "cell_type": "code",
   "execution_count": null,
   "id": "05a73af4",
   "metadata": {
    "cellId": "edx6dyrk5s53b963vc71eu"
   },
   "outputs": [],
   "source": [
    "Скорее всего, для английского языка больше подходит стемминг, а не лемматизация\n",
    "можем это проверить на валидационной выборке"
   ]
  },
  {
   "cell_type": "markdown",
   "id": "238b3ad4",
   "metadata": {
    "cellId": "lw97zzh6hxay5zt0m6cwar"
   },
   "source": [
    "## Применим все шаги и получим токены:"
   ]
  },
  {
   "cell_type": "markdown",
   "id": "7d9d5190",
   "metadata": {
    "cellId": "fzfd4xr6x8sa2yxbfnh4go"
   },
   "source": [
    "обратим внимание, что TfidfVectorizer принимает на вход строку - а не лист, те токенизацию производит самостоятельно"
   ]
  },
  {
   "cell_type": "code",
   "execution_count": null,
   "id": "c4b82753",
   "metadata": {
    "cellId": "bc3ytqz79dupqmr0c4c36"
   },
   "outputs": [],
   "source": [
    "X['tokenized'] = X.text.apply(lambda x: preprocess_text_stem(x))"
   ]
  },
  {
   "cell_type": "code",
   "execution_count": null,
   "id": "6d9df8ab",
   "metadata": {
    "cellId": "6pdddj60vkdiefxj567q8"
   },
   "outputs": [],
   "source": [
    "X.head()"
   ]
  },
  {
   "cell_type": "code",
   "execution_count": null,
   "id": "29981990",
   "metadata": {
    "cellId": "6ogqlghn2aetcyyi3drwz"
   },
   "outputs": [],
   "source": [
    "from sklearn.feature_extraction.text import TfidfVectorizer\n"
   ]
  },
  {
   "cell_type": "code",
   "execution_count": null,
   "id": "9e25b407",
   "metadata": {
    "cellId": "n3hp33xghyrtif43jcqzl"
   },
   "outputs": [],
   "source": [
    "Векторизируем текст "
   ]
  },
  {
   "cell_type": "code",
   "execution_count": null,
   "id": "91b17a52",
   "metadata": {
    "cellId": "eqvblzgwozmwqhpwdn603"
   },
   "outputs": [],
   "source": [
    "from sklearn.model_selection import train_test_split\n",
    "from sklearn.preprocessing import LabelEncoder"
   ]
  },
  {
   "cell_type": "code",
   "execution_count": null,
   "id": "bf6c5f9a",
   "metadata": {
    "cellId": "tzef21pv70qt47tljzy5k"
   },
   "outputs": [],
   "source": [
    "X = X.tokenized\n",
    "y = y"
   ]
  },
  {
   "cell_type": "code",
   "execution_count": null,
   "id": "6d449fab",
   "metadata": {
    "cellId": "yydk6jvoyibrnv62pkkjpf"
   },
   "outputs": [],
   "source": [
    "X_train, X_test, y_train, y_test = train_test_split(X, y, test_size=0.33, random_state=42)"
   ]
  },
  {
   "cell_type": "code",
   "execution_count": null,
   "id": "b9487ca4",
   "metadata": {
    "cellId": "plb3lywfg7bhduhmk79dpl"
   },
   "outputs": [],
   "source": [
    "vectoriser = TfidfVectorizer()\n",
    "\n",
    "X_train = vectoriser.fit_transform(X_train)\n",
    "# Convert sparse matrix to dataframe\n",
    "#X_train = pd.DataFrame.sparse.from_spmatrix(X_train)\n",
    "\n",
    "# Transform to feature matrix\n",
    "X_test = vectoriser.transform(X_test)\n",
    "# Convert sparse matrix to dataframe\n",
    "#X_test = pd.DataFrame.sparse.from_spmatrix(X_test)\n",
    "# Add column names to make it more readible\n"
   ]
  },
  {
   "cell_type": "code",
   "execution_count": null,
   "id": "7d70bf43",
   "metadata": {
    "cellId": "1drzptm7j6t5pjzjbpu1c2",
    "scrolled": true
   },
   "outputs": [],
   "source": [
    "X_train.shape, X_test.shape"
   ]
  },
  {
   "cell_type": "code",
   "execution_count": null,
   "id": "166ee763",
   "metadata": {
    "cellId": "8wgh8ucq5s7txowufsnd6s"
   },
   "outputs": [],
   "source": [
    "107479  - очень сильно раздулась размерность!"
   ]
  },
  {
   "cell_type": "code",
   "execution_count": null,
   "id": "36b54485",
   "metadata": {
    "cellId": "pjl79ghuqumwacojp2jss"
   },
   "outputs": [],
   "source": [
    "Размерность после степинга  - 96752 - чуть меньше в сравнении с лемматизацией"
   ]
  },
  {
   "cell_type": "code",
   "execution_count": null,
   "id": "97b2523b",
   "metadata": {
    "cellId": "mhjeosir930ds8suafl11r"
   },
   "outputs": [],
   "source": [
    "from sklearn.linear_model import LogisticRegression"
   ]
  },
  {
   "cell_type": "code",
   "execution_count": null,
   "id": "59877b8e",
   "metadata": {
    "cellId": "kulli7aw99nqjaf08lkkhj"
   },
   "outputs": [],
   "source": [
    "Решение:\n",
    "    увеличить кол-во итераций +\n",
    "    стандартизовать/нормализовать данные\n",
    "    \n",
    "рассмотрим все варианты"
   ]
  },
  {
   "cell_type": "code",
   "execution_count": null,
   "id": "270a68b7",
   "metadata": {
    "cellId": "phxrp68hgxewl5fewks57q"
   },
   "outputs": [],
   "source": [
    "lg = LogisticRegression(max_iter=10000)"
   ]
  },
  {
   "cell_type": "code",
   "execution_count": null,
   "id": "38307b92",
   "metadata": {
    "cellId": "iuv7321qnjt12e2lhliclh"
   },
   "outputs": [],
   "source": [
    "lg.fit(X_train, y_train) # сошлось"
   ]
  },
  {
   "cell_type": "code",
   "execution_count": null,
   "id": "1c6891ed",
   "metadata": {
    "cellId": "no9572r3gamb5h88pvwop"
   },
   "outputs": [],
   "source": [
    "from sklearn.metrics import classification_report"
   ]
  },
  {
   "cell_type": "code",
   "execution_count": null,
   "id": "85132331",
   "metadata": {
    "cellId": "fqgmhdu13tdacraeyev69j"
   },
   "outputs": [],
   "source": [
    "# лемматизация\n",
    "\n",
    "print(classification_report(y_test, lg.predict(X_test))) #качество на тесте"
   ]
  },
  {
   "cell_type": "code",
   "execution_count": null,
   "id": "911f384a",
   "metadata": {
    "cellId": "6nhn9yk74hd5i1jxq4r7we"
   },
   "outputs": [],
   "source": [
    "# стемминг\n",
    "\n",
    "print(classification_report(y_test, lg.predict(X_test))) #качество на тесте"
   ]
  },
  {
   "cell_type": "code",
   "execution_count": null,
   "id": "44db6240",
   "metadata": {
    "cellId": "dvv3jr50gyokbfuqfkuff"
   },
   "outputs": [],
   "source": [
    "кажется, что стемминг работает чуть лучше для английского текста, что и ожидаемо\n",
    "сравним с результатами на тесте"
   ]
  },
  {
   "cell_type": "markdown",
   "id": "0acf67a7",
   "metadata": {
    "cellId": "2j8vyc1mwvau5wu6avc7g"
   },
   "source": [
    "Как мы видим, обычный лог рег довольно хорошо справился с проблемой"
   ]
  },
  {
   "cell_type": "markdown",
   "id": "7b3642c1",
   "metadata": {
    "cellId": "crfba19sxhh3iv7d0fb7wg"
   },
   "source": [
    "Сравним данное решение с \n",
    "    - Стемминг вместо лемматизации\n",
    "    - Возьмем готовые эмбеддинги из датасета"
   ]
  },
  {
   "cell_type": "code",
   "execution_count": null,
   "id": "969c3cab",
   "metadata": {
    "cellId": "5137z8dbc2ga36qs1wviq7"
   },
   "outputs": [],
   "source": [
    "Измерим качество на второй части датасета - "
   ]
  },
  {
   "cell_type": "code",
   "execution_count": null,
   "id": "6328909c",
   "metadata": {
    "cellId": "s4xhypdgi3wh15aexkt6c"
   },
   "outputs": [],
   "source": [
    "newsgroups_test = fetch_20newsgroups(subset='test')"
   ]
  },
  {
   "cell_type": "code",
   "execution_count": null,
   "id": "d224b359",
   "metadata": {
    "cellId": "zvsnthhwd4sbyr8wqtkf4",
    "scrolled": true
   },
   "outputs": [],
   "source": [
    "print(newsgroups_test.data[10])"
   ]
  },
  {
   "cell_type": "code",
   "execution_count": null,
   "id": "c634ee43",
   "metadata": {
    "cellId": "62yer6mr1jja2364ay5flm"
   },
   "outputs": [],
   "source": [
    "newsgroups_test.target, newsgroups_test.target.shape, len(newsgroups_test.data)"
   ]
  },
  {
   "cell_type": "code",
   "execution_count": null,
   "id": "47bdf077",
   "metadata": {
    "cellId": "vpnqwn2sytjt8j5eckbwe"
   },
   "outputs": [],
   "source": [
    "X_holdout = newsgroups_test.data\n",
    "y_hold = newsgroups_test.target"
   ]
  },
  {
   "cell_type": "code",
   "execution_count": null,
   "id": "2e03ac6e",
   "metadata": {
    "cellId": "o94ye3nvamm7duhcp080n"
   },
   "outputs": [],
   "source": [
    "X_holdout = pd.DataFrame(X_holdout)\n",
    "\n",
    "X_holdout.columns = ['text']\n",
    "\n",
    "X_holdout.head()"
   ]
  },
  {
   "cell_type": "code",
   "execution_count": null,
   "id": "058838bf",
   "metadata": {
    "cellId": "17i6fqcrtzf21t70hc7mn7"
   },
   "outputs": [],
   "source": [
    "X_holdout.shape"
   ]
  },
  {
   "cell_type": "code",
   "execution_count": null,
   "id": "f1c8f741",
   "metadata": {
    "cellId": "khuf8wzlfrfmldqlc20cj"
   },
   "outputs": [],
   "source": [
    "X_holdout['tokenized'] = X_holdout.text.apply(lambda x: preprocess_text_stem(x))"
   ]
  },
  {
   "cell_type": "code",
   "execution_count": null,
   "id": "9704a1bb",
   "metadata": {
    "cellId": "vcz5ucz9rn6oob2bfot2"
   },
   "outputs": [],
   "source": [
    "\n",
    "valid = vectoriser.transform(X_holdout['tokenized'])\n",
    "# Convert sparse matrix to dataframe\n",
    "#X_train = pd.DataFrame.sparse.from_spmatrix(X_train)\n",
    "\n",
    "\n"
   ]
  },
  {
   "cell_type": "code",
   "execution_count": null,
   "id": "47bf384e",
   "metadata": {
    "cellId": "agg37j0wf1b8t8dkv2ifhb"
   },
   "outputs": [],
   "source": [
    "pred = lg.predict(valid)"
   ]
  },
  {
   "cell_type": "code",
   "execution_count": null,
   "id": "188abcf1",
   "metadata": {
    "cellId": "5on278vydl5vnde8v00vf"
   },
   "outputs": [],
   "source": [
    "pred.shape"
   ]
  },
  {
   "cell_type": "code",
   "execution_count": null,
   "id": "aa7872c0",
   "metadata": {
    "cellId": "gyfe0nm838st7l60499abq"
   },
   "outputs": [],
   "source": [
    "print(classification_report(y_hold, pred)) #качество на тесте"
   ]
  },
  {
   "cell_type": "code",
   "execution_count": null,
   "id": "7121a53f",
   "metadata": {
    "cellId": "f2reqp7beoegeuhf4kchka"
   },
   "outputs": [],
   "source": [
    "print(classification_report(y_hold, pred)) #качество на тесте"
   ]
  },
  {
   "cell_type": "code",
   "execution_count": null,
   "id": "60d2b407",
   "metadata": {
    "cellId": "xguaqnw0y4s6k0rcbp35df"
   },
   "outputs": [],
   "source": [
    "На отложенной выборке уже нельзя однозначно сказать, что лучше - лемматизация или стемминг"
   ]
  },
  {
   "cell_type": "code",
   "execution_count": null,
   "id": "e5feb501",
   "metadata": {
    "cellId": "wyy6tvxmb6mqv2foqg3pj"
   },
   "outputs": [],
   "source": [
    "Возможно тут все зависит от более тонкой и проработанной настройки пайплайна"
   ]
  },
  {
   "cell_type": "code",
   "execution_count": null,
   "id": "709c46b0",
   "metadata": {
    "cellId": "0q3ceixhyla562vblhna5o"
   },
   "outputs": [],
   "source": [
    "Видим, что качество на отложенной выборке существенно просело, но остается на вполне достойном уровне"
   ]
  },
  {
   "cell_type": "code",
   "execution_count": null,
   "id": "4d838311",
   "metadata": {
    "cellId": "kkw04a2xw8lfdkfqjjmb27"
   },
   "outputs": [],
   "source": [
    "Сравним результат с стеммами вместо лематизации"
   ]
  }
 ],
 "metadata": {
  "kernelspec": {
   "display_name": "Yandex DataSphere Kernel",
   "language": "python",
   "name": "python3"
  },
  "language_info": {
   "codemirror_mode": {
    "name": "ipython",
    "version": 3
   },
   "file_extension": ".py",
   "mimetype": "text/x-python",
   "name": "python",
   "nbconvert_exporter": "python",
   "pygments_lexer": "ipython3",
   "version": "3.7.7"
  },
  "notebookId": "226325da-96c6-41ef-9151-7c41b7901f1b",
  "notebookPath": "text_attacks/notebooks/1.1.5-EDA-logreg-baseline-20News-Group.ipynb"
 },
 "nbformat": 4,
 "nbformat_minor": 5
}
