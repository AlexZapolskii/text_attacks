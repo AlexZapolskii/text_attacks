{
 "cells": [
  {
   "cell_type": "code",
   "execution_count": null,
   "id": "9755ea09",
   "metadata": {
    "cellId": "mxb7wq7g39yupmds832p"
   },
   "outputs": [],
   "source": [
    "# Работа состоит из несольких частей\n",
    "    - код\n",
    "    - гипотезы\n",
    "    - текст\n",
    "    - обзор литературы"
   ]
  },
  {
   "cell_type": "markdown",
   "id": "3187a304",
   "metadata": {
    "cellId": "cl8nhnpbrfzi92kgpqgfr"
   },
   "source": [
    "Мы хотим оценить влияние различных адверсариальных атак на современные NLP модели\n",
    "\n",
    "В рамках данного исследования мы остановимся на задаче классификации\n",
    "\n",
    "Следовательно: нам нужны\n",
    "    - Датасеты для классификации\n",
    "        - 2 на Английском (common domain, specific domain)\n",
    "        - 2 на Русском (common domain, specific domain)\n",
    "        \n",
    "    - Модели для классификации\n",
    "        - Мы можем использовать TF-IDF на log-reg\n",
    "        - Bert и его разновидности\n",
    "            - Английский Берт (Bert-base-uncased, distilled-bert-uncades)\n",
    "            - Мультиязычный Берт ?\n",
    "            - Русский Берт (DeepPavlov, дистилированная модель от Давида Деле)\n",
    "            \n",
    "    - Атаки:\n",
    "        - BAE\n",
    "        - TextFooler\n",
    "        - Другие атаки из модуля TextAtack"
   ]
  },
  {
   "cell_type": "markdown",
   "id": "230835cb",
   "metadata": {
    "cellId": "gu2rw9225rbiz3z3xadz19"
   },
   "source": [
    "Постановка эксперимента:\n",
    "    - Пока что не трогаем лог-рег\n",
    "    - Исследуем Берт\n",
    "    \n",
    "Задача1:\n",
    "    - fine-tuning Берта под задачу классификации\n",
    "    - Оценка качества на валидации\n",
    "    - Подготовка адверсариальных примеров на основе валидационного датасета\n",
    "    - Оценка качества на адверсариальных примерах"
   ]
  },
  {
   "cell_type": "markdown",
   "id": "4c64e069",
   "metadata": {
    "cellId": "saakxkkmsbgh8vdvhyfv9"
   },
   "source": [
    "Этапы работы:\n",
    "    1) Загрузка и препроцессинг данных\n",
    "    2) Fine-tuning соответствующей модели\n",
    "    3) Валидация\n",
    "    4) Генерация адверсариальных примеров\n",
    "    5) Оценка качества\n",
    "        - Автоматическая валидация:\n",
    "            - accuracy\n",
    "            - semantic score\n",
    "        - Human evaluation\n",
    "            - Классификация примеров\n",
    "            - Оценка \"реалистичности и грамотности сгенерированных примеров\""
   ]
  },
  {
   "cell_type": "markdown",
   "id": "0aff570c",
   "metadata": {
    "cellId": "z4hc8m4yopggtq9bgw80cn"
   },
   "source": [
    "## Step 1"
   ]
  },
  {
   "cell_type": "code",
   "execution_count": null,
   "id": "ef46490c",
   "metadata": {
    "cellId": "x2q5a1mdq58xokxb06k2o"
   },
   "outputs": [],
   "source": [
    "построим пайплайн на основе ноутбука https://www.kaggle.com/kashnitsky/distillbert-catalyst-amazon-product-reviews"
   ]
  }
 ],
 "metadata": {
  "kernelspec": {
   "display_name": "Yandex DataSphere Kernel",
   "language": "python",
   "name": "python3"
  },
  "language_info": {
   "codemirror_mode": {
    "name": "ipython",
    "version": 3
   },
   "file_extension": ".py",
   "mimetype": "text/x-python",
   "name": "python",
   "nbconvert_exporter": "python",
   "pygments_lexer": "ipython3",
   "version": "3.7.7"
  },
  "notebookId": "fcbde092-ab1e-471d-a905-bfb3fcb010a3",
  "notebookPath": "text_attacks/Untitled.ipynb"
 },
 "nbformat": 4,
 "nbformat_minor": 5
}
